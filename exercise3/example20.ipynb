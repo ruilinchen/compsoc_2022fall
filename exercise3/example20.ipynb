{
 "cells": [
  {
   "cell_type": "markdown",
   "id": "056b7ab8",
   "metadata": {
    "pycharm": {
     "name": "#%% md\n"
    }
   },
   "source": [
    "# Exercise #3"
   ]
  },
  {
   "cell_type": "markdown",
   "id": "016d42e7",
   "metadata": {
    "pycharm": {
     "name": "#%% md\n"
    }
   },
   "source": [
    "### Content\n",
    "\n",
    "* Task 3.1\n",
    "* Task 3.2\n",
    "* Task 3.3\n",
    "* Task 3.4"
   ]
  },
  {
   "cell_type": "markdown",
   "id": "828feded",
   "metadata": {
    "pycharm": {
     "name": "#%% md\n"
    }
   },
   "source": [
    "### Task 3.1"
   ]
  },
  {
   "cell_type": "code",
   "execution_count": 10,
   "id": "08b7ccb4",
   "metadata": {
    "pycharm": {
     "name": "#%%\n"
    }
   },
   "outputs": [
    {
     "data": {
      "text/plain": [
       "'The largest number is 4; the smallest number is -5; and the difference is 9.'"
      ]
     },
     "execution_count": 10,
     "metadata": {},
     "output_type": "execute_result"
    }
   ],
   "source": [
    "# function of a list\n",
    "\n",
    "def function_lst(num_lst):\n",
    "    largest_num = max(num_lst) \n",
    "    # max() finds the largest number of a given list\n",
    "    smallest_num = min(num_lst)\n",
    "    # min() finds the smallest number of a given list\n",
    "    difference = largest_num - smallest_num\n",
    "    # Taking the difference of largest number and smallest number in a given list\n",
    "    return f\"The largest number is {largest_num}; the smallest number is {smallest_num}; and the difference is {difference}.\"\n",
    "    # Return the largest number, smallest number, and the difference between the two\n",
    "\n",
    "function_lst([1,2,3,4,5]) # Test the function with all positive numbers\n",
    "function_lst([-1,2,3,4,-5]) # Test the function with negative numbers included\n",
    "    "
   ]
  },
  {
   "cell_type": "markdown",
   "id": "89b551e1",
   "metadata": {
    "pycharm": {
     "name": "#%% md\n"
    }
   },
   "source": [
    "### Task 3.2"
   ]
  },
  {
   "cell_type": "code",
   "execution_count": 16,
   "id": "32754197",
   "metadata": {
    "pycharm": {
     "name": "#%%\n"
    }
   },
   "outputs": [
    {
     "data": {
      "text/plain": [
       "[1, 'a', 2, 'b', 3, 'c']"
      ]
     },
     "execution_count": 16,
     "metadata": {},
     "output_type": "execute_result"
    }
   ],
   "source": [
    "# Function of two lists\n",
    "\n",
    "def function_two_lst(lst1,lst2):\n",
    "    lst_combine = [] \n",
    "    # Creating a list to combine both lists\n",
    "    for index in range(len(lst1)):\n",
    "        lst_combine.append(lst1[index])\n",
    "        lst_combine.append(lst2[index])\n",
    "    # Using for loop to combine the two lists alternatively\n",
    "    # for loop allow you to do things in order (index by index)\n",
    "    return lst_combine\n",
    "    # Return the combined list\n",
    "\n",
    "function_two_lst([1,2,3],[\"a\",\"b\",\"c\"]) # Test code: should return [1, 'a', 2, 'b', 3, 'c']"
   ]
  },
  {
   "cell_type": "markdown",
   "id": "e01fe2e8",
   "metadata": {
    "pycharm": {
     "name": "#%% md\n"
    }
   },
   "source": [
    "### Task 3.3"
   ]
  },
  {
   "cell_type": "code",
   "execution_count": 6,
   "id": "9cad2220",
   "metadata": {
    "pycharm": {
     "name": "#%%\n"
    }
   },
   "outputs": [
    {
     "data": {
      "text/plain": [
       "{'a': 2, 'b': 2, 'c': 1}"
      ]
     },
     "execution_count": 6,
     "metadata": {},
     "output_type": "execute_result"
    }
   ],
   "source": [
    "# returning Dictionary\n",
    "\n",
    "def count_num_lst(lst):\n",
    "    d_num = {}\n",
    "    # Creating the list to store the count\n",
    "    for letter in lst:\n",
    "    # Looping through the list\n",
    "        if letter not in d_num:\n",
    "            d_num[letter] = 1\n",
    "        # Condition 1: If the letter is not in the dictionary we create, we make it as 1\n",
    "        else:\n",
    "            d_num[letter]+=1\n",
    "        # Condition 2: If the letter is already in the list, we add one to the count\n",
    "    return d_num\n",
    "    # Return the dictionary with counts\n",
    "\n",
    "count_num_lst([\"a\",\"b\",\"a\",\"b\",\"c\"]) # Test code"
   ]
  },
  {
   "cell_type": "markdown",
   "id": "e0459d1a",
   "metadata": {
    "pycharm": {
     "name": "#%% md\n"
    }
   },
   "source": [
    "### Task 3.4"
   ]
  },
  {
   "cell_type": "code",
   "execution_count": 3,
   "id": "90b4c35f",
   "metadata": {
    "pycharm": {
     "name": "#%%\n"
    }
   },
   "outputs": [
    {
     "data": {
      "text/plain": [
       "['b', 'a']"
      ]
     },
     "execution_count": 3,
     "metadata": {},
     "output_type": "execute_result"
    }
   ],
   "source": [
    "# Returning common elements in two lists\n",
    "\n",
    "def comm_element(lst1,lst2):\n",
    "    com_lst = []\n",
    "    # Creating a list to store the combined items\n",
    "    new_set1 = set(lst1)\n",
    "    new_set2 = set(lst2)\n",
    "    # Changing the list into a set to remove the duplicates\n",
    "    new_lst1 = list(new_set1)\n",
    "    new_lst2 = list(new_set2)\n",
    "    # Chaning back to lst for looping purpose\n",
    "    for index in range(len(new_lst1)):\n",
    "    # Looping through one list and match that with another list\n",
    "        if new_lst1[index] in new_lst2:\n",
    "        # If element of list 1 is in list 2...\n",
    "            com_lst.append(new_lst1[index])\n",
    "            # ...Then, we just append that element to our common list\n",
    "    return com_lst\n",
    "    # Return the list with common elements\n",
    "\n",
    "comm_element([\"a\",\"b\",\"c\",1,\"d\"],[\"a\",\"b\",1,2,3]) # Test code\n",
    "comm_element(['a', 'a', 'b'], ['a', 'b'])\n",
    "# comm_element(['a', 'b'], ['a',\"a\", 'b'])\n",
    "# comm_element(['a', 'b', 1, 1, 2, 3], ['a',\"a\", 'b', 1, 1])"
   ]
  }
 ],
 "metadata": {
  "kernelspec": {
   "display_name": "Python [conda env:compsoc] *",
   "language": "python",
   "name": "conda-env-compsoc-py"
  },
  "language_info": {
   "codemirror_mode": {
    "name": "ipython",
    "version": 3
   },
   "file_extension": ".py",
   "mimetype": "text/x-python",
   "name": "python",
   "nbconvert_exporter": "python",
   "pygments_lexer": "ipython3",
   "version": "3.8.13"
  }
 },
 "nbformat": 4,
 "nbformat_minor": 5
}