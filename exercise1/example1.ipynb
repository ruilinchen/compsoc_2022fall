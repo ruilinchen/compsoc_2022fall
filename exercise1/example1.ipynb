{
 "cells": [
  {
   "cell_type": "markdown",
   "source": [
    "### Introduction\n",
    "My name is **[EDITTED]**.\n",
    "\n",
    "I am a [EDITTED].\n",
    "\n",
    "Here is my [instagram page](http://google.com) where I store my artwork."
   ],
   "metadata": {
    "collapsed": false,
    "pycharm": {
     "name": "#%% md\n"
    }
   }
  },
  {
   "cell_type": "code",
   "execution_count": 1,
   "outputs": [
    {
     "name": "stdout",
     "output_type": "stream",
     "text": [
      "Hi, Alice\n"
     ]
    }
   ],
   "source": [
    "#GreetingBot code\n",
    "def gb():                                           #defining Greeting Bot (GB) a function with no input parameters\n",
    "    name = input(\"What's your name? \")              #asking for input and define input as var 'name'\n",
    "    print(f'Hi, {name}')                            #print out input\n",
    "\n",
    "gb()"
   ],
   "metadata": {
    "collapsed": false,
    "pycharm": {
     "name": "#%%\n"
    }
   }
  },
  {
   "cell_type": "code",
   "execution_count": 2,
   "outputs": [
    {
     "name": "stdout",
     "output_type": "stream",
     "text": [
      "Hey, Alice! It's you!\n"
     ]
    }
   ],
   "source": [
    "#GB4F code\n",
    "friend_list = {                                     #defining a friend list\n",
    "    'Alice',\n",
    "    'Alex',\n",
    "    'Ruilin',\n",
    "}\n",
    "def gb4f():                                         #defining function GB4F (GreetingBot4Friends)\n",
    "    name = input(\"What's your name? \")              #asking for input 'name'\n",
    "    if name in friend_list:                         #checking if name is in friend list, greet accordingly, else normal greeting\n",
    "        print(f\"Hey, {name}! It's you!\")\n",
    "    else:\n",
    "        print(f\"Nice to meet you, {name}, I'm [editted]\")\n",
    "\n",
    "gb4f()"
   ],
   "metadata": {
    "collapsed": false,
    "pycharm": {
     "name": "#%%\n"
    }
   }
  },
  {
   "cell_type": "code",
   "execution_count": 3,
   "outputs": [
    {
     "name": "stdout",
     "output_type": "stream",
     "text": [
      "Hey, Alex! It's you!\n"
     ]
    }
   ],
   "source": [
    "gb4f()"
   ],
   "metadata": {
    "collapsed": false,
    "pycharm": {
     "name": "#%%\n"
    }
   }
  },
  {
   "cell_type": "code",
   "execution_count": 5,
   "outputs": [
    {
     "name": "stdout",
     "output_type": "stream",
     "text": [
      "Nice to meet you, Bob, I'm [editted]\n"
     ]
    }
   ],
   "source": [
    "gb4f()"
   ],
   "metadata": {
    "collapsed": false,
    "pycharm": {
     "name": "#%%\n"
    }
   }
  },
  {
   "cell_type": "code",
   "execution_count": 4,
   "metadata": {
    "pycharm": {
     "name": "#%%\n"
    }
   },
   "outputs": [],
   "source": []
  },
  {
   "cell_type": "code",
   "execution_count": 4,
   "metadata": {
    "pycharm": {
     "name": "#%%\n"
    }
   },
   "outputs": [],
   "source": []
  }
 ],
 "metadata": {
  "kernelspec": {
   "display_name": "Python 3 (ipykernel)",
   "language": "python",
   "name": "python3"
  },
  "language_info": {
   "codemirror_mode": {
    "name": "ipython",
    "version": 3
   },
   "file_extension": ".py",
   "mimetype": "text/x-python",
   "name": "python",
   "nbconvert_exporter": "python",
   "pygments_lexer": "ipython3",
   "version": "3.9.12"
  }
 },
 "nbformat": 4,
 "nbformat_minor": 1
}