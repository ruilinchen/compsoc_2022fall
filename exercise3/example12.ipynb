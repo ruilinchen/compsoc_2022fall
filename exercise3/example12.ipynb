{
 "cells": [
  {
   "cell_type": "markdown",
   "id": "4f9b7a3e",
   "metadata": {
    "pycharm": {
     "name": "#%% md\n"
    }
   },
   "source": [
    "# exercise 3\n",
    "## task 3.1"
   ]
  },
  {
   "cell_type": "code",
   "execution_count": 158,
   "id": "e314bc90",
   "metadata": {
    "pycharm": {
     "name": "#%%\n"
    }
   },
   "outputs": [],
   "source": [
    "def minMax(numList:list): #restricts input to a list\n",
    "    if(len(numList) == 0):\n",
    "        print(\"We got an empty list\")\n",
    "        return 0, 0\n",
    "    return max(numList) - min(numList)\n",
    "\n",
    "def intendedMinMax(numList): #might not be expected to use max or min\n",
    "    if(len(numList) == 0):\n",
    "        print(\"We got an empty list\")\n",
    "        return 0, 0\n",
    "    minVal, maxVal = numList[0], numList[0]\n",
    "    for val in numList:\n",
    "        if(val > maxVal):\n",
    "            maxVal = val\n",
    "        elif(val < minVal):\n",
    "            minVal = val\n",
    "    return maxVal - minVal"
   ]
  },
  {
   "cell_type": "code",
   "execution_count": 159,
   "id": "7212c40f",
   "metadata": {
    "pycharm": {
     "name": "#%%\n"
    }
   },
   "outputs": [
    {
     "name": "stdout",
     "output_type": "stream",
     "text": [
      "15\n"
     ]
    }
   ],
   "source": [
    "import random\n",
    "print(minMax([random.randint(1,20) for i in range(10)]))\n",
    "#intendedMinMax([random.randint(1,20) for i in range(10)])"
   ]
  },
  {
   "cell_type": "markdown",
   "id": "00f81b8a",
   "metadata": {
    "pycharm": {
     "name": "#%% md\n"
    }
   },
   "source": [
    "## task 3.2"
   ]
  },
  {
   "cell_type": "code",
   "execution_count": 160,
   "id": "b4785f66",
   "metadata": {
    "pycharm": {
     "name": "#%%\n"
    }
   },
   "outputs": [],
   "source": [
    "def intersperseLists(a:list, b:list):\n",
    "    combined = []\n",
    "    if(len(a) > len(b)):\n",
    "        for i in range(len(b)):\n",
    "            combined.append(a[i])\n",
    "            combined.append(b[i])\n",
    "        for i in range(len(b), len(a)):\n",
    "            combined.append(a[i])\n",
    "    else:\n",
    "        for i in range(len(a)):\n",
    "            combined.append(a[i])\n",
    "            combined.append(b[i])\n",
    "        for i in range(len(a), len(b)): #if same, wont do any here\n",
    "            combined.append(b[i])\n",
    "    return combined"
   ]
  },
  {
   "cell_type": "code",
   "execution_count": 161,
   "id": "d926ed2b",
   "metadata": {
    "pycharm": {
     "name": "#%%\n"
    }
   },
   "outputs": [
    {
     "name": "stdout",
     "output_type": "stream",
     "text": [
      "listA =  ['H', 'L', 'C', 'H', 'U']\n",
      "listB =  ['v', 'y', 'k', 'f', 'h', 't', 'x', 'i', 'z', 'f']\n",
      "['H', 'v', 'L', 'y', 'C', 'k', 'H', 'f', 'U', 'h', 't', 'x', 'i', 'z', 'f']\n"
     ]
    }
   ],
   "source": [
    "import string\n",
    "listA = [random.choice(string.ascii_uppercase) for i in range(5)]\n",
    "listB = [random.choice(string.ascii_lowercase) for i in range(10)]\n",
    "print(\"listA = \", listA)\n",
    "print(\"listB = \", listB)\n",
    "print(intersperseLists(listA, listB))"
   ]
  },
  {
   "cell_type": "markdown",
   "id": "72bce377",
   "metadata": {
    "pycharm": {
     "name": "#%% md\n"
    }
   },
   "source": [
    "## task 3.3"
   ]
  },
  {
   "cell_type": "code",
   "execution_count": 162,
   "id": "95e99aa2",
   "metadata": {
    "pycharm": {
     "name": "#%%\n"
    }
   },
   "outputs": [],
   "source": [
    "def freqTable(myList:list):\n",
    "    myDict = {}\n",
    "    for val in myList:\n",
    "        if(val in myDict):\n",
    "            myDict[val] = myDict[val] + 1\n",
    "        else:\n",
    "            myDict[val] = 1\n",
    "    #decided to sort since sample showed sorted. lambda takes the 2nd string of those lists that items() makes\n",
    "    myDict = sorted(myDict.items(), key=lambda x:x[1], reverse=True) #doing items since iter only does keys\n",
    "    return myDict"
   ]
  },
  {
   "cell_type": "code",
   "execution_count": 163,
   "id": "a1e39028",
   "metadata": {
    "pycharm": {
     "name": "#%%\n"
    }
   },
   "outputs": [
    {
     "name": "stdout",
     "output_type": "stream",
     "text": [
      "listA = ['l', 'q', 's', 'd', 'r', 'r', 'h', 's', 'z', 'c', 's', 'x', 'o', 's', 'l']\n",
      "[('s', 4), ('l', 2), ('r', 2), ('q', 1), ('d', 1), ('h', 1), ('z', 1), ('c', 1), ('x', 1), ('o', 1)]\n"
     ]
    }
   ],
   "source": [
    "listA = [random.choice(string.ascii_lowercase) for i in range(15)]\n",
    "print(\"listA =\", listA)\n",
    "print(freqTable(listA))"
   ]
  },
  {
   "cell_type": "markdown",
   "id": "21efda91",
   "metadata": {
    "pycharm": {
     "name": "#%% md\n"
    }
   },
   "source": [
    "## task 3.4"
   ]
  },
  {
   "cell_type": "code",
   "execution_count": 164,
   "id": "e68aad4b",
   "metadata": {
    "pycharm": {
     "name": "#%%\n"
    }
   },
   "outputs": [],
   "source": [
    "def intersect(a:list, b:list):\n",
    "    return set(a).intersection(set(b))\n",
    "\n",
    "def intendedIntersect(a:list, b:list): #likely not intended as a one-liner\n",
    "    mySet = set() #{} is empty dict\n",
    "    for val in a:\n",
    "        if val in b:\n",
    "            mySet.add(val)\n",
    "    return mySet #sets are not ordered"
   ]
  },
  {
   "cell_type": "code",
   "execution_count": 165,
   "id": "52ba12a5",
   "metadata": {
    "pycharm": {
     "name": "#%%\n"
    }
   },
   "outputs": [
    {
     "name": "stdout",
     "output_type": "stream",
     "text": [
      "listA =  [2, 3, 4, 5, 7, 9, 9, 10, 10, 10]\n",
      "listB =  [1, 2, 2, 6, 7, 7, 8, 8, 8, 9]\n",
      "{9, 2, 7}\n"
     ]
    }
   ],
   "source": [
    "listA = [random.randint(1,10) for i in range(10)]\n",
    "listB = [random.randint(1,10) for i in range(10)]\n",
    "listA = sorted(listA) #just to make it easier to see what vals they share\n",
    "listB = sorted(listB)\n",
    "print(\"listA = \", listA)\n",
    "print(\"listB = \", listB)\n",
    "print(intersect(listA, listB))\n",
    "#print(intendedIntersect(listA, listB))"
   ]
  }
 ],
 "metadata": {
  "kernelspec": {
   "display_name": "Python 3 (ipykernel)",
   "language": "python",
   "name": "python3"
  },
  "language_info": {
   "codemirror_mode": {
    "name": "ipython",
    "version": 3
   },
   "file_extension": ".py",
   "mimetype": "text/x-python",
   "name": "python",
   "nbconvert_exporter": "python",
   "pygments_lexer": "ipython3",
   "version": "3.8.13"
  }
 },
 "nbformat": 4,
 "nbformat_minor": 5
}