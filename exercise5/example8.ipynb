{
 "cells": [
  {
   "cell_type": "code",
   "execution_count": 179,
   "id": "5d769b4c",
   "metadata": {
    "pycharm": {
     "name": "#%%\n"
    }
   },
   "outputs": [
    {
     "name": "stdout",
     "output_type": "stream",
     "text": [
      "MA_cbg_human_mobility_2019/MA_cbg2cbg_2019_09.csv\n",
      "__MACOSX/MA_cbg_human_mobility_2019/._MA_cbg2cbg_2019_09.csv\n",
      "MA_cbg_human_mobility_2019/MA_cbg2cbg_2019_08.csv\n",
      "__MACOSX/MA_cbg_human_mobility_2019/._MA_cbg2cbg_2019_08.csv\n",
      "MA_cbg_human_mobility_2019/MA_cbg2cbg_2019_03.csv\n",
      "__MACOSX/MA_cbg_human_mobility_2019/._MA_cbg2cbg_2019_03.csv\n",
      "MA_cbg_human_mobility_2019/MA_cbg2cbg_2019_02.csv\n",
      "__MACOSX/MA_cbg_human_mobility_2019/._MA_cbg2cbg_2019_02.csv\n",
      "MA_cbg_human_mobility_2019/MA_cbg2cbg_2019_01.csv\n",
      "__MACOSX/MA_cbg_human_mobility_2019/._MA_cbg2cbg_2019_01.csv\n",
      "MA_cbg_human_mobility_2019/MA_cbg2cbg_2019_05.csv\n",
      "__MACOSX/MA_cbg_human_mobility_2019/._MA_cbg2cbg_2019_05.csv\n",
      "MA_cbg_human_mobility_2019/MA_cbg2cbg_2019_11.csv\n",
      "__MACOSX/MA_cbg_human_mobility_2019/._MA_cbg2cbg_2019_11.csv\n",
      "MA_cbg_human_mobility_2019/MA_cbg2cbg_2019_10.csv\n",
      "__MACOSX/MA_cbg_human_mobility_2019/._MA_cbg2cbg_2019_10.csv\n",
      "MA_cbg_human_mobility_2019/MA_cbg2cbg_2019_04.csv\n",
      "__MACOSX/MA_cbg_human_mobility_2019/._MA_cbg2cbg_2019_04.csv\n",
      "MA_cbg_human_mobility_2019/MA_cbg2cbg_2019_12.csv\n",
      "__MACOSX/MA_cbg_human_mobility_2019/._MA_cbg2cbg_2019_12.csv\n",
      "MA_cbg_human_mobility_2019/MA_cbg2cbg_2019_06.csv\n",
      "__MACOSX/MA_cbg_human_mobility_2019/._MA_cbg2cbg_2019_06.csv\n",
      "MA_cbg_human_mobility_2019/MA_cbg2cbg_2019_07.csv\n",
      "__MACOSX/MA_cbg_human_mobility_2019/._MA_cbg2cbg_2019_07.csv\n"
     ]
    }
   ],
   "source": [
    "#Task 5.1\n",
    "#Install the zipfile package\n",
    "import zipfile\n",
    "#loops through all the files in this zip file\n",
    "zfhm = zipfile.ZipFile('MA_cbg_human_mobility_2019.zip') \n",
    "#Print the names of all csv files in it\n",
    "for files in zfhm.namelist():\n",
    "    if files.endswith(\".csv\"):\n",
    "        print(files)\n"
   ]
  },
  {
   "cell_type": "code",
   "execution_count": 193,
   "id": "1487bfeb",
   "metadata": {
    "pycharm": {
     "name": "#%%\n"
    }
   },
   "outputs": [
    {
     "data": {
      "text/plain": [
       "12108558"
      ]
     },
     "execution_count": 193,
     "metadata": {},
     "output_type": "execute_result"
    }
   ],
   "source": [
    "#Task 5.2\n",
    "# import required module\n",
    "import os\n",
    "import csv\n",
    "#unzip the files\n",
    "with zipfile.ZipFile(\"MA_cbg_human_mobility_2019.zip\",\"r\") as zip_ref:\n",
    "    zip_ref.extractall(\"MA_cbg_human_mobility_2019\")\n",
    "\n",
    "#loops through all the files stored in this folder and count the numbers of lines\n",
    "def lacn():\n",
    "    directory = 'C:/Users/27737/MA_cbg_human_mobility_2019'\n",
    "    allnumber = 0\n",
    "#Firstly, loops through all of them\n",
    "    for files in os.listdir(directory):\n",
    "#select the “csv” files\n",
    "         if files.endswith(\".csv\"):\n",
    "# count no. of lines\n",
    "            with open(os. path. join(directory, files),'r')as file:\n",
    "                csvfile = csv.reader(file)\n",
    "                \n",
    "                for row in csvfile:\n",
    "                    allnumber = allnumber + 1\n",
    "\n",
    "    return allnumber\n",
    "\n",
    "lacn()"
   ]
  },
  {
   "cell_type": "code",
   "execution_count": 235,
   "id": "79afb3c1",
   "metadata": {
    "pycharm": {
     "name": "#%%\n"
    }
   },
   "outputs": [
    {
     "data": {
      "text/plain": [
       "{'MA_cbg2cbg_2019_01.csv': 840594,\n",
       " 'MA_cbg2cbg_2019_02.csv': 818862,\n",
       " 'MA_cbg2cbg_2019_03.csv': 914654,\n",
       " 'MA_cbg2cbg_2019_04.csv': 1011375,\n",
       " 'MA_cbg2cbg_2019_05.csv': 1088295,\n",
       " 'MA_cbg2cbg_2019_06.csv': 1120697,\n",
       " 'MA_cbg2cbg_2019_07.csv': 1119933,\n",
       " 'MA_cbg2cbg_2019_08.csv': 1194285,\n",
       " 'MA_cbg2cbg_2019_09.csv': 1136954,\n",
       " 'MA_cbg2cbg_2019_10.csv': 1010778,\n",
       " 'MA_cbg2cbg_2019_11.csv': 901469,\n",
       " 'MA_cbg2cbg_2019_12.csv': 950662}"
      ]
     },
     "execution_count": 235,
     "metadata": {},
     "output_type": "execute_result"
    }
   ],
   "source": [
    "#5.3\n",
    "#Import required module\n",
    "import json\n",
    "import fnmatch\n",
    "from collections import defaultdict\n",
    "#Store the output in a dictionary with keys being filenames and values being the corresponding line counts.\n",
    "def output2():\n",
    "    directory = 'C:/Users/27737/MA_cbg_human_mobility_2019'\n",
    "    d = {}\n",
    "    for filename in os.listdir(directory):\n",
    "#select the “csv” files\n",
    "         if filename.endswith(\".csv\"):\n",
    "# count no. of lines\n",
    "            with open(os. path. join(directory, filename),'r')as file:\n",
    "                csvfile = csv.reader(file)\n",
    "                rownumber = 0\n",
    "                for row in csvfile:\n",
    "                    rownumber = rownumber + 1\n",
    "                d[filename] = rownumber\n",
    "    \n",
    "    return d\n",
    "\n",
    "#Write the output to a json file.\n",
    "with open(\"jsonoutput2.json\",\"w\") as outfile:\n",
    "    json.dump(d, outfile)\n",
    "#print the output    \n",
    "output2()"
   ]
  },
  {
   "cell_type": "code",
   "execution_count": null,
   "id": "f4168a3d",
   "metadata": {
    "pycharm": {
     "name": "#%%\n"
    }
   },
   "outputs": [],
   "source": []
  }
 ],
 "metadata": {
  "kernelspec": {
   "display_name": "Python 3 (ipykernel)",
   "language": "python",
   "name": "python3"
  },
  "language_info": {
   "codemirror_mode": {
    "name": "ipython",
    "version": 3
   },
   "file_extension": ".py",
   "mimetype": "text/x-python",
   "name": "python",
   "nbconvert_exporter": "python",
   "pygments_lexer": "ipython3",
   "version": "3.9.12"
  }
 },
 "nbformat": 4,
 "nbformat_minor": 5
}