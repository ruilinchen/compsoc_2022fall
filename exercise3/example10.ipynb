{
 "cells": [
  {
   "cell_type": "markdown",
   "metadata": {
    "pycharm": {
     "name": "#%% md\n"
    }
   },
   "source": [
    "Task 3.1 Write a function that takes a list of numbers as input, finds the largest and smallest element of the list, and returns the largest element minus the smallest element as output."
   ]
  },
  {
   "cell_type": "markdown",
   "metadata": {
    "pycharm": {
     "name": "#%% md\n"
    }
   },
   "source": [
    "Attempt 1：\n",
    "\n",
    "list1 = [10, 20, 4, 45, 99]\n",
    "length = len(list1)\n",
    "list1.sort()\n",
    "Max = print(\"Smallest element is:\", list1[0])\n",
    "Min = print(\"Largest element is:\", list1[length-1])\n",
    "print (Max - Min)"
   ]
  },
  {
   "cell_type": "code",
   "execution_count": null,
   "metadata": {
    "pycharm": {
     "name": "#%%\n"
    }
   },
   "outputs": [],
   "source": [
    "def range_math():\n",
    "    list1=[1,2,3,4,5,6,7,8,9,0]\n",
    "    max1=max(list1)\n",
    "    min1=min(list1)\n",
    "    range1=max1-min1\n",
    "    return range1\n",
    "print(range_math())"
   ]
  },
  {
   "cell_type": "markdown",
   "metadata": {
    "pycharm": {
     "name": "#%% md\n"
    }
   },
   "source": [
    "Task 3.2 Write a function that takes two lists as input, combines them by alternatively taking their elements, e.g. [a,b,c], [1,2,3] → [a,1,b,2,c,3], and returns the combined list as output."
   ]
  },
  {
   "cell_type": "code",
   "execution_count": 10,
   "metadata": {
    "pycharm": {
     "name": "#%%\n"
    }
   },
   "outputs": [
    {
     "name": "stdout",
     "output_type": "stream",
     "text": [
      "['a', 1, 'b', 2, 'c', 3, 'd']\n"
     ]
    }
   ],
   "source": [
    "def comb():\n",
    "    list1=[\"a\",\"b\",\"c\",\"d\"]\n",
    "    list2=[1,2,3]\n",
    "    list_comb=[]\n",
    "    n=len(list1)\n",
    "    m=len(list2)\n",
    "    short_num=min(m,n)\n",
    "    x=0\n",
    "    while x < short_num:\n",
    "        list_comb.append(list1[x])\n",
    "        list_comb.append(list2[x])\n",
    "        x=x+1\n",
    "   # if the len are same\n",
    "    if x < n:\n",
    "        y=x\n",
    "        while y<n:\n",
    "           list_comb.append(list1[y])\n",
    "           y=y+1\n",
    "    if x < m:\n",
    "        y=x\n",
    "        while y<m:\n",
    "            list_comb.append(list2[y])\n",
    "            y=y+1\n",
    "    # if the len are different\n",
    "    return list_comb\n",
    "print(comb())"
   ]
  },
  {
   "cell_type": "markdown",
   "metadata": {
    "pycharm": {
     "name": "#%% md\n"
    }
   },
   "source": [
    "Task 3.3 Write a function that takes a list as input, and returns a frequency table of the list in the format of a dictionary. Example: ['a', 'b', 'a'] -> {'a': 2, 'b': 1}"
   ]
  },
  {
   "cell_type": "code",
   "execution_count": null,
   "metadata": {
    "pycharm": {
     "is_executing": true,
     "name": "#%%\n"
    }
   },
   "outputs": [],
   "source": [
    "def convert():\n",
    "    list1=['a','b','c','d']\n",
    "    list2=[1,2,3,4]\n",
    "    list3=[]\n",
    "    n=len(list1)\n",
    "    m=len(list2)\n",
    "    short_num=min(m,n)\n",
    "    x=0\n",
    "    while x < short_num:\n",
    "        list3.append(list1[x])\n",
    "        list3.append(list2[x])\n",
    "        x=x+1\n",
    "    print(list3)\n",
    "    dic1={list3[i]:list3[i+1] for i in range(0,len(list3),2)}\n",
    "    return dic1\n",
    "print(convert())"
   ]
  },
  {
   "cell_type": "markdown",
   "metadata": {
    "pycharm": {
     "name": "#%% md\n"
    }
   },
   "source": [
    "Task 3.4 Write a function that takes two lists as input, and returns another list that contains only the elements that are common between the two lists (without duplicates). Hint: Use `set` for this task."
   ]
  },
  {
   "cell_type": "code",
   "execution_count": null,
   "metadata": {
    "pycharm": {
     "is_executing": true,
     "name": "#%%\n"
    }
   },
   "outputs": [],
   "source": [
    "def common():\n",
    "    list1=['a','b','c',2,5,1,8,10,2,5,3,3,6]\n",
    "    list2=['c','d','a',1,8,10,2,7,6,3]\n",
    "    list_cum=[]\n",
    "    for x in list1:\n",
    "        if x in list2:\n",
    "            list_cum.append(x)\n",
    "    return(list_cum)\n",
    "print(common())"
   ]
  }
 ],
 "metadata": {
  "kernelspec": {
   "display_name": "Python 3 (ipykernel)",
   "language": "python",
   "name": "python3"
  },
  "language_info": {
   "codemirror_mode": {
    "name": "ipython",
    "version": 3
   },
   "file_extension": ".py",
   "mimetype": "text/x-python",
   "name": "python",
   "nbconvert_exporter": "python",
   "pygments_lexer": "ipython3",
   "version": "3.8.13"
  }
 },
 "nbformat": 4,
 "nbformat_minor": 1
}