{
 "cells": [
  {
   "cell_type": "markdown",
   "id": "7576295d",
   "metadata": {
    "pycharm": {
     "name": "#%% md\n"
    }
   },
   "source": [
    "3.1"
   ]
  },
  {
   "cell_type": "code",
   "execution_count": 4,
   "id": "70d056d6",
   "metadata": {
    "pycharm": {
     "name": "#%%\n"
    }
   },
   "outputs": [
    {
     "name": "stdout",
     "output_type": "stream",
     "text": [
      "Please enter the Total Number of List Elements: 3\n",
      "Please enter the Value of 1 Element : 1\n",
      "Please enter the Value of 2 Element : 2\n",
      "Please enter the Value of 3 Element : 3\n",
      "The Smallest Element in this List is :  1\n",
      "The Largest Element in this List is :  3\n",
      "The difference between the largest and the smallest is :  2\n"
     ]
    }
   ],
   "source": [
    "NumList = []\n",
    "Number = int(input(\"Please enter the Total Number of List Elements: \"))\n",
    "for i in range(1, Number + 1):\n",
    "    value = int(input(\"Please enter the Value of %d Element : \" %i))\n",
    "    NumList.append(value)\n",
    "\n",
    "print(\"The Smallest Element in this List is : \", min(NumList))\n",
    "print(\"The Largest Element in this List is : \", max(NumList))\n",
    "print(\"The difference between the largest and the smallest is : \", max(NumList)-min(NumList))"
   ]
  },
  {
   "cell_type": "markdown",
   "id": "8235ebeb",
   "metadata": {
    "pycharm": {
     "name": "#%% md\n"
    }
   },
   "source": [
    "3.2"
   ]
  },
  {
   "cell_type": "code",
   "execution_count": 11,
   "id": "a471b185",
   "metadata": {
    "pycharm": {
     "name": "#%%\n"
    }
   },
   "outputs": [],
   "source": [
    "def CombinedList(List1, List2): \n",
    "    return [sub[item] for item in range (len(List2))\n",
    "                      for sub in [List1, List2]]"
   ]
  },
  {
   "cell_type": "code",
   "execution_count": 13,
   "id": "469db280",
   "metadata": {
    "pycharm": {
     "name": "#%%\n"
    }
   },
   "outputs": [
    {
     "name": "stdout",
     "output_type": "stream",
     "text": [
      "['a', 1, 'b', 2, 'c', 3]\n"
     ]
    }
   ],
   "source": [
    "List1=[\"a\",\"b\",\"c\"]\n",
    "List2=[1,2,3]\n",
    "print (CombinedList(List1, List2))"
   ]
  },
  {
   "cell_type": "markdown",
   "id": "64b52474",
   "metadata": {
    "pycharm": {
     "name": "#%% md\n"
    }
   },
   "source": [
    "3.3"
   ]
  },
  {
   "cell_type": "code",
   "execution_count": 23,
   "id": "240d564b",
   "metadata": {
    "pycharm": {
     "name": "#%%\n"
    }
   },
   "outputs": [
    {
     "name": "stdout",
     "output_type": "stream",
     "text": [
      "{'a': 2, 'b': 1}\n"
     ]
    }
   ],
   "source": [
    "def frequency(dlist): \n",
    "    count={}\n",
    "    for i in dlist:\n",
    "        count[i]=count.get(i,0)+1\n",
    "    return count\n",
    "dlist = [\"a\",\"b\",\"a\"]\n",
    "print (frequency(dlist))"
   ]
  },
  {
   "cell_type": "markdown",
   "id": "15bb6a95",
   "metadata": {
    "pycharm": {
     "name": "#%% md\n"
    }
   },
   "source": [
    "3.3"
   ]
  },
  {
   "cell_type": "code",
   "execution_count": 34,
   "id": "82441c8f",
   "metadata": {
    "pycharm": {
     "name": "#%%\n"
    }
   },
   "outputs": [
    {
     "name": "stdout",
     "output_type": "stream",
     "text": [
      "Counter({'a': 2, 'b': 1})\n"
     ]
    }
   ],
   "source": [
    "from collections import Counter\n",
    "dlist = [\"a\",\"b\",\"a\"]\n",
    "print (Counter(dlist))"
   ]
  },
  {
   "cell_type": "markdown",
   "id": "2eb13f64",
   "metadata": {
    "pycharm": {
     "name": "#%% md\n"
    }
   },
   "source": [
    "3.4"
   ]
  },
  {
   "cell_type": "code",
   "execution_count": 40,
   "id": "e29ae585",
   "metadata": {
    "pycharm": {
     "name": "#%%\n"
    }
   },
   "outputs": [
    {
     "name": "stdout",
     "output_type": "stream",
     "text": [
      "[2, 3]\n"
     ]
    }
   ],
   "source": [
    "def intersect(input1, input2): \n",
    "    s1=set()\n",
    "    for i in input1: \n",
    "        s1.add(i)\n",
    "    s2=set()\n",
    "    for i in input2: \n",
    "        s2.add(i)\n",
    "    res=[]\n",
    "    for i in s2:\n",
    "        if i in s1:\n",
    "            res.append(i)\n",
    "    return res\n",
    "s1=[1,2,3]\n",
    "s2=[2,3,4]\n",
    "print(intersect(s1,s2))\n",
    "    "
   ]
  },
  {
   "cell_type": "code",
   "execution_count": null,
   "id": "b9b00f17",
   "metadata": {
    "pycharm": {
     "name": "#%%\n"
    }
   },
   "outputs": [],
   "source": []
  }
 ],
 "metadata": {
  "kernelspec": {
   "display_name": "Python 3 (ipykernel)",
   "language": "python",
   "name": "python3"
  },
  "language_info": {
   "codemirror_mode": {
    "name": "ipython",
    "version": 3
   },
   "file_extension": ".py",
   "mimetype": "text/x-python",
   "name": "python",
   "nbconvert_exporter": "python",
   "pygments_lexer": "ipython3",
   "version": "3.9.12"
  }
 },
 "nbformat": 4,
 "nbformat_minor": 5
}