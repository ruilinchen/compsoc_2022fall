{
 "cells": [
  {
   "cell_type": "markdown",
   "id": "840ea7a3",
   "metadata": {
    "pycharm": {
     "name": "#%% md\n"
    }
   },
   "source": [
    "# exercise 13\n",
    "# 1\n",
    "Create one pandas dataframe that combines all the data scraped from May 22, 2022 together. Drop rows with missing job titles and/or job descriptions. Use `spacy` to tokenize all the job titles included in the cleaned dataframe. For each job title, find all the nouns and all the adjectives in the title and get their lowercased lemmatized form. Use the reformatted nouns to construct a vocabulary set for this dataframe. How many unique nouns are there? Construct another vocabulary set using the reformatted adjectives. How many unique adjectives are there? What kind of different information do the nouns versus the adjectives reveal about the specific job? "
   ]
  },
  {
   "cell_type": "code",
   "execution_count": 1,
   "id": "1aadd1c5",
   "metadata": {
    "pycharm": {
     "name": "#%%\n"
    }
   },
   "outputs": [],
   "source": [
    "import json\n",
    "import pandas as pd\n",
    "import os\n",
    "os.chdir(r'C:\\Users\\[editted]\\Documents\\Me\\BC\\Advance\\Data\\jupyter\\exercise 13\\indeed_scraped_data\\job_info_data')\n",
    "job_info = pd.DataFrame(columns=['Company', 'Job Title', 'Location', 'Description', 'Company Link', 'Job Link'])\n",
    "jsonMap = {'link':'Job Link', 'job_title':'Job Title', 'company':'Company', 'company_url':'Company Link',\n",
    "                      'company_location':'Location', 'job_description':'Description'}\n",
    "csvMap = {}\n",
    "missJobs = job_info.copy()\n",
    "for key in jsonMap:\n",
    "    csvMap[\"lnks_\"+key] = jsonMap[key]\n",
    "for filename in os.listdir():\n",
    "    if not filename.__contains__(\"5222022\"):\n",
    "        continue\n",
    "    if filename[-3:] == \"csv\":\n",
    "        data = pd.read_csv(filename)\n",
    "        if(len(data.dtypes) != len(csvMap)):\n",
    "            print(\"Unusual data, investigate\")\n",
    "            break\n",
    "        data.rename(columns=csvMap, inplace=True)\n",
    "        data = data.query('`Job Title`.notna() & `Description`.notna()')\n",
    "        job_info = pd.concat([job_info, data])\n",
    "    elif filename[-4:] == \"json\":\n",
    "        with open(filename, encoding='UTF8') as jsonfile:\n",
    "            otherdata = json.load(jsonfile)\n",
    "            data = pd.DataFrame.from_dict(otherdata['lnks'])\n",
    "            if(len(data.dtypes) != len(jsonMap)):\n",
    "                print(\"Unusual data, investigate\")\n",
    "                break\n",
    "            data.rename(columns=jsonMap, inplace=True)\n",
    "            data = data.query('`Job Title`.notna() & `Description`.notna()')\n",
    "            job_info = pd.concat([job_info, data])"
   ]
  },
  {
   "cell_type": "code",
   "execution_count": 2,
   "id": "b7fec0e1",
   "metadata": {
    "pycharm": {
     "name": "#%%\n"
    }
   },
   "outputs": [],
   "source": [
    "job_info.reset_index(drop=True, inplace=True)"
   ]
  },
  {
   "cell_type": "code",
   "execution_count": 3,
   "id": "04c1aea2",
   "metadata": {
    "pycharm": {
     "name": "#%%\n"
    }
   },
   "outputs": [
    {
     "data": {
      "text/html": [
       "<div>\n",
       "<style scoped>\n",
       "    .dataframe tbody tr th:only-of-type {\n",
       "        vertical-align: middle;\n",
       "    }\n",
       "\n",
       "    .dataframe tbody tr th {\n",
       "        vertical-align: top;\n",
       "    }\n",
       "\n",
       "    .dataframe thead th {\n",
       "        text-align: right;\n",
       "    }\n",
       "</style>\n",
       "<table border=\"1\" class=\"dataframe\">\n",
       "  <thead>\n",
       "    <tr style=\"text-align: right;\">\n",
       "      <th></th>\n",
       "      <th>Company</th>\n",
       "      <th>Job Title</th>\n",
       "      <th>Location</th>\n",
       "      <th>Description</th>\n",
       "      <th>Company Link</th>\n",
       "      <th>Job Link</th>\n",
       "    </tr>\n",
       "  </thead>\n",
       "  <tbody>\n",
       "    <tr>\n",
       "      <th>0</th>\n",
       "      <td>Baton Rouge General</td>\n",
       "      <td>Certified Pharmacy Technician II -Retail Pharmacy</td>\n",
       "      <td>Baton Rouge, LA 70809</td>\n",
       "      <td>JOB PURPOSE OR MISSION: Assists pharmacists in...</td>\n",
       "      <td>https://www.indeed.com/cmp/Baton-Rouge-General...</td>\n",
       "      <td>https://www.indeed.com/rc/clk?jk=64568c71be4aa...</td>\n",
       "    </tr>\n",
       "    <tr>\n",
       "      <th>1</th>\n",
       "      <td>Anthem</td>\n",
       "      <td>Information Security Advisor</td>\n",
       "      <td>Richmond, VA 23218</td>\n",
       "      <td>Description\\nSHIFT: Day Job\\nSCHEDULE: Full-ti...</td>\n",
       "      <td>https://www.indeed.com/cmp/Anthem,-Inc.?campai...</td>\n",
       "      <td>https://www.indeed.com/rc/clk?jk=7b12bce39025f...</td>\n",
       "    </tr>\n",
       "    <tr>\n",
       "      <th>2</th>\n",
       "      <td>NaN</td>\n",
       "      <td>Associate Director Learning Management Systems</td>\n",
       "      <td>United States</td>\n",
       "      <td>Who we are\\nWe’re a global, midsize CRO that p...</td>\n",
       "      <td>NaN</td>\n",
       "      <td>https://www.indeed.com/pagead/clk?mo=r&amp;ad=-6NY...</td>\n",
       "    </tr>\n",
       "    <tr>\n",
       "      <th>3</th>\n",
       "      <td>AVA Search Group, LLC</td>\n",
       "      <td>Plant Engineer</td>\n",
       "      <td>Janesville, WI</td>\n",
       "      <td>Plant Engineer with a growing company in South...</td>\n",
       "      <td>https://www.indeed.com/cmp/Ava-Search-Group,-L...</td>\n",
       "      <td>https://www.indeed.com/pagead/clk?mo=r&amp;ad=-6NY...</td>\n",
       "    </tr>\n",
       "    <tr>\n",
       "      <th>4</th>\n",
       "      <td>NaN</td>\n",
       "      <td>Medical Staff Coordinator</td>\n",
       "      <td>Boston, MA 02114</td>\n",
       "      <td>Company Overview:\\nShriners Children’s is a fa...</td>\n",
       "      <td>NaN</td>\n",
       "      <td>https://www.indeed.com/rc/clk?jk=16d3c0f3ed372...</td>\n",
       "    </tr>\n",
       "  </tbody>\n",
       "</table>\n",
       "</div>"
      ],
      "text/plain": [
       "                 Company                                          Job Title  \\\n",
       "0    Baton Rouge General  Certified Pharmacy Technician II -Retail Pharmacy   \n",
       "1                 Anthem                       Information Security Advisor   \n",
       "2                    NaN     Associate Director Learning Management Systems   \n",
       "3  AVA Search Group, LLC                                     Plant Engineer   \n",
       "4                    NaN                          Medical Staff Coordinator   \n",
       "\n",
       "                Location                                        Description  \\\n",
       "0  Baton Rouge, LA 70809  JOB PURPOSE OR MISSION: Assists pharmacists in...   \n",
       "1     Richmond, VA 23218  Description\\nSHIFT: Day Job\\nSCHEDULE: Full-ti...   \n",
       "2          United States  Who we are\\nWe’re a global, midsize CRO that p...   \n",
       "3         Janesville, WI  Plant Engineer with a growing company in South...   \n",
       "4       Boston, MA 02114  Company Overview:\\nShriners Children’s is a fa...   \n",
       "\n",
       "                                        Company Link  \\\n",
       "0  https://www.indeed.com/cmp/Baton-Rouge-General...   \n",
       "1  https://www.indeed.com/cmp/Anthem,-Inc.?campai...   \n",
       "2                                                NaN   \n",
       "3  https://www.indeed.com/cmp/Ava-Search-Group,-L...   \n",
       "4                                                NaN   \n",
       "\n",
       "                                            Job Link  \n",
       "0  https://www.indeed.com/rc/clk?jk=64568c71be4aa...  \n",
       "1  https://www.indeed.com/rc/clk?jk=7b12bce39025f...  \n",
       "2  https://www.indeed.com/pagead/clk?mo=r&ad=-6NY...  \n",
       "3  https://www.indeed.com/pagead/clk?mo=r&ad=-6NY...  \n",
       "4  https://www.indeed.com/rc/clk?jk=16d3c0f3ed372...  "
      ]
     },
     "execution_count": 3,
     "metadata": {},
     "output_type": "execute_result"
    }
   ],
   "source": [
    "job_info.head()"
   ]
  },
  {
   "cell_type": "code",
   "execution_count": 4,
   "id": "e71426c8",
   "metadata": {
    "pycharm": {
     "name": "#%%\n"
    }
   },
   "outputs": [
    {
     "data": {
      "text/plain": [
       "Company         401\n",
       "Job Title         0\n",
       "Location          0\n",
       "Description       0\n",
       "Company Link    401\n",
       "Job Link          0\n",
       "dtype: int64"
      ]
     },
     "execution_count": 4,
     "metadata": {},
     "output_type": "execute_result"
    }
   ],
   "source": [
    "job_info.isna().sum()"
   ]
  },
  {
   "cell_type": "code",
   "execution_count": 5,
   "id": "829426c9",
   "metadata": {
    "pycharm": {
     "name": "#%%\n"
    }
   },
   "outputs": [],
   "source": [
    "job_info.dropna(subset=['Company Link', 'Job Title'], inplace=True)"
   ]
  },
  {
   "cell_type": "code",
   "execution_count": 6,
   "id": "c1aa5aa5",
   "metadata": {
    "pycharm": {
     "name": "#%%\n"
    }
   },
   "outputs": [],
   "source": [
    "job_info['Job Title'] = job_info['Job Title'].str.replace(r'/', ' ')\n",
    "job_info['Job Title'] = job_info['Job Title'].str.replace(r'[#()]', '', regex=True)\n",
    "#it wasn't dealing with stuff like \"Technician -Retail\" very well\n",
    "job_info['Job Title'] = job_info['Job Title'].str.replace(r'\\s-|-\\s|^-|-$', ' ', regex=True)"
   ]
  },
  {
   "cell_type": "code",
   "execution_count": 7,
   "id": "bdaf05b5",
   "metadata": {
    "pycharm": {
     "name": "#%%\n"
    }
   },
   "outputs": [],
   "source": [
    "import spacy\n",
    "nlp = spacy.load('en_core_web_md')"
   ]
  },
  {
   "cell_type": "code",
   "execution_count": 8,
   "id": "0c461f60",
   "metadata": {
    "pycharm": {
     "name": "#%%\n"
    }
   },
   "outputs": [],
   "source": [
    "job_info['Job Title Token'] = job_info['Job Title'].str.lower().apply(lambda x: nlp(x))"
   ]
  },
  {
   "cell_type": "code",
   "execution_count": 9,
   "id": "2f54dcef",
   "metadata": {
    "pycharm": {
     "name": "#%%\n"
    }
   },
   "outputs": [
    {
     "data": {
      "text/plain": [
       "'certify'"
      ]
     },
     "execution_count": 9,
     "metadata": {},
     "output_type": "execute_result"
    }
   ],
   "source": [
    "job_info['Job Title Token'].iloc[0][0].lemma_"
   ]
  },
  {
   "cell_type": "code",
   "execution_count": 10,
   "id": "bea96869",
   "metadata": {
    "pycharm": {
     "name": "#%%\n"
    }
   },
   "outputs": [],
   "source": [
    "nouns = set()\n",
    "propnouns = set()\n",
    "adjectives = set()"
   ]
  },
  {
   "cell_type": "code",
   "execution_count": 11,
   "id": "47a15ac7",
   "metadata": {
    "pycharm": {
     "name": "#%%\n"
    }
   },
   "outputs": [
    {
     "data": {
      "text/plain": [
       "set()"
      ]
     },
     "execution_count": 11,
     "metadata": {},
     "output_type": "execute_result"
    }
   ],
   "source": [
    "nouns"
   ]
  },
  {
   "cell_type": "code",
   "execution_count": 12,
   "id": "c1116586",
   "metadata": {
    "pycharm": {
     "name": "#%%\n"
    }
   },
   "outputs": [],
   "source": [
    "for tokens in job_info['Job Title Token']:\n",
    "    for token in tokens:\n",
    "        if token.pos_ == 'NOUN':\n",
    "            nouns.add(token.lemma_)\n",
    "        if token.pos_ == 'PROPN':\n",
    "            propnouns.add(token.lemma_)\n",
    "        if token.pos_ == 'ADJ':\n",
    "            adjectives.add(token.lemma_)"
   ]
  },
  {
   "cell_type": "code",
   "execution_count": 13,
   "id": "41504b20",
   "metadata": {
    "pycharm": {
     "name": "#%%\n"
    }
   },
   "outputs": [
    {
     "data": {
      "text/plain": [
       "774"
      ]
     },
     "execution_count": 13,
     "metadata": {},
     "output_type": "execute_result"
    }
   ],
   "source": [
    "len(propnouns)"
   ]
  },
  {
   "cell_type": "code",
   "execution_count": 14,
   "id": "769b0e63",
   "metadata": {
    "pycharm": {
     "name": "#%%\n"
    }
   },
   "outputs": [
    {
     "data": {
      "text/plain": [
       "True"
      ]
     },
     "execution_count": 14,
     "metadata": {},
     "output_type": "execute_result"
    }
   ],
   "source": [
    "'inspector' in propnouns and 'manager' in propnouns"
   ]
  },
  {
   "cell_type": "markdown",
   "id": "63f6639b",
   "metadata": {
    "pycharm": {
     "name": "#%% md\n"
    }
   },
   "source": [
    "Some of the ones it detects as proper nouns like \"insepctor\" and \"manager\" should be nouns...\n",
    "\n",
    "Previously I thought it was because I was using web_sm, I tried web_md though and had the same results. htps://universaldependencies.org/u/pos/PROPN.html, which spacy links to in its documentation, hints that it may be because of the odd syntax of the sentence?"
   ]
  },
  {
   "cell_type": "code",
   "execution_count": 15,
   "id": "4c4725e1",
   "metadata": {
    "pycharm": {
     "name": "#%%\n"
    }
   },
   "outputs": [
    {
     "data": {
      "text/plain": [
       "1139"
      ]
     },
     "execution_count": 15,
     "metadata": {},
     "output_type": "execute_result"
    }
   ],
   "source": [
    "len(nouns)"
   ]
  },
  {
   "cell_type": "code",
   "execution_count": 16,
   "id": "f7a27794",
   "metadata": {
    "pycharm": {
     "name": "#%%\n"
    }
   },
   "outputs": [
    {
     "data": {
      "text/plain": [
       "['division',\n",
       " 'ferry',\n",
       " 'facilitator',\n",
       " 'telecommunication',\n",
       " 'cob',\n",
       " 'aid',\n",
       " 'pest',\n",
       " 'grc',\n",
       " 'generation',\n",
       " 'student',\n",
       " 'np',\n",
       " 'bridge',\n",
       " 'inpatient',\n",
       " 'cancer',\n",
       " 'cake',\n",
       " 'helper',\n",
       " 'steak',\n",
       " 'voice',\n",
       " 'mri',\n",
       " 'treatment']"
      ]
     },
     "execution_count": 16,
     "metadata": {},
     "output_type": "execute_result"
    }
   ],
   "source": [
    "#wanted to print out some just to see it\n",
    "list(nouns)[:20]"
   ]
  },
  {
   "cell_type": "code",
   "execution_count": 17,
   "id": "178f4085",
   "metadata": {
    "pycharm": {
     "name": "#%%\n"
    }
   },
   "outputs": [
    {
     "name": "stdout",
     "output_type": "stream",
     "text": [
      "There are around 1139 nouns, though an unknown number of nouns were improperly classified as pronouns\n",
      "There are around 276 adjectives\n"
     ]
    }
   ],
   "source": [
    "print(\"There are around\", len(nouns), \"nouns, though an unknown number of nouns were improperly classified as pronouns\")\n",
    "print(\"There are around\", len(adjectives), \"adjectives\")"
   ]
  },
  {
   "cell_type": "markdown",
   "id": "aaf23521",
   "metadata": {
    "pycharm": {
     "name": "#%% md\n"
    }
   },
   "source": [
    "If I had more time (which isn't the fault of the class, since this assignment had more time than most), I would break the jobs down by state (or quarter of the country), and see if there was any relation between that and the nouns/adjectives."
   ]
  },
  {
   "cell_type": "markdown",
   "id": "deaf3fce",
   "metadata": {
    "pycharm": {
     "name": "#%% md\n"
    }
   },
   "source": [
    "## 2\n",
    "Choose the first job title in your dataframe as the primary string. Use one-hot encoding as the word embedding method and find jobs in your cleaned dataframe that have similar nouns in the title as your primary string. "
   ]
  },
  {
   "cell_type": "code",
   "execution_count": 18,
   "id": "5d62f02a",
   "metadata": {
    "pycharm": {
     "name": "#%%\n"
    }
   },
   "outputs": [
    {
     "data": {
      "text/html": [
       "<div>\n",
       "<style scoped>\n",
       "    .dataframe tbody tr th:only-of-type {\n",
       "        vertical-align: middle;\n",
       "    }\n",
       "\n",
       "    .dataframe tbody tr th {\n",
       "        vertical-align: top;\n",
       "    }\n",
       "\n",
       "    .dataframe thead th {\n",
       "        text-align: right;\n",
       "    }\n",
       "</style>\n",
       "<table border=\"1\" class=\"dataframe\">\n",
       "  <thead>\n",
       "    <tr style=\"text-align: right;\">\n",
       "      <th></th>\n",
       "      <th>Company</th>\n",
       "      <th>Job Title</th>\n",
       "      <th>Location</th>\n",
       "      <th>Description</th>\n",
       "      <th>Company Link</th>\n",
       "      <th>Job Link</th>\n",
       "      <th>Job Title Token</th>\n",
       "    </tr>\n",
       "  </thead>\n",
       "  <tbody>\n",
       "    <tr>\n",
       "      <th>0</th>\n",
       "      <td>Baton Rouge General</td>\n",
       "      <td>Certified Pharmacy Technician II Retail Pharmacy</td>\n",
       "      <td>Baton Rouge, LA 70809</td>\n",
       "      <td>JOB PURPOSE OR MISSION: Assists pharmacists in...</td>\n",
       "      <td>https://www.indeed.com/cmp/Baton-Rouge-General...</td>\n",
       "      <td>https://www.indeed.com/rc/clk?jk=64568c71be4aa...</td>\n",
       "      <td>(certified, pharmacy, technician, ii, retail, ...</td>\n",
       "    </tr>\n",
       "  </tbody>\n",
       "</table>\n",
       "</div>"
      ],
      "text/plain": [
       "               Company                                         Job Title  \\\n",
       "0  Baton Rouge General  Certified Pharmacy Technician II Retail Pharmacy   \n",
       "\n",
       "                Location                                        Description  \\\n",
       "0  Baton Rouge, LA 70809  JOB PURPOSE OR MISSION: Assists pharmacists in...   \n",
       "\n",
       "                                        Company Link  \\\n",
       "0  https://www.indeed.com/cmp/Baton-Rouge-General...   \n",
       "\n",
       "                                            Job Link  \\\n",
       "0  https://www.indeed.com/rc/clk?jk=64568c71be4aa...   \n",
       "\n",
       "                                     Job Title Token  \n",
       "0  (certified, pharmacy, technician, ii, retail, ...  "
      ]
     },
     "execution_count": 18,
     "metadata": {},
     "output_type": "execute_result"
    }
   ],
   "source": [
    "job_info.head(1)"
   ]
  },
  {
   "cell_type": "code",
   "execution_count": 19,
   "id": "c15e66ba",
   "metadata": {
    "pycharm": {
     "name": "#%%\n"
    }
   },
   "outputs": [
    {
     "name": "stdout",
     "output_type": "stream",
     "text": [
      "Proper noun of \"pharmacy\" decide if you want to add\n",
      "Proper noun of \"technician\" decide if you want to add\n",
      "Proper noun of \"ii\" decide if you want to add\n",
      "Proper noun of \"retail\" decide if you want to add\n",
      "Proper noun of \"pharmacy\" decide if you want to add\n"
     ]
    }
   ],
   "source": [
    "firstNouns = set()\n",
    "for tokens in job_info.head(1)['Job Title Token']:\n",
    "    for token in tokens:\n",
    "        if token.pos_ == 'NOUN':\n",
    "            firstNouns.add(token.lemma_)\n",
    "            print(\"NOUN\")\n",
    "        #doing this next part because improper parsing of proper nouns with the limited wordset I used\n",
    "        if token.pos_ == 'PROPN':\n",
    "            print('Proper noun of \\\"', token.lemma_, '\\\" decide if you want to add', sep='')"
   ]
  },
  {
   "cell_type": "code",
   "execution_count": 20,
   "id": "4a865596",
   "metadata": {
    "pycharm": {
     "name": "#%%\n"
    }
   },
   "outputs": [],
   "source": [
    "#not adding retail or pharmacy since they are attributive nouns (acting like adjectives)\n",
    "firstNouns = ['technician']"
   ]
  },
  {
   "cell_type": "code",
   "execution_count": 21,
   "id": "5e913861",
   "metadata": {
    "pycharm": {
     "name": "#%%\n"
    }
   },
   "outputs": [],
   "source": [
    "def hasWord(tokens, word):\n",
    "    for token in tokens:\n",
    "        if token.lemma_ == word:\n",
    "            return 1\n",
    "    return 0"
   ]
  },
  {
   "cell_type": "code",
   "execution_count": 22,
   "id": "074a7944",
   "metadata": {
    "pycharm": {
     "name": "#%%\n"
    }
   },
   "outputs": [],
   "source": [
    "for word in firstNouns:\n",
    "    job_info['has_' + word] = job_info['Job Title Token'].apply(hasWord, word=word)"
   ]
  },
  {
   "cell_type": "code",
   "execution_count": 23,
   "id": "454c8a4d",
   "metadata": {
    "pycharm": {
     "name": "#%%\n"
    }
   },
   "outputs": [],
   "source": [
    "job_info['noun_sum'] = job_info[['has_'+word for word in firstNouns]].sum(axis=1)"
   ]
  },
  {
   "cell_type": "code",
   "execution_count": 24,
   "id": "19944068",
   "metadata": {
    "pycharm": {
     "name": "#%%\n"
    }
   },
   "outputs": [
    {
     "data": {
      "text/html": [
       "<div>\n",
       "<style scoped>\n",
       "    .dataframe tbody tr th:only-of-type {\n",
       "        vertical-align: middle;\n",
       "    }\n",
       "\n",
       "    .dataframe tbody tr th {\n",
       "        vertical-align: top;\n",
       "    }\n",
       "\n",
       "    .dataframe thead th {\n",
       "        text-align: right;\n",
       "    }\n",
       "</style>\n",
       "<table border=\"1\" class=\"dataframe\">\n",
       "  <thead>\n",
       "    <tr style=\"text-align: right;\">\n",
       "      <th></th>\n",
       "      <th>Company</th>\n",
       "      <th>Job Title</th>\n",
       "      <th>Location</th>\n",
       "      <th>Description</th>\n",
       "      <th>Company Link</th>\n",
       "      <th>Job Link</th>\n",
       "      <th>Job Title Token</th>\n",
       "      <th>has_technician</th>\n",
       "      <th>noun_sum</th>\n",
       "    </tr>\n",
       "  </thead>\n",
       "  <tbody>\n",
       "    <tr>\n",
       "      <th>0</th>\n",
       "      <td>Baton Rouge General</td>\n",
       "      <td>Certified Pharmacy Technician II Retail Pharmacy</td>\n",
       "      <td>Baton Rouge, LA 70809</td>\n",
       "      <td>JOB PURPOSE OR MISSION: Assists pharmacists in...</td>\n",
       "      <td>https://www.indeed.com/cmp/Baton-Rouge-General...</td>\n",
       "      <td>https://www.indeed.com/rc/clk?jk=64568c71be4aa...</td>\n",
       "      <td>(certified, pharmacy, technician, ii, retail, ...</td>\n",
       "      <td>1</td>\n",
       "      <td>1</td>\n",
       "    </tr>\n",
       "    <tr>\n",
       "      <th>159</th>\n",
       "      <td>Global Medical Response</td>\n",
       "      <td>Avionics Technician  Depot</td>\n",
       "      <td>Ogden, UT 84405</td>\n",
       "      <td>Job Description:\\nAvionics Technician\\nIMMEDIA...</td>\n",
       "      <td>https://www.indeed.com/cmp/Global-Medical-Resp...</td>\n",
       "      <td>https://www.indeed.com/rc/clk?jk=3eaecb8ae5bcd...</td>\n",
       "      <td>(avionics, technician,  , depot)</td>\n",
       "      <td>1</td>\n",
       "      <td>1</td>\n",
       "    </tr>\n",
       "    <tr>\n",
       "      <th>189</th>\n",
       "      <td>Aerotek</td>\n",
       "      <td>Refrigeration Technician</td>\n",
       "      <td>Macon, GA 31201</td>\n",
       "      <td>Equivalent Experience\\nDescription:\\nMaintaini...</td>\n",
       "      <td>https://www.indeed.com/cmp/Aerotek?campaignid=...</td>\n",
       "      <td>https://www.indeed.com/pagead/clk?mo=r&amp;ad=-6NY...</td>\n",
       "      <td>(refrigeration, technician)</td>\n",
       "      <td>1</td>\n",
       "      <td>1</td>\n",
       "    </tr>\n",
       "    <tr>\n",
       "      <th>235</th>\n",
       "      <td>Eurofins USA Food Testing</td>\n",
       "      <td>Media Production Technician</td>\n",
       "      <td>Mounds View, MN 55112</td>\n",
       "      <td>Company Description\\nEurofins Scientific is an...</td>\n",
       "      <td>https://www.indeed.com/cmp/Eurofins?campaignid...</td>\n",
       "      <td>https://www.indeed.com/rc/clk?jk=93924f9d84075...</td>\n",
       "      <td>(media, production, technician)</td>\n",
       "      <td>1</td>\n",
       "      <td>1</td>\n",
       "    </tr>\n",
       "    <tr>\n",
       "      <th>288</th>\n",
       "      <td>Fresenius Medical Care</td>\n",
       "      <td>Patient Care Technician</td>\n",
       "      <td>Attalla, AL 35954</td>\n",
       "      <td>PURPOSE AND SCOPE:\\nSupports FMCNA's mission v...</td>\n",
       "      <td>https://www.indeed.com/cmp/Fresenius-Medical-C...</td>\n",
       "      <td>https://www.indeed.com/rc/clk?jk=6a3501cb2beb2...</td>\n",
       "      <td>(patient, care, technician)</td>\n",
       "      <td>1</td>\n",
       "      <td>1</td>\n",
       "    </tr>\n",
       "    <tr>\n",
       "      <th>...</th>\n",
       "      <td>...</td>\n",
       "      <td>...</td>\n",
       "      <td>...</td>\n",
       "      <td>...</td>\n",
       "      <td>...</td>\n",
       "      <td>...</td>\n",
       "      <td>...</td>\n",
       "      <td>...</td>\n",
       "      <td>...</td>\n",
       "    </tr>\n",
       "    <tr>\n",
       "      <th>4712</th>\n",
       "      <td>Zymergen</td>\n",
       "      <td>Lab Technician II-III</td>\n",
       "      <td>Emeryville, CA</td>\n",
       "      <td>Zymergen has an exciting opportunity for a Lab...</td>\n",
       "      <td>https://www.indeed.com/cmp/Zymergen?campaignid...</td>\n",
       "      <td>https://www.indeed.com/rc/clk?jk=92fb8e44d2b15...</td>\n",
       "      <td>(lab, technician, ii, -, iii)</td>\n",
       "      <td>1</td>\n",
       "      <td>1</td>\n",
       "    </tr>\n",
       "    <tr>\n",
       "      <th>4729</th>\n",
       "      <td>DES Employment Group</td>\n",
       "      <td>Quality Assurance Technician $14.50-$15</td>\n",
       "      <td>Omaha, NE</td>\n",
       "      <td>We have an immediate opportunity for Quality T...</td>\n",
       "      <td>https://www.indeed.com/cmp/Des-Employment-Grou...</td>\n",
       "      <td>https://www.indeed.com/pagead/clk?mo=r&amp;ad=-6NY...</td>\n",
       "      <td>(quality, assurance, technician, $, 14.50-$15)</td>\n",
       "      <td>1</td>\n",
       "      <td>1</td>\n",
       "    </tr>\n",
       "    <tr>\n",
       "      <th>4775</th>\n",
       "      <td>EMCOR Facilities Services, Inc.</td>\n",
       "      <td>HVAC Technician</td>\n",
       "      <td>Austin, TX</td>\n",
       "      <td>About Us:\\nEMCOR Facilities Services, Inc. is ...</td>\n",
       "      <td>https://www.indeed.com/cmp/Emcor-Facilities-Se...</td>\n",
       "      <td>https://www.indeed.com/rc/clk?jk=5391654046800...</td>\n",
       "      <td>(hvac, technician)</td>\n",
       "      <td>1</td>\n",
       "      <td>1</td>\n",
       "    </tr>\n",
       "    <tr>\n",
       "      <th>4783</th>\n",
       "      <td>NTT Ltd</td>\n",
       "      <td>Data Center Technician L2</td>\n",
       "      <td>Ashburn, VA</td>\n",
       "      <td>At NTT we believe that by using innovative tec...</td>\n",
       "      <td>https://www.indeed.com/cmp/Ntt-6?campaignid=mo...</td>\n",
       "      <td>https://www.indeed.com/rc/clk?jk=5ee58949adef0...</td>\n",
       "      <td>(data, center, technician, l2)</td>\n",
       "      <td>1</td>\n",
       "      <td>1</td>\n",
       "    </tr>\n",
       "    <tr>\n",
       "      <th>4794</th>\n",
       "      <td>JETSTAR AVIATION</td>\n",
       "      <td>Aviation Ground Support Technician</td>\n",
       "      <td>Norfolk, VA 23518</td>\n",
       "      <td>The individuals must meet all qualifications a...</td>\n",
       "      <td>https://www.indeed.com/cmp/Jetstar-Aviation?ca...</td>\n",
       "      <td>https://www.indeed.com/company/JETSTAR-AVIATIO...</td>\n",
       "      <td>(aviation, ground, support, technician)</td>\n",
       "      <td>1</td>\n",
       "      <td>1</td>\n",
       "    </tr>\n",
       "  </tbody>\n",
       "</table>\n",
       "<p>154 rows × 9 columns</p>\n",
       "</div>"
      ],
      "text/plain": [
       "                              Company  \\\n",
       "0                 Baton Rouge General   \n",
       "159           Global Medical Response   \n",
       "189                           Aerotek   \n",
       "235         Eurofins USA Food Testing   \n",
       "288            Fresenius Medical Care   \n",
       "...                               ...   \n",
       "4712                         Zymergen   \n",
       "4729             DES Employment Group   \n",
       "4775  EMCOR Facilities Services, Inc.   \n",
       "4783                          NTT Ltd   \n",
       "4794                 JETSTAR AVIATION   \n",
       "\n",
       "                                             Job Title               Location  \\\n",
       "0     Certified Pharmacy Technician II Retail Pharmacy  Baton Rouge, LA 70809   \n",
       "159                         Avionics Technician  Depot        Ogden, UT 84405   \n",
       "189                           Refrigeration Technician        Macon, GA 31201   \n",
       "235                        Media Production Technician  Mounds View, MN 55112   \n",
       "288                            Patient Care Technician      Attalla, AL 35954   \n",
       "...                                                ...                    ...   \n",
       "4712                             Lab Technician II-III         Emeryville, CA   \n",
       "4729           Quality Assurance Technician $14.50-$15              Omaha, NE   \n",
       "4775                                   HVAC Technician             Austin, TX   \n",
       "4783                         Data Center Technician L2            Ashburn, VA   \n",
       "4794                Aviation Ground Support Technician      Norfolk, VA 23518   \n",
       "\n",
       "                                            Description  \\\n",
       "0     JOB PURPOSE OR MISSION: Assists pharmacists in...   \n",
       "159   Job Description:\\nAvionics Technician\\nIMMEDIA...   \n",
       "189   Equivalent Experience\\nDescription:\\nMaintaini...   \n",
       "235   Company Description\\nEurofins Scientific is an...   \n",
       "288   PURPOSE AND SCOPE:\\nSupports FMCNA's mission v...   \n",
       "...                                                 ...   \n",
       "4712  Zymergen has an exciting opportunity for a Lab...   \n",
       "4729  We have an immediate opportunity for Quality T...   \n",
       "4775  About Us:\\nEMCOR Facilities Services, Inc. is ...   \n",
       "4783  At NTT we believe that by using innovative tec...   \n",
       "4794  The individuals must meet all qualifications a...   \n",
       "\n",
       "                                           Company Link  \\\n",
       "0     https://www.indeed.com/cmp/Baton-Rouge-General...   \n",
       "159   https://www.indeed.com/cmp/Global-Medical-Resp...   \n",
       "189   https://www.indeed.com/cmp/Aerotek?campaignid=...   \n",
       "235   https://www.indeed.com/cmp/Eurofins?campaignid...   \n",
       "288   https://www.indeed.com/cmp/Fresenius-Medical-C...   \n",
       "...                                                 ...   \n",
       "4712  https://www.indeed.com/cmp/Zymergen?campaignid...   \n",
       "4729  https://www.indeed.com/cmp/Des-Employment-Grou...   \n",
       "4775  https://www.indeed.com/cmp/Emcor-Facilities-Se...   \n",
       "4783  https://www.indeed.com/cmp/Ntt-6?campaignid=mo...   \n",
       "4794  https://www.indeed.com/cmp/Jetstar-Aviation?ca...   \n",
       "\n",
       "                                               Job Link  \\\n",
       "0     https://www.indeed.com/rc/clk?jk=64568c71be4aa...   \n",
       "159   https://www.indeed.com/rc/clk?jk=3eaecb8ae5bcd...   \n",
       "189   https://www.indeed.com/pagead/clk?mo=r&ad=-6NY...   \n",
       "235   https://www.indeed.com/rc/clk?jk=93924f9d84075...   \n",
       "288   https://www.indeed.com/rc/clk?jk=6a3501cb2beb2...   \n",
       "...                                                 ...   \n",
       "4712  https://www.indeed.com/rc/clk?jk=92fb8e44d2b15...   \n",
       "4729  https://www.indeed.com/pagead/clk?mo=r&ad=-6NY...   \n",
       "4775  https://www.indeed.com/rc/clk?jk=5391654046800...   \n",
       "4783  https://www.indeed.com/rc/clk?jk=5ee58949adef0...   \n",
       "4794  https://www.indeed.com/company/JETSTAR-AVIATIO...   \n",
       "\n",
       "                                        Job Title Token  has_technician  \\\n",
       "0     (certified, pharmacy, technician, ii, retail, ...               1   \n",
       "159                    (avionics, technician,  , depot)               1   \n",
       "189                         (refrigeration, technician)               1   \n",
       "235                     (media, production, technician)               1   \n",
       "288                         (patient, care, technician)               1   \n",
       "...                                                 ...             ...   \n",
       "4712                      (lab, technician, ii, -, iii)               1   \n",
       "4729     (quality, assurance, technician, $, 14.50-$15)               1   \n",
       "4775                                 (hvac, technician)               1   \n",
       "4783                     (data, center, technician, l2)               1   \n",
       "4794            (aviation, ground, support, technician)               1   \n",
       "\n",
       "      noun_sum  \n",
       "0            1  \n",
       "159          1  \n",
       "189          1  \n",
       "235          1  \n",
       "288          1  \n",
       "...        ...  \n",
       "4712         1  \n",
       "4729         1  \n",
       "4775         1  \n",
       "4783         1  \n",
       "4794         1  \n",
       "\n",
       "[154 rows x 9 columns]"
      ]
     },
     "execution_count": 24,
     "metadata": {},
     "output_type": "execute_result"
    }
   ],
   "source": [
    "job_info.loc[job_info['noun_sum'] > 0]"
   ]
  },
  {
   "cell_type": "markdown",
   "id": "52637264",
   "metadata": {
    "pycharm": {
     "name": "#%% md\n"
    }
   },
   "source": [
    "## 3\n",
    "Use spacy's word vector to do Task 2. Compare the results. "
   ]
  },
  {
   "cell_type": "code",
   "execution_count": 25,
   "id": "a0e7f774",
   "metadata": {
    "pycharm": {
     "name": "#%%\n"
    }
   },
   "outputs": [
    {
     "name": "stdout",
     "output_type": "stream",
     "text": [
      "Proper noun of \"pharmacy\" decide if you want to add\n",
      "Proper noun of \"technician\" decide if you want to add\n",
      "Proper noun of \"ii\" decide if you want to add\n",
      "Proper noun of \"retail\" decide if you want to add\n",
      "Proper noun of \"pharmacy\" decide if you want to add\n"
     ]
    }
   ],
   "source": [
    "firstNounTokens = set()\n",
    "for tokens in job_info.head(1)['Job Title Token']:\n",
    "    for token in tokens:\n",
    "        if token.pos_ == 'NOUN':\n",
    "            firstNouns.add(token.lemma_)\n",
    "            print(\"NOUN\")\n",
    "        #doing this next part because improper parsing of proper nouns with the limited wordset I used\n",
    "        if token.pos_ == 'PROPN':\n",
    "            print('Proper noun of \\\"', token.lemma_, '\\\" decide if you want to add', sep='')"
   ]
  },
  {
   "cell_type": "code",
   "execution_count": 26,
   "id": "bf856901",
   "metadata": {
    "pycharm": {
     "name": "#%%\n"
    }
   },
   "outputs": [
    {
     "data": {
      "text/plain": [
       "[certified pharmacy technician ii retail pharmacy]"
      ]
     },
     "execution_count": 26,
     "metadata": {},
     "output_type": "execute_result"
    }
   ],
   "source": [
    "list(job_info['Job Title Token'].head(1))"
   ]
  },
  {
   "cell_type": "code",
   "execution_count": 27,
   "id": "23bc3803",
   "metadata": {
    "pycharm": {
     "name": "#%%\n"
    }
   },
   "outputs": [],
   "source": [
    "firstNounTokens = [job_info['Job Title Token'].head(1).iloc[0][2]]"
   ]
  },
  {
   "cell_type": "code",
   "execution_count": 28,
   "id": "170b3024",
   "metadata": {
    "pycharm": {
     "name": "#%%\n"
    }
   },
   "outputs": [],
   "source": [
    "def wordSimilarity(tokens, wordList):\n",
    "    similarSum = 0\n",
    "    for token in tokens:\n",
    "        for word in wordList:\n",
    "            similarSum += token.similarity(word)\n",
    "    #normalize to max of 1 at end, so longer sentences aren't prioritized\n",
    "    return similarSum/(len(tokens)*len(wordList))"
   ]
  },
  {
   "cell_type": "code",
   "execution_count": 29,
   "id": "2548f1e0",
   "metadata": {
    "pycharm": {
     "name": "#%%\n"
    }
   },
   "outputs": [
    {
     "name": "stderr",
     "output_type": "stream",
     "text": [
      "C:\\Users\\SLdra\\AppData\\Local\\Temp\\ipykernel_17712\\2170920182.py:5: UserWarning: [W008] Evaluating Token.similarity based on empty vectors.\n",
      "  similarSum += token.similarity(word)\n"
     ]
    }
   ],
   "source": [
    "job_info['noun_similarity'] = job_info['Job Title Token'].apply(wordSimilarity, wordList=firstNounTokens)"
   ]
  },
  {
   "cell_type": "code",
   "execution_count": 30,
   "id": "6113df10",
   "metadata": {
    "pycharm": {
     "name": "#%%\n"
    }
   },
   "outputs": [
    {
     "data": {
      "text/html": [
       "<div>\n",
       "<style scoped>\n",
       "    .dataframe tbody tr th:only-of-type {\n",
       "        vertical-align: middle;\n",
       "    }\n",
       "\n",
       "    .dataframe tbody tr th {\n",
       "        vertical-align: top;\n",
       "    }\n",
       "\n",
       "    .dataframe thead th {\n",
       "        text-align: right;\n",
       "    }\n",
       "</style>\n",
       "<table border=\"1\" class=\"dataframe\">\n",
       "  <thead>\n",
       "    <tr style=\"text-align: right;\">\n",
       "      <th></th>\n",
       "      <th>Company</th>\n",
       "      <th>Job Title</th>\n",
       "      <th>Location</th>\n",
       "      <th>Description</th>\n",
       "      <th>Company Link</th>\n",
       "      <th>Job Link</th>\n",
       "      <th>Job Title Token</th>\n",
       "      <th>has_technician</th>\n",
       "      <th>noun_sum</th>\n",
       "      <th>noun_similarity</th>\n",
       "    </tr>\n",
       "  </thead>\n",
       "  <tbody>\n",
       "    <tr>\n",
       "      <th>0</th>\n",
       "      <td>Baton Rouge General</td>\n",
       "      <td>Certified Pharmacy Technician II Retail Pharmacy</td>\n",
       "      <td>Baton Rouge, LA 70809</td>\n",
       "      <td>JOB PURPOSE OR MISSION: Assists pharmacists in...</td>\n",
       "      <td>https://www.indeed.com/cmp/Baton-Rouge-General...</td>\n",
       "      <td>https://www.indeed.com/rc/clk?jk=64568c71be4aa...</td>\n",
       "      <td>(certified, pharmacy, technician, ii, retail, ...</td>\n",
       "      <td>1</td>\n",
       "      <td>1</td>\n",
       "      <td>0.281419</td>\n",
       "    </tr>\n",
       "    <tr>\n",
       "      <th>1</th>\n",
       "      <td>Anthem</td>\n",
       "      <td>Information Security Advisor</td>\n",
       "      <td>Richmond, VA 23218</td>\n",
       "      <td>Description\\nSHIFT: Day Job\\nSCHEDULE: Full-ti...</td>\n",
       "      <td>https://www.indeed.com/cmp/Anthem,-Inc.?campai...</td>\n",
       "      <td>https://www.indeed.com/rc/clk?jk=7b12bce39025f...</td>\n",
       "      <td>(information, security, advisor)</td>\n",
       "      <td>0</td>\n",
       "      <td>0</td>\n",
       "      <td>0.105457</td>\n",
       "    </tr>\n",
       "    <tr>\n",
       "      <th>3</th>\n",
       "      <td>AVA Search Group, LLC</td>\n",
       "      <td>Plant Engineer</td>\n",
       "      <td>Janesville, WI</td>\n",
       "      <td>Plant Engineer with a growing company in South...</td>\n",
       "      <td>https://www.indeed.com/cmp/Ava-Search-Group,-L...</td>\n",
       "      <td>https://www.indeed.com/pagead/clk?mo=r&amp;ad=-6NY...</td>\n",
       "      <td>(plant, engineer)</td>\n",
       "      <td>0</td>\n",
       "      <td>0</td>\n",
       "      <td>0.216152</td>\n",
       "    </tr>\n",
       "    <tr>\n",
       "      <th>5</th>\n",
       "      <td>1st Jackpot Casino Tunica</td>\n",
       "      <td>Player Services Cashier</td>\n",
       "      <td>Robinsonville, MS 38664</td>\n",
       "      <td>Overview:\\nDon’t just work. Work Happy.\\nA car...</td>\n",
       "      <td>https://www.indeed.com/cmp/1st-Jackpot-Casino-...</td>\n",
       "      <td>https://www.indeed.com/rc/clk?jk=8130f0942ee17...</td>\n",
       "      <td>(player, services, cashier)</td>\n",
       "      <td>0</td>\n",
       "      <td>0</td>\n",
       "      <td>0.269085</td>\n",
       "    </tr>\n",
       "    <tr>\n",
       "      <th>6</th>\n",
       "      <td>Genesis Financial Solutions, Inc.</td>\n",
       "      <td>Audit Director</td>\n",
       "      <td>Beaverton, OR 97006</td>\n",
       "      <td>Overview:\\nJoin the nation’s leader in second-...</td>\n",
       "      <td>https://www.indeed.com/cmp/Genesis-Financial-S...</td>\n",
       "      <td>https://www.indeed.com/rc/clk?jk=fcfd3edebc166...</td>\n",
       "      <td>(audit, director)</td>\n",
       "      <td>0</td>\n",
       "      <td>0</td>\n",
       "      <td>0.139751</td>\n",
       "    </tr>\n",
       "    <tr>\n",
       "      <th>...</th>\n",
       "      <td>...</td>\n",
       "      <td>...</td>\n",
       "      <td>...</td>\n",
       "      <td>...</td>\n",
       "      <td>...</td>\n",
       "      <td>...</td>\n",
       "      <td>...</td>\n",
       "      <td>...</td>\n",
       "      <td>...</td>\n",
       "      <td>...</td>\n",
       "    </tr>\n",
       "    <tr>\n",
       "      <th>4796</th>\n",
       "      <td>Hanmi Bank</td>\n",
       "      <td>Loan Document Imaging Specialist</td>\n",
       "      <td>Houston, TX 77036</td>\n",
       "      <td>SUMMARY\\nThe Loan Document Imaging Specialist ...</td>\n",
       "      <td>https://www.indeed.com/cmp/Hanmi-Bank?campaign...</td>\n",
       "      <td>https://www.indeed.com/rc/clk?jk=d3000367bc0b9...</td>\n",
       "      <td>(loan, document, imaging, specialist)</td>\n",
       "      <td>0</td>\n",
       "      <td>0</td>\n",
       "      <td>0.170080</td>\n",
       "    </tr>\n",
       "    <tr>\n",
       "      <th>4798</th>\n",
       "      <td>Convera</td>\n",
       "      <td>Associate, AML Compliance</td>\n",
       "      <td>Santa Ana, CA</td>\n",
       "      <td>J\\nAssociate, Anti Money Laundering Compliance...</td>\n",
       "      <td>https://www.indeed.com/cmp/Convera?campaignid=...</td>\n",
       "      <td>https://www.indeed.com/rc/clk?jk=c540bfbb56a88...</td>\n",
       "      <td>(associate, ,, aml, compliance)</td>\n",
       "      <td>0</td>\n",
       "      <td>0</td>\n",
       "      <td>0.174346</td>\n",
       "    </tr>\n",
       "    <tr>\n",
       "      <th>4800</th>\n",
       "      <td>Royal Building Products</td>\n",
       "      <td>Associate Director-Operations</td>\n",
       "      <td>Marion, VA 24354</td>\n",
       "      <td>Royal Building Products enables you to broaden...</td>\n",
       "      <td>https://www.indeed.com/cmp/Royal-Building-Prod...</td>\n",
       "      <td>https://www.indeed.com/rc/clk?jk=de74cc8e0427b...</td>\n",
       "      <td>(associate, director, -, operations)</td>\n",
       "      <td>0</td>\n",
       "      <td>0</td>\n",
       "      <td>0.142786</td>\n",
       "    </tr>\n",
       "    <tr>\n",
       "      <th>4801</th>\n",
       "      <td>RockBridge Search &amp; Recruitment</td>\n",
       "      <td>Financial Reporting Analyst Hybrid Work Location</td>\n",
       "      <td>Charlotte, NC</td>\n",
       "      <td>Financial Reporting Analyst - Bank Regulatory ...</td>\n",
       "      <td>https://www.indeed.com/cmp/Rockbridge-Search-&amp;...</td>\n",
       "      <td>https://www.indeed.com/pagead/clk?mo=r&amp;ad=-6NY...</td>\n",
       "      <td>(financial, reporting, analyst, hybrid, work, ...</td>\n",
       "      <td>0</td>\n",
       "      <td>0</td>\n",
       "      <td>0.168726</td>\n",
       "    </tr>\n",
       "    <tr>\n",
       "      <th>4802</th>\n",
       "      <td>WorkLand Staffing</td>\n",
       "      <td>Human Resources Generalist</td>\n",
       "      <td>Spartanburg, SC</td>\n",
       "      <td>The Human Resource Generalist:\\nWill run the d...</td>\n",
       "      <td>https://www.indeed.com/cmp/Workland-Staffing?c...</td>\n",
       "      <td>https://www.indeed.com/pagead/clk?mo=r&amp;ad=-6NY...</td>\n",
       "      <td>(human, resources, generalist)</td>\n",
       "      <td>0</td>\n",
       "      <td>0</td>\n",
       "      <td>0.161813</td>\n",
       "    </tr>\n",
       "  </tbody>\n",
       "</table>\n",
       "<p>4402 rows × 10 columns</p>\n",
       "</div>"
      ],
      "text/plain": [
       "                                Company  \\\n",
       "0                   Baton Rouge General   \n",
       "1                                Anthem   \n",
       "3                 AVA Search Group, LLC   \n",
       "5             1st Jackpot Casino Tunica   \n",
       "6     Genesis Financial Solutions, Inc.   \n",
       "...                                 ...   \n",
       "4796                         Hanmi Bank   \n",
       "4798                            Convera   \n",
       "4800            Royal Building Products   \n",
       "4801    RockBridge Search & Recruitment   \n",
       "4802                  WorkLand Staffing   \n",
       "\n",
       "                                             Job Title  \\\n",
       "0     Certified Pharmacy Technician II Retail Pharmacy   \n",
       "1                         Information Security Advisor   \n",
       "3                                       Plant Engineer   \n",
       "5                              Player Services Cashier   \n",
       "6                                       Audit Director   \n",
       "...                                                ...   \n",
       "4796                  Loan Document Imaging Specialist   \n",
       "4798                         Associate, AML Compliance   \n",
       "4800                     Associate Director-Operations   \n",
       "4801  Financial Reporting Analyst Hybrid Work Location   \n",
       "4802                        Human Resources Generalist   \n",
       "\n",
       "                     Location  \\\n",
       "0       Baton Rouge, LA 70809   \n",
       "1          Richmond, VA 23218   \n",
       "3              Janesville, WI   \n",
       "5     Robinsonville, MS 38664   \n",
       "6         Beaverton, OR 97006   \n",
       "...                       ...   \n",
       "4796        Houston, TX 77036   \n",
       "4798            Santa Ana, CA   \n",
       "4800         Marion, VA 24354   \n",
       "4801            Charlotte, NC   \n",
       "4802          Spartanburg, SC   \n",
       "\n",
       "                                            Description  \\\n",
       "0     JOB PURPOSE OR MISSION: Assists pharmacists in...   \n",
       "1     Description\\nSHIFT: Day Job\\nSCHEDULE: Full-ti...   \n",
       "3     Plant Engineer with a growing company in South...   \n",
       "5     Overview:\\nDon’t just work. Work Happy.\\nA car...   \n",
       "6     Overview:\\nJoin the nation’s leader in second-...   \n",
       "...                                                 ...   \n",
       "4796  SUMMARY\\nThe Loan Document Imaging Specialist ...   \n",
       "4798  J\\nAssociate, Anti Money Laundering Compliance...   \n",
       "4800  Royal Building Products enables you to broaden...   \n",
       "4801  Financial Reporting Analyst - Bank Regulatory ...   \n",
       "4802  The Human Resource Generalist:\\nWill run the d...   \n",
       "\n",
       "                                           Company Link  \\\n",
       "0     https://www.indeed.com/cmp/Baton-Rouge-General...   \n",
       "1     https://www.indeed.com/cmp/Anthem,-Inc.?campai...   \n",
       "3     https://www.indeed.com/cmp/Ava-Search-Group,-L...   \n",
       "5     https://www.indeed.com/cmp/1st-Jackpot-Casino-...   \n",
       "6     https://www.indeed.com/cmp/Genesis-Financial-S...   \n",
       "...                                                 ...   \n",
       "4796  https://www.indeed.com/cmp/Hanmi-Bank?campaign...   \n",
       "4798  https://www.indeed.com/cmp/Convera?campaignid=...   \n",
       "4800  https://www.indeed.com/cmp/Royal-Building-Prod...   \n",
       "4801  https://www.indeed.com/cmp/Rockbridge-Search-&...   \n",
       "4802  https://www.indeed.com/cmp/Workland-Staffing?c...   \n",
       "\n",
       "                                               Job Link  \\\n",
       "0     https://www.indeed.com/rc/clk?jk=64568c71be4aa...   \n",
       "1     https://www.indeed.com/rc/clk?jk=7b12bce39025f...   \n",
       "3     https://www.indeed.com/pagead/clk?mo=r&ad=-6NY...   \n",
       "5     https://www.indeed.com/rc/clk?jk=8130f0942ee17...   \n",
       "6     https://www.indeed.com/rc/clk?jk=fcfd3edebc166...   \n",
       "...                                                 ...   \n",
       "4796  https://www.indeed.com/rc/clk?jk=d3000367bc0b9...   \n",
       "4798  https://www.indeed.com/rc/clk?jk=c540bfbb56a88...   \n",
       "4800  https://www.indeed.com/rc/clk?jk=de74cc8e0427b...   \n",
       "4801  https://www.indeed.com/pagead/clk?mo=r&ad=-6NY...   \n",
       "4802  https://www.indeed.com/pagead/clk?mo=r&ad=-6NY...   \n",
       "\n",
       "                                        Job Title Token  has_technician  \\\n",
       "0     (certified, pharmacy, technician, ii, retail, ...               1   \n",
       "1                      (information, security, advisor)               0   \n",
       "3                                     (plant, engineer)               0   \n",
       "5                           (player, services, cashier)               0   \n",
       "6                                     (audit, director)               0   \n",
       "...                                                 ...             ...   \n",
       "4796              (loan, document, imaging, specialist)               0   \n",
       "4798                    (associate, ,, aml, compliance)               0   \n",
       "4800               (associate, director, -, operations)               0   \n",
       "4801  (financial, reporting, analyst, hybrid, work, ...               0   \n",
       "4802                     (human, resources, generalist)               0   \n",
       "\n",
       "      noun_sum  noun_similarity  \n",
       "0            1         0.281419  \n",
       "1            0         0.105457  \n",
       "3            0         0.216152  \n",
       "5            0         0.269085  \n",
       "6            0         0.139751  \n",
       "...        ...              ...  \n",
       "4796         0         0.170080  \n",
       "4798         0         0.174346  \n",
       "4800         0         0.142786  \n",
       "4801         0         0.168726  \n",
       "4802         0         0.161813  \n",
       "\n",
       "[4402 rows x 10 columns]"
      ]
     },
     "execution_count": 30,
     "metadata": {},
     "output_type": "execute_result"
    }
   ],
   "source": [
    "job_info"
   ]
  },
  {
   "cell_type": "code",
   "execution_count": 31,
   "id": "8266589b",
   "metadata": {
    "pycharm": {
     "name": "#%%\n"
    }
   },
   "outputs": [
    {
     "data": {
      "text/html": [
       "<div>\n",
       "<style scoped>\n",
       "    .dataframe tbody tr th:only-of-type {\n",
       "        vertical-align: middle;\n",
       "    }\n",
       "\n",
       "    .dataframe tbody tr th {\n",
       "        vertical-align: top;\n",
       "    }\n",
       "\n",
       "    .dataframe thead th {\n",
       "        text-align: right;\n",
       "    }\n",
       "</style>\n",
       "<table border=\"1\" class=\"dataframe\">\n",
       "  <thead>\n",
       "    <tr style=\"text-align: right;\">\n",
       "      <th></th>\n",
       "      <th>has_technician</th>\n",
       "      <th>noun_sum</th>\n",
       "      <th>noun_similarity</th>\n",
       "    </tr>\n",
       "  </thead>\n",
       "  <tbody>\n",
       "    <tr>\n",
       "      <th>count</th>\n",
       "      <td>4402.000000</td>\n",
       "      <td>4402.000000</td>\n",
       "      <td>4402.000000</td>\n",
       "    </tr>\n",
       "    <tr>\n",
       "      <th>mean</th>\n",
       "      <td>0.034984</td>\n",
       "      <td>0.034984</td>\n",
       "      <td>0.153787</td>\n",
       "    </tr>\n",
       "    <tr>\n",
       "      <th>std</th>\n",
       "      <td>0.183760</td>\n",
       "      <td>0.183760</td>\n",
       "      <td>0.080515</td>\n",
       "    </tr>\n",
       "    <tr>\n",
       "      <th>min</th>\n",
       "      <td>0.000000</td>\n",
       "      <td>0.000000</td>\n",
       "      <td>-0.013787</td>\n",
       "    </tr>\n",
       "    <tr>\n",
       "      <th>25%</th>\n",
       "      <td>0.000000</td>\n",
       "      <td>0.000000</td>\n",
       "      <td>0.107133</td>\n",
       "    </tr>\n",
       "    <tr>\n",
       "      <th>50%</th>\n",
       "      <td>0.000000</td>\n",
       "      <td>0.000000</td>\n",
       "      <td>0.142998</td>\n",
       "    </tr>\n",
       "    <tr>\n",
       "      <th>75%</th>\n",
       "      <td>0.000000</td>\n",
       "      <td>0.000000</td>\n",
       "      <td>0.182121</td>\n",
       "    </tr>\n",
       "    <tr>\n",
       "      <th>max</th>\n",
       "      <td>1.000000</td>\n",
       "      <td>1.000000</td>\n",
       "      <td>1.000000</td>\n",
       "    </tr>\n",
       "  </tbody>\n",
       "</table>\n",
       "</div>"
      ],
      "text/plain": [
       "       has_technician     noun_sum  noun_similarity\n",
       "count     4402.000000  4402.000000      4402.000000\n",
       "mean         0.034984     0.034984         0.153787\n",
       "std          0.183760     0.183760         0.080515\n",
       "min          0.000000     0.000000        -0.013787\n",
       "25%          0.000000     0.000000         0.107133\n",
       "50%          0.000000     0.000000         0.142998\n",
       "75%          0.000000     0.000000         0.182121\n",
       "max          1.000000     1.000000         1.000000"
      ]
     },
     "execution_count": 31,
     "metadata": {},
     "output_type": "execute_result"
    }
   ],
   "source": [
    "job_info.describe()"
   ]
  },
  {
   "cell_type": "code",
   "execution_count": 32,
   "id": "d89b75ae",
   "metadata": {
    "pycharm": {
     "name": "#%%\n"
    }
   },
   "outputs": [
    {
     "data": {
      "text/html": [
       "<div>\n",
       "<style scoped>\n",
       "    .dataframe tbody tr th:only-of-type {\n",
       "        vertical-align: middle;\n",
       "    }\n",
       "\n",
       "    .dataframe tbody tr th {\n",
       "        vertical-align: top;\n",
       "    }\n",
       "\n",
       "    .dataframe thead th {\n",
       "        text-align: right;\n",
       "    }\n",
       "</style>\n",
       "<table border=\"1\" class=\"dataframe\">\n",
       "  <thead>\n",
       "    <tr style=\"text-align: right;\">\n",
       "      <th></th>\n",
       "      <th>Company</th>\n",
       "      <th>Job Title</th>\n",
       "      <th>Location</th>\n",
       "      <th>Description</th>\n",
       "      <th>Company Link</th>\n",
       "      <th>Job Link</th>\n",
       "      <th>Job Title Token</th>\n",
       "      <th>has_technician</th>\n",
       "      <th>noun_sum</th>\n",
       "      <th>noun_similarity</th>\n",
       "    </tr>\n",
       "  </thead>\n",
       "  <tbody>\n",
       "    <tr>\n",
       "      <th>20</th>\n",
       "      <td>United Memorial Medical Center - North Street ...</td>\n",
       "      <td>HIM Tech</td>\n",
       "      <td>Batavia, NY 14020</td>\n",
       "      <td>Maintains the security and integrity of the me...</td>\n",
       "      <td>https://www.indeed.com/cmp/St.-Lawrence-Health...</td>\n",
       "      <td>https://www.indeed.com/rc/clk?jk=cd1ed711a0abe...</td>\n",
       "      <td>(him, tech)</td>\n",
       "      <td>0</td>\n",
       "      <td>0</td>\n",
       "      <td>0.596655</td>\n",
       "    </tr>\n",
       "    <tr>\n",
       "      <th>160</th>\n",
       "      <td>DCP Midstream</td>\n",
       "      <td>Operations Tech</td>\n",
       "      <td>Lovington, NM</td>\n",
       "      <td>DCP Midstream is a Fortune 500 natural gas com...</td>\n",
       "      <td>https://www.indeed.com/cmp/Dcp-Midstream-Lp?ca...</td>\n",
       "      <td>https://www.indeed.com/rc/clk?jk=ea74ed849e4fd...</td>\n",
       "      <td>(operations, tech)</td>\n",
       "      <td>0</td>\n",
       "      <td>0</td>\n",
       "      <td>0.556115</td>\n",
       "    </tr>\n",
       "    <tr>\n",
       "      <th>189</th>\n",
       "      <td>Aerotek</td>\n",
       "      <td>Refrigeration Technician</td>\n",
       "      <td>Macon, GA 31201</td>\n",
       "      <td>Equivalent Experience\\nDescription:\\nMaintaini...</td>\n",
       "      <td>https://www.indeed.com/cmp/Aerotek?campaignid=...</td>\n",
       "      <td>https://www.indeed.com/pagead/clk?mo=r&amp;ad=-6NY...</td>\n",
       "      <td>(refrigeration, technician)</td>\n",
       "      <td>1</td>\n",
       "      <td>1</td>\n",
       "      <td>0.526821</td>\n",
       "    </tr>\n",
       "    <tr>\n",
       "      <th>417</th>\n",
       "      <td>WorkerBee's Pro</td>\n",
       "      <td>Quality Technician</td>\n",
       "      <td>Lakeland, FL 33811</td>\n",
       "      <td>The Quality Technician will be expected to per...</td>\n",
       "      <td>https://www.indeed.com/cmp/Workerbee's-Pro?cam...</td>\n",
       "      <td>https://www.indeed.com/company/WorkerBee's-Pro...</td>\n",
       "      <td>(quality, technician)</td>\n",
       "      <td>1</td>\n",
       "      <td>1</td>\n",
       "      <td>0.567625</td>\n",
       "    </tr>\n",
       "    <tr>\n",
       "      <th>437</th>\n",
       "      <td>CVS Health</td>\n",
       "      <td>Pharmacy Technician</td>\n",
       "      <td>Kent, OH 44240</td>\n",
       "      <td>Pharmacy Technician\\nPosition Summary\\nHealth ...</td>\n",
       "      <td>https://www.indeed.com/cmp/CVS-Health?campaign...</td>\n",
       "      <td>https://www.indeed.com/company/CVS-Health/jobs...</td>\n",
       "      <td>(pharmacy, technician)</td>\n",
       "      <td>1</td>\n",
       "      <td>1</td>\n",
       "      <td>0.533067</td>\n",
       "    </tr>\n",
       "    <tr>\n",
       "      <th>...</th>\n",
       "      <td>...</td>\n",
       "      <td>...</td>\n",
       "      <td>...</td>\n",
       "      <td>...</td>\n",
       "      <td>...</td>\n",
       "      <td>...</td>\n",
       "      <td>...</td>\n",
       "      <td>...</td>\n",
       "      <td>...</td>\n",
       "      <td>...</td>\n",
       "    </tr>\n",
       "    <tr>\n",
       "      <th>4061</th>\n",
       "      <td>Tait &amp; Associates, Inc.</td>\n",
       "      <td>Service Technician</td>\n",
       "      <td>Lafayette, LA</td>\n",
       "      <td>Join the TAIT Team!\\nAbout TAIT\\nWe are leader...</td>\n",
       "      <td>https://www.indeed.com/cmp/Tait-&amp;-Associates,-...</td>\n",
       "      <td>https://www.indeed.com/rc/clk?jk=a934b2659e982...</td>\n",
       "      <td>(service, technician)</td>\n",
       "      <td>1</td>\n",
       "      <td>1</td>\n",
       "      <td>0.621700</td>\n",
       "    </tr>\n",
       "    <tr>\n",
       "      <th>4158</th>\n",
       "      <td>EMCOR Facilities Services, Inc.</td>\n",
       "      <td>Commercial Maintenance Technician</td>\n",
       "      <td>McAllen, TX</td>\n",
       "      <td>About Us:\\nEMCOR Facilities Services, Inc. is ...</td>\n",
       "      <td>https://www.indeed.com/cmp/Emcor-Facilities-Se...</td>\n",
       "      <td>https://www.indeed.com/rc/clk?jk=d4df1826d96dc...</td>\n",
       "      <td>(commercial, maintenance, technician)</td>\n",
       "      <td>1</td>\n",
       "      <td>1</td>\n",
       "      <td>0.505022</td>\n",
       "    </tr>\n",
       "    <tr>\n",
       "      <th>4257</th>\n",
       "      <td>Horizon Personnel Services</td>\n",
       "      <td>Maintenance Technician</td>\n",
       "      <td>Troy, MO</td>\n",
       "      <td>Conducts all duties in a manner consistent wit...</td>\n",
       "      <td>https://www.indeed.com/cmp/Horizon-Personnel-S...</td>\n",
       "      <td>https://www.indeed.com/pagead/clk?mo=r&amp;ad=-6NY...</td>\n",
       "      <td>(maintenance, technician)</td>\n",
       "      <td>1</td>\n",
       "      <td>1</td>\n",
       "      <td>0.646218</td>\n",
       "    </tr>\n",
       "    <tr>\n",
       "      <th>4639</th>\n",
       "      <td>Unicep Packaging, LLC</td>\n",
       "      <td>Facilities Maintenance Technician</td>\n",
       "      <td>Spokane, WA 99224</td>\n",
       "      <td>The Facilities Maintenance Technician is respo...</td>\n",
       "      <td>https://www.indeed.com/cmp/Unicep-Packaging,-L...</td>\n",
       "      <td>https://www.indeed.com/pagead/clk?mo=r&amp;ad=-6NY...</td>\n",
       "      <td>(facilities, maintenance, technician)</td>\n",
       "      <td>1</td>\n",
       "      <td>1</td>\n",
       "      <td>0.528291</td>\n",
       "    </tr>\n",
       "    <tr>\n",
       "      <th>4775</th>\n",
       "      <td>EMCOR Facilities Services, Inc.</td>\n",
       "      <td>HVAC Technician</td>\n",
       "      <td>Austin, TX</td>\n",
       "      <td>About Us:\\nEMCOR Facilities Services, Inc. is ...</td>\n",
       "      <td>https://www.indeed.com/cmp/Emcor-Facilities-Se...</td>\n",
       "      <td>https://www.indeed.com/rc/clk?jk=5391654046800...</td>\n",
       "      <td>(hvac, technician)</td>\n",
       "      <td>1</td>\n",
       "      <td>1</td>\n",
       "      <td>0.534408</td>\n",
       "    </tr>\n",
       "  </tbody>\n",
       "</table>\n",
       "<p>67 rows × 10 columns</p>\n",
       "</div>"
      ],
      "text/plain": [
       "                                                Company  \\\n",
       "20    United Memorial Medical Center - North Street ...   \n",
       "160                                       DCP Midstream   \n",
       "189                                             Aerotek   \n",
       "417                                     WorkerBee's Pro   \n",
       "437                                          CVS Health   \n",
       "...                                                 ...   \n",
       "4061                            Tait & Associates, Inc.   \n",
       "4158                    EMCOR Facilities Services, Inc.   \n",
       "4257                         Horizon Personnel Services   \n",
       "4639                              Unicep Packaging, LLC   \n",
       "4775                    EMCOR Facilities Services, Inc.   \n",
       "\n",
       "                              Job Title            Location  \\\n",
       "20                             HIM Tech   Batavia, NY 14020   \n",
       "160                     Operations Tech       Lovington, NM   \n",
       "189            Refrigeration Technician     Macon, GA 31201   \n",
       "417                  Quality Technician  Lakeland, FL 33811   \n",
       "437                 Pharmacy Technician      Kent, OH 44240   \n",
       "...                                 ...                 ...   \n",
       "4061                 Service Technician       Lafayette, LA   \n",
       "4158  Commercial Maintenance Technician         McAllen, TX   \n",
       "4257             Maintenance Technician            Troy, MO   \n",
       "4639  Facilities Maintenance Technician   Spokane, WA 99224   \n",
       "4775                    HVAC Technician          Austin, TX   \n",
       "\n",
       "                                            Description  \\\n",
       "20    Maintains the security and integrity of the me...   \n",
       "160   DCP Midstream is a Fortune 500 natural gas com...   \n",
       "189   Equivalent Experience\\nDescription:\\nMaintaini...   \n",
       "417   The Quality Technician will be expected to per...   \n",
       "437   Pharmacy Technician\\nPosition Summary\\nHealth ...   \n",
       "...                                                 ...   \n",
       "4061  Join the TAIT Team!\\nAbout TAIT\\nWe are leader...   \n",
       "4158  About Us:\\nEMCOR Facilities Services, Inc. is ...   \n",
       "4257  Conducts all duties in a manner consistent wit...   \n",
       "4639  The Facilities Maintenance Technician is respo...   \n",
       "4775  About Us:\\nEMCOR Facilities Services, Inc. is ...   \n",
       "\n",
       "                                           Company Link  \\\n",
       "20    https://www.indeed.com/cmp/St.-Lawrence-Health...   \n",
       "160   https://www.indeed.com/cmp/Dcp-Midstream-Lp?ca...   \n",
       "189   https://www.indeed.com/cmp/Aerotek?campaignid=...   \n",
       "417   https://www.indeed.com/cmp/Workerbee's-Pro?cam...   \n",
       "437   https://www.indeed.com/cmp/CVS-Health?campaign...   \n",
       "...                                                 ...   \n",
       "4061  https://www.indeed.com/cmp/Tait-&-Associates,-...   \n",
       "4158  https://www.indeed.com/cmp/Emcor-Facilities-Se...   \n",
       "4257  https://www.indeed.com/cmp/Horizon-Personnel-S...   \n",
       "4639  https://www.indeed.com/cmp/Unicep-Packaging,-L...   \n",
       "4775  https://www.indeed.com/cmp/Emcor-Facilities-Se...   \n",
       "\n",
       "                                               Job Link  \\\n",
       "20    https://www.indeed.com/rc/clk?jk=cd1ed711a0abe...   \n",
       "160   https://www.indeed.com/rc/clk?jk=ea74ed849e4fd...   \n",
       "189   https://www.indeed.com/pagead/clk?mo=r&ad=-6NY...   \n",
       "417   https://www.indeed.com/company/WorkerBee's-Pro...   \n",
       "437   https://www.indeed.com/company/CVS-Health/jobs...   \n",
       "...                                                 ...   \n",
       "4061  https://www.indeed.com/rc/clk?jk=a934b2659e982...   \n",
       "4158  https://www.indeed.com/rc/clk?jk=d4df1826d96dc...   \n",
       "4257  https://www.indeed.com/pagead/clk?mo=r&ad=-6NY...   \n",
       "4639  https://www.indeed.com/pagead/clk?mo=r&ad=-6NY...   \n",
       "4775  https://www.indeed.com/rc/clk?jk=5391654046800...   \n",
       "\n",
       "                            Job Title Token  has_technician  noun_sum  \\\n",
       "20                              (him, tech)               0         0   \n",
       "160                      (operations, tech)               0         0   \n",
       "189             (refrigeration, technician)               1         1   \n",
       "417                   (quality, technician)               1         1   \n",
       "437                  (pharmacy, technician)               1         1   \n",
       "...                                     ...             ...       ...   \n",
       "4061                  (service, technician)               1         1   \n",
       "4158  (commercial, maintenance, technician)               1         1   \n",
       "4257              (maintenance, technician)               1         1   \n",
       "4639  (facilities, maintenance, technician)               1         1   \n",
       "4775                     (hvac, technician)               1         1   \n",
       "\n",
       "      noun_similarity  \n",
       "20           0.596655  \n",
       "160          0.556115  \n",
       "189          0.526821  \n",
       "417          0.567625  \n",
       "437          0.533067  \n",
       "...               ...  \n",
       "4061         0.621700  \n",
       "4158         0.505022  \n",
       "4257         0.646218  \n",
       "4639         0.528291  \n",
       "4775         0.534408  \n",
       "\n",
       "[67 rows x 10 columns]"
      ]
     },
     "execution_count": 32,
     "metadata": {},
     "output_type": "execute_result"
    }
   ],
   "source": [
    "job_info.query('noun_similarity > 0.5')"
   ]
  },
  {
   "cell_type": "markdown",
   "id": "056da64d",
   "metadata": {
    "pycharm": {
     "name": "#%% md\n"
    }
   },
   "source": [
    "Overall the word2vec method provides more granular data, and has the potential of determining that a job is similar to another job even if the exact same words aren't used. However, it is difficult to adjust for the effect of longer sentences, because those provide for the opportunity for more matches (and thus a higher score), but if the score is normalized based on the length of the sentence then shorter sentences with just the exact matches are prioritized."
   ]
  },
  {
   "cell_type": "markdown",
   "id": "6a4922ce",
   "metadata": {
    "pycharm": {
     "name": "#%% md\n"
    }
   },
   "source": [
    "## Bonus task 1\n",
    "Do task 3 for both the nouns and the adjectives in the title. Combine the similarity values from comparing the nouns and from comparing the adjectives, and find jobs in your cleaned dataframe that are similar to your primary string in the combined setting. Compare the results with what you get from Task 3."
   ]
  },
  {
   "cell_type": "markdown",
   "id": "5bdc7eda",
   "metadata": {
    "pycharm": {
     "name": "#%% md\n"
    }
   },
   "source": [
    "I plan to do these bonus tasks on my own time, because its been a busy few weeks for me. Probably won't turn them in as I'm doing them for the learning not for the points, but thanks for these tasks they definitely are helping me further develop my data analytics skills."
   ]
  }
 ],
 "metadata": {
  "kernelspec": {
   "display_name": "Python 3 (ipykernel)",
   "language": "python",
   "name": "python3"
  },
  "language_info": {
   "codemirror_mode": {
    "name": "ipython",
    "version": 3
   },
   "file_extension": ".py",
   "mimetype": "text/x-python",
   "name": "python",
   "nbconvert_exporter": "python",
   "pygments_lexer": "ipython3",
   "version": "3.8.13"
  }
 },
 "nbformat": 4,
 "nbformat_minor": 5
}