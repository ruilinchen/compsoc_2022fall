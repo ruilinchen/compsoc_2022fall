{
 "cells": [
  {
   "cell_type": "markdown",
   "source": [
    "### Set up packages and data"
   ],
   "metadata": {
    "collapsed": false,
    "pycharm": {
     "name": "#%% md\n"
    }
   }
  },
  {
   "cell_type": "code",
   "execution_count": 3,
   "outputs": [],
   "source": [
    "import os\n",
    "import pandas as pd\n",
    "import spacy\n",
    "import numpy as np\n",
    "import statistics as stat\n",
    "\n",
    "from tqdm import tqdm\n",
    "from scipy.spatial.distance import cosine\n",
    "\n",
    "# setup\n",
    "os.chdir('C:\\\\Users\\\\User\\\\OneDrive\\\\School\\\\2022\\\\compSoc\\\\Assignments\\\\data\\\\ind\\\\j_info')\n",
    "cls = lambda: os.system('cls')\n",
    "nlp = spacy.load('en_core_web_md')\n",
    "\n",
    "# load data and take out corpus of text we are examining\n",
    "df = pd.read_csv('indeed_20220522.csv', low_memory=False)\n",
    "job_titles = df.job_title.str.lower().tolist()\n",
    "job_des = df.job_description.str.lower().tolist()"
   ],
   "metadata": {
    "collapsed": false,
    "pycharm": {
     "name": "#%%\n"
    }
   }
  },
  {
   "cell_type": "markdown",
   "source": [
    "### Q13.1"
   ],
   "metadata": {
    "collapsed": false,
    "pycharm": {
     "name": "#%% md\n"
    }
   }
  },
  {
   "cell_type": "code",
   "execution_count": 4,
   "outputs": [
    {
     "name": "stderr",
     "output_type": "stream",
     "text": [
      "100%|████████████████████████████████████████████████| 2541/2541 [00:14<00:00, 175.49it/s]\n"
     ]
    },
    {
     "name": "stdout",
     "output_type": "stream",
     "text": [
      "List of phrases contains 1759 unique ['NOUN', 'PROPN']\n"
     ]
    },
    {
     "name": "stderr",
     "output_type": "stream",
     "text": [
      "100%|████████████████████████████████████████████████| 2541/2541 [00:14<00:00, 175.84it/s]"
     ]
    },
    {
     "name": "stdout",
     "output_type": "stream",
     "text": [
      "List of phrases contains 295 unique ['ADJ']\n"
     ]
    },
    {
     "name": "stderr",
     "output_type": "stream",
     "text": [
      "\n"
     ]
    }
   ],
   "source": [
    "# function returns two outputs\n",
    "# output 0 is a vocab containing a list of unique words (of specific pos_)\n",
    "# output 1 is a list of sub-lists, each sublist contains all the word of specific pos_ designated\n",
    "# output 2 is a list of phrases/doc that has empty sub-lists from output 1.\n",
    "# output 2 is important because:\n",
    "# (a) we want to examine what slips through the cracks when no context is presented (e.g. 'cook' as both verb and noun);\n",
    "# (b) because this distorts our cosine calculation later since cosine of any array with a zero array will be 0\n",
    "\n",
    "def get_dict(phrase_list, pos):\n",
    "    ll_pos = []\n",
    "    no_pos = []\n",
    "    for phrase in tqdm(phrase_list, ncols=90):\n",
    "        l_pos = []\n",
    "        for t in nlp(phrase):\n",
    "            if t.pos_ in pos:\n",
    "                l_pos.append(t.lemma_.lower())\n",
    "        ll_pos.append(l_pos)\n",
    "        if len(l_pos) == 0:\n",
    "            no_pos.append(phrase)\n",
    "    vocab_list = list(set().union(*[set(x) for x in ll_pos]))\n",
    "    print(f\"List of phrases contains {len(vocab_list)} unique {pos}\")\n",
    "    return vocab_list, ll_pos, no_pos\n",
    "\n",
    "nv = get_dict(job_titles, ['NOUN', 'PROPN'])[0]\n",
    "av = get_dict(job_titles, ['ADJ'])[0]"
   ],
   "metadata": {
    "collapsed": false,
    "pycharm": {
     "name": "#%%\n"
    }
   }
  },
  {
   "cell_type": "code",
   "execution_count": 7,
   "outputs": [
    {
     "name": "stdout",
     "output_type": "stream",
     "text": [
      "['assistance', 'ward', 'sanitation', 'patient', 'exec', 'analytic', 'conservatory', 'plan', 'institute', '3.5k', 'environmental', 'ilst', 'handler', 'act', 'giver', 'fitter', 'e&s', 'peo', 'ehs', 'faculty']\n",
      "['industrial', 'employment', 'front', 'physical', 'hmda', 'flexible', 'sterile', 'patient', 'private', 'powered', 'aseptic', '*', 'environmental', 'non', 'interventional', 'vernal', 'standby', 'inbound', 'outside', 'microbial']\n"
     ]
    }
   ],
   "source": [
    "print(nv[:20])\n",
    "print(av[:20])"
   ],
   "metadata": {
    "collapsed": false,
    "pycharm": {
     "name": "#%%\n"
    }
   }
  },
  {
   "cell_type": "markdown",
   "source": [
    "There are 1759 nouns in the vocabulary and 295 for adjectives. Already we can see potential imprecision in this sample lists, where \"environmental\" can be considered a noun or proper noun and \"employment\" as an adjective. This speaks to the lack of information / context surrounding these words, making it harder for exact identification. In terms of helpfulness, the noun list is somewhwat useful in signifying the types of work, location, or customers; while the adj list is more on the characteristics of the job or required for it, if only crusory. This is not enough for a meaningful analysis yet."
   ],
   "metadata": {
    "collapsed": false,
    "pycharm": {
     "name": "#%% md\n"
    }
   }
  },
  {
   "cell_type": "markdown",
   "source": [
    "### Q13.2"
   ],
   "metadata": {
    "collapsed": false,
    "pycharm": {
     "name": "#%% md\n"
    }
   }
  },
  {
   "cell_type": "code",
   "execution_count": 8,
   "outputs": [
    {
     "name": "stderr",
     "output_type": "stream",
     "text": [
      "100%|████████████████████████████████████████████████| 2541/2541 [00:14<00:00, 175.20it/s]\n"
     ]
    },
    {
     "name": "stdout",
     "output_type": "stream",
     "text": [
      "List of phrases contains 1759 unique ['NOUN', 'PROPN']\n"
     ]
    },
    {
     "name": "stderr",
     "output_type": "stream",
     "text": [
      "100%|████████████████████████████████████████████████| 2541/2541 [00:13<00:00, 182.93it/s]\n"
     ]
    },
    {
     "name": "stdout",
     "output_type": "stream",
     "text": [
      "List of phrases contains 1759 unique ['NOUN', 'PROPN']\n"
     ]
    },
    {
     "name": "stderr",
     "output_type": "stream",
     "text": [
      "100%|██████████████████████████████████████████████| 2541/2541 [00:00<00:00, 19267.72it/s]\n"
     ]
    },
    {
     "name": "stdout",
     "output_type": "stream",
     "text": [
      "Matrix of encoded ['NOUN', 'PROPN'] by one-hot encoding created\n",
      "Matrix shape: (2541, 1759)\n"
     ]
    },
    {
     "name": "stderr",
     "output_type": "stream",
     "text": [
      "100%|████████████████████████████████████████████████| 2541/2541 [00:13<00:00, 182.67it/s]\n"
     ]
    },
    {
     "name": "stdout",
     "output_type": "stream",
     "text": [
      "List of phrases contains 1759 unique ['NOUN', 'PROPN']\n"
     ]
    },
    {
     "name": "stderr",
     "output_type": "stream",
     "text": [
      "100%|██████████████████████████████████████████████| 2541/2541 [00:00<00:00, 23929.94it/s]\n"
     ]
    }
   ],
   "source": [
    "# function returns the one hot encoding matrix for all the entries in a list of phrases/docs\n",
    "# here I use the list of sub-lists instead of the actual job title so I don't have to check token.pos_ again\n",
    "\n",
    "def pos_ohencoding(phrase_list, pos):\n",
    "    pos_ohencoding_list = []\n",
    "    pos_vocab, pos_entries = get_dict(phrase_list, pos)[0], get_dict(phrase_list, pos)[1]\n",
    "    for entry in tqdm(pos_entries, ncols=90):\n",
    "        ohencoding = np.zeros(len(pos_vocab))\n",
    "        bin_words = []\n",
    "        for pos_word in entry:\n",
    "            index = pos_vocab.index(pos_word)\n",
    "            bin_words.append(index)\n",
    "        for i in bin_words:\n",
    "            ohencoding[i] = 1\n",
    "        pos_ohencoding_list.append(ohencoding)\n",
    "    print(f\"Matrix of encoded {pos} by one-hot encoding created\\n\"\n",
    "        f\"Matrix shape: {np.array(pos_ohencoding_list).shape}\")\n",
    "    return pos_ohencoding_list\n",
    "\n",
    "\n",
    "# function calculates the cosine distance between two phrases/docs, returns a dictionary\n",
    "# the key is the index in the original list and the value is the distance to the chosen phrase\n",
    "# this function makes use of the empty lists for job title (no word of type pos_ identified in the title)\n",
    "# for these titles, the distance is set to 1.0 (max), since if we calculate the cosine normally, they will actually be 0.0, leading to the wrong interpretation\n",
    "\n",
    "def get_oh_similarity(phrase_list, primary_index, pos):\n",
    "    ohsimilarity = {}\n",
    "    pos_encoding = pos_ohencoding(phrase_list, pos)\n",
    "    no_pos = get_dict(phrase_list, pos)[2]\n",
    "    for k in tqdm(range(len(phrase_list)), ncols=90):\n",
    "        if phrase_list[k] in no_pos:\n",
    "            ohsimilarity[k] = 0.0\n",
    "        else:\n",
    "            p2k_distance = cosine(pos_encoding[primary_index], pos_encoding[k])\n",
    "            ohsimilarity[k] = 1 - p2k_distance\n",
    "    return ohsimilarity\n",
    "\n",
    "\n",
    "title_ohnoun0 = get_oh_similarity(job_titles, 0, ['NOUN', 'PROPN'])"
   ],
   "metadata": {
    "collapsed": false,
    "pycharm": {
     "name": "#%%\n"
    }
   }
  },
  {
   "cell_type": "code",
   "execution_count": 9,
   "outputs": [],
   "source": [
    "# this function sorts the dictionationary so the most similar job based on our encoding.\n",
    "# the key for this function can be chosen to make it more meaningful than just an index number\n",
    "\n",
    "def sort_and_show(d, key_list, number):\n",
    "    sorted_dict = {key_list[i] : d[i] for i in sorted(d, key=d.get, reverse=True)}\n",
    "    show = list(sorted_dict.items())[:number]\n",
    "    print(f\"Showing first {number} items:\\n{show}\")\n",
    "    return show"
   ],
   "metadata": {
    "collapsed": false,
    "pycharm": {
     "name": "#%%\n"
    }
   }
  },
  {
   "cell_type": "code",
   "execution_count": 10,
   "outputs": [
    {
     "name": "stdout",
     "output_type": "stream",
     "text": [
      "Showing first 30 items:\n",
      "[('certified pharmacy technician ii -retail pharmacy', 1), ('pharmacy technician', 0.7071067811865475), ('nationally certified pharmacy technician', 0.7071067811865475), ('safety technician ii', 0.5773502691896257), ('lab technician ii-iii', 0.5773502691896257), ('pharmacy pos billing technician', 0.5), ('administrative technician', 0.5), ('regulatory technician', 0.5), ('environmental technician', 0.5), ('sharps technician', 0.5), ('quality control technician ii', 0.5), ('pharmacy technician (part-time) *south philadelphia*', 0.408248290463863), ('accountant ii', 0.35355339059327373), ('i&e technician', 0.35355339059327373), ('irb analyst ii', 0.35355339059327373), ('refrigeration technician', 0.35355339059327373), ('quality technician', 0.35355339059327373), ('engineer ii, molding', 0.35355339059327373), ('survey technician', 0.35355339059327373), ('commercial maintenance technician', 0.35355339059327373), ('service technician', 0.35355339059327373), ('registered nurse ii', 0.35355339059327373), ('inspector ii', 0.35355339059327373), ('metrology technician', 0.35355339059327373), ('cad technician', 0.35355339059327373), ('teller ii', 0.35355339059327373), ('telemetry technician', 0.35355339059327373), ('field technician', 0.35355339059327373), ('biomedical equipment technician i', 0.35355339059327373), ('floor technician', 0.35355339059327373)]\n"
     ]
    }
   ],
   "source": [
    "title_ohnoun0_s = sort_and_show(title_ohnoun0, job_titles, 30)"
   ],
   "metadata": {
    "collapsed": false,
    "pycharm": {
     "name": "#%%\n"
    }
   }
  },
  {
   "cell_type": "markdown",
   "source": [
    "As we can see, one_hot encoding leads to a list of jobs with similar names"
   ],
   "metadata": {
    "collapsed": false,
    "pycharm": {
     "name": "#%% md\n"
    }
   }
  },
  {
   "cell_type": "markdown",
   "source": [
    "### Q13.3"
   ],
   "metadata": {
    "collapsed": false,
    "pycharm": {
     "name": "#%% md\n"
    }
   }
  },
  {
   "cell_type": "code",
   "execution_count": 19,
   "outputs": [
    {
     "name": "stderr",
     "output_type": "stream",
     "text": [
      "100%|████████████████████████████████████████████████| 2541/2541 [00:14<00:00, 180.20it/s]\n"
     ]
    },
    {
     "name": "stdout",
     "output_type": "stream",
     "text": [
      "List of phrases contains 1759 unique ['NOUN', 'PROPN']\n"
     ]
    },
    {
     "name": "stderr",
     "output_type": "stream",
     "text": [
      "  7%|███▎                                              | 170/2541 [00:01<00:25, 92.86it/s]C:\\Users\\User\\AppData\\Local\\Temp\\ipykernel_15560\\2325020499.py:21: UserWarning: [W008] Evaluating Doc.similarity based on empty vectors.\n",
      "  similarity[j] = prime.similarity(target)\n",
      "100%|█████████████████████████████████████████████████| 2541/2541 [00:27<00:00, 92.26it/s]"
     ]
    },
    {
     "name": "stdout",
     "output_type": "stream",
     "text": [
      "Showing first 30 items:\n",
      "[('certified pharmacy technician ii -retail pharmacy', 1.0), ('compliance specialist ii', 0.8689367102068929), ('coding specialist ii', 0.8675952858827413), ('safety technician ii', 0.8638825839247628), ('lab technician ii-iii', 0.8582232140953252), ('charge nurse ii', 0.8516040532068991), ('administrative services coordinator ii', 0.8449968135823515), ('clin rsch coord ii - emergency medicine', 0.8449081062392644), ('registered nurse ii', 0.8439622428051579), ('contract specialist ii', 0.8433489072122476), ('administrative assistant ii', 0.8428500989066926), ('qc a/ii chemist i', 0.8407057899440931), ('accountant ii', 0.8382220416723224), ('counsel ii, product', 0.8381752160777542), ('environmental inspector ii', 0.8362711982588467), ('financial services officer ii', 0.8350973817670132), ('microbiologist ii', 0.8335090092794141), ('clinical research associate ii (remote)', 0.8309790318622134), ('regulatory affairs specialist ii', 0.8307204794395902), ('deposit operations specialist ii', 0.8299835118527286), ('clinical translational research coordinator ii', 0.8283125116856892), ('clinical research coord ii', 0.8277666193019156), ('inspector ii', 0.8269654441610009), ('microbiologist ii/iii', 0.8269515987850415), ('manufacturing associate ii', 0.8240842646561642), ('quality engineer ii', 0.8233492572665569), ('supervisor plant ii', 0.8212011681724362), ('engineer ii, molding', 0.8203731023776735), ('psychiatrist iii', 0.819115409291986), ('production associate ii', 0.8138042452266088)]\n"
     ]
    },
    {
     "name": "stderr",
     "output_type": "stream",
     "text": [
      "\n"
     ]
    }
   ],
   "source": [
    "# function to get similarity table for a specific phrase based on a specific type of pos_\n",
    "# function makes use of the native similarity attribute that spacy has at both the token and doc level\n",
    "# the doc.similary calculation is using cosine distance with doc.vector calculated by default as the average of token.vector\n",
    "# what this code is doing is converting sub-lists (of word of specific pos_) for each job title into a string, and use said string as an nlp doc\n",
    "# it then calculates the similarity with other titles\n",
    "# outputs a sorted dictionary, key: job title entry, value: similarity with selected title, shows the first 30 items\n",
    "# the empty list from the first function is not needed here because similarity() already detectes empty vectors and spits out a warning\n",
    "\n",
    "def get_vec_similarity(phrase_list, primary_index, pos):\n",
    "    ll_pos = get_dict(phrase_list, pos)[1]\n",
    "    doc_list = []\n",
    "    similarity = {}\n",
    "    for l in ll_pos:\n",
    "        doc = ''\n",
    "        for pos in l:\n",
    "            doc += f'{pos} '\n",
    "        doc_list.append(doc)\n",
    "    for j in tqdm(range(len(doc_list)), ncols=90):\n",
    "        prime = nlp(doc_list[primary_index])\n",
    "        target = nlp(doc_list[j])\n",
    "        similarity[j] = prime.similarity(target)\n",
    "    return similarity\n",
    "\n",
    "\n",
    "title_vnoun0 = get_vec_similarity(job_titles, 0, ['NOUN', 'PROPN'])\n",
    "title_vnoun0_s = sort_and_show(title_vnoun0, job_titles, 30)"
   ],
   "metadata": {
    "collapsed": false,
    "pycharm": {
     "name": "#%%\n"
    }
   }
  },
  {
   "cell_type": "markdown",
   "source": [
    "The results from using token.vector with the 'en_core_web_md' package here returned rather different results from the one-hot encoding, where words are more matched. Here the nature of the job - specialized seems to bre more of an emphasis."
   ],
   "metadata": {
    "collapsed": false,
    "pycharm": {
     "name": "#%% md\n"
    }
   }
  },
  {
   "cell_type": "markdown",
   "source": [
    "### Bonus 1"
   ],
   "metadata": {
    "collapsed": false,
    "pycharm": {
     "name": "#%% md\n"
    }
   }
  },
  {
   "cell_type": "code",
   "execution_count": 23,
   "outputs": [
    {
     "name": "stderr",
     "output_type": "stream",
     "text": [
      "100%|████████████████████████████████████████████████| 2541/2541 [00:14<00:00, 175.93it/s]\n"
     ]
    },
    {
     "name": "stdout",
     "output_type": "stream",
     "text": [
      "List of phrases contains 1759 unique ['NOUN', 'PROPN']\n"
     ]
    },
    {
     "name": "stderr",
     "output_type": "stream",
     "text": [
      "  7%|███▍                                              | 176/2541 [00:01<00:25, 94.16it/s]C:\\Users\\User\\AppData\\Local\\Temp\\ipykernel_15560\\2325020499.py:21: UserWarning: [W008] Evaluating Doc.similarity based on empty vectors.\n",
      "  similarity[j] = prime.similarity(target)\n",
      "100%|█████████████████████████████████████████████████| 2541/2541 [00:27<00:00, 92.83it/s]\n",
      "100%|████████████████████████████████████████████████| 2541/2541 [00:14<00:00, 175.47it/s]\n"
     ]
    },
    {
     "name": "stdout",
     "output_type": "stream",
     "text": [
      "List of phrases contains 295 unique ['ADJ']\n"
     ]
    },
    {
     "name": "stderr",
     "output_type": "stream",
     "text": [
      "100%|████████████████████████████████████████████████| 2541/2541 [00:18<00:00, 137.82it/s]"
     ]
    },
    {
     "name": "stdout",
     "output_type": "stream",
     "text": [
      "Showing first 50 items:\n",
      "[('associate director learning management systems', 1.0), ('director of facilities management', 0.9225263524381729), ('director, quality systems', 0.9094947487418392), ('program manager system standard maintenance', 0.902586885936833), ('information systems compliance manager', 0.8938763662111235), ('system analyst principal', 0.8807686788776851), ('financial management internal controls senior consultant', 0.8786112026274142), ('global regulatory operations manager - submission management', 0.8785708727143294), ('compounding system manager', 0.8765307799170696), ('flight operations system operations control (soc) system support program manager', 0.8760064564852429), ('utilization management specialist', 0.8726809515570867), ('senior director quality management oversight', 0.8710902406177955), ('director, quality management', 0.8696058586730893), ('quality management medical director', 0.8696058545103785), ('manager facilities management', 0.8694130835724746), ('senior director, planning and implementation', 0.8682296559043036), ('senior project engineer - program integration manager', 0.8679280643171989), ('ccb - control management - digital control director', 0.8674850449981631), ('manager, quality systems', 0.8650381711735747), ('director, clinical data management', 0.8639743003849117), ('information technology (it) director', 0.8618731332183018), ('is business systems analyst', 0.8614620490466439), ('business systems analyst', 0.8614620490466439), ('director, compliance governance', 0.8596917270701615), ('director, quality management & performance improvement', 0.8579708312254726), ('director, q&r product development - remote eligible', 0.8577659158107197), ('claims implementation program manager - telecommute', 0.8571165516889301), ('program manager iii, integrated programs & systems improvement (telehealth)', 0.8556954223360385), ('program development administrator', 0.8551653319585579), ('community operations director', 0.855026128810256), ('director pharmacy informatics and automation', 0.8546443312539823), ('director program rehabilitation', 0.8524570328705069), ('process control systems specialist', 0.8519139636554234), ('stability program manager', 0.85094482744351), ('manager i&t computerized system assurance operations team', 0.8502295964309735), ('director quality management - palomar health rehabilitation institute', 0.8488070111905189), ('regulatory project management', 0.8457058021147871), ('director of strategic development', 0.845204586325526), ('transportation operations manager', 0.8447969368228182), ('associate director of validation - utilities & facilities (bio/pharma)', 0.8446087761612414), ('design & project management (dpm) policy advisor', 0.8441681488505721), ('director – operations', 0.8440587858755837), ('director, technical operations', 0.8440587858755837), ('director of operations', 0.8440587858755837), ('associate director-operations', 0.8440587858755837), ('director, tmf operations', 0.8440587506100908), ('psm refrigeration & facilities manager', 0.8432358782196617), ('director of finance, global service center', 0.8426714580479922), ('controls manager - core systems', 0.8423413304654661), ('senior manager, human resources and administration', 0.8418057344047468)]\n",
      "Showing first 50 items:\n",
      "[('associate director learning management systems', 1.0), ('associate director of finance', 1.0), ('associate director of validation - utilities & facilities (bio/pharma)', 1.0), ('associate manager, quality management', 1.0), ('associate store manager', 1.0), ('associate sample preparation technician', 1.0), ('associate director, post market engineering', 1.0), ('associate contract administrator', 1.0), ('associate director, contracts', 1.0), ('associate director of transportation', 1.0), ('associate director, quality assurance', 1.0), ('associate director, audits and inspections program', 1.0), ('associate director, gmp quality training', 1.0), ('associate technician it desktop support', 1.0), ('associate, aml compliance', 1.0), ('associate compliance', 1.0), ('associate director of advancement services', 1.0), ('associate director-operations', 1.0), ('produce associate team leader (assistant department manager)', 0.9013647755622589), ('associate customer success representative credit card', 0.8976456392083602), ('associate executive director', 0.8715803159481684), ('associate general counsel', 0.8406613664537032), ('associate director, developmental quality', 0.8361336349025748), ('associate personal banker (safe) - west seattle', 0.8246793562226333), ('associate personal banker - wilson & adams', 0.8246793562226333), ('associate personal banker -chapel hill', 0.8246793562226333), ('senior associate scientist, purification process development', 0.7991389459493974), ('associate director/director of nonclinical development (toxicology)', 0.7908706517812888), ('associate director, clinical quality assurance', 0.7908706517812888), ('associate/senior associate, fs regulatory & compliance - consumer compliance banking', 0.7842800452099489), ('(senior) associate regulatory cmc - innovative biologics', 0.7625708830259198), ('vice president, associate general counsel – regulatory affairs', 0.7611969735721537), ('associate manager, veterinary public health', 0.7390762599674939), ('associate director global trial management', 0.7067149453269238), ('vp, assistant general counsel - business banking', 0.6997199469314372), ('assistant general manager (sfo)', 0.6997199469314372), ('vp, assistant general counsel - u.s. bank regulatory', 0.6997199469314372), ('associate, retail channel (operational support)', 0.6993067582430301), ('executive director-exec dir board of behavioral health & therapy', 0.6881698421665098), ('senior principal environmental planner', 0.6786540427529242), ('assistant clinical research coordinator', 0.6752275302476228), ('assistant director of clinical services', 0.6752275302476228), ('associate human resources generalist', 0.6672989227849655), ('assistant nurse manager - uicc family medicine', 0.663826180666988), ('assistant restaurant manager', 0.663826180666988), ('assistant director of nursing rn $5,000 sign on bonus', 0.663826180666988), ('assistant director of nursing', 0.663826180666988), ('assistant service center manager', 0.663826180666988), ('assistant branch manager', 0.663826180666988), ('assistant director of nursing (adon)', 0.663826180666988)]\n",
      "Showing first 50 items:\n",
      "[('associate director learning management systems', 1.0), ('associate director of validation - utilities & facilities (bio/pharma)', 0.9223043880806208), ('associate director-operations', 0.9220293929377918), ('associate director of transportation', 0.9192583213139215), ('associate director of advancement services', 0.9176618185952389), ('associate manager, quality management', 0.907742901220743), ('associate director, audits and inspections program', 0.8988802437368415), ('associate director of finance', 0.898456646487028), ('associate director, quality assurance', 0.882730325402177), ('associate director, post market engineering', 0.8783419035074274), ('associate director, contracts', 0.8725342914850779), ('associate contract administrator', 0.8655663286706334), ('associate compliance', 0.8528437660351551), ('associate technician it desktop support', 0.8355687237786775), ('associate sample preparation technician', 0.8262064379965234), ('associate director, gmp quality training', 0.816573273439576), ('senior associate scientist, purification process development', 0.8061673096381284), ('associate director/director of nonclinical development (toxicology)', 0.8018666040512329), ('associate director, developmental quality', 0.7913826211358277), ('produce associate team leader (assistant department manager)', 0.7900619138468403), ('associate director, clinical quality assurance', 0.7781656512928214), ('associate director global trial management', 0.7637071612582811), ('associate executive director', 0.7554636904135112), ('financial management internal controls senior consultant', 0.7482481640906915), ('associate store manager', 0.7380141365914757), ('assistant director of clinical services', 0.7297969286367625), ('assistant director of quality standards', 0.7132149282621596), ('assistant service center manager', 0.7124667651273101), ('executive officer, vendor contract management support services', 0.703917656345729), ('senior manager, environmental programs', 0.7028645673899123), ('associate manager, veterinary public health', 0.7023673739693328), ('senior manager, principal engineer, pharmaceutical processing equipment', 0.7022068434414235), ('assistant clinical research coordinator', 0.7005089276730307), ('associate/senior associate, fs regulatory & compliance - consumer compliance banking', 0.699883220757685), ('administrative director of nursing operations', 0.6979046975562078), ('associate human resources generalist', 0.6960188753664825), ('senior principal sterilization engineer', 0.6939202101369617), ('senior quantitative analyst & model developer - investments', 0.6935553079800598), ('executive director-exec dir board of behavioral health & therapy', 0.691550072677164), ('principal associate, data management', 0.6876456962399136), ('public sector financial services - it strategy & transformation - senior consultant', 0.6845383661689111), ('assistant director of nursing', 0.6836732444783715), ('assistant director of nursing (adon)', 0.6836732256985918), ('senior manager, human resources and administration', 0.682536675025402), ('executive director - patient access & financial clearance services', 0.6804501851465172), ('principal automation engineer', 0.6795871563248392), ('utility services representative - water quality division - sfpuc (1478)', 0.6782144770642374), ('director, internal control', 0.676943603641277), ('wellstrade supervisory control associate', 0.6769350837328588), ('director, clinical data management', 0.6763766058519622)]\n",
      "30 similar titles to 'associate director learning management systems' based on noun, adj, and noun + adj:\n",
      "                          by_noun                         by_adj  \\\n",
      "0   (associate director learni...  (associate director learni...   \n",
      "1   (director of facilities ma...  (associate director of fin...   \n",
      "2   (director, quality systems...  (associate director of val...   \n",
      "3   (program manager system st...  (associate manager, qualit...   \n",
      "4   (information systems compl...  (associate store manager, ...   \n",
      "5   (system analyst principal,...  (associate sample preparat...   \n",
      "6   (financial management inte...  (associate director, post ...   \n",
      "7   (global regulatory operati...  (associate contract admini...   \n",
      "8   (compounding system manage...  (associate director, contr...   \n",
      "9   (flight operations system ...  (associate director of tra...   \n",
      "10  (utilization management sp...  (associate director, quali...   \n",
      "11  (senior director quality m...  (associate director, audit...   \n",
      "12  (director, quality managem...  (associate director, gmp q...   \n",
      "13  (quality management medica...  (associate technician it d...   \n",
      "14  (manager facilities manage...  (associate, aml compliance...   \n",
      "15  (senior director, planning...    (associate compliance, 1.0)   \n",
      "16  (senior project engineer -...  (associate director of adv...   \n",
      "17  (ccb - control management ...  (associate director-operat...   \n",
      "18  (manager, quality systems,...  (produce associate team le...   \n",
      "19  (director, clinical data m...  (associate customer succes...   \n",
      "20  (information technology (i...  (associate executive direc...   \n",
      "21  (is business systems analy...  (associate general counsel...   \n",
      "22  (business systems analyst,...  (associate director, devel...   \n",
      "23  (director, compliance gove...  (associate personal banker...   \n",
      "24  (director, quality managem...  (associate personal banker...   \n",
      "25  (director, q&r product dev...  (associate personal banker...   \n",
      "26  (claims implementation pro...  (senior associate scientis...   \n",
      "27  (program manager iii, inte...  (associate director/direct...   \n",
      "28  (program development admin...  (associate director, clini...   \n",
      "29  (community operations dire...  (associate/senior associat...   \n",
      "30  (director pharmacy informa...  ((senior) associate regula...   \n",
      "31  (director program rehabili...  (vice president, associate...   \n",
      "32  (process control systems s...  (associate manager, veteri...   \n",
      "33  (stability program manager...  (associate director global...   \n",
      "34  (manager i&t computerized ...  (vp, assistant general cou...   \n",
      "35  (director quality manageme...  (assistant general manager...   \n",
      "36  (regulatory project manage...  (vp, assistant general cou...   \n",
      "37  (director of strategic dev...  (associate, retail channel...   \n",
      "38  (transportation operations...  (executive director-exec d...   \n",
      "39  (associate director of val...  (senior principal environm...   \n",
      "40  (design & project manageme...  (assistant clinical resear...   \n",
      "41  (director – operations, 0....  (assistant director of cli...   \n",
      "42  (director, technical opera...  (associate human resources...   \n",
      "43  (director of operations, 0...  (assistant nurse manager -...   \n",
      "44  (associate director-operat...  (assistant restaurant mana...   \n",
      "45  (director, tmf operations,...  (assistant director of nur...   \n",
      "46  (psm refrigeration & facil...  (assistant director of nur...   \n",
      "47  (director of finance, glob...  (assistant service center ...   \n",
      "48  (controls manager - core s...  (assistant branch manager,...   \n",
      "49  (senior manager, human res...  (assistant director of nur...   \n",
      "\n",
      "                      by_noun_adj  \n",
      "0   (associate director learni...  \n",
      "1   (associate director of val...  \n",
      "2   (associate director-operat...  \n",
      "3   (associate director of tra...  \n",
      "4   (associate director of adv...  \n",
      "5   (associate manager, qualit...  \n",
      "6   (associate director, audit...  \n",
      "7   (associate director of fin...  \n",
      "8   (associate director, quali...  \n",
      "9   (associate director, post ...  \n",
      "10  (associate director, contr...  \n",
      "11  (associate contract admini...  \n",
      "12  (associate compliance, 0.8...  \n",
      "13  (associate technician it d...  \n",
      "14  (associate sample preparat...  \n",
      "15  (associate director, gmp q...  \n",
      "16  (senior associate scientis...  \n",
      "17  (associate director/direct...  \n",
      "18  (associate director, devel...  \n",
      "19  (produce associate team le...  \n",
      "20  (associate director, clini...  \n",
      "21  (associate director global...  \n",
      "22  (associate executive direc...  \n",
      "23  (financial management inte...  \n",
      "24  (associate store manager, ...  \n",
      "25  (assistant director of cli...  \n",
      "26  (assistant director of qua...  \n",
      "27  (assistant service center ...  \n",
      "28  (executive officer, vendor...  \n",
      "29  (senior manager, environme...  \n",
      "30  (associate manager, veteri...  \n",
      "31  (senior manager, principal...  \n",
      "32  (assistant clinical resear...  \n",
      "33  (associate/senior associat...  \n",
      "34  (administrative director o...  \n",
      "35  (associate human resources...  \n",
      "36  (senior principal steriliz...  \n",
      "37  (senior quantitative analy...  \n",
      "38  (executive director-exec d...  \n",
      "39  (principal associate, data...  \n",
      "40  (public sector financial s...  \n",
      "41  (assistant director of nur...  \n",
      "42  (assistant director of nur...  \n",
      "43  (senior manager, human res...  \n",
      "44  (executive director - pati...  \n",
      "45  (principal automation engi...  \n",
      "46  (utility services represen...  \n",
      "47  (director, internal contro...  \n",
      "48  (wellstrade supervisory co...  \n",
      "49  (director, clinical data m...  \n"
     ]
    },
    {
     "name": "stderr",
     "output_type": "stream",
     "text": [
      "\n"
     ]
    }
   ],
   "source": [
    "# get vector similarity for the third job title (entries 1 and 2 did not have an adjective in their name) based of noun and adj\n",
    "# take the average of each entry to construct final ranking\n",
    "# put everything into a table to compare\n",
    "\n",
    "title_vnoun2 = get_vec_similarity(job_titles, 2, ['NOUN', 'PROPN'])\n",
    "title_vadj2 = get_vec_similarity(job_titles, 2, ['ADJ'])\n",
    "title_vnounadj2 = {i : stat.mean([title_vnoun2[i], title_vadj2[i]]) for i in range(len(job_titles))}\n",
    "\n",
    "col_1 = sort_and_show(title_vnoun2, job_titles, 50)\n",
    "col_2 = sort_and_show(title_vadj2, job_titles, 50)\n",
    "col_3 = sort_and_show(title_vnounadj2, job_titles, 50)\n",
    "\n",
    "\n",
    "compare_table = pd.DataFrame({'by_noun': col_1,\n",
    "                         'by_adj' : col_2,\n",
    "                         'by_noun_adj' : col_3})\n",
    "\n",
    "print(f\"30 similar titles to '{job_titles[2]}' based on noun, adj, and noun + adj:\\n{compare_table}\")"
   ],
   "metadata": {
    "collapsed": false,
    "pycharm": {
     "name": "#%%\n"
    }
   }
  },
  {
   "cell_type": "markdown",
   "source": [
    "There are much fewer adj than nouns, as such, where the titles have commonality, most of this is an exact proximity (similarity = 1) - in this case the key word is associate. Since it is so heavily 'weighted' averaging across the similarity score does not do much."
   ],
   "metadata": {
    "collapsed": false,
    "pycharm": {
     "name": "#%% md\n"
    }
   }
  },
  {
   "cell_type": "markdown",
   "source": [
    "### Bonus 2"
   ],
   "metadata": {
    "collapsed": false,
    "pycharm": {
     "name": "#%% md\n"
    }
   }
  },
  {
   "cell_type": "code",
   "execution_count": 24,
   "outputs": [
    {
     "name": "stderr",
     "output_type": "stream",
     "text": [
      "100%|█████████████████████████████████████████████████| 2541/2541 [06:08<00:00,  6.90it/s]\n"
     ]
    },
    {
     "name": "stdout",
     "output_type": "stream",
     "text": [
      "List of phrases contains 16834 unique ['NOUN', 'PROPN']\n"
     ]
    },
    {
     "name": "stderr",
     "output_type": "stream",
     "text": [
      "100%|█████████████████████████████████████████████████| 2541/2541 [04:35<00:00,  9.22it/s]\n",
      "100%|█████████████████████████████████████████████████| 2541/2541 [05:54<00:00,  7.18it/s]\n"
     ]
    },
    {
     "name": "stdout",
     "output_type": "stream",
     "text": [
      "List of phrases contains 4520 unique ['ADJ']\n"
     ]
    },
    {
     "name": "stderr",
     "output_type": "stream",
     "text": [
      "100%|█████████████████████████████████████████████████| 2541/2541 [01:29<00:00, 28.40it/s]\n"
     ]
    },
    {
     "name": "stdout",
     "output_type": "stream",
     "text": [
      "Showing first 30 items:\n",
      "[('certified pharmacy technician ii -retail pharmacy', 1.0), ('admission & marketing liaison', 0.9922335098920366), ('nuclear pharmacist', 0.9881222174402345), ('patient access specialist, full time, days', 0.9876801704042537), ('patient access specialist-wr emergency registration, casual, days', 0.98763474912723), ('pharmacy pos billing technician', 0.9871258607656888), ('pharmacy technician (inpatient) part-time (20 hr/wk) - rotating d/e shifts', 0.9865629514230565), ('clinical associate - ct', 0.9856420398007035), ('ct technologist second shift', 0.9856346339120847), ('manufacturing environmental health & safety coordinator (ehs) virtual hiring event', 0.984840893011909), ('warehouse supervisor- gww -us', 0.9848385910711788), ('transportation director - usbl - us', 0.9847402397540733), (\"patient access concierge ii– st. peter's hospital – ft days\", 0.9844006067019003), ('metrology technician', 0.984280806446807), ('registered nurse- prn', 0.9842648594227765), ('access team lead, full time, days', 0.9841078331896691), ('prn rad tech', 0.9839819432700777), ('interventional radiology technologist per diem', 0.9839819432700777), ('pharmacist centralized services puerto rico (based out of a store)', 0.9839492306317278), ('access team lead', 0.9838985574285667), ('branch operations supervisor', 0.9838830276807362), ('lpn', 0.9836771854728761), ('qc mgr - ak vessel', 0.9836397193927381), ('licensed physical therapist assistant', 0.9836384739539502), ('nationally certified pharmacy technician', 0.9834838933679237), ('microbiologist ii', 0.9834131429329083), ('occupational therapist- acute- prn', 0.9833533631427259), ('rn - cvra (nights)', 0.9832985030392445), ('lead technologist ct', 0.9831689601731546), ('front office supervisor', 0.9831465558520557)]\n",
      "Showing first 30 items:\n",
      "[('certified pharmacy technician ii -retail pharmacy', 1.0), ('rn - cvra (nights)', 0.990002686064369), ('rn - recovery room', 0.9892128375221659), ('admission & marketing liaison', 0.9870062395587744), ('clinical field staff supervisor (rn case manager)', 0.9829860182178758), ('licensed physical therapist assistant', 0.9825965934212083), ('aqua dialysis seeks acute dialysis nurse rn', 0.9822369411224199), ('speech language pathologist', 0.9584156016306209), ('licensed physical therapy assistant', 0.98176249877281), ('prn rad tech', 0.981447247408916), ('interventional radiology technologist per diem', 0.981447247408916), ('staff rn', 0.981258536117847), ('registered nurse- prn', 0.9810695740870337), ('dietitian', 0.9809113665879491), (\"patient access concierge ii– st. peter's hospital – ft days\", 0.980734507773767), ('practice manager', 0.9805410804243498), ('sleep lab tech-full-time', 0.9805181934860678), ('charge nurse ii', 0.9803075864790234), ('rn patient flow administrator - palm bay hospital', 0.9797540733533991), ('director of nursing vascular access', 0.9795390984603861), ('lpn', 0.979033606338346), ('registered nurse (rn)-acute care, recovery room, pt, split shift', 0.9789332248542634), ('rn med surg', 0.9783764190016434), ('part time (e/o wknd) charge nurse rn/lpn', 0.978201546728922), ('night ect manager', 0.9780486092813256), ('occupational therapist - snf - prn', 0.9778974748899448), ('patient service specialist - ob/gyn - framingham', 0.9778769005361538), ('nurse clinician - psychiatry, full time, days', 0.9778082838223592), ('director of case management - ft | san antonio rehab', 0.9776481425206192), ('surgical technologist', 0.9776068749214337)]\n",
      "30 similar titles to 'certified pharmacy technician ii -retail pharmacy' based on noun and adj:\n",
      "                          by_noun                         by_adj\n",
      "0   (certified pharmacy techni...  (certified pharmacy techni...\n",
      "1   (admission & marketing lia...  (rn - cvra (nights), 0.990...\n",
      "2   (nuclear pharmacist, 0.988...  (rn - recovery room, 0.989...\n",
      "3   (patient access specialist...  (admission & marketing lia...\n",
      "4   (patient access specialist...  (clinical field staff supe...\n",
      "5   (pharmacy pos billing tech...  (licensed physical therapi...\n",
      "6   (pharmacy technician (inpa...  (aqua dialysis seeks acute...\n",
      "7   (clinical associate - ct, ...  (speech language pathologi...\n",
      "8   (ct technologist second sh...  (licensed physical therapy...\n",
      "9   (manufacturing environment...  (prn rad tech, 0.981447247...\n",
      "10  (warehouse supervisor- gww...  (interventional radiology ...\n",
      "11  (transportation director -...  (staff rn, 0.981258536117847)\n",
      "12  (patient access concierge ...  (registered nurse- prn, 0....\n",
      "13  (metrology technician, 0.9...  (dietitian, 0.980911366587...\n",
      "14  (registered nurse- prn, 0....  (patient access concierge ...\n",
      "15  (access team lead, full ti...  (practice manager, 0.98054...\n",
      "16  (prn rad tech, 0.983981943...  (sleep lab tech-full-time,...\n",
      "17  (interventional radiology ...  (charge nurse ii, 0.980307...\n",
      "18  (pharmacist centralized se...  (rn patient flow administr...\n",
      "19  (access team lead, 0.98389...  (director of nursing vascu...\n",
      "20  (branch operations supervi...       (lpn, 0.979033606338346)\n",
      "21      (lpn, 0.9836771854728761)  (registered nurse (rn)-acu...\n",
      "22  (qc mgr - ak vessel, 0.983...  (rn med surg, 0.9783764190...\n",
      "23  (licensed physical therapi...  (part time (e/o wknd) char...\n",
      "24  (nationally certified phar...  (night ect manager, 0.9780...\n",
      "25  (microbiologist ii, 0.9834...  (occupational therapist - ...\n",
      "26  (occupational therapist- a...  (patient service specialis...\n",
      "27  (rn - cvra (nights), 0.983...  (nurse clinician - psychia...\n",
      "28  (lead technologist ct, 0.9...  (director of case manageme...\n",
      "29  (front office supervisor, ...  (surgical technologist, 0....\n"
     ]
    }
   ],
   "source": [
    "# same thing for job description\n",
    "job_des = df.job_description.str.lower().tolist()\n",
    "\n",
    "des_vnoun0 = get_vec_similarity(job_des, 0, ['NOUN', 'PROPN'])\n",
    "des_vadj0 = get_vec_similarity(job_des, 0, ['ADJ'])\n",
    "\n",
    "col_1_2 = sort_and_show(des_vnoun0, job_titles, 30)\n",
    "col_2_2 = sort_and_show(des_vadj0, job_titles, 30)\n",
    "\n",
    "compare_table_2 = pd.DataFrame({'by_noun': col_1_2,\n",
    "                         'by_adj' : col_2_2})\n",
    "\n",
    "\n",
    "print(f\"30 similar titles to '{job_titles[0]}' based on noun and adj:\\n{compare_table_2}\")"
   ],
   "metadata": {
    "collapsed": false,
    "pycharm": {
     "name": "#%%\n"
    }
   }
  },
  {
   "cell_type": "markdown",
   "source": [
    "THe results from noun and adj here seems more comparable to each other after inspecting some job description as there are more sample of token to examine, as well as more context provided, leading to better token type identification. Returned jobs from the noun column seem to lean more towards the same industry, while adj seems to be more concentrated on how skills need to be specialized"
   ],
   "metadata": {
    "collapsed": false,
    "pycharm": {
     "name": "#%% md\n"
    }
   }
  },
  {
   "cell_type": "markdown",
   "source": [
    "### Bonus 3\n",
    "The code below (similarity_noun_chunks) calcualtes noun-verb pair-specific vector, then use their average to construct the vector for each entries. This gives more weight to pairing, but calculation takes longer. The other functions simply aggregate all the pairs into a string and calculate the entry vectors from there. The results they return differs but the few top results quite similarm, and seems to cover a more diverse set of industry and skills - perhaps this has to do with similar respoinsibilities reflected through noun verb pair (denoting activities)"
   ],
   "metadata": {
    "collapsed": false,
    "pycharm": {
     "name": "#%% md\n"
    }
   }
  },
  {
   "cell_type": "code",
   "execution_count": 25,
   "outputs": [
    {
     "name": "stderr",
     "output_type": "stream",
     "text": [
      "100%|█████████████████████████████████████████████████| 2541/2541 [24:50<00:00,  1.70it/s]"
     ]
    },
    {
     "name": "stdout",
     "output_type": "stream",
     "text": [
      "Showing first 30 items:\n",
      "[('certified pharmacy technician ii -retail pharmacy', 1), ('admission & marketing liaison', 0.9954707026481628), ('rn - cvra (nights)', 0.9911576509475708), ('rn - recovery room', 0.9911041855812073), ('pharmacy operations manager', 0.988545298576355), ('accounting representative', 0.9875401258468628), ('finance assistant i', 0.9869964122772217), ('quality assurance supervisor', 0.9869123101234436), ('lab clinical manager', 0.9862802028656006), ('quality supervisor', 0.9860941767692566), ('maintenance manager', 0.9857950806617737), ('regulatory & quality director', 0.9856309294700623), ('olympus api development lead', 0.9855820536613464), ('enterprise hr coordinator', 0.9853156208992004), ('tdec-environmental manager 2 - 05192022-31775', 0.985310435295105), ('referral rep', 0.9853071570396423), ('validation senior manager - (bio/pharma)', 0.98516845703125), ('paint foreman (nights)', 0.9849919676780701), ('facilities and wastewater manager', 0.9849837422370911), ('pediatric clinical pharmacist (evening shift)', 0.9849786162376404), ('quality systems, specialist ii', 0.9848901033401489), ('access team lead, full time, days', 0.9846828579902649), ('access team lead', 0.9845485091209412), ('patient financial counseling specialist - full time days', 0.9845003485679626), ('business manager', 0.9842293858528137), ('clinical manager', 0.9840455651283264), ('clinical manager (32)', 0.9840455651283264), ('clinic manager', 0.9840455651283264), ('clinical research coord ii', 0.9839675426483154), ('teacher - 5th grade', 0.9837393760681152)]\n",
      "                          by_noun                         by_adj  \\\n",
      "0   (certified pharmacy techni...  (certified pharmacy techni...   \n",
      "1   (admission & marketing lia...  (rn - cvra (nights), 0.990...   \n",
      "2   (nuclear pharmacist, 0.988...  (rn - recovery room, 0.989...   \n",
      "3   (patient access specialist...  (admission & marketing lia...   \n",
      "4   (patient access specialist...  (clinical field staff supe...   \n",
      "5   (pharmacy pos billing tech...  (licensed physical therapi...   \n",
      "6   (pharmacy technician (inpa...  (aqua dialysis seeks acute...   \n",
      "7   (clinical associate - ct, ...  (speech language pathologi...   \n",
      "8   (ct technologist second sh...  (licensed physical therapy...   \n",
      "9   (manufacturing environment...  (prn rad tech, 0.981447247...   \n",
      "10  (warehouse supervisor- gww...  (interventional radiology ...   \n",
      "11  (transportation director -...  (staff rn, 0.981258536117847)   \n",
      "12  (patient access concierge ...  (registered nurse- prn, 0....   \n",
      "13  (metrology technician, 0.9...  (dietitian, 0.980911366587...   \n",
      "14  (registered nurse- prn, 0....  (patient access concierge ...   \n",
      "15  (access team lead, full ti...  (practice manager, 0.98054...   \n",
      "16  (prn rad tech, 0.983981943...  (sleep lab tech-full-time,...   \n",
      "17  (interventional radiology ...  (charge nurse ii, 0.980307...   \n",
      "18  (pharmacist centralized se...  (rn patient flow administr...   \n",
      "19  (access team lead, 0.98389...  (director of nursing vascu...   \n",
      "20  (branch operations supervi...       (lpn, 0.979033606338346)   \n",
      "21      (lpn, 0.9836771854728761)  (registered nurse (rn)-acu...   \n",
      "22  (qc mgr - ak vessel, 0.983...  (rn med surg, 0.9783764190...   \n",
      "23  (licensed physical therapi...  (part time (e/o wknd) char...   \n",
      "24  (nationally certified phar...  (night ect manager, 0.9780...   \n",
      "25  (microbiologist ii, 0.9834...  (occupational therapist - ...   \n",
      "26  (occupational therapist- a...  (patient service specialis...   \n",
      "27  (rn - cvra (nights), 0.983...  (nurse clinician - psychia...   \n",
      "28  (lead technologist ct, 0.9...  (director of case manageme...   \n",
      "29  (front office supervisor, ...  (surgical technologist, 0....   \n",
      "\n",
      "               by_nounverb_chunks  \n",
      "0   (certified pharmacy techni...  \n",
      "1   (admission & marketing lia...  \n",
      "2   (rn - cvra (nights), 0.991...  \n",
      "3   (rn - recovery room, 0.991...  \n",
      "4   (pharmacy operations manag...  \n",
      "5   (accounting representative...  \n",
      "6   (finance assistant i, 0.98...  \n",
      "7   (quality assurance supervi...  \n",
      "8   (lab clinical manager, 0.9...  \n",
      "9   (quality supervisor, 0.986...  \n",
      "10  (maintenance manager, 0.98...  \n",
      "11  (regulatory & quality dire...  \n",
      "12  (olympus api development l...  \n",
      "13  (enterprise hr coordinator...  \n",
      "14  (tdec-environmental manage...  \n",
      "15  (referral rep, 0.985307157...  \n",
      "16  (validation senior manager...  \n",
      "17  (paint foreman (nights), 0...  \n",
      "18  (facilities and wastewater...  \n",
      "19  (pediatric clinical pharma...  \n",
      "20  (quality systems, speciali...  \n",
      "21  (access team lead, full ti...  \n",
      "22  (access team lead, 0.98454...  \n",
      "23  (patient financial counsel...  \n",
      "24  (business manager, 0.98422...  \n",
      "25  (clinical manager, 0.98404...  \n",
      "26  (clinical manager (32), 0....  \n",
      "27  (clinic manager, 0.9840455...  \n",
      "28  (clinical research coord i...  \n",
      "29  (teacher - 5th grade, 0.98...  \n"
     ]
    },
    {
     "name": "stderr",
     "output_type": "stream",
     "text": [
      "\n"
     ]
    }
   ],
   "source": [
    "def similarity_noun_chunks(phrase_list, primary_index, pos):\n",
    "    ll = []\n",
    "    similarity = {}\n",
    "    for i, phrase in enumerate(tqdm(phrase_list, ncols=90)):\n",
    "        vectors = []\n",
    "        doc = nlp(phrase)\n",
    "        for chunk in doc.noun_chunks:\n",
    "            if chunk.root.head.pos_ == pos:\n",
    "                pair_span = nlp(f'{chunk.text} {chunk.root.head.lemma_}')\n",
    "                vectors.append(pair_span.vector)\n",
    "        if len(vectors) != 0:\n",
    "            phrase_vector = sum(vectors)\n",
    "            phrase_vector /= len(vectors)\n",
    "            ll.append(phrase_vector)\n",
    "            similarity[i] = 1 - cosine(ll[primary_index], ll[i])\n",
    "        else:\n",
    "            ll.append([])\n",
    "            similarity[i] = 0.0\n",
    "    return similarity\n",
    "\n",
    "des_nvchunk0 = similarity_noun_chunks(job_des, 0, 'VERB')\n",
    "col_3_2 = sort_and_show(des_nvchunk0, job_titles, 30)\n",
    "\n",
    "compare_table_2['by_nounverb_chunks'] = col_3_2\n",
    "\n",
    "print(compare_table_2)"
   ],
   "metadata": {
    "collapsed": false,
    "pycharm": {
     "name": "#%%\n"
    }
   }
  },
  {
   "cell_type": "code",
   "execution_count": 26,
   "outputs": [
    {
     "name": "stderr",
     "output_type": "stream",
     "text": [
      "100%|█████████████████████████████████████████████████| 2541/2541 [05:52<00:00,  7.22it/s]\n",
      "100%|█████████████████████████████████████████████████| 2541/2541 [04:34<00:00,  9.26it/s]\n"
     ]
    },
    {
     "name": "stdout",
     "output_type": "stream",
     "text": [
      "Showing first 30 items:\n",
      "[('certified pharmacy technician ii -retail pharmacy', 1.0), ('admission & marketing liaison', 0.9956666373068972), ('rn - cvra (nights)', 0.9914325748681508), ('rn - recovery room', 0.9913728205067593), ('pharmacy operations manager', 0.987061459161649), ('quality assurance supervisor', 0.9859982990991617), ('accounting representative', 0.9856452290018924), ('finance assistant i', 0.9854234084566372), ('olympus api development lead', 0.9851782987845652), ('referral rep', 0.9850481134924166), ('lab clinical manager', 0.9848109830881654), ('clinical manager', 0.9847405491449185), ('clinical manager (32)', 0.9847405491449185), ('clinic manager', 0.9847405491449185), ('regulatory & quality director', 0.9846359742328581), ('quality supervisor', 0.984625045696747), ('access team lead, full time, days', 0.984528473950712), ('access team lead', 0.9844486513243581), ('maintenance manager', 0.9837589805104042), ('quality systems, specialist ii', 0.9836854931086186), ('pediatric clinical pharmacist (evening shift)', 0.9835430193296671), ('enterprise hr coordinator', 0.9835309947055257), ('svp, risk policy senior officer', 0.9833620487323735), ('care coordinator for sud residential houses', 0.983354180461297), ('practice manager', 0.9833220176827565), ('compliance specialist - qa', 0.9832681989317718), ('program quality manager - supplier - corporate - us', 0.9831909867447016), ('manager qa - veeva quality docs', 0.9831769730223742), ('team lead technical product support', 0.9830246701615353), ('time administrator', 0.9829866106678824)]\n",
      "                          by_noun                         by_adj  \\\n",
      "0   (certified pharmacy techni...  (certified pharmacy techni...   \n",
      "1   (admission & marketing lia...  (rn - cvra (nights), 0.990...   \n",
      "2   (nuclear pharmacist, 0.988...  (rn - recovery room, 0.989...   \n",
      "3   (patient access specialist...  (admission & marketing lia...   \n",
      "4   (patient access specialist...  (clinical field staff supe...   \n",
      "5   (pharmacy pos billing tech...  (licensed physical therapi...   \n",
      "6   (pharmacy technician (inpa...  (aqua dialysis seeks acute...   \n",
      "7   (clinical associate - ct, ...  (speech language pathologi...   \n",
      "8   (ct technologist second sh...  (licensed physical therapy...   \n",
      "9   (manufacturing environment...  (prn rad tech, 0.981447247...   \n",
      "10  (warehouse supervisor- gww...  (interventional radiology ...   \n",
      "11  (transportation director -...  (staff rn, 0.981258536117847)   \n",
      "12  (patient access concierge ...  (registered nurse- prn, 0....   \n",
      "13  (metrology technician, 0.9...  (dietitian, 0.980911366587...   \n",
      "14  (registered nurse- prn, 0....  (patient access concierge ...   \n",
      "15  (access team lead, full ti...  (practice manager, 0.98054...   \n",
      "16  (prn rad tech, 0.983981943...  (sleep lab tech-full-time,...   \n",
      "17  (interventional radiology ...  (charge nurse ii, 0.980307...   \n",
      "18  (pharmacist centralized se...  (rn patient flow administr...   \n",
      "19  (access team lead, 0.98389...  (director of nursing vascu...   \n",
      "20  (branch operations supervi...       (lpn, 0.979033606338346)   \n",
      "21      (lpn, 0.9836771854728761)  (registered nurse (rn)-acu...   \n",
      "22  (qc mgr - ak vessel, 0.983...  (rn med surg, 0.9783764190...   \n",
      "23  (licensed physical therapi...  (part time (e/o wknd) char...   \n",
      "24  (nationally certified phar...  (night ect manager, 0.9780...   \n",
      "25  (microbiologist ii, 0.9834...  (occupational therapist - ...   \n",
      "26  (occupational therapist- a...  (patient service specialis...   \n",
      "27  (rn - cvra (nights), 0.983...  (nurse clinician - psychia...   \n",
      "28  (lead technologist ct, 0.9...  (director of case manageme...   \n",
      "29  (front office supervisor, ...  (surgical technologist, 0....   \n",
      "\n",
      "               by_nounverb_chunks  \n",
      "0   (certified pharmacy techni...  \n",
      "1   (admission & marketing lia...  \n",
      "2   (rn - cvra (nights), 0.991...  \n",
      "3   (rn - recovery room, 0.991...  \n",
      "4   (pharmacy operations manag...  \n",
      "5   (quality assurance supervi...  \n",
      "6   (accounting representative...  \n",
      "7   (finance assistant i, 0.98...  \n",
      "8   (olympus api development l...  \n",
      "9   (referral rep, 0.985048113...  \n",
      "10  (lab clinical manager, 0.9...  \n",
      "11  (clinical manager, 0.98474...  \n",
      "12  (clinical manager (32), 0....  \n",
      "13  (clinic manager, 0.9847405...  \n",
      "14  (regulatory & quality dire...  \n",
      "15  (quality supervisor, 0.984...  \n",
      "16  (access team lead, full ti...  \n",
      "17  (access team lead, 0.98444...  \n",
      "18  (maintenance manager, 0.98...  \n",
      "19  (quality systems, speciali...  \n",
      "20  (pediatric clinical pharma...  \n",
      "21  (enterprise hr coordinator...  \n",
      "22  (svp, risk policy senior o...  \n",
      "23  (care coordinator for sud ...  \n",
      "24  (practice manager, 0.98332...  \n",
      "25  (compliance specialist - q...  \n",
      "26  (program quality manager -...  \n",
      "27  (manager qa - veeva qualit...  \n",
      "28  (team lead technical produ...  \n",
      "29  (time administrator, 0.982...  \n"
     ]
    }
   ],
   "source": [
    "def similarity_noun_chunks_2(phrase_list, primary_index, pos):\n",
    "    ll = []\n",
    "    similarity = {}\n",
    "    for phrase in tqdm(phrase_list, ncols=90):\n",
    "        doc = nlp(phrase)\n",
    "        shorten = ''\n",
    "        for chunk in doc.noun_chunks:\n",
    "            if chunk.root.head.pos_ == pos:\n",
    "                shorten += f'{chunk.text} {chunk.root.head.lemma_} '\n",
    "        ll.append(shorten)\n",
    "    for i in tqdm(range(len(ll)), ncols=90):\n",
    "        prime = nlp(ll[primary_index])\n",
    "        target = nlp(ll[i])\n",
    "        similarity[i] = prime.similarity(target)\n",
    "    return similarity\n",
    "\n",
    "\n",
    "des_nvchunk0 = similarity_noun_chunks_2(job_des, 0, 'VERB')\n",
    "col_3_2 = sort_and_show(des_nvchunk0, job_titles, 30)\n",
    "\n",
    "compare_table_2['by_nounverb_chunks'] = col_3_2\n",
    "\n",
    "print(compare_table_2)"
   ],
   "metadata": {
    "collapsed": false,
    "pycharm": {
     "name": "#%%\n"
    }
   }
  },
  {
   "cell_type": "code",
   "execution_count": null,
   "outputs": [],
   "source": [],
   "metadata": {
    "collapsed": false,
    "pycharm": {
     "name": "#%%\n"
    }
   }
  }
 ],
 "metadata": {
  "kernelspec": {
   "display_name": "Python 3",
   "language": "python",
   "name": "python3"
  },
  "language_info": {
   "codemirror_mode": {
    "name": "ipython",
    "version": 2
   },
   "file_extension": ".py",
   "mimetype": "text/x-python",
   "name": "python",
   "nbconvert_exporter": "python",
   "pygments_lexer": "ipython2",
   "version": "2.7.6"
  }
 },
 "nbformat": 4,
 "nbformat_minor": 0
}