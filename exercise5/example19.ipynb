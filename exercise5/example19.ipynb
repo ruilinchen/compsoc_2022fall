{
 "cells": [
  {
   "cell_type": "markdown",
   "source": [
    "# Assignment 5"
   ],
   "metadata": {
    "collapsed": false,
    "pycharm": {
     "name": "#%% md\n"
    }
   }
  },
  {
   "cell_type": "markdown",
   "source": [
    "#### 5.1\n",
    "##### Download “MA_cbg_human_mobility_2019.zip” from Canvas under “Files/datasets”. Write a program that loops through all the files in this zip file and prints the name of all the “csv” files. Use `zipfile` package."
   ],
   "metadata": {
    "collapsed": false,
    "pycharm": {
     "name": "#%% md\n"
    }
   }
  },
  {
   "cell_type": "code",
   "execution_count": 7,
   "outputs": [],
   "source": [
    "import zipfile"
   ],
   "metadata": {
    "collapsed": false,
    "pycharm": {
     "name": "#%%\n"
    }
   }
  },
  {
   "cell_type": "code",
   "execution_count": 27,
   "outputs": [
    {
     "name": "stdout",
     "output_type": "stream",
     "text": [
      "MA_cbg_human_mobility_2019/MA_cbg2cbg_2019_09.csv\n",
      "__MACOSX/MA_cbg_human_mobility_2019/._MA_cbg2cbg_2019_09.csv\n",
      "MA_cbg_human_mobility_2019/MA_cbg2cbg_2019_08.csv\n",
      "__MACOSX/MA_cbg_human_mobility_2019/._MA_cbg2cbg_2019_08.csv\n",
      "MA_cbg_human_mobility_2019/MA_cbg2cbg_2019_03.csv\n",
      "__MACOSX/MA_cbg_human_mobility_2019/._MA_cbg2cbg_2019_03.csv\n",
      "MA_cbg_human_mobility_2019/MA_cbg2cbg_2019_02.csv\n",
      "__MACOSX/MA_cbg_human_mobility_2019/._MA_cbg2cbg_2019_02.csv\n",
      "MA_cbg_human_mobility_2019/MA_cbg2cbg_2019_01.csv\n",
      "__MACOSX/MA_cbg_human_mobility_2019/._MA_cbg2cbg_2019_01.csv\n",
      "MA_cbg_human_mobility_2019/MA_cbg2cbg_2019_05.csv\n",
      "__MACOSX/MA_cbg_human_mobility_2019/._MA_cbg2cbg_2019_05.csv\n",
      "MA_cbg_human_mobility_2019/MA_cbg2cbg_2019_11.csv\n",
      "__MACOSX/MA_cbg_human_mobility_2019/._MA_cbg2cbg_2019_11.csv\n",
      "MA_cbg_human_mobility_2019/MA_cbg2cbg_2019_10.csv\n",
      "__MACOSX/MA_cbg_human_mobility_2019/._MA_cbg2cbg_2019_10.csv\n",
      "MA_cbg_human_mobility_2019/MA_cbg2cbg_2019_04.csv\n",
      "__MACOSX/MA_cbg_human_mobility_2019/._MA_cbg2cbg_2019_04.csv\n",
      "MA_cbg_human_mobility_2019/MA_cbg2cbg_2019_12.csv\n",
      "__MACOSX/MA_cbg_human_mobility_2019/._MA_cbg2cbg_2019_12.csv\n",
      "MA_cbg_human_mobility_2019/MA_cbg2cbg_2019_06.csv\n",
      "__MACOSX/MA_cbg_human_mobility_2019/._MA_cbg2cbg_2019_06.csv\n",
      "MA_cbg_human_mobility_2019/MA_cbg2cbg_2019_07.csv\n",
      "__MACOSX/MA_cbg_human_mobility_2019/._MA_cbg2cbg_2019_07.csv\n"
     ]
    }
   ],
   "source": [
    "with zipfile.ZipFile('MA_cbg_human_mobility_2019.zip', 'r') as archive:\n",
    "    for filename in archive.namelist():\n",
    "        if filename.endswith('csv'):\n",
    "            print(filename)"
   ],
   "metadata": {
    "collapsed": false,
    "pycharm": {
     "name": "#%%\n"
    }
   }
  },
  {
   "cell_type": "markdown",
   "source": [
    "#### 5.2\n",
    "##### Unzip the above zipped file in your laptop’s File System and you will get a folder named “MA_cbg_human_mobility_2019”. Write a program that loops through all the files stored in this folder and counts the number of lines contained in each of the “csv” files. Print a sum of the line counts. Use with statement when reading files."
   ],
   "metadata": {
    "collapsed": false,
    "pycharm": {
     "name": "#%% md\n"
    }
   }
  },
  {
   "cell_type": "code",
   "execution_count": 26,
   "outputs": [
    {
     "name": "stdout",
     "output_type": "stream",
     "text": [
      "files in the folder:  ['.DS_Store', 'MA_cbg2cbg_2019_01.csv', 'MA_cbg2cbg_2019_02.csv', 'MA_cbg2cbg_2019_03.csv', 'MA_cbg2cbg_2019_04.csv', 'MA_cbg2cbg_2019_05.csv', 'MA_cbg2cbg_2019_06.csv', 'MA_cbg2cbg_2019_07.csv', 'MA_cbg2cbg_2019_08.csv', 'MA_cbg2cbg_2019_09.csv', 'MA_cbg2cbg_2019_10.csv', 'MA_cbg2cbg_2019_11.csv', 'MA_cbg2cbg_2019_12.csv', 'README.txt']\n",
      "Rows counted 840593 in the csv MA_cbg2cbg_2019_01.csv\n",
      "Rows counted 818861 in the csv MA_cbg2cbg_2019_02.csv\n",
      "Rows counted 914653 in the csv MA_cbg2cbg_2019_03.csv\n",
      "Rows counted 1011374 in the csv MA_cbg2cbg_2019_04.csv\n",
      "Rows counted 1088294 in the csv MA_cbg2cbg_2019_05.csv\n",
      "Rows counted 1120696 in the csv MA_cbg2cbg_2019_06.csv\n",
      "Rows counted 1119932 in the csv MA_cbg2cbg_2019_07.csv\n",
      "Rows counted 1194284 in the csv MA_cbg2cbg_2019_08.csv\n",
      "Rows counted 1136953 in the csv MA_cbg2cbg_2019_09.csv\n",
      "Rows counted 1010777 in the csv MA_cbg2cbg_2019_10.csv\n",
      "Rows counted 901468 in the csv MA_cbg2cbg_2019_11.csv\n",
      "Rows counted 950661 in the csv MA_cbg2cbg_2019_12.csv\n"
     ]
    }
   ],
   "source": [
    "import os\n",
    "\n",
    "os.chdir('C:/Users/alexc/Documents/BOSTONCOLLEGE/compsoc/code/LiveCodingScripts/MA_cbg_human_mobility_2019')\n",
    "print('files in the folder: ', os.listdir())\n",
    "os.path.join(path, '/Users/alexc/Documents/BOSTONCOLLEGE/compsoc/code/LiveCodingScripts/MA_cbg_human_mobility_2019')\n",
    "\n",
    "path = '/Users/alexc/Documents/BOSTONCOLLEGE/compsoc/code/LiveCodingScripts/MA_cbg_human_mobility_2019'\n",
    "\n",
    "for filename in os.listdir(path):\n",
    "    with open(filename, 'r', encoding=\"latin-1\") as fileObj:\n",
    "        if filename.endswith('csv'):\n",
    "            print('Rows counted {} in the csv {}'.format(len(fileObj.readlines()) -1, filename))"
   ],
   "metadata": {
    "collapsed": false,
    "pycharm": {
     "name": "#%%\n"
    }
   }
  },
  {
   "cell_type": "markdown",
   "source": [
    "#### 5.3\n",
    "##### Use the same program from Task 5.2 that counts lines of all the csv files in “MA_cbg_human_mobility_2019”. Store the output in a dictionary with keys being filenames and values being the corresponding line counts. Write the output to a json file."
   ],
   "metadata": {
    "collapsed": false,
    "pycharm": {
     "name": "#%% md\n"
    }
   }
  },
  {
   "cell_type": "code",
   "execution_count": 35,
   "outputs": [
    {
     "name": "stdout",
     "output_type": "stream",
     "text": [
      "files in the folder:  ['.DS_Store', 'MA_cbg2cbg_2019_01.csv', 'MA_cbg2cbg_2019_02.csv', 'MA_cbg2cbg_2019_03.csv', 'MA_cbg2cbg_2019_04.csv', 'MA_cbg2cbg_2019_05.csv', 'MA_cbg2cbg_2019_06.csv', 'MA_cbg2cbg_2019_07.csv', 'MA_cbg2cbg_2019_08.csv', 'MA_cbg2cbg_2019_09.csv', 'MA_cbg2cbg_2019_10.csv', 'MA_cbg2cbg_2019_11.csv', 'MA_cbg2cbg_2019_12.csv', 'README.txt']\n",
      "Rows counted 840593 in the csv MA_cbg2cbg_2019_01.csv\n",
      "Rows counted 818861 in the csv MA_cbg2cbg_2019_02.csv\n",
      "Rows counted 914653 in the csv MA_cbg2cbg_2019_03.csv\n",
      "Rows counted 1011374 in the csv MA_cbg2cbg_2019_04.csv\n",
      "Rows counted 1088294 in the csv MA_cbg2cbg_2019_05.csv\n",
      "Rows counted 1120696 in the csv MA_cbg2cbg_2019_06.csv\n",
      "Rows counted 1119932 in the csv MA_cbg2cbg_2019_07.csv\n",
      "Rows counted 1194284 in the csv MA_cbg2cbg_2019_08.csv\n",
      "Rows counted 1136953 in the csv MA_cbg2cbg_2019_09.csv\n",
      "Rows counted 1010777 in the csv MA_cbg2cbg_2019_10.csv\n",
      "Rows counted 901468 in the csv MA_cbg2cbg_2019_11.csv\n",
      "Rows counted 950661 in the csv MA_cbg2cbg_2019_12.csv\n",
      "{'MA_cbg2cbg_2019_01.csv': 840593, 'MA_cbg2cbg_2019_02.csv': 818861, 'MA_cbg2cbg_2019_03.csv': 914653, 'MA_cbg2cbg_2019_04.csv': 1011374, 'MA_cbg2cbg_2019_05.csv': 1088294, 'MA_cbg2cbg_2019_06.csv': 1120696, 'MA_cbg2cbg_2019_07.csv': 1119932, 'MA_cbg2cbg_2019_08.csv': 1194284, 'MA_cbg2cbg_2019_09.csv': 1136953, 'MA_cbg2cbg_2019_10.csv': 1010777, 'MA_cbg2cbg_2019_11.csv': 901468, 'MA_cbg2cbg_2019_12.csv': 950661}\n"
     ]
    }
   ],
   "source": [
    "import os\n",
    "\n",
    "os.chdir('C:/Users/alexc/Documents/BOSTONCOLLEGE/compsoc/code/LiveCodingScripts/MA_cbg_human_mobility_2019')\n",
    "print('files in the folder: ', os.listdir())\n",
    "os.path.join(path, '/Users/alexc/Documents/BOSTONCOLLEGE/compsoc/code/LiveCodingScripts/MA_cbg_human_mobility_2019')\n",
    "\n",
    "path = '/Users/alexc/Documents/BOSTONCOLLEGE/compsoc/code/LiveCodingScripts/MA_cbg_human_mobility_2019'\n",
    "\n",
    "\n",
    "for filename in os.listdir(path):\n",
    "    with open(filename, 'r', encoding=\"latin-1\") as fileObj:\n",
    "        if filename.endswith('csv'):\n",
    "            print('Rows counted {} in the csv {}'.format(len(fileObj.readlines()) -1, filename))\n",
    "\n",
    "import json\n",
    "\n",
    "csv_dict = {\n",
    "    'MA_cbg2cbg_2019_01.csv' : 840593,\n",
    "    'MA_cbg2cbg_2019_02.csv' : 818861,\n",
    "    'MA_cbg2cbg_2019_03.csv' : 914653,\n",
    "    'MA_cbg2cbg_2019_04.csv' : 1011374,\n",
    "    'MA_cbg2cbg_2019_05.csv' : 1088294,\n",
    "    'MA_cbg2cbg_2019_06.csv' : 1120696,\n",
    "    'MA_cbg2cbg_2019_07.csv' : 1119932,\n",
    "    'MA_cbg2cbg_2019_08.csv' : 1194284,\n",
    "    'MA_cbg2cbg_2019_09.csv' : 1136953,\n",
    "    'MA_cbg2cbg_2019_10.csv' : 1010777,\n",
    "    'MA_cbg2cbg_2019_11.csv' : 901468,\n",
    "    'MA_cbg2cbg_2019_12.csv' : 950661\n",
    "}\n",
    "\n",
    "print(csv_dict)\n",
    "\n",
    "json_object = json.dumps(csv_dict, indent=4)\n",
    "\n",
    "with open('csvdictionary.json', 'w') as outfile:\n",
    "    outfile.write(json_object)"
   ],
   "metadata": {
    "collapsed": false,
    "pycharm": {
     "name": "#%%\n"
    }
   }
  }
 ],
 "metadata": {
  "kernelspec": {
   "name": "conda-env-compsoc-py",
   "language": "python",
   "display_name": "Python [conda env:compsoc] *"
  },
  "language_info": {
   "codemirror_mode": {
    "name": "ipython",
    "version": 2
   },
   "file_extension": ".py",
   "mimetype": "text/x-python",
   "name": "python",
   "nbconvert_exporter": "python",
   "pygments_lexer": "ipython2",
   "version": "2.7.6"
  }
 },
 "nbformat": 4,
 "nbformat_minor": 0
}