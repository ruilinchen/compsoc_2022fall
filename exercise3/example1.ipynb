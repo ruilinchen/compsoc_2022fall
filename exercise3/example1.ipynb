{
 "cells": [
  {
   "cell_type": "markdown",
   "id": "01e53780",
   "metadata": {
    "pycharm": {
     "name": "#%% md\n"
    }
   },
   "source": [
    "### Part 1: Task 3.1 Write a function that takes a list of numbers as input, finds the largest and smallest element of the list, and returns the largest element minus the smallest element as output. "
   ]
  },
  {
   "cell_type": "code",
   "execution_count": 1,
   "id": "b699fb03",
   "metadata": {
    "pycharm": {
     "name": "#%%\n"
    }
   },
   "outputs": [],
   "source": [
    "def diff(a):\n",
    "    return max(a) - min(a)"
   ]
  },
  {
   "cell_type": "code",
   "execution_count": 3,
   "id": "6f010802",
   "metadata": {
    "pycharm": {
     "name": "#%%\n"
    }
   },
   "outputs": [
    {
     "data": {
      "text/plain": [
       "8"
      ]
     },
     "execution_count": 3,
     "metadata": {},
     "output_type": "execute_result"
    }
   ],
   "source": [
    "diff([1,2,5,0,8])"
   ]
  },
  {
   "cell_type": "markdown",
   "id": "bb815fe9",
   "metadata": {
    "pycharm": {
     "name": "#%% md\n"
    }
   },
   "source": [
    "### Part 2: Task 3.2 Write a function that takes two lists as input, combines them by alternatively taking their elements, e.g. [a,b,c], [1,2,3] → [a,1,b,2,c,3], and returns the combined list as output"
   ]
  },
  {
   "cell_type": "code",
   "execution_count": 12,
   "id": "af974cef",
   "metadata": {
    "pycharm": {
     "name": "#%%\n"
    }
   },
   "outputs": [],
   "source": [
    "def alternator(a, b):\n",
    "    c = []\n",
    "    if len(a) > len(b):\n",
    "        cycle = len(a)\n",
    "    else:\n",
    "        cycle = len(b)\n",
    "    \n",
    "    i = 1\n",
    "    while i <= cycle:\n",
    "        if i <= len(a):\n",
    "            c.append(a[i-1])\n",
    "        if i <= len(b):\n",
    "            c.append(b[i-1])\n",
    "        i = i+1\n",
    "    return c"
   ]
  },
  {
   "cell_type": "code",
   "execution_count": 7,
   "id": "82f37e2e",
   "metadata": {
    "pycharm": {
     "name": "#%%\n"
    }
   },
   "outputs": [],
   "source": [
    "a = ['a','b','c']"
   ]
  },
  {
   "cell_type": "code",
   "execution_count": 8,
   "id": "56bfbe52",
   "metadata": {
    "pycharm": {
     "name": "#%%\n"
    }
   },
   "outputs": [],
   "source": [
    "b = [1,2,3]"
   ]
  },
  {
   "cell_type": "code",
   "execution_count": 13,
   "id": "422646aa",
   "metadata": {
    "pycharm": {
     "name": "#%%\n"
    }
   },
   "outputs": [
    {
     "data": {
      "text/plain": [
       "['a', 'b', 'c']"
      ]
     },
     "execution_count": 13,
     "metadata": {},
     "output_type": "execute_result"
    }
   ],
   "source": [
    "alternator(a,b)"
   ]
  }
 ],
 "metadata": {
  "kernelspec": {
   "display_name": "Python 3 (ipykernel)",
   "language": "python",
   "name": "python3"
  },
  "language_info": {
   "codemirror_mode": {
    "name": "ipython",
    "version": 3
   },
   "file_extension": ".py",
   "mimetype": "text/x-python",
   "name": "python",
   "nbconvert_exporter": "python",
   "pygments_lexer": "ipython3",
   "version": "3.10.4"
  }
 },
 "nbformat": 4,
 "nbformat_minor": 5
}