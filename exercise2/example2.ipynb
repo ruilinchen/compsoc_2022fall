{
 "cells": [
  {
   "cell_type": "code",
   "execution_count": 183,
   "metadata": {
    "pycharm": {
     "name": "#%%\n"
    }
   },
   "outputs": [
    {
     "name": "stdout",
     "output_type": "stream",
     "text": [
      "14.5\n",
      "type(n) = <class 'float'>\n",
      "type(d) = <class 'int'>\n",
      "type(b) = <class 'int'>\n",
      "type(z) = <class 'int'>\n"
     ]
    }
   ],
   "source": [
    "#task 2.1\n",
    "def sum_for_four(n,d,b,z):\n",
    "   print(n + d + b +z)\n",
    "   print('type(n) =', type(n))\n",
    "   print('type(d) =', type(d))\n",
    "   print('type(b) =', type(b))\n",
    "   print('type(z) =', type(z))\n",
    "\n",
    "sum_for_four(2.5,3,4,5)\n"
   ]
  },
  {
   "cell_type": "markdown",
   "source": [],
   "metadata": {
    "collapsed": false,
    "pycharm": {
     "name": "#%% md\n"
    }
   }
  },
  {
   "cell_type": "code",
   "execution_count": 184,
   "outputs": [
    {
     "name": "stdout",
     "output_type": "stream",
     "text": [
      "10 WARNING: output is based off integer\n"
     ]
    }
   ],
   "source": [
    "#task 2.2\n",
    "def number_n():\n",
    "    n = float(input(\"Enter a number:\"))\n",
    "    print(int(n * (n + 1) / 2), 'WARNING: output is based off integer')\n",
    "number_n()"
   ],
   "metadata": {
    "collapsed": false,
    "pycharm": {
     "name": "#%%\n"
    }
   }
  },
  {
   "cell_type": "code",
   "execution_count": 185,
   "outputs": [
    {
     "name": "stdout",
     "output_type": "stream",
     "text": [
      "7\n"
     ]
    }
   ],
   "source": [
    "#This is what I was trying to do for 'if' commands--although I am doing something wrong. This was a second try for 2.2\n",
    "def number_n():\n",
    "    n = eval(input(\"Enter a number:\"))\n",
    "    print( int(n * (n + 1) / 2))\n",
    "    if n == int:\n",
    "        print(int(n * (n + 1) / 2))\n",
    "\n",
    "    elif n == float:\n",
    "        print(int(n * (n + 1) / 2), 'WARNING: output is based off integer')\n",
    "\n",
    "    elif n== str:\n",
    "        print ('ERROR')\n",
    "\n",
    "number_n()"
   ],
   "metadata": {
    "collapsed": false,
    "pycharm": {
     "name": "#%%\n"
    }
   }
  },
  {
   "cell_type": "code",
   "execution_count": 186,
   "outputs": [
    {
     "data": {
      "text/plain": "0.8658111428569177"
     },
     "execution_count": 186,
     "metadata": {},
     "output_type": "execute_result"
    }
   ],
   "source": [
    "#task 2.3\n",
    "import random\n",
    "\n",
    "random.random()\n"
   ],
   "metadata": {
    "collapsed": false,
    "pycharm": {
     "name": "#%%\n"
    }
   }
  },
  {
   "cell_type": "markdown",
   "source": [
    "### Guesses for 2.3\n",
    "#### And I do really mean guesses\n",
    "* 'random.random()' seems to run a function that exists within 'random'.\n",
    "* 'random.random' classifies where the code is coming from.\n",
    "* I think the dot symbol classifies where the function is coming from, so 'random()' is being called from the code block within 'random'.\n",
    "* I think 'import random' imports the code chain for 'random' from another project--including functions created in it."
   ],
   "metadata": {
    "collapsed": false,
    "pycharm": {
     "name": "#%% md\n"
    }
   }
  }
 ],
 "metadata": {
  "kernelspec": {
   "display_name": "Python 3 (ipykernel)",
   "language": "python",
   "name": "python3"
  },
  "language_info": {
   "codemirror_mode": {
    "name": "ipython",
    "version": 3
   },
   "file_extension": ".py",
   "mimetype": "text/x-python",
   "name": "python",
   "nbconvert_exporter": "python",
   "pygments_lexer": "ipython3",
   "version": "3.8.13"
  }
 },
 "nbformat": 4,
 "nbformat_minor": 1
}