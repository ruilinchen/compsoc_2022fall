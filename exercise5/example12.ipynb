{
 "cells": [
  {
   "cell_type": "markdown",
   "id": "2882f986",
   "metadata": {
    "pycharm": {
     "name": "#%% md\n"
    }
   },
   "source": [
    "## Task5.1"
   ]
  },
  {
   "cell_type": "code",
   "execution_count": 6,
   "id": "d7631845",
   "metadata": {
    "pycharm": {
     "name": "#%%\n"
    }
   },
   "outputs": [],
   "source": [
    "import os  ##using the module"
   ]
  },
  {
   "cell_type": "code",
   "execution_count": 7,
   "id": "c08b7df8",
   "metadata": {
    "pycharm": {
     "name": "#%%\n"
    }
   },
   "outputs": [],
   "source": [
    "dirname =\"/Users/edu/Documents/compsoc/code/MA_cbg_human_mobility_2019\""
   ]
  },
  {
   "cell_type": "code",
   "execution_count": 8,
   "id": "76758aa0",
   "metadata": {
    "pycharm": {
     "name": "#%%\n"
    }
   },
   "outputs": [],
   "source": [
    "ext = ('csv') ## targeting the file extension"
   ]
  },
  {
   "cell_type": "code",
   "execution_count": 10,
   "id": "bb490b22",
   "metadata": {
    "pycharm": {
     "name": "#%%\n"
    }
   },
   "outputs": [
    {
     "name": "stdout",
     "output_type": "stream",
     "text": [
      "MA_cbg2cbg_2019_09.csv\n",
      "MA_cbg2cbg_2019_08.csv\n",
      "MA_cbg2cbg_2019_03.csv\n",
      "MA_cbg2cbg_2019_02.csv\n",
      "MA_cbg2cbg_2019_01.csv\n",
      "MA_cbg2cbg_2019_05.csv\n",
      "MA_cbg2cbg_2019_11.csv\n",
      "MA_cbg2cbg_2019_10.csv\n",
      "MA_cbg2cbg_2019_04.csv\n",
      "MA_cbg2cbg_2019_12.csv\n",
      "MA_cbg2cbg_2019_06.csv\n",
      "MA_cbg2cbg_2019_07.csv\n"
     ]
    }
   ],
   "source": [
    "for files in os.listdir(dirname): ##looping \n",
    "    if files.endswith(ext):\n",
    "        print (files)  ##printing filed name ends with .csv\n",
    "    else:\n",
    "        continue"
   ]
  },
  {
   "cell_type": "markdown",
   "id": "f17f7213",
   "metadata": {
    "pycharm": {
     "name": "#%% md\n"
    }
   },
   "source": [
    "## Task5.2"
   ]
  },
  {
   "cell_type": "code",
   "execution_count": 22,
   "id": "0c89ca85",
   "metadata": {
    "pycharm": {
     "name": "#%%\n"
    }
   },
   "outputs": [
    {
     "name": "stdout",
     "output_type": "stream",
     "text": [
      "MA_cbg2cbg_2019_09.csv\n",
      "total lines: 1136954\n",
      "1136954\n",
      "MA_cbg2cbg_2019_08.csv\n",
      "total lines: 1194285\n",
      "2331239\n",
      "MA_cbg2cbg_2019_03.csv\n",
      "total lines: 914654\n",
      "3245893\n",
      "MA_cbg2cbg_2019_02.csv\n",
      "total lines: 818862\n",
      "4064755\n",
      "MA_cbg2cbg_2019_01.csv\n",
      "total lines: 840594\n",
      "4905349\n",
      "MA_cbg2cbg_2019_05.csv\n",
      "total lines: 1088295\n",
      "5993644\n",
      "MA_cbg2cbg_2019_11.csv\n",
      "total lines: 901469\n",
      "6895113\n",
      "MA_cbg2cbg_2019_10.csv\n",
      "total lines: 1010778\n",
      "7905891\n",
      "MA_cbg2cbg_2019_04.csv\n",
      "total lines: 1011375\n",
      "8917266\n",
      "MA_cbg2cbg_2019_12.csv\n",
      "total lines: 950662\n",
      "9867928\n",
      "MA_cbg2cbg_2019_06.csv\n",
      "total lines: 1120697\n",
      "10988625\n",
      "MA_cbg2cbg_2019_07.csv\n",
      "total lines: 1119933\n",
      "12108558\n"
     ]
    }
   ],
   "source": [
    "import os\n",
    "\n",
    "dirnmae = \"\"\n",
    "\n",
    "ext = ('csv')  ##target the extension\n",
    "\n",
    "total_lines = 0  ##consider the total lines of the folder as a pool, each looping add new \"total lines\" to the pool\n",
    "\n",
    "for files in os.listdir(dirname): \n",
    "    if files.endswith(ext):\n",
    "        print (files)  ##using the core looping from task5.1\n",
    "        with open(\"/Users/edu/Documents/compsoc/code/MA_cbg_human_mobility_2019/\" + files) as fp: \n",
    "            num_lines = sum(1 for line in fp)  ##each time the name come with the total line of each file \n",
    "            total_lines += num_lines\n",
    "            print('total lines:', num_lines)\n",
    "    else:\n",
    "        continue\n",
    "    print(total_lines)"
   ]
  },
  {
   "cell_type": "markdown",
   "id": "640f59e6",
   "metadata": {
    "pycharm": {
     "name": "#%% md\n"
    }
   },
   "source": [
    "## Task5.3"
   ]
  },
  {
   "cell_type": "code",
   "execution_count": 26,
   "id": "176d995f",
   "metadata": {
    "pycharm": {
     "name": "#%%\n"
    }
   },
   "outputs": [
    {
     "name": "stdout",
     "output_type": "stream",
     "text": [
      "MA_cbg2cbg_2019_09.csv\n",
      "total lines: 1136954\n",
      "MA_cbg2cbg_2019_08.csv\n",
      "total lines: 1194285\n",
      "MA_cbg2cbg_2019_03.csv\n",
      "total lines: 914654\n",
      "MA_cbg2cbg_2019_02.csv\n",
      "total lines: 818862\n",
      "MA_cbg2cbg_2019_01.csv\n",
      "total lines: 840594\n",
      "MA_cbg2cbg_2019_05.csv\n",
      "total lines: 1088295\n",
      "MA_cbg2cbg_2019_11.csv\n",
      "total lines: 901469\n",
      "MA_cbg2cbg_2019_10.csv\n",
      "total lines: 1010778\n",
      "MA_cbg2cbg_2019_04.csv\n",
      "total lines: 1011375\n",
      "MA_cbg2cbg_2019_12.csv\n",
      "total lines: 950662\n",
      "MA_cbg2cbg_2019_06.csv\n",
      "total lines: 1120697\n",
      "MA_cbg2cbg_2019_07.csv\n",
      "total lines: 1119933\n"
     ]
    }
   ],
   "source": [
    "import os\n",
    "\n",
    "dirnmae = \"\"\n",
    "\n",
    "ext = ('csv')\n",
    "\n",
    "d= {}\n",
    "\n",
    "for files in os.listdir(dirname): \n",
    "    if files.endswith(ext):\n",
    "        print (files)  \n",
    "        with open(\"/Users/edu/Documents/compsoc/code/MA_cbg_human_mobility_2019/\" + files) as fp:\n",
    "            num_lines = sum(1 for line in fp)\n",
    "            d[files]= num_lines\n",
    "            print('total lines:', num_lines) ## the file name and total lines have been made corresponding since Task5.2\n",
    "    else:                                    ##but not in the form of .json\n",
    "        continue\n",
    "import json \n",
    "\n",
    "with open(\"Task_5_3\", \"w\") as fp: ##save the output as .json file, there is a file named Task_5_3 being created in the folder\n",
    "    json.dump(d,fp) "
   ]
  },
  {
   "cell_type": "code",
   "execution_count": null,
   "id": "4137e83c",
   "metadata": {
    "pycharm": {
     "name": "#%%\n"
    }
   },
   "outputs": [],
   "source": []
  }
 ],
 "metadata": {
  "kernelspec": {
   "display_name": "Python 3 (ipykernel)",
   "language": "python",
   "name": "python3"
  },
  "language_info": {
   "codemirror_mode": {
    "name": "ipython",
    "version": 3
   },
   "file_extension": ".py",
   "mimetype": "text/x-python",
   "name": "python",
   "nbconvert_exporter": "python",
   "pygments_lexer": "ipython3",
   "version": "3.9.12"
  }
 },
 "nbformat": 4,
 "nbformat_minor": 5
}