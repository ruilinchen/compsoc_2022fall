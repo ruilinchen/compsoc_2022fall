{
 "cells": [
  {
   "cell_type": "code",
   "execution_count": 1,
   "id": "d1b49ea7",
   "metadata": {
    "pycharm": {
     "name": "#%%\n"
    }
   },
   "outputs": [
    {
     "name": "stdout",
     "output_type": "stream",
     "text": [
      "The sum is 14\n"
     ]
    }
   ],
   "source": [
    "\n",
    "def sumForFour():\n",
    "    num1 = int(input(\"please input Number 1: \"))\n",
    "    num2 = int(input(\"please input Number 2: \"))\n",
    "    num3 = int(input(\"please input Number 3: \"))\n",
    "    num4 = int(input(\"please input Number 4: \"))\n",
    "    sum = num1+num2+num3+num4\n",
    "\n",
    "    print(\"The sum is\", sum)\n",
    "    \n",
    "sumForFour()\n",
    "    \n",
    "    \n"
   ]
  },
  {
   "cell_type": "code",
   "execution_count": 2,
   "id": "4d78bb33",
   "metadata": {
    "pycharm": {
     "name": "#%%\n"
    }
   },
   "outputs": [
    {
     "name": "stdout",
     "output_type": "stream",
     "text": [
      "The sum from 1 to 10 is:  55\n"
     ]
    }
   ],
   "source": [
    "\n",
    "def sumN():\n",
    "    n = int(input(\"please input a number: \"))\n",
    "    print(\"The sum from 1 to\", n, \"is: \" , sum(range(1,n+1)))\n",
    "\n",
    "sumN()\n"
   ]
  },
  {
   "cell_type": "code",
   "execution_count": 3,
   "id": "22cf84ae",
   "metadata": {
    "scrolled": true,
    "pycharm": {
     "name": "#%%\n"
    }
   },
   "outputs": [
    {
     "data": {
      "text/plain": "0.06541871075078176"
     },
     "execution_count": 3,
     "metadata": {},
     "output_type": "execute_result"
    }
   ],
   "source": [
    "import random \n",
    "random.random()"
   ]
  },
  {
   "cell_type": "markdown",
   "id": "03f8877e",
   "metadata": {
    "pycharm": {
     "name": "#%% md\n"
    }
   },
   "source": [
    "- I think random.random() generates a random number between 0 to 1 here. \n",
    "- I think random.random means a random number with random diget.\n",
    "- I think \".\" is the specific function under the other function.\n",
    "- I think \"import random\" is setting up the environment for our following steps, maybe before we do not have the function of generating random digets, and after importing this function in, we now can generate random. \n",
    "\n"
   ]
  }
 ],
 "metadata": {
  "kernelspec": {
   "display_name": "Python 3 (ipykernel)",
   "language": "python",
   "name": "python3"
  },
  "language_info": {
   "codemirror_mode": {
    "name": "ipython",
    "version": 3
   },
   "file_extension": ".py",
   "mimetype": "text/x-python",
   "name": "python",
   "nbconvert_exporter": "python",
   "pygments_lexer": "ipython3",
   "version": "3.9.12"
  }
 },
 "nbformat": 4,
 "nbformat_minor": 5
}