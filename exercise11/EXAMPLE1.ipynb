{
 "cells": [
  {
   "cell_type": "markdown",
   "id": "ded7173b",
   "metadata": {
    "pycharm": {
     "name": "#%% md\n"
    }
   },
   "source": [
    "## Task 1.\n",
    "\n",
    "On March 11, 2020, the World Health Organization (WHO) declared COVID-19, the disease caused by the SARS-CoV-2, a pandemic. Two days later, the Trump Administration declares a nationwide emergency and issues an additional travel ban on non-U.S. citizens traveling from 26 European countries due to COVID-19. \n",
    "\n",
    "The two provided csv files described the human mobility pattern of MA residents right before and after the outbreak of the COVID-19 pandemic in the US. Read them into pandas and calculate at least three metrics that we can use to understand the change in people’s mobility patterns due to COVID. "
   ]
  },
  {
   "cell_type": "code",
   "execution_count": 1,
   "id": "6fe5ab23",
   "metadata": {
    "pycharm": {
     "name": "#%%\n"
    }
   },
   "outputs": [],
   "source": [
    "import pandas as pd\n",
    "import os\n",
    "os.chdir(r\"C:\\Users\\[editted]\\Documents\\Me\\BC\\Advance\\Data\\jupyter\\exercise11\\MA_cbg_human_mobility_2020\")\n",
    "feb_mobility = pd.read_csv(\"MA_cbg2cbg_2020_02.csv\")\n",
    "april_mobility = pd.read_csv(\"MA_cbg2cbg_2020_04.csv\")"
   ]
  },
  {
   "cell_type": "code",
   "execution_count": 2,
   "id": "a0d53cf5",
   "metadata": {
    "pycharm": {
     "name": "#%%\n"
    }
   },
   "outputs": [
    {
     "data": {
      "text/html": [
       "<div>\n",
       "<style scoped>\n",
       "    .dataframe tbody tr th:only-of-type {\n",
       "        vertical-align: middle;\n",
       "    }\n",
       "\n",
       "    .dataframe tbody tr th {\n",
       "        vertical-align: top;\n",
       "    }\n",
       "\n",
       "    .dataframe thead th {\n",
       "        text-align: right;\n",
       "    }\n",
       "</style>\n",
       "<table border=\"1\" class=\"dataframe\">\n",
       "  <thead>\n",
       "    <tr style=\"text-align: right;\">\n",
       "      <th></th>\n",
       "      <th>poi_cbg</th>\n",
       "      <th>year_month</th>\n",
       "      <th>raw_device_counts</th>\n",
       "      <th>visitor_census_tract</th>\n",
       "      <th>visitor_count</th>\n",
       "    </tr>\n",
       "  </thead>\n",
       "  <tbody>\n",
       "    <tr>\n",
       "      <th>0</th>\n",
       "      <td>250056551003</td>\n",
       "      <td>2020_2</td>\n",
       "      <td>1400</td>\n",
       "      <td>250056551003</td>\n",
       "      <td>95</td>\n",
       "    </tr>\n",
       "    <tr>\n",
       "      <th>1</th>\n",
       "      <td>250056551003</td>\n",
       "      <td>2020_2</td>\n",
       "      <td>1400</td>\n",
       "      <td>250056551002</td>\n",
       "      <td>65</td>\n",
       "    </tr>\n",
       "    <tr>\n",
       "      <th>2</th>\n",
       "      <td>250056551003</td>\n",
       "      <td>2020_2</td>\n",
       "      <td>1400</td>\n",
       "      <td>250056554001</td>\n",
       "      <td>40</td>\n",
       "    </tr>\n",
       "    <tr>\n",
       "      <th>3</th>\n",
       "      <td>250056551003</td>\n",
       "      <td>2020_2</td>\n",
       "      <td>1400</td>\n",
       "      <td>250056516002</td>\n",
       "      <td>38</td>\n",
       "    </tr>\n",
       "    <tr>\n",
       "      <th>4</th>\n",
       "      <td>250056551003</td>\n",
       "      <td>2020_2</td>\n",
       "      <td>1400</td>\n",
       "      <td>250056551001</td>\n",
       "      <td>38</td>\n",
       "    </tr>\n",
       "  </tbody>\n",
       "</table>\n",
       "</div>"
      ],
      "text/plain": [
       "        poi_cbg year_month  raw_device_counts  visitor_census_tract  \\\n",
       "0  250056551003     2020_2               1400          250056551003   \n",
       "1  250056551003     2020_2               1400          250056551002   \n",
       "2  250056551003     2020_2               1400          250056554001   \n",
       "3  250056551003     2020_2               1400          250056516002   \n",
       "4  250056551003     2020_2               1400          250056551001   \n",
       "\n",
       "   visitor_count  \n",
       "0             95  \n",
       "1             65  \n",
       "2             40  \n",
       "3             38  \n",
       "4             38  "
      ]
     },
     "execution_count": 2,
     "metadata": {},
     "output_type": "execute_result"
    }
   ],
   "source": [
    "feb_mobility.head()"
   ]
  },
  {
   "cell_type": "code",
   "execution_count": 3,
   "id": "8f99aa95",
   "metadata": {
    "pycharm": {
     "name": "#%%\n"
    }
   },
   "outputs": [
    {
     "data": {
      "text/html": [
       "<div>\n",
       "<style scoped>\n",
       "    .dataframe tbody tr th:only-of-type {\n",
       "        vertical-align: middle;\n",
       "    }\n",
       "\n",
       "    .dataframe tbody tr th {\n",
       "        vertical-align: top;\n",
       "    }\n",
       "\n",
       "    .dataframe thead th {\n",
       "        text-align: right;\n",
       "    }\n",
       "</style>\n",
       "<table border=\"1\" class=\"dataframe\">\n",
       "  <thead>\n",
       "    <tr style=\"text-align: right;\">\n",
       "      <th></th>\n",
       "      <th>poi_cbg</th>\n",
       "      <th>raw_device_counts</th>\n",
       "      <th>visitor_census_tract</th>\n",
       "      <th>visitor_count</th>\n",
       "    </tr>\n",
       "  </thead>\n",
       "  <tbody>\n",
       "    <tr>\n",
       "      <th>count</th>\n",
       "      <td>9.394390e+05</td>\n",
       "      <td>939439.000000</td>\n",
       "      <td>9.394390e+05</td>\n",
       "      <td>939439.000000</td>\n",
       "    </tr>\n",
       "    <tr>\n",
       "      <th>mean</th>\n",
       "      <td>2.501819e+11</td>\n",
       "      <td>5009.715380</td>\n",
       "      <td>2.598710e+11</td>\n",
       "      <td>6.931361</td>\n",
       "    </tr>\n",
       "    <tr>\n",
       "      <th>std</th>\n",
       "      <td>7.318529e+07</td>\n",
       "      <td>9815.890268</td>\n",
       "      <td>6.696892e+10</td>\n",
       "      <td>15.866447</td>\n",
       "    </tr>\n",
       "    <tr>\n",
       "      <th>min</th>\n",
       "      <td>2.500101e+11</td>\n",
       "      <td>6.000000</td>\n",
       "      <td>1.001021e+10</td>\n",
       "      <td>4.000000</td>\n",
       "    </tr>\n",
       "    <tr>\n",
       "      <th>25%</th>\n",
       "      <td>2.501381e+11</td>\n",
       "      <td>1108.000000</td>\n",
       "      <td>2.500926e+11</td>\n",
       "      <td>4.000000</td>\n",
       "    </tr>\n",
       "    <tr>\n",
       "      <th>50%</th>\n",
       "      <td>2.501737e+11</td>\n",
       "      <td>2264.000000</td>\n",
       "      <td>2.501738e+11</td>\n",
       "      <td>4.000000</td>\n",
       "    </tr>\n",
       "    <tr>\n",
       "      <th>75%</th>\n",
       "      <td>2.502503e+11</td>\n",
       "      <td>4904.000000</td>\n",
       "      <td>2.502514e+11</td>\n",
       "      <td>5.000000</td>\n",
       "    </tr>\n",
       "    <tr>\n",
       "      <th>max</th>\n",
       "      <td>2.502776e+11</td>\n",
       "      <td>81673.000000</td>\n",
       "      <td>7.803096e+11</td>\n",
       "      <td>3409.000000</td>\n",
       "    </tr>\n",
       "  </tbody>\n",
       "</table>\n",
       "</div>"
      ],
      "text/plain": [
       "            poi_cbg  raw_device_counts  visitor_census_tract  visitor_count\n",
       "count  9.394390e+05      939439.000000          9.394390e+05  939439.000000\n",
       "mean   2.501819e+11        5009.715380          2.598710e+11       6.931361\n",
       "std    7.318529e+07        9815.890268          6.696892e+10      15.866447\n",
       "min    2.500101e+11           6.000000          1.001021e+10       4.000000\n",
       "25%    2.501381e+11        1108.000000          2.500926e+11       4.000000\n",
       "50%    2.501737e+11        2264.000000          2.501738e+11       4.000000\n",
       "75%    2.502503e+11        4904.000000          2.502514e+11       5.000000\n",
       "max    2.502776e+11       81673.000000          7.803096e+11    3409.000000"
      ]
     },
     "execution_count": 3,
     "metadata": {},
     "output_type": "execute_result"
    }
   ],
   "source": [
    "feb_mobility.describe()"
   ]
  },
  {
   "cell_type": "code",
   "execution_count": 4,
   "id": "dadf3af1",
   "metadata": {
    "pycharm": {
     "name": "#%%\n"
    }
   },
   "outputs": [
    {
     "data": {
      "text/html": [
       "<div>\n",
       "<style scoped>\n",
       "    .dataframe tbody tr th:only-of-type {\n",
       "        vertical-align: middle;\n",
       "    }\n",
       "\n",
       "    .dataframe tbody tr th {\n",
       "        vertical-align: top;\n",
       "    }\n",
       "\n",
       "    .dataframe thead th {\n",
       "        text-align: right;\n",
       "    }\n",
       "</style>\n",
       "<table border=\"1\" class=\"dataframe\">\n",
       "  <thead>\n",
       "    <tr style=\"text-align: right;\">\n",
       "      <th></th>\n",
       "      <th>poi_cbg</th>\n",
       "      <th>raw_device_counts</th>\n",
       "      <th>visitor_census_tract</th>\n",
       "      <th>visitor_count</th>\n",
       "    </tr>\n",
       "  </thead>\n",
       "  <tbody>\n",
       "    <tr>\n",
       "      <th>count</th>\n",
       "      <td>3.848260e+05</td>\n",
       "      <td>384826.000000</td>\n",
       "      <td>3.848260e+05</td>\n",
       "      <td>384826.000000</td>\n",
       "    </tr>\n",
       "    <tr>\n",
       "      <th>mean</th>\n",
       "      <td>2.501736e+11</td>\n",
       "      <td>1427.370861</td>\n",
       "      <td>2.570546e+11</td>\n",
       "      <td>7.260037</td>\n",
       "    </tr>\n",
       "    <tr>\n",
       "      <th>std</th>\n",
       "      <td>7.666199e+07</td>\n",
       "      <td>2259.596925</td>\n",
       "      <td>4.954369e+10</td>\n",
       "      <td>21.556619</td>\n",
       "    </tr>\n",
       "    <tr>\n",
       "      <th>min</th>\n",
       "      <td>2.500101e+11</td>\n",
       "      <td>8.000000</td>\n",
       "      <td>1.001021e+10</td>\n",
       "      <td>4.000000</td>\n",
       "    </tr>\n",
       "    <tr>\n",
       "      <th>25%</th>\n",
       "      <td>2.500927e+11</td>\n",
       "      <td>465.000000</td>\n",
       "      <td>2.500926e+11</td>\n",
       "      <td>4.000000</td>\n",
       "    </tr>\n",
       "    <tr>\n",
       "      <th>50%</th>\n",
       "      <td>2.501735e+11</td>\n",
       "      <td>806.000000</td>\n",
       "      <td>2.501737e+11</td>\n",
       "      <td>4.000000</td>\n",
       "    </tr>\n",
       "    <tr>\n",
       "      <th>75%</th>\n",
       "      <td>2.502355e+11</td>\n",
       "      <td>1611.000000</td>\n",
       "      <td>2.502509e+11</td>\n",
       "      <td>5.000000</td>\n",
       "    </tr>\n",
       "    <tr>\n",
       "      <th>max</th>\n",
       "      <td>2.502776e+11</td>\n",
       "      <td>23965.000000</td>\n",
       "      <td>7.215375e+11</td>\n",
       "      <td>4956.000000</td>\n",
       "    </tr>\n",
       "  </tbody>\n",
       "</table>\n",
       "</div>"
      ],
      "text/plain": [
       "            poi_cbg  raw_device_counts  visitor_census_tract  visitor_count\n",
       "count  3.848260e+05      384826.000000          3.848260e+05  384826.000000\n",
       "mean   2.501736e+11        1427.370861          2.570546e+11       7.260037\n",
       "std    7.666199e+07        2259.596925          4.954369e+10      21.556619\n",
       "min    2.500101e+11           8.000000          1.001021e+10       4.000000\n",
       "25%    2.500927e+11         465.000000          2.500926e+11       4.000000\n",
       "50%    2.501735e+11         806.000000          2.501737e+11       4.000000\n",
       "75%    2.502355e+11        1611.000000          2.502509e+11       5.000000\n",
       "max    2.502776e+11       23965.000000          7.215375e+11    4956.000000"
      ]
     },
     "execution_count": 4,
     "metadata": {},
     "output_type": "execute_result"
    }
   ],
   "source": [
    "april_mobility.describe()"
   ]
  },
  {
   "cell_type": "code",
   "execution_count": 5,
   "id": "17ab2822",
   "metadata": {
    "pycharm": {
     "name": "#%%\n"
    }
   },
   "outputs": [],
   "source": [
    "#much fewer visitors, interesting that the max is larger though\n",
    "#much fewer raw_device_count, which is curious since it claims thats the total number of devices in the origin census block.\n",
    "april_group = april_mobility.groupby('poi_cbg').agg({'raw_device_counts':'min', 'visitor_count':'sum'})"
   ]
  },
  {
   "cell_type": "code",
   "execution_count": 6,
   "id": "df9ae2c8",
   "metadata": {
    "pycharm": {
     "name": "#%%\n"
    }
   },
   "outputs": [
    {
     "data": {
      "text/html": [
       "<div>\n",
       "<style scoped>\n",
       "    .dataframe tbody tr th:only-of-type {\n",
       "        vertical-align: middle;\n",
       "    }\n",
       "\n",
       "    .dataframe tbody tr th {\n",
       "        vertical-align: top;\n",
       "    }\n",
       "\n",
       "    .dataframe thead th {\n",
       "        text-align: right;\n",
       "    }\n",
       "</style>\n",
       "<table border=\"1\" class=\"dataframe\">\n",
       "  <thead>\n",
       "    <tr style=\"text-align: right;\">\n",
       "      <th></th>\n",
       "      <th>raw_device_counts</th>\n",
       "      <th>visitor_count</th>\n",
       "    </tr>\n",
       "    <tr>\n",
       "      <th>poi_cbg</th>\n",
       "      <th></th>\n",
       "      <th></th>\n",
       "    </tr>\n",
       "  </thead>\n",
       "  <tbody>\n",
       "    <tr>\n",
       "      <th>250010101001</th>\n",
       "      <td>450</td>\n",
       "      <td>386</td>\n",
       "    </tr>\n",
       "    <tr>\n",
       "      <th>250010101002</th>\n",
       "      <td>159</td>\n",
       "      <td>142</td>\n",
       "    </tr>\n",
       "    <tr>\n",
       "      <th>250010101003</th>\n",
       "      <td>144</td>\n",
       "      <td>113</td>\n",
       "    </tr>\n",
       "    <tr>\n",
       "      <th>250010101004</th>\n",
       "      <td>368</td>\n",
       "      <td>291</td>\n",
       "    </tr>\n",
       "    <tr>\n",
       "      <th>250010101005</th>\n",
       "      <td>238</td>\n",
       "      <td>177</td>\n",
       "    </tr>\n",
       "    <tr>\n",
       "      <th>...</th>\n",
       "      <td>...</td>\n",
       "      <td>...</td>\n",
       "    </tr>\n",
       "    <tr>\n",
       "      <th>250277614002</th>\n",
       "      <td>290</td>\n",
       "      <td>222</td>\n",
       "    </tr>\n",
       "    <tr>\n",
       "      <th>250277614003</th>\n",
       "      <td>371</td>\n",
       "      <td>295</td>\n",
       "    </tr>\n",
       "    <tr>\n",
       "      <th>250277614004</th>\n",
       "      <td>267</td>\n",
       "      <td>216</td>\n",
       "    </tr>\n",
       "    <tr>\n",
       "      <th>250277614005</th>\n",
       "      <td>465</td>\n",
       "      <td>430</td>\n",
       "    </tr>\n",
       "    <tr>\n",
       "      <th>250277614006</th>\n",
       "      <td>1008</td>\n",
       "      <td>824</td>\n",
       "    </tr>\n",
       "  </tbody>\n",
       "</table>\n",
       "<p>4984 rows × 2 columns</p>\n",
       "</div>"
      ],
      "text/plain": [
       "              raw_device_counts  visitor_count\n",
       "poi_cbg                                       \n",
       "250010101001                450            386\n",
       "250010101002                159            142\n",
       "250010101003                144            113\n",
       "250010101004                368            291\n",
       "250010101005                238            177\n",
       "...                         ...            ...\n",
       "250277614002                290            222\n",
       "250277614003                371            295\n",
       "250277614004                267            216\n",
       "250277614005                465            430\n",
       "250277614006               1008            824\n",
       "\n",
       "[4984 rows x 2 columns]"
      ]
     },
     "execution_count": 6,
     "metadata": {},
     "output_type": "execute_result"
    }
   ],
   "source": [
    "april_group"
   ]
  },
  {
   "cell_type": "code",
   "execution_count": 7,
   "id": "a9df7f6a",
   "metadata": {
    "pycharm": {
     "name": "#%%\n"
    }
   },
   "outputs": [],
   "source": [
    "#ah okay, so its a number very close to the visitor count sum, not necessarily the total num of devices"
   ]
  },
  {
   "cell_type": "code",
   "execution_count": 8,
   "id": "af2e0783",
   "metadata": {
    "pycharm": {
     "name": "#%%\n"
    }
   },
   "outputs": [
    {
     "data": {
      "text/html": [
       "<div>\n",
       "<style scoped>\n",
       "    .dataframe tbody tr th:only-of-type {\n",
       "        vertical-align: middle;\n",
       "    }\n",
       "\n",
       "    .dataframe tbody tr th {\n",
       "        vertical-align: top;\n",
       "    }\n",
       "\n",
       "    .dataframe thead th {\n",
       "        text-align: right;\n",
       "    }\n",
       "</style>\n",
       "<table border=\"1\" class=\"dataframe\">\n",
       "  <thead>\n",
       "    <tr style=\"text-align: right;\">\n",
       "      <th></th>\n",
       "      <th>raw_device_counts</th>\n",
       "      <th>visitor_count</th>\n",
       "    </tr>\n",
       "    <tr>\n",
       "      <th>poi_cbg</th>\n",
       "      <th></th>\n",
       "      <th></th>\n",
       "    </tr>\n",
       "  </thead>\n",
       "  <tbody>\n",
       "    <tr>\n",
       "      <th>250010105002</th>\n",
       "      <td>351</td>\n",
       "      <td>356</td>\n",
       "    </tr>\n",
       "    <tr>\n",
       "      <th>250010122004</th>\n",
       "      <td>299</td>\n",
       "      <td>319</td>\n",
       "    </tr>\n",
       "    <tr>\n",
       "      <th>250039008005</th>\n",
       "      <td>133</td>\n",
       "      <td>139</td>\n",
       "    </tr>\n",
       "    <tr>\n",
       "      <th>250039223001</th>\n",
       "      <td>287</td>\n",
       "      <td>291</td>\n",
       "    </tr>\n",
       "    <tr>\n",
       "      <th>250056171015</th>\n",
       "      <td>19</td>\n",
       "      <td>20</td>\n",
       "    </tr>\n",
       "    <tr>\n",
       "      <th>250056532034</th>\n",
       "      <td>291</td>\n",
       "      <td>297</td>\n",
       "    </tr>\n",
       "    <tr>\n",
       "      <th>250092021025</th>\n",
       "      <td>158</td>\n",
       "      <td>163</td>\n",
       "    </tr>\n",
       "    <tr>\n",
       "      <th>250092172023</th>\n",
       "      <td>113</td>\n",
       "      <td>115</td>\n",
       "    </tr>\n",
       "    <tr>\n",
       "      <th>250092175001</th>\n",
       "      <td>187</td>\n",
       "      <td>196</td>\n",
       "    </tr>\n",
       "    <tr>\n",
       "      <th>250092181005</th>\n",
       "      <td>262</td>\n",
       "      <td>276</td>\n",
       "    </tr>\n",
       "    <tr>\n",
       "      <th>250092531001</th>\n",
       "      <td>337</td>\n",
       "      <td>358</td>\n",
       "    </tr>\n",
       "    <tr>\n",
       "      <th>250110412002</th>\n",
       "      <td>489</td>\n",
       "      <td>505</td>\n",
       "    </tr>\n",
       "    <tr>\n",
       "      <th>250110415011</th>\n",
       "      <td>111</td>\n",
       "      <td>113</td>\n",
       "    </tr>\n",
       "    <tr>\n",
       "      <th>250138018004</th>\n",
       "      <td>356</td>\n",
       "      <td>370</td>\n",
       "    </tr>\n",
       "    <tr>\n",
       "      <th>250138110002</th>\n",
       "      <td>167</td>\n",
       "      <td>181</td>\n",
       "    </tr>\n",
       "    <tr>\n",
       "      <th>250138137021</th>\n",
       "      <td>399</td>\n",
       "      <td>416</td>\n",
       "    </tr>\n",
       "    <tr>\n",
       "      <th>250138137024</th>\n",
       "      <td>56</td>\n",
       "      <td>65</td>\n",
       "    </tr>\n",
       "    <tr>\n",
       "      <th>250173181002</th>\n",
       "      <td>263</td>\n",
       "      <td>292</td>\n",
       "    </tr>\n",
       "    <tr>\n",
       "      <th>250173181003</th>\n",
       "      <td>361</td>\n",
       "      <td>364</td>\n",
       "    </tr>\n",
       "    <tr>\n",
       "      <th>250173183001</th>\n",
       "      <td>261</td>\n",
       "      <td>263</td>\n",
       "    </tr>\n",
       "    <tr>\n",
       "      <th>250173351002</th>\n",
       "      <td>171</td>\n",
       "      <td>174</td>\n",
       "    </tr>\n",
       "    <tr>\n",
       "      <th>250173384001</th>\n",
       "      <td>439</td>\n",
       "      <td>452</td>\n",
       "    </tr>\n",
       "    <tr>\n",
       "      <th>250173394002</th>\n",
       "      <td>117</td>\n",
       "      <td>125</td>\n",
       "    </tr>\n",
       "    <tr>\n",
       "      <th>250173536004</th>\n",
       "      <td>95</td>\n",
       "      <td>101</td>\n",
       "    </tr>\n",
       "    <tr>\n",
       "      <th>250173567016</th>\n",
       "      <td>189</td>\n",
       "      <td>197</td>\n",
       "    </tr>\n",
       "    <tr>\n",
       "      <th>250173572004</th>\n",
       "      <td>218</td>\n",
       "      <td>225</td>\n",
       "    </tr>\n",
       "    <tr>\n",
       "      <th>250173661002</th>\n",
       "      <td>331</td>\n",
       "      <td>338</td>\n",
       "    </tr>\n",
       "    <tr>\n",
       "      <th>250173682002</th>\n",
       "      <td>101</td>\n",
       "      <td>108</td>\n",
       "    </tr>\n",
       "    <tr>\n",
       "      <th>250173745004</th>\n",
       "      <td>543</td>\n",
       "      <td>548</td>\n",
       "    </tr>\n",
       "    <tr>\n",
       "      <th>250214042023</th>\n",
       "      <td>294</td>\n",
       "      <td>319</td>\n",
       "    </tr>\n",
       "    <tr>\n",
       "      <th>250214043022</th>\n",
       "      <td>103</td>\n",
       "      <td>112</td>\n",
       "    </tr>\n",
       "    <tr>\n",
       "      <th>250214044003</th>\n",
       "      <td>158</td>\n",
       "      <td>167</td>\n",
       "    </tr>\n",
       "    <tr>\n",
       "      <th>250235091025</th>\n",
       "      <td>617</td>\n",
       "      <td>634</td>\n",
       "    </tr>\n",
       "    <tr>\n",
       "      <th>250235308021</th>\n",
       "      <td>232</td>\n",
       "      <td>233</td>\n",
       "    </tr>\n",
       "    <tr>\n",
       "      <th>250250007013</th>\n",
       "      <td>57</td>\n",
       "      <td>66</td>\n",
       "    </tr>\n",
       "    <tr>\n",
       "      <th>250250101032</th>\n",
       "      <td>76</td>\n",
       "      <td>83</td>\n",
       "    </tr>\n",
       "    <tr>\n",
       "      <th>250250108013</th>\n",
       "      <td>162</td>\n",
       "      <td>173</td>\n",
       "    </tr>\n",
       "    <tr>\n",
       "      <th>250250924005</th>\n",
       "      <td>580</td>\n",
       "      <td>582</td>\n",
       "    </tr>\n",
       "    <tr>\n",
       "      <th>250251009001</th>\n",
       "      <td>224</td>\n",
       "      <td>226</td>\n",
       "    </tr>\n",
       "    <tr>\n",
       "      <th>250251104035</th>\n",
       "      <td>147</td>\n",
       "      <td>150</td>\n",
       "    </tr>\n",
       "    <tr>\n",
       "      <th>250251106074</th>\n",
       "      <td>210</td>\n",
       "      <td>220</td>\n",
       "    </tr>\n",
       "    <tr>\n",
       "      <th>250251201041</th>\n",
       "      <td>135</td>\n",
       "      <td>140</td>\n",
       "    </tr>\n",
       "    <tr>\n",
       "      <th>250251304063</th>\n",
       "      <td>249</td>\n",
       "      <td>252</td>\n",
       "    </tr>\n",
       "    <tr>\n",
       "      <th>250251402025</th>\n",
       "      <td>114</td>\n",
       "      <td>124</td>\n",
       "    </tr>\n",
       "    <tr>\n",
       "      <th>250251703007</th>\n",
       "      <td>184</td>\n",
       "      <td>187</td>\n",
       "    </tr>\n",
       "    <tr>\n",
       "      <th>250259813001</th>\n",
       "      <td>40</td>\n",
       "      <td>46</td>\n",
       "    </tr>\n",
       "    <tr>\n",
       "      <th>250277251002</th>\n",
       "      <td>259</td>\n",
       "      <td>265</td>\n",
       "    </tr>\n",
       "    <tr>\n",
       "      <th>250277292003</th>\n",
       "      <td>569</td>\n",
       "      <td>576</td>\n",
       "    </tr>\n",
       "    <tr>\n",
       "      <th>250277312021</th>\n",
       "      <td>51</td>\n",
       "      <td>61</td>\n",
       "    </tr>\n",
       "    <tr>\n",
       "      <th>250277611001</th>\n",
       "      <td>359</td>\n",
       "      <td>368</td>\n",
       "    </tr>\n",
       "  </tbody>\n",
       "</table>\n",
       "</div>"
      ],
      "text/plain": [
       "              raw_device_counts  visitor_count\n",
       "poi_cbg                                       \n",
       "250010105002                351            356\n",
       "250010122004                299            319\n",
       "250039008005                133            139\n",
       "250039223001                287            291\n",
       "250056171015                 19             20\n",
       "250056532034                291            297\n",
       "250092021025                158            163\n",
       "250092172023                113            115\n",
       "250092175001                187            196\n",
       "250092181005                262            276\n",
       "250092531001                337            358\n",
       "250110412002                489            505\n",
       "250110415011                111            113\n",
       "250138018004                356            370\n",
       "250138110002                167            181\n",
       "250138137021                399            416\n",
       "250138137024                 56             65\n",
       "250173181002                263            292\n",
       "250173181003                361            364\n",
       "250173183001                261            263\n",
       "250173351002                171            174\n",
       "250173384001                439            452\n",
       "250173394002                117            125\n",
       "250173536004                 95            101\n",
       "250173567016                189            197\n",
       "250173572004                218            225\n",
       "250173661002                331            338\n",
       "250173682002                101            108\n",
       "250173745004                543            548\n",
       "250214042023                294            319\n",
       "250214043022                103            112\n",
       "250214044003                158            167\n",
       "250235091025                617            634\n",
       "250235308021                232            233\n",
       "250250007013                 57             66\n",
       "250250101032                 76             83\n",
       "250250108013                162            173\n",
       "250250924005                580            582\n",
       "250251009001                224            226\n",
       "250251104035                147            150\n",
       "250251106074                210            220\n",
       "250251201041                135            140\n",
       "250251304063                249            252\n",
       "250251402025                114            124\n",
       "250251703007                184            187\n",
       "250259813001                 40             46\n",
       "250277251002                259            265\n",
       "250277292003                569            576\n",
       "250277312021                 51             61\n",
       "250277611001                359            368"
      ]
     },
     "execution_count": 8,
     "metadata": {},
     "output_type": "execute_result"
    }
   ],
   "source": [
    "#wonder if there's any case where the \"raw\" is less than the sum of the visitor count\n",
    "april_group.query('raw_device_counts < visitor_count')"
   ]
  },
  {
   "cell_type": "code",
   "execution_count": 9,
   "id": "99d69d1b",
   "metadata": {
    "pycharm": {
     "name": "#%%\n"
    }
   },
   "outputs": [],
   "source": [
    "#okay so there are, but rare. doesn't indicate bad data, since one device can visit multiple places"
   ]
  },
  {
   "cell_type": "code",
   "execution_count": 10,
   "id": "21672341",
   "metadata": {
    "pycharm": {
     "name": "#%%\n"
    }
   },
   "outputs": [
    {
     "name": "stdout",
     "output_type": "stream",
     "text": [
      "Empty DataFrame\n",
      "Columns: [poi_cbg, year_month, raw_device_counts, visitor_census_tract, visitor_count]\n",
      "Index: [] Empty DataFrame\n",
      "Columns: [poi_cbg, year_month, raw_device_counts, visitor_census_tract, visitor_count]\n",
      "Index: []\n"
     ]
    }
   ],
   "source": [
    "#however I do need to make sure that no single location has more visitors than raw\n",
    "print(feb_mobility.query('raw_device_counts < visitor_count'),\n",
    "      april_mobility.query('raw_device_counts < visitor_count'))"
   ]
  },
  {
   "cell_type": "code",
   "execution_count": 11,
   "id": "771c8b45",
   "metadata": {
    "pycharm": {
     "name": "#%%\n"
    }
   },
   "outputs": [
    {
     "data": {
      "text/plain": [
       "1.3306865684676814"
      ]
     },
     "execution_count": 11,
     "metadata": {},
     "output_type": "execute_result"
    }
   ],
   "source": [
    "#okay, so the data is good then\n",
    "feb_mobility['visitor_count'].sum() / april_mobility['visitor_count'].sum() - 1"
   ]
  },
  {
   "cell_type": "markdown",
   "id": "554a629a",
   "metadata": {
    "pycharm": {
     "name": "#%% md\n"
    }
   },
   "source": [
    "133% decrease in visitors\n",
    "\n",
    "I'm curious about the difference in individual communities"
   ]
  },
  {
   "cell_type": "code",
   "execution_count": 12,
   "id": "4b7eb277",
   "metadata": {
    "pycharm": {
     "name": "#%%\n"
    }
   },
   "outputs": [],
   "source": [
    "#calculating intersection, introduces some bias bc discards data that only exists on one\n",
    "intersect_mobility = pd.merge(feb_mobility, april_mobility, on=['poi_cbg', 'visitor_census_tract'], suffixes=('_feb', '_april'), how='inner')"
   ]
  },
  {
   "cell_type": "code",
   "execution_count": 13,
   "id": "2f2b2d3d",
   "metadata": {
    "pycharm": {
     "name": "#%%\n"
    }
   },
   "outputs": [
    {
     "data": {
      "text/html": [
       "<div>\n",
       "<style scoped>\n",
       "    .dataframe tbody tr th:only-of-type {\n",
       "        vertical-align: middle;\n",
       "    }\n",
       "\n",
       "    .dataframe tbody tr th {\n",
       "        vertical-align: top;\n",
       "    }\n",
       "\n",
       "    .dataframe thead th {\n",
       "        text-align: right;\n",
       "    }\n",
       "</style>\n",
       "<table border=\"1\" class=\"dataframe\">\n",
       "  <thead>\n",
       "    <tr style=\"text-align: right;\">\n",
       "      <th></th>\n",
       "      <th>poi_cbg</th>\n",
       "      <th>year_month_feb</th>\n",
       "      <th>raw_device_counts_feb</th>\n",
       "      <th>visitor_census_tract</th>\n",
       "      <th>visitor_count_feb</th>\n",
       "      <th>year_month_april</th>\n",
       "      <th>raw_device_counts_april</th>\n",
       "      <th>visitor_count_april</th>\n",
       "    </tr>\n",
       "  </thead>\n",
       "  <tbody>\n",
       "    <tr>\n",
       "      <th>0</th>\n",
       "      <td>250056551003</td>\n",
       "      <td>2020_2</td>\n",
       "      <td>1400</td>\n",
       "      <td>250056551003</td>\n",
       "      <td>95</td>\n",
       "      <td>2020_4</td>\n",
       "      <td>937</td>\n",
       "      <td>48</td>\n",
       "    </tr>\n",
       "    <tr>\n",
       "      <th>1</th>\n",
       "      <td>250056551003</td>\n",
       "      <td>2020_2</td>\n",
       "      <td>1400</td>\n",
       "      <td>250056551002</td>\n",
       "      <td>65</td>\n",
       "      <td>2020_4</td>\n",
       "      <td>937</td>\n",
       "      <td>52</td>\n",
       "    </tr>\n",
       "    <tr>\n",
       "      <th>2</th>\n",
       "      <td>250056551003</td>\n",
       "      <td>2020_2</td>\n",
       "      <td>1400</td>\n",
       "      <td>250056554001</td>\n",
       "      <td>40</td>\n",
       "      <td>2020_4</td>\n",
       "      <td>937</td>\n",
       "      <td>21</td>\n",
       "    </tr>\n",
       "    <tr>\n",
       "      <th>3</th>\n",
       "      <td>250056551003</td>\n",
       "      <td>2020_2</td>\n",
       "      <td>1400</td>\n",
       "      <td>250056516002</td>\n",
       "      <td>38</td>\n",
       "      <td>2020_4</td>\n",
       "      <td>937</td>\n",
       "      <td>15</td>\n",
       "    </tr>\n",
       "    <tr>\n",
       "      <th>4</th>\n",
       "      <td>250056551003</td>\n",
       "      <td>2020_2</td>\n",
       "      <td>1400</td>\n",
       "      <td>250056551001</td>\n",
       "      <td>38</td>\n",
       "      <td>2020_4</td>\n",
       "      <td>937</td>\n",
       "      <td>28</td>\n",
       "    </tr>\n",
       "  </tbody>\n",
       "</table>\n",
       "</div>"
      ],
      "text/plain": [
       "        poi_cbg year_month_feb  raw_device_counts_feb  visitor_census_tract  \\\n",
       "0  250056551003         2020_2                   1400          250056551003   \n",
       "1  250056551003         2020_2                   1400          250056551002   \n",
       "2  250056551003         2020_2                   1400          250056554001   \n",
       "3  250056551003         2020_2                   1400          250056516002   \n",
       "4  250056551003         2020_2                   1400          250056551001   \n",
       "\n",
       "   visitor_count_feb year_month_april  raw_device_counts_april  \\\n",
       "0                 95           2020_4                      937   \n",
       "1                 65           2020_4                      937   \n",
       "2                 40           2020_4                      937   \n",
       "3                 38           2020_4                      937   \n",
       "4                 38           2020_4                      937   \n",
       "\n",
       "   visitor_count_april  \n",
       "0                   48  \n",
       "1                   52  \n",
       "2                   21  \n",
       "3                   15  \n",
       "4                   28  "
      ]
     },
     "execution_count": 13,
     "metadata": {},
     "output_type": "execute_result"
    }
   ],
   "source": [
    "intersect_mobility.head()"
   ]
  },
  {
   "cell_type": "code",
   "execution_count": 14,
   "id": "1c77c75c",
   "metadata": {
    "pycharm": {
     "name": "#%%\n"
    }
   },
   "outputs": [],
   "source": [
    "intersect_mobility['visitor_diff'] = intersect_mobility['visitor_count_april'] - intersect_mobility['visitor_count_feb']"
   ]
  },
  {
   "cell_type": "code",
   "execution_count": 15,
   "id": "0006f26b",
   "metadata": {
    "pycharm": {
     "name": "#%%\n"
    }
   },
   "outputs": [
    {
     "data": {
      "text/html": [
       "<div>\n",
       "<style scoped>\n",
       "    .dataframe tbody tr th:only-of-type {\n",
       "        vertical-align: middle;\n",
       "    }\n",
       "\n",
       "    .dataframe tbody tr th {\n",
       "        vertical-align: top;\n",
       "    }\n",
       "\n",
       "    .dataframe thead th {\n",
       "        text-align: right;\n",
       "    }\n",
       "</style>\n",
       "<table border=\"1\" class=\"dataframe\">\n",
       "  <thead>\n",
       "    <tr style=\"text-align: right;\">\n",
       "      <th></th>\n",
       "      <th>poi_cbg</th>\n",
       "      <th>raw_device_counts_feb</th>\n",
       "      <th>visitor_census_tract</th>\n",
       "      <th>visitor_count_feb</th>\n",
       "      <th>raw_device_counts_april</th>\n",
       "      <th>visitor_count_april</th>\n",
       "      <th>visitor_diff</th>\n",
       "    </tr>\n",
       "  </thead>\n",
       "  <tbody>\n",
       "    <tr>\n",
       "      <th>count</th>\n",
       "      <td>2.128520e+05</td>\n",
       "      <td>212852.000000</td>\n",
       "      <td>2.128520e+05</td>\n",
       "      <td>212852.000000</td>\n",
       "      <td>212852.000000</td>\n",
       "      <td>212852.000000</td>\n",
       "      <td>212852.000000</td>\n",
       "    </tr>\n",
       "    <tr>\n",
       "      <th>mean</th>\n",
       "      <td>2.501708e+11</td>\n",
       "      <td>3915.145481</td>\n",
       "      <td>2.537013e+11</td>\n",
       "      <td>14.944896</td>\n",
       "      <td>1491.143705</td>\n",
       "      <td>9.765795</td>\n",
       "      <td>-5.179101</td>\n",
       "    </tr>\n",
       "    <tr>\n",
       "      <th>std</th>\n",
       "      <td>7.805093e+07</td>\n",
       "      <td>6280.266004</td>\n",
       "      <td>3.136903e+10</td>\n",
       "      <td>31.474730</td>\n",
       "      <td>2040.104200</td>\n",
       "      <td>28.732581</td>\n",
       "      <td>15.975229</td>\n",
       "    </tr>\n",
       "    <tr>\n",
       "      <th>min</th>\n",
       "      <td>2.500101e+11</td>\n",
       "      <td>33.000000</td>\n",
       "      <td>1.001021e+10</td>\n",
       "      <td>4.000000</td>\n",
       "      <td>17.000000</td>\n",
       "      <td>4.000000</td>\n",
       "      <td>-946.000000</td>\n",
       "    </tr>\n",
       "    <tr>\n",
       "      <th>25%</th>\n",
       "      <td>2.500925e+11</td>\n",
       "      <td>1088.000000</td>\n",
       "      <td>2.500925e+11</td>\n",
       "      <td>4.000000</td>\n",
       "      <td>515.000000</td>\n",
       "      <td>4.000000</td>\n",
       "      <td>-7.000000</td>\n",
       "    </tr>\n",
       "    <tr>\n",
       "      <th>50%</th>\n",
       "      <td>2.501734e+11</td>\n",
       "      <td>2122.000000</td>\n",
       "      <td>2.501735e+11</td>\n",
       "      <td>7.000000</td>\n",
       "      <td>907.000000</td>\n",
       "      <td>4.000000</td>\n",
       "      <td>-2.000000</td>\n",
       "    </tr>\n",
       "    <tr>\n",
       "      <th>75%</th>\n",
       "      <td>2.502354e+11</td>\n",
       "      <td>4407.000000</td>\n",
       "      <td>2.502505e+11</td>\n",
       "      <td>15.000000</td>\n",
       "      <td>1793.000000</td>\n",
       "      <td>7.000000</td>\n",
       "      <td>0.000000</td>\n",
       "    </tr>\n",
       "    <tr>\n",
       "      <th>max</th>\n",
       "      <td>2.502776e+11</td>\n",
       "      <td>81673.000000</td>\n",
       "      <td>5.514101e+11</td>\n",
       "      <td>3409.000000</td>\n",
       "      <td>23965.000000</td>\n",
       "      <td>4956.000000</td>\n",
       "      <td>1623.000000</td>\n",
       "    </tr>\n",
       "  </tbody>\n",
       "</table>\n",
       "</div>"
      ],
      "text/plain": [
       "            poi_cbg  raw_device_counts_feb  visitor_census_tract  \\\n",
       "count  2.128520e+05          212852.000000          2.128520e+05   \n",
       "mean   2.501708e+11            3915.145481          2.537013e+11   \n",
       "std    7.805093e+07            6280.266004          3.136903e+10   \n",
       "min    2.500101e+11              33.000000          1.001021e+10   \n",
       "25%    2.500925e+11            1088.000000          2.500925e+11   \n",
       "50%    2.501734e+11            2122.000000          2.501735e+11   \n",
       "75%    2.502354e+11            4407.000000          2.502505e+11   \n",
       "max    2.502776e+11           81673.000000          5.514101e+11   \n",
       "\n",
       "       visitor_count_feb  raw_device_counts_april  visitor_count_april  \\\n",
       "count      212852.000000            212852.000000        212852.000000   \n",
       "mean           14.944896              1491.143705             9.765795   \n",
       "std            31.474730              2040.104200            28.732581   \n",
       "min             4.000000                17.000000             4.000000   \n",
       "25%             4.000000               515.000000             4.000000   \n",
       "50%             7.000000               907.000000             4.000000   \n",
       "75%            15.000000              1793.000000             7.000000   \n",
       "max          3409.000000             23965.000000          4956.000000   \n",
       "\n",
       "        visitor_diff  \n",
       "count  212852.000000  \n",
       "mean       -5.179101  \n",
       "std        15.975229  \n",
       "min      -946.000000  \n",
       "25%        -7.000000  \n",
       "50%        -2.000000  \n",
       "75%         0.000000  \n",
       "max      1623.000000  "
      ]
     },
     "execution_count": 15,
     "metadata": {},
     "output_type": "execute_result"
    }
   ],
   "source": [
    "intersect_mobility.describe()"
   ]
  },
  {
   "cell_type": "code",
   "execution_count": 16,
   "id": "7b9078d1",
   "metadata": {
    "pycharm": {
     "name": "#%%\n"
    }
   },
   "outputs": [
    {
     "data": {
      "text/html": [
       "<div>\n",
       "<style scoped>\n",
       "    .dataframe tbody tr th:only-of-type {\n",
       "        vertical-align: middle;\n",
       "    }\n",
       "\n",
       "    .dataframe tbody tr th {\n",
       "        vertical-align: top;\n",
       "    }\n",
       "\n",
       "    .dataframe thead th {\n",
       "        text-align: right;\n",
       "    }\n",
       "</style>\n",
       "<table border=\"1\" class=\"dataframe\">\n",
       "  <thead>\n",
       "    <tr style=\"text-align: right;\">\n",
       "      <th></th>\n",
       "      <th>poi_cbg</th>\n",
       "      <th>raw_device_counts_feb</th>\n",
       "      <th>visitor_census_tract</th>\n",
       "      <th>visitor_count_feb</th>\n",
       "      <th>raw_device_counts_april</th>\n",
       "      <th>visitor_count_april</th>\n",
       "      <th>visitor_diff</th>\n",
       "    </tr>\n",
       "  </thead>\n",
       "  <tbody>\n",
       "    <tr>\n",
       "      <th>count</th>\n",
       "      <td>2.128500e+04</td>\n",
       "      <td>21285.000000</td>\n",
       "      <td>2.128500e+04</td>\n",
       "      <td>21285.000000</td>\n",
       "      <td>21285.000000</td>\n",
       "      <td>21285.000000</td>\n",
       "      <td>21285.000000</td>\n",
       "    </tr>\n",
       "    <tr>\n",
       "      <th>mean</th>\n",
       "      <td>2.501675e+11</td>\n",
       "      <td>4649.317219</td>\n",
       "      <td>2.519077e+11</td>\n",
       "      <td>71.115433</td>\n",
       "      <td>1716.607188</td>\n",
       "      <td>46.383791</td>\n",
       "      <td>-24.731642</td>\n",
       "    </tr>\n",
       "    <tr>\n",
       "      <th>std</th>\n",
       "      <td>7.854157e+07</td>\n",
       "      <td>6229.593480</td>\n",
       "      <td>2.097857e+10</td>\n",
       "      <td>77.904352</td>\n",
       "      <td>1994.542257</td>\n",
       "      <td>81.518569</td>\n",
       "      <td>43.563572</td>\n",
       "    </tr>\n",
       "    <tr>\n",
       "      <th>min</th>\n",
       "      <td>2.500101e+11</td>\n",
       "      <td>127.000000</td>\n",
       "      <td>1.117030e+10</td>\n",
       "      <td>29.000000</td>\n",
       "      <td>27.000000</td>\n",
       "      <td>4.000000</td>\n",
       "      <td>-946.000000</td>\n",
       "    </tr>\n",
       "    <tr>\n",
       "      <th>25%</th>\n",
       "      <td>2.500925e+11</td>\n",
       "      <td>1419.000000</td>\n",
       "      <td>2.500925e+11</td>\n",
       "      <td>36.000000</td>\n",
       "      <td>606.000000</td>\n",
       "      <td>15.000000</td>\n",
       "      <td>-30.000000</td>\n",
       "    </tr>\n",
       "    <tr>\n",
       "      <th>50%</th>\n",
       "      <td>2.501734e+11</td>\n",
       "      <td>2891.000000</td>\n",
       "      <td>2.501734e+11</td>\n",
       "      <td>47.000000</td>\n",
       "      <td>1140.000000</td>\n",
       "      <td>25.000000</td>\n",
       "      <td>-21.000000</td>\n",
       "    </tr>\n",
       "    <tr>\n",
       "      <th>75%</th>\n",
       "      <td>2.502352e+11</td>\n",
       "      <td>5807.000000</td>\n",
       "      <td>2.502353e+11</td>\n",
       "      <td>75.000000</td>\n",
       "      <td>2248.000000</td>\n",
       "      <td>49.000000</td>\n",
       "      <td>-13.000000</td>\n",
       "    </tr>\n",
       "    <tr>\n",
       "      <th>max</th>\n",
       "      <td>2.502776e+11</td>\n",
       "      <td>81673.000000</td>\n",
       "      <td>5.514101e+11</td>\n",
       "      <td>3409.000000</td>\n",
       "      <td>23965.000000</td>\n",
       "      <td>4956.000000</td>\n",
       "      <td>1623.000000</td>\n",
       "    </tr>\n",
       "  </tbody>\n",
       "</table>\n",
       "</div>"
      ],
      "text/plain": [
       "            poi_cbg  raw_device_counts_feb  visitor_census_tract  \\\n",
       "count  2.128500e+04           21285.000000          2.128500e+04   \n",
       "mean   2.501675e+11            4649.317219          2.519077e+11   \n",
       "std    7.854157e+07            6229.593480          2.097857e+10   \n",
       "min    2.500101e+11             127.000000          1.117030e+10   \n",
       "25%    2.500925e+11            1419.000000          2.500925e+11   \n",
       "50%    2.501734e+11            2891.000000          2.501734e+11   \n",
       "75%    2.502352e+11            5807.000000          2.502353e+11   \n",
       "max    2.502776e+11           81673.000000          5.514101e+11   \n",
       "\n",
       "       visitor_count_feb  raw_device_counts_april  visitor_count_april  \\\n",
       "count       21285.000000             21285.000000         21285.000000   \n",
       "mean           71.115433              1716.607188            46.383791   \n",
       "std            77.904352              1994.542257            81.518569   \n",
       "min            29.000000                27.000000             4.000000   \n",
       "25%            36.000000               606.000000            15.000000   \n",
       "50%            47.000000              1140.000000            25.000000   \n",
       "75%            75.000000              2248.000000            49.000000   \n",
       "max          3409.000000             23965.000000          4956.000000   \n",
       "\n",
       "       visitor_diff  \n",
       "count  21285.000000  \n",
       "mean     -24.731642  \n",
       "std       43.563572  \n",
       "min     -946.000000  \n",
       "25%      -30.000000  \n",
       "50%      -21.000000  \n",
       "75%      -13.000000  \n",
       "max     1623.000000  "
      ]
     },
     "execution_count": 16,
     "metadata": {},
     "output_type": "execute_result"
    }
   ],
   "source": [
    "intersect_mobility.nlargest(len(intersect_mobility)//10, 'visitor_count_feb').describe()"
   ]
  },
  {
   "cell_type": "code",
   "execution_count": 17,
   "id": "53556b4a",
   "metadata": {
    "pycharm": {
     "name": "#%%\n"
    }
   },
   "outputs": [],
   "source": [
    "#the top 10% of visited areas had much more of a dropoff, 75% percentile is -13 vs it being 0"
   ]
  },
  {
   "cell_type": "code",
   "execution_count": 18,
   "id": "5478fc98",
   "metadata": {
    "pycharm": {
     "name": "#%%\n"
    }
   },
   "outputs": [
    {
     "data": {
      "text/plain": [
       "0.6522324224478956"
      ]
     },
     "execution_count": 18,
     "metadata": {},
     "output_type": "execute_result"
    }
   ],
   "source": [
    "intersect_mobility.nlargest(len(intersect_mobility)//10, 'visitor_count_feb')['visitor_count_april'].sum() / intersect_mobility.nlargest(len(intersect_mobility)//10, 'visitor_count_feb')['visitor_count_feb'].sum()"
   ]
  },
  {
   "cell_type": "code",
   "execution_count": 19,
   "id": "5edd4db4",
   "metadata": {
    "pycharm": {
     "name": "#%%\n"
    }
   },
   "outputs": [
    {
     "data": {
      "text/plain": [
       "0.6534535284093214"
      ]
     },
     "execution_count": 19,
     "metadata": {},
     "output_type": "execute_result"
    }
   ],
   "source": [
    "intersect_mobility['visitor_count_april'].sum() / intersect_mobility['visitor_count_feb'].sum()"
   ]
  },
  {
   "cell_type": "code",
   "execution_count": 20,
   "id": "d7d03f2b",
   "metadata": {
    "pycharm": {
     "name": "#%%\n"
    }
   },
   "outputs": [],
   "source": [
    "#surprisingly both groups decreased by about the same % though"
   ]
  },
  {
   "cell_type": "code",
   "execution_count": 21,
   "id": "70d8d223",
   "metadata": {
    "pycharm": {
     "name": "#%%\n"
    }
   },
   "outputs": [
    {
     "data": {
      "text/plain": [
       "poi_cbg                  int64\n",
       "year_month              object\n",
       "raw_device_counts        int64\n",
       "visitor_census_tract     int64\n",
       "visitor_count            int64\n",
       "dtype: object"
      ]
     },
     "execution_count": 21,
     "metadata": {},
     "output_type": "execute_result"
    }
   ],
   "source": [
    "feb_mobility.dtypes"
   ]
  },
  {
   "cell_type": "markdown",
   "id": "2c737d5a",
   "metadata": {
    "pycharm": {
     "name": "#%% md\n"
    }
   },
   "source": [
    "## calculated metrics\n",
    "There was a 133% decrease in visitors between February and April 2020\n",
    "\n",
    "The mean change in visitors (when there were visitors in both months) was -5.2 people\n",
    "\n",
    "The top 10% of visited areas had about the same percent change in visitors"
   ]
  },
  {
   "cell_type": "markdown",
   "id": "9b2c458a",
   "metadata": {
    "pycharm": {
     "name": "#%% md\n"
    }
   },
   "source": [
    "## Task 2.\n",
    "\n",
    "Use these two data sources to create two human mobility networks as directed graphs for MA with          \n",
    "\n",
    "    network node: individual census block group (neighborhood) in MA\n",
    "    network edge: residents from one neighborhood visiting another with the direction of the edge implying the direction of the visit \n",
    "    weight of network tie: percentage of residents from one neighborhood (origin) visiting another (destination)\n",
    "\n",
    "Calculate at least three network-based metrics that we can use to understand the change in people’s mobility due to COVID."
   ]
  },
  {
   "cell_type": "markdown",
   "id": "5998dce4",
   "metadata": {
    "pycharm": {
     "name": "#%% md\n"
    }
   },
   "source": [
    "Well, raw_device_count is clearly not the number of residents in a neighborhood, since that number decreased to 1/3 in April. Lets get the acs_data, and see if it makes sense to use that actual pop number"
   ]
  },
  {
   "cell_type": "code",
   "execution_count": 22,
   "id": "31c7b0b0",
   "metadata": {
    "pycharm": {
     "name": "#%%\n"
    }
   },
   "outputs": [],
   "source": [
    "os.chdir(r'C:\\Users\\[editted]\\Documents\\Me\\BC\\Advance\\Data\\jupyter\\exercise11')\n",
    "acs_data = pd.read_csv(\"acs_data_for_MA.csv\")"
   ]
  },
  {
   "cell_type": "code",
   "execution_count": 23,
   "id": "f9ceae78",
   "metadata": {
    "pycharm": {
     "name": "#%%\n"
    }
   },
   "outputs": [
    {
     "data": {
      "text/html": [
       "<div>\n",
       "<style scoped>\n",
       "    .dataframe tbody tr th:only-of-type {\n",
       "        vertical-align: middle;\n",
       "    }\n",
       "\n",
       "    .dataframe tbody tr th {\n",
       "        vertical-align: top;\n",
       "    }\n",
       "\n",
       "    .dataframe thead th {\n",
       "        text-align: right;\n",
       "    }\n",
       "</style>\n",
       "<table border=\"1\" class=\"dataframe\">\n",
       "  <thead>\n",
       "    <tr style=\"text-align: right;\">\n",
       "      <th></th>\n",
       "      <th>census_block_group</th>\n",
       "      <th>total_population</th>\n",
       "      <th>black_population</th>\n",
       "      <th>white_population</th>\n",
       "      <th>asian_population</th>\n",
       "      <th>hispanic_population</th>\n",
       "      <th>median_income</th>\n",
       "    </tr>\n",
       "  </thead>\n",
       "  <tbody>\n",
       "    <tr>\n",
       "      <th>0</th>\n",
       "      <td>250010101001</td>\n",
       "      <td>938</td>\n",
       "      <td>0</td>\n",
       "      <td>770</td>\n",
       "      <td>10</td>\n",
       "      <td>41</td>\n",
       "      <td>51837.0</td>\n",
       "    </tr>\n",
       "    <tr>\n",
       "      <th>1</th>\n",
       "      <td>250010101002</td>\n",
       "      <td>289</td>\n",
       "      <td>12</td>\n",
       "      <td>237</td>\n",
       "      <td>0</td>\n",
       "      <td>0</td>\n",
       "      <td>48250.0</td>\n",
       "    </tr>\n",
       "    <tr>\n",
       "      <th>2</th>\n",
       "      <td>250010101003</td>\n",
       "      <td>755</td>\n",
       "      <td>29</td>\n",
       "      <td>694</td>\n",
       "      <td>0</td>\n",
       "      <td>0</td>\n",
       "      <td>53750.0</td>\n",
       "    </tr>\n",
       "    <tr>\n",
       "      <th>3</th>\n",
       "      <td>250010101004</td>\n",
       "      <td>499</td>\n",
       "      <td>9</td>\n",
       "      <td>438</td>\n",
       "      <td>0</td>\n",
       "      <td>0</td>\n",
       "      <td>28182.0</td>\n",
       "    </tr>\n",
       "    <tr>\n",
       "      <th>4</th>\n",
       "      <td>250010101005</td>\n",
       "      <td>481</td>\n",
       "      <td>38</td>\n",
       "      <td>378</td>\n",
       "      <td>0</td>\n",
       "      <td>0</td>\n",
       "      <td>34091.0</td>\n",
       "    </tr>\n",
       "    <tr>\n",
       "      <th>...</th>\n",
       "      <td>...</td>\n",
       "      <td>...</td>\n",
       "      <td>...</td>\n",
       "      <td>...</td>\n",
       "      <td>...</td>\n",
       "      <td>...</td>\n",
       "      <td>...</td>\n",
       "    </tr>\n",
       "    <tr>\n",
       "      <th>4980</th>\n",
       "      <td>250277614002</td>\n",
       "      <td>1143</td>\n",
       "      <td>0</td>\n",
       "      <td>1068</td>\n",
       "      <td>0</td>\n",
       "      <td>0</td>\n",
       "      <td>124219.0</td>\n",
       "    </tr>\n",
       "    <tr>\n",
       "      <th>4981</th>\n",
       "      <td>250277614003</td>\n",
       "      <td>783</td>\n",
       "      <td>0</td>\n",
       "      <td>709</td>\n",
       "      <td>0</td>\n",
       "      <td>0</td>\n",
       "      <td>167375.0</td>\n",
       "    </tr>\n",
       "    <tr>\n",
       "      <th>4982</th>\n",
       "      <td>250277614004</td>\n",
       "      <td>845</td>\n",
       "      <td>0</td>\n",
       "      <td>845</td>\n",
       "      <td>0</td>\n",
       "      <td>0</td>\n",
       "      <td>127679.0</td>\n",
       "    </tr>\n",
       "    <tr>\n",
       "      <th>4983</th>\n",
       "      <td>250277614005</td>\n",
       "      <td>1126</td>\n",
       "      <td>108</td>\n",
       "      <td>939</td>\n",
       "      <td>8</td>\n",
       "      <td>0</td>\n",
       "      <td>136806.0</td>\n",
       "    </tr>\n",
       "    <tr>\n",
       "      <th>4984</th>\n",
       "      <td>250277614006</td>\n",
       "      <td>1381</td>\n",
       "      <td>349</td>\n",
       "      <td>845</td>\n",
       "      <td>24</td>\n",
       "      <td>0</td>\n",
       "      <td>65694.0</td>\n",
       "    </tr>\n",
       "  </tbody>\n",
       "</table>\n",
       "<p>4985 rows × 7 columns</p>\n",
       "</div>"
      ],
      "text/plain": [
       "      census_block_group  total_population  black_population  \\\n",
       "0           250010101001               938                 0   \n",
       "1           250010101002               289                12   \n",
       "2           250010101003               755                29   \n",
       "3           250010101004               499                 9   \n",
       "4           250010101005               481                38   \n",
       "...                  ...               ...               ...   \n",
       "4980        250277614002              1143                 0   \n",
       "4981        250277614003               783                 0   \n",
       "4982        250277614004               845                 0   \n",
       "4983        250277614005              1126               108   \n",
       "4984        250277614006              1381               349   \n",
       "\n",
       "      white_population  asian_population  hispanic_population  median_income  \n",
       "0                  770                10                   41        51837.0  \n",
       "1                  237                 0                    0        48250.0  \n",
       "2                  694                 0                    0        53750.0  \n",
       "3                  438                 0                    0        28182.0  \n",
       "4                  378                 0                    0        34091.0  \n",
       "...                ...               ...                  ...            ...  \n",
       "4980              1068                 0                    0       124219.0  \n",
       "4981               709                 0                    0       167375.0  \n",
       "4982               845                 0                    0       127679.0  \n",
       "4983               939                 8                    0       136806.0  \n",
       "4984               845                24                    0        65694.0  \n",
       "\n",
       "[4985 rows x 7 columns]"
      ]
     },
     "execution_count": 23,
     "metadata": {},
     "output_type": "execute_result"
    }
   ],
   "source": [
    "acs_data"
   ]
  },
  {
   "cell_type": "code",
   "execution_count": 24,
   "id": "0ceda72d",
   "metadata": {
    "pycharm": {
     "name": "#%%\n"
    }
   },
   "outputs": [
    {
     "data": {
      "text/plain": [
       "census_block_group       0\n",
       "total_population         0\n",
       "black_population         0\n",
       "white_population         0\n",
       "asian_population         0\n",
       "hispanic_population      0\n",
       "median_income          188\n",
       "dtype: int64"
      ]
     },
     "execution_count": 24,
     "metadata": {},
     "output_type": "execute_result"
    }
   ],
   "source": [
    "acs_data.isna().sum()"
   ]
  },
  {
   "cell_type": "code",
   "execution_count": 25,
   "id": "a2a9aa47",
   "metadata": {
    "pycharm": {
     "name": "#%%\n"
    }
   },
   "outputs": [],
   "source": [
    "feb_mobility_info = pd.merge(acs_data, feb_mobility, left_on='census_block_group', right_on='poi_cbg', how='right')"
   ]
  },
  {
   "cell_type": "code",
   "execution_count": 26,
   "id": "0d752ade",
   "metadata": {
    "pycharm": {
     "name": "#%%\n"
    }
   },
   "outputs": [
    {
     "data": {
      "text/html": [
       "<div>\n",
       "<style scoped>\n",
       "    .dataframe tbody tr th:only-of-type {\n",
       "        vertical-align: middle;\n",
       "    }\n",
       "\n",
       "    .dataframe tbody tr th {\n",
       "        vertical-align: top;\n",
       "    }\n",
       "\n",
       "    .dataframe thead th {\n",
       "        text-align: right;\n",
       "    }\n",
       "</style>\n",
       "<table border=\"1\" class=\"dataframe\">\n",
       "  <thead>\n",
       "    <tr style=\"text-align: right;\">\n",
       "      <th></th>\n",
       "      <th>census_block_group</th>\n",
       "      <th>total_population</th>\n",
       "      <th>black_population</th>\n",
       "      <th>white_population</th>\n",
       "      <th>asian_population</th>\n",
       "      <th>hispanic_population</th>\n",
       "      <th>median_income</th>\n",
       "      <th>poi_cbg</th>\n",
       "      <th>year_month</th>\n",
       "      <th>raw_device_counts</th>\n",
       "      <th>visitor_census_tract</th>\n",
       "      <th>visitor_count</th>\n",
       "    </tr>\n",
       "  </thead>\n",
       "  <tbody>\n",
       "    <tr>\n",
       "      <th>0</th>\n",
       "      <td>250056551003</td>\n",
       "      <td>458</td>\n",
       "      <td>0</td>\n",
       "      <td>405</td>\n",
       "      <td>0</td>\n",
       "      <td>0</td>\n",
       "      <td>71341.0</td>\n",
       "      <td>250056551003</td>\n",
       "      <td>2020_2</td>\n",
       "      <td>1400</td>\n",
       "      <td>250056551003</td>\n",
       "      <td>95</td>\n",
       "    </tr>\n",
       "    <tr>\n",
       "      <th>1</th>\n",
       "      <td>250056551003</td>\n",
       "      <td>458</td>\n",
       "      <td>0</td>\n",
       "      <td>405</td>\n",
       "      <td>0</td>\n",
       "      <td>0</td>\n",
       "      <td>71341.0</td>\n",
       "      <td>250056551003</td>\n",
       "      <td>2020_2</td>\n",
       "      <td>1400</td>\n",
       "      <td>250056551002</td>\n",
       "      <td>65</td>\n",
       "    </tr>\n",
       "    <tr>\n",
       "      <th>2</th>\n",
       "      <td>250056551003</td>\n",
       "      <td>458</td>\n",
       "      <td>0</td>\n",
       "      <td>405</td>\n",
       "      <td>0</td>\n",
       "      <td>0</td>\n",
       "      <td>71341.0</td>\n",
       "      <td>250056551003</td>\n",
       "      <td>2020_2</td>\n",
       "      <td>1400</td>\n",
       "      <td>250056554001</td>\n",
       "      <td>40</td>\n",
       "    </tr>\n",
       "    <tr>\n",
       "      <th>3</th>\n",
       "      <td>250056551003</td>\n",
       "      <td>458</td>\n",
       "      <td>0</td>\n",
       "      <td>405</td>\n",
       "      <td>0</td>\n",
       "      <td>0</td>\n",
       "      <td>71341.0</td>\n",
       "      <td>250056551003</td>\n",
       "      <td>2020_2</td>\n",
       "      <td>1400</td>\n",
       "      <td>250056516002</td>\n",
       "      <td>38</td>\n",
       "    </tr>\n",
       "    <tr>\n",
       "      <th>4</th>\n",
       "      <td>250056551003</td>\n",
       "      <td>458</td>\n",
       "      <td>0</td>\n",
       "      <td>405</td>\n",
       "      <td>0</td>\n",
       "      <td>0</td>\n",
       "      <td>71341.0</td>\n",
       "      <td>250056551003</td>\n",
       "      <td>2020_2</td>\n",
       "      <td>1400</td>\n",
       "      <td>250056551001</td>\n",
       "      <td>38</td>\n",
       "    </tr>\n",
       "  </tbody>\n",
       "</table>\n",
       "</div>"
      ],
      "text/plain": [
       "   census_block_group  total_population  black_population  white_population  \\\n",
       "0        250056551003               458                 0               405   \n",
       "1        250056551003               458                 0               405   \n",
       "2        250056551003               458                 0               405   \n",
       "3        250056551003               458                 0               405   \n",
       "4        250056551003               458                 0               405   \n",
       "\n",
       "   asian_population  hispanic_population  median_income       poi_cbg  \\\n",
       "0                 0                    0        71341.0  250056551003   \n",
       "1                 0                    0        71341.0  250056551003   \n",
       "2                 0                    0        71341.0  250056551003   \n",
       "3                 0                    0        71341.0  250056551003   \n",
       "4                 0                    0        71341.0  250056551003   \n",
       "\n",
       "  year_month  raw_device_counts  visitor_census_tract  visitor_count  \n",
       "0     2020_2               1400          250056551003             95  \n",
       "1     2020_2               1400          250056551002             65  \n",
       "2     2020_2               1400          250056554001             40  \n",
       "3     2020_2               1400          250056516002             38  \n",
       "4     2020_2               1400          250056551001             38  "
      ]
     },
     "execution_count": 26,
     "metadata": {},
     "output_type": "execute_result"
    }
   ],
   "source": [
    "feb_mobility_info.head()"
   ]
  },
  {
   "cell_type": "code",
   "execution_count": 27,
   "id": "a89acf7d",
   "metadata": {
    "pycharm": {
     "name": "#%%\n"
    }
   },
   "outputs": [
    {
     "data": {
      "text/plain": [
       "census_block_group          0\n",
       "total_population            0\n",
       "black_population            0\n",
       "white_population            0\n",
       "asian_population            0\n",
       "hispanic_population         0\n",
       "median_income           41854\n",
       "poi_cbg                     0\n",
       "year_month                  0\n",
       "raw_device_counts           0\n",
       "visitor_census_tract        0\n",
       "visitor_count               0\n",
       "dtype: int64"
      ]
     },
     "execution_count": 27,
     "metadata": {},
     "output_type": "execute_result"
    }
   ],
   "source": [
    "#curious how the total_pop is not a sum of the individual racial categories, but thats something to think about later\n",
    "feb_mobility_info.isna().sum()"
   ]
  },
  {
   "cell_type": "code",
   "execution_count": 28,
   "id": "12b7c4de",
   "metadata": {
    "pycharm": {
     "name": "#%%\n"
    }
   },
   "outputs": [
    {
     "data": {
      "text/plain": [
       "count    939439.000000\n",
       "mean       1497.482972\n",
       "std         756.346815\n",
       "min           0.000000\n",
       "25%         962.000000\n",
       "50%        1342.000000\n",
       "75%        1935.000000\n",
       "max        6816.000000\n",
       "Name: total_population, dtype: float64"
      ]
     },
     "execution_count": 28,
     "metadata": {},
     "output_type": "execute_result"
    }
   ],
   "source": [
    "#well, seems like every one has a total_pop, which is nice\n",
    "feb_mobility_info['total_population'].describe()"
   ]
  },
  {
   "cell_type": "code",
   "execution_count": 29,
   "id": "fba0b9a4",
   "metadata": {
    "pycharm": {
     "name": "#%%\n"
    }
   },
   "outputs": [
    {
     "data": {
      "text/html": [
       "<div>\n",
       "<style scoped>\n",
       "    .dataframe tbody tr th:only-of-type {\n",
       "        vertical-align: middle;\n",
       "    }\n",
       "\n",
       "    .dataframe tbody tr th {\n",
       "        vertical-align: top;\n",
       "    }\n",
       "\n",
       "    .dataframe thead th {\n",
       "        text-align: right;\n",
       "    }\n",
       "</style>\n",
       "<table border=\"1\" class=\"dataframe\">\n",
       "  <thead>\n",
       "    <tr style=\"text-align: right;\">\n",
       "      <th></th>\n",
       "      <th>census_block_group</th>\n",
       "      <th>total_population</th>\n",
       "      <th>black_population</th>\n",
       "      <th>white_population</th>\n",
       "      <th>asian_population</th>\n",
       "      <th>hispanic_population</th>\n",
       "      <th>median_income</th>\n",
       "      <th>poi_cbg</th>\n",
       "      <th>year_month</th>\n",
       "      <th>raw_device_counts</th>\n",
       "      <th>visitor_census_tract</th>\n",
       "      <th>visitor_count</th>\n",
       "    </tr>\n",
       "  </thead>\n",
       "  <tbody>\n",
       "    <tr>\n",
       "      <th>1697</th>\n",
       "      <td>250259816001</td>\n",
       "      <td>0</td>\n",
       "      <td>0</td>\n",
       "      <td>0</td>\n",
       "      <td>0</td>\n",
       "      <td>0</td>\n",
       "      <td>NaN</td>\n",
       "      <td>250259816001</td>\n",
       "      <td>2020_2</td>\n",
       "      <td>461</td>\n",
       "      <td>250251801013</td>\n",
       "      <td>25</td>\n",
       "    </tr>\n",
       "    <tr>\n",
       "      <th>1698</th>\n",
       "      <td>250259816001</td>\n",
       "      <td>0</td>\n",
       "      <td>0</td>\n",
       "      <td>0</td>\n",
       "      <td>0</td>\n",
       "      <td>0</td>\n",
       "      <td>NaN</td>\n",
       "      <td>250259816001</td>\n",
       "      <td>2020_2</td>\n",
       "      <td>461</td>\n",
       "      <td>250251802004</td>\n",
       "      <td>20</td>\n",
       "    </tr>\n",
       "    <tr>\n",
       "      <th>1699</th>\n",
       "      <td>250259816001</td>\n",
       "      <td>0</td>\n",
       "      <td>0</td>\n",
       "      <td>0</td>\n",
       "      <td>0</td>\n",
       "      <td>0</td>\n",
       "      <td>NaN</td>\n",
       "      <td>250259816001</td>\n",
       "      <td>2020_2</td>\n",
       "      <td>461</td>\n",
       "      <td>250250511013</td>\n",
       "      <td>19</td>\n",
       "    </tr>\n",
       "    <tr>\n",
       "      <th>1700</th>\n",
       "      <td>250259816001</td>\n",
       "      <td>0</td>\n",
       "      <td>0</td>\n",
       "      <td>0</td>\n",
       "      <td>0</td>\n",
       "      <td>0</td>\n",
       "      <td>NaN</td>\n",
       "      <td>250259816001</td>\n",
       "      <td>2020_2</td>\n",
       "      <td>461</td>\n",
       "      <td>250250511014</td>\n",
       "      <td>13</td>\n",
       "    </tr>\n",
       "    <tr>\n",
       "      <th>1701</th>\n",
       "      <td>250259816001</td>\n",
       "      <td>0</td>\n",
       "      <td>0</td>\n",
       "      <td>0</td>\n",
       "      <td>0</td>\n",
       "      <td>0</td>\n",
       "      <td>NaN</td>\n",
       "      <td>250259816001</td>\n",
       "      <td>2020_2</td>\n",
       "      <td>461</td>\n",
       "      <td>250251802001</td>\n",
       "      <td>12</td>\n",
       "    </tr>\n",
       "    <tr>\n",
       "      <th>...</th>\n",
       "      <td>...</td>\n",
       "      <td>...</td>\n",
       "      <td>...</td>\n",
       "      <td>...</td>\n",
       "      <td>...</td>\n",
       "      <td>...</td>\n",
       "      <td>...</td>\n",
       "      <td>...</td>\n",
       "      <td>...</td>\n",
       "      <td>...</td>\n",
       "      <td>...</td>\n",
       "      <td>...</td>\n",
       "    </tr>\n",
       "    <tr>\n",
       "      <th>894618</th>\n",
       "      <td>250259813001</td>\n",
       "      <td>0</td>\n",
       "      <td>0</td>\n",
       "      <td>0</td>\n",
       "      <td>0</td>\n",
       "      <td>0</td>\n",
       "      <td>NaN</td>\n",
       "      <td>250259813001</td>\n",
       "      <td>2020_2</td>\n",
       "      <td>562</td>\n",
       "      <td>60014029001</td>\n",
       "      <td>4</td>\n",
       "    </tr>\n",
       "    <tr>\n",
       "      <th>894619</th>\n",
       "      <td>250259813001</td>\n",
       "      <td>0</td>\n",
       "      <td>0</td>\n",
       "      <td>0</td>\n",
       "      <td>0</td>\n",
       "      <td>0</td>\n",
       "      <td>NaN</td>\n",
       "      <td>250259813001</td>\n",
       "      <td>2020_2</td>\n",
       "      <td>562</td>\n",
       "      <td>130890234182</td>\n",
       "      <td>4</td>\n",
       "    </tr>\n",
       "    <tr>\n",
       "      <th>894620</th>\n",
       "      <td>250259813001</td>\n",
       "      <td>0</td>\n",
       "      <td>0</td>\n",
       "      <td>0</td>\n",
       "      <td>0</td>\n",
       "      <td>0</td>\n",
       "      <td>NaN</td>\n",
       "      <td>250259813001</td>\n",
       "      <td>2020_2</td>\n",
       "      <td>562</td>\n",
       "      <td>420454103014</td>\n",
       "      <td>4</td>\n",
       "    </tr>\n",
       "    <tr>\n",
       "      <th>894621</th>\n",
       "      <td>250259813001</td>\n",
       "      <td>0</td>\n",
       "      <td>0</td>\n",
       "      <td>0</td>\n",
       "      <td>0</td>\n",
       "      <td>0</td>\n",
       "      <td>NaN</td>\n",
       "      <td>250259813001</td>\n",
       "      <td>2020_2</td>\n",
       "      <td>562</td>\n",
       "      <td>340270441012</td>\n",
       "      <td>4</td>\n",
       "    </tr>\n",
       "    <tr>\n",
       "      <th>894622</th>\n",
       "      <td>250259813001</td>\n",
       "      <td>0</td>\n",
       "      <td>0</td>\n",
       "      <td>0</td>\n",
       "      <td>0</td>\n",
       "      <td>0</td>\n",
       "      <td>NaN</td>\n",
       "      <td>250259813001</td>\n",
       "      <td>2020_2</td>\n",
       "      <td>562</td>\n",
       "      <td>330110029034</td>\n",
       "      <td>4</td>\n",
       "    </tr>\n",
       "  </tbody>\n",
       "</table>\n",
       "<p>3096 rows × 12 columns</p>\n",
       "</div>"
      ],
      "text/plain": [
       "        census_block_group  total_population  black_population  \\\n",
       "1697          250259816001                 0                 0   \n",
       "1698          250259816001                 0                 0   \n",
       "1699          250259816001                 0                 0   \n",
       "1700          250259816001                 0                 0   \n",
       "1701          250259816001                 0                 0   \n",
       "...                    ...               ...               ...   \n",
       "894618        250259813001                 0                 0   \n",
       "894619        250259813001                 0                 0   \n",
       "894620        250259813001                 0                 0   \n",
       "894621        250259813001                 0                 0   \n",
       "894622        250259813001                 0                 0   \n",
       "\n",
       "        white_population  asian_population  hispanic_population  \\\n",
       "1697                   0                 0                    0   \n",
       "1698                   0                 0                    0   \n",
       "1699                   0                 0                    0   \n",
       "1700                   0                 0                    0   \n",
       "1701                   0                 0                    0   \n",
       "...                  ...               ...                  ...   \n",
       "894618                 0                 0                    0   \n",
       "894619                 0                 0                    0   \n",
       "894620                 0                 0                    0   \n",
       "894621                 0                 0                    0   \n",
       "894622                 0                 0                    0   \n",
       "\n",
       "        median_income       poi_cbg year_month  raw_device_counts  \\\n",
       "1697              NaN  250259816001     2020_2                461   \n",
       "1698              NaN  250259816001     2020_2                461   \n",
       "1699              NaN  250259816001     2020_2                461   \n",
       "1700              NaN  250259816001     2020_2                461   \n",
       "1701              NaN  250259816001     2020_2                461   \n",
       "...               ...           ...        ...                ...   \n",
       "894618            NaN  250259813001     2020_2                562   \n",
       "894619            NaN  250259813001     2020_2                562   \n",
       "894620            NaN  250259813001     2020_2                562   \n",
       "894621            NaN  250259813001     2020_2                562   \n",
       "894622            NaN  250259813001     2020_2                562   \n",
       "\n",
       "        visitor_census_tract  visitor_count  \n",
       "1697            250251801013             25  \n",
       "1698            250251802004             20  \n",
       "1699            250250511013             19  \n",
       "1700            250250511014             13  \n",
       "1701            250251802001             12  \n",
       "...                      ...            ...  \n",
       "894618           60014029001              4  \n",
       "894619          130890234182              4  \n",
       "894620          420454103014              4  \n",
       "894621          340270441012              4  \n",
       "894622          330110029034              4  \n",
       "\n",
       "[3096 rows x 12 columns]"
      ]
     },
     "execution_count": 29,
     "metadata": {},
     "output_type": "execute_result"
    }
   ],
   "source": [
    "#the 0 pop is concerning\n",
    "feb_mobility_info.query('total_population == 0')"
   ]
  },
  {
   "cell_type": "code",
   "execution_count": 30,
   "id": "4fdadfbb",
   "metadata": {
    "pycharm": {
     "name": "#%%\n"
    }
   },
   "outputs": [
    {
     "data": {
      "text/plain": [
       "0.0032955838537680466"
      ]
     },
     "execution_count": 30,
     "metadata": {},
     "output_type": "execute_result"
    }
   ],
   "source": [
    "len(feb_mobility_info.query('total_population == 0'))/len(feb_mobility_info)"
   ]
  },
  {
   "cell_type": "code",
   "execution_count": 31,
   "id": "967e656f",
   "metadata": {
    "pycharm": {
     "name": "#%%\n"
    }
   },
   "outputs": [
    {
     "data": {
      "text/plain": [
       "count    939439.000000\n",
       "mean       5009.715380\n",
       "std        9815.890268\n",
       "min           6.000000\n",
       "25%        1108.000000\n",
       "50%        2264.000000\n",
       "75%        4904.000000\n",
       "max       81673.000000\n",
       "Name: raw_device_counts, dtype: float64"
      ]
     },
     "execution_count": 31,
     "metadata": {},
     "output_type": "execute_result"
    }
   ],
   "source": [
    "#0.3%, don't want to drop the data but could probably estimate pop from device count\n",
    "feb_mobility_info['raw_device_counts'].describe()"
   ]
  },
  {
   "cell_type": "code",
   "execution_count": 32,
   "id": "255ecf61",
   "metadata": {
    "pycharm": {
     "name": "#%%\n"
    }
   },
   "outputs": [
    {
     "data": {
      "text/plain": [
       "count    939439.000000\n",
       "mean       1497.482972\n",
       "std         756.346815\n",
       "min           0.000000\n",
       "25%         962.000000\n",
       "50%        1342.000000\n",
       "75%        1935.000000\n",
       "max        6816.000000\n",
       "Name: total_population, dtype: float64"
      ]
     },
     "execution_count": 32,
     "metadata": {},
     "output_type": "execute_result"
    }
   ],
   "source": [
    "feb_mobility_info['total_population'].describe()"
   ]
  },
  {
   "cell_type": "code",
   "execution_count": 33,
   "id": "b84dc9d2",
   "metadata": {
    "pycharm": {
     "name": "#%%\n"
    }
   },
   "outputs": [],
   "source": [
    "#higher standard deviation in raw_device counts (even after adjusting for the higher numbers)\n",
    "#I still feel okay overall estimating population this way, or rather its the best option I have\n",
    "device_pop_ratio = feb_mobility_info['raw_device_counts'].quantile(q=0.5)/feb_mobility_info['total_population'].quantile(q=0.5)"
   ]
  },
  {
   "cell_type": "code",
   "execution_count": 34,
   "id": "b2ecdb89",
   "metadata": {
    "pycharm": {
     "name": "#%%\n"
    }
   },
   "outputs": [],
   "source": [
    "feb_mobility_info.loc[feb_mobility_info['total_population'] == 0, 'total_population'] = device_pop_ratio * feb_mobility_info.query('total_population == 0')['raw_device_counts']"
   ]
  },
  {
   "cell_type": "code",
   "execution_count": 35,
   "id": "a3217b12",
   "metadata": {
    "pycharm": {
     "name": "#%%\n"
    }
   },
   "outputs": [
    {
     "data": {
      "text/html": [
       "<div>\n",
       "<style scoped>\n",
       "    .dataframe tbody tr th:only-of-type {\n",
       "        vertical-align: middle;\n",
       "    }\n",
       "\n",
       "    .dataframe tbody tr th {\n",
       "        vertical-align: top;\n",
       "    }\n",
       "\n",
       "    .dataframe thead th {\n",
       "        text-align: right;\n",
       "    }\n",
       "</style>\n",
       "<table border=\"1\" class=\"dataframe\">\n",
       "  <thead>\n",
       "    <tr style=\"text-align: right;\">\n",
       "      <th></th>\n",
       "      <th>census_block_group</th>\n",
       "      <th>total_population</th>\n",
       "      <th>black_population</th>\n",
       "      <th>white_population</th>\n",
       "      <th>asian_population</th>\n",
       "      <th>hispanic_population</th>\n",
       "      <th>median_income</th>\n",
       "      <th>poi_cbg</th>\n",
       "      <th>year_month</th>\n",
       "      <th>raw_device_counts</th>\n",
       "      <th>visitor_census_tract</th>\n",
       "      <th>visitor_count</th>\n",
       "    </tr>\n",
       "  </thead>\n",
       "  <tbody>\n",
       "  </tbody>\n",
       "</table>\n",
       "</div>"
      ],
      "text/plain": [
       "Empty DataFrame\n",
       "Columns: [census_block_group, total_population, black_population, white_population, asian_population, hispanic_population, median_income, poi_cbg, year_month, raw_device_counts, visitor_census_tract, visitor_count]\n",
       "Index: []"
      ]
     },
     "execution_count": 35,
     "metadata": {},
     "output_type": "execute_result"
    }
   ],
   "source": [
    "#now to double check that worked\n",
    "feb_mobility_info.query('total_population == 0')"
   ]
  },
  {
   "cell_type": "code",
   "execution_count": 36,
   "id": "c3b3e732",
   "metadata": {
    "pycharm": {
     "name": "#%%\n"
    }
   },
   "outputs": [],
   "source": [
    "#cool, now we can actually calculate out the percent visiting, and start on the network analysis\n",
    "feb_mobility_info['percent_visiting'] = feb_mobility_info['visitor_count']/feb_mobility_info['total_population']"
   ]
  },
  {
   "cell_type": "code",
   "execution_count": 37,
   "id": "1d5aa264",
   "metadata": {
    "pycharm": {
     "name": "#%%\n"
    }
   },
   "outputs": [
    {
     "data": {
      "text/plain": [
       "count    939439.000000\n",
       "mean          0.006350\n",
       "std           0.025786\n",
       "min           0.000232\n",
       "25%           0.002317\n",
       "50%           0.003442\n",
       "75%           0.005391\n",
       "max           5.500000\n",
       "Name: percent_visiting, dtype: float64"
      ]
     },
     "execution_count": 37,
     "metadata": {},
     "output_type": "execute_result"
    }
   ],
   "source": [
    "feb_mobility_info['percent_visiting'].describe()"
   ]
  },
  {
   "cell_type": "code",
   "execution_count": 38,
   "id": "dd515c97",
   "metadata": {
    "pycharm": {
     "name": "#%%\n"
    }
   },
   "outputs": [
    {
     "data": {
      "text/html": [
       "<div>\n",
       "<style scoped>\n",
       "    .dataframe tbody tr th:only-of-type {\n",
       "        vertical-align: middle;\n",
       "    }\n",
       "\n",
       "    .dataframe tbody tr th {\n",
       "        vertical-align: top;\n",
       "    }\n",
       "\n",
       "    .dataframe thead th {\n",
       "        text-align: right;\n",
       "    }\n",
       "</style>\n",
       "<table border=\"1\" class=\"dataframe\">\n",
       "  <thead>\n",
       "    <tr style=\"text-align: right;\">\n",
       "      <th></th>\n",
       "      <th>census_block_group</th>\n",
       "      <th>total_population</th>\n",
       "      <th>black_population</th>\n",
       "      <th>white_population</th>\n",
       "      <th>asian_population</th>\n",
       "      <th>hispanic_population</th>\n",
       "      <th>median_income</th>\n",
       "      <th>poi_cbg</th>\n",
       "      <th>year_month</th>\n",
       "      <th>raw_device_counts</th>\n",
       "      <th>visitor_census_tract</th>\n",
       "      <th>visitor_count</th>\n",
       "      <th>percent_visiting</th>\n",
       "    </tr>\n",
       "  </thead>\n",
       "  <tbody>\n",
       "    <tr>\n",
       "      <th>273083</th>\n",
       "      <td>250039001001</td>\n",
       "      <td>746.0</td>\n",
       "      <td>83</td>\n",
       "      <td>630</td>\n",
       "      <td>0</td>\n",
       "      <td>0</td>\n",
       "      <td>21824.0</td>\n",
       "      <td>250039001001</td>\n",
       "      <td>2020_2</td>\n",
       "      <td>7165</td>\n",
       "      <td>250039001002</td>\n",
       "      <td>779</td>\n",
       "      <td>1.044236</td>\n",
       "    </tr>\n",
       "    <tr>\n",
       "      <th>316565</th>\n",
       "      <td>250056516002</td>\n",
       "      <td>1025.0</td>\n",
       "      <td>61</td>\n",
       "      <td>443</td>\n",
       "      <td>20</td>\n",
       "      <td>42</td>\n",
       "      <td>33409.0</td>\n",
       "      <td>250056516002</td>\n",
       "      <td>2020_2</td>\n",
       "      <td>15973</td>\n",
       "      <td>250056516002</td>\n",
       "      <td>1390</td>\n",
       "      <td>1.356098</td>\n",
       "    </tr>\n",
       "    <tr>\n",
       "      <th>453428</th>\n",
       "      <td>250138011011</td>\n",
       "      <td>1963.0</td>\n",
       "      <td>281</td>\n",
       "      <td>996</td>\n",
       "      <td>5</td>\n",
       "      <td>0</td>\n",
       "      <td>12628.0</td>\n",
       "      <td>250138011011</td>\n",
       "      <td>2020_2</td>\n",
       "      <td>33576</td>\n",
       "      <td>250138011011</td>\n",
       "      <td>3409</td>\n",
       "      <td>1.736628</td>\n",
       "    </tr>\n",
       "    <tr>\n",
       "      <th>472122</th>\n",
       "      <td>250173631044</td>\n",
       "      <td>373.0</td>\n",
       "      <td>0</td>\n",
       "      <td>373</td>\n",
       "      <td>0</td>\n",
       "      <td>0</td>\n",
       "      <td>144911.0</td>\n",
       "      <td>250173631044</td>\n",
       "      <td>2020_2</td>\n",
       "      <td>6100</td>\n",
       "      <td>250173631044</td>\n",
       "      <td>517</td>\n",
       "      <td>1.386059</td>\n",
       "    </tr>\n",
       "    <tr>\n",
       "      <th>696191</th>\n",
       "      <td>250259815021</td>\n",
       "      <td>12.0</td>\n",
       "      <td>12</td>\n",
       "      <td>0</td>\n",
       "      <td>0</td>\n",
       "      <td>0</td>\n",
       "      <td>NaN</td>\n",
       "      <td>250259815021</td>\n",
       "      <td>2020_2</td>\n",
       "      <td>4473</td>\n",
       "      <td>250251705011</td>\n",
       "      <td>66</td>\n",
       "      <td>5.500000</td>\n",
       "    </tr>\n",
       "    <tr>\n",
       "      <th>...</th>\n",
       "      <td>...</td>\n",
       "      <td>...</td>\n",
       "      <td>...</td>\n",
       "      <td>...</td>\n",
       "      <td>...</td>\n",
       "      <td>...</td>\n",
       "      <td>...</td>\n",
       "      <td>...</td>\n",
       "      <td>...</td>\n",
       "      <td>...</td>\n",
       "      <td>...</td>\n",
       "      <td>...</td>\n",
       "      <td>...</td>\n",
       "    </tr>\n",
       "    <tr>\n",
       "      <th>759069</th>\n",
       "      <td>250259818001</td>\n",
       "      <td>53.0</td>\n",
       "      <td>0</td>\n",
       "      <td>53</td>\n",
       "      <td>0</td>\n",
       "      <td>0</td>\n",
       "      <td>197500.0</td>\n",
       "      <td>250259818001</td>\n",
       "      <td>2020_2</td>\n",
       "      <td>9225</td>\n",
       "      <td>250251706011</td>\n",
       "      <td>55</td>\n",
       "      <td>1.037736</td>\n",
       "    </tr>\n",
       "    <tr>\n",
       "      <th>824420</th>\n",
       "      <td>250250911003</td>\n",
       "      <td>841.0</td>\n",
       "      <td>40</td>\n",
       "      <td>345</td>\n",
       "      <td>0</td>\n",
       "      <td>36</td>\n",
       "      <td>54476.0</td>\n",
       "      <td>250250911003</td>\n",
       "      <td>2020_2</td>\n",
       "      <td>42987</td>\n",
       "      <td>90035106001</td>\n",
       "      <td>1435</td>\n",
       "      <td>1.706302</td>\n",
       "    </tr>\n",
       "    <tr>\n",
       "      <th>824421</th>\n",
       "      <td>250250911003</td>\n",
       "      <td>841.0</td>\n",
       "      <td>40</td>\n",
       "      <td>345</td>\n",
       "      <td>0</td>\n",
       "      <td>36</td>\n",
       "      <td>54476.0</td>\n",
       "      <td>250250911003</td>\n",
       "      <td>2020_2</td>\n",
       "      <td>42987</td>\n",
       "      <td>250250911003</td>\n",
       "      <td>999</td>\n",
       "      <td>1.187872</td>\n",
       "    </tr>\n",
       "    <tr>\n",
       "      <th>870084</th>\n",
       "      <td>250056315002</td>\n",
       "      <td>1056.0</td>\n",
       "      <td>0</td>\n",
       "      <td>1026</td>\n",
       "      <td>0</td>\n",
       "      <td>0</td>\n",
       "      <td>66014.0</td>\n",
       "      <td>250056315002</td>\n",
       "      <td>2020_2</td>\n",
       "      <td>15424</td>\n",
       "      <td>250056315002</td>\n",
       "      <td>1567</td>\n",
       "      <td>1.483902</td>\n",
       "    </tr>\n",
       "    <tr>\n",
       "      <th>910508</th>\n",
       "      <td>250277096003</td>\n",
       "      <td>971.0</td>\n",
       "      <td>59</td>\n",
       "      <td>825</td>\n",
       "      <td>0</td>\n",
       "      <td>18</td>\n",
       "      <td>33750.0</td>\n",
       "      <td>250277096003</td>\n",
       "      <td>2020_2</td>\n",
       "      <td>16457</td>\n",
       "      <td>250277096003</td>\n",
       "      <td>1309</td>\n",
       "      <td>1.348095</td>\n",
       "    </tr>\n",
       "  </tbody>\n",
       "</table>\n",
       "<p>85 rows × 13 columns</p>\n",
       "</div>"
      ],
      "text/plain": [
       "        census_block_group  total_population  black_population  \\\n",
       "273083        250039001001             746.0                83   \n",
       "316565        250056516002            1025.0                61   \n",
       "453428        250138011011            1963.0               281   \n",
       "472122        250173631044             373.0                 0   \n",
       "696191        250259815021              12.0                12   \n",
       "...                    ...               ...               ...   \n",
       "759069        250259818001              53.0                 0   \n",
       "824420        250250911003             841.0                40   \n",
       "824421        250250911003             841.0                40   \n",
       "870084        250056315002            1056.0                 0   \n",
       "910508        250277096003             971.0                59   \n",
       "\n",
       "        white_population  asian_population  hispanic_population  \\\n",
       "273083               630                 0                    0   \n",
       "316565               443                20                   42   \n",
       "453428               996                 5                    0   \n",
       "472122               373                 0                    0   \n",
       "696191                 0                 0                    0   \n",
       "...                  ...               ...                  ...   \n",
       "759069                53                 0                    0   \n",
       "824420               345                 0                   36   \n",
       "824421               345                 0                   36   \n",
       "870084              1026                 0                    0   \n",
       "910508               825                 0                   18   \n",
       "\n",
       "        median_income       poi_cbg year_month  raw_device_counts  \\\n",
       "273083        21824.0  250039001001     2020_2               7165   \n",
       "316565        33409.0  250056516002     2020_2              15973   \n",
       "453428        12628.0  250138011011     2020_2              33576   \n",
       "472122       144911.0  250173631044     2020_2               6100   \n",
       "696191            NaN  250259815021     2020_2               4473   \n",
       "...               ...           ...        ...                ...   \n",
       "759069       197500.0  250259818001     2020_2               9225   \n",
       "824420        54476.0  250250911003     2020_2              42987   \n",
       "824421        54476.0  250250911003     2020_2              42987   \n",
       "870084        66014.0  250056315002     2020_2              15424   \n",
       "910508        33750.0  250277096003     2020_2              16457   \n",
       "\n",
       "        visitor_census_tract  visitor_count  percent_visiting  \n",
       "273083          250039001002            779          1.044236  \n",
       "316565          250056516002           1390          1.356098  \n",
       "453428          250138011011           3409          1.736628  \n",
       "472122          250173631044            517          1.386059  \n",
       "696191          250251705011             66          5.500000  \n",
       "...                      ...            ...               ...  \n",
       "759069          250251706011             55          1.037736  \n",
       "824420           90035106001           1435          1.706302  \n",
       "824421          250250911003            999          1.187872  \n",
       "870084          250056315002           1567          1.483902  \n",
       "910508          250277096003           1309          1.348095  \n",
       "\n",
       "[85 rows x 13 columns]"
      ]
     },
     "execution_count": 38,
     "metadata": {},
     "output_type": "execute_result"
    }
   ],
   "source": [
    "#well, that 5.5 is concerning\n",
    "feb_mobility_info.query('percent_visiting > 1')"
   ]
  },
  {
   "cell_type": "markdown",
   "id": "7016294b",
   "metadata": {
    "pycharm": {
     "name": "#%% md\n"
    }
   },
   "source": [
    "One block had 12 actual people, but 4473 raw devices. how good of a metric is the device count then?\n",
    "\n"
   ]
  },
  {
   "cell_type": "code",
   "execution_count": 39,
   "id": "0df73cf1",
   "metadata": {
    "pycharm": {
     "name": "#%%\n"
    }
   },
   "outputs": [],
   "source": [
    "#first lets group by block, so we can get accurate percentages\n",
    "feb_info_group = feb_mobility_info.groupby('poi_cbg').agg({'raw_device_counts':'min', 'total_population':'min'})"
   ]
  },
  {
   "cell_type": "code",
   "execution_count": 40,
   "id": "93037720",
   "metadata": {
    "pycharm": {
     "name": "#%%\n"
    }
   },
   "outputs": [
    {
     "data": {
      "text/html": [
       "<div>\n",
       "<style scoped>\n",
       "    .dataframe tbody tr th:only-of-type {\n",
       "        vertical-align: middle;\n",
       "    }\n",
       "\n",
       "    .dataframe tbody tr th {\n",
       "        vertical-align: top;\n",
       "    }\n",
       "\n",
       "    .dataframe thead th {\n",
       "        text-align: right;\n",
       "    }\n",
       "</style>\n",
       "<table border=\"1\" class=\"dataframe\">\n",
       "  <thead>\n",
       "    <tr style=\"text-align: right;\">\n",
       "      <th></th>\n",
       "      <th>raw_device_counts</th>\n",
       "      <th>total_population</th>\n",
       "    </tr>\n",
       "    <tr>\n",
       "      <th>poi_cbg</th>\n",
       "      <th></th>\n",
       "      <th></th>\n",
       "    </tr>\n",
       "  </thead>\n",
       "  <tbody>\n",
       "    <tr>\n",
       "      <th>250010101001</th>\n",
       "      <td>844</td>\n",
       "      <td>938.0</td>\n",
       "    </tr>\n",
       "    <tr>\n",
       "      <th>250010101002</th>\n",
       "      <td>277</td>\n",
       "      <td>289.0</td>\n",
       "    </tr>\n",
       "    <tr>\n",
       "      <th>250010101003</th>\n",
       "      <td>260</td>\n",
       "      <td>755.0</td>\n",
       "    </tr>\n",
       "    <tr>\n",
       "      <th>250010101004</th>\n",
       "      <td>1859</td>\n",
       "      <td>499.0</td>\n",
       "    </tr>\n",
       "    <tr>\n",
       "      <th>250010101005</th>\n",
       "      <td>673</td>\n",
       "      <td>481.0</td>\n",
       "    </tr>\n",
       "  </tbody>\n",
       "</table>\n",
       "</div>"
      ],
      "text/plain": [
       "              raw_device_counts  total_population\n",
       "poi_cbg                                          \n",
       "250010101001                844             938.0\n",
       "250010101002                277             289.0\n",
       "250010101003                260             755.0\n",
       "250010101004               1859             499.0\n",
       "250010101005                673             481.0"
      ]
     },
     "execution_count": 40,
     "metadata": {},
     "output_type": "execute_result"
    }
   ],
   "source": [
    "feb_info_group.head()"
   ]
  },
  {
   "cell_type": "code",
   "execution_count": 41,
   "id": "84b0e4cb",
   "metadata": {
    "pycharm": {
     "name": "#%%\n"
    }
   },
   "outputs": [
    {
     "data": {
      "text/plain": [
       "(array([3184., 1042.,  338.,  157.,   85.,   61.,   26.,   16.,    9.]),\n",
       " array([0, 1, 2, 3, 4, 5, 6, 7, 8, 9]),\n",
       " <BarContainer object of 9 artists>)"
      ]
     },
     "execution_count": 41,
     "metadata": {},
     "output_type": "execute_result"
    },
    {
     "data": {
      "image/png": "[encoded data removed]",
      "text/plain": [
       "<Figure size 640x480 with 1 Axes>"
      ]
     },
     "metadata": {},
     "output_type": "display_data"
    }
   ],
   "source": [
    "import matplotlib.pyplot as plt\n",
    "plt.hist(feb_info_group['raw_device_counts']/feb_info_group['total_population'], bins=range(0, 10))"
   ]
  },
  {
   "cell_type": "code",
   "execution_count": 42,
   "id": "e5d358f8",
   "metadata": {
    "pycharm": {
     "name": "#%%\n"
    }
   },
   "outputs": [
    {
     "data": {
      "text/plain": [
       "0.010834670947030497"
      ]
     },
     "execution_count": 42,
     "metadata": {},
     "output_type": "execute_result"
    }
   ],
   "source": [
    "(feb_info_group['raw_device_counts']/feb_info_group['total_population'] > 10).sum()/len(feb_info_group)"
   ]
  },
  {
   "cell_type": "code",
   "execution_count": 43,
   "id": "25aa4545",
   "metadata": {
    "pycharm": {
     "name": "#%%\n"
    }
   },
   "outputs": [
    {
     "data": {
      "text/plain": [
       "0.003009630818619583"
      ]
     },
     "execution_count": 43,
     "metadata": {},
     "output_type": "execute_result"
    }
   ],
   "source": [
    "(feb_info_group['raw_device_counts']/feb_info_group['total_population'] > 20).sum()/len(feb_info_group)"
   ]
  },
  {
   "cell_type": "markdown",
   "id": "ed473242",
   "metadata": {
    "pycharm": {
     "name": "#%% md\n"
    }
   },
   "source": [
    "1% of blocks have more than 10 devices per person, and 0.3% have more than 20 devices per person. Still a bit concerning, but somewhat reasonable.\n",
    "\n",
    "Overall, it seems like it makes more sense to just go ahead and use raw_device_count, since both that and visitor_count are measuring using the same method (devices), and we avoid having more than 100% of people visit. This is despite the problems with making conclusions on that data shown by the large decrease in raw_device_count and the mismatch between population and raw_device_count."
   ]
  },
  {
   "cell_type": "code",
   "execution_count": 44,
   "id": "1f176e05",
   "metadata": {
    "pycharm": {
     "name": "#%%\n"
    }
   },
   "outputs": [],
   "source": [
    "feb_mobility['percent_visiting'] = feb_mobility['visitor_count']/feb_mobility['raw_device_counts']"
   ]
  },
  {
   "cell_type": "code",
   "execution_count": 45,
   "id": "4845f693",
   "metadata": {
    "pycharm": {
     "name": "#%%\n"
    }
   },
   "outputs": [
    {
     "data": {
      "text/plain": [
       "count    939439.000000\n",
       "mean          0.004406\n",
       "std           0.011523\n",
       "min           0.000049\n",
       "25%           0.000986\n",
       "50%           0.002240\n",
       "75%           0.004648\n",
       "max           0.666667\n",
       "Name: percent_visiting, dtype: float64"
      ]
     },
     "execution_count": 45,
     "metadata": {},
     "output_type": "execute_result"
    }
   ],
   "source": [
    "feb_mobility['percent_visiting'].describe()"
   ]
  },
  {
   "cell_type": "code",
   "execution_count": 46,
   "id": "29f12511",
   "metadata": {
    "pycharm": {
     "name": "#%%\n"
    }
   },
   "outputs": [],
   "source": [
    "april_mobility['percent_visiting'] = april_mobility['visitor_count']/april_mobility['raw_device_counts']"
   ]
  },
  {
   "cell_type": "code",
   "execution_count": 47,
   "id": "2eee3f2d",
   "metadata": {
    "pycharm": {
     "name": "#%%\n"
    }
   },
   "outputs": [
    {
     "data": {
      "text/plain": [
       "count    384826.000000\n",
       "mean          0.010980\n",
       "std           0.027343\n",
       "min           0.000167\n",
       "25%           0.003046\n",
       "50%           0.005995\n",
       "75%           0.010730\n",
       "max           0.551037\n",
       "Name: percent_visiting, dtype: float64"
      ]
     },
     "execution_count": 47,
     "metadata": {},
     "output_type": "execute_result"
    }
   ],
   "source": [
    "april_mobility['percent_visiting'].describe()"
   ]
  },
  {
   "cell_type": "code",
   "execution_count": 48,
   "id": "d4b96910",
   "metadata": {
    "pycharm": {
     "name": "#%%\n"
    }
   },
   "outputs": [],
   "source": [
    "import networkx as nx\n",
    "feb_graph = nx.from_pandas_edgelist(feb_mobility, source='poi_cbg', target='visitor_census_tract', edge_attr='percent_visiting', create_using=nx.DiGraph)\n",
    "april_graph = nx.from_pandas_edgelist(april_mobility, source='poi_cbg', target='visitor_census_tract', edge_attr='percent_visiting', create_using=nx.DiGraph)"
   ]
  },
  {
   "cell_type": "code",
   "execution_count": 49,
   "id": "f218e567",
   "metadata": {
    "pycharm": {
     "name": "#%%\n"
    }
   },
   "outputs": [
    {
     "name": "stdout",
     "output_type": "stream",
     "text": [
      "feb len: 46319\n",
      "april len: 17104\n",
      "april/feb len: 0.3692653122908526\n"
     ]
    }
   ],
   "source": [
    "print('feb len:', len(feb_graph))\n",
    "print('april len:', len(april_graph))\n",
    "print('april/feb len:', len(april_graph)/len(feb_graph))"
   ]
  },
  {
   "cell_type": "code",
   "execution_count": 50,
   "id": "1c12a630",
   "metadata": {
    "pycharm": {
     "name": "#%%\n"
    }
   },
   "outputs": [
    {
     "name": "stdout",
     "output_type": "stream",
     "text": [
      "feb: 0.0004378845403194799\n",
      "april: 0.0013155108155304238\n",
      "april/feb 3.0042412882871568\n"
     ]
    }
   ],
   "source": [
    "print('feb:', nx.density(feb_graph))\n",
    "print('april:', nx.density(april_graph))\n",
    "print('april/feb', nx.density(april_graph)/nx.density(feb_graph))"
   ]
  },
  {
   "cell_type": "code",
   "execution_count": 51,
   "id": "b4a7cfd9",
   "metadata": {
    "pycharm": {
     "name": "#%%\n"
    }
   },
   "outputs": [
    {
     "data": {
      "text/plain": [
       "11037"
      ]
     },
     "execution_count": 51,
     "metadata": {},
     "output_type": "execute_result"
    }
   ],
   "source": [
    "#very very low density, though it increases in April\n",
    "len(nx.degree_histogram(feb_graph))"
   ]
  },
  {
   "cell_type": "code",
   "execution_count": 52,
   "id": "b6a89a5c",
   "metadata": {
    "pycharm": {
     "name": "#%%\n"
    }
   },
   "outputs": [
    {
     "data": {
      "image/png": "[encoded data removed]",
      "text/plain": [
       "<Figure size 640x480 with 1 Axes>"
      ]
     },
     "metadata": {},
     "output_type": "display_data"
    }
   ],
   "source": [
    "#way too many values to graph all of them, so just doing the first few\n",
    "import matplotlib.pyplot as plt\n",
    "count = 20\n",
    "plt.hist(list(range(count)), bins=count, weights=nx.degree_histogram(feb_graph)[0:count])\n",
    "plt.show()"
   ]
  },
  {
   "cell_type": "code",
   "execution_count": 53,
   "id": "6e6fe597",
   "metadata": {
    "pycharm": {
     "name": "#%%\n"
    }
   },
   "outputs": [
    {
     "data": {
      "text/plain": [
       "(array([   0., 6895., 1941.,  856.,  500.,  324.,  215.,  165.,  112.,\n",
       "         128.,  104.,   93.,   53.,   57.,   63.,   52.,   38.,   41.,\n",
       "          40.,   33.]),\n",
       " array([ 0.  ,  0.95,  1.9 ,  2.85,  3.8 ,  4.75,  5.7 ,  6.65,  7.6 ,\n",
       "         8.55,  9.5 , 10.45, 11.4 , 12.35, 13.3 , 14.25, 15.2 , 16.15,\n",
       "        17.1 , 18.05, 19.  ]),\n",
       " <BarContainer object of 20 artists>)"
      ]
     },
     "execution_count": 53,
     "metadata": {},
     "output_type": "execute_result"
    },
    {
     "data": {
      "image/png": "[encoded data removed]",
      "text/plain": [
       "<Figure size 640x480 with 1 Axes>"
      ]
     },
     "metadata": {},
     "output_type": "display_data"
    }
   ],
   "source": [
    "plt.hist(list(range(count)), bins=count, weights=nx.degree_histogram(april_graph)[0:count], color='orange')"
   ]
  },
  {
   "cell_type": "code",
   "execution_count": 54,
   "id": "fa3ab0df",
   "metadata": {
    "pycharm": {
     "name": "#%%\n"
    }
   },
   "outputs": [],
   "source": [
    "#both seem to follow power law. Though it didn't take into account weight\n",
    "feb_weight_degree = list(dict(nx.degree(feb_graph, weight='percent_visiting')).values())\n",
    "april_weight_degree = list(dict(nx.degree(april_graph, weight='percent_visiting')).values())"
   ]
  },
  {
   "cell_type": "code",
   "execution_count": 55,
   "id": "2ec4f231",
   "metadata": {
    "pycharm": {
     "name": "#%%\n"
    }
   },
   "outputs": [
    {
     "data": {
      "text/plain": [
       "[0.004178389753784345,\n",
       " 1.4366808364803556,\n",
       " 0.0014411349319544417,\n",
       " 0.001343183344526528,\n",
       " 0.026275872954964707]"
      ]
     },
     "execution_count": 55,
     "metadata": {},
     "output_type": "execute_result"
    }
   ],
   "source": [
    "#wanted to check a few degrees\n",
    "feb_weight_degree[2017:2022]"
   ]
  },
  {
   "cell_type": "code",
   "execution_count": 56,
   "id": "2507723a",
   "metadata": {
    "pycharm": {
     "name": "#%%\n"
    }
   },
   "outputs": [
    {
     "data": {
      "text/plain": [
       "(array([4.1321e+04, 4.3100e+02, 3.0260e+03, 1.2580e+03, 2.3300e+02,\n",
       "        4.1000e+01, 6.0000e+00, 2.0000e+00, 0.0000e+00, 1.0000e+00]),\n",
       " array([4.89757937e-05, 5.67178430e-01, 1.13430788e+00, 1.70143734e+00,\n",
       "        2.26856679e+00, 2.83569625e+00, 3.40282570e+00, 3.96995515e+00,\n",
       "        4.53708461e+00, 5.10421406e+00, 5.67134352e+00]),\n",
       " <BarContainer object of 10 artists>)"
      ]
     },
     "execution_count": 56,
     "metadata": {},
     "output_type": "execute_result"
    },
    {
     "data": {
      "image/png": "[encoded data removed]",
      "text/plain": [
       "<Figure size 640x480 with 1 Axes>"
      ]
     },
     "metadata": {},
     "output_type": "display_data"
    }
   ],
   "source": [
    "plt.hist(feb_weight_degree)"
   ]
  },
  {
   "cell_type": "code",
   "execution_count": 57,
   "id": "4776fdc0",
   "metadata": {
    "pycharm": {
     "name": "#%%\n"
    }
   },
   "outputs": [
    {
     "data": {
      "image/png": "[encoded data removed]",
      "text/plain": [
       "<Figure size 640x480 with 1 Axes>"
      ]
     },
     "metadata": {},
     "output_type": "display_data"
    }
   ],
   "source": [
    "#wonder about the distribution of the first few\n",
    "import matplotlib.pyplot as plt\n",
    "plt.hist(feb_weight_degree, bins=[x/160 for x in range(20)])\n",
    "plt.show()"
   ]
  },
  {
   "cell_type": "code",
   "execution_count": 58,
   "id": "b07203f9",
   "metadata": {
    "pycharm": {
     "name": "#%%\n"
    }
   },
   "outputs": [
    {
     "data": {
      "image/png": "[encoded data removed]",
      "text/plain": [
       "<Figure size 640x480 with 1 Axes>"
      ]
     },
     "metadata": {},
     "output_type": "display_data"
    }
   ],
   "source": [
    "#so have a power law here\n",
    "#looking at that second bump now\n",
    "import matplotlib.pyplot as plt\n",
    "plt.hist(feb_weight_degree, bins=[0.8+x/10 for x in range(25)])\n",
    "plt.show()"
   ]
  },
  {
   "cell_type": "code",
   "execution_count": 59,
   "id": "75d58e83",
   "metadata": {
    "pycharm": {
     "name": "#%%\n"
    }
   },
   "outputs": [],
   "source": [
    "#interesting, another curve"
   ]
  },
  {
   "cell_type": "code",
   "execution_count": 60,
   "id": "06e9f942",
   "metadata": {
    "pycharm": {
     "name": "#%%\n"
    }
   },
   "outputs": [
    {
     "data": {
      "text/plain": [
       "(array([1.2103e+04, 2.0200e+02, 2.5120e+03, 1.8050e+03, 4.0500e+02,\n",
       "        6.1000e+01, 1.3000e+01, 1.0000e+00, 0.0000e+00, 2.0000e+00]),\n",
       " array([1.66910077e-04, 5.44241634e-01, 1.08831636e+00, 1.63239108e+00,\n",
       "        2.17646581e+00, 2.72054053e+00, 3.26461525e+00, 3.80868998e+00,\n",
       "        4.35276470e+00, 4.89683942e+00, 5.44091415e+00]),\n",
       " <BarContainer object of 10 artists>)"
      ]
     },
     "execution_count": 60,
     "metadata": {},
     "output_type": "execute_result"
    },
    {
     "data": {
      "image/png": "[encoded data removed]",
      "text/plain": [
       "<Figure size 640x480 with 1 Axes>"
      ]
     },
     "metadata": {},
     "output_type": "display_data"
    }
   ],
   "source": [
    "#now looking at april\n",
    "plt.hist(april_weight_degree)"
   ]
  },
  {
   "cell_type": "code",
   "execution_count": 61,
   "id": "7794eb00",
   "metadata": {
    "pycharm": {
     "name": "#%%\n"
    }
   },
   "outputs": [
    {
     "data": {
      "image/png": "[encoded data removed]",
      "text/plain": [
       "<Figure size 640x480 with 1 Axes>"
      ]
     },
     "metadata": {},
     "output_type": "display_data"
    }
   ],
   "source": [
    "#larger second bump\n",
    "#going to look at that first value though\n",
    "import matplotlib.pyplot as plt\n",
    "plt.hist(april_weight_degree, bins=[x/160 for x in range(20)])\n",
    "plt.show()"
   ]
  },
  {
   "cell_type": "code",
   "execution_count": 62,
   "id": "d5ff49b1",
   "metadata": {
    "pycharm": {
     "name": "#%%\n"
    }
   },
   "outputs": [
    {
     "data": {
      "image/png": "[encoded data removed]",
      "text/plain": [
       "<Figure size 640x480 with 1 Axes>"
      ]
     },
     "metadata": {},
     "output_type": "display_data"
    }
   ],
   "source": [
    "#still does follow the power law\n",
    "#looking at that second bump now\n",
    "import matplotlib.pyplot as plt\n",
    "plt.hist(feb_weight_degree, bins=[0.8+x/10 for x in range(25)])\n",
    "plt.show()"
   ]
  },
  {
   "cell_type": "code",
   "execution_count": 63,
   "id": "090e088d",
   "metadata": {
    "pycharm": {
     "name": "#%%\n"
    }
   },
   "outputs": [],
   "source": [
    "#again, a curve"
   ]
  },
  {
   "cell_type": "code",
   "execution_count": 64,
   "id": "e0dd0356",
   "metadata": {
    "pycharm": {
     "name": "#%%\n"
    }
   },
   "outputs": [
    {
     "data": {
      "text/plain": [
       "38668"
      ]
     },
     "execution_count": 64,
     "metadata": {},
     "output_type": "execute_result"
    }
   ],
   "source": [
    "len(nx.dominating_set(feb_graph))"
   ]
  },
  {
   "cell_type": "code",
   "execution_count": 65,
   "id": "3cca4006",
   "metadata": {
    "pycharm": {
     "name": "#%%\n"
    }
   },
   "outputs": [
    {
     "data": {
      "text/plain": [
       "0.8348194045640018"
      ]
     },
     "execution_count": 65,
     "metadata": {},
     "output_type": "execute_result"
    }
   ],
   "source": [
    "len(nx.dominating_set(feb_graph))/len(feb_graph)"
   ]
  },
  {
   "cell_type": "code",
   "execution_count": 66,
   "id": "01963d9d",
   "metadata": {
    "pycharm": {
     "name": "#%%\n"
    }
   },
   "outputs": [
    {
     "data": {
      "text/plain": [
       "11442"
      ]
     },
     "execution_count": 66,
     "metadata": {},
     "output_type": "execute_result"
    }
   ],
   "source": [
    "len(nx.dominating_set(april_graph))"
   ]
  },
  {
   "cell_type": "code",
   "execution_count": 67,
   "id": "712e719c",
   "metadata": {
    "pycharm": {
     "name": "#%%\n"
    }
   },
   "outputs": [
    {
     "data": {
      "text/plain": [
       "0.6689663236669785"
      ]
     },
     "execution_count": 67,
     "metadata": {},
     "output_type": "execute_result"
    }
   ],
   "source": [
    "len(nx.dominating_set(april_graph))/len(april_graph)"
   ]
  },
  {
   "cell_type": "markdown",
   "id": "18df8edb",
   "metadata": {
    "pycharm": {
     "name": "#%% md\n"
    }
   },
   "source": [
    "## calculated metrics\n",
    "The graph has a very low density in both times, though the density increased by 3x in April. This may be linked to the decrease in nodes by about 1/3 from February to April.\n",
    "\n",
    "In both months the degree follows a power law rule for the smaller edges, then there is an increase centered around 1, after which it follows another curve downwards.\n",
    "\n",
    "In February you'd need a set of 83% of the blocks in order to have visitors to every other block, while in April you'd only need 67% of the blocks. This indicates that the nodes in April are generally more connected."
   ]
  },
  {
   "cell_type": "markdown",
   "id": "01299205",
   "metadata": {
    "pycharm": {
     "name": "#%% md\n"
    }
   },
   "source": [
    "## Bonus Task 1.\n",
    "Run the Louvain algorithm on these two networks using the networkx function `louvain_communities()` to detect sub-communities among census block groups (CBG) in MA. Discuss the racial and income profile of different “communities” identified by Louvain using ACS’s CBG-based demographic estimates. What changed during COVID? Any other pattern you have noticed? Another interesting thing to see about these communities is to plot them on the map and see how they are distributed in space. Do they tend to cluster with each other geographically? Speculate on why or why not. [one extra point] "
   ]
  },
  {
   "cell_type": "code",
   "execution_count": 68,
   "id": "69c722f5",
   "metadata": {
    "pycharm": {
     "name": "#%%\n"
    }
   },
   "outputs": [],
   "source": [
    "#already loaded acs_data earlier, going to reset the earlier mobility info though\n",
    "april_mobility['poi_cbg'] = april_mobility['poi_cbg'].astype(str)\n",
    "april_mobility['visitor_census_tract'] = april_mobility['visitor_census_tract'].astype(str)\n",
    "feb_mobility['poi_cbg'] = feb_mobility['poi_cbg'].astype(str)\n",
    "feb_mobility['visitor_census_tract'] = feb_mobility['visitor_census_tract'].astype(str)\n",
    "acs_data['census_block_group'] = acs_data['census_block_group'].astype(str)"
   ]
  },
  {
   "cell_type": "code",
   "execution_count": 69,
   "id": "c3aebace",
   "metadata": {
    "pycharm": {
     "name": "#%%\n"
    }
   },
   "outputs": [],
   "source": [
    "feb_mobility_info = pd.merge(acs_data, feb_mobility, left_on='census_block_group', right_on='poi_cbg', how='right')\n",
    "april_mobility_info = pd.merge(acs_data, april_mobility, left_on='census_block_group', right_on='poi_cbg', how='right')"
   ]
  },
  {
   "cell_type": "code",
   "execution_count": 70,
   "id": "536d55f3",
   "metadata": {
    "pycharm": {
     "name": "#%%\n"
    }
   },
   "outputs": [
    {
     "data": {
      "text/html": [
       "<div>\n",
       "<style scoped>\n",
       "    .dataframe tbody tr th:only-of-type {\n",
       "        vertical-align: middle;\n",
       "    }\n",
       "\n",
       "    .dataframe tbody tr th {\n",
       "        vertical-align: top;\n",
       "    }\n",
       "\n",
       "    .dataframe thead th {\n",
       "        text-align: right;\n",
       "    }\n",
       "</style>\n",
       "<table border=\"1\" class=\"dataframe\">\n",
       "  <thead>\n",
       "    <tr style=\"text-align: right;\">\n",
       "      <th></th>\n",
       "      <th>census_block_group</th>\n",
       "      <th>total_population</th>\n",
       "      <th>black_population</th>\n",
       "      <th>white_population</th>\n",
       "      <th>asian_population</th>\n",
       "      <th>hispanic_population</th>\n",
       "      <th>median_income</th>\n",
       "      <th>poi_cbg</th>\n",
       "      <th>year_month</th>\n",
       "      <th>raw_device_counts</th>\n",
       "      <th>visitor_census_tract</th>\n",
       "      <th>visitor_count</th>\n",
       "      <th>percent_visiting</th>\n",
       "    </tr>\n",
       "  </thead>\n",
       "  <tbody>\n",
       "    <tr>\n",
       "      <th>0</th>\n",
       "      <td>250010135001</td>\n",
       "      <td>2341</td>\n",
       "      <td>1</td>\n",
       "      <td>2324</td>\n",
       "      <td>0</td>\n",
       "      <td>0</td>\n",
       "      <td>108732.0</td>\n",
       "      <td>250010135001</td>\n",
       "      <td>2020_4</td>\n",
       "      <td>417</td>\n",
       "      <td>250010135001</td>\n",
       "      <td>120</td>\n",
       "      <td>0.287770</td>\n",
       "    </tr>\n",
       "    <tr>\n",
       "      <th>1</th>\n",
       "      <td>250010135001</td>\n",
       "      <td>2341</td>\n",
       "      <td>1</td>\n",
       "      <td>2324</td>\n",
       "      <td>0</td>\n",
       "      <td>0</td>\n",
       "      <td>108732.0</td>\n",
       "      <td>250010135001</td>\n",
       "      <td>2020_4</td>\n",
       "      <td>417</td>\n",
       "      <td>250010136001</td>\n",
       "      <td>31</td>\n",
       "      <td>0.074341</td>\n",
       "    </tr>\n",
       "    <tr>\n",
       "      <th>2</th>\n",
       "      <td>250010135001</td>\n",
       "      <td>2341</td>\n",
       "      <td>1</td>\n",
       "      <td>2324</td>\n",
       "      <td>0</td>\n",
       "      <td>0</td>\n",
       "      <td>108732.0</td>\n",
       "      <td>250010135001</td>\n",
       "      <td>2020_4</td>\n",
       "      <td>417</td>\n",
       "      <td>250010134003</td>\n",
       "      <td>16</td>\n",
       "      <td>0.038369</td>\n",
       "    </tr>\n",
       "    <tr>\n",
       "      <th>3</th>\n",
       "      <td>250010135001</td>\n",
       "      <td>2341</td>\n",
       "      <td>1</td>\n",
       "      <td>2324</td>\n",
       "      <td>0</td>\n",
       "      <td>0</td>\n",
       "      <td>108732.0</td>\n",
       "      <td>250010135001</td>\n",
       "      <td>2020_4</td>\n",
       "      <td>417</td>\n",
       "      <td>250010135004</td>\n",
       "      <td>13</td>\n",
       "      <td>0.031175</td>\n",
       "    </tr>\n",
       "    <tr>\n",
       "      <th>4</th>\n",
       "      <td>250010135001</td>\n",
       "      <td>2341</td>\n",
       "      <td>1</td>\n",
       "      <td>2324</td>\n",
       "      <td>0</td>\n",
       "      <td>0</td>\n",
       "      <td>108732.0</td>\n",
       "      <td>250010135001</td>\n",
       "      <td>2020_4</td>\n",
       "      <td>417</td>\n",
       "      <td>250010135002</td>\n",
       "      <td>10</td>\n",
       "      <td>0.023981</td>\n",
       "    </tr>\n",
       "  </tbody>\n",
       "</table>\n",
       "</div>"
      ],
      "text/plain": [
       "  census_block_group  total_population  black_population  white_population  \\\n",
       "0       250010135001              2341                 1              2324   \n",
       "1       250010135001              2341                 1              2324   \n",
       "2       250010135001              2341                 1              2324   \n",
       "3       250010135001              2341                 1              2324   \n",
       "4       250010135001              2341                 1              2324   \n",
       "\n",
       "   asian_population  hispanic_population  median_income       poi_cbg  \\\n",
       "0                 0                    0       108732.0  250010135001   \n",
       "1                 0                    0       108732.0  250010135001   \n",
       "2                 0                    0       108732.0  250010135001   \n",
       "3                 0                    0       108732.0  250010135001   \n",
       "4                 0                    0       108732.0  250010135001   \n",
       "\n",
       "  year_month  raw_device_counts visitor_census_tract  visitor_count  \\\n",
       "0     2020_4                417         250010135001            120   \n",
       "1     2020_4                417         250010136001             31   \n",
       "2     2020_4                417         250010134003             16   \n",
       "3     2020_4                417         250010135004             13   \n",
       "4     2020_4                417         250010135002             10   \n",
       "\n",
       "   percent_visiting  \n",
       "0          0.287770  \n",
       "1          0.074341  \n",
       "2          0.038369  \n",
       "3          0.031175  \n",
       "4          0.023981  "
      ]
     },
     "execution_count": 70,
     "metadata": {},
     "output_type": "execute_result"
    }
   ],
   "source": [
    "april_mobility_info.head()"
   ]
  },
  {
   "cell_type": "code",
   "execution_count": 71,
   "id": "244b248b",
   "metadata": {
    "pycharm": {
     "name": "#%%\n"
    }
   },
   "outputs": [
    {
     "data": {
      "text/plain": [
       "census_block_group          0\n",
       "total_population            0\n",
       "black_population            0\n",
       "white_population            0\n",
       "asian_population            0\n",
       "hispanic_population         0\n",
       "median_income           13562\n",
       "poi_cbg                     0\n",
       "year_month                  0\n",
       "raw_device_counts           0\n",
       "visitor_census_tract        0\n",
       "visitor_count               0\n",
       "percent_visiting            0\n",
       "dtype: int64"
      ]
     },
     "execution_count": 71,
     "metadata": {},
     "output_type": "execute_result"
    }
   ],
   "source": [
    "april_mobility_info.isna().sum()"
   ]
  },
  {
   "cell_type": "code",
   "execution_count": 72,
   "id": "28f1224a",
   "metadata": {
    "pycharm": {
     "name": "#%%\n"
    }
   },
   "outputs": [
    {
     "data": {
      "text/plain": [
       "17104"
      ]
     },
     "execution_count": 72,
     "metadata": {},
     "output_type": "execute_result"
    }
   ],
   "source": [
    "len(april_graph)"
   ]
  },
  {
   "cell_type": "code",
   "execution_count": 73,
   "id": "6d11edb0",
   "metadata": {
    "pycharm": {
     "name": "#%%\n"
    }
   },
   "outputs": [],
   "source": [
    "#going to restrict the data to just Mass data\n",
    "april_mobility_info = april_mobility_info.query(\"poi_cbg.str.startswith('25') & visitor_census_tract.str.startswith('25')\")"
   ]
  },
  {
   "cell_type": "code",
   "execution_count": 74,
   "id": "32fbe14a",
   "metadata": {
    "pycharm": {
     "name": "#%%\n"
    }
   },
   "outputs": [],
   "source": [
    "april_graph = nx.from_pandas_edgelist(april_mobility_info, source='poi_cbg', target='visitor_census_tract', edge_attr='percent_visiting', create_using=nx.DiGraph)"
   ]
  },
  {
   "cell_type": "code",
   "execution_count": 75,
   "id": "70e29b44",
   "metadata": {
    "pycharm": {
     "name": "#%%\n"
    }
   },
   "outputs": [
    {
     "data": {
      "text/plain": [
       "4985"
      ]
     },
     "execution_count": 75,
     "metadata": {},
     "output_type": "execute_result"
    }
   ],
   "source": [
    "len(april_graph)"
   ]
  },
  {
   "cell_type": "code",
   "execution_count": 76,
   "id": "e412bd0a",
   "metadata": {
    "pycharm": {
     "name": "#%%\n"
    }
   },
   "outputs": [],
   "source": [
    "#setting a seed, so can make data claims without having it change the next run\n",
    "april_louvain = nx.algorithms.community.louvain_communities(april_graph, seed=20221019)"
   ]
  },
  {
   "cell_type": "code",
   "execution_count": 77,
   "id": "2e489430",
   "metadata": {
    "pycharm": {
     "name": "#%%\n"
    }
   },
   "outputs": [
    {
     "name": "stdout",
     "output_type": "stream",
     "text": [
      "<class 'list'>\n",
      "17\n"
     ]
    }
   ],
   "source": [
    "print(type(april_louvain))\n",
    "print(len(april_louvain))"
   ]
  },
  {
   "cell_type": "code",
   "execution_count": 78,
   "id": "2a956484",
   "metadata": {
    "pycharm": {
     "name": "#%%\n"
    }
   },
   "outputs": [
    {
     "data": {
      "text/plain": [
       "292"
      ]
     },
     "execution_count": 78,
     "metadata": {},
     "output_type": "execute_result"
    }
   ],
   "source": [
    "len(april_louvain[0])"
   ]
  },
  {
   "cell_type": "code",
   "execution_count": 79,
   "id": "5f235239",
   "metadata": {
    "pycharm": {
     "name": "#%%\n"
    }
   },
   "outputs": [
    {
     "data": {
      "text/plain": [
       "{'250173201022',\n",
       " '250173201023',\n",
       " '250173201031',\n",
       " '250173201041',\n",
       " '250173201042',\n",
       " '250173201043',\n",
       " '250173211001',\n",
       " '250173211002',\n",
       " '250173211003',\n",
       " '250173212001',\n",
       " '250173212002',\n",
       " '250173212003',\n",
       " '250173213001',\n",
       " '250173213002',\n",
       " '250173213003',\n",
       " '250173213004',\n",
       " '250173213005',\n",
       " '250173213006',\n",
       " '250173215001',\n",
       " '250173215002',\n",
       " '250173215003',\n",
       " '250173216001',\n",
       " '250173216002',\n",
       " '250173216003',\n",
       " '250173216004',\n",
       " '250173222001',\n",
       " '250173652011',\n",
       " '250173652012',\n",
       " '250173652021',\n",
       " '250173652022',\n",
       " '250173652023',\n",
       " '250173661001',\n",
       " '250173661002',\n",
       " '250173661003',\n",
       " '250173661004',\n",
       " '250173661005',\n",
       " '250173662011',\n",
       " '250173662012',\n",
       " '250173662021',\n",
       " '250173662022',\n",
       " '250173662023',\n",
       " '250173671001',\n",
       " '250173671002',\n",
       " '250173671003',\n",
       " '250173671004',\n",
       " '250173672001',\n",
       " '250173672002',\n",
       " '250173672003',\n",
       " '250173672004',\n",
       " '250173672005',\n",
       " '250173672006',\n",
       " '250173672007',\n",
       " '250173743003',\n",
       " '250173748003',\n",
       " '250173821001',\n",
       " '250173821002',\n",
       " '250173821003',\n",
       " '250173821004',\n",
       " '250173821005',\n",
       " '250173822001',\n",
       " '250173822002',\n",
       " '250173822003',\n",
       " '250173822004',\n",
       " '250173823001',\n",
       " '250173823002',\n",
       " '250173823003',\n",
       " '250173823004',\n",
       " '250173824001',\n",
       " '250173824002',\n",
       " '250173824003',\n",
       " '250173825001',\n",
       " '250173825002',\n",
       " '250173825003',\n",
       " '250173826011',\n",
       " '250173826012',\n",
       " '250173826013',\n",
       " '250173826021',\n",
       " '250173826022',\n",
       " '250173826023',\n",
       " '250173826024',\n",
       " '250173831011',\n",
       " '250173831012',\n",
       " '250173831021',\n",
       " '250173831022',\n",
       " '250173832001',\n",
       " '250173832002',\n",
       " '250173832003',\n",
       " '250173832004',\n",
       " '250173833001',\n",
       " '250173833002',\n",
       " '250173834001',\n",
       " '250173834002',\n",
       " '250173834003',\n",
       " '250173834004',\n",
       " '250173835011',\n",
       " '250173835012',\n",
       " '250173835013',\n",
       " '250173835021',\n",
       " '250173835022',\n",
       " '250173836001',\n",
       " '250173836002',\n",
       " '250173836003',\n",
       " '250173836004',\n",
       " '250173837001',\n",
       " '250173837002',\n",
       " '250173837003',\n",
       " '250173837004',\n",
       " '250173838001',\n",
       " '250173838002',\n",
       " '250173838003',\n",
       " '250173838004',\n",
       " '250173838005',\n",
       " '250173839011',\n",
       " '250173839012',\n",
       " '250173839013',\n",
       " '250173839014',\n",
       " '250173839015',\n",
       " '250173839016',\n",
       " '250173839021',\n",
       " '250173839022',\n",
       " '250173839023',\n",
       " '250173840011',\n",
       " '250173840021',\n",
       " '250173840022',\n",
       " '250173840023',\n",
       " '250173851001',\n",
       " '250173851002',\n",
       " '250173851003',\n",
       " '250173852011',\n",
       " '250173852012',\n",
       " '250173852021',\n",
       " '250173852022',\n",
       " '250173852023',\n",
       " '250173852024',\n",
       " '250173861001',\n",
       " '250173861002',\n",
       " '250173861003',\n",
       " '250173871001',\n",
       " '250173871002',\n",
       " '250173871003',\n",
       " '250173871004',\n",
       " '250173872011',\n",
       " '250173872012',\n",
       " '250173872013',\n",
       " '250173872014',\n",
       " '250173872021',\n",
       " '250173872022',\n",
       " '250173872023',\n",
       " '250214022001',\n",
       " '250214031001',\n",
       " '250214031002',\n",
       " '250214031003',\n",
       " '250214031004',\n",
       " '250214031005',\n",
       " '250214031006',\n",
       " '250214031007',\n",
       " '250214033001',\n",
       " '250214033002',\n",
       " '250214033003',\n",
       " '250214034001',\n",
       " '250214034002',\n",
       " '250214034003',\n",
       " '250214034004',\n",
       " '250214034005',\n",
       " '250214035001',\n",
       " '250214035002',\n",
       " '250214035003',\n",
       " '250214041001',\n",
       " '250214041002',\n",
       " '250214041003',\n",
       " '250214042011',\n",
       " '250214042012',\n",
       " '250214042013',\n",
       " '250214042014',\n",
       " '250214042021',\n",
       " '250214042022',\n",
       " '250214042023',\n",
       " '250214043011',\n",
       " '250214043012',\n",
       " '250214043013',\n",
       " '250214043014',\n",
       " '250214043015',\n",
       " '250214043021',\n",
       " '250214043022',\n",
       " '250214043023',\n",
       " '250214044001',\n",
       " '250214044002',\n",
       " '250214044003',\n",
       " '250214044004',\n",
       " '250214044005',\n",
       " '250214051001',\n",
       " '250214051002',\n",
       " '250214051003',\n",
       " '250214051004',\n",
       " '250214061011',\n",
       " '250214061012',\n",
       " '250214061013',\n",
       " '250214061021',\n",
       " '250214061022',\n",
       " '250214061023',\n",
       " '250214061024',\n",
       " '250214071001',\n",
       " '250214071002',\n",
       " '250214071003',\n",
       " '250214071004',\n",
       " '250214071005',\n",
       " '250214081011',\n",
       " '250214081012',\n",
       " '250214081013',\n",
       " '250214081014',\n",
       " '250214081021',\n",
       " '250214081022',\n",
       " '250214081023',\n",
       " '250214081024',\n",
       " '250214091011',\n",
       " '250214091021',\n",
       " '250214091022',\n",
       " '250214121002',\n",
       " '250214122001',\n",
       " '250214122002',\n",
       " '250214412041',\n",
       " '250214421011',\n",
       " '250214421012',\n",
       " '250214421013',\n",
       " '250214421014',\n",
       " '250214421021',\n",
       " '250214421022',\n",
       " '250214421023',\n",
       " '250214421024',\n",
       " '250214421031',\n",
       " '250214421032',\n",
       " '250214421033',\n",
       " '250214422011',\n",
       " '250214422012',\n",
       " '250214422021',\n",
       " '250214422022',\n",
       " '250214422023',\n",
       " '250214422024',\n",
       " '250214431011',\n",
       " '250214431012',\n",
       " '250214431013',\n",
       " '250214431014',\n",
       " '250214431021',\n",
       " '250214431022',\n",
       " '250214431023',\n",
       " '250214431024',\n",
       " '250214431025',\n",
       " '250214572001',\n",
       " '250214572002',\n",
       " '250214572003',\n",
       " '250214572004',\n",
       " '250214572005',\n",
       " '250277411011',\n",
       " '250277411012',\n",
       " '250277411013',\n",
       " '250277411021',\n",
       " '250277411022',\n",
       " '250277411023',\n",
       " '250277411024',\n",
       " '250277431001',\n",
       " '250277431003',\n",
       " '250277441011',\n",
       " '250277441012',\n",
       " '250277441013',\n",
       " '250277441014',\n",
       " '250277441015',\n",
       " '250277441021',\n",
       " '250277441022',\n",
       " '250277442001',\n",
       " '250277442002',\n",
       " '250277442003',\n",
       " '250277442004',\n",
       " '250277442005',\n",
       " '250277443001',\n",
       " '250277443002',\n",
       " '250277443003',\n",
       " '250277443004',\n",
       " '250277444001',\n",
       " '250277444002',\n",
       " '250277444003',\n",
       " '250277451001',\n",
       " '250277451002',\n",
       " '250277451003',\n",
       " '250277461001',\n",
       " '250277461002',\n",
       " '250277461003',\n",
       " '250277471011',\n",
       " '250277471012',\n",
       " '250277471013',\n",
       " '250277471021',\n",
       " '250277471022',\n",
       " '250277481002'}"
      ]
     },
     "execution_count": 79,
     "metadata": {},
     "output_type": "execute_result"
    }
   ],
   "source": [
    "#seems reasonable\n",
    "april_louvain[0]"
   ]
  },
  {
   "cell_type": "code",
   "execution_count": 80,
   "id": "b8f51fd4",
   "metadata": {
    "pycharm": {
     "name": "#%%\n"
    }
   },
   "outputs": [
    {
     "data": {
      "text/html": [
       "<div>\n",
       "<style scoped>\n",
       "    .dataframe tbody tr th:only-of-type {\n",
       "        vertical-align: middle;\n",
       "    }\n",
       "\n",
       "    .dataframe tbody tr th {\n",
       "        vertical-align: top;\n",
       "    }\n",
       "\n",
       "    .dataframe thead th {\n",
       "        text-align: right;\n",
       "    }\n",
       "</style>\n",
       "<table border=\"1\" class=\"dataframe\">\n",
       "  <thead>\n",
       "    <tr style=\"text-align: right;\">\n",
       "      <th></th>\n",
       "      <th>total_population</th>\n",
       "      <th>black_population</th>\n",
       "      <th>white_population</th>\n",
       "      <th>asian_population</th>\n",
       "      <th>hispanic_population</th>\n",
       "      <th>median_income</th>\n",
       "      <th>raw_device_counts</th>\n",
       "      <th>visitor_count</th>\n",
       "      <th>percent_visiting</th>\n",
       "    </tr>\n",
       "  </thead>\n",
       "  <tbody>\n",
       "    <tr>\n",
       "      <th>count</th>\n",
       "      <td>19819.000000</td>\n",
       "      <td>19819.000000</td>\n",
       "      <td>19819.000000</td>\n",
       "      <td>19819.000000</td>\n",
       "      <td>19819.000000</td>\n",
       "      <td>19743.000000</td>\n",
       "      <td>19819.000000</td>\n",
       "      <td>19819.000000</td>\n",
       "      <td>19819.000000</td>\n",
       "    </tr>\n",
       "    <tr>\n",
       "      <th>mean</th>\n",
       "      <td>1751.300822</td>\n",
       "      <td>50.780514</td>\n",
       "      <td>1477.345577</td>\n",
       "      <td>2.821888</td>\n",
       "      <td>8.739543</td>\n",
       "      <td>110705.396850</td>\n",
       "      <td>1109.743428</td>\n",
       "      <td>8.233160</td>\n",
       "      <td>0.011864</td>\n",
       "    </tr>\n",
       "    <tr>\n",
       "      <th>std</th>\n",
       "      <td>744.109472</td>\n",
       "      <td>85.965813</td>\n",
       "      <td>679.173742</td>\n",
       "      <td>12.207687</td>\n",
       "      <td>20.127402</td>\n",
       "      <td>47756.500864</td>\n",
       "      <td>923.064363</td>\n",
       "      <td>22.738077</td>\n",
       "      <td>0.029142</td>\n",
       "    </tr>\n",
       "    <tr>\n",
       "      <th>min</th>\n",
       "      <td>556.000000</td>\n",
       "      <td>0.000000</td>\n",
       "      <td>226.000000</td>\n",
       "      <td>0.000000</td>\n",
       "      <td>0.000000</td>\n",
       "      <td>19004.000000</td>\n",
       "      <td>103.000000</td>\n",
       "      <td>4.000000</td>\n",
       "      <td>0.000822</td>\n",
       "    </tr>\n",
       "    <tr>\n",
       "      <th>25%</th>\n",
       "      <td>1162.000000</td>\n",
       "      <td>0.000000</td>\n",
       "      <td>953.000000</td>\n",
       "      <td>0.000000</td>\n",
       "      <td>0.000000</td>\n",
       "      <td>75833.000000</td>\n",
       "      <td>469.000000</td>\n",
       "      <td>4.000000</td>\n",
       "      <td>0.003663</td>\n",
       "    </tr>\n",
       "    <tr>\n",
       "      <th>50%</th>\n",
       "      <td>1605.000000</td>\n",
       "      <td>20.000000</td>\n",
       "      <td>1326.000000</td>\n",
       "      <td>0.000000</td>\n",
       "      <td>0.000000</td>\n",
       "      <td>103867.000000</td>\n",
       "      <td>812.000000</td>\n",
       "      <td>4.000000</td>\n",
       "      <td>0.006126</td>\n",
       "    </tr>\n",
       "    <tr>\n",
       "      <th>75%</th>\n",
       "      <td>2161.000000</td>\n",
       "      <td>60.000000</td>\n",
       "      <td>1876.000000</td>\n",
       "      <td>0.000000</td>\n",
       "      <td>7.000000</td>\n",
       "      <td>139655.000000</td>\n",
       "      <td>1414.000000</td>\n",
       "      <td>5.000000</td>\n",
       "      <td>0.010959</td>\n",
       "    </tr>\n",
       "    <tr>\n",
       "      <th>max</th>\n",
       "      <td>4256.000000</td>\n",
       "      <td>678.000000</td>\n",
       "      <td>3727.000000</td>\n",
       "      <td>84.000000</td>\n",
       "      <td>134.000000</td>\n",
       "      <td>250001.000000</td>\n",
       "      <td>4866.000000</td>\n",
       "      <td>982.000000</td>\n",
       "      <td>0.460595</td>\n",
       "    </tr>\n",
       "  </tbody>\n",
       "</table>\n",
       "</div>"
      ],
      "text/plain": [
       "       total_population  black_population  white_population  asian_population  \\\n",
       "count      19819.000000      19819.000000      19819.000000      19819.000000   \n",
       "mean        1751.300822         50.780514       1477.345577          2.821888   \n",
       "std          744.109472         85.965813        679.173742         12.207687   \n",
       "min          556.000000          0.000000        226.000000          0.000000   \n",
       "25%         1162.000000          0.000000        953.000000          0.000000   \n",
       "50%         1605.000000         20.000000       1326.000000          0.000000   \n",
       "75%         2161.000000         60.000000       1876.000000          0.000000   \n",
       "max         4256.000000        678.000000       3727.000000         84.000000   \n",
       "\n",
       "       hispanic_population  median_income  raw_device_counts  visitor_count  \\\n",
       "count         19819.000000   19743.000000       19819.000000   19819.000000   \n",
       "mean              8.739543  110705.396850        1109.743428       8.233160   \n",
       "std              20.127402   47756.500864         923.064363      22.738077   \n",
       "min               0.000000   19004.000000         103.000000       4.000000   \n",
       "25%               0.000000   75833.000000         469.000000       4.000000   \n",
       "50%               0.000000  103867.000000         812.000000       4.000000   \n",
       "75%               7.000000  139655.000000        1414.000000       5.000000   \n",
       "max             134.000000  250001.000000        4866.000000     982.000000   \n",
       "\n",
       "       percent_visiting  \n",
       "count      19819.000000  \n",
       "mean           0.011864  \n",
       "std            0.029142  \n",
       "min            0.000822  \n",
       "25%            0.003663  \n",
       "50%            0.006126  \n",
       "75%            0.010959  \n",
       "max            0.460595  "
      ]
     },
     "execution_count": 80,
     "metadata": {},
     "output_type": "execute_result"
    }
   ],
   "source": [
    "april_mobility_info[april_mobility_info['poi_cbg'].isin(april_louvain[0])].describe()"
   ]
  },
  {
   "cell_type": "code",
   "execution_count": 81,
   "id": "80485f43",
   "metadata": {
    "pycharm": {
     "name": "#%%\n"
    }
   },
   "outputs": [
    {
     "name": "stdout",
     "output_type": "stream",
     "text": [
      "00 feb 0.032075 april 0.028996\n",
      "01 feb 0.041039 april 0.039704\n",
      "02 feb 0.075831 april 0.077385\n",
      "03 feb 0.035488 april 0.034482\n",
      "04 feb 0.055772 april 0.065676\n",
      "05 feb 0.032092 april 0.028675\n",
      "06 feb 0.02656 april 0.026825\n",
      "07 feb 0.037953 april 0.039749\n",
      "08 feb 0.101997 april 0.113783\n",
      "09 feb 0.093661 april 0.097899\n",
      "10 feb 0.189772 april 0.284205\n",
      "11 feb 0.035836 april 0.036452\n",
      "12 feb 0.027849 april 0.026982\n",
      "13 feb 0.061187 april 0.063296\n",
      "14 feb 0.033164 april 0.031453\n",
      "15 feb 0.045974 april 0.043282\n"
     ]
    }
   ],
   "source": [
    "for i in range(len(april_louvain)):\n",
    "    febList = feb_mobility_info[feb_mobility_info['poi_cbg'].isin(april_louvain[i])]\n",
    "    aprilList = april_mobility_info[april_mobility_info['poi_cbg'].isin(april_louvain[i])]\n",
    "    if febList['total_population'].mean() == 0 or aprilList['total_population'].mean() == 0:\n",
    "        continue #theres a few census_block_groups that don't have any pop info\n",
    "    print(str(i).zfill(2), 'feb',\n",
    "          round(febList['black_population'].mean()/febList['total_population'].mean(), 6), 'april',\n",
    "          round(aprilList['black_population'].mean()/aprilList['total_population'].mean(), 6))"
   ]
  },
  {
   "cell_type": "code",
   "execution_count": 84,
   "id": "8773a6ea",
   "metadata": {
    "pycharm": {
     "name": "#%%\n"
    }
   },
   "outputs": [
    {
     "name": "stdout",
     "output_type": "stream",
     "text": [
      "00 feb 0.004948 april 0.00499\n",
      "01 feb 0.002756 april 0.003088\n",
      "02 feb 0.004697 april 0.004831\n",
      "03 feb 0.004014 april 0.003953\n",
      "04 feb 0.003248 april 0.005589\n",
      "05 feb 0.003687 april 0.003421\n",
      "06 feb 0.003047 april 0.003033\n",
      "07 feb 0.004208 april 0.004225\n",
      "08 feb 0.003845 april 0.00447\n",
      "09 feb 0.006258 april 0.005926\n",
      "10 feb 0.007562 april 0.007859\n",
      "11 feb 0.004862 april 0.005625\n",
      "12 feb 0.004275 april 0.003184\n",
      "13 feb 0.005221 april 0.005598\n",
      "14 feb 0.007479 april 0.007269\n",
      "15 feb 0.005051 april 0.004031\n"
     ]
    }
   ],
   "source": [
    "#so group 10 has about 10x the amount of black people than the other groups, and went from 18% to 28% in 2 months\n",
    "for i in range(len(april_louvain)):\n",
    "    febList = feb_mobility_info[feb_mobility_info['poi_cbg'].isin(april_louvain[i])]\n",
    "    aprilList = april_mobility_info[april_mobility_info['poi_cbg'].isin(april_louvain[i])]\n",
    "    if febList['total_population'].mean() == 0 or aprilList['total_population'].mean() == 0:\n",
    "        continue #theres a few census_block_groups that don't have any pop info\n",
    "    print(str(i).zfill(2), 'feb',\n",
    "          round(febList['hispanic_population'].mean()/febList['total_population'].mean(), 6), 'april',\n",
    "          round(aprilList['hispanic_population'].mean()/aprilList['total_population'].mean(), 6))"
   ]
  },
  {
   "cell_type": "code",
   "execution_count": 85,
   "id": "d8fba860",
   "metadata": {
    "pycharm": {
     "name": "#%%\n"
    }
   },
   "outputs": [
    {
     "name": "stdout",
     "output_type": "stream",
     "text": [
      "00 feb 229.667541 april 95.969235 ratio 2.393137\n",
      "01 feb 218.426196 april 101.224545 ratio 2.157838\n",
      "02 feb 353.306302 april 189.451026 ratio 1.864895\n",
      "03 feb 176.327939 april 81.63678 ratio 2.159908\n",
      "04 feb 5.849522 april 3.214968 ratio 1.819465\n",
      "05 feb 220.587999 april 119.481812 ratio 1.846206\n",
      "06 feb 185.245571 april 89.913027 ratio 2.060275\n",
      "07 feb 240.102286 april 105.486569 ratio 2.276141\n",
      "08 feb 364.998093 april 175.369148 ratio 2.081313\n",
      "09 feb 349.243015 april 131.388488 ratio 2.658094\n",
      "10 feb 317.301138 april 137.001387 ratio 2.316043\n",
      "11 feb 292.591251 april 130.725553 ratio 2.23821\n",
      "12 feb 69.865686 april 40.199619 ratio 1.737969\n",
      "13 feb 314.033503 april 152.031771 ratio 2.065578\n",
      "14 feb 221.182255 april 116.338599 ratio 1.901194\n",
      "15 feb 159.147398 april 59.973329 ratio 2.653636\n"
     ]
    }
   ],
   "source": [
    "#and no group has a significantly larger amount of hispanic people\n",
    "for i in range(len(april_louvain)):\n",
    "    febList = feb_mobility_info[feb_mobility_info['visitor_census_tract'].isin(april_louvain[i])]\n",
    "    febPop = feb_mobility_info[feb_mobility_info['poi_cbg'].isin(april_louvain[i])]['total_population'].mean()\n",
    "    aprilList = april_mobility_info[april_mobility_info['visitor_census_tract'].isin(april_louvain[i])]\n",
    "    aprilPop = april_mobility_info[april_mobility_info['poi_cbg'].isin(april_louvain[i])]['total_population'].mean()\n",
    "    if febList['total_population'].mean() == 0 or aprilList['total_population'].mean() == 0:\n",
    "        continue #theres a few census_block_groups that don't have any pop info\n",
    "    print(str(i).zfill(2), 'feb',\n",
    "          round(febList['visitor_count'].sum()/febPop, 6), 'april',\n",
    "          round(aprilList['visitor_count'].sum()/aprilPop, 6), 'ratio',\n",
    "          round((febList['visitor_count'].sum()/febPop)/(aprilList['visitor_count'].sum()/aprilPop), 6))"
   ]
  },
  {
   "cell_type": "code",
   "execution_count": 86,
   "id": "6f99fcd8",
   "metadata": {
    "pycharm": {
     "name": "#%%\n"
    }
   },
   "outputs": [],
   "source": [
    "#the ratio of visitors/pop decreased a lot. Started highest in 08."
   ]
  },
  {
   "cell_type": "code",
   "execution_count": 87,
   "id": "da0c2076",
   "metadata": {
    "pycharm": {
     "name": "#%%\n"
    }
   },
   "outputs": [
    {
     "name": "stdout",
     "output_type": "stream",
     "text": [
      "00 feb 111643.026433 april 110705.39685\n",
      "01 feb 82957.958149 april 82647.8254\n",
      "02 feb 52896.838184 april 53634.157068\n",
      "03 feb 79910.969363 april 79348.074914\n",
      "04 feb 84995.549367 april 85813.543478\n",
      "05 feb 68649.705836 april 69557.414145\n",
      "06 feb 87892.598529 april 83433.921049\n",
      "07 feb 92630.594484 april 92476.23281\n",
      "08 feb 81560.324146 april 79964.241529\n",
      "09 feb 78478.601953 april 70713.838922\n",
      "10 feb 78518.200787 april 68885.36147\n",
      "11 feb 79392.173216 april 79397.413176\n",
      "12 feb 57704.775112 april 54149.036287\n",
      "13 feb 69656.761025 april 69320.749938\n",
      "14 feb 53837.320311 april 53590.709727\n",
      "15 feb 98555.494506 april 99357.288982\n"
     ]
    }
   ],
   "source": [
    "for i in range(len(april_louvain)):\n",
    "    febList = feb_mobility_info[feb_mobility_info['poi_cbg'].isin(april_louvain[i])]\n",
    "    aprilList = april_mobility_info[april_mobility_info['poi_cbg'].isin(april_louvain[i])]\n",
    "    if febList['total_population'].mean() == 0 or aprilList['total_population'].mean() == 0:\n",
    "        continue #theres a few census_block_groups that don't have any pop info\n",
    "    print(str(i).zfill(2), 'feb',\n",
    "          round(febList['median_income'].mean(), 6), 'april',\n",
    "          round(aprilList['median_income'].mean(), 6))"
   ]
  },
  {
   "cell_type": "code",
   "execution_count": 88,
   "id": "2b28c020",
   "metadata": {
    "pycharm": {
     "name": "#%%\n"
    }
   },
   "outputs": [],
   "source": [
    "#group 0 has the most income, more than double the least (group 14)\n",
    "#groups stayed about the same in income, except 10"
   ]
  },
  {
   "cell_type": "code",
   "execution_count": 89,
   "id": "7551e988",
   "metadata": {
    "pycharm": {
     "name": "#%%\n"
    }
   },
   "outputs": [],
   "source": [
    "for i in range(len(april_louvain)):\n",
    "    feb_mobility_info.loc[feb_mobility_info['poi_cbg'].isin(april_louvain[i]), 'from_louvain'] = i\n",
    "    feb_mobility_info.loc[feb_mobility_info['visitor_census_tract'].isin(april_louvain[i]), 'to_louvain'] = i\n",
    "    april_mobility_info.loc[april_mobility_info['poi_cbg'].isin(april_louvain[i]), 'from_louvain'] = i\n",
    "    april_mobility_info.loc[april_mobility_info['visitor_census_tract'].isin(april_louvain[i]), 'to_louvain'] = i"
   ]
  },
  {
   "cell_type": "code",
   "execution_count": 90,
   "id": "94ca94ea",
   "metadata": {
    "pycharm": {
     "name": "#%%\n"
    }
   },
   "outputs": [
    {
     "data": {
      "text/html": [
       "<div>\n",
       "<style scoped>\n",
       "    .dataframe tbody tr th:only-of-type {\n",
       "        vertical-align: middle;\n",
       "    }\n",
       "\n",
       "    .dataframe tbody tr th {\n",
       "        vertical-align: top;\n",
       "    }\n",
       "\n",
       "    .dataframe thead th {\n",
       "        text-align: right;\n",
       "    }\n",
       "</style>\n",
       "<table border=\"1\" class=\"dataframe\">\n",
       "  <thead>\n",
       "    <tr style=\"text-align: right;\">\n",
       "      <th></th>\n",
       "      <th>census_block_group</th>\n",
       "      <th>total_population</th>\n",
       "      <th>black_population</th>\n",
       "      <th>white_population</th>\n",
       "      <th>asian_population</th>\n",
       "      <th>hispanic_population</th>\n",
       "      <th>median_income</th>\n",
       "      <th>poi_cbg</th>\n",
       "      <th>year_month</th>\n",
       "      <th>raw_device_counts</th>\n",
       "      <th>visitor_census_tract</th>\n",
       "      <th>visitor_count</th>\n",
       "      <th>percent_visiting</th>\n",
       "      <th>from_louvain</th>\n",
       "      <th>to_louvain</th>\n",
       "    </tr>\n",
       "  </thead>\n",
       "  <tbody>\n",
       "    <tr>\n",
       "      <th>0</th>\n",
       "      <td>250056551003</td>\n",
       "      <td>458</td>\n",
       "      <td>0</td>\n",
       "      <td>405</td>\n",
       "      <td>0</td>\n",
       "      <td>0</td>\n",
       "      <td>71341.0</td>\n",
       "      <td>250056551003</td>\n",
       "      <td>2020_2</td>\n",
       "      <td>1400</td>\n",
       "      <td>250056551003</td>\n",
       "      <td>95</td>\n",
       "      <td>0.067857</td>\n",
       "      <td>14.0</td>\n",
       "      <td>14.0</td>\n",
       "    </tr>\n",
       "    <tr>\n",
       "      <th>1</th>\n",
       "      <td>250056551003</td>\n",
       "      <td>458</td>\n",
       "      <td>0</td>\n",
       "      <td>405</td>\n",
       "      <td>0</td>\n",
       "      <td>0</td>\n",
       "      <td>71341.0</td>\n",
       "      <td>250056551003</td>\n",
       "      <td>2020_2</td>\n",
       "      <td>1400</td>\n",
       "      <td>250056551002</td>\n",
       "      <td>65</td>\n",
       "      <td>0.046429</td>\n",
       "      <td>14.0</td>\n",
       "      <td>14.0</td>\n",
       "    </tr>\n",
       "    <tr>\n",
       "      <th>2</th>\n",
       "      <td>250056551003</td>\n",
       "      <td>458</td>\n",
       "      <td>0</td>\n",
       "      <td>405</td>\n",
       "      <td>0</td>\n",
       "      <td>0</td>\n",
       "      <td>71341.0</td>\n",
       "      <td>250056551003</td>\n",
       "      <td>2020_2</td>\n",
       "      <td>1400</td>\n",
       "      <td>250056554001</td>\n",
       "      <td>40</td>\n",
       "      <td>0.028571</td>\n",
       "      <td>14.0</td>\n",
       "      <td>14.0</td>\n",
       "    </tr>\n",
       "    <tr>\n",
       "      <th>3</th>\n",
       "      <td>250056551003</td>\n",
       "      <td>458</td>\n",
       "      <td>0</td>\n",
       "      <td>405</td>\n",
       "      <td>0</td>\n",
       "      <td>0</td>\n",
       "      <td>71341.0</td>\n",
       "      <td>250056551003</td>\n",
       "      <td>2020_2</td>\n",
       "      <td>1400</td>\n",
       "      <td>250056516002</td>\n",
       "      <td>38</td>\n",
       "      <td>0.027143</td>\n",
       "      <td>14.0</td>\n",
       "      <td>14.0</td>\n",
       "    </tr>\n",
       "    <tr>\n",
       "      <th>4</th>\n",
       "      <td>250056551003</td>\n",
       "      <td>458</td>\n",
       "      <td>0</td>\n",
       "      <td>405</td>\n",
       "      <td>0</td>\n",
       "      <td>0</td>\n",
       "      <td>71341.0</td>\n",
       "      <td>250056551003</td>\n",
       "      <td>2020_2</td>\n",
       "      <td>1400</td>\n",
       "      <td>250056551001</td>\n",
       "      <td>38</td>\n",
       "      <td>0.027143</td>\n",
       "      <td>14.0</td>\n",
       "      <td>14.0</td>\n",
       "    </tr>\n",
       "  </tbody>\n",
       "</table>\n",
       "</div>"
      ],
      "text/plain": [
       "  census_block_group  total_population  black_population  white_population  \\\n",
       "0       250056551003               458                 0               405   \n",
       "1       250056551003               458                 0               405   \n",
       "2       250056551003               458                 0               405   \n",
       "3       250056551003               458                 0               405   \n",
       "4       250056551003               458                 0               405   \n",
       "\n",
       "   asian_population  hispanic_population  median_income       poi_cbg  \\\n",
       "0                 0                    0        71341.0  250056551003   \n",
       "1                 0                    0        71341.0  250056551003   \n",
       "2                 0                    0        71341.0  250056551003   \n",
       "3                 0                    0        71341.0  250056551003   \n",
       "4                 0                    0        71341.0  250056551003   \n",
       "\n",
       "  year_month  raw_device_counts visitor_census_tract  visitor_count  \\\n",
       "0     2020_2               1400         250056551003             95   \n",
       "1     2020_2               1400         250056551002             65   \n",
       "2     2020_2               1400         250056554001             40   \n",
       "3     2020_2               1400         250056516002             38   \n",
       "4     2020_2               1400         250056551001             38   \n",
       "\n",
       "   percent_visiting  from_louvain  to_louvain  \n",
       "0          0.067857          14.0        14.0  \n",
       "1          0.046429          14.0        14.0  \n",
       "2          0.028571          14.0        14.0  \n",
       "3          0.027143          14.0        14.0  \n",
       "4          0.027143          14.0        14.0  "
      ]
     },
     "execution_count": 90,
     "metadata": {},
     "output_type": "execute_result"
    }
   ],
   "source": [
    "feb_mobility_info.head()"
   ]
  },
  {
   "cell_type": "code",
   "execution_count": 91,
   "id": "ebc21cfa",
   "metadata": {
    "pycharm": {
     "name": "#%%\n"
    }
   },
   "outputs": [
    {
     "data": {
      "text/plain": [
       "census_block_group           0\n",
       "total_population             0\n",
       "black_population             0\n",
       "white_population             0\n",
       "asian_population             0\n",
       "hispanic_population          0\n",
       "median_income            41854\n",
       "poi_cbg                      0\n",
       "year_month                   0\n",
       "raw_device_counts            0\n",
       "visitor_census_tract         0\n",
       "visitor_count                0\n",
       "percent_visiting             0\n",
       "from_louvain                 0\n",
       "to_louvain              193773\n",
       "dtype: int64"
      ]
     },
     "execution_count": 91,
     "metadata": {},
     "output_type": "execute_result"
    }
   ],
   "source": [
    "feb_mobility_info.isna().sum()"
   ]
  },
  {
   "cell_type": "code",
   "execution_count": 92,
   "id": "972e8977",
   "metadata": {
    "pycharm": {
     "name": "#%%\n"
    }
   },
   "outputs": [],
   "source": [
    "import geopandas as gpd\n",
    "geo_block = gpd.read_file('census_block_MA.geojson')"
   ]
  },
  {
   "cell_type": "code",
   "execution_count": 93,
   "id": "95513ede",
   "metadata": {
    "pycharm": {
     "name": "#%%\n"
    }
   },
   "outputs": [
    {
     "data": {
      "text/html": [
       "<div>\n",
       "<style scoped>\n",
       "    .dataframe tbody tr th:only-of-type {\n",
       "        vertical-align: middle;\n",
       "    }\n",
       "\n",
       "    .dataframe tbody tr th {\n",
       "        vertical-align: top;\n",
       "    }\n",
       "\n",
       "    .dataframe thead th {\n",
       "        text-align: right;\n",
       "    }\n",
       "</style>\n",
       "<table border=\"1\" class=\"dataframe\">\n",
       "  <thead>\n",
       "    <tr style=\"text-align: right;\">\n",
       "      <th></th>\n",
       "      <th>state_fips</th>\n",
       "      <th>state</th>\n",
       "      <th>census_block_group</th>\n",
       "      <th>geometry</th>\n",
       "    </tr>\n",
       "  </thead>\n",
       "  <tbody>\n",
       "    <tr>\n",
       "      <th>0</th>\n",
       "      <td>25</td>\n",
       "      <td>MA</td>\n",
       "      <td>250277304011</td>\n",
       "      <td>MULTIPOLYGON (((-71.78563 42.30372, -71.78547 ...</td>\n",
       "    </tr>\n",
       "    <tr>\n",
       "      <th>1</th>\n",
       "      <td>25</td>\n",
       "      <td>MA</td>\n",
       "      <td>250277304014</td>\n",
       "      <td>MULTIPOLYGON (((-71.77701 42.30069, -71.77698 ...</td>\n",
       "    </tr>\n",
       "    <tr>\n",
       "      <th>2</th>\n",
       "      <td>25</td>\n",
       "      <td>MA</td>\n",
       "      <td>250214223022</td>\n",
       "      <td>MULTIPOLYGON (((-70.94656 42.18471, -70.94641 ...</td>\n",
       "    </tr>\n",
       "    <tr>\n",
       "      <th>3</th>\n",
       "      <td>25</td>\n",
       "      <td>MA</td>\n",
       "      <td>250092031005</td>\n",
       "      <td>MULTIPOLYGON (((-70.88603 42.48529, -70.88580 ...</td>\n",
       "    </tr>\n",
       "    <tr>\n",
       "      <th>4</th>\n",
       "      <td>25</td>\n",
       "      <td>MA</td>\n",
       "      <td>250092172024</td>\n",
       "      <td>MULTIPOLYGON (((-70.91214 42.54773, -70.91190 ...</td>\n",
       "    </tr>\n",
       "  </tbody>\n",
       "</table>\n",
       "</div>"
      ],
      "text/plain": [
       "  state_fips state census_block_group  \\\n",
       "0         25    MA       250277304011   \n",
       "1         25    MA       250277304014   \n",
       "2         25    MA       250214223022   \n",
       "3         25    MA       250092031005   \n",
       "4         25    MA       250092172024   \n",
       "\n",
       "                                            geometry  \n",
       "0  MULTIPOLYGON (((-71.78563 42.30372, -71.78547 ...  \n",
       "1  MULTIPOLYGON (((-71.77701 42.30069, -71.77698 ...  \n",
       "2  MULTIPOLYGON (((-70.94656 42.18471, -70.94641 ...  \n",
       "3  MULTIPOLYGON (((-70.88603 42.48529, -70.88580 ...  \n",
       "4  MULTIPOLYGON (((-70.91214 42.54773, -70.91190 ...  "
      ]
     },
     "execution_count": 93,
     "metadata": {},
     "output_type": "execute_result"
    }
   ],
   "source": [
    "geo_block.head()"
   ]
  },
  {
   "cell_type": "code",
   "execution_count": 94,
   "id": "05e2f995",
   "metadata": {
    "pycharm": {
     "name": "#%%\n"
    }
   },
   "outputs": [
    {
     "name": "stdout",
     "output_type": "stream",
     "text": [
      "25    4985\n",
      "Name: state_fips, dtype: int64\n",
      "MA    4985\n",
      "Name: state, dtype: int64\n"
     ]
    }
   ],
   "source": [
    "print(geo_block['state_fips'].value_counts())\n",
    "print(geo_block['state'].value_counts())"
   ]
  },
  {
   "cell_type": "code",
   "execution_count": 95,
   "id": "018ffb21",
   "metadata": {
    "pycharm": {
     "name": "#%%\n"
    }
   },
   "outputs": [],
   "source": [
    "#lets just drop those two columns that give no info\n",
    "geo_block.drop(['state_fips', 'state'], axis=1, inplace=True)"
   ]
  },
  {
   "cell_type": "code",
   "execution_count": 96,
   "id": "0edc6dbf",
   "metadata": {
    "pycharm": {
     "name": "#%%\n"
    }
   },
   "outputs": [
    {
     "data": {
      "text/plain": [
       "census_block_group      object\n",
       "geometry              geometry\n",
       "dtype: object"
      ]
     },
     "execution_count": 96,
     "metadata": {},
     "output_type": "execute_result"
    }
   ],
   "source": [
    "geo_block.dtypes"
   ]
  },
  {
   "cell_type": "code",
   "execution_count": 97,
   "id": "fce9abcf",
   "metadata": {
    "pycharm": {
     "name": "#%%\n"
    }
   },
   "outputs": [],
   "source": [
    "feb_geo = geo_block.merge(feb_mobility_info, on='census_block_group')"
   ]
  },
  {
   "cell_type": "code",
   "execution_count": 98,
   "id": "72442364",
   "metadata": {
    "pycharm": {
     "name": "#%%\n"
    }
   },
   "outputs": [
    {
     "data": {
      "text/html": [
       "<div>\n",
       "<style scoped>\n",
       "    .dataframe tbody tr th:only-of-type {\n",
       "        vertical-align: middle;\n",
       "    }\n",
       "\n",
       "    .dataframe tbody tr th {\n",
       "        vertical-align: top;\n",
       "    }\n",
       "\n",
       "    .dataframe thead th {\n",
       "        text-align: right;\n",
       "    }\n",
       "</style>\n",
       "<table border=\"1\" class=\"dataframe\">\n",
       "  <thead>\n",
       "    <tr style=\"text-align: right;\">\n",
       "      <th></th>\n",
       "      <th>census_block_group</th>\n",
       "      <th>geometry</th>\n",
       "      <th>total_population</th>\n",
       "      <th>black_population</th>\n",
       "      <th>white_population</th>\n",
       "      <th>asian_population</th>\n",
       "      <th>hispanic_population</th>\n",
       "      <th>median_income</th>\n",
       "      <th>poi_cbg</th>\n",
       "      <th>year_month</th>\n",
       "      <th>raw_device_counts</th>\n",
       "      <th>visitor_census_tract</th>\n",
       "      <th>visitor_count</th>\n",
       "      <th>percent_visiting</th>\n",
       "      <th>from_louvain</th>\n",
       "      <th>to_louvain</th>\n",
       "    </tr>\n",
       "  </thead>\n",
       "  <tbody>\n",
       "    <tr>\n",
       "      <th>0</th>\n",
       "      <td>250277304011</td>\n",
       "      <td>MULTIPOLYGON (((-71.78563 42.30372, -71.78547 ...</td>\n",
       "      <td>900</td>\n",
       "      <td>157</td>\n",
       "      <td>743</td>\n",
       "      <td>0</td>\n",
       "      <td>0</td>\n",
       "      <td>62232.0</td>\n",
       "      <td>250277304011</td>\n",
       "      <td>2020_2</td>\n",
       "      <td>776</td>\n",
       "      <td>250277304011</td>\n",
       "      <td>47</td>\n",
       "      <td>0.060567</td>\n",
       "      <td>13.0</td>\n",
       "      <td>13.0</td>\n",
       "    </tr>\n",
       "    <tr>\n",
       "      <th>1</th>\n",
       "      <td>250277304011</td>\n",
       "      <td>MULTIPOLYGON (((-71.78563 42.30372, -71.78547 ...</td>\n",
       "      <td>900</td>\n",
       "      <td>157</td>\n",
       "      <td>743</td>\n",
       "      <td>0</td>\n",
       "      <td>0</td>\n",
       "      <td>62232.0</td>\n",
       "      <td>250277304011</td>\n",
       "      <td>2020_2</td>\n",
       "      <td>776</td>\n",
       "      <td>250277304013</td>\n",
       "      <td>40</td>\n",
       "      <td>0.051546</td>\n",
       "      <td>13.0</td>\n",
       "      <td>13.0</td>\n",
       "    </tr>\n",
       "    <tr>\n",
       "      <th>2</th>\n",
       "      <td>250277304011</td>\n",
       "      <td>MULTIPOLYGON (((-71.78563 42.30372, -71.78547 ...</td>\n",
       "      <td>900</td>\n",
       "      <td>157</td>\n",
       "      <td>743</td>\n",
       "      <td>0</td>\n",
       "      <td>0</td>\n",
       "      <td>62232.0</td>\n",
       "      <td>250277304011</td>\n",
       "      <td>2020_2</td>\n",
       "      <td>776</td>\n",
       "      <td>250277320011</td>\n",
       "      <td>21</td>\n",
       "      <td>0.027062</td>\n",
       "      <td>13.0</td>\n",
       "      <td>13.0</td>\n",
       "    </tr>\n",
       "    <tr>\n",
       "      <th>3</th>\n",
       "      <td>250277304011</td>\n",
       "      <td>MULTIPOLYGON (((-71.78563 42.30372, -71.78547 ...</td>\n",
       "      <td>900</td>\n",
       "      <td>157</td>\n",
       "      <td>743</td>\n",
       "      <td>0</td>\n",
       "      <td>0</td>\n",
       "      <td>62232.0</td>\n",
       "      <td>250277304011</td>\n",
       "      <td>2020_2</td>\n",
       "      <td>776</td>\n",
       "      <td>250277304014</td>\n",
       "      <td>18</td>\n",
       "      <td>0.023196</td>\n",
       "      <td>13.0</td>\n",
       "      <td>13.0</td>\n",
       "    </tr>\n",
       "    <tr>\n",
       "      <th>4</th>\n",
       "      <td>250277304011</td>\n",
       "      <td>MULTIPOLYGON (((-71.78563 42.30372, -71.78547 ...</td>\n",
       "      <td>900</td>\n",
       "      <td>157</td>\n",
       "      <td>743</td>\n",
       "      <td>0</td>\n",
       "      <td>0</td>\n",
       "      <td>62232.0</td>\n",
       "      <td>250277304011</td>\n",
       "      <td>2020_2</td>\n",
       "      <td>776</td>\n",
       "      <td>250277320022</td>\n",
       "      <td>14</td>\n",
       "      <td>0.018041</td>\n",
       "      <td>13.0</td>\n",
       "      <td>13.0</td>\n",
       "    </tr>\n",
       "  </tbody>\n",
       "</table>\n",
       "</div>"
      ],
      "text/plain": [
       "  census_block_group                                           geometry  \\\n",
       "0       250277304011  MULTIPOLYGON (((-71.78563 42.30372, -71.78547 ...   \n",
       "1       250277304011  MULTIPOLYGON (((-71.78563 42.30372, -71.78547 ...   \n",
       "2       250277304011  MULTIPOLYGON (((-71.78563 42.30372, -71.78547 ...   \n",
       "3       250277304011  MULTIPOLYGON (((-71.78563 42.30372, -71.78547 ...   \n",
       "4       250277304011  MULTIPOLYGON (((-71.78563 42.30372, -71.78547 ...   \n",
       "\n",
       "   total_population  black_population  white_population  asian_population  \\\n",
       "0               900               157               743                 0   \n",
       "1               900               157               743                 0   \n",
       "2               900               157               743                 0   \n",
       "3               900               157               743                 0   \n",
       "4               900               157               743                 0   \n",
       "\n",
       "   hispanic_population  median_income       poi_cbg year_month  \\\n",
       "0                    0        62232.0  250277304011     2020_2   \n",
       "1                    0        62232.0  250277304011     2020_2   \n",
       "2                    0        62232.0  250277304011     2020_2   \n",
       "3                    0        62232.0  250277304011     2020_2   \n",
       "4                    0        62232.0  250277304011     2020_2   \n",
       "\n",
       "   raw_device_counts visitor_census_tract  visitor_count  percent_visiting  \\\n",
       "0                776         250277304011             47          0.060567   \n",
       "1                776         250277304013             40          0.051546   \n",
       "2                776         250277320011             21          0.027062   \n",
       "3                776         250277304014             18          0.023196   \n",
       "4                776         250277320022             14          0.018041   \n",
       "\n",
       "   from_louvain  to_louvain  \n",
       "0          13.0        13.0  \n",
       "1          13.0        13.0  \n",
       "2          13.0        13.0  \n",
       "3          13.0        13.0  \n",
       "4          13.0        13.0  "
      ]
     },
     "execution_count": 98,
     "metadata": {},
     "output_type": "execute_result"
    }
   ],
   "source": [
    "feb_geo.head()"
   ]
  },
  {
   "cell_type": "code",
   "execution_count": 99,
   "id": "d88a3a35",
   "metadata": {
    "pycharm": {
     "name": "#%%\n"
    }
   },
   "outputs": [],
   "source": [
    "feb_geo.rename({'geometry':'from_geometry'}, axis=1, inplace=True)"
   ]
  },
  {
   "cell_type": "code",
   "execution_count": null,
   "id": "7c64d8b3",
   "metadata": {
    "pycharm": {
     "name": "#%%\n"
    }
   },
   "outputs": [],
   "source": [
    "feb_geo.head()"
   ]
  },
  {
   "cell_type": "code",
   "execution_count": null,
   "id": "16b933a6",
   "metadata": {
    "pycharm": {
     "name": "#%%\n"
    }
   },
   "outputs": [],
   "source": [
    "feb_geo['visitor_census_tract'] = feb_geo['visitor_census_tract'].astype(str)"
   ]
  },
  {
   "cell_type": "code",
   "execution_count": null,
   "id": "4892c4c5",
   "metadata": {
    "pycharm": {
     "name": "#%%\n"
    }
   },
   "outputs": [],
   "source": [
    "#lets also include the geodata for the location its going to\n",
    "#the drop is so that we don't include two census_block_groups\n",
    "feb_geo = geo_block[['census_block_group', 'geometry']].merge(\n",
    "    feb_geo.drop('census_block_group', axis=1), left_on='census_block_group', right_on='visitor_census_tract')"
   ]
  },
  {
   "cell_type": "code",
   "execution_count": null,
   "id": "efcf3f09",
   "metadata": {
    "pycharm": {
     "name": "#%%\n"
    }
   },
   "outputs": [],
   "source": [
    "feb_geo.head()"
   ]
  },
  {
   "cell_type": "code",
   "execution_count": null,
   "id": "01e3ba15",
   "metadata": {
    "pycharm": {
     "name": "#%%\n"
    }
   },
   "outputs": [],
   "source": [
    "#now doing the same for april\n",
    "april_geo = geo_block.merge(april_mobility_info, on='census_block_group')\n",
    "april_geo.rename({'geometry':'from_geometry'}, axis=1, inplace=True)\n",
    "april_geo = geo_block[['census_block_group', 'geometry']].merge(\n",
    "    april_geo.drop('census_block_group', axis=1), left_on='census_block_group', right_on='visitor_census_tract')"
   ]
  },
  {
   "cell_type": "code",
   "execution_count": null,
   "id": "77a26e0a",
   "metadata": {
    "pycharm": {
     "name": "#%%\n"
    }
   },
   "outputs": [],
   "source": [
    "feb_geo_by_source = feb_geo.groupby('census_block_group').agg({'from_louvain':'min'}).reset_index()"
   ]
  },
  {
   "cell_type": "code",
   "execution_count": null,
   "id": "3bcc7af0",
   "metadata": {
    "pycharm": {
     "name": "#%%\n"
    }
   },
   "outputs": [],
   "source": [
    "feb_geo_by_source.head()"
   ]
  },
  {
   "cell_type": "code",
   "execution_count": null,
   "id": "88f5122b",
   "metadata": {
    "pycharm": {
     "name": "#%%\n"
    }
   },
   "outputs": [],
   "source": [
    "feb_geo_by_source = geo_block.merge(feb_geo_by_source, on='census_block_group')"
   ]
  },
  {
   "cell_type": "code",
   "execution_count": null,
   "id": "08ed6177",
   "metadata": {
    "pycharm": {
     "name": "#%%\n"
    }
   },
   "outputs": [],
   "source": [
    "feb_geo_by_source.head()"
   ]
  },
  {
   "cell_type": "code",
   "execution_count": null,
   "id": "3917504e",
   "metadata": {
    "pycharm": {
     "name": "#%%\n"
    }
   },
   "outputs": [],
   "source": [
    "feb_geo_by_source.query('from_louvain == 4')"
   ]
  },
  {
   "cell_type": "code",
   "execution_count": null,
   "id": "7c014bab",
   "metadata": {
    "pycharm": {
     "name": "#%%\n"
    }
   },
   "outputs": [],
   "source": [
    "feb_geo_by_source.query('from_louvain == 2')"
   ]
  },
  {
   "cell_type": "code",
   "execution_count": null,
   "id": "34a2d385",
   "metadata": {
    "pycharm": {
     "name": "#%%\n"
    }
   },
   "outputs": [],
   "source": [
    "import folium\n",
    "#Boston general coords\n",
    "clon = -71.7\n",
    "clat = 42.3\n",
    "m = folium.Map(location=(clat, clon), zoom_start=8, width=800, height=400, tiles=\"Cartodb Positron\")\n",
    "\n",
    "folium.Choropleth(\n",
    "    geo_data=feb_geo_by_source,\n",
    "    name=\"choropleth\",\n",
    "    data=feb_geo_by_source,\n",
    "    columns= [\"census_block_group\", \"from_louvain\"],\n",
    "    key_on=\"feature.properties.census_block_group\",\n",
    "    fill_color=\"YlGnBu\",\n",
    "    fill_opacity=0.7,\n",
    "    line_opacity=0.2,\n",
    "    bins=9,\n",
    "    legend_name=\"Visitors to these blocks, Boston, 2020\").add_to(m)\n",
    "\n",
    "display(m)"
   ]
  },
  {
   "cell_type": "markdown",
   "id": "27145bd2",
   "metadata": {
    "pycharm": {
     "name": "#%% md\n"
    }
   },
   "source": [
    "The groups do appear to be geographically distributed, with group 3 and 4 being mostly in Western Mass, and group 10 being mostly in Boston."
   ]
  },
  {
   "cell_type": "code",
   "execution_count": null,
   "id": "36662009",
   "metadata": {
    "pycharm": {
     "name": "#%%\n"
    }
   },
   "outputs": [],
   "source": [
    "len(feb_geo)"
   ]
  },
  {
   "cell_type": "code",
   "execution_count": null,
   "id": "450579a5",
   "metadata": {
    "pycharm": {
     "name": "#%%\n"
    }
   },
   "outputs": [],
   "source": [
    "#way too many rows to graph all, so did random sample\n",
    "for row in feb_geo.sample(4000).iloc:\n",
    "    sourcePoint = row['from_geometry'].centroid\n",
    "    destPoint = row['geometry'].centroid\n",
    "    if row['from_louvain'] != row['to_louvain']:\n",
    "        color = 'blue'\n",
    "    else:\n",
    "        color = 'red'\n",
    "    folium.PolyLine([(sourcePoint.y, sourcePoint.x), (destPoint.y, destPoint.x)], weight=4, opacity=max(0.02, row['visitor_count']/300), color=color).add_to(m)"
   ]
  },
  {
   "cell_type": "code",
   "execution_count": null,
   "id": "c592c0ab",
   "metadata": {
    "pycharm": {
     "name": "#%%\n"
    }
   },
   "outputs": [],
   "source": [
    "#doing the same for April\n",
    "ap_map = folium.Map(location=(clat, clon), zoom_start=8, width=800, height=400, tiles=\"Cartodb Positron\")\n",
    "\n",
    "folium.Choropleth(\n",
    "    geo_data=feb_geo_by_source,\n",
    "    name=\"choropleth\",\n",
    "    data=feb_geo_by_source,\n",
    "    columns= [\"census_block_group\", \"from_louvain\"],\n",
    "    key_on=\"feature.properties.census_block_group\",\n",
    "    fill_color=\"YlGnBu\",\n",
    "    fill_opacity=0.7,\n",
    "    line_opacity=0.2,\n",
    "    bins=9,\n",
    "    legend_name=\"Visitors to these blocks, Boston, 2020\").add_to(ap_map)\n",
    "\n",
    "#way too many rows to graph all, so did random sample\n",
    "for row in april_geo.sample(4000).iloc:\n",
    "    sourcePoint = row['from_geometry'].centroid\n",
    "    destPoint = row['geometry'].centroid\n",
    "    if row['from_louvain'] != row['to_louvain']:\n",
    "        color = 'blue'\n",
    "    else:\n",
    "        color = 'red'\n",
    "    folium.PolyLine([(sourcePoint.y, sourcePoint.x), (destPoint.y, destPoint.x)], weight=4, opacity=max(0.02, row['visitor_count']/300), color=color).add_to(ap_map)"
   ]
  },
  {
   "cell_type": "code",
   "execution_count": null,
   "id": "dae6b559",
   "metadata": {
    "pycharm": {
     "name": "#%%\n"
    }
   },
   "outputs": [],
   "source": [
    "#now displaying both side by side\n",
    "display(m)"
   ]
  },
  {
   "cell_type": "code",
   "execution_count": null,
   "id": "382a344a",
   "metadata": {
    "pycharm": {
     "name": "#%%\n"
    }
   },
   "outputs": [],
   "source": [
    "display(ap_map)"
   ]
  },
  {
   "cell_type": "markdown",
   "id": "ddc59822",
   "metadata": {
    "pycharm": {
     "name": "#%% md\n"
    }
   },
   "source": [
    "## conclusions for the bonus\n",
    "The racial profile of group 10 (parts of Boston) changed drastically during the pandemic, going from 18% to 28% black people.\n",
    "\n",
    "The proportion of visitors to population decreased by about 2x in all groups.\n",
    "\n",
    "The groups do appear to be geographically distributed, with group 3 and 4 being mostly in Western Mass, and group 10 being mostly in Boston.\n",
    "\n",
    "February and April look about the same in terms of how often people moved between groups."
   ]
  }
 ],
 "metadata": {
  "kernelspec": {
   "display_name": "Python 3 (ipykernel)",
   "language": "python",
   "name": "python3"
  },
  "language_info": {
   "codemirror_mode": {
    "name": "ipython",
    "version": 3
   },
   "file_extension": ".py",
   "mimetype": "text/x-python",
   "name": "python",
   "nbconvert_exporter": "python",
   "pygments_lexer": "ipython3",
   "version": "3.8.13"
  }
 },
 "nbformat": 4,
 "nbformat_minor": 5
}