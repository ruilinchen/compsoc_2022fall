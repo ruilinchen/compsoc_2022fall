{
 "cells": [
  {
   "cell_type": "markdown",
   "source": [
    "#### Task 1"
   ],
   "metadata": {
    "collapsed": false,
    "pycharm": {
     "name": "#%% md\n"
    }
   }
  },
  {
   "cell_type": "code",
   "execution_count": 1,
   "outputs": [],
   "source": [
    "#On March 11, 2020, the World Health Organization (WHO) declared COVID-19, the disease caused by the SARS-CoV-2, a pandemic. Two days later, the Trump Administration declares a nationwide emergency and issues an additional travel ban on non-U.S. citizens traveling from 26 European countries due to COVID-19.\n",
    "\n",
    "#The two provided csv files described the human mobility pattern of MA residents right before and after the outbreak of the COVID-19 pandemic in the US. Read them into pandas and calculate at least three metrics that we can use to understand the change in people’s mobility patterns due to COVID.\n",
    "\n",
    "import os\n",
    "import pandas as pd\n",
    "\n",
    "os.chdir('/Users/[editted]/Desktop/compsoc/data/MA_cbg_human_mobility_2020')\n",
    "before_covid = pd.read_csv('MA_cbg2cbg_2020_02.csv', low_memory=False)\n",
    "#before_covid #(939439*5)\n",
    "after_covid = pd.read_csv('MA_cbg2cbg_2020_04.csv', low_memory=False)\n",
    "#after_covid #(384826*5)"
   ],
   "metadata": {
    "collapsed": false,
    "pycharm": {
     "name": "#%%\n"
    }
   }
  },
  {
   "cell_type": "code",
   "execution_count": 2,
   "outputs": [
    {
     "name": "stdout",
     "output_type": "stream",
     "text": [
      "count     4984.000000\n",
      "mean       188.490971\n",
      "std        282.346169\n",
      "min          1.000000\n",
      "25%         71.000000\n",
      "50%        121.000000\n",
      "75%        214.000000\n",
      "max      10682.000000\n",
      "Name: visitor_census_tract, dtype: float64 \n",
      "\n",
      "count    4984.000000\n",
      "mean       77.212279\n",
      "std        81.046065\n",
      "min         2.000000\n",
      "25%        34.000000\n",
      "50%        55.000000\n",
      "75%        89.000000\n",
      "max      1870.000000\n",
      "Name: visitor_census_tract, dtype: float64\n"
     ]
    }
   ],
   "source": [
    "# 1 Number of neighborhoods visited\n",
    "before_covid_num = before_covid.groupby('poi_cbg').agg({'visitor_census_tract': 'count'}).reset_index()\n",
    "print(before_covid_num['visitor_census_tract'].describe(), \"\\n\")\n",
    "after_covid_num = after_covid.groupby('poi_cbg').agg({'visitor_census_tract': 'count'}).reset_index()\n",
    "print(after_covid_num['visitor_census_tract'].describe())"
   ],
   "metadata": {
    "collapsed": false,
    "pycharm": {
     "name": "#%%\n"
    }
   }
  },
  {
   "cell_type": "markdown",
   "source": [
    "**Task 1 #1 Conclusion**\n",
    "In this approach, I'm calculating the average number of neighborhoods visited for each census block group (cbg) before and after the COVID pandemic. In February, which is before COVID, the average number of neighborhoods visited is about 188. However, in April, the average number of neighborhoods visited decreased to about 77. After the outbreak, the frequency of people visiting neighborhoods dropped significantly."
   ],
   "metadata": {
    "collapsed": false,
    "pycharm": {
     "name": "#%% md\n"
    }
   }
  },
  {
   "cell_type": "code",
   "execution_count": 3,
   "outputs": [
    {
     "name": "stdout",
     "output_type": "stream",
     "text": [
      "92\n",
      "4890 \n",
      "\n",
      "count     4984.000000\n",
      "mean       745.934992\n",
      "std       1549.116109\n",
      "min      -7080.000000\n",
      "25%        177.000000\n",
      "50%        376.000000\n",
      "75%        814.000000\n",
      "max      65027.000000\n",
      "Name: difference_#_of_visitors, dtype: float64\n"
     ]
    }
   ],
   "source": [
    "# 2 Number of visitors\n",
    "before_covid_visitors = before_covid.groupby('poi_cbg').agg({'visitor_count': 'sum'}).reset_index()\n",
    "before_covid_visitors = before_covid_visitors.sort_values(by=['poi_cbg'], ascending=True)\n",
    "#before_covid_visitors #(4984*2)\n",
    "after_covid_visitors = after_covid.groupby('poi_cbg').agg({'visitor_count': 'sum'}).reset_index()\n",
    "#after_covid_visitors #(4984*2)\n",
    "compare_visitors = before_covid_visitors.merge(after_covid_visitors, left_on='poi_cbg', right_on='poi_cbg')\n",
    "compare_visitors['difference_#_of_visitors'] = compare_visitors['visitor_count_x'] - compare_visitors['visitor_count_y']\n",
    "print((compare_visitors['difference_#_of_visitors']<0).sum())\n",
    "print((compare_visitors['difference_#_of_visitors']>0).sum(), \"\\n\")\n",
    "print(compare_visitors['difference_#_of_visitors'].describe())"
   ],
   "metadata": {
    "collapsed": false,
    "pycharm": {
     "name": "#%%\n"
    }
   }
  },
  {
   "cell_type": "markdown",
   "source": [
    "**Task 1 #2 Conclusion**\n",
    "In this approach, I compared the change in number of visitors from cbgs. The result shows that although there are certain numbers of cbgs that increase in visitors, most of the cbgs decrease in the number of visitors with an average decrease of 745 visitors per cbg. This shows that after the pandemic, there are fewer visitors traveling around."
   ],
   "metadata": {
    "collapsed": false,
    "pycharm": {
     "name": "#%% md\n"
    }
   }
  },
  {
   "cell_type": "code",
   "execution_count": 4,
   "outputs": [
    {
     "name": "stdout",
     "output_type": "stream",
     "text": [
      "59\n",
      "4923 \n",
      "\n",
      "count     4984.000000\n",
      "mean       969.745385\n",
      "std       2036.366301\n",
      "min     -11443.000000\n",
      "25%        216.000000\n",
      "50%        452.000000\n",
      "75%        986.250000\n",
      "max      76067.000000\n",
      "Name: raw_device_counts_difference, dtype: float64\n"
     ]
    }
   ],
   "source": [
    "# 3 Residents flow\n",
    "before_covid_residents = before_covid.drop(['year_month','visitor_census_tract','visitor_count'], axis=1)\n",
    "before_covid_residents = before_covid_residents.drop_duplicates(subset=['poi_cbg'])\n",
    "before_covid_residents = before_covid_residents.sort_values(by=['poi_cbg'], ascending=True)\n",
    "#before_covid_residents #(4984*2)\n",
    "after_covid_residents = after_covid.drop(['year_month','visitor_census_tract','visitor_count'], axis=1)\n",
    "after_covid_residents = after_covid_residents.drop_duplicates(subset=['poi_cbg'])\n",
    "after_covid_residents = after_covid_residents.sort_values(by=['poi_cbg'], ascending=True)\n",
    "#after_covid_residents #(4984*2)\n",
    "compare_residents = before_covid_residents.merge(after_covid_residents, left_on='poi_cbg', right_on='poi_cbg')\n",
    "compare_residents['raw_device_counts_difference'] = compare_residents['raw_device_counts_x'] - compare_residents['raw_device_counts_y']\n",
    "print((compare_residents['raw_device_counts_difference']<0).sum())\n",
    "print((compare_residents['raw_device_counts_difference']>0).sum(), \"\\n\")\n",
    "print(compare_residents['raw_device_counts_difference'].describe())"
   ],
   "metadata": {
    "collapsed": false,
    "pycharm": {
     "name": "#%%\n"
    }
   }
  },
  {
   "cell_type": "markdown",
   "source": [
    "**Task 1 #3 Conclusion**\n",
    "In this approach, I compared the change in number of residents in cbgs after the pandemic. The result turns out similar as the previous approach that although there are a certain number of cbgs that have increasing number of residents after the pandemic, most of cbgs have significant decrease in their number of residents, with an average at around 969 residents decrease per cbg. It implies that people tend to flee from MA after the outbreak (maybe because they're afraid that MA will be the next NY, where a lot of dead cases were reported)."
   ],
   "metadata": {
    "collapsed": false,
    "pycharm": {
     "name": "#%% md\n"
    }
   }
  },
  {
   "cell_type": "markdown",
   "source": [
    "#### Task 2"
   ],
   "metadata": {
    "collapsed": false,
    "pycharm": {
     "name": "#%% md\n"
    }
   }
  },
  {
   "cell_type": "code",
   "execution_count": 5,
   "outputs": [
    {
     "name": "stderr",
     "output_type": "stream",
     "text": [
      "/var/folders/ml/2z7dml2d3vn2rqmr8h2sw_n40000gn/T/ipykernel_58485/3603284743.py:28: DeprecationWarning: info is deprecated and will be removed in version 3.0.\n",
      "\n",
      "  print(nx.info(G_before))\n"
     ]
    },
    {
     "name": "stdout",
     "output_type": "stream",
     "text": [
      "Graph with 4984 nodes and 635681 edges\n",
      "Graph with 4985 nodes and 291120 edges\n"
     ]
    },
    {
     "name": "stderr",
     "output_type": "stream",
     "text": [
      "/var/folders/ml/2z7dml2d3vn2rqmr8h2sw_n40000gn/T/ipykernel_58485/3603284743.py:37: DeprecationWarning: info is deprecated and will be removed in version 3.0.\n",
      "\n",
      "  print(nx.info(G_after))\n"
     ]
    }
   ],
   "source": [
    "#Use these two data sources to create two human mobility networks as directed graphs for MA with\n",
    "\n",
    "#network node: individual census block group (neighborhood) in MA\n",
    "#network edge: residents from one neighborhood visiting another with the direction of the edge implying the direction of the visit\n",
    "#weight of network tie: percentage of residents from one neighborhood (origin) visiting another (destination)\n",
    "\n",
    "#Calculate at least three network-based metrics that we can use to understand the change in people’s mobility due to COVID.\n",
    "\n",
    "import os\n",
    "import pandas as pd\n",
    "import networkx as nx\n",
    "\n",
    "os.chdir('/Users/[editted]/Desktop/compsoc/data/MA_cbg_human_mobility_2020')\n",
    "before_covid = pd.read_csv('MA_cbg2cbg_2020_02.csv', low_memory=False)\n",
    "after_covid = pd.read_csv('MA_cbg2cbg_2020_04.csv', low_memory=False)\n",
    "\n",
    "# Human Mobility Network\n",
    "G_before = nx.Graph()\n",
    "G_after = nx.Graph()\n",
    "for i in range(len(before_covid)):\n",
    "    origin_cbg = before_covid.loc[i, 'poi_cbg']\n",
    "    destination_cbg = before_covid.loc[i, 'visitor_census_tract']\n",
    "    if str(origin_cbg)[:2]=='25' and str(destination_cbg)[:2]=='25':\n",
    "        total_residents_in_origin = before_covid.loc[i, 'raw_device_counts']\n",
    "        num_visitor = before_covid.loc[i, 'visitor_count']\n",
    "        percent_visitor = num_visitor / total_residents_in_origin\n",
    "        G_before.add_edge(origin_cbg, destination_cbg, weight=percent_visitor)\n",
    "print(nx.info(G_before))\n",
    "for i in range(len(after_covid)):\n",
    "    origin_cbg = after_covid.loc[i, 'poi_cbg']\n",
    "    destination_cbg = after_covid.loc[i, 'visitor_census_tract']\n",
    "    if str(origin_cbg)[:2]=='25' and str(destination_cbg)[:2]=='25':\n",
    "        total_residents_in_origin = after_covid.loc[i, 'raw_device_counts']\n",
    "        num_visitor = after_covid.loc[i, 'visitor_count']\n",
    "        percent_visitor = num_visitor / total_residents_in_origin\n",
    "        G_after.add_edge(origin_cbg, destination_cbg, weight=percent_visitor)\n",
    "print(nx.info(G_after))"
   ],
   "metadata": {
    "collapsed": false,
    "pycharm": {
     "name": "#%%\n"
    }
   }
  },
  {
   "cell_type": "code",
   "execution_count": 6,
   "outputs": [
    {
     "name": "stdout",
     "output_type": "stream",
     "text": [
      "count    4984.000000\n",
      "mean      138.267255\n",
      "std       136.071291\n",
      "min       -93.000000\n",
      "25%        71.000000\n",
      "50%       109.000000\n",
      "75%       166.000000\n",
      "max      3143.000000\n",
      "Name: degree_diff, dtype: float64\n"
     ]
    }
   ],
   "source": [
    "# Degree difference (difference between # of edges adjacent to the node)\n",
    "node_list_Feb = list(G_before.nodes())\n",
    "degree_before = pd.DataFrame({'poi_cbg': node_list_Feb})\n",
    "#degree_before\n",
    "node_list_Apr = list(G_after.nodes())\n",
    "degree_after = pd.DataFrame({'poi_cbg': node_list_Apr})\n",
    "#degree_after\n",
    "node_degree_Feb = []\n",
    "for node in G_before.nodes():\n",
    "    node_deg = G_before.degree(node)\n",
    "    node_degree_Feb.append(node_deg)\n",
    "degree_before = degree_before.join(pd.DataFrame({'degree_before': node_degree_Feb}))\n",
    "node_degree_Apr = []\n",
    "for node in G_after.nodes():\n",
    "    node_deg = G_after.degree(node)\n",
    "    node_degree_Apr.append(node_deg)\n",
    "degree_after = degree_after.join(pd.DataFrame({'degree_after': node_degree_Apr}))\n",
    "degree_all = degree_before.merge(degree_after, left_on='poi_cbg', right_on='poi_cbg')\n",
    "degree_all['degree_diff'] = degree_all['degree_before'] - degree_all['degree_after']\n",
    "print(degree_all['degree_diff'].describe())"
   ],
   "metadata": {
    "collapsed": false,
    "pycharm": {
     "name": "#%%\n"
    }
   }
  },
  {
   "cell_type": "markdown",
   "source": [
    "**Task 2 #1 Conclusion**\n",
    "In this approach, I compared the difference between the node degrees (unweighted), which means the difference between the number of edges connected to a certain node before and after the pandemic announced. The finding is that on average, the degree decreased by 138, althogh a small amount of cbgs having increasing degrees. Less connection between nodes means that people are travelling less between neighborhoods."
   ],
   "metadata": {
    "collapsed": false,
    "pycharm": {
     "name": "#%% md\n"
    }
   }
  },
  {
   "cell_type": "code",
   "execution_count": 7,
   "outputs": [
    {
     "name": "stdout",
     "output_type": "stream",
     "text": [
      "0.49957041134479185\n",
      "0.4225415660281424\n"
     ]
    }
   ],
   "source": [
    "# Closeness Centrality\n",
    "import numpy as np\n",
    "\n",
    "cc_before = nx.closeness_centrality(G_before)\n",
    "average_cc_before = np.array(list(cc_before.values())).mean()\n",
    "print(average_cc_before)\n",
    "cc_after = nx.closeness_centrality(G_after)\n",
    "average_cc_after = np.array(list(cc_after.values())).mean()\n",
    "print(average_cc_after)"
   ],
   "metadata": {
    "collapsed": false,
    "pycharm": {
     "name": "#%%\n"
    }
   }
  },
  {
   "cell_type": "markdown",
   "source": [
    "**Task 2 #2 Conclusion**\n",
    "In this approach, I compared the average closeness centrality of the two networks. The value represents the average distance from a node to other nodes for all nodes in the two networks. Nodes with higher closeness centrality have the shorter distances to all nodes, which, in this context, means that the neighborhoods were more closely related to each other before the announcement of the pandemic than after the announcement of the pandemic (0.4996>0.4225)."
   ],
   "metadata": {
    "collapsed": false,
    "pycharm": {
     "name": "#%% md\n"
    }
   }
  },
  {
   "cell_type": "code",
   "execution_count": 8,
   "outputs": [
    {
     "name": "stdout",
     "output_type": "stream",
     "text": [
      "0.3358877036019045\n",
      "0.2799481682222787\n"
     ]
    }
   ],
   "source": [
    "# Clustering Coefficient\n",
    "ccoeff_before = nx.average_clustering(G_before)\n",
    "print(ccoeff_before)\n",
    "ccoeff_after = nx.average_clustering(G_after)\n",
    "print(ccoeff_after)"
   ],
   "metadata": {
    "collapsed": false,
    "pycharm": {
     "name": "#%%\n"
    }
   }
  },
  {
   "cell_type": "markdown",
   "source": [
    "**Task 2 #3 Conclusion**\n",
    "In this approach, I compared the average clustering coefficients of the two networks. Clustering coefficient measures the average probability that two neighbors of a node are neighbors, which means that a higher clustering coefficient means that the neighbors are more closely related. In this case, we can see that the average clustering coefficient in February is higher than that in April, implying that the neighborhoods are more closely related (perhaps more visitors travel in between) before the announcement of the pandemic."
   ],
   "metadata": {
    "collapsed": false,
    "pycharm": {
     "name": "#%% md\n"
    }
   }
  },
  {
   "cell_type": "code",
   "execution_count": null,
   "outputs": [],
   "source": [],
   "metadata": {
    "collapsed": false,
    "pycharm": {
     "name": "#%%\n"
    }
   }
  }
 ],
 "metadata": {
  "kernelspec": {
   "display_name": "Python 3",
   "language": "python",
   "name": "python3"
  },
  "language_info": {
   "codemirror_mode": {
    "name": "ipython",
    "version": 2
   },
   "file_extension": ".py",
   "mimetype": "text/x-python",
   "name": "python",
   "nbconvert_exporter": "python",
   "pygments_lexer": "ipython2",
   "version": "2.7.6"
  }
 },
 "nbformat": 4,
 "nbformat_minor": 0
}