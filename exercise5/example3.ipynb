{
 "cells": [
  {
   "cell_type": "markdown",
   "id": "8eca14d8",
   "metadata": {
    "pycharm": {
     "name": "#%% md\n"
    }
   },
   "source": [
    "# Coding Exercise 5\n",
    "## Task 5.1\n",
    "The following code loops through the files in 'MA_cbg_human_mobility_2019.zip' and prints the name of all the csv files."
   ]
  },
  {
   "cell_type": "code",
   "execution_count": 1,
   "id": "cb4a42b4",
   "metadata": {
    "pycharm": {
     "name": "#%%\n"
    }
   },
   "outputs": [],
   "source": [
    "import zipfile"
   ]
  },
  {
   "cell_type": "code",
   "execution_count": 2,
   "id": "0fd20e26",
   "metadata": {
    "pycharm": {
     "name": "#%%\n"
    }
   },
   "outputs": [
    {
     "name": "stdout",
     "output_type": "stream",
     "text": [
      "MA_cbg_human_mobility_2019/\n",
      "MA_cbg_human_mobility_2019/MA_cbg2cbg_2019_09.csv\n",
      "__MACOSX/MA_cbg_human_mobility_2019/._MA_cbg2cbg_2019_09.csv\n",
      "MA_cbg_human_mobility_2019/MA_cbg2cbg_2019_08.csv\n",
      "__MACOSX/MA_cbg_human_mobility_2019/._MA_cbg2cbg_2019_08.csv\n",
      "MA_cbg_human_mobility_2019/.DS_Store\n",
      "__MACOSX/MA_cbg_human_mobility_2019/._.DS_Store\n",
      "MA_cbg_human_mobility_2019/README.txt\n",
      "__MACOSX/MA_cbg_human_mobility_2019/._README.txt\n",
      "MA_cbg_human_mobility_2019/MA_cbg2cbg_2019_03.csv\n",
      "__MACOSX/MA_cbg_human_mobility_2019/._MA_cbg2cbg_2019_03.csv\n",
      "MA_cbg_human_mobility_2019/MA_cbg2cbg_2019_02.csv\n",
      "__MACOSX/MA_cbg_human_mobility_2019/._MA_cbg2cbg_2019_02.csv\n",
      "MA_cbg_human_mobility_2019/MA_cbg2cbg_2019_01.csv\n",
      "__MACOSX/MA_cbg_human_mobility_2019/._MA_cbg2cbg_2019_01.csv\n",
      "MA_cbg_human_mobility_2019/MA_cbg2cbg_2019_05.csv\n",
      "__MACOSX/MA_cbg_human_mobility_2019/._MA_cbg2cbg_2019_05.csv\n",
      "MA_cbg_human_mobility_2019/MA_cbg2cbg_2019_11.csv\n",
      "__MACOSX/MA_cbg_human_mobility_2019/._MA_cbg2cbg_2019_11.csv\n",
      "MA_cbg_human_mobility_2019/MA_cbg2cbg_2019_10.csv\n",
      "__MACOSX/MA_cbg_human_mobility_2019/._MA_cbg2cbg_2019_10.csv\n",
      "MA_cbg_human_mobility_2019/MA_cbg2cbg_2019_04.csv\n",
      "__MACOSX/MA_cbg_human_mobility_2019/._MA_cbg2cbg_2019_04.csv\n",
      "MA_cbg_human_mobility_2019/MA_cbg2cbg_2019_12.csv\n",
      "__MACOSX/MA_cbg_human_mobility_2019/._MA_cbg2cbg_2019_12.csv\n",
      "MA_cbg_human_mobility_2019/MA_cbg2cbg_2019_06.csv\n",
      "__MACOSX/MA_cbg_human_mobility_2019/._MA_cbg2cbg_2019_06.csv\n",
      "MA_cbg_human_mobility_2019/MA_cbg2cbg_2019_07.csv\n",
      "__MACOSX/MA_cbg_human_mobility_2019/._MA_cbg2cbg_2019_07.csv\n"
     ]
    }
   ],
   "source": [
    "with zipfile.ZipFile(\"MA_cbg_human_mobility_2019.zip\",mode='r') as archive:\n",
    "    for info in archive.infolist():\n",
    "        print(info.filename)"
   ]
  },
  {
   "cell_type": "markdown",
   "id": "48c77dd3",
   "metadata": {
    "pycharm": {
     "name": "#%% md\n"
    }
   },
   "source": [
    "## Task 5.2 \n",
    "After unziping the file, the following code loops through the files stored in the folder and counts the number of lines in each csv file, printing the sum of line counts."
   ]
  },
  {
   "cell_type": "code",
   "execution_count": 3,
   "id": "ea1463ee",
   "metadata": {
    "pycharm": {
     "name": "#%%\n"
    }
   },
   "outputs": [],
   "source": [
    "import os"
   ]
  },
  {
   "cell_type": "code",
   "execution_count": 8,
   "id": "f8905968",
   "metadata": {
    "scrolled": true,
    "pycharm": {
     "name": "#%%\n"
    }
   },
   "outputs": [
    {
     "name": "stdout",
     "output_type": "stream",
     "text": [
      "MA_cbg_human_mobility_2019/MA_cbg2cbg_2019_09.csv has 1136954 lines.\n",
      "MA_cbg_human_mobility_2019/MA_cbg2cbg_2019_08.csv has 1194285 lines.\n",
      "MA_cbg_human_mobility_2019/MA_cbg2cbg_2019_03.csv has 914654 lines.\n",
      "MA_cbg_human_mobility_2019/MA_cbg2cbg_2019_02.csv has 818862 lines.\n",
      "MA_cbg_human_mobility_2019/MA_cbg2cbg_2019_01.csv has 840594 lines.\n",
      "MA_cbg_human_mobility_2019/MA_cbg2cbg_2019_05.csv has 1088295 lines.\n",
      "MA_cbg_human_mobility_2019/MA_cbg2cbg_2019_11.csv has 901469 lines.\n",
      "MA_cbg_human_mobility_2019/MA_cbg2cbg_2019_10.csv has 1010778 lines.\n",
      "MA_cbg_human_mobility_2019/MA_cbg2cbg_2019_04.csv has 1011375 lines.\n",
      "MA_cbg_human_mobility_2019/MA_cbg2cbg_2019_12.csv has 950662 lines.\n",
      "MA_cbg_human_mobility_2019/MA_cbg2cbg_2019_06.csv has 1120697 lines.\n",
      "MA_cbg_human_mobility_2019/MA_cbg2cbg_2019_07.csv has 1119933 lines.\n",
      "There are 12108558 lines in this directory.\n"
     ]
    }
   ],
   "source": [
    "total=0\n",
    "for filename in os.scandir('MA_cbg_human_mobility_2019'):\n",
    "    if filename.is_file():\n",
    "        with open(filename.path) as file:\n",
    "            if('.csv' in filename.path):\n",
    "                lines=len(file.readlines())\n",
    "                total+=lines\n",
    "                print(filename.path,'has',lines,'lines.')\n",
    "print('There are',total,'lines in this directory.')"
   ]
  },
  {
   "cell_type": "markdown",
   "id": "b6e1d2d4",
   "metadata": {
    "pycharm": {
     "name": "#%% md\n"
    }
   },
   "source": [
    "## Task 5.3\n",
    "Use 5.2 to create a dictionary with file names as keys and the number of lines as values. The code then writes this output into a json file. "
   ]
  },
  {
   "cell_type": "code",
   "execution_count": 9,
   "id": "fe63a775",
   "metadata": {
    "pycharm": {
     "name": "#%%\n"
    }
   },
   "outputs": [],
   "source": [
    "import json"
   ]
  },
  {
   "cell_type": "code",
   "execution_count": 10,
   "id": "510d98d0",
   "metadata": {
    "pycharm": {
     "name": "#%%\n"
    }
   },
   "outputs": [],
   "source": [
    "counts={}\n",
    "for filename in os.scandir('MA_cbg_human_mobility_2019'):\n",
    "    if filename.is_file():\n",
    "        with open(filename.path) as file:\n",
    "            if('.csv' in filename.path):\n",
    "                counts[filename.path]=len(file.readlines())\n",
    "with open('assignment5.json','w') as outfile:\n",
    "    json.dump(counts,outfile)"
   ]
  }
 ],
 "metadata": {
  "kernelspec": {
   "display_name": "Python [conda env:compsoc] *",
   "language": "python",
   "name": "conda-env-compsoc-py"
  },
  "language_info": {
   "codemirror_mode": {
    "name": "ipython",
    "version": 3
   },
   "file_extension": ".py",
   "mimetype": "text/x-python",
   "name": "python",
   "nbconvert_exporter": "python",
   "pygments_lexer": "ipython3",
   "version": "3.8.13"
  }
 },
 "nbformat": 4,
 "nbformat_minor": 5
}