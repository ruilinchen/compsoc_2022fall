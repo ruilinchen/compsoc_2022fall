{
 "cells": [
  {
   "cell_type": "markdown",
   "source": [
    "# [editted]_Coding exercise5\n"
   ],
   "metadata": {
    "collapsed": false,
    "pycharm": {
     "name": "#%% md\n"
    }
   }
  },
  {
   "cell_type": "markdown",
   "source": [
    "### Task 5.1\n",
    "##### Download “MA_cbg_human_mobility_2019.zip” from Canvas under “Files/datasets”. Write a program that loops through all the files in this zip file and prints the name of all the “csv” files. Use `zipfile` package."
   ],
   "metadata": {
    "collapsed": false,
    "pycharm": {
     "name": "#%% md\n"
    }
   }
  },
  {
   "cell_type": "code",
   "execution_count": 6,
   "outputs": [
    {
     "name": "stdout",
     "output_type": "stream",
     "text": [
      "MA_cbg_human_mobility_2019/MA_cbg2cbg_2019_09.csv\n",
      "__MACOSX/MA_cbg_human_mobility_2019/._MA_cbg2cbg_2019_09.csv\n",
      "MA_cbg_human_mobility_2019/MA_cbg2cbg_2019_08.csv\n",
      "__MACOSX/MA_cbg_human_mobility_2019/._MA_cbg2cbg_2019_08.csv\n",
      "MA_cbg_human_mobility_2019/MA_cbg2cbg_2019_03.csv\n",
      "__MACOSX/MA_cbg_human_mobility_2019/._MA_cbg2cbg_2019_03.csv\n",
      "MA_cbg_human_mobility_2019/MA_cbg2cbg_2019_02.csv\n",
      "__MACOSX/MA_cbg_human_mobility_2019/._MA_cbg2cbg_2019_02.csv\n",
      "MA_cbg_human_mobility_2019/MA_cbg2cbg_2019_01.csv\n",
      "__MACOSX/MA_cbg_human_mobility_2019/._MA_cbg2cbg_2019_01.csv\n",
      "MA_cbg_human_mobility_2019/MA_cbg2cbg_2019_05.csv\n",
      "__MACOSX/MA_cbg_human_mobility_2019/._MA_cbg2cbg_2019_05.csv\n",
      "MA_cbg_human_mobility_2019/MA_cbg2cbg_2019_11.csv\n",
      "__MACOSX/MA_cbg_human_mobility_2019/._MA_cbg2cbg_2019_11.csv\n",
      "MA_cbg_human_mobility_2019/MA_cbg2cbg_2019_10.csv\n",
      "__MACOSX/MA_cbg_human_mobility_2019/._MA_cbg2cbg_2019_10.csv\n",
      "MA_cbg_human_mobility_2019/MA_cbg2cbg_2019_04.csv\n",
      "__MACOSX/MA_cbg_human_mobility_2019/._MA_cbg2cbg_2019_04.csv\n",
      "MA_cbg_human_mobility_2019/MA_cbg2cbg_2019_12.csv\n",
      "__MACOSX/MA_cbg_human_mobility_2019/._MA_cbg2cbg_2019_12.csv\n",
      "MA_cbg_human_mobility_2019/MA_cbg2cbg_2019_06.csv\n",
      "__MACOSX/MA_cbg_human_mobility_2019/._MA_cbg2cbg_2019_06.csv\n",
      "MA_cbg_human_mobility_2019/MA_cbg2cbg_2019_07.csv\n",
      "__MACOSX/MA_cbg_human_mobility_2019/._MA_cbg2cbg_2019_07.csv\n"
     ]
    }
   ],
   "source": [
    "import zipfile\n",
    "import csv\n",
    "with zipfile.ZipFile(\"MA_cbg_human_mobility_2019.zip\", mode=\"r\") as archive1:\n",
    "     for filename in archive1.namelist():\n",
    "         if \".csv\" in filename:\n",
    "             print(filename)"
   ],
   "metadata": {
    "collapsed": false,
    "pycharm": {
     "name": "#%%\n"
    }
   }
  },
  {
   "cell_type": "markdown",
   "source": [
    "### Task 5.2\n",
    "##### Unzip the above zipped file in your laptop’s File System and you will get a folder named “MA_cbg_human_mobility_2019”. Write a program that loops through all the files stored in this folder and counts the number of lines contained in each of the “csv” files. Print a sum of the line counts. Use with statement when reading files."
   ],
   "metadata": {
    "collapsed": false,
    "pycharm": {
     "name": "#%% md\n"
    }
   }
  },
  {
   "cell_type": "code",
   "execution_count": 2,
   "outputs": [
    {
     "name": "stdout",
     "output_type": "stream",
     "text": [
      "Sum is  12108558\n"
     ]
    }
   ],
   "source": [
    "import pandas\n",
    "import os\n",
    "import glob\n",
    "import csv\n",
    "\n",
    "path= \"/Users/apple/Documents/BC/SOCY7700/compSoc/MA_cbg_human_mobility_2019\"\n",
    "os.chdir(path)\n",
    "sum=0\n",
    "for file in glob.glob(\"**.csv\", recursive = True):\n",
    "    with open(file, 'r') as csv_file:\n",
    "        csvreader = csv.reader(csv_file)\n",
    "        count=0\n",
    "        for row in enumerate(csvreader):\n",
    "            count+=1\n",
    "        sum+=count\n",
    "print(\"Sum is \",sum)\n"
   ],
   "metadata": {
    "collapsed": false,
    "pycharm": {
     "name": "#%%\n"
    }
   }
  },
  {
   "cell_type": "markdown",
   "source": [
    "### Task 5.3\n",
    "##### Use the same program from Task 5.2 that counts lines of all the csv files in “MA_cbg_human_mobility_2019”. Store the output in a dictionary with keys being filenames and values being the corresponding line counts. Write the output to a json file."
   ],
   "metadata": {
    "collapsed": false,
    "pycharm": {
     "name": "#%% md\n"
    }
   }
  },
  {
   "cell_type": "code",
   "execution_count": 8,
   "outputs": [
    {
     "name": "stdout",
     "output_type": "stream",
     "text": [
      "{'MA_cbg2cbg_2019_09': 1136954, 'MA_cbg2cbg_2019_08': 1194285, 'MA_cbg2cbg_2019_03': 914654, 'MA_cbg2cbg_2019_02': 818862, 'MA_cbg2cbg_2019_01': 840594, 'MA_cbg2cbg_2019_05': 1088295, 'MA_cbg2cbg_2019_11': 901469, 'MA_cbg2cbg_2019_10': 1010778, 'MA_cbg2cbg_2019_04': 1011375, 'MA_cbg2cbg_2019_12': 950662, 'MA_cbg2cbg_2019_06': 1120697, 'MA_cbg2cbg_2019_07': 1119933}\n"
     ]
    }
   ],
   "source": [
    "import json\n",
    "import requests\n",
    "import pandas\n",
    "import os\n",
    "import glob\n",
    "import csv\n",
    "\n",
    "path= \"/Users/apple/Documents/BC/SOCY7700/compSoc/MA_cbg_human_mobility_2019\"\n",
    "os.chdir(path)\n",
    "d={}\n",
    "for file in glob.glob(\"**.csv\", recursive = True):\n",
    "    with open(file, 'r') as csv_file:\n",
    "        csvreader = csv.reader(csv_file)\n",
    "        count=0\n",
    "        for row in enumerate(csvreader):\n",
    "            count+=1\n",
    "        d[file.replace(\".csv\", \"\")]= count\n",
    "with open(\"codingexerise5.json\", \"w\") as outfile:\n",
    "    json.dump(d, outfile)\n",
    "with open('codingexerise5.json', 'r') as openfile:\n",
    "    json_object = json.load(openfile)\n",
    "print(json_object)"
   ],
   "metadata": {
    "collapsed": false,
    "pycharm": {
     "name": "#%%\n"
    }
   }
  },
  {
   "cell_type": "code",
   "execution_count": null,
   "outputs": [],
   "source": [],
   "metadata": {
    "collapsed": false,
    "pycharm": {
     "name": "#%%\n"
    }
   }
  }
 ],
 "metadata": {
  "kernelspec": {
   "display_name": "Python 3",
   "language": "python",
   "name": "python3"
  },
  "language_info": {
   "codemirror_mode": {
    "name": "ipython",
    "version": 2
   },
   "file_extension": ".py",
   "mimetype": "text/x-python",
   "name": "python",
   "nbconvert_exporter": "python",
   "pygments_lexer": "ipython2",
   "version": "2.7.6"
  }
 },
 "nbformat": 4,
 "nbformat_minor": 0
}