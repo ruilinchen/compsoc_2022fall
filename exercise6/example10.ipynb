{
 "cells": [
  {
   "cell_type": "markdown",
   "id": "2c81a88f",
   "metadata": {
    "pycharm": {
     "name": "#%% md\n"
    }
   },
   "source": [
    "## Task 5.1 Reads in two csv files (the 2019 and 2020 BPD crime data), concatenates them, then drops duplicates and rows in which null values appear in certain columns. This dataframe is then saved to a new csv"
   ]
  },
  {
   "cell_type": "code",
   "execution_count": 1,
   "id": "fb08bc62",
   "metadata": {
    "pycharm": {
     "name": "#%%\n"
    }
   },
   "outputs": [],
   "source": [
    "import pandas as pd\n",
    "\n",
    "bcd19 = pd.read_csv(\"bcd19.csv\", low_memory=False)\n",
    "bcd20 = pd.read_csv(\"bcd20.csv\", low_memory=False)\n",
    "\n",
    "bcd_merge = pd.concat([bcd19, bcd20])\n",
    "bcd_merge.drop_duplicates(keep='first') #unclear from instructions if meant to drop duplicates only if they occur in the below subset of columns or in any column\n",
    "bcd_merge.dropna(subset=['INCIDENT_NUMBER', 'OFFENSE_CODE', 'DISTRICT', 'Long', 'Lat', 'SHOOTING', 'OCCURRED_ON_DATE'])\n",
    "pd.DataFrame.to_csv(bcd_merge, \"bcd19-20.csv\")"
   ]
  },
  {
   "cell_type": "markdown",
   "id": "6455b46a",
   "metadata": {
    "pycharm": {
     "name": "#%% md\n"
    }
   },
   "source": [
    "## Task 5.2 Reads in the newly created csv file, then provides a frequency count of crime incidents organized by grouping by year and month, then doing a count"
   ]
  },
  {
   "cell_type": "code",
   "execution_count": 2,
   "id": "856adabb",
   "metadata": {
    "pycharm": {
     "name": "#%%\n"
    }
   },
   "outputs": [
    {
     "data": {
      "text/plain": [
       "YEAR  MONTH\n",
       "2019  1        6958\n",
       "      2        6173\n",
       "      3        7093\n",
       "      4        6963\n",
       "      5        7783\n",
       "      6        7635\n",
       "      7        8083\n",
       "      8        8430\n",
       "      9        8184\n",
       "      10       7121\n",
       "      11       6468\n",
       "      12       6293\n",
       "2020  1        6342\n",
       "      2        5897\n",
       "      3        5513\n",
       "      4        4387\n",
       "      5        5439\n",
       "      6        5925\n",
       "      7        6236\n",
       "      8        6533\n",
       "      9        6484\n",
       "      10       6766\n",
       "      11       5770\n",
       "      12       5602\n",
       "Name: INCIDENT_NUMBER, dtype: int64"
      ]
     },
     "execution_count": 2,
     "metadata": {},
     "output_type": "execute_result"
    }
   ],
   "source": [
    "bcd_complete = pd.read_csv(\"bcd19-20.csv\", low_memory=False)\n",
    "bcd_complete.groupby(['YEAR','MONTH'])['INCIDENT_NUMBER'].count()"
   ]
  },
  {
   "cell_type": "markdown",
   "id": "abb9fb90",
   "metadata": {
    "pycharm": {
     "name": "#%% md\n"
    }
   },
   "source": [
    "[editted]"
   ]
  },
  {
   "cell_type": "code",
   "execution_count": 3,
   "id": "0f0fc631",
   "metadata": {
    "scrolled": true,
    "pycharm": {
     "name": "#%%\n"
    }
   },
   "outputs": [
    {
     "data": {
      "text/html": [
       "<div>\n",
       "<style scoped>\n",
       "    .dataframe tbody tr th:only-of-type {\n",
       "        vertical-align: middle;\n",
       "    }\n",
       "\n",
       "    .dataframe tbody tr th {\n",
       "        vertical-align: top;\n",
       "    }\n",
       "\n",
       "    .dataframe thead th {\n",
       "        text-align: right;\n",
       "    }\n",
       "</style>\n",
       "<table border=\"1\" class=\"dataframe\">\n",
       "  <thead>\n",
       "    <tr style=\"text-align: right;\">\n",
       "      <th></th>\n",
       "      <th>Property Crimes</th>\n",
       "      <th>Violent Crimes</th>\n",
       "    </tr>\n",
       "    <tr>\n",
       "      <th>YEAR</th>\n",
       "      <th></th>\n",
       "      <th></th>\n",
       "    </tr>\n",
       "  </thead>\n",
       "  <tbody>\n",
       "    <tr>\n",
       "      <th>2019</th>\n",
       "      <td>13186</td>\n",
       "      <td>8307</td>\n",
       "    </tr>\n",
       "    <tr>\n",
       "      <th>2020</th>\n",
       "      <td>12259</td>\n",
       "      <td>5182</td>\n",
       "    </tr>\n",
       "  </tbody>\n",
       "</table>\n",
       "</div>"
      ],
      "text/plain": [
       "      Property Crimes  Violent Crimes\n",
       "YEAR                                 \n",
       "2019            13186            8307\n",
       "2020            12259            5182"
      ]
     },
     "execution_count": 3,
     "metadata": {},
     "output_type": "execute_result"
    }
   ],
   "source": [
    "[editted]"
   ]
  },
  {
   "cell_type": "markdown",
   "id": "c4525529",
   "metadata": {
    "pycharm": {
     "name": "#%% md\n"
    }
   },
   "source": [
    "### Interpretation: For both property crimes and violent crimes, incident counts declined between 2019 and 2020 "
   ]
  },
  {
   "cell_type": "markdown",
   "id": "d9bf04cb",
   "metadata": {
    "pycharm": {
     "name": "#%% md\n"
    }
   },
   "source": [
    "## Task 5.4 Counts the total number of violent vs property crime incidents in each year by district. It follows the procedure of 5.3, but drops null and 'External' values found in the 'DISTRICT' column, before grouping by District then Year"
   ]
  },
  {
   "cell_type": "code",
   "execution_count": 4,
   "id": "07a4b232",
   "metadata": {
    "pycharm": {
     "name": "#%%\n"
    }
   },
   "outputs": [
    {
     "data": {
      "text/html": [
       "<div>\n",
       "<style scoped>\n",
       "    .dataframe tbody tr th:only-of-type {\n",
       "        vertical-align: middle;\n",
       "    }\n",
       "\n",
       "    .dataframe tbody tr th {\n",
       "        vertical-align: top;\n",
       "    }\n",
       "\n",
       "    .dataframe thead th {\n",
       "        text-align: right;\n",
       "    }\n",
       "</style>\n",
       "<table border=\"1\" class=\"dataframe\">\n",
       "  <thead>\n",
       "    <tr style=\"text-align: right;\">\n",
       "      <th></th>\n",
       "      <th></th>\n",
       "      <th>Property Crimes</th>\n",
       "      <th>Violent Crimes</th>\n",
       "    </tr>\n",
       "    <tr>\n",
       "      <th>DISTRICT</th>\n",
       "      <th>YEAR</th>\n",
       "      <th></th>\n",
       "      <th></th>\n",
       "    </tr>\n",
       "  </thead>\n",
       "  <tbody>\n",
       "    <tr>\n",
       "      <th rowspan=\"2\" valign=\"top\">A1</th>\n",
       "      <th>2019</th>\n",
       "      <td>1910</td>\n",
       "      <td>1208</td>\n",
       "    </tr>\n",
       "    <tr>\n",
       "      <th>2020</th>\n",
       "      <td>1501</td>\n",
       "      <td>732</td>\n",
       "    </tr>\n",
       "    <tr>\n",
       "      <th rowspan=\"2\" valign=\"top\">A15</th>\n",
       "      <th>2019</th>\n",
       "      <td>269</td>\n",
       "      <td>152</td>\n",
       "    </tr>\n",
       "    <tr>\n",
       "      <th>2020</th>\n",
       "      <td>337</td>\n",
       "      <td>87</td>\n",
       "    </tr>\n",
       "    <tr>\n",
       "      <th rowspan=\"2\" valign=\"top\">A7</th>\n",
       "      <th>2019</th>\n",
       "      <td>416</td>\n",
       "      <td>329</td>\n",
       "    </tr>\n",
       "    <tr>\n",
       "      <th>2020</th>\n",
       "      <td>512</td>\n",
       "      <td>247</td>\n",
       "    </tr>\n",
       "    <tr>\n",
       "      <th rowspan=\"2\" valign=\"top\">B2</th>\n",
       "      <th>2019</th>\n",
       "      <td>1404</td>\n",
       "      <td>1263</td>\n",
       "    </tr>\n",
       "    <tr>\n",
       "      <th>2020</th>\n",
       "      <td>1415</td>\n",
       "      <td>825</td>\n",
       "    </tr>\n",
       "    <tr>\n",
       "      <th rowspan=\"2\" valign=\"top\">B3</th>\n",
       "      <th>2019</th>\n",
       "      <td>1073</td>\n",
       "      <td>1071</td>\n",
       "    </tr>\n",
       "    <tr>\n",
       "      <th>2020</th>\n",
       "      <td>887</td>\n",
       "      <td>595</td>\n",
       "    </tr>\n",
       "    <tr>\n",
       "      <th rowspan=\"2\" valign=\"top\">C11</th>\n",
       "      <th>2019</th>\n",
       "      <td>1651</td>\n",
       "      <td>1007</td>\n",
       "    </tr>\n",
       "    <tr>\n",
       "      <th>2020</th>\n",
       "      <td>1423</td>\n",
       "      <td>629</td>\n",
       "    </tr>\n",
       "    <tr>\n",
       "      <th rowspan=\"2\" valign=\"top\">C6</th>\n",
       "      <th>2019</th>\n",
       "      <td>956</td>\n",
       "      <td>618</td>\n",
       "    </tr>\n",
       "    <tr>\n",
       "      <th>2020</th>\n",
       "      <td>1132</td>\n",
       "      <td>406</td>\n",
       "    </tr>\n",
       "    <tr>\n",
       "      <th rowspan=\"2\" valign=\"top\">D14</th>\n",
       "      <th>2019</th>\n",
       "      <td>880</td>\n",
       "      <td>419</td>\n",
       "    </tr>\n",
       "    <tr>\n",
       "      <th>2020</th>\n",
       "      <td>960</td>\n",
       "      <td>244</td>\n",
       "    </tr>\n",
       "    <tr>\n",
       "      <th rowspan=\"2\" valign=\"top\">D4</th>\n",
       "      <th>2019</th>\n",
       "      <td>2779</td>\n",
       "      <td>1129</td>\n",
       "    </tr>\n",
       "    <tr>\n",
       "      <th>2020</th>\n",
       "      <td>2536</td>\n",
       "      <td>755</td>\n",
       "    </tr>\n",
       "    <tr>\n",
       "      <th rowspan=\"2\" valign=\"top\">E13</th>\n",
       "      <th>2019</th>\n",
       "      <td>687</td>\n",
       "      <td>428</td>\n",
       "    </tr>\n",
       "    <tr>\n",
       "      <th>2020</th>\n",
       "      <td>569</td>\n",
       "      <td>278</td>\n",
       "    </tr>\n",
       "    <tr>\n",
       "      <th rowspan=\"2\" valign=\"top\">E18</th>\n",
       "      <th>2019</th>\n",
       "      <td>592</td>\n",
       "      <td>345</td>\n",
       "    </tr>\n",
       "    <tr>\n",
       "      <th>2020</th>\n",
       "      <td>476</td>\n",
       "      <td>191</td>\n",
       "    </tr>\n",
       "    <tr>\n",
       "      <th rowspan=\"2\" valign=\"top\">E5</th>\n",
       "      <th>2019</th>\n",
       "      <td>434</td>\n",
       "      <td>249</td>\n",
       "    </tr>\n",
       "    <tr>\n",
       "      <th>2020</th>\n",
       "      <td>459</td>\n",
       "      <td>160</td>\n",
       "    </tr>\n",
       "  </tbody>\n",
       "</table>\n",
       "</div>"
      ],
      "text/plain": [
       "               Property Crimes  Violent Crimes\n",
       "DISTRICT YEAR                                 \n",
       "A1       2019             1910            1208\n",
       "         2020             1501             732\n",
       "A15      2019              269             152\n",
       "         2020              337              87\n",
       "A7       2019              416             329\n",
       "         2020              512             247\n",
       "B2       2019             1404            1263\n",
       "         2020             1415             825\n",
       "B3       2019             1073            1071\n",
       "         2020              887             595\n",
       "C11      2019             1651            1007\n",
       "         2020             1423             629\n",
       "C6       2019              956             618\n",
       "         2020             1132             406\n",
       "D14      2019              880             419\n",
       "         2020              960             244\n",
       "D4       2019             2779            1129\n",
       "         2020             2536             755\n",
       "E13      2019              687             428\n",
       "         2020              569             278\n",
       "E18      2019              592             345\n",
       "         2020              476             191\n",
       "E5       2019              434             249\n",
       "         2020              459             160"
      ]
     },
     "execution_count": 4,
     "metadata": {},
     "output_type": "execute_result"
    }
   ],
   "source": [
    "bcd_pcount2 = bcd_complete[pd.DataFrame(bcd_complete['OFFENSE_CODE'].tolist()).isin(p_crimes).any(1).values].dropna(subset=['DISTRICT'])\n",
    "bcd_pcount2 = bcd_pcount2[bcd_pcount2.DISTRICT != 'External'].groupby(['DISTRICT', 'YEAR'])['INCIDENT_NUMBER'].count()\n",
    "bcd_vcount2 = bcd_complete[pd.DataFrame(bcd_complete['OFFENSE_CODE'].tolist()).isin(v_crimes).any(1).values].dropna(subset=['DISTRICT'])\n",
    "bcd_vcount2 = bcd_vcount2[bcd_vcount2.DISTRICT != 'External'].groupby(['DISTRICT', 'YEAR'])['INCIDENT_NUMBER'].count()\n",
    "\n",
    "freq_pv2 = pd.concat([bcd_pcount2,bcd_vcount2],axis=1)\n",
    "freq_pv2.columns = ['Property Crimes','Violent Crimes']\n",
    "freq_pv2"
   ]
  },
  {
   "cell_type": "markdown",
   "id": "304bee96",
   "metadata": {
    "pycharm": {
     "name": "#%% md\n"
    }
   },
   "source": [
    "### Interpretation: While crime seemed to decline within districts, from 2019 to 2020, there still remains significant variation in the incident counts across district, ranging from a low of 87 in District A15, during 2020, to a high of 2779 in District D4, during 2019."
   ]
  }
 ],
 "metadata": {
  "kernelspec": {
   "display_name": "Python [conda env:compsoc] *",
   "language": "python",
   "name": "conda-env-compsoc-py"
  },
  "language_info": {
   "codemirror_mode": {
    "name": "ipython",
    "version": 3
   },
   "file_extension": ".py",
   "mimetype": "text/x-python",
   "name": "python",
   "nbconvert_exporter": "python",
   "pygments_lexer": "ipython3",
   "version": "3.8.13"
  }
 },
 "nbformat": 4,
 "nbformat_minor": 5
}