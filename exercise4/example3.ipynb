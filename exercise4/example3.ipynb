{
 "cells": [
  {
   "cell_type": "code",
   "execution_count": 8,
   "metadata": {
    "collapsed": true,
    "pycharm": {
     "name": "#%%\n"
    }
   },
   "outputs": [
    {
     "name": "stdout",
     "output_type": "stream",
     "text": [
      "The names \"John Doe\" for males, \"Jane Doe\" or \"Jane Roe\" for females, or \"Jonnie Doe\" and \"Janie Doe\"\n",
      "\n",
      "true identity is unknown or must be withheld in a legal action, case, or discussion. The names are \n",
      "\n",
      "used in the United States and Canada, but is rarely used in other English-speaking countries \n",
      "\n",
      "The names Joe Bloggs or John Smith are used in the UK instead, as well as in Australia and New \n",
      "\n",
      "\n",
      "\n",
      "to John Q. Public, known in Great Britain as Joe Public, John Smith or Joe Bloggs. For example, the \n",
      "\n",
      "information to provide an example of how to fill in the form. The name is also used frequently in \n",
      "\n",
      "2002 American television series.\n",
      "\n",
      "Similarly, a child or baby whose identity is unknown may be referred to as Baby Doe. A notorious \n",
      "\n",
      "female murder victims are Cali Doe and Princess Doe. Additional persons may be called James Doe, Judy \n",
      "\n",
      "specific case or action, the surnames Doe and Roe may be used simultaneously; for example, \"John Doe \n",
      "\n",
      "John Doe #2, etc. (the U.S. Operation Delego cited 21 (numbered) \"John Doe\"s) or labelled with other \n",
      "\n",
      "now rarely used, and Mary Major has been used in some American federal cases.\n",
      "\n",
      "\n",
      "\n",
      "File created by https://www.online-convert.com\n",
      "\n",
      "Text of Example content: Wikipedia (https://en.wikipedia.org/wiki/John_Doe)\n",
      "\n",
      "\n",
      "\n"
     ]
    }
   ],
   "source": [
    "#example.txt printing\n",
    "def txtPrint(file):\n",
    "    with open(file) as f:\n",
    "        for i in range(6):\n",
    "            next(f)\n",
    "        count = 0\n",
    "        for line in f:\n",
    "            count += 1\n",
    "            if count % 2 == 0:\n",
    "                print(line)\n",
    "txtPrint('example.txt')"
   ]
  },
  {
   "cell_type": "code",
   "execution_count": 24,
   "outputs": [
    {
     "name": "stdout",
     "output_type": "stream",
     "text": [
      "Not all elements in the list are numbers.\n",
      "Sum: 33.1\n"
     ]
    }
   ],
   "source": [
    "#sumForTwenty function\n",
    "def sumForTwenty(list):\n",
    "    sumlist = []\n",
    "    for i in list:\n",
    "        typenum = type(i)\n",
    "        if typenum == int or typenum == float:\n",
    "            sumlist.append(i)\n",
    "        else:\n",
    "            print(\"Not all elements in the list are numbers.\")\n",
    "            break\n",
    "    if len(list) == len(sumlist):\n",
    "        numsum = sum(sumlist)\n",
    "        print(\"Sum:\", numsum)\n",
    "list1 = [1,4,8,10.6,9.5, 't']\n",
    "sumForTwenty(list1)\n",
    "list2 = [1,4,8,10.6,9.5]\n",
    "sumForTwenty(list2)"
   ],
   "metadata": {
    "collapsed": false,
    "pycharm": {
     "name": "#%%\n"
    }
   }
  },
  {
   "cell_type": "code",
   "execution_count": 37,
   "outputs": [
    {
     "name": "stdout",
     "output_type": "stream",
     "text": [
      "['a1', 'a2', 'b1', 'b2', 'c1', 'c2']\n"
     ]
    }
   ],
   "source": [
    "#duplicateNames function\n",
    "def duplicateNames(list, int):\n",
    "    duplist = []\n",
    "    for i in list:\n",
    "        duplist += [i + str(j) for j in range(1, int+1)]\n",
    "    print(duplist)\n",
    "\n",
    "list1 = ['a', 'b', 'c']\n",
    "N = 2\n",
    "duplicateNames(list1, N)\n"
   ],
   "metadata": {
    "collapsed": false,
    "pycharm": {
     "name": "#%%\n"
    }
   }
  },
  {
   "cell_type": "code",
   "execution_count": 39,
   "outputs": [
    {
     "name": "stdout",
     "output_type": "stream",
     "text": [
      "michael\n",
      "larry\n",
      "kobe\n"
     ]
    }
   ],
   "source": [
    "#top3Players function\n",
    "def top3Players(dict):\n",
    "    dictlist = list(dict.values())\n",
    "    dictlist.sort(reverse = True)\n",
    "    dictlist = dictlist[:3]\n",
    "    for i in dictlist:\n",
    "        for j in dict.keys():\n",
    "            if dict[j] == i:\n",
    "                print(str(j))\n",
    "dict1 = {'lebron': 70, 'kobe': 80, 'stephen': 75, 'michael': 85, 'larry': 82}\n",
    "top3Players(dict1)"
   ],
   "metadata": {
    "collapsed": false,
    "pycharm": {
     "name": "#%%\n"
    }
   }
  },
  {
   "cell_type": "code",
   "execution_count": null,
   "outputs": [],
   "source": [],
   "metadata": {
    "collapsed": false,
    "pycharm": {
     "name": "#%%\n"
    }
   }
  }
 ],
 "metadata": {
  "kernelspec": {
   "display_name": "Python 3",
   "language": "python",
   "name": "python3"
  },
  "language_info": {
   "codemirror_mode": {
    "name": "ipython",
    "version": 2
   },
   "file_extension": ".py",
   "mimetype": "text/x-python",
   "name": "python",
   "nbconvert_exporter": "python",
   "pygments_lexer": "ipython2",
   "version": "2.7.6"
  }
 },
 "nbformat": 4,
 "nbformat_minor": 0
}