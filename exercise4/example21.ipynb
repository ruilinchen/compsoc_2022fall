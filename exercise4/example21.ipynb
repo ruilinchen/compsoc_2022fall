{
 "cells": [
  {
   "cell_type": "code",
   "execution_count": 60,
   "metadata": {
    "collapsed": true,
    "pycharm": {
     "name": "#%%\n"
    }
   },
   "outputs": [
    {
     "ename": "TypeError",
     "evalue": "readlines expected at most 1 argument, got 2",
     "output_type": "error",
     "traceback": [
      "\u001B[1;31m---------------------------------------------------------------------------\u001B[0m",
      "\u001B[1;31mTypeError\u001B[0m                                 Traceback (most recent call last)",
      "Input \u001B[1;32mIn [60]\u001B[0m, in \u001B[0;36m<cell line: 3>\u001B[1;34m()\u001B[0m\n\u001B[0;32m      1\u001B[0m \u001B[38;5;66;03m#Task 4.1 Read the file “example.txt” that we have used in class, and print out every other line starting from the seventh line.\u001B[39;00m\n\u001B[0;32m      3\u001B[0m \u001B[38;5;28;01mwith\u001B[39;00m \u001B[38;5;28mopen\u001B[39m(\u001B[38;5;124m'\u001B[39m\u001B[38;5;124mexample.txt\u001B[39m\u001B[38;5;124m'\u001B[39m, \u001B[38;5;124m'\u001B[39m\u001B[38;5;124mr\u001B[39m\u001B[38;5;124m'\u001B[39m) \u001B[38;5;28;01mas\u001B[39;00m f:\n\u001B[1;32m----> 4\u001B[0m    lines \u001B[38;5;241m=\u001B[39m \u001B[43mf\u001B[49m\u001B[38;5;241;43m.\u001B[39;49m\u001B[43mreadlines\u001B[49m\u001B[43m(\u001B[49m\u001B[38;5;241;43m7\u001B[39;49m\u001B[43m,\u001B[49m\u001B[38;5;124;43m'\u001B[39;49m\u001B[38;5;124;43m'\u001B[39;49m\u001B[43m \u001B[49m\u001B[43m)\u001B[49m\n\u001B[0;32m      5\u001B[0m even_lines, odd_lines \u001B[38;5;241m=\u001B[39m lines[::\u001B[38;5;241m8\u001B[39m], lines[\u001B[38;5;241m7\u001B[39m::\u001B[38;5;241m8\u001B[39m]\n\u001B[0;32m      6\u001B[0m readlines(\u001B[38;5;124m'\u001B[39m\u001B[38;5;124modd_lines\u001B[39m\u001B[38;5;124m'\u001B[39m)\n",
      "\u001B[1;31mTypeError\u001B[0m: readlines expected at most 1 argument, got 2"
     ]
    }
   ],
   "source": [
    "#Task 4.1 Read the file “example.txt” that we have used in class, and print out every other line starting from the seventh line.\n",
    "\n",
    "with open('example.txt', 'r') as f:\n",
    "   lines = f.readlines(7,'' )\n",
    "even_lines, odd_lines = lines[::8], lines[7::8]\n",
    "f.readlines('odd_lines')\n",
    "\n",
    "#struggling here I could not find code to really support this either"
   ]
  },
  {
   "cell_type": "code",
   "execution_count": null,
   "outputs": [],
   "source": [
    "#Task 4.2 Write a sumForTwenty function. The function takes twenty numbers as input (not as user input, but as function arguments), and prints one value as output. The output should be the sum of the twenty numbers passed to the function. The function should also check for variable types. If any of the numbers is passed as a string type as opposed to an integer or float type, the function will print an error message.\n",
    "from statistics import mean\n",
    "def sumForTwenty(randomlist):\n",
    "    list_avg = mean(randomlist)\n",
    "    return (list_avg)\n",
    "import random\n",
    "randomlist = random.sample(range(0, 300), 20)\n",
    "\n",
    "sumForTwenty(randomlist)\n",
    "\n",
    "#I am not sure what this means: 'not as user input, but as function arguments' so this is the best I could struggle through, and I wasn't able to bring this rule in. I really tried to think this through and work with different pieces of code and not just copy."
   ],
   "metadata": {
    "collapsed": false,
    "pycharm": {
     "name": "#%%\n",
     "is_executing": true
    }
   }
  },
  {
   "cell_type": "code",
   "execution_count": 80,
   "outputs": [
    {
     "ename": "UnboundLocalError",
     "evalue": "local variable 'i' referenced before assignment",
     "output_type": "error",
     "traceback": [
      "\u001B[1;31m---------------------------------------------------------------------------\u001B[0m",
      "\u001B[1;31mUnboundLocalError\u001B[0m                         Traceback (most recent call last)",
      "Input \u001B[1;32mIn [80]\u001B[0m, in \u001B[0;36m<cell line: 10>\u001B[1;34m()\u001B[0m\n\u001B[0;32m      7\u001B[0m x\u001B[38;5;241m=\u001B[39m [\u001B[38;5;124m'\u001B[39m\u001B[38;5;124mT\u001B[39m\u001B[38;5;124m'\u001B[39m, \u001B[38;5;124m'\u001B[39m\u001B[38;5;124mh\u001B[39m\u001B[38;5;124m'\u001B[39m, \u001B[38;5;124m'\u001B[39m\u001B[38;5;124mi\u001B[39m\u001B[38;5;124m'\u001B[39m, \u001B[38;5;124m'\u001B[39m\u001B[38;5;124ms\u001B[39m\u001B[38;5;124m'\u001B[39m, \u001B[38;5;124m'\u001B[39m\u001B[38;5;124mi\u001B[39m\u001B[38;5;124m'\u001B[39m, \u001B[38;5;124m'\u001B[39m\u001B[38;5;124ms\u001B[39m\u001B[38;5;124m'\u001B[39m, \u001B[38;5;124m'\u001B[39m\u001B[38;5;124mh\u001B[39m\u001B[38;5;124m'\u001B[39m, \u001B[38;5;124m'\u001B[39m\u001B[38;5;124ma\u001B[39m\u001B[38;5;124m'\u001B[39m, \u001B[38;5;124m'\u001B[39m\u001B[38;5;124mr\u001B[39m\u001B[38;5;124m'\u001B[39m, \u001B[38;5;124m'\u001B[39m\u001B[38;5;124md\u001B[39m\u001B[38;5;124m'\u001B[39m]\n\u001B[0;32m      8\u001B[0m n\u001B[38;5;241m=\u001B[39m \u001B[38;5;241m4\u001B[39m\n\u001B[1;32m---> 10\u001B[0m \u001B[43mduplicateitems\u001B[49m\u001B[43m(\u001B[49m\u001B[43mx\u001B[49m\u001B[43m)\u001B[49m\n",
      "Input \u001B[1;32mIn [70]\u001B[0m, in \u001B[0;36mduplicateitems\u001B[1;34m(x1)\u001B[0m\n\u001B[0;32m      4\u001B[0m \u001B[38;5;28;01mdef\u001B[39;00m \u001B[38;5;21mduplicateitems\u001B[39m(x1):\n\u001B[1;32m----> 5\u001B[0m     \u001B[38;5;28;01mfor\u001B[39;00m i \u001B[38;5;129;01min\u001B[39;00m x[\u001B[43mi\u001B[49m]:\n\u001B[0;32m      6\u001B[0m         x1\u001B[38;5;241m=\u001B[39m n \u001B[38;5;241m*\u001B[39m x[i]\n",
      "\u001B[1;31mUnboundLocalError\u001B[0m: local variable 'i' referenced before assignment"
     ]
    }
   ],
   "source": [
    "#Task 4.3 Write a duplicateNames function. The function takes a list of string and an integer N as argument, and return another list of string as output. The output duplicates the input list N times and updates the string values by adding an incremental number starting from 1 to them. Example: list = ['a', 'b'], N=3 -> ['a1', 'b1', 'a2', 'b2', 'a3', 'b3'].\n",
    "\n",
    "#first try\n",
    "def duplicateNames():\n",
    "    for i in x[i]:\n",
    "        return n * x[i]\n",
    "x= ['T', 'h', 'i', 's', 'i', 's', 'h', 'a', 'r', 'd']\n",
    "n= 4\n",
    "\n",
    "duplicateitems()\n",
    "\n"
   ],
   "metadata": {
    "collapsed": false,
    "pycharm": {
     "name": "#%%\n"
    }
   }
  },
  {
   "cell_type": "code",
   "execution_count": 57,
   "outputs": [
    {
     "ename": "SyntaxError",
     "evalue": "invalid syntax (4236320874.py, line 4)",
     "output_type": "error",
     "traceback": [
      "\u001B[1;36m  Input \u001B[1;32mIn [57]\u001B[1;36m\u001B[0m\n\u001B[1;33m    return(max,[-2],[-3] for (names_dict, keys:=names_dict.get))\u001B[0m\n\u001B[1;37m                         ^\u001B[0m\n\u001B[1;31mSyntaxError\u001B[0m\u001B[1;31m:\u001B[0m invalid syntax\n"
     ]
    }
   ],
   "source": [
    "#Task 4.4 Write a top3Players function. The function takes a dictionary as argument. This dictionary keeps track of players and their scores. Based on this, the function returns the top 3 players with the highest scores as output. Example: {'lebron': 70, 'kobe': 80, 'stephen': 75, 'michael': 85, 'larry': 82} -> 'michael', 'larry', 'kobe'.\n",
    "def top3Players():\n",
    "    names_dict={}\n",
    "    return(max,[-2],[-3] (names_dict, keys:=names_dict.get))\n",
    "names_dict={\n",
    "    'Irene': 60,\n",
    "    'Jamie':58,\n",
    "    'Tomas': 38,\n",
    "    'Alex':45,\n",
    "    'Ami': 75,\n",
    "    'Viet': 63,\n",
    "    'Guolin':68\n",
    "}\n",
    "top3Players()\n",
    "\n",
    "#I cannot get this code to run"
   ],
   "metadata": {
    "collapsed": false,
    "pycharm": {
     "name": "#%%\n"
    }
   }
  },
  {
   "cell_type": "code",
   "execution_count": null,
   "outputs": [],
   "source": [],
   "metadata": {
    "collapsed": false,
    "pycharm": {
     "name": "#%%\n"
    }
   }
  },
  {
   "cell_type": "code",
   "execution_count": null,
   "outputs": [],
   "source": [],
   "metadata": {
    "collapsed": false,
    "pycharm": {
     "name": "#%%\n"
    }
   }
  }
 ],
 "metadata": {
  "kernelspec": {
   "display_name": "Python 3",
   "language": "python",
   "name": "python3"
  },
  "language_info": {
   "codemirror_mode": {
    "name": "ipython",
    "version": 2
   },
   "file_extension": ".py",
   "mimetype": "text/x-python",
   "name": "python",
   "nbconvert_exporter": "python",
   "pygments_lexer": "ipython2",
   "version": "2.7.6"
  }
 },
 "nbformat": 4,
 "nbformat_minor": 0
}