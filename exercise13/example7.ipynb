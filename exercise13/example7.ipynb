{
 "cells": [
  {
   "cell_type": "code",
   "execution_count": 1,
   "id": "f3718daa",
   "metadata": {
    "pycharm": {
     "name": "#%%\n"
    }
   },
   "outputs": [],
   "source": [
    "import os\n",
    "import numpy as np\n",
    "import pandas as pd\n",
    "import spacy\n",
    "import re\n",
    "from tqdm import tqdm"
   ]
  },
  {
   "cell_type": "code",
   "execution_count": 2,
   "id": "e9b80a2f",
   "metadata": {
    "pycharm": {
     "name": "#%%\n"
    }
   },
   "outputs": [],
   "source": [
    "nlp = spacy.load('en_core_web_sm')"
   ]
  },
  {
   "cell_type": "code",
   "execution_count": 3,
   "id": "a0ee7c2e",
   "metadata": {
    "pycharm": {
     "name": "#%%\n"
    }
   },
   "outputs": [],
   "source": [
    "os.chdir('E:\\[editted]\\code\\homework1')"
   ]
  },
  {
   "cell_type": "code",
   "execution_count": 4,
   "id": "90c963ea",
   "metadata": {
    "pycharm": {
     "name": "#%%\n"
    }
   },
   "outputs": [],
   "source": [
    "###combine dataframe\n",
    "dfs=[]\n",
    "headers=['URL','Job Title','Company','Company URL','Company Location','Job Description']\n",
    "for filename in os.scandir('job_info_data'):\n",
    "  if filename.is_file():\n",
    "        if '522' in filename.path:\n",
    "            data=pd.read_csv(filename.path,delimiter=',')\n",
    "            data.columns=headers #make headers match\n",
    "            dfs.append(data)\n",
    "            df=pd.concat(dfs)"
   ]
  },
  {
   "cell_type": "code",
   "execution_count": 5,
   "id": "fc64bd00",
   "metadata": {
    "pycharm": {
     "name": "#%%\n"
    }
   },
   "outputs": [],
   "source": [
    "df=df[df[\"Job Title\"].notnull()]\n",
    "df=df[df[\"Job Description\"].notnull()]\n",
    "df=df.drop_duplicates('URL').reset_index(drop=True)##not sure if need to drop duplicates but I drop them"
   ]
  },
  {
   "cell_type": "markdown",
   "id": "1cd9c067",
   "metadata": {
    "pycharm": {
     "name": "#%% md\n"
    }
   },
   "source": [
    "Task 1. Create one pandas dataframe that combines all the data scraped from May 22, 2022 together. Drop rows with missing job titles and/or job descriptions. Use `spacy` to tokenize all the job titles included in the cleaned dataframe. For each job title, find all the nouns and all the adjectives in the title and get their lowercased lemmatized form. Use the reformatted nouns to construct a vocabulary set for this dataframe. How many unique nouns are there? Construct another vocabulary set using the reformatted adjectives. How many unique adjectives are there? What kind of different information do the nouns versus the adjectives reveal about the specific job? "
   ]
  },
  {
   "cell_type": "code",
   "execution_count": 12,
   "id": "cdde5994",
   "metadata": {
    "pycharm": {
     "name": "#%%\n"
    }
   },
   "outputs": [
    {
     "name": "stderr",
     "output_type": "stream",
     "text": [
      "100%|█████████████████████████████████████████████████████████████████████████████| 3554/3554 [00:20<00:00, 172.92it/s]"
     ]
    },
    {
     "name": "stdout",
     "output_type": "stream",
     "text": [
      "there are 2100 unique nouns among indeed job titles\n"
     ]
    },
    {
     "name": "stderr",
     "output_type": "stream",
     "text": [
      "\n"
     ]
    }
   ],
   "source": [
    "vocab_with_freq = dict()\n",
    "\n",
    "for i in tqdm(range(len(df))):\n",
    "    job_title = df.loc[i, 'Job Title']\n",
    "    for token in nlp(job_title):\n",
    "                if token.pos_=='NOUN' or token.pos_=='PROPN':\n",
    "                    vocab_with_freq[token.lemma_.lower()] = vocab_with_freq.get(token.lemma_.lower(), 0) + 1\n",
    "\n",
    "vocabulary_list1 = list(vocab_with_freq.keys())\n",
    "print('there are', len(vocabulary_list1), 'unique nouns among indeed job titles')        "
   ]
  },
  {
   "cell_type": "code",
   "execution_count": 7,
   "id": "e9399e4f",
   "metadata": {
    "pycharm": {
     "name": "#%%\n"
    }
   },
   "outputs": [
    {
     "name": "stderr",
     "output_type": "stream",
     "text": [
      "100%|██████████████████████████████████████████████████████████████████████████████| 3554/3554 [00:35<00:00, 99.18it/s]"
     ]
    },
    {
     "name": "stdout",
     "output_type": "stream",
     "text": [
      "there are 84 unique adjectives among indeed job titles\n"
     ]
    },
    {
     "name": "stderr",
     "output_type": "stream",
     "text": [
      "\n"
     ]
    }
   ],
   "source": [
    "vocab_with_freq2 = dict()\n",
    "\n",
    "for i in tqdm(range(len(df))):\n",
    "    job_title = df.loc[i, 'Job Title']\n",
    "    for token in nlp(job_title):\n",
    "            if token.pos_=='ADJ':\n",
    "                vocab_with_freq2[token.lemma_.lower()] = vocab_with_freq2.get(token.lemma_.lower(), 0) + 1\n",
    "\n",
    "vocabulary_list2 = list(vocab_with_freq2.keys())\n",
    "print('there are', len(vocabulary_list2), 'unique adjectives among indeed job titles')  "
   ]
  },
  {
   "cell_type": "markdown",
   "id": "7f7dfc11",
   "metadata": {
    "pycharm": {
     "name": "#%% md\n"
    }
   },
   "source": [
    "Task 2. Choose the first job title in your dataframe as the primary string. Use one-hot encoding as the word embedding method and find jobs in your cleaned dataframe that have similar nouns in the title as your primary string. "
   ]
  },
  {
   "cell_type": "code",
   "execution_count": 50,
   "id": "d520e6a3",
   "metadata": {
    "pycharm": {
     "name": "#%%\n"
    }
   },
   "outputs": [
    {
     "name": "stdout",
     "output_type": "stream",
     "text": [
      "pharmacy\n",
      "technician\n",
      "ii\n",
      "-retail\n",
      "pharmacy\n"
     ]
    }
   ],
   "source": [
    "job_title = df.loc[0, 'Job Title'] \n",
    "token_indices = []\n",
    "\n",
    "for token in nlp(job_title):\n",
    "            if token.pos_=='NOUN'or token.pos_=='PROPN':\n",
    "                 print(token.lemma_.lower())\n",
    "          "
   ]
  },
  {
   "cell_type": "code",
   "execution_count": 44,
   "id": "c4142df9",
   "metadata": {
    "pycharm": {
     "name": "#%%\n"
    }
   },
   "outputs": [
    {
     "name": "stderr",
     "output_type": "stream",
     "text": [
      "100%|█████████████████████████████████████████████████████████████████████████████| 3554/3554 [00:18<00:00, 192.49it/s]\n"
     ]
    }
   ],
   "source": [
    "one_hot_encodings = []\n",
    "existent = []\n",
    "\n",
    "for i in tqdm(range(len(df))):\n",
    "    job_title = df.loc[i, 'Job Title'] \n",
    "    token_indices = []\n",
    "    \n",
    "\n",
    "    for token in nlp(job_title):\n",
    "            if  token.pos_=='NOUN'or token.pos_=='PROPN':\n",
    "                token_index_in_vocab = vocabulary_list1.index(token.lemma_.lower())\n",
    "                token_indices.append(token_index_in_vocab)\n",
    "\n",
    "    one_hot_encoding = np.zeros(len(vocabulary_list1))\n",
    "    if token_indices:\n",
    "        existent.append(i)\n",
    "    for token_index in token_indices:\n",
    "        one_hot_encoding[token_index] = 1\n",
    "\n",
    "    one_hot_encodings.append(one_hot_encoding)"
   ]
  },
  {
   "cell_type": "code",
   "execution_count": 46,
   "id": "10d4106f",
   "metadata": {
    "pycharm": {
     "name": "#%%\n"
    }
   },
   "outputs": [],
   "source": [
    "from scipy.spatial.distance import cosine\n",
    "\n",
    "title_a = df.loc[0, 'Job Title']\n",
    "similarity_values = []\n",
    "for i in range(1, len(df)):\n",
    "    if i in existent:\n",
    "        similarity_value = 1 - cosine(one_hot_encodings[0], one_hot_encodings[i])\n",
    "        similarity_values.append(similarity_value)\n",
    "    else:\n",
    "        similarity_values.append(np.nan)"
   ]
  },
  {
   "cell_type": "code",
   "execution_count": 47,
   "id": "a58d6169",
   "metadata": {
    "pycharm": {
     "name": "#%%\n"
    }
   },
   "outputs": [
    {
     "data": {
      "text/html": [
       "<div>\n",
       "<style scoped>\n",
       "    .dataframe tbody tr th:only-of-type {\n",
       "        vertical-align: middle;\n",
       "    }\n",
       "\n",
       "    .dataframe tbody tr th {\n",
       "        vertical-align: top;\n",
       "    }\n",
       "\n",
       "    .dataframe thead th {\n",
       "        text-align: right;\n",
       "    }\n",
       "</style>\n",
       "<table border=\"1\" class=\"dataframe\">\n",
       "  <thead>\n",
       "    <tr style=\"text-align: right;\">\n",
       "      <th></th>\n",
       "      <th>job_title</th>\n",
       "      <th>similarity_value_with_one_hot</th>\n",
       "    </tr>\n",
       "  </thead>\n",
       "  <tbody>\n",
       "    <tr>\n",
       "      <th>437</th>\n",
       "      <td>Pharmacy Technician</td>\n",
       "      <td>0.707107</td>\n",
       "    </tr>\n",
       "    <tr>\n",
       "      <th>471</th>\n",
       "      <td>Pharmacy Technician</td>\n",
       "      <td>0.707107</td>\n",
       "    </tr>\n",
       "    <tr>\n",
       "      <th>774</th>\n",
       "      <td>Pharmacy Technician</td>\n",
       "      <td>0.707107</td>\n",
       "    </tr>\n",
       "    <tr>\n",
       "      <th>800</th>\n",
       "      <td>Pharmacy Technician</td>\n",
       "      <td>0.707107</td>\n",
       "    </tr>\n",
       "    <tr>\n",
       "      <th>824</th>\n",
       "      <td>Pharmacy Technician</td>\n",
       "      <td>0.707107</td>\n",
       "    </tr>\n",
       "    <tr>\n",
       "      <th>1006</th>\n",
       "      <td>Nationally Certified Pharmacy Technician</td>\n",
       "      <td>0.707107</td>\n",
       "    </tr>\n",
       "    <tr>\n",
       "      <th>1858</th>\n",
       "      <td>Pharmacy Technician</td>\n",
       "      <td>0.707107</td>\n",
       "    </tr>\n",
       "    <tr>\n",
       "      <th>1908</th>\n",
       "      <td>Pharmacy Technician</td>\n",
       "      <td>0.707107</td>\n",
       "    </tr>\n",
       "    <tr>\n",
       "      <th>2269</th>\n",
       "      <td>Pharmacy Technician</td>\n",
       "      <td>0.707107</td>\n",
       "    </tr>\n",
       "    <tr>\n",
       "      <th>2907</th>\n",
       "      <td>Pharmacy Technician</td>\n",
       "      <td>0.707107</td>\n",
       "    </tr>\n",
       "    <tr>\n",
       "      <th>3231</th>\n",
       "      <td>Nationally Certified Pharmacy Technician</td>\n",
       "      <td>0.707107</td>\n",
       "    </tr>\n",
       "    <tr>\n",
       "      <th>323</th>\n",
       "      <td>Pharmacy POS Billing Technician</td>\n",
       "      <td>0.577350</td>\n",
       "    </tr>\n",
       "    <tr>\n",
       "      <th>3497</th>\n",
       "      <td>Lab Technician II-III</td>\n",
       "      <td>0.577350</td>\n",
       "    </tr>\n",
       "    <tr>\n",
       "      <th>631</th>\n",
       "      <td>Administrative Technician</td>\n",
       "      <td>0.500000</td>\n",
       "    </tr>\n",
       "    <tr>\n",
       "      <th>1079</th>\n",
       "      <td>TELEMETRY TECHNICIAN</td>\n",
       "      <td>0.500000</td>\n",
       "    </tr>\n",
       "    <tr>\n",
       "      <th>1273</th>\n",
       "      <td>SAFETY TECHNICIAN</td>\n",
       "      <td>0.500000</td>\n",
       "    </tr>\n",
       "    <tr>\n",
       "      <th>1977</th>\n",
       "      <td>SAFETY TECHNICIAN</td>\n",
       "      <td>0.500000</td>\n",
       "    </tr>\n",
       "    <tr>\n",
       "      <th>2105</th>\n",
       "      <td>Regulatory Technician</td>\n",
       "      <td>0.500000</td>\n",
       "    </tr>\n",
       "    <tr>\n",
       "      <th>2486</th>\n",
       "      <td>SAFETY TECHNICIAN</td>\n",
       "      <td>0.500000</td>\n",
       "    </tr>\n",
       "    <tr>\n",
       "      <th>2493</th>\n",
       "      <td>Environmental Technician</td>\n",
       "      <td>0.500000</td>\n",
       "    </tr>\n",
       "    <tr>\n",
       "      <th>2520</th>\n",
       "      <td>Environmental Technician</td>\n",
       "      <td>0.500000</td>\n",
       "    </tr>\n",
       "    <tr>\n",
       "      <th>625</th>\n",
       "      <td>Pharmacy Technician - White Bear Lake Downtown</td>\n",
       "      <td>0.408248</td>\n",
       "    </tr>\n",
       "    <tr>\n",
       "      <th>813</th>\n",
       "      <td>Pharmacy Technician - Infusion Quality and Com...</td>\n",
       "      <td>0.408248</td>\n",
       "    </tr>\n",
       "    <tr>\n",
       "      <th>1199</th>\n",
       "      <td>Pharmacy Technician (Part-time) *South Philade...</td>\n",
       "      <td>0.408248</td>\n",
       "    </tr>\n",
       "    <tr>\n",
       "      <th>56</th>\n",
       "      <td>Accountant II</td>\n",
       "      <td>0.353553</td>\n",
       "    </tr>\n",
       "    <tr>\n",
       "      <th>74</th>\n",
       "      <td>I&amp;E Technician</td>\n",
       "      <td>0.353553</td>\n",
       "    </tr>\n",
       "    <tr>\n",
       "      <th>189</th>\n",
       "      <td>Refrigeration Technician</td>\n",
       "      <td>0.353553</td>\n",
       "    </tr>\n",
       "    <tr>\n",
       "      <th>370</th>\n",
       "      <td>Universal Banker II</td>\n",
       "      <td>0.353553</td>\n",
       "    </tr>\n",
       "    <tr>\n",
       "      <th>417</th>\n",
       "      <td>Quality Technician</td>\n",
       "      <td>0.353553</td>\n",
       "    </tr>\n",
       "    <tr>\n",
       "      <th>649</th>\n",
       "      <td>Survey Technician</td>\n",
       "      <td>0.353553</td>\n",
       "    </tr>\n",
       "    <tr>\n",
       "      <th>684</th>\n",
       "      <td>Commercial Maintenance Technician</td>\n",
       "      <td>0.353553</td>\n",
       "    </tr>\n",
       "    <tr>\n",
       "      <th>765</th>\n",
       "      <td>Service Technician</td>\n",
       "      <td>0.353553</td>\n",
       "    </tr>\n",
       "    <tr>\n",
       "      <th>848</th>\n",
       "      <td>Registered Nurse II</td>\n",
       "      <td>0.353553</td>\n",
       "    </tr>\n",
       "    <tr>\n",
       "      <th>949</th>\n",
       "      <td>Inspector II</td>\n",
       "      <td>0.353553</td>\n",
       "    </tr>\n",
       "    <tr>\n",
       "      <th>1001</th>\n",
       "      <td>Metrology Technician</td>\n",
       "      <td>0.353553</td>\n",
       "    </tr>\n",
       "    <tr>\n",
       "      <th>1018</th>\n",
       "      <td>CAD Technician</td>\n",
       "      <td>0.353553</td>\n",
       "    </tr>\n",
       "    <tr>\n",
       "      <th>1063</th>\n",
       "      <td>TELLER II</td>\n",
       "      <td>0.353553</td>\n",
       "    </tr>\n",
       "    <tr>\n",
       "      <th>1168</th>\n",
       "      <td>Field Technician</td>\n",
       "      <td>0.353553</td>\n",
       "    </tr>\n",
       "    <tr>\n",
       "      <th>1243</th>\n",
       "      <td>Floor Technician</td>\n",
       "      <td>0.353553</td>\n",
       "    </tr>\n",
       "    <tr>\n",
       "      <th>1394</th>\n",
       "      <td>Maintenance Technician</td>\n",
       "      <td>0.353553</td>\n",
       "    </tr>\n",
       "    <tr>\n",
       "      <th>1635</th>\n",
       "      <td>Safety Technician II</td>\n",
       "      <td>0.353553</td>\n",
       "    </tr>\n",
       "    <tr>\n",
       "      <th>1703</th>\n",
       "      <td>HVAC Technician</td>\n",
       "      <td>0.353553</td>\n",
       "    </tr>\n",
       "    <tr>\n",
       "      <th>1719</th>\n",
       "      <td>Program Technician 2</td>\n",
       "      <td>0.353553</td>\n",
       "    </tr>\n",
       "    <tr>\n",
       "      <th>1741</th>\n",
       "      <td>Maintenance Technician</td>\n",
       "      <td>0.353553</td>\n",
       "    </tr>\n",
       "    <tr>\n",
       "      <th>1955</th>\n",
       "      <td>ED Technician I</td>\n",
       "      <td>0.353553</td>\n",
       "    </tr>\n",
       "    <tr>\n",
       "      <th>2007</th>\n",
       "      <td>Service Technician</td>\n",
       "      <td>0.353553</td>\n",
       "    </tr>\n",
       "    <tr>\n",
       "      <th>2063</th>\n",
       "      <td>Service Technician</td>\n",
       "      <td>0.353553</td>\n",
       "    </tr>\n",
       "    <tr>\n",
       "      <th>2162</th>\n",
       "      <td>Manufacturing Associate II</td>\n",
       "      <td>0.353553</td>\n",
       "    </tr>\n",
       "    <tr>\n",
       "      <th>2178</th>\n",
       "      <td>Commercial Maintenance Technician</td>\n",
       "      <td>0.353553</td>\n",
       "    </tr>\n",
       "    <tr>\n",
       "      <th>2239</th>\n",
       "      <td>Laboratory Technician</td>\n",
       "      <td>0.353553</td>\n",
       "    </tr>\n",
       "    <tr>\n",
       "      <th>2320</th>\n",
       "      <td>Microbiologist II</td>\n",
       "      <td>0.353553</td>\n",
       "    </tr>\n",
       "    <tr>\n",
       "      <th>2321</th>\n",
       "      <td>clinical medical physicist II</td>\n",
       "      <td>0.353553</td>\n",
       "    </tr>\n",
       "    <tr>\n",
       "      <th>2500</th>\n",
       "      <td>Scrub Technician</td>\n",
       "      <td>0.353553</td>\n",
       "    </tr>\n",
       "    <tr>\n",
       "      <th>2526</th>\n",
       "      <td>Senior Maintenance Technician</td>\n",
       "      <td>0.353553</td>\n",
       "    </tr>\n",
       "    <tr>\n",
       "      <th>2784</th>\n",
       "      <td>I&amp;E Technician</td>\n",
       "      <td>0.353553</td>\n",
       "    </tr>\n",
       "    <tr>\n",
       "      <th>2854</th>\n",
       "      <td>ITC Technician</td>\n",
       "      <td>0.353553</td>\n",
       "    </tr>\n",
       "    <tr>\n",
       "      <th>2972</th>\n",
       "      <td>Laboratory Technician</td>\n",
       "      <td>0.353553</td>\n",
       "    </tr>\n",
       "    <tr>\n",
       "      <th>3008</th>\n",
       "      <td>Sharps Technician</td>\n",
       "      <td>0.353553</td>\n",
       "    </tr>\n",
       "    <tr>\n",
       "      <th>3529</th>\n",
       "      <td>Manufacturing Associate II</td>\n",
       "      <td>0.353553</td>\n",
       "    </tr>\n",
       "    <tr>\n",
       "      <th>3538</th>\n",
       "      <td>HVAC Technician</td>\n",
       "      <td>0.353553</td>\n",
       "    </tr>\n",
       "  </tbody>\n",
       "</table>\n",
       "</div>"
      ],
      "text/plain": [
       "                                              job_title  \\\n",
       "437                                 Pharmacy Technician   \n",
       "471                                 Pharmacy Technician   \n",
       "774                                 Pharmacy Technician   \n",
       "800                                 Pharmacy Technician   \n",
       "824                                 Pharmacy Technician   \n",
       "1006           Nationally Certified Pharmacy Technician   \n",
       "1858                                Pharmacy Technician   \n",
       "1908                                Pharmacy Technician   \n",
       "2269                                Pharmacy Technician   \n",
       "2907                                Pharmacy Technician   \n",
       "3231           Nationally Certified Pharmacy Technician   \n",
       "323                     Pharmacy POS Billing Technician   \n",
       "3497                              Lab Technician II-III   \n",
       "631                           Administrative Technician   \n",
       "1079                               TELEMETRY TECHNICIAN   \n",
       "1273                                  SAFETY TECHNICIAN   \n",
       "1977                                  SAFETY TECHNICIAN   \n",
       "2105                              Regulatory Technician   \n",
       "2486                                  SAFETY TECHNICIAN   \n",
       "2493                           Environmental Technician   \n",
       "2520                           Environmental Technician   \n",
       "625      Pharmacy Technician - White Bear Lake Downtown   \n",
       "813   Pharmacy Technician - Infusion Quality and Com...   \n",
       "1199  Pharmacy Technician (Part-time) *South Philade...   \n",
       "56                                        Accountant II   \n",
       "74                                       I&E Technician   \n",
       "189                            Refrigeration Technician   \n",
       "370                                 Universal Banker II   \n",
       "417                                  Quality Technician   \n",
       "649                                   Survey Technician   \n",
       "684                   Commercial Maintenance Technician   \n",
       "765                                  Service Technician   \n",
       "848                                 Registered Nurse II   \n",
       "949                                        Inspector II   \n",
       "1001                               Metrology Technician   \n",
       "1018                                     CAD Technician   \n",
       "1063                                          TELLER II   \n",
       "1168                                   Field Technician   \n",
       "1243                                   Floor Technician   \n",
       "1394                             Maintenance Technician   \n",
       "1635                               Safety Technician II   \n",
       "1703                                    HVAC Technician   \n",
       "1719                               Program Technician 2   \n",
       "1741                             Maintenance Technician   \n",
       "1955                                    ED Technician I   \n",
       "2007                                 Service Technician   \n",
       "2063                                 Service Technician   \n",
       "2162                         Manufacturing Associate II   \n",
       "2178                  Commercial Maintenance Technician   \n",
       "2239                              Laboratory Technician   \n",
       "2320                                  Microbiologist II   \n",
       "2321                      clinical medical physicist II   \n",
       "2500                                   Scrub Technician   \n",
       "2526                      Senior Maintenance Technician   \n",
       "2784                                     I&E Technician   \n",
       "2854                                     ITC Technician   \n",
       "2972                              Laboratory Technician   \n",
       "3008                                  Sharps Technician   \n",
       "3529                         Manufacturing Associate II   \n",
       "3538                                    HVAC Technician   \n",
       "\n",
       "      similarity_value_with_one_hot  \n",
       "437                        0.707107  \n",
       "471                        0.707107  \n",
       "774                        0.707107  \n",
       "800                        0.707107  \n",
       "824                        0.707107  \n",
       "1006                       0.707107  \n",
       "1858                       0.707107  \n",
       "1908                       0.707107  \n",
       "2269                       0.707107  \n",
       "2907                       0.707107  \n",
       "3231                       0.707107  \n",
       "323                        0.577350  \n",
       "3497                       0.577350  \n",
       "631                        0.500000  \n",
       "1079                       0.500000  \n",
       "1273                       0.500000  \n",
       "1977                       0.500000  \n",
       "2105                       0.500000  \n",
       "2486                       0.500000  \n",
       "2493                       0.500000  \n",
       "2520                       0.500000  \n",
       "625                        0.408248  \n",
       "813                        0.408248  \n",
       "1199                       0.408248  \n",
       "56                         0.353553  \n",
       "74                         0.353553  \n",
       "189                        0.353553  \n",
       "370                        0.353553  \n",
       "417                        0.353553  \n",
       "649                        0.353553  \n",
       "684                        0.353553  \n",
       "765                        0.353553  \n",
       "848                        0.353553  \n",
       "949                        0.353553  \n",
       "1001                       0.353553  \n",
       "1018                       0.353553  \n",
       "1063                       0.353553  \n",
       "1168                       0.353553  \n",
       "1243                       0.353553  \n",
       "1394                       0.353553  \n",
       "1635                       0.353553  \n",
       "1703                       0.353553  \n",
       "1719                       0.353553  \n",
       "1741                       0.353553  \n",
       "1955                       0.353553  \n",
       "2007                       0.353553  \n",
       "2063                       0.353553  \n",
       "2162                       0.353553  \n",
       "2178                       0.353553  \n",
       "2239                       0.353553  \n",
       "2320                       0.353553  \n",
       "2321                       0.353553  \n",
       "2500                       0.353553  \n",
       "2526                       0.353553  \n",
       "2784                       0.353553  \n",
       "2854                       0.353553  \n",
       "2972                       0.353553  \n",
       "3008                       0.353553  \n",
       "3529                       0.353553  \n",
       "3538                       0.353553  "
      ]
     },
     "execution_count": 47,
     "metadata": {},
     "output_type": "execute_result"
    }
   ],
   "source": [
    "similar_df = pd.DataFrame(columns=['job_title', 'similarity_value_with_one_hot'])\n",
    "similar_df['job_title'] = df.loc[1:, 'Job Title']\n",
    "similar_df['similarity_value_with_one_hot'] = similarity_values\n",
    "\n",
    "similar_df.sort_values(by='similarity_value_with_one_hot', ascending=False)\n",
    "similar_df.nlargest(60, 'similarity_value_with_one_hot')"
   ]
  },
  {
   "cell_type": "markdown",
   "id": "2d90e865",
   "metadata": {
    "pycharm": {
     "name": "#%% md\n"
    }
   },
   "source": [
    "word vector"
   ]
  },
  {
   "cell_type": "code",
   "execution_count": 24,
   "id": "7c11f830",
   "metadata": {
    "pycharm": {
     "name": "#%%\n"
    }
   },
   "outputs": [
    {
     "name": "stdout",
     "output_type": "stream",
     "text": [
      "pharmacy\n",
      "[ 0.5329317   0.160685   -0.5223515   0.80456847 -0.34936082  0.691764\n",
      " -1.3658403   0.31263214  0.5571234   0.08278453  1.3027737  -0.09548701\n",
      "  0.26102644  0.33520383 -0.59733295  0.33713377  1.5453093  -0.07921885\n",
      "  0.6418117  -0.42891258  0.2758968  -0.984888   -0.360137   -0.7650051\n",
      "  0.9531846   0.5456793  -0.26387167  1.5937123   0.5114108   0.83167154\n",
      "  0.36495885  0.04516274 -1.015482   -0.45563123  0.18730639 -1.0458035\n",
      "  0.16175903  0.28529122 -0.90085614  1.4278584  -0.6499713   0.17930278\n",
      " -0.74243826 -1.302859    1.5725551  -0.36354285  0.5514792  -0.01359016\n",
      " -1.196868   -1.5602034   0.34736043  0.42733163 -0.43997997 -1.3551067\n",
      "  1.0745281  -0.03383554  0.9676018  -0.5148288  -1.4490203   0.12455095\n",
      " -0.9580579   0.44441816  1.6824095   0.0858326  -0.08211006 -0.7378588\n",
      " -0.24343312  0.7857573   0.14963377 -0.6974355   0.10117382  0.46376204\n",
      " -0.4656161  -0.8130659  -0.37113512  1.5239341  -0.349994    0.6277942\n",
      " -0.38428846  1.54196     0.21696147 -1.1119186   0.93046665  0.13653064\n",
      "  0.9711057  -0.10843146 -0.02732452 -0.7797782  -0.30635357 -0.02864337\n",
      " -1.5839403  -0.8934951  -0.9512931   0.23752683 -1.1060562  -0.09285853] 96\n",
      "technician\n",
      "[ 1.6368916  -0.01818144 -0.6422049  -0.05283752  0.5125607  -0.52752566\n",
      " -0.12992586  0.67731833  0.12402812  0.12629844  0.80018294  0.43819296\n",
      "  0.16444439 -0.85691595 -0.33189636  0.50923014  0.91238797 -1.4440095\n",
      "  0.06008     1.5529301  -0.48457828 -0.5417572   0.8535944   1.4301844\n",
      "  1.2709129  -0.66861933 -0.35088277 -0.18432568 -1.290578    0.02631506\n",
      " -1.047152    0.18563476 -0.10728675  0.5057961   1.0001976  -0.6239433\n",
      "  0.6057848   0.608986   -1.089649    0.8512625  -0.72521305 -0.43880242\n",
      "  0.37904376 -1.4177475   0.30159208 -0.67745626  0.92773545  1.4833031\n",
      " -0.46746492 -0.05411657  0.9681817  -0.36153275 -0.8999823  -1.0849061\n",
      " -0.52041423  1.5488775   0.65176606 -0.7362454  -0.66979015  1.3381342\n",
      "  0.13927263 -0.6663834  -0.51730055 -0.9322704  -0.04361451 -0.43623027\n",
      "  0.06027126 -0.3054439  -0.49304417 -0.7951174   0.98615384  0.1610584\n",
      "  1.1366959  -0.1252116   0.19983214  1.3167179  -0.58969915  0.50947\n",
      " -0.07143904 -0.9454988   0.01382151 -1.5107384   0.21773687 -0.95866615\n",
      " -0.7948696   0.6397805  -0.00496137 -0.7675257  -0.30562988 -0.25469193\n",
      "  0.05202889 -1.2019893  -0.59435135 -0.47013113 -0.03047605  0.588072  ] 96\n",
      "ii\n",
      "[ 1.3663116e-01 -8.6345828e-01 -4.5606706e-01 -3.8458997e-01\n",
      "  1.0620630e+00  8.0209225e-02 -8.8067031e-01  9.2511058e-01\n",
      "  5.9846365e-01  3.2229707e-01  1.1867464e+00  1.7503760e+00\n",
      " -1.0717802e+00  6.4077067e-01  1.0765318e+00  9.9114865e-01\n",
      " -4.5719120e-01  3.7056321e-01  1.9338618e-01  1.9901279e-01\n",
      "  9.8008484e-01 -9.4331694e-01  1.3187307e+00  7.6394993e-01\n",
      " -4.6721083e-01  8.4584624e-02 -1.0048701e+00 -8.3290190e-02\n",
      " -1.1233856e-01 -8.9294755e-01  3.9760500e-01 -1.6294561e-01\n",
      " -1.0112226e-01 -1.1624546e+00  2.0126159e+00 -2.0957035e-01\n",
      " -5.4530442e-02  2.5080734e-01 -6.5672648e-01 -2.0015523e+00\n",
      " -6.0765696e-01 -1.3207540e-01 -1.3290474e+00 -2.2526798e+00\n",
      "  2.4706988e+00  1.7757267e-02  2.0327134e+00  3.3833823e-01\n",
      " -8.8739455e-02  6.5519047e-01  3.6391366e-01  3.9919677e-01\n",
      " -5.0850213e-05 -8.5491389e-01  5.1152104e-01 -5.8440190e-02\n",
      "  2.1134086e+00 -2.2865003e-01 -1.0743409e+00  2.8096777e-01\n",
      " -9.6117723e-01 -1.2982577e-01  8.9532381e-01 -1.1128782e+00\n",
      "  2.0605639e-01 -3.6900914e-01  3.2282674e-01 -8.4356153e-01\n",
      " -2.4919885e-01  9.2113927e-02  2.4155231e+00 -5.4640079e-01\n",
      "  3.0705661e-01 -4.7668877e-01  2.6374862e-01 -1.0852433e+00\n",
      "  3.4003600e-01  3.8566992e-01 -4.9332547e-01  3.7502882e-01\n",
      " -4.1977990e-01 -6.9531476e-01 -1.1756033e-01 -3.7785672e-02\n",
      "  1.6885762e+00 -8.1513751e-01 -1.0562032e-01 -1.2776893e+00\n",
      " -7.3057115e-02 -1.0204718e+00  1.0750246e+00 -6.7620897e-01\n",
      " -8.4514922e-01 -1.2392352e+00 -7.2693944e-01  8.9453399e-01] 96\n",
      "pharmacy\n",
      "[ 0.7897225   0.73693687  0.00728887 -0.2009649  -0.32277673  0.6997743\n",
      " -0.93365645  0.39366126  0.20984408 -0.33141187  0.6213643  -0.47029388\n",
      " -0.10566904  1.4747806   0.09272175  0.6153429   0.53710896  0.61391306\n",
      "  0.43357152 -0.9314701   0.7939178  -0.9227922  -0.653474    0.11093995\n",
      "  1.1813898   0.6230574   0.13626249  0.7186463   0.24146318  1.6540856\n",
      "  0.41290092  0.01278408 -1.8756348  -0.4631098  -0.5512182   0.04375875\n",
      " -0.41993898 -0.36506927 -0.18639457 -0.35482854  0.14785297 -0.02708015\n",
      " -1.2020276  -0.7962904   0.4329403  -1.7639433   0.29890394  0.7332835\n",
      " -0.1702263   0.14417064 -0.2492108   0.01330306 -0.567139   -1.3628888\n",
      "  0.34642696  0.10291615 -0.4757756  -0.64610636 -0.9534393   0.32647732\n",
      "  0.01286374  0.20239457  0.18843156  0.4952349   0.23407413 -0.6579567\n",
      " -0.5030966   1.2009366   0.02845815 -0.8589495  -0.02770305 -0.27681607\n",
      " -0.1975384  -0.34088284 -0.22724023  1.37723     0.30907276  1.0431792\n",
      " -1.0312974   2.1097922  -0.00403225 -0.7336943   0.93979603  0.02747235\n",
      "  0.4494588   0.38561785  0.255054   -0.93908703 -1.6043186   0.5126051\n",
      " -1.4690475  -0.65304685 -1.6752205   1.0134251   0.22134675  0.22785407] 96\n"
     ]
    }
   ],
   "source": [
    "job_title = df.loc[0, 'Job Title'] \n",
    "token_indices = []\n",
    "\n",
    "for token in nlp(job_title): \n",
    "     if token.is_alpha:\n",
    "        if token.pos_=='NOUN':\n",
    "            print(token.lemma_.lower())\n",
    "            print(token.vector, len(token.vector))"
   ]
  },
  {
   "cell_type": "code",
   "execution_count": 31,
   "id": "aa8b62e3",
   "metadata": {
    "pycharm": {
     "name": "#%%\n"
    }
   },
   "outputs": [
    {
     "name": "stderr",
     "output_type": "stream",
     "text": [
      "100%|█████████████████████████████████████████████████████████████████████████████| 3554/3554 [00:16<00:00, 212.25it/s]\n"
     ]
    },
    {
     "data": {
      "text/plain": [
       "array([ 1.05149723,  0.14177672, -0.09876894, -0.35119926, -0.06413789,\n",
       "        0.47125474, -0.69683404,  0.27803691,  0.35268057, -0.31381226,\n",
       "        0.8076313 , -0.05604623,  0.03855227, -0.11629709, -0.14551855,\n",
       "       -0.16227251,  1.04469741,  0.31638261,  0.27688566, -0.34872296,\n",
       "       -0.39789943, -0.76632548, -0.16971439,  0.16475175,  0.8245986 ,\n",
       "        0.22984736, -0.39001606,  0.7191471 , -0.19318833,  0.9171662 ,\n",
       "        0.02479396,  0.03144033, -0.69566317, -0.518414  ,  0.60410791,\n",
       "        0.08652811,  0.07740026,  0.2323642 , -0.65052209, -0.05213718,\n",
       "       -0.4262901 ,  0.08830329, -0.60387487, -0.71807706,  0.41031208,\n",
       "       -1.16764318,  0.45469659,  0.76323245,  0.08471907, -0.61504198,\n",
       "        0.18325466, -0.1419342 , -0.36760237, -1.3683226 ,  0.12273322,\n",
       "        0.65018587,  0.8397558 , -0.44555939, -0.79092513,  0.20245137,\n",
       "       -0.38333938, -0.42688764,  0.64808681, -0.61626891,  0.70970928,\n",
       "       -0.81654168,  0.01532306,  0.00690288,  0.16866223, -0.91260738,\n",
       "        0.20333055,  0.02623608,  0.04364615, -0.06701331, -0.20058821,\n",
       "        0.27623136, -0.31420163,  0.36435088, -0.9105676 ,  0.52339971,\n",
       "       -0.28539974, -0.41372455,  0.56955771,  0.67390001,  0.57848869,\n",
       "        0.26928989, -0.13581042, -0.35207262, -0.53928225,  0.20194319,\n",
       "       -0.47680001, -0.97736137,  0.13589678,  0.76241999,  0.52459367,\n",
       "        0.83037086])"
      ]
     },
     "execution_count": 31,
     "metadata": {},
     "output_type": "execute_result"
    }
   ],
   "source": [
    "spacy_encoding = np.array([float(0) for i in range(96)])\n",
    "token_count = 0\n",
    "\n",
    "for i in tqdm(range(len(df))):\n",
    "    job_title = df.loc[i, 'Job Title'] \n",
    "\n",
    "    for token in nlp(job_title): \n",
    "         if token.is_alpha:\n",
    "                if token.pos_=='NOUN' or token.pos_=='PROPN':\n",
    "                    token_count += 1\n",
    "                    spacy_encoding += np.array(token.vector)\n",
    "spacy_encoding /= token_count\n",
    "\n",
    "spacy_encoding"
   ]
  },
  {
   "cell_type": "code",
   "execution_count": null,
   "id": "6f303e97",
   "metadata": {
    "pycharm": {
     "name": "#%%\n"
    }
   },
   "outputs": [],
   "source": []
  }
 ],
 "metadata": {
  "kernelspec": {
   "display_name": "Python [conda env:compsoc] *",
   "language": "python",
   "name": "conda-env-compsoc-py"
  },
  "language_info": {
   "codemirror_mode": {
    "name": "ipython",
    "version": 3
   },
   "file_extension": ".py",
   "mimetype": "text/x-python",
   "name": "python",
   "nbconvert_exporter": "python",
   "pygments_lexer": "ipython3",
   "version": "3.8.13"
  }
 },
 "nbformat": 4,
 "nbformat_minor": 5
}