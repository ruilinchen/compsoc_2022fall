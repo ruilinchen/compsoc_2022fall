{
 "cells": [
  {
   "cell_type": "code",
   "execution_count": 15,
   "id": "a9025d79",
   "metadata": {
    "pycharm": {
     "name": "#%%\n"
    }
   },
   "outputs": [
    {
     "name": "stdout",
     "output_type": "stream",
     "text": [
      "Example content:\n",
      "\n",
      "The names \"John Doe\" for males, \"Jane Doe\" or \"Jane Roe\" for females, or \"Jonnie Doe\" and \"Janie Doe\" for children, or just \"Doe\" non-gender-specifically are used as placeholder names for a party whose true identity is unknown or must be withheld in a legal action, case, or discussion. The names are also used to refer to acorpse or hospital patient whose identity is unknown. This practice is widely used in the United States and Canada, but is rarely used in other English-speaking countries including the United Kingdom itself, from where the use of \"John Doe\" in a legal context originates. The names Joe Bloggs or John Smith are used in the UK instead, as well as in Australia and New Zealand.\n",
      "\n",
      "\n",
      "\n",
      "John Doe is sometimes used to refer to a typical male in other contexts as well, in a similar manner to John Q. Public, known in Great Britain as Joe Public, John Smith or Joe Bloggs. For example, the first name listed on a form is often John Doe, along with a fictional address or other fictional information to provide an example of how to fill in the form. The name is also used frequently in popular culture, for example in the Frank Capra film Meet John Doe. John Doe was also the name of a 2002 American television series.\n",
      "\n",
      "\n",
      "\n",
      "Similarly, a child or baby whose identity is unknown may be referred to as Baby Doe. A notorious murder case in Kansas City, Missouri, referred to the baby victim as Precious Doe. Other unidentified female murder victims are Cali Doe and Princess Doe. Additional persons may be called James Doe, Judy Doe, etc. However, to avoid possible confusion, if two anonymous or unknown parties are cited in a specific case or action, the surnames Doe and Roe may be used simultaneously; for example, \"John Doe v. Jane Roe\". If several anonymous parties are referenced, they may simply be labelled John Doe #1, John Doe #2, etc. (the U.S. Operation Delego cited 21 (numbered) \"John Doe\"s) or labelled with other variants of Doe / Roe / Poe / etc. Other early alternatives such as John Stiles and Richard Miles are now rarely used, and Mary Major has been used in some American federal cases.\n",
      "\n",
      "\n",
      "\n",
      "\n",
      "\n",
      "\n",
      "\n",
      "File created by https://www.online-convert.com\n",
      "\n",
      "More example files: https://www.online-convert.com/file-type\n",
      "\n",
      "Text of Example content: Wikipedia (https://en.wikipedia.org/wiki/John_Doe)\n",
      "\n",
      "License: Attribution-ShareAlike 4.0 (https://creativecommons.org/licenses/by-sa/4.0/)\n",
      "\n",
      "\n",
      "\n",
      "Feel free to use and share the file according to the license above.\n"
     ]
    }
   ],
   "source": [
    "#Task 4.1\n",
    "#Read the file “example.txt”\n",
    "txt_fname = 'example.txt'\n",
    "#open the file\n",
    "f = open(txt_fname)\n",
    "#print out every other line starting from the seventh line\n",
    "with open('example.txt') as f:\n",
    "     for line in f.readlines()[6:]:\n",
    "        print (line)\n"
   ]
  },
  {
   "cell_type": "code",
   "execution_count": 21,
   "id": "bb2fcc37",
   "metadata": {
    "pycharm": {
     "name": "#%%\n"
    }
   },
   "outputs": [
    {
     "name": "stdout",
     "output_type": "stream",
     "text": [
      "Sum of all elements in given list:  570\n"
     ]
    }
   ],
   "source": [
    "#Task 4.2 Write a sumForTwenty function\n",
    "# Python program to find sum of elements in list\n",
    "total = 0\n",
    "ele = 0\n",
    "#Input 20 numbers\n",
    "list_20 = [1,2,3,4,5,6,7,8,9,10,11,22,33,44,55,66,77,88,99,20]\n",
    "#Adding numbers\n",
    "while(ele < len(list_20)):\n",
    "    total = total + list_20[ele]\n",
    "    ele += 1\n",
    "     \n",
    "# check the type and printing total value\n",
    "if type(total) is str:\n",
    "    print(\"There is something wrong with the type of variables.\")\n",
    "else:\n",
    "    print(\"Sum of all elements in given list: \", total)"
   ]
  },
  {
   "cell_type": "code",
   "execution_count": 22,
   "id": "73cdb6c0",
   "metadata": {
    "pycharm": {
     "name": "#%%\n"
    }
   },
   "outputs": [
    {
     "name": "stdout",
     "output_type": "stream",
     "text": [
      "['a1', 'b1', 'c1', 'd1', 'e1', 'a2', 'b2', 'c2', 'd2', 'e2', 'a3', 'b3', 'c3', 'd3', 'e3', 'a4', 'b4', 'c4', 'd4', 'e4']\n"
     ]
    }
   ],
   "source": [
    "#Task 4.3 Write a duplicateNames function\n",
    "#Input the original name list\n",
    "name_list = ['a', 'b','c','d','e']\n",
    "#Input the times of duplication\n",
    "n = 4\n",
    "#Print the output duplicates the input list N times and updates the string values by adding an incremental number starting from 1 to them.\n",
    "dn_list = ['{}{}'.format(x, y) for y in range(1, n+1) for x in name_list]\n",
    "print(dn_list)"
   ]
  },
  {
   "cell_type": "code",
   "execution_count": 38,
   "id": "53a17b4a",
   "metadata": {
    "pycharm": {
     "name": "#%%\n"
    }
   },
   "outputs": [
    {
     "name": "stdout",
     "output_type": "stream",
     "text": [
      "['Jaemin', 'Jaehyun', 'Mark']\n"
     ]
    }
   ],
   "source": [
    "#Task 4.4 Write a top3Players function\n",
    "#Inputs list of players and their scores\n",
    "player_dict = {'Mark': 82, 'Jisung': 25, 'Jeno': 75, 'Jaemin': 85, 'Jaehyun': 83}\n",
    "# returns top 3 pairs\n",
    "from collections import Counter\n",
    "c = Counter(player_dict)\n",
    "most_common = c.most_common(3)  \n",
    "\n",
    "# Gets the keys from `most_common`:\n",
    "top_3 = [key for key, val in most_common]\n",
    "print(top_3)"
   ]
  }
 ],
 "metadata": {
  "kernelspec": {
   "display_name": "Python 3 (ipykernel)",
   "language": "python",
   "name": "python3"
  },
  "language_info": {
   "codemirror_mode": {
    "name": "ipython",
    "version": 3
   },
   "file_extension": ".py",
   "mimetype": "text/x-python",
   "name": "python",
   "nbconvert_exporter": "python",
   "pygments_lexer": "ipython3",
   "version": "3.9.12"
  }
 },
 "nbformat": 4,
 "nbformat_minor": 5
}