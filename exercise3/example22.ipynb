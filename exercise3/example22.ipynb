{
 "cells": [
  {
   "cell_type": "markdown",
   "id": "b9e7bf7d",
   "metadata": {
    "pycharm": {
     "name": "#%% md\n"
    }
   },
   "source": [
    "### Task 3.1 Write a function that takes a list of numbers as input, finds the largest and smallest element of the list, and returns the largest element minus the smallest element as output. "
   ]
  },
  {
   "cell_type": "code",
   "execution_count": 1,
   "id": "c434863c",
   "metadata": {
    "pycharm": {
     "name": "#%%\n"
    }
   },
   "outputs": [
    {
     "name": "stdout",
     "output_type": "stream",
     "text": [
      "provide five numbers separated by spaces 897 565 474 398 298\n",
      "The range for these numbers is\n",
      "599\n"
     ]
    }
   ],
   "source": [
    "#take five values from user\n",
    "input_string = input(\"provide five numbers separated by spaces \")\n",
    "list = input_string.split()\n",
    "\n",
    "#identify smallest and largest value\n",
    "min_val = min(list)\n",
    "max_val = max(list)\n",
    "\n",
    "#find range\n",
    "range_data = (int(max_val)) - (int(min_val))\n",
    "print(\"The range for these numbers is\")\n",
    "print(range_data)"
   ]
  },
  {
   "cell_type": "markdown",
   "id": "23ed52d1",
   "metadata": {
    "pycharm": {
     "name": "#%% md\n"
    }
   },
   "source": [
    "### Task 3.2 Write a function that takes two lists as input, combines them by alternatively taking their elements, e.g. [a,b,c], [1,2,3] → [a,1,b,2,c,3], and returns the combined list as output. "
   ]
  },
  {
   "cell_type": "code",
   "execution_count": 2,
   "id": "93571b61",
   "metadata": {
    "pycharm": {
     "name": "#%%\n"
    }
   },
   "outputs": [
    {
     "name": "stdout",
     "output_type": "stream",
     "text": [
      "[1, 'a', 2, 'b', 3, 'c']\n"
     ]
    }
   ],
   "source": [
    "#program to merge two lists\n",
    "def countlist(lst1, lst2):\n",
    "    return [sub[item] for item in range(len(lst2))\n",
    "                      for sub in [lst1, lst2]]\n",
    "\n",
    "lst1 = [1, 2, 3]\n",
    "lst2 = ['a','b','c']\n",
    "print(countlist(lst1, lst2))"
   ]
  },
  {
   "cell_type": "code",
   "execution_count": 5,
   "id": "c7c5ebe2",
   "metadata": {
    "pycharm": {
     "name": "#%%\n"
    }
   },
   "outputs": [],
   "source": [
    "#program to merge two lists take 2\n",
    "\n",
    "#request values from user\n",
    "def combinelist():\n",
    "    num = input(\"provide three numbers with no spaces \")\n",
    "    list = num.split()\n",
    "    let = input(\"provide three letters with no spaces \")\n",
    "    list = let.split()\n",
    "    #merge the two input lists\n",
    "    def countlist(num,let):\n",
    "                return [sub[item] for item in range(len(let))\n",
    "                      for sub in [num,let]]\n",
    "    print(countlist(num,let))"
   ]
  },
  {
   "cell_type": "code",
   "execution_count": 7,
   "id": "7517c0c9",
   "metadata": {
    "pycharm": {
     "name": "#%%\n"
    }
   },
   "outputs": [
    {
     "name": "stdout",
     "output_type": "stream",
     "text": [
      "provide three numbers with no spaces 876\n",
      "provide three letters with no spaces ick\n",
      "['8', 'i', '7', 'c', '6', 'k']\n"
     ]
    }
   ],
   "source": [
    "combinelist()"
   ]
  },
  {
   "cell_type": "markdown",
   "id": "57ba1303",
   "metadata": {
    "pycharm": {
     "name": "#%% md\n"
    }
   },
   "source": [
    "### Task 3.3 Write a function that takes a list as input, and returns a frequency table of the list in the format of a dictionary. Example: ['a', 'b', 'a'] -> {'a': 2, 'b': 1}"
   ]
  },
  {
   "cell_type": "code",
   "execution_count": 8,
   "id": "6821d114",
   "metadata": {
    "scrolled": true,
    "pycharm": {
     "name": "#%%\n"
    }
   },
   "outputs": [
    {
     "name": "stdout",
     "output_type": "stream",
     "text": [
      " 1 :  5\n",
      " 5 :  2\n",
      " 3 :  3\n",
      " 4 :  3\n",
      " 2 :  4\n"
     ]
    }
   ],
   "source": [
    "def CountFrequency(my_list):\n",
    "     \n",
    "# create empty dictionary\n",
    "    freq = {}\n",
    "    for items in my_list:\n",
    "        freq[items] = my_list.count(items)\n",
    "     \n",
    "    for key, value in freq.items():\n",
    "        print (\"% d : % d\"%(key, value))\n",
    "        \n",
    "if __name__ == \"__main__\":\n",
    "    my_list =[1, 1, 1, 5, 5, 3, 1, 3, 3, 1, 4, 4, 4, 2, 2, 2, 2]\n",
    "    CountFrequency(my_list)"
   ]
  },
  {
   "cell_type": "markdown",
   "id": "58c4874d",
   "metadata": {
    "pycharm": {
     "name": "#%% md\n"
    }
   },
   "source": [
    "### Task 3.4 Write a function that takes two lists as input, and returns another list that contains only the elements that are common between the two lists (without duplicates). Hint: Use `set` for this task. "
   ]
  },
  {
   "cell_type": "code",
   "execution_count": 16,
   "id": "a73c2569",
   "metadata": {
    "pycharm": {
     "name": "#%%\n"
    }
   },
   "outputs": [],
   "source": [
    "#program to find common elements in two lists\n",
    "def common_member(a, b):\n",
    "    a_set = set(a)\n",
    "    b_set = set(b)\n",
    "    \n",
    "    if (a_set & b_set):\n",
    "        print(a_set & b_set)\n",
    "    else:\n",
    "        print(\"sorry, no common numbers\")"
   ]
  },
  {
   "cell_type": "code",
   "execution_count": 12,
   "id": "95b722cc",
   "metadata": {
    "pycharm": {
     "name": "#%%\n"
    }
   },
   "outputs": [
    {
     "name": "stdout",
     "output_type": "stream",
     "text": [
      "{8, 3, 4}\n"
     ]
    }
   ],
   "source": [
    "a = [ 3, 4, 5, 6, 7, 8]\n",
    "b = [ 8, 3, 4, 0, 10]\n",
    "common_member(a,b)"
   ]
  },
  {
   "cell_type": "code",
   "execution_count": 17,
   "id": "2b258453",
   "metadata": {
    "pycharm": {
     "name": "#%%\n"
    }
   },
   "outputs": [
    {
     "name": "stdout",
     "output_type": "stream",
     "text": [
      "sorry, no common numbers\n"
     ]
    }
   ],
   "source": [
    "a = [1, 2, 3, 4, 5]\n",
    "b = [6, 7, 8, 9, 10]\n",
    "common_member(a,b)"
   ]
  },
  {
   "cell_type": "code",
   "execution_count": null,
   "id": "ebca4f15",
   "metadata": {
    "pycharm": {
     "name": "#%%\n"
    }
   },
   "outputs": [],
   "source": []
  }
 ],
 "metadata": {
  "kernelspec": {
   "display_name": "Python 3 (ipykernel)",
   "language": "python",
   "name": "python3"
  },
  "language_info": {
   "codemirror_mode": {
    "name": "ipython",
    "version": 3
   },
   "file_extension": ".py",
   "mimetype": "text/x-python",
   "name": "python",
   "nbconvert_exporter": "python",
   "pygments_lexer": "ipython3",
   "version": "3.8.13"
  }
 },
 "nbformat": 4,
 "nbformat_minor": 5
}