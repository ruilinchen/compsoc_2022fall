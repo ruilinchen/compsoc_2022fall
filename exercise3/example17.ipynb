{
 "cells": [
  {
   "cell_type": "code",
   "execution_count": 7,
   "id": "2ccbdc3d",
   "metadata": {
    "pycharm": {
     "name": "#%%\n"
    }
   },
   "outputs": [
    {
     "name": "stdout",
     "output_type": "stream",
     "text": [
      "\n",
      " [88, 7, 81, 27, 74, 91, 100, 93, 39, 36]\n"
     ]
    },
    {
     "data": {
      "text/plain": [
       "'The highest number is 100, and the lowest number is 7'"
      ]
     },
     "execution_count": 7,
     "metadata": {},
     "output_type": "execute_result"
    }
   ],
   "source": [
    "import random\n",
    "\n",
    "def highestLowest(list):\n",
    "    highest = list[0]\n",
    "    lowest = list[0]\n",
    "    for i in range(1, len(list)):\n",
    "        if list[i] > highest:\n",
    "            highest = list[i]\n",
    "        if list[i] < lowest:\n",
    "            lowest = list[i]\n",
    "    return ('The highest number is {}, and the lowest number is {}'.format(highest, lowest))\n",
    "\n",
    "nums = [random.randint(0, 100) for i in range(10)]\n",
    "print ('\\nYour list: ', nums)\n",
    "highestLowest(nums)"
   ]
  },
  {
   "cell_type": "code",
   "execution_count": 11,
   "id": "231d4201",
   "metadata": {
    "pycharm": {
     "name": "#%%\n"
    }
   },
   "outputs": [
    {
     "name": "stdout",
     "output_type": "stream",
     "text": [
      "List 1:  ['b', 'b', 'w', 'k', 'y', 't', 'p'] \n",
      "List 2:  [7, 10, 48, 35, 63] \n",
      "Combined:  ['b', 7, 'b', 10, 'w', 48, 'k', 35, 'y', 63, 't', 'p']\n"
     ]
    }
   ],
   "source": [
    "import random\n",
    "\n",
    "def alternate(list1, list2):\n",
    "    big = []\n",
    "    if len(list1) > len (list2):\n",
    "        for i in range(len(list2)):\n",
    "            big.append(list1[i])\n",
    "            big.append(list2[i])\n",
    "        for i in range(len(list2), len(list1)):\n",
    "            #error catching for lists of different lengths\n",
    "            big.append(list1[i])\n",
    "    else:\n",
    "        for i in range(len(list1)):\n",
    "            big.append(list1[i])\n",
    "            big.append(list2[i])\n",
    "        for i in range(len(list1), len(list2)):\n",
    "            big.append(list2[i])\n",
    "    print('List 1: ', list1, '\\nList 2: ', list2, '\\nCombined: ', big)\n",
    "    return\n",
    "\n",
    "letters = [chr(random.randint(97, 122)) for i in range(3)]\n",
    "numbers = [random.randint(0, 100) for i in range(3)]\n",
    "\n",
    "alternate(letters, numbers)"
   ]
  },
  {
   "cell_type": "code",
   "execution_count": 3,
   "id": "c52d09a8",
   "metadata": {
    "pycharm": {
     "name": "#%%\n"
    }
   },
   "outputs": [
    {
     "data": {
      "text/plain": [
       "{'g': 1, 's': 2, 'k': 1, 'z': 1, 'c': 1, 'm': 1, 'y': 1, 'v': 1, 'b': 1}"
      ]
     },
     "execution_count": 3,
     "metadata": {},
     "output_type": "execute_result"
    }
   ],
   "source": [
    "import random\n",
    "\n",
    "def frequency(list1):\n",
    "    freqDict = {}\n",
    "    for i in list1:\n",
    "        freqDict[i] = list1.count(i)\n",
    "    return freqDict\n",
    "\n",
    "letters = [chr(random.randint(97, 122)) for i in range(10)]\n",
    "frequency(letters)\n",
    "    "
   ]
  },
  {
   "cell_type": "code",
   "execution_count": 9,
   "id": "a332e222",
   "metadata": {
    "pycharm": {
     "name": "#%%\n"
    }
   },
   "outputs": [
    {
     "name": "stdout",
     "output_type": "stream",
     "text": [
      "List 1:  [42, 52, 30, 45, 50, 31, 36, 36, 40, 73] \n",
      "List 2:  [41, 89, 98, 56, 64, 56, 32, 43, 45, 22] \n",
      "Set:  {64, 32, 98, 36, 40, 73, 42, 41, 43, 45, 50, 52, 22, 56, 89, 30, 31}\n"
     ]
    }
   ],
   "source": [
    "import random\n",
    "\n",
    "def combine(list1, list2):\n",
    "    noDupes = set()\n",
    "    for i in list1:\n",
    "        noDupes.add(i)\n",
    "    for i in list2:\n",
    "        noDupes.add(i)\n",
    "    print('List 1: ', list1, '\\nList 2: ', list2, '\\nSet: ', noDupes)\n",
    "    return\n",
    "\n",
    "numbers = [random.randint(0, 100) for i in range(10)]\n",
    "numbers2 = [random.randint(0, 100) for i in range(10)]\n",
    "\n",
    "combine(numbers, numbers2)"
   ]
  },
  {
   "cell_type": "code",
   "execution_count": null,
   "id": "4561389b",
   "metadata": {
    "pycharm": {
     "name": "#%%\n"
    }
   },
   "outputs": [],
   "source": []
  }
 ],
 "metadata": {
  "kernelspec": {
   "display_name": "Python 3 (ipykernel)",
   "language": "python",
   "name": "python3"
  },
  "language_info": {
   "codemirror_mode": {
    "name": "ipython",
    "version": 3
   },
   "file_extension": ".py",
   "mimetype": "text/x-python",
   "name": "python",
   "nbconvert_exporter": "python",
   "pygments_lexer": "ipython3",
   "version": "3.9.12"
  }
 },
 "nbformat": 4,
 "nbformat_minor": 5
}