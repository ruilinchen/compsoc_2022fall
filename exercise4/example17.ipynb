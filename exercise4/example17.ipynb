{
 "cells": [
  {
   "cell_type": "markdown",
   "id": "16314cf4",
   "metadata": {
    "pycharm": {
     "name": "#%% md\n"
    }
   },
   "source": [
    "# Exercise 4\n",
    "## 4.1\n",
    " print out every other line starting from the seventh line"
   ]
  },
  {
   "cell_type": "code",
   "execution_count": 79,
   "id": "d0c987e9",
   "metadata": {
    "pycharm": {
     "name": "#%%\n"
    }
   },
   "outputs": [
    {
     "name": "stdout",
     "output_type": "stream",
     "text": [
      "Example content:\n",
      "\n",
      "\n",
      "\n",
      "\n",
      "\n",
      "\n",
      "\n",
      "\n",
      "\n",
      "More example files: https://www.online-convert.com/file-type\n",
      "\n",
      "License: Attribution-ShareAlike 4.0 (https://creativecommons.org/licenses/by-sa/4.0/)\n",
      "\n",
      "Feel free to use and share the file according to the license above.\n"
     ]
    }
   ],
   "source": [
    "with open(\"example.txt\", \"r\") as textFile:\n",
    "    lines = textFile.readlines()\n",
    "    for i in range(6, len(lines), 2): #since 0-indexed, so start at lines[7-1]=lines[6]\n",
    "        print(lines[i])"
   ]
  },
  {
   "cell_type": "markdown",
   "id": "7296a4ed",
   "metadata": {
    "pycharm": {
     "name": "#%% md\n"
    }
   },
   "source": [
    "## 4.2-original\n",
    "write a program that loops through all the files in this zip file and prints the name of all the “csv” files. Use `zipfile` package<\\br>"
   ]
  },
  {
   "cell_type": "markdown",
   "source": [
    "[editted]"
   ],
   "metadata": {
    "collapsed": false,
    "pycharm": {
     "name": "#%% md\n"
    }
   }
  },
  {
   "cell_type": "markdown",
   "id": "07e0216d",
   "metadata": {
    "pycharm": {
     "name": "#%% md\n"
    }
   },
   "source": [
    "## 4.2-new\n",
    "The assignment was changed after I started working on it\n",
    "\n",
    "Write a sumForTwenty function. The function takes twenty numbers as input (not as user input, but as function arguments), and prints one value as output. The output should be the sum of the twenty numbers passed to the function. The function should also check for variable types. If any of the numbers is passed as a string type as opposed to an integer or float type, the function will print an error message."
   ]
  },
  {
   "cell_type": "code",
   "execution_count": 81,
   "id": "62d52da8",
   "metadata": {
    "pycharm": {
     "name": "#%%\n"
    }
   },
   "outputs": [
    {
     "name": "stdout",
     "output_type": "stream",
     "text": [
      "40\n",
      "2423\n"
     ]
    }
   ],
   "source": [
    "def sumForTwenty(*args): #takes in variable number of args\n",
    "    if len(args) != 20:\n",
    "        print(\"Incorrect number of args: got\", len(args), \"should be 20\")\n",
    "        return float(\"NaN\") #should be obvious its an error, tho someone could pass in NaN\n",
    "    argSum = 0\n",
    "    for arg in args:\n",
    "        if isinstance(arg, int) or isinstance(arg, float):\n",
    "            argSum += arg\n",
    "        else:\n",
    "            #extended it past just checking string, to anything that isnt a number\n",
    "            print(\"Arg passed that isn't an int or float, incorrect input\")\n",
    "            return float(\"NaN\")\n",
    "    return argSum\n",
    "\n",
    "testList = [2] * 20\n",
    "print(sumForTwenty(*testList)) #doesn't really show how its a variable num of args\n",
    "#figured I should actually show the args typed out\n",
    "#Sophie Germain primes. OEIS A005384\n",
    "print(sumForTwenty(2, 3, 5, 11, 23, 29, 41, 53, 83, 89, 113, 131, 173, 179, 191, 233, 239, 251, 281, 293))"
   ]
  },
  {
   "cell_type": "code",
   "execution_count": 82,
   "id": "1a450981",
   "metadata": {
    "pycharm": {
     "name": "#%%\n"
    }
   },
   "outputs": [
    {
     "data": {
      "text/plain": [
       "['Rivest1',\n",
       " 'Shamir1',\n",
       " 'Adleman1',\n",
       " 'Diffie1',\n",
       " 'Hellman1',\n",
       " 'Merkle1',\n",
       " 'Damgård1',\n",
       " 'Rivest2',\n",
       " 'Shamir2',\n",
       " 'Adleman2',\n",
       " 'Diffie2',\n",
       " 'Hellman2',\n",
       " 'Merkle2',\n",
       " 'Damgård2',\n",
       " 'Rivest3',\n",
       " 'Shamir3',\n",
       " 'Adleman3',\n",
       " 'Diffie3',\n",
       " 'Hellman3',\n",
       " 'Merkle3',\n",
       " 'Damgård3']"
      ]
     },
     "execution_count": 82,
     "metadata": {},
     "output_type": "execute_result"
    }
   ],
   "source": [
    "def duplicateNames(nameList, N):\n",
    "    dupList = []\n",
    "    for i in range(1,N+1):\n",
    "        for name in nameList:\n",
    "            dupList.append(name + str(i))\n",
    "    return dupList\n",
    "\n",
    "nameList = [\"Rivest\", \"Shamir\", \"Adleman\", \"Diffie\", \"Hellman\", \"Merkle\", \"Damgård\"]\n",
    "duplicateNames(nameList, 3)"
   ]
  },
  {
   "cell_type": "code",
   "execution_count": 84,
   "id": "a8f1ed2d",
   "metadata": {
    "pycharm": {
     "name": "#%%\n"
    }
   },
   "outputs": [
    {
     "name": "stdout",
     "output_type": "stream",
     "text": [
      "One, VLC, Windows Media\n"
     ]
    }
   ],
   "source": [
    "import collections\n",
    "def top3Players(playerDict):\n",
    "    return [x[0] for x in collections.Counter(playerDict).most_common(3)] #most_common returns list of tuples\n",
    "\n",
    "#Amber Gray is a fantastic actor, who played Persephone in the play Hadestown\n",
    "playerDict = {\"VLC\":1996, \"Windows Media\":1991, \"One\":2011, \"Piano\":1896, \"Amber Gray\":1981}\n",
    "print(*top3Players(playerDict), sep = ', ') #used * to unpack, could've done \", \".join() instead"
   ]
  }
 ],
 "metadata": {
  "kernelspec": {
   "display_name": "Python 3 (ipykernel)",
   "language": "python",
   "name": "python3"
  },
  "language_info": {
   "codemirror_mode": {
    "name": "ipython",
    "version": 3
   },
   "file_extension": ".py",
   "mimetype": "text/x-python",
   "name": "python",
   "nbconvert_exporter": "python",
   "pygments_lexer": "ipython3",
   "version": "3.8.13"
  }
 },
 "nbformat": 4,
 "nbformat_minor": 5
}