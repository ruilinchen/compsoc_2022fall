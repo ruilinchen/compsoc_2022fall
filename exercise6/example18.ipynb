{
 "cells": [
  {
   "cell_type": "code",
   "execution_count": 13,
   "id": "b31f278e",
   "metadata": {
    "pycharm": {
     "name": "#%%\n"
    }
   },
   "outputs": [
    {
     "name": "stderr",
     "output_type": "stream",
     "text": [
      "C:\\Users\\amyli\\AppData\\Local\\Temp\\ipykernel_15516\\3359650781.py:8: DtypeWarning: Columns (0) have mixed types. Specify dtype option on import or set low_memory=False.\n",
      "  crime_2019 = pd.read_csv('2019_crime_data.csv')\n",
      "C:\\Users\\amyli\\AppData\\Local\\Temp\\ipykernel_15516\\3359650781.py:9: DtypeWarning: Columns (0) have mixed types. Specify dtype option on import or set low_memory=False.\n",
      "  crime_2020 = pd.read_csv('2020_crime_data.csv')\n"
     ]
    }
   ],
   "source": [
    "#task 6.1\n",
    "#This program merges the crime data of 2019 and 2020 together and drop duplicates and null values in many columns.\n",
    "#And store the output in a new csv file. \n",
    "\n",
    "import os\n",
    "os.chdir(r\"C:\\Users\\[editted]\\OneDrive\\Desktop\\College\\mining big data\")\n",
    "\n",
    "import pandas as pd\n",
    "import numpy as np\n",
    "import seaborn as sns\n",
    "\n",
    "crime_2019 = pd.read_csv('2019_crime_data.csv')\n",
    "crime_2020 = pd.read_csv('2020_crime_data.csv')\n",
    "\n",
    "result = pd.concat([crime_2019, crime_2020])\n",
    "\n",
    "result.T.drop_duplicates().T\n",
    "result.dropna(subset=['INCIDENT_NUMBER','OFFENSE_CODE','DISTRICT','Long','Lat', 'SHOOTING', 'OCCURRED_ON_DATE'])\n",
    "\n",
    "result.to_csv('combined_crime_data.csv')"
   ]
  },
  {
   "cell_type": "code",
   "execution_count": 31,
   "id": "cbe810b7",
   "metadata": {
    "pycharm": {
     "name": "#%%\n"
    }
   },
   "outputs": [
    {
     "name": "stderr",
     "output_type": "stream",
     "text": [
      "C:\\Users\\amyli\\AppData\\Local\\Temp\\ipykernel_15516\\595675776.py:8: DtypeWarning: Columns (1) have mixed types. Specify dtype option on import or set low_memory=False.\n",
      "  crime_df = pd.read_csv('combined_crime_data.csv')\n"
     ]
    },
    {
     "name": "stdout",
     "output_type": "stream",
     "text": [
      "MONTH            1   2   3   4   5   6   7   8   9   10  11  12\n",
      "INCIDENT_NUMBER                                                \n",
      "19065880          0   1   0   0   0   0   0   0   0   0   0   0\n",
      "20030892          0   0   0   0   1   0   0   0   0   0   0   0\n",
      "20038446          0   0   0   0   0   1   0   0   0   0   0   0\n",
      "20044806          0   0   0   0   0   1   0   0   0   0   0   0\n",
      "20046400          0   0   0   0   0   0   1   0   0   0   0   0\n",
      "...              ..  ..  ..  ..  ..  ..  ..  ..  ..  ..  ..  ..\n",
      "212086725         0   0   0   0   0   0   0   0   0   1   0   0\n",
      "302030654         0   0   0   1   0   0   0   0   0   0   0   0\n",
      "457856954         0   1   0   0   0   0   0   0   0   0   0   0\n",
      "854652314         0   1   0   0   0   0   0   0   0   0   0   0\n",
      "950485010         0   0   0   0   0   0   0   0   0   0   1   0\n",
      "\n",
      "[158078 rows x 12 columns]\n"
     ]
    }
   ],
   "source": [
    "#task 6.2\n",
    "#This program reads the stored csv and returns a frequency table of the number of crime incidents in each month\n",
    "\n",
    "import os\n",
    "os.chdir(r\"C:\\Users\\[editted]\\OneDrive\\Desktop\\College\\mining big data\")\n",
    "\n",
    "import pandas as pd\n",
    "import numpy as np\n",
    "import seaborn as sns\n",
    "\n",
    "crime_df = pd.read_csv('combined_crime_data.csv')\n",
    "table = pd.crosstab(index = crime_df['INCIDENT_NUMBER'], columns = crime_df['MONTH'])\n",
    "print(table)"
   ]
  },
  {
   "cell_type": "code",
   "execution_count": 29,
   "id": "77e65c89",
   "metadata": {
    "pycharm": {
     "name": "#%%\n"
    }
   },
   "outputs": [
    {
     "name": "stderr",
     "output_type": "stream",
     "text": [
      "C:\\Users\\amyli\\AppData\\Local\\Temp\\ipykernel_15516\\1823786581.py:8: DtypeWarning: Columns (1) have mixed types. Specify dtype option on import or set low_memory=False.\n",
      "  crime_df = pd.read_csv('combined_crime_data.csv')\n"
     ]
    },
    {
     "data": {
      "text/plain": [
       "B2     23472\n",
       "D4     20559\n",
       "C11    20014\n",
       "B3     17419\n",
       "A1     16949\n",
       "C6     11726\n",
       "D14    10460\n",
       "E18     9374\n",
       "E13     9031\n",
       "E5      7402\n",
       "A7      6541\n",
       "A15     3489\n",
       "Name: DISTRICT, dtype: int64"
      ]
     },
     "execution_count": 29,
     "metadata": {},
     "output_type": "execute_result"
    }
   ],
   "source": [
    "#task 6.3\n",
    "#This program eliminates the null values and the external districts, and counts the total number of incidents in each district\n",
    "\n",
    "import os\n",
    "os.chdir(r\"C:\\Users\\[editted]\\OneDrive\\Desktop\\College\\mining big data\")\n",
    "\n",
    "import pandas as pd\n",
    "import numpy as np\n",
    "import seaborn as sns\n",
    "\n",
    "crime_df = pd.read_csv('combined_crime_data.csv')\n",
    "crime_df.dropna(subset = ['DISTRICT'])\n",
    "crime_df = crime_df[['DISTRICT']].mask(crime_df.DISTRICT == 'External')\n",
    "\n",
    "\n",
    "crime_df['DISTRICT'].value_counts()\n"
   ]
  },
  {
   "cell_type": "markdown",
   "id": "550121cf",
   "metadata": {
    "pycharm": {
     "name": "#%% md\n"
    }
   },
   "source": [
    "I see significant difference in different districts. District B2 has the most number of crime incidents and district A15 has the least. "
   ]
  }
 ],
 "metadata": {
  "kernelspec": {
   "display_name": "Python [conda env:compsoc] *",
   "language": "python",
   "name": "conda-env-compsoc-py"
  },
  "language_info": {
   "codemirror_mode": {
    "name": "ipython",
    "version": 3
   },
   "file_extension": ".py",
   "mimetype": "text/x-python",
   "name": "python",
   "nbconvert_exporter": "python",
   "pygments_lexer": "ipython3",
   "version": "3.8.13"
  }
 },
 "nbformat": 4,
 "nbformat_minor": 5
}