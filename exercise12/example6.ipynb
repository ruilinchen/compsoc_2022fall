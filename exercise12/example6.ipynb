{
 "cells": [
  {
   "cell_type": "markdown",
   "source": [
    "### Importing data and clean"
   ],
   "metadata": {
    "collapsed": false,
    "pycharm": {
     "name": "#%% md\n"
    }
   }
  },
  {
   "cell_type": "code",
   "execution_count": 13,
   "metadata": {
    "collapsed": true,
    "pycharm": {
     "name": "#%%\n"
    }
   },
   "outputs": [
    {
     "name": "stdout",
     "output_type": "stream",
     "text": [
      "Index(['link', 'job_title', 'company', 'company_url', 'company_location', 'job_description'], dtype='object')\n",
      "                                                link                                          job_title                company                                        company_url       company_location                                    job_description\n",
      "0  https://www.indeed.com/rc/clk?jk=64568c71be4aa...  Certified Pharmacy Technician II -Retail Pharmacy    Baton Rouge General  https://www.indeed.com/cmp/Baton-Rouge-General...  Baton Rouge, LA 70809  JOB PURPOSE OR MISSION: Assists pharmacists in...\n",
      "1  https://www.indeed.com/rc/clk?jk=7b12bce39025f...                       Information Security Advisor                 Anthem  https://www.indeed.com/cmp/Anthem,-Inc.?campai...     Richmond, VA 23218  Description\\nSHIFT: Day Job\\nSCHEDULE: Full-ti...\n",
      "2  https://www.indeed.com/pagead/clk?mo=r&ad=-6NY...     Associate Director Learning Management Systems                    NaN                                                NaN          United States  Who we are\\nWe’re a global, midsize CRO that p...\n",
      "3  https://www.indeed.com/pagead/clk?mo=r&ad=-6NY...                                     Plant Engineer  AVA Search Group, LLC  https://www.indeed.com/cmp/Ava-Search-Group,-L...         Janesville, WI  Plant Engineer with a growing company in South...\n",
      "4  https://www.indeed.com/rc/clk?jk=16d3c0f3ed372...                          Medical Staff Coordinator                    NaN                                                NaN       Boston, MA 02114  Company Overview:\\nShriners Children’s is a fa...\n",
      "total jobs: 2541\n"
     ]
    }
   ],
   "source": [
    "import os\n",
    "import folder\n",
    "from tqdm import tqdm\n",
    "\n",
    "import pandas as pd\n",
    "import spacy\n",
    "\n",
    "# setup\n",
    "os.chdir(folder.j_info)\n",
    "# print(os.listdir())\n",
    "\n",
    "nlp = spacy.load(\"en_core_web_sm\")\n",
    "pd.set_option(\"display.width\", 320); pd.set_option('display.max_columns',12)\n",
    "\n",
    "\n",
    "# create list of csv file from May 22, concat\n",
    "dfs = []\n",
    "for file in os.listdir():\n",
    "    if file.endswith(\"csv\") and \"5222022\" in file:\n",
    "        ind_df = pd.read_csv(file, low_memory=False)\n",
    "        dfs.append(ind_df)\n",
    "\n",
    "combined = pd.concat(dfs, ignore_index=True)\n",
    "combined.columns = combined.columns.str.removeprefix(\"lnks_\")\n",
    "\n",
    "# clean data of duplicates and those without titles or description\n",
    "data = combined.drop_duplicates(subset=[\"job_title\"]).\\\n",
    "           dropna(subset=[\"job_description\", \"job_title\"],\n",
    "                  how=\"any\").reset_index(drop=True)\n",
    "print(data.columns, data.head(), f\"total jobs: {len(data)}\", sep=\"\\n\")"
   ]
  },
  {
   "cell_type": "markdown",
   "source": [
    "### (for bonus) divide data into two sets (\"selected\" and \"vanilla\")"
   ],
   "metadata": {
    "collapsed": false,
    "pycharm": {
     "name": "#%% md\n"
    }
   }
  },
  {
   "cell_type": "code",
   "execution_count": 14,
   "outputs": [
    {
     "name": "stderr",
     "output_type": "stream",
     "text": [
      "100%|██████████| 2541/2541 [00:15<00:00, 169.27it/s]"
     ]
    },
    {
     "name": "stdout",
     "output_type": "stream",
     "text": [
      "\n",
      "                                                 link                                          job_title                company                                        company_url       company_location                                    job_description      job_type\n",
      "0  https://www.indeed.com/rc/clk?jk=64568c71be4aa...  Certified Pharmacy Technician II -Retail Pharmacy    Baton Rouge General  https://www.indeed.com/cmp/Baton-Rouge-General...  Baton Rouge, LA 70809  JOB PURPOSE OR MISSION: Assists pharmacists in...  not_selected\n",
      "1  https://www.indeed.com/rc/clk?jk=7b12bce39025f...                       Information Security Advisor                 Anthem  https://www.indeed.com/cmp/Anthem,-Inc.?campai...     Richmond, VA 23218  Description\\nSHIFT: Day Job\\nSCHEDULE: Full-ti...  not_selected\n",
      "2  https://www.indeed.com/pagead/clk?mo=r&ad=-6NY...     Associate Director Learning Management Systems                    NaN                                                NaN          United States  Who we are\\nWe’re a global, midsize CRO that p...  not_selected\n",
      "3  https://www.indeed.com/pagead/clk?mo=r&ad=-6NY...                                     Plant Engineer  AVA Search Group, LLC  https://www.indeed.com/cmp/Ava-Search-Group,-L...         Janesville, WI  Plant Engineer with a growing company in South...  not_selected\n",
      "4  https://www.indeed.com/rc/clk?jk=16d3c0f3ed372...                          Medical Staff Coordinator                    NaN                                                NaN       Boston, MA 02114  Company Overview:\\nShriners Children’s is a fa...  not_selected \n",
      "\n",
      "searched by key word: ['compliance', 'regulatory', 'regulation'],\n",
      "number of entries in data found: 225,\n",
      "data:\n",
      "                                                    link                                          job_title                                            company                                        company_url      company_location                                    job_description  job_type\n",
      "10    https://www.indeed.com/pagead/clk?mo=r&ad=-6NY...                     Advisory compliance Specialist                                       TalentBridge  https://www.indeed.com/cmp/Talentbridge-Ntl?ca...         Fort Mill, SC  Job Description: Responsibilities:\\nSupport th...  selected\n",
      "14    https://www.indeed.com/rc/clk?jk=d43a223ea40aa...                               OSHA Regulations SME                                     QRC Group, Inc  https://www.indeed.com/cmp/Qrc-Group,-Inc?camp...           Salinas, PR  Company Description\\nQRC Group, LLC is a firm ...  selected\n",
      "37    https://www.indeed.com/pagead/clk?mo=r&ad=-6NY...                            Compliance Investigator                              Takeda Pharmaceutical  https://www.indeed.com/cmp/Takeda-Pharmaceutic...     Thousand Oaks, CA  By clicking the “Apply” button, I understand t...  selected\n",
      "53    https://www.indeed.com/pagead/clk?mo=r&ad=-6NY...                         FinTech Compliance Counsel                                 Spencer Reed Group  https://www.indeed.com/cmp/Spencer-Reed-Group,...       Kansas City, MO  This highly visible role will focus on regulat...  selected\n",
      "76    https://www.indeed.com/pagead/clk?mo=r&ad=-6NY...              In House Compliance & Risk Management                                 Spencer Reed Group  https://www.indeed.com/cmp/Spencer-Reed-Group,...       Kansas City, KS  In this newly created position, you will play ...  selected\n",
      "...                                                 ...                                                ...                                                ...                                                ...                   ...                                                ...       ...\n",
      "2464  https://www.indeed.com/rc/clk?jk=9f8c268428be5...                    Chief Global Regulatory Counsel                                      GE Healthcare  https://www.indeed.com/cmp/GE-Healthcare?campa...     Chicago, IL 60661  Job Description Summary\\nJob Description\\nLead...  selected\n",
      "2487  https://www.indeed.com/rc/clk?jk=506ac0ab67622...      Senior Audit Strategist - Consumer Compliance                                            KeyBank  https://www.indeed.com/cmp/Keybank?campaignid=...    Brooklyn, OH 44144  Location:\\n4910 Tiedeman Road - Brooklyn, Ohio...  selected\n",
      "2504  https://www.indeed.com/pagead/clk?mo=r&ad=-6NY...  Compliance Program Advisor- International Comp...                       PNC Financial Services Group  https://www.indeed.com/cmp/Pnc-Financial-Servi...  Pittsburgh, PA 15222  Job Profile\\nPosition Overview\\nAt PNC, our pe...  selected\n",
      "2515  https://www.indeed.com/rc/clk?jk=03fa5446a2929...               Advisor, Asset Management Compliance                               Fidelity Investments  https://www.indeed.com/cmp/Fidelity-Investment...   Merrimack, NH 03054  Job Description:\\nThe Role\\nAsset Management C...  selected\n",
      "2518  https://www.indeed.com/rc/clk?jk=68e590a546b58...  Senior Field Representative, Wage & Hour Compl...  New Jersey Department of Labor and Workforce D...  https://www.indeed.com/cmp/State-of-New-Jersey...     Trenton, NJ 08611  HR-96 (12/19)\\nPosting # 2022-183 Issue Date: ...  selected\n",
      "\n",
      "[225 rows x 7 columns]\n"
     ]
    },
    {
     "name": "stderr",
     "output_type": "stream",
     "text": [
      "\n"
     ]
    }
   ],
   "source": [
    "# check keywords using tokens\n",
    "# this gives room to search token.lemma_ in list of key words as well, so we can have a shorter list of keyword\n",
    "# question: is there a way to group words with different pos_ but with similar roots, such as comply and compliance?\n",
    "key_words = [\"compliance\", \"regulatory\", \"regulation\"]\n",
    "\n",
    "data_range = range(len(data))\n",
    "for i in tqdm(data_range):\n",
    "    job_title = data.loc[i, \"job_title\"].lower()\n",
    "    for token in nlp(job_title):\n",
    "        if token.lemma_ in key_words:\n",
    "            data.loc[i, \"job_type\"] = \"selected\"\n",
    "\n",
    "data.job_type = data.job_type.fillna(value=\"not_selected\")\n",
    "print(\"\\n\", data.head(), \"\\n\")\n",
    "\n",
    "selected_set, vanilla_set = data[data.job_type == \"selected\"], \\\n",
    "                              data[data.job_type == \"not_selected\"]\n",
    "\n",
    "print(f\"searched by key word: {key_words},\\n\"\n",
    "      f\"number of entries in data found: {len(selected_set)},\\n\"\n",
    "      f\"data:\\n {selected_set}\")"
   ],
   "metadata": {
    "collapsed": false,
    "pycharm": {
     "name": "#%%\n"
    }
   }
  },
  {
   "cell_type": "markdown",
   "source": [
    "### function to return (1) number of unique tokens and (2) top 30 most frequent words, with corresponding frequency"
   ],
   "metadata": {
    "collapsed": false,
    "pycharm": {
     "name": "#%% md\n"
    }
   }
  },
  {
   "cell_type": "code",
   "execution_count": 15,
   "outputs": [],
   "source": [
    "# I eliminate some of the type of token/words we might not be interested in here\n",
    "excluded_classes = [\"PUNCT\", \"SYM\", \"X\", \"SPACE\", \"CCONJ\", \"AUX\", \"ADP\", \"PART\", \"PRON\", \"DET\"]\n",
    "\n",
    "\n",
    "# three-part function to return dictionary of unique token frequency\n",
    "# the first part outputs a list of list of token for each job, then combines into a unique set. I use .lemma_ to make sure the unique set is meaningful\n",
    "# the second part outputs a list of frequency table of unique token for each job (using corresponding list of token)\n",
    "# the third part combines all the dictionaries in step 2 into a dataframe and tally total freq by unique terms\n",
    "\n",
    "# the simpler way is to join all job description into a very big body of text and create the list of token based on that\n",
    "# when I run that there seems to be a cap on memory for tokens, so this code process the data by batch\n",
    "# for batch unit, job (every line in the df) is used for convenience, but I think you can just divide the df into multiple dfs, it works the same\n",
    "\n",
    "def get_token_freq(df, col):\n",
    "    jobs = df[col].tolist()\n",
    "    tokens_lists = []\n",
    "    for job in tqdm(jobs):\n",
    "        tokens = []\n",
    "        for t in nlp(job):\n",
    "            if t.pos_ not in excluded_classes:\n",
    "                tokens.append(str.lower(t.lemma_))\n",
    "        tokens_lists.append(tokens)\n",
    "    unique_set = set().union(*[set(k) for k in tokens_lists])\n",
    "    freq_list = []\n",
    "    for alist in tqdm(tokens_lists):\n",
    "        ind_freq = {}\n",
    "        for t in unique_set:\n",
    "            ind_freq[t] = alist.count(t)\n",
    "        freq_list.append(ind_freq)\n",
    "    freq_json = {}\n",
    "    for key in tqdm(freq_list[0].keys()):\n",
    "        freq_json[key] = [d[key] for d in freq_list]\n",
    "    freq_table = pd.DataFrame.from_dict(freq_json, orient=\"index\")\n",
    "    freq_table[\"freq\"] = freq_table.sum(axis=1)\n",
    "    freq_table = freq_table.sort_values(\"freq\", ascending=False)\n",
    "    show = freq_table.iloc[ : 29, list(freq_table.columns).index(\"freq\")]\n",
    "    print(f\"\\nNumber of unique tokens: {len(unique_set)}\"\n",
    "          f\"\\nfrequency table for top 20 tokens outside of excluded classes:\\n{show}\")"
   ],
   "metadata": {
    "collapsed": false,
    "pycharm": {
     "name": "#%%\n"
    }
   }
  },
  {
   "cell_type": "markdown",
   "source": [
    "### Execute for three datasets"
   ],
   "metadata": {
    "collapsed": false,
    "pycharm": {
     "name": "#%% md\n"
    }
   }
  },
  {
   "cell_type": "code",
   "execution_count": 16,
   "outputs": [
    {
     "name": "stderr",
     "output_type": "stream",
     "text": [
      "100%|██████████| 225/225 [00:25<00:00,  8.92it/s]\n",
      "100%|██████████| 225/225 [00:10<00:00, 22.49it/s]\n",
      "100%|██████████| 7249/7249 [00:00<00:00, 35395.11it/s]\n"
     ]
    },
    {
     "name": "stdout",
     "output_type": "stream",
     "text": [
      "\n",
      "Number of unique tokens: 7249\n",
      "frequency table for top 20 tokens outside of excluded classes:\n",
      "compliance     1734\n",
      "regulatory     1186\n",
      "work           1020\n",
      "experience      889\n",
      "management      650\n",
      "team            644\n",
      "other           635\n",
      "include         616\n",
      "ensure          586\n",
      "business        586\n",
      "provide         573\n",
      "regulation      552\n",
      "ability         546\n",
      "program         537\n",
      "require         530\n",
      "requirement     520\n",
      "as              499\n",
      "risk            468\n",
      "support         466\n",
      "skill           446\n",
      "process         439\n",
      "year            423\n",
      "review          420\n",
      "knowledge       418\n",
      "quality         413\n",
      "policy          411\n",
      "employee        396\n",
      "company         383\n",
      "information     378\n",
      "Name: freq, dtype: int64\n"
     ]
    }
   ],
   "source": [
    "get_token_freq(selected_set, \"job_description\")"
   ],
   "metadata": {
    "collapsed": false,
    "pycharm": {
     "name": "#%%\n"
    }
   }
  },
  {
   "cell_type": "code",
   "execution_count": 17,
   "outputs": [
    {
     "name": "stderr",
     "output_type": "stream",
     "text": [
      "100%|██████████| 2316/2316 [04:43<00:00,  8.18it/s]\n",
      "100%|██████████| 2316/2316 [07:05<00:00,  5.45it/s]\n",
      "100%|██████████| 24692/24692 [00:15<00:00, 1613.12it/s]\n"
     ]
    },
    {
     "name": "stdout",
     "output_type": "stream",
     "text": [
      "\n",
      "Number of unique tokens: 24692\n",
      "frequency table for top 20 tokens outside of excluded classes:\n",
      "work           12906\n",
      "experience      9791\n",
      "require         8826\n",
      "include         8194\n",
      "other           8011\n",
      "provide         7445\n",
      "ability         7394\n",
      "as              6977\n",
      "ensure          6843\n",
      "management      6738\n",
      "service         6578\n",
      "team            6524\n",
      "employee        6382\n",
      "job             6122\n",
      "compliance      5772\n",
      "program         5660\n",
      "patient         5523\n",
      "perform         5501\n",
      "care            5423\n",
      "skill           5373\n",
      "position        5146\n",
      "maintain        5105\n",
      "requirement     5038\n",
      "need            4975\n",
      "support         4962\n",
      "process         4866\n",
      "knowledge       4831\n",
      "customer        4781\n",
      "quality         4750\n",
      "Name: freq, dtype: int64\n"
     ]
    }
   ],
   "source": [
    "get_token_freq(vanilla_set, \"job_description\")"
   ],
   "metadata": {
    "collapsed": false,
    "pycharm": {
     "name": "#%%\n"
    }
   }
  },
  {
   "cell_type": "code",
   "execution_count": 18,
   "outputs": [
    {
     "name": "stderr",
     "output_type": "stream",
     "text": [
      "100%|██████████| 2541/2541 [04:55<00:00,  8.61it/s]\n",
      "100%|██████████| 2541/2541 [07:44<00:00,  5.47it/s]\n",
      "100%|██████████| 25894/25894 [00:14<00:00, 1733.12it/s]\n"
     ]
    },
    {
     "name": "stdout",
     "output_type": "stream",
     "text": [
      "\n",
      "Number of unique tokens: 25894\n",
      "frequency table for top 20 tokens outside of excluded classes:\n",
      "work           13926\n",
      "experience     10680\n",
      "require         9356\n",
      "include         8810\n",
      "other           8646\n",
      "provide         8018\n",
      "ability         7940\n",
      "compliance      7506\n",
      "as              7476\n",
      "ensure          7429\n",
      "management      7388\n",
      "team            7168\n",
      "service         6868\n",
      "employee        6778\n",
      "job             6481\n",
      "program         6197\n",
      "skill           5819\n",
      "perform         5745\n",
      "patient         5645\n",
      "care            5586\n",
      "requirement     5558\n",
      "maintain        5464\n",
      "position        5459\n",
      "support         5428\n",
      "process         5305\n",
      "need            5287\n",
      "knowledge       5249\n",
      "quality         5163\n",
      "regulatory      5148\n",
      "Name: freq, dtype: int64\n"
     ]
    }
   ],
   "source": [
    "get_token_freq(data, \"job_description\")"
   ],
   "metadata": {
    "collapsed": false,
    "pycharm": {
     "name": "#%%\n"
    }
   }
  },
  {
   "cell_type": "markdown",
   "source": [
    "#### Short notes:\n",
    "- Total number of a specific token in the total data set should be the sum of that in the other two smaller ones\n",
    "- It is expected that \"regulation\", \"compliance\" are among the most frequently appeared words given that we actively search for these kinds of jobs"
   ],
   "metadata": {
    "collapsed": false,
    "pycharm": {
     "name": "#%% md\n"
    }
   }
  },
  {
   "cell_type": "code",
   "execution_count": null,
   "outputs": [],
   "source": [],
   "metadata": {
    "collapsed": false,
    "pycharm": {
     "name": "#%%\n"
    }
   }
  }
 ],
 "metadata": {
  "kernelspec": {
   "display_name": "Python 3",
   "language": "python",
   "name": "python3"
  },
  "language_info": {
   "codemirror_mode": {
    "name": "ipython",
    "version": 2
   },
   "file_extension": ".py",
   "mimetype": "text/x-python",
   "name": "python",
   "nbconvert_exporter": "python",
   "pygments_lexer": "ipython2",
   "version": "2.7.6"
  }
 },
 "nbformat": 4,
 "nbformat_minor": 0
}