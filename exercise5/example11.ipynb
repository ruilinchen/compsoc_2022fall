{
 "cells": [
  {
   "cell_type": "code",
   "execution_count": 3,
   "id": "fa7ef018",
   "metadata": {
    "pycharm": {
     "name": "#%%\n"
    }
   },
   "outputs": [
    {
     "name": "stdout",
     "output_type": "stream",
     "text": [
      "MA_cbg_human_mobility_2019/MA_cbg2cbg_2019_09.csv\n",
      "__MACOSX/MA_cbg_human_mobility_2019/._MA_cbg2cbg_2019_09.csv\n",
      "MA_cbg_human_mobility_2019/MA_cbg2cbg_2019_08.csv\n",
      "__MACOSX/MA_cbg_human_mobility_2019/._MA_cbg2cbg_2019_08.csv\n",
      "MA_cbg_human_mobility_2019/MA_cbg2cbg_2019_03.csv\n",
      "__MACOSX/MA_cbg_human_mobility_2019/._MA_cbg2cbg_2019_03.csv\n",
      "MA_cbg_human_mobility_2019/MA_cbg2cbg_2019_02.csv\n",
      "__MACOSX/MA_cbg_human_mobility_2019/._MA_cbg2cbg_2019_02.csv\n",
      "MA_cbg_human_mobility_2019/MA_cbg2cbg_2019_01.csv\n",
      "__MACOSX/MA_cbg_human_mobility_2019/._MA_cbg2cbg_2019_01.csv\n",
      "MA_cbg_human_mobility_2019/MA_cbg2cbg_2019_05.csv\n",
      "__MACOSX/MA_cbg_human_mobility_2019/._MA_cbg2cbg_2019_05.csv\n",
      "MA_cbg_human_mobility_2019/MA_cbg2cbg_2019_11.csv\n",
      "__MACOSX/MA_cbg_human_mobility_2019/._MA_cbg2cbg_2019_11.csv\n",
      "MA_cbg_human_mobility_2019/MA_cbg2cbg_2019_10.csv\n",
      "__MACOSX/MA_cbg_human_mobility_2019/._MA_cbg2cbg_2019_10.csv\n",
      "MA_cbg_human_mobility_2019/MA_cbg2cbg_2019_04.csv\n",
      "__MACOSX/MA_cbg_human_mobility_2019/._MA_cbg2cbg_2019_04.csv\n",
      "MA_cbg_human_mobility_2019/MA_cbg2cbg_2019_12.csv\n",
      "__MACOSX/MA_cbg_human_mobility_2019/._MA_cbg2cbg_2019_12.csv\n",
      "MA_cbg_human_mobility_2019/MA_cbg2cbg_2019_06.csv\n",
      "__MACOSX/MA_cbg_human_mobility_2019/._MA_cbg2cbg_2019_06.csv\n",
      "MA_cbg_human_mobility_2019/MA_cbg2cbg_2019_07.csv\n",
      "__MACOSX/MA_cbg_human_mobility_2019/._MA_cbg2cbg_2019_07.csv\n"
     ]
    }
   ],
   "source": [
    "import zipfile\n",
    "\n",
    "with zipfile.ZipFile(\"MA_cbg_human_mobility_2019.zip\") as zf:\n",
    "    zfs = zf.namelist()\n",
    "    for f in zfs:\n",
    "        if \"csv\" in f:\n",
    "            print(f)\n"
   ]
  },
  {
   "cell_type": "code",
   "execution_count": 11,
   "id": "53e4c550",
   "metadata": {
    "pycharm": {
     "name": "#%%\n"
    }
   },
   "outputs": [
    {
     "name": "stdout",
     "output_type": "stream",
     "text": [
      "264\n"
     ]
    }
   ],
   "source": [
    "import os\n",
    "\n",
    "fol = os.listdir(\"MA_cbg_human_mobility_2019\")\n",
    "sum = 0\n",
    "for f in fol:\n",
    "    if \"csv\" in f:\n",
    "        for line in f:\n",
    "            sum += 1\n",
    "print (sum)"
   ]
  },
  {
   "cell_type": "code",
   "execution_count": 15,
   "id": "95776e0d",
   "metadata": {
    "pycharm": {
     "name": "#%%\n"
    }
   },
   "outputs": [],
   "source": [
    "import os\n",
    "\n",
    "fol = os.listdir(\"MA_cbg_human_mobility_2019\")\n",
    "d = {}\n",
    "for f in fol:\n",
    "    sum = 0\n",
    "    if \"csv\" in f:\n",
    "        for line in f:\n",
    "            sum += 1\n",
    "        d[f] = sum\n",
    "\n",
    "with open(\"test.json\", \"w\") as outfile:\n",
    "    outfile.write(str(d))"
   ]
  },
  {
   "cell_type": "code",
   "execution_count": null,
   "id": "7f388821",
   "metadata": {
    "pycharm": {
     "name": "#%%\n"
    }
   },
   "outputs": [],
   "source": []
  }
 ],
 "metadata": {
  "kernelspec": {
   "display_name": "Python 3 (ipykernel)",
   "language": "python",
   "name": "python3"
  },
  "language_info": {
   "codemirror_mode": {
    "name": "ipython",
    "version": 3
   },
   "file_extension": ".py",
   "mimetype": "text/x-python",
   "name": "python",
   "nbconvert_exporter": "python",
   "pygments_lexer": "ipython3",
   "version": "3.9.12"
  }
 },
 "nbformat": 4,
 "nbformat_minor": 5
}