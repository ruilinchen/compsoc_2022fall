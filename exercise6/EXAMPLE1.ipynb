{
 "cells": [
  {
   "cell_type": "code",
   "execution_count": 28,
   "id": "05e4f7ce",
   "metadata": {
    "pycharm": {
     "name": "#%%\n"
    }
   },
   "outputs": [
    {
     "name": "stderr",
     "output_type": "stream",
     "text": [
      "/var/folders/px/r9m0wp4d2r1ch92wvy399c4c0000gn/T/ipykernel_71528/584535621.py:6: DtypeWarning: Columns (0) have mixed types. Specify dtype option on import or set low_memory=False.\n",
      "  crime19_df = pd.read_csv('crime_incidents2019.csv')\n",
      "/var/folders/px/r9m0wp4d2r1ch92wvy399c4c0000gn/T/ipykernel_71528/584535621.py:7: DtypeWarning: Columns (0) have mixed types. Specify dtype option on import or set low_memory=False.\n",
      "  crime20_df = pd.read_csv('crime_incidents2020.csv')\n"
     ]
    },
    {
     "name": "stdout",
     "output_type": "stream",
     "text": [
      "      INCIDENT_NUMBER  OFFENSE_CODE  OFFENSE_CODE_GROUP  \\\n",
      "0           102091671          2647                 NaN   \n",
      "1           102095489          3115                 NaN   \n",
      "2           102096818          2905                 NaN   \n",
      "4           129099920          3301                 NaN   \n",
      "5           129099936          1106                 NaN   \n",
      "...               ...           ...                 ...   \n",
      "70889        20063425          3114                 NaN   \n",
      "70890        20062356          1107                 NaN   \n",
      "70891        20046400          1501                 NaN   \n",
      "70892        20038446          1501                 NaN   \n",
      "70893        20030892           540                 NaN   \n",
      "\n",
      "                                     OFFENSE_DESCRIPTION DISTRICT  \\\n",
      "0                              THREATS TO DO BODILY HARM       B3   \n",
      "1                                     INVESTIGATE PERSON      E18   \n",
      "2                            VAL - VIOLATION OF AUTO LAW       A1   \n",
      "4                                         VERBAL DISPUTE       B2   \n",
      "5                        FRAUD - CREDIT CARD / ATM FRAUD       B2   \n",
      "...                                                  ...      ...   \n",
      "70889                               INVESTIGATE PROPERTY       A7   \n",
      "70890                              FRAUD - IMPERSONATION      E18   \n",
      "70891  WEAPON VIOLATION - CARRY/ POSSESSING/ SALE/ TR...       B2   \n",
      "70892  WEAPON VIOLATION - CARRY/ POSSESSING/ SALE/ TR...       B2   \n",
      "70893                              BURGLARY - COMMERICAL      C11   \n",
      "\n",
      "      REPORTING_AREA  SHOOTING     OCCURRED_ON_DATE  YEAR  MONTH DAY_OF_WEEK  \\\n",
      "0                417         0  2019-11-12 12:00:00  2019     11     Tuesday   \n",
      "1                520         0  2019-11-25 16:30:00  2019     11      Monday   \n",
      "2                            0  2019-11-30 21:00:00  2019     11    Saturday   \n",
      "4                330         0  2019-12-12 07:50:00  2019     12    Thursday   \n",
      "5                288         0  2019-11-29 06:00:00  2019     11      Friday   \n",
      "...              ...       ...                  ...   ...    ...         ...   \n",
      "70889             21         0  2020-09-01 00:00:00  2020      9     Tuesday   \n",
      "70890            520         0  2020-08-28 18:39:00  2020      8      Friday   \n",
      "70891            330         0  2020-07-02 01:38:00  2020      7    Thursday   \n",
      "70892            300         0  2020-06-03 01:15:00  2020      6   Wednesday   \n",
      "70893            380         0  2020-05-03 00:00:00  2020      5      Sunday   \n",
      "\n",
      "       HOUR  UCR_PART                                             STREET  \\\n",
      "0        12       NaN                                            MORA ST   \n",
      "1        16       NaN                                         POYDRAS ST   \n",
      "2        21       NaN  SUDBURY ST & CAMBRIDGE ST\\nBOSTON  MA 02108\\nU...   \n",
      "4         7       NaN                                      COLUMBIA ROAD   \n",
      "5         6       NaN                                      WASHINGTON ST   \n",
      "...     ...       ...                                                ...   \n",
      "70889     0       NaN                                           PARIS ST   \n",
      "70890    18       NaN                                       RIVERSIDE SQ   \n",
      "70891     1       NaN                                        PASADENA RD   \n",
      "70892     1       NaN                                      WASHINGTON ST   \n",
      "70893     0       NaN                                      GALLIVAN BLVD   \n",
      "\n",
      "             Lat       Long                                  Location  \n",
      "0      42.282082 -71.073649   (42.28208197671972, -71.07364874515646)  \n",
      "1      42.256216 -71.124019  (42.256215920402155, -71.12401947329023)  \n",
      "2      42.360866 -71.061316   (42.360866027118476, -71.0613160019785)  \n",
      "4       0.000000   0.000000                                    (0, 0)  \n",
      "5      42.329748 -71.084540  (42.329748204791635, -71.08454011649543)  \n",
      "...          ...        ...                                       ...  \n",
      "70889  42.374427 -71.035279     (42.3744269722053, -71.0352787630199)  \n",
      "70890  42.256216 -71.124019     (42.2562159204022, -71.1240194732902)  \n",
      "70891  42.305761 -71.083772     (42.3057609263196, -71.0837715727385)  \n",
      "70892  42.323808 -71.089150     (42.3238077563779, -71.0891502345332)  \n",
      "70893  42.283700 -71.047761     (42.2837003080534, -71.0477614298657)  \n",
      "\n",
      "[156759 rows x 17 columns]\n"
     ]
    }
   ],
   "source": [
    "import pandas as pd\n",
    "import os\n",
    "\n",
    "os.chdir('/Users/[editted]/Desktop/compSoc/datasets')\n",
    "\n",
    "crime19_df = pd.read_csv('crime_incidents2019.csv')\n",
    "crime20_df = pd.read_csv('crime_incidents2020.csv')\n",
    "crime_df = pd.concat([crime19_df, crime20_df])\n",
    "\n",
    "nona_df = crime_df.dropna(subset = ['INCIDENT_NUMBER', 'OFFENSE_CODE', 'DISTRICT', \n",
    "                             'Long', 'Lat', 'SHOOTING', 'OCCURRED_ON_DATE'])\n",
    "\n",
    "nodupna_df = nona_df.drop_duplicates()\n",
    "print(nodupna_df)\n",
    "nodupna_df.to_csv('clean_crime.csv', index=False)"
   ]
  },
  {
   "cell_type": "code",
   "execution_count": 8,
   "id": "28598c29",
   "metadata": {
    "pycharm": {
     "name": "#%%\n"
    }
   },
   "outputs": [
    {
     "name": "stdout",
     "output_type": "stream",
     "text": [
      "YEAR  MONTH\n",
      "2019  8        8379\n",
      "      9        8133\n",
      "      7        8036\n",
      "      5        7763\n",
      "      6        7597\n",
      "      3        7065\n",
      "      10       6990\n",
      "      4        6936\n",
      "      1        6933\n",
      "2020  10       6741\n",
      "      8        6507\n",
      "      9        6467\n",
      "2019  11       6338\n",
      "2020  1        6318\n",
      "      7        6213\n",
      "2019  2        6147\n",
      "2020  6        5897\n",
      "      2        5874\n",
      "2019  12       5826\n",
      "2020  11       5755\n",
      "      12       5581\n",
      "      3        5490\n",
      "      5        5411\n",
      "      4        4362\n",
      "dtype: int64\n",
      "YEAR   2019  2020\n",
      "MONTH            \n",
      "1      6933  6318\n",
      "2      6147  5874\n",
      "3      7065  5490\n",
      "4      6936  4362\n",
      "5      7763  5411\n",
      "6      7597  5897\n",
      "7      8036  6213\n",
      "8      8379  6507\n",
      "9      8133  6467\n",
      "10     6990  6741\n",
      "11     6338  5755\n",
      "12     5826  5581\n"
     ]
    },
    {
     "name": "stderr",
     "output_type": "stream",
     "text": [
      "/var/folders/px/r9m0wp4d2r1ch92wvy399c4c0000gn/T/ipykernel_74587/1878788524.py:6: DtypeWarning: Columns (0) have mixed types. Specify dtype option on import or set low_memory=False.\n",
      "  crime_df = pd.read_csv('clean_crime.csv')\n"
     ]
    }
   ],
   "source": [
    "import pandas as pd\n",
    "import os\n",
    "\n",
    "os.chdir('/Users/[editted]/Desktop/compSoc/datasets')\n",
    "\n",
    "crime_df = pd.read_csv('clean_crime.csv')\n",
    "\n",
    "freq_table = pd.crosstab(index=crime_df['MONTH'], columns=crime_df['YEAR'])\n",
    "#print(crime_df[['YEAR', 'MONTH']].value_counts())\n",
    "\n",
    "print(freq_table)"
   ]
  },
  {
   "cell_type": "code",
   "execution_count": 7,
   "id": "40a5268b",
   "metadata": {
    "pycharm": {
     "name": "#%%\n"
    }
   },
   "outputs": [
    {
     "name": "stdout",
     "output_type": "stream",
     "text": [
      "YEAR       2019   2020\n",
      "DISTRICT              \n",
      "A1         9936   7013\n",
      "A15        1889   1600\n",
      "A7         3400   3141\n",
      "B2        13030  10442\n",
      "B3         9591   7828\n",
      "C11       11022   8992\n",
      "C6         6286   5440\n",
      "D14        5704   4756\n",
      "D4        11276   9283\n",
      "E13        4928   4103\n",
      "E18        5197   4177\n",
      "E5         3807   3595\n"
     ]
    },
    {
     "name": "stderr",
     "output_type": "stream",
     "text": [
      "/var/folders/px/r9m0wp4d2r1ch92wvy399c4c0000gn/T/ipykernel_74587/1850182064.py:6: DtypeWarning: Columns (0) have mixed types. Specify dtype option on import or set low_memory=False.\n",
      "  crime_df = pd.read_csv('clean_crime.csv')\n"
     ]
    }
   ],
   "source": [
    "import pandas as pd\n",
    "import os\n",
    "\n",
    "os.chdir('/Users/[editted]/Desktop/compSoc/datasets')\n",
    "\n",
    "crime_df = pd.read_csv('clean_crime.csv')\n",
    "\n",
    "crime_df = crime_df[crime_df.DISTRICT != 'External']\n",
    "\n",
    "\n",
    "freq_table = pd.crosstab(index=crime_df['DISTRICT'], columns=crime_df['YEAR'])\n",
    "\n",
    "print(freq_table)"
   ]
  },
  {
   "cell_type": "markdown",
   "id": "4e9a4e23",
   "metadata": {
    "pycharm": {
     "name": "#%% md\n"
    }
   },
   "source": [
    "Districts B2, D4, and C11 have significantly higher crime counts in both years than other districts. Districts B2 and D4 are two of Boston's primarily-Black districts, which may provide an explanation for this discrepancy."
   ]
  }
 ],
 "metadata": {
  "kernelspec": {
   "display_name": "Python 3 (ipykernel)",
   "language": "python",
   "name": "python3"
  },
  "language_info": {
   "codemirror_mode": {
    "name": "ipython",
    "version": 3
   },
   "file_extension": ".py",
   "mimetype": "text/x-python",
   "name": "python",
   "nbconvert_exporter": "python",
   "pygments_lexer": "ipython3",
   "version": "3.9.12"
  }
 },
 "nbformat": 4,
 "nbformat_minor": 5
}