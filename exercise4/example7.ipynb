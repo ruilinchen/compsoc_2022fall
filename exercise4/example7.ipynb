{
 "cells": [
  {
   "cell_type": "code",
   "execution_count": 33,
   "id": "9420c47d",
   "metadata": {
    "pycharm": {
     "name": "#%%\n"
    }
   },
   "outputs": [
    {
     "name": "stdout",
     "output_type": "stream",
     "text": [
      "Example content:\n",
      "\n",
      "\n",
      "\n",
      "\n",
      "\n",
      "\n",
      "\n",
      "\n",
      "\n",
      "More example files: https://www.online-convert.com/file-type\n",
      "\n",
      "License: Attribution-ShareAlike 4.0 (https://creativecommons.org/licenses/by-sa/4.0/)\n",
      "\n",
      "Feel free to use and share the file according to the license above.\n"
     ]
    }
   ],
   "source": [
    "f = open('example.txt', 'r')\n",
    "lines = f.readlines()\n",
    "\n",
    "for i in range(0, len(lines)):\n",
    "    if (i > 5 and i%2 == 0): #this prints from the 7th line\n",
    "        print(lines[i])\n",
    "#     if (i > 6 and i%2 != 0): #this prints from the 8th line, \n",
    "#         print(lines[i])      #but includes relevant text"
   ]
  },
  {
   "cell_type": "code",
   "execution_count": 45,
   "id": "6cde0e9c",
   "metadata": {
    "pycharm": {
     "name": "#%%\n"
    }
   },
   "outputs": [
    {
     "data": {
      "text/plain": [
       "20.0"
      ]
     },
     "execution_count": 45,
     "metadata": {},
     "output_type": "execute_result"
    }
   ],
   "source": [
    "def sumForTwenty(n1, n2, n3, n4, n5, n6, n7, n8, n9, n10, n11,\n",
    "                 n12, n13, n14, n15, n16, n17, n18, n19, n20):\n",
    "    try: \n",
    "        sum = (n1 + n2 + n3 + n4 + n5 + n6 + n7 + n8 + n9 + n10 +\n",
    "        n11 + n12 + n13 + n14 + n15 + n16 + n17 + n18 + n19 + n20)\n",
    "        return sum\n",
    "    except TypeError:\n",
    "        return(\"Please enter either an integer or float value for each number.\")\n",
    "    \n",
    "    \n",
    "sumForTwenty(1,1,1,1,1,1,1,1.0,1,1,1,1,1,1,1,1,1,1,1,1) #20.0\n",
    "# sumForTwenty(1,1,1,1,1,1,1,'1.0',1,1,1,1,1,1,1,1,1,1,1,1) #error\n",
    "# sumForTwenty(1,1,1,1,1,1,1,1,1,1,1,1,1,1,1,1,1,1,1,1) #20"
   ]
  },
  {
   "cell_type": "code",
   "execution_count": 43,
   "id": "00ac224b",
   "metadata": {
    "pycharm": {
     "name": "#%%\n"
    }
   },
   "outputs": [
    {
     "name": "stdout",
     "output_type": "stream",
     "text": [
      "['r', 'i', 'l'] \n",
      " 3\n"
     ]
    },
    {
     "data": {
      "text/plain": [
       "['r1', 'i1', 'l1', 'r2', 'i2', 'l2', 'r3', 'i3', 'l3']"
      ]
     },
     "execution_count": 43,
     "metadata": {},
     "output_type": "execute_result"
    }
   ],
   "source": [
    "import random\n",
    "\n",
    "def duplicateNames(l, n):\n",
    "    dupes = []\n",
    "    for i in range(n):\n",
    "        for j in range(len(l)):\n",
    "            dupes.append(l[j]+str(i+1))\n",
    "    return dupes\n",
    "\n",
    "strings = list({chr(random.randint(97, 122)) for i in range(3)})\n",
    "num = random.randint(2, 5)\n",
    "print (strings, '\\n', num)\n",
    "\n",
    "duplicateNames(strings, num)"
   ]
  },
  {
   "cell_type": "code",
   "execution_count": 71,
   "id": "b3af694f",
   "metadata": {
    "pycharm": {
     "name": "#%%\n"
    }
   },
   "outputs": [
    {
     "name": "stdout",
     "output_type": "stream",
     "text": [
      "{'a': 84, 'b': 82, 'c': 81, 'd': 92, 'e': 70, 'f': 93}\n",
      "f\n",
      "d\n",
      "a\n"
     ]
    }
   ],
   "source": [
    "import random\n",
    "\n",
    "def top3Players(d):\n",
    "    for i in range(3):\n",
    "        max = list(d)[0]\n",
    "        for k in d.keys():\n",
    "            if d.get(k) > d.get(max):\n",
    "                max = k\n",
    "        print(max)\n",
    "        del d[max]\n",
    "    return\n",
    "\n",
    "#generating players w/ unique scores\n",
    "players = {}\n",
    "for i in range(6):\n",
    "    player = chr(97+i)\n",
    "    num = random.randint(70,99)\n",
    "    while num in players.values():\n",
    "        num = random.randint(70,99)\n",
    "    players[player] = num\n",
    "#     if num not in players.values(): #another way to get unique values\n",
    "#         players[player] = num\n",
    "\n",
    "print (players)\n",
    "top3Players(players)"
   ]
  },
  {
   "cell_type": "code",
   "execution_count": null,
   "id": "df036542",
   "metadata": {
    "pycharm": {
     "name": "#%%\n"
    }
   },
   "outputs": [],
   "source": []
  },
  {
   "cell_type": "code",
   "execution_count": null,
   "id": "22c9fffc",
   "metadata": {
    "pycharm": {
     "name": "#%%\n"
    }
   },
   "outputs": [],
   "source": []
  }
 ],
 "metadata": {
  "kernelspec": {
   "display_name": "Python 3 (ipykernel)",
   "language": "python",
   "name": "python3"
  },
  "language_info": {
   "codemirror_mode": {
    "name": "ipython",
    "version": 3
   },
   "file_extension": ".py",
   "mimetype": "text/x-python",
   "name": "python",
   "nbconvert_exporter": "python",
   "pygments_lexer": "ipython3",
   "version": "3.9.12"
  }
 },
 "nbformat": 4,
 "nbformat_minor": 5
}