{
 "cells": [
  {
   "cell_type": "markdown",
   "metadata": {
    "pycharm": {
     "name": "#%% md\n"
    }
   },
   "source": [
    "[editted]\n",
    "\n",
    "Task 3.1:  Write a function that takes a list of numbers as input, finds the largest and smallest element of the list, and returns the largest element minus the smallest element as output. "
   ]
  },
  {
   "cell_type": "code",
   "execution_count": 26,
   "metadata": {
    "pycharm": {
     "name": "#%%\n"
    }
   },
   "outputs": [
    {
     "name": "stdout",
     "output_type": "stream",
     "text": [
      "The smallest elemment is 7\n"
     ]
    }
   ],
   "source": [
    "# list of numbers\n",
    "list1 = [9, 7, 10, 19, 47, 38]\n",
    "\n",
    "# sorting list\n",
    "list1.sort()\n",
    "\n",
    "# print the smallest number\n",
    "\n",
    "# This works, but isn't the best method:\n",
    "# print(\"The smallest number is\", list1[0])\n",
    "\n",
    "# This works better:\n",
    "print(\"The smallest elemment is\", min(list1))"
   ]
  },
  {
   "cell_type": "code",
   "execution_count": 27,
   "metadata": {
    "pycharm": {
     "name": "#%%\n"
    }
   },
   "outputs": [
    {
     "name": "stdout",
     "output_type": "stream",
     "text": [
      "The largest element is 47\n"
     ]
    }
   ],
   "source": [
    "# list of numbers\n",
    "list1 = [9, 7, 10, 19, 47, 38]\n",
    "\n",
    "# sorting list\n",
    "list1.sort()\n",
    "\n",
    "# print the largest number\n",
    "\n",
    "# This works, but is not the best method:\n",
    "# print(\"The largest number is\", list1[-1])\n",
    "\n",
    "# This works better:\n",
    "print(\"The largest element is\",  max(list1))"
   ]
  },
  {
   "cell_type": "code",
   "execution_count": 28,
   "metadata": {
    "pycharm": {
     "name": "#%%\n"
    }
   },
   "outputs": [],
   "source": [
    "def largest_minus_smallest(list1):\n",
    "    x = max(list1)\n",
    "    y = min(list1)\n",
    "    return x - y"
   ]
  },
  {
   "cell_type": "code",
   "execution_count": 29,
   "metadata": {
    "pycharm": {
     "name": "#%%\n"
    }
   },
   "outputs": [
    {
     "name": "stdout",
     "output_type": "stream",
     "text": [
      "The largest element minus the smallest element is 40\n"
     ]
    }
   ],
   "source": [
    "print (\"The largest element minus the smallest element is\", largest_minus_smallest(list1))"
   ]
  },
  {
   "cell_type": "markdown",
   "metadata": {
    "pycharm": {
     "name": "#%% md\n"
    }
   },
   "source": [
    "Task 3.2: Write a function that takes two lists as input, combines them by alternatively taking their elements, e.g. [a,b,c], [1,2,3] → [a,1,b,2,c,3], and returns the combined list as output. "
   ]
  },
  {
   "cell_type": "code",
   "execution_count": 35,
   "metadata": {
    "pycharm": {
     "name": "#%%\n"
    }
   },
   "outputs": [
    {
     "name": "stdout",
     "output_type": "stream",
     "text": [
      "[1, 'a', 2, 'b', 3, 'c']\n"
     ]
    }
   ],
   "source": [
    "listA = [\"a\",\"b\",\"c\"]\n",
    "\n",
    "listB = [1, 2, 3]\n",
    "\n",
    "def combined_list (listB, listA):\n",
    "    return [sub[item] for item in range(len(listA))\n",
    "         for sub in [listB, listA]]\n",
    "\n",
    "print(combined_list (listB, listA))\n"
   ]
  },
  {
   "cell_type": "markdown",
   "metadata": {
    "pycharm": {
     "name": "#%% md\n"
    }
   },
   "source": [
    "Task 3.3: Write a function that takes a list as input, and returns a frequency table of the list in the format of a dictionary. Example: ['a', 'b', 'a'] -> {'a': 2, 'b': 1}"
   ]
  },
  {
   "cell_type": "code",
   "execution_count": 40,
   "metadata": {
    "pycharm": {
     "name": "#%%\n"
    }
   },
   "outputs": [
    {
     "name": "stdout",
     "output_type": "stream",
     "text": [
      "{'a': 3, 'b': 4, 'c': 1}\n"
     ]
    }
   ],
   "source": [
    "list2 = [\"a\", \"a\", \"a\", \"b\", \"b\", \"b\", \"b\", \"c\"]\n",
    "\n",
    "def count_freq(list2):\n",
    "    count = {}\n",
    "    for i in list2:\n",
    "        count[i] = count.get(i, 0) + 1\n",
    "    return count\n",
    "\n",
    "print(count_freq(list2))"
   ]
  },
  {
   "cell_type": "markdown",
   "metadata": {
    "pycharm": {
     "name": "#%% md\n"
    }
   },
   "source": [
    "Task 3.4: Write a function that takes two lists as input, and returns another list that contains only the elements that are common between the two lists (without duplicates). Hint: Use `set` for this task.  "
   ]
  },
  {
   "cell_type": "code",
   "execution_count": 47,
   "metadata": {
    "pycharm": {
     "name": "#%%\n"
    }
   },
   "outputs": [],
   "source": [
    "listC = [1, 2, 3, 4, 6, 7, 8, 9, 10]\n",
    "\n",
    "listD = [1, 4, 5, 8, 11, 12, 14]\n",
    "\n",
    "# This works too:\n",
    "# list(set(listC).intersection(listD))\n",
    "\n",
    "\n",
    "def common_elements(c, d):\n",
    "    c_set = set(c)\n",
    "    d_set = set(d)\n",
    "\n",
    "    if (c_set & d_set):\n",
    "        print(c_set & d_set)\n"
   ]
  },
  {
   "cell_type": "code",
   "execution_count": 48,
   "metadata": {
    "pycharm": {
     "name": "#%%\n"
    }
   },
   "outputs": [
    {
     "name": "stdout",
     "output_type": "stream",
     "text": [
      "{8, 1, 4}\n"
     ]
    }
   ],
   "source": [
    "common_elements(listC, listD)"
   ]
  },
  {
   "cell_type": "markdown",
   "metadata": {
    "pycharm": {
     "name": "#%% md\n"
    }
   },
   "source": []
  }
 ],
 "metadata": {
  "kernelspec": {
   "display_name": "Python 3.10.5 64-bit",
   "language": "python",
   "name": "python3"
  },
  "language_info": {
   "codemirror_mode": {
    "name": "ipython",
    "version": 3
   },
   "file_extension": ".py",
   "mimetype": "text/x-python",
   "name": "python",
   "nbconvert_exporter": "python",
   "pygments_lexer": "ipython3",
   "version": "3.10.5"
  },
  "orig_nbformat": 4,
  "vscode": {
   "interpreter": {
    "hash": "aee8b7b246df8f9039afb4144a1f6fd8d2ca17a180786b69acc140d282b71a49"
   }
  }
 },
 "nbformat": 4,
 "nbformat_minor": 2
}