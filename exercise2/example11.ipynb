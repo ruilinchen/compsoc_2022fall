{
 "cells": [
  {
   "cell_type": "code",
   "execution_count": 1,
   "id": "8378444f",
   "metadata": {
    "pycharm": {
     "name": "#%%\n"
    }
   },
   "outputs": [],
   "source": [
    "def sumForFour():\n",
    "    counter = 0\n",
    "    total = 0\n",
    "    while counter < 4:\n",
    "        x = float(input(\"Please enter a number: \"))\n",
    "        if type(x) == str:\n",
    "            print(\"The entry is not a number\")\n",
    "        else:\n",
    "            total += x\n",
    "            counter += 1\n",
    "    return total"
   ]
  },
  {
   "cell_type": "code",
   "execution_count": 2,
   "id": "bd2c90f8",
   "metadata": {
    "pycharm": {
     "name": "#%%\n"
    }
   },
   "outputs": [
    {
     "name": "stdout",
     "output_type": "stream",
     "text": [
      "Please enter a number: 1\n",
      "Please enter a number: 2\n",
      "Please enter a number: 5\n",
      "Please enter a number: 4\n",
      "12.0\n"
     ]
    }
   ],
   "source": [
    "print(sumForFour())"
   ]
  },
  {
   "cell_type": "code",
   "execution_count": 3,
   "id": "5716c839",
   "metadata": {
    "pycharm": {
     "name": "#%%\n"
    }
   },
   "outputs": [],
   "source": [
    "def oneThroughN():\n",
    "    n = int(input(\"Please enter a number: \"))\n",
    "    total = 0\n",
    "    if type(n) != int:\n",
    "        print(\"That is not a number!\")\n",
    "    else:\n",
    "        total = sum(range(n + 1))\n",
    "        return(total)\n"
   ]
  },
  {
   "cell_type": "code",
   "execution_count": 4,
   "id": "f9cf9ad8",
   "metadata": {
    "pycharm": {
     "name": "#%%\n"
    }
   },
   "outputs": [
    {
     "name": "stdout",
     "output_type": "stream",
     "text": [
      "Please enter a number: 4\n",
      "10\n"
     ]
    }
   ],
   "source": [
    "print(oneThroughN())"
   ]
  },
  {
   "cell_type": "code",
   "execution_count": 5,
   "id": "91ad14c4",
   "metadata": {
    "pycharm": {
     "name": "#%%\n"
    }
   },
   "outputs": [
    {
     "data": {
      "text/plain": [
       "0.28948660990327924"
      ]
     },
     "execution_count": 5,
     "metadata": {},
     "output_type": "execute_result"
    }
   ],
   "source": [
    "import random\n",
    "random.random()"
   ]
  },
  {
   "cell_type": "markdown",
   "id": "85b586d0",
   "metadata": {
    "pycharm": {
     "name": "#%% md\n"
    }
   },
   "source": [
    "\"random.random()\" outputs a random number. \"random.random\" is some sort of function from the random package. the \".\" symbol probably initiates random from random. \"import random\" imports the random package so that it can be used."
   ]
  }
 ],
 "metadata": {
  "kernelspec": {
   "display_name": "Python 3 (ipykernel)",
   "language": "python",
   "name": "python3"
  },
  "language_info": {
   "codemirror_mode": {
    "name": "ipython",
    "version": 3
   },
   "file_extension": ".py",
   "mimetype": "text/x-python",
   "name": "python",
   "nbconvert_exporter": "python",
   "pygments_lexer": "ipython3",
   "version": "3.9.12"
  }
 },
 "nbformat": 4,
 "nbformat_minor": 5
}