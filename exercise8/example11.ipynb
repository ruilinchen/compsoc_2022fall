{
 "cells": [
  {
   "cell_type": "code",
   "execution_count": 18,
   "metadata": {
    "pycharm": {
     "name": "#%%\n"
    }
   },
   "outputs": [],
   "source": [
    "import os\n",
    "import pandas as pd\n",
    "import seaborn as sns \n",
    "\n",
    "%matplotlib inline\n",
    "import matplotlib.pyplot as plt"
   ]
  },
  {
   "cell_type": "code",
   "execution_count": 11,
   "metadata": {
    "pycharm": {
     "name": "#%%\n"
    }
   },
   "outputs": [
    {
     "name": "stderr",
     "output_type": "stream",
     "text": [
      "/opt/anaconda3/envs/PythonData/lib/python3.7/site-packages/IPython/core/interactiveshell.py:3457: DtypeWarning: Columns (0) have mixed types.Specify dtype option on import or set low_memory=False.\n",
      "  exec(code_obj, self.user_global_ns, self.user_ns)\n"
     ]
    },
    {
     "data": {
      "text/html": [
       "<div>\n",
       "<style scoped>\n",
       "    .dataframe tbody tr th:only-of-type {\n",
       "        vertical-align: middle;\n",
       "    }\n",
       "\n",
       "    .dataframe tbody tr th {\n",
       "        vertical-align: top;\n",
       "    }\n",
       "\n",
       "    .dataframe thead th {\n",
       "        text-align: right;\n",
       "    }\n",
       "</style>\n",
       "<table border=\"1\" class=\"dataframe\">\n",
       "  <thead>\n",
       "    <tr style=\"text-align: right;\">\n",
       "      <th></th>\n",
       "      <th>INCIDENT_NUMBER</th>\n",
       "      <th>OFFENSE_CODE</th>\n",
       "      <th>OFFENSE_CODE_GROUP</th>\n",
       "      <th>OFFENSE_DESCRIPTION</th>\n",
       "      <th>DISTRICT</th>\n",
       "      <th>REPORTING_AREA</th>\n",
       "      <th>SHOOTING</th>\n",
       "      <th>OCCURRED_ON_DATE</th>\n",
       "      <th>YEAR</th>\n",
       "      <th>MONTH</th>\n",
       "      <th>DAY_OF_WEEK</th>\n",
       "      <th>HOUR</th>\n",
       "      <th>UCR_PART</th>\n",
       "      <th>STREET</th>\n",
       "      <th>Lat</th>\n",
       "      <th>Long</th>\n",
       "      <th>Location</th>\n",
       "    </tr>\n",
       "  </thead>\n",
       "  <tbody>\n",
       "    <tr>\n",
       "      <th>0</th>\n",
       "      <td>102091671</td>\n",
       "      <td>2647</td>\n",
       "      <td>NaN</td>\n",
       "      <td>THREATS TO DO BODILY HARM</td>\n",
       "      <td>B3</td>\n",
       "      <td>417</td>\n",
       "      <td>0</td>\n",
       "      <td>2019-11-12 12:00:00</td>\n",
       "      <td>2019</td>\n",
       "      <td>11</td>\n",
       "      <td>Tuesday</td>\n",
       "      <td>12</td>\n",
       "      <td>NaN</td>\n",
       "      <td>MORA ST</td>\n",
       "      <td>42.282082</td>\n",
       "      <td>-71.073649</td>\n",
       "      <td>(42.28208197671972, -71.07364874515646)</td>\n",
       "    </tr>\n",
       "    <tr>\n",
       "      <th>1</th>\n",
       "      <td>102095489</td>\n",
       "      <td>3115</td>\n",
       "      <td>NaN</td>\n",
       "      <td>INVESTIGATE PERSON</td>\n",
       "      <td>E18</td>\n",
       "      <td>520</td>\n",
       "      <td>0</td>\n",
       "      <td>2019-11-25 16:30:00</td>\n",
       "      <td>2019</td>\n",
       "      <td>11</td>\n",
       "      <td>Monday</td>\n",
       "      <td>16</td>\n",
       "      <td>NaN</td>\n",
       "      <td>POYDRAS ST</td>\n",
       "      <td>42.256216</td>\n",
       "      <td>-71.124019</td>\n",
       "      <td>(42.256215920402155, -71.12401947329023)</td>\n",
       "    </tr>\n",
       "    <tr>\n",
       "      <th>2</th>\n",
       "      <td>102096818</td>\n",
       "      <td>2905</td>\n",
       "      <td>NaN</td>\n",
       "      <td>VAL - VIOLATION OF AUTO LAW</td>\n",
       "      <td>A1</td>\n",
       "      <td></td>\n",
       "      <td>0</td>\n",
       "      <td>2019-11-30 21:00:00</td>\n",
       "      <td>2019</td>\n",
       "      <td>11</td>\n",
       "      <td>Saturday</td>\n",
       "      <td>21</td>\n",
       "      <td>NaN</td>\n",
       "      <td>SUDBURY ST &amp; CAMBRIDGE ST\\nBOSTON  MA 02108\\nU...</td>\n",
       "      <td>42.360866</td>\n",
       "      <td>-71.061316</td>\n",
       "      <td>(42.360866027118476, -71.0613160019785)</td>\n",
       "    </tr>\n",
       "    <tr>\n",
       "      <th>3</th>\n",
       "      <td>129092894</td>\n",
       "      <td>3201</td>\n",
       "      <td>NaN</td>\n",
       "      <td>PROPERTY - LOST/ MISSING</td>\n",
       "      <td>NaN</td>\n",
       "      <td>503</td>\n",
       "      <td>0</td>\n",
       "      <td>2019-11-16 13:30:00</td>\n",
       "      <td>2019</td>\n",
       "      <td>11</td>\n",
       "      <td>Saturday</td>\n",
       "      <td>13</td>\n",
       "      <td>NaN</td>\n",
       "      <td>AMERICAN LEGION HWY</td>\n",
       "      <td>42.284467</td>\n",
       "      <td>-71.111831</td>\n",
       "      <td>(42.28446742674232, -71.11183088758158)</td>\n",
       "    </tr>\n",
       "    <tr>\n",
       "      <th>4</th>\n",
       "      <td>129099920</td>\n",
       "      <td>3301</td>\n",
       "      <td>NaN</td>\n",
       "      <td>VERBAL DISPUTE</td>\n",
       "      <td>B2</td>\n",
       "      <td>330</td>\n",
       "      <td>0</td>\n",
       "      <td>2019-12-12 07:50:00</td>\n",
       "      <td>2019</td>\n",
       "      <td>12</td>\n",
       "      <td>Thursday</td>\n",
       "      <td>7</td>\n",
       "      <td>NaN</td>\n",
       "      <td>COLUMBIA ROAD</td>\n",
       "      <td>0.000000</td>\n",
       "      <td>0.000000</td>\n",
       "      <td>(0, 0)</td>\n",
       "    </tr>\n",
       "  </tbody>\n",
       "</table>\n",
       "</div>"
      ],
      "text/plain": [
       "  INCIDENT_NUMBER  OFFENSE_CODE  OFFENSE_CODE_GROUP  \\\n",
       "0       102091671          2647                 NaN   \n",
       "1       102095489          3115                 NaN   \n",
       "2       102096818          2905                 NaN   \n",
       "3       129092894          3201                 NaN   \n",
       "4       129099920          3301                 NaN   \n",
       "\n",
       "           OFFENSE_DESCRIPTION DISTRICT REPORTING_AREA  SHOOTING  \\\n",
       "0    THREATS TO DO BODILY HARM       B3            417         0   \n",
       "1           INVESTIGATE PERSON      E18            520         0   \n",
       "2  VAL - VIOLATION OF AUTO LAW       A1                        0   \n",
       "3     PROPERTY - LOST/ MISSING      NaN            503         0   \n",
       "4               VERBAL DISPUTE       B2            330         0   \n",
       "\n",
       "      OCCURRED_ON_DATE  YEAR  MONTH DAY_OF_WEEK  HOUR  UCR_PART  \\\n",
       "0  2019-11-12 12:00:00  2019     11     Tuesday    12       NaN   \n",
       "1  2019-11-25 16:30:00  2019     11      Monday    16       NaN   \n",
       "2  2019-11-30 21:00:00  2019     11    Saturday    21       NaN   \n",
       "3  2019-11-16 13:30:00  2019     11    Saturday    13       NaN   \n",
       "4  2019-12-12 07:50:00  2019     12    Thursday     7       NaN   \n",
       "\n",
       "                                              STREET        Lat       Long  \\\n",
       "0                                            MORA ST  42.282082 -71.073649   \n",
       "1                                         POYDRAS ST  42.256216 -71.124019   \n",
       "2  SUDBURY ST & CAMBRIDGE ST\\nBOSTON  MA 02108\\nU...  42.360866 -71.061316   \n",
       "3                                AMERICAN LEGION HWY  42.284467 -71.111831   \n",
       "4                                      COLUMBIA ROAD   0.000000   0.000000   \n",
       "\n",
       "                                   Location  \n",
       "0   (42.28208197671972, -71.07364874515646)  \n",
       "1  (42.256215920402155, -71.12401947329023)  \n",
       "2   (42.360866027118476, -71.0613160019785)  \n",
       "3   (42.28446742674232, -71.11183088758158)  \n",
       "4                                    (0, 0)  "
      ]
     },
     "execution_count": 11,
     "metadata": {},
     "output_type": "execute_result"
    }
   ],
   "source": [
    "Boston_crime_2019 = pd.read_csv(\"/Users/[editted]/Downloads/tmp9mkqyv6b.csv\")\n",
    "Boston_crime_2019.head()"
   ]
  },
  {
   "cell_type": "code",
   "execution_count": 12,
   "metadata": {
    "pycharm": {
     "name": "#%%\n"
    }
   },
   "outputs": [
    {
     "name": "stderr",
     "output_type": "stream",
     "text": [
      "/opt/anaconda3/envs/PythonData/lib/python3.7/site-packages/IPython/core/interactiveshell.py:3457: DtypeWarning: Columns (0) have mixed types.Specify dtype option on import or set low_memory=False.\n",
      "  exec(code_obj, self.user_global_ns, self.user_ns)\n"
     ]
    },
    {
     "data": {
      "text/html": [
       "<div>\n",
       "<style scoped>\n",
       "    .dataframe tbody tr th:only-of-type {\n",
       "        vertical-align: middle;\n",
       "    }\n",
       "\n",
       "    .dataframe tbody tr th {\n",
       "        vertical-align: top;\n",
       "    }\n",
       "\n",
       "    .dataframe thead th {\n",
       "        text-align: right;\n",
       "    }\n",
       "</style>\n",
       "<table border=\"1\" class=\"dataframe\">\n",
       "  <thead>\n",
       "    <tr style=\"text-align: right;\">\n",
       "      <th></th>\n",
       "      <th>INCIDENT_NUMBER</th>\n",
       "      <th>OFFENSE_CODE</th>\n",
       "      <th>OFFENSE_CODE_GROUP</th>\n",
       "      <th>OFFENSE_DESCRIPTION</th>\n",
       "      <th>DISTRICT</th>\n",
       "      <th>REPORTING_AREA</th>\n",
       "      <th>SHOOTING</th>\n",
       "      <th>OCCURRED_ON_DATE</th>\n",
       "      <th>YEAR</th>\n",
       "      <th>MONTH</th>\n",
       "      <th>DAY_OF_WEEK</th>\n",
       "      <th>HOUR</th>\n",
       "      <th>UCR_PART</th>\n",
       "      <th>STREET</th>\n",
       "      <th>Lat</th>\n",
       "      <th>Long</th>\n",
       "      <th>Location</th>\n",
       "    </tr>\n",
       "  </thead>\n",
       "  <tbody>\n",
       "    <tr>\n",
       "      <th>0</th>\n",
       "      <td>854652314</td>\n",
       "      <td>3115</td>\n",
       "      <td>NaN</td>\n",
       "      <td>INVESTIGATE PERSON</td>\n",
       "      <td>B2</td>\n",
       "      <td>289</td>\n",
       "      <td>0</td>\n",
       "      <td>2/20/20 0:00</td>\n",
       "      <td>2020</td>\n",
       "      <td>2</td>\n",
       "      <td>Thursday</td>\n",
       "      <td>0</td>\n",
       "      <td>NaN</td>\n",
       "      <td>SCHROEDER PLZ</td>\n",
       "      <td>42.333679</td>\n",
       "      <td>-71.091878</td>\n",
       "      <td>(42.3336792181085, -71.0918775461846)</td>\n",
       "    </tr>\n",
       "    <tr>\n",
       "      <th>1</th>\n",
       "      <td>457856954</td>\n",
       "      <td>3115</td>\n",
       "      <td>NaN</td>\n",
       "      <td>INVESTIGATE PERSON</td>\n",
       "      <td>B2</td>\n",
       "      <td>289</td>\n",
       "      <td>0</td>\n",
       "      <td>2/21/20 1:42</td>\n",
       "      <td>2020</td>\n",
       "      <td>2</td>\n",
       "      <td>Friday</td>\n",
       "      <td>1</td>\n",
       "      <td>NaN</td>\n",
       "      <td>SCHROEDER PLZ</td>\n",
       "      <td>42.333679</td>\n",
       "      <td>-71.091878</td>\n",
       "      <td>(42.3336792181085, -71.0918775461846)</td>\n",
       "    </tr>\n",
       "    <tr>\n",
       "      <th>2</th>\n",
       "      <td>302030654</td>\n",
       "      <td>1106</td>\n",
       "      <td>NaN</td>\n",
       "      <td>FRAUD - CREDIT CARD / ATM FRAUD</td>\n",
       "      <td>D4</td>\n",
       "      <td>167</td>\n",
       "      <td>0</td>\n",
       "      <td>4/24/20 13:00</td>\n",
       "      <td>2020</td>\n",
       "      <td>4</td>\n",
       "      <td>Friday</td>\n",
       "      <td>13</td>\n",
       "      <td>NaN</td>\n",
       "      <td>MASSACHUSETTS AVE</td>\n",
       "      <td>42.339542</td>\n",
       "      <td>-71.069409</td>\n",
       "      <td>(42.3395419898301, -71.0694087696754)</td>\n",
       "    </tr>\n",
       "    <tr>\n",
       "      <th>3</th>\n",
       "      <td>212025777</td>\n",
       "      <td>1108</td>\n",
       "      <td>NaN</td>\n",
       "      <td>FRAUD - WELFARE</td>\n",
       "      <td>A7</td>\n",
       "      <td>28</td>\n",
       "      <td>0</td>\n",
       "      <td>5/1/20 0:00</td>\n",
       "      <td>2020</td>\n",
       "      <td>5</td>\n",
       "      <td>Friday</td>\n",
       "      <td>0</td>\n",
       "      <td>NaN</td>\n",
       "      <td>TRENTON ST</td>\n",
       "      <td>42.370818</td>\n",
       "      <td>-71.039291</td>\n",
       "      <td>(42.3708180467024, -71.0392907813515)</td>\n",
       "    </tr>\n",
       "    <tr>\n",
       "      <th>4</th>\n",
       "      <td>212025557</td>\n",
       "      <td>2670</td>\n",
       "      <td>NaN</td>\n",
       "      <td>HARASSMENT/ CRIMINAL HARASSMENT</td>\n",
       "      <td>A1</td>\n",
       "      <td>77</td>\n",
       "      <td>0</td>\n",
       "      <td>9/7/20 0:00</td>\n",
       "      <td>2020</td>\n",
       "      <td>9</td>\n",
       "      <td>Monday</td>\n",
       "      <td>0</td>\n",
       "      <td>NaN</td>\n",
       "      <td>PRINCE ST</td>\n",
       "      <td>42.361839</td>\n",
       "      <td>-71.059765</td>\n",
       "      <td>(42.3618385665647, -71.0597648909416)</td>\n",
       "    </tr>\n",
       "  </tbody>\n",
       "</table>\n",
       "</div>"
      ],
      "text/plain": [
       "  INCIDENT_NUMBER  OFFENSE_CODE  OFFENSE_CODE_GROUP  \\\n",
       "0       854652314          3115                 NaN   \n",
       "1       457856954          3115                 NaN   \n",
       "2       302030654          1106                 NaN   \n",
       "3       212025777          1108                 NaN   \n",
       "4       212025557          2670                 NaN   \n",
       "\n",
       "               OFFENSE_DESCRIPTION DISTRICT REPORTING_AREA  SHOOTING  \\\n",
       "0               INVESTIGATE PERSON       B2            289         0   \n",
       "1               INVESTIGATE PERSON       B2            289         0   \n",
       "2  FRAUD - CREDIT CARD / ATM FRAUD       D4            167         0   \n",
       "3                  FRAUD - WELFARE       A7             28         0   \n",
       "4  HARASSMENT/ CRIMINAL HARASSMENT       A1             77         0   \n",
       "\n",
       "  OCCURRED_ON_DATE  YEAR  MONTH DAY_OF_WEEK  HOUR  UCR_PART  \\\n",
       "0     2/20/20 0:00  2020      2    Thursday     0       NaN   \n",
       "1     2/21/20 1:42  2020      2      Friday     1       NaN   \n",
       "2    4/24/20 13:00  2020      4      Friday    13       NaN   \n",
       "3      5/1/20 0:00  2020      5      Friday     0       NaN   \n",
       "4      9/7/20 0:00  2020      9      Monday     0       NaN   \n",
       "\n",
       "              STREET        Lat       Long  \\\n",
       "0      SCHROEDER PLZ  42.333679 -71.091878   \n",
       "1      SCHROEDER PLZ  42.333679 -71.091878   \n",
       "2  MASSACHUSETTS AVE  42.339542 -71.069409   \n",
       "3         TRENTON ST  42.370818 -71.039291   \n",
       "4          PRINCE ST  42.361839 -71.059765   \n",
       "\n",
       "                                Location  \n",
       "0  (42.3336792181085, -71.0918775461846)  \n",
       "1  (42.3336792181085, -71.0918775461846)  \n",
       "2  (42.3395419898301, -71.0694087696754)  \n",
       "3  (42.3708180467024, -71.0392907813515)  \n",
       "4  (42.3618385665647, -71.0597648909416)  "
      ]
     },
     "execution_count": 12,
     "metadata": {},
     "output_type": "execute_result"
    }
   ],
   "source": [
    "Boston_crime_2020 = pd.read_csv(\"/Users/[editted]/Downloads/script_113631134_20210423193017_combine.csv\")\n",
    "Boston_crime_2020.head()"
   ]
  },
  {
   "cell_type": "code",
   "execution_count": 13,
   "metadata": {
    "pycharm": {
     "name": "#%%\n"
    }
   },
   "outputs": [],
   "source": [
    "Boston_crime_combined_df = pd.concat([Boston_crime_2019, Boston_crime_2020])\n",
    "Boston_crime_drop_null_df=Boston_crime_combined_df.dropna(subset=['INCIDENT_NUMBER', 'OFFENSE_CODE', 'DISTRICT', 'Long', 'Lat','SHOOTING','OCCURRED_ON_DATE'])\n",
    "Boston_crime_new_df=Boston_crime_drop_null_df.drop_duplicates(subset=['INCIDENT_NUMBER', 'OFFENSE_CODE', 'DISTRICT', 'Long', 'Lat','SHOOTING','OCCURRED_ON_DATE'])\n",
    "Boston_crime_new_df.to_csv('crimereport.csv', index=False)\n",
    "Boston_crime_2019_2020_df = pd.read_csv('crimereport.csv', low_memory=False)"
   ]
  },
  {
   "cell_type": "code",
   "execution_count": 14,
   "metadata": {
    "pycharm": {
     "name": "#%%\n"
    }
   },
   "outputs": [
    {
     "name": "stdout",
     "output_type": "stream",
     "text": [
      "     offense_type  YEAR  INCIDENT_NUMBER\n",
      "0  property crime  2019            13158\n",
      "1  property crime  2020            12227\n",
      "2   violent crime  2019             8324\n",
      "3   violent crime  2020             5152\n"
     ]
    },
    {
     "name": "stderr",
     "output_type": "stream",
     "text": [
      "/opt/anaconda3/envs/PythonData/lib/python3.7/site-packages/ipykernel_launcher.py:2: SettingWithCopyWarning: \n",
      "A value is trying to be set on a copy of a slice from a DataFrame\n",
      "\n",
      "See the caveats in the documentation: https://pandas.pydata.org/pandas-docs/stable/user_guide/indexing.html#returning-a-view-versus-a-copy\n",
      "  \n",
      "/opt/anaconda3/envs/PythonData/lib/python3.7/site-packages/ipykernel_launcher.py:3: SettingWithCopyWarning: \n",
      "A value is trying to be set on a copy of a slice from a DataFrame\n",
      "\n",
      "See the caveats in the documentation: https://pandas.pydata.org/pandas-docs/stable/user_guide/indexing.html#returning-a-view-versus-a-copy\n",
      "  This is separate from the ipykernel package so we can avoid doing imports until\n"
     ]
    }
   ],
   "source": [
    "Boston_crime_2019_2020_df['offense_type'] = None\n",
    "Boston_crime_2019_2020_df['offense_type'][Boston_crime_2019_2020_df['OFFENSE_DESCRIPTION'].str.lower().str.contains('robbery|assault|rape')] = 'violent crime'\n",
    "Boston_crime_2019_2020_df['offense_type'][Boston_crime_2019_2020_df['OFFENSE_DESCRIPTION'].str.lower().str.contains('burglary|larceny|theft|arson')] = 'property crime'\n",
    "describe_by_offense = Boston_crime_2019_2020_df.groupby(['offense_type', 'YEAR']).agg({'INCIDENT_NUMBER': 'count'}).reset_index()\n",
    "print(describe_by_offense)"
   ]
  },
  {
   "cell_type": "code",
   "execution_count": 35,
   "metadata": {
    "pycharm": {
     "name": "#%%\n"
    }
   },
   "outputs": [
    {
     "name": "stdout",
     "output_type": "stream",
     "text": [
      "      YEAR_x  MONTH_x DISTRICT offense_type_x  violent_crimes  YEAR_y  \\\n",
      "0       2019        1       A1  violent crime              84    2019   \n",
      "1       2019        1       A1  violent crime              84    2019   \n",
      "2       2019        1       A1  violent crime              84    2019   \n",
      "3       2019        1       A1  violent crime              84    2019   \n",
      "4       2019        1       A1  violent crime              84    2019   \n",
      "...      ...      ...      ...            ...             ...     ...   \n",
      "1723    2020       12       E5  violent crime              10    2020   \n",
      "1724    2020       12       E5  violent crime              10    2020   \n",
      "1725    2020       12       E5  violent crime              10    2020   \n",
      "1726    2020       12       E5  violent crime              10    2020   \n",
      "1727    2020       12       E5  violent crime              10    2020   \n",
      "\n",
      "      MONTH_y  offense_type_y  property_crimes  \n",
      "0           1  property crime              134  \n",
      "1           2  property crime              144  \n",
      "2           3  property crime              125  \n",
      "3           4  property crime              141  \n",
      "4           5  property crime              159  \n",
      "...       ...             ...              ...  \n",
      "1723        8  property crime               66  \n",
      "1724        9  property crime               52  \n",
      "1725       10  property crime               33  \n",
      "1726       11  property crime               45  \n",
      "1727       12  property crime               34  \n",
      "\n",
      "[3456 rows x 9 columns]\n"
     ]
    }
   ],
   "source": [
    "Boston_crime_2019_2020_df = Boston_crime_2019_2020_df[Boston_crime_2019_2020_df.DISTRICT != 'External']\n",
    "total_by_district = Boston_crime_2019_2020_df.groupby(['YEAR', 'MONTH', 'DISTRICT','offense_type']).agg({'INCIDENT_NUMBER': 'count'}).reset_index()\n",
    "Boston_violent_crime_df = total_by_district[total_by_district['offense_type'] == 'violent crime']\n",
    "Boston_property_crime_df=total_by_district[total_by_district['offense_type'] == 'property crime']\n",
    "\n",
    "Boston_violent_crime_2019_df= Boston_violent_crime_df[Boston_violent_crime_df['YEAR']==2019]\n",
    "Boston_violent_crime_2020_df= Boston_violent_crime_df[Boston_violent_crime_df['YEAR']==2020]\n",
    "Boston_property_crime_2019_df= Boston_property_crime_df[Boston_property_crime_df['YEAR']==2019]\n",
    "Boston_property_crime_2019_months_df = Boston_property_crime_2019_df.loc[:, 'MONTH']\n",
    "Boston_property_crime_2020_df= Boston_property_crime_df[Boston_property_crime_df['YEAR']==2020]\n",
    "\n",
    "Boston_violent_crime_2019_df= Boston_violent_crime_2019_df.rename(columns={'INCIDENT_NUMBER':'violent_crimes'})\n",
    "Boston_violent_crime_2020_df= Boston_violent_crime_2020_df.rename(columns={'INCIDENT_NUMBER':'violent_crimes'})\n",
    "Boston_property_crime_2019_df= Boston_property_crime_2019_df.rename(columns={'INCIDENT_NUMBER':'property_crimes'})\n",
    "Boston_property_crime_2020_df= Boston_property_crime_2020_df.rename(columns={'INCIDENT_NUMBER':'property_crimes'})\n",
    "\n",
    "Boston_total_2019_df=Boston_violent_crime_2019_df.merge(Boston_property_crime_2019_df, how='left', left_on='DISTRICT', right_on='DISTRICT')\n",
    "Boston_total_2020_df=Boston_violent_crime_2020_df.merge(Boston_property_crime_2020_df, how='left', left_on='DISTRICT', right_on='DISTRICT')\n",
    "\n",
    "Boston_total_2019_2020_df=pd.concat([Boston_total_2019_df, Boston_total_2020_df])\n",
    "print(Boston_total_2019_2020_df)"
   ]
  },
  {
   "cell_type": "code",
   "execution_count": 41,
   "metadata": {
    "pycharm": {
     "name": "#%%\n"
    }
   },
   "outputs": [
    {
     "data": {
      "text/html": [
       "<div>\n",
       "<style scoped>\n",
       "    .dataframe tbody tr th:only-of-type {\n",
       "        vertical-align: middle;\n",
       "    }\n",
       "\n",
       "    .dataframe tbody tr th {\n",
       "        vertical-align: top;\n",
       "    }\n",
       "\n",
       "    .dataframe thead th {\n",
       "        text-align: right;\n",
       "    }\n",
       "</style>\n",
       "<table border=\"1\" class=\"dataframe\">\n",
       "  <thead>\n",
       "    <tr style=\"text-align: right;\">\n",
       "      <th></th>\n",
       "      <th>YEAR</th>\n",
       "      <th>MONTH</th>\n",
       "      <th>DISTRICT</th>\n",
       "      <th>offense_type</th>\n",
       "      <th>property_crimes</th>\n",
       "    </tr>\n",
       "  </thead>\n",
       "  <tbody>\n",
       "    <tr>\n",
       "      <th>0</th>\n",
       "      <td>2019</td>\n",
       "      <td>1</td>\n",
       "      <td>A1</td>\n",
       "      <td>property crime</td>\n",
       "      <td>134</td>\n",
       "    </tr>\n",
       "    <tr>\n",
       "      <th>2</th>\n",
       "      <td>2019</td>\n",
       "      <td>1</td>\n",
       "      <td>A15</td>\n",
       "      <td>property crime</td>\n",
       "      <td>13</td>\n",
       "    </tr>\n",
       "    <tr>\n",
       "      <th>4</th>\n",
       "      <td>2019</td>\n",
       "      <td>1</td>\n",
       "      <td>A7</td>\n",
       "      <td>property crime</td>\n",
       "      <td>30</td>\n",
       "    </tr>\n",
       "    <tr>\n",
       "      <th>6</th>\n",
       "      <td>2019</td>\n",
       "      <td>1</td>\n",
       "      <td>B2</td>\n",
       "      <td>property crime</td>\n",
       "      <td>151</td>\n",
       "    </tr>\n",
       "    <tr>\n",
       "      <th>8</th>\n",
       "      <td>2019</td>\n",
       "      <td>1</td>\n",
       "      <td>B3</td>\n",
       "      <td>property crime</td>\n",
       "      <td>75</td>\n",
       "    </tr>\n",
       "  </tbody>\n",
       "</table>\n",
       "</div>"
      ],
      "text/plain": [
       "   YEAR  MONTH DISTRICT    offense_type  property_crimes\n",
       "0  2019      1       A1  property crime              134\n",
       "2  2019      1      A15  property crime               13\n",
       "4  2019      1       A7  property crime               30\n",
       "6  2019      1       B2  property crime              151\n",
       "8  2019      1       B3  property crime               75"
      ]
     },
     "execution_count": 41,
     "metadata": {},
     "output_type": "execute_result"
    }
   ],
   "source": [
    "Boston_property_crime_2019_df.head()"
   ]
  },
  {
   "cell_type": "code",
   "execution_count": 40,
   "metadata": {
    "pycharm": {
     "name": "#%%\n"
    }
   },
   "outputs": [
    {
     "data": {
      "text/plain": [
       "0    1\n",
       "2    1\n",
       "4    1\n",
       "6    1\n",
       "8    1\n",
       "Name: MONTH, dtype: int64"
      ]
     },
     "execution_count": 40,
     "metadata": {},
     "output_type": "execute_result"
    }
   ],
   "source": [
    "Boston_property_crime_2019_months_df.head()"
   ]
  },
  {
   "cell_type": "markdown",
   "metadata": {
    "pycharm": {
     "name": "#%% md\n"
    }
   },
   "source": [
    "Task 8.1: Create a bubble map for property crimes in Boston, 2019. Each bubble represents one property crime incident."
   ]
  },
  {
   "cell_type": "code",
   "execution_count": 50,
   "metadata": {
    "pycharm": {
     "name": "#%%\n"
    }
   },
   "outputs": [
    {
     "name": "stderr",
     "output_type": "stream",
     "text": [
      "No artists with labels found to put in legend.  Note that artists whose label start with an underscore are ignored when legend() is called with no argument.\n"
     ]
    },
    {
     "data": {
      "text/plain": [
       "<matplotlib.legend.Legend at 0x7fdb396e4610>"
      ]
     },
     "execution_count": 50,
     "metadata": {},
     "output_type": "execute_result"
    },
    {
     "data": {
      "image/png": "[encoded data removed]",
      "text/plain": [
       "<Figure size 432x288 with 1 Axes>"
      ]
     },
     "metadata": {
      "needs_background": "light"
     },
     "output_type": "display_data"
    }
   ],
   "source": [
    "# Variable name: Boston_property_crime_2019_df\n",
    "y = Boston_property_crime_2019_df['property_crimes'].to_list()\n",
    "x = Boston_property_crime_2019_months_df.to_list()\n",
    "s = [1*k for k in y]\n",
    "\n",
    "# Build bubble map for property crimes in Boston (2019)\n",
    "plt.scatter(x, y, s=s, c=\"coral\", edgecolor=\"black\", linewidths=1, alpha=0.8)\n",
    "plt.title(\"Property Crimes in Boston (2019)\")\n",
    "plt.ylabel(\"Property Crimes\")\n",
    "plt.xlabel(\"Months\")\n",
    "plt.grid(True)\n",
    "\n",
    "# Add the legend\n",
    "plt.legend()"
   ]
  },
  {
   "cell_type": "markdown",
   "metadata": {
    "pycharm": {
     "name": "#%% md\n"
    }
   },
   "source": []
  },
  {
   "cell_type": "markdown",
   "metadata": {
    "pycharm": {
     "name": "#%% md\n"
    }
   },
   "source": [
    "Task 8.2: Create another bubble map for violent crimes in Boston, 2019. Use a different map design (marker color, tile style, etc). "
   ]
  },
  {
   "cell_type": "code",
   "execution_count": 56,
   "metadata": {
    "pycharm": {
     "name": "#%%\n"
    }
   },
   "outputs": [
    {
     "name": "stderr",
     "output_type": "stream",
     "text": [
      "No artists with labels found to put in legend.  Note that artists whose label start with an underscore are ignored when legend() is called with no argument.\n"
     ]
    },
    {
     "data": {
      "text/plain": [
       "<matplotlib.legend.Legend at 0x7fdb5af8f790>"
      ]
     },
     "execution_count": 56,
     "metadata": {},
     "output_type": "execute_result"
    },
    {
     "data": {
      "image/png": "[encoded data removed]",
      "text/plain": [
       "<Figure size 432x288 with 1 Axes>"
      ]
     },
     "metadata": {
      "needs_background": "light"
     },
     "output_type": "display_data"
    }
   ],
   "source": [
    "# Variable name: Boston_property_crime_2019_df\n",
    "y = Boston_property_crime_2019_df['property_crimes'].to_list()\n",
    "x = Boston_property_crime_2019_months_df.to_list()\n",
    "s = [3*k for k in y]\n",
    "\n",
    "# Build bubble map for property crimes in Boston (2019)\n",
    "# Bubble size with \"s\"\n",
    "# Transparency with \"alpha\"\n",
    "# Color of bubbles with \"c\" and \"cmap\"\n",
    "plt.scatter(x, y, s=s, c=x, cmap=\"Blues\", edgecolor=\"grey\", linewidths=1, alpha=0.9)\n",
    "plt.title(\"Property Crimes in Boston (2019)\")\n",
    "plt.ylabel(\"Property Crimes\")\n",
    "plt.xlabel(\"Months\")\n",
    "plt.grid(True)\n",
    "\n",
    "# Add the legend\n",
    "plt.legend()"
   ]
  },
  {
   "cell_type": "markdown",
   "metadata": {
    "pycharm": {
     "name": "#%% md\n"
    }
   },
   "source": [
    "Task 8.3: Calculate zoning district-level violent vs. property crime counts. Use boston's zoning map from here (Links to an external site.) to map individual crime incidents to zoning district. Create a bubble map for these two sets of counts. There should be two sets of bubbles in your map. One set represents district-level violent crime counts, and the other set district-level property crime counts. These two bubble sets should be colored differently, but the size of the bubble for both sets should indicate the relative size of the crime count. Use each district’s centroid location to place their bubbles on the map. [Hint: in geopandas,  `gdf[“geometry”].centroid` returns the centroid point of the corresponding geometry.]"
   ]
  },
  {
   "cell_type": "code",
   "execution_count": null,
   "metadata": {
    "pycharm": {
     "name": "#%%\n"
    }
   },
   "outputs": [],
   "source": []
  }
 ],
 "metadata": {
  "kernelspec": {
   "display_name": "Python 3.7.13 ('PythonData')",
   "language": "python",
   "name": "python3"
  },
  "language_info": {
   "codemirror_mode": {
    "name": "ipython",
    "version": 3
   },
   "file_extension": ".py",
   "mimetype": "text/x-python",
   "name": "python",
   "nbconvert_exporter": "python",
   "pygments_lexer": "ipython3",
   "version": "3.7.13"
  },
  "orig_nbformat": 4,
  "vscode": {
   "interpreter": {
    "hash": "a5387b9da968551e43e0ccab31c37bebadc093c630309dcd510e17231b5b064a"
   }
  }
 },
 "nbformat": 4,
 "nbformat_minor": 2
}