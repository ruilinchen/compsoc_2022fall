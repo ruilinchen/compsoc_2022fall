{
 "cells": [
  {
   "cell_type": "code",
   "execution_count": 1,
   "outputs": [
    {
     "name": "stdout",
     "output_type": "stream",
     "text": [
      "Sum: 10\n"
     ]
    }
   ],
   "source": [
    "#sumForFour function\n",
    "def sumForFour():\n",
    "    inputnum = input(\"Please enter four numbers (separated by a space) to be added together:\")\n",
    "    inputnumlist = inputnum.split()\n",
    "    while True:\n",
    "        try:\n",
    "            inputnums = [int(i) for i in inputnumlist]\n",
    "            break\n",
    "        except ValueError:\n",
    "            inputnum = input(\"You didn't enter all numbers. Try again.\")\n",
    "            inputnumlist = inputnum.split()\n",
    "    inputnumsum = sum(inputnums)\n",
    "    print(\"Sum:\", inputnumsum)\n",
    "sumForFour()\n"
   ],
   "metadata": {
    "collapsed": false,
    "pycharm": {
     "name": "#%%\n"
    }
   }
  },
  {
   "cell_type": "code",
   "execution_count": 2,
   "outputs": [
    {
     "name": "stdout",
     "output_type": "stream",
     "text": [
      "The function will continue using only the integer of the number given.\n",
      "Sum: 55\n"
     ]
    }
   ],
   "source": [
    "#Sum to n function\n",
    "def sumToN():\n",
    "    n = input( \"enter a number: \" )\n",
    "    while True:\n",
    "        try:\n",
    "            n = float(n)\n",
    "            break\n",
    "        except ValueError:\n",
    "            n = input(\"You didn't enter a number. Try again.\" )\n",
    "    vartype = type(n)\n",
    "    if vartype == float:\n",
    "        print(\"The function will continue using only the integer of the number given.\")\n",
    "    while True:\n",
    "        try:\n",
    "            n = int(n)\n",
    "            break\n",
    "        except ValueError:\n",
    "            n = input(\"You didn't enter a number. Try again.\" )\n",
    "    nsum = 0\n",
    "    for i in range(1, n+1):\n",
    "        nsum += i\n",
    "    print(\"Sum:\", nsum)\n",
    "sumToN()"
   ],
   "metadata": {
    "collapsed": false,
    "pycharm": {
     "name": "#%%\n"
    }
   }
  },
  {
   "cell_type": "code",
   "execution_count": 3,
   "outputs": [
    {
     "data": {
      "text/plain": "0.7848916127755136"
     },
     "execution_count": 3,
     "metadata": {},
     "output_type": "execute_result"
    }
   ],
   "source": [
    "import random\n",
    "random.random()"
   ],
   "metadata": {
    "collapsed": false,
    "pycharm": {
     "name": "#%%\n"
    }
   }
  },
  {
   "cell_type": "markdown",
   "source": [
    "What does `random.random()` do here?\n",
    "    It is giving a randomly selected random value.\n",
    "What is `random.random`?\n",
    "    It is saying to get a random variable from the imported random.\n",
    "What do you think the dot symbol `.` is doing here?\n",
    "    It is separating what is being asked from the function.\n",
    "What about the first `import random`? What does that do?\n",
    "    It is importing the python package called random."
   ],
   "metadata": {
    "collapsed": false,
    "pycharm": {
     "name": "#%% md\n"
    }
   }
  },
  {
   "cell_type": "code",
   "execution_count": 3,
   "outputs": [],
   "source": [],
   "metadata": {
    "collapsed": false,
    "pycharm": {
     "name": "#%%\n"
    }
   }
  }
 ],
 "metadata": {
  "kernelspec": {
   "display_name": "Python 3",
   "language": "python",
   "name": "python3"
  },
  "language_info": {
   "codemirror_mode": {
    "name": "ipython",
    "version": 2
   },
   "file_extension": ".py",
   "mimetype": "text/x-python",
   "name": "python",
   "nbconvert_exporter": "python",
   "pygments_lexer": "ipython2",
   "version": "2.7.6"
  }
 },
 "nbformat": 4,
 "nbformat_minor": 0
}