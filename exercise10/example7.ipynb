{
 "cells": [
  {
   "cell_type": "code",
   "execution_count": 17,
   "id": "d6cc83c4",
   "metadata": {
    "pycharm": {
     "name": "#%%\n"
    }
   },
   "outputs": [
    {
     "name": "stdout",
     "output_type": "stream",
     "text": [
      "Graph with 40292 nodes and 742299 edges\n"
     ]
    }
   ],
   "source": [
    "import os, networkx as nx, pandas as pd\n",
    "\n",
    "os.chdir('/Users/[editted]/Desktop/compSoc/datasets/MA_cbg_human_mobility_2019')\n",
    "ma_df = pd.read_csv('MA_cbg2cbg_2019_01.csv')\n",
    "ma_df\n",
    "G = nx.Graph()\n",
    "\n",
    "for i in range(len(ma_df)):\n",
    "    origin_cbg = ma_df.loc[i, 'poi_cbg']\n",
    "    destination_cbg = ma_df.loc[i, 'visitor_census_tract']\n",
    "    total_residents_in_origin = ma_df.loc[i, 'raw_device_counts']\n",
    "    num_visitor = ma_df.loc[i, 'visitor_count']\n",
    "    pct_visitor = num_visitor / total_residents_in_origin\n",
    "    G.add_edge(origin_cbg, destination_cbg, weight=pct_visitor)\n",
    "\n",
    "print(G) #40292 nodes, 742299 edges\n",
    "    "
   ]
  },
  {
   "cell_type": "code",
   "execution_count": 48,
   "id": "3f1f877d",
   "metadata": {
    "pycharm": {
     "name": "#%%\n"
    }
   },
   "outputs": [
    {
     "data": {
      "text/html": [
       "<div>\n",
       "<style scoped>\n",
       "    .dataframe tbody tr th:only-of-type {\n",
       "        vertical-align: middle;\n",
       "    }\n",
       "\n",
       "    .dataframe tbody tr th {\n",
       "        vertical-align: top;\n",
       "    }\n",
       "\n",
       "    .dataframe thead th {\n",
       "        text-align: right;\n",
       "    }\n",
       "</style>\n",
       "<table border=\"1\" class=\"dataframe\">\n",
       "  <thead>\n",
       "    <tr style=\"text-align: right;\">\n",
       "      <th></th>\n",
       "      <th>node</th>\n",
       "      <th>unweighted degree</th>\n",
       "      <th>weighted degree</th>\n",
       "    </tr>\n",
       "  </thead>\n",
       "  <tbody>\n",
       "    <tr>\n",
       "      <th>0</th>\n",
       "      <td>250250303003</td>\n",
       "      <td>2936</td>\n",
       "      <td>1.617298</td>\n",
       "    </tr>\n",
       "    <tr>\n",
       "      <th>1</th>\n",
       "      <td>250251010016</td>\n",
       "      <td>609</td>\n",
       "      <td>1.829781</td>\n",
       "    </tr>\n",
       "    <tr>\n",
       "      <th>2</th>\n",
       "      <td>440070008003</td>\n",
       "      <td>77</td>\n",
       "      <td>0.201907</td>\n",
       "    </tr>\n",
       "    <tr>\n",
       "      <th>3</th>\n",
       "      <td>250250923002</td>\n",
       "      <td>600</td>\n",
       "      <td>2.675362</td>\n",
       "    </tr>\n",
       "    <tr>\n",
       "      <th>4</th>\n",
       "      <td>250173686001</td>\n",
       "      <td>3217</td>\n",
       "      <td>1.763752</td>\n",
       "    </tr>\n",
       "    <tr>\n",
       "      <th>...</th>\n",
       "      <td>...</td>\n",
       "      <td>...</td>\n",
       "      <td>...</td>\n",
       "    </tr>\n",
       "    <tr>\n",
       "      <th>40287</th>\n",
       "      <td>170318261003</td>\n",
       "      <td>1</td>\n",
       "      <td>0.000726</td>\n",
       "    </tr>\n",
       "    <tr>\n",
       "      <th>40288</th>\n",
       "      <td>120310144111</td>\n",
       "      <td>1</td>\n",
       "      <td>0.000726</td>\n",
       "    </tr>\n",
       "    <tr>\n",
       "      <th>40289</th>\n",
       "      <td>530330294073</td>\n",
       "      <td>1</td>\n",
       "      <td>0.000726</td>\n",
       "    </tr>\n",
       "    <tr>\n",
       "      <th>40290</th>\n",
       "      <td>360610165001</td>\n",
       "      <td>1</td>\n",
       "      <td>0.000726</td>\n",
       "    </tr>\n",
       "    <tr>\n",
       "      <th>40291</th>\n",
       "      <td>390599772002</td>\n",
       "      <td>1</td>\n",
       "      <td>0.000726</td>\n",
       "    </tr>\n",
       "  </tbody>\n",
       "</table>\n",
       "<p>40292 rows × 3 columns</p>\n",
       "</div>"
      ],
      "text/plain": [
       "               node  unweighted degree  weighted degree\n",
       "0      250250303003               2936         1.617298\n",
       "1      250251010016                609         1.829781\n",
       "2      440070008003                 77         0.201907\n",
       "3      250250923002                600         2.675362\n",
       "4      250173686001               3217         1.763752\n",
       "...             ...                ...              ...\n",
       "40287  170318261003                  1         0.000726\n",
       "40288  120310144111                  1         0.000726\n",
       "40289  530330294073                  1         0.000726\n",
       "40290  360610165001                  1         0.000726\n",
       "40291  390599772002                  1         0.000726\n",
       "\n",
       "[40292 rows x 3 columns]"
      ]
     },
     "execution_count": 48,
     "metadata": {},
     "output_type": "execute_result"
    }
   ],
   "source": [
    "import os, networkx as nx, pandas as pd\n",
    "\n",
    "os.chdir('/Users/liamdietrich/Desktop/compSoc/datasets/MA_cbg_human_mobility_2019')\n",
    "ma_df = pd.read_csv('MA_cbg2cbg_2019_01.csv')\n",
    "ma_df\n",
    "G = nx.Graph()\n",
    "\n",
    "for i in range(len(ma_df)):\n",
    "    origin_cbg = ma_df.loc[i, 'poi_cbg']\n",
    "    destination_cbg = ma_df.loc[i, 'visitor_census_tract']\n",
    "    total_residents_in_origin = ma_df.loc[i, 'raw_device_counts']\n",
    "    num_visitor = ma_df.loc[i, 'visitor_count']\n",
    "    pct_visitor = num_visitor / total_residents_in_origin\n",
    "    G.add_edge(origin_cbg, destination_cbg, weight=pct_visitor)\n",
    "\n",
    "li = []\n",
    "\n",
    "for i in G:\n",
    "    li.append([i, G.degree(i), G.degree(i, weight = 'weight')])\n",
    "\n",
    "G_df = pd.DataFrame(li)\n",
    "G_df.rename(columns = {0: \"node\", 1: \"unweighted degree\", 2: \"weighted degree\"}, inplace = True)\n",
    "\n",
    "G_df"
   ]
  },
  {
   "cell_type": "code",
   "execution_count": 47,
   "id": "19133d34",
   "metadata": {
    "pycharm": {
     "name": "#%%\n"
    }
   },
   "outputs": [
    {
     "name": "stdout",
     "output_type": "stream",
     "text": [
      "AxesSubplot(0.125,0.125;0.775x0.755)\n"
     ]
    },
    {
     "data": {
      "image/png": "[encoded data removed]",
      "text/plain": [
       "<Figure size 432x288 with 1 Axes>"
      ]
     },
     "metadata": {
      "needs_background": "light"
     },
     "output_type": "display_data"
    }
   ],
   "source": [
    "import os, networkx as nx, pandas as pd, seaborn as sns, matplotlib.pyplot as plt\n",
    "\n",
    "os.chdir('/Users/liamdietrich/Desktop/compSoc/datasets/MA_cbg_human_mobility_2019')\n",
    "ma_df = pd.read_csv('MA_cbg2cbg_2019_01.csv')\n",
    "ma_df\n",
    "G = nx.Graph()\n",
    "\n",
    "for i in range(len(ma_df)):\n",
    "    origin_cbg = ma_df.loc[i, 'poi_cbg']\n",
    "    destination_cbg = ma_df.loc[i, 'visitor_census_tract']\n",
    "    total_residents_in_origin = ma_df.loc[i, 'raw_device_counts']\n",
    "    num_visitor = ma_df.loc[i, 'visitor_count']\n",
    "    pct_visitor = num_visitor / total_residents_in_origin\n",
    "    G.add_edge(origin_cbg, destination_cbg, weight=pct_visitor)\n",
    "\n",
    "li = []\n",
    "\n",
    "for i in G:\n",
    "    li.append([i, G.degree(i), G.degree(i, weight = 'weight')]) \n",
    "G_df = pd.DataFrame(li)\n",
    "G_df.rename(columns = {0: \"node\", 1: \"unweighted degree\", 2: \"weighted degree\"}, inplace = True)\n",
    "\n",
    "sns.histplot(data=G_df['weighted degree'])\n",
    "plt.ylim(0, 100)\n",
    "plt.show() #degrees do not follow the power law, because as k increases from 0.5 to 1.5, \n",
    "           #the frequency of the nodes with that degree also increases\n"
   ]
  },
  {
   "cell_type": "code",
   "execution_count": null,
   "id": "d44f3ca0",
   "metadata": {
    "pycharm": {
     "name": "#%%\n"
    }
   },
   "outputs": [],
   "source": []
  }
 ],
 "metadata": {
  "kernelspec": {
   "display_name": "Python 3 (ipykernel)",
   "language": "python",
   "name": "python3"
  },
  "language_info": {
   "codemirror_mode": {
    "name": "ipython",
    "version": 3
   },
   "file_extension": ".py",
   "mimetype": "text/x-python",
   "name": "python",
   "nbconvert_exporter": "python",
   "pygments_lexer": "ipython3",
   "version": "3.9.12"
  }
 },
 "nbformat": 4,
 "nbformat_minor": 5
}