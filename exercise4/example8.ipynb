{
 "cells": [
  {
   "cell_type": "code",
   "execution_count": 2,
   "id": "3521298a",
   "metadata": {
    "pycharm": {
     "name": "#%%\n"
    }
   },
   "outputs": [
    {
     "name": "stdout",
     "output_type": "stream",
     "text": [
      "Purpose: Provide example of this file type\n",
      "\n",
      "Version: 1.0\n",
      "\n",
      "\n",
      "\n",
      "The names \"John Doe\" for males, \"Jane Doe\" or \"Jane Roe\" for females, or \"Jonnie Doe\" and \"Janie Doe\" for children, or just \"Doe\" non-gender-specifically are used as placeholder names for a party whose true identity is unknown or must be withheld in a legal action, case, or discussion. The names are also used to refer to acorpse or hospital patient whose identity is unknown. This practice is widely used in the United States and Canada, but is rarely used in other English-speaking countries including the United Kingdom itself, from where the use of \"John Doe\" in a legal context originates. The names Joe Bloggs or John Smith are used in the UK instead, as well as in Australia and New Zealand.\n",
      "\n",
      "John Doe is sometimes used to refer to a typical male in other contexts as well, in a similar manner to John Q. Public, known in Great Britain as Joe Public, John Smith or Joe Bloggs. For example, the first name listed on a form is often John Doe, along with a fictional address or other fictional information to provide an example of how to fill in the form. The name is also used frequently in popular culture, for example in the Frank Capra film Meet John Doe. John Doe was also the name of a 2002 American television series.\n",
      "\n",
      "Similarly, a child or baby whose identity is unknown may be referred to as Baby Doe. A notorious murder case in Kansas City, Missouri, referred to the baby victim as Precious Doe. Other unidentified female murder victims are Cali Doe and Princess Doe. Additional persons may be called James Doe, Judy Doe, etc. However, to avoid possible confusion, if two anonymous or unknown parties are cited in a specific case or action, the surnames Doe and Roe may be used simultaneously; for example, \"John Doe v. Jane Roe\". If several anonymous parties are referenced, they may simply be labelled John Doe #1, John Doe #2, etc. (the U.S. Operation Delego cited 21 (numbered) \"John Doe\"s) or labelled with other variants of Doe / Roe / Poe / etc. Other early alternatives such as John Stiles and Richard Miles are now rarely used, and Mary Major has been used in some American federal cases.\n",
      "\n",
      "\n",
      "\n",
      "File created by https://www.online-convert.com\n",
      "\n",
      "Text of Example content: Wikipedia (https://en.wikipedia.org/wiki/John_Doe)\n",
      "\n",
      "\n",
      "\n"
     ]
    }
   ],
   "source": [
    "#Task4.1\n",
    "\n",
    "with open('C:\\\\Users\\[editted]\\Downloads\\example.txt', 'r') as f:\n",
    "    for count, line in enumerate(f, start=7):\n",
    "        if count % 2 == 0:\n",
    "            print (line)\n",
    "            \n",
    "            \n",
    "# I know this code may not be truly we are expected to do, but this was what I could find very similar to the expected purpose!"
   ]
  },
  {
   "cell_type": "code",
   "execution_count": 1,
   "id": "2eda6ffc",
   "metadata": {
    "pycharm": {
     "name": "#%%\n"
    }
   },
   "outputs": [
    {
     "name": "stdout",
     "output_type": "stream",
     "text": [
      "Initial Dictionary:\n",
      "{'Mehdi': 67, 'Alex': 23, 'Ali': 45, 'Josh': 56, 'Eli': 12, 'Ellie': 69} \n",
      "\n",
      "Dictionary with 3 highest values:\n",
      "Keys: Values\n",
      "Ellie : 69\n",
      "Mehdi : 67\n",
      "Josh : 56\n"
     ]
    }
   ],
   "source": [
    "#Task4.4\n",
    "\n",
    "# Python program to demonstrate\n",
    "# finding 3 highest values in a Dictionary\n",
    " \n",
    "# Initial Dictionary\n",
    "my_dict = {'Mehdi': 67, 'Alex': 23, 'Ali': 45,\n",
    "        'Josh': 56, 'Eli': 12, 'Ellie': 69}\n",
    " \n",
    "print(\"Initial Dictionary:\")\n",
    "print(my_dict, \"\\n\")\n",
    " \n",
    "print(\"Dictionary with 3 highest values:\")\n",
    "print(\"Keys: Values\")\n",
    " \n",
    "x=list(my_dict.values())\n",
    "d=dict()\n",
    "x.sort(reverse=True)\n",
    "x=x[:3]\n",
    "for i in x:\n",
    "    for j in my_dict.keys():\n",
    "        if(my_dict[j]==i):\n",
    "            print(str(j)+\" : \"+str(my_dict[j]))"
   ]
  },
  {
   "cell_type": "markdown",
   "id": "8f2f4338",
   "metadata": {
    "pycharm": {
     "name": "#%% md\n"
    }
   },
   "source": [
    "### As much as I tried to find and test relevant codes for Tasks 4.2 and 4.3, it didn't work. "
   ]
  },
  {
   "cell_type": "code",
   "execution_count": null,
   "id": "115cee7b",
   "metadata": {
    "pycharm": {
     "name": "#%%\n"
    }
   },
   "outputs": [],
   "source": []
  }
 ],
 "metadata": {
  "kernelspec": {
   "display_name": "Python 3 (ipykernel)",
   "language": "python",
   "name": "python3"
  },
  "language_info": {
   "codemirror_mode": {
    "name": "ipython",
    "version": 3
   },
   "file_extension": ".py",
   "mimetype": "text/x-python",
   "name": "python",
   "nbconvert_exporter": "python",
   "pygments_lexer": "ipython3",
   "version": "3.9.12"
  }
 },
 "nbformat": 4,
 "nbformat_minor": 5
}