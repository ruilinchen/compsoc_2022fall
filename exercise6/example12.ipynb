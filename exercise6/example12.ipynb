{
 "cells": [
  {
   "cell_type": "markdown",
   "id": "3e824502-3519-466f-a948-20d8f4a971ad",
   "metadata": {
    "pycharm": {
     "name": "#%% md\n"
    }
   },
   "source": [
    "# Coding Exercise 6"
   ]
  },
  {
   "cell_type": "markdown",
   "id": "b71da2f1-4b19-4a5e-ab5e-f790f5594250",
   "metadata": {
    "pycharm": {
     "name": "#%% md\n"
    }
   },
   "source": [
    "### Task 6.1"
   ]
  },
  {
   "cell_type": "code",
   "execution_count": 3,
   "id": "c5003c1b-67d2-48d0-b7b4-a4bf7065232d",
   "metadata": {
    "pycharm": {
     "name": "#%%\n"
    }
   },
   "outputs": [
    {
     "data": {
      "text/plain": [
       "['crime_combined.csv',\n",
       " '.DS_Store',\n",
       " 'rmsoffensecodes.xlsx',\n",
       " 'rmscrimeincidentfieldexplanation.xlsx',\n",
       " 'MA_cbg_human_mobility_2019.zip',\n",
       " 'MA_cbg_human_mobility_2019',\n",
       " '.ipynb_checkpoints',\n",
       " 'crime_incidents_2020.csv',\n",
       " 'crime_incidents_2019.csv',\n",
       " 'crime_cleaned.csv']"
      ]
     },
     "execution_count": 3,
     "metadata": {},
     "output_type": "execute_result"
    }
   ],
   "source": [
    "import os\n",
    "os.chdir('/Users/[editted]/Dropbox/work/compsoc/dataset')\n",
    "os.getcwd()\n",
    "os.listdir()\n",
    "\n",
    "import pandas as pd"
   ]
  },
  {
   "cell_type": "code",
   "execution_count": 63,
   "id": "20d267cf-e326-4388-abe6-c14a7f7372bc",
   "metadata": {
    "pycharm": {
     "name": "#%%\n"
    }
   },
   "outputs": [
    {
     "name": "stderr",
     "output_type": "stream",
     "text": [
      "/var/folders/1b/s20n0f295fn5s0f986q3fppc0000gn/T/ipykernel_31080/3526244812.py:2: DtypeWarning: Columns (0) have mixed types. Specify dtype option on import or set low_memory=False.\n",
      "  ci19= pd.read_csv('crime_incidents_2019.csv')\n",
      "/var/folders/1b/s20n0f295fn5s0f986q3fppc0000gn/T/ipykernel_31080/3526244812.py:3: DtypeWarning: Columns (0) have mixed types. Specify dtype option on import or set low_memory=False.\n",
      "  ci20= pd.read_csv('crime_incidents_2020.csv')\n"
     ]
    },
    {
     "name": "stdout",
     "output_type": "stream",
     "text": [
      "1319\n"
     ]
    }
   ],
   "source": [
    "ci19= pd.read_csv('crime_incidents_2019.csv')\n",
    "ci20= pd.read_csv('crime_incidents_2020.csv')\n",
    "\n",
    "combined_1920=pd.concat([ci19, ci20])\n",
    "cleanlist=['INCIDENT_NUMBER', 'OFFENSE_CODE', 'DISTRICT', 'Long', 'Lat', 'SHOOTING', 'OCCURRED_ON_DATE']\n",
    "cleaned_1920=combined_1920.drop_duplicates(subset=cleanlist).dropna(subset=cleanlist)\n",
    "print(len(combined_1920)-len(cleaned_1920))\n",
    "\n",
    "cleaned_1920.to_csv('crime_cleaned.csv', index=False)"
   ]
  },
  {
   "cell_type": "markdown",
   "id": "0ba163e4-e35f-487f-a02b-5b952a17c71a",
   "metadata": {
    "pycharm": {
     "name": "#%% md\n"
    }
   },
   "source": [
    "### Task 6.2 "
   ]
  },
  {
   "cell_type": "code",
   "execution_count": 82,
   "id": "ffd88618-2e53-4f0f-b2aa-341e6b6197d2",
   "metadata": {
    "pycharm": {
     "name": "#%%\n"
    }
   },
   "outputs": [
    {
     "name": "stdout",
     "output_type": "stream",
     "text": [
      "    YEAR  MONTH  Monthly total number of incidents\n",
      "0   2019      1                               6933\n",
      "1   2019      2                               6147\n",
      "2   2019      3                               7065\n",
      "3   2019      4                               6936\n",
      "4   2019      5                               7763\n",
      "5   2019      6                               7597\n",
      "6   2019      7                               8036\n",
      "7   2019      8                               8379\n",
      "8   2019      9                               8133\n",
      "9   2019     10                               6990\n",
      "10  2019     11                               6338\n",
      "11  2019     12                               5826\n",
      "12  2020      1                               6318\n",
      "13  2020      2                               5874\n",
      "14  2020      3                               5490\n",
      "15  2020      4                               4362\n",
      "16  2020      5                               5411\n",
      "17  2020      6                               5897\n",
      "18  2020      7                               6213\n",
      "19  2020      8                               6507\n",
      "20  2020      9                               6467\n",
      "21  2020     10                               6741\n",
      "22  2020     11                               5755\n",
      "23  2020     12                               5581\n"
     ]
    },
    {
     "name": "stderr",
     "output_type": "stream",
     "text": [
      "/var/folders/1b/s20n0f295fn5s0f986q3fppc0000gn/T/ipykernel_31080/1777446984.py:1: DtypeWarning: Columns (0) have mixed types. Specify dtype option on import or set low_memory=False.\n",
      "  df = pd.read_csv('crime_cleaned.csv')\n"
     ]
    }
   ],
   "source": [
    "df = pd.read_csv('crime_cleaned.csv')\n",
    "freq=df.groupby(['YEAR', 'MONTH']).size().reset_index(name=\"Monthly total number of incidents\")\n",
    "#freq=df.value_counts(['YEAR', 'MONTH'])\n",
    "#freq=pd.crosstab(df.YEAR, df.MONTH)\n",
    "print(freq)"
   ]
  },
  {
   "cell_type": "markdown",
   "id": "f6ee3ae3-4995-4f3f-995a-f7b97ae9a8a6",
   "metadata": {
    "pycharm": {
     "name": "#%% md\n"
    }
   },
   "source": [
    "### Task 6.3  "
   ]
  },
  {
   "cell_type": "code",
   "execution_count": 14,
   "id": "b0067084-989f-4f06-94b1-874f0c80f986",
   "metadata": {
    "pycharm": {
     "name": "#%%\n"
    }
   },
   "outputs": [
    {
     "name": "stdout",
     "output_type": "stream",
     "text": [
      "    YEAR DISTRICT  total number of incidents by year and district\n",
      "3   2019       B2                                           13030\n",
      "8   2019       D4                                           11276\n",
      "5   2019      C11                                           11022\n",
      "16  2020       B2                                           10442\n",
      "0   2019       A1                                            9936\n",
      "4   2019       B3                                            9591\n",
      "21  2020       D4                                            9283\n",
      "18  2020      C11                                            8992\n",
      "17  2020       B3                                            7828\n",
      "13  2020       A1                                            7013\n",
      "6   2019       C6                                            6286\n",
      "7   2019      D14                                            5704\n",
      "19  2020       C6                                            5440\n",
      "10  2019      E18                                            5197\n",
      "9   2019      E13                                            4928\n",
      "20  2020      D14                                            4756\n",
      "23  2020      E18                                            4177\n",
      "22  2020      E13                                            4103\n",
      "11  2019       E5                                            3807\n",
      "24  2020       E5                                            3595\n",
      "2   2019       A7                                            3400\n",
      "15  2020       A7                                            3141\n",
      "1   2019      A15                                            1889\n",
      "14  2020      A15                                            1600\n"
     ]
    },
    {
     "name": "stderr",
     "output_type": "stream",
     "text": [
      "/var/folders/1b/s20n0f295fn5s0f986q3fppc0000gn/T/ipykernel_44150/438788506.py:1: DtypeWarning: Columns (0) have mixed types. Specify dtype option on import or set low_memory=False.\n",
      "  df = pd.read_csv('crime_cleaned.csv')\n"
     ]
    }
   ],
   "source": [
    "df = pd.read_csv('crime_cleaned.csv')\n",
    "freq_yd=df.groupby(['YEAR', 'DISTRICT']).size().reset_index(name=\"total number of incidents by year and district\")\n",
    "table_freq_yd=freq_yd[freq_yd['DISTRICT']!='External'].dropna().sort_values(by=['total number of incidents by year and district'], ascending=False)\n",
    "print(table_freq_yd)"
   ]
  },
  {
   "cell_type": "markdown",
   "id": "9b332286-7321-4870-98f2-eebfa0f7c7e9",
   "metadata": {
    "pycharm": {
     "name": "#%% md\n"
    }
   },
   "source": [
    "By sorting out based on their yearly amount of incidents, the frequency table shows that B2, D4, B3, D4, A1, and C11 are the top crime occuring districts for 2019 and 2020 while A15, A7, and E5 appear to be the safe districts in 2019 and 2020."
   ]
  }
 ],
 "metadata": {
  "kernelspec": {
   "display_name": "Python [conda env:compsoc] *",
   "language": "python",
   "name": "conda-env-compsoc-py"
  },
  "language_info": {
   "codemirror_mode": {
    "name": "ipython",
    "version": 3
   },
   "file_extension": ".py",
   "mimetype": "text/x-python",
   "name": "python",
   "nbconvert_exporter": "python",
   "pygments_lexer": "ipython3",
   "version": "3.8.13"
  }
 },
 "nbformat": 4,
 "nbformat_minor": 5
}