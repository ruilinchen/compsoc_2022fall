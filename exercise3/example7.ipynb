{
 "cells": [
  {
   "cell_type": "code",
   "execution_count": 2,
   "metadata": {
    "collapsed": true,
    "pycharm": {
     "name": "#%%\n"
    }
   },
   "outputs": [
    {
     "name": "stdout",
     "output_type": "stream",
     "text": [
      "The largest element minus the smallest element from the list is:  89\n"
     ]
    }
   ],
   "source": [
    "#largest minus smallest element function\n",
    "def LminusS():\n",
    "    inputnum = input(\"Please enter a list of numbers (separated by a space):\")\n",
    "    numlist = inputnum.split()\n",
    "    numlist = [int(i) for i in numlist]\n",
    "    large = max(numlist)\n",
    "    small = min(numlist)\n",
    "    minus = large - small\n",
    "    print(\"The largest element minus the smallest element from the list is: \", minus)\n",
    "LminusS()"
   ]
  },
  {
   "cell_type": "code",
   "execution_count": 3,
   "outputs": [
    {
     "name": "stdout",
     "output_type": "stream",
     "text": [
      "[1, 4, 2, 5, 3, 6]\n"
     ]
    }
   ],
   "source": [
    "#alternating list function\n",
    "def altList():\n",
    "    list1 = input(\"Please enter a list of numbers (separated by a space):\")\n",
    "    numlist1 = list1.split()\n",
    "    numlist1 = [int(i) for i in numlist1]\n",
    "    list2 = input(\"Please enter another list of numbers (separated by a space):\")\n",
    "    numlist2 = list2.split()\n",
    "    numlist2 = [int(i) for i in numlist2]\n",
    "    combolist = [None]*(len(numlist1)+len(numlist2))\n",
    "    combolist[::2] = numlist1\n",
    "    combolist[1::2] = numlist2\n",
    "    print(combolist)\n",
    "altList()"
   ],
   "metadata": {
    "collapsed": false,
    "pycharm": {
     "name": "#%%\n"
    }
   }
  },
  {
   "cell_type": "code",
   "execution_count": 8,
   "outputs": [
    {
     "name": "stdout",
     "output_type": "stream",
     "text": [
      "{'1': 5, 'r': 1, 't': 3, 'm': 1, '6': 2, '7': 1}\n"
     ]
    }
   ],
   "source": [
    "#dictionary function\n",
    "def freqDict():\n",
    "    list1 = input(\"Please enter a list of elements (separated by a space):\")\n",
    "    list1 = list1.split()\n",
    "    freq = {}\n",
    "    for item in list1:\n",
    "        if (item in freq):\n",
    "            freq[item] += 1\n",
    "        else:\n",
    "            freq[item] = 1\n",
    "    print(freq)\n",
    "freqDict()"
   ],
   "metadata": {
    "collapsed": false,
    "pycharm": {
     "name": "#%%\n"
    }
   }
  },
  {
   "cell_type": "code",
   "execution_count": 11,
   "outputs": [
    {
     "name": "stdout",
     "output_type": "stream",
     "text": [
      "The common elements between the two lists are:  ['1', 'd']\n"
     ]
    }
   ],
   "source": [
    "#common elements function\n",
    "def comElements():\n",
    "    list1 = input(\"Please enter a list of elements (separated by a space):\")\n",
    "    eleList1 = list1.split()\n",
    "    list2 = input(\"Please enter another list of elements (separated by a space):\")\n",
    "    eleList2 = list2.split()\n",
    "    set1 = set(eleList1)\n",
    "    set2 = set(eleList2)\n",
    "    if (set1 & set2):\n",
    "        comList = list(set1 & set2)\n",
    "        print(\"The common elements between the two lists are: \", comList)\n",
    "    else:\n",
    "        print(\"No common elements\")\n",
    "comElements()"
   ],
   "metadata": {
    "collapsed": false,
    "pycharm": {
     "name": "#%%\n"
    }
   }
  },
  {
   "cell_type": "code",
   "execution_count": null,
   "outputs": [],
   "source": [],
   "metadata": {
    "collapsed": false,
    "pycharm": {
     "name": "#%%\n"
    }
   }
  }
 ],
 "metadata": {
  "kernelspec": {
   "display_name": "Python 3",
   "language": "python",
   "name": "python3"
  },
  "language_info": {
   "codemirror_mode": {
    "name": "ipython",
    "version": 2
   },
   "file_extension": ".py",
   "mimetype": "text/x-python",
   "name": "python",
   "nbconvert_exporter": "python",
   "pygments_lexer": "ipython2",
   "version": "2.7.6"
  }
 },
 "nbformat": 4,
 "nbformat_minor": 0
}