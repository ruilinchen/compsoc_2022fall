{
 "cells": [
  {
   "cell_type": "code",
   "execution_count": null,
   "metadata": {
    "pycharm": {
     "name": "#%%\n"
    }
   },
   "outputs": [],
   "source": [
    "##Task 3.1 "
   ]
  },
  {
   "cell_type": "code",
   "execution_count": 9,
   "metadata": {
    "pycharm": {
     "name": "#%%\n"
    }
   },
   "outputs": [
    {
     "name": "stdout",
     "output_type": "stream",
     "text": [
      "10\n",
      "6\n",
      "outcome 4\n"
     ]
    }
   ],
   "source": [
    "\n",
    "list = []\n",
    "\n",
    "n=int(input('enter the number'))\n",
    "\n",
    "for i in range(0,n):\n",
    "    num= int(input())\n",
    "    list.append(num)\n",
    "\n",
    "x= print(max(list))\n",
    "y= print (min(list))\n",
    "\n",
    "print(\"outcome\", max(list)-min(list))\n",
    "\n"
   ]
  },
  {
   "cell_type": "code",
   "execution_count": 18,
   "metadata": {
    "pycharm": {
     "name": "#%%\n"
    }
   },
   "outputs": [
    {
     "name": "stdout",
     "output_type": "stream",
     "text": [
      "[8, 'd', 5, 'g', 3, 'k', 4, 'l']\n"
     ]
    }
   ],
   "source": [
    "#Task 3.2 \n",
    "\n",
    "list1=[8,5,3,4]\n",
    "list2=['d','g','k','l']\n",
    "\n",
    "list3 = [item for sublist in zip(list1, list2) for item in sublist]\n",
    "print(list3)\n",
    "\n",
    "\n"
   ]
  },
  {
   "cell_type": "code",
   "execution_count": 16,
   "metadata": {
    "pycharm": {
     "name": "#%%\n"
    }
   },
   "outputs": [
    {
     "name": "stdout",
     "output_type": "stream",
     "text": [
      "{'a': 2, 'b': 1, 'd': 2, 'c': 1, 'v': 1}\n"
     ]
    }
   ],
   "source": [
    "#Task 3.3 \n",
    "\n",
    "def Countfrequency(mylist):\n",
    "\n",
    "   count = {}\n",
    "   for i in ['a','b','d', 'a', 'c', 'd', 'v']:\n",
    "    count[i] = count.get(i, 0) + 1\n",
    "   return count\n",
    "\n",
    "mylist=['a','b','d', 'a', 'c', 'd', 'v']\n",
    "print(Countfrequency(mylist))"
   ]
  },
  {
   "cell_type": "code",
   "execution_count": 17,
   "metadata": {
    "pycharm": {
     "name": "#%%\n"
    }
   },
   "outputs": [
    {
     "name": "stdout",
     "output_type": "stream",
     "text": [
      "['a', 4]\n"
     ]
    }
   ],
   "source": [
    "\n",
    "#Task 3.4 \n",
    "\n",
    "list1 = [1, 'a', 3, 4]\n",
    "list2 = [4, 5, 'a', 7]\n",
    "list3 = list(set(list1).intersection(set(list2)))\n",
    "print(list3)\n"
   ]
  },
  {
   "cell_type": "code",
   "execution_count": null,
   "metadata": {
    "pycharm": {
     "name": "#%%\n"
    }
   },
   "outputs": [],
   "source": []
  }
 ],
 "metadata": {
  "kernelspec": {
   "display_name": "Python 3 (ipykernel)",
   "language": "python",
   "name": "python3"
  },
  "language_info": {
   "codemirror_mode": {
    "name": "ipython",
    "version": 3
   },
   "file_extension": ".py",
   "mimetype": "text/x-python",
   "name": "python",
   "nbconvert_exporter": "python",
   "pygments_lexer": "ipython3",
   "version": "3.9.12"
  }
 },
 "nbformat": 4,
 "nbformat_minor": 1
}