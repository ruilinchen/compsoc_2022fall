{
 "cells": [
  {
   "cell_type": "code",
   "execution_count": 1,
   "metadata": {
    "collapsed": true,
    "pycharm": {
     "name": "#%%\n"
    }
   },
   "outputs": [
    {
     "name": "stdout",
     "output_type": "stream",
     "text": [
      "6\n",
      "990\n"
     ]
    }
   ],
   "source": [
    "#Task 3.1\n",
    "def MinusFunction(num_list):\n",
    "    min_num = min(num_list)\n",
    "    max_num = max(num_list)\n",
    "    result = max_num - min_num\n",
    "    print(result)\n",
    "MinusFunction([2, 4, 6, 8])\n",
    "MinusFunction([19, 48, 69, 899, 10, 38, 1000])"
   ]
  },
  {
   "cell_type": "code",
   "execution_count": 2,
   "outputs": [
    {
     "name": "stdout",
     "output_type": "stream",
     "text": [
      "['a', '1', 'b', '2', 'c', '3']\n",
      "['I', 'love', 'working', 'with', 'python', '!']\n"
     ]
    }
   ],
   "source": [
    "#Task 3.2\n",
    "def CombineAlt(list1,list2):\n",
    "    len_combined = len(list1) + len(list2)\n",
    "    combined_list = [None]*len_combined\n",
    "    combined_list[::2] = list1\n",
    "    combined_list[1::2] = list2\n",
    "    print(combined_list)\n",
    "CombineAlt(['a','b','c'],['1','2','3'])\n",
    "CombineAlt(['I', 'working', 'python'],['love', 'with', '!'])"
   ],
   "metadata": {
    "collapsed": false,
    "pycharm": {
     "name": "#%%\n"
    }
   }
  },
  {
   "cell_type": "code",
   "execution_count": 3,
   "outputs": [
    {
     "name": "stdout",
     "output_type": "stream",
     "text": [
      "{'a': 2, 'b': 1}\n",
      "{'a': 3, 'b': 2, 'c': 1}\n"
     ]
    }
   ],
   "source": [
    "#Task 3.3\n",
    "def FrequencyTable(num_list):\n",
    "    count_dict = {}\n",
    "    for i in num_list:\n",
    "        count_dict[i] = count_dict.get(i,0) + 1\n",
    "    print(count_dict)\n",
    "FrequencyTable(['a', 'b', 'a'])\n",
    "FrequencyTable(['a', 'b', 'c', 'a', 'b', 'a'])"
   ],
   "metadata": {
    "collapsed": false,
    "pycharm": {
     "name": "#%%\n"
    }
   }
  },
  {
   "cell_type": "code",
   "execution_count": 4,
   "outputs": [
    {
     "name": "stdout",
     "output_type": "stream",
     "text": [
      "['b', 'c']\n",
      "['John']\n"
     ]
    }
   ],
   "source": [
    "#Task 3.4\n",
    "def CommonList(list1,list2):\n",
    "    set1 = set(list1)\n",
    "    set2 = set(list2)\n",
    "    common_set = set1.intersection(set2)\n",
    "    common_list = list(common_set)\n",
    "    print(common_list)\n",
    "CommonList(['a', 'b', 'c'],['b', 'c', 'd'])\n",
    "CommonList(['John', 'Amy', 'Oscar','Brandon'],['Lisa', 'John', 'Helen', 'Tom', 'Jack'])"
   ],
   "metadata": {
    "collapsed": false,
    "pycharm": {
     "name": "#%%\n"
    }
   }
  }
 ],
 "metadata": {
  "kernelspec": {
   "display_name": "Python 3",
   "language": "python",
   "name": "python3"
  },
  "language_info": {
   "codemirror_mode": {
    "name": "ipython",
    "version": 2
   },
   "file_extension": ".py",
   "mimetype": "text/x-python",
   "name": "python",
   "nbconvert_exporter": "python",
   "pygments_lexer": "ipython2",
   "version": "2.7.6"
  }
 },
 "nbformat": 4,
 "nbformat_minor": 0
}