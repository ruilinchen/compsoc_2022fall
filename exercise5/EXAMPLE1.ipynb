{
 "cells": [
  {
   "cell_type": "code",
   "execution_count": 2,
   "id": "3ef9ce04",
   "metadata": {
    "pycharm": {
     "name": "#%%\n"
    }
   },
   "outputs": [
    {
     "name": "stdout",
     "output_type": "stream",
     "text": [
      "MA_cbg_human_mobility_2019/MA_cbg2cbg_2019_09.csv\n",
      "__MACOSX/MA_cbg_human_mobility_2019/._MA_cbg2cbg_2019_09.csv\n",
      "MA_cbg_human_mobility_2019/MA_cbg2cbg_2019_08.csv\n",
      "__MACOSX/MA_cbg_human_mobility_2019/._MA_cbg2cbg_2019_08.csv\n",
      "MA_cbg_human_mobility_2019/MA_cbg2cbg_2019_03.csv\n",
      "__MACOSX/MA_cbg_human_mobility_2019/._MA_cbg2cbg_2019_03.csv\n",
      "MA_cbg_human_mobility_2019/MA_cbg2cbg_2019_02.csv\n",
      "__MACOSX/MA_cbg_human_mobility_2019/._MA_cbg2cbg_2019_02.csv\n",
      "MA_cbg_human_mobility_2019/MA_cbg2cbg_2019_01.csv\n",
      "__MACOSX/MA_cbg_human_mobility_2019/._MA_cbg2cbg_2019_01.csv\n",
      "MA_cbg_human_mobility_2019/MA_cbg2cbg_2019_05.csv\n",
      "__MACOSX/MA_cbg_human_mobility_2019/._MA_cbg2cbg_2019_05.csv\n",
      "MA_cbg_human_mobility_2019/MA_cbg2cbg_2019_11.csv\n",
      "__MACOSX/MA_cbg_human_mobility_2019/._MA_cbg2cbg_2019_11.csv\n",
      "MA_cbg_human_mobility_2019/MA_cbg2cbg_2019_10.csv\n",
      "__MACOSX/MA_cbg_human_mobility_2019/._MA_cbg2cbg_2019_10.csv\n",
      "MA_cbg_human_mobility_2019/MA_cbg2cbg_2019_04.csv\n",
      "__MACOSX/MA_cbg_human_mobility_2019/._MA_cbg2cbg_2019_04.csv\n",
      "MA_cbg_human_mobility_2019/MA_cbg2cbg_2019_12.csv\n",
      "__MACOSX/MA_cbg_human_mobility_2019/._MA_cbg2cbg_2019_12.csv\n",
      "MA_cbg_human_mobility_2019/MA_cbg2cbg_2019_06.csv\n",
      "__MACOSX/MA_cbg_human_mobility_2019/._MA_cbg2cbg_2019_06.csv\n",
      "MA_cbg_human_mobility_2019/MA_cbg2cbg_2019_07.csv\n",
      "__MACOSX/MA_cbg_human_mobility_2019/._MA_cbg2cbg_2019_07.csv\n"
     ]
    }
   ],
   "source": [
    "import zipfile\n",
    "\n",
    "with zipfile.ZipFile(\"MA_cbg_human_mobility_2019.zip\", mode=\"r\") as z:\n",
    "    for file in z.namelist():\n",
    "        if file.endswith(\".csv\"):\n",
    "            print(file)"
   ]
  },
  {
   "cell_type": "code",
   "execution_count": 10,
   "id": "e0996c4e",
   "metadata": {
    "pycharm": {
     "name": "#%%\n"
    }
   },
   "outputs": [
    {
     "name": "stdout",
     "output_type": "stream",
     "text": [
      "12108558\n"
     ]
    }
   ],
   "source": [
    "import os,glob\n",
    "folder_path = \"/Users/danielbrinzan/Desktop/compsoc/code/MA_cbg_human_mobility_2019\"\n",
    "LineCount = 0\n",
    "for filename in glob.glob(os.path.join(folder_path, '*.csv')):\n",
    "  with open(filename, \"r\") as f:\n",
    "    FileLineLength = len(f.readlines())\n",
    "    LineCount += FileLineLength\n",
    "print(LineCount)"
   ]
  },
  {
   "cell_type": "code",
   "execution_count": 24,
   "id": "6b80abe8",
   "metadata": {
    "pycharm": {
     "name": "#%%\n"
    }
   },
   "outputs": [],
   "source": [
    "import os,glob,json\n",
    "folder_path = \"/Users/danielbrinzan/Desktop/compsoc/code/MA_cbg_human_mobility_2019\"\n",
    "LineCount = {}\n",
    "for filename in glob.glob(os.path.join(folder_path, '*.csv')):\n",
    "    x = os.path.basename(filename)\n",
    "    with open(filename, \"r\") as f:\n",
    "        FileLineLength = len(f.readlines())\n",
    "        LineCount[x] = FileLineLength\n",
    "\n",
    "with open('result.json', 'w') as Z:\n",
    "    json.dump(LineCount, Z)"
   ]
  }
 ],
 "metadata": {
  "kernelspec": {
   "display_name": "Python 3 (ipykernel)",
   "language": "python",
   "name": "python3"
  },
  "language_info": {
   "codemirror_mode": {
    "name": "ipython",
    "version": 3
   },
   "file_extension": ".py",
   "mimetype": "text/x-python",
   "name": "python",
   "nbconvert_exporter": "python",
   "pygments_lexer": "ipython3",
   "version": "3.9.12"
  }
 },
 "nbformat": 4,
 "nbformat_minor": 5
}