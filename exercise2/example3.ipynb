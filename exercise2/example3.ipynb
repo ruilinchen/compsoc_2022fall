{
 "cells": [
  {
   "cell_type": "markdown",
   "metadata": {
    "pycharm": {
     "name": "#%% md\n"
    }
   },
   "source": [
    "# Task 2.1"
   ]
  },
  {
   "cell_type": "code",
   "execution_count": 1,
   "metadata": {
    "pycharm": {
     "name": "#%%\n"
    }
   },
   "outputs": [],
   "source": [
    "def sumfornums(nums):\n",
    "    result = 0\n",
    "    while nums: \n",
    "        num = nums.pop()\n",
    "        try:\n",
    "            result += float(num)\n",
    "        except:\n",
    "            print('please input integer')\n",
    "            return None\n",
    "    print('The sum of all input numbers is {}'.format(result))\n",
    "    return result\n"
   ]
  },
  {
   "cell_type": "code",
   "execution_count": 2,
   "metadata": {
    "pycharm": {
     "name": "#%%\n"
    }
   },
   "outputs": [],
   "source": [
    "nums_all_numbers = input('please input numbers：').split()"
   ]
  },
  {
   "cell_type": "code",
   "execution_count": 3,
   "metadata": {
    "scrolled": true,
    "pycharm": {
     "name": "#%%\n"
    }
   },
   "outputs": [
    {
     "name": "stdout",
     "output_type": "stream",
     "text": [
      "The sum of all input numbers is 13.0\n"
     ]
    },
    {
     "data": {
      "text/plain": "13.0"
     },
     "execution_count": 3,
     "metadata": {},
     "output_type": "execute_result"
    }
   ],
   "source": [
    "sumfornums(nums_all_numbers)"
   ]
  },
  {
   "cell_type": "markdown",
   "metadata": {
    "pycharm": {
     "name": "#%% md\n"
    }
   },
   "source": [
    "# Task 2.2"
   ]
  },
  {
   "cell_type": "code",
   "execution_count": 4,
   "metadata": {
    "pycharm": {
     "name": "#%%\n"
    }
   },
   "outputs": [],
   "source": [
    "def accsum(n):\n",
    "    try:\n",
    "        x = int(float(n))\n",
    "        result = 0\n",
    "        while x:\n",
    "            result += x\n",
    "            x -= 1\n",
    "        if len(n.split('.'))==2:\n",
    "            print('the sum from 1 to {} is {}, '.format(n, result), 'Please input a integer')\n",
    "        else:\n",
    "            print('the sum from 1 to {} is {}'.format(n, result))\n",
    "        return result\n",
    "    except ValueError as e:\n",
    "        print('Error:', e, '. Please input an integer')\n",
    "        return "
   ]
  },
  {
   "cell_type": "code",
   "execution_count": 5,
   "metadata": {
    "scrolled": true,
    "pycharm": {
     "name": "#%%\n"
    }
   },
   "outputs": [],
   "source": [
    "num1 = input('please input a integer：')"
   ]
  },
  {
   "cell_type": "code",
   "execution_count": 6,
   "metadata": {
    "pycharm": {
     "name": "#%%\n"
    }
   },
   "outputs": [
    {
     "name": "stdout",
     "output_type": "stream",
     "text": [
      "Error: could not convert string to float: '`0' . Please input an integer\n"
     ]
    }
   ],
   "source": [
    "accsum(num1)"
   ]
  },
  {
   "cell_type": "code",
   "execution_count": 7,
   "metadata": {
    "pycharm": {
     "name": "#%%\n"
    }
   },
   "outputs": [
    {
     "name": "stdout",
     "output_type": "stream",
     "text": [
      "3\n",
      "the sum from 1 to 3 is 6\n",
      "-----------------------------------------------------------------\n",
      "4.5\n",
      "the sum from 1 to 4.5 is 10,  Please input a integer\n",
      "-----------------------------------------------------------------\n",
      "adscsbh\n",
      "Error: could not convert string to float: 'adscsbh' . Please input an integer\n",
      "-----------------------------------------------------------------\n"
     ]
    }
   ],
   "source": [
    "# test\n",
    "for num in ['3','4.5','adscsbh']:\n",
    "    print(num)\n",
    "    accsum(num)\n",
    "    print(\"-----------------------------------------------------------------\")"
   ]
  },
  {
   "cell_type": "markdown",
   "metadata": {
    "pycharm": {
     "name": "#%% md\n"
    }
   },
   "source": [
    "# Task 2.3"
   ]
  },
  {
   "cell_type": "code",
   "execution_count": 8,
   "metadata": {
    "pycharm": {
     "name": "#%%\n"
    }
   },
   "outputs": [],
   "source": [
    "import random"
   ]
  },
  {
   "cell_type": "code",
   "execution_count": 9,
   "metadata": {
    "pycharm": {
     "name": "#%%\n"
    }
   },
   "outputs": [
    {
     "data": {
      "text/plain": "0.40441609160455416"
     },
     "execution_count": 9,
     "metadata": {},
     "output_type": "execute_result"
    }
   ],
   "source": [
    "random.random()"
   ]
  },
  {
   "cell_type": "markdown",
   "metadata": {
    "pycharm": {
     "name": "#%% md\n"
    }
   },
   "source": [
    "Python random module is mainly used to generate random numbers \n",
    "      \n",
    "random() is a function in the module that returns a random floating number in the range [0.0, 1.0)    \n",
    "   \n",
    "The random module also contains functions such as seed(), randint(), uniform() to generate various forms of random numbers \n",
    "   \n",
    "In python, everything is an object, and \".\" is used to access the attributes or functions of the object, that is, to access the random() function of the random module.   \n",
    "   \n",
    "\"import random\" means import the random module into the current program so we can use the module directly."
   ]
  },
  {
   "cell_type": "code",
   "execution_count": 9,
   "metadata": {
    "pycharm": {
     "name": "#%%\n"
    }
   },
   "outputs": [],
   "source": []
  }
 ],
 "metadata": {
  "kernelspec": {
   "display_name": "Python 3",
   "language": "python",
   "name": "python3"
  },
  "language_info": {
   "codemirror_mode": {
    "name": "ipython",
    "version": 3
   },
   "file_extension": ".py",
   "mimetype": "text/x-python",
   "name": "python",
   "nbconvert_exporter": "python",
   "pygments_lexer": "ipython3",
   "version": "3.7.4"
  }
 },
 "nbformat": 4,
 "nbformat_minor": 2
}