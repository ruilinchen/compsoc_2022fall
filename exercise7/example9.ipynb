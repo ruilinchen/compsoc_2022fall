{
 "cells": [
  {
   "cell_type": "code",
   "execution_count": 9,
   "metadata": {
    "pycharm": {
     "name": "#%%\n"
    }
   },
   "outputs": [],
   "source": [
    "import pandas as pd\n",
    "import os\n",
    "import matplotlib.pyplot as plt"
   ]
  },
  {
   "cell_type": "markdown",
   "metadata": {
    "pycharm": {
     "name": "#%% md\n"
    }
   },
   "source": [
    "Task 7.1: Combine year 2019 and year 2020’s crime records into one pandas dataframe. Drop duplicates as well as any record that has missing values in the following columns: “INCIDENT_NUMBER”, “OFFENSE_CODE”, “DISTRICT”, “Long”, “Lat”, “SHOOTING”, “OCCURRED_ON_DATE”. Save the “cleaned” pandas dataframe to a separate csv file. Use the \"OFFENSE_DESCRIPTION\" column to identify violent vs. property crime incidents, and based on the cleaned dataframe, count the total number of violent vs. property crime incidents in Boston in year 2019 and year 2020 respectively. Print the results. Do you see any trend? "
   ]
  },
  {
   "cell_type": "code",
   "execution_count": 10,
   "metadata": {
    "pycharm": {
     "name": "#%%\n"
    }
   },
   "outputs": [
    {
     "name": "stderr",
     "output_type": "stream",
     "text": [
      "/opt/anaconda3/envs/PythonData/lib/python3.7/site-packages/IPython/core/interactiveshell.py:3457: DtypeWarning: Columns (0) have mixed types.Specify dtype option on import or set low_memory=False.\n",
      "  exec(code_obj, self.user_global_ns, self.user_ns)\n"
     ]
    },
    {
     "name": "stdout",
     "output_type": "stream",
     "text": [
      "      INCIDENT_NUMBER  OFFENSE_CODE  OFFENSE_CODE_GROUP  \\\n",
      "0           102091671          2647                 NaN   \n",
      "1           102095489          3115                 NaN   \n",
      "2           102096818          2905                 NaN   \n",
      "4           129099920          3301                 NaN   \n",
      "5           129099936          1106                 NaN   \n",
      "...               ...           ...                 ...   \n",
      "70889        20063425          3114                 NaN   \n",
      "70890        20062356          1107                 NaN   \n",
      "70891        20046400          1501                 NaN   \n",
      "70892        20038446          1501                 NaN   \n",
      "70893        20030892           540                 NaN   \n",
      "\n",
      "                                     OFFENSE_DESCRIPTION DISTRICT  \\\n",
      "0                              THREATS TO DO BODILY HARM       B3   \n",
      "1                                     INVESTIGATE PERSON      E18   \n",
      "2                            VAL - VIOLATION OF AUTO LAW       A1   \n",
      "4                                         VERBAL DISPUTE       B2   \n",
      "5                        FRAUD - CREDIT CARD / ATM FRAUD       B2   \n",
      "...                                                  ...      ...   \n",
      "70889                               INVESTIGATE PROPERTY       A7   \n",
      "70890                              FRAUD - IMPERSONATION      E18   \n",
      "70891  WEAPON VIOLATION - CARRY/ POSSESSING/ SALE/ TR...       B2   \n",
      "70892  WEAPON VIOLATION - CARRY/ POSSESSING/ SALE/ TR...       B2   \n",
      "70893                              BURGLARY - COMMERICAL      C11   \n",
      "\n",
      "      REPORTING_AREA  SHOOTING     OCCURRED_ON_DATE  YEAR  MONTH DAY_OF_WEEK  \\\n",
      "0                417         0  2019-11-12 12:00:00  2019     11     Tuesday   \n",
      "1                520         0  2019-11-25 16:30:00  2019     11      Monday   \n",
      "2                            0  2019-11-30 21:00:00  2019     11    Saturday   \n",
      "4                330         0  2019-12-12 07:50:00  2019     12    Thursday   \n",
      "5                288         0  2019-11-29 06:00:00  2019     11      Friday   \n",
      "...              ...       ...                  ...   ...    ...         ...   \n",
      "70889             21         0          9/1/20 0:00  2020      9     Tuesday   \n",
      "70890            520         0        8/28/20 18:39  2020      8      Friday   \n",
      "70891            330         0          7/2/20 1:38  2020      7    Thursday   \n",
      "70892            300         0          6/3/20 1:15  2020      6   Wednesday   \n",
      "70893            380         0          5/3/20 0:00  2020      5      Sunday   \n",
      "\n",
      "       HOUR  UCR_PART                                             STREET  \\\n",
      "0        12       NaN                                            MORA ST   \n",
      "1        16       NaN                                         POYDRAS ST   \n",
      "2        21       NaN  SUDBURY ST & CAMBRIDGE ST\\nBOSTON  MA 02108\\nU...   \n",
      "4         7       NaN                                      COLUMBIA ROAD   \n",
      "5         6       NaN                                      WASHINGTON ST   \n",
      "...     ...       ...                                                ...   \n",
      "70889     0       NaN                                           PARIS ST   \n",
      "70890    18       NaN                                       RIVERSIDE SQ   \n",
      "70891     1       NaN                                        PASADENA RD   \n",
      "70892     1       NaN                                      WASHINGTON ST   \n",
      "70893     0       NaN                                      GALLIVAN BLVD   \n",
      "\n",
      "             Lat       Long                                  Location  \n",
      "0      42.282082 -71.073649   (42.28208197671972, -71.07364874515646)  \n",
      "1      42.256216 -71.124019  (42.256215920402155, -71.12401947329023)  \n",
      "2      42.360866 -71.061316   (42.360866027118476, -71.0613160019785)  \n",
      "4       0.000000   0.000000                                    (0, 0)  \n",
      "5      42.329748 -71.084540  (42.329748204791635, -71.08454011649543)  \n",
      "...          ...        ...                                       ...  \n",
      "70889  42.374427 -71.035279     (42.3744269722053, -71.0352787630199)  \n",
      "70890  42.256216 -71.124019     (42.2562159204022, -71.1240194732902)  \n",
      "70891  42.305761 -71.083772     (42.3057609263196, -71.0837715727385)  \n",
      "70892  42.323808 -71.089150     (42.3238077563779, -71.0891502345332)  \n",
      "70893  42.283700 -71.047761     (42.2837003080534, -71.0477614298657)  \n",
      "\n",
      "[156759 rows x 17 columns]\n"
     ]
    },
    {
     "data": {
      "text/html": [
       "<div>\n",
       "<style scoped>\n",
       "    .dataframe tbody tr th:only-of-type {\n",
       "        vertical-align: middle;\n",
       "    }\n",
       "\n",
       "    .dataframe tbody tr th {\n",
       "        vertical-align: top;\n",
       "    }\n",
       "\n",
       "    .dataframe thead th {\n",
       "        text-align: right;\n",
       "    }\n",
       "</style>\n",
       "<table border=\"1\" class=\"dataframe\">\n",
       "  <thead>\n",
       "    <tr style=\"text-align: right;\">\n",
       "      <th></th>\n",
       "      <th>INCIDENT_NUMBER</th>\n",
       "      <th>OFFENSE_CODE</th>\n",
       "      <th>OFFENSE_CODE_GROUP</th>\n",
       "      <th>OFFENSE_DESCRIPTION</th>\n",
       "      <th>DISTRICT</th>\n",
       "      <th>REPORTING_AREA</th>\n",
       "      <th>SHOOTING</th>\n",
       "      <th>OCCURRED_ON_DATE</th>\n",
       "      <th>YEAR</th>\n",
       "      <th>MONTH</th>\n",
       "      <th>DAY_OF_WEEK</th>\n",
       "      <th>HOUR</th>\n",
       "      <th>UCR_PART</th>\n",
       "      <th>STREET</th>\n",
       "      <th>Lat</th>\n",
       "      <th>Long</th>\n",
       "      <th>Location</th>\n",
       "    </tr>\n",
       "  </thead>\n",
       "  <tbody>\n",
       "    <tr>\n",
       "      <th>0</th>\n",
       "      <td>102091671</td>\n",
       "      <td>2647</td>\n",
       "      <td>NaN</td>\n",
       "      <td>THREATS TO DO BODILY HARM</td>\n",
       "      <td>B3</td>\n",
       "      <td>417</td>\n",
       "      <td>0</td>\n",
       "      <td>2019-11-12 12:00:00</td>\n",
       "      <td>2019</td>\n",
       "      <td>11</td>\n",
       "      <td>Tuesday</td>\n",
       "      <td>12</td>\n",
       "      <td>NaN</td>\n",
       "      <td>MORA ST</td>\n",
       "      <td>42.282082</td>\n",
       "      <td>-71.073649</td>\n",
       "      <td>(42.28208197671972, -71.07364874515646)</td>\n",
       "    </tr>\n",
       "    <tr>\n",
       "      <th>1</th>\n",
       "      <td>102095489</td>\n",
       "      <td>3115</td>\n",
       "      <td>NaN</td>\n",
       "      <td>INVESTIGATE PERSON</td>\n",
       "      <td>E18</td>\n",
       "      <td>520</td>\n",
       "      <td>0</td>\n",
       "      <td>2019-11-25 16:30:00</td>\n",
       "      <td>2019</td>\n",
       "      <td>11</td>\n",
       "      <td>Monday</td>\n",
       "      <td>16</td>\n",
       "      <td>NaN</td>\n",
       "      <td>POYDRAS ST</td>\n",
       "      <td>42.256216</td>\n",
       "      <td>-71.124019</td>\n",
       "      <td>(42.256215920402155, -71.12401947329023)</td>\n",
       "    </tr>\n",
       "    <tr>\n",
       "      <th>2</th>\n",
       "      <td>102096818</td>\n",
       "      <td>2905</td>\n",
       "      <td>NaN</td>\n",
       "      <td>VAL - VIOLATION OF AUTO LAW</td>\n",
       "      <td>A1</td>\n",
       "      <td></td>\n",
       "      <td>0</td>\n",
       "      <td>2019-11-30 21:00:00</td>\n",
       "      <td>2019</td>\n",
       "      <td>11</td>\n",
       "      <td>Saturday</td>\n",
       "      <td>21</td>\n",
       "      <td>NaN</td>\n",
       "      <td>SUDBURY ST &amp; CAMBRIDGE ST\\nBOSTON  MA 02108\\nU...</td>\n",
       "      <td>42.360866</td>\n",
       "      <td>-71.061316</td>\n",
       "      <td>(42.360866027118476, -71.0613160019785)</td>\n",
       "    </tr>\n",
       "    <tr>\n",
       "      <th>4</th>\n",
       "      <td>129099920</td>\n",
       "      <td>3301</td>\n",
       "      <td>NaN</td>\n",
       "      <td>VERBAL DISPUTE</td>\n",
       "      <td>B2</td>\n",
       "      <td>330</td>\n",
       "      <td>0</td>\n",
       "      <td>2019-12-12 07:50:00</td>\n",
       "      <td>2019</td>\n",
       "      <td>12</td>\n",
       "      <td>Thursday</td>\n",
       "      <td>7</td>\n",
       "      <td>NaN</td>\n",
       "      <td>COLUMBIA ROAD</td>\n",
       "      <td>0.000000</td>\n",
       "      <td>0.000000</td>\n",
       "      <td>(0, 0)</td>\n",
       "    </tr>\n",
       "    <tr>\n",
       "      <th>5</th>\n",
       "      <td>129099936</td>\n",
       "      <td>1106</td>\n",
       "      <td>NaN</td>\n",
       "      <td>FRAUD - CREDIT CARD / ATM FRAUD</td>\n",
       "      <td>B2</td>\n",
       "      <td>288</td>\n",
       "      <td>0</td>\n",
       "      <td>2019-11-29 06:00:00</td>\n",
       "      <td>2019</td>\n",
       "      <td>11</td>\n",
       "      <td>Friday</td>\n",
       "      <td>6</td>\n",
       "      <td>NaN</td>\n",
       "      <td>WASHINGTON ST</td>\n",
       "      <td>42.329748</td>\n",
       "      <td>-71.084540</td>\n",
       "      <td>(42.329748204791635, -71.08454011649543)</td>\n",
       "    </tr>\n",
       "  </tbody>\n",
       "</table>\n",
       "</div>"
      ],
      "text/plain": [
       "  INCIDENT_NUMBER  OFFENSE_CODE  OFFENSE_CODE_GROUP  \\\n",
       "0       102091671          2647                 NaN   \n",
       "1       102095489          3115                 NaN   \n",
       "2       102096818          2905                 NaN   \n",
       "4       129099920          3301                 NaN   \n",
       "5       129099936          1106                 NaN   \n",
       "\n",
       "               OFFENSE_DESCRIPTION DISTRICT REPORTING_AREA  SHOOTING  \\\n",
       "0        THREATS TO DO BODILY HARM       B3            417         0   \n",
       "1               INVESTIGATE PERSON      E18            520         0   \n",
       "2      VAL - VIOLATION OF AUTO LAW       A1                        0   \n",
       "4                   VERBAL DISPUTE       B2            330         0   \n",
       "5  FRAUD - CREDIT CARD / ATM FRAUD       B2            288         0   \n",
       "\n",
       "      OCCURRED_ON_DATE  YEAR  MONTH DAY_OF_WEEK  HOUR  UCR_PART  \\\n",
       "0  2019-11-12 12:00:00  2019     11     Tuesday    12       NaN   \n",
       "1  2019-11-25 16:30:00  2019     11      Monday    16       NaN   \n",
       "2  2019-11-30 21:00:00  2019     11    Saturday    21       NaN   \n",
       "4  2019-12-12 07:50:00  2019     12    Thursday     7       NaN   \n",
       "5  2019-11-29 06:00:00  2019     11      Friday     6       NaN   \n",
       "\n",
       "                                              STREET        Lat       Long  \\\n",
       "0                                            MORA ST  42.282082 -71.073649   \n",
       "1                                         POYDRAS ST  42.256216 -71.124019   \n",
       "2  SUDBURY ST & CAMBRIDGE ST\\nBOSTON  MA 02108\\nU...  42.360866 -71.061316   \n",
       "4                                      COLUMBIA ROAD   0.000000   0.000000   \n",
       "5                                      WASHINGTON ST  42.329748 -71.084540   \n",
       "\n",
       "                                   Location  \n",
       "0   (42.28208197671972, -71.07364874515646)  \n",
       "1  (42.256215920402155, -71.12401947329023)  \n",
       "2   (42.360866027118476, -71.0613160019785)  \n",
       "4                                    (0, 0)  \n",
       "5  (42.329748204791635, -71.08454011649543)  "
      ]
     },
     "execution_count": 10,
     "metadata": {},
     "output_type": "execute_result"
    }
   ],
   "source": [
    "#os.chdir('/Users/[editted]/Desktop/compSoc/datasets')\n",
    "\n",
    "Boston_crime_2019 = pd.read_csv(\"/Users/[editted]/Downloads/tmp9mkqyv6b.csv\")\n",
    "Boston_crime_2020 = pd.read_csv(\"/Users/[editted]/Downloads/script_113631134_20210423193017_combine.csv\")\n",
    "Boston_crime_merged_df = pd.concat([Boston_crime_2019, Boston_crime_2020])\n",
    "\n",
    "Boston_crime_dropped_df = Boston_crime_merged_df.dropna(subset = ['INCIDENT_NUMBER', 'OFFENSE_CODE', 'DISTRICT', \n",
    "                             'Long', 'Lat', 'SHOOTING', 'OCCURRED_ON_DATE'])\n",
    "\n",
    "Boston_crime_dropped_no_dups_df = Boston_crime_dropped_df.drop_duplicates()\n",
    "print(Boston_crime_dropped_no_dups_df)\n",
    "Boston_crime_dropped_no_dups_df.to_csv('clean_crime.csv', index=False)\n",
    "\n",
    "Boston_crime_merged_column_names = Boston_crime_dropped_no_dups_df.head()\n",
    "\n",
    "Boston_crime_merged_column_names"
   ]
  },
  {
   "cell_type": "code",
   "execution_count": 17,
   "metadata": {
    "pycharm": {
     "name": "#%%\n"
    }
   },
   "outputs": [],
   "source": [
    "# Identify violent vs. property crimes using \"OFFENSE_DESCRIPTION\"\n",
    "violent_crimes = [\"RAPE\", \"ROBBERY\", \"ASSAULT\"]\n",
    "property_crimes = [\"BURGULARY\", \"LARCENY\", \"THEFT\", \"AUTO THEFT\", \"ARSON\"]\n",
    "\n",
    "violent_crimes_df = pd.DataFrame()\n",
    "property_crimes_df = pd.DataFrame()\n",
    "\n",
    "Boston_crime_dropped_no_dups_df[\"Indexes\"] = Boston_crime_dropped_no_dups_df[\"OFFENSE_DESCRIPTION\"].str.find(\"RAPE\")\n",
    "\n",
    "for index, row in Boston_crime_dropped_no_dups_df.iterrows():\n",
    "    if row[\"OFFENSE_DESCRIPTION\"] in violent_crimes:\n",
    "        violent_crimes_df.append(row, ignore_index=True)"
   ]
  },
  {
   "cell_type": "code",
   "execution_count": 15,
   "metadata": {
    "pycharm": {
     "name": "#%%\n"
    }
   },
   "outputs": [
    {
     "data": {
      "text/plain": [
       "0"
      ]
     },
     "execution_count": 15,
     "metadata": {},
     "output_type": "execute_result"
    }
   ],
   "source": [
    "violent_crimes_df.head()\n",
    "len(violent_crimes_df)"
   ]
  },
  {
   "cell_type": "markdown",
   "metadata": {
    "pycharm": {
     "name": "#%% md\n"
    }
   },
   "source": [
    "Task 7.2: Create a scatterplot of annual violent crimes vs. annual property crimes by district in Boston from 2019 to 2020. X axis: annual property crimes. Y axis: annual violent crimes. Use different colors to color data from different years. "
   ]
  },
  {
   "cell_type": "code",
   "execution_count": 12,
   "metadata": {
    "pycharm": {
     "name": "#%%\n"
    }
   },
   "outputs": [],
   "source": [
    "# Violent crimes: robbery, assault, rape\n",
    "# Property crimes: burgulary, larceny, theft, auto theft, arson"
   ]
  },
  {
   "cell_type": "code",
   "execution_count": 13,
   "metadata": {
    "pycharm": {
     "name": "#%%\n"
    }
   },
   "outputs": [
    {
     "data": {
      "image/png": "[encoded data removed]",
      "text/plain": [
       "<Figure size 432x288 with 1 Axes>"
      ]
     },
     "metadata": {
      "needs_background": "light"
     },
     "output_type": "display_data"
    }
   ],
   "source": [
    "plt.scatter(violent_crimes,property_crimes, c='green', marker='x', s=violent_crimes)\n",
    "#s=size of markers is set to X so the markers' size are relative to the number of rides in the city)\n",
    "plt.xlabel('Annual Propoerty Crimes')\n",
    "plt.ylabel('Annual Violent Crimes')\n",
    "plt.title('Annual Violent Crimes by District in Boston (2019 and 2020')\n",
    "plt.show()"
   ]
  },
  {
   "cell_type": "markdown",
   "metadata": {
    "pycharm": {
     "name": "#%% md\n"
    }
   },
   "source": [
    "Task 7.3: Create a bar plot of the sum of annual violent and property crimes by district in Boston from 2019 to 2020. X axis: districts. Y axis: annual sums. Use different bars to represent data from different years. "
   ]
  },
  {
   "cell_type": "code",
   "execution_count": null,
   "metadata": {
    "pycharm": {
     "name": "#%%\n"
    }
   },
   "outputs": [],
   "source": [
    "plt.bar(districts, annual_sums)"
   ]
  },
  {
   "cell_type": "code",
   "execution_count": null,
   "metadata": {
    "pycharm": {
     "name": "#%%\n"
    }
   },
   "outputs": [],
   "source": []
  },
  {
   "cell_type": "markdown",
   "metadata": {
    "pycharm": {
     "name": "#%% md\n"
    }
   },
   "source": [
    "Task 7.4: Create a violin plot of district-level shooting incidents by quarter in Boston from 2019 to 2020. X axis: quarters. Y axis: district-level shooting incidents (counts)."
   ]
  },
  {
   "cell_type": "code",
   "execution_count": null,
   "metadata": {
    "pycharm": {
     "name": "#%%\n"
    }
   },
   "outputs": [],
   "source": [
    "sns.violinplot(data=Boston_crime_dropped_no_dups_df, x=\"Quarters\", y=\"District-Level Shooting Incidents\")"
   ]
  }
 ],
 "metadata": {
  "kernelspec": {
   "display_name": "Python 3.7.13 ('PythonData')",
   "language": "python",
   "name": "python3"
  },
  "language_info": {
   "codemirror_mode": {
    "name": "ipython",
    "version": 3
   },
   "file_extension": ".py",
   "mimetype": "text/x-python",
   "name": "python",
   "nbconvert_exporter": "python",
   "pygments_lexer": "ipython3",
   "version": "3.7.13"
  },
  "orig_nbformat": 4,
  "vscode": {
   "interpreter": {
    "hash": "a5387b9da968551e43e0ccab31c37bebadc093c630309dcd510e17231b5b064a"
   }
  }
 },
 "nbformat": 4,
 "nbformat_minor": 2
}