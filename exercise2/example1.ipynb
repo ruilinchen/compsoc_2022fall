{
 "cells": [
  {
   "cell_type": "markdown",
   "id": "c5447527-2837-49c5-8a34-c64cd2597df9",
   "metadata": {
    "pycharm": {
     "name": "#%% md\n"
    }
   },
   "source": [
    "# Class Exercise 2"
   ]
  },
  {
   "cell_type": "markdown",
   "id": "90369ce7-7d77-485d-9eae-e6e74308bfd2",
   "metadata": {
    "pycharm": {
     "name": "#%% md\n"
    }
   },
   "source": [
    "* Task 2.1\n",
    "* Task 2.2\n",
    "* Task 2.3\n",
    "* Task 2.4"
   ]
  },
  {
   "cell_type": "markdown",
   "id": "e1890565-1c7d-4379-9326-64e8020eb341",
   "metadata": {
    "pycharm": {
     "name": "#%% md\n"
    }
   },
   "source": [
    "## Task 2.1"
   ]
  },
  {
   "cell_type": "code",
   "execution_count": 10,
   "id": "bd261ec5-37a9-4a7b-be14-ff8180938cde",
   "metadata": {
    "pycharm": {
     "name": "#%%\n"
    }
   },
   "outputs": [],
   "source": [
    "def sumForFour():\n",
    "    num1=int(input(\"First number: \"))    #input a number as an integer\n",
    "    print(type(num1), \"\\n\") #print the type of the number\n",
    "    num2=int(input(\"Second number: \"))\n",
    "    print(type(num2), \"\\n\")\n",
    "    num3=int(input(\"Third number: \"))\n",
    "    print(type(num3), \"\\n\")\n",
    "    num4=int(input(\"Fourth number: \"))\n",
    "    print(type(num4), \"\\n\")\n",
    "    nums=[num1, num2, num3, num4]    #make a list of numbers\n",
    "    print(\"Sum of four numbers is %d\" %sum(nums)) # print the sum of numbers"
   ]
  },
  {
   "cell_type": "code",
   "execution_count": 11,
   "id": "207e316b-1f1b-4982-9679-498c9ddbede0",
   "metadata": {
    "pycharm": {
     "name": "#%%\n"
    }
   },
   "outputs": [
    {
     "name": "stdin",
     "output_type": "stream",
     "text": [
      "First number:  1\n"
     ]
    },
    {
     "name": "stdout",
     "output_type": "stream",
     "text": [
      "<class 'int'> \n",
      "\n"
     ]
    },
    {
     "name": "stdin",
     "output_type": "stream",
     "text": [
      "Second number:  2\n"
     ]
    },
    {
     "name": "stdout",
     "output_type": "stream",
     "text": [
      "<class 'int'> \n",
      "\n"
     ]
    },
    {
     "name": "stdin",
     "output_type": "stream",
     "text": [
      "Third number:  3\n"
     ]
    },
    {
     "name": "stdout",
     "output_type": "stream",
     "text": [
      "<class 'int'> \n",
      "\n"
     ]
    },
    {
     "name": "stdin",
     "output_type": "stream",
     "text": [
      "Fourth number:  4\n"
     ]
    },
    {
     "name": "stdout",
     "output_type": "stream",
     "text": [
      "<class 'int'> \n",
      "\n",
      "Sum of four numbers is 10\n"
     ]
    }
   ],
   "source": [
    "sumForFour()"
   ]
  },
  {
   "cell_type": "markdown",
   "id": "dd122fa8-8c5e-46a3-a6a8-3cdc5e9d1220",
   "metadata": {
    "pycharm": {
     "name": "#%% md\n"
    }
   },
   "source": [
    "## Task 2.2"
   ]
  },
  {
   "cell_type": "code",
   "execution_count": 61,
   "id": "ee38ca83-1f95-44fb-92d1-8847cf801838",
   "metadata": {
    "pycharm": {
     "name": "#%%\n"
    }
   },
   "outputs": [],
   "source": [
    "def sigma():  \n",
    "    try:\n",
    "        n=float(input(\"Enter a number:\"))   # assume an inputted number as a float value\n",
    "        if n-int(n)>0:     # in the case that an inputted number is not an integer value\n",
    "            print(\"Entered number is float\")\n",
    "            convert_n=int(n)  # convert to the integer \n",
    "            sigma_n=convert_n*(convert_n+1)/2\n",
    "            print(\"Sum of integers between 1 and %s is\" %n, int(sigma_n))\n",
    "        elif n==int(n):    # in the case that an inputted value is integer\n",
    "            n=int(n)\n",
    "            sigma_n=int(n*(n+1)/2)\n",
    "            print(\"Sum of integers between 1 and %s is\" %n, sigma_n)\n",
    "    except ValueError:     # warning for other types of the inputted value\n",
    "        print(\"Value Error: input a float or integer value\")"
   ]
  },
  {
   "cell_type": "code",
   "execution_count": 62,
   "id": "9fef8dc7-cb9c-4855-afd5-5313ab8c876f",
   "metadata": {
    "pycharm": {
     "name": "#%%\n"
    }
   },
   "outputs": [
    {
     "name": "stdin",
     "output_type": "stream",
     "text": [
      "Enter a number: 10.5\n"
     ]
    },
    {
     "name": "stdout",
     "output_type": "stream",
     "text": [
      "Entered number is float\n",
      "Sum of integers between 1 and 10.5 is 55\n"
     ]
    }
   ],
   "source": [
    "sigma()"
   ]
  },
  {
   "cell_type": "code",
   "execution_count": 63,
   "id": "41efa5fb-d848-4395-8126-185ec4094560",
   "metadata": {
    "pycharm": {
     "name": "#%%\n"
    }
   },
   "outputs": [
    {
     "name": "stdin",
     "output_type": "stream",
     "text": [
      "Enter a number: 10\n"
     ]
    },
    {
     "name": "stdout",
     "output_type": "stream",
     "text": [
      "Sum of integers between 1 and 10 is 55\n"
     ]
    }
   ],
   "source": [
    "sigma()"
   ]
  },
  {
   "cell_type": "code",
   "execution_count": 64,
   "id": "231d1be0-a1aa-4ee7-b60b-033e64b28976",
   "metadata": {
    "pycharm": {
     "name": "#%%\n"
    }
   },
   "outputs": [
    {
     "name": "stdin",
     "output_type": "stream",
     "text": [
      "Enter a number: abc\n"
     ]
    },
    {
     "name": "stdout",
     "output_type": "stream",
     "text": [
      "Value Error: input a float or integer value\n"
     ]
    }
   ],
   "source": [
    "sigma()"
   ]
  },
  {
   "cell_type": "markdown",
   "id": "c7f11b00-a06f-4139-8bf5-db696032da66",
   "metadata": {
    "pycharm": {
     "name": "#%% md\n"
    }
   },
   "source": [
    "## Task 2.3"
   ]
  },
  {
   "cell_type": "code",
   "execution_count": 47,
   "id": "139956fd-9b4a-4227-955f-c6d274ea61b1",
   "metadata": {
    "pycharm": {
     "name": "#%%\n"
    }
   },
   "outputs": [
    {
     "data": {
      "text/plain": [
       "0.9118362309606559"
      ]
     },
     "execution_count": 47,
     "metadata": {},
     "output_type": "execute_result"
    }
   ],
   "source": [
    "import random\n",
    "\n",
    "random.random()"
   ]
  },
  {
   "cell_type": "markdown",
   "id": "2297e6fc-d75c-41b4-950b-c1d13768ec58",
   "metadata": {
    "pycharm": {
     "name": "#%% md\n"
    }
   },
   "source": [
    "* What is \"import\" for?\n",
    "\n",
    "The import statement is a code that enables one module to access to the code in another module. Therefore, we can use functions and statesments of specific modules in our working space by using the import statement. \n",
    "\n",
    "* What does 'random.random()' do here?\n",
    "\n",
    "random.random() generates the random number between 0 and 1. \n",
    "\n",
    "* What is 'random.random'?\n",
    "\n",
    "The former 'random' is a Python module which means a source code to make pseudo-random numbers. The latter one is a function to generate a random number in the random module. Thus, random.random is a combination of a module and a function. \n",
    "\n",
    "* What is the dot symbol '.' is doing here?\n",
    "\n",
    "the dot symbol, '.', is a method to use the attributes and inner methods included in the class with the object of a class. "
   ]
  }
 ],
 "metadata": {
  "kernelspec": {
   "display_name": "Python [conda env:compsoc] *",
   "language": "python",
   "name": "conda-env-compsoc-py"
  },
  "language_info": {
   "codemirror_mode": {
    "name": "ipython",
    "version": 3
   },
   "file_extension": ".py",
   "mimetype": "text/x-python",
   "name": "python",
   "nbconvert_exporter": "python",
   "pygments_lexer": "ipython3",
   "version": "3.8.13"
  }
 },
 "nbformat": 4,
 "nbformat_minor": 5
}