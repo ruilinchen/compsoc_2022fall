{
 "cells": [
  {
   "cell_type": "markdown",
   "source": [
    "#### Task 1\n",
    "* Integrate information from the “job_url_data” folder into one dictionary. The keys of the dictionary are individual urls scraped from the website, and the values are the earliest date that the corresponding urls were scraped. Save the results into a json file. How many unique job urls have been collected between May 17, 2022 and May 23, 2022?"
   ],
   "metadata": {
    "collapsed": false,
    "pycharm": {
     "name": "#%% md\n"
    }
   }
  },
  {
   "cell_type": "code",
   "execution_count": 6,
   "metadata": {
    "collapsed": true,
    "pycharm": {
     "name": "#%%\n"
    }
   },
   "outputs": [
    {
     "name": "stdout",
     "output_type": "stream",
     "text": [
      "(60981, 2)\n",
      "21260\n"
     ]
    }
   ],
   "source": [
    "import os\n",
    "import glob\n",
    "import csv\n",
    "import pandas as pd\n",
    "import json\n",
    "\n",
    "os.chdir('/Users/[editted]/Desktop/compsoc/data/indeed_scraped_data/job_url_data')\n",
    "\n",
    "#generate an output csv file to save the \"merged\" dataframe\n",
    "with open('output.csv', 'w', newline='') as f_output:\n",
    "    csv_output = csv.writer(f_output)  #create an output.csv that stores all job urls\n",
    "    for file_name in glob.glob('*.csv'):\n",
    "        if len(file_name) > 10:  #make sure that the output.csv (which length is 10) does not go into the loop\n",
    "            with open(file_name, newline='') as f_input:\n",
    "                csv_input = csv.reader(f_input)\n",
    "                for row in csv_input:\n",
    "                    row.insert(0, file_name[22:29])  #insert every row from the files plus the date (from file name) in output.csv\n",
    "                    csv_output.writerow(row)\n",
    "\n",
    "#drop the headers that were merged in the dataframe\n",
    "all_url = pd.read_csv('output.csv', low_memory=False, header=None)  #eliminate the header\n",
    "all_url = all_url[all_url[1].str.contains('job_url') == False]  #drop original header lines from each csv file\n",
    "print(all_url.shape) #60981\n",
    "\n",
    "#clean the data, and save them into a dictionary, and then convert into json file\n",
    "all_url = all_url.groupby(1, as_index=False).min()  #drop duplicates, keep with the minimum value of 'date'\n",
    "all_url.set_index(1,inplace=True) #eliminate index column\n",
    "output_dict = all_url.to_dict()[0]\n",
    "#output_dict\n",
    "print(len(output_dict))\n",
    "\n",
    "\n",
    "with open ('output.json','w') as g:\n",
    "    json.dump(output_dict,g)"
   ]
  },
  {
   "cell_type": "markdown",
   "source": [
    "**Task 1 Conclusion**\n",
    "* There are 21260 unique job urls collected between May 17, 2022 and May 23, 2022."
   ],
   "metadata": {
    "collapsed": false,
    "pycharm": {
     "name": "#%% md\n"
    }
   }
  },
  {
   "cell_type": "code",
   "execution_count": 7,
   "outputs": [
    {
     "name": "stdout",
     "output_type": "stream",
     "text": [
      "60981\n"
     ]
    }
   ],
   "source": [
    "#In addition, proof that the \"all_url\" that I generated corresponds with the actual line counts\n",
    "import os\n",
    "import pandas as pd\n",
    "\n",
    "os.chdir('/Users/heather/Desktop/compsoc/data/indeed_scraped_data/job_url_data')\n",
    "\n",
    "length = 0\n",
    "for file_name in os.listdir(os.getcwd()):\n",
    "    with open(os.path.join(os.getcwd(),file_name),'r') as f:\n",
    "        if (\"csv\" in file_name) and (len(file_name)>10):\n",
    "            read_file = pd.read_csv(file_name)\n",
    "            length += len(read_file)\n",
    "print (length)"
   ],
   "metadata": {
    "collapsed": false,
    "pycharm": {
     "name": "#%%\n"
    }
   }
  },
  {
   "cell_type": "markdown",
   "source": [
    "#### Task 2\n",
    "* Clean and integrate information from the “job_info_data” folder into one data frame. Files from this subfolder might have two different formats. Some of them are csv files, while others are json files. The columns might also be named differently. Find ways to read each of the files into pandas, drop records with missing job titles and/or missing job descriptions, and combine them into one dataframe. Lastly, drop records with duplicate job urls, and then save them into a separate csv file. How many unique jobs are there in the cleaned dataframe?"
   ],
   "metadata": {
    "collapsed": false,
    "pycharm": {
     "name": "#%% md\n"
    }
   }
  },
  {
   "cell_type": "code",
   "execution_count": 8,
   "outputs": [
    {
     "name": "stdout",
     "output_type": "stream",
     "text": [
      "(43877, 7)\n",
      "(15907, 7)\n",
      "(43877, 7)\n",
      "(15907, 7)\n"
     ]
    }
   ],
   "source": [
    "import os\n",
    "import pandas as pd\n",
    "import glob\n",
    "import csv\n",
    "\n",
    "os.chdir('/Users/heather/Desktop/compsoc/data/indeed_scraped_data/job_info_data')\n",
    "\n",
    "#convert the two json files into csv files\n",
    "json_1 = pd.read_json('parsehub_5182022_v2.json')\n",
    "df_1 = pd.DataFrame.from_dict(json_1) #convert the json file into csv, and found that there are lists under the column\n",
    "df_1 = df_1['lnks'].apply(pd.Series) #extract the list and save them as new columns\n",
    "#df_1\n",
    "#df_1.to_csv('parsehub_5182022_v2.csv', index=False) #conver the dictionary into csv\n",
    "json_2 = pd.read_json('parsehub_5202022_v2.json')\n",
    "df_2 = pd.DataFrame.from_dict(json_2)\n",
    "df_2 = df_2['lnks'].apply(pd.Series)\n",
    "#df_2\n",
    "df_2.to_csv('parsehub_5202022_v2.csv', index=False)\n",
    "\n",
    "#generate an output csv file to save the \"merged\" dataframe\n",
    "with open('output.csv', 'w', newline='') as f_output:\n",
    "    csv_output = csv.writer(f_output)  #create an output.csv that \"merge\" all infos together\n",
    "    for file_name in glob.glob('*.csv'):\n",
    "         if len(file_name) > 10:  #make sure that the output.csv does not go into the loop\n",
    "             with open(file_name, newline='') as f_input:\n",
    "                 csv_input = csv.reader(f_input)\n",
    "                 for row in csv_input:\n",
    "                     row.insert(0, file_name[9:16])  #insert every row from the files plus the date together in output.csv\n",
    "                     csv_output.writerow(row)\n",
    "\n",
    "#drop the headers that were merged in the dataframe\n",
    "all_info = pd.read_csv('output.csv', low_memory=False)\n",
    "drop_value1 = all_info[all_info['lnks_link']=='lnks_link'].index\n",
    "drop_value2 = all_info[all_info['lnks_job_title']=='job_title'].index\n",
    "all_info.drop(drop_value1, inplace=True)\n",
    "all_info.drop(drop_value2, inplace=True)\n",
    "print(all_info.shape) #43877\n",
    "\n",
    "#start cleaning data, dropping missing job titles and/or missing job descriptions, and duplicate job urls\n",
    "cleaned_data = all_info.dropna(subset=['lnks_job_title', 'lnks_job_description'])\n",
    "cleaned_data = cleaned_data.drop_duplicates(subset=['lnks_link'])\n",
    "print(cleaned_data.shape)"
   ],
   "metadata": {
    "collapsed": false,
    "pycharm": {
     "name": "#%%\n"
    }
   }
  },
  {
   "cell_type": "markdown",
   "source": [
    "**Task 2 Conclusion**\n",
    "* There are 15907 unique jobs in the cleaned dataframe."
   ],
   "metadata": {
    "collapsed": false,
    "pycharm": {
     "name": "#%% md\n"
    }
   }
  },
  {
   "cell_type": "code",
   "execution_count": 9,
   "outputs": [
    {
     "name": "stdout",
     "output_type": "stream",
     "text": [
      "43877\n",
      "43877\n"
     ]
    }
   ],
   "source": [
    "#In addition, proof that the \"all_info\" that I generated corresponds with the actual line counts\n",
    "import os\n",
    "import pandas as pd\n",
    "\n",
    "os.chdir('/Users/heather/Desktop/compsoc/data/indeed_scraped_data/job_info_data')\n",
    "\n",
    "length = 0\n",
    "for file_name in os.listdir(os.getcwd()):\n",
    "    with open(os.path.join(os.getcwd(),file_name),'r') as f:\n",
    "        if (\"csv\" in file_name) and (len(file_name)>10):\n",
    "            read_file = pd.read_csv(file_name)\n",
    "            length += len(read_file)\n",
    "print (length)"
   ],
   "metadata": {
    "collapsed": false,
    "pycharm": {
     "name": "#%%\n"
    }
   }
  },
  {
   "cell_type": "markdown",
   "source": [
    "#### Task 3\n",
    "* Merge between “job_url_data” and “job_info_data”. What is the percentage of jobs that can be matched between these two data sources? How are the missing data (unmatched job urls) distributed by date? What about matched job urls? How many complete job listings were we able to collect each day? How would you interpret this result with respect to data quality? Does it mean that our data collection strategy is flawed and thus introduces non-random sampling biases?"
   ],
   "metadata": {
    "collapsed": false,
    "pycharm": {
     "name": "#%% md\n"
    }
   }
  },
  {
   "cell_type": "code",
   "execution_count": 10,
   "outputs": [
    {
     "name": "stdout",
     "output_type": "stream",
     "text": [
      "The total number of unique job urls collected is:  21260\n",
      "The total number of unique job infos collected is:  15907\n",
      "Total number of matched jobs is:  15907\n",
      "    date_x  count\n",
      "0  5172022   3894\n",
      "1  5182022   1321\n",
      "2  5192022   3721\n",
      "3  5202022   4480\n",
      "4  5212022   1932\n",
      "5  5222022    559\n"
     ]
    },
    {
     "data": {
      "text/plain": "<Figure size 432x288 with 1 Axes>",
      "image/png": "[encoded data removed]"
     },
     "metadata": {
      "needs_background": "light"
     },
     "output_type": "display_data"
    },
    {
     "data": {
      "text/plain": "<Figure size 432x288 with 1 Axes>",
      "image/png": "[encoded data removed]"
     },
     "metadata": {
      "needs_background": "light"
     },
     "output_type": "display_data"
    },
    {
     "name": "stdout",
     "output_type": "stream",
     "text": [
      "The total number of unique job urls collected is:  21260\n",
      "The total number of unique job infos collected is:  15907\n",
      "Total number of matched jobs is:  15907\n",
      "    date_x  count\n",
      "0  5172022   3894\n",
      "1  5182022   1321\n",
      "2  5192022   3721\n",
      "3  5202022   4480\n",
      "4  5212022   1932\n",
      "5  5222022    559\n"
     ]
    },
    {
     "data": {
      "text/plain": "<Figure size 432x288 with 1 Axes>",
      "image/png": "[encoded data removed]"
     },
     "metadata": {
      "needs_background": "light"
     },
     "output_type": "display_data"
    },
    {
     "data": {
      "text/plain": "<Figure size 432x288 with 1 Axes>",
      "image/png": "[encoded data removed]"
     },
     "metadata": {
      "needs_background": "light"
     },
     "output_type": "display_data"
    }
   ],
   "source": [
    "import os\n",
    "import pandas as pd\n",
    "\n",
    "#repeat url data cleaning procedure (drop duplicates and keep unique urls with earlier dates)\n",
    "os.chdir('/Users/heather/Desktop/compsoc/data/indeed_scraped_data/job_url_data')\n",
    "job_url = pd.read_csv('output.csv', low_memory=False)\n",
    "job_url = job_url.rename(columns={'5212022': 'date'})\n",
    "job_url = job_url[job_url['job_url'].str.contains('job_url') == False]\n",
    "job_url = job_url.groupby('job_url', as_index=False).min()\n",
    "print('The total number of unique job urls collected is: ', len(job_url)) #make sure that the shape corresponds with what's generated from task1\n",
    "\n",
    "#repeat info data cleaning procedure (drop duplicates and keep unique links)\n",
    "os.chdir('/Users/heather/Desktop/compsoc/data/indeed_scraped_data/job_info_data')\n",
    "job_info = pd.read_csv('output.csv', low_memory=False)\n",
    "job_info = job_info.rename(columns={'5222022': 'date'})\n",
    "drop_value1 = job_info[job_info['lnks_link']=='lnks_link'].index\n",
    "drop_value2 = job_info[job_info['lnks_job_title']=='job_title'].index\n",
    "job_info.drop(drop_value1, inplace=True)\n",
    "job_info.drop(drop_value2, inplace=True)\n",
    "job_info = job_info.dropna(subset=['lnks_job_title', 'lnks_job_description'])\n",
    "job_info = job_info.drop_duplicates(subset=['lnks_link'])\n",
    "print('The total number of unique job infos collected is: ', len(job_info)) #make sure that the shape corresponds with what's generated from task2\n",
    "\n",
    "#merge the two dataframes together, get the matched and unmatched portions\n",
    "all = job_url.merge(job_info, how='outer', left_on=['job_url'], right_on=['lnks_link']) #all urls and links with no duplicates using outer merge\n",
    "#print(all.shape)\n",
    "matched = job_url.merge(job_info, how='inner', left_on=['job_url'], right_on=['lnks_link']) #matched urls and links with inner merge\n",
    "print('Total number of matched jobs is: ', len(matched))\n",
    "inner_merge_index = matched.index #get the indexes of the matched datas\n",
    "unmatched = all.drop(list(inner_merge_index)) #drop the matched portion from all to get the unmatched portion\n",
    "unmatched_date = unmatched.groupby(['date_x']).size().reset_index(name='count') #get the date distribution (count) of unmatched data\n",
    "unmatched_date.plot.bar(x='date_x', y='count') #plot the distribution\n",
    "matched_date = matched.groupby(['date_x']).size().reset_index(name='count') #get the date distribution (count) of matched data\n",
    "matched_date.plot.bar(x='date_x', y='count') #plot the distribution\n",
    "print(matched_date)"
   ],
   "metadata": {
    "collapsed": false,
    "pycharm": {
     "name": "#%%\n"
    }
   }
  },
  {
   "cell_type": "markdown",
   "source": [
    "**Task 3 Conclusion**\n",
    "* 15907/21260=0.74821, approximately 74.82 percent of jobs can be matched between the two data sources.\n",
    "* All dates have missing data. Most of the missing data appear to be on 5.20, then on 5.17, 5.19, 5.23, and then far less on 5.21, 5.18, and the least on 5.22.\n",
    "* There are matched jobs everday except on 5.23. The most matched jobs are on 5.20, and then on 5.17 and 5.19; less on 5.21 and 5.18, and with the least on 5.22.\n",
    "* As shown in the dataframe printed above, there were 3894 complete job listings on 5.17, 1321 on 5.18, 3721 on 5.19, 4480 on 5.20, 1932 on 5.21, 559 on 5.22, and none on 5.23.\n",
    "* Based on the results, I think the data quality is not too bad. Because the unmatched and matched data almost distribute on every single day of the data collection."
   ],
   "metadata": {
    "collapsed": false,
    "pycharm": {
     "name": "#%% md\n"
    }
   }
  },
  {
   "cell_type": "code",
   "execution_count": 10,
   "outputs": [],
   "source": [],
   "metadata": {
    "collapsed": false,
    "pycharm": {
     "name": "#%%\n"
    }
   }
  }
 ],
 "metadata": {
  "kernelspec": {
   "display_name": "Python 3",
   "language": "python",
   "name": "python3"
  },
  "language_info": {
   "codemirror_mode": {
    "name": "ipython",
    "version": 2
   },
   "file_extension": ".py",
   "mimetype": "text/x-python",
   "name": "python",
   "nbconvert_exporter": "python",
   "pygments_lexer": "ipython2",
   "version": "2.7.6"
  }
 },
 "nbformat": 4,
 "nbformat_minor": 0
}