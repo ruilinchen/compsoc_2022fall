{
 "cells": [
  {
   "cell_type": "markdown",
   "id": "d9917c7e-d1bd-466e-b948-32a52a27f25e",
   "metadata": {
    "pycharm": {
     "name": "#%% md\n"
    }
   },
   "source": [
    "## Exercise 7"
   ]
  },
  {
   "cell_type": "markdown",
   "id": "7c9035fe-2256-4aa4-8082-74805363f01a",
   "metadata": {
    "pycharm": {
     "name": "#%% md\n"
    }
   },
   "source": [
    "#### Task 7.1\n",
    "\n",
    "Combine year 2019 and year 2020’s crime records into one pandas dataframe. Drop duplicates as well as any record that has missing values in the following columns: “INCIDENT_NUMBER”, “OFFENSE_CODE”, “DISTRICT”, “Long”, “Lat”, “SHOOTING”, “OCCURRED_ON_DATE”. Save the “cleaned” pandas dataframe to a separate csv file. Use the \"OFFENSE_DESCRIPTION\" column to identify violent vs. property crime incidents, and based on the cleaned dataframe, count the total number of violent vs. property crime incidents in Boston in year 2019 and year 2020 respectively. Print the results. Do you see any trend? "
   ]
  },
  {
   "cell_type": "code",
   "execution_count": 72,
   "id": "e0e066b5-41a5-478b-83cb-b3266a1212c3",
   "metadata": {
    "pycharm": {
     "name": "#%%\n"
    }
   },
   "outputs": [],
   "source": [
    "import os\n",
    "os.chdir('/Users/[editted]/Dropbox/work/compsoc/dataset')\n",
    "os.getcwd()\n",
    "os.listdir()\n",
    "\n",
    "import pandas as pd"
   ]
  },
  {
   "cell_type": "code",
   "execution_count": 73,
   "id": "9b5bdd64-bbb3-4c50-be74-6564c3c5b685",
   "metadata": {
    "pycharm": {
     "name": "#%%\n"
    }
   },
   "outputs": [
    {
     "name": "stderr",
     "output_type": "stream",
     "text": [
      "/var/folders/1b/s20n0f295fn5s0f986q3fppc0000gn/T/ipykernel_20034/2923864196.py:1: DtypeWarning: Columns (0) have mixed types. Specify dtype option on import or set low_memory=False.\n",
      "  ci19= pd.read_csv('crime_incidents_2019.csv')\n",
      "/var/folders/1b/s20n0f295fn5s0f986q3fppc0000gn/T/ipykernel_20034/2923864196.py:2: DtypeWarning: Columns (0) have mixed types. Specify dtype option on import or set low_memory=False.\n",
      "  ci20= pd.read_csv('crime_incidents_2020.csv')\n"
     ]
    },
    {
     "data": {
      "text/html": [
       "<div>\n",
       "<style scoped>\n",
       "    .dataframe tbody tr th:only-of-type {\n",
       "        vertical-align: middle;\n",
       "    }\n",
       "\n",
       "    .dataframe tbody tr th {\n",
       "        vertical-align: top;\n",
       "    }\n",
       "\n",
       "    .dataframe thead th {\n",
       "        text-align: right;\n",
       "    }\n",
       "</style>\n",
       "<table border=\"1\" class=\"dataframe\">\n",
       "  <thead>\n",
       "    <tr style=\"text-align: right;\">\n",
       "      <th></th>\n",
       "      <th>INCIDENT_NUMBER</th>\n",
       "      <th>OFFENSE_CODE</th>\n",
       "      <th>OFFENSE_CODE_GROUP</th>\n",
       "      <th>OFFENSE_DESCRIPTION</th>\n",
       "      <th>DISTRICT</th>\n",
       "      <th>REPORTING_AREA</th>\n",
       "      <th>SHOOTING</th>\n",
       "      <th>OCCURRED_ON_DATE</th>\n",
       "      <th>YEAR</th>\n",
       "      <th>MONTH</th>\n",
       "      <th>DAY_OF_WEEK</th>\n",
       "      <th>HOUR</th>\n",
       "      <th>UCR_PART</th>\n",
       "      <th>STREET</th>\n",
       "      <th>Lat</th>\n",
       "      <th>Long</th>\n",
       "      <th>Location</th>\n",
       "    </tr>\n",
       "  </thead>\n",
       "  <tbody>\n",
       "    <tr>\n",
       "      <th>0</th>\n",
       "      <td>102091671</td>\n",
       "      <td>2647</td>\n",
       "      <td>NaN</td>\n",
       "      <td>THREATS TO DO BODILY HARM</td>\n",
       "      <td>B3</td>\n",
       "      <td>417</td>\n",
       "      <td>0</td>\n",
       "      <td>2019-11-12 12:00:00</td>\n",
       "      <td>2019</td>\n",
       "      <td>11</td>\n",
       "      <td>Tuesday</td>\n",
       "      <td>12</td>\n",
       "      <td>NaN</td>\n",
       "      <td>MORA ST</td>\n",
       "      <td>42.282082</td>\n",
       "      <td>-71.073649</td>\n",
       "      <td>(42.28208197671972, -71.07364874515646)</td>\n",
       "    </tr>\n",
       "    <tr>\n",
       "      <th>1</th>\n",
       "      <td>102095489</td>\n",
       "      <td>3115</td>\n",
       "      <td>NaN</td>\n",
       "      <td>INVESTIGATE PERSON</td>\n",
       "      <td>E18</td>\n",
       "      <td>520</td>\n",
       "      <td>0</td>\n",
       "      <td>2019-11-25 16:30:00</td>\n",
       "      <td>2019</td>\n",
       "      <td>11</td>\n",
       "      <td>Monday</td>\n",
       "      <td>16</td>\n",
       "      <td>NaN</td>\n",
       "      <td>POYDRAS ST</td>\n",
       "      <td>42.256216</td>\n",
       "      <td>-71.124019</td>\n",
       "      <td>(42.256215920402155, -71.12401947329023)</td>\n",
       "    </tr>\n",
       "    <tr>\n",
       "      <th>2</th>\n",
       "      <td>102096818</td>\n",
       "      <td>2905</td>\n",
       "      <td>NaN</td>\n",
       "      <td>VAL - VIOLATION OF AUTO LAW</td>\n",
       "      <td>A1</td>\n",
       "      <td></td>\n",
       "      <td>0</td>\n",
       "      <td>2019-11-30 21:00:00</td>\n",
       "      <td>2019</td>\n",
       "      <td>11</td>\n",
       "      <td>Saturday</td>\n",
       "      <td>21</td>\n",
       "      <td>NaN</td>\n",
       "      <td>SUDBURY ST &amp; CAMBRIDGE ST\\nBOSTON  MA 02108\\nU...</td>\n",
       "      <td>42.360866</td>\n",
       "      <td>-71.061316</td>\n",
       "      <td>(42.360866027118476, -71.0613160019785)</td>\n",
       "    </tr>\n",
       "    <tr>\n",
       "      <th>4</th>\n",
       "      <td>129099920</td>\n",
       "      <td>3301</td>\n",
       "      <td>NaN</td>\n",
       "      <td>VERBAL DISPUTE</td>\n",
       "      <td>B2</td>\n",
       "      <td>330</td>\n",
       "      <td>0</td>\n",
       "      <td>2019-12-12 07:50:00</td>\n",
       "      <td>2019</td>\n",
       "      <td>12</td>\n",
       "      <td>Thursday</td>\n",
       "      <td>7</td>\n",
       "      <td>NaN</td>\n",
       "      <td>COLUMBIA ROAD</td>\n",
       "      <td>0.000000</td>\n",
       "      <td>0.000000</td>\n",
       "      <td>(0, 0)</td>\n",
       "    </tr>\n",
       "    <tr>\n",
       "      <th>5</th>\n",
       "      <td>129099936</td>\n",
       "      <td>1106</td>\n",
       "      <td>NaN</td>\n",
       "      <td>FRAUD - CREDIT CARD / ATM FRAUD</td>\n",
       "      <td>B2</td>\n",
       "      <td>288</td>\n",
       "      <td>0</td>\n",
       "      <td>2019-11-29 06:00:00</td>\n",
       "      <td>2019</td>\n",
       "      <td>11</td>\n",
       "      <td>Friday</td>\n",
       "      <td>6</td>\n",
       "      <td>NaN</td>\n",
       "      <td>WASHINGTON ST</td>\n",
       "      <td>42.329748</td>\n",
       "      <td>-71.084540</td>\n",
       "      <td>(42.329748204791635, -71.08454011649543)</td>\n",
       "    </tr>\n",
       "    <tr>\n",
       "      <th>...</th>\n",
       "      <td>...</td>\n",
       "      <td>...</td>\n",
       "      <td>...</td>\n",
       "      <td>...</td>\n",
       "      <td>...</td>\n",
       "      <td>...</td>\n",
       "      <td>...</td>\n",
       "      <td>...</td>\n",
       "      <td>...</td>\n",
       "      <td>...</td>\n",
       "      <td>...</td>\n",
       "      <td>...</td>\n",
       "      <td>...</td>\n",
       "      <td>...</td>\n",
       "      <td>...</td>\n",
       "      <td>...</td>\n",
       "      <td>...</td>\n",
       "    </tr>\n",
       "    <tr>\n",
       "      <th>70889</th>\n",
       "      <td>20063425</td>\n",
       "      <td>3114</td>\n",
       "      <td>NaN</td>\n",
       "      <td>INVESTIGATE PROPERTY</td>\n",
       "      <td>A7</td>\n",
       "      <td>21</td>\n",
       "      <td>0</td>\n",
       "      <td>2020-09-01 00:00:00</td>\n",
       "      <td>2020</td>\n",
       "      <td>9</td>\n",
       "      <td>Tuesday</td>\n",
       "      <td>0</td>\n",
       "      <td>NaN</td>\n",
       "      <td>PARIS ST</td>\n",
       "      <td>42.374427</td>\n",
       "      <td>-71.035279</td>\n",
       "      <td>(42.3744269722053, -71.0352787630199)</td>\n",
       "    </tr>\n",
       "    <tr>\n",
       "      <th>70890</th>\n",
       "      <td>20062356</td>\n",
       "      <td>1107</td>\n",
       "      <td>NaN</td>\n",
       "      <td>FRAUD - IMPERSONATION</td>\n",
       "      <td>E18</td>\n",
       "      <td>520</td>\n",
       "      <td>0</td>\n",
       "      <td>2020-08-28 18:39:00</td>\n",
       "      <td>2020</td>\n",
       "      <td>8</td>\n",
       "      <td>Friday</td>\n",
       "      <td>18</td>\n",
       "      <td>NaN</td>\n",
       "      <td>RIVERSIDE SQ</td>\n",
       "      <td>42.256216</td>\n",
       "      <td>-71.124019</td>\n",
       "      <td>(42.2562159204022, -71.1240194732902)</td>\n",
       "    </tr>\n",
       "    <tr>\n",
       "      <th>70891</th>\n",
       "      <td>20046400</td>\n",
       "      <td>1501</td>\n",
       "      <td>NaN</td>\n",
       "      <td>WEAPON VIOLATION - CARRY/ POSSESSING/ SALE/ TR...</td>\n",
       "      <td>B2</td>\n",
       "      <td>330</td>\n",
       "      <td>0</td>\n",
       "      <td>2020-07-02 01:38:00</td>\n",
       "      <td>2020</td>\n",
       "      <td>7</td>\n",
       "      <td>Thursday</td>\n",
       "      <td>1</td>\n",
       "      <td>NaN</td>\n",
       "      <td>PASADENA RD</td>\n",
       "      <td>42.305761</td>\n",
       "      <td>-71.083772</td>\n",
       "      <td>(42.3057609263196, -71.0837715727385)</td>\n",
       "    </tr>\n",
       "    <tr>\n",
       "      <th>70892</th>\n",
       "      <td>20038446</td>\n",
       "      <td>1501</td>\n",
       "      <td>NaN</td>\n",
       "      <td>WEAPON VIOLATION - CARRY/ POSSESSING/ SALE/ TR...</td>\n",
       "      <td>B2</td>\n",
       "      <td>300</td>\n",
       "      <td>0</td>\n",
       "      <td>2020-06-03 01:15:00</td>\n",
       "      <td>2020</td>\n",
       "      <td>6</td>\n",
       "      <td>Wednesday</td>\n",
       "      <td>1</td>\n",
       "      <td>NaN</td>\n",
       "      <td>WASHINGTON ST</td>\n",
       "      <td>42.323808</td>\n",
       "      <td>-71.089150</td>\n",
       "      <td>(42.3238077563779, -71.0891502345332)</td>\n",
       "    </tr>\n",
       "    <tr>\n",
       "      <th>70893</th>\n",
       "      <td>20030892</td>\n",
       "      <td>540</td>\n",
       "      <td>NaN</td>\n",
       "      <td>BURGLARY - COMMERICAL</td>\n",
       "      <td>C11</td>\n",
       "      <td>380</td>\n",
       "      <td>0</td>\n",
       "      <td>2020-05-03 00:00:00</td>\n",
       "      <td>2020</td>\n",
       "      <td>5</td>\n",
       "      <td>Sunday</td>\n",
       "      <td>0</td>\n",
       "      <td>NaN</td>\n",
       "      <td>GALLIVAN BLVD</td>\n",
       "      <td>42.283700</td>\n",
       "      <td>-71.047761</td>\n",
       "      <td>(42.2837003080534, -71.0477614298657)</td>\n",
       "    </tr>\n",
       "  </tbody>\n",
       "</table>\n",
       "<p>156759 rows × 17 columns</p>\n",
       "</div>"
      ],
      "text/plain": [
       "      INCIDENT_NUMBER  OFFENSE_CODE  OFFENSE_CODE_GROUP  \\\n",
       "0           102091671          2647                 NaN   \n",
       "1           102095489          3115                 NaN   \n",
       "2           102096818          2905                 NaN   \n",
       "4           129099920          3301                 NaN   \n",
       "5           129099936          1106                 NaN   \n",
       "...               ...           ...                 ...   \n",
       "70889        20063425          3114                 NaN   \n",
       "70890        20062356          1107                 NaN   \n",
       "70891        20046400          1501                 NaN   \n",
       "70892        20038446          1501                 NaN   \n",
       "70893        20030892           540                 NaN   \n",
       "\n",
       "                                     OFFENSE_DESCRIPTION DISTRICT  \\\n",
       "0                              THREATS TO DO BODILY HARM       B3   \n",
       "1                                     INVESTIGATE PERSON      E18   \n",
       "2                            VAL - VIOLATION OF AUTO LAW       A1   \n",
       "4                                         VERBAL DISPUTE       B2   \n",
       "5                        FRAUD - CREDIT CARD / ATM FRAUD       B2   \n",
       "...                                                  ...      ...   \n",
       "70889                               INVESTIGATE PROPERTY       A7   \n",
       "70890                              FRAUD - IMPERSONATION      E18   \n",
       "70891  WEAPON VIOLATION - CARRY/ POSSESSING/ SALE/ TR...       B2   \n",
       "70892  WEAPON VIOLATION - CARRY/ POSSESSING/ SALE/ TR...       B2   \n",
       "70893                              BURGLARY - COMMERICAL      C11   \n",
       "\n",
       "      REPORTING_AREA  SHOOTING     OCCURRED_ON_DATE  YEAR  MONTH DAY_OF_WEEK  \\\n",
       "0                417         0  2019-11-12 12:00:00  2019     11     Tuesday   \n",
       "1                520         0  2019-11-25 16:30:00  2019     11      Monday   \n",
       "2                            0  2019-11-30 21:00:00  2019     11    Saturday   \n",
       "4                330         0  2019-12-12 07:50:00  2019     12    Thursday   \n",
       "5                288         0  2019-11-29 06:00:00  2019     11      Friday   \n",
       "...              ...       ...                  ...   ...    ...         ...   \n",
       "70889             21         0  2020-09-01 00:00:00  2020      9     Tuesday   \n",
       "70890            520         0  2020-08-28 18:39:00  2020      8      Friday   \n",
       "70891            330         0  2020-07-02 01:38:00  2020      7    Thursday   \n",
       "70892            300         0  2020-06-03 01:15:00  2020      6   Wednesday   \n",
       "70893            380         0  2020-05-03 00:00:00  2020      5      Sunday   \n",
       "\n",
       "       HOUR  UCR_PART                                             STREET  \\\n",
       "0        12       NaN                                            MORA ST   \n",
       "1        16       NaN                                         POYDRAS ST   \n",
       "2        21       NaN  SUDBURY ST & CAMBRIDGE ST\\nBOSTON  MA 02108\\nU...   \n",
       "4         7       NaN                                      COLUMBIA ROAD   \n",
       "5         6       NaN                                      WASHINGTON ST   \n",
       "...     ...       ...                                                ...   \n",
       "70889     0       NaN                                           PARIS ST   \n",
       "70890    18       NaN                                       RIVERSIDE SQ   \n",
       "70891     1       NaN                                        PASADENA RD   \n",
       "70892     1       NaN                                      WASHINGTON ST   \n",
       "70893     0       NaN                                      GALLIVAN BLVD   \n",
       "\n",
       "             Lat       Long                                  Location  \n",
       "0      42.282082 -71.073649   (42.28208197671972, -71.07364874515646)  \n",
       "1      42.256216 -71.124019  (42.256215920402155, -71.12401947329023)  \n",
       "2      42.360866 -71.061316   (42.360866027118476, -71.0613160019785)  \n",
       "4       0.000000   0.000000                                    (0, 0)  \n",
       "5      42.329748 -71.084540  (42.329748204791635, -71.08454011649543)  \n",
       "...          ...        ...                                       ...  \n",
       "70889  42.374427 -71.035279     (42.3744269722053, -71.0352787630199)  \n",
       "70890  42.256216 -71.124019     (42.2562159204022, -71.1240194732902)  \n",
       "70891  42.305761 -71.083772     (42.3057609263196, -71.0837715727385)  \n",
       "70892  42.323808 -71.089150     (42.3238077563779, -71.0891502345332)  \n",
       "70893  42.283700 -71.047761     (42.2837003080534, -71.0477614298657)  \n",
       "\n",
       "[156759 rows x 17 columns]"
      ]
     },
     "execution_count": 73,
     "metadata": {},
     "output_type": "execute_result"
    }
   ],
   "source": [
    "ci19= pd.read_csv('crime_incidents_2019.csv')\n",
    "ci20= pd.read_csv('crime_incidents_2020.csv')\n",
    "\n",
    "combined_1920=pd.concat([ci19, ci20])\n",
    "cleanlist=['INCIDENT_NUMBER', 'OFFENSE_CODE', 'DISTRICT', 'Long', 'Lat', 'SHOOTING', 'OCCURRED_ON_DATE']\n",
    "crime_cleaned=combined_1920.dropna(subset=cleanlist).drop_duplicates(subset=cleanlist)\n",
    "crime_cleaned.to_csv('crime_cleaned.csv', index=False)\n",
    "crime_cleaned"
   ]
  },
  {
   "cell_type": "code",
   "execution_count": 74,
   "id": "ef87e6e4-e287-49d5-acf4-4e5c713240c8",
   "metadata": {
    "pycharm": {
     "name": "#%%\n"
    }
   },
   "outputs": [
    {
     "name": "stdout",
     "output_type": "stream",
     "text": [
      "property crime    25385\n",
      "violent crime     13476\n",
      "Name: offense_type, dtype: int64\n"
     ]
    },
    {
     "name": "stderr",
     "output_type": "stream",
     "text": [
      "/var/folders/1b/s20n0f295fn5s0f986q3fppc0000gn/T/ipykernel_20034/785444751.py:2: SettingWithCopyWarning: \n",
      "A value is trying to be set on a copy of a slice from a DataFrame\n",
      "\n",
      "See the caveats in the documentation: https://pandas.pydata.org/pandas-docs/stable/user_guide/indexing.html#returning-a-view-versus-a-copy\n",
      "  crime_cleaned['offense_type'][crime_cleaned['OFFENSE_DESCRIPTION'].str.lower().str.contains('robbery|assault|rape')] = 'violent crime'\n",
      "/var/folders/1b/s20n0f295fn5s0f986q3fppc0000gn/T/ipykernel_20034/785444751.py:3: SettingWithCopyWarning: \n",
      "A value is trying to be set on a copy of a slice from a DataFrame\n",
      "\n",
      "See the caveats in the documentation: https://pandas.pydata.org/pandas-docs/stable/user_guide/indexing.html#returning-a-view-versus-a-copy\n",
      "  crime_cleaned['offense_type'][crime_cleaned['OFFENSE_DESCRIPTION'].str.lower().str.contains('burglary|larceny|theft|auto theft|arson')] = 'property crime'\n"
     ]
    },
    {
     "data": {
      "text/html": [
       "<div>\n",
       "<style scoped>\n",
       "    .dataframe tbody tr th:only-of-type {\n",
       "        vertical-align: middle;\n",
       "    }\n",
       "\n",
       "    .dataframe tbody tr th {\n",
       "        vertical-align: top;\n",
       "    }\n",
       "\n",
       "    .dataframe thead th {\n",
       "        text-align: right;\n",
       "    }\n",
       "</style>\n",
       "<table border=\"1\" class=\"dataframe\">\n",
       "  <thead>\n",
       "    <tr style=\"text-align: right;\">\n",
       "      <th></th>\n",
       "      <th>YEAR</th>\n",
       "      <th>offense_type</th>\n",
       "      <th>INCIDENT_NUMBER</th>\n",
       "    </tr>\n",
       "  </thead>\n",
       "  <tbody>\n",
       "    <tr>\n",
       "      <th>0</th>\n",
       "      <td>2019</td>\n",
       "      <td>property crime</td>\n",
       "      <td>13158</td>\n",
       "    </tr>\n",
       "    <tr>\n",
       "      <th>2</th>\n",
       "      <td>2020</td>\n",
       "      <td>property crime</td>\n",
       "      <td>12227</td>\n",
       "    </tr>\n",
       "    <tr>\n",
       "      <th>1</th>\n",
       "      <td>2019</td>\n",
       "      <td>violent crime</td>\n",
       "      <td>8324</td>\n",
       "    </tr>\n",
       "    <tr>\n",
       "      <th>3</th>\n",
       "      <td>2020</td>\n",
       "      <td>violent crime</td>\n",
       "      <td>5152</td>\n",
       "    </tr>\n",
       "  </tbody>\n",
       "</table>\n",
       "</div>"
      ],
      "text/plain": [
       "   YEAR    offense_type  INCIDENT_NUMBER\n",
       "0  2019  property crime            13158\n",
       "2  2020  property crime            12227\n",
       "1  2019   violent crime             8324\n",
       "3  2020   violent crime             5152"
      ]
     },
     "execution_count": 74,
     "metadata": {},
     "output_type": "execute_result"
    }
   ],
   "source": [
    "crime_cleaned['offense_type'] = None\n",
    "crime_cleaned['offense_type'][crime_cleaned['OFFENSE_DESCRIPTION'].str.lower().str.contains('robbery|assault|rape')] = 'violent crime'\n",
    "crime_cleaned['offense_type'][crime_cleaned['OFFENSE_DESCRIPTION'].str.lower().str.contains('burglary|larceny|theft|auto theft|arson')] = 'property crime'\n",
    "print(crime_cleaned['offense_type'].value_counts())\n",
    "describe_crime=crime_cleaned.groupby(['YEAR', 'offense_type']).agg({'INCIDENT_NUMBER': 'count'}).reset_index().sort_values(by=['offense_type'])\n",
    "describe_crime"
   ]
  },
  {
   "cell_type": "markdown",
   "id": "63b229bc-8bdf-4c59-a14c-f065ffa278ed",
   "metadata": {
    "pycharm": {
     "name": "#%% md\n"
    }
   },
   "source": [
    "#### Task 7.2 \n",
    "\n",
    "Create a scatterplot of annual violent crimes vs. annual property crimes by district in Boston from 2019 to 2020. X axis: annual property crimes. Y axis: annual violent crimes. Use different colors to color data from different years."
   ]
  },
  {
   "cell_type": "code",
   "execution_count": 19,
   "id": "f6039ef4-0b5e-4922-ac71-53cce9bac656",
   "metadata": {
    "pycharm": {
     "name": "#%%\n"
    }
   },
   "outputs": [],
   "source": [
    "import seaborn as sns\n",
    "import matplotlib.pyplot as plt"
   ]
  },
  {
   "cell_type": "code",
   "execution_count": 75,
   "id": "daa5517e-4405-412c-837a-81d150c57a2c",
   "metadata": {
    "pycharm": {
     "name": "#%%\n"
    }
   },
   "outputs": [
    {
     "name": "stderr",
     "output_type": "stream",
     "text": [
      "/var/folders/1b/s20n0f295fn5s0f986q3fppc0000gn/T/ipykernel_20034/1595761982.py:2: SettingWithCopyWarning: \n",
      "A value is trying to be set on a copy of a slice from a DataFrame\n",
      "\n",
      "See the caveats in the documentation: https://pandas.pydata.org/pandas-docs/stable/user_guide/indexing.html#returning-a-view-versus-a-copy\n",
      "  crime_cleaned['vc'][crime_cleaned['OFFENSE_DESCRIPTION'].str.lower().str.contains('robbery|assault|rape')] = 'vc'\n",
      "/var/folders/1b/s20n0f295fn5s0f986q3fppc0000gn/T/ipykernel_20034/1595761982.py:4: SettingWithCopyWarning: \n",
      "A value is trying to be set on a copy of a slice from a DataFrame\n",
      "\n",
      "See the caveats in the documentation: https://pandas.pydata.org/pandas-docs/stable/user_guide/indexing.html#returning-a-view-versus-a-copy\n",
      "  crime_cleaned['pc'][crime_cleaned['OFFENSE_DESCRIPTION'].str.lower().str.contains('burglary|larceny|theft|arson')] = 'pc'\n"
     ]
    },
    {
     "data": {
      "text/html": [
       "<div>\n",
       "<style scoped>\n",
       "    .dataframe tbody tr th:only-of-type {\n",
       "        vertical-align: middle;\n",
       "    }\n",
       "\n",
       "    .dataframe tbody tr th {\n",
       "        vertical-align: top;\n",
       "    }\n",
       "\n",
       "    .dataframe thead th {\n",
       "        text-align: right;\n",
       "    }\n",
       "</style>\n",
       "<table border=\"1\" class=\"dataframe\">\n",
       "  <thead>\n",
       "    <tr style=\"text-align: right;\">\n",
       "      <th></th>\n",
       "      <th>YEAR</th>\n",
       "      <th>INCIDENT_NUMBER_pc</th>\n",
       "      <th>INCIDENT_NUMBER_vc</th>\n",
       "    </tr>\n",
       "  </thead>\n",
       "  <tbody>\n",
       "    <tr>\n",
       "      <th>0</th>\n",
       "      <td>2019</td>\n",
       "      <td>13158</td>\n",
       "      <td>8324</td>\n",
       "    </tr>\n",
       "    <tr>\n",
       "      <th>1</th>\n",
       "      <td>2020</td>\n",
       "      <td>12227</td>\n",
       "      <td>5152</td>\n",
       "    </tr>\n",
       "  </tbody>\n",
       "</table>\n",
       "</div>"
      ],
      "text/plain": [
       "   YEAR  INCIDENT_NUMBER_pc  INCIDENT_NUMBER_vc\n",
       "0  2019               13158                8324\n",
       "1  2020               12227                5152"
      ]
     },
     "execution_count": 75,
     "metadata": {},
     "output_type": "execute_result"
    }
   ],
   "source": [
    "crime_cleaned['vc'] = None\n",
    "crime_cleaned['vc'][crime_cleaned['OFFENSE_DESCRIPTION'].str.lower().str.contains('robbery|assault|rape')] = 'vc'\n",
    "crime_cleaned['pc'] = None\n",
    "crime_cleaned['pc'][crime_cleaned['OFFENSE_DESCRIPTION'].str.lower().str.contains('burglary|larceny|theft|arson')] = 'pc'\n",
    "\n",
    "describe_pc=crime_cleaned.groupby(['YEAR', 'pc']).agg({'INCIDENT_NUMBER': 'count'}).reset_index()\n",
    "describe_vc=crime_cleaned.groupby(['YEAR', 'vc']).agg({'INCIDENT_NUMBER': 'count'}).reset_index()\n",
    "describe_merge=describe_pc.merge(describe_vc, how='inner', on='YEAR', suffixes=('_pc','_vc')).drop(['pc','vc'], axis=1)\n",
    "describe_merge"
   ]
  },
  {
   "cell_type": "code",
   "execution_count": 76,
   "id": "c769332d-0161-4b3e-b374-77bff18217b1",
   "metadata": {
    "pycharm": {
     "name": "#%%\n"
    }
   },
   "outputs": [
    {
     "data": {
      "text/plain": [
       "Text(0, 0.5, 'Annual violent crime count')"
      ]
     },
     "execution_count": 76,
     "metadata": {},
     "output_type": "execute_result"
    },
    {
     "data": {
      "image/png": "[encoded data removed]",
      "text/plain": [
       "<Figure size 640x480 with 1 Axes>"
      ]
     },
     "metadata": {},
     "output_type": "display_data"
    }
   ],
   "source": [
    "sns.scatterplot(x='INCIDENT_NUMBER_pc', y='INCIDENT_NUMBER_vc', data=describe_merge, hue='YEAR')\n",
    "plt.title(\"Annual violent vs property crimes in Boston from 2019 to 2020\")\n",
    "plt.xlabel(\"Annual property crime count\")\n",
    "plt.ylabel(\"Annual violent crime count\")"
   ]
  },
  {
   "cell_type": "markdown",
   "id": "fbedf30a-a616-4f8c-a47b-530d174b2d49",
   "metadata": {
    "pycharm": {
     "name": "#%% md\n"
    }
   },
   "source": [
    "#### Task 7.3 \n",
    "Create a bar plot of the sum of annual violent and property crimes by district in Boston from 2019 to 2020. X axis: districts. Y axis: annual sums. Use different bars to represent data from different years. "
   ]
  },
  {
   "cell_type": "code",
   "execution_count": 77,
   "id": "a473c880-478b-47ce-ac62-158054911221",
   "metadata": {
    "pycharm": {
     "name": "#%%\n"
    }
   },
   "outputs": [
    {
     "data": {
      "text/html": [
       "<div>\n",
       "<style scoped>\n",
       "    .dataframe tbody tr th:only-of-type {\n",
       "        vertical-align: middle;\n",
       "    }\n",
       "\n",
       "    .dataframe tbody tr th {\n",
       "        vertical-align: top;\n",
       "    }\n",
       "\n",
       "    .dataframe thead th {\n",
       "        text-align: right;\n",
       "    }\n",
       "</style>\n",
       "<table border=\"1\" class=\"dataframe\">\n",
       "  <thead>\n",
       "    <tr style=\"text-align: right;\">\n",
       "      <th></th>\n",
       "      <th>YEAR</th>\n",
       "      <th>DISTRICT</th>\n",
       "      <th>INCIDENT_NUMBER</th>\n",
       "    </tr>\n",
       "  </thead>\n",
       "  <tbody>\n",
       "    <tr>\n",
       "      <th>0</th>\n",
       "      <td>2019</td>\n",
       "      <td>A1</td>\n",
       "      <td>3135</td>\n",
       "    </tr>\n",
       "    <tr>\n",
       "      <th>1</th>\n",
       "      <td>2019</td>\n",
       "      <td>A15</td>\n",
       "      <td>424</td>\n",
       "    </tr>\n",
       "    <tr>\n",
       "      <th>2</th>\n",
       "      <td>2019</td>\n",
       "      <td>A7</td>\n",
       "      <td>751</td>\n",
       "    </tr>\n",
       "    <tr>\n",
       "      <th>3</th>\n",
       "      <td>2019</td>\n",
       "      <td>B2</td>\n",
       "      <td>2704</td>\n",
       "    </tr>\n",
       "    <tr>\n",
       "      <th>4</th>\n",
       "      <td>2019</td>\n",
       "      <td>B3</td>\n",
       "      <td>2157</td>\n",
       "    </tr>\n",
       "    <tr>\n",
       "      <th>5</th>\n",
       "      <td>2019</td>\n",
       "      <td>C11</td>\n",
       "      <td>2698</td>\n",
       "    </tr>\n",
       "    <tr>\n",
       "      <th>6</th>\n",
       "      <td>2019</td>\n",
       "      <td>C6</td>\n",
       "      <td>1584</td>\n",
       "    </tr>\n",
       "    <tr>\n",
       "      <th>7</th>\n",
       "      <td>2019</td>\n",
       "      <td>D14</td>\n",
       "      <td>1305</td>\n",
       "    </tr>\n",
       "    <tr>\n",
       "      <th>8</th>\n",
       "      <td>2019</td>\n",
       "      <td>D4</td>\n",
       "      <td>3952</td>\n",
       "    </tr>\n",
       "    <tr>\n",
       "      <th>9</th>\n",
       "      <td>2019</td>\n",
       "      <td>E13</td>\n",
       "      <td>1123</td>\n",
       "    </tr>\n",
       "    <tr>\n",
       "      <th>10</th>\n",
       "      <td>2019</td>\n",
       "      <td>E18</td>\n",
       "      <td>952</td>\n",
       "    </tr>\n",
       "    <tr>\n",
       "      <th>11</th>\n",
       "      <td>2019</td>\n",
       "      <td>E5</td>\n",
       "      <td>690</td>\n",
       "    </tr>\n",
       "    <tr>\n",
       "      <th>12</th>\n",
       "      <td>2019</td>\n",
       "      <td>External</td>\n",
       "      <td>7</td>\n",
       "    </tr>\n",
       "    <tr>\n",
       "      <th>13</th>\n",
       "      <td>2020</td>\n",
       "      <td>A1</td>\n",
       "      <td>2233</td>\n",
       "    </tr>\n",
       "    <tr>\n",
       "      <th>14</th>\n",
       "      <td>2020</td>\n",
       "      <td>A15</td>\n",
       "      <td>424</td>\n",
       "    </tr>\n",
       "    <tr>\n",
       "      <th>15</th>\n",
       "      <td>2020</td>\n",
       "      <td>A7</td>\n",
       "      <td>759</td>\n",
       "    </tr>\n",
       "    <tr>\n",
       "      <th>16</th>\n",
       "      <td>2020</td>\n",
       "      <td>B2</td>\n",
       "      <td>2240</td>\n",
       "    </tr>\n",
       "    <tr>\n",
       "      <th>17</th>\n",
       "      <td>2020</td>\n",
       "      <td>B3</td>\n",
       "      <td>1482</td>\n",
       "    </tr>\n",
       "    <tr>\n",
       "      <th>18</th>\n",
       "      <td>2020</td>\n",
       "      <td>C11</td>\n",
       "      <td>2052</td>\n",
       "    </tr>\n",
       "    <tr>\n",
       "      <th>19</th>\n",
       "      <td>2020</td>\n",
       "      <td>C6</td>\n",
       "      <td>1538</td>\n",
       "    </tr>\n",
       "    <tr>\n",
       "      <th>20</th>\n",
       "      <td>2020</td>\n",
       "      <td>D14</td>\n",
       "      <td>1204</td>\n",
       "    </tr>\n",
       "    <tr>\n",
       "      <th>21</th>\n",
       "      <td>2020</td>\n",
       "      <td>D4</td>\n",
       "      <td>3291</td>\n",
       "    </tr>\n",
       "    <tr>\n",
       "      <th>22</th>\n",
       "      <td>2020</td>\n",
       "      <td>E13</td>\n",
       "      <td>847</td>\n",
       "    </tr>\n",
       "    <tr>\n",
       "      <th>23</th>\n",
       "      <td>2020</td>\n",
       "      <td>E18</td>\n",
       "      <td>667</td>\n",
       "    </tr>\n",
       "    <tr>\n",
       "      <th>24</th>\n",
       "      <td>2020</td>\n",
       "      <td>E5</td>\n",
       "      <td>619</td>\n",
       "    </tr>\n",
       "    <tr>\n",
       "      <th>25</th>\n",
       "      <td>2020</td>\n",
       "      <td>External</td>\n",
       "      <td>23</td>\n",
       "    </tr>\n",
       "  </tbody>\n",
       "</table>\n",
       "</div>"
      ],
      "text/plain": [
       "    YEAR  DISTRICT  INCIDENT_NUMBER\n",
       "0   2019        A1             3135\n",
       "1   2019       A15              424\n",
       "2   2019        A7              751\n",
       "3   2019        B2             2704\n",
       "4   2019        B3             2157\n",
       "5   2019       C11             2698\n",
       "6   2019        C6             1584\n",
       "7   2019       D14             1305\n",
       "8   2019        D4             3952\n",
       "9   2019       E13             1123\n",
       "10  2019       E18              952\n",
       "11  2019        E5              690\n",
       "12  2019  External                7\n",
       "13  2020        A1             2233\n",
       "14  2020       A15              424\n",
       "15  2020        A7              759\n",
       "16  2020        B2             2240\n",
       "17  2020        B3             1482\n",
       "18  2020       C11             2052\n",
       "19  2020        C6             1538\n",
       "20  2020       D14             1204\n",
       "21  2020        D4             3291\n",
       "22  2020       E13              847\n",
       "23  2020       E18              667\n",
       "24  2020        E5              619\n",
       "25  2020  External               23"
      ]
     },
     "execution_count": 77,
     "metadata": {},
     "output_type": "execute_result"
    }
   ],
   "source": [
    "cc_yd=crime_cleaned.groupby(['YEAR','DISTRICT', 'offense_type']).agg({'INCIDENT_NUMBER':'count'}).reset_index()\n",
    "cc_ydsum=cc_yd.groupby(['YEAR','DISTRICT']).agg({'INCIDENT_NUMBER':'sum'}).reset_index()\n",
    "cc_ydsum"
   ]
  },
  {
   "cell_type": "code",
   "execution_count": 78,
   "id": "1397eb04-689d-4a9a-9bf7-71285cc251ac",
   "metadata": {
    "pycharm": {
     "name": "#%%\n"
    }
   },
   "outputs": [
    {
     "data": {
      "text/plain": [
       "Text(0, 0.5, 'Annual violent and property crimes count')"
      ]
     },
     "execution_count": 78,
     "metadata": {},
     "output_type": "execute_result"
    },
    {
     "data": {
      "image/png": "[encoded data removed]",
      "text/plain": [
       "<Figure size 640x480 with 1 Axes>"
      ]
     },
     "metadata": {},
     "output_type": "display_data"
    }
   ],
   "source": [
    "sns.barplot(x='DISTRICT', y='INCIDENT_NUMBER', data=cc_ydsum, hue='YEAR')\n",
    "\n",
    "plt.title(\"Annual sum of violent and property crimes in Boston from 2019 to 2020\")\n",
    "plt.xlabel(\"District\")\n",
    "plt.ylabel(\"Annual violent and property crimes count\")"
   ]
  },
  {
   "cell_type": "code",
   "execution_count": 79,
   "id": "701bd147-ef6f-436a-bb75-f20eea46b4cd",
   "metadata": {
    "pycharm": {
     "name": "#%%\n"
    }
   },
   "outputs": [
    {
     "name": "stderr",
     "output_type": "stream",
     "text": [
      "/Users/gohtk/opt/anaconda3/envs/compsoc/lib/python3.8/site-packages/seaborn/axisgrid.py:712: UserWarning: Using the barplot function without specifying `order` is likely to produce an incorrect plot.\n",
      "  warnings.warn(warning)\n"
     ]
    },
    {
     "data": {
      "text/plain": [
       "<seaborn.axisgrid.FacetGrid at 0x7fb1536e3d90>"
      ]
     },
     "execution_count": 79,
     "metadata": {},
     "output_type": "execute_result"
    },
    {
     "data": {
      "image/png": "[encoded data removed]",
      "text/plain": [
       "<Figure size 900x600 with 4 Axes>"
      ]
     },
     "metadata": {},
     "output_type": "display_data"
    }
   ],
   "source": [
    "gbar = sns.FacetGrid(cc_yd, col=\"YEAR\",row= 'offense_type', height=3, aspect=1.5, hue='offense_type')\n",
    "gbar.map(sns.barplot, \"DISTRICT\", \"INCIDENT_NUMBER\")"
   ]
  },
  {
   "cell_type": "markdown",
   "id": "b2cac342-6a07-418b-b488-45da3a2aa9bd",
   "metadata": {
    "pycharm": {
     "name": "#%% md\n"
    }
   },
   "source": [
    "#### Task 7.4 \n",
    "\n",
    "Create a violin plot of district-level shooting incidents by quarter in Boston from 2019 to 2020. X axis: quarters. Y axis: district-level shooting incidents (counts)."
   ]
  },
  {
   "cell_type": "code",
   "execution_count": 80,
   "id": "fbd35407-165b-480f-835f-61ffa4195b67",
   "metadata": {
    "pycharm": {
     "name": "#%%\n"
    }
   },
   "outputs": [
    {
     "data": {
      "text/plain": [
       "0        2019-11-12 12:00:00\n",
       "1        2019-11-25 16:30:00\n",
       "2        2019-11-30 21:00:00\n",
       "4        2019-12-12 07:50:00\n",
       "5        2019-11-29 06:00:00\n",
       "                ...         \n",
       "70889    2020-09-01 00:00:00\n",
       "70890    2020-08-28 18:39:00\n",
       "70891    2020-07-02 01:38:00\n",
       "70892    2020-06-03 01:15:00\n",
       "70893    2020-05-03 00:00:00\n",
       "Name: OCCURRED_ON_DATE, Length: 156759, dtype: object"
      ]
     },
     "execution_count": 80,
     "metadata": {},
     "output_type": "execute_result"
    }
   ],
   "source": [
    "crime_cleaned.OCCURRED_ON_DATE"
   ]
  },
  {
   "cell_type": "code",
   "execution_count": 81,
   "id": "ce3ddc81-d155-451e-a09c-12e6283369f1",
   "metadata": {
    "pycharm": {
     "name": "#%%\n"
    }
   },
   "outputs": [
    {
     "data": {
      "text/plain": [
       "0        2019Q4\n",
       "1        2019Q4\n",
       "2        2019Q4\n",
       "4        2019Q4\n",
       "5        2019Q4\n",
       "          ...  \n",
       "70889    2020Q3\n",
       "70890    2020Q3\n",
       "70891    2020Q3\n",
       "70892    2020Q2\n",
       "70893    2020Q2\n",
       "Name: quarter, Length: 156759, dtype: period[Q-DEC]"
      ]
     },
     "execution_count": 81,
     "metadata": {},
     "output_type": "execute_result"
    }
   ],
   "source": [
    "sr=pd.to_datetime(crime_cleaned['OCCURRED_ON_DATE'])\n",
    "crime_cleaned['quarter'] = sr.dt.to_period('Q')\n",
    "crime_cleaned['quarter'] "
   ]
  },
  {
   "cell_type": "code",
   "execution_count": 82,
   "id": "e87e3025-0d1d-4b5d-b163-cd8b4d083afe",
   "metadata": {
    "pycharm": {
     "name": "#%%\n"
    }
   },
   "outputs": [
    {
     "data": {
      "text/plain": [
       "count    156759.000000\n",
       "mean          0.012242\n",
       "std           0.109963\n",
       "min           0.000000\n",
       "25%           0.000000\n",
       "50%           0.000000\n",
       "75%           0.000000\n",
       "max           1.000000\n",
       "Name: SHOOTING, dtype: float64"
      ]
     },
     "execution_count": 82,
     "metadata": {},
     "output_type": "execute_result"
    }
   ],
   "source": [
    "crime_cleaned['SHOOTING'].describe()"
   ]
  },
  {
   "cell_type": "code",
   "execution_count": 83,
   "id": "a469d666-13e7-4da6-9082-1503c6ae0321",
   "metadata": {
    "pycharm": {
     "name": "#%%\n"
    }
   },
   "outputs": [
    {
     "data": {
      "text/html": [
       "<div>\n",
       "<style scoped>\n",
       "    .dataframe tbody tr th:only-of-type {\n",
       "        vertical-align: middle;\n",
       "    }\n",
       "\n",
       "    .dataframe tbody tr th {\n",
       "        vertical-align: top;\n",
       "    }\n",
       "\n",
       "    .dataframe thead th {\n",
       "        text-align: right;\n",
       "    }\n",
       "</style>\n",
       "<table border=\"1\" class=\"dataframe\">\n",
       "  <thead>\n",
       "    <tr style=\"text-align: right;\">\n",
       "      <th></th>\n",
       "      <th>quarter</th>\n",
       "      <th>DISTRICT</th>\n",
       "      <th>SHOOTING</th>\n",
       "    </tr>\n",
       "  </thead>\n",
       "  <tbody>\n",
       "    <tr>\n",
       "      <th>0</th>\n",
       "      <td>2019Q1</td>\n",
       "      <td>A1</td>\n",
       "      <td>0</td>\n",
       "    </tr>\n",
       "    <tr>\n",
       "      <th>1</th>\n",
       "      <td>2019Q1</td>\n",
       "      <td>A15</td>\n",
       "      <td>0</td>\n",
       "    </tr>\n",
       "    <tr>\n",
       "      <th>2</th>\n",
       "      <td>2019Q1</td>\n",
       "      <td>A7</td>\n",
       "      <td>4</td>\n",
       "    </tr>\n",
       "    <tr>\n",
       "      <th>3</th>\n",
       "      <td>2019Q1</td>\n",
       "      <td>B2</td>\n",
       "      <td>33</td>\n",
       "    </tr>\n",
       "    <tr>\n",
       "      <th>4</th>\n",
       "      <td>2019Q1</td>\n",
       "      <td>B3</td>\n",
       "      <td>32</td>\n",
       "    </tr>\n",
       "    <tr>\n",
       "      <th>...</th>\n",
       "      <td>...</td>\n",
       "      <td>...</td>\n",
       "      <td>...</td>\n",
       "    </tr>\n",
       "    <tr>\n",
       "      <th>97</th>\n",
       "      <td>2020Q4</td>\n",
       "      <td>D4</td>\n",
       "      <td>5</td>\n",
       "    </tr>\n",
       "    <tr>\n",
       "      <th>98</th>\n",
       "      <td>2020Q4</td>\n",
       "      <td>E13</td>\n",
       "      <td>7</td>\n",
       "    </tr>\n",
       "    <tr>\n",
       "      <th>99</th>\n",
       "      <td>2020Q4</td>\n",
       "      <td>E18</td>\n",
       "      <td>18</td>\n",
       "    </tr>\n",
       "    <tr>\n",
       "      <th>100</th>\n",
       "      <td>2020Q4</td>\n",
       "      <td>E5</td>\n",
       "      <td>7</td>\n",
       "    </tr>\n",
       "    <tr>\n",
       "      <th>101</th>\n",
       "      <td>2020Q4</td>\n",
       "      <td>External</td>\n",
       "      <td>1</td>\n",
       "    </tr>\n",
       "  </tbody>\n",
       "</table>\n",
       "<p>102 rows × 3 columns</p>\n",
       "</div>"
      ],
      "text/plain": [
       "    quarter  DISTRICT  SHOOTING\n",
       "0    2019Q1        A1         0\n",
       "1    2019Q1       A15         0\n",
       "2    2019Q1        A7         4\n",
       "3    2019Q1        B2        33\n",
       "4    2019Q1        B3        32\n",
       "..      ...       ...       ...\n",
       "97   2020Q4        D4         5\n",
       "98   2020Q4       E13         7\n",
       "99   2020Q4       E18        18\n",
       "100  2020Q4        E5         7\n",
       "101  2020Q4  External         1\n",
       "\n",
       "[102 rows x 3 columns]"
      ]
     },
     "execution_count": 83,
     "metadata": {},
     "output_type": "execute_result"
    }
   ],
   "source": [
    "cc_qd=crime_cleaned.groupby(['quarter','DISTRICT']).agg({'SHOOTING':'sum'}).reset_index()\n",
    "cc_qd"
   ]
  },
  {
   "cell_type": "code",
   "execution_count": 84,
   "id": "9ff62618-5f03-43d4-a338-0d3b1bcb884f",
   "metadata": {
    "pycharm": {
     "name": "#%%\n"
    }
   },
   "outputs": [
    {
     "data": {
      "image/png": "[encoded data removed]",
      "text/plain": [
       "<Figure size 640x480 with 1 Axes>"
      ]
     },
     "metadata": {},
     "output_type": "display_data"
    }
   ],
   "source": [
    "sns.violinplot(y='SHOOTING', x='quarter', data=cc_qd)\n",
    "\n",
    "plt.title(\"District-level shooting incidents in Boston from 2019Q1 to 2020Q4\")\n",
    "plt.xlabel(\"Yearly Quarter\")\n",
    "plt.ylabel(\"Shooting count\")\n",
    "\n",
    "plt.show()\n",
    "plt.close()"
   ]
  }
 ],
 "metadata": {
  "kernelspec": {
   "display_name": "Python [conda env:compsoc] *",
   "language": "python",
   "name": "conda-env-compsoc-py"
  },
  "language_info": {
   "codemirror_mode": {
    "name": "ipython",
    "version": 3
   },
   "file_extension": ".py",
   "mimetype": "text/x-python",
   "name": "python",
   "nbconvert_exporter": "python",
   "pygments_lexer": "ipython3",
   "version": "3.8.13"
  }
 },
 "nbformat": 4,
 "nbformat_minor": 5
}