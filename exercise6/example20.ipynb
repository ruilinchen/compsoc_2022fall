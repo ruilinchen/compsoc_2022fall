{
 "cells": [
  {
   "cell_type": "markdown",
   "metadata": {
    "pycharm": {
     "name": "#%% md\n"
    }
   },
   "source": [
    "### Exercise 6 \n",
    "[editted]"
   ]
  },
  {
   "cell_type": "markdown",
   "metadata": {
    "pycharm": {
     "name": "#%% md\n"
    }
   },
   "source": [
    "## Task 6.1 \n",
    "\n",
    "Combine year 2019 and year 2020’s crime records into one pandas dataframe. Drop duplicates as well as any record that has missing values in the following columns: “INCIDENT_NUMBER”, “OFFENSE_CODE”, “DISTRICT”, “Long”, “Lat”, “SHOOTING”, “OCCURRED_ON_DATE”. Save the “cleaned” pandas dataframe to a separate csv file."
   ]
  },
  {
   "cell_type": "code",
   "execution_count": 41,
   "metadata": {
    "pycharm": {
     "name": "#%%\n"
    }
   },
   "outputs": [
    {
     "name": "stdout",
     "output_type": "stream",
     "text": [
      "      INCIDENT_NUMBER  OFFENSE_CODE  OFFENSE_CODE_GROUP  \\\n",
      "0           102091671          2647                 NaN   \n",
      "1           102095489          3115                 NaN   \n",
      "2           102096818          2905                 NaN   \n",
      "3           129092894          3201                 NaN   \n",
      "4           129099920          3301                 NaN   \n",
      "...               ...           ...                 ...   \n",
      "70889        20063425          3114                 NaN   \n",
      "70890        20062356          1107                 NaN   \n",
      "70891        20046400          1501                 NaN   \n",
      "70892        20038446          1501                 NaN   \n",
      "70893        20030892           540                 NaN   \n",
      "\n",
      "                                     OFFENSE_DESCRIPTION DISTRICT  \\\n",
      "0                              THREATS TO DO BODILY HARM       B3   \n",
      "1                                     INVESTIGATE PERSON      E18   \n",
      "2                            VAL - VIOLATION OF AUTO LAW       A1   \n",
      "3                               PROPERTY - LOST/ MISSING      NaN   \n",
      "4                                         VERBAL DISPUTE       B2   \n",
      "...                                                  ...      ...   \n",
      "70889                               INVESTIGATE PROPERTY       A7   \n",
      "70890                              FRAUD - IMPERSONATION      E18   \n",
      "70891  WEAPON VIOLATION - CARRY/ POSSESSING/ SALE/ TR...       B2   \n",
      "70892  WEAPON VIOLATION - CARRY/ POSSESSING/ SALE/ TR...       B2   \n",
      "70893                              BURGLARY - COMMERICAL      C11   \n",
      "\n",
      "      REPORTING_AREA  SHOOTING     OCCURRED_ON_DATE  YEAR  MONTH DAY_OF_WEEK  \\\n",
      "0                417         0  2019-11-12 12:00:00  2019     11     Tuesday   \n",
      "1                520         0  2019-11-25 16:30:00  2019     11      Monday   \n",
      "2                            0  2019-11-30 21:00:00  2019     11    Saturday   \n",
      "3                503         0  2019-11-16 13:30:00  2019     11    Saturday   \n",
      "4                330         0  2019-12-12 07:50:00  2019     12    Thursday   \n",
      "...              ...       ...                  ...   ...    ...         ...   \n",
      "70889             21         0  2020-09-01 00:00:00  2020      9     Tuesday   \n",
      "70890            520         0  2020-08-28 18:39:00  2020      8      Friday   \n",
      "70891            330         0  2020-07-02 01:38:00  2020      7    Thursday   \n",
      "70892            300         0  2020-06-03 01:15:00  2020      6   Wednesday   \n",
      "70893            380         0  2020-05-03 00:00:00  2020      5      Sunday   \n",
      "\n",
      "       HOUR  UCR_PART                                             STREET  \\\n",
      "0        12       NaN                                            MORA ST   \n",
      "1        16       NaN                                         POYDRAS ST   \n",
      "2        21       NaN  SUDBURY ST & CAMBRIDGE ST\\nBOSTON  MA 02108\\nU...   \n",
      "3        13       NaN                                AMERICAN LEGION HWY   \n",
      "4         7       NaN                                      COLUMBIA ROAD   \n",
      "...     ...       ...                                                ...   \n",
      "70889     0       NaN                                           PARIS ST   \n",
      "70890    18       NaN                                       RIVERSIDE SQ   \n",
      "70891     1       NaN                                        PASADENA RD   \n",
      "70892     1       NaN                                      WASHINGTON ST   \n",
      "70893     0       NaN                                      GALLIVAN BLVD   \n",
      "\n",
      "             Lat       Long                                  Location  \n",
      "0      42.282082 -71.073649   (42.28208197671972, -71.07364874515646)  \n",
      "1      42.256216 -71.124019  (42.256215920402155, -71.12401947329023)  \n",
      "2      42.360866 -71.061316   (42.360866027118476, -71.0613160019785)  \n",
      "3      42.284467 -71.111831   (42.28446742674232, -71.11183088758158)  \n",
      "4       0.000000   0.000000                                    (0, 0)  \n",
      "...          ...        ...                                       ...  \n",
      "70889  42.374427 -71.035279     (42.3744269722053, -71.0352787630199)  \n",
      "70890  42.256216 -71.124019     (42.2562159204022, -71.1240194732902)  \n",
      "70891  42.305761 -71.083772     (42.3057609263196, -71.0837715727385)  \n",
      "70892  42.323808 -71.089150     (42.3238077563779, -71.0891502345332)  \n",
      "70893  42.283700 -71.047761     (42.2837003080534, -71.0477614298657)  \n",
      "\n",
      "[158078 rows x 17 columns]\n"
     ]
    },
    {
     "name": "stderr",
     "output_type": "stream",
     "text": [
      "/var/folders/jr/s98kbnrj46v8wnrwc4xscn5c0000gn/T/ipykernel_47914/584391766.py:7: DtypeWarning: Columns (0) have mixed types. Specify dtype option on import or set low_memory=False.\n",
      "  crime_2019_df = pd.read_csv('boston_crime_2019.csv')\n",
      "/var/folders/jr/s98kbnrj46v8wnrwc4xscn5c0000gn/T/ipykernel_47914/584391766.py:8: DtypeWarning: Columns (0) have mixed types. Specify dtype option on import or set low_memory=False.\n",
      "  crime_2020_df = pd.read_csv('boston_crime_2020.csv')\n"
     ]
    }
   ],
   "source": [
    "## change working directory to the crime data folder\n",
    "import os\n",
    "\n",
    "os.chdir('/Volumes/GoogleDrive/My Drive/2022 Computational Sociology/compsoc')\n",
    "\n",
    "import pandas as pd\n",
    "crime_2019_df = pd.read_csv('boston_crime_2019.csv')\n",
    "crime_2020_df = pd.read_csv('boston_crime_2020.csv')\n",
    "\n",
    "crime_df = pd.concat([crime_2019_df, crime_2020_df])\n",
    "print(crime_df)"
   ]
  },
  {
   "cell_type": "code",
   "execution_count": 42,
   "metadata": {
    "pycharm": {
     "name": "#%%\n"
    }
   },
   "outputs": [],
   "source": [
    "crime_df = crime_df.drop_duplicates()"
   ]
  },
  {
   "cell_type": "code",
   "execution_count": 44,
   "metadata": {
    "pycharm": {
     "name": "#%%\n"
    }
   },
   "outputs": [
    {
     "name": "stdout",
     "output_type": "stream",
     "text": [
      "INCIDENT_NUMBER             0\n",
      "OFFENSE_CODE                0\n",
      "OFFENSE_CODE_GROUP     158078\n",
      "OFFENSE_DESCRIPTION         0\n",
      "DISTRICT                 1319\n",
      "REPORTING_AREA              0\n",
      "SHOOTING                    0\n",
      "OCCURRED_ON_DATE            0\n",
      "YEAR                        0\n",
      "MONTH                       0\n",
      "DAY_OF_WEEK                 0\n",
      "HOUR                        0\n",
      "UCR_PART               158078\n",
      "STREET                      3\n",
      "Lat                         0\n",
      "Long                        0\n",
      "Location                    0\n",
      "dtype: int64\n"
     ]
    }
   ],
   "source": [
    "print(crime_df.isna().sum())"
   ]
  },
  {
   "cell_type": "code",
   "execution_count": 47,
   "metadata": {
    "pycharm": {
     "name": "#%%\n"
    }
   },
   "outputs": [],
   "source": [
    "# Only district column has nulls, so I will only drop them\n",
    "sub_crime_df = crime_df[~crime_df['DISTRICT'].isna()]"
   ]
  },
  {
   "cell_type": "code",
   "execution_count": 48,
   "metadata": {
    "pycharm": {
     "name": "#%%\n"
    }
   },
   "outputs": [
    {
     "name": "stdout",
     "output_type": "stream",
     "text": [
      "INCIDENT_NUMBER             0\n",
      "OFFENSE_CODE                0\n",
      "OFFENSE_CODE_GROUP     156759\n",
      "OFFENSE_DESCRIPTION         0\n",
      "DISTRICT                    0\n",
      "REPORTING_AREA              0\n",
      "SHOOTING                    0\n",
      "OCCURRED_ON_DATE            0\n",
      "YEAR                        0\n",
      "MONTH                       0\n",
      "DAY_OF_WEEK                 0\n",
      "HOUR                        0\n",
      "UCR_PART               156759\n",
      "STREET                      0\n",
      "Lat                         0\n",
      "Long                        0\n",
      "Location                    0\n",
      "dtype: int64\n"
     ]
    }
   ],
   "source": [
    "print(sub_crime_df.isna().sum())"
   ]
  },
  {
   "cell_type": "code",
   "execution_count": 49,
   "metadata": {
    "pycharm": {
     "name": "#%%\n"
    }
   },
   "outputs": [],
   "source": [
    "sub_crime_df.to_csv('cleaned_file.csv')"
   ]
  },
  {
   "cell_type": "markdown",
   "metadata": {
    "pycharm": {
     "name": "#%% md\n"
    }
   },
   "source": [
    "\n",
    "## Task 6.2 \n",
    "Read the csv file generated from Task 6.1 as a pandas dataframe. Use functions inside pandas to create a frequency table that counts the total number of crime incidents in Boston in each month from 2019 to 2020. Print this table.\n"
   ]
  },
  {
   "cell_type": "code",
   "execution_count": 50,
   "metadata": {
    "pycharm": {
     "name": "#%%\n"
    }
   },
   "outputs": [
    {
     "name": "stderr",
     "output_type": "stream",
     "text": [
      "/var/folders/jr/s98kbnrj46v8wnrwc4xscn5c0000gn/T/ipykernel_47914/4138272349.py:1: DtypeWarning: Columns (1) have mixed types. Specify dtype option on import or set low_memory=False.\n",
      "  crime_df = pd.read_csv('cleaned_file.csv')\n"
     ]
    }
   ],
   "source": [
    "crime_df = pd.read_csv('cleaned_file.csv')"
   ]
  },
  {
   "cell_type": "code",
   "execution_count": 51,
   "metadata": {
    "pycharm": {
     "name": "#%%\n"
    }
   },
   "outputs": [
    {
     "data": {
      "text/plain": [
       "Index(['Unnamed: 0', 'INCIDENT_NUMBER', 'OFFENSE_CODE', 'OFFENSE_CODE_GROUP',\n",
       "       'OFFENSE_DESCRIPTION', 'DISTRICT', 'REPORTING_AREA', 'SHOOTING',\n",
       "       'OCCURRED_ON_DATE', 'YEAR', 'MONTH', 'DAY_OF_WEEK', 'HOUR', 'UCR_PART',\n",
       "       'STREET', 'Lat', 'Long', 'Location'],\n",
       "      dtype='object')"
      ]
     },
     "execution_count": 51,
     "metadata": {},
     "output_type": "execute_result"
    }
   ],
   "source": [
    "crime_df.columns"
   ]
  },
  {
   "cell_type": "code",
   "execution_count": 52,
   "metadata": {
    "pycharm": {
     "name": "#%%\n"
    }
   },
   "outputs": [
    {
     "name": "stdout",
     "output_type": "stream",
     "text": [
      "MONTH  YEAR\n",
      "8      2019    8379\n",
      "9      2019    8133\n",
      "7      2019    8036\n",
      "5      2019    7763\n",
      "6      2019    7597\n",
      "3      2019    7065\n",
      "10     2019    6990\n",
      "4      2019    6936\n",
      "1      2019    6933\n",
      "10     2020    6741\n",
      "8      2020    6507\n",
      "9      2020    6467\n",
      "11     2019    6338\n",
      "1      2020    6318\n",
      "7      2020    6213\n",
      "2      2019    6147\n",
      "6      2020    5897\n",
      "2      2020    5874\n",
      "12     2019    5826\n",
      "11     2020    5755\n",
      "12     2020    5581\n",
      "3      2020    5490\n",
      "5      2020    5411\n",
      "4      2020    4362\n",
      "dtype: int64\n"
     ]
    }
   ],
   "source": [
    "print(crime_df[['MONTH','YEAR']].value_counts())"
   ]
  },
  {
   "cell_type": "markdown",
   "metadata": {
    "pycharm": {
     "name": "#%% md\n"
    }
   },
   "source": [
    "\n",
    "## Task 6.3 \n",
    "Count the total number of crime incidents in each year by district (column “DISTRICT” in the data). Ignore DISTRACT with null value as well as value  “External”. Discuss the spatial distribution of crime. Do you see any significant difference between districts in terms of their crime counts?  \n"
   ]
  },
  {
   "cell_type": "code",
   "execution_count": 53,
   "metadata": {
    "pycharm": {
     "name": "#%%\n"
    }
   },
   "outputs": [
    {
     "name": "stdout",
     "output_type": "stream",
     "text": [
      "DISTRICT  YEAR\n",
      "B2        2019    13030\n",
      "D4        2019    11276\n",
      "C11       2019    11022\n",
      "B2        2020    10442\n",
      "A1        2019     9936\n",
      "B3        2019     9591\n",
      "D4        2020     9283\n",
      "C11       2020     8992\n",
      "B3        2020     7828\n",
      "A1        2020     7013\n",
      "C6        2019     6286\n",
      "D14       2019     5704\n",
      "C6        2020     5440\n",
      "E18       2019     5197\n",
      "E13       2019     4928\n",
      "D14       2020     4756\n",
      "E18       2020     4177\n",
      "E13       2020     4103\n",
      "E5        2019     3807\n",
      "          2020     3595\n",
      "A7        2019     3400\n",
      "          2020     3141\n",
      "A15       2019     1889\n",
      "          2020     1600\n",
      "External  2020      246\n",
      "          2019       77\n",
      "dtype: int64\n"
     ]
    }
   ],
   "source": [
    "print(crime_df[['DISTRICT','YEAR']].value_counts())"
   ]
  },
  {
   "cell_type": "markdown",
   "metadata": {
    "pycharm": {
     "name": "#%% md\n"
    }
   },
   "source": [
    "Some districts have much higher levels of crime than others such as B2, D4, and C11. The highest level of crimes are from 2019. This might be due to the lockdowns in 2020. Districts starting with E has the lowest crime rates."
   ]
  },
  {
   "cell_type": "markdown",
   "metadata": {
    "pycharm": {
     "name": "#%% md\n"
    }
   },
   "source": []
  }
 ],
 "metadata": {
  "kernelspec": {
   "display_name": "Python 3.9.6 64-bit",
   "language": "python",
   "name": "python3"
  },
  "language_info": {
   "codemirror_mode": {
    "name": "ipython",
    "version": 3
   },
   "file_extension": ".py",
   "mimetype": "text/x-python",
   "name": "python",
   "nbconvert_exporter": "python",
   "pygments_lexer": "ipython3",
   "version": "3.9.6"
  },
  "orig_nbformat": 4,
  "vscode": {
   "interpreter": {
    "hash": "31f2aee4e71d21fbe5cf8b01ff0e069b9275f58929596ceb00d14d90e3e16cd6"
   }
  }
 },
 "nbformat": 4,
 "nbformat_minor": 2
}