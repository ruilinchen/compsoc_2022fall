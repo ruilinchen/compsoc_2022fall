{
 "cells": [
  {
   "cell_type": "code",
   "execution_count": 38,
   "outputs": [
    {
     "name": "stdout",
     "output_type": "stream",
     "text": [
      "20\n"
     ]
    }
   ],
   "source": [
    "#Task 3.1 Write a function that takes a list of numbers as input, finds the largest and smallest element of the list, and returns the largest element minus the smallest element as output.\n",
    "def range(list):\n",
    "    x=min(list)\n",
    "    y=max(list)\n",
    "    print (y-x)\n",
    "\n",
    "list= [5, 10, 15, 20, 25]\n",
    "range(list)"
   ],
   "metadata": {
    "collapsed": false,
    "pycharm": {
     "name": "#%%\n"
    }
   }
  },
  {
   "cell_type": "code",
   "execution_count": 39,
   "outputs": [
    {
     "name": "stdout",
     "output_type": "stream",
     "text": [
      "[2, 3, 4, 6, 8, 9]\n"
     ]
    }
   ],
   "source": [
    "#Task 3.2 Write a function that takes two lists as input, combines them by alternatively taking their elements, e.g. [a,b,c], [1,2,3] → [a,1,b,2,c,3], and returns the combined list as output.\n",
    "\n",
    "a=[2,4,8]\n",
    "b=[3,6,9]\n",
    "c=[]\n",
    "for x, y in zip(a, b):\n",
    "    c += [x, y]\n",
    "def combList():\n",
    "    print(c)\n",
    "\n",
    "combList()"
   ],
   "metadata": {
    "collapsed": false,
    "pycharm": {
     "name": "#%%\n"
    }
   }
  },
  {
   "cell_type": "code",
   "execution_count": 40,
   "outputs": [
    {
     "name": "stdout",
     "output_type": "stream",
     "text": [
      "{1: 4, 2: 3, 3: 5, 4: 2, 5: 1, 6: 2}\n"
     ]
    }
   ],
   "source": [
    "#Task 3.3 Write a function that takes a list as input, and returns a frequency table of the list in the format of a dictionary. Example: ['a', 'b', 'a'] -> {'a': 2, 'b': 1}\n",
    "\n",
    "def freqDictionary(list):\n",
    "    count= {}\n",
    "    for i in [1,2,2,3,1,1,3,4,5,6,6,3,3,1,2,3,4]:\n",
    "        count[i]= count.get(i,0) +1\n",
    "    return count\n",
    "list=[1,2,2,3,1,1,3,4,5,6,6,3,3,1,2,3,4]\n",
    "print (freqDictionary(list))"
   ],
   "metadata": {
    "collapsed": false,
    "pycharm": {
     "name": "#%%\n"
    }
   }
  },
  {
   "cell_type": "code",
   "execution_count": 41,
   "outputs": [
    {
     "name": "stdout",
     "output_type": "stream",
     "text": [
      "{12, 6}\n",
      "Sorry, there are no common elements to report\n",
      "{3, 6}\n"
     ]
    }
   ],
   "source": [
    "#Task 3.4 Write a function that takes two lists as input, and returns another list that contains only the elements that are common between the two lists (without duplicates). Hint: Use `set` for this task.\n",
    "\n",
    "def comElement():\n",
    "    a_set = set(a)\n",
    "    b_set = set(b)\n",
    "\n",
    "    if (a_set & b_set):\n",
    "        print(a_set & b_set)\n",
    "    else:\n",
    "        print(\"Sorry, there are no common elements to report\")\n",
    "\n",
    "a= (2,4,6,8,10,12)\n",
    "b=(3,6,9,12,15,18)\n",
    "comElement()\n",
    "\n",
    "#Message if there are no common elements\n",
    "a=(7,14,21)\n",
    "b=(8,16,24)\n",
    "comElement()\n",
    "\n",
    "#making sure there are no duplicates\n",
    "a= (3,4,3,5,6,6)\n",
    "b=(3,6,9,12,15,18)\n",
    "comElement()"
   ],
   "metadata": {
    "collapsed": false,
    "pycharm": {
     "name": "#%%\n"
    }
   }
  }
 ],
 "metadata": {
  "kernelspec": {
   "display_name": "Python 3",
   "language": "python",
   "name": "python3"
  },
  "language_info": {
   "codemirror_mode": {
    "name": "ipython",
    "version": 2
   },
   "file_extension": ".py",
   "mimetype": "text/x-python",
   "name": "python",
   "nbconvert_exporter": "python",
   "pygments_lexer": "ipython2",
   "version": "2.7.6"
  }
 },
 "nbformat": 4,
 "nbformat_minor": 0
}