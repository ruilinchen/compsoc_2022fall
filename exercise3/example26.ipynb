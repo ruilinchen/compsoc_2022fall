{
 "cells": [
  {
   "cell_type": "markdown",
   "id": "0295835f-ef3f-4a16-beb9-847781edea42",
   "metadata": {
    "pycharm": {
     "name": "#%% md\n"
    }
   },
   "source": [
    "# Class Exercise 3"
   ]
  },
  {
   "cell_type": "markdown",
   "id": "0f7924e6-49f4-46ad-b491-62ca34cc80b0",
   "metadata": {
    "pycharm": {
     "name": "#%% md\n"
    }
   },
   "source": [
    "* Task 3.1\n",
    "* Task 3.2\n",
    "* Task 3.3\n",
    "* Task 3.4"
   ]
  },
  {
   "cell_type": "markdown",
   "id": "860b1166-7e63-4a64-86f8-78e4de3bd780",
   "metadata": {
    "pycharm": {
     "name": "#%% md\n"
    }
   },
   "source": [
    "## Task 3.1"
   ]
  },
  {
   "cell_type": "code",
   "execution_count": 34,
   "id": "87c6edb1-a0de-4e96-85ad-d2ae24af3d11",
   "metadata": {
    "pycharm": {
     "name": "#%%\n"
    }
   },
   "outputs": [
    {
     "name": "stdout",
     "output_type": "stream",
     "text": [
      "7\n",
      "1\n"
     ]
    },
    {
     "data": {
      "text/plain": [
       "6"
      ]
     },
     "execution_count": 34,
     "metadata": {},
     "output_type": "execute_result"
    }
   ],
   "source": [
    "def listnum(list_nums):\n",
    "    max_num=max(list_nums)\n",
    "    min_num=min(list_nums)\n",
    "    print(max_num)\n",
    "    print(min_num)\n",
    "    return max_num-min_num\n",
    "\n",
    "list_nums=[1,4,5,3,7,7,4]\n",
    "listnum(list_nums)"
   ]
  },
  {
   "cell_type": "markdown",
   "id": "f9dd4ab5-aba2-4ded-bcf9-68089845be2f",
   "metadata": {
    "pycharm": {
     "name": "#%% md\n"
    }
   },
   "source": [
    "## Task 3.2 "
   ]
  },
  {
   "cell_type": "code",
   "execution_count": 31,
   "id": "653d8e44-5ec5-4c7a-a789-ead1dc8ab81f",
   "metadata": {
    "pycharm": {
     "name": "#%%\n"
    }
   },
   "outputs": [
    {
     "data": {
      "text/plain": [
       "['x', 1, 'y', 2, 'z', 3]"
      ]
     },
     "execution_count": 31,
     "metadata": {},
     "output_type": "execute_result"
    }
   ],
   "source": [
    "def combine_two_lists(list_1, list_2):\n",
    "    list_1n2=[]\n",
    "    for i in range(0, len(list_1)):\n",
    "        list_1n2.append(list_1[i])\n",
    "        list_1n2.append(list_2[i])\n",
    "    return list_1n2\n",
    "\n",
    "list_a=['x', 'y', 'z']\n",
    "list_b=[1, 2, 3]\n",
    "combine_two_lists(list_a, list_b)"
   ]
  },
  {
   "cell_type": "markdown",
   "id": "082f3eac-8c7f-4daf-80e8-e4b589b43e9a",
   "metadata": {
    "pycharm": {
     "name": "#%% md\n"
    }
   },
   "source": [
    "## Task 3.3"
   ]
  },
  {
   "cell_type": "code",
   "execution_count": 33,
   "id": "def42653-45ed-4194-b5f8-d61827f0323c",
   "metadata": {
    "pycharm": {
     "name": "#%%\n"
    }
   },
   "outputs": [
    {
     "name": "stdout",
     "output_type": "stream",
     "text": [
      "{'a': 3, 'b': 1, 'c': 1}\n"
     ]
    }
   ],
   "source": [
    "def freq_list(list_input):\n",
    "    freq={}\n",
    "    for i in list_a:\n",
    "        freq[i]= list_input.count(i)\n",
    "    print(freq)     \n",
    "\n",
    "list_a=['a', 'a', 'b', 'c', 'a']\n",
    "freq_list(list_a)  "
   ]
  },
  {
   "cell_type": "markdown",
   "id": "b463d357-2d9d-4df2-a1c9-b17fceaf91f2",
   "metadata": {
    "pycharm": {
     "name": "#%% md\n"
    }
   },
   "source": [
    "## Task 3.4 "
   ]
  },
  {
   "cell_type": "code",
   "execution_count": 29,
   "id": "6d69e957-30c7-4717-884a-358225ce72e7",
   "metadata": {
    "pycharm": {
     "name": "#%%\n"
    }
   },
   "outputs": [
    {
     "data": {
      "text/plain": [
       "['a', 'c']"
      ]
     },
     "execution_count": 29,
     "metadata": {},
     "output_type": "execute_result"
    }
   ],
   "source": [
    "def common_set(list_1, list_2):\n",
    "    set_1=set(list_1)\n",
    "    set_2=set(list_2)\n",
    "    return list(set_1 & set_2)\n",
    "\n",
    "list_a=['a', 'b', 'c']\n",
    "list_b=['a', 'c', 'd']\n",
    "\n",
    "common_set(list_a, list_b)"
   ]
  },
  {
   "cell_type": "code",
   "execution_count": null,
   "id": "63027e19-d73f-4735-ab30-9b49d1b925fc",
   "metadata": {
    "pycharm": {
     "name": "#%%\n"
    }
   },
   "outputs": [],
   "source": []
  }
 ],
 "metadata": {
  "kernelspec": {
   "display_name": "Python [conda env:compsoc] *",
   "language": "python",
   "name": "conda-env-compsoc-py"
  },
  "language_info": {
   "codemirror_mode": {
    "name": "ipython",
    "version": 3
   },
   "file_extension": ".py",
   "mimetype": "text/x-python",
   "name": "python",
   "nbconvert_exporter": "python",
   "pygments_lexer": "ipython3",
   "version": "3.8.13"
  }
 },
 "nbformat": 4,
 "nbformat_minor": 5
}