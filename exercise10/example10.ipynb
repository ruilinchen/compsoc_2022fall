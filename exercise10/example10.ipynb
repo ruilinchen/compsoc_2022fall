{
 "cells": [
  {
   "cell_type": "markdown",
   "source": [
    "### Data setup"
   ],
   "metadata": {
    "collapsed": false,
    "pycharm": {
     "name": "#%% md\n"
    }
   }
  },
  {
   "cell_type": "code",
   "execution_count": 14,
   "metadata": {
    "collapsed": true,
    "pycharm": {
     "name": "#%%\n"
    }
   },
   "outputs": [
    {
     "name": "stdout",
     "output_type": "stream",
     "text": [
      "['countdict.json', 'MA_cbg2cbg_2019_01.csv', 'MA_cbg2cbg_2019_02.csv', 'MA_cbg2cbg_2019_03.csv', 'MA_cbg2cbg_2019_04.csv', 'MA_cbg2cbg_2019_05.csv', 'MA_cbg2cbg_2019_06.csv', 'MA_cbg2cbg_2019_07.csv', 'MA_cbg2cbg_2019_08.csv', 'MA_cbg2cbg_2019_09.csv', 'MA_cbg2cbg_2019_10.csv', 'MA_cbg2cbg_2019_11.csv', 'MA_cbg2cbg_2019_12.csv']\n",
      "Index(['poi_cbg', 'year_month', 'raw_device_counts', 'visitor_census_tract',\n",
      "       'visitor_count'],\n",
      "      dtype='object')\n"
     ]
    }
   ],
   "source": [
    "import os\n",
    "import pandas as pd\n",
    "import networkx as nx\n",
    "import seaborn as sns\n",
    "import matplotlib.pyplot as plt\n",
    "import itertools\n",
    "\n",
    "import folder\n",
    "\n",
    "# folder and data setup\n",
    "os.chdir(folder.mob_dir)\n",
    "print(os.listdir())\n",
    "\n",
    "data = pd.read_csv(\"MA_cbg2cbg_2019_01.csv\", low_memory=False)\n",
    "print(data.columns)"
   ]
  },
  {
   "cell_type": "markdown",
   "source": [
    "### Q1 Create network"
   ],
   "metadata": {
    "collapsed": false,
    "pycharm": {
     "name": "#%% md\n"
    }
   }
  },
  {
   "cell_type": "code",
   "execution_count": 15,
   "outputs": [
    {
     "name": "stdout",
     "output_type": "stream",
     "text": [
      "network created: Graph with 40292 nodes and 742299 edges\n"
     ]
    }
   ],
   "source": [
    "# create network graph\n",
    "def add_from_mobil_data(df):\n",
    "    g = nx.Graph()\n",
    "    data_range = range(len(df))\n",
    "    for i in data_range:\n",
    "        a = df.loc[i, \"poi_cbg\"]\n",
    "        b = df.loc[i, \"visitor_census_tract\"]\n",
    "        flow = df.loc[i, \"visitor_count\"] / df.loc[i, \"raw_device_counts\"]\n",
    "        g.add_edge(a, b, weight = flow)\n",
    "    print(f\"network created: {g}\")\n",
    "    return g\n",
    "\n",
    "mobil_1901_nw = add_from_mobil_data(data)"
   ],
   "metadata": {
    "collapsed": false,
    "pycharm": {
     "name": "#%%\n"
    }
   }
  },
  {
   "cell_type": "markdown",
   "source": [
    "### Q2 Translate network to df"
   ],
   "metadata": {
    "collapsed": false,
    "pycharm": {
     "name": "#%% md\n"
    }
   }
  },
  {
   "cell_type": "code",
   "execution_count": 16,
   "outputs": [
    {
     "name": "stdout",
     "output_type": "stream",
     "text": [
      "           node  degree  weighted_degree\n",
      "0  250250303003    2936         1.617298\n",
      "1  250251010016     609         1.829781\n",
      "2  440070008003      77         0.201907\n",
      "3  250250923002     600         2.675362\n",
      "4  250173686001    3217         1.763752 \n",
      "\n"
     ]
    }
   ],
   "source": [
    "# print table of nodes with degrees and weighted degrees\n",
    "nodes = list(mobil_1901_nw.nodes)\n",
    "degree_l = []\n",
    "w_degree_l = []\n",
    "for node in nodes:\n",
    "    degree = mobil_1901_nw.degree(node)\n",
    "    w_degree = mobil_1901_nw.degree(node, weight=\"weight\")\n",
    "    degree_l.append(degree)\n",
    "    w_degree_l.append(w_degree)\n",
    "\n",
    "node_data = {\"node\": nodes, \"degree\": degree_l, \"weighted_degree\": w_degree_l}\n",
    "nodes_df = pd.DataFrame(data=node_data)\n",
    "print(nodes_df.head(), \"\\n\")"
   ],
   "metadata": {
    "collapsed": false,
    "pycharm": {
     "name": "#%%\n"
    }
   }
  },
  {
   "cell_type": "markdown",
   "source": [
    "### Q3 Density graph for weighted degree\n",
    "The graph shows the network follows a power law distribution for node weighted degree (kde can be less than 0 - graph does not mean we have negative values in data)"
   ],
   "metadata": {
    "collapsed": false,
    "pycharm": {
     "name": "#%% md\n"
    }
   }
  },
  {
   "cell_type": "code",
   "execution_count": 17,
   "outputs": [
    {
     "data": {
      "text/plain": "<Figure size 500x500 with 1 Axes>",
      "image/png": "[encoded data removed]"
     },
     "metadata": {},
     "output_type": "display_data"
    }
   ],
   "source": [
    "# graph\n",
    "wd_plot = sns.displot(data=nodes_df.weighted_degree, kind=\"kde\")\n",
    "plt.savefig(os.path.join(folder.w_dir, \"Assignment_10\\\\node_dist.png\"))\n",
    "plt.show(wd_plot)"
   ],
   "metadata": {
    "collapsed": false,
    "pycharm": {
     "name": "#%%\n"
    }
   }
  },
  {
   "cell_type": "markdown",
   "source": [
    "### Q4 Testing 6 degrees\n",
    "The procedure works but only conclusive if the sample data is representative of the original network. Here, the sample is taken at random (a sample of edge from the first data set). Smaller smaple means less edges and interconnections, as the graph below suggests, path lengths can become significantly longer, so this is purely to test the code if it works, but there's good reason to believe that as we increase the sample size, path length distribution will move to the left. We cannot conclude if small world hypothesis applies to the Boston mobility dataset yet, though. Would be cool if we can simulate the Watts and Strogatz's simulation of small world through random rewiring though :)"
   ],
   "metadata": {
    "collapsed": false,
    "pycharm": {
     "name": "#%% md\n"
    }
   }
  },
  {
   "cell_type": "code",
   "execution_count": 20,
   "outputs": [
    {
     "name": "stdout",
     "output_type": "stream",
     "text": [
      "network created: Graph with 4989 nodes and 5992 edges\n",
      "sample network created: Graph with 4401 nodes and 5617 edges,\n",
      " \n",
      "8     3754778\n",
      "9     3456180\n",
      "7     3109346\n",
      "10    2555368\n",
      "6     1896818\n",
      "11    1601108\n",
      "5      880958\n",
      "12     879334\n",
      "13     427516\n",
      "4      339694\n",
      "14     184726\n",
      "3      117802\n",
      "15      70176\n",
      "2       45190\n",
      "16      23912\n",
      "1       11190\n",
      "17       7434\n",
      "0        4401\n",
      "18       2172\n",
      "19        574\n",
      "20        114\n",
      "21         10\n",
      "Name: length, dtype: int64\n"
     ]
    },
    {
     "data": {
      "text/plain": "<Figure size 640x480 with 1 Axes>",
      "image/png": "[encoded data removed]"
     },
     "metadata": {},
     "output_type": "display_data"
    }
   ],
   "source": [
    "# 6 degrees of separation\n",
    "# reduce size of data to test by taking an n sample from the original list of edge, then pick out the biggest connected component of that network as a sample\n",
    "def take_connected_sample(df, size):\n",
    "    data_sample = df.sample(n=size).reset_index(drop=True)\n",
    "    temp_graph = add_from_mobil_data(data_sample)\n",
    "    largest_cc = max(nx.connected_components(temp_graph), key=len)\n",
    "    sample = temp_graph.subgraph(largest_cc).copy()\n",
    "    print(f\"sample network created: {sample},\\n \")\n",
    "    return sample\n",
    "\n",
    "# use nx native function to return a nested dict of all lengths between all pairs\n",
    "# flatten the dict into a list to compile distribution of degrees of separation\n",
    "# graph distribution\n",
    "mobil_sample = take_connected_sample(data, 6000)\n",
    "lengths = dict(nx.all_pairs_shortest_path_length(mobil_sample))\n",
    "length_df = pd.json_normalize(lengths).T\n",
    "length_df[\"length\"] = length_df[0]\n",
    "\n",
    "print(length_df[\"length\"].value_counts())\n",
    "sep_dist = sns.histplot(data=lengths, x=length_df.length)\n",
    "plt.show(sep_dist)"
   ],
   "metadata": {
    "collapsed": false,
    "pycharm": {
     "name": "#%%\n"
    }
   }
  },
  {
   "cell_type": "markdown",
   "source": [
    "#### Note:\n",
    "Below is another method to get at the same table: First take combination of pair into a list (using itertools), then run through the list to get the list of lengths. Using itertools does not really work with large amount of data due to memory error, however, in which case a manual double loop would work but takes very long (same with nx.all_pairs_shortest_path_length). Not sure how well these tools work with directed network though...\n"
   ],
   "metadata": {
    "collapsed": false,
    "pycharm": {
     "name": "#%% md\n"
    }
   }
  },
  {
   "cell_type": "code",
   "execution_count": 19,
   "outputs": [],
   "source": [
    "# total_pairs = list(itertools.combinations_with_replacement(nodes, 2))\n",
    "# d_of_s = []\n",
    "# for pair in total_pairs:\n",
    "#     sep = nx.shortest_path_length(mobil_1901_nw, source=pair[0], target=pair[1])\n",
    "#     d_of_s.append(sep)\n",
    "#\n",
    "# tally = pd.DataFrame({\"degree_of_separation\": d_of_s})\n",
    "# ds_plot = sns.histplot(data=tally, x=tally.degree_of_separation, kde=True)"
   ],
   "metadata": {
    "collapsed": false,
    "pycharm": {
     "name": "#%%\n"
    }
   }
  }
 ],
 "metadata": {
  "kernelspec": {
   "display_name": "Python 3",
   "language": "python",
   "name": "python3"
  },
  "language_info": {
   "codemirror_mode": {
    "name": "ipython",
    "version": 2
   },
   "file_extension": ".py",
   "mimetype": "text/x-python",
   "name": "python",
   "nbconvert_exporter": "python",
   "pygments_lexer": "ipython2",
   "version": "2.7.6"
  }
 },
 "nbformat": 4,
 "nbformat_minor": 0
}