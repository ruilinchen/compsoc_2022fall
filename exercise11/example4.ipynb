{
 "cells": [
  {
   "cell_type": "code",
   "execution_count": 18,
   "id": "920fcbf8",
   "metadata": {
    "pycharm": {
     "name": "#%%\n"
    }
   },
   "outputs": [
    {
     "name": "stdout",
     "output_type": "stream",
     "text": [
      "1931.0618840420418\n",
      "648.459713474939\n",
      "Max Visitor Count Feb:  69792 \n",
      "Max Visitor Count Apr:  16745\n"
     ]
    },
    {
     "data": {
      "text/html": [
       "<div>\n",
       "<style scoped>\n",
       "    .dataframe tbody tr th:only-of-type {\n",
       "        vertical-align: middle;\n",
       "    }\n",
       "\n",
       "    .dataframe tbody tr th {\n",
       "        vertical-align: top;\n",
       "    }\n",
       "\n",
       "    .dataframe thead th {\n",
       "        text-align: right;\n",
       "    }\n",
       "</style>\n",
       "<table border=\"1\" class=\"dataframe\">\n",
       "  <thead>\n",
       "    <tr style=\"text-align: right;\">\n",
       "      <th></th>\n",
       "      <th>year_month</th>\n",
       "      <th>visitor_count</th>\n",
       "    </tr>\n",
       "  </thead>\n",
       "  <tbody>\n",
       "    <tr>\n",
       "      <th>0</th>\n",
       "      <td>20202</td>\n",
       "      <td>6.931361</td>\n",
       "    </tr>\n",
       "    <tr>\n",
       "      <th>1</th>\n",
       "      <td>20204</td>\n",
       "      <td>7.260037</td>\n",
       "    </tr>\n",
       "  </tbody>\n",
       "</table>\n",
       "</div>"
      ],
      "text/plain": [
       "   year_month  visitor_count\n",
       "0       20202       6.931361\n",
       "1       20204       7.260037"
      ]
     },
     "execution_count": 18,
     "metadata": {},
     "output_type": "execute_result"
    }
   ],
   "source": [
    "import os, pandas as pd, math\n",
    "\n",
    "os.chdir('/Users/[editted]/Desktop/compSoc/datasets/MA_cbg_human_mobility_2020')\n",
    "ma2_df = pd.read_csv('MA_cbg2cbg_2020_02.csv')\n",
    "ma4_df = pd.read_csv('MA_cbg2cbg_2020_04.csv')\n",
    "\n",
    "ma_df = pd.concat([ma2_df, ma4_df])\n",
    "ma_df = ma_df.astype({\"year_month\": \"int\"})\n",
    "\n",
    "visitor_df = ma_df.groupby([\"poi_cbg\", \n",
    "                            \"year_month\"]).agg({\"visitor_count\": \"sum\"}).reset_index() #how many people traveled from a location\n",
    "\n",
    "ym_df = ma_df.groupby([\"year_month\"]).agg({\"visitor_count\": \"sum\"}).reset_index() \n",
    "ym_mean_df = ma_df.groupby([\"year_month\"]).agg({\"visitor_count\": \"mean\"}).reset_index() \n",
    "visitor_df2 = visitor_df[visitor_df[\"year_month\"]==2020_2]\n",
    "visitor_df4 = visitor_df[visitor_df[\"year_month\"]==2020_4]\n",
    "pd.DataFrame.var(visitor_df2) #var 3.729 * 10^6\n",
    "print(math.sqrt(3.729 * 10**6)) #stdev 1931.061\n",
    "pd.DataFrame.var(visitor_df4) #var 4.205 * 10^5\n",
    "print(math.sqrt(4.205 * 10**5)) #stdev 648.460\n",
    "print(\"Max Visitor Count Feb: \", pd.DataFrame.max(visitor_df2[\"visitor_count\"]), \n",
    "      \"\\nMax Visitor Count Apr: \", pd.DataFrame.max(visitor_df4[\"visitor_count\"]))\n",
    "\n",
    "ym_df\n",
    "ym_mean_df\n",
    "\n"
   ]
  },
  {
   "cell_type": "markdown",
   "id": "4bf3d5a7",
   "metadata": {
    "pycharm": {
     "name": "#%% md\n"
    }
   },
   "source": [
    "Overall, visitor counts decreased from 6.5 million to 2.8 million, a stark decrease due to Covid-19. The maximum number of visitors from one place of interest in February was 69,792, while in April, it was only 16,745. Interestingly, the average number of visitors to each POI increased from Feb to April—it may have been that high-traffic POIs saw large decreases in visitor counts, but low-traffic POIs saw increases to offset this, due to people wanting to go out to smaller places (lower risk of Covid-19). Finally, the standard deviation of visitor counts decreased drastically from Feb to April, indicating that not only were POIs seeing fewer visitors, the number of visitors from each became much more clustered together."
   ]
  },
  {
   "cell_type": "code",
   "execution_count": 33,
   "id": "e257a63d",
   "metadata": {
    "pycharm": {
     "name": "#%%\n"
    }
   },
   "outputs": [
    {
     "name": "stdout",
     "output_type": "stream",
     "text": [
      "DiGraph with 4984 nodes and 745666 edges \n",
      " DiGraph with 4985 nodes and 339844 edges\n",
      "Feb:  0.2534210545393452 Apr:  0.21561300394680086\n"
     ]
    }
   ],
   "source": [
    "import os, pandas as pd, networkx as nx\n",
    "\n",
    "os.chdir('/Users/[editted]/Desktop/compSoc/datasets/MA_cbg_human_mobility_2020')\n",
    "\n",
    "ma2_df = pd.read_csv('MA_cbg2cbg_2020_02.csv')\n",
    "ma4_df = pd.read_csv('MA_cbg2cbg_2020_04.csv')\n",
    "\n",
    "G2 = nx.DiGraph()\n",
    "\n",
    "for i in range(len(ma2_df)):\n",
    "    origin_cbg = ma2_df.loc[i, 'poi_cbg']\n",
    "    destination_cbg = ma2_df.loc[i, 'visitor_census_tract']\n",
    "    if str(origin_cbg)[:2] == '25' and str(destination_cbg)[:2] == '25':\n",
    "        total_residents_in_origin = ma2_df.loc[i, 'raw_device_counts']\n",
    "        num_visitor = ma2_df.loc[i, 'visitor_count']\n",
    "        pct_visitor = num_visitor / total_residents_in_origin\n",
    "        G2.add_edge(origin_cbg, destination_cbg, weight=pct_visitor)\n",
    "    \n",
    "G4 = nx.DiGraph()\n",
    "\n",
    "for i in range(len(ma4_df)):\n",
    "    origin_cbg = ma4_df.loc[i, 'poi_cbg']\n",
    "    destination_cbg = ma4_df.loc[i, 'visitor_census_tract']\n",
    "    if str(origin_cbg)[:2] == '25' and str(destination_cbg)[:2] == '25':\n",
    "        total_residents_in_origin = ma4_df.loc[i, 'raw_device_counts']\n",
    "        num_visitor = ma4_df.loc[i, 'visitor_count']\n",
    "        pct_visitor = num_visitor / total_residents_in_origin\n",
    "        G4.add_edge(origin_cbg, destination_cbg, weight=pct_visitor)\n",
    "    \n",
    "print(G2, \"\\n\", G4)\n",
    "\n",
    "close2 = nx.closeness_centrality(G2)\n",
    "csum2 = 0\n",
    "cnum2 = 0\n",
    "for i in close2.values():\n",
    "    csum2 += i\n",
    "    cnum2 += 1\n",
    "cmean2 = csum2/cnum2\n",
    "\n",
    "close4 = nx.closeness_centrality(G4)\n",
    "csum4 = 0\n",
    "cnum4 = 0\n",
    "for i in close4.values():\n",
    "    csum4 += i\n",
    "    cnum4 += 1\n",
    "cmean4 = csum4/cnum4\n",
    "\n",
    "print(\"Feb: \", cmean2, \"Apr: \", cmean4)\n",
    "\n",
    "bet2 = nx.betweenness_centrality(G2)\n",
    "bsum2 = 0\n",
    "bnum2 = 0\n",
    "for i in close2.values():\n",
    "    bsum2 += i\n",
    "    bnum2 += 1\n",
    "bmean2 = bsum2/bnum2\n",
    "\n",
    "bet4 = nx.betweenness_centrality(G4)\n",
    "bsum4 = 0\n",
    "bnum4 = 0\n",
    "for i in bet4.values():\n",
    "    bsum4 += i\n",
    "    bnum4 += 1\n",
    "bmean4 = bsum4/bnum4\n",
    "\n",
    "print(\"Feb: \", bmean2, \"Apr: \", bmean4)\n",
    "\n",
    "print(\"Feb: \", nx.average_clustering(G2), \"Apr: \", nx.average_clustering(G4))"
   ]
  },
  {
   "cell_type": "markdown",
   "id": "ba6fb9e4",
   "metadata": {
    "pycharm": {
     "name": "#%% md\n"
    }
   },
   "source": [
    "Closeness centrality decreased on average from 0.4349 to 0.3667 Feb-Apr; on average, nodes were farther apart (takes longer to send information from one node through the others) in April, indicating that communities in this network were less-connected. Betweeness centrality decreased very drastically, becoming nearly zero in April. A betweeness centrality of zero would indicate that each node is not between any other nodes; this shows that travelers did not travel through hubs as they did prior to Covid. Average clustering coefficient for G also decreased slightly, from 0.2534 to 0.2156. This indicates that CBGs are more separate than before Covid, which aligns with the other metrics calculated here."
   ]
  },
  {
   "cell_type": "code",
   "execution_count": null,
   "id": "f571a82b",
   "metadata": {
    "pycharm": {
     "name": "#%%\n"
    }
   },
   "outputs": [],
   "source": []
  }
 ],
 "metadata": {
  "kernelspec": {
   "display_name": "Python 3 (ipykernel)",
   "language": "python",
   "name": "python3"
  },
  "language_info": {
   "codemirror_mode": {
    "name": "ipython",
    "version": 3
   },
   "file_extension": ".py",
   "mimetype": "text/x-python",
   "name": "python",
   "nbconvert_exporter": "python",
   "pygments_lexer": "ipython3",
   "version": "3.9.12"
  }
 },
 "nbformat": 4,
 "nbformat_minor": 5
}