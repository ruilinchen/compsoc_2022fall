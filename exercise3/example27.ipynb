{
 "cells": [
  {
   "cell_type": "markdown",
   "source": [
    "# [editted]_Coding exercise 3"
   ],
   "metadata": {
    "collapsed": false,
    "pycharm": {
     "name": "#%% md\n"
    }
   }
  },
  {
   "cell_type": "markdown",
   "source": [
    "### Task 3.1 ListFunction"
   ],
   "metadata": {
    "collapsed": false,
    "pycharm": {
     "name": "#%% md\n"
    }
   }
  },
  {
   "cell_type": "code",
   "execution_count": 7,
   "outputs": [
    {
     "name": "stdout",
     "output_type": "stream",
     "text": [
      "The largest number in the list is 100 ; The smallest number in the list is 45 ;The largest minors the smallest is 55\n"
     ]
    }
   ],
   "source": [
    "number_list = []\n",
    "x=input(\"Enter the list size \")\n",
    "try:\n",
    "    n = int(x)\n",
    "    for i in range(0, n):\n",
    "        item = int(input())\n",
    "        number_list.append(item)\n",
    "        a=max(number_list)\n",
    "        b=min(number_list)\n",
    "    print(\"The largest number in the list is\",a,\"; The smallest number in the list is\",b, \";The largest minors the smallest is\",a-b)\n",
    "except:\n",
    "    print(\"Error! please enter a valid number!\")"
   ],
   "metadata": {
    "collapsed": false,
    "pycharm": {
     "name": "#%%\n"
    }
   }
  },
  {
   "cell_type": "markdown",
   "source": [
    "### Task 3.2 TwolistsFunction"
   ],
   "metadata": {
    "collapsed": false,
    "pycharm": {
     "name": "#%% md\n"
    }
   }
  },
  {
   "cell_type": "code",
   "execution_count": 9,
   "outputs": [
    {
     "name": "stdout",
     "output_type": "stream",
     "text": [
      "['1', 'a', '2', 's']\n"
     ]
    }
   ],
   "source": [
    "def countList(number_list1, number_list2):\n",
    "    return [sub[item] for item in range(len(number_list2))\n",
    "                      for sub in [number_list1, number_list2]]\n",
    "number_list1 = []\n",
    "n1=int(input(\"Enter the size for list1\"))\n",
    "for i in range(0, n1):\n",
    "    item1 = input()\n",
    "    number_list1.append(item1)\n",
    "number_list2 = []\n",
    "n2=int(input(\"Enter the size for list2\"))\n",
    "for i in range(0, n2):\n",
    "    item2 = input()\n",
    "    number_list2.append(item2)\n",
    "if n1==n2:\n",
    "    print(countList(number_list1, number_list2))\n",
    "else:\n",
    "    print(\"Error,the size for two lists should be the same!\")"
   ],
   "metadata": {
    "collapsed": false,
    "pycharm": {
     "name": "#%%\n"
    }
   }
  },
  {
   "cell_type": "markdown",
   "source": [],
   "metadata": {
    "collapsed": false,
    "pycharm": {
     "name": "#%% md\n"
    }
   }
  },
  {
   "cell_type": "markdown",
   "source": [
    "### Task 3.3 List➡️Dictionary"
   ],
   "metadata": {
    "collapsed": false,
    "pycharm": {
     "name": "#%% md\n"
    }
   }
  },
  {
   "cell_type": "code",
   "execution_count": 10,
   "outputs": [
    {
     "name": "stdout",
     "output_type": "stream",
     "text": [
      "{'1': 3, '2': 2, '88': 2, '67': 2, 'xx': 1}\n"
     ]
    }
   ],
   "source": [
    "number_list3 = []\n",
    "n3=int(input(\"Enter the size for list3\"))\n",
    "for i in range(0, n3):\n",
    "    item3 = input()\n",
    "    number_list3.append(item3)\n",
    "\n",
    "def CountFrequency(my_list):\n",
    "   count = {}\n",
    "   for i in number_list3:\n",
    "    count[i] = count.get(i, 0) + 1\n",
    "   return count\n",
    "if __name__ == \"__main__\":\n",
    "    my_list =number_list3\n",
    "    print(CountFrequency(my_list))"
   ],
   "metadata": {
    "collapsed": false,
    "pycharm": {
     "name": "#%%\n"
    }
   }
  },
  {
   "cell_type": "markdown",
   "source": [
    "### Task 3.4 Common elements in two lists"
   ],
   "metadata": {
    "collapsed": false,
    "pycharm": {
     "name": "#%% md\n"
    }
   }
  },
  {
   "cell_type": "code",
   "execution_count": 14,
   "outputs": [
    {
     "name": "stdout",
     "output_type": "stream",
     "text": [
      "{'q', 'z', '1', 'a'}\n"
     ]
    }
   ],
   "source": [
    "def common_member(a, b):\n",
    "    a_set = set(a)\n",
    "    b_set = set(b)\n",
    "\n",
    "    if (a_set & b_set):\n",
    "        print(a_set & b_set)\n",
    "    else:\n",
    "        print(\"No common elements\")\n",
    "\n",
    "number_list4 = []\n",
    "n4=int(input(\"Enter the size for list4\"))\n",
    "for i in range(0, n4):\n",
    "    item4 = input()\n",
    "    number_list4.append(item4)\n",
    "number_list5 = []\n",
    "n5=int(input(\"Enter the size for list5\"))\n",
    "for i in range(0, n5):\n",
    "    item5 = input()\n",
    "    number_list5.append(item5)\n",
    "a= number_list4\n",
    "b= number_list5\n",
    "common_member(a,b)\n",
    "\n"
   ],
   "metadata": {
    "collapsed": false,
    "pycharm": {
     "name": "#%%\n"
    }
   }
  },
  {
   "cell_type": "code",
   "execution_count": null,
   "outputs": [],
   "source": [],
   "metadata": {
    "collapsed": false,
    "pycharm": {
     "name": "#%%\n"
    }
   }
  }
 ],
 "metadata": {
  "kernelspec": {
   "display_name": "Python 3",
   "language": "python",
   "name": "python3"
  },
  "language_info": {
   "codemirror_mode": {
    "name": "ipython",
    "version": 2
   },
   "file_extension": ".py",
   "mimetype": "text/x-python",
   "name": "python",
   "nbconvert_exporter": "python",
   "pygments_lexer": "ipython2",
   "version": "2.7.6"
  }
 },
 "nbformat": 4,
 "nbformat_minor": 0
}