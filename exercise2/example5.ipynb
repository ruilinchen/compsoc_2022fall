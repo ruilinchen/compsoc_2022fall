{
 "cells": [
  {
   "cell_type": "markdown",
   "source": [
    "# Coding exercise 2"
   ],
   "metadata": {
    "collapsed": false,
    "pycharm": {
     "name": "#%% md\n"
    }
   }
  },
  {
   "cell_type": "markdown",
   "source": [
    "## Task 2.1 sumForFour"
   ],
   "metadata": {
    "collapsed": false,
    "pycharm": {
     "name": "#%% md\n"
    }
   }
  },
  {
   "cell_type": "code",
   "execution_count": 1,
   "outputs": [
    {
     "name": "stdout",
     "output_type": "stream",
     "text": [
      "30.0\n"
     ]
    }
   ],
   "source": [
    "## sumForFour\n",
    "number1=input(\"Please enter the first number\")\n",
    "number2=input(\"Please enter the second number\")\n",
    "number3=input(\"Please enter the third number\")\n",
    "number4=input(\"Please enter the fourth number\")\n",
    "try:\n",
    "    x1=float(number1)\n",
    "    x2=float(number2)\n",
    "    x3=float(number3)\n",
    "    x4=float(number4)\n",
    "    y=x1+x2+x3+x4\n",
    "    print(y)\n",
    "except:\n",
    "    print(\"Error! Please enter valid numbers!\")\n"
   ],
   "metadata": {
    "collapsed": false,
    "pycharm": {
     "name": "#%%\n"
    }
   }
  },
  {
   "cell_type": "markdown",
   "source": [
    "## Task 2.2 n"
   ],
   "metadata": {
    "collapsed": false,
    "pycharm": {
     "name": "#%% md\n"
    }
   }
  },
  {
   "cell_type": "code",
   "execution_count": 2,
   "outputs": [
    {
     "name": "stdout",
     "output_type": "stream",
     "text": [
      "55\n"
     ]
    }
   ],
   "source": [
    "## n\n",
    "x=input(\"Enter the Number \" )\n",
    "try:\n",
    "    y = int(x)\n",
    "    sumNums = 0\n",
    "    for i in range(1, y + 1):\n",
    "        sumNums += i\n",
    "    print(sumNums)\n",
    "except ValueError:\n",
    "    try:\n",
    "        y = float(x)\n",
    "        y1 = int(y)\n",
    "        sumNums = 0\n",
    "        for i in range(1, y1 + 1):\n",
    "            sumNums += i\n",
    "        print(\"Warning: input is float. Answer with int input is:\" , sumNums)\n",
    "    except ValueError:\n",
    "        print(\"Error! Please enter valid numbers\")\n",
    "\n"
   ],
   "metadata": {
    "collapsed": false,
    "pycharm": {
     "name": "#%%\n"
    }
   }
  },
  {
   "cell_type": "markdown",
   "source": [
    "## Task 2.3 random"
   ],
   "metadata": {
    "collapsed": false,
    "pycharm": {
     "name": "#%% md\n"
    }
   }
  },
  {
   "cell_type": "code",
   "execution_count": 3,
   "outputs": [],
   "source": [
    "import random"
   ],
   "metadata": {
    "collapsed": false,
    "pycharm": {
     "name": "#%%\n"
    }
   }
  },
  {
   "cell_type": "code",
   "execution_count": 4,
   "outputs": [
    {
     "data": {
      "text/plain": "0.0225141773866665"
     },
     "execution_count": 4,
     "metadata": {},
     "output_type": "execute_result"
    }
   ],
   "source": [
    "random.random()"
   ],
   "metadata": {
    "collapsed": false,
    "pycharm": {
     "name": "#%%\n"
    }
   }
  },
  {
   "cell_type": "markdown",
   "source": [],
   "metadata": {
    "collapsed": false,
    "pycharm": {
     "name": "#%% md\n"
    }
   }
  },
  {
   "cell_type": "markdown",
   "source": [
    "### What does `random.random()` do here?\n",
    "* Whenever \"random.random()\" is typed and run, a random float uniformly in the semi-open range [0.0, 1.0) will be generated randomly.\n",
    "### What is `random.random`?\n",
    "* The module object, here is \"random\", contains the functions and variables defined in the module. To\n",
    "access one of the functions, people have to specify the name of the module and the\n",
    "name of the function. Here, the first \"random\" is the name of the module, the second \"random\" is te name of the function.\n",
    "### What do you think the dot symbol `.` is doing here?\n",
    "* The dot symbol here is a separation which separates the name of the module and the name of the function.\n",
    "### What about the first `import random`? What does that do?\n",
    "* “random” is a module, which is pseudo-random number generators for various distributions. \"import random\" is a statement which creates a module object named \"random\".\n"
   ],
   "metadata": {
    "collapsed": false,
    "pycharm": {
     "name": "#%% md\n"
    }
   }
  },
  {
   "cell_type": "code",
   "execution_count": 4,
   "outputs": [],
   "source": [],
   "metadata": {
    "collapsed": false,
    "pycharm": {
     "name": "#%%\n"
    }
   }
  },
  {
   "cell_type": "code",
   "execution_count": 4,
   "outputs": [],
   "source": [],
   "metadata": {
    "collapsed": false,
    "pycharm": {
     "name": "#%%\n"
    }
   }
  }
 ],
 "metadata": {
  "kernelspec": {
   "display_name": "Python 3",
   "language": "python",
   "name": "python3"
  },
  "language_info": {
   "codemirror_mode": {
    "name": "ipython",
    "version": 2
   },
   "file_extension": ".py",
   "mimetype": "text/x-python",
   "name": "python",
   "nbconvert_exporter": "python",
   "pygments_lexer": "ipython2",
   "version": "2.7.6"
  }
 },
 "nbformat": 4,
 "nbformat_minor": 0
}