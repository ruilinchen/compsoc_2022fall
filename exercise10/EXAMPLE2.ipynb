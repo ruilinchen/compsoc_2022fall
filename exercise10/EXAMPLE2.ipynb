{
 "cells": [
  {
   "cell_type": "markdown",
   "metadata": {
    "pycharm": {
     "name": "#%% md\n"
    }
   },
   "source": [
    "## Task10.1"
   ]
  },
  {
   "cell_type": "code",
   "execution_count": 8,
   "metadata": {
    "pycharm": {
     "name": "#%%\n"
    }
   },
   "outputs": [],
   "source": [
    "import networkx as nx\n",
    "import pandas as pd\n",
    "import seaborn as sns\n",
    "from tqdm import tqdm"
   ]
  },
  {
   "cell_type": "code",
   "execution_count": 3,
   "metadata": {
    "pycharm": {
     "name": "#%%\n"
    }
   },
   "outputs": [
    {
     "name": "stdout",
     "output_type": "stream",
     "text": [
      "Index(['poi_cbg', 'year_month', 'raw_device_counts', 'visitor_census_tract',\n",
      "       'visitor_count'],\n",
      "      dtype='object') (840593, 5)\n"
     ]
    },
    {
     "name": "stderr",
     "output_type": "stream",
     "text": [
      "100%|████████████████████████████████| 840593/840593 [00:29<00:00, 28666.19it/s]\n"
     ]
    }
   ],
   "source": [
    "\n",
    "G = nx.Graph()\n",
    "\n",
    "ma_df = pd.read_csv('/Users/edu/Documents/compsoc/code/MA_cbg_human_mobility_2019/MA_cbg2cbg_2019_01.csv')\n",
    "print(ma_df.columns, ma_df.shape)\n",
    "ma_df.head()\n",
    "\n",
    "for i in tqdm(range(len(ma_df))):\n",
    "    origin_cbg = ma_df.loc[i, 'poi_cbg']\n",
    "    destination_cbg = ma_df.loc[i, 'visitor_census_tract']\n",
    "    total_residents_in_origin = ma_df.loc[i, 'raw_device_counts']\n",
    "    num_visitor = ma_df.loc[i, 'visitor_count']\n",
    "    percent_visitor = num_visitor / total_residents_in_origin\n",
    "#     print(origin_cbg, destination_cbg, percent_visitor)\n",
    "    # add an edge/tie between two neighborhoods with weight being percentage of residents from one neighborhood visiting another\n",
    "    G.add_edge(origin_cbg, destination_cbg, weight=percent_visitor)\n",
    "    # G.remove_edge(origin_cbg, destination_cbg) # removing edge"
   ]
  },
  {
   "cell_type": "code",
   "execution_count": 4,
   "metadata": {
    "pycharm": {
     "name": "#%%\n"
    }
   },
   "outputs": [
    {
     "name": "stdout",
     "output_type": "stream",
     "text": [
      "Graph with 40292 nodes and 742299 edges\n"
     ]
    },
    {
     "name": "stderr",
     "output_type": "stream",
     "text": [
      "/var/folders/0f/2vmn8gfj6v973sb5n_jhk8lc0000gn/T/ipykernel_98170/2606185536.py:1: DeprecationWarning: info is deprecated and will be removed in version 3.0.\n",
      "\n",
      "  print(nx.info(G))\n"
     ]
    }
   ],
   "source": [
    "print(nx.info(G))"
   ]
  },
  {
   "cell_type": "markdown",
   "metadata": {
    "pycharm": {
     "name": "#%% md\n"
    }
   },
   "source": [
    "## Task10.2"
   ]
  },
  {
   "cell_type": "code",
   "execution_count": 5,
   "metadata": {
    "pycharm": {
     "name": "#%%\n"
    }
   },
   "outputs": [],
   "source": [
    "weight_dict = G.degree\n",
    "unweight_dict = G.degree(weight='weight')\n",
    "df = pd.DataFrame(columns=[\"census id\", \"weight\", \"unweight\"])\n",
    "df[\"census id\"] = G.nodes\n",
    "weight_list = []\n",
    "unweight_list = []\n",
    "for i in G.nodes:\n",
    "    weight_list.append(weight_dict[i])\n",
    "    unweight_list.append(unweight_dict[i])\n",
    "df[\"weight\"] = weight_list\n",
    "df[\"unweight\"] = unweight_list"
   ]
  },
  {
   "cell_type": "code",
   "execution_count": 6,
   "metadata": {
    "pycharm": {
     "name": "#%%\n"
    }
   },
   "outputs": [
    {
     "data": {
      "text/html": [
       "<div>\n",
       "<style scoped>\n",
       "    .dataframe tbody tr th:only-of-type {\n",
       "        vertical-align: middle;\n",
       "    }\n",
       "\n",
       "    .dataframe tbody tr th {\n",
       "        vertical-align: top;\n",
       "    }\n",
       "\n",
       "    .dataframe thead th {\n",
       "        text-align: right;\n",
       "    }\n",
       "</style>\n",
       "<table border=\"1\" class=\"dataframe\">\n",
       "  <thead>\n",
       "    <tr style=\"text-align: right;\">\n",
       "      <th></th>\n",
       "      <th>census id</th>\n",
       "      <th>weight</th>\n",
       "      <th>unweight</th>\n",
       "    </tr>\n",
       "  </thead>\n",
       "  <tbody>\n",
       "    <tr>\n",
       "      <th>250250303003</th>\n",
       "      <td>250250303003</td>\n",
       "      <td>2936</td>\n",
       "      <td>1.617298</td>\n",
       "    </tr>\n",
       "    <tr>\n",
       "      <th>250251010016</th>\n",
       "      <td>250251010016</td>\n",
       "      <td>609</td>\n",
       "      <td>1.829781</td>\n",
       "    </tr>\n",
       "    <tr>\n",
       "      <th>440070008003</th>\n",
       "      <td>440070008003</td>\n",
       "      <td>77</td>\n",
       "      <td>0.201907</td>\n",
       "    </tr>\n",
       "    <tr>\n",
       "      <th>250250923002</th>\n",
       "      <td>250250923002</td>\n",
       "      <td>600</td>\n",
       "      <td>2.675362</td>\n",
       "    </tr>\n",
       "    <tr>\n",
       "      <th>250173686001</th>\n",
       "      <td>250173686001</td>\n",
       "      <td>3217</td>\n",
       "      <td>1.763752</td>\n",
       "    </tr>\n",
       "    <tr>\n",
       "      <th>...</th>\n",
       "      <td>...</td>\n",
       "      <td>...</td>\n",
       "      <td>...</td>\n",
       "    </tr>\n",
       "    <tr>\n",
       "      <th>170318261003</th>\n",
       "      <td>170318261003</td>\n",
       "      <td>1</td>\n",
       "      <td>0.000726</td>\n",
       "    </tr>\n",
       "    <tr>\n",
       "      <th>120310144111</th>\n",
       "      <td>120310144111</td>\n",
       "      <td>1</td>\n",
       "      <td>0.000726</td>\n",
       "    </tr>\n",
       "    <tr>\n",
       "      <th>530330294073</th>\n",
       "      <td>530330294073</td>\n",
       "      <td>1</td>\n",
       "      <td>0.000726</td>\n",
       "    </tr>\n",
       "    <tr>\n",
       "      <th>360610165001</th>\n",
       "      <td>360610165001</td>\n",
       "      <td>1</td>\n",
       "      <td>0.000726</td>\n",
       "    </tr>\n",
       "    <tr>\n",
       "      <th>390599772002</th>\n",
       "      <td>390599772002</td>\n",
       "      <td>1</td>\n",
       "      <td>0.000726</td>\n",
       "    </tr>\n",
       "  </tbody>\n",
       "</table>\n",
       "<p>40292 rows × 3 columns</p>\n",
       "</div>"
      ],
      "text/plain": [
       "                 census id  weight  unweight\n",
       "250250303003  250250303003    2936  1.617298\n",
       "250251010016  250251010016     609  1.829781\n",
       "440070008003  440070008003      77  0.201907\n",
       "250250923002  250250923002     600  2.675362\n",
       "250173686001  250173686001    3217  1.763752\n",
       "...                    ...     ...       ...\n",
       "170318261003  170318261003       1  0.000726\n",
       "120310144111  120310144111       1  0.000726\n",
       "530330294073  530330294073       1  0.000726\n",
       "360610165001  360610165001       1  0.000726\n",
       "390599772002  390599772002       1  0.000726\n",
       "\n",
       "[40292 rows x 3 columns]"
      ]
     },
     "execution_count": 6,
     "metadata": {},
     "output_type": "execute_result"
    }
   ],
   "source": [
    "df"
   ]
  },
  {
   "cell_type": "markdown",
   "metadata": {
    "pycharm": {
     "name": "#%% md\n"
    }
   },
   "source": [
    "## Task10.3"
   ]
  },
  {
   "cell_type": "code",
   "execution_count": 12,
   "metadata": {
    "pycharm": {
     "name": "#%%\n"
    }
   },
   "outputs": [],
   "source": [
    "import seaborn as sns\n",
    "import math"
   ]
  },
  {
   "cell_type": "code",
   "execution_count": 13,
   "metadata": {
    "pycharm": {
     "name": "#%%\n"
    }
   },
   "outputs": [],
   "source": [
    "node_df = df.reset_index()\n",
    "del node_df[\"index\"]"
   ]
  },
  {
   "cell_type": "code",
   "execution_count": 14,
   "metadata": {
    "pycharm": {
     "name": "#%%\n"
    }
   },
   "outputs": [],
   "source": [
    "node_weight = node_df.groupby(['weight']).agg({'census id': 'count'}).reset_index()\n",
    "node_weight[\"census id_log\"] = list(map(math.log, node_weight[\"census id\"]))\n",
    "node_weight[\"weight_log\"] = list(map(math.log, node_weight[\"weight\"]))"
   ]
  },
  {
   "cell_type": "code",
   "execution_count": 21,
   "metadata": {
    "pycharm": {
     "name": "#%%\n"
    }
   },
   "outputs": [
    {
     "data": {
      "image/png": "[encoded data removed]",
      "text/plain": [
       "<Figure size 432x288 with 1 Axes>"
      ]
     },
     "metadata": {
      "needs_background": "light"
     },
     "output_type": "display_data"
    }
   ],
   "source": [
    "fig_0 = sns.scatterplot(data=node_weight, x='weight', y='census id')"
   ]
  },
  {
   "cell_type": "markdown",
   "metadata": {
    "pycharm": {
     "name": "#%% md\n"
    }
   },
   "source": [
    "according to the definition of scale free network, one significant condition is following the power law. as we can observe from the fig_0, as the weight level incerase in the network, the amount of the node decreased drastically. so the degree distribution did follow the power law \"asymptotically\"."
   ]
  },
  {
   "cell_type": "code",
   "execution_count": 24,
   "metadata": {
    "scrolled": true,
    "pycharm": {
     "name": "#%%\n"
    }
   },
   "outputs": [
    {
     "data": {
      "text/plain": [
       "(0.0, 100.0)"
      ]
     },
     "execution_count": 24,
     "metadata": {},
     "output_type": "execute_result"
    },
    {
     "data": {
      "image/png": "[encoded data removed]",
      "text/plain": [
       "<Figure size 432x288 with 1 Axes>"
      ]
     },
     "metadata": {
      "needs_background": "light"
     },
     "output_type": "display_data"
    }
   ],
   "source": [
    "fig = sns.scatterplot(data=node_weight, x='weight', y='census id')\n",
    "fig.set_xlim([0,100])"
   ]
  },
  {
   "cell_type": "markdown",
   "metadata": {
    "pycharm": {
     "name": "#%% md\n"
    }
   },
   "source": [
    "closer look between the [0,100] we could observe the transition."
   ]
  },
  {
   "cell_type": "code",
   "execution_count": 15,
   "metadata": {
    "pycharm": {
     "name": "#%%\n"
    }
   },
   "outputs": [
    {
     "data": {
      "image/png": "[encoded data removed]",
      "text/plain": [
       "<Figure size 432x288 with 1 Axes>"
      ]
     },
     "metadata": {
      "needs_background": "light"
     },
     "output_type": "display_data"
    }
   ],
   "source": [
    "fig_2 = sns.scatterplot(data=node_weight, x=\"weight_log\", y=\"census id_log\")"
   ]
  },
  {
   "cell_type": "markdown",
   "metadata": {
    "pycharm": {
     "name": "#%% md\n"
    }
   },
   "source": [
    "the distribution of weight and node after decreasing power. "
   ]
  },
  {
   "cell_type": "code",
   "execution_count": null,
   "metadata": {
    "pycharm": {
     "name": "#%%\n"
    }
   },
   "outputs": [],
   "source": []
  }
 ],
 "metadata": {
  "kernelspec": {
   "display_name": "Python 3 (ipykernel)",
   "language": "python",
   "name": "python3"
  },
  "language_info": {
   "codemirror_mode": {
    "name": "ipython",
    "version": 3
   },
   "file_extension": ".py",
   "mimetype": "text/x-python",
   "name": "python",
   "nbconvert_exporter": "python",
   "pygments_lexer": "ipython3",
   "version": "3.9.12"
  }
 },
 "nbformat": 4,
 "nbformat_minor": 2
}