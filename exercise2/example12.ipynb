{
 "cells": [
  {
   "cell_type": "code",
   "execution_count": 3,
   "metadata": {
    "pycharm": {
     "name": "#%%\n"
    }
   },
   "outputs": [
    {
     "name": "stdout",
     "output_type": "stream",
     "text": [
      "How many numbers: 4\n",
      "Enter number 77\n",
      "Enter number 8.9\n",
      "Enter number 9\n",
      "Enter number 8\n",
      "Sum of values in given list is : 102.9\n",
      "give me a number8\n",
      "36.0\n"
     ]
    }
   ],
   "source": [
    "##Section1\n",
    "\n",
    "lst = []\n",
    "num = int(input('How many numbers: '))\n",
    "\n",
    "for n in range(num):\n",
    "    numbers = float(input('Enter number '))\n",
    "    lst.append(numbers)\n",
    "\n",
    "print(\"Sum of values in given list is :\", sum(lst))\n",
    "\n",
    "\n",
    "\n",
    "##section2\n",
    "\n",
    "n=input('give me a number')\n",
    "\n",
    "def IsNumber(n):\n",
    "    x=n.split('.')\n",
    "    if len(x)>2:\n",
    "        if n.isdigit() == \"True\":\n",
    "            print(n.isdigit())\n",
    "        else:\n",
    "             \"is wrong\"\n",
    "    else:\n",
    "        for xx in x:\n",
    "            if  not xx.isdigit():\n",
    "                #print(\"is wrong\")\n",
    "                return \"is wrong\"\n",
    "            else:\n",
    "                #print(int(float(n)))\n",
    "                return int(float(n))\n",
    "\n",
    "\n",
    "y=IsNumber(n)\n",
    "if type(IsNumber(n)) == int:\n",
    "   print((1+y)*y*1/2)\n",
    "else:\n",
    "    print(\"is wrong\")\n",
    "\n",
    "##section3\n",
    "\n",
    "###What does `random.random()` do here?\n",
    "####generate a random floating number between 0.0 and 1.0\n",
    "\n",
    "###What is `random.random`?\n",
    "####generate a random floating number\n",
    "\n",
    "###What do you think the dot symbol `.` is doing here?\n",
    "#### specify the requirement for the random number\n",
    "\n",
    "###What about the first `import random`? What does that do?\n",
    "####import a random module\n",
    "\n",
    "\n",
    "\n",
    "\n",
    "\n",
    "\n",
    "\n",
    "\n",
    "\n",
    "\n",
    "\n",
    "\n",
    "\n"
   ]
  },
  {
   "cell_type": "code",
   "execution_count": null,
   "metadata": {
    "pycharm": {
     "is_executing": true,
     "name": "#%%\n"
    }
   },
   "outputs": [],
   "source": []
  },
  {
   "cell_type": "code",
   "execution_count": null,
   "metadata": {
    "pycharm": {
     "is_executing": true,
     "name": "#%%\n"
    }
   },
   "outputs": [],
   "source": [
    "\n"
   ]
  },
  {
   "cell_type": "code",
   "execution_count": null,
   "metadata": {
    "pycharm": {
     "name": "#%%\n"
    }
   },
   "outputs": [],
   "source": []
  }
 ],
 "metadata": {
  "kernelspec": {
   "display_name": "Python 3 (ipykernel)",
   "language": "python",
   "name": "python3"
  },
  "language_info": {
   "codemirror_mode": {
    "name": "ipython",
    "version": 3
   },
   "file_extension": ".py",
   "mimetype": "text/x-python",
   "name": "python",
   "nbconvert_exporter": "python",
   "pygments_lexer": "ipython3",
   "version": "3.9.12"
  }
 },
 "nbformat": 4,
 "nbformat_minor": 1
}