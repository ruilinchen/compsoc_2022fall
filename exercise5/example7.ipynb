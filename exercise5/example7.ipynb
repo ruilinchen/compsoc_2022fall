{
 "cells": [
  {
   "cell_type": "code",
   "execution_count": 9,
   "id": "c93dfe36",
   "metadata": {
    "pycharm": {
     "name": "#%%\n"
    }
   },
   "outputs": [
    {
     "name": "stdout",
     "output_type": "stream",
     "text": [
      "MA_cbg_human_mobility_2019/\n",
      "MA_cbg_human_mobility_2019/MA_cbg2cbg_2019_09.csv\n",
      "__MACOSX/MA_cbg_human_mobility_2019/._MA_cbg2cbg_2019_09.csv\n",
      "MA_cbg_human_mobility_2019/MA_cbg2cbg_2019_08.csv\n",
      "__MACOSX/MA_cbg_human_mobility_2019/._MA_cbg2cbg_2019_08.csv\n",
      "MA_cbg_human_mobility_2019/.DS_Store\n",
      "__MACOSX/MA_cbg_human_mobility_2019/._.DS_Store\n",
      "MA_cbg_human_mobility_2019/README.txt\n",
      "__MACOSX/MA_cbg_human_mobility_2019/._README.txt\n",
      "MA_cbg_human_mobility_2019/MA_cbg2cbg_2019_03.csv\n",
      "__MACOSX/MA_cbg_human_mobility_2019/._MA_cbg2cbg_2019_03.csv\n",
      "MA_cbg_human_mobility_2019/MA_cbg2cbg_2019_02.csv\n",
      "__MACOSX/MA_cbg_human_mobility_2019/._MA_cbg2cbg_2019_02.csv\n",
      "MA_cbg_human_mobility_2019/MA_cbg2cbg_2019_01.csv\n",
      "__MACOSX/MA_cbg_human_mobility_2019/._MA_cbg2cbg_2019_01.csv\n",
      "MA_cbg_human_mobility_2019/MA_cbg2cbg_2019_05.csv\n",
      "__MACOSX/MA_cbg_human_mobility_2019/._MA_cbg2cbg_2019_05.csv\n",
      "MA_cbg_human_mobility_2019/MA_cbg2cbg_2019_11.csv\n",
      "__MACOSX/MA_cbg_human_mobility_2019/._MA_cbg2cbg_2019_11.csv\n",
      "MA_cbg_human_mobility_2019/MA_cbg2cbg_2019_10.csv\n",
      "__MACOSX/MA_cbg_human_mobility_2019/._MA_cbg2cbg_2019_10.csv\n",
      "MA_cbg_human_mobility_2019/MA_cbg2cbg_2019_04.csv\n",
      "__MACOSX/MA_cbg_human_mobility_2019/._MA_cbg2cbg_2019_04.csv\n",
      "MA_cbg_human_mobility_2019/MA_cbg2cbg_2019_12.csv\n",
      "__MACOSX/MA_cbg_human_mobility_2019/._MA_cbg2cbg_2019_12.csv\n",
      "MA_cbg_human_mobility_2019/MA_cbg2cbg_2019_06.csv\n",
      "__MACOSX/MA_cbg_human_mobility_2019/._MA_cbg2cbg_2019_06.csv\n",
      "MA_cbg_human_mobility_2019/MA_cbg2cbg_2019_07.csv\n",
      "__MACOSX/MA_cbg_human_mobility_2019/._MA_cbg2cbg_2019_07.csv\n"
     ]
    }
   ],
   "source": [
    "import zipfile\n",
    "with zipfile.ZipFile('MA_cbg_human_mobility_2019.zip', 'r') as f:\n",
    "    names = f.namelist()\n",
    "    for elem in names:\n",
    "        print(elem)"
   ]
  },
  {
   "cell_type": "code",
   "execution_count": 34,
   "id": "401b361e",
   "metadata": {
    "pycharm": {
     "name": "#%%\n"
    }
   },
   "outputs": [
    {
     "data": {
      "text/plain": [
       "'/Users/xuetingzhang/Documents/compSoc/MA_cbg_human_mobility_2019'"
      ]
     },
     "execution_count": 34,
     "metadata": {},
     "output_type": "execute_result"
    }
   ],
   "source": [
    "import os\n",
    "os.getcwd()\n",
    "os.chdir('..')\n",
    "os.getcwd()\n",
    "os.chdir('/Users/xuetingzhang/Documents/compSoc/MA_cbg_human_mobility_2019')\n",
    "os.getcwd()"
   ]
  },
  {
   "cell_type": "code",
   "execution_count": 42,
   "id": "c371d0e1",
   "metadata": {
    "pycharm": {
     "name": "#%%\n"
    }
   },
   "outputs": [
    {
     "name": "stdout",
     "output_type": "stream",
     "text": [
      "the sum of total line is 78361137\n"
     ]
    }
   ],
   "source": [
    "import os\n",
    "os.getcwd()\n",
    "import pandas as pd\n",
    "import glob\n",
    "\n",
    "count = 0\n",
    "sumco = 0\n",
    "for file_name in glob.glob('*.csv'):\n",
    "    results = pd.read_csv(file_name)\n",
    "    count += len(results)\n",
    "    sumco += count \n",
    "\n",
    "print('the sum of total line is',sumco)"
   ]
  },
  {
   "cell_type": "code",
   "execution_count": 46,
   "id": "b5b441c8",
   "metadata": {
    "pycharm": {
     "name": "#%%\n"
    }
   },
   "outputs": [
    {
     "name": "stdout",
     "output_type": "stream",
     "text": [
      "{'MA_cbg2cbg_2019_09.csv': 1136953, 'MA_cbg2cbg_2019_08.csv': 1194284, 'MA_cbg2cbg_2019_03.csv': 914653, 'MA_cbg2cbg_2019_02.csv': 818861, 'MA_cbg2cbg_2019_01.csv': 840593, 'MA_cbg2cbg_2019_05.csv': 1088294, 'MA_cbg2cbg_2019_11.csv': 901468, 'MA_cbg2cbg_2019_10.csv': 1010777, 'MA_cbg2cbg_2019_04.csv': 1011374, 'MA_cbg2cbg_2019_12.csv': 950661, 'MA_cbg2cbg_2019_06.csv': 1120696, 'MA_cbg2cbg_2019_07.csv': 1119932}\n"
     ]
    }
   ],
   "source": [
    "import os\n",
    "os.getcwd()\n",
    "import pandas as pd\n",
    "import glob\n",
    "\n",
    "File_lines = {}\n",
    "for file_name in glob.glob('*.csv'):\n",
    "    results = pd.read_csv(file_name)\n",
    "    #print([file_name],len(results))\n",
    "    File_lines[file_name]=len(results)\n",
    "\n",
    "print(File_lines)"
   ]
  },
  {
   "cell_type": "code",
   "execution_count": null,
   "id": "63290702",
   "metadata": {
    "pycharm": {
     "name": "#%%\n"
    }
   },
   "outputs": [],
   "source": []
  }
 ],
 "metadata": {
  "kernelspec": {
   "display_name": "Python 3 (ipykernel)",
   "language": "python",
   "name": "python3"
  },
  "language_info": {
   "codemirror_mode": {
    "name": "ipython",
    "version": 3
   },
   "file_extension": ".py",
   "mimetype": "text/x-python",
   "name": "python",
   "nbconvert_exporter": "python",
   "pygments_lexer": "ipython3",
   "version": "3.9.12"
  }
 },
 "nbformat": 4,
 "nbformat_minor": 5
}