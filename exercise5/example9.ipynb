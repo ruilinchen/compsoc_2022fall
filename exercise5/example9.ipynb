{
 "cells": [
  {
   "cell_type": "code",
   "execution_count": 21,
   "metadata": {
    "collapsed": true,
    "pycharm": {
     "name": "#%%\n"
    }
   },
   "outputs": [
    {
     "name": "stdout",
     "output_type": "stream",
     "text": [
      "MA_cbg_human_mobility_2019/MA_cbg2cbg_2019_09.csv\n",
      "__MACOSX/MA_cbg_human_mobility_2019/._MA_cbg2cbg_2019_09.csv\n",
      "MA_cbg_human_mobility_2019/MA_cbg2cbg_2019_08.csv\n",
      "__MACOSX/MA_cbg_human_mobility_2019/._MA_cbg2cbg_2019_08.csv\n",
      "MA_cbg_human_mobility_2019/MA_cbg2cbg_2019_03.csv\n",
      "__MACOSX/MA_cbg_human_mobility_2019/._MA_cbg2cbg_2019_03.csv\n",
      "MA_cbg_human_mobility_2019/MA_cbg2cbg_2019_02.csv\n",
      "__MACOSX/MA_cbg_human_mobility_2019/._MA_cbg2cbg_2019_02.csv\n",
      "MA_cbg_human_mobility_2019/MA_cbg2cbg_2019_01.csv\n",
      "__MACOSX/MA_cbg_human_mobility_2019/._MA_cbg2cbg_2019_01.csv\n",
      "MA_cbg_human_mobility_2019/MA_cbg2cbg_2019_05.csv\n",
      "__MACOSX/MA_cbg_human_mobility_2019/._MA_cbg2cbg_2019_05.csv\n",
      "MA_cbg_human_mobility_2019/MA_cbg2cbg_2019_11.csv\n",
      "__MACOSX/MA_cbg_human_mobility_2019/._MA_cbg2cbg_2019_11.csv\n",
      "MA_cbg_human_mobility_2019/MA_cbg2cbg_2019_10.csv\n",
      "__MACOSX/MA_cbg_human_mobility_2019/._MA_cbg2cbg_2019_10.csv\n",
      "MA_cbg_human_mobility_2019/MA_cbg2cbg_2019_04.csv\n",
      "__MACOSX/MA_cbg_human_mobility_2019/._MA_cbg2cbg_2019_04.csv\n",
      "MA_cbg_human_mobility_2019/MA_cbg2cbg_2019_12.csv\n",
      "__MACOSX/MA_cbg_human_mobility_2019/._MA_cbg2cbg_2019_12.csv\n",
      "MA_cbg_human_mobility_2019/MA_cbg2cbg_2019_06.csv\n",
      "__MACOSX/MA_cbg_human_mobility_2019/._MA_cbg2cbg_2019_06.csv\n",
      "MA_cbg_human_mobility_2019/MA_cbg2cbg_2019_07.csv\n",
      "__MACOSX/MA_cbg_human_mobility_2019/._MA_cbg2cbg_2019_07.csv\n"
     ]
    }
   ],
   "source": [
    "#csv files in zip\n",
    "import zipfile\n",
    "with zipfile.ZipFile('MA_cbg_human_mobility_2019.zip') as zipfiles:\n",
    "    files = zipfiles.namelist()\n",
    "    for file in files:\n",
    "        if file.endswith('csv'):\n",
    "            print(file)\n",
    "\n"
   ]
  },
  {
   "cell_type": "code",
   "execution_count": 53,
   "outputs": [
    {
     "name": "stdout",
     "output_type": "stream",
     "text": [
      "Total Number of lines: 12108558\n"
     ]
    }
   ],
   "source": [
    "#lines in csv files\n",
    "import os\n",
    "path = os.listdir('/Users/rebsconvi/Desktop/class related docs/compSoc/code/assignment5/MA_cbg_human_mobility_2019')\n",
    "count = 0\n",
    "for file in path:\n",
    "    if file.endswith('.csv'):\n",
    "        lines = open(file, 'r')\n",
    "        numlines = len(lines.readlines())\n",
    "        count += numlines\n",
    "print('Total Number of lines:', count)\n"
   ],
   "metadata": {
    "collapsed": false,
    "pycharm": {
     "name": "#%%\n"
    }
   }
  },
  {
   "cell_type": "code",
   "execution_count": 56,
   "outputs": [
    {
     "name": "stdout",
     "output_type": "stream",
     "text": [
      "{\n",
      "            \"MA_cbg2cbg_2019_09.csv\": 1136954,\n",
      "            \"MA_cbg2cbg_2019_08.csv\": 1194285,\n",
      "            \"MA_cbg2cbg_2019_03.csv\": 914654,\n",
      "            \"MA_cbg2cbg_2019_02.csv\": 818862,\n",
      "            \"MA_cbg2cbg_2019_01.csv\": 840594,\n",
      "            \"MA_cbg2cbg_2019_05.csv\": 1088295,\n",
      "            \"MA_cbg2cbg_2019_11.csv\": 901469,\n",
      "            \"MA_cbg2cbg_2019_10.csv\": 1010778,\n",
      "            \"MA_cbg2cbg_2019_04.csv\": 1011375,\n",
      "            \"MA_cbg2cbg_2019_12.csv\": 950662,\n",
      "            \"MA_cbg2cbg_2019_06.csv\": 1120697,\n",
      "            \"MA_cbg2cbg_2019_07.csv\": 1119933\n",
      "}\n"
     ]
    }
   ],
   "source": [
    "#dictionary of line counts\n",
    "import os\n",
    "import json\n",
    "path = os.listdir('/Users/rebsconvi/Desktop/class related docs/compSoc/code/assignment5/MA_cbg_human_mobility_2019')\n",
    "csvdict = dict()\n",
    "for file in path:\n",
    "    if file.endswith('.csv'):\n",
    "        lines = open(file, 'r')\n",
    "        numlines = len(lines.readlines())\n",
    "        csvdict[file] = numlines\n",
    "jsondict = json.dumps(csvdict, indent = 12)\n",
    "with open('csvDictionary.json', 'w') as outfile:\n",
    "    outfile.write(jsondict)\n",
    "print(jsondict)"
   ],
   "metadata": {
    "collapsed": false,
    "pycharm": {
     "name": "#%%\n"
    }
   }
  },
  {
   "cell_type": "code",
   "execution_count": null,
   "outputs": [],
   "source": [],
   "metadata": {
    "collapsed": false,
    "pycharm": {
     "name": "#%%\n"
    }
   }
  }
 ],
 "metadata": {
  "kernelspec": {
   "display_name": "Python 3",
   "language": "python",
   "name": "python3"
  },
  "language_info": {
   "codemirror_mode": {
    "name": "ipython",
    "version": 2
   },
   "file_extension": ".py",
   "mimetype": "text/x-python",
   "name": "python",
   "nbconvert_exporter": "python",
   "pygments_lexer": "ipython2",
   "version": "2.7.6"
  }
 },
 "nbformat": 4,
 "nbformat_minor": 0
}