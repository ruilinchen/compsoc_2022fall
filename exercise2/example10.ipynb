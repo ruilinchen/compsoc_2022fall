{
 "cells": [
  {
   "cell_type": "markdown",
   "id": "b9d77e95",
   "metadata": {
    "pycharm": {
     "name": "#%% md\n"
    }
   },
   "source": [
    "# Exercise 2\n",
    "[editted]\n",
    "09/07/2022"
   ]
  },
  {
   "cell_type": "markdown",
   "id": "e321711c",
   "metadata": {
    "pycharm": {
     "name": "#%% md\n"
    }
   },
   "source": [
    "### Table of Contents\n",
    "* Task 2.1: sumForFour Function \n",
    "* Task 2.2: Returning the sum\n",
    "* Task 2.3: What is random.random()?"
   ]
  },
  {
   "cell_type": "markdown",
   "id": "4aed6ee5",
   "metadata": {
    "pycharm": {
     "name": "#%% md\n"
    }
   },
   "source": [
    "### Task 2.1: sumForFour Function "
   ]
  },
  {
   "cell_type": "code",
   "execution_count": 6,
   "id": "ac0ebb0b",
   "metadata": {
    "pycharm": {
     "name": "#%%\n"
    }
   },
   "outputs": [
    {
     "name": "stdout",
     "output_type": "stream",
     "text": [
      "Your sum is 10.\n",
      "Your sum is 11.3.\n",
      "Sorry! There is an error.\n"
     ]
    }
   ],
   "source": [
    "# Write sumForFour Function\n",
    "\n",
    "def sumForFour(num_1,num_2,num_3,num_4): # Taking 4 inputs\n",
    "    if type(num_1) == str or type(num_2) == str or type(num_3) == str or type(num_4) == str: \n",
    "        print(f\"Sorry! There is an error.\")\n",
    "        # Checking string condition, if it is the string, you will get error message\n",
    "        # if any of the input numbers is str, the function will return error message\n",
    "    else:\n",
    "        sum_num = num_1+num_2+num_3+num_4 \n",
    "        print(f\"Your sum is {sum_num}.\")\n",
    "        # If the number is not string, you will return the sum of four numbers\n",
    "\n",
    "sumForFour(1,2,3,4) # Checking integers: returning 10\n",
    "sumForFour(1.1,2.2,3.4,4.6) # Checking floats: returning 11.3\n",
    "sumForFour(1,\"2\",\"yes\",\"na\") # Checking string: returning error message"
   ]
  },
  {
   "cell_type": "markdown",
   "id": "3c21cd7d",
   "metadata": {
    "pycharm": {
     "name": "#%% md\n"
    }
   },
   "source": [
    "### Task 2.2: Returning the sum"
   ]
  },
  {
   "cell_type": "code",
   "execution_count": 11,
   "id": "3fd03ba9",
   "metadata": {
    "pycharm": {
     "name": "#%%\n"
    }
   },
   "outputs": [
    {
     "name": "stdout",
     "output_type": "stream",
     "text": [
      "Please enter your number: 12\n"
     ]
    },
    {
     "data": {
      "text/plain": [
       "'Your sum is 78.'"
      ]
     },
     "execution_count": 11,
     "metadata": {},
     "output_type": "execute_result"
    }
   ],
   "source": [
    "# Write an function and n as an input\n",
    "\n",
    "def sum_lst_to_n():\n",
    "    count = 1\n",
    "    # Set a tracking number starting at 1\n",
    "    n_lst = []\n",
    "    # Creating a list to store all the numbers\n",
    "    n = input(\"Please enter your number: \")\n",
    "    # Let user to put an input\n",
    "    try:\n",
    "        if \".\" in n:\n",
    "            # Checking the state of float\n",
    "            n = float(n)\n",
    "            # Turning the str into float\n",
    "            while count <= n:\n",
    "                n_lst.append(count)\n",
    "                count += 1\n",
    "                # This while function gets the number before n\n",
    "            n_lst.append(n)\n",
    "            # Adding n to the list\n",
    "            sum_lst = sum(n_lst)\n",
    "            # Getting the sum of the list\n",
    "            return f'Your sum is {sum_lst}. Warning!!! You have entered a float.'\n",
    "            # Returning the message when the number n is a float\n",
    "        elif \".\" not in n:\n",
    "            # Checking the state of integer\n",
    "            n = int(n)\n",
    "            while count <= n:\n",
    "                n_lst.append(count)\n",
    "                count += 1\n",
    "                # This while function gets the number before n\n",
    "            sum_lst = sum(n_lst)\n",
    "            # Getting the sum of the list\n",
    "            return f'Your sum is {sum_lst}.'\n",
    "            # Return the message when n is the integer\n",
    "    except:\n",
    "        print(\"There is an Error!\")\n",
    "        # Print the message when the number n is neither an integer nor float.\n",
    "\n",
    "\n",
    "\n",
    "sum_lst_to_n()\n"
   ]
  },
  {
   "cell_type": "markdown",
   "id": "d168eaf5",
   "metadata": {
    "pycharm": {
     "name": "#%% md\n"
    }
   },
   "source": [
    "### Task 2.3: What is random.random()?"
   ]
  },
  {
   "cell_type": "code",
   "execution_count": 4,
   "id": "007c5fe4",
   "metadata": {
    "pycharm": {
     "name": "#%%\n"
    }
   },
   "outputs": [
    {
     "data": {
      "text/plain": [
       "0.7029378502996622"
      ]
     },
     "execution_count": 4,
     "metadata": {},
     "output_type": "execute_result"
    }
   ],
   "source": [
    "import random\n",
    "# Import random package\n",
    "random.random()\n",
    "# run random() in random package"
   ]
  },
  {
   "cell_type": "markdown",
   "id": "f2b81141",
   "metadata": {
    "pycharm": {
     "name": "#%% md\n"
    }
   },
   "source": [
    "Q1. What does `random.random()` do here?\n",
    "\n",
    "* random.random() returns a random number (float number) that is smaller than 1 and bigger than 0.\n",
    "\n",
    "Q2. What is `random.random`?\n",
    "\n",
    "* It is the algrism that randomly generates a number for user.\n",
    "\n",
    "Q3. What do you think the dot symbol `.` is doing here?\n",
    "\n",
    "* The random before \".\" is the package you imported, and the second random is the function in the package. Thus, \".\" separates the package and the specific function within. In other words, \".\" let you use that specific function from the package you imported.\n",
    "\n",
    "Q4. What about the first `import random`? What does that do?\n",
    "\n",
    "* You can import the random package in python for you to use. Then, you can use various functions listed in the random package.\n",
    "\n"
   ]
  }
 ],
 "metadata": {
  "kernelspec": {
   "display_name": "Python [conda env:compsoc] *",
   "language": "python",
   "name": "conda-env-compsoc-py"
  },
  "language_info": {
   "codemirror_mode": {
    "name": "ipython",
    "version": 3
   },
   "file_extension": ".py",
   "mimetype": "text/x-python",
   "name": "python",
   "nbconvert_exporter": "python",
   "pygments_lexer": "ipython3",
   "version": "3.8.13"
  }
 },
 "nbformat": 4,
 "nbformat_minor": 5
}