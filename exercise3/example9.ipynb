{
 "cells": [
  {
   "cell_type": "markdown",
   "id": "69f57830",
   "metadata": {
    "pycharm": {
     "name": "#%% md\n"
    }
   },
   "source": [
    "# Coding Exercise 3\n",
    "## Task 3.1\n",
    "The following function takes a list of numbers as input and returns the difference between the largest and smallest elements."
   ]
  },
  {
   "cell_type": "code",
   "execution_count": 3,
   "id": "c3ca163f",
   "metadata": {
    "pycharm": {
     "name": "#%%\n"
    }
   },
   "outputs": [],
   "source": [
    "def largestMinusSmallest(numList):\n",
    "    try:\n",
    "        large=numList[0]\n",
    "        small=numList[0]\n",
    "        for i in range(len(numList)):\n",
    "            if(numList[i]>large):\n",
    "                large=numList[i]\n",
    "            elif(numList[i]<small):\n",
    "                small=numList[i]\n",
    "        return large-small\n",
    "    except:\n",
    "        return \"ERROR: Invalid Input!\""
   ]
  },
  {
   "cell_type": "code",
   "execution_count": 4,
   "id": "219699a5",
   "metadata": {
    "pycharm": {
     "name": "#%%\n"
    }
   },
   "outputs": [
    {
     "data": {
      "text/plain": [
       "4"
      ]
     },
     "execution_count": 4,
     "metadata": {},
     "output_type": "execute_result"
    }
   ],
   "source": [
    "largestMinusSmallest([1,2,3,4,5])"
   ]
  },
  {
   "cell_type": "code",
   "execution_count": 5,
   "id": "16438a63",
   "metadata": {
    "pycharm": {
     "name": "#%%\n"
    }
   },
   "outputs": [
    {
     "data": {
      "text/plain": [
       "4"
      ]
     },
     "execution_count": 5,
     "metadata": {},
     "output_type": "execute_result"
    }
   ],
   "source": [
    "largestMinusSmallest([5,4,3,2,1])"
   ]
  },
  {
   "cell_type": "code",
   "execution_count": 6,
   "id": "d6e927df",
   "metadata": {
    "pycharm": {
     "name": "#%%\n"
    }
   },
   "outputs": [
    {
     "data": {
      "text/plain": [
       "4"
      ]
     },
     "execution_count": 6,
     "metadata": {},
     "output_type": "execute_result"
    }
   ],
   "source": [
    "largestMinusSmallest([4,3,2,1,5])"
   ]
  },
  {
   "cell_type": "code",
   "execution_count": 7,
   "id": "bf5d3a90",
   "metadata": {
    "pycharm": {
     "name": "#%%\n"
    }
   },
   "outputs": [
    {
     "data": {
      "text/plain": [
       "'ERROR: Invalid Input!'"
      ]
     },
     "execution_count": 7,
     "metadata": {},
     "output_type": "execute_result"
    }
   ],
   "source": [
    "largestMinusSmallest([\"a\",\"b\",\"c\",\"10\",\"24\"])"
   ]
  },
  {
   "cell_type": "markdown",
   "id": "fad52a1a",
   "metadata": {
    "pycharm": {
     "name": "#%% md\n"
    }
   },
   "source": [
    "## Task 3.2\n",
    "The following function takes two lists as input and returns a combined list that alternates between their elements. i.e. [a,b,c], [1,2,3] → [a,1,b,2,c,3]. "
   ]
  },
  {
   "cell_type": "code",
   "execution_count": 20,
   "id": "de7004d2",
   "metadata": {
    "pycharm": {
     "name": "#%%\n"
    }
   },
   "outputs": [],
   "source": [
    "def combine(list1,list2):\n",
    "    result=[]\n",
    "    if(len(list1)==len(list2)):\n",
    "        for i in range(len(list1)):\n",
    "            result.append(list1[i])\n",
    "            result.append(list2[i])\n",
    "    else:\n",
    "        if(len(list1)>len(list2)):\n",
    "            larger=list1\n",
    "            shorter=list2\n",
    "        else:\n",
    "            larger=list2\n",
    "            shorter=list1\n",
    "        for i in range(len(shorter)):\n",
    "            result.append(larger[i])\n",
    "            result.append(shorter[i])\n",
    "        for i in range(len(shorter),len(larger)):\n",
    "            result.append(larger[i])\n",
    "    return result"
   ]
  },
  {
   "cell_type": "code",
   "execution_count": 21,
   "id": "f7c6eda8",
   "metadata": {
    "pycharm": {
     "name": "#%%\n"
    }
   },
   "outputs": [
    {
     "data": {
      "text/plain": [
       "['a', 1, 'b', 2, 'c', 3]"
      ]
     },
     "execution_count": 21,
     "metadata": {},
     "output_type": "execute_result"
    }
   ],
   "source": [
    "combine([\"a\",\"b\",\"c\"],[1,2,3])"
   ]
  },
  {
   "cell_type": "code",
   "execution_count": 22,
   "id": "eeaaf739",
   "metadata": {
    "scrolled": true,
    "pycharm": {
     "name": "#%%\n"
    }
   },
   "outputs": [
    {
     "data": {
      "text/plain": [
       "[1, 'a', 2, 'b', 3, 4]"
      ]
     },
     "execution_count": 22,
     "metadata": {},
     "output_type": "execute_result"
    }
   ],
   "source": [
    "combine([1,2,3,4],[\"a\",\"b\"])"
   ]
  },
  {
   "cell_type": "markdown",
   "id": "3a3224fe",
   "metadata": {
    "pycharm": {
     "name": "#%% md\n"
    }
   },
   "source": [
    "## Task 3.3\n",
    "The following function takes a list as input and returns a dictionary with the elements as keys and their frequency as values. "
   ]
  },
  {
   "cell_type": "code",
   "execution_count": 23,
   "id": "638dd872",
   "metadata": {
    "pycharm": {
     "name": "#%%\n"
    }
   },
   "outputs": [],
   "source": [
    "def elementFreq(stuff):\n",
    "    freq={}\n",
    "    for i in range(len(stuff)):\n",
    "        if(stuff[i] not in freq):\n",
    "            freq[stuff[i]]=1\n",
    "        else:\n",
    "            freq[stuff[i]]+=1\n",
    "    return freq"
   ]
  },
  {
   "cell_type": "code",
   "execution_count": 24,
   "id": "23d739dd",
   "metadata": {
    "pycharm": {
     "name": "#%%\n"
    }
   },
   "outputs": [
    {
     "data": {
      "text/plain": [
       "{'a': 2, 'b': 1}"
      ]
     },
     "execution_count": 24,
     "metadata": {},
     "output_type": "execute_result"
    }
   ],
   "source": [
    "elementFreq(['a', 'b', 'a'])"
   ]
  },
  {
   "cell_type": "code",
   "execution_count": 25,
   "id": "3f379c22",
   "metadata": {
    "pycharm": {
     "name": "#%%\n"
    }
   },
   "outputs": [
    {
     "data": {
      "text/plain": [
       "{1: 1, 2: 3, 'a': 2}"
      ]
     },
     "execution_count": 25,
     "metadata": {},
     "output_type": "execute_result"
    }
   ],
   "source": [
    "elementFreq([1,2,2,2,'a','a'])"
   ]
  },
  {
   "cell_type": "markdown",
   "id": "a72d3de2",
   "metadata": {
    "pycharm": {
     "name": "#%% md\n"
    }
   },
   "source": [
    "## Task 3.4\n",
    "The following function takes two lists and input and returns a set containing only elements that are common in both lists (with no duplicates)."
   ]
  },
  {
   "cell_type": "code",
   "execution_count": 26,
   "id": "9c80481b",
   "metadata": {
    "pycharm": {
     "name": "#%%\n"
    }
   },
   "outputs": [],
   "source": [
    "def intersection(list1, list2):\n",
    "    result=set()\n",
    "    for i in range(len(list1)):\n",
    "        if(list1[i] in list2):\n",
    "            result.add(list1[i])\n",
    "    return result"
   ]
  },
  {
   "cell_type": "code",
   "execution_count": 27,
   "id": "1d18e23c",
   "metadata": {
    "pycharm": {
     "name": "#%%\n"
    }
   },
   "outputs": [
    {
     "data": {
      "text/plain": [
       "{'c'}"
      ]
     },
     "execution_count": 27,
     "metadata": {},
     "output_type": "execute_result"
    }
   ],
   "source": [
    "intersection(['a','b','c'],['c','d','e'])"
   ]
  },
  {
   "cell_type": "code",
   "execution_count": 28,
   "id": "3b77a90a",
   "metadata": {
    "pycharm": {
     "name": "#%%\n"
    }
   },
   "outputs": [
    {
     "data": {
      "text/plain": [
       "{'a', 'b'}"
      ]
     },
     "execution_count": 28,
     "metadata": {},
     "output_type": "execute_result"
    }
   ],
   "source": [
    "intersection(['a','a','b','c'],['a','b'])"
   ]
  }
 ],
 "metadata": {
  "kernelspec": {
   "display_name": "Python [conda env:compsoc] *",
   "language": "python",
   "name": "conda-env-compsoc-py"
  },
  "language_info": {
   "codemirror_mode": {
    "name": "ipython",
    "version": 3
   },
   "file_extension": ".py",
   "mimetype": "text/x-python",
   "name": "python",
   "nbconvert_exporter": "python",
   "pygments_lexer": "ipython3",
   "version": "3.8.13"
  }
 },
 "nbformat": 4,
 "nbformat_minor": 5
}