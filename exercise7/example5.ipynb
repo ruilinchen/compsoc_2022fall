{
 "cells": [
  {
   "cell_type": "code",
   "execution_count": 30,
   "id": "bd74f79e",
   "metadata": {
    "pycharm": {
     "name": "#%%\n"
    }
   },
   "outputs": [],
   "source": [
    "import numpy as np\n",
    "import pandas as pd\n",
    "import matplotlib.pyplot as plt"
   ]
  },
  {
   "cell_type": "code",
   "execution_count": null,
   "id": "5a94ad9f",
   "metadata": {
    "pycharm": {
     "name": "#%%\n"
    }
   },
   "outputs": [],
   "source": [
    "df_2019 = pd.read_csv(\"/Users/[editted]/Desktop/others/CRIME_INCIDENT_REPORTS_2019.csv\")\n",
    "df_2020 = pd.read_csv(\"/Users/[editted]/Desktop/others/CRIME_INCIDENT_REPORTS_2020.csv\")"
   ]
  },
  {
   "cell_type": "code",
   "execution_count": 47,
   "id": "70a3b21a",
   "metadata": {
    "pycharm": {
     "name": "#%%\n"
    }
   },
   "outputs": [
    {
     "data": {
      "text/html": [
       "<div>\n",
       "<style scoped>\n",
       "    .dataframe tbody tr th:only-of-type {\n",
       "        vertical-align: middle;\n",
       "    }\n",
       "\n",
       "    .dataframe tbody tr th {\n",
       "        vertical-align: top;\n",
       "    }\n",
       "\n",
       "    .dataframe thead th {\n",
       "        text-align: right;\n",
       "    }\n",
       "</style>\n",
       "<table border=\"1\" class=\"dataframe\">\n",
       "  <thead>\n",
       "    <tr style=\"text-align: right;\">\n",
       "      <th></th>\n",
       "      <th>INCIDENT_NUMBER</th>\n",
       "      <th>OFFENSE_CODE</th>\n",
       "      <th>OFFENSE_CODE_GROUP</th>\n",
       "      <th>OFFENSE_DESCRIPTION</th>\n",
       "      <th>DISTRICT</th>\n",
       "      <th>REPORTING_AREA</th>\n",
       "      <th>SHOOTING</th>\n",
       "      <th>OCCURRED_ON_DATE</th>\n",
       "      <th>YEAR</th>\n",
       "      <th>MONTH</th>\n",
       "      <th>DAY_OF_WEEK</th>\n",
       "      <th>HOUR</th>\n",
       "      <th>UCR_PART</th>\n",
       "      <th>STREET</th>\n",
       "      <th>Lat</th>\n",
       "      <th>Long</th>\n",
       "      <th>Location</th>\n",
       "    </tr>\n",
       "  </thead>\n",
       "  <tbody>\n",
       "    <tr>\n",
       "      <th>0</th>\n",
       "      <td>854652314</td>\n",
       "      <td>3115</td>\n",
       "      <td>NaN</td>\n",
       "      <td>INVESTIGATE PERSON</td>\n",
       "      <td>B2</td>\n",
       "      <td>289</td>\n",
       "      <td>0</td>\n",
       "      <td>2020-02-20 00:00:00</td>\n",
       "      <td>2020</td>\n",
       "      <td>2</td>\n",
       "      <td>Thursday</td>\n",
       "      <td>0</td>\n",
       "      <td>NaN</td>\n",
       "      <td>SCHROEDER PLZ</td>\n",
       "      <td>42.333679</td>\n",
       "      <td>-71.091878</td>\n",
       "      <td>(42.3336792181085, -71.0918775461846)</td>\n",
       "    </tr>\n",
       "    <tr>\n",
       "      <th>1</th>\n",
       "      <td>457856954</td>\n",
       "      <td>3115</td>\n",
       "      <td>NaN</td>\n",
       "      <td>INVESTIGATE PERSON</td>\n",
       "      <td>B2</td>\n",
       "      <td>289</td>\n",
       "      <td>0</td>\n",
       "      <td>2020-02-21 01:42:00</td>\n",
       "      <td>2020</td>\n",
       "      <td>2</td>\n",
       "      <td>Friday</td>\n",
       "      <td>1</td>\n",
       "      <td>NaN</td>\n",
       "      <td>SCHROEDER PLZ</td>\n",
       "      <td>42.333679</td>\n",
       "      <td>-71.091878</td>\n",
       "      <td>(42.3336792181085, -71.0918775461846)</td>\n",
       "    </tr>\n",
       "    <tr>\n",
       "      <th>2</th>\n",
       "      <td>302030654</td>\n",
       "      <td>1106</td>\n",
       "      <td>NaN</td>\n",
       "      <td>FRAUD - CREDIT CARD / ATM FRAUD</td>\n",
       "      <td>D4</td>\n",
       "      <td>167</td>\n",
       "      <td>0</td>\n",
       "      <td>2020-04-24 13:00:00</td>\n",
       "      <td>2020</td>\n",
       "      <td>4</td>\n",
       "      <td>Friday</td>\n",
       "      <td>13</td>\n",
       "      <td>NaN</td>\n",
       "      <td>MASSACHUSETTS AVE</td>\n",
       "      <td>42.339542</td>\n",
       "      <td>-71.069409</td>\n",
       "      <td>(42.3395419898301, -71.0694087696754)</td>\n",
       "    </tr>\n",
       "    <tr>\n",
       "      <th>3</th>\n",
       "      <td>212025777</td>\n",
       "      <td>1108</td>\n",
       "      <td>NaN</td>\n",
       "      <td>FRAUD - WELFARE</td>\n",
       "      <td>A7</td>\n",
       "      <td>28</td>\n",
       "      <td>0</td>\n",
       "      <td>2020-05-01 00:00:00</td>\n",
       "      <td>2020</td>\n",
       "      <td>5</td>\n",
       "      <td>Friday</td>\n",
       "      <td>0</td>\n",
       "      <td>NaN</td>\n",
       "      <td>TRENTON ST</td>\n",
       "      <td>42.370818</td>\n",
       "      <td>-71.039291</td>\n",
       "      <td>(42.3708180467024, -71.0392907813515)</td>\n",
       "    </tr>\n",
       "    <tr>\n",
       "      <th>4</th>\n",
       "      <td>212025557</td>\n",
       "      <td>2670</td>\n",
       "      <td>NaN</td>\n",
       "      <td>HARASSMENT/ CRIMINAL HARASSMENT</td>\n",
       "      <td>A1</td>\n",
       "      <td>77</td>\n",
       "      <td>0</td>\n",
       "      <td>2020-09-07 00:00:00</td>\n",
       "      <td>2020</td>\n",
       "      <td>9</td>\n",
       "      <td>Monday</td>\n",
       "      <td>0</td>\n",
       "      <td>NaN</td>\n",
       "      <td>PRINCE ST</td>\n",
       "      <td>42.361839</td>\n",
       "      <td>-71.059765</td>\n",
       "      <td>(42.3618385665647, -71.0597648909416)</td>\n",
       "    </tr>\n",
       "  </tbody>\n",
       "</table>\n",
       "</div>"
      ],
      "text/plain": [
       "  INCIDENT_NUMBER  OFFENSE_CODE  OFFENSE_CODE_GROUP  \\\n",
       "0       854652314          3115                 NaN   \n",
       "1       457856954          3115                 NaN   \n",
       "2       302030654          1106                 NaN   \n",
       "3       212025777          1108                 NaN   \n",
       "4       212025557          2670                 NaN   \n",
       "\n",
       "               OFFENSE_DESCRIPTION DISTRICT REPORTING_AREA  SHOOTING  \\\n",
       "0               INVESTIGATE PERSON       B2            289         0   \n",
       "1               INVESTIGATE PERSON       B2            289         0   \n",
       "2  FRAUD - CREDIT CARD / ATM FRAUD       D4            167         0   \n",
       "3                  FRAUD - WELFARE       A7             28         0   \n",
       "4  HARASSMENT/ CRIMINAL HARASSMENT       A1             77         0   \n",
       "\n",
       "      OCCURRED_ON_DATE  YEAR  MONTH DAY_OF_WEEK  HOUR  UCR_PART  \\\n",
       "0  2020-02-20 00:00:00  2020      2    Thursday     0       NaN   \n",
       "1  2020-02-21 01:42:00  2020      2      Friday     1       NaN   \n",
       "2  2020-04-24 13:00:00  2020      4      Friday    13       NaN   \n",
       "3  2020-05-01 00:00:00  2020      5      Friday     0       NaN   \n",
       "4  2020-09-07 00:00:00  2020      9      Monday     0       NaN   \n",
       "\n",
       "              STREET        Lat       Long  \\\n",
       "0      SCHROEDER PLZ  42.333679 -71.091878   \n",
       "1      SCHROEDER PLZ  42.333679 -71.091878   \n",
       "2  MASSACHUSETTS AVE  42.339542 -71.069409   \n",
       "3         TRENTON ST  42.370818 -71.039291   \n",
       "4          PRINCE ST  42.361839 -71.059765   \n",
       "\n",
       "                                Location  \n",
       "0  (42.3336792181085, -71.0918775461846)  \n",
       "1  (42.3336792181085, -71.0918775461846)  \n",
       "2  (42.3395419898301, -71.0694087696754)  \n",
       "3  (42.3708180467024, -71.0392907813515)  \n",
       "4  (42.3618385665647, -71.0597648909416)  "
      ]
     },
     "execution_count": 47,
     "metadata": {},
     "output_type": "execute_result"
    }
   ],
   "source": [
    "df_2020.head()"
   ]
  },
  {
   "cell_type": "code",
   "execution_count": 33,
   "id": "cf435dd4",
   "metadata": {
    "pycharm": {
     "name": "#%%\n"
    }
   },
   "outputs": [
    {
     "data": {
      "text/plain": [
       "array(['INCIDENT_NUMBER', 'OFFENSE_CODE', 'OFFENSE_CODE_GROUP',\n",
       "       'OFFENSE_DESCRIPTION', 'DISTRICT', 'REPORTING_AREA', 'SHOOTING',\n",
       "       'OCCURRED_ON_DATE', 'YEAR', 'MONTH', 'DAY_OF_WEEK', 'HOUR',\n",
       "       'UCR_PART', 'STREET', 'Lat', 'Long', 'Location'], dtype=object)"
      ]
     },
     "execution_count": 33,
     "metadata": {},
     "output_type": "execute_result"
    }
   ],
   "source": [
    "columnNames2019 = df_2019.columns.values\n",
    "columnNames2019"
   ]
  },
  {
   "cell_type": "code",
   "execution_count": 34,
   "id": "0f8a7e17",
   "metadata": {
    "pycharm": {
     "name": "#%%\n"
    }
   },
   "outputs": [],
   "source": [
    "nanCheckColumns2019 = [(name,df_2019[name].isna().sum())for name in columnNames2019]"
   ]
  },
  {
   "cell_type": "code",
   "execution_count": 35,
   "id": "40dec239",
   "metadata": {
    "pycharm": {
     "name": "#%%\n"
    }
   },
   "outputs": [
    {
     "data": {
      "text/plain": [
       "[('INCIDENT_NUMBER', 0),\n",
       " ('OFFENSE_CODE', 0),\n",
       " ('OFFENSE_CODE_GROUP', 87184),\n",
       " ('OFFENSE_DESCRIPTION', 0),\n",
       " ('DISTRICT', 1041),\n",
       " ('REPORTING_AREA', 0),\n",
       " ('SHOOTING', 0),\n",
       " ('OCCURRED_ON_DATE', 0),\n",
       " ('YEAR', 0),\n",
       " ('MONTH', 0),\n",
       " ('DAY_OF_WEEK', 0),\n",
       " ('HOUR', 0),\n",
       " ('UCR_PART', 87184),\n",
       " ('STREET', 2),\n",
       " ('Lat', 0),\n",
       " ('Long', 0),\n",
       " ('Location', 0)]"
      ]
     },
     "execution_count": 35,
     "metadata": {},
     "output_type": "execute_result"
    }
   ],
   "source": [
    "nanCheckColumns2019"
   ]
  },
  {
   "cell_type": "code",
   "execution_count": 36,
   "id": "07ba3bdd",
   "metadata": {
    "pycharm": {
     "name": "#%%\n"
    }
   },
   "outputs": [
    {
     "data": {
      "text/plain": [
       "array(['INCIDENT_NUMBER', 'OFFENSE_CODE', 'OFFENSE_CODE_GROUP',\n",
       "       'OFFENSE_DESCRIPTION', 'DISTRICT', 'REPORTING_AREA', 'SHOOTING',\n",
       "       'OCCURRED_ON_DATE', 'YEAR', 'MONTH', 'DAY_OF_WEEK', 'HOUR',\n",
       "       'UCR_PART', 'STREET', 'Lat', 'Long', 'Location'], dtype=object)"
      ]
     },
     "execution_count": 36,
     "metadata": {},
     "output_type": "execute_result"
    }
   ],
   "source": [
    "columnNames2020 = df_2020.columns.values\n",
    "columnNames2020"
   ]
  },
  {
   "cell_type": "code",
   "execution_count": 37,
   "id": "8bb16699",
   "metadata": {
    "pycharm": {
     "name": "#%%\n"
    }
   },
   "outputs": [
    {
     "data": {
      "text/plain": [
       "[('INCIDENT_NUMBER', 0),\n",
       " ('OFFENSE_CODE', 0),\n",
       " ('OFFENSE_CODE_GROUP', 70894),\n",
       " ('OFFENSE_DESCRIPTION', 0),\n",
       " ('DISTRICT', 278),\n",
       " ('REPORTING_AREA', 0),\n",
       " ('SHOOTING', 0),\n",
       " ('OCCURRED_ON_DATE', 0),\n",
       " ('YEAR', 0),\n",
       " ('MONTH', 0),\n",
       " ('DAY_OF_WEEK', 0),\n",
       " ('HOUR', 0),\n",
       " ('UCR_PART', 70894),\n",
       " ('STREET', 1),\n",
       " ('Lat', 0),\n",
       " ('Long', 0),\n",
       " ('Location', 0)]"
      ]
     },
     "execution_count": 37,
     "metadata": {},
     "output_type": "execute_result"
    }
   ],
   "source": [
    "nanCheckColumns2020 = [(name,df_2020[name].isna().sum())for name in columnNames2020]\n",
    "nanCheckColumns2020"
   ]
  },
  {
   "cell_type": "code",
   "execution_count": 38,
   "id": "27776d87",
   "metadata": {
    "pycharm": {
     "name": "#%%\n"
    }
   },
   "outputs": [
    {
     "data": {
      "text/plain": [
       "True"
      ]
     },
     "execution_count": 38,
     "metadata": {},
     "output_type": "execute_result"
    }
   ],
   "source": [
    "df_2019[\"INCIDENT_NUMBER\"].is_unique"
   ]
  },
  {
   "cell_type": "code",
   "execution_count": 39,
   "id": "570bbdd9",
   "metadata": {
    "pycharm": {
     "name": "#%%\n"
    }
   },
   "outputs": [
    {
     "data": {
      "text/plain": [
       "False"
      ]
     },
     "execution_count": 39,
     "metadata": {},
     "output_type": "execute_result"
    }
   ],
   "source": [
    "df_2019.duplicated().any()"
   ]
  },
  {
   "cell_type": "code",
   "execution_count": 40,
   "id": "5344803d",
   "metadata": {
    "pycharm": {
     "name": "#%%\n"
    }
   },
   "outputs": [
    {
     "data": {
      "text/plain": [
       "False"
      ]
     },
     "execution_count": 40,
     "metadata": {},
     "output_type": "execute_result"
    }
   ],
   "source": [
    "df_2020.duplicated().any()"
   ]
  },
  {
   "cell_type": "code",
   "execution_count": 41,
   "id": "32352b63",
   "metadata": {
    "pycharm": {
     "name": "#%%\n"
    }
   },
   "outputs": [],
   "source": [
    "df_2019_dp = df_2019.dropna(subset=[\"INCIDENT_NUMBER\",\"OFFENSE_CODE\",\"DISTRICT\",\"Long\",\n",
    "                                    \"Lat\",\"SHOOTING\",\"OCCURRED_ON_DATE\"])\n",
    "df_2020_dp = df_2020.dropna(subset=[\"INCIDENT_NUMBER\",\"OFFENSE_CODE\",\"DISTRICT\",\"Long\",\n",
    "                                    \"Lat\",\"SHOOTING\",\"OCCURRED_ON_DATE\"])"
   ]
  },
  {
   "cell_type": "code",
   "execution_count": 42,
   "id": "3e5790d3",
   "metadata": {
    "pycharm": {
     "name": "#%%\n"
    }
   },
   "outputs": [
    {
     "name": "stdout",
     "output_type": "stream",
     "text": [
      "<class 'pandas.core.frame.DataFrame'>\n",
      "RangeIndex: 87184 entries, 0 to 87183\n",
      "Data columns (total 17 columns):\n",
      " #   Column               Non-Null Count  Dtype  \n",
      "---  ------               --------------  -----  \n",
      " 0   INCIDENT_NUMBER      87184 non-null  object \n",
      " 1   OFFENSE_CODE         87184 non-null  int64  \n",
      " 2   OFFENSE_CODE_GROUP   0 non-null      float64\n",
      " 3   OFFENSE_DESCRIPTION  87184 non-null  object \n",
      " 4   DISTRICT             86143 non-null  object \n",
      " 5   REPORTING_AREA       87184 non-null  object \n",
      " 6   SHOOTING             87184 non-null  int64  \n",
      " 7   OCCURRED_ON_DATE     87184 non-null  object \n",
      " 8   YEAR                 87184 non-null  int64  \n",
      " 9   MONTH                87184 non-null  int64  \n",
      " 10  DAY_OF_WEEK          87184 non-null  object \n",
      " 11  HOUR                 87184 non-null  int64  \n",
      " 12  UCR_PART             0 non-null      float64\n",
      " 13  STREET               87182 non-null  object \n",
      " 14  Lat                  87184 non-null  float64\n",
      " 15  Long                 87184 non-null  float64\n",
      " 16  Location             87184 non-null  object \n",
      "dtypes: float64(4), int64(5), object(8)\n",
      "memory usage: 11.3+ MB\n"
     ]
    }
   ],
   "source": [
    "df_2019.info()"
   ]
  },
  {
   "cell_type": "code",
   "execution_count": 43,
   "id": "d6720f6c",
   "metadata": {
    "pycharm": {
     "name": "#%%\n"
    }
   },
   "outputs": [
    {
     "name": "stdout",
     "output_type": "stream",
     "text": [
      "<class 'pandas.core.frame.DataFrame'>\n",
      "Int64Index: 86143 entries, 0 to 87183\n",
      "Data columns (total 17 columns):\n",
      " #   Column               Non-Null Count  Dtype  \n",
      "---  ------               --------------  -----  \n",
      " 0   INCIDENT_NUMBER      86143 non-null  object \n",
      " 1   OFFENSE_CODE         86143 non-null  int64  \n",
      " 2   OFFENSE_CODE_GROUP   0 non-null      float64\n",
      " 3   OFFENSE_DESCRIPTION  86143 non-null  object \n",
      " 4   DISTRICT             86143 non-null  object \n",
      " 5   REPORTING_AREA       86143 non-null  object \n",
      " 6   SHOOTING             86143 non-null  int64  \n",
      " 7   OCCURRED_ON_DATE     86143 non-null  object \n",
      " 8   YEAR                 86143 non-null  int64  \n",
      " 9   MONTH                86143 non-null  int64  \n",
      " 10  DAY_OF_WEEK          86143 non-null  object \n",
      " 11  HOUR                 86143 non-null  int64  \n",
      " 12  UCR_PART             0 non-null      float64\n",
      " 13  STREET               86143 non-null  object \n",
      " 14  Lat                  86143 non-null  float64\n",
      " 15  Long                 86143 non-null  float64\n",
      " 16  Location             86143 non-null  object \n",
      "dtypes: float64(4), int64(5), object(8)\n",
      "memory usage: 11.8+ MB\n"
     ]
    }
   ],
   "source": [
    "df_2019_dp.info()"
   ]
  },
  {
   "cell_type": "code",
   "execution_count": 44,
   "id": "2fe64cf2",
   "metadata": {
    "pycharm": {
     "name": "#%%\n"
    }
   },
   "outputs": [
    {
     "name": "stdout",
     "output_type": "stream",
     "text": [
      "<class 'pandas.core.frame.DataFrame'>\n",
      "RangeIndex: 70894 entries, 0 to 70893\n",
      "Data columns (total 17 columns):\n",
      " #   Column               Non-Null Count  Dtype  \n",
      "---  ------               --------------  -----  \n",
      " 0   INCIDENT_NUMBER      70894 non-null  object \n",
      " 1   OFFENSE_CODE         70894 non-null  int64  \n",
      " 2   OFFENSE_CODE_GROUP   0 non-null      float64\n",
      " 3   OFFENSE_DESCRIPTION  70894 non-null  object \n",
      " 4   DISTRICT             70616 non-null  object \n",
      " 5   REPORTING_AREA       70894 non-null  object \n",
      " 6   SHOOTING             70894 non-null  int64  \n",
      " 7   OCCURRED_ON_DATE     70894 non-null  object \n",
      " 8   YEAR                 70894 non-null  int64  \n",
      " 9   MONTH                70894 non-null  int64  \n",
      " 10  DAY_OF_WEEK          70894 non-null  object \n",
      " 11  HOUR                 70894 non-null  int64  \n",
      " 12  UCR_PART             0 non-null      float64\n",
      " 13  STREET               70893 non-null  object \n",
      " 14  Lat                  70894 non-null  float64\n",
      " 15  Long                 70894 non-null  float64\n",
      " 16  Location             70894 non-null  object \n",
      "dtypes: float64(4), int64(5), object(8)\n",
      "memory usage: 9.2+ MB\n"
     ]
    }
   ],
   "source": [
    "df_2020.info()"
   ]
  },
  {
   "cell_type": "code",
   "execution_count": 45,
   "id": "b4a55ef2",
   "metadata": {
    "pycharm": {
     "name": "#%%\n"
    }
   },
   "outputs": [
    {
     "name": "stdout",
     "output_type": "stream",
     "text": [
      "<class 'pandas.core.frame.DataFrame'>\n",
      "Int64Index: 70616 entries, 0 to 70893\n",
      "Data columns (total 17 columns):\n",
      " #   Column               Non-Null Count  Dtype  \n",
      "---  ------               --------------  -----  \n",
      " 0   INCIDENT_NUMBER      70616 non-null  object \n",
      " 1   OFFENSE_CODE         70616 non-null  int64  \n",
      " 2   OFFENSE_CODE_GROUP   0 non-null      float64\n",
      " 3   OFFENSE_DESCRIPTION  70616 non-null  object \n",
      " 4   DISTRICT             70616 non-null  object \n",
      " 5   REPORTING_AREA       70616 non-null  object \n",
      " 6   SHOOTING             70616 non-null  int64  \n",
      " 7   OCCURRED_ON_DATE     70616 non-null  object \n",
      " 8   YEAR                 70616 non-null  int64  \n",
      " 9   MONTH                70616 non-null  int64  \n",
      " 10  DAY_OF_WEEK          70616 non-null  object \n",
      " 11  HOUR                 70616 non-null  int64  \n",
      " 12  UCR_PART             0 non-null      float64\n",
      " 13  STREET               70616 non-null  object \n",
      " 14  Lat                  70616 non-null  float64\n",
      " 15  Long                 70616 non-null  float64\n",
      " 16  Location             70616 non-null  object \n",
      "dtypes: float64(4), int64(5), object(8)\n",
      "memory usage: 9.7+ MB\n"
     ]
    }
   ],
   "source": [
    "df_2020_dp.info()"
   ]
  },
  {
   "cell_type": "code",
   "execution_count": 46,
   "id": "34a268b0",
   "metadata": {
    "pycharm": {
     "name": "#%%\n"
    }
   },
   "outputs": [
    {
     "data": {
      "text/html": [
       "<div>\n",
       "<style scoped>\n",
       "    .dataframe tbody tr th:only-of-type {\n",
       "        vertical-align: middle;\n",
       "    }\n",
       "\n",
       "    .dataframe tbody tr th {\n",
       "        vertical-align: top;\n",
       "    }\n",
       "\n",
       "    .dataframe thead th {\n",
       "        text-align: right;\n",
       "    }\n",
       "</style>\n",
       "<table border=\"1\" class=\"dataframe\">\n",
       "  <thead>\n",
       "    <tr style=\"text-align: right;\">\n",
       "      <th></th>\n",
       "      <th></th>\n",
       "      <th>INCIDENT_NUMBER</th>\n",
       "      <th>OFFENSE_CODE</th>\n",
       "      <th>OFFENSE_CODE_GROUP</th>\n",
       "      <th>OFFENSE_DESCRIPTION</th>\n",
       "      <th>DISTRICT</th>\n",
       "      <th>REPORTING_AREA</th>\n",
       "      <th>SHOOTING</th>\n",
       "      <th>OCCURRED_ON_DATE</th>\n",
       "      <th>YEAR</th>\n",
       "      <th>MONTH</th>\n",
       "      <th>DAY_OF_WEEK</th>\n",
       "      <th>HOUR</th>\n",
       "      <th>UCR_PART</th>\n",
       "      <th>STREET</th>\n",
       "      <th>Lat</th>\n",
       "      <th>Long</th>\n",
       "      <th>Location</th>\n",
       "    </tr>\n",
       "  </thead>\n",
       "  <tbody>\n",
       "    <tr>\n",
       "      <th rowspan=\"5\" valign=\"top\">2019</th>\n",
       "      <th>0</th>\n",
       "      <td>102091671</td>\n",
       "      <td>2647</td>\n",
       "      <td>NaN</td>\n",
       "      <td>THREATS TO DO BODILY HARM</td>\n",
       "      <td>B3</td>\n",
       "      <td>417</td>\n",
       "      <td>0</td>\n",
       "      <td>2019-11-12 12:00:00</td>\n",
       "      <td>2019</td>\n",
       "      <td>11</td>\n",
       "      <td>Tuesday</td>\n",
       "      <td>12</td>\n",
       "      <td>NaN</td>\n",
       "      <td>MORA ST</td>\n",
       "      <td>42.282082</td>\n",
       "      <td>-71.073649</td>\n",
       "      <td>(42.28208197671972, -71.07364874515646)</td>\n",
       "    </tr>\n",
       "    <tr>\n",
       "      <th>1</th>\n",
       "      <td>102095489</td>\n",
       "      <td>3115</td>\n",
       "      <td>NaN</td>\n",
       "      <td>INVESTIGATE PERSON</td>\n",
       "      <td>E18</td>\n",
       "      <td>520</td>\n",
       "      <td>0</td>\n",
       "      <td>2019-11-25 16:30:00</td>\n",
       "      <td>2019</td>\n",
       "      <td>11</td>\n",
       "      <td>Monday</td>\n",
       "      <td>16</td>\n",
       "      <td>NaN</td>\n",
       "      <td>POYDRAS ST</td>\n",
       "      <td>42.256216</td>\n",
       "      <td>-71.124019</td>\n",
       "      <td>(42.256215920402155, -71.12401947329023)</td>\n",
       "    </tr>\n",
       "    <tr>\n",
       "      <th>2</th>\n",
       "      <td>102096818</td>\n",
       "      <td>2905</td>\n",
       "      <td>NaN</td>\n",
       "      <td>VAL - VIOLATION OF AUTO LAW</td>\n",
       "      <td>A1</td>\n",
       "      <td></td>\n",
       "      <td>0</td>\n",
       "      <td>2019-11-30 21:00:00</td>\n",
       "      <td>2019</td>\n",
       "      <td>11</td>\n",
       "      <td>Saturday</td>\n",
       "      <td>21</td>\n",
       "      <td>NaN</td>\n",
       "      <td>SUDBURY ST &amp; CAMBRIDGE ST\\nBOSTON  MA 02108\\nU...</td>\n",
       "      <td>42.360866</td>\n",
       "      <td>-71.061316</td>\n",
       "      <td>(42.360866027118476, -71.0613160019785)</td>\n",
       "    </tr>\n",
       "    <tr>\n",
       "      <th>4</th>\n",
       "      <td>129099920</td>\n",
       "      <td>3301</td>\n",
       "      <td>NaN</td>\n",
       "      <td>VERBAL DISPUTE</td>\n",
       "      <td>B2</td>\n",
       "      <td>330</td>\n",
       "      <td>0</td>\n",
       "      <td>2019-12-12 07:50:00</td>\n",
       "      <td>2019</td>\n",
       "      <td>12</td>\n",
       "      <td>Thursday</td>\n",
       "      <td>7</td>\n",
       "      <td>NaN</td>\n",
       "      <td>COLUMBIA ROAD</td>\n",
       "      <td>0.000000</td>\n",
       "      <td>0.000000</td>\n",
       "      <td>(0, 0)</td>\n",
       "    </tr>\n",
       "    <tr>\n",
       "      <th>5</th>\n",
       "      <td>129099936</td>\n",
       "      <td>1106</td>\n",
       "      <td>NaN</td>\n",
       "      <td>FRAUD - CREDIT CARD / ATM FRAUD</td>\n",
       "      <td>B2</td>\n",
       "      <td>288</td>\n",
       "      <td>0</td>\n",
       "      <td>2019-11-29 06:00:00</td>\n",
       "      <td>2019</td>\n",
       "      <td>11</td>\n",
       "      <td>Friday</td>\n",
       "      <td>6</td>\n",
       "      <td>NaN</td>\n",
       "      <td>WASHINGTON ST</td>\n",
       "      <td>42.329748</td>\n",
       "      <td>-71.084540</td>\n",
       "      <td>(42.329748204791635, -71.08454011649543)</td>\n",
       "    </tr>\n",
       "    <tr>\n",
       "      <th>...</th>\n",
       "      <th>...</th>\n",
       "      <td>...</td>\n",
       "      <td>...</td>\n",
       "      <td>...</td>\n",
       "      <td>...</td>\n",
       "      <td>...</td>\n",
       "      <td>...</td>\n",
       "      <td>...</td>\n",
       "      <td>...</td>\n",
       "      <td>...</td>\n",
       "      <td>...</td>\n",
       "      <td>...</td>\n",
       "      <td>...</td>\n",
       "      <td>...</td>\n",
       "      <td>...</td>\n",
       "      <td>...</td>\n",
       "      <td>...</td>\n",
       "      <td>...</td>\n",
       "    </tr>\n",
       "    <tr>\n",
       "      <th rowspan=\"5\" valign=\"top\">2020</th>\n",
       "      <th>70889</th>\n",
       "      <td>20063425</td>\n",
       "      <td>3114</td>\n",
       "      <td>NaN</td>\n",
       "      <td>INVESTIGATE PROPERTY</td>\n",
       "      <td>A7</td>\n",
       "      <td>21</td>\n",
       "      <td>0</td>\n",
       "      <td>2020-09-01 00:00:00</td>\n",
       "      <td>2020</td>\n",
       "      <td>9</td>\n",
       "      <td>Tuesday</td>\n",
       "      <td>0</td>\n",
       "      <td>NaN</td>\n",
       "      <td>PARIS ST</td>\n",
       "      <td>42.374427</td>\n",
       "      <td>-71.035279</td>\n",
       "      <td>(42.3744269722053, -71.0352787630199)</td>\n",
       "    </tr>\n",
       "    <tr>\n",
       "      <th>70890</th>\n",
       "      <td>20062356</td>\n",
       "      <td>1107</td>\n",
       "      <td>NaN</td>\n",
       "      <td>FRAUD - IMPERSONATION</td>\n",
       "      <td>E18</td>\n",
       "      <td>520</td>\n",
       "      <td>0</td>\n",
       "      <td>2020-08-28 18:39:00</td>\n",
       "      <td>2020</td>\n",
       "      <td>8</td>\n",
       "      <td>Friday</td>\n",
       "      <td>18</td>\n",
       "      <td>NaN</td>\n",
       "      <td>RIVERSIDE SQ</td>\n",
       "      <td>42.256216</td>\n",
       "      <td>-71.124019</td>\n",
       "      <td>(42.2562159204022, -71.1240194732902)</td>\n",
       "    </tr>\n",
       "    <tr>\n",
       "      <th>70891</th>\n",
       "      <td>20046400</td>\n",
       "      <td>1501</td>\n",
       "      <td>NaN</td>\n",
       "      <td>WEAPON VIOLATION - CARRY/ POSSESSING/ SALE/ TR...</td>\n",
       "      <td>B2</td>\n",
       "      <td>330</td>\n",
       "      <td>0</td>\n",
       "      <td>2020-07-02 01:38:00</td>\n",
       "      <td>2020</td>\n",
       "      <td>7</td>\n",
       "      <td>Thursday</td>\n",
       "      <td>1</td>\n",
       "      <td>NaN</td>\n",
       "      <td>PASADENA RD</td>\n",
       "      <td>42.305761</td>\n",
       "      <td>-71.083772</td>\n",
       "      <td>(42.3057609263196, -71.0837715727385)</td>\n",
       "    </tr>\n",
       "    <tr>\n",
       "      <th>70892</th>\n",
       "      <td>20038446</td>\n",
       "      <td>1501</td>\n",
       "      <td>NaN</td>\n",
       "      <td>WEAPON VIOLATION - CARRY/ POSSESSING/ SALE/ TR...</td>\n",
       "      <td>B2</td>\n",
       "      <td>300</td>\n",
       "      <td>0</td>\n",
       "      <td>2020-06-03 01:15:00</td>\n",
       "      <td>2020</td>\n",
       "      <td>6</td>\n",
       "      <td>Wednesday</td>\n",
       "      <td>1</td>\n",
       "      <td>NaN</td>\n",
       "      <td>WASHINGTON ST</td>\n",
       "      <td>42.323808</td>\n",
       "      <td>-71.089150</td>\n",
       "      <td>(42.3238077563779, -71.0891502345332)</td>\n",
       "    </tr>\n",
       "    <tr>\n",
       "      <th>70893</th>\n",
       "      <td>20030892</td>\n",
       "      <td>540</td>\n",
       "      <td>NaN</td>\n",
       "      <td>BURGLARY - COMMERICAL</td>\n",
       "      <td>C11</td>\n",
       "      <td>380</td>\n",
       "      <td>0</td>\n",
       "      <td>2020-05-03 00:00:00</td>\n",
       "      <td>2020</td>\n",
       "      <td>5</td>\n",
       "      <td>Sunday</td>\n",
       "      <td>0</td>\n",
       "      <td>NaN</td>\n",
       "      <td>GALLIVAN BLVD</td>\n",
       "      <td>42.283700</td>\n",
       "      <td>-71.047761</td>\n",
       "      <td>(42.2837003080534, -71.0477614298657)</td>\n",
       "    </tr>\n",
       "  </tbody>\n",
       "</table>\n",
       "<p>156759 rows × 17 columns</p>\n",
       "</div>"
      ],
      "text/plain": [
       "           INCIDENT_NUMBER  OFFENSE_CODE  OFFENSE_CODE_GROUP  \\\n",
       "2019 0           102091671          2647                 NaN   \n",
       "     1           102095489          3115                 NaN   \n",
       "     2           102096818          2905                 NaN   \n",
       "     4           129099920          3301                 NaN   \n",
       "     5           129099936          1106                 NaN   \n",
       "...                    ...           ...                 ...   \n",
       "2020 70889        20063425          3114                 NaN   \n",
       "     70890        20062356          1107                 NaN   \n",
       "     70891        20046400          1501                 NaN   \n",
       "     70892        20038446          1501                 NaN   \n",
       "     70893        20030892           540                 NaN   \n",
       "\n",
       "                                          OFFENSE_DESCRIPTION DISTRICT  \\\n",
       "2019 0                              THREATS TO DO BODILY HARM       B3   \n",
       "     1                                     INVESTIGATE PERSON      E18   \n",
       "     2                            VAL - VIOLATION OF AUTO LAW       A1   \n",
       "     4                                         VERBAL DISPUTE       B2   \n",
       "     5                        FRAUD - CREDIT CARD / ATM FRAUD       B2   \n",
       "...                                                       ...      ...   \n",
       "2020 70889                               INVESTIGATE PROPERTY       A7   \n",
       "     70890                              FRAUD - IMPERSONATION      E18   \n",
       "     70891  WEAPON VIOLATION - CARRY/ POSSESSING/ SALE/ TR...       B2   \n",
       "     70892  WEAPON VIOLATION - CARRY/ POSSESSING/ SALE/ TR...       B2   \n",
       "     70893                              BURGLARY - COMMERICAL      C11   \n",
       "\n",
       "           REPORTING_AREA  SHOOTING     OCCURRED_ON_DATE  YEAR  MONTH  \\\n",
       "2019 0                417         0  2019-11-12 12:00:00  2019     11   \n",
       "     1                520         0  2019-11-25 16:30:00  2019     11   \n",
       "     2                            0  2019-11-30 21:00:00  2019     11   \n",
       "     4                330         0  2019-12-12 07:50:00  2019     12   \n",
       "     5                288         0  2019-11-29 06:00:00  2019     11   \n",
       "...                   ...       ...                  ...   ...    ...   \n",
       "2020 70889             21         0  2020-09-01 00:00:00  2020      9   \n",
       "     70890            520         0  2020-08-28 18:39:00  2020      8   \n",
       "     70891            330         0  2020-07-02 01:38:00  2020      7   \n",
       "     70892            300         0  2020-06-03 01:15:00  2020      6   \n",
       "     70893            380         0  2020-05-03 00:00:00  2020      5   \n",
       "\n",
       "           DAY_OF_WEEK  HOUR  UCR_PART  \\\n",
       "2019 0         Tuesday    12       NaN   \n",
       "     1          Monday    16       NaN   \n",
       "     2        Saturday    21       NaN   \n",
       "     4        Thursday     7       NaN   \n",
       "     5          Friday     6       NaN   \n",
       "...                ...   ...       ...   \n",
       "2020 70889     Tuesday     0       NaN   \n",
       "     70890      Friday    18       NaN   \n",
       "     70891    Thursday     1       NaN   \n",
       "     70892   Wednesday     1       NaN   \n",
       "     70893      Sunday     0       NaN   \n",
       "\n",
       "                                                       STREET        Lat  \\\n",
       "2019 0                                                MORA ST  42.282082   \n",
       "     1                                             POYDRAS ST  42.256216   \n",
       "     2      SUDBURY ST & CAMBRIDGE ST\\nBOSTON  MA 02108\\nU...  42.360866   \n",
       "     4                                          COLUMBIA ROAD   0.000000   \n",
       "     5                                          WASHINGTON ST  42.329748   \n",
       "...                                                       ...        ...   \n",
       "2020 70889                                           PARIS ST  42.374427   \n",
       "     70890                                       RIVERSIDE SQ  42.256216   \n",
       "     70891                                        PASADENA RD  42.305761   \n",
       "     70892                                      WASHINGTON ST  42.323808   \n",
       "     70893                                      GALLIVAN BLVD  42.283700   \n",
       "\n",
       "                 Long                                  Location  \n",
       "2019 0     -71.073649   (42.28208197671972, -71.07364874515646)  \n",
       "     1     -71.124019  (42.256215920402155, -71.12401947329023)  \n",
       "     2     -71.061316   (42.360866027118476, -71.0613160019785)  \n",
       "     4       0.000000                                    (0, 0)  \n",
       "     5     -71.084540  (42.329748204791635, -71.08454011649543)  \n",
       "...               ...                                       ...  \n",
       "2020 70889 -71.035279     (42.3744269722053, -71.0352787630199)  \n",
       "     70890 -71.124019     (42.2562159204022, -71.1240194732902)  \n",
       "     70891 -71.083772     (42.3057609263196, -71.0837715727385)  \n",
       "     70892 -71.089150     (42.3238077563779, -71.0891502345332)  \n",
       "     70893 -71.047761     (42.2837003080534, -71.0477614298657)  \n",
       "\n",
       "[156759 rows x 17 columns]"
      ]
     },
     "execution_count": 46,
     "metadata": {},
     "output_type": "execute_result"
    }
   ],
   "source": [
    "df_all = pd.concat([df_2019_dp,df_2020_dp],keys = ['2019', '2020'])\n",
    "df_all"
   ]
  },
  {
   "cell_type": "code",
   "execution_count": 51,
   "id": "9718fe78",
   "metadata": {
    "pycharm": {
     "name": "#%%\n"
    }
   },
   "outputs": [
    {
     "data": {
      "text/plain": [
       "array(['THREATS TO DO BODILY HARM', 'INVESTIGATE PERSON',\n",
       "       'VAL - VIOLATION OF AUTO LAW', 'VERBAL DISPUTE',\n",
       "       'FRAUD - CREDIT CARD / ATM FRAUD', 'PROPERTY - LOST/ MISSING',\n",
       "       'WARRANT ARREST - BOSTON WARRANT (MUST BE SUPPLEMENTAL)',\n",
       "       'WARRANT ARREST - OUTSIDE OF BOSTON WARRANT',\n",
       "       'DRUGS - POSSESSION/ SALE/ MANUFACTURING/ USE',\n",
       "       'M/V ACCIDENT - PROPERTY DAMAGE',\n",
       "       'OPERATING UNDER THE INFLUENCE (OUI) ALCOHOL', 'TRESPASSING',\n",
       "       'BURGLARY - RESIDENTIAL', 'ASSAULT - SIMPLE',\n",
       "       'SERVICE TO OTHER AGENCY', 'VANDALISM', 'LARCENY ALL OTHERS',\n",
       "       'SICK ASSIST - DRUG RELATED ILLNESS', 'TOWED MOTOR VEHICLE',\n",
       "       'LARCENY THEFT OF MV PARTS & ACCESSORIES', 'PROPERTY - FOUND',\n",
       "       'INVESTIGATE PROPERTY', 'DRUGS - POSSESSION OF DRUG PARAPHANALIA',\n",
       "       'SICK/INJURED/MEDICAL - PERSON', 'ROBBERY',\n",
       "       'LICENSE PREMISE VIOLATION', 'M/V ACCIDENT - OTHER',\n",
       "       'Migrated Report - Assault/Assault & Battery',\n",
       "       'Migrated Report - Other Larceny',\n",
       "       'Migrated Report - Burglary/Breaking and Entering',\n",
       "       'MISSING PERSON - LOCATED',\n",
       "       'Migrated Report - Counterfeiting/Forgery',\n",
       "       'Migrated Report - Auto Law Violation',\n",
       "       'Migrated Report - Aggravated Assault/Aggravated Assault & Battery',\n",
       "       'Migrated Report - Stolen Property',\n",
       "       'Migrated Report - Auto Theft', 'SUDDEN DEATH',\n",
       "       'Migrated Report - Death Investigation',\n",
       "       'Migrated Report - Other Part II',\n",
       "       'Migrated Report - Investigate Property',\n",
       "       'Migrated Report - Embezzlement',\n",
       "       'Migrated Report - Motor Vehicle Crash',\n",
       "       'M/V ACCIDENT - INVOLVING BICYCLE - INJURY',\n",
       "       'Migrated Report - Vandalism/Destruction of Property',\n",
       "       'Migrated Report - Other Part III', 'Migrated Report - Fraud',\n",
       "       'Migrated Report - Drugs - Possession/Manufacturing/Distribute',\n",
       "       'Migrated Report - Weapons Violation',\n",
       "       'LARCENY THEFT FROM BUILDING', 'Migrated Report - Larceny From MV',\n",
       "       'Migrated Report - Robbery',\n",
       "       'Migrated Report - Injured/Medical/Sick Assist',\n",
       "       'M/V ACCIDENT - PERSONAL INJURY',\n",
       "       'MISSING PERSON - NOT REPORTED - LOCATED',\n",
       "       'PROPERTY - ACCIDENTAL DAMAGE', 'HARASSMENT/ CRIMINAL HARASSMENT',\n",
       "       'M/V - LEAVING SCENE - PROPERTY DAMAGE',\n",
       "       'M/V - LEAVING SCENE - PERSONAL INJURY',\n",
       "       'Migrated Report - Investigate Person',\n",
       "       'Migrated Report - Affray/Disturbing the Peace/Disorderly Conduct',\n",
       "       'WEAPON VIOLATION - CARRY/ POSSESSING/ SALE/ TRAFFICKING/ OTHER',\n",
       "       'AUTO THEFT', 'SICK ASSIST', 'OTHER OFFENSE',\n",
       "       'BREAKING AND ENTERING (B&E) MOTOR VEHICLE',\n",
       "       'LARCENY THEFT FROM MV - NON-ACCESSORY', 'LARCENY SHOPLIFTING',\n",
       "       'LARCENY THEFT OF BICYCLE', 'AUTO THEFT - MOTORCYCLE / SCOOTER',\n",
       "       'M/V ACCIDENT - INVOLVING PEDESTRIAN - INJURY',\n",
       "       'FRAUD - FALSE PRETENSE / SCHEME', 'BALLISTICS EVIDENCE/FOUND',\n",
       "       'VAL - OPERATING AFTER REV/SUSP.', 'VIOLATION - CITY ORDINANCE',\n",
       "       'ASSAULT - AGGRAVATED',\n",
       "       'ANIMAL INCIDENTS (DOG BITES, LOST DOG, ETC)',\n",
       "       'STOLEN PROPERTY - BUYING / RECEIVING / POSSESSING',\n",
       "       'PROPERTY - STOLEN THEN RECOVERED', 'MISSING PERSON',\n",
       "       'FIRE REPORT',\n",
       "       'BREAKING AND ENTERING (B&E) MOTOR VEHICLE (NO PROPERTY STOLEN)',\n",
       "       'DEATH INVESTIGATION', 'SICK/INJURED/MEDICAL - POLICE',\n",
       "       'BURGLARY - COMMERICAL', 'FIREARM/WEAPON - FOUND OR CONFISCATED',\n",
       "       'M/V ACCIDENT - INVOLVING PEDESTRIAN - NO INJURY',\n",
       "       'FRAUD - IMPERSONATION', 'AUTO THEFT - LEASED/RENTED VEHICLE',\n",
       "       'EXTORTION OR BLACKMAIL', 'DANGEROUS OR HAZARDOUS CONDITION',\n",
       "       'LANDLORD - TENANT',\n",
       "       'RECOVERED - MV RECOVERED IN BOSTON (STOLEN OUTSIDE BOSTON)',\n",
       "       'M/V ACCIDENT - POLICE VEHICLE',\n",
       "       'DISTURBING THE PEACE/ DISORDERLY CONDUCT/ GATHERING CAUSING ANNOYANCE/ NOISY PAR',\n",
       "       'LIQUOR/ALCOHOL - DRINKING IN PUBLIC', 'FORGERY / COUNTERFEITING',\n",
       "       'M/V ACCIDENT - OTHER CITY VEHICLE',\n",
       "       'M/V ACCIDENT - INVOLVING BICYCLE - NO INJURY',\n",
       "       'VAL - OPERATING W/O AUTHORIZATION LAWFUL', 'EVADING FARE',\n",
       "       'FRAUD - WIRE', 'BOMB THREAT', 'M/V PLATES - LOST',\n",
       "       'LARCENY PURSE SNATCH - NO FORCE',\n",
       "       'INJURY BICYCLE NO M/V INVOLVED', 'GRAFFITI',\n",
       "       'SUICIDE / SUICIDE ATTEMPT', 'EMBEZZLEMENT',\n",
       "       'HARBOR INCIDENT / VIOLATION', 'LARCENY PICK-POCKET',\n",
       "       'LIQUOR LAW VIOLATION', 'ARSON', 'AFFRAY', 'DRUNKENNESS',\n",
       "       'SEARCH WARRANT', 'PROPERTY - LOST THEN LOCATED',\n",
       "       'KIDNAPPING/CUSTODIAL KIDNAPPING/ ABDUCTION', 'FRAUD - WELFARE',\n",
       "       'FIRE REPORT/ALARM - FALSE', 'PROSTITUTION - SOLICITING',\n",
       "       'NOISY PARTY/RADIO-NO ARREST', 'AIRCRAFT INCIDENTS',\n",
       "       'RECOVERED - MV RECOVERED IN BOSTON (STOLEN IN BOSTON) MUST BE SUPPLEMENTAL',\n",
       "       'ANIMAL ABUSE', 'LARCENY THEFT FROM COIN-OP MACHINE',\n",
       "       'FUGITIVE FROM JUSTICE', 'INTIMIDATING WITNESS',\n",
       "       'FIREARM/WEAPON - LOST', 'MURDER, NON-NEGLIGIENT MANSLAUGHTER',\n",
       "       'OPERATING UNDER THE INFLUENCE (OUI) DRUGS',\n",
       "       'PROTECTIVE CUSTODY / SAFEKEEPING', 'PROSTITUTION',\n",
       "       'PROSTITUTION - ASSISTING OR PROMOTING',\n",
       "       'CHILD REQUIRING ASSISTANCE (FOMERLY CHINS)',\n",
       "       'POSSESSION OF BURGLARIOUS TOOLS',\n",
       "       'PRISONER - SUICIDE / SUICIDE ATTEMPT', 'WARRANT ARREST',\n",
       "       'DRUGS - POSS CLASS B - INTENT TO MFR DIST DISP',\n",
       "       'DRUGS - POSS CLASS D - INTENT TO MFR DIST DISP',\n",
       "       'ROBBERY - OTHER', 'LARCENY PURSE SNATCH - NO FORCE ',\n",
       "       'DRUGS - POSS CLASS B - COCAINE, ETC.', 'DRUGS - POSS CLASS E',\n",
       "       'OPERATING UNDER THE INFLUENCE ALCOHOL',\n",
       "       'VAL - OPERATING UNREG/UNINS CAR', 'LIQUOR - DRINKING IN PUBLIC',\n",
       "       'ROBBERY - STREET', 'ASSAULT - AGGRAVATED - BATTERY',\n",
       "       'DISTURBING THE PEACE', 'SERVICE TO OTHER PD INSIDE OF MA.',\n",
       "       'DRUGS - POSS CLASS A - HEROIN, ETC. ', 'HARASSMENT',\n",
       "       'PROPERTY - LOST', 'M/V ACCIDENT INVOLVING PEDESTRIAN - INJURY',\n",
       "       'DRUGS - POSS CLASS A - INTENT TO MFR DIST DISP',\n",
       "       'WEAPON - FIREARM - CARRYING / POSSESSING, ETC',\n",
       "       'ASSAULT SIMPLE - BATTERY', 'DRUGS - POSS CLASS D',\n",
       "       'VAL - OPERATING WITHOUT LICENSE',\n",
       "       'DRUGS - POSS CLASS C - INTENT TO MFR DIST DISP',\n",
       "       'BURGLARY - RESIDENTIAL - NO FORCE',\n",
       "       'VAL - VIOLATION OF AUTO LAW - OTHER', 'DISORDERLY CONDUCT',\n",
       "       'DRUGS - OTHER', 'BURGLARY - OTHER - NO FORCE',\n",
       "       'DRUGS - SICK ASSIST - HEROIN',\n",
       "       'DRUGS - CLASS B TRAFFICKING OVER 18 GRAMS',\n",
       "       'BURGLARY - COMMERICAL - FORCE',\n",
       "       'WEAPON - FIREARM - OTHER VIOLATION',\n",
       "       'INVESTIGATION FOR ANOTHER AGENCY', 'DRUGS - POSS CLASS C',\n",
       "       'FIREARM/WEAPON - ACCIDENTAL INJURY / DEATH',\n",
       "       'FIRE REPORT - HOUSE, BUILDING, ETC.',\n",
       "       'DRUGS - SALE / MANUFACTURING',\n",
       "       'OPERATING UNDER THE INFLUENCE DRUGS',\n",
       "       'ANIMAL CONTROL - DOG BITES - ETC.',\n",
       "       'DRUGS - SICK ASSIST - OTHER HARMFUL DRUG',\n",
       "       'DRUGS - CLASS A TRAFFICKING OVER 18 GRAMS',\n",
       "       'WEAPON - OTHER - CARRYING / POSSESSING, ETC',\n",
       "       'LANDLORD - TENANT SERVICE', 'ANIMAL INCIDENTS',\n",
       "       'WEAPON - OTHER - OTHER VIOLATION', 'ROBBERY - CAR JACKING',\n",
       "       'PROPERTY - MISSING', 'DRUGS - SICK ASSIST - OTHER NARCOTIC',\n",
       "       'BURGLARY - COMMERICAL - ATTEMPT',\n",
       "       'BURGLARY - RESIDENTIAL - FORCE', 'REPORT AFFECTING OTHER DEPTS.',\n",
       "       'BIOLOGICAL THREATS', 'VIOLATION - HAWKER AND PEDDLER',\n",
       "       'DRUGS - POSSESSION', 'Migrated Report - Criminal Homicide',\n",
       "       'FIRE REPORT - CAR, BRUSH, ETC.',\n",
       "       'SERVICE TO OTHER PD OUTSIDE OF MA.',\n",
       "       'Migrated Report - Kidnapping', 'BURGLARY - RESIDENTIAL - ATTEMPT',\n",
       "       'BURGLARY - OTHER - FORCE', 'EXPLOSIVES - TURNED IN OR FOUND',\n",
       "       'PROPERTY - CONCEALING LEASED', 'BURGLARY - COMMERICAL - NO FORCE',\n",
       "       'ROBBERY - COMMERCIAL', 'HOME INVASION', 'ROBBERY - BANK',\n",
       "       'KIDNAPPING - ENTICING OR ATTEMPTED', 'CRIMINAL HARASSMENT',\n",
       "       'DEMONSTRATIONS/RIOT', 'CHINS',\n",
       "       'DRUGS - CLASS D TRAFFICKING OVER 50 GRAMS',\n",
       "       'DRUGS - POSS CLASS E - INTENT TO MFR DIST DISP',\n",
       "       'ROBBERY - HOME INVASION', 'ANNOYING AND ACCOSTING',\n",
       "       'RECOVERED STOLEN PLATE', 'KIDNAPPING/CUSTODIAL KIDNAPPING',\n",
       "       'OBSCENE PHONE CALLS', 'WEAPON - FIREARM - SALE / TRAFFICKING',\n",
       "       'EXPLOSIVES - POSSESSION OR USE', 'BURGLARY - OTHER - ATTEMPT',\n",
       "       'CONSPIRACY EXCEPT DRUG LAW', 'TRUANCY / RUNAWAY',\n",
       "       'DRUGS - CONSP TO VIOL CONTROLLED SUBSTANCE',\n",
       "       'NOISY PARTY/RADIO-ARREST', 'MANSLAUGHTER - VEHICLE - NEGLIGENCE',\n",
       "       'VIOLATION - RESTRAINING ORDER (NO ARREST)',\n",
       "       'VIOLATION - HARASSMENT PREVENTION ORDER',\n",
       "       'VIOL. OF RESTRAINING ORDER W ARREST',\n",
       "       'Evidence Tracker Incidents', 'Justifiable Homicide'], dtype=object)"
      ]
     },
     "execution_count": 51,
     "metadata": {},
     "output_type": "execute_result"
    }
   ],
   "source": [
    "df_all[\"OFFENSE_DESCRIPTION\"].unique()"
   ]
  },
  {
   "cell_type": "code",
   "execution_count": null,
   "id": "23c7cffe",
   "metadata": {
    "pycharm": {
     "name": "#%%\n"
    }
   },
   "outputs": [],
   "source": [
    "df_count_by_district = df_all.copy()\n",
    "df_count_by_district[\"COUNT\"] = 1\n",
    "df_count_by_district = df_count_by_district[\n",
    "    [\"YEAR\", \"DISTRICT\", \"COUNT\"]\n",
    "].pivot_table(columns=\"YEAR\", index=\"DISTRICT\", values=\"COUNT\", aggfunc=\"count\")\n",
    "df_count_by_district.plot.bar()"
   ]
  }
 ],
 "metadata": {
  "kernelspec": {
   "display_name": "Python 3 (ipykernel)",
   "language": "python",
   "name": "python3"
  },
  "language_info": {
   "codemirror_mode": {
    "name": "ipython",
    "version": 3
   },
   "file_extension": ".py",
   "mimetype": "text/x-python",
   "name": "python",
   "nbconvert_exporter": "python",
   "pygments_lexer": "ipython3",
   "version": "3.9.12"
  }
 },
 "nbformat": 4,
 "nbformat_minor": 5
}