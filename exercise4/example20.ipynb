{
 "cells": [
  {
   "cell_type": "code",
   "execution_count": 1,
   "metadata": {
    "pycharm": {
     "name": "#%%\n"
    }
   },
   "outputs": [
    {
     "name": "stdout",
     "output_type": "stream",
     "text": [
      "Example content:\n",
      "\n",
      "\n",
      "\n",
      "\n",
      "\n",
      "\n",
      "\n",
      "\n",
      "\n",
      "More example files: https://www.online-convert.com/file-type\n",
      "\n",
      "License: Attribution-ShareAlike 4.0 (https://creativecommons.org/licenses/by-sa/4.0/)\n",
      "\n",
      "Feel free to use and share the file according to the license above.\n"
     ]
    }
   ],
   "source": [
    "#Task 4.1\n",
    "with open('example.txt', 'r') as f:\n",
    "    for i in range(6):\n",
    "        f.readline()\n",
    "    count = 0\n",
    "    for line in f:\n",
    "        count += 1\n",
    "        if count%2 !=0:\n",
    "            print(line)"
   ]
  },
  {
   "cell_type": "code",
   "execution_count": 2,
   "metadata": {
    "pycharm": {
     "name": "#%%\n"
    }
   },
   "outputs": [
    {
     "name": "stdout",
     "output_type": "stream",
     "text": [
      "210\n",
      "Your inserted strings! Please insert integers or floats!\n",
      "219.0\n"
     ]
    }
   ],
   "source": [
    "#Task 4.2\n",
    "def sumForTwenty(n1,n2,n3,n4,n5,n6,n7,n8,n9,n10,n11,n12,n13,n14,n15,n16,n17,n18,n19,n20):\n",
    "    type1 = type(n1)\n",
    "    type2 = type(n2)\n",
    "    type3 = type(n3)\n",
    "    type4 = type(n4)\n",
    "    type5 = type(n5)\n",
    "    type6 = type(n6)\n",
    "    type7 = type(n7)\n",
    "    type8 = type(n8)\n",
    "    type9 = type(n9)\n",
    "    type10 = type(n10)\n",
    "    type11 = type(n11)\n",
    "    type12 = type(n12)\n",
    "    type13 = type(n13)\n",
    "    type14 = type(n14)\n",
    "    type15 = type(n15)\n",
    "    type16 = type(n16)\n",
    "    type17 = type(n17)\n",
    "    type18 = type(n18)\n",
    "    type19 = type(n19)\n",
    "    type20 = type(n20)\n",
    "    if (type1 is str) or (type2 is str) or (type3 is str) or (type4 is str) or (type5 is str) or (type6 is str) or (type7 is str) or (type8 is str) or (type9 is str) or (type10 is str) or (type11 is str) or (type12 is str) or (type13 is str) or (type14 is str) or (type15 is str) or (type16 is str) or (type17 is str) or (type18 is str) or (type19 is str) or (type20 is str):\n",
    "        print(\"Your inserted strings! Please insert integers or floats!\")\n",
    "    else:\n",
    "        print(n1+n2+n3+n4+n5+n6+n7+n8+n9+n10+n11+n12+n13+n14+n15+n16+n17+n18+n19+n20)\n",
    "sumForTwenty(1,2,3,4,5,6,7,8,9,10,11,12,13,14,15,16,17,18,19,20)\n",
    "sumForTwenty(1,2,3,4,5,6,7,8,9,'HelloWorld',11,12,13,14,15,16,17,18,19,20)\n",
    "sumForTwenty(1.1,2.2,3.3,4.4,5.5,6.6,7.7,8.8,9.9,10,11.1,12.2,13.3,14.4,15.5,16.6,17.7,18.8,19.9,20)"
   ]
  },
  {
   "cell_type": "code",
   "execution_count": 3,
   "metadata": {
    "pycharm": {
     "name": "#%%\n"
    }
   },
   "outputs": [
    {
     "name": "stdout",
     "output_type": "stream",
     "text": [
      "['a1', 'b1', 'a2', 'b2', 'a3', 'b3']\n",
      "['Amy1', 'Jack1', 'John1', 'Lily1', 'Amy2', 'Jack2', 'John2', 'Lily2', 'Amy3', 'Jack3', 'John3', 'Lily3', 'Amy4', 'Jack4', 'John4', 'Lily4', 'Amy5', 'Jack5', 'John5', 'Lily5']\n",
      "['a1', 'b1', 'c1', 'a2', 'b2', 'c2', 'a3', 'b3', 'c3', 'a4', 'b4', 'c4', 'a5', 'b5', 'c5', 'a6', 'b6', 'c6', 'a7', 'b7', 'c7', 'a8', 'b8', 'c8', 'a9', 'b9', 'c9', 'a10', 'b10', 'c10', 'a11', 'b11', 'c11', 'a12', 'b12', 'c12', 'a13', 'b13', 'c13', 'a14', 'b14', 'c14', 'a15', 'b15', 'c15', 'a16', 'b16', 'c16', 'a17', 'b17', 'c17', 'a18', 'b18', 'c18', 'a19', 'b19', 'c19', 'a20', 'b20', 'c20', 'a21', 'b21', 'c21', 'a22', 'b22', 'c22', 'a23', 'b23', 'c23', 'a24', 'b24', 'c24', 'a25', 'b25', 'c25', 'a26', 'b26', 'c26', 'a27', 'b27', 'c27', 'a28', 'b28', 'c28', 'a29', 'b29', 'c29', 'a30', 'b30', 'c30', 'a31', 'b31', 'c31', 'a32', 'b32', 'c32', 'a33', 'b33', 'c33', 'a34', 'b34', 'c34', 'a35', 'b35', 'c35', 'a36', 'b36', 'c36', 'a37', 'b37', 'c37', 'a38', 'b38', 'c38', 'a39', 'b39', 'c39', 'a40', 'b40', 'c40', 'a41', 'b41', 'c41', 'a42', 'b42', 'c42', 'a43', 'b43', 'c43', 'a44', 'b44', 'c44', 'a45', 'b45', 'c45', 'a46', 'b46', 'c46', 'a47', 'b47', 'c47', 'a48', 'b48', 'c48', 'a49', 'b49', 'c49', 'a50', 'b50', 'c50', 'a51', 'b51', 'c51', 'a52', 'b52', 'c52', 'a53', 'b53', 'c53', 'a54', 'b54', 'c54', 'a55', 'b55', 'c55', 'a56', 'b56', 'c56', 'a57', 'b57', 'c57', 'a58', 'b58', 'c58', 'a59', 'b59', 'c59', 'a60', 'b60', 'c60', 'a61', 'b61', 'c61', 'a62', 'b62', 'c62', 'a63', 'b63', 'c63', 'a64', 'b64', 'c64', 'a65', 'b65', 'c65', 'a66', 'b66', 'c66', 'a67', 'b67', 'c67', 'a68', 'b68', 'c68', 'a69', 'b69', 'c69', 'a70', 'b70', 'c70', 'a71', 'b71', 'c71', 'a72', 'b72', 'c72', 'a73', 'b73', 'c73', 'a74', 'b74', 'c74', 'a75', 'b75', 'c75', 'a76', 'b76', 'c76', 'a77', 'b77', 'c77', 'a78', 'b78', 'c78', 'a79', 'b79', 'c79', 'a80', 'b80', 'c80', 'a81', 'b81', 'c81', 'a82', 'b82', 'c82', 'a83', 'b83', 'c83', 'a84', 'b84', 'c84', 'a85', 'b85', 'c85', 'a86', 'b86', 'c86', 'a87', 'b87', 'c87', 'a88', 'b88', 'c88', 'a89', 'b89', 'c89', 'a90', 'b90', 'c90', 'a91', 'b91', 'c91', 'a92', 'b92', 'c92', 'a93', 'b93', 'c93', 'a94', 'b94', 'c94', 'a95', 'b95', 'c95', 'a96', 'b96', 'c96', 'a97', 'b97', 'c97', 'a98', 'b98', 'c98', 'a99', 'b99', 'c99', 'a100', 'b100', 'c100']\n"
     ]
    }
   ],
   "source": [
    "#Task 4.3\n",
    "def duplicateNames(list,n):\n",
    "    result = []\n",
    "    for i in range(n):\n",
    "        for x in list:\n",
    "            add_num = x+str(i+1)\n",
    "            result.append(add_num)\n",
    "    print(result)\n",
    "duplicateNames(['a','b'],3)\n",
    "duplicateNames(['Amy','Jack','John','Lily'],5)\n",
    "duplicateNames(['a','b','c'],100)"
   ]
  },
  {
   "cell_type": "code",
   "execution_count": 4,
   "metadata": {
    "pycharm": {
     "name": "#%%\n"
    }
   },
   "outputs": [
    {
     "name": "stdout",
     "output_type": "stream",
     "text": [
      "['kobe', 'michael', 'larry']\n",
      "['curry', 'harden', 'thompson']\n"
     ]
    }
   ],
   "source": [
    "#Task 4.4\n",
    "def top3Players(d):\n",
    "    new_list = []\n",
    "    for value in d.values():\n",
    "        new_list.append(value)\n",
    "    new_list.sort(reverse=True)\n",
    "    result = []\n",
    "    for key, value in d.items():\n",
    "        if value in new_list[:3]:\n",
    "            result.append(key)\n",
    "    print(result)\n",
    "top3Players({'lebron':70,'kobe':80,'stephen': 75,'michael': 85,'larry': 82})\n",
    "top3Players({'curry':89,'duant':72,'harden': 86,'michael': 85,'thompson': 89})"
   ]
  }
 ],
 "metadata": {
  "kernelspec": {
   "display_name": "Python 3 (ipykernel)",
   "language": "python",
   "name": "python3"
  },
  "language_info": {
   "codemirror_mode": {
    "name": "ipython",
    "version": 3
   },
   "file_extension": ".py",
   "mimetype": "text/x-python",
   "name": "python",
   "nbconvert_exporter": "python",
   "pygments_lexer": "ipython3",
   "version": "3.8.13"
  }
 },
 "nbformat": 4,
 "nbformat_minor": 1
}