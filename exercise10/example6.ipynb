{
 "cells": [
  {
   "cell_type": "markdown",
   "id": "0826ccb6",
   "metadata": {
    "pycharm": {
     "name": "#%% md\n"
    }
   },
   "source": [
    "#### Task 1. Create a human mobility network for MA using the provided csv file.          \n",
    "#### network node: individual census block group (neighborhood) in MA\n",
    "#### network edge: residents from one neighborhood visiting another\n",
    "#### weight of network tie: percentage of residents from one neighborhood visiting another         \n",
    "#### How many nodes and edges are there in your network? "
   ]
  },
  {
   "cell_type": "markdown",
   "id": "f5a84c15",
   "metadata": {
    "pycharm": {
     "name": "#%% md\n"
    }
   },
   "source": [
    "- There are 40292 nodes and 742299 edges in this network. "
   ]
  },
  {
   "cell_type": "code",
   "execution_count": 3,
   "id": "0c118f69",
   "metadata": {
    "pycharm": {
     "is_executing": true,
     "name": "#%%\n"
    }
   },
   "outputs": [
    {
     "name": "stdout",
     "output_type": "stream",
     "text": [
      "Index(['poi_cbg', 'year_month', 'raw_device_counts', 'visitor_census_tract',\n",
      "       'visitor_count'],\n",
      "      dtype='object') (840593, 5)\n"
     ]
    },
    {
     "data": {
      "text/html": [
       "<div>\n",
       "<style scoped>\n",
       "    .dataframe tbody tr th:only-of-type {\n",
       "        vertical-align: middle;\n",
       "    }\n",
       "\n",
       "    .dataframe tbody tr th {\n",
       "        vertical-align: top;\n",
       "    }\n",
       "\n",
       "    .dataframe thead th {\n",
       "        text-align: right;\n",
       "    }\n",
       "</style>\n",
       "<table border=\"1\" class=\"dataframe\">\n",
       "  <thead>\n",
       "    <tr style=\"text-align: right;\">\n",
       "      <th></th>\n",
       "      <th>poi_cbg</th>\n",
       "      <th>year_month</th>\n",
       "      <th>raw_device_counts</th>\n",
       "      <th>visitor_census_tract</th>\n",
       "      <th>visitor_count</th>\n",
       "    </tr>\n",
       "  </thead>\n",
       "  <tbody>\n",
       "    <tr>\n",
       "      <th>0</th>\n",
       "      <td>250250303003</td>\n",
       "      <td>2019_1</td>\n",
       "      <td>19187</td>\n",
       "      <td>250250303003</td>\n",
       "      <td>413</td>\n",
       "    </tr>\n",
       "    <tr>\n",
       "      <th>1</th>\n",
       "      <td>250250303003</td>\n",
       "      <td>2019_1</td>\n",
       "      <td>19187</td>\n",
       "      <td>250251010016</td>\n",
       "      <td>182</td>\n",
       "    </tr>\n",
       "    <tr>\n",
       "      <th>2</th>\n",
       "      <td>250250303003</td>\n",
       "      <td>2019_1</td>\n",
       "      <td>19187</td>\n",
       "      <td>440070008003</td>\n",
       "      <td>122</td>\n",
       "    </tr>\n",
       "    <tr>\n",
       "      <th>3</th>\n",
       "      <td>250250303003</td>\n",
       "      <td>2019_1</td>\n",
       "      <td>19187</td>\n",
       "      <td>250250923002</td>\n",
       "      <td>121</td>\n",
       "    </tr>\n",
       "    <tr>\n",
       "      <th>4</th>\n",
       "      <td>250250303003</td>\n",
       "      <td>2019_1</td>\n",
       "      <td>19187</td>\n",
       "      <td>250173686001</td>\n",
       "      <td>112</td>\n",
       "    </tr>\n",
       "  </tbody>\n",
       "</table>\n",
       "</div>"
      ],
      "text/plain": [
       "        poi_cbg year_month  raw_device_counts  visitor_census_tract  \\\n",
       "0  250250303003     2019_1              19187          250250303003   \n",
       "1  250250303003     2019_1              19187          250251010016   \n",
       "2  250250303003     2019_1              19187          440070008003   \n",
       "3  250250303003     2019_1              19187          250250923002   \n",
       "4  250250303003     2019_1              19187          250173686001   \n",
       "\n",
       "   visitor_count  \n",
       "0            413  \n",
       "1            182  \n",
       "2            122  \n",
       "3            121  \n",
       "4            112  "
      ]
     },
     "execution_count": 3,
     "metadata": {},
     "output_type": "execute_result"
    }
   ],
   "source": [
    "# set up data \n",
    "import os \n",
    "import pandas as pd\n",
    "import networkx as nx \n",
    "import numpy as np\n",
    "\n",
    "os.chdir(\"/Users/[editted]/Documents/compsoc/code/MA_cbg_human_mobility_2019\")\n",
    "\n",
    "ma_df = pd.read_csv('MA_cbg2cbg_2019_01.csv')\n",
    "print(ma_df.columns, ma_df.shape)\n",
    "ma_df.head()"
   ]
  },
  {
   "cell_type": "code",
   "execution_count": 4,
   "id": "80437242",
   "metadata": {
    "pycharm": {
     "name": "#%%\n"
    }
   },
   "outputs": [
    {
     "name": "stdout",
     "output_type": "stream",
     "text": [
      "Name: \n",
      "Type: Graph\n",
      "Number of nodes: 40292\n",
      "Number of edges: 742299\n",
      "Average degree:  36.8460\n"
     ]
    }
   ],
   "source": [
    "# create a network \n",
    "G = nx.Graph()\n",
    "\n",
    "for i in range(len(ma_df)):\n",
    "    origin_cbg = ma_df.loc[i, 'poi_cbg']\n",
    "    destination_cbg = ma_df.loc[i, 'visitor_census_tract']\n",
    "    total_residents_in_origin = ma_df.loc[i, 'raw_device_counts']\n",
    "    num_visitor = ma_df.loc[i, 'visitor_count']\n",
    "    percent_visitor = num_visitor / total_residents_in_origin\n",
    "#     print(origin_cbg, destination_cbg, percent_visitor)\n",
    "    G.add_edge(origin_cbg, destination_cbg, weight=percent_visitor) #add edges\n",
    "\n",
    "print(nx.info(G))"
   ]
  },
  {
   "cell_type": "markdown",
   "id": "b284bed1",
   "metadata": {
    "pycharm": {
     "name": "#%% md\n"
    }
   },
   "source": [
    "#### Task 2. Calculate weighted node degree and unweighted node degree for each census block group in the mobility network and use the results to create a pandas dataframe. The dataframe should have three columns. One column stores the census block group id, and the other two the two calculated node degrees. "
   ]
  },
  {
   "cell_type": "code",
   "execution_count": 5,
   "id": "05f88f3f",
   "metadata": {
    "pycharm": {
     "name": "#%%\n"
    }
   },
   "outputs": [
    {
     "data": {
      "text/html": [
       "<div>\n",
       "<style scoped>\n",
       "    .dataframe tbody tr th:only-of-type {\n",
       "        vertical-align: middle;\n",
       "    }\n",
       "\n",
       "    .dataframe tbody tr th {\n",
       "        vertical-align: top;\n",
       "    }\n",
       "\n",
       "    .dataframe thead th {\n",
       "        text-align: right;\n",
       "    }\n",
       "</style>\n",
       "<table border=\"1\" class=\"dataframe\">\n",
       "  <thead>\n",
       "    <tr style=\"text-align: right;\">\n",
       "      <th></th>\n",
       "      <th>node</th>\n",
       "      <th>unweighted degree</th>\n",
       "      <th>weighted degree</th>\n",
       "    </tr>\n",
       "  </thead>\n",
       "  <tbody>\n",
       "    <tr>\n",
       "      <th>0</th>\n",
       "      <td>250250303003</td>\n",
       "      <td>2936</td>\n",
       "      <td>1.617298</td>\n",
       "    </tr>\n",
       "    <tr>\n",
       "      <th>1</th>\n",
       "      <td>250251010016</td>\n",
       "      <td>609</td>\n",
       "      <td>1.829781</td>\n",
       "    </tr>\n",
       "    <tr>\n",
       "      <th>2</th>\n",
       "      <td>440070008003</td>\n",
       "      <td>77</td>\n",
       "      <td>0.201907</td>\n",
       "    </tr>\n",
       "    <tr>\n",
       "      <th>3</th>\n",
       "      <td>250250923002</td>\n",
       "      <td>600</td>\n",
       "      <td>2.675362</td>\n",
       "    </tr>\n",
       "    <tr>\n",
       "      <th>4</th>\n",
       "      <td>250173686001</td>\n",
       "      <td>3217</td>\n",
       "      <td>1.763752</td>\n",
       "    </tr>\n",
       "    <tr>\n",
       "      <th>...</th>\n",
       "      <td>...</td>\n",
       "      <td>...</td>\n",
       "      <td>...</td>\n",
       "    </tr>\n",
       "    <tr>\n",
       "      <th>40287</th>\n",
       "      <td>170318261003</td>\n",
       "      <td>1</td>\n",
       "      <td>0.000726</td>\n",
       "    </tr>\n",
       "    <tr>\n",
       "      <th>40288</th>\n",
       "      <td>120310144111</td>\n",
       "      <td>1</td>\n",
       "      <td>0.000726</td>\n",
       "    </tr>\n",
       "    <tr>\n",
       "      <th>40289</th>\n",
       "      <td>530330294073</td>\n",
       "      <td>1</td>\n",
       "      <td>0.000726</td>\n",
       "    </tr>\n",
       "    <tr>\n",
       "      <th>40290</th>\n",
       "      <td>360610165001</td>\n",
       "      <td>1</td>\n",
       "      <td>0.000726</td>\n",
       "    </tr>\n",
       "    <tr>\n",
       "      <th>40291</th>\n",
       "      <td>390599772002</td>\n",
       "      <td>1</td>\n",
       "      <td>0.000726</td>\n",
       "    </tr>\n",
       "  </tbody>\n",
       "</table>\n",
       "<p>40292 rows × 3 columns</p>\n",
       "</div>"
      ],
      "text/plain": [
       "               node  unweighted degree  weighted degree\n",
       "0      250250303003               2936         1.617298\n",
       "1      250251010016                609         1.829781\n",
       "2      440070008003                 77         0.201907\n",
       "3      250250923002                600         2.675362\n",
       "4      250173686001               3217         1.763752\n",
       "...             ...                ...              ...\n",
       "40287  170318261003                  1         0.000726\n",
       "40288  120310144111                  1         0.000726\n",
       "40289  530330294073                  1         0.000726\n",
       "40290  360610165001                  1         0.000726\n",
       "40291  390599772002                  1         0.000726\n",
       "\n",
       "[40292 rows x 3 columns]"
      ]
     },
     "execution_count": 5,
     "metadata": {},
     "output_type": "execute_result"
    }
   ],
   "source": [
    "# calculate degrees\n",
    "# G.degree()\n",
    "# G.degree(weight='weight') \n",
    "\n",
    "# degree dataframe\n",
    "df_degree = pd.DataFrame(G.degree(), columns=[\"node\", \"unweighted degree\"])\n",
    "\n",
    "# weighted degree dataframe\n",
    "df_weighted_degree = pd.DataFrame(G.degree(weight=\"weight\"), columns=[\"node\", \"weighted degree\"])\n",
    "\n",
    "# merge two dataframes\n",
    "df=df_degree.merge(df_weighted_degree,on='node')\n",
    "df"
   ]
  },
  {
   "cell_type": "markdown",
   "id": "5e1b0261",
   "metadata": {
    "pycharm": {
     "name": "#%% md\n"
    }
   },
   "source": [
    "#### Task 3. Create a plot that visualizes the distribution of the weighted node degrees. Is the human mobility network a scale-free network? In other words, does the degree distribution follow a power law? "
   ]
  },
  {
   "cell_type": "markdown",
   "id": "fa29ca4c",
   "metadata": {
    "pycharm": {
     "name": "#%% md\n"
    }
   },
   "source": [
    "- Yes, it is a scale-free network and the degree distribution follows a power law. "
   ]
  },
  {
   "cell_type": "code",
   "execution_count": 7,
   "id": "ee6131a1",
   "metadata": {
    "pycharm": {
     "name": "#%%\n"
    }
   },
   "outputs": [
    {
     "data": {
      "text/plain": [
       "<AxesSubplot:xlabel='weighted degree'>"
      ]
     },
     "execution_count": 7,
     "metadata": {},
     "output_type": "execute_result"
    },
    {
     "data": {
      "image/png": "[encoded data removed]",
      "text/plain": [
       "<Figure size 432x288 with 1 Axes>"
      ]
     },
     "metadata": {
      "needs_background": "light"
     },
     "output_type": "display_data"
    }
   ],
   "source": [
    "import seaborn as sns\n",
    "import matplotlib.pyplot as plt\n",
    "\n",
    "# seaborn histogram\n",
    "sns.distplot(df['weighted degree'], hist=True, kde=False, \n",
    "             bins=20, color = 'blue')\n"
   ]
  },
  {
   "cell_type": "code",
   "execution_count": null,
   "id": "4f51dcb9",
   "metadata": {
    "pycharm": {
     "name": "#%%\n"
    }
   },
   "outputs": [],
   "source": [
    "### Bonus task: Does this network follow the “six degrees of separation” principle? Find out ways to analyze the network to answer this question. \n",
    "\n",
    "# df=pd.DataFrame(nx.shortest_path(G),columns=[\"source\", \"target\",\"distance\"])\n",
    "# df.describe() ###could not generate results "
   ]
  }
 ],
 "metadata": {
  "kernelspec": {
   "display_name": "Python 3",
   "language": "python",
   "name": "python3"
  },
  "language_info": {
   "codemirror_mode": {
    "name": "ipython",
    "version": 3
   },
   "file_extension": ".py",
   "mimetype": "text/x-python",
   "name": "python",
   "nbconvert_exporter": "python",
   "pygments_lexer": "ipython3",
   "version": "3.8.8"
  }
 },
 "nbformat": 4,
 "nbformat_minor": 5
}