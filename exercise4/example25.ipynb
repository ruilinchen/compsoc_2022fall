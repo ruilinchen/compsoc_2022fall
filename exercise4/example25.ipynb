{
 "cells": [
  {
   "cell_type": "markdown",
   "source": [
    "# [editted]_Coding exercise 3\n"
   ],
   "metadata": {
    "collapsed": false,
    "pycharm": {
     "name": "#%% md\n"
    }
   }
  },
  {
   "cell_type": "markdown",
   "source": [
    "##### Task 4.1 Read the file “example.txt” that we have used in class, which can be downloaded from here , and print out every other line starting from the seventh line."
   ],
   "metadata": {
    "collapsed": false,
    "pycharm": {
     "name": "#%% md\n"
    }
   }
  },
  {
   "cell_type": "code",
   "execution_count": 34,
   "outputs": [
    {
     "name": "stdout",
     "output_type": "stream",
     "text": [
      "The names \"John Doe\" for males, \"Jane Doe\" or \"Jane Roe\" for females, or \"Jonnie Doe\" and \"Janie Doe\" for children, or just \"Doe\" non-gender-specifically are used as placeholder names for a party whose true identity is unknown or must be withheld in a legal action, case, or discussion. The names are also used to refer to acorpse or hospital patient whose identity is unknown. This practice is widely used in the United States and Canada, but is rarely used in other English-speaking countries including the United Kingdom itself, from where the use of \"John Doe\" in a legal context originates. The names Joe Bloggs or John Smith are used in the UK instead, as well as in Australia and New Zealand.\n",
      "\n",
      "John Doe is sometimes used to refer to a typical male in other contexts as well, in a similar manner to John Q. Public, known in Great Britain as Joe Public, John Smith or Joe Bloggs. For example, the first name listed on a form is often John Doe, along with a fictional address or other fictional information to provide an example of how to fill in the form. The name is also used frequently in popular culture, for example in the Frank Capra film Meet John Doe. John Doe was also the name of a 2002 American television series.\n",
      "\n",
      "Similarly, a child or baby whose identity is unknown may be referred to as Baby Doe. A notorious murder case in Kansas City, Missouri, referred to the baby victim as Precious Doe. Other unidentified female murder victims are Cali Doe and Princess Doe. Additional persons may be called James Doe, Judy Doe, etc. However, to avoid possible confusion, if two anonymous or unknown parties are cited in a specific case or action, the surnames Doe and Roe may be used simultaneously; for example, \"John Doe v. Jane Roe\". If several anonymous parties are referenced, they may simply be labelled John Doe #1, John Doe #2, etc. (the U.S. Operation Delego cited 21 (numbered) \"John Doe\"s) or labelled with other variants of Doe / Roe / Poe / etc. Other early alternatives such as John Stiles and Richard Miles are now rarely used, and Mary Major has been used in some American federal cases.\n",
      "\n",
      "\n",
      "\n",
      "File created by https://www.online-convert.com\n",
      "\n",
      "Text of Example content: Wikipedia (https://en.wikipedia.org/wiki/John_Doe)\n",
      "\n",
      "\n",
      "\n"
     ]
    }
   ],
   "source": [
    "with open('example.txt', 'r') as f:\n",
    "    for x, line in enumerate(f):\n",
    "        if x>6 and x%2 == 1:\n",
    "            print(line)"
   ],
   "metadata": {
    "collapsed": false,
    "pycharm": {
     "name": "#%%\n"
    }
   }
  },
  {
   "cell_type": "markdown",
   "source": [
    "##### Task 4.2 Write a sumForTwenty function. The function takes twenty numbers as input (not as user input, but as function arguments), and prints one value as output. The output should be the sum of the twenty numbers passed to the function. The function should also check for variable types. If any of the numbers is passed as a string type as opposed to an integer or float type, the function will print an error message."
   ],
   "metadata": {
    "collapsed": false,
    "pycharm": {
     "name": "#%% md\n"
    }
   }
  },
  {
   "cell_type": "code",
   "execution_count": 46,
   "outputs": [
    {
     "name": "stdout",
     "output_type": "stream",
     "text": [
      "The sum is 210\n",
      "The sum is 210.7\n",
      "Error!\n"
     ]
    }
   ],
   "source": [
    "def sumFortwenty(n1,n2,n3,n4,n5,n6,n7,n8,n9,n10,n11,n12,n13,n14,n15,n16,n17,n18,n19,n20):\n",
    "      if type(n1) == str or type(n2) == str or type(n3) == str or type(n4) == str or type(n5) == str or type(n6) == str or type(n7) == str or type(n9) == str or type(n10) == str or type(n11) == str or type(n12) == str or type(n13) == str or type(n14) == str or type(n15) == str or type(n16) == str or type(n17) == str or type(n18) == str or type(n19) == str or type(n20) == str:\n",
    "          print(\"Error!\")\n",
    "      else:\n",
    "          y=n1+n2+n3+n4+n5+n6+n7+n8+n9+n10+n11+n12+n13+n14+n15+n16+n17+n18+n19+n20\n",
    "          print(\"The sum is\",y)\n",
    "sumFortwenty(1,2,3,4,5,6,7,8,9,10,11,12,13,14,15,16,17,18,19,20)\n",
    "sumFortwenty(1.2,2,3,4,5,6,7,8,9,10,11,12,13,14,15,16,17,18.5,19,20)\n",
    "sumFortwenty(1,2,\"you\",4,5,6,7,8,9,10,11,12,13,14,15,16,17,18,19,20)\n",
    "\n"
   ],
   "metadata": {
    "collapsed": false,
    "pycharm": {
     "name": "#%%\n"
    }
   }
  },
  {
   "cell_type": "markdown",
   "source": [
    "##### Task 4.3 Write a duplicateNames function. The function takes a list of string and an integer N as argument, and return another list of string as output. The output duplicates the input list N times and updates the string values by adding an incremental number starting from 1 to them. Example: list = ['a', 'b'], N=3 -> ['a1', 'b1', 'a2', 'b2', 'a3', 'b3']."
   ],
   "metadata": {
    "collapsed": false,
    "pycharm": {
     "name": "#%% md\n"
    }
   }
  },
  {
   "cell_type": "code",
   "execution_count": 52,
   "outputs": [
    {
     "data": {
      "text/plain": "['you', 'you', 'i', 'i', 'he', 'he']"
     },
     "execution_count": 52,
     "metadata": {},
     "output_type": "execute_result"
    }
   ],
   "source": [
    "def duplicateNames(list1,n):\n",
    "    new = [item for item in list1 for i in range(n)]\n",
    "\n",
    "\n",
    "n=2\n",
    "list1= [\"you\",\"i\",\"he\"]\n",
    "duplicateNames(list1,n)\n"
   ],
   "metadata": {
    "collapsed": false,
    "pycharm": {
     "name": "#%%\n"
    }
   }
  },
  {
   "cell_type": "markdown",
   "source": [
    "##### Task 4.4 Write a top3Players function. The function takes a dictionary as argument. This dictionary keeps track of players and their scores. Based on this, the function returns the top 3 players with the highest scores as output. Example: {'lebron': 70, 'kobe': 80, 'stephen': 75, 'michael': 85, 'larry': 82} -> 'michael', 'larry', 'kobe'."
   ],
   "metadata": {
    "collapsed": false,
    "pycharm": {
     "name": "#%% md\n"
    }
   }
  },
  {
   "cell_type": "code",
   "execution_count": null,
   "outputs": [],
   "source": [],
   "metadata": {
    "collapsed": false,
    "pycharm": {
     "name": "#%%\n"
    }
   }
  },
  {
   "cell_type": "code",
   "execution_count": 58,
   "outputs": [
    {
     "name": "stdout",
     "output_type": "stream",
     "text": [
      "['t', 'e', 'w']\n"
     ]
    }
   ],
   "source": [
    "def the3players(dic1):\n",
    "    top3players= sorted(dic1, key=dic1.get, reverse=True)[:3]\n",
    "    print(top3players)\n",
    "\n",
    "dic1={\"q\":1,\"w\":2,\"e\":3, \"t\":7}\n",
    "\n",
    "the3players(dic1)\n",
    "\n",
    "\n",
    "\n"
   ],
   "metadata": {
    "collapsed": false,
    "pycharm": {
     "name": "#%%\n"
    }
   }
  },
  {
   "cell_type": "code",
   "execution_count": null,
   "outputs": [],
   "source": [],
   "metadata": {
    "collapsed": false,
    "pycharm": {
     "name": "#%%\n"
    }
   }
  }
 ],
 "metadata": {
  "kernelspec": {
   "display_name": "Python 3",
   "language": "python",
   "name": "python3"
  },
  "language_info": {
   "codemirror_mode": {
    "name": "ipython",
    "version": 2
   },
   "file_extension": ".py",
   "mimetype": "text/x-python",
   "name": "python",
   "nbconvert_exporter": "python",
   "pygments_lexer": "ipython2",
   "version": "2.7.6"
  }
 },
 "nbformat": 4,
 "nbformat_minor": 0
}