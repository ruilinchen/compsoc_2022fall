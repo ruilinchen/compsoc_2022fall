{
 "cells": [
  {
   "cell_type": "code",
   "execution_count": 3,
   "id": "2cccc231",
   "metadata": {
    "pycharm": {
     "name": "#%%\n"
    }
   },
   "outputs": [
    {
     "name": "stdout",
     "output_type": "stream",
     "text": [
      "MA_cbg_human_mobility_2019/MA_cbg2cbg_2019_09.csv\n",
      "__MACOSX/MA_cbg_human_mobility_2019/._MA_cbg2cbg_2019_09.csv\n",
      "MA_cbg_human_mobility_2019/MA_cbg2cbg_2019_08.csv\n",
      "__MACOSX/MA_cbg_human_mobility_2019/._MA_cbg2cbg_2019_08.csv\n",
      "MA_cbg_human_mobility_2019/MA_cbg2cbg_2019_03.csv\n",
      "__MACOSX/MA_cbg_human_mobility_2019/._MA_cbg2cbg_2019_03.csv\n",
      "MA_cbg_human_mobility_2019/MA_cbg2cbg_2019_02.csv\n",
      "__MACOSX/MA_cbg_human_mobility_2019/._MA_cbg2cbg_2019_02.csv\n",
      "MA_cbg_human_mobility_2019/MA_cbg2cbg_2019_01.csv\n",
      "__MACOSX/MA_cbg_human_mobility_2019/._MA_cbg2cbg_2019_01.csv\n",
      "MA_cbg_human_mobility_2019/MA_cbg2cbg_2019_05.csv\n",
      "__MACOSX/MA_cbg_human_mobility_2019/._MA_cbg2cbg_2019_05.csv\n",
      "MA_cbg_human_mobility_2019/MA_cbg2cbg_2019_11.csv\n",
      "__MACOSX/MA_cbg_human_mobility_2019/._MA_cbg2cbg_2019_11.csv\n",
      "MA_cbg_human_mobility_2019/MA_cbg2cbg_2019_10.csv\n",
      "__MACOSX/MA_cbg_human_mobility_2019/._MA_cbg2cbg_2019_10.csv\n",
      "MA_cbg_human_mobility_2019/MA_cbg2cbg_2019_04.csv\n",
      "__MACOSX/MA_cbg_human_mobility_2019/._MA_cbg2cbg_2019_04.csv\n",
      "MA_cbg_human_mobility_2019/MA_cbg2cbg_2019_12.csv\n",
      "__MACOSX/MA_cbg_human_mobility_2019/._MA_cbg2cbg_2019_12.csv\n",
      "MA_cbg_human_mobility_2019/MA_cbg2cbg_2019_06.csv\n",
      "__MACOSX/MA_cbg_human_mobility_2019/._MA_cbg2cbg_2019_06.csv\n",
      "MA_cbg_human_mobility_2019/MA_cbg2cbg_2019_07.csv\n",
      "__MACOSX/MA_cbg_human_mobility_2019/._MA_cbg2cbg_2019_07.csv\n"
     ]
    }
   ],
   "source": [
    "#task 5.1\n",
    "#prints out the filenames ending with .csv\n",
    "\n",
    "import zipfile\n",
    "\n",
    "with zipfile.ZipFile(\"MA_cbg_human_mobility_2019.zip\", 'r') as f:\n",
    "    for name in f.namelist():\n",
    "        if name.endswith(\".csv\"):\n",
    "            print(name)\n"
   ]
  },
  {
   "cell_type": "code",
   "execution_count": 6,
   "id": "78e49a0a",
   "metadata": {
    "pycharm": {
     "name": "#%%\n"
    }
   },
   "outputs": [
    {
     "name": "stdout",
     "output_type": "stream",
     "text": [
      "The number of lines in files with names CSV is 264\n"
     ]
    }
   ],
   "source": [
    "#task 4.2\n",
    "#prints out the number of lines in files with name CSV\n",
    "\n",
    "import os\n",
    "\n",
    "directory = '/Users/amyli/OneDrive/Desktop/College/mining big data/MA_cbg_human_mobility_2019'\n",
    "\n",
    "count = 0\n",
    "\n",
    "for f in os.listdir(directory):\n",
    "    if \".csv\" in f:\n",
    "        for line in f:\n",
    "            count = count + 1\n",
    "\n",
    "print(\"The number of lines in files with names CSV is\", count)\n",
    "        \n",
    "\n"
   ]
  },
  {
   "cell_type": "code",
   "execution_count": 15,
   "id": "e247d546",
   "metadata": {
    "pycharm": {
     "name": "#%%\n"
    }
   },
   "outputs": [],
   "source": [
    "#task 5.3 \n",
    "#Returns the output as a dictionary of filenames and lines in the file\n",
    "\n",
    "import os\n",
    "os.getcwd()\n",
    "import pandas as pd\n",
    "import glob\n",
    "\n",
    "for filename in glob.glob('*.csv'):\n",
    "    output = pd.read_csv(filename)\n",
    "    print([filename], len(output))\n"
   ]
  },
  {
   "cell_type": "code",
   "execution_count": null,
   "id": "646e8c39",
   "metadata": {
    "pycharm": {
     "name": "#%%\n"
    }
   },
   "outputs": [],
   "source": []
  }
 ],
 "metadata": {
  "kernelspec": {
   "display_name": "Python [conda env:compsoc] *",
   "language": "python",
   "name": "conda-env-compsoc-py"
  },
  "language_info": {
   "codemirror_mode": {
    "name": "ipython",
    "version": 3
   },
   "file_extension": ".py",
   "mimetype": "text/x-python",
   "name": "python",
   "nbconvert_exporter": "python",
   "pygments_lexer": "ipython3",
   "version": "3.8.13"
  }
 },
 "nbformat": 4,
 "nbformat_minor": 5
}