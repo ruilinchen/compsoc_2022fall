{
 "cells": [
  {
   "cell_type": "markdown",
   "id": "ef5bec10",
   "metadata": {
    "pycharm": {
     "name": "#%% md\n"
    }
   },
   "source": [
    "#### Task 7.1 Combine year 2019 and year 2020’s crime records into one pandas dataframe. Drop duplicates as well as any record that has missing values in the following columns: “INCIDENT_NUMBER”, “OFFENSE_CODE”, “DISTRICT”, “Long”, “Lat”, “SHOOTING”, “OCCURRED_ON_DATE”. Save the “cleaned” pandas dataframe to a separate csv file. Use the \"OFFENSE_DESCRIPTION\" column to identify violent vs. property crime incidents, and based on the cleaned dataframe, count the total number of violent vs. property crime incidents in Boston in year 2019 and year 2020 respectively. Print the results. Do you see any trend? #### "
   ]
  },
  {
   "cell_type": "code",
   "execution_count": 50,
   "id": "f7adc844",
   "metadata": {
    "pycharm": {
     "name": "#%%\n"
    }
   },
   "outputs": [
    {
     "name": "stdout",
     "output_type": "stream",
     "text": [
      "(158078, 17)\n",
      "       INCIDENT_NUMBER  OFFENSE_CODE  OFFENSE_CODE_GROUP  \\\n",
      "0            102091671          2647                 NaN   \n",
      "1            102095489          3115                 NaN   \n",
      "2            102096818          2905                 NaN   \n",
      "3            129092894          3201                 NaN   \n",
      "4            129099920          3301                 NaN   \n",
      "...                ...           ...                 ...   \n",
      "158073       020063425          3114                 NaN   \n",
      "158074       020062356          1107                 NaN   \n",
      "158075       020046400          1501                 NaN   \n",
      "158076       020038446          1501                 NaN   \n",
      "158077       020030892           540                 NaN   \n",
      "\n",
      "                                      OFFENSE_DESCRIPTION DISTRICT  \\\n",
      "0                               THREATS TO DO BODILY HARM       B3   \n",
      "1                                      INVESTIGATE PERSON      E18   \n",
      "2                             VAL - VIOLATION OF AUTO LAW       A1   \n",
      "3                                PROPERTY - LOST/ MISSING      NaN   \n",
      "4                                          VERBAL DISPUTE       B2   \n",
      "...                                                   ...      ...   \n",
      "158073                               INVESTIGATE PROPERTY       A7   \n",
      "158074                              FRAUD - IMPERSONATION      E18   \n",
      "158075  WEAPON VIOLATION - CARRY/ POSSESSING/ SALE/ TR...       B2   \n",
      "158076  WEAPON VIOLATION - CARRY/ POSSESSING/ SALE/ TR...       B2   \n",
      "158077                              BURGLARY - COMMERICAL      C11   \n",
      "\n",
      "       REPORTING_AREA  SHOOTING     OCCURRED_ON_DATE  YEAR  MONTH DAY_OF_WEEK  \\\n",
      "0                 417         0  2019-11-12 12:00:00  2019     11     Tuesday   \n",
      "1                 520         0  2019-11-25 16:30:00  2019     11      Monday   \n",
      "2                             0  2019-11-30 21:00:00  2019     11    Saturday   \n",
      "3                 503         0  2019-11-16 13:30:00  2019     11    Saturday   \n",
      "4                 330         0  2019-12-12 07:50:00  2019     12    Thursday   \n",
      "...               ...       ...                  ...   ...    ...         ...   \n",
      "158073             21         0  2020-09-01 00:00:00  2020      9     Tuesday   \n",
      "158074            520         0  2020-08-28 18:39:00  2020      8      Friday   \n",
      "158075            330         0  2020-07-02 01:38:00  2020      7    Thursday   \n",
      "158076            300         0  2020-06-03 01:15:00  2020      6   Wednesday   \n",
      "158077            380         0  2020-05-03 00:00:00  2020      5      Sunday   \n",
      "\n",
      "        HOUR  UCR_PART                                             STREET  \\\n",
      "0         12       NaN                                            MORA ST   \n",
      "1         16       NaN                                         POYDRAS ST   \n",
      "2         21       NaN  SUDBURY ST & CAMBRIDGE ST\\nBOSTON  MA 02108\\nU...   \n",
      "3         13       NaN                                AMERICAN LEGION HWY   \n",
      "4          7       NaN                                      COLUMBIA ROAD   \n",
      "...      ...       ...                                                ...   \n",
      "158073     0       NaN                                           PARIS ST   \n",
      "158074    18       NaN                                       RIVERSIDE SQ   \n",
      "158075     1       NaN                                        PASADENA RD   \n",
      "158076     1       NaN                                      WASHINGTON ST   \n",
      "158077     0       NaN                                      GALLIVAN BLVD   \n",
      "\n",
      "              Lat       Long                                  Location  \n",
      "0       42.282082 -71.073649   (42.28208197671972, -71.07364874515646)  \n",
      "1       42.256216 -71.124019  (42.256215920402155, -71.12401947329023)  \n",
      "2       42.360866 -71.061316   (42.360866027118476, -71.0613160019785)  \n",
      "3       42.284467 -71.111831   (42.28446742674232, -71.11183088758158)  \n",
      "4        0.000000        NaN                                    (0, 0)  \n",
      "...           ...        ...                                       ...  \n",
      "158073  42.374427 -71.035279     (42.3744269722053, -71.0352787630199)  \n",
      "158074  42.256216 -71.124019     (42.2562159204022, -71.1240194732902)  \n",
      "158075  42.305761 -71.083772     (42.3057609263196, -71.0837715727385)  \n",
      "158076  42.323808 -71.089150     (42.3238077563779, -71.0891502345332)  \n",
      "158077  42.283700 -71.047761     (42.2837003080534, -71.0477614298657)  \n",
      "\n",
      "[158078 rows x 17 columns]\n",
      "(151895, 17)\n",
      "(151895, 17)\n",
      "(151895, 18)\n",
      "        Unnamed: 0 INCIDENT_NUMBER  OFFENSE_CODE  OFFENSE_CODE_GROUP  \\\n",
      "0                0       102091671          2647                 NaN   \n",
      "1                1       102095489          3115                 NaN   \n",
      "2                2       102096818          2905                 NaN   \n",
      "3                5       129099936          1106                 NaN   \n",
      "4                6       129100024          3201                 NaN   \n",
      "...            ...             ...           ...                 ...   \n",
      "151890      158073       020063425          3114                 NaN   \n",
      "151891      158074       020062356          1107                 NaN   \n",
      "151892      158075       020046400          1501                 NaN   \n",
      "151893      158076       020038446          1501                 NaN   \n",
      "151894      158077       020030892           540                 NaN   \n",
      "\n",
      "                                      OFFENSE_DESCRIPTION DISTRICT  \\\n",
      "0                               THREATS TO DO BODILY HARM       B3   \n",
      "1                                      INVESTIGATE PERSON      E18   \n",
      "2                             VAL - VIOLATION OF AUTO LAW       A1   \n",
      "3                         FRAUD - CREDIT CARD / ATM FRAUD       B2   \n",
      "4                                PROPERTY - LOST/ MISSING       B2   \n",
      "...                                                   ...      ...   \n",
      "151890                               INVESTIGATE PROPERTY       A7   \n",
      "151891                              FRAUD - IMPERSONATION      E18   \n",
      "151892  WEAPON VIOLATION - CARRY/ POSSESSING/ SALE/ TR...       B2   \n",
      "151893  WEAPON VIOLATION - CARRY/ POSSESSING/ SALE/ TR...       B2   \n",
      "151894                              BURGLARY - COMMERICAL      C11   \n",
      "\n",
      "       REPORTING_AREA  SHOOTING     OCCURRED_ON_DATE  YEAR  MONTH DAY_OF_WEEK  \\\n",
      "0                 417         0  2019-11-12 12:00:00  2019     11     Tuesday   \n",
      "1                 520         0  2019-11-25 16:30:00  2019     11      Monday   \n",
      "2                             0  2019-11-30 21:00:00  2019     11    Saturday   \n",
      "3                 288         0  2019-11-29 06:00:00  2019     11      Friday   \n",
      "4                 612         0  2019-12-12 10:40:00  2019     12    Thursday   \n",
      "...               ...       ...                  ...   ...    ...         ...   \n",
      "151890             21         0  2020-09-01 00:00:00  2020      9     Tuesday   \n",
      "151891            520         0  2020-08-28 18:39:00  2020      8      Friday   \n",
      "151892            330         0  2020-07-02 01:38:00  2020      7    Thursday   \n",
      "151893            300         0  2020-06-03 01:15:00  2020      6   Wednesday   \n",
      "151894            380         0  2020-05-03 00:00:00  2020      5      Sunday   \n",
      "\n",
      "        HOUR  UCR_PART                                             STREET  \\\n",
      "0         12       NaN                                            MORA ST   \n",
      "1         16       NaN                                         POYDRAS ST   \n",
      "2         21       NaN  SUDBURY ST & CAMBRIDGE ST\\nBOSTON  MA 02108\\nU...   \n",
      "3          6       NaN                                      WASHINGTON ST   \n",
      "4         10       NaN                                       LONGWOOD AVE   \n",
      "...      ...       ...                                                ...   \n",
      "151890     0       NaN                                           PARIS ST   \n",
      "151891    18       NaN                                       RIVERSIDE SQ   \n",
      "151892     1       NaN                                        PASADENA RD   \n",
      "151893     1       NaN                                      WASHINGTON ST   \n",
      "151894     0       NaN                                      GALLIVAN BLVD   \n",
      "\n",
      "              Lat       Long                                  Location  \\\n",
      "0       42.282082 -71.073649   (42.28208197671972, -71.07364874515646)   \n",
      "1       42.256216 -71.124019  (42.256215920402155, -71.12401947329023)   \n",
      "2       42.360866 -71.061316   (42.360866027118476, -71.0613160019785)   \n",
      "3       42.329748 -71.084540  (42.329748204791635, -71.08454011649543)   \n",
      "4       42.337442 -71.104281   (42.33744151891779, -71.10428095571272)   \n",
      "...           ...        ...                                       ...   \n",
      "151890  42.374427 -71.035279     (42.3744269722053, -71.0352787630199)   \n",
      "151891  42.256216 -71.124019     (42.2562159204022, -71.1240194732902)   \n",
      "151892  42.305761 -71.083772     (42.3057609263196, -71.0837715727385)   \n",
      "151893  42.323808 -71.089150     (42.3238077563779, -71.0891502345332)   \n",
      "151894  42.283700 -71.047761     (42.2837003080534, -71.0477614298657)   \n",
      "\n",
      "          offense_type  \n",
      "0                 None  \n",
      "1                 None  \n",
      "2                 None  \n",
      "3                 None  \n",
      "4                 None  \n",
      "...                ...  \n",
      "151890            None  \n",
      "151891            None  \n",
      "151892            None  \n",
      "151893            None  \n",
      "151894  property crime  \n",
      "\n",
      "[151895 rows x 19 columns]\n"
     ]
    },
    {
     "name": "stderr",
     "output_type": "stream",
     "text": [
      "<ipython-input-50-f6cf13943862>:38: SettingWithCopyWarning: \n",
      "A value is trying to be set on a copy of a slice from a DataFrame\n",
      "\n",
      "See the caveats in the documentation: https://pandas.pydata.org/pandas-docs/stable/user_guide/indexing.html#returning-a-view-versus-a-copy\n",
      "  cleaned_crime_df['offense_type'][cleaned_crime_df['OFFENSE_DESCRIPTION'].str.lower().str.contains('robbery|assault|rape')] = 'violent crime'\n",
      "<ipython-input-50-f6cf13943862>:39: SettingWithCopyWarning: \n",
      "A value is trying to be set on a copy of a slice from a DataFrame\n",
      "\n",
      "See the caveats in the documentation: https://pandas.pydata.org/pandas-docs/stable/user_guide/indexing.html#returning-a-view-versus-a-copy\n",
      "  cleaned_crime_df['offense_type'][cleaned_crime_df['OFFENSE_DESCRIPTION'].str.lower().str.contains('burglary|larceny|theft|arson')] = 'property crime'\n"
     ]
    },
    {
     "data": {
      "text/html": [
       "<div>\n",
       "<style scoped>\n",
       "    .dataframe tbody tr th:only-of-type {\n",
       "        vertical-align: middle;\n",
       "    }\n",
       "\n",
       "    .dataframe tbody tr th {\n",
       "        vertical-align: top;\n",
       "    }\n",
       "\n",
       "    .dataframe thead th {\n",
       "        text-align: right;\n",
       "    }\n",
       "</style>\n",
       "<table border=\"1\" class=\"dataframe\">\n",
       "  <thead>\n",
       "    <tr style=\"text-align: right;\">\n",
       "      <th></th>\n",
       "      <th>offense_type</th>\n",
       "      <th>YEAR</th>\n",
       "      <th>INCIDENT_NUMBER</th>\n",
       "    </tr>\n",
       "  </thead>\n",
       "  <tbody>\n",
       "    <tr>\n",
       "      <th>0</th>\n",
       "      <td>property crime</td>\n",
       "      <td>2019</td>\n",
       "      <td>12897</td>\n",
       "    </tr>\n",
       "    <tr>\n",
       "      <th>1</th>\n",
       "      <td>property crime</td>\n",
       "      <td>2020</td>\n",
       "      <td>11935</td>\n",
       "    </tr>\n",
       "    <tr>\n",
       "      <th>2</th>\n",
       "      <td>violent crime</td>\n",
       "      <td>2019</td>\n",
       "      <td>8002</td>\n",
       "    </tr>\n",
       "    <tr>\n",
       "      <th>3</th>\n",
       "      <td>violent crime</td>\n",
       "      <td>2020</td>\n",
       "      <td>5033</td>\n",
       "    </tr>\n",
       "  </tbody>\n",
       "</table>\n",
       "</div>"
      ],
      "text/plain": [
       "     offense_type  YEAR  INCIDENT_NUMBER\n",
       "0  property crime  2019            12897\n",
       "1  property crime  2020            11935\n",
       "2   violent crime  2019             8002\n",
       "3   violent crime  2020             5033"
      ]
     },
     "execution_count": 50,
     "metadata": {},
     "output_type": "execute_result"
    }
   ],
   "source": [
    "### set up work dir and read files\n",
    "import os\n",
    "\n",
    "os.chdir('/Users/[editted]/Documents/compsoc/code/boston_crime2019')\n",
    "\n",
    "import pandas as pd\n",
    "\n",
    "df_2019=pd.read_csv('boscrime2019.csv',low_memory=False)\n",
    "df_2020=pd.read_csv('boscrime2020.csv',low_memory=False)\n",
    "df= pd.concat([df_2019, df_2020], ignore_index=True, sort =False)\n",
    "print(df.shape)\n",
    "\n",
    "### clean the data \n",
    "df[df['Long'] == 0] #identfy some real missing yet to be marked as NA\n",
    "\n",
    "import numpy as np\n",
    "df.loc[df['Long']==0, 'Long'] = np.nan #recode long==0 to NA\n",
    "print(df)\n",
    "\n",
    "\n",
    "df_drop = df.dropna(subset=['INCIDENT_NUMBER', 'OFFENSE_CODE', 'DISTRICT', 'Long', 'Lat', 'SHOOTING', 'OCCURRED_ON_DATE'])\n",
    "print(df_drop.shape) #drop NA\n",
    "\n",
    "df_clean=df_drop.drop_duplicates()\n",
    "print(df_clean.shape) #see no duplicates\n",
    "\n",
    "\n",
    "df_clean.to_csv('df_clean.csv') #save new clean file \n",
    "\n",
    "\n",
    "### classify crimes \n",
    "\n",
    "cleaned_crime_df=pd.read_csv('df_clean.csv',low_memory=False)\n",
    "print(cleaned_crime_df.shape)\n",
    "\n",
    "cleaned_crime_df['offense_type'] = None\n",
    "\n",
    "cleaned_crime_df['offense_type'][cleaned_crime_df['OFFENSE_DESCRIPTION'].str.lower().str.contains('robbery|assault|rape')] = 'violent crime'\n",
    "cleaned_crime_df['offense_type'][cleaned_crime_df['OFFENSE_DESCRIPTION'].str.lower().str.contains('burglary|larceny|theft|arson')] = 'property crime'\n",
    "print(cleaned_crime_df)\n",
    "\n",
    "describe_by_offense = cleaned_crime_df.groupby(['offense_type', 'YEAR']).agg({'INCIDENT_NUMBER': 'count'}).reset_index()\n",
    "\n",
    "### des table: total# of crime incidents by year and crime type\n",
    "describe_by_offense"
   ]
  },
  {
   "cell_type": "code",
   "execution_count": 8,
   "id": "db15be9c",
   "metadata": {
    "pycharm": {
     "name": "#%%\n"
    }
   },
   "outputs": [
    {
     "name": "stdout",
     "output_type": "stream",
     "text": [
      "     offense_type  YEAR  INCIDENT_NUMBER\n",
      "0  property crime  2019            12897\n",
      "1  property crime  2020            11935\n",
      "2   violent crime  2019             8002\n",
      "3   violent crime  2020             5033\n"
     ]
    }
   ],
   "source": [
    "print(describe_by_offense)"
   ]
  },
  {
   "cell_type": "markdown",
   "id": "248cb798",
   "metadata": {
    "pycharm": {
     "name": "#%% md\n"
    }
   },
   "source": [
    "- Both property and violent crime incidents decrease from 2019 to 2020. \n",
    "- Property crime incidents occured more frequently than violent crime incidents in botn years. "
   ]
  },
  {
   "cell_type": "markdown",
   "id": "805efe84",
   "metadata": {
    "pycharm": {
     "name": "#%% md\n"
    }
   },
   "source": [
    "#### Task 7.2 Create a scatterplot of annual violent crimes vs. annual property crimes by district in Boston from 2019 to 2020. X axis: annual property crimes. Y axis: annual violent crimes. Use different colors to color data from different years. #### \n"
   ]
  },
  {
   "cell_type": "code",
   "execution_count": 51,
   "id": "c3894da4",
   "metadata": {
    "pycharm": {
     "name": "#%%\n"
    }
   },
   "outputs": [
    {
     "data": {
      "text/plain": [
       "<AxesSubplot:xlabel='annual property crime', ylabel='annual violent crime'>"
      ]
     },
     "execution_count": 51,
     "metadata": {},
     "output_type": "execute_result"
    },
    {
     "data": {
      "image/png": "[encoded data removed]",
      "text/plain": [
       "<Figure size 432x288 with 1 Axes>"
      ]
     },
     "metadata": {
      "needs_background": "light"
     },
     "output_type": "display_data"
    }
   ],
   "source": [
    "import seaborn as sns\n",
    "import matplotlib.pyplot as plt\n",
    "\n",
    "describe_by_district = cleaned_crime_df.groupby(['offense_type', 'YEAR', 'DISTRICT']).agg({'INCIDENT_NUMBER': 'count'}).reset_index()\n",
    "describe_by_district\n",
    "\n",
    "violent_by_district = describe_by_district[describe_by_district['offense_type'] == 'violent crime']\n",
    "violent_by_district \n",
    "\n",
    "property_by_district = describe_by_district[describe_by_district['offense_type'] == 'property crime']\n",
    "property_by_district\n",
    "\n",
    "df=violent_by_district.merge(property_by_district,on=('DISTRICT','YEAR'))\n",
    "\n",
    "df=df.rename(columns={'INCIDENT_NUMBER_x':'annual violent crime','INCIDENT_NUMBER_y':'annual property crime'})\n",
    "df\n",
    "\n",
    "\n",
    "# sns.scatterplot(x='annual property crime', y='annual violent crime', data=df, hue='YEAR')\n",
    "# I dropped data if disrtict==external\n",
    "sns.scatterplot(x='annual property crime', y='annual violent crime', data=df[df.DISTRICT != 'External'], hue='YEAR')\n"
   ]
  },
  {
   "cell_type": "markdown",
   "id": "7bb777a1",
   "metadata": {
    "pycharm": {
     "name": "#%% md\n"
    }
   },
   "source": [
    "#### Task 7.3 Create a bar plot of the sum of annual violent and property crimes by district in Boston from 2019 to 2020. X axis: districts. Y axis: annual sums. Use different bars to represent data from different years. ####"
   ]
  },
  {
   "cell_type": "code",
   "execution_count": 45,
   "id": "7df0d908",
   "metadata": {
    "pycharm": {
     "name": "#%%\n"
    }
   },
   "outputs": [
    {
     "data": {
      "text/plain": [
       "<AxesSubplot:xlabel='DISTRICT', ylabel='annual sums'>"
      ]
     },
     "execution_count": 45,
     "metadata": {},
     "output_type": "execute_result"
    },
    {
     "data": {
      "image/png": "[encoded data removed]",
      "text/plain": [
       "<Figure size 432x288 with 1 Axes>"
      ]
     },
     "metadata": {
      "needs_background": "light"
     },
     "output_type": "display_data"
    }
   ],
   "source": [
    "#create new var annual sums\n",
    "df['annual sums'] = df['annual violent crime'] + df['annual property crime'] \n",
    "df\n",
    "\n",
    "sns.barplot(x='DISTRICT', y='annual sums', data=df, hue='YEAR')\n",
    "\n",
    "#if drop district==external\n",
    "sns.barplot(x='DISTRICT', y='annual sums', data=df[df.DISTRICT != 'External'], hue='YEAR') "
   ]
  },
  {
   "cell_type": "markdown",
   "id": "317cace5",
   "metadata": {
    "pycharm": {
     "name": "#%% md\n"
    }
   },
   "source": [
    "#### Task 7.4 Create a violin plot of district-level shooting incidents by quarter in Boston from 2019 to 2020. X axis: quarters. Y axis: district-level shooting incidents (counts). ####"
   ]
  },
  {
   "cell_type": "code",
   "execution_count": 63,
   "id": "7911ba56",
   "metadata": {
    "pycharm": {
     "name": "#%%\n"
    }
   },
   "outputs": [
    {
     "data": {
      "text/html": [
       "<div>\n",
       "<style scoped>\n",
       "    .dataframe tbody tr th:only-of-type {\n",
       "        vertical-align: middle;\n",
       "    }\n",
       "\n",
       "    .dataframe tbody tr th {\n",
       "        vertical-align: top;\n",
       "    }\n",
       "\n",
       "    .dataframe thead th {\n",
       "        text-align: right;\n",
       "    }\n",
       "</style>\n",
       "<table border=\"1\" class=\"dataframe\">\n",
       "  <thead>\n",
       "    <tr style=\"text-align: right;\">\n",
       "      <th></th>\n",
       "      <th>DISTRICT</th>\n",
       "      <th>YEAR</th>\n",
       "      <th>quarter</th>\n",
       "      <th>SHOOTING</th>\n",
       "    </tr>\n",
       "  </thead>\n",
       "  <tbody>\n",
       "    <tr>\n",
       "      <th>0</th>\n",
       "      <td>A1</td>\n",
       "      <td>2019</td>\n",
       "      <td>q1</td>\n",
       "      <td>0</td>\n",
       "    </tr>\n",
       "    <tr>\n",
       "      <th>1</th>\n",
       "      <td>A1</td>\n",
       "      <td>2019</td>\n",
       "      <td>q2</td>\n",
       "      <td>3</td>\n",
       "    </tr>\n",
       "    <tr>\n",
       "      <th>2</th>\n",
       "      <td>A1</td>\n",
       "      <td>2019</td>\n",
       "      <td>q3</td>\n",
       "      <td>1</td>\n",
       "    </tr>\n",
       "    <tr>\n",
       "      <th>3</th>\n",
       "      <td>A1</td>\n",
       "      <td>2019</td>\n",
       "      <td>q4</td>\n",
       "      <td>2</td>\n",
       "    </tr>\n",
       "    <tr>\n",
       "      <th>4</th>\n",
       "      <td>A1</td>\n",
       "      <td>2020</td>\n",
       "      <td>q1</td>\n",
       "      <td>2</td>\n",
       "    </tr>\n",
       "    <tr>\n",
       "      <th>...</th>\n",
       "      <td>...</td>\n",
       "      <td>...</td>\n",
       "      <td>...</td>\n",
       "      <td>...</td>\n",
       "    </tr>\n",
       "    <tr>\n",
       "      <th>97</th>\n",
       "      <td>External</td>\n",
       "      <td>2019</td>\n",
       "      <td>q4</td>\n",
       "      <td>0</td>\n",
       "    </tr>\n",
       "    <tr>\n",
       "      <th>98</th>\n",
       "      <td>External</td>\n",
       "      <td>2020</td>\n",
       "      <td>q1</td>\n",
       "      <td>0</td>\n",
       "    </tr>\n",
       "    <tr>\n",
       "      <th>99</th>\n",
       "      <td>External</td>\n",
       "      <td>2020</td>\n",
       "      <td>q2</td>\n",
       "      <td>0</td>\n",
       "    </tr>\n",
       "    <tr>\n",
       "      <th>100</th>\n",
       "      <td>External</td>\n",
       "      <td>2020</td>\n",
       "      <td>q3</td>\n",
       "      <td>1</td>\n",
       "    </tr>\n",
       "    <tr>\n",
       "      <th>101</th>\n",
       "      <td>External</td>\n",
       "      <td>2020</td>\n",
       "      <td>q4</td>\n",
       "      <td>1</td>\n",
       "    </tr>\n",
       "  </tbody>\n",
       "</table>\n",
       "<p>102 rows × 4 columns</p>\n",
       "</div>"
      ],
      "text/plain": [
       "     DISTRICT  YEAR quarter  SHOOTING\n",
       "0          A1  2019      q1         0\n",
       "1          A1  2019      q2         3\n",
       "2          A1  2019      q3         1\n",
       "3          A1  2019      q4         2\n",
       "4          A1  2020      q1         2\n",
       "..        ...   ...     ...       ...\n",
       "97   External  2019      q4         0\n",
       "98   External  2020      q1         0\n",
       "99   External  2020      q2         0\n",
       "100  External  2020      q3         1\n",
       "101  External  2020      q4         1\n",
       "\n",
       "[102 rows x 4 columns]"
      ]
     },
     "execution_count": 63,
     "metadata": {},
     "output_type": "execute_result"
    }
   ],
   "source": [
    "# create quarters\n",
    "cleaned_crime_df.loc[cleaned_crime_df['MONTH'].isin([1, 2, 3]), 'quarter'] = 'q1'\n",
    "cleaned_crime_df.loc[cleaned_crime_df['MONTH'].isin([4, 5, 6]), 'quarter'] = 'q2'\n",
    "cleaned_crime_df.loc[cleaned_crime_df['MONTH'].isin([7, 8, 9]), 'quarter'] = 'q3'\n",
    "cleaned_crime_df.loc[cleaned_crime_df['MONTH'].isin([10, 11, 12]), 'quarter'] = 'q4'\n",
    "\n",
    "describe_by_shooting = cleaned_crime_df.groupby(['DISTRICT','YEAR', 'quarter']).agg({'SHOOTING': 'sum'}).reset_index()\n",
    "\n",
    "describe_by_shooting"
   ]
  },
  {
   "cell_type": "code",
   "execution_count": 61,
   "id": "c5eabfec",
   "metadata": {
    "pycharm": {
     "name": "#%%\n"
    }
   },
   "outputs": [
    {
     "data": {
      "text/plain": [
       "<AxesSubplot:xlabel='SHOOTING', ylabel='quarter'>"
      ]
     },
     "execution_count": 61,
     "metadata": {},
     "output_type": "execute_result"
    },
    {
     "data": {
      "image/png": "[encoded data removed]",
      "text/plain": [
       "<Figure size 432x288 with 1 Axes>"
      ]
     },
     "metadata": {
      "needs_background": "light"
     },
     "output_type": "display_data"
    }
   ],
   "source": [
    "sns.violinplot(y='quarter', x='SHOOTING', data=describe_by_shooting, hue='YEAR' )\n",
    "\n",
    "# or drop district==external\n",
    "# sns.violinplot(y='quarter', x='SHOOTING', data=describe_by_shooting[describe_by_shooting.DISTRICT!='External'], hue='YEAR' )"
   ]
  },
  {
   "cell_type": "code",
   "execution_count": null,
   "id": "0927b686",
   "metadata": {
    "pycharm": {
     "name": "#%%\n"
    }
   },
   "outputs": [],
   "source": []
  }
 ],
 "metadata": {
  "kernelspec": {
   "display_name": "Python 3",
   "language": "python",
   "name": "python3"
  },
  "language_info": {
   "codemirror_mode": {
    "name": "ipython",
    "version": 3
   },
   "file_extension": ".py",
   "mimetype": "text/x-python",
   "name": "python",
   "nbconvert_exporter": "python",
   "pygments_lexer": "ipython3",
   "version": "3.8.8"
  }
 },
 "nbformat": 4,
 "nbformat_minor": 5
}