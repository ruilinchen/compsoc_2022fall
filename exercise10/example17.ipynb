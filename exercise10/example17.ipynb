{
 "cells": [
  {
   "cell_type": "markdown",
   "id": "0344bad5",
   "metadata": {
    "pycharm": {
     "name": "#%% md\n"
    }
   },
   "source": [
    "## Task 1. Create a human mobility network for MA using the provided csv file.          \n",
    "### network node: individual census block group (neighborhood) in MA\n",
    "### network edge: residents from one neighborhood visiting another\n",
    "### weight of network tie: percentage of residents from one neighborhood visiting another         "
   ]
  },
  {
   "cell_type": "code",
   "execution_count": 1,
   "id": "f7954f5d",
   "metadata": {
    "pycharm": {
     "name": "#%%\n"
    }
   },
   "outputs": [
    {
     "name": "stdout",
     "output_type": "stream",
     "text": [
      "Graph with 40292 nodes and 742299 edges\n"
     ]
    },
    {
     "name": "stderr",
     "output_type": "stream",
     "text": [
      "C:\\Users\\sain4\\AppData\\Local\\Temp\\ipykernel_24148\\1779948260.py:18: DeprecationWarning: info is deprecated and will be removed in version 3.0.\n",
      "\n",
      "  print(nx.info(G))\n"
     ]
    }
   ],
   "source": [
    "import networkx as nx\n",
    "import pandas as pd\n",
    "\n",
    "df = pd.read_csv('MA_cbg2cbg_2019_01.csv')\n",
    "df.head()\n",
    "\n",
    "G = nx.Graph()\n",
    "\n",
    "for i in range(len(df)):\n",
    "    orig = df.loc[i, 'poi_cbg']\n",
    "    dest = df.loc[i, 'visitor_census_tract']\n",
    "    tot_res_orig = df.loc[i, 'raw_device_counts']\n",
    "    visits = df.loc[i, 'visitor_count']\n",
    "    per_visit = visits / tot_res_orig\n",
    "    \n",
    "    G.add_edge(orig, dest, weight=per_visit)\n",
    "\n",
    "print(nx.info(G))"
   ]
  },
  {
   "cell_type": "markdown",
   "id": "db24f4ad",
   "metadata": {
    "pycharm": {
     "name": "#%% md\n"
    }
   },
   "source": [
    "### 40,292 nodes & 742,299 edges"
   ]
  },
  {
   "cell_type": "markdown",
   "id": "c4f3ac6f",
   "metadata": {
    "pycharm": {
     "name": "#%% md\n"
    }
   },
   "source": [
    "## Task 2. Calculate weighted node degree and unweighted node degree for each census block group in the mobility network and use the results to create a pandas dataframe. The dataframe should have three columns. One column stores the census block group id, and the other two the two calculated node degrees. "
   ]
  },
  {
   "cell_type": "code",
   "execution_count": 2,
   "id": "3ea24a5d",
   "metadata": {
    "pycharm": {
     "name": "#%%\n"
    }
   },
   "outputs": [
    {
     "data": {
      "text/html": [
       "<div>\n",
       "<style scoped>\n",
       "    .dataframe tbody tr th:only-of-type {\n",
       "        vertical-align: middle;\n",
       "    }\n",
       "\n",
       "    .dataframe tbody tr th {\n",
       "        vertical-align: top;\n",
       "    }\n",
       "\n",
       "    .dataframe thead th {\n",
       "        text-align: right;\n",
       "    }\n",
       "</style>\n",
       "<table border=\"1\" class=\"dataframe\">\n",
       "  <thead>\n",
       "    <tr style=\"text-align: right;\">\n",
       "      <th></th>\n",
       "      <th>Block_Group_ID</th>\n",
       "      <th>Degree</th>\n",
       "      <th>Weighted_Degree</th>\n",
       "    </tr>\n",
       "  </thead>\n",
       "  <tbody>\n",
       "    <tr>\n",
       "      <th>0</th>\n",
       "      <td>250250303003</td>\n",
       "      <td>2936</td>\n",
       "      <td>1.617298</td>\n",
       "    </tr>\n",
       "    <tr>\n",
       "      <th>1</th>\n",
       "      <td>250251010016</td>\n",
       "      <td>609</td>\n",
       "      <td>1.829781</td>\n",
       "    </tr>\n",
       "    <tr>\n",
       "      <th>2</th>\n",
       "      <td>440070008003</td>\n",
       "      <td>77</td>\n",
       "      <td>0.201907</td>\n",
       "    </tr>\n",
       "    <tr>\n",
       "      <th>3</th>\n",
       "      <td>250250923002</td>\n",
       "      <td>600</td>\n",
       "      <td>2.675362</td>\n",
       "    </tr>\n",
       "    <tr>\n",
       "      <th>4</th>\n",
       "      <td>250173686001</td>\n",
       "      <td>3217</td>\n",
       "      <td>1.763752</td>\n",
       "    </tr>\n",
       "    <tr>\n",
       "      <th>...</th>\n",
       "      <td>...</td>\n",
       "      <td>...</td>\n",
       "      <td>...</td>\n",
       "    </tr>\n",
       "    <tr>\n",
       "      <th>40287</th>\n",
       "      <td>170318261003</td>\n",
       "      <td>1</td>\n",
       "      <td>0.000726</td>\n",
       "    </tr>\n",
       "    <tr>\n",
       "      <th>40288</th>\n",
       "      <td>120310144111</td>\n",
       "      <td>1</td>\n",
       "      <td>0.000726</td>\n",
       "    </tr>\n",
       "    <tr>\n",
       "      <th>40289</th>\n",
       "      <td>530330294073</td>\n",
       "      <td>1</td>\n",
       "      <td>0.000726</td>\n",
       "    </tr>\n",
       "    <tr>\n",
       "      <th>40290</th>\n",
       "      <td>360610165001</td>\n",
       "      <td>1</td>\n",
       "      <td>0.000726</td>\n",
       "    </tr>\n",
       "    <tr>\n",
       "      <th>40291</th>\n",
       "      <td>390599772002</td>\n",
       "      <td>1</td>\n",
       "      <td>0.000726</td>\n",
       "    </tr>\n",
       "  </tbody>\n",
       "</table>\n",
       "<p>40292 rows × 3 columns</p>\n",
       "</div>"
      ],
      "text/plain": [
       "       Block_Group_ID  Degree  Weighted_Degree\n",
       "0        250250303003    2936         1.617298\n",
       "1        250251010016     609         1.829781\n",
       "2        440070008003      77         0.201907\n",
       "3        250250923002     600         2.675362\n",
       "4        250173686001    3217         1.763752\n",
       "...               ...     ...              ...\n",
       "40287    170318261003       1         0.000726\n",
       "40288    120310144111       1         0.000726\n",
       "40289    530330294073       1         0.000726\n",
       "40290    360610165001       1         0.000726\n",
       "40291    390599772002       1         0.000726\n",
       "\n",
       "[40292 rows x 3 columns]"
      ]
     },
     "execution_count": 2,
     "metadata": {},
     "output_type": "execute_result"
    }
   ],
   "source": [
    "humbol = pd.DataFrame(data=G.degree(), columns=['Block_Group_ID', 'Degree'])\n",
    "humbolw = pd.DataFrame(data=G.degree(weight=\"weight\"), columns=['Block_Group_ID', 'Weighted_Degree'])\n",
    "\n",
    "humbol = humbol.merge(humbolw, on='Block_Group_ID', how='left')\n",
    "humbol"
   ]
  },
  {
   "cell_type": "markdown",
   "id": "b1b2ff01",
   "metadata": {
    "pycharm": {
     "name": "#%% md\n"
    }
   },
   "source": [
    "## Task 3. Create a plot that visualizes the distribution of the weighted node degrees. Is the human mobility network a scale-free network? In other words, does the degree distribution follow a power law? "
   ]
  },
  {
   "cell_type": "code",
   "execution_count": 3,
   "id": "f28c1fca",
   "metadata": {
    "pycharm": {
     "name": "#%%\n"
    }
   },
   "outputs": [
    {
     "data": {
      "text/plain": [
       "<AxesSubplot: >"
      ]
     },
     "execution_count": 3,
     "metadata": {},
     "output_type": "execute_result"
    },
    {
     "data": {
      "image/png": "[encoded data removed]",
      "text/plain": [
       "<Figure size 640x480 with 1 Axes>"
      ]
     },
     "metadata": {},
     "output_type": "display_data"
    }
   ],
   "source": [
    "humbol.Weighted_Degree.hist(bins=20)"
   ]
  },
  {
   "cell_type": "code",
   "execution_count": 4,
   "id": "fdb09ee6",
   "metadata": {
    "pycharm": {
     "name": "#%%\n"
    }
   },
   "outputs": [
    {
     "data": {
      "text/plain": [
       "<AxesSubplot: >"
      ]
     },
     "execution_count": 4,
     "metadata": {},
     "output_type": "execute_result"
    },
    {
     "data": {
      "image/png": "[encoded data removed]",
      "text/plain": [
       "<Figure size 640x480 with 1 Axes>"
      ]
     },
     "metadata": {},
     "output_type": "display_data"
    }
   ],
   "source": [
    "humbol.Weighted_Degree.hist(bins=20, log=True)"
   ]
  },
  {
   "cell_type": "code",
   "execution_count": 5,
   "id": "96144dfd",
   "metadata": {
    "pycharm": {
     "name": "#%%\n"
    }
   },
   "outputs": [
    {
     "name": "stdout",
     "output_type": "stream",
     "text": [
      "Calculating best minimal value for power law fit\n",
      "xmin progress: 99%\r"
     ]
    },
    {
     "data": {
      "text/plain": [
       "<AxesSubplot: >"
      ]
     },
     "execution_count": 5,
     "metadata": {},
     "output_type": "execute_result"
    },
    {
     "data": {
      "image/png": "[encoded data removed]",
      "text/plain": [
       "<Figure size 640x480 with 1 Axes>"
      ]
     },
     "metadata": {},
     "output_type": "display_data"
    }
   ],
   "source": [
    "import powerlaw # need to pip install powerlaw\n",
    "\n",
    "degseq = sorted([deg for k, deg in G.degree()], reverse=True)\n",
    "fit = powerlaw.Fit(degseq)\n",
    "\n",
    "fig = fit.plot_pdf(color='b')\n",
    "fit.power_law.plot_pdf(color='g', linestyle='--', ax=fig)"
   ]
  },
  {
   "cell_type": "markdown",
   "id": "b81e4aec",
   "metadata": {
    "pycharm": {
     "name": "#%% md\n"
    }
   },
   "source": [
    "### scale-free network: logarithmic histogram above shows negative linear decline, suggestive of exponential decline. After installing powerlaw module, can use powerlaw chart to see the data seems to follow quite closely the power-law"
   ]
  },
  {
   "cell_type": "markdown",
   "id": "1831e697",
   "metadata": {
    "pycharm": {
     "name": "#%% md\n"
    }
   },
   "source": [
    "## Explores \"six degrees of separation\" by two different approaches. Checking all pair lengths mean 1.6 x 10^9 operations (time-intensive!). Method 1 checks the path length of randomly selected nodes against all other nodes, returning a dictionary of all path lengths. Method 2 finds the max shortest path length for every node against all other nodes, returnign a dictionary of max path lengths. Given scale of operations, method 1 runs considerably faster"
   ]
  },
  {
   "cell_type": "code",
   "execution_count": 6,
   "id": "3d8a1bfa",
   "metadata": {
    "scrolled": true,
    "pycharm": {
     "name": "#%%\n"
    }
   },
   "outputs": [
    {
     "name": "stdout",
     "output_type": "stream",
     "text": [
      "1. Checked all pairs of node 250173834004\n",
      "\n",
      "2. Checked all pairs of node 250277281002\n",
      "\n",
      "3. Checked all pairs of node 250138111012\n",
      "\n",
      "4. Checked all pairs of node 250235105023\n",
      "\n",
      "5. Checked all pairs of node 90117131001\n",
      "\n",
      "6. Checked all pairs of node 420710115034\n",
      "\n",
      "7. Checked all pairs of node 420110001001\n",
      "\n",
      "8. Checked all pairs of node 360379511002\n",
      "\n",
      "9. Checked all pairs of node 391690019002\n",
      "\n",
      "10. Checked all pairs of node 370499613021\n",
      "\n",
      "11. Checked all pairs of node 230099663003\n",
      "\n",
      "12. Checked all pairs of node 360910618002\n",
      "\n",
      "13. Checked all pairs of node 110010040013\n",
      "\n",
      "14. Checked all pairs of node 470370139001\n",
      "\n",
      "15. Checked all pairs of node 120710105023\n",
      "\n",
      "0\n",
      "1000\n",
      "2000\n",
      "3000\n",
      "4000\n",
      "5000\n",
      "6000\n",
      "7000\n",
      "8000\n",
      "9000\n",
      "10000\n",
      "11000\n",
      "12000\n",
      "13000\n",
      "14000\n",
      "15000\n",
      "16000\n",
      "17000\n",
      "18000\n",
      "19000\n",
      "20000\n",
      "21000\n",
      "22000\n",
      "23000\n",
      "24000\n",
      "25000\n",
      "26000\n",
      "27000\n",
      "28000\n",
      "29000\n",
      "30000\n",
      "31000\n",
      "32000\n",
      "33000\n",
      "34000\n",
      "35000\n",
      "36000\n",
      "37000\n",
      "38000\n",
      "39000\n",
      "40000\n",
      "{1: 1216, 2: 91174, 0: 15, 3: 342190, 4: 169241, 5: 544}\n",
      "{3: 6, 4: 14913, 5: 17198, 6: 1}\n"
     ]
    },
    {
     "data": {
      "text/plain": [
       "<BarContainer object of 4 artists>"
      ]
     },
     "execution_count": 6,
     "metadata": {},
     "output_type": "execute_result"
    },
    {
     "data": {
      "image/png": "[encoded data removed]",
      "text/plain": [
       "<Figure size 640x480 with 1 Axes>"
      ]
     },
     "metadata": {},
     "output_type": "display_data"
    }
   ],
   "source": [
    "import numpy as np\n",
    "import matplotlib.pyplot as plt\n",
    "from random import sample\n",
    "\n",
    "\n",
    "# 40,292 nodes -- checking each pair is ~1.6*10^9 calculations (i.e. exceedingly long). Instead, let's use \n",
    "# two methods:\n",
    "\n",
    "# Sample_Graph_Check: to save time, samples 15 (or however much desired) random nodes against all other nodes, returning\n",
    "# all path lengths\n",
    "\n",
    "def sample_graph_check(g1):\n",
    "    degsep_dict = {}\n",
    "\n",
    "    rand_rows = sample(range(0, len(g1.nodes())), 15)\n",
    "    counter = 0\n",
    "    \n",
    "    for row, i in enumerate(g1.nodes()):\n",
    "        if any(item == row for item in rand_rows):\n",
    "            for row2, j in enumerate(g1.nodes()):\n",
    "                temp = nx.shortest_path_length(g1, source=i, target=j)\n",
    "                if not np.isnan(temp):\n",
    "                    if temp not in degsep_dict.keys():\n",
    "                        degsep_dict[temp] = 1\n",
    "                    else:\n",
    "                        degsep_dict[temp] += 1\n",
    "            counter += 1\n",
    "            print(f\"{counter}. Checked all pairs of node {i}\\n\")\n",
    "            \n",
    "    return degsep_dict\n",
    "\n",
    "# Full_Graph_Check: time-intensive. Returns shortest path lengths from a source node to all other nodes, then finds the maximum\n",
    "# length. Checks every node as a source node and returns a dictionary of max lengths\n",
    "\n",
    "def full_graph_check(g1):\n",
    "    degsep_dict = {}\n",
    "    \n",
    "    for row, i in enumerate(g1.nodes()):\n",
    "        path=nx.single_source_shortest_path(g1, i)\n",
    "        temp_max = max([len(x) for x in list(path.values())])\n",
    "        if temp_max not in degsep_dict.keys():\n",
    "            degsep_dict[temp_max-1] = 1\n",
    "        else:\n",
    "            degsep_dict[temp_max-1] += 1\n",
    "        if row%1000 == 0:\n",
    "            print(row)\n",
    "    \n",
    "    return degsep_dict\n",
    "\n",
    "sample_degree_dict = sample_graph_check(G) \n",
    "max_degree_dict = full_graph_check(G) # comment to run quicker\n",
    "print(sample_degree_dict)\n",
    "print(max_degree_dict)\n",
    "\n",
    "plt.bar(sample_degree_dict.keys(), sample_degree_dict.values(), color='r')\n",
    "plt.bar(max_degree_dict.keys(), max_degree_dict.values(), color='g')"
   ]
  },
  {
   "cell_type": "markdown",
   "id": "9bcdf194",
   "metadata": {
    "pycharm": {
     "name": "#%% md\n"
    }
   },
   "source": [
    "### Yes, no shortest path exceeds 6 steps"
   ]
  }
 ],
 "metadata": {
  "kernelspec": {
   "display_name": "Python [conda env:compsoc] *",
   "language": "python",
   "name": "conda-env-compsoc-py"
  },
  "language_info": {
   "codemirror_mode": {
    "name": "ipython",
    "version": 3
   },
   "file_extension": ".py",
   "mimetype": "text/x-python",
   "name": "python",
   "nbconvert_exporter": "python",
   "pygments_lexer": "ipython3",
   "version": "3.8.13"
  }
 },
 "nbformat": 4,
 "nbformat_minor": 5
}