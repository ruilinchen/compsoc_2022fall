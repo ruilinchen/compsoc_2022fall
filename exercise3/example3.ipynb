{
 "cells": [
  {
   "cell_type": "markdown",
   "id": "1c3f83d1",
   "metadata": {
    "pycharm": {
     "name": "#%% md\n"
    }
   },
   "source": [
    "# Coding Exercise 3\n",
    "### [editted]"
   ]
  },
  {
   "cell_type": "code",
   "execution_count": 3,
   "id": "29f911ed",
   "metadata": {
    "pycharm": {
     "name": "#%%\n"
    }
   },
   "outputs": [
    {
     "name": "stdout",
     "output_type": "stream",
     "text": [
      "enter a list element separated by space 5 6 7 8\n",
      "The range between the max and the min\n",
      "3\n"
     ]
    }
   ],
   "source": [
    "\"\"\"\n",
    "Task 3.1 Write a function that takes a list of numbers as input,\n",
    "finds the largest and smallest element of the list,\n",
    "and returns the largest element minus the smallest element as output.\n",
    "\"\"\"\n",
    "#to accept a list of integers from user\n",
    "input_string = input(\"enter a list element separated by space \")\n",
    "list  = input_string.split()\n",
    "\n",
    "#to find the minimum and maximum of the list\n",
    "min_val = min(list)\n",
    "max_val = max(list)\n",
    "\n",
    "#to find the range between the max and the min\n",
    "range_data = (int(max_val)) - (int(min_val))\n",
    "print(\"The range between the max and the min in the list\")\n",
    "print(range_data)"
   ]
  },
  {
   "cell_type": "code",
   "execution_count": 4,
   "id": "e088e91c",
   "metadata": {
    "pycharm": {
     "name": "#%%\n"
    }
   },
   "outputs": [
    {
     "name": "stdout",
     "output_type": "stream",
     "text": [
      "['1' 'a' '2' 'b' '3' 'c']\n"
     ]
    }
   ],
   "source": [
    "\"\"\"\n",
    "Task 3.2 Write a function that takes two lists as input,\n",
    "combines them by alternatively taking their elements,\n",
    "e.g. [a,b,c], [1,2,3] → [a,1,b,2,c,3], and returns the combined list as output. \n",
    "\n",
    "\"\"\"\n",
    "\n",
    "# Python3 program to merge two lists \n",
    "# alternatively\n",
    "#Method1:\n",
    "import numpy as np\n",
    "  \n",
    "def countList(lst1, lst2):\n",
    "    return np.array([[i, j] for i, j in zip(lst1, lst2)]).ravel()\n",
    "      \n",
    "# Students ID\n",
    "lst1 = [1, 2, 3]\n",
    "lst2 = ['a', 'b', 'c']\n",
    "print(countList(lst1, lst2))\n"
   ]
  },
  {
   "cell_type": "code",
   "execution_count": 11,
   "id": "2920fab1",
   "metadata": {
    "pycharm": {
     "name": "#%%\n"
    }
   },
   "outputs": [
    {
     "name": "stdout",
     "output_type": "stream",
     "text": [
      "[23, 'Nahid', 45, 'James', 36, 'Alice']\n"
     ]
    }
   ],
   "source": [
    "#Method2 for Task3.2:\n",
    "def countList(lst1, lst2):\n",
    "    return [sub[item] for item in range(len(lst2))\n",
    "                      for sub in [lst1, lst2]]\n",
    "      \n",
    "# Students ID\n",
    "lst1 = [23, 45, 36]\n",
    "lst2 = ['Nahid', 'James', 'Alice']\n",
    "print(countList(lst1, lst2))"
   ]
  },
  {
   "cell_type": "code",
   "execution_count": 12,
   "id": "665ae944",
   "metadata": {
    "pycharm": {
     "name": "#%%\n"
    }
   },
   "outputs": [
    {
     "name": "stdout",
     "output_type": "stream",
     "text": [
      "{14: 4, 1: 3, 15: 2, 31: 1, 3: 1, 24: 2, 12: 2}\n"
     ]
    }
   ],
   "source": [
    "\"\"\"\n",
    "Task 3.3 Write a function that takes a list as input,\n",
    "and returns a frequency table of the list in the format of a dictionary.\n",
    "Example: ['a', 'b', 'a'] -> {'a': 2, 'b': 1} \n",
    "\n",
    "\"\"\"\n",
    "\n",
    "# Python program to count the frequency of\n",
    "# elements in a list using a dictionary\n",
    " \n",
    "def CountFrequency(my_list):\n",
    "     \n",
    "   # Creating an empty dictionary\n",
    "   count = {}\n",
    "   for i in [14, 1, 14, 15, 15, 31, 1, 14, 3, 1 ,14, 24, 24, 12, 12]:\n",
    "    count[i] = count.get(i, 0) + 1\n",
    "   return count\n",
    " \n",
    "# Driver function\n",
    "if __name__ == \"__main__\":\n",
    "    my_list =[1, 1, 1, 5, 5, 3, 1, 3, 3, 1, 4, 4, 4, 2, 2, 2, 2]\n",
    "    print(CountFrequency(my_list))"
   ]
  },
  {
   "cell_type": "code",
   "execution_count": 10,
   "id": "de424f1b",
   "metadata": {
    "pycharm": {
     "name": "#%%\n"
    }
   },
   "outputs": [
    {
     "name": "stdout",
     "output_type": "stream",
     "text": [
      "{5}\n",
      "no common elements\n"
     ]
    }
   ],
   "source": [
    "\"\"\"\n",
    "Task 3.4 Write a function that takes two lists as input,\n",
    "and returns another list that contains only the elements that are common between the two lists (without duplicates).\n",
    "Hint: Use `set` for this task. \n",
    "# Python program to find common elements in\n",
    "# both sets using intersection function in\n",
    "# sets\n",
    "\"\"\"\n",
    " \n",
    " \n",
    "#function\n",
    "def common_member(a, b):   \n",
    "    a_set = set(a)\n",
    "    b_set = set(b)\n",
    "     \n",
    "    # check length\n",
    "    if len(a_set.intersection(b_set)) > 0:\n",
    "        return(a_set.intersection(b_set)) \n",
    "    else:\n",
    "        return(\"no common elements\")\n",
    "     \n",
    "  \n",
    "a = [1, 2, 7, 4, 5]\n",
    "b = [5, 6, 8, 9]\n",
    "print(common_member(a, b))\n",
    "  \n",
    "a =[1, 2, 3, 4, 5]\n",
    "b =[6, 7, 8, 9]\n",
    "print(common_member(a, b))"
   ]
  },
  {
   "cell_type": "code",
   "execution_count": null,
   "id": "04247135",
   "metadata": {
    "pycharm": {
     "name": "#%%\n"
    }
   },
   "outputs": [],
   "source": []
  }
 ],
 "metadata": {
  "kernelspec": {
   "display_name": "Python 3 (ipykernel)",
   "language": "python",
   "name": "python3"
  },
  "language_info": {
   "codemirror_mode": {
    "name": "ipython",
    "version": 3
   },
   "file_extension": ".py",
   "mimetype": "text/x-python",
   "name": "python",
   "nbconvert_exporter": "python",
   "pygments_lexer": "ipython3",
   "version": "3.9.12"
  }
 },
 "nbformat": 4,
 "nbformat_minor": 5
}