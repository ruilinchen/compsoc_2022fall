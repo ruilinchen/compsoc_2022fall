{
 "cells": [
  {
   "cell_type": "markdown",
   "id": "37c3f855-16a9-4b75-8ded-1e0b5d46d63e",
   "metadata": {
    "pycharm": {
     "name": "#%% md\n"
    }
   },
   "source": [
    "#### Task 1. "
   ]
  },
  {
   "cell_type": "code",
   "execution_count": 2,
   "id": "e5587e50-a0cc-480a-a136-dd742e068e16",
   "metadata": {
    "pycharm": {
     "name": "#%%\n"
    }
   },
   "outputs": [
    {
     "name": "stdout",
     "output_type": "stream",
     "text": [
      "files in the folder: ['MA_cbg2cbg_2019_09.csv', 'MA_cbg2cbg_2019_08.csv', '.DS_Store', 'test.csv', 'README.txt', 'MA_cbg2cbg_2019_03.csv', '.ipynb_checkpoints', 'MA_cbg2cbg_2019_02.csv', 'MA_cbg2cbg_2019_01.csv', 'MA_cbg2cbg_2019_05.csv', 'MA_cbg2cbg_2019_11.csv', 'MA_cbg2cbg_2019_10.csv', 'MA_cbg2cbg_2019_04.csv', 'MA_cbg2cbg_2019_12.csv', 'MA_cbg2cbg_2019_06.csv', 'MA_linecounts.json', 'MA_cbg2cbg_2019_07.csv']\n"
     ]
    }
   ],
   "source": [
    "import os\n",
    "import pandas as pd\n",
    "import networkx as nx\n",
    "\n",
    "path='/Users/[editted]/Dropbox/work/compsoc/dataset/MA_cbg_human_mobility_2019'\n",
    "os.chdir(path)\n",
    "print('files in the folder:', os.listdir())"
   ]
  },
  {
   "cell_type": "code",
   "execution_count": 3,
   "id": "0d8c17d1-a541-44d1-95cf-815287303d08",
   "metadata": {
    "pycharm": {
     "name": "#%%\n"
    }
   },
   "outputs": [
    {
     "name": "stdout",
     "output_type": "stream",
     "text": [
      "Graph with 40292 nodes and 742299 edges\n"
     ]
    },
    {
     "name": "stderr",
     "output_type": "stream",
     "text": [
      "/var/folders/1b/s20n0f295fn5s0f986q3fppc0000gn/T/ipykernel_11050/1199343417.py:13: DeprecationWarning: info is deprecated and will be removed in version 3.0.\n",
      "\n",
      "  print(nx.info(G))\n"
     ]
    }
   ],
   "source": [
    "ma_df = pd.read_csv('MA_cbg2cbg_2019_01.csv')\n",
    "\n",
    "G = nx.Graph()\n",
    "\n",
    "for i in range(len(ma_df)):\n",
    "    origin_cbg = ma_df.loc[i, 'poi_cbg']\n",
    "    destination_cbg = ma_df.loc[i, 'visitor_census_tract']\n",
    "    total_residents_in_origin = ma_df.loc[i, 'raw_device_counts']\n",
    "    num_visitor = ma_df.loc[i, 'visitor_count']\n",
    "    percent_visitor = num_visitor / total_residents_in_origin\n",
    "    G.add_edge(origin_cbg, destination_cbg, weight=percent_visitor)\n",
    "\n",
    "print(nx.info(G))"
   ]
  },
  {
   "cell_type": "markdown",
   "id": "c15b0a0d-fbec-41e0-a78c-52e1f8c0916f",
   "metadata": {
    "tags": [],
    "pycharm": {
     "name": "#%% md\n"
    }
   },
   "source": [
    "#### Task 2. "
   ]
  },
  {
   "cell_type": "code",
   "execution_count": 30,
   "id": "a4e33bc2-b19a-4aaf-8bc3-b6e5d5f545c2",
   "metadata": {
    "pycharm": {
     "name": "#%%\n"
    }
   },
   "outputs": [
    {
     "data": {
      "text/html": [
       "<div>\n",
       "<style scoped>\n",
       "    .dataframe tbody tr th:only-of-type {\n",
       "        vertical-align: middle;\n",
       "    }\n",
       "\n",
       "    .dataframe tbody tr th {\n",
       "        vertical-align: top;\n",
       "    }\n",
       "\n",
       "    .dataframe thead th {\n",
       "        text-align: right;\n",
       "    }\n",
       "</style>\n",
       "<table border=\"1\" class=\"dataframe\">\n",
       "  <thead>\n",
       "    <tr style=\"text-align: right;\">\n",
       "      <th></th>\n",
       "      <th>node</th>\n",
       "      <th>degree</th>\n",
       "      <th>weighted degree</th>\n",
       "    </tr>\n",
       "  </thead>\n",
       "  <tbody>\n",
       "    <tr>\n",
       "      <th>0</th>\n",
       "      <td>250250303003</td>\n",
       "      <td>2936</td>\n",
       "      <td>1.617298</td>\n",
       "    </tr>\n",
       "    <tr>\n",
       "      <th>1</th>\n",
       "      <td>250251010016</td>\n",
       "      <td>609</td>\n",
       "      <td>1.829781</td>\n",
       "    </tr>\n",
       "    <tr>\n",
       "      <th>2</th>\n",
       "      <td>440070008003</td>\n",
       "      <td>77</td>\n",
       "      <td>0.201907</td>\n",
       "    </tr>\n",
       "    <tr>\n",
       "      <th>3</th>\n",
       "      <td>250250923002</td>\n",
       "      <td>600</td>\n",
       "      <td>2.675362</td>\n",
       "    </tr>\n",
       "    <tr>\n",
       "      <th>4</th>\n",
       "      <td>250173686001</td>\n",
       "      <td>3217</td>\n",
       "      <td>1.763752</td>\n",
       "    </tr>\n",
       "    <tr>\n",
       "      <th>...</th>\n",
       "      <td>...</td>\n",
       "      <td>...</td>\n",
       "      <td>...</td>\n",
       "    </tr>\n",
       "    <tr>\n",
       "      <th>40287</th>\n",
       "      <td>170318261003</td>\n",
       "      <td>1</td>\n",
       "      <td>0.000726</td>\n",
       "    </tr>\n",
       "    <tr>\n",
       "      <th>40288</th>\n",
       "      <td>120310144111</td>\n",
       "      <td>1</td>\n",
       "      <td>0.000726</td>\n",
       "    </tr>\n",
       "    <tr>\n",
       "      <th>40289</th>\n",
       "      <td>530330294073</td>\n",
       "      <td>1</td>\n",
       "      <td>0.000726</td>\n",
       "    </tr>\n",
       "    <tr>\n",
       "      <th>40290</th>\n",
       "      <td>360610165001</td>\n",
       "      <td>1</td>\n",
       "      <td>0.000726</td>\n",
       "    </tr>\n",
       "    <tr>\n",
       "      <th>40291</th>\n",
       "      <td>390599772002</td>\n",
       "      <td>1</td>\n",
       "      <td>0.000726</td>\n",
       "    </tr>\n",
       "  </tbody>\n",
       "</table>\n",
       "<p>40292 rows × 3 columns</p>\n",
       "</div>"
      ],
      "text/plain": [
       "               node  degree  weighted degree\n",
       "0      250250303003    2936         1.617298\n",
       "1      250251010016     609         1.829781\n",
       "2      440070008003      77         0.201907\n",
       "3      250250923002     600         2.675362\n",
       "4      250173686001    3217         1.763752\n",
       "...             ...     ...              ...\n",
       "40287  170318261003       1         0.000726\n",
       "40288  120310144111       1         0.000726\n",
       "40289  530330294073       1         0.000726\n",
       "40290  360610165001       1         0.000726\n",
       "40291  390599772002       1         0.000726\n",
       "\n",
       "[40292 rows x 3 columns]"
      ]
     },
     "execution_count": 30,
     "metadata": {},
     "output_type": "execute_result"
    }
   ],
   "source": [
    "mn_df=pd.DataFrame(G.degree(), columns=['node', 'degree'])\n",
    "mn_w_df=pd.DataFrame(G.degree(weight='weight'), columns=['node', 'weighted degree'])\n",
    "mn_w_uw= mn_df.merge(mn_w_df, how='left', on='node')\n",
    "mn_w_uw"
   ]
  },
  {
   "cell_type": "code",
   "execution_count": 5,
   "id": "63b3cf92-c2c7-4793-bd82-66921cdb24b9",
   "metadata": {
    "pycharm": {
     "name": "#%%\n"
    }
   },
   "outputs": [
    {
     "name": "stdout",
     "output_type": "stream",
     "text": [
      "count    40292.000000\n",
      "mean         0.177012\n",
      "std          0.454297\n",
      "min          0.000046\n",
      "25%          0.001137\n",
      "50%          0.004208\n",
      "75%          0.015191\n",
      "max          4.507224\n",
      "Name: weighted degree, dtype: float64\n"
     ]
    }
   ],
   "source": [
    "print(mn_w_uw['weighted degree'].describe())"
   ]
  },
  {
   "cell_type": "markdown",
   "id": "11238e20-d69e-45cc-ad10-d45fdb3d57c4",
   "metadata": {
    "tags": [],
    "pycharm": {
     "name": "#%% md\n"
    }
   },
   "source": [
    "#### Task 3. "
   ]
  },
  {
   "cell_type": "code",
   "execution_count": 6,
   "id": "0370ec9f-a882-4143-ad01-63b0ca0c5cd7",
   "metadata": {
    "pycharm": {
     "name": "#%%\n"
    }
   },
   "outputs": [
    {
     "data": {
      "text/plain": [
       "<AxesSubplot:xlabel='weighted degree', ylabel='Count'>"
      ]
     },
     "execution_count": 6,
     "metadata": {},
     "output_type": "execute_result"
    },
    {
     "data": {
      "image/png": "[encoded data removed]",
      "text/plain": [
       "<Figure size 1500x400 with 1 Axes>"
      ]
     },
     "metadata": {},
     "output_type": "display_data"
    }
   ],
   "source": [
    "import matplotlib.pyplot as plt\n",
    "import seaborn as sns\n",
    "plt.figure(figsize=(15,4))\n",
    "sns.histplot(x='weighted degree', data=mn_w_uw, binwidth=0.01)\n",
    "# This distribution of the weighted node degrees is following a power law because there are a few nodes that have a higer level of weighted degrees while most of nodes' weighted degrees are close to 0 ."
   ]
  },
  {
   "cell_type": "code",
   "execution_count": 39,
   "id": "039c4190-86e1-411c-ba7f-3048ffef1630",
   "metadata": {
    "pycharm": {
     "name": "#%%\n"
    }
   },
   "outputs": [
    {
     "data": {
      "text/plain": [
       "<AxesSubplot:xlabel='weighted degree', ylabel='Count'>"
      ]
     },
     "execution_count": 39,
     "metadata": {},
     "output_type": "execute_result"
    },
    {
     "data": {
      "image/png": "[encoded data removed]",
      "text/plain": [
       "<Figure size 1500x400 with 1 Axes>"
      ]
     },
     "metadata": {},
     "output_type": "display_data"
    }
   ],
   "source": [
    "import matplotlib.pyplot as plt\n",
    "import seaborn as sns\n",
    "plt.figure(figsize=(15,4))\n",
    "sns.histplot(x='weighted degree', data=mn_w_uw, binwidth=0.01, log_scale=True)\n",
    "# This distribution of the weighted node degrees is following a power law because there are some nodes that have a higer level of weighted degrees while most of nodes' weighted degrees are close to 0 ."
   ]
  },
  {
   "cell_type": "code",
   "execution_count": null,
   "id": "b6558dd6-0c59-4b5b-bffe-b05178eee98b",
   "metadata": {
    "pycharm": {
     "name": "#%%\n"
    }
   },
   "outputs": [],
   "source": []
  }
 ],
 "metadata": {
  "kernelspec": {
   "display_name": "Python [conda env:compsoc] *",
   "language": "python",
   "name": "conda-env-compsoc-py"
  },
  "language_info": {
   "codemirror_mode": {
    "name": "ipython",
    "version": 3
   },
   "file_extension": ".py",
   "mimetype": "text/x-python",
   "name": "python",
   "nbconvert_exporter": "python",
   "pygments_lexer": "ipython3",
   "version": "3.8.13"
  }
 },
 "nbformat": 4,
 "nbformat_minor": 5
}