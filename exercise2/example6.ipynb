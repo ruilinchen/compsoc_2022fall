{
 "cells": [
  {
   "cell_type": "markdown",
   "id": "b88408ea",
   "metadata": {
    "pycharm": {
     "name": "#%% md\n"
    }
   },
   "source": [
    "# Exercise 2\n",
    "[editted]"
   ]
  },
  {
   "cell_type": "markdown",
   "id": "f408db79",
   "metadata": {
    "pycharm": {
     "name": "#%% md\n"
    }
   },
   "source": [
    "## Task 2.1"
   ]
  },
  {
   "cell_type": "code",
   "execution_count": 1,
   "id": "7cb5bd4f",
   "metadata": {
    "pycharm": {
     "name": "#%%\n"
    }
   },
   "outputs": [],
   "source": [
    "def sumForFour (num1, num2, num3, num4): \n",
    "    if isinstance(num1, str): \n",
    "        print(\"Error: input 1 is string\")\n",
    "    elif isinstance(num2, str): \n",
    "        print(\"Error: input 2 is string\")\n",
    "    elif isinstance(num3, str): \n",
    "        print(\"Error: input 3 is string\")\n",
    "    elif isinstance(num4, str): \n",
    "        print(\"Error: input 4 is string\")\n",
    "    else :\n",
    "        print( num1+ num2+ num3+ num4)"
   ]
  },
  {
   "cell_type": "code",
   "execution_count": 2,
   "id": "79c0e826",
   "metadata": {
    "pycharm": {
     "name": "#%%\n"
    }
   },
   "outputs": [
    {
     "name": "stdout",
     "output_type": "stream",
     "text": [
      "10\n"
     ]
    }
   ],
   "source": [
    "sumForFour(1,2,3,4)"
   ]
  },
  {
   "cell_type": "markdown",
   "id": "455916a7",
   "metadata": {
    "pycharm": {
     "name": "#%% md\n"
    }
   },
   "source": [
    "## Task 2.2"
   ]
  },
  {
   "cell_type": "code",
   "execution_count": 3,
   "id": "723f6324",
   "metadata": {
    "pycharm": {
     "name": "#%%\n"
    }
   },
   "outputs": [],
   "source": [
    "def sumforn (n): \n",
    "    if isinstance(n, int): \n",
    "        print(int((1+n)*n/2))\n",
    "    else: \n",
    "        print(\"Error: input is converted to an integer.\")\n",
    "        print(int((1+int(n))*int(n)/2))"
   ]
  },
  {
   "cell_type": "code",
   "execution_count": 4,
   "id": "b70bf9dd",
   "metadata": {
    "pycharm": {
     "name": "#%%\n"
    }
   },
   "outputs": [
    {
     "name": "stdout",
     "output_type": "stream",
     "text": [
      "10\n"
     ]
    }
   ],
   "source": [
    "sumforn(4)"
   ]
  },
  {
   "cell_type": "code",
   "execution_count": 5,
   "id": "af9d99e0",
   "metadata": {
    "pycharm": {
     "name": "#%%\n"
    }
   },
   "outputs": [
    {
     "name": "stdout",
     "output_type": "stream",
     "text": [
      "Error: input is converted to an integer.\n",
      "15\n"
     ]
    }
   ],
   "source": [
    "sumforn(5.5)"
   ]
  },
  {
   "cell_type": "markdown",
   "id": "7b3da8bb",
   "metadata": {
    "pycharm": {
     "name": "#%% md\n"
    }
   },
   "source": [
    "## Task 2.3 "
   ]
  },
  {
   "cell_type": "code",
   "execution_count": 6,
   "id": "d70f7a23",
   "metadata": {
    "pycharm": {
     "name": "#%%\n"
    }
   },
   "outputs": [
    {
     "data": {
      "text/plain": "0.6568760067300458"
     },
     "execution_count": 6,
     "metadata": {},
     "output_type": "execute_result"
    }
   ],
   "source": [
    "import random\n",
    "random.random()"
   ]
  },
  {
   "cell_type": "markdown",
   "id": "36aeba60",
   "metadata": {
    "pycharm": {
     "name": "#%% md\n"
    }
   },
   "source": [
    "we are importing a module to have randomized items. Next, we are generating a number with random integer and decimal points. "
   ]
  }
 ],
 "metadata": {
  "kernelspec": {
   "display_name": "Python 3 (ipykernel)",
   "language": "python",
   "name": "python3"
  },
  "language_info": {
   "codemirror_mode": {
    "name": "ipython",
    "version": 3
   },
   "file_extension": ".py",
   "mimetype": "text/x-python",
   "name": "python",
   "nbconvert_exporter": "python",
   "pygments_lexer": "ipython3",
   "version": "3.9.10+"
  }
 },
 "nbformat": 4,
 "nbformat_minor": 5
}