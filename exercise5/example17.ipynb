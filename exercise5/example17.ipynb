{
 "cells": [
  {
   "cell_type": "markdown",
   "metadata": {
    "pycharm": {
     "name": "#%% md\n"
    }
   },
   "source": [
    "# Task 5.1"
   ]
  },
  {
   "cell_type": "code",
   "execution_count": 6,
   "metadata": {
    "pycharm": {
     "name": "#%%\n"
    }
   },
   "outputs": [],
   "source": [
    "from zipfile import ZipFile, BadZipfile"
   ]
  },
  {
   "cell_type": "code",
   "execution_count": 7,
   "metadata": {
    "pycharm": {
     "name": "#%%\n"
    }
   },
   "outputs": [],
   "source": [
    "zf = ZipFile(\"MA_cbg_human_mobility_2019.zip\")"
   ]
  },
  {
   "cell_type": "code",
   "execution_count": 8,
   "metadata": {
    "pycharm": {
     "name": "#%%\n"
    }
   },
   "outputs": [
    {
     "name": "stdout",
     "output_type": "stream",
     "text": [
      "['MA_cbg_human_mobility_2019/', 'MA_cbg_human_mobility_2019/MA_cbg2cbg_2019_09.csv', '__MACOSX/MA_cbg_human_mobility_2019/._MA_cbg2cbg_2019_09.csv', 'MA_cbg_human_mobility_2019/MA_cbg2cbg_2019_08.csv', '__MACOSX/MA_cbg_human_mobility_2019/._MA_cbg2cbg_2019_08.csv', 'MA_cbg_human_mobility_2019/.DS_Store', '__MACOSX/MA_cbg_human_mobility_2019/._.DS_Store', 'MA_cbg_human_mobility_2019/README.txt', '__MACOSX/MA_cbg_human_mobility_2019/._README.txt', 'MA_cbg_human_mobility_2019/MA_cbg2cbg_2019_03.csv', '__MACOSX/MA_cbg_human_mobility_2019/._MA_cbg2cbg_2019_03.csv', 'MA_cbg_human_mobility_2019/MA_cbg2cbg_2019_02.csv', '__MACOSX/MA_cbg_human_mobility_2019/._MA_cbg2cbg_2019_02.csv', 'MA_cbg_human_mobility_2019/MA_cbg2cbg_2019_01.csv', '__MACOSX/MA_cbg_human_mobility_2019/._MA_cbg2cbg_2019_01.csv', 'MA_cbg_human_mobility_2019/MA_cbg2cbg_2019_05.csv', '__MACOSX/MA_cbg_human_mobility_2019/._MA_cbg2cbg_2019_05.csv', 'MA_cbg_human_mobility_2019/MA_cbg2cbg_2019_11.csv', '__MACOSX/MA_cbg_human_mobility_2019/._MA_cbg2cbg_2019_11.csv', 'MA_cbg_human_mobility_2019/MA_cbg2cbg_2019_10.csv', '__MACOSX/MA_cbg_human_mobility_2019/._MA_cbg2cbg_2019_10.csv', 'MA_cbg_human_mobility_2019/MA_cbg2cbg_2019_04.csv', '__MACOSX/MA_cbg_human_mobility_2019/._MA_cbg2cbg_2019_04.csv', 'MA_cbg_human_mobility_2019/MA_cbg2cbg_2019_12.csv', '__MACOSX/MA_cbg_human_mobility_2019/._MA_cbg2cbg_2019_12.csv', 'MA_cbg_human_mobility_2019/MA_cbg2cbg_2019_06.csv', '__MACOSX/MA_cbg_human_mobility_2019/._MA_cbg2cbg_2019_06.csv', 'MA_cbg_human_mobility_2019/MA_cbg2cbg_2019_07.csv', '__MACOSX/MA_cbg_human_mobility_2019/._MA_cbg2cbg_2019_07.csv']\n"
     ]
    }
   ],
   "source": [
    "print(zf.namelist())"
   ]
  },
  {
   "cell_type": "markdown",
   "metadata": {
    "pycharm": {
     "name": "#%% md\n"
    }
   },
   "source": [
    "# Task 5.2&5.3"
   ]
  },
  {
   "cell_type": "code",
   "execution_count": 9,
   "metadata": {
    "pycharm": {
     "name": "#%%\n"
    }
   },
   "outputs": [],
   "source": [
    "with ZipFile('MA_cbg_human_mobility_2019.zip', \"r\") as archive:\n",
    "    try:\n",
    "        archive.extractall(path = 'MA_cbg_human_mobility_2019')\n",
    "    except BadZipfile:\n",
    "        print(\"Invalid Zip file\")"
   ]
  },
  {
   "cell_type": "code",
   "execution_count": 10,
   "metadata": {
    "pycharm": {
     "name": "#%%\n"
    }
   },
   "outputs": [],
   "source": [
    "import os\n",
    "import pandas as pd"
   ]
  },
  {
   "cell_type": "code",
   "execution_count": 11,
   "metadata": {
    "scrolled": true,
    "pycharm": {
     "name": "#%%\n"
    }
   },
   "outputs": [
    {
     "data": {
      "text/plain": [
       "['.DS_Store',\n",
       " 'MA_cbg2cbg_2019_01.csv',\n",
       " 'MA_cbg2cbg_2019_02.csv',\n",
       " 'MA_cbg2cbg_2019_03.csv',\n",
       " 'MA_cbg2cbg_2019_04.csv',\n",
       " 'MA_cbg2cbg_2019_05.csv',\n",
       " 'MA_cbg2cbg_2019_06.csv',\n",
       " 'MA_cbg2cbg_2019_07.csv',\n",
       " 'MA_cbg2cbg_2019_08.csv',\n",
       " 'MA_cbg2cbg_2019_09.csv',\n",
       " 'MA_cbg2cbg_2019_10.csv',\n",
       " 'MA_cbg2cbg_2019_11.csv',\n",
       " 'MA_cbg2cbg_2019_12.csv',\n",
       " 'README.txt']"
      ]
     },
     "execution_count": 11,
     "metadata": {},
     "output_type": "execute_result"
    }
   ],
   "source": [
    "file_name = os.listdir(r'MA_cbg_human_mobility_2019/MA_cbg_human_mobility_2019')\n",
    "file_name"
   ]
  },
  {
   "cell_type": "code",
   "execution_count": 12,
   "metadata": {
    "pycharm": {
     "name": "#%%\n"
    }
   },
   "outputs": [
    {
     "name": "stdout",
     "output_type": "stream",
     "text": [
      "MA_cbg_human_mobility_2019/MA_cbg_human_mobility_2019/MA_cbg2cbg_2019_01.csv\n",
      "MA_cbg_human_mobility_2019/MA_cbg_human_mobility_2019/MA_cbg2cbg_2019_02.csv\n",
      "MA_cbg_human_mobility_2019/MA_cbg_human_mobility_2019/MA_cbg2cbg_2019_03.csv\n",
      "MA_cbg_human_mobility_2019/MA_cbg_human_mobility_2019/MA_cbg2cbg_2019_04.csv\n",
      "MA_cbg_human_mobility_2019/MA_cbg_human_mobility_2019/MA_cbg2cbg_2019_05.csv\n",
      "MA_cbg_human_mobility_2019/MA_cbg_human_mobility_2019/MA_cbg2cbg_2019_06.csv\n",
      "MA_cbg_human_mobility_2019/MA_cbg_human_mobility_2019/MA_cbg2cbg_2019_07.csv\n",
      "MA_cbg_human_mobility_2019/MA_cbg_human_mobility_2019/MA_cbg2cbg_2019_08.csv\n",
      "MA_cbg_human_mobility_2019/MA_cbg_human_mobility_2019/MA_cbg2cbg_2019_09.csv\n",
      "MA_cbg_human_mobility_2019/MA_cbg_human_mobility_2019/MA_cbg2cbg_2019_10.csv\n",
      "MA_cbg_human_mobility_2019/MA_cbg_human_mobility_2019/MA_cbg2cbg_2019_11.csv\n",
      "MA_cbg_human_mobility_2019/MA_cbg_human_mobility_2019/MA_cbg2cbg_2019_12.csv\n"
     ]
    }
   ],
   "source": [
    "result = dict()\n",
    "for i in range(len(file_name)):\n",
    "    if file_name[i].startswith('MA'):\n",
    "        file_path = r'MA_cbg_human_mobility_2019/MA_cbg_human_mobility_2019'+ '/'+file_name[i]\n",
    "        print(file_path)\n",
    "        result[file_name[i]] = len(pd.read_csv(file_path))\n",
    "   "
   ]
  },
  {
   "cell_type": "code",
   "execution_count": 13,
   "metadata": {
    "scrolled": true,
    "pycharm": {
     "name": "#%%\n"
    }
   },
   "outputs": [
    {
     "data": {
      "text/plain": [
       "{'MA_cbg2cbg_2019_01.csv': 840593,\n",
       " 'MA_cbg2cbg_2019_02.csv': 818861,\n",
       " 'MA_cbg2cbg_2019_03.csv': 914653,\n",
       " 'MA_cbg2cbg_2019_04.csv': 1011374,\n",
       " 'MA_cbg2cbg_2019_05.csv': 1088294,\n",
       " 'MA_cbg2cbg_2019_06.csv': 1120696,\n",
       " 'MA_cbg2cbg_2019_07.csv': 1119932,\n",
       " 'MA_cbg2cbg_2019_08.csv': 1194284,\n",
       " 'MA_cbg2cbg_2019_09.csv': 1136953,\n",
       " 'MA_cbg2cbg_2019_10.csv': 1010777,\n",
       " 'MA_cbg2cbg_2019_11.csv': 901468,\n",
       " 'MA_cbg2cbg_2019_12.csv': 950661}"
      ]
     },
     "execution_count": 13,
     "metadata": {},
     "output_type": "execute_result"
    }
   ],
   "source": [
    "result"
   ]
  },
  {
   "cell_type": "code",
   "execution_count": 14,
   "metadata": {
    "pycharm": {
     "name": "#%%\n"
    }
   },
   "outputs": [],
   "source": [
    "import json"
   ]
  },
  {
   "cell_type": "code",
   "execution_count": 15,
   "metadata": {
    "pycharm": {
     "name": "#%%\n"
    }
   },
   "outputs": [],
   "source": [
    "with open('test1.json','w') as fp:\n",
    "    json.dump(result,fp)"
   ]
  }
 ],
 "metadata": {
  "kernelspec": {
   "display_name": "Python 3",
   "language": "python",
   "name": "python3"
  },
  "language_info": {
   "codemirror_mode": {
    "name": "ipython",
    "version": 3
   },
   "file_extension": ".py",
   "mimetype": "text/x-python",
   "name": "python",
   "nbconvert_exporter": "python",
   "pygments_lexer": "ipython3",
   "version": "3.7.4"
  },
  "toc": {
   "base_numbering": 1,
   "nav_menu": {},
   "number_sections": true,
   "sideBar": true,
   "skip_h1_title": false,
   "title_cell": "Table of Contents",
   "title_sidebar": "Contents",
   "toc_cell": false,
   "toc_position": {},
   "toc_section_display": true,
   "toc_window_display": false
  },
  "varInspector": {
   "cols": {
    "lenName": 16,
    "lenType": 16,
    "lenVar": 40
   },
   "kernels_config": {
    "python": {
     "delete_cmd_postfix": "",
     "delete_cmd_prefix": "del ",
     "library": "var_list.py",
     "varRefreshCmd": "print(var_dic_list())"
    },
    "r": {
     "delete_cmd_postfix": ") ",
     "delete_cmd_prefix": "rm(",
     "library": "var_list.r",
     "varRefreshCmd": "cat(var_dic_list()) "
    }
   },
   "types_to_exclude": [
    "module",
    "function",
    "builtin_function_or_method",
    "instance",
    "_Feature"
   ],
   "window_display": false
  }
 },
 "nbformat": 4,
 "nbformat_minor": 2
}