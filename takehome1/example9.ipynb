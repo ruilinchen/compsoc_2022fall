{
 "cells": [
  {
   "cell_type": "markdown",
   "id": "071a02a7",
   "metadata": {
    "pycharm": {
     "name": "#%% md\n"
    }
   },
   "source": [
    "Task 1. Integrate information from the “job_url_data” folder into one dictionary. The keys of the dictionary are individual urls scraped from the website, and the values are the earliest date that the corresponding urls were scraped. Save the results into a json file. How many unique job urls have been collected between May 17, 2022 and May 23, 2022? "
   ]
  },
  {
   "cell_type": "code",
   "execution_count": 192,
   "id": "20111e25",
   "metadata": {
    "pycharm": {
     "name": "#%%\n"
    }
   },
   "outputs": [
    {
     "data": {
      "text/plain": [
       "21260"
      ]
     },
     "execution_count": 192,
     "metadata": {},
     "output_type": "execute_result"
    }
   ],
   "source": [
    "#Import required module\n",
    "import csv\n",
    "import json\n",
    "import os\n",
    "import re\n",
    "import pandas as pd\n",
    "import glob\n",
    "#Locate the files\n",
    "directory = 'C:/Users/27737/compsoc/indeed_scraped_data/job_url_data/'\n",
    "dictionary = {}\n",
    "#filter only the files we need\n",
    "for filename in os.listdir(directory):\n",
    "    if 'job' in filename:\n",
    "        csv_read = pd.read_csv(directory + '/' +filename,header=None)\n",
    "        get_date = fileame.split('_')[4] #get dates from file name and save as list\n",
    "        for i in range(1,len(csv_read)):\n",
    "                key = csv_read.iloc[i].values[0]\n",
    "                if key in dictionary:\n",
    "                    fetch_date = dictionary[key]\n",
    "                    if get_date < fetch_date:\n",
    "                        dictionary[key] = get_date #drop the duplicates\n",
    "                else:\n",
    "                    dictionary[key] = get_date\n",
    "with open(\"combined_job_url_data.json\", \"w\") as fp:\n",
    "    json.dump(dictionary , fp) \n",
    "len(dictionary) #count the numbers"
   ]
  },
  {
   "cell_type": "markdown",
   "id": "9f52070e",
   "metadata": {
    "pycharm": {
     "name": "#%% md\n"
    }
   },
   "source": [
    "There are 21260 unique job urls have been collected between May 17, 2022 and May 23, 2022."
   ]
  },
  {
   "cell_type": "markdown",
   "id": "9fbd9ca0",
   "metadata": {
    "pycharm": {
     "name": "#%% md\n"
    }
   },
   "source": [
    "Task 2. Clean and integrate information from the “job_info_data” folder into one data frame. Files from this subfolder might have two different formats. Some of them are csv files, while others are json files. The columns might also be named differently. Find ways to read each of the files into pandas, drop records with missing job titles and/or missing job descriptions, and combine them into one dataframe. Lastly, drop records with duplicate job urls, and then save them into a separate csv file. How many unique jobs are there in the cleaned dataframe? "
   ]
  },
  {
   "cell_type": "code",
   "execution_count": 239,
   "id": "276d28ee",
   "metadata": {
    "scrolled": true,
    "pycharm": {
     "name": "#%%\n"
    }
   },
   "outputs": [
    {
     "name": "stdout",
     "output_type": "stream",
     "text": [
      "                                              lnks_link  \\\n",
      "5     https://www.indeed.com/rc/clk?jk=be4f78522cc9e...   \n",
      "6     https://www.indeed.com/pagead/clk?mo=r&ad=-6NY...   \n",
      "7     https://www.indeed.com/pagead/clk?mo=r&ad=-6NY...   \n",
      "8     https://www.indeed.com/pagead/clk?mo=r&ad=-6NY...   \n",
      "9     https://www.indeed.com/rc/clk?jk=cc5536b8ea743...   \n",
      "...                                                 ...   \n",
      "2649  https://www.indeed.com/rc/clk?jk=c065f2f078370...   \n",
      "2650  https://www.indeed.com/pagead/clk?mo=r&ad=-6NY...   \n",
      "2651  https://www.indeed.com/rc/clk?jk=9fd411ad9ff45...   \n",
      "2652  https://www.indeed.com/rc/clk?jk=c0c5ca61a5161...   \n",
      "2653  https://www.indeed.com/rc/clk?jk=bbfdd84aa83d5...   \n",
      "\n",
      "                                         lnks_job_title  \\\n",
      "5                    Associate Director Data Management   \n",
      "6     Safety and Health Specialist - Great Opportuni...   \n",
      "7                                Sr Material Technician   \n",
      "8                                1st Assistant Engineer   \n",
      "9     Director, Global Audits -Medical Devices & Com...   \n",
      "...                                                 ...   \n",
      "2649                                   Registered Nurse   \n",
      "2650                                      QA Specialist   \n",
      "2651  Manager/Director, FS Regulatory & Compliance -...   \n",
      "2652                            Sr. Contracts Associate   \n",
      "2653  Prepared Foods Cook / Food Production - Full Time   \n",
      "\n",
      "                   lnks_company  \\\n",
      "5                        Otsuka   \n",
      "6              ACT-1 Government   \n",
      "7                           NaN   \n",
      "8     American Seafoods Company   \n",
      "9                      Catalent   \n",
      "...                         ...   \n",
      "2649     Continental Post Acute   \n",
      "2650              firstPRO Inc.   \n",
      "2651                       KPMG   \n",
      "2652   Johns Hopkins University   \n",
      "2653         Whole Foods Market   \n",
      "\n",
      "                                       lnks_company_url lnks_company_location  \\\n",
      "5     https://www.indeed.com/cmp/Otsuka?campaignid=m...   Princeton, NJ 08540   \n",
      "6     https://www.indeed.com/cmp/Act--1-Government?c...       Aiken, SC 29803   \n",
      "7                                                   NaN      Kearny, NJ 07032   \n",
      "8     https://www.indeed.com/cmp/American-Seafoods?c...         United States   \n",
      "9     https://www.indeed.com/cmp/Catalent-Pharma-Sol...    Somerset, NJ 08873   \n",
      "...                                                 ...                   ...   \n",
      "2649  https://www.indeed.com/cmp/Continental-Post-Ac...   Santa Ana, CA 92705   \n",
      "2650  https://www.indeed.com/cmp/Firstpro-Inc.?campa...           Waltham, MA   \n",
      "2651  https://www.indeed.com/cmp/Kpmg-0828bc85?campa...  Washington, DC 20006   \n",
      "2652  https://www.indeed.com/cmp/Johns-Hopkins-Unive...   Baltimore, MD 21218   \n",
      "2653  https://www.indeed.com/cmp/Whole-Foods-Market?...       Rydal, PA 19046   \n",
      "\n",
      "                                   lnks_job_description  \n",
      "5     Job Summary\\nOtsuka is a healthcare company dr...  \n",
      "6     Great opportunity for an experienced Safety & ...  \n",
      "7     Sr Material Technician opportunity with Kelly ...  \n",
      "8     Title of Position: 1stAssistant Engineer\\nStat...  \n",
      "9     As part of the Central Quality & Regulatory Af...  \n",
      "...                                                 ...  \n",
      "2649  Work Location: Orange County\\nHours: 9am-5pm\\n...  \n",
      "2650  FirstPro is now accepting resumes for a Qualit...  \n",
      "2651  The KPMG Advisory practice is currently our fa...  \n",
      "2652  Johns Hopkins University Research Administrati...  \n",
      "2653  Performs all functions related to proper food ...  \n",
      "\n",
      "[1953 rows x 6 columns]\n",
      "                                              lnks_link  \\\n",
      "107   https://www.indeed.com/company/K.-Rost/jobs/Su...   \n",
      "108   https://www.indeed.com/company/North-Island-Cr...   \n",
      "109   https://www.indeed.com/rc/clk?jk=057ce8da7e988...   \n",
      "110   https://www.indeed.com/company/Pennsville-Trea...   \n",
      "111   https://www.indeed.com/rc/clk?jk=d8443c762fd4c...   \n",
      "...                                                 ...   \n",
      "4602  https://www.indeed.com/rc/clk?jk=a8d74ee85d99b...   \n",
      "4604  https://www.indeed.com/rc/clk?jk=c2a99bb4bb751...   \n",
      "4605  https://www.indeed.com/rc/clk?jk=259c9e5110a9a...   \n",
      "4606  https://www.indeed.com/company/Athas-Capital-G...   \n",
      "4608  https://www.indeed.com/company/Radancy_Florida...   \n",
      "\n",
      "                                         lnks_job_title  \\\n",
      "107           Supervisor of Center Quality and Training   \n",
      "108                     Facilities Engineer - San Diego   \n",
      "109   DQM 10K Director of Quality and Risk Managemen...   \n",
      "110                                       RN Supervisor   \n",
      "111                               Mortgage Loan Officer   \n",
      "...                                                 ...   \n",
      "4602                          RN Case Manager Part Time   \n",
      "4604                         Patient Access Coordinator   \n",
      "4605                CCOR Compliance Officer - Associate   \n",
      "4606                                   Internal Auditor   \n",
      "4608  Safety & Health Specialist - Radiation Safety ...   \n",
      "\n",
      "                       lnks_company  \\\n",
      "107      ImmunoTek Bio Centers, LLC   \n",
      "108       North Island Credit Union   \n",
      "109                Vibra Healthcare   \n",
      "110      Pinnacle Treatment Centers   \n",
      "111    Fairway Independent Mortgage   \n",
      "...                             ...   \n",
      "4602         Advocate Aurora Health   \n",
      "4604  Baptist Health System KY & IN   \n",
      "4605      JPMorgan Chase Bank, N.A.   \n",
      "4606      Athas Capital Group, Inc.   \n",
      "4608                    Duke Health   \n",
      "\n",
      "                                       lnks_company_url  \\\n",
      "107   https://www.indeed.com/cmp/K.-Rost?campaignid=...   \n",
      "108   https://www.indeed.com/cmp/North-Island-Credit...   \n",
      "109   https://www.indeed.com/cmp/Vibra-Ernest?campai...   \n",
      "110   https://www.indeed.com/cmp/Pennsville-Treatmen...   \n",
      "111   https://www.indeed.com/cmp/Fairway-Independent...   \n",
      "...                                                 ...   \n",
      "4602  https://www.indeed.com/cmp/Advocate-Aurora-Hea...   \n",
      "4604  https://www.indeed.com/cmp/Baptist-Health-Syst...   \n",
      "4605  https://www.indeed.com/cmp/Chase-2?campaignid=...   \n",
      "4606  https://www.indeed.com/cmp/Athas-Capital-Group...   \n",
      "4608  https://www.indeed.com/cmp/Radancy-Florida-Duk...   \n",
      "\n",
      "        lnks_company_location  \\\n",
      "107        Anniston, AL 36201   \n",
      "108        Glendale, CA 91203   \n",
      "109   Rancho Mirage, CA 92270   \n",
      "110     Chillicothe, OH 45601   \n",
      "111              San Jose, CA   \n",
      "...                       ...   \n",
      "4602        Grafton, WI 53024   \n",
      "4604     New Albany, IN 47150   \n",
      "4605             Columbus, OH   \n",
      "4606         Irvine, CA 92612   \n",
      "4608         Durham, NC 27705   \n",
      "\n",
      "                                   lnks_job_description  \n",
      "107   Essential Job Responsibilities and Duties\\nMai...  \n",
      "108   Overview: General Summary:\\nUnder general supe...  \n",
      "109   Here We Grow Again!\\nOur culture fosters engag...  \n",
      "110   RN Nurse Supervisor\\nWe offer competitive sala...  \n",
      "111   We are seeking an experienced mortgage loan of...  \n",
      "...                                                 ...  \n",
      "4602  Major Responsibilities:\\nConducts complete ass...  \n",
      "4604  Job Description:\\nBHMG - Pain Management Floyd...  \n",
      "4605  Primary responsibilities include:\\nCommunicate...  \n",
      "4606  Job description\\nDo you possess the dream to d...  \n",
      "4608  Safety & Health Specialist II, Radiation Safet...  \n",
      "\n",
      "[1853 rows x 6 columns]\n"
     ]
    }
   ],
   "source": [
    "#check the file's heads in the folder\n",
    "#locate the files\n",
    "os.chdir = ('C:/Users/27737/compsoc/indeed_scraped_data/job_info_data/')\n",
    "directory = 'C:/Users/27737/compsoc/indeed_scraped_data/job_info_data/'\n",
    "#read the json file and drop the nulls\n",
    "with open ('C:/Users/27737/compsoc/indeed_scraped_data/job_info_data/parsehub_5182022_v2.json',encoding='utf—8') as f:\n",
    "    data182=json.load(f)\n",
    "df_nested_list18 = pd.json_normalize(data182, record_path =['lnks'])  \n",
    "df_nested_list18.rename(columns={'link': 'lnks_link', 'job_title': 'lnks_job_title', 'company': 'lnks_company', 'company_url': 'lnks_company_url', 'company_location': 'lnks_company_location', 'job_description': 'lnks_job_description'}, inplace=True)  \n",
    "cdf_18v2=df_nested_list18.dropna(subset=['lnks_job_title', 'lnks_job_description'])\n",
    "print(cdf_18v2) #print to check if it's effective\n",
    "\n",
    "with open ('C:/Users/27737/compsoc/indeed_scraped_data/job_info_data/parsehub_5202022_v2.json',encoding='utf—8') as f2:\n",
    "    data202=json.load(f2)\n",
    "df_nested_list20 = pd.json_normalize(data202, record_path =['lnks'])  \n",
    "df_nested_list20.rename(columns={'link': 'lnks_link', 'job_title': 'lnks_job_title', 'company': 'lnks_company', 'company_url': 'lnks_company_url', 'company_location': 'lnks_company_location', 'job_description': 'lnks_job_description'}, inplace=True)  \n",
    "cdf_20v2=df_nested_list20.dropna(subset=['lnks_job_title', 'lnks_job_description'])\n",
    "print(cdf_20v2)\n",
    "\n",
    "#read the csv files\n",
    "df_17v1 = pd.read_csv('C:/Users/27737/compsoc/indeed_scraped_data/job_info_data/parsehub_5172022_v1.csv', low_memory=False)\n",
    "cdf_17v1=df_17v1.dropna(subset=['lnks_job_title', 'lnks_job_description'])\n",
    "\n",
    "\n",
    "df_17v2 = pd.read_csv('C:/Users/27737/compsoc/indeed_scraped_data/job_info_data/parsehub_5172022_v2.csv', low_memory=False)\n",
    "cdf_17v2=df_17v2.dropna(subset=['lnks_job_title', 'lnks_job_description'])\n",
    "\n",
    "df_18v1 = pd.read_csv('C:/Users/27737/compsoc/indeed_scraped_data/job_info_data/parsehub_5182022_v1.csv', low_memory=False)\n",
    "cdf_18v1=df_18v1.dropna(subset=['lnks_job_title', 'lnks_job_description'])\n",
    "\n",
    "df_19v1 = pd.read_csv('C:/Users/27737/compsoc/indeed_scraped_data/job_info_data/parsehub_5192022_v1.csv', low_memory=False)\n",
    "cdf_19v1=df_19v1.dropna(subset=['lnks_job_title', 'lnks_job_description'])\n",
    "\n",
    "df_19v2 = pd.read_csv('C:/Users/27737/compsoc/indeed_scraped_data/job_info_data/parsehub_5192022_v2.csv', low_memory=False)\n",
    "cdf_19v2=df_19v2.dropna(subset=['lnks_job_title', 'lnks_job_description'])\n",
    "\n",
    "df_20v1 = pd.read_csv('C:/Users/27737/compsoc/indeed_scraped_data/job_info_data/parsehub_5202022_v1.csv', low_memory=False)\n",
    "cdf_20v1=df_20v1.dropna(subset=['lnks_job_title', 'lnks_job_description'])\n",
    "\n",
    "df_21v1 = pd.read_csv('C:/Users/27737/compsoc/indeed_scraped_data/job_info_data/parsehub_5212022_v1.csv', low_memory=False)\n",
    "cdf_21v1=df_21v1.dropna(subset=['lnks_job_title', 'lnks_job_description'])\n",
    "\n",
    "df_21v2 = pd.read_csv('C:/Users/27737/compsoc/indeed_scraped_data/job_info_data/parsehub_5212022_v2.csv', low_memory=False)\n",
    "cdf_21v2=df_21v2.dropna(subset=['lnks_job_title', 'lnks_job_description'])\n",
    "\n",
    "df_22v1 = pd.read_csv('C:/Users/27737/compsoc/indeed_scraped_data/job_info_data/parsehub_5222022_v1.csv', low_memory=False)\n",
    "cdf_22v1=df_22v1.dropna(subset=['lnks_job_title', 'lnks_job_description'])\n",
    "\n",
    "df_22v2 = pd.read_csv('C:/Users/27737/compsoc/indeed_scraped_data/job_info_data/parsehub_5222022_v2.csv', low_memory=False)\n",
    "cdf_22v2=df_22v2.dropna(subset=['lnks_job_title', 'lnks_job_description'])\n",
    "\n",
    "df_22v3 = pd.read_csv('C:/Users/27737/compsoc/indeed_scraped_data/job_info_data/parsehub_5222022_v3.csv', low_memory=False)\n",
    "cdf_22v3=df_22v3.dropna(subset=['lnks_job_title', 'lnks_job_description'])\n",
    "\n",
    "df_22v4 = pd.read_csv('C:/Users/27737/compsoc/indeed_scraped_data/job_info_data/parsehub_5222022_v4.csv', low_memory=False)\n",
    "cdf_22v4=df_22v4.dropna(subset=['lnks_job_title', 'lnks_job_description'])\n",
    "\n",
    "df_22v5 = pd.read_csv('C:/Users/27737/compsoc/indeed_scraped_data/job_info_data/parsehub_5222022_v5.csv', low_memory=False)\n",
    "cdf_22v5=df_22v5.dropna(subset=['lnks_job_title', 'lnks_job_description'])\n",
    "\n",
    "df_22v6 = pd.read_csv('C:/Users/27737/compsoc/indeed_scraped_data/job_info_data/parsehub_5222022_v6.csv', low_memory=False)\n",
    "cdf_22v6=df_22v6.dropna(subset=['lnks_job_title', 'lnks_job_description'])\n",
    "\n",
    "df_23v1 = pd.read_csv('C:/Users/27737/compsoc/indeed_scraped_data/job_info_data/parsehub_5232022_v1.csv', low_memory=False)\n",
    "cdf_23v1=df_23v1.dropna(subset=['lnks_job_title', 'lnks_job_description'])\n",
    "\n",
    "df_23v2 = pd.read_csv('C:/Users/27737/compsoc/indeed_scraped_data/job_info_data/parsehub_5232022_v2.csv', low_memory=False)\n",
    "cdf_23v2=df_23v2.dropna(subset=['lnks_job_title', 'lnks_job_description'])"
   ]
  },
  {
   "cell_type": "code",
   "execution_count": 244,
   "id": "5611f307",
   "metadata": {
    "pycharm": {
     "name": "#%%\n"
    }
   },
   "outputs": [
    {
     "data": {
      "text/plain": [
       "16303"
      ]
     },
     "execution_count": 244,
     "metadata": {},
     "output_type": "execute_result"
    }
   ],
   "source": [
    "#combine all the df\n",
    "job_info_data = pd.concat([cdf_18v2, cdf_20v2,cdf_17v1,cdf_17v2,cdf_18v1,cdf_19v1,cdf_19v2,cdf_20v1,cdf_21v1,cdf_21v2,cdf_22v1,cdf_22v2,cdf_22v3,cdf_22v4,cdf_22v5,cdf_22v6,cdf_23v1,cdf_23v2], axis=0)\n",
    "cleaned_job_info_data=job_info_data.drop_duplicates(subset=['lnks_link'])\n",
    "#count the number of unique jobs and save the dataframe into csv file\n",
    "cleaned_job_info_data.to_csv('cleaned_job_info_data.csv', index=False)\n",
    "len(cleaned_job_info_data)"
   ]
  },
  {
   "cell_type": "markdown",
   "id": "89eebffd",
   "metadata": {
    "pycharm": {
     "name": "#%% md\n"
    }
   },
   "source": [
    "In the cleaned dataframe, there are 16303 unique jobs."
   ]
  },
  {
   "cell_type": "markdown",
   "id": "2ee9df6e",
   "metadata": {
    "pycharm": {
     "name": "#%% md\n"
    }
   },
   "source": [
    "Task 3. Merge between “job_url_data” and “job_info_data”. What is the percentage of jobs that can be matched between these two data sources? How are the missing data (unmatched job urls) distributed by date? What about matched job urls? How many complete job listings were we able to collect each day? How would you interpret this result with respect to data quality? Does it mean that our data collection strategy is flawed and thus introduces non-random sampling biases? "
   ]
  },
  {
   "cell_type": "code",
   "execution_count": 354,
   "id": "1cd49bcf",
   "metadata": {
    "pycharm": {
     "name": "#%%\n"
    }
   },
   "outputs": [
    {
     "name": "stdout",
     "output_type": "stream",
     "text": [
      "['C:/Users/27737/compsoc/indeed_scraped_data/job_url_data\\\\job_urls_for_parsehub_5172022_v1.csv', 'C:/Users/27737/compsoc/indeed_scraped_data/job_url_data\\\\job_urls_for_parsehub_5172022_v2.csv', 'C:/Users/27737/compsoc/indeed_scraped_data/job_url_data\\\\job_urls_for_parsehub_5172022_v3.csv', 'C:/Users/27737/compsoc/indeed_scraped_data/job_url_data\\\\job_urls_for_parsehub_5172022_v4.csv', 'C:/Users/27737/compsoc/indeed_scraped_data/job_url_data\\\\job_urls_for_parsehub_5172022_v5.csv', 'C:/Users/27737/compsoc/indeed_scraped_data/job_url_data\\\\job_urls_for_parsehub_5182022_v1.csv', 'C:/Users/27737/compsoc/indeed_scraped_data/job_url_data\\\\job_urls_for_parsehub_5192022_v1.csv', 'C:/Users/27737/compsoc/indeed_scraped_data/job_url_data\\\\job_urls_for_parsehub_5192022_v2.csv', 'C:/Users/27737/compsoc/indeed_scraped_data/job_url_data\\\\job_urls_for_parsehub_5202022_v1.csv', 'C:/Users/27737/compsoc/indeed_scraped_data/job_url_data\\\\job_urls_for_parsehub_5202022_v2.csv', 'C:/Users/27737/compsoc/indeed_scraped_data/job_url_data\\\\job_urls_for_parsehub_5212022_v1.csv', 'C:/Users/27737/compsoc/indeed_scraped_data/job_url_data\\\\job_urls_for_parsehub_5212022_v2.csv', 'C:/Users/27737/compsoc/indeed_scraped_data/job_url_data\\\\job_urls_for_parsehub_5222022_v1.csv', 'C:/Users/27737/compsoc/indeed_scraped_data/job_url_data\\\\job_urls_for_parsehub_5222022_v2.csv', 'C:/Users/27737/compsoc/indeed_scraped_data/job_url_data\\\\job_urls_for_parsehub_5232022_v1.csv', 'C:/Users/27737/compsoc/indeed_scraped_data/job_url_data\\\\job_urls_for_parsehub_5232022_v2.csv']\n",
      "                                                 job_url\n",
      "0      https://www.indeed.com/pagead/clk?mo=r&ad=-6NY...\n",
      "1      https://www.indeed.com/rc/clk?jk=bf3aa4d4d8608...\n",
      "2      https://www.indeed.com/rc/clk?jk=ceee36181304b...\n",
      "3      https://www.indeed.com/rc/clk?jk=e9735aea38be9...\n",
      "4      https://www.indeed.com/company/Swiss-American-...\n",
      "...                                                  ...\n",
      "60976  https://www.indeed.com/rc/clk?jk=c239f8c996a77...\n",
      "60977  https://www.indeed.com/rc/clk?jk=a8944c2603abb...\n",
      "60978  https://www.indeed.com/company/Summit-Healthca...\n",
      "60979  https://www.indeed.com/company/StyleRemains-Gm...\n",
      "60980  https://www.indeed.com/pagead/clk?mo=r&ad=-6NY...\n",
      "\n",
      "[60981 rows x 1 columns]\n"
     ]
    },
    {
     "data": {
      "text/plain": [
       "21260"
      ]
     },
     "execution_count": 354,
     "metadata": {},
     "output_type": "execute_result"
    }
   ],
   "source": [
    "#read requilred files and merge them\n",
    "\n",
    "files = os.path.join(\"C:/Users/27737/compsoc/indeed_scraped_data/job_url_data/\", \"*.csv\")\n",
    "files = glob.glob(files)\n",
    "print(files)\n",
    "df = pd.concat(map(pd.read_csv, files), ignore_index=True)\n",
    "df.drop_duplicates(subset=['job_url'])\n",
    "print(df)\n",
    "\n",
    "job_url_data = df.drop_duplicates()\n",
    "\n",
    "job_url_info= job_url_data.merge(cleaned_job_info_data, how='left', left_on='job_url', right_on='lnks_link')\n",
    "\n",
    "len(job_url_info)\n"
   ]
  },
  {
   "cell_type": "code",
   "execution_count": 330,
   "id": "baa362ed",
   "metadata": {
    "scrolled": true,
    "pycharm": {
     "name": "#%%\n"
    }
   },
   "outputs": [
    {
     "name": "stdout",
     "output_type": "stream",
     "text": [
      "16303\n"
     ]
    }
   ],
   "source": [
    "#count the nulls\n",
    "job_url_info.isnull().sum()\n",
    "#the number of null values in lnks_link is 4957\n",
    "#Count the mach value\n",
    "result = 21260 - 4957\n",
    "print(result)"
   ]
  },
  {
   "cell_type": "code",
   "execution_count": 332,
   "id": "a65e4e15",
   "metadata": {
    "pycharm": {
     "name": "#%%\n"
    }
   },
   "outputs": [
    {
     "name": "stdout",
     "output_type": "stream",
     "text": [
      "0.7668391345249295\n"
     ]
    }
   ],
   "source": [
    "result = 16303/21260\n",
    "print(result)"
   ]
  },
  {
   "cell_type": "markdown",
   "id": "8d1e204a",
   "metadata": {
    "pycharm": {
     "name": "#%% md\n"
    }
   },
   "source": [
    "The percentage of jobs that can be matched between these two data sources is about 76.68%. "
   ]
  },
  {
   "cell_type": "code",
   "execution_count": 397,
   "id": "e781a622",
   "metadata": {
    "pycharm": {
     "name": "#%%\n"
    }
   },
   "outputs": [
    {
     "name": "stdout",
     "output_type": "stream",
     "text": [
      "                                                job_url     date\n",
      "0     https://www.indeed.com/pagead/clk?mo=r&ad=-6NY...  5172022\n",
      "1     https://www.indeed.com/rc/clk?jk=bf3aa4d4d8608...  5172022\n",
      "2     https://www.indeed.com/rc/clk?jk=ceee36181304b...  5172022\n",
      "3     https://www.indeed.com/rc/clk?jk=e9735aea38be9...  5172022\n",
      "4     https://www.indeed.com/company/Swiss-American-...  5172022\n",
      "...                                                 ...      ...\n",
      "2266  https://www.indeed.com/pagead/clk?mo=r&ad=-6NY...  5172022\n",
      "2267  https://www.indeed.com/rc/clk?jk=268837ed32197...  5172022\n",
      "2268  https://www.indeed.com/pagead/clk?mo=r&ad=-6NY...  5172022\n",
      "2269  https://www.indeed.com/rc/clk?jk=08d6b1c7f48c1...  5172022\n",
      "2270  https://www.indeed.com/rc/clk?jk=bd13d1b7b16ed...  5172022\n",
      "\n",
      "[13177 rows x 2 columns]\n",
      "                                                job_url     date\n",
      "0     https://www.indeed.com/rc/clk?jk=a4d8ef765ac38...  5182022\n",
      "1     https://www.indeed.com/rc/clk?jk=574d165a16772...  5182022\n",
      "2     https://www.indeed.com/company/Vibra-Travels/j...  5182022\n",
      "3     https://www.indeed.com/rc/clk?jk=426c73f6dd42e...  5182022\n",
      "4     https://www.indeed.com/rc/clk?jk=17b58d80f7848...  5182022\n",
      "...                                                 ...      ...\n",
      "3990  https://www.indeed.com/rc/clk?jk=9feb615c43119...  5182022\n",
      "3991  https://www.indeed.com/rc/clk?jk=ff25de442b074...  5182022\n",
      "3992  https://www.indeed.com/pagead/clk?mo=r&ad=-6NY...  5182022\n",
      "3993  https://www.indeed.com/pagead/clk?mo=r&ad=-6NY...  5182022\n",
      "3994  https://www.indeed.com/rc/clk?jk=261441d7f9863...  5182022\n",
      "\n",
      "[3995 rows x 2 columns]\n",
      "                                                job_url     date\n",
      "0     https://www.indeed.com/rc/clk?jk=dfac900555986...  5192022\n",
      "1     https://www.indeed.com/company/Keystone-Care-L...  5192022\n",
      "2     https://www.indeed.com/company/Applied-Earth-S...  5192022\n",
      "3     https://www.indeed.com/pagead/clk?mo=r&ad=-6NY...  5192022\n",
      "4     https://www.indeed.com/pagead/clk?mo=r&ad=-6NY...  5192022\n",
      "...                                                 ...      ...\n",
      "4852  https://www.indeed.com/rc/clk?jk=e6a872850552c...  5192022\n",
      "4853  https://www.indeed.com/rc/clk?jk=9d73d02c1e447...  5192022\n",
      "4854  https://www.indeed.com/rc/clk?jk=fbef4e9cb7a93...  5192022\n",
      "4855  https://www.indeed.com/pagead/clk?mo=r&ad=-6NY...  5192022\n",
      "4856  https://www.indeed.com/rc/clk?jk=f2d758d956dcd...  5192022\n",
      "\n",
      "[6861 rows x 2 columns]\n",
      "                                                job_url     date\n",
      "0     https://www.indeed.com/rc/clk?jk=9348c2c66db5f...  5202022\n",
      "1     https://www.indeed.com/rc/clk?jk=cf33405bc5870...  5202022\n",
      "2     https://www.indeed.com/company/Kentfield-Hospi...  5202022\n",
      "3     https://www.indeed.com/rc/clk?jk=22926273a2826...  5202022\n",
      "4     https://www.indeed.com/pagead/clk?mo=r&ad=-6NY...  5202022\n",
      "...                                                 ...      ...\n",
      "6044  https://www.indeed.com/rc/clk?jk=2d1e93c9c9500...  5202022\n",
      "6045  https://www.indeed.com/rc/clk?jk=a0478a99699e8...  5202022\n",
      "6046  https://www.indeed.com/pagead/clk?mo=r&ad=-6NY...  5202022\n",
      "6047  https://www.indeed.com/company/BAM-Treatment-a...  5202022\n",
      "6048  https://www.indeed.com/rc/clk?jk=31044745d93b0...  5202022\n",
      "\n",
      "[12098 rows x 2 columns]\n",
      "                                                job_url     date\n",
      "0     https://www.indeed.com/rc/clk?jk=64568c71be4aa...  5212022\n",
      "1     https://www.indeed.com/rc/clk?jk=7b12bce39025f...  5212022\n",
      "2     https://www.indeed.com/pagead/clk?mo=r&ad=-6NY...  5212022\n",
      "3     https://www.indeed.com/pagead/clk?mo=r&ad=-6NY...  5212022\n",
      "4     https://www.indeed.com/rc/clk?jk=16d3c0f3ed372...  5212022\n",
      "...                                                 ...      ...\n",
      "5608  https://www.indeed.com/rc/clk?jk=9f8c268428be5...  5212022\n",
      "5609  https://www.indeed.com/company/Community-Healt...  5212022\n",
      "5610  https://www.indeed.com/rc/clk?jk=f45df07d75df0...  5212022\n",
      "5611  https://www.indeed.com/pagead/clk?mo=r&ad=-6NY...  5212022\n",
      "5612  https://www.indeed.com/rc/clk?jk=9ce443995e5c4...  5212022\n",
      "\n",
      "[11226 rows x 2 columns]\n",
      "                                                job_url     date\n",
      "0     https://www.indeed.com/pagead/clk?mo=r&ad=-6NY...  5222022\n",
      "1     https://www.indeed.com/rc/clk?jk=2e84a8f5beb07...  5222022\n",
      "2     https://www.indeed.com/rc/clk?jk=30d7f8247c497...  5222022\n",
      "3     https://www.indeed.com/pagead/clk?mo=r&ad=-6NY...  5222022\n",
      "4     https://www.indeed.com/pagead/clk?mo=r&ad=-6NY...  5222022\n",
      "...                                                 ...      ...\n",
      "1540  https://www.indeed.com/rc/clk?jk=a82af9f5fa554...  5222022\n",
      "1541  https://www.indeed.com/rc/clk?jk=1a08ec4351e9f...  5222022\n",
      "1542  https://www.indeed.com/pagead/clk?mo=r&ad=-6NY...  5222022\n",
      "1543  https://www.indeed.com/rc/clk?jk=dc33c04247c8e...  5222022\n",
      "1544  https://www.indeed.com/pagead/clk?mo=r&ad=-6NY...  5222022\n",
      "\n",
      "[3090 rows x 2 columns]\n",
      "                                                job_url     date\n",
      "0     https://www.indeed.com/company/PharmAllies/job...  5232022\n",
      "1     https://www.indeed.com/rc/clk?jk=a2dea254b1b35...  5232022\n",
      "2     https://www.indeed.com/rc/clk?jk=6f297183f6ad2...  5232022\n",
      "3     https://www.indeed.com/pagead/clk?mo=r&ad=-6NY...  5232022\n",
      "4     https://www.indeed.com/company/Edly/jobs/Loan-...  5232022\n",
      "...                                                 ...      ...\n",
      "5262  https://www.indeed.com/rc/clk?jk=c239f8c996a77...  5232022\n",
      "5263  https://www.indeed.com/rc/clk?jk=a8944c2603abb...  5232022\n",
      "5264  https://www.indeed.com/company/Summit-Healthca...  5232022\n",
      "5265  https://www.indeed.com/company/StyleRemains-Gm...  5232022\n",
      "5266  https://www.indeed.com/pagead/clk?mo=r&ad=-6NY...  5232022\n",
      "\n",
      "[10534 rows x 2 columns]\n",
      "                                                job_url     date\n",
      "0     https://www.indeed.com/pagead/clk?mo=r&ad=-6NY...  5172022\n",
      "1     https://www.indeed.com/rc/clk?jk=bf3aa4d4d8608...  5172022\n",
      "2     https://www.indeed.com/rc/clk?jk=ceee36181304b...  5172022\n",
      "3     https://www.indeed.com/rc/clk?jk=e9735aea38be9...  5172022\n",
      "4     https://www.indeed.com/company/Swiss-American-...  5172022\n",
      "...                                                 ...      ...\n",
      "5262  https://www.indeed.com/rc/clk?jk=c239f8c996a77...  5232022\n",
      "5263  https://www.indeed.com/rc/clk?jk=a8944c2603abb...  5232022\n",
      "5264  https://www.indeed.com/company/Summit-Healthca...  5232022\n",
      "5265  https://www.indeed.com/company/StyleRemains-Gm...  5232022\n",
      "5266  https://www.indeed.com/pagead/clk?mo=r&ad=-6NY...  5232022\n",
      "\n",
      "[60981 rows x 2 columns]\n",
      "                                                job_url     date\n",
      "0     https://www.indeed.com/pagead/clk?mo=r&ad=-6NY...  5172022\n",
      "1     https://www.indeed.com/rc/clk?jk=bf3aa4d4d8608...  5172022\n",
      "2     https://www.indeed.com/rc/clk?jk=ceee36181304b...  5172022\n",
      "3     https://www.indeed.com/rc/clk?jk=e9735aea38be9...  5172022\n",
      "4     https://www.indeed.com/company/Swiss-American-...  5172022\n",
      "...                                                 ...      ...\n",
      "5260  https://www.indeed.com/pagead/clk?mo=r&ad=-6NY...  5232022\n",
      "5261  https://www.indeed.com/rc/clk?jk=4c78c7807e27e...  5232022\n",
      "5264  https://www.indeed.com/rc/clk?jk=0e8f96a6be975...  5232022\n",
      "5265  https://www.indeed.com/rc/clk?jk=bd10340c8c24a...  5232022\n",
      "5266  https://www.indeed.com/rc/clk?jk=0b6d28437ec8a...  5232022\n",
      "\n",
      "[29737 rows x 2 columns]\n",
      "                                                job_url     date\n",
      "0     https://www.indeed.com/pagead/clk?mo=r&ad=-6NY...  5172022\n",
      "1     https://www.indeed.com/rc/clk?jk=bf3aa4d4d8608...  5172022\n",
      "2     https://www.indeed.com/rc/clk?jk=ceee36181304b...  5172022\n",
      "3     https://www.indeed.com/rc/clk?jk=e9735aea38be9...  5172022\n",
      "4     https://www.indeed.com/company/Swiss-American-...  5172022\n",
      "...                                                 ...      ...\n",
      "5260  https://www.indeed.com/pagead/clk?mo=r&ad=-6NY...  5232022\n",
      "5261  https://www.indeed.com/rc/clk?jk=4c78c7807e27e...  5232022\n",
      "5264  https://www.indeed.com/rc/clk?jk=0e8f96a6be975...  5232022\n",
      "5265  https://www.indeed.com/rc/clk?jk=bd10340c8c24a...  5232022\n",
      "5266  https://www.indeed.com/rc/clk?jk=0b6d28437ec8a...  5232022\n",
      "\n",
      "[21260 rows x 2 columns]\n"
     ]
    }
   ],
   "source": [
    "#How are the missing data (unmatched job urls) distributed by date?\n",
    "directory = 'C:/Users/27737/compsoc/indeed_scraped_data/job_url_data/'\n",
    "df1 = pd.read_csv('C:/Users/27737/compsoc/indeed_scraped_data/job_url_data/job_urls_for_parsehub_5172022_v1.csv', low_memory=False)\n",
    "df2 = pd.read_csv('C:/Users/27737/compsoc/indeed_scraped_data/job_url_data/job_urls_for_parsehub_5172022_v2.csv', low_memory=False)\n",
    "df3 = pd.read_csv('C:/Users/27737/compsoc/indeed_scraped_data/job_url_data/job_urls_for_parsehub_5172022_v3.csv', low_memory=False)\n",
    "df4 = pd.read_csv('C:/Users/27737/compsoc/indeed_scraped_data/job_url_data/job_urls_for_parsehub_5172022_v4.csv', low_memory=False)\n",
    "df5 = pd.read_csv('C:/Users/27737/compsoc/indeed_scraped_data/job_url_data/job_urls_for_parsehub_5172022_v5.csv', low_memory=False)\n",
    "  \n",
    "u517_df = pd.concat([df1, df2,df3,df4,df5])\n",
    "u517_df['date']= '5172022'\n",
    "print(u517_df)\n",
    "\n",
    "\n",
    "u518_df= pd.read_csv('C:/Users/27737/compsoc/indeed_scraped_data/job_url_data/job_urls_for_parsehub_5182022_v1.csv', low_memory=False)\n",
    "u518_df['date']= '5182022'\n",
    "print(u518_df)\n",
    "\n",
    "df7=pd.read_csv('C:/Users/27737/compsoc/indeed_scraped_data/job_url_data/job_urls_for_parsehub_5192022_v1.csv', low_memory=False)\n",
    "df8=pd.read_csv('C:/Users/27737/compsoc/indeed_scraped_data/job_url_data/job_urls_for_parsehub_5192022_v2.csv', low_memory=False)\n",
    "u519_df = pd.concat([df7,df8])\n",
    "u519_df['date']= '5192022'\n",
    "print(u519_df)\n",
    "\n",
    "df9=pd.read_csv('C:/Users/27737/compsoc/indeed_scraped_data/job_url_data/job_urls_for_parsehub_5202022_v1.csv', low_memory=False)\n",
    "df10=pd.read_csv('C:/Users/27737/compsoc/indeed_scraped_data/job_url_data/job_urls_for_parsehub_5202022_v2.csv', low_memory=False)\n",
    "u520_df = pd.concat([df9,df10])\n",
    "u520_df['date']= '5202022'\n",
    "print(u520_df)\n",
    "\n",
    "\n",
    "df11=pd.read_csv('C:/Users/27737/compsoc/indeed_scraped_data/job_url_data/job_urls_for_parsehub_5212022_v1.csv', low_memory=False)\n",
    "df12=pd.read_csv('C:/Users/27737/compsoc/indeed_scraped_data/job_url_data/job_urls_for_parsehub_5212022_v2.csv', low_memory=False)\n",
    "u521_df = pd.concat([df11,df12])\n",
    "u521_df['date']= '5212022'\n",
    "print(u521_df)\n",
    "\n",
    "df13=pd.read_csv('C:/Users/27737/compsoc/indeed_scraped_data/job_url_data/job_urls_for_parsehub_5222022_v1.csv', low_memory=False)\n",
    "df14=pd.read_csv('C:/Users/27737/compsoc/indeed_scraped_data/job_url_data/job_urls_for_parsehub_5222022_v2.csv', low_memory=False)\n",
    "u522_df = pd.concat([df13,df14])\n",
    "u522_df['date']= '5222022'\n",
    "print(u522_df)\n",
    "\n",
    "df15=pd.read_csv('C:/Users/27737/compsoc/indeed_scraped_data/job_url_data/job_urls_for_parsehub_5232022_v1.csv', low_memory=False)\n",
    "df16=pd.read_csv('C:/Users/27737/compsoc/indeed_scraped_data/job_url_data/job_urls_for_parsehub_5232022_v2.csv', low_memory=False)\n",
    "u523_df = pd.concat([df15,df16])\n",
    "u523_df['date']= '5232022'\n",
    "print(u523_df)\n",
    "\n",
    "url_if= pd.concat([u517_df,u518_df,u519_df,u520_df,u521_df,u522_df,u523_df])\n",
    "print(url_if)\n",
    "\n",
    "#drop duplicates \n",
    "cleaned_url_df=url_if.drop_duplicates(subset=['date', 'job_url'])\n",
    "print(cleaned_url_df)\n",
    "\n",
    "jov_url_df_2=cleaned_url_df.drop_duplicates(subset=['job_url'],keep='first')\n",
    "print(jov_url_df_2)"
   ]
  },
  {
   "cell_type": "code",
   "execution_count": 407,
   "id": "fddfadaa",
   "metadata": {
    "pycharm": {
     "name": "#%%\n"
    }
   },
   "outputs": [
    {
     "data": {
      "text/html": [
       "<div>\n",
       "<style scoped>\n",
       "    .dataframe tbody tr th:only-of-type {\n",
       "        vertical-align: middle;\n",
       "    }\n",
       "\n",
       "    .dataframe tbody tr th {\n",
       "        vertical-align: top;\n",
       "    }\n",
       "\n",
       "    .dataframe thead th {\n",
       "        text-align: right;\n",
       "    }\n",
       "</style>\n",
       "<table border=\"1\" class=\"dataframe\">\n",
       "  <thead>\n",
       "    <tr style=\"text-align: right;\">\n",
       "      <th></th>\n",
       "      <th>date</th>\n",
       "      <th>missing</th>\n",
       "      <th>job_url</th>\n",
       "    </tr>\n",
       "  </thead>\n",
       "  <tbody>\n",
       "    <tr>\n",
       "      <th>0</th>\n",
       "      <td>5172022</td>\n",
       "      <td>False</td>\n",
       "      <td>3905</td>\n",
       "    </tr>\n",
       "    <tr>\n",
       "      <th>1</th>\n",
       "      <td>5172022</td>\n",
       "      <td>True</td>\n",
       "      <td>1352</td>\n",
       "    </tr>\n",
       "    <tr>\n",
       "      <th>2</th>\n",
       "      <td>5182022</td>\n",
       "      <td>False</td>\n",
       "      <td>1324</td>\n",
       "    </tr>\n",
       "    <tr>\n",
       "      <th>3</th>\n",
       "      <td>5182022</td>\n",
       "      <td>True</td>\n",
       "      <td>1</td>\n",
       "    </tr>\n",
       "    <tr>\n",
       "      <th>4</th>\n",
       "      <td>5192022</td>\n",
       "      <td>False</td>\n",
       "      <td>3790</td>\n",
       "    </tr>\n",
       "    <tr>\n",
       "      <th>5</th>\n",
       "      <td>5192022</td>\n",
       "      <td>True</td>\n",
       "      <td>8</td>\n",
       "    </tr>\n",
       "    <tr>\n",
       "      <th>6</th>\n",
       "      <td>5202022</td>\n",
       "      <td>False</td>\n",
       "      <td>4503</td>\n",
       "    </tr>\n",
       "    <tr>\n",
       "      <th>7</th>\n",
       "      <td>5202022</td>\n",
       "      <td>True</td>\n",
       "      <td>20</td>\n",
       "    </tr>\n",
       "    <tr>\n",
       "      <th>8</th>\n",
       "      <td>5212022</td>\n",
       "      <td>False</td>\n",
       "      <td>2113</td>\n",
       "    </tr>\n",
       "    <tr>\n",
       "      <th>9</th>\n",
       "      <td>5212022</td>\n",
       "      <td>True</td>\n",
       "      <td>41</td>\n",
       "    </tr>\n",
       "    <tr>\n",
       "      <th>10</th>\n",
       "      <td>5222022</td>\n",
       "      <td>False</td>\n",
       "      <td>668</td>\n",
       "    </tr>\n",
       "    <tr>\n",
       "      <th>11</th>\n",
       "      <td>5222022</td>\n",
       "      <td>True</td>\n",
       "      <td>112</td>\n",
       "    </tr>\n",
       "    <tr>\n",
       "      <th>12</th>\n",
       "      <td>5232022</td>\n",
       "      <td>True</td>\n",
       "      <td>3423</td>\n",
       "    </tr>\n",
       "  </tbody>\n",
       "</table>\n",
       "</div>"
      ],
      "text/plain": [
       "       date  missing  job_url\n",
       "0   5172022    False     3905\n",
       "1   5172022     True     1352\n",
       "2   5182022    False     1324\n",
       "3   5182022     True        1\n",
       "4   5192022    False     3790\n",
       "5   5192022     True        8\n",
       "6   5202022    False     4503\n",
       "7   5202022     True       20\n",
       "8   5212022    False     2113\n",
       "9   5212022     True       41\n",
       "10  5222022    False      668\n",
       "11  5222022     True      112\n",
       "12  5232022     True     3423"
      ]
     },
     "execution_count": 407,
     "metadata": {},
     "output_type": "execute_result"
    }
   ],
   "source": [
    "import seaborn as sns\n",
    "job_url_info_2= jov_url_df_2.merge(cleaned_job_info_data, how='left', left_on='job_url', right_on='lnks_link')\n",
    "\n",
    "len(job_url_info_2)\n",
    "\n",
    "job_url_info_2['missing'] = job_url_info_2['lnks_link'].isna()\n",
    "job_url_info_2\n",
    "\n",
    "destributed_by_dates = job_url_info_2.groupby(['date', 'missing']).agg({'job_url': 'count'}).reset_index()\n",
    "destributed_by_dates\n"
   ]
  },
  {
   "cell_type": "markdown",
   "id": "c5dc166d",
   "metadata": {
    "pycharm": {
     "name": "#%% md\n"
    }
   },
   "source": [
    "The missing data is concentrated on May 17th, 22nd and 23rd, and the 23rd has largest number of unmatch value. Meanwhile, most jobs are matched on May 18th,18th and 20th."
   ]
  },
  {
   "cell_type": "code",
   "execution_count": 409,
   "id": "49b37607",
   "metadata": {
    "pycharm": {
     "name": "#%%\n"
    }
   },
   "outputs": [
    {
     "data": {
      "text/html": [
       "<div>\n",
       "<style scoped>\n",
       "    .dataframe tbody tr th:only-of-type {\n",
       "        vertical-align: middle;\n",
       "    }\n",
       "\n",
       "    .dataframe tbody tr th {\n",
       "        vertical-align: top;\n",
       "    }\n",
       "\n",
       "    .dataframe thead th {\n",
       "        text-align: right;\n",
       "    }\n",
       "</style>\n",
       "<table border=\"1\" class=\"dataframe\">\n",
       "  <thead>\n",
       "    <tr style=\"text-align: right;\">\n",
       "      <th></th>\n",
       "      <th>date</th>\n",
       "      <th>job_url</th>\n",
       "    </tr>\n",
       "  </thead>\n",
       "  <tbody>\n",
       "    <tr>\n",
       "      <th>0</th>\n",
       "      <td>5172022</td>\n",
       "      <td>3253</td>\n",
       "    </tr>\n",
       "    <tr>\n",
       "      <th>1</th>\n",
       "      <td>5182022</td>\n",
       "      <td>1243</td>\n",
       "    </tr>\n",
       "    <tr>\n",
       "      <th>2</th>\n",
       "      <td>5192022</td>\n",
       "      <td>3354</td>\n",
       "    </tr>\n",
       "    <tr>\n",
       "      <th>3</th>\n",
       "      <td>5202022</td>\n",
       "      <td>4181</td>\n",
       "    </tr>\n",
       "    <tr>\n",
       "      <th>4</th>\n",
       "      <td>5212022</td>\n",
       "      <td>1741</td>\n",
       "    </tr>\n",
       "    <tr>\n",
       "      <th>5</th>\n",
       "      <td>5222022</td>\n",
       "      <td>519</td>\n",
       "    </tr>\n",
       "  </tbody>\n",
       "</table>\n",
       "</div>"
      ],
      "text/plain": [
       "      date  job_url\n",
       "0  5172022     3253\n",
       "1  5182022     1243\n",
       "2  5192022     3354\n",
       "3  5202022     4181\n",
       "4  5212022     1741\n",
       "5  5222022      519"
      ]
     },
     "execution_count": 409,
     "metadata": {},
     "output_type": "execute_result"
    }
   ],
   "source": [
    "#How many complete job listings were we able to collect each day?\n",
    "\n",
    "clean_data = job_url_info_2.dropna(axis = 0, how ='any')\n",
    "completed_dates = clean_data.groupby(['date']).agg({'job_url':'count'}).reset_index()\n",
    "completed_dates"
   ]
  },
  {
   "cell_type": "markdown",
   "id": "938d85ac",
   "metadata": {
    "pycharm": {
     "name": "#%% md\n"
    }
   },
   "source": [
    "In May 17th, we was able to collect 3253 complete job, and there was 1243 complete job we collected on 18th. For 19th, there was 3354, for 20th, there was 4181, for 21st, we had 1741, and for 22nd, there was 519 complete job. Unfortunatly, we failed to collect complete job on 23rd. "
   ]
  },
  {
   "cell_type": "markdown",
   "id": "5e020715",
   "metadata": {
    "pycharm": {
     "name": "#%% md\n"
    }
   },
   "source": [
    "#How would you interpret this result with respect to data quality? \n",
    "\n",
    "The percentage of jobs that can be matched is about 76.68% overall, and in 18th and 19th, the number of unmatched job is less than 10. Therefore, even there is a little inconsistent in the 17th and 23rd, the data quality is relatively high."
   ]
  },
  {
   "cell_type": "markdown",
   "id": "d9435337",
   "metadata": {
    "pycharm": {
     "name": "#%% md\n"
    }
   },
   "source": [
    "#Does it mean that our data collection strategy is flawed and thus introduces non-random sampling biases?\n",
    "\n",
    "Since there are many factor can impact the data quality, if the data collection strategy is consistent, it might not be flawed.And the sampling biases are hard to tell if it is non-random by only going through these data. However, there might be some problems when using these strategies collecting data on 17th and 23rd. Better training of personnel and more focus on coordination and feedback are both likely to improve the quality of data collection, and if there are still days without single matched data, we can say the collecting strategy has problem and try to fix it."
   ]
  },
  {
   "cell_type": "code",
   "execution_count": null,
   "id": "98482012",
   "metadata": {
    "pycharm": {
     "name": "#%%\n"
    }
   },
   "outputs": [],
   "source": []
  }
 ],
 "metadata": {
  "kernelspec": {
   "display_name": "Python 3 (ipykernel)",
   "language": "python",
   "name": "python3"
  },
  "language_info": {
   "codemirror_mode": {
    "name": "ipython",
    "version": 3
   },
   "file_extension": ".py",
   "mimetype": "text/x-python",
   "name": "python",
   "nbconvert_exporter": "python",
   "pygments_lexer": "ipython3",
   "version": "3.9.12"
  }
 },
 "nbformat": 4,
 "nbformat_minor": 5
}