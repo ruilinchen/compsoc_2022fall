{
 "cells": [
  {
   "cell_type": "code",
   "execution_count": 1,
   "metadata": {
    "pycharm": {
     "name": "#%%\n"
    }
   },
   "outputs": [
    {
     "name": "stdout",
     "output_type": "stream",
     "text": [
      "MA_cbg_human_mobility_2019/MA_cbg2cbg_2019_09.csv\n",
      "MA_cbg_human_mobility_2019/MA_cbg2cbg_2019_08.csv\n",
      "MA_cbg_human_mobility_2019/MA_cbg2cbg_2019_03.csv\n",
      "MA_cbg_human_mobility_2019/MA_cbg2cbg_2019_02.csv\n",
      "MA_cbg_human_mobility_2019/MA_cbg2cbg_2019_01.csv\n",
      "MA_cbg_human_mobility_2019/MA_cbg2cbg_2019_05.csv\n",
      "MA_cbg_human_mobility_2019/MA_cbg2cbg_2019_11.csv\n",
      "MA_cbg_human_mobility_2019/MA_cbg2cbg_2019_10.csv\n",
      "MA_cbg_human_mobility_2019/MA_cbg2cbg_2019_04.csv\n",
      "MA_cbg_human_mobility_2019/MA_cbg2cbg_2019_12.csv\n",
      "MA_cbg_human_mobility_2019/MA_cbg2cbg_2019_06.csv\n",
      "MA_cbg_human_mobility_2019/MA_cbg2cbg_2019_07.csv\n"
     ]
    }
   ],
   "source": [
    "#Task 5.1 Download “MA_cbg_human_mobility_2019.zip” from Canvas under “Files/datasets”. Write a program that loops through all the files in this zip file and prints the name of all the “csv” files. Use `zipfile` package.\n",
    "import zipfile\n",
    "with zipfile.ZipFile(\"MA_cbg_human_mobility_2019.zip\",\"r\") as dataset:\n",
    "    for file_name in dataset.namelist():\n",
    "        if (\"csv\" in file_name) and (\"MACOSX\" not in file_name):\n",
    "            print(file_name)"
   ]
  },
  {
   "cell_type": "code",
   "execution_count": 2,
   "metadata": {
    "pycharm": {
     "name": "#%%\n"
    }
   },
   "outputs": [
    {
     "name": "stdout",
     "output_type": "stream",
     "text": [
      "12108546\n"
     ]
    }
   ],
   "source": [
    "#Task 5.2 Unzip the above zipped file in your laptop’s File System and you will get a folder named “MA_cbg_human_mobility_2019”. Write a program that loops through all the files stored in this folder and counts the number of lines contained in each of the “csv” files. Print a sum of the line counts. Use with statement when reading files.\n",
    "import os\n",
    "import pandas as pd\n",
    "os.chdir('/Users/heather/Desktop/compsoc/code/test1/MA_cbg_human_mobility_2019')\n",
    "length = 0\n",
    "for file_name in os.listdir(os.getcwd()):\n",
    "    with open(os.path.join(os.getcwd(),file_name),'r') as f:\n",
    "        if (\"csv\" in file_name) and (\"MACOSX\" not in file_name):\n",
    "            read_file = pd.read_csv(file_name)\n",
    "            length += len(read_file)\n",
    "print (length)"
   ]
  },
  {
   "cell_type": "code",
   "execution_count": 3,
   "metadata": {
    "pycharm": {
     "name": "#%%\n"
    }
   },
   "outputs": [],
   "source": [
    "#Task 5.3 Use the same program from Task 5.2 that counts lines of all the csv files in “MA_cbg_human_mobility_2019”. Store the output in a dictionary with keys being filenames and values being the corresponding line counts. Write the output to a json file.\n",
    "import os\n",
    "import pandas as pd\n",
    "import json\n",
    "directory = '/Users/heather/Desktop/compsoc/code/test1/MA_cbg_human_mobility_2019'\n",
    "output_dict = {}\n",
    "for file_name in os.listdir(os.getcwd()):\n",
    "    with open(os.path.join(os.getcwd(),file_name),'r') as f:\n",
    "        if (\"csv\" in file_name) and (\"MACOSX\" not in file_name):\n",
    "            file_name = file_name\n",
    "            read_file = pd.read_csv(file_name)\n",
    "            length = len(read_file)\n",
    "            output_dict[file_name] = length\n",
    "os.chdir('/Users/heather/Desktop/compsoc/code/test1')\n",
    "with open ('output.json','w') as g:\n",
    "    json.dump(output_dict,g)"
   ]
  }
 ],
 "metadata": {
  "kernelspec": {
   "display_name": "Python 3 (ipykernel)",
   "language": "python",
   "name": "python3"
  },
  "language_info": {
   "codemirror_mode": {
    "name": "ipython",
    "version": 3
   },
   "file_extension": ".py",
   "mimetype": "text/x-python",
   "name": "python",
   "nbconvert_exporter": "python",
   "pygments_lexer": "ipython3",
   "version": "3.8.13"
  }
 },
 "nbformat": 4,
 "nbformat_minor": 1
}