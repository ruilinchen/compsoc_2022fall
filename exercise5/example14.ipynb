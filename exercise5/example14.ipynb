{
 "cells": [
  {
   "cell_type": "markdown",
   "id": "46bd99d4",
   "metadata": {
    "pycharm": {
     "name": "#%% md\n"
    }
   },
   "source": [
    "5.1"
   ]
  },
  {
   "cell_type": "code",
   "execution_count": 48,
   "id": "3bbedfa8",
   "metadata": {
    "pycharm": {
     "name": "#%%\n"
    }
   },
   "outputs": [],
   "source": [
    "#from zipfile import ZipFile\n",
    "import zipfile"
   ]
  },
  {
   "cell_type": "code",
   "execution_count": 80,
   "id": "dd9284b7",
   "metadata": {
    "pycharm": {
     "name": "#%%\n"
    }
   },
   "outputs": [],
   "source": [
    "import os"
   ]
  },
  {
   "cell_type": "code",
   "execution_count": 81,
   "id": "84cb5dad",
   "metadata": {
    "pycharm": {
     "name": "#%%\n"
    }
   },
   "outputs": [
    {
     "name": "stdout",
     "output_type": "stream",
     "text": [
      "MA_cbg_human_mobility_2019/MA_cbg2cbg_2019_09.csv\n",
      "__MACOSX/MA_cbg_human_mobility_2019/._MA_cbg2cbg_2019_09.csv\n",
      "MA_cbg_human_mobility_2019/MA_cbg2cbg_2019_08.csv\n",
      "__MACOSX/MA_cbg_human_mobility_2019/._MA_cbg2cbg_2019_08.csv\n",
      "MA_cbg_human_mobility_2019/MA_cbg2cbg_2019_03.csv\n",
      "__MACOSX/MA_cbg_human_mobility_2019/._MA_cbg2cbg_2019_03.csv\n",
      "MA_cbg_human_mobility_2019/MA_cbg2cbg_2019_02.csv\n",
      "__MACOSX/MA_cbg_human_mobility_2019/._MA_cbg2cbg_2019_02.csv\n",
      "MA_cbg_human_mobility_2019/MA_cbg2cbg_2019_01.csv\n",
      "__MACOSX/MA_cbg_human_mobility_2019/._MA_cbg2cbg_2019_01.csv\n",
      "MA_cbg_human_mobility_2019/MA_cbg2cbg_2019_05.csv\n",
      "__MACOSX/MA_cbg_human_mobility_2019/._MA_cbg2cbg_2019_05.csv\n",
      "MA_cbg_human_mobility_2019/MA_cbg2cbg_2019_11.csv\n",
      "__MACOSX/MA_cbg_human_mobility_2019/._MA_cbg2cbg_2019_11.csv\n",
      "MA_cbg_human_mobility_2019/MA_cbg2cbg_2019_10.csv\n",
      "__MACOSX/MA_cbg_human_mobility_2019/._MA_cbg2cbg_2019_10.csv\n",
      "MA_cbg_human_mobility_2019/MA_cbg2cbg_2019_04.csv\n",
      "__MACOSX/MA_cbg_human_mobility_2019/._MA_cbg2cbg_2019_04.csv\n",
      "MA_cbg_human_mobility_2019/MA_cbg2cbg_2019_12.csv\n",
      "__MACOSX/MA_cbg_human_mobility_2019/._MA_cbg2cbg_2019_12.csv\n",
      "MA_cbg_human_mobility_2019/MA_cbg2cbg_2019_06.csv\n",
      "__MACOSX/MA_cbg_human_mobility_2019/._MA_cbg2cbg_2019_06.csv\n",
      "MA_cbg_human_mobility_2019/MA_cbg2cbg_2019_07.csv\n",
      "__MACOSX/MA_cbg_human_mobility_2019/._MA_cbg2cbg_2019_07.csv\n"
     ]
    }
   ],
   "source": [
    "path = \"/Users/hong/Documents/compsoc/MA_cbg_human_mobility_2019.zip\"\n",
    "with zipfile.ZipFile(path, \"r\") as f:\n",
    "    for filename in f.namelist():\n",
    "        if \".csv\" in filename:\n",
    "            print(filename)"
   ]
  },
  {
   "cell_type": "markdown",
   "id": "39fd4fac",
   "metadata": {
    "pycharm": {
     "name": "#%% md\n"
    }
   },
   "source": [
    "5.2"
   ]
  },
  {
   "cell_type": "code",
   "execution_count": 82,
   "id": "ca201602",
   "metadata": {
    "pycharm": {
     "name": "#%%\n"
    }
   },
   "outputs": [
    {
     "name": "stdout",
     "output_type": "stream",
     "text": [
      "The total number of lines in the csv file is： 12108558\n"
     ]
    }
   ],
   "source": [
    "rowcount = 0\n",
    "for lines in os.listdir('MA_cbg_human_mobility_2019'):\n",
    "    file_path = 'MA_cbg_human_mobility_2019/' + lines\n",
    "    if os.path.splitext(file_path)[1] == '.csv':\n",
    "        with open(file_path,'r') as f:\n",
    "            rowcount += len(f.readlines())\n",
    "print('The total number of lines in the csv file is：',rowcount)"
   ]
  },
  {
   "cell_type": "markdown",
   "id": "aca49bcc",
   "metadata": {
    "pycharm": {
     "name": "#%% md\n"
    }
   },
   "source": [
    "5.3"
   ]
  },
  {
   "cell_type": "code",
   "execution_count": 69,
   "id": "d992a772",
   "metadata": {
    "pycharm": {
     "name": "#%%\n"
    }
   },
   "outputs": [],
   "source": [
    "import json"
   ]
  },
  {
   "cell_type": "code",
   "execution_count": 85,
   "id": "b281647e",
   "metadata": {
    "pycharm": {
     "name": "#%%\n"
    }
   },
   "outputs": [
    {
     "name": "stdout",
     "output_type": "stream",
     "text": [
      "The file is saved in MA_cbg_human_mobility_2019.json\n"
     ]
    }
   ],
   "source": [
    "rowcount_dict = {}\n",
    "for lines in os.listdir('MA_cbg_human_mobility_2019'):\n",
    "    file_path = 'MA_cbg_human_mobility_2019/' + lines\n",
    "    if os.path.splitext(file_path)[1] == '.csv':\n",
    "        with open(file_path,'r') as f:\n",
    "            rowcount_dict[line] = len(f.readlines())\n",
    "json_file= 'MA_cbg_human_mobility_2019.json'\n",
    "with open(json_file, 'w') as file_obj:\n",
    "    json.dump(rowcount_dict,file_obj,indent= 4)\n",
    "    print('The file is saved in',json_file)"
   ]
  },
  {
   "cell_type": "code",
   "execution_count": null,
   "id": "19f27b3f",
   "metadata": {
    "pycharm": {
     "name": "#%%\n"
    }
   },
   "outputs": [],
   "source": []
  }
 ],
 "metadata": {
  "kernelspec": {
   "display_name": "Python 3 (ipykernel)",
   "language": "python",
   "name": "python3"
  },
  "language_info": {
   "codemirror_mode": {
    "name": "ipython",
    "version": 3
   },
   "file_extension": ".py",
   "mimetype": "text/x-python",
   "name": "python",
   "nbconvert_exporter": "python",
   "pygments_lexer": "ipython3",
   "version": "3.9.12"
  }
 },
 "nbformat": 4,
 "nbformat_minor": 5
}