{
 "cells": [
  {
   "cell_type": "markdown",
   "id": "2e890221-9614-4354-9fa2-607a4e8573b2",
   "metadata": {
    "pycharm": {
     "name": "#%% md\n"
    }
   },
   "source": [
    "# Coding Exercise 4"
   ]
  },
  {
   "cell_type": "markdown",
   "id": "bd3a0f80-2385-45cb-ab9c-42ae0fd9e35a",
   "metadata": {
    "pycharm": {
     "name": "#%% md\n"
    }
   },
   "source": [
    "### Task 4.1"
   ]
  },
  {
   "cell_type": "code",
   "execution_count": 1,
   "id": "fe4976dc-5d08-418b-9f70-7f90b21526a0",
   "metadata": {
    "pycharm": {
     "name": "#%%\n"
    }
   },
   "outputs": [
    {
     "name": "stdout",
     "output_type": "stream",
     "text": [
      "The names \"John Doe\" for males, \"Jane Doe\" or \"Jane Roe\" for females, or \"Jonnie Doe\" and \"Janie Doe\" for children, or just \"Doe\" non-gender-specifically are used as placeholder names for a party whose true identity is unknown or must be withheld in a legal action, case, or discussion. The names are also used to refer to acorpse or hospital patient whose identity is unknown. This practice is widely used in the United States and Canada, but is rarely used in other English-speaking countries including the United Kingdom itself, from where the use of \"John Doe\" in a legal context originates. The names Joe Bloggs or John Smith are used in the UK instead, as well as in Australia and New Zealand.\n",
      "\n",
      "John Doe is sometimes used to refer to a typical male in other contexts as well, in a similar manner to John Q. Public, known in Great Britain as Joe Public, John Smith or Joe Bloggs. For example, the first name listed on a form is often John Doe, along with a fictional address or other fictional information to provide an example of how to fill in the form. The name is also used frequently in popular culture, for example in the Frank Capra film Meet John Doe. John Doe was also the name of a 2002 American television series.\n",
      "\n",
      "Similarly, a child or baby whose identity is unknown may be referred to as Baby Doe. A notorious murder case in Kansas City, Missouri, referred to the baby victim as Precious Doe. Other unidentified female murder victims are Cali Doe and Princess Doe. Additional persons may be called James Doe, Judy Doe, etc. However, to avoid possible confusion, if two anonymous or unknown parties are cited in a specific case or action, the surnames Doe and Roe may be used simultaneously; for example, \"John Doe v. Jane Roe\". If several anonymous parties are referenced, they may simply be labelled John Doe #1, John Doe #2, etc. (the U.S. Operation Delego cited 21 (numbered) \"John Doe\"s) or labelled with other variants of Doe / Roe / Poe / etc. Other early alternatives such as John Stiles and Richard Miles are now rarely used, and Mary Major has been used in some American federal cases.\n",
      "\n",
      "File created by https://www.online-convert.com\n",
      "\n",
      "More example files: https://www.online-convert.com/file-type\n",
      "\n",
      "Text of Example content: Wikipedia (https://en.wikipedia.org/wiki/John_Doe)\n",
      "\n",
      "License: Attribution-ShareAlike 4.0 (https://creativecommons.org/licenses/by-sa/4.0/)\n",
      "\n",
      "Feel free to use and share the file according to the license above.\n",
      "\n"
     ]
    }
   ],
   "source": [
    "f = open(\"/Users/gohtk/Dropbox/work/compsoc/code/example.txt\", 'r')\n",
    "i=1\n",
    "while True:\n",
    "    one_line=f.readline()\n",
    "    if one_line!=\"\\n\":\n",
    "        i+=1\n",
    "        if i>7:\n",
    "            print(one_line)\n",
    "    if not one_line:\n",
    "        break\n",
    "f.close()"
   ]
  },
  {
   "cell_type": "markdown",
   "id": "e66511a2-b520-4bdf-81c9-9bcb2c09a8d3",
   "metadata": {
    "pycharm": {
     "name": "#%% md\n"
    }
   },
   "source": [
    "### Task 4.2"
   ]
  },
  {
   "cell_type": "code",
   "execution_count": 2,
   "id": "0aff377e-635e-4f78-be22-1eb0d8934760",
   "metadata": {
    "pycharm": {
     "name": "#%%\n"
    }
   },
   "outputs": [],
   "source": [
    "import random"
   ]
  },
  {
   "cell_type": "code",
   "execution_count": 3,
   "id": "4717ec69-4c4b-47f7-8b43-b4cee0a819ef",
   "metadata": {
    "pycharm": {
     "name": "#%%\n"
    }
   },
   "outputs": [],
   "source": [
    "def sumForTwenty(list_a):\n",
    "    print(list_a)\n",
    "    for item in range(0, len(list_a)):\n",
    "        if type(list_a[item])==int or type(list_a[item])==float:\n",
    "            pass\n",
    "        else:\n",
    "            print(\"Value Error\")\n",
    "            return\n",
    "    return print(sum(list_a))"
   ]
  },
  {
   "cell_type": "code",
   "execution_count": 4,
   "id": "b63c3fd5-bef4-4110-b4e7-75bd998b94c6",
   "metadata": {
    "pycharm": {
     "name": "#%%\n"
    }
   },
   "outputs": [
    {
     "name": "stdout",
     "output_type": "stream",
     "text": [
      "[20, 15, 8, 17, 10, 9, 16, 13, 16, 6, 7, 13, 4, 10, 1, 11, 18, 16, 1]\n",
      "211\n"
     ]
    }
   ],
   "source": [
    "listA = [random.randint(1,20) for items in range(19)]\n",
    "sumForTwenty(listA)"
   ]
  },
  {
   "cell_type": "code",
   "execution_count": 5,
   "id": "8436c4a0-9f6c-49de-9d62-40b7f43c5f7a",
   "metadata": {
    "pycharm": {
     "name": "#%%\n"
    }
   },
   "outputs": [
    {
     "name": "stdout",
     "output_type": "stream",
     "text": [
      "[1, 3, 'c', 5, 5, 6, 'a']\n",
      "Value Error\n"
     ]
    }
   ],
   "source": [
    "listB = [1,3,'c', 5,5,6,'a']\n",
    "sumForTwenty(listB)"
   ]
  },
  {
   "cell_type": "markdown",
   "id": "cae16c65-af99-4609-a51f-ea7b33c50ba0",
   "metadata": {
    "pycharm": {
     "name": "#%% md\n"
    }
   },
   "source": [
    "### Task 4.3 "
   ]
  },
  {
   "cell_type": "code",
   "execution_count": 9,
   "id": "a9b6f905-b469-440c-a985-e7a405fb3988",
   "metadata": {
    "pycharm": {
     "name": "#%%\n"
    }
   },
   "outputs": [],
   "source": [
    "def duplicateNames(list_b, n):\n",
    "    list_c=[]\n",
    "    if type(n)==int:\n",
    "        if n>=1:\n",
    "            for i in range(n):\n",
    "                for j in range(0, len(list_b)):\n",
    "                    if type(list_b[j])==str:\n",
    "                        list_c.append(list_b[j]+str(i+1))\n",
    "                    else:\n",
    "                        print(\"Value Error in the list\")\n",
    "                        return\n",
    "        else:\n",
    "            print(\"Error: n is less than 1\")\n",
    "            return\n",
    "    else: \n",
    "        print(\"Input a integer\")  \n",
    "        return\n",
    "    return list_c"
   ]
  },
  {
   "cell_type": "code",
   "execution_count": 8,
   "id": "3dcd9947-ad99-4033-8323-cf0743319c90",
   "metadata": {
    "pycharm": {
     "name": "#%%\n"
    }
   },
   "outputs": [
    {
     "data": {
      "text/plain": [
       "['a1', 'b1', 'c1', 'a2', 'b2', 'c2', 'a3', 'b3', 'c3']"
      ]
     },
     "execution_count": 8,
     "metadata": {},
     "output_type": "execute_result"
    }
   ],
   "source": [
    "listC = ['a', 'b', 'c']\n",
    "duplicateNames(listC, 3)"
   ]
  },
  {
   "cell_type": "code",
   "execution_count": 9,
   "id": "783c2485-40fa-43f4-947d-5f7886e6c77f",
   "metadata": {
    "pycharm": {
     "name": "#%%\n"
    }
   },
   "outputs": [
    {
     "name": "stdout",
     "output_type": "stream",
     "text": [
      "Error: n is less than 1\n"
     ]
    }
   ],
   "source": [
    "listD = ['a', 'b', 'c']\n",
    "duplicateNames(listD, 0)"
   ]
  },
  {
   "cell_type": "code",
   "execution_count": 10,
   "id": "f66a8c45-6432-4b84-99d1-06559c904584",
   "metadata": {
    "pycharm": {
     "name": "#%%\n"
    }
   },
   "outputs": [
    {
     "name": "stdout",
     "output_type": "stream",
     "text": [
      "Value Error in the list\n"
     ]
    }
   ],
   "source": [
    "listE = ['a', 'b', 3]\n",
    "duplicateNames(listE, 3)"
   ]
  },
  {
   "cell_type": "code",
   "execution_count": 11,
   "id": "186a8776-bc92-4189-bc55-d4379b208105",
   "metadata": {
    "pycharm": {
     "name": "#%%\n"
    }
   },
   "outputs": [
    {
     "name": "stdout",
     "output_type": "stream",
     "text": [
      "Input a integer\n"
     ]
    }
   ],
   "source": [
    "listF = ['a', 'b', 'c']\n",
    "duplicateNames(listE, 'a')"
   ]
  },
  {
   "cell_type": "markdown",
   "id": "41b8aa1a-738e-4946-b5f4-99dba6ede036",
   "metadata": {
    "pycharm": {
     "name": "#%% md\n"
    }
   },
   "source": [
    "### Task 4.4"
   ]
  },
  {
   "cell_type": "code",
   "execution_count": 12,
   "id": "d9e0ca73-e77d-456e-b6f1-6c7fa00ce70b",
   "metadata": {
    "pycharm": {
     "name": "#%%\n"
    }
   },
   "outputs": [],
   "source": [
    "from collections import Counter"
   ]
  },
  {
   "cell_type": "code",
   "execution_count": 13,
   "id": "3dfa7926-f43f-41c7-b320-4a524199754e",
   "metadata": {
    "pycharm": {
     "name": "#%%\n"
    }
   },
   "outputs": [],
   "source": [
    "def top3Players(dict_a, n):\n",
    "    c_dict= Counter(dict_a)\n",
    "    top3list= [name for name, score in c_dict.most_common(n)]\n",
    "    return top3list      "
   ]
  },
  {
   "cell_type": "code",
   "execution_count": 14,
   "id": "2ef4c7ab-ae49-4d29-8f25-d7d31aa336ab",
   "metadata": {
    "pycharm": {
     "name": "#%%\n"
    }
   },
   "outputs": [
    {
     "data": {
      "text/plain": [
       "['michael', 'larry', 'kobe']"
      ]
     },
     "execution_count": 14,
     "metadata": {},
     "output_type": "execute_result"
    }
   ],
   "source": [
    "dictA={'lebron': 70, 'kobe': 80, 'stephen': 75, 'michael': 85, 'larry': 82}\n",
    "top3Players(dictA, 3)"
   ]
  }
 ],
 "metadata": {
  "kernelspec": {
   "display_name": "Python [conda env:compsoc] *",
   "language": "python",
   "name": "conda-env-compsoc-py"
  },
  "language_info": {
   "codemirror_mode": {
    "name": "ipython",
    "version": 3
   },
   "file_extension": ".py",
   "mimetype": "text/x-python",
   "name": "python",
   "nbconvert_exporter": "python",
   "pygments_lexer": "ipython3",
   "version": "3.8.13"
  }
 },
 "nbformat": 4,
 "nbformat_minor": 5
}