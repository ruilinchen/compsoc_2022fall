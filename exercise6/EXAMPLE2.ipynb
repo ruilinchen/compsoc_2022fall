{
 "cells": [
  {
   "cell_type": "code",
   "execution_count": 1,
   "metadata": {
    "collapsed": true,
    "pycharm": {
     "name": "#%%\n"
    }
   },
   "outputs": [],
   "source": [
    "#Task 6.1 Combine year 2019 and year 2020’s crime records into one pandas dataframe. Drop duplicates as well as any record that has missing values in the following columns: “INCIDENT_NUMBER”, “OFFENSE_CODE”, “DISTRICT”, “Long”, “Lat”, “SHOOTING”, “OCCURRED_ON_DATE”. Save the “cleaned” pandas dataframe to a separate csv file.\n",
    "import os\n",
    "import pandas as pd\n",
    "os.chdir('/Users/[editted]/Desktop/compsoc/data/boston_crime_2019')\n",
    "crime_2019 =  pd.read_csv('crime_incidents_2019.csv', low_memory=False) #87184; 1041 missing\n",
    "os.chdir('/Users/[editted]/Desktop/compsoc/data/boston_crime_2020')\n",
    "crime_2020 = pd.read_csv('crime_incidents_2020.csv', low_memory=False) #70894; 278 missing\n",
    "os.chdir('/Users/[editted]/Desktop/compsoc/data')\n",
    "concat_data = pd.concat([crime_2019,crime_2020]) #158078\n",
    "cleaned_data = concat_data.drop_duplicates()\n",
    "new_data = cleaned_data.dropna(subset=['INCIDENT_NUMBER', 'OFFENSE_CODE', 'DISTRICT', 'Long', 'Lat', 'SHOOTING', 'OCCURRED_ON_DATE'])\n",
    "new_data.to_csv('cleaned_crime_incidents.csv')"
   ]
  },
  {
   "cell_type": "code",
   "execution_count": 2,
   "metadata": {
    "pycharm": {
     "name": "#%%\n"
    }
   },
   "outputs": [
    {
     "name": "stdout",
     "output_type": "stream",
     "text": [
      "YEAR  MONTH\n",
      "2019  8        8379\n",
      "      9        8133\n",
      "      7        8036\n",
      "      5        7763\n",
      "      6        7597\n",
      "      3        7065\n",
      "      10       6990\n",
      "      4        6936\n",
      "      1        6933\n",
      "2020  10       6741\n",
      "      8        6507\n",
      "      9        6467\n",
      "2019  11       6338\n",
      "2020  1        6318\n",
      "      7        6213\n",
      "2019  2        6147\n",
      "2020  6        5897\n",
      "      2        5874\n",
      "2019  12       5826\n",
      "2020  11       5755\n",
      "      12       5581\n",
      "      3        5490\n",
      "      5        5411\n",
      "      4        4362\n",
      "dtype: int64\n"
     ]
    }
   ],
   "source": [
    "#Task 6.2 Read the csv file generated from Task 6.1 as a pandas dataframe. Use functions inside pandas to create a frequency table that counts the total number of crime incidents in Boston in each month from 2019 to 2020. Print this table.\n",
    "import pandas as pd\n",
    "os.chdir('/Users/[editted]/Desktop/compsoc/data')\n",
    "df = pd.read_csv('cleaned_crime_incidents.csv', low_memory=False)\n",
    "crime_incidents = df[['YEAR','MONTH']].value_counts()\n",
    "print(crime_incidents)"
   ]
  },
  {
   "cell_type": "code",
   "execution_count": 3,
   "metadata": {
    "pycharm": {
     "name": "#%%\n"
    }
   },
   "outputs": [
    {
     "name": "stdout",
     "output_type": "stream",
     "text": [
      "YEAR  DISTRICT\n",
      "2019  B2          13030\n",
      "      D4          11276\n",
      "      C11         11022\n",
      "2020  B2          10442\n",
      "2019  A1           9936\n",
      "      B3           9591\n",
      "2020  D4           9283\n",
      "      C11          8992\n",
      "      B3           7828\n",
      "      A1           7013\n",
      "2019  C6           6286\n",
      "      D14          5704\n",
      "2020  C6           5440\n",
      "2019  E18          5197\n",
      "      E13          4928\n",
      "2020  D14          4756\n",
      "      E18          4177\n",
      "      E13          4103\n",
      "2019  E5           3807\n",
      "2020  E5           3595\n",
      "2019  A7           3400\n",
      "2020  A7           3141\n",
      "2019  A15          1889\n",
      "2020  A15          1600\n",
      "dtype: int64\n"
     ]
    }
   ],
   "source": [
    "#Task 6.3 Count the total number of crime incidents in each year by district (column “DISTRICT” in the data). Ignore DISTRICT with null value as well as value  “External”. Discuss the spatial distribution of crime. Do you see any significant difference between districts in terms of their crime counts?\n",
    "df = df[df.DISTRICT != \"External\"]\n",
    "new_df = df[~df['DISTRICT'].isna()]\n",
    "incidents_by_district = df[['YEAR','DISTRICT']].value_counts()\n",
    "print(incidents_by_district)"
   ]
  },
  {
   "cell_type": "markdown",
   "metadata": {
    "pycharm": {
     "name": "#%% md\n"
    }
   },
   "source": [
    "### Result Discussion\n",
    "* Based on the results and research about regions that the district numbers represent.\n",
    "* Overall, in all regions, there were fewer crimes in 2020 than in 2019.\n",
    "* Crime incidents are significantly high in B3, C11, and D4 districts, corresponding to Roxbury, Dorchester, and South End. In 2019, their crime incidents all exceeded 11,000. In 2020, their crime incidents all exceeded 8990.\n",
    "* Districts A1 and B3, Downtown and Mattapan, have relatively high crime incidents. In 2019, both regions have more than 9500 crime incidents, and both have more than 7000 incidents in 2020.\n",
    "* The rest regions have relatively low crime incidents, all having incidents no more than 6000 cases both in 2019 and 2020.\n",
    "* The lowest crime incident district is A15--Charlestown."
   ]
  }
 ],
 "metadata": {
  "kernelspec": {
   "display_name": "Python 3 (ipykernel)",
   "language": "python",
   "name": "python3"
  },
  "language_info": {
   "codemirror_mode": {
    "name": "ipython",
    "version": 3
   },
   "file_extension": ".py",
   "mimetype": "text/x-python",
   "name": "python",
   "nbconvert_exporter": "python",
   "pygments_lexer": "ipython3",
   "version": "3.8.13"
  }
 },
 "nbformat": 4,
 "nbformat_minor": 1
}