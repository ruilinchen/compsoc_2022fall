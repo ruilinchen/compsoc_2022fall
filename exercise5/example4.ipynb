{
 "cells": [
  {
   "cell_type": "markdown",
   "metadata": {
    "pycharm": {
     "name": "#%% md\n"
    }
   },
   "source": [
    "# Exercise 5\n",
    "[editted]"
   ]
  },
  {
   "cell_type": "markdown",
   "metadata": {
    "pycharm": {
     "name": "#%% md\n"
    }
   },
   "source": [
    "Task 5.1 Download “MA_cbg_human_mobility_2019.zip” from Canvas under “Files/datasets”. Write a program that loops through all the files in this zip file and prints the name of all the “csv” files. Use `zipfile` package."
   ]
  },
  {
   "cell_type": "code",
   "execution_count": 40,
   "metadata": {
    "pycharm": {
     "name": "#%%\n"
    }
   },
   "outputs": [
    {
     "name": "stdout",
     "output_type": "stream",
     "text": [
      "['MA_cbg_human_mobility_2019/', 'MA_cbg_human_mobility_2019/MA_cbg2cbg_2019_09.csv', '__MACOSX/MA_cbg_human_mobility_2019/._MA_cbg2cbg_2019_09.csv', 'MA_cbg_human_mobility_2019/MA_cbg2cbg_2019_08.csv', '__MACOSX/MA_cbg_human_mobility_2019/._MA_cbg2cbg_2019_08.csv', 'MA_cbg_human_mobility_2019/.DS_Store', '__MACOSX/MA_cbg_human_mobility_2019/._.DS_Store', 'MA_cbg_human_mobility_2019/README.txt', '__MACOSX/MA_cbg_human_mobility_2019/._README.txt', 'MA_cbg_human_mobility_2019/MA_cbg2cbg_2019_03.csv', '__MACOSX/MA_cbg_human_mobility_2019/._MA_cbg2cbg_2019_03.csv', 'MA_cbg_human_mobility_2019/MA_cbg2cbg_2019_02.csv', '__MACOSX/MA_cbg_human_mobility_2019/._MA_cbg2cbg_2019_02.csv', 'MA_cbg_human_mobility_2019/MA_cbg2cbg_2019_01.csv', '__MACOSX/MA_cbg_human_mobility_2019/._MA_cbg2cbg_2019_01.csv', 'MA_cbg_human_mobility_2019/MA_cbg2cbg_2019_05.csv', '__MACOSX/MA_cbg_human_mobility_2019/._MA_cbg2cbg_2019_05.csv', 'MA_cbg_human_mobility_2019/MA_cbg2cbg_2019_11.csv', '__MACOSX/MA_cbg_human_mobility_2019/._MA_cbg2cbg_2019_11.csv', 'MA_cbg_human_mobility_2019/MA_cbg2cbg_2019_10.csv', '__MACOSX/MA_cbg_human_mobility_2019/._MA_cbg2cbg_2019_10.csv', 'MA_cbg_human_mobility_2019/MA_cbg2cbg_2019_04.csv', '__MACOSX/MA_cbg_human_mobility_2019/._MA_cbg2cbg_2019_04.csv', 'MA_cbg_human_mobility_2019/MA_cbg2cbg_2019_12.csv', '__MACOSX/MA_cbg_human_mobility_2019/._MA_cbg2cbg_2019_12.csv', 'MA_cbg_human_mobility_2019/MA_cbg2cbg_2019_06.csv', '__MACOSX/MA_cbg_human_mobility_2019/._MA_cbg2cbg_2019_06.csv', 'MA_cbg_human_mobility_2019/MA_cbg2cbg_2019_07.csv', '__MACOSX/MA_cbg_human_mobility_2019/._MA_cbg2cbg_2019_07.csv']\n"
     ]
    }
   ],
   "source": [
    "file = 'MA_cbg_human_mobility_2019.zip'\n",
    "## zip file: read with a special package\n",
    "import zipfile\n",
    "filenames= []\n",
    "with zipfile.ZipFile(file, 'r') as f:\n",
    "    filenames=f.namelist()\n",
    "    print(filenames)"
   ]
  },
  {
   "cell_type": "code",
   "execution_count": 50,
   "metadata": {
    "pycharm": {
     "name": "#%%\n"
    }
   },
   "outputs": [],
   "source": [
    "# clean the names of files \n",
    "\n",
    "for i in range(len(filenames)): \n",
    "    filenames[i]=filenames[i][27:]\n",
    "    \n",
    "csvnames=[]\n",
    "for i in range(len(filenames)): \n",
    "    if len(filenames[i])==22:\n",
    "        csvnames.append(filenames[i])\n"
   ]
  },
  {
   "cell_type": "code",
   "execution_count": 54,
   "metadata": {
    "pycharm": {
     "name": "#%%\n"
    }
   },
   "outputs": [
    {
     "data": {
      "text/plain": [
       "['MA_cbg2cbg_2019_09.csv',\n",
       " 'MA_cbg2cbg_2019_08.csv',\n",
       " 'MA_cbg2cbg_2019_03.csv',\n",
       " 'MA_cbg2cbg_2019_02.csv',\n",
       " 'MA_cbg2cbg_2019_01.csv',\n",
       " 'MA_cbg2cbg_2019_05.csv',\n",
       " 'MA_cbg2cbg_2019_11.csv',\n",
       " 'MA_cbg2cbg_2019_10.csv',\n",
       " 'MA_cbg2cbg_2019_04.csv',\n",
       " 'MA_cbg2cbg_2019_12.csv',\n",
       " 'MA_cbg2cbg_2019_06.csv',\n",
       " 'MA_cbg2cbg_2019_07.csv']"
      ]
     },
     "execution_count": 54,
     "metadata": {},
     "output_type": "execute_result"
    }
   ],
   "source": [
    "csvnames"
   ]
  },
  {
   "cell_type": "markdown",
   "metadata": {
    "pycharm": {
     "name": "#%% md\n"
    }
   },
   "source": [
    "Task 5.2 Unzip the above zipped file in your laptop’s File System and you will get a folder named “MA_cbg_human_mobility_2019”. Write a program that loops through all the files stored in this folder and counts the number of lines contained in each of the “csv” files. Print a sum of the line counts. Use with statement when reading files. "
   ]
  },
  {
   "cell_type": "code",
   "execution_count": 57,
   "metadata": {
    "pycharm": {
     "name": "#%%\n"
    }
   },
   "outputs": [
    {
     "name": "stdout",
     "output_type": "stream",
     "text": [
      "Number of lines in MA_cbg2cbg_2019_09.csv is 1136954\n",
      "Number of lines in MA_cbg2cbg_2019_08.csv is 1194285\n",
      "Number of lines in MA_cbg2cbg_2019_03.csv is 914654\n",
      "Number of lines in MA_cbg2cbg_2019_02.csv is 818862\n",
      "Number of lines in MA_cbg2cbg_2019_01.csv is 840594\n",
      "Number of lines in MA_cbg2cbg_2019_05.csv is 1088295\n",
      "Number of lines in MA_cbg2cbg_2019_11.csv is 901469\n",
      "Number of lines in MA_cbg2cbg_2019_10.csv is 1010778\n",
      "Number of lines in MA_cbg2cbg_2019_04.csv is 1011375\n",
      "Number of lines in MA_cbg2cbg_2019_12.csv is 950662\n",
      "Number of lines in MA_cbg2cbg_2019_06.csv is 1120697\n",
      "Number of lines in MA_cbg2cbg_2019_07.csv is 1119933\n"
     ]
    }
   ],
   "source": [
    "for i in range(len(csvnames)):\n",
    "    with open(csvnames[i], 'r') as f:\n",
    "        rowcount  = 0\n",
    "        for line in f:\n",
    "            rowcount+= 1\n",
    " #printing the result\n",
    "    print(\"Number of lines in\", csvnames[i], 'is', rowcount)"
   ]
  },
  {
   "cell_type": "markdown",
   "metadata": {
    "pycharm": {
     "name": "#%% md\n"
    }
   },
   "source": [
    "Task 5.3 Use the same program from Task 5.2 that counts lines of all the csv files in “MA_cbg_human_mobility_2019”. Store the output in a dictionary with keys being filenames and values being the corresponding line counts. Write the output to a json file. "
   ]
  },
  {
   "cell_type": "code",
   "execution_count": 62,
   "metadata": {
    "pycharm": {
     "name": "#%%\n"
    }
   },
   "outputs": [
    {
     "name": "stdout",
     "output_type": "stream",
     "text": [
      "{'MA_cbg2cbg_2019_09.csv': 1136954, 'MA_cbg2cbg_2019_08.csv': 1194285, 'MA_cbg2cbg_2019_03.csv': 914654, 'MA_cbg2cbg_2019_02.csv': 818862, 'MA_cbg2cbg_2019_01.csv': 840594, 'MA_cbg2cbg_2019_05.csv': 1088295, 'MA_cbg2cbg_2019_11.csv': 901469, 'MA_cbg2cbg_2019_10.csv': 1010778, 'MA_cbg2cbg_2019_04.csv': 1011375, 'MA_cbg2cbg_2019_12.csv': 950662, 'MA_cbg2cbg_2019_06.csv': 1120697, 'MA_cbg2cbg_2019_07.csv': 1119933}\n"
     ]
    }
   ],
   "source": [
    "file_dict ={}\n",
    "for i in range(len(csvnames)):\n",
    "    with open(csvnames[i], 'r') as f:\n",
    "        rowcount  = 0\n",
    "        for line in f:\n",
    "            rowcount+= 1\n",
    "    file_dict[csvnames[i]]= rowcount\n",
    "print(file_dict)"
   ]
  },
  {
   "cell_type": "code",
   "execution_count": 63,
   "metadata": {
    "pycharm": {
     "name": "#%%\n"
    }
   },
   "outputs": [],
   "source": [
    "import json\n",
    "\n",
    "with open(\"file_dict.json\", \"w\") as outfile:\n",
    "    json.dump(file_dict, outfile)"
   ]
  }
 ],
 "metadata": {
  "kernelspec": {
   "display_name": "Python 3.9.6 64-bit",
   "language": "python",
   "name": "python3"
  },
  "language_info": {
   "codemirror_mode": {
    "name": "ipython",
    "version": 3
   },
   "file_extension": ".py",
   "mimetype": "text/x-python",
   "name": "python",
   "nbconvert_exporter": "python",
   "pygments_lexer": "ipython3",
   "version": "3.9.6"
  },
  "orig_nbformat": 4,
  "vscode": {
   "interpreter": {
    "hash": "31f2aee4e71d21fbe5cf8b01ff0e069b9275f58929596ceb00d14d90e3e16cd6"
   }
  }
 },
 "nbformat": 4,
 "nbformat_minor": 2
}