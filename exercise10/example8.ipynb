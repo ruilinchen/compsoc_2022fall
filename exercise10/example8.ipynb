{
 "cells": [
  {
   "cell_type": "code",
   "execution_count": 3,
   "id": "7b1815ae",
   "metadata": {
    "pycharm": {
     "name": "#%%\n"
    }
   },
   "outputs": [
    {
     "name": "stdout",
     "output_type": "stream",
     "text": [
      "Graph with 40292 nodes and 742299 edges\n"
     ]
    },
    {
     "name": "stderr",
     "output_type": "stream",
     "text": [
      "C:\\Users\\amyli\\AppData\\Local\\Temp\\ipykernel_10020\\2936956621.py:20: DeprecationWarning: info is deprecated and will be removed in version 3.0.\n",
      "\n",
      "  print(nx.info(mobility_network))\n"
     ]
    }
   ],
   "source": [
    "#task 10.1\n",
    "#This code creates a human mobility network using the data and counts the number of nodes and edges. \n",
    "import os\n",
    "os.chdir(r'C:\\Users\\[editted]\\OneDrive\\Desktop\\College\\mining big data\\MA_cbg_human_mobility_2019')\n",
    "\n",
    "import pandas as pd\n",
    "df = pd.read_csv('MA_cbg2cbg_2019_01.csv')\n",
    "\n",
    "import networkx as nx\n",
    "mobility_network = nx.Graph()\n",
    "for i in range(len(df)):\n",
    "    origin_cbg = df.loc[i, 'poi_cbg']\n",
    "    destination_cbg = df.loc[i, 'visitor_census_tract']\n",
    "    total_residents_in_origin = df.loc[i, 'raw_device_counts']\n",
    "    num_visitor = df.loc[i, 'visitor_count']\n",
    "    percent_visitor = num_visitor / total_residents_in_origin\n",
    "    mobility_network.add_edge(origin_cbg, destination_cbg, weight=percent_visitor)\n",
    "#nx.draw(mobility_network, with_labels=True)\n",
    "\n",
    "print(nx.info(mobility_network))"
   ]
  },
  {
   "cell_type": "markdown",
   "id": "e8990dcb",
   "metadata": {
    "pycharm": {
     "name": "#%% md\n"
    }
   },
   "source": [
    "TASK 10.1\n",
    "There 40292 nodes and 742299 edges in my human mobility network. "
   ]
  },
  {
   "cell_type": "code",
   "execution_count": null,
   "id": "2ce93d84",
   "metadata": {
    "pycharm": {
     "name": "#%%\n"
    }
   },
   "outputs": [],
   "source": [
    "#task 10.2\n",
    "#This code creates a new dataframe with three columns: census block group id, weighted node degree, and unweighted node degree. \n",
    "weighted_list = []\n",
    "unweighted_list = []\n",
    "for element in df['poi_cbg']:\n",
    "    unweighted_list.append(mobility_network.degree(element))\n",
    "    weighted_list.append(mobility_network.degree(element, weight='weight'))\n",
    "\n",
    "new_df = pd.DataFrame(df, columns=['census_block_group_id','weighted_node_degree','unweighted_node_degree'])\n",
    "group_id = df['poi_cbg']\n",
    "new_df['census_block_group_id'] = group_id\n",
    "new_df['weighted_node_degree'] = weighted_list\n",
    "new_df['unweighted_node_degree'] = unweighted_list\n",
    "new_df"
   ]
  },
  {
   "cell_type": "code",
   "execution_count": null,
   "id": "14cbdcab",
   "metadata": {
    "pycharm": {
     "name": "#%%\n"
    }
   },
   "outputs": [],
   "source": [
    "#task 10.3\n",
    "#This code creates a histogram of the weighted node degrees in the new dataframe\n",
    "import seaborn as sns\n",
    "#sns.barplot(x = 'census_block_group_id', y = 'weighted_node_degree', data = new_df)\n",
    "plot = sns.histplot(data = new_df, x = new_df['weighted_node_degree'].astype(str))\n",
    "plot"
   ]
  },
  {
   "cell_type": "markdown",
   "id": "dcb87712",
   "metadata": {
    "pycharm": {
     "name": "#%% md\n"
    }
   },
   "source": [
    "TASK 10.3\n",
    "The plot does not show the degree distribution follow a power law, because there is no decreasing pattern in the histogram. "
   ]
  },
  {
   "cell_type": "code",
   "execution_count": null,
   "id": "6d350477",
   "metadata": {
    "pycharm": {
     "name": "#%%\n"
    }
   },
   "outputs": [],
   "source": []
  }
 ],
 "metadata": {
  "kernelspec": {
   "display_name": "Python [conda env:compsoc] *",
   "language": "python",
   "name": "conda-env-compsoc-py"
  },
  "language_info": {
   "codemirror_mode": {
    "name": "ipython",
    "version": 3
   },
   "file_extension": ".py",
   "mimetype": "text/x-python",
   "name": "python",
   "nbconvert_exporter": "python",
   "pygments_lexer": "ipython3",
   "version": "3.8.13"
  }
 },
 "nbformat": 4,
 "nbformat_minor": 5
}