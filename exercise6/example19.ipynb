{
 "cells": [
  {
   "cell_type": "code",
   "execution_count": 32,
   "id": "bf63f705",
   "metadata": {
    "pycharm": {
     "name": "#%%\n"
    }
   },
   "outputs": [
    {
     "name": "stderr",
     "output_type": "stream",
     "text": [
      "/var/folders/4x/9tydsf1n3w9gn38nvgmh5p1h0000gn/T/ipykernel_30487/2030075235.py:3: DtypeWarning: Columns (0) have mixed types. Specify dtype option on import or set low_memory=False.\n",
      "  pdData = pd.concat(\n",
      "/var/folders/4x/9tydsf1n3w9gn38nvgmh5p1h0000gn/T/ipykernel_30487/2030075235.py:3: DtypeWarning: Columns (0) have mixed types. Specify dtype option on import or set low_memory=False.\n",
      "  pdData = pd.concat(\n"
     ]
    }
   ],
   "source": [
    "import pandas as pd\n",
    "\n",
    "pdData = pd.concat(\n",
    "    map(pd.read_csv, [\"Crime_Incident_Reports_2019.csv\", \"Crime_Incident_Reports_2020.csv\"]), ignore_index=True) \n",
    "pdData2 = pdData.drop_duplicates()\n",
    "\n",
    "pdData3 = pdData2.dropna(subset=[\"INCIDENT_NUMBER\", \"OFFENSE_CODE\", \"DISTRICT\", \"Long\", \"Lat\", \"SHOOTING\", \"OCCURRED_ON_DATE\"])\n",
    "\n",
    "pdData3.to_csv(\"Crime_Incident_Reports_Compiled.csv\")\n"
   ]
  },
  {
   "cell_type": "code",
   "execution_count": 33,
   "id": "24e5c804",
   "metadata": {
    "pycharm": {
     "name": "#%%\n"
    }
   },
   "outputs": [
    {
     "name": "stdout",
     "output_type": "stream",
     "text": [
      "YEAR  MONTH\n",
      "2019  8        8379\n",
      "      9        8133\n",
      "      7        8036\n",
      "      5        7763\n",
      "      6        7597\n",
      "      3        7065\n",
      "      10       6990\n",
      "      4        6936\n",
      "      1        6933\n",
      "2020  10       6741\n",
      "      8        6507\n",
      "      9        6467\n",
      "2019  11       6338\n",
      "2020  1        6318\n",
      "      7        6213\n",
      "2019  2        6147\n",
      "2020  6        5897\n",
      "      2        5874\n",
      "2019  12       5826\n",
      "2020  11       5755\n",
      "      12       5581\n",
      "      3        5490\n",
      "      5        5411\n",
      "      4        4362\n",
      "dtype: int64\n"
     ]
    },
    {
     "name": "stderr",
     "output_type": "stream",
     "text": [
      "/var/folders/4x/9tydsf1n3w9gn38nvgmh5p1h0000gn/T/ipykernel_30487/2297880668.py:3: DtypeWarning: Columns (1) have mixed types. Specify dtype option on import or set low_memory=False.\n",
      "  DF = pd.read_csv(\"Crime_Incident_Reports_Compiled.csv\")\n"
     ]
    }
   ],
   "source": [
    "import pandas as pd\n",
    "\n",
    "DF = pd.read_csv(\"Crime_Incident_Reports_Compiled.csv\")\n",
    "print(DF[[\"YEAR\", \"MONTH\"]].value_counts())"
   ]
  },
  {
   "cell_type": "markdown",
   "id": "7868341f",
   "metadata": {
    "pycharm": {
     "name": "#%% md\n"
    }
   },
   "source": [
    "Task 6.3 Count the total number of crime incidents in each year by district (column “DISTRICT” in the data). Ignore DISTRACT with null value as well as value  “External”. Discuss the spatial distribution of crime. Do you see any significant difference between districts in terms of their crime counts?  "
   ]
  },
  {
   "cell_type": "code",
   "execution_count": 35,
   "id": "901601e7",
   "metadata": {
    "pycharm": {
     "name": "#%%\n"
    }
   },
   "outputs": [
    {
     "name": "stdout",
     "output_type": "stream",
     "text": [
      "B2          23472\n",
      "D4          20559\n",
      "C11         20014\n",
      "B3          17419\n",
      "A1          16949\n",
      "C6          11726\n",
      "D14         10460\n",
      "E18          9374\n",
      "E13          9031\n",
      "E5           7402\n",
      "A7           6541\n",
      "A15          3489\n",
      "External      323\n",
      "Name: DISTRICT, dtype: int64\n"
     ]
    },
    {
     "name": "stderr",
     "output_type": "stream",
     "text": [
      "/var/folders/4x/9tydsf1n3w9gn38nvgmh5p1h0000gn/T/ipykernel_30487/3541745677.py:3: DtypeWarning: Columns (1) have mixed types. Specify dtype option on import or set low_memory=False.\n",
      "  DF = pd.read_csv(\"Crime_Incident_Reports_Compiled.csv\")\n"
     ]
    }
   ],
   "source": [
    "import pandas as pd\n",
    "\n",
    "DF = pd.read_csv(\"Crime_Incident_Reports_Compiled.csv\")\n",
    "print(DF[\"DISTRICT\"].value_counts())"
   ]
  },
  {
   "cell_type": "markdown",
   "id": "a40c1de2",
   "metadata": {
    "pycharm": {
     "name": "#%% md\n"
    }
   },
   "source": [
    "As seen in the frequency table above, districts \"B2\", \"D4\", \"C11\", \"B3\", and \"A1\" have much higher crime counts. However, one must note that distri"
   ]
  },
  {
   "cell_type": "code",
   "execution_count": null,
   "id": "3700f544",
   "metadata": {
    "pycharm": {
     "name": "#%%\n"
    }
   },
   "outputs": [],
   "source": []
  }
 ],
 "metadata": {
  "kernelspec": {
   "display_name": "Python 3 (ipykernel)",
   "language": "python",
   "name": "python3"
  },
  "language_info": {
   "codemirror_mode": {
    "name": "ipython",
    "version": 3
   },
   "file_extension": ".py",
   "mimetype": "text/x-python",
   "name": "python",
   "nbconvert_exporter": "python",
   "pygments_lexer": "ipython3",
   "version": "3.9.12"
  }
 },
 "nbformat": 4,
 "nbformat_minor": 5
}