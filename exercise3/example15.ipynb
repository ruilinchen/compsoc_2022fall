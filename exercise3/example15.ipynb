{
 "cells": [
  {
   "cell_type": "code",
   "execution_count": 13,
   "metadata": {
    "collapsed": true,
    "pycharm": {
     "name": "#%%\n"
    }
   },
   "outputs": [
    {
     "name": "stdout",
     "output_type": "stream",
     "text": [
      "98\n"
     ]
    }
   ],
   "source": [
    "# 3.1 List Max - Min\n",
    "numbers = [7,8,99,1,6]\n",
    "maxdiff = max(numbers) - min(numbers)\n",
    "print(maxdiff)"
   ]
  },
  {
   "cell_type": "code",
   "execution_count": 14,
   "outputs": [
    {
     "name": "stdout",
     "output_type": "stream",
     "text": [
      "['a', 1, 'b', 2, 'c', 3, 'd', 4]\n"
     ]
    }
   ],
   "source": [
    "# 3.2 Combined Lists\n",
    "list1 = ['a','b','c','d']\n",
    "list2 = [1,2,3,4]\n",
    "\n",
    "def comblist(list1, list2):\n",
    "    return [sub[item] for item in range(len(list2)) for sub in [list1, list2]]\n",
    "\n",
    "print(comblist(list1, list2))"
   ],
   "metadata": {
    "collapsed": false,
    "pycharm": {
     "name": "#%%\n"
    }
   }
  },
  {
   "cell_type": "code",
   "execution_count": 21,
   "outputs": [
    {
     "name": "stdout",
     "output_type": "stream",
     "text": [
      "{8: 2, 4: 2, 5: 2, 3: 2, 2: 1, 1: 3, 6: 1, 7: 2, 9: 1}\n"
     ]
    }
   ],
   "source": [
    "# 3.3 List Dictionary\n",
    "numbers = [8,4,5,3,4,3,2,1,1,1,6,7,9,8,7,5]\n",
    "d = dict()\n",
    "for i in numbers:\n",
    "    if i not in d:\n",
    "        d[i] = 1\n",
    "    else:\n",
    "        d[i] = d[i] + 1\n",
    "print(d)"
   ],
   "metadata": {
    "collapsed": false,
    "pycharm": {
     "name": "#%%\n"
    }
   }
  },
  {
   "cell_type": "code",
   "execution_count": 23,
   "outputs": [
    {
     "name": "stdout",
     "output_type": "stream",
     "text": [
      "[1, 2, 3, 4, 5, 6, 7, 8, 9]\n"
     ]
    }
   ],
   "source": [
    "# 3.4 List to Set of Common Elements\n",
    "list1 = [7,4,3,2,3,4,5,6,8,9]\n",
    "list2 = [1,2,3,2,4,2,3,5,6,7]\n",
    "\n",
    "ltos = list(set(list1 + list2))\n",
    "\n",
    "print(ltos)"
   ],
   "metadata": {
    "collapsed": false,
    "pycharm": {
     "name": "#%%\n"
    }
   }
  },
  {
   "cell_type": "code",
   "execution_count": null,
   "outputs": [],
   "source": [],
   "metadata": {
    "collapsed": false,
    "pycharm": {
     "name": "#%%\n"
    }
   }
  }
 ],
 "metadata": {
  "kernelspec": {
   "display_name": "Python 3",
   "language": "python",
   "name": "python3"
  },
  "language_info": {
   "codemirror_mode": {
    "name": "ipython",
    "version": 2
   },
   "file_extension": ".py",
   "mimetype": "text/x-python",
   "name": "python",
   "nbconvert_exporter": "python",
   "pygments_lexer": "ipython2",
   "version": "2.7.6"
  }
 },
 "nbformat": 4,
 "nbformat_minor": 0
}