{
 "cells": [
  {
   "cell_type": "markdown",
   "id": "3608458f",
   "metadata": {
    "pycharm": {
     "name": "#%% md\n"
    }
   },
   "source": [
    "## Task 1: Created a pandas dataframe, dropped rows with missing titles/descriptions, and then counted the number of tokens."
   ]
  },
  {
   "cell_type": "code",
   "execution_count": 1,
   "id": "dd50cb02",
   "metadata": {
    "pycharm": {
     "name": "#%%\n"
    }
   },
   "outputs": [
    {
     "name": "stderr",
     "output_type": "stream",
     "text": [
      "100%|██████████████████████████████████████████████████████████████████████████████| 4803/4803 [06:17<00:00, 12.72it/s]"
     ]
    },
    {
     "name": "stdout",
     "output_type": "stream",
     "text": [
      "number of unique tokens in the job description: 39150\n",
      "the distribution of token tags among them:\n",
      "PROPN    15172\n",
      "NOUN     11187\n",
      "VERB      4634\n",
      "ADJ       3294\n",
      "NUM       3206\n",
      "ADV        823\n",
      "X          201\n",
      "ADP        136\n",
      "PRON       113\n",
      "PUNCT       85\n",
      "SPACE       78\n",
      "AUX         64\n",
      "SCONJ       51\n",
      "DET         42\n",
      "INTJ        25\n",
      "CCONJ       18\n",
      "PART        13\n",
      "SYM          8\n",
      "Name: tag, dtype: int64\n"
     ]
    },
    {
     "name": "stderr",
     "output_type": "stream",
     "text": [
      "\n"
     ]
    }
   ],
   "source": [
    "import os\n",
    "import pandas as pd\n",
    "import spacy\n",
    "from tqdm import tqdm\n",
    "\n",
    "df = pd.DataFrame()\n",
    "path_info = './indeed_scraped_data/job_info_data/'\n",
    "\n",
    "for i in os.listdir(path=path_info):\n",
    "    if '5222022' in i:\n",
    "        df_temp = pd.read_csv(os.path.join(path_info, i))\n",
    "        df_temp = df_temp.rename(columns={'lnks_link':'link',\n",
    "                               'lnks_job_title':'job_title',\n",
    "                                'lnks_company':'company',\n",
    "                                'lnks_company_url':'company_url',\n",
    "                                'lnks_company_location':'company_location',\n",
    "                                'lnks_job_description':'job_description'\n",
    "                               })\n",
    "        df = pd.concat([df, df_temp])\n",
    "\n",
    "df.dropna(subset=['job_title','job_description'], inplace=True)\n",
    "\n",
    "nlp = spacy.load('en_core_web_sm')\n",
    "\n",
    "tok = {}\n",
    "for count, i in enumerate(tqdm(df['job_description'])):\n",
    "    for token in nlp(i):\n",
    "        tok[token.text] = token.pos_\n",
    "\n",
    "token_df = pd.DataFrame(columns=['token', 'tag'])\n",
    "token_df['token'] = tok.keys()\n",
    "token_df['tag'] = tok.values()\n",
    "\n",
    "print('number of unique tokens in the job description:', len(tok))\n",
    "print('the distribution of token tags among them:')\n",
    "print(token_df['tag'].value_counts())"
   ]
  },
  {
   "cell_type": "markdown",
   "id": "7637a9ef",
   "metadata": {
    "pycharm": {
     "name": "#%% md\n"
    }
   },
   "source": [
    "### 39,150 unique tokens among 4,803 different job descriptions. Highest concentration of proper nouns, followed by nouns and verbs"
   ]
  },
  {
   "cell_type": "markdown",
   "id": "1fb67f14",
   "metadata": {
    "pycharm": {
     "name": "#%% md\n"
    }
   },
   "source": [
    "## Task 2: constructed a dictionary that registers new terms (by unique lemma) and their frequency. That dictionary is saved to a json file and the 10 most common terms are displayed below."
   ]
  },
  {
   "cell_type": "code",
   "execution_count": 2,
   "id": "73f0191f",
   "metadata": {
    "pycharm": {
     "name": "#%%\n"
    }
   },
   "outputs": [
    {
     "name": "stderr",
     "output_type": "stream",
     "text": [
      "100%|██████████████████████████████████████████████████████████████████████████████| 4803/4803 [06:56<00:00, 11.54it/s]\n"
     ]
    },
    {
     "name": "stdout",
     "output_type": "stream",
     "text": [
      "number of unique terms in the job description: 33954\n",
      "the distribution of terms among them:\n",
      "     term    freq\n",
      "8     and  242058\n",
      "31     \\n  227694\n",
      "42     to  121120\n",
      "12    the  112072\n",
      "15     of   98209\n",
      "6      in   63043\n",
      "139    be   62358\n",
      "69   with   51270\n",
      "19      a   51254\n",
      "21    for   44857\n"
     ]
    }
   ],
   "source": [
    "import json\n",
    "import numpy as np\n",
    "\n",
    "term = {}\n",
    "lemma_codex = {}\n",
    "for count, i in enumerate(tqdm(df['job_description'])):\n",
    "    for token in nlp(i):\n",
    "        if not token.is_punct:\n",
    "            if token.lemma not in lemma_codex.keys():\n",
    "                term[token.lemma_] = 1\n",
    "                lemma_codex[token.lemma] = token.lemma_\n",
    "            else:\n",
    "                term[lemma_codex[token.lemma]] += 1\n",
    "\n",
    "with open('job_info_terms.json','w') as f:\n",
    "    csv_json = json.dump(term, f)\n",
    "\n",
    "term_df = pd.DataFrame(columns=['term', 'freq'])\n",
    "term_df['term'] = term.keys()\n",
    "term_df['freq'] = term.values()\n",
    "\n",
    "print('number of unique terms in the job description:', len(term))\n",
    "print('the distribution of terms among them:')\n",
    "print(term_df.nlargest(10, 'freq'))"
   ]
  },
  {
   "cell_type": "markdown",
   "id": "4c5db9a3",
   "metadata": {
    "pycharm": {
     "name": "#%% md\n"
    }
   },
   "source": [
    "### Most common 10 terms are articles, conjunctions, 'new lines,' and prepositions"
   ]
  },
  {
   "cell_type": "markdown",
   "id": "e270fd69",
   "metadata": {
    "pycharm": {
     "name": "#%% md\n"
    }
   },
   "source": [
    "## Bonus task: analyzes entries depending on whether their job title contains certain keywords."
   ]
  },
  {
   "cell_type": "code",
   "execution_count": 3,
   "id": "5b877ab5",
   "metadata": {
    "pycharm": {
     "name": "#%%\n"
    }
   },
   "outputs": [
    {
     "name": "stderr",
     "output_type": "stream",
     "text": [
      "100%|████████████████████████████████████████████████████████████████████████████████| 441/441 [00:30<00:00, 14.28it/s]\n",
      "100%|██████████████████████████████████████████████████████████████████████████████| 4362/4362 [06:31<00:00, 11.14it/s]\n"
     ]
    },
    {
     "name": "stdout",
     "output_type": "stream",
     "text": [
      "JOB TITLES WITH KEYWORDS\n",
      "number of unique terms in the job description: 9490\n",
      "the distribution of token tags among them:\n",
      "                    lemma        term   freq\n",
      "18    2283656566040971221         and  18406\n",
      "3      962983613142996970          \\n  17345\n",
      "47    3791531372978436496          to   9388\n",
      "5     7425985699627899538         the   8432\n",
      "21     886050111519832510          of   7263\n",
      "36   10382539506755952630          be   5098\n",
      "60    3002984154512732771          in   4733\n",
      "9    12510949447758279278        with   4311\n",
      "61   11901859001352538922           a   3919\n",
      "29   16037325823156266367         for   3540\n",
      "79    3740602843040177340          or   2591\n",
      "98   12819252901098364027  compliance   2484\n",
      "12    7437575085468336610          as   2199\n",
      "59   10038440415813069799        work   2048\n",
      "42    9184028488017041184  regulatory   1857\n",
      "76   12090100147684300169  experience   1663\n",
      "97    5640369432778651323          on   1610\n",
      "164  17577015140245084783         our   1505\n",
      "520  16064069575701507746          we   1485\n",
      "333   7624161793554793053         you   1324\n",
      "\n",
      "JOB TITLES WITHOUT KEYWORDS\n",
      "number of unique terms in the job description: 32317\n",
      "the distribution of terms among them:\n",
      "                    lemma        term    freq\n",
      "8     2283656566040971221         and  223652\n",
      "31     962983613142996970          \\n  210349\n",
      "42    3791531372978436496          to  111732\n",
      "12    7425985699627899538         the  103640\n",
      "15     886050111519832510          of   90946\n",
      "6     3002984154512732771          in   58310\n",
      "139  10382539506755952630          be   57260\n",
      "19   11901859001352538922           a   47335\n",
      "69   12510949447758279278        with   46959\n",
      "21   16037325823156266367         for   41317\n",
      "2     3740602843040177340          or   32607\n",
      "25    7437575085468336610          as   29661\n",
      "122  10038440415813069799        work   23032\n",
      "117  13409319323822384369         all   19823\n",
      "330  12090100147684300169  experience   17622\n",
      "249   5640369432778651323          on   16740\n",
      "311   9094995078650759376     require   16378\n",
      "223  14049642289933595219     include   15511\n",
      "50    1176656782636220709       other   14800\n",
      "404  16064069575701507746          we   13990\n"
     ]
    }
   ],
   "source": [
    "term_wo = {}\n",
    "term_w = {}\n",
    "lemma_codex = {}\n",
    "kws = [\"compliance\", \"regulation\", \"regulatory\"]\n",
    "pattern = '|'.join(kws)\n",
    "\n",
    "for i in tqdm(df[df['job_title'].str.contains(pattern, case=False)]['job_description']):\n",
    "    for token in nlp(i):\n",
    "        if not token.is_punct:\n",
    "            if token.lemma not in term_w.keys():\n",
    "                term_w[token.lemma] = 1\n",
    "                lemma_codex[token.lemma] = token.lemma_\n",
    "            else:\n",
    "                term_w[token.lemma] += 1\n",
    "\n",
    "for i in tqdm(df[~df['job_title'].str.contains(pattern, case=False)]['job_description']):\n",
    "    for token in nlp(i):\n",
    "        if not token.is_punct:\n",
    "            if token.lemma not in term_wo.keys():\n",
    "                term_wo[token.lemma] = 1\n",
    "                if token.lemma not in lemma_codex.keys():\n",
    "                    lemma_codex[token.lemma] = token.lemma_\n",
    "            else:\n",
    "                term_wo[token.lemma] += 1\n",
    "\n",
    "lemma_df = pd.DataFrame({'lemma': lemma_codex.keys()})\n",
    "lemma_df['term'] = lemma_df['lemma'].map(lemma_codex)\n",
    "\n",
    "termw_df = pd.DataFrame(columns=['lemma', 'freq'])\n",
    "termw_df['lemma'] = term_w.keys()\n",
    "termw_df['freq'] = term_w.values()\n",
    "termw_df = lemma_df.merge(termw_df, how=\"right\", on='lemma')\n",
    "\n",
    "termwo_df = pd.DataFrame(columns=['lemma', 'freq'])\n",
    "termwo_df['lemma'] = term_wo.keys()\n",
    "termwo_df['freq'] = term_wo.values()\n",
    "termwo_df = lemma_df.merge(termwo_df, how=\"right\", on='lemma')\n",
    "\n",
    "print('JOB TITLES WITH KEYWORDS')\n",
    "print('number of unique terms in the job description:', len(term_w))\n",
    "print('the distribution of token tags among them:')\n",
    "print(termw_df.nlargest(20, 'freq'))\n",
    "\n",
    "print('\\nJOB TITLES WITHOUT KEYWORDS')\n",
    "print('number of unique terms in the job description:', len(term_wo))\n",
    "print('the distribution of terms among them:')\n",
    "print(termwo_df.nlargest(20, 'freq'))\n",
    "\n",
    "totfreqw = termw_df['freq'].sum()\n",
    "totfreqwo = termwo_df['freq'].sum()\n",
    "matchterms = {}\n",
    "\n",
    "for i in range(len(termw_df)):\n",
    "    lemmaw = termw_df.loc[i, 'lemma']\n",
    "    freqw = termw_df.loc[i, 'freq']\n",
    "    freqw = freqw / totfreqw\n",
    "    if any(termwo_df['lemma'] == lemmaw):\n",
    "        tempwo = termwo_df[termwo_df['lemma'] == lemmaw]\n",
    "        matchterms[lemmaw] = freqw / (tempwo['freq'] / totfreqwo).iloc[0]\n",
    "    else:\n",
    "        matchterms[lemmaw] = float('NaN')\n",
    "\n",
    "mt_df = pd.DataFrame({'lemma': matchterms.keys()})\n",
    "mt_df['ratio (with-to-without)'] = lemma_df['lemma'].map(matchterms)\n",
    "mt_df = lemma_df.merge(mt_df, how=\"right\", on='lemma')"
   ]
  },
  {
   "cell_type": "code",
   "execution_count": 4,
   "id": "1161d5ff",
   "metadata": {
    "pycharm": {
     "name": "#%%\n"
    }
   },
   "outputs": [
    {
     "data": {
      "text/plain": [
       "<AxesSubplot: ylabel='Density'>"
      ]
     },
     "execution_count": 4,
     "metadata": {},
     "output_type": "execute_result"
    },
    {
     "data": {
      "image/png": "[encoded data removed]",
      "text/plain": [
       "<Figure size 640x480 with 1 Axes>"
      ]
     },
     "metadata": {},
     "output_type": "display_data"
    }
   ],
   "source": [
    "mt_df['ratio (with-to-without)'].plot.kde(bw_method=0.1)"
   ]
  },
  {
   "cell_type": "code",
   "execution_count": 5,
   "id": "70e7b552",
   "metadata": {
    "pycharm": {
     "name": "#%%\n"
    }
   },
   "outputs": [
    {
     "name": "stdout",
     "output_type": "stream",
     "text": [
      "1928    363.932428\n",
      "1206    339.670266\n",
      "5306    230.490538\n",
      "2164    194.097295\n",
      "2187    194.097295\n",
      "3419    157.704052\n",
      "1155    137.485584\n",
      "1212    121.310809\n",
      "4857    121.310809\n",
      "1177    109.179728\n",
      "Name: ratio (with-to-without), dtype: float64\n",
      "Median ratio of entries: 1.276955888606812\n"
     ]
    },
    {
     "data": {
      "image/png": "[encoded data removed]",
      "text/plain": [
       "<Figure size 640x480 with 1 Axes>"
      ]
     },
     "metadata": {},
     "output_type": "display_data"
    }
   ],
   "source": [
    "mt_df.boxplot(column=['ratio (with-to-without)'])\n",
    "\n",
    "print(mt_df['ratio (with-to-without)'].nlargest(10))\n",
    "\n",
    "print(f\"Median ratio of entries: {mt_df['ratio (with-to-without)'].median()}\")"
   ]
  },
  {
   "cell_type": "markdown",
   "id": "c5e96195",
   "metadata": {
    "pycharm": {
     "name": "#%% md\n"
    }
   },
   "source": [
    "### Find that the most common terms are largely the same across the term-frequency dictionaries, excluding the keywords. Looking at the term frequency ratios across the two dictionaries, we find that most terms maintain a relative ratio in the 1-2 range (suggesting some relative parity), but with some notable exceptions that largely only appear in one but not the other (i.e. outlier in the boxplot above)."
   ]
  }
 ],
 "metadata": {
  "kernelspec": {
   "display_name": "Python 3 (ipykernel)",
   "language": "python",
   "name": "python3"
  },
  "language_info": {
   "codemirror_mode": {
    "name": "ipython",
    "version": 3
   },
   "file_extension": ".py",
   "mimetype": "text/x-python",
   "name": "python",
   "nbconvert_exporter": "python",
   "pygments_lexer": "ipython3",
   "version": "3.8.13"
  }
 },
 "nbformat": 4,
 "nbformat_minor": 5
}