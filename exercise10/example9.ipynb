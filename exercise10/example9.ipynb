{
 "cells": [
  {
   "cell_type": "markdown",
   "id": "9a655579",
   "metadata": {
    "pycharm": {
     "name": "#%% md\n"
    }
   },
   "source": [
    "# Exercise #10"
   ]
  },
  {
   "cell_type": "markdown",
   "id": "49accb6d",
   "metadata": {
    "pycharm": {
     "name": "#%% md\n"
    }
   },
   "source": [
    "## Task 10.1"
   ]
  },
  {
   "cell_type": "markdown",
   "id": "b88408eb",
   "metadata": {
    "pycharm": {
     "name": "#%% md\n"
    }
   },
   "source": [
    "Create a human mobility network for MA using the provided csv file.          \n",
    "* network node: individual census block group (neighborhood) in MA\n",
    "* network edge: residents from one neighborhood visiting another\n",
    "* weight of network tie: percentage of residents from one neighborhood visiting another         \n",
    "\n",
    "How many nodes and edges are there in your network? "
   ]
  },
  {
   "cell_type": "code",
   "execution_count": 36,
   "id": "bcf2c5de",
   "metadata": {
    "pycharm": {
     "name": "#%%\n"
    }
   },
   "outputs": [
    {
     "name": "stdout",
     "output_type": "stream",
     "text": [
      "Graph with 40292 nodes and 742299 edges\n"
     ]
    },
    {
     "name": "stderr",
     "output_type": "stream",
     "text": [
      "/var/folders/c3/z4j0ypq143n7ncqb9_syqt980000gn/T/ipykernel_20889/3804725346.py:27: DeprecationWarning: info is deprecated and will be removed in version 3.0.\n",
      "\n",
      "  print(nx.info(G))\n"
     ]
    }
   ],
   "source": [
    "###Preparation\n",
    "import os\n",
    "import networkx as nx\n",
    "import pandas as pd\n",
    "os.chdir('/Users/zhenjieyu/Desktop/SOCDATA/Exercise_10/MA_cbg_human_mobility_2019/')\n",
    "\n",
    "###Getting the data set\n",
    "Motability_data = pd.read_csv('MA_cbg2cbg_2019_01.csv')\n",
    "Motability_data.shape #Checking the dataset\n",
    "\n",
    "###Creating Network Diagram: Preparation\n",
    "G = nx.Graph()\n",
    "for i in range(len(Motability_data)):\n",
    "    origin_cbg = Motability_data.loc[i, 'poi_cbg']\n",
    "    destination_cbg = Motability_data.loc[i, 'visitor_census_tract']\n",
    "    total_residents_in_origin = Motability_data.loc[i, 'raw_device_counts']\n",
    "    num_visitor = Motability_data.loc[i, 'visitor_count']\n",
    "    percent_visitor = num_visitor / total_residents_in_origin\n",
    "#     print(origin_cbg, destination_cbg, percent_visitor)\n",
    "    G.add_edge(origin_cbg, destination_cbg, weight=percent_visitor)\n",
    "# print(nx.info(G)) # Checking number of nodes\n",
    "\n",
    "###Creating the diagram: Visualization\n",
    "# nx.draw(G, with_labels=True)\n",
    "\n",
    "###Checking how many nodes are there\n",
    "print(nx.info(G))\n",
    "## There are 40292 nodes and 742299 edges\n"
   ]
  },
  {
   "cell_type": "markdown",
   "id": "e5dc7a8c",
   "metadata": {
    "pycharm": {
     "name": "#%% md\n"
    }
   },
   "source": [
    "## Task 10.2"
   ]
  },
  {
   "cell_type": "markdown",
   "id": "90bcf57c",
   "metadata": {
    "pycharm": {
     "name": "#%% md\n"
    }
   },
   "source": [
    "#### Calculate weighted node degree and unweighted node degree for each census block group in the mobility network and use the results to create a pandas dataframe. The dataframe should have three columns. One column stores the census block group id, and the other two the two calculated node degrees. "
   ]
  },
  {
   "cell_type": "code",
   "execution_count": 28,
   "id": "da988c37",
   "metadata": {
    "pycharm": {
     "name": "#%%\n"
    }
   },
   "outputs": [
    {
     "data": {
      "text/html": [
       "<div>\n",
       "<style scoped>\n",
       "    .dataframe tbody tr th:only-of-type {\n",
       "        vertical-align: middle;\n",
       "    }\n",
       "\n",
       "    .dataframe tbody tr th {\n",
       "        vertical-align: top;\n",
       "    }\n",
       "\n",
       "    .dataframe thead th {\n",
       "        text-align: right;\n",
       "    }\n",
       "</style>\n",
       "<table border=\"1\" class=\"dataframe\">\n",
       "  <thead>\n",
       "    <tr style=\"text-align: right;\">\n",
       "      <th></th>\n",
       "      <th>group_id</th>\n",
       "      <th>weighted_node_degree</th>\n",
       "      <th>unweighted_node_degree</th>\n",
       "    </tr>\n",
       "  </thead>\n",
       "  <tbody>\n",
       "    <tr>\n",
       "      <th>0</th>\n",
       "      <td>250250303003</td>\n",
       "      <td>(250250303003, 1.617298098583892)</td>\n",
       "      <td>(250250303003, 2936)</td>\n",
       "    </tr>\n",
       "    <tr>\n",
       "      <th>1</th>\n",
       "      <td>250250303003</td>\n",
       "      <td>(250250303003, 1.617298098583892)</td>\n",
       "      <td>(250250303003, 2936)</td>\n",
       "    </tr>\n",
       "    <tr>\n",
       "      <th>2</th>\n",
       "      <td>250250303003</td>\n",
       "      <td>(250250303003, 1.617298098583892)</td>\n",
       "      <td>(250250303003, 2936)</td>\n",
       "    </tr>\n",
       "    <tr>\n",
       "      <th>3</th>\n",
       "      <td>250250303003</td>\n",
       "      <td>(250250303003, 1.617298098583892)</td>\n",
       "      <td>(250250303003, 2936)</td>\n",
       "    </tr>\n",
       "    <tr>\n",
       "      <th>4</th>\n",
       "      <td>250250303003</td>\n",
       "      <td>(250250303003, 1.617298098583892)</td>\n",
       "      <td>(250250303003, 2936)</td>\n",
       "    </tr>\n",
       "    <tr>\n",
       "      <th>...</th>\n",
       "      <td>...</td>\n",
       "      <td>...</td>\n",
       "      <td>...</td>\n",
       "    </tr>\n",
       "    <tr>\n",
       "      <th>840588</th>\n",
       "      <td>250214571001</td>\n",
       "      <td>(250214571001, 1.032360005583198)</td>\n",
       "      <td>(250214571001, 867)</td>\n",
       "    </tr>\n",
       "    <tr>\n",
       "      <th>840589</th>\n",
       "      <td>250214571001</td>\n",
       "      <td>(250214571001, 1.032360005583198)</td>\n",
       "      <td>(250214571001, 867)</td>\n",
       "    </tr>\n",
       "    <tr>\n",
       "      <th>840590</th>\n",
       "      <td>250214571001</td>\n",
       "      <td>(250214571001, 1.032360005583198)</td>\n",
       "      <td>(250214571001, 867)</td>\n",
       "    </tr>\n",
       "    <tr>\n",
       "      <th>840591</th>\n",
       "      <td>250214571001</td>\n",
       "      <td>(250214571001, 1.032360005583198)</td>\n",
       "      <td>(250214571001, 867)</td>\n",
       "    </tr>\n",
       "    <tr>\n",
       "      <th>840592</th>\n",
       "      <td>250214571001</td>\n",
       "      <td>(250214571001, 1.032360005583198)</td>\n",
       "      <td>(250214571001, 867)</td>\n",
       "    </tr>\n",
       "  </tbody>\n",
       "</table>\n",
       "<p>840593 rows × 3 columns</p>\n",
       "</div>"
      ],
      "text/plain": [
       "            group_id               weighted_node_degree unweighted_node_degree\n",
       "0       250250303003  (250250303003, 1.617298098583892)   (250250303003, 2936)\n",
       "1       250250303003  (250250303003, 1.617298098583892)   (250250303003, 2936)\n",
       "2       250250303003  (250250303003, 1.617298098583892)   (250250303003, 2936)\n",
       "3       250250303003  (250250303003, 1.617298098583892)   (250250303003, 2936)\n",
       "4       250250303003  (250250303003, 1.617298098583892)   (250250303003, 2936)\n",
       "...              ...                                ...                    ...\n",
       "840588  250214571001  (250214571001, 1.032360005583198)    (250214571001, 867)\n",
       "840589  250214571001  (250214571001, 1.032360005583198)    (250214571001, 867)\n",
       "840590  250214571001  (250214571001, 1.032360005583198)    (250214571001, 867)\n",
       "840591  250214571001  (250214571001, 1.032360005583198)    (250214571001, 867)\n",
       "840592  250214571001  (250214571001, 1.032360005583198)    (250214571001, 867)\n",
       "\n",
       "[840593 rows x 3 columns]"
      ]
     },
     "metadata": {},
     "output_type": "display_data"
    }
   ],
   "source": [
    "###Creating data set for nodes\n",
    "Motability_data_node = pd.DataFrame(Motability_data, columns = ['group_id', 'weighted_node_degree', 'unweighted_node_degree'])\n",
    "group_id = Motability_data['poi_cbg']\n",
    "Motability_data_node['group_id'] = group_id\n",
    "weighted = G.degree(Motability_data_node['group_id'], weight = 'weight')\n",
    "Motability_data_node['weighted_node_degree'] = weighted\n",
    "unweighted = G.degree(Motability_data_node['group_id'])\n",
    "Motability_data_node['unweighted_node_degree'] = unweighted\n",
    "###Displaying the result\n",
    "display(Motability_data_node)"
   ]
  },
  {
   "cell_type": "code",
   "execution_count": 43,
   "id": "1a8b22b7",
   "metadata": {
    "pycharm": {
     "name": "#%%\n"
    }
   },
   "outputs": [
    {
     "data": {
      "text/html": [
       "<div>\n",
       "<style scoped>\n",
       "    .dataframe tbody tr th:only-of-type {\n",
       "        vertical-align: middle;\n",
       "    }\n",
       "\n",
       "    .dataframe tbody tr th {\n",
       "        vertical-align: top;\n",
       "    }\n",
       "\n",
       "    .dataframe thead th {\n",
       "        text-align: right;\n",
       "    }\n",
       "</style>\n",
       "<table border=\"1\" class=\"dataframe\">\n",
       "  <thead>\n",
       "    <tr style=\"text-align: right;\">\n",
       "      <th></th>\n",
       "      <th>ID</th>\n",
       "      <th>Weighted</th>\n",
       "      <th>Unweighted</th>\n",
       "    </tr>\n",
       "  </thead>\n",
       "  <tbody>\n",
       "    <tr>\n",
       "      <th>0</th>\n",
       "      <td>250250303003</td>\n",
       "      <td>1.617298</td>\n",
       "      <td>2936</td>\n",
       "    </tr>\n",
       "    <tr>\n",
       "      <th>1</th>\n",
       "      <td>250250303003</td>\n",
       "      <td>1.617298</td>\n",
       "      <td>2936</td>\n",
       "    </tr>\n",
       "    <tr>\n",
       "      <th>2</th>\n",
       "      <td>250250303003</td>\n",
       "      <td>1.617298</td>\n",
       "      <td>2936</td>\n",
       "    </tr>\n",
       "    <tr>\n",
       "      <th>3</th>\n",
       "      <td>250250303003</td>\n",
       "      <td>1.617298</td>\n",
       "      <td>2936</td>\n",
       "    </tr>\n",
       "    <tr>\n",
       "      <th>4</th>\n",
       "      <td>250250303003</td>\n",
       "      <td>1.617298</td>\n",
       "      <td>2936</td>\n",
       "    </tr>\n",
       "    <tr>\n",
       "      <th>...</th>\n",
       "      <td>...</td>\n",
       "      <td>...</td>\n",
       "      <td>...</td>\n",
       "    </tr>\n",
       "    <tr>\n",
       "      <th>840588</th>\n",
       "      <td>250214571001</td>\n",
       "      <td>1.032360</td>\n",
       "      <td>867</td>\n",
       "    </tr>\n",
       "    <tr>\n",
       "      <th>840589</th>\n",
       "      <td>250214571001</td>\n",
       "      <td>1.032360</td>\n",
       "      <td>867</td>\n",
       "    </tr>\n",
       "    <tr>\n",
       "      <th>840590</th>\n",
       "      <td>250214571001</td>\n",
       "      <td>1.032360</td>\n",
       "      <td>867</td>\n",
       "    </tr>\n",
       "    <tr>\n",
       "      <th>840591</th>\n",
       "      <td>250214571001</td>\n",
       "      <td>1.032360</td>\n",
       "      <td>867</td>\n",
       "    </tr>\n",
       "    <tr>\n",
       "      <th>840592</th>\n",
       "      <td>250214571001</td>\n",
       "      <td>1.032360</td>\n",
       "      <td>867</td>\n",
       "    </tr>\n",
       "  </tbody>\n",
       "</table>\n",
       "<p>840593 rows × 3 columns</p>\n",
       "</div>"
      ],
      "text/plain": [
       "                  ID  Weighted  Unweighted\n",
       "0       250250303003  1.617298        2936\n",
       "1       250250303003  1.617298        2936\n",
       "2       250250303003  1.617298        2936\n",
       "3       250250303003  1.617298        2936\n",
       "4       250250303003  1.617298        2936\n",
       "...              ...       ...         ...\n",
       "840588  250214571001  1.032360         867\n",
       "840589  250214571001  1.032360         867\n",
       "840590  250214571001  1.032360         867\n",
       "840591  250214571001  1.032360         867\n",
       "840592  250214571001  1.032360         867\n",
       "\n",
       "[840593 rows x 3 columns]"
      ]
     },
     "execution_count": 43,
     "metadata": {},
     "output_type": "execute_result"
    }
   ],
   "source": [
    "###Weighted/Unweighted Degree\n",
    "weighted_list = []\n",
    "unweighted_list = []\n",
    "for element in Motability_data['poi_cbg']:\n",
    "    unweighted_list.append(G.degree(element))\n",
    "    weighted_list.append(G.degree(element, weight='weight'))\n",
    "\n",
    "###Creating Data file\n",
    "node_csv = pd.DataFrame(columns=['ID','Weighted','Unweighted'])\n",
    "node_csv['ID'] = Motability_data['poi_cbg']\n",
    "node_csv['Weighted'] = weighted_list\n",
    "node_csv['Unweighted'] = unweighted_list\n",
    "node_csv\n",
    "# unweighted_list"
   ]
  },
  {
   "cell_type": "markdown",
   "id": "b854b7b8",
   "metadata": {
    "pycharm": {
     "name": "#%% md\n"
    }
   },
   "source": [
    "### Task 10.3"
   ]
  },
  {
   "cell_type": "markdown",
   "id": "6a261099",
   "metadata": {
    "pycharm": {
     "name": "#%% md\n"
    }
   },
   "source": [
    "#### Create a plot that visualizes the distribution of the weighted node degrees. Is the human mobility network a scale-free network? In other words, does the degree distribution follow a power law? "
   ]
  },
  {
   "cell_type": "code",
   "execution_count": 44,
   "id": "7cf210f7",
   "metadata": {
    "scrolled": true,
    "pycharm": {
     "name": "#%%\n"
    }
   },
   "outputs": [
    {
     "data": {
      "text/plain": [
       "<AxesSubplot:xlabel='Weighted', ylabel='Count'>"
      ]
     },
     "execution_count": 44,
     "metadata": {},
     "output_type": "execute_result"
    },
    {
     "data": {
      "image/png": "[encoded data removed]",
      "text/plain": [
       "<Figure size 432x288 with 1 Axes>"
      ]
     },
     "metadata": {
      "needs_background": "light"
     },
     "output_type": "display_data"
    }
   ],
   "source": [
    "import seaborn as sns\n",
    "sns.histplot(data = node_csv, x = node_csv['Weighted'].astype(str))\n",
    "\n",
    "###Analysis\n",
    "##I think the pattern of the graph don' t follow the power law because it is skewed to the right, which is not asymmetrical (from the histogram).\n",
    "##The histogram doesn't fulfill the characteristics of the scale-free network where distribution is not descreasing as the node degree increases.\n"
   ]
  }
 ],
 "metadata": {
  "kernelspec": {
   "display_name": "Python [conda env:compsoc] *",
   "language": "python",
   "name": "conda-env-compsoc-py"
  },
  "language_info": {
   "codemirror_mode": {
    "name": "ipython",
    "version": 3
   },
   "file_extension": ".py",
   "mimetype": "text/x-python",
   "name": "python",
   "nbconvert_exporter": "python",
   "pygments_lexer": "ipython3",
   "version": "3.8.13"
  }
 },
 "nbformat": 4,
 "nbformat_minor": 5
}