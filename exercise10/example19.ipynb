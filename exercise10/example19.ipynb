{
 "cells": [
  {
   "cell_type": "markdown",
   "id": "116eeb74",
   "metadata": {
    "pycharm": {
     "name": "#%% md\n"
    }
   },
   "source": [
    "# Coding Exercise 10\n",
    "## Task 1\n",
    "The following code creates a mobility network using 'MA_cbg_human_mobility_2019/MA_cbg2cbg_2019_01.csv'. In this network the nodes correspond to individual census block groups in MA (neighborhoods), edges represents residents from one neighborhood visiting another, and the weight of an edge is given by the percentage of residents from one neighborhood visiting another. It also reports on the number of nodes and edges in the network."
   ]
  },
  {
   "cell_type": "code",
   "execution_count": 24,
   "id": "160fb319",
   "metadata": {
    "pycharm": {
     "name": "#%%\n"
    }
   },
   "outputs": [
    {
     "name": "stdout",
     "output_type": "stream",
     "text": [
      "             poi_cbg year_month  raw_device_counts  visitor_census_tract  \\\n",
      "0       250250303003     2019_1              19187          250250303003   \n",
      "1       250250303003     2019_1              19187          250251010016   \n",
      "2       250250303003     2019_1              19187          440070008003   \n",
      "3       250250303003     2019_1              19187          250250923002   \n",
      "4       250250303003     2019_1              19187          250173686001   \n",
      "...              ...        ...                ...                   ...   \n",
      "840588  250214571001     2019_1               5506          250092046005   \n",
      "840589  250214571001     2019_1               5506          250056503002   \n",
      "840590  250214571001     2019_1               5506          250214164006   \n",
      "840591  250214571001     2019_1               5506          250173424003   \n",
      "840592  250214571001     2019_1               5506          360239710003   \n",
      "\n",
      "        visitor_count  \n",
      "0                 413  \n",
      "1                 182  \n",
      "2                 122  \n",
      "3                 121  \n",
      "4                 112  \n",
      "...               ...  \n",
      "840588              4  \n",
      "840589              4  \n",
      "840590              4  \n",
      "840591              4  \n",
      "840592              4  \n",
      "\n",
      "[840593 rows x 5 columns]\n"
     ]
    }
   ],
   "source": [
    "import numpy as np\n",
    "import pandas as pd\n",
    "import networkx as nx\n",
    "import matplotlib.pyplot as plt\n",
    "\n",
    "df=pd.read_csv('MA_cbg_human_mobility_2019/MA_cbg2cbg_2019_01.csv')\n",
    "print(df)"
   ]
  },
  {
   "cell_type": "code",
   "execution_count": 25,
   "id": "3633e837",
   "metadata": {
    "pycharm": {
     "name": "#%%\n"
    }
   },
   "outputs": [
    {
     "name": "stdout",
     "output_type": "stream",
     "text": [
      "Graph with 40292 nodes and 742299 edges\n"
     ]
    },
    {
     "name": "stderr",
     "output_type": "stream",
     "text": [
      "/var/folders/3v/p46d2yws5499pqpgr913cfdm0000gn/T/ipykernel_6076/1605241332.py:9: DeprecationWarning: info is deprecated and will be removed in version 3.0.\n",
      "\n",
      "  print(nx.info(GW))\n"
     ]
    }
   ],
   "source": [
    "GW=nx.Graph() #initializing a weighted graph\n",
    "GUW=nx.Graph() #same for an unweighted graph\n",
    "for i in df.index:\n",
    "    origin=df['poi_cbg'].iloc[i]\n",
    "    dest=df['visitor_census_tract'].iloc[i]\n",
    "    percent=df['visitor_count'].iloc[i]/df['raw_device_counts'].iloc[i]\n",
    "    GW.add_edge(origin,dest,weight=percent)\n",
    "    GUW.add_edge(origin,dest)\n",
    "print(nx.info(GW))"
   ]
  },
  {
   "cell_type": "markdown",
   "id": "e92e63f6",
   "metadata": {
    "pycharm": {
     "name": "#%% md\n"
    }
   },
   "source": [
    "## Task 2\n",
    "The following code computes the weighted node degree and unweighted node degree for each census block group and places the results in a pandas dataframe with 3 columns: the census block group ID, unweighted degree, and weighted degree."
   ]
  },
  {
   "cell_type": "code",
   "execution_count": 26,
   "id": "d0f7013c",
   "metadata": {
    "pycharm": {
     "name": "#%%\n"
    }
   },
   "outputs": [
    {
     "name": "stdout",
     "output_type": "stream",
     "text": [
      "       Census Block  Weighted Degree\n",
      "0      250250303003         1.617298\n",
      "1      250251010016         1.829781\n",
      "2      440070008003         0.201907\n",
      "3      250250923002         2.675362\n",
      "4      250173686001         1.763752\n",
      "...             ...              ...\n",
      "40287  170318261003         0.000726\n",
      "40288  120310144111         0.000726\n",
      "40289  530330294073         0.000726\n",
      "40290  360610165001         0.000726\n",
      "40291  390599772002         0.000726\n",
      "\n",
      "[40292 rows x 2 columns]\n"
     ]
    }
   ],
   "source": [
    "wdeg=list(GW.degree(weight='weight'))\n",
    "block=[]\n",
    "d=[]\n",
    "for i in range(len(wdeg)):\n",
    "    block.append(wdeg[i][0])\n",
    "    d.append(wdeg[i][1])\n",
    "wdf=pd.DataFrame({'Census Block':block,'Weighted Degree':d})\n",
    "print(wdf)"
   ]
  },
  {
   "cell_type": "code",
   "execution_count": 27,
   "id": "0f02fe6f",
   "metadata": {
    "pycharm": {
     "name": "#%%\n"
    }
   },
   "outputs": [
    {
     "name": "stdout",
     "output_type": "stream",
     "text": [
      "       Census Block  Unweighted Degree\n",
      "0      250250303003               2936\n",
      "1      250251010016                609\n",
      "2      440070008003                 77\n",
      "3      250250923002                600\n",
      "4      250173686001               3217\n",
      "...             ...                ...\n",
      "40287  170318261003                  1\n",
      "40288  120310144111                  1\n",
      "40289  530330294073                  1\n",
      "40290  360610165001                  1\n",
      "40291  390599772002                  1\n",
      "\n",
      "[40292 rows x 2 columns]\n"
     ]
    }
   ],
   "source": [
    "uwdeg=list(GUW.degree)\n",
    "block=[]\n",
    "ud=[]\n",
    "for i in range(len(uwdeg)):\n",
    "    block.append(uwdeg[i][0])\n",
    "    ud.append(uwdeg[i][1])\n",
    "uwdf=pd.DataFrame({'Census Block':block,'Unweighted Degree':ud})\n",
    "print(uwdf)"
   ]
  },
  {
   "cell_type": "code",
   "execution_count": 28,
   "id": "c621d989",
   "metadata": {
    "pycharm": {
     "name": "#%%\n"
    }
   },
   "outputs": [
    {
     "name": "stdout",
     "output_type": "stream",
     "text": [
      "       Census Block  Unweighted Degree  Weighted Degree\n",
      "0      250250303003               2936         1.617298\n",
      "1      250251010016                609         1.829781\n",
      "2      440070008003                 77         0.201907\n",
      "3      250250923002                600         2.675362\n",
      "4      250173686001               3217         1.763752\n",
      "...             ...                ...              ...\n",
      "40287  170318261003                  1         0.000726\n",
      "40288  120310144111                  1         0.000726\n",
      "40289  530330294073                  1         0.000726\n",
      "40290  360610165001                  1         0.000726\n",
      "40291  390599772002                  1         0.000726\n",
      "\n",
      "[40292 rows x 3 columns]\n"
     ]
    }
   ],
   "source": [
    "df=uwdf.merge(wdf,on='Census Block',how='inner')\n",
    "print(df)"
   ]
  },
  {
   "cell_type": "markdown",
   "id": "eca65179",
   "metadata": {
    "pycharm": {
     "name": "#%% md\n"
    }
   },
   "source": [
    "## Task 3\n",
    "The following lines create a plot that visualizes the distribution of the weighted node degrees. \n",
    "Is the human mobility network a scale-free network? In other words, does the degree distribution follow the power law?"
   ]
  },
  {
   "cell_type": "code",
   "execution_count": 33,
   "id": "01847821",
   "metadata": {
    "pycharm": {
     "name": "#%%\n"
    }
   },
   "outputs": [
    {
     "data": {
      "text/plain": [
       "Text(0, 0.5, 'Number of Nodes')"
      ]
     },
     "execution_count": 33,
     "metadata": {},
     "output_type": "execute_result"
    },
    {
     "data": {
      "image/png": "[encoded data removed]",
      "text/plain": [
       "<Figure size 432x288 with 1 Axes>"
      ]
     },
     "metadata": {
      "needs_background": "light"
     },
     "output_type": "display_data"
    }
   ],
   "source": [
    "plt.hist(df['Weighted Degree'])\n",
    "plt.title('Degree Distribution of Weighted Graph')\n",
    "plt.xlabel('Degree')\n",
    "plt.ylabel('Number of Nodes')"
   ]
  },
  {
   "cell_type": "markdown",
   "id": "e98dcfa5",
   "metadata": {
    "pycharm": {
     "name": "#%% md\n"
    }
   },
   "source": [
    "A scale-free network is one that has a degree distribution that, at least asymptotically, follows a power law and decreases exponentially as the degree increases. The above bar graph shows that the mobility network does follow this as the number of nodes with a low degree is very high and then drops off very quickly."
   ]
  }
 ],
 "metadata": {
  "kernelspec": {
   "display_name": "Python [conda env:compsoc] *",
   "language": "python",
   "name": "conda-env-compsoc-py"
  },
  "language_info": {
   "codemirror_mode": {
    "name": "ipython",
    "version": 3
   },
   "file_extension": ".py",
   "mimetype": "text/x-python",
   "name": "python",
   "nbconvert_exporter": "python",
   "pygments_lexer": "ipython3",
   "version": "3.8.13"
  }
 },
 "nbformat": 4,
 "nbformat_minor": 5
}