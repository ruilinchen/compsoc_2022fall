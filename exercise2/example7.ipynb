{
 "cells": [
  {
   "cell_type": "markdown",
   "id": "21218ca0",
   "metadata": {
    "pycharm": {
     "name": "#%% md\n"
    }
   },
   "source": [
    "# Coding Exercise 2\n",
    "\n",
    "[editted]\n",
    "\n",
    "## 2.1 Write a sumForFour function\n",
    "The following function takes four numbers as inputs and prints the sum. In addition to computing the sum, the function checks for invalid inputs and prints an error message if needed."
   ]
  },
  {
   "cell_type": "code",
   "execution_count": 1,
   "id": "93d392e5",
   "metadata": {
    "pycharm": {
     "name": "#%%\n"
    }
   },
   "outputs": [],
   "source": [
    "def sumForFour(n1,n2,n3,n4):\n",
    "    try:\n",
    "        print(n1+n2+n3+n4)\n",
    "    except:\n",
    "        print('ERROR: invalid input')\n",
    "    "
   ]
  },
  {
   "cell_type": "code",
   "execution_count": 2,
   "id": "320b9280",
   "metadata": {
    "pycharm": {
     "name": "#%%\n"
    }
   },
   "outputs": [
    {
     "name": "stdout",
     "output_type": "stream",
     "text": [
      "10\n"
     ]
    }
   ],
   "source": [
    "sumForFour(1,2,3,4)"
   ]
  },
  {
   "cell_type": "code",
   "execution_count": 3,
   "id": "d9beb359",
   "metadata": {
    "pycharm": {
     "name": "#%%\n"
    }
   },
   "outputs": [
    {
     "name": "stdout",
     "output_type": "stream",
     "text": [
      "8.6\n"
     ]
    }
   ],
   "source": [
    "sumForFour(1,1.1,2,4.5)"
   ]
  },
  {
   "cell_type": "code",
   "execution_count": 4,
   "id": "dcd477fd",
   "metadata": {
    "pycharm": {
     "name": "#%%\n"
    }
   },
   "outputs": [
    {
     "name": "stdout",
     "output_type": "stream",
     "text": [
      "ERROR: invalid input\n"
     ]
    }
   ],
   "source": [
    "sumForFour(\"one\",2,3,4)"
   ]
  },
  {
   "cell_type": "markdown",
   "id": "3f8ff0b2",
   "metadata": {
    "pycharm": {
     "name": "#%% md\n"
    }
   },
   "source": [
    "## 2.2 Write a sum1ToN function\n",
    "The following function takes a parameter n and prints the sum of integers 1 to n. The function performs error checking, printing a warning before concatenating floats and an error for invalid inputs."
   ]
  },
  {
   "cell_type": "code",
   "execution_count": 5,
   "id": "10e0ad0e",
   "metadata": {
    "pycharm": {
     "name": "#%%\n"
    }
   },
   "outputs": [],
   "source": [
    "def sum1ToN(n):\n",
    "    sum=0\n",
    "    if(type(n)==int):\n",
    "        for i in range(n+1):\n",
    "            sum+=i\n",
    "        print(sum)\n",
    "    elif(type(n)==float):\n",
    "        print(\"WARNING: n concatinated to an integer\")\n",
    "        for i in range(int(n)+1):\n",
    "            sum+=i\n",
    "        print(sum)\n",
    "    else: \n",
    "        print(\"ERROR: invalid input\")"
   ]
  },
  {
   "cell_type": "code",
   "execution_count": 6,
   "id": "e8c37336",
   "metadata": {
    "pycharm": {
     "name": "#%%\n"
    }
   },
   "outputs": [
    {
     "name": "stdout",
     "output_type": "stream",
     "text": [
      "15\n"
     ]
    }
   ],
   "source": [
    "sum1ToN(5)"
   ]
  },
  {
   "cell_type": "code",
   "execution_count": 7,
   "id": "02b19787",
   "metadata": {
    "pycharm": {
     "name": "#%%\n"
    }
   },
   "outputs": [
    {
     "name": "stdout",
     "output_type": "stream",
     "text": [
      "WARNING: n concatinated to an integer\n",
      "15\n"
     ]
    }
   ],
   "source": [
    "sum1ToN(5.5)"
   ]
  },
  {
   "cell_type": "code",
   "execution_count": 8,
   "id": "094eed7d",
   "metadata": {
    "pycharm": {
     "name": "#%%\n"
    }
   },
   "outputs": [
    {
     "name": "stdout",
     "output_type": "stream",
     "text": [
      "ERROR: invalid input\n"
     ]
    }
   ],
   "source": [
    "sum1ToN(\"five\")"
   ]
  },
  {
   "cell_type": "markdown",
   "id": "c66d7594",
   "metadata": {
    "pycharm": {
     "name": "#%% md\n"
    }
   },
   "source": [
    "## 2.3 Investigate random.random()"
   ]
  },
  {
   "cell_type": "code",
   "execution_count": 9,
   "id": "3ea27d6c",
   "metadata": {
    "pycharm": {
     "name": "#%%\n"
    }
   },
   "outputs": [
    {
     "data": {
      "text/plain": "0.16595275957052735"
     },
     "execution_count": 9,
     "metadata": {},
     "output_type": "execute_result"
    }
   ],
   "source": [
    "import random\n",
    "random.random()"
   ]
  },
  {
   "cell_type": "markdown",
   "id": "2745600e",
   "metadata": {
    "pycharm": {
     "name": "#%% md\n"
    }
   },
   "source": [
    "'random' is a python package that includes a variety of functions that produces different types of \"random\" outputs. random() is one of these functions and is a function that produces a float between 0 and 1. The format follows the object oriented style in that random refers to the object with a function random(): random.random(). The 'import random' statement loads the existing python package into the shell along with its corresponding functions so that it can be used in all subsequent code."
   ]
  }
 ],
 "metadata": {
  "kernelspec": {
   "display_name": "Python [conda env:compsoc] *",
   "language": "python",
   "name": "conda-env-compsoc-py"
  },
  "language_info": {
   "codemirror_mode": {
    "name": "ipython",
    "version": 3
   },
   "file_extension": ".py",
   "mimetype": "text/x-python",
   "name": "python",
   "nbconvert_exporter": "python",
   "pygments_lexer": "ipython3",
   "version": "3.8.13"
  }
 },
 "nbformat": 4,
 "nbformat_minor": 5
}