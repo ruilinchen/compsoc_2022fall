{
 "cells": [
  {
   "cell_type": "markdown",
   "id": "a5c29402",
   "metadata": {
    "pycharm": {
     "name": "#%% md\n"
    }
   },
   "source": [
    "### Task 3.1 Write a function that takes a list of numbers as input, finds the largest and smallest element of the list, and returns the largest element minus the smallest element as output. ###"
   ]
  },
  {
   "cell_type": "code",
   "execution_count": 24,
   "id": "32f43bf2",
   "metadata": {
    "pycharm": {
     "name": "#%%\n"
    }
   },
   "outputs": [],
   "source": [
    "# find min and max num function\n",
    "def find_extreme(list1):\n",
    "    length = len(list1) #find the length\n",
    "    list1.sort() #sort the list\n",
    "    diff=list1[length-1]-list1[0]\n",
    "    print(\"Largest element is:\", list1[length-1])\n",
    "    print(\"Smallest element is:\", list1[0])\n",
    "    print(f\"The diff is {diff}.\")\n",
    "    return(diff) #Ruilin, could you pls explain the diff between return() and print() again? thx\n"
   ]
  },
  {
   "cell_type": "code",
   "execution_count": 25,
   "id": "8f017211",
   "metadata": {
    "pycharm": {
     "name": "#%%\n"
    }
   },
   "outputs": [
    {
     "name": "stdout",
     "output_type": "stream",
     "text": [
      "Largest element is: 5\n",
      "Smallest element is: 1\n",
      "The diff is 4.\n"
     ]
    },
    {
     "data": {
      "text/plain": [
       "4"
      ]
     },
     "execution_count": 25,
     "metadata": {},
     "output_type": "execute_result"
    }
   ],
   "source": [
    "# example 1\n",
    "find_extreme([1,2,3,4,5])"
   ]
  },
  {
   "cell_type": "code",
   "execution_count": 26,
   "id": "6e8c65f7",
   "metadata": {
    "pycharm": {
     "name": "#%%\n"
    }
   },
   "outputs": [
    {
     "name": "stdout",
     "output_type": "stream",
     "text": [
      "Largest element is: 902\n",
      "Smallest element is: 2\n",
      "The diff is 900.\n"
     ]
    },
    {
     "data": {
      "text/plain": [
       "900"
      ]
     },
     "execution_count": 26,
     "metadata": {},
     "output_type": "execute_result"
    }
   ],
   "source": [
    "# example 2\n",
    "find_extreme([66,2,902,32,10,28])"
   ]
  },
  {
   "cell_type": "markdown",
   "id": "74e5c933",
   "metadata": {
    "pycharm": {
     "name": "#%% md\n"
    }
   },
   "source": [
    "### Task 3.2 Write a function that takes two lists as input, combines them by alternatively taking their elements, e.g. [a,b,c], [1,2,3] → [a,1,b,2,c,3], and returns the combined list as output. ###\n"
   ]
  },
  {
   "cell_type": "code",
   "execution_count": 38,
   "id": "4a9afbc2",
   "metadata": {
    "pycharm": {
     "name": "#%%\n"
    }
   },
   "outputs": [],
   "source": [
    "# combine two lists function\n",
    "def comb(lst1, lst2):\n",
    "    return [s[i] for i in range(len(lst2))\n",
    "                      for s in [lst1, lst2]] #so the return list is like [lst1[0],list2[0],list1[1],list2[1]]\n",
    "\n"
   ]
  },
  {
   "cell_type": "code",
   "execution_count": 43,
   "id": "cc093610",
   "metadata": {
    "pycharm": {
     "name": "#%%\n"
    }
   },
   "outputs": [
    {
     "data": {
      "text/plain": [
       "['bag', 2, 'skirt', 3, 'shorts', 1]"
      ]
     },
     "execution_count": 43,
     "metadata": {},
     "output_type": "execute_result"
    }
   ],
   "source": [
    "# example\n",
    "lst1=[\"bag\",\"skirt\",\"shorts\"]\n",
    "lst2=[2,3,1]\n",
    "comb(lst1,lst2)"
   ]
  },
  {
   "cell_type": "markdown",
   "id": "3bc56b62",
   "metadata": {
    "pycharm": {
     "name": "#%% md\n"
    }
   },
   "source": [
    "### Task 3.3 Write a function that takes a list as input, and returns a frequency table of the list in the format of a dictionary. Example: ['a', 'b', 'a'] -> {'a': 2, 'b': 1} ###"
   ]
  },
  {
   "cell_type": "code",
   "execution_count": 54,
   "id": "43a4ee2a",
   "metadata": {
    "pycharm": {
     "name": "#%%\n"
    }
   },
   "outputs": [],
   "source": [
    "def countfreq(lista):\n",
    "    freq = {}\n",
    "    for i in lista:\n",
    "        if (i in freq):\n",
    "            freq[i] += 1\n",
    "        else:\n",
    "            freq[i] = 1\n",
    "    return(freq)"
   ]
  },
  {
   "cell_type": "code",
   "execution_count": 55,
   "id": "02ca42bf",
   "metadata": {
    "pycharm": {
     "name": "#%%\n"
    }
   },
   "outputs": [
    {
     "data": {
      "text/plain": [
       "{'a': 3, 'b': 2, 'c': 2}"
      ]
     },
     "execution_count": 55,
     "metadata": {},
     "output_type": "execute_result"
    }
   ],
   "source": [
    "# example \n",
    "lista=[\"a\",\"b\",\"c\",\"a\",\"b\",\"c\",\"a\"]\n",
    "countfreq(lista)\n"
   ]
  },
  {
   "cell_type": "markdown",
   "id": "fed23eff",
   "metadata": {
    "pycharm": {
     "name": "#%% md\n"
    }
   },
   "source": [
    "### Task 3.4 Write a function that takes two lists as input, and returns another list that contains only the elements that are common between the two lists (without duplicates). Hint: Use `set` for this task. ###"
   ]
  },
  {
   "cell_type": "code",
   "execution_count": 87,
   "id": "a29813b9",
   "metadata": {
    "pycharm": {
     "name": "#%%\n"
    }
   },
   "outputs": [],
   "source": [
    "# find the common between lists function\n",
    "def commonlists(list1,list2):\n",
    "    list1=set(list1)\n",
    "    list2=set(list2)\n",
    "    intersection=set.intersection(list1,list2)\n",
    "    return(list(intersection))\n",
    "    "
   ]
  },
  {
   "cell_type": "code",
   "execution_count": 88,
   "id": "d6434ef3",
   "metadata": {
    "pycharm": {
     "name": "#%%\n"
    }
   },
   "outputs": [
    {
     "data": {
      "text/plain": [
       "[2, 4, 6]"
      ]
     },
     "execution_count": 88,
     "metadata": {},
     "output_type": "execute_result"
    }
   ],
   "source": [
    "# example 1\n",
    "list1=[1,2,3,4,5,6]\n",
    "list2=[2,4,6,8,10]\n",
    "commonlists(list1,list2)"
   ]
  },
  {
   "cell_type": "code",
   "execution_count": 89,
   "id": "771e623e",
   "metadata": {
    "pycharm": {
     "name": "#%%\n"
    }
   },
   "outputs": [],
   "source": [
    "# example 2"
   ]
  },
  {
   "cell_type": "code",
   "execution_count": 90,
   "id": "9d9fdd66",
   "metadata": {
    "pycharm": {
     "name": "#%%\n"
    }
   },
   "outputs": [
    {
     "data": {
      "text/plain": [
       "['apple']"
      ]
     },
     "execution_count": 90,
     "metadata": {},
     "output_type": "execute_result"
    }
   ],
   "source": [
    "x = {\"apple\", \"banana\", \"cherry\"}\n",
    "y = {\"google\", \"microsoft\", \"apple\"}\n",
    "commonlists(x,y)"
   ]
  }
 ],
 "metadata": {
  "kernelspec": {
   "display_name": "Python [conda env:compsoc] *",
   "language": "python",
   "name": "conda-env-compsoc-py"
  },
  "language_info": {
   "codemirror_mode": {
    "name": "ipython",
    "version": 3
   },
   "file_extension": ".py",
   "mimetype": "text/x-python",
   "name": "python",
   "nbconvert_exporter": "python",
   "pygments_lexer": "ipython3",
   "version": "3.8.13"
  }
 },
 "nbformat": 4,
 "nbformat_minor": 5
}