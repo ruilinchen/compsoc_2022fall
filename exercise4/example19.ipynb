{
 "cells": [
  {
   "cell_type": "markdown",
   "source": [
    "# Assignment 4"
   ],
   "metadata": {
    "collapsed": false,
    "pycharm": {
     "name": "#%% md\n"
    }
   }
  },
  {
   "cell_type": "markdown",
   "source": [
    "#### 4.1\n",
    "##### Read the file “example.txt” that we have used in class, which can be downloaded from here (Links to an external site.), and print out every other line starting from the seventh line."
   ],
   "metadata": {
    "collapsed": false,
    "pycharm": {
     "name": "#%% md\n"
    }
   }
  },
  {
   "cell_type": "code",
   "execution_count": 19,
   "outputs": [
    {
     "name": "stdout",
     "output_type": "stream",
     "text": [
      "['TXT test file\\n', 'The names \"John Doe\" for males, \"Jane Doe\" or \"Jane Roe\" for females, or \"Jonnie Doe\" and \"Janie Doe\" for children, or just \"Doe\" non-gender-specifically are used as placeholder names for a party whose true identity is unknown or must be withheld in a legal action, case, or discussion. The names are also used to refer to acorpse or hospital patient whose identity is unknown. This practice is widely used in the United States and Canada, but is rarely used in other English-speaking countries including the United Kingdom itself, from where the use of \"John Doe\" in a legal context originates. The names Joe Bloggs or John Smith are used in the UK instead, as well as in Australia and New Zealand.\\n', '\\n']\n"
     ]
    }
   ],
   "source": [
    "with open('example.txt') as f:\n",
    "    lines = f.readlines()\n",
    "    desired_lines = lines[0::7]\n",
    "print(desired_lines)\n",
    "## I could not download the txt file from the site as it just opened in a new tab, so I copied and pasted it into a txt file on my pc, so if the line numbering is off that is why."
   ],
   "metadata": {
    "collapsed": false,
    "pycharm": {
     "name": "#%%\n"
    }
   }
  },
  {
   "cell_type": "markdown",
   "source": [
    "#### 4.2\n",
    "##### Write a sumForTwenty function. The function takes twenty numbers as input (not as user input, but as function arguments), and prints one value as output. The output should be the sum of the twenty numbers passed to the function. The function should also check for variable types. If any of the numbers is passed as a string type as opposed to an integer or float type, the function will print an error message."
   ],
   "metadata": {
    "collapsed": false,
    "pycharm": {
     "name": "#%% md\n"
    }
   }
  },
  {
   "cell_type": "code",
   "execution_count": 31,
   "outputs": [
    {
     "name": "stdout",
     "output_type": "stream",
     "text": [
      "Sum of 20 is:  215\n",
      "There is an error, one or more values are a string variable\n",
      "Sum of 20 is:  118.2\n"
     ]
    }
   ],
   "source": [
    "def sumForTwenty(num1,num2,num3,num4,num5,num6,num7,num8,num9,num10,num11,num12,num13,num14,num15,num16,num17,num18,num19,num20):\n",
    "    if type(num1) == str or type(num2) == str or type(num3) == str or type(num4) == str or type(num5) == str or type(num6) == str or type(num7) == str or type(num8) == str or type(num9) == str or type(num10) == str or type(num11) == str or type(num12) == str or type(num13) == str or type(num14) == str or type(num15) == str or type(num16) == str or type(num17) == str or type(num18) == str or type(num19) == str or type(num20) == str:\n",
    "        print(f'There is an error, one or more values are a string variable')\n",
    "    else:\n",
    "        sum_twenty = num1+num2+num3+num4+num5+num6+num7+num8+num9+num10+num11+num12+num13+num14+num15+num16+num17+num18+num19+num20\n",
    "        print(f\"Sum of 20 is: \", sum_twenty)\n",
    "# This way is obviously obnoxious to type out but idk how else to attempt it\n",
    "\n",
    "sumForTwenty(1,3,5,17,4,9,10,0,13,4,8,15,16,23,42,11,13,6,12,3)\n",
    "sumForTwenty(1,'h',3,'n','y',14,12,3,3,3,3,6,8,9,0,'b','d',15,2,'s')\n",
    "sumForTwenty(1,1.2,5,5.1,3.7,8,16,13.2,6.1,5.2,8,1,0,0.7,6,12,4,5,6,11)"
   ],
   "metadata": {
    "collapsed": false,
    "pycharm": {
     "name": "#%%\n"
    }
   }
  },
  {
   "cell_type": "markdown",
   "source": [
    "#### 4.3\n",
    "#####  Write a duplicateNames function. The function takes a list of string and an integer N as argument, and return another list of string as output. The output duplicates the input list N times and updates the string values by adding an incremental number starting from 1 to them. Example: list = ['a', 'b'], N=3 -> ['a1', 'b1', 'a2', 'b2', 'a3', 'b3']."
   ],
   "metadata": {
    "collapsed": false,
    "pycharm": {
     "name": "#%% md\n"
    }
   }
  },
  {
   "cell_type": "code",
   "execution_count": 50,
   "outputs": [
    {
     "name": "stdout",
     "output_type": "stream",
     "text": [
      "['a1', 'r1', 'c1', 'a2', 'r2', 'c2', 'a3', 'r3', 'c3']\n"
     ]
    }
   ],
   "source": [
    "def duplicateNames(lst, n):\n",
    "    dup_lst = ['{}{}'.format(x, y) for y in range(1, n+1) for x in lst]\n",
    "    print(dup_lst)\n",
    "\n",
    "org_lst = ['a','r','c']\n",
    "n = 3\n",
    "duplicateNames(org_lst, 3)"
   ],
   "metadata": {
    "collapsed": false,
    "pycharm": {
     "name": "#%%\n"
    }
   }
  },
  {
   "cell_type": "markdown",
   "source": [
    "#### 4.4\n",
    "##### Write a top3Players function. The function takes a dictionary as argument. This dictionary keeps track of players and their scores. Based on this, the function returns the top 3 players with the highest scores as output. Example: {'lebron': 70, 'kobe': 80, 'stephen': 75, 'michael': 85, 'larry': 82} -> 'michael', 'larry', 'kobe'."
   ],
   "metadata": {
    "collapsed": false,
    "pycharm": {
     "name": "#%% md\n"
    }
   }
  },
  {
   "cell_type": "code",
   "execution_count": 53,
   "outputs": [
    {
     "name": "stdout",
     "output_type": "stream",
     "text": [
      "gantetokounmpo : 99 \n",
      "njokic : 97 \n",
      "scurry : 93 \n"
     ]
    }
   ],
   "source": [
    "from collections import Counter\n",
    "nbaPlayers = {'scurry': 93, 'ljames': 88, 'gantetokounmpo': 99, 'kdurant': 82, 'kirving': 11, 'njokic': 97, 'jembiid': 91}\n",
    "def top3Players():\n",
    "    k = Counter(nbaPlayers)\n",
    "    high = k.most_common(3)\n",
    "    for i in high:\n",
    "        print(i[0],':',i[1],'')\n",
    "\n",
    "top3Players()"
   ],
   "metadata": {
    "collapsed": false,
    "pycharm": {
     "name": "#%%\n"
    }
   }
  }
 ],
 "metadata": {
  "kernelspec": {
   "name": "conda-env-compsoc-py",
   "language": "python",
   "display_name": "Python [conda env:compsoc] *"
  },
  "language_info": {
   "codemirror_mode": {
    "name": "ipython",
    "version": 2
   },
   "file_extension": ".py",
   "mimetype": "text/x-python",
   "name": "python",
   "nbconvert_exporter": "python",
   "pygments_lexer": "ipython2",
   "version": "2.7.6"
  }
 },
 "nbformat": 4,
 "nbformat_minor": 0
}