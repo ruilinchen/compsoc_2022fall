{
 "cells": [
  {
   "cell_type": "markdown",
   "id": "2e7d09b7",
   "metadata": {
    "pycharm": {
     "name": "#%% md\n"
    }
   },
   "source": [
    "# Exercise #6"
   ]
  },
  {
   "cell_type": "markdown",
   "id": "8a10fbfd",
   "metadata": {
    "pycharm": {
     "name": "#%% md\n"
    }
   },
   "source": [
    "## Content\n",
    "* Task 6.1\n",
    "* Task 6.2\n",
    "* Task 6.3"
   ]
  },
  {
   "cell_type": "markdown",
   "id": "32a72718",
   "metadata": {
    "pycharm": {
     "name": "#%% md\n"
    }
   },
   "source": [
    "### Task 6.1\n"
   ]
  },
  {
   "cell_type": "code",
   "execution_count": 13,
   "id": "0daea109",
   "metadata": {
    "pycharm": {
     "name": "#%%\n"
    }
   },
   "outputs": [
    {
     "name": "stderr",
     "output_type": "stream",
     "text": [
      "/var/folders/c3/z4j0ypq143n7ncqb9_syqt980000gn/T/ipykernel_47941/4287277743.py:11: DtypeWarning: Columns (0) have mixed types. Specify dtype option on import or set low_memory=False.\n",
      "  crime_2019 = pd.read_csv('crime_2019.csv')\n",
      "/var/folders/c3/z4j0ypq143n7ncqb9_syqt980000gn/T/ipykernel_47941/4287277743.py:12: DtypeWarning: Columns (0) have mixed types. Specify dtype option on import or set low_memory=False.\n",
      "  crime_2020 = pd.read_csv('crime_2020.csv')\n"
     ]
    },
    {
     "name": "stdout",
     "output_type": "stream",
     "text": [
      "(156759, 17)\n"
     ]
    }
   ],
   "source": [
    "## Merging Data Set\n",
    "\n",
    "# Preparation\n",
    "import os\n",
    "os.chdir('/Users/[editted]/Desktop/SOCDATA')\n",
    "\n",
    "import pandas as pd\n",
    "import numpy as np\n",
    "import seaborn as sns\n",
    "\n",
    "crime_2019 = pd.read_csv('crime_2019.csv')\n",
    "crime_2020 = pd.read_csv('crime_2020.csv')\n",
    "\n",
    "# Merge Data\n",
    "merge_data = pd.concat([crime_2019, crime_2020])\n",
    "\n",
    "# Dropping Duplicates\n",
    "# print(merge_data.duplicated().sum()) # There are no duplicated columns\n",
    "new_merge_data = merge_data.drop_duplicates()\n",
    "\n",
    "# Dropping the missing variables for crime 2019 data\n",
    "new_merge_data=new_merge_data.dropna(subset=['INCIDENT_NUMBER', 'OFFENSE_CODE', 'DISTRICT', 'Long', 'Lat', 'SHOOTING', 'OCCURRED_ON_DATE'])\n",
    "\n",
    "# Merging Data set\n",
    "print(new_merge_data.shape) # Checking the data set: Whether\n",
    "\n",
    "# Saving the data\n",
    "new_merge_data.to_csv('new_merge_data.csv', index=False)"
   ]
  },
  {
   "cell_type": "markdown",
   "id": "2411b008",
   "metadata": {
    "pycharm": {
     "name": "#%% md\n"
    }
   },
   "source": [
    "### Task 6.2"
   ]
  },
  {
   "cell_type": "code",
   "execution_count": 49,
   "id": "91874f68",
   "metadata": {
    "scrolled": true,
    "pycharm": {
     "name": "#%%\n"
    }
   },
   "outputs": [
    {
     "name": "stdout",
     "output_type": "stream",
     "text": [
      "   Month  Count\n",
      "0    Jan  13251\n",
      "1    Feb  12021\n",
      "2    Mar  12555\n",
      "3    Apr  11298\n",
      "4    May  13174\n",
      "5   June  13494\n",
      "6   July  14249\n",
      "7    Aug  14886\n",
      "8    Sep  14600\n",
      "9    Oct  13731\n",
      "10   Nov  12093\n",
      "11   Dec  11407\n"
     ]
    },
    {
     "name": "stderr",
     "output_type": "stream",
     "text": [
      "/var/folders/c3/z4j0ypq143n7ncqb9_syqt980000gn/T/ipykernel_47941/2459132903.py:3: DtypeWarning: Columns (0) have mixed types. Specify dtype option on import or set low_memory=False.\n",
      "  new_merge_data = pd.read_csv('new_merge_data.csv')\n"
     ]
    }
   ],
   "source": [
    "## Creating frequency table\n",
    "\n",
    "new_merge_data = pd.read_csv('new_merge_data.csv')\n",
    "\n",
    "count_1 = 0\n",
    "count_2 = 0\n",
    "count_3 = 0\n",
    "count_4 = 0\n",
    "count_5 = 0\n",
    "count_6 = 0\n",
    "count_7 = 0\n",
    "count_8 = 0\n",
    "count_9 = 0\n",
    "count_10 = 0\n",
    "count_11 = 0\n",
    "count_12 = 0\n",
    "\n",
    "\n",
    "for mon in new_merge_data['MONTH']:\n",
    "    if mon == 1:\n",
    "        count_1+=1\n",
    "    if mon == 2:\n",
    "        count_2+=1\n",
    "    if mon == 3:\n",
    "        count_3+=1\n",
    "    if mon == 4:\n",
    "        count_4+=1\n",
    "    if mon == 5:\n",
    "        count_5+=1\n",
    "    if mon == 6:\n",
    "        count_6+=1\n",
    "    if mon == 7:\n",
    "        count_7+=1\n",
    "    if mon == 8:\n",
    "        count_8+=1\n",
    "    if mon == 9:\n",
    "        count_9+=1\n",
    "    if mon == 10:\n",
    "        count_10+=1\n",
    "    if mon == 11:\n",
    "        count_11+=1\n",
    "    if mon == 12:\n",
    "        count_12+=1\n",
    "        \n",
    "count_1\n",
    "count_2\n",
    "count_3\n",
    "count_4\n",
    "count_5\n",
    "count_6\n",
    "count_7\n",
    "count_8\n",
    "count_9\n",
    "count_10\n",
    "count_11\n",
    "count_12\n",
    "\n",
    "data = [['Jan', count_1], ['Feb', count_2], ['Mar', count_3], ['Apr', count_4], ['May', count_5],['June',count_6],['July',count_7],['Aug',count_8],['Sep',count_9],['Oct',count_10],['Nov',count_11],['Dec',count_12]]\n",
    "\n",
    "\n",
    "freq_table = pd.DataFrame(data,columns=['Month', 'Count'])\n",
    "\n",
    "\n",
    "print(freq_table)"
   ]
  },
  {
   "cell_type": "markdown",
   "id": "eba49fe5",
   "metadata": {
    "pycharm": {
     "name": "#%% md\n"
    }
   },
   "source": [
    "### Task 6.3\n"
   ]
  },
  {
   "cell_type": "code",
   "execution_count": 66,
   "id": "731f0e52",
   "metadata": {
    "pycharm": {
     "name": "#%%\n"
    }
   },
   "outputs": [
    {
     "name": "stderr",
     "output_type": "stream",
     "text": [
      "/var/folders/c3/z4j0ypq143n7ncqb9_syqt980000gn/T/ipykernel_47941/1723048393.py:3: DtypeWarning: Columns (0) have mixed types. Specify dtype option on import or set low_memory=False.\n",
      "  new_merge_data = pd.read_csv('new_merge_data.csv')\n"
     ]
    },
    {
     "data": {
      "text/html": [
       "<div>\n",
       "<style scoped>\n",
       "    .dataframe tbody tr th:only-of-type {\n",
       "        vertical-align: middle;\n",
       "    }\n",
       "\n",
       "    .dataframe tbody tr th {\n",
       "        vertical-align: top;\n",
       "    }\n",
       "\n",
       "    .dataframe thead th {\n",
       "        text-align: right;\n",
       "    }\n",
       "</style>\n",
       "<table border=\"1\" class=\"dataframe\">\n",
       "  <thead>\n",
       "    <tr style=\"text-align: right;\">\n",
       "      <th>col_0</th>\n",
       "      <th>count</th>\n",
       "    </tr>\n",
       "    <tr>\n",
       "      <th>DISTRICT</th>\n",
       "      <th></th>\n",
       "    </tr>\n",
       "  </thead>\n",
       "  <tbody>\n",
       "    <tr>\n",
       "      <th>A1</th>\n",
       "      <td>16949</td>\n",
       "    </tr>\n",
       "    <tr>\n",
       "      <th>A15</th>\n",
       "      <td>3489</td>\n",
       "    </tr>\n",
       "    <tr>\n",
       "      <th>A7</th>\n",
       "      <td>6541</td>\n",
       "    </tr>\n",
       "    <tr>\n",
       "      <th>B2</th>\n",
       "      <td>23472</td>\n",
       "    </tr>\n",
       "    <tr>\n",
       "      <th>B3</th>\n",
       "      <td>17419</td>\n",
       "    </tr>\n",
       "    <tr>\n",
       "      <th>C11</th>\n",
       "      <td>20014</td>\n",
       "    </tr>\n",
       "    <tr>\n",
       "      <th>C6</th>\n",
       "      <td>11726</td>\n",
       "    </tr>\n",
       "    <tr>\n",
       "      <th>D14</th>\n",
       "      <td>10460</td>\n",
       "    </tr>\n",
       "    <tr>\n",
       "      <th>D4</th>\n",
       "      <td>20559</td>\n",
       "    </tr>\n",
       "    <tr>\n",
       "      <th>E13</th>\n",
       "      <td>9031</td>\n",
       "    </tr>\n",
       "    <tr>\n",
       "      <th>E18</th>\n",
       "      <td>9374</td>\n",
       "    </tr>\n",
       "    <tr>\n",
       "      <th>E5</th>\n",
       "      <td>7402</td>\n",
       "    </tr>\n",
       "  </tbody>\n",
       "</table>\n",
       "</div>"
      ],
      "text/plain": [
       "col_0     count\n",
       "DISTRICT       \n",
       "A1        16949\n",
       "A15        3489\n",
       "A7         6541\n",
       "B2        23472\n",
       "B3        17419\n",
       "C11       20014\n",
       "C6        11726\n",
       "D14       10460\n",
       "D4        20559\n",
       "E13        9031\n",
       "E18        9374\n",
       "E5         7402"
      ]
     },
     "execution_count": 66,
     "metadata": {},
     "output_type": "execute_result"
    }
   ],
   "source": [
    "## Count the total number of crime incidents\n",
    "\n",
    "new_merge_data = pd.read_csv('new_merge_data.csv')\n",
    "new_merge_data\n",
    "\n",
    "new_merge_data.dropna(subset = ['DISTRICT'])\n",
    "new_merge_data = new_merge_data[['DISTRICT']].mask(new_merge_data.DISTRICT == 'External')\n",
    "freq_table = pd.crosstab(index=new_merge_data['DISTRICT'], columns='count') \n",
    "freq_table\n",
    "\n",
    "## Findings\n",
    "# From the distributional table, Districts B2 has the most crimes compared to other places and A15 has the least."
   ]
  }
 ],
 "metadata": {
  "kernelspec": {
   "display_name": "Python [conda env:compsoc] *",
   "language": "python",
   "name": "conda-env-compsoc-py"
  },
  "language_info": {
   "codemirror_mode": {
    "name": "ipython",
    "version": 3
   },
   "file_extension": ".py",
   "mimetype": "text/x-python",
   "name": "python",
   "nbconvert_exporter": "python",
   "pygments_lexer": "ipython3",
   "version": "3.8.13"
  }
 },
 "nbformat": 4,
 "nbformat_minor": 5
}