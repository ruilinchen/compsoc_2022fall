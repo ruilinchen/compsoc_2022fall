{
 "cells": [
  {
   "cell_type": "code",
   "execution_count": null,
   "id": "f94316a6",
   "metadata": {
    "pycharm": {
     "name": "#%%\n"
    }
   },
   "outputs": [],
   "source": [
    "import os\n",
    "os.chdir('/Users/[editted]/Desktop/DATA')\n",
    "import pandas as pd\n",
    "import geopandas as gpd\n",
    "import folium\n",
    "import random\n",
    "\n",
    "\n",
    "crime_2019 = pd.read_csv('crime_2019.csv')\n",
    "crime_2019.columns \n",
    "boston_gdf = gpd.read_file('Boston_Zoning_Subdistricts.geojson')\n",
    "\n",
    "\n",
    "crime_2019['offense_type'] = None\n",
    "crime_2019['offense_type'][crime_2019['OFFENSE_DESCRIPTION'].str.lower().str.contains('robbery|assault|rape')] = 'violent crime'\n",
    "crime_2019['offense_type'][crime_2019['OFFENSE_DESCRIPTION'].str.lower().str.contains('burglary|larceny|theft|arson')] = 'property crime'\n",
    "\n",
    "\n",
    "offense_data = crime_2019.groupby(['offense_type', 'Long','Lat']).agg({'OFFENSE_DESCRIPTION': 'count','SHOOTING': 'sum'}).reset_index()\n",
    "crime_gdf = gpd.GeoDataFrame(offense_data, geometry = gpd.points_from_xy(offense_data['Long'], offense_data['Lat']))\n",
    "\n",
    "property_data = crime_gdf.loc[lambda offense_data: offense_data['offense_type'] == \"property crime\"]\n",
    "property_data\n",
    "\n",
    "clon, clat = property_data['Long'].mean(), property_data['Lat'].mean()\n",
    "m = folium.Map(location=(clat, clon), zoom_start=12, width=800, height=800)\n",
    "\n",
    "for i in range(len(property_data)):\n",
    "    crime_index = random.randrange(0, len(property_data))\n",
    "    crime_long, crime_lat = property_data.loc[crime_index, 'Long'], property_data.loc[crime_index, 'Lat']\n",
    "    folium.CircleMarker((crime_lat, crime_long), opacity=0.7, color='red', weight=2, radius = 1).add_to(m) # Create individual circle\n",
    "display(m)"
   ]
  },
  {
   "cell_type": "code",
   "execution_count": null,
   "id": "65dc2bc1",
   "metadata": {
    "pycharm": {
     "name": "#%%\n"
    }
   },
   "outputs": [],
   "source": [
    "crime_2019 = pd.read_csv('crime_2019.csv')\n",
    "crime_2019.columns \n",
    "boston_gdf = gpd.read_file('Boston_Zoning_Subdistricts.geojson')\n",
    "\n",
    "crime_2019['violent crime'] = None\n",
    "crime_2019['violent crime'][crime_2019['OFFENSE_DESCRIPTION'].str.lower().str.contains('robbery|assault|rape')] = 'violent crime'\n",
    "\n",
    "offense_data_vio = crime_2019.groupby(['violent crime', 'Long','Lat']).agg({'OFFENSE_DESCRIPTION': 'count','SHOOTING': 'sum'}).reset_index()\n",
    "\n",
    "crime_gdf_vio = gpd.GeoDataFrame(offense_data_vio, geometry = gpd.points_from_xy(offense_data_vio['Long'], offense_data_vio['Lat']))\n",
    "\n",
    "clon, clat = crime_gdf_vio['Long'].mean(), crime_gdf_vio['Lat'].mean()\n",
    "m = folium.Map(location=(clat, clon), zoom_start=12, width=800, height=800)\n",
    "\n",
    "for i in range(len(crime_gdf_vio)):\n",
    "    crime_index = random.randrange(0, len(crime_gdf_vio))\n",
    "    crime_long, crime_lat = crime_gdf_vio.loc[crime_index, 'Long'], crime_gdf_vio.loc[crime_index, 'Lat']\n",
    "    folium.CircleMarker((crime_lat, crime_long), opacity=0.7, color='blue', weight=4, radius = 1).add_to(m) # Create individual circle\n",
    "display(m)"
   ]
  },
  {
   "cell_type": "code",
   "execution_count": null,
   "id": "2ca53d63",
   "metadata": {
    "pycharm": {
     "name": "#%%\n"
    }
   },
   "outputs": [],
   "source": [
    "offense_data_district = crime_2019.groupby(['offense_type','Long','Lat','DISTRICT']).agg({'OFFENSE_DESCRIPTION': 'count'}).reset_index()\n",
    "offense_data_district\n",
    "\n",
    "\n",
    "clon, clat = offense_data_district['Long'].mean(), offense_data_district['Lat'].mean()\n",
    "m = folium.Map(location=(clat, clon), zoom_start=12, width=800, height=800)\n",
    "\n",
    "\n",
    "for i in range(len(offense_data_district['DISTRICT'])):\n",
    "    crime_index = random.randrange(0, len(offense_data_district))\n",
    "    crime_long, crime_lat = offense_data_district.loc[crime_index, 'Long'], offense_data_district.loc[crime_index, 'Lat']\n",
    "    offense_type= offense_data_district.loc[crime_index, 'offense_type']\n",
    "    if offense_type == 'violent crime':\n",
    "        folium.CircleMarker((crime_lat, crime_long), opacity=0.7, fill_color='red', weight=2, radius=5).add_to(m)\n",
    "    else:\n",
    "        folium.CircleMarker((crime_lat, crime_long), opacity=0.7, fill_color='blue', weight=2, radius=5).add_to(m)\n",
    "display(m)"
   ]
  }
 ],
 "metadata": {
  "kernelspec": {
   "display_name": "Python 3 (ipykernel)",
   "language": "python",
   "name": "python3"
  },
  "language_info": {
   "codemirror_mode": {
    "name": "ipython",
    "version": 3
   },
   "file_extension": ".py",
   "mimetype": "text/x-python",
   "name": "python",
   "nbconvert_exporter": "python",
   "pygments_lexer": "ipython3",
   "version": "3.9.12"
  }
 },
 "nbformat": 4,
 "nbformat_minor": 5
}