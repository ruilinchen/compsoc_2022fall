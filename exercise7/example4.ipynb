{
 "cells": [
  {
   "cell_type": "code",
   "execution_count": 82,
   "id": "10ba7142",
   "metadata": {
    "scrolled": true,
    "pycharm": {
     "name": "#%%\n"
    }
   },
   "outputs": [
    {
     "name": "stderr",
     "output_type": "stream",
     "text": [
      "/var/folders/4x/9tydsf1n3w9gn38nvgmh5p1h0000gn/T/ipykernel_46578/3836219464.py:4: DtypeWarning: Columns (0) have mixed types. Specify dtype option on import or set low_memory=False.\n",
      "  pdData = pd.concat(\n",
      "/var/folders/4x/9tydsf1n3w9gn38nvgmh5p1h0000gn/T/ipykernel_46578/3836219464.py:4: DtypeWarning: Columns (0) have mixed types. Specify dtype option on import or set low_memory=False.\n",
      "  pdData = pd.concat(\n",
      "/var/folders/4x/9tydsf1n3w9gn38nvgmh5p1h0000gn/T/ipykernel_46578/3836219464.py:12: DtypeWarning: Columns (1) have mixed types. Specify dtype option on import or set low_memory=False.\n",
      "  pdData4 = pd.read_csv(\"Crime_Incident_Reports_Compiled.csv\")\n"
     ]
    },
    {
     "name": "stdout",
     "output_type": "stream",
     "text": [
      "Violent Crimes 2019:  8324 Violent Crimes 2020:  5152 Property Crimes 2019:  13158 Property Crimes 2020:  12227\n"
     ]
    }
   ],
   "source": [
    "import pandas as pd\n",
    "import numpy as np\n",
    "\n",
    "pdData = pd.concat(\n",
    "    map(pd.read_csv, [\"Crime_Incident_Reports_2019.csv\", \"Crime_Incident_Reports_2020.csv\"]), ignore_index=True) \n",
    "pdData2 = pdData.drop_duplicates()\n",
    "\n",
    "pdData3 = pdData2.dropna(subset=[\"INCIDENT_NUMBER\", \"OFFENSE_CODE\", \"DISTRICT\", \"Long\", \"Lat\", \"SHOOTING\", \"OCCURRED_ON_DATE\"])\n",
    "\n",
    "pdData3.to_csv(\"Crime_Incident_Reports_Compiled.csv\")\n",
    "\n",
    "pdData4 = pd.read_csv(\"Crime_Incident_Reports_Compiled.csv\")\n",
    "\n",
    "D2019 = pdData4.loc[pdData4[\"YEAR\"] == 2019]\n",
    "D2020 = pdData4.loc[pdData4[\"YEAR\"] == 2020]\n",
    "\n",
    "\n",
    "Vcount2019 = D2019[\"OFFENSE_DESCRIPTION\"].str.contains(\"robbery|assault|rape\", case=False).sum()\n",
    "Pcount2019 = D2019[\"OFFENSE_DESCRIPTION\"].str.contains(\"burglary|larceny|theft|auto theft|arson\", case=False).sum()\n",
    "Vcount2020 = D2020[\"OFFENSE_DESCRIPTION\"].str.contains(\"robbery|assault|rape\", case=False).sum()\n",
    "Pcount2020 = D2020[\"OFFENSE_DESCRIPTION\"].str.contains(\"burglary|larceny|theft|auto theft|arson\", case=False).sum()\n",
    "\n",
    "print(\"Violent Crimes 2019: \",Vcount2019, \"Violent Crimes 2020: \",  Vcount2020, \"Property Crimes 2019: \", Pcount2019, \"Property Crimes 2020: \", Pcount2020)\n",
    "\n"
   ]
  },
  {
   "cell_type": "markdown",
   "id": "0316bb9f",
   "metadata": {
    "pycharm": {
     "name": "#%% md\n"
    }
   },
   "source": [
    "From 2019 to 2020, the number of violent crimes went down significantly. From 2019 to 2020, property crimes went down as well but not nearly as much."
   ]
  },
  {
   "cell_type": "markdown",
   "id": "ed85e982",
   "metadata": {
    "pycharm": {
     "name": "#%% md\n"
    }
   },
   "source": [
    "Task 7.2 Create a scatterplot of annual violent crimes vs. annual property crimes by district in Boston from 2019 to 2020. X axis: annual property crimes. Y axis: annual violent crimes. Use different colors to color data from different years. "
   ]
  },
  {
   "cell_type": "code",
   "execution_count": 138,
   "id": "f120e5fd",
   "metadata": {
    "scrolled": true,
    "pycharm": {
     "name": "#%%\n"
    }
   },
   "outputs": [
    {
     "name": "stderr",
     "output_type": "stream",
     "text": [
      "/var/folders/4x/9tydsf1n3w9gn38nvgmh5p1h0000gn/T/ipykernel_46578/352329434.py:7: DtypeWarning:\n",
      "\n",
      "Columns (1) have mixed types. Specify dtype option on import or set low_memory=False.\n",
      "\n",
      "/var/folders/4x/9tydsf1n3w9gn38nvgmh5p1h0000gn/T/ipykernel_46578/352329434.py:10: SettingWithCopyWarning:\n",
      "\n",
      "\n",
      "A value is trying to be set on a copy of a slice from a DataFrame\n",
      "\n",
      "See the caveats in the documentation: https://pandas.pydata.org/pandas-docs/stable/user_guide/indexing.html#returning-a-view-versus-a-copy\n",
      "\n",
      "/var/folders/4x/9tydsf1n3w9gn38nvgmh5p1h0000gn/T/ipykernel_46578/352329434.py:11: SettingWithCopyWarning:\n",
      "\n",
      "\n",
      "A value is trying to be set on a copy of a slice from a DataFrame\n",
      "\n",
      "See the caveats in the documentation: https://pandas.pydata.org/pandas-docs/stable/user_guide/indexing.html#returning-a-view-versus-a-copy\n",
      "\n"
     ]
    },
    {
     "data": {
      "image/png": "[encoded data removed]",
      "text/plain": [
       "<Figure size 432x288 with 1 Axes>"
      ]
     },
     "metadata": {
      "needs_background": "light"
     },
     "output_type": "display_data"
    }
   ],
   "source": [
    "import pandas as pd\n",
    "import numpy as np\n",
    "import seaborn as sns\n",
    "import matplotlib.pyplot as plt\n",
    "\n",
    "\n",
    "pdData4 = pd.read_csv(\"Crime_Incident_Reports_Compiled.csv\")\n",
    "\n",
    "pdData4[\"offense_type\"] = None\n",
    "pdData4[\"offense_type\"][pdData4[\"OFFENSE_DESCRIPTION\"].str.lower().str.contains(\"robbery|assault|rape\")] = \"violent_crime\"\n",
    "pdData4[\"offense_type\"][pdData4[\"OFFENSE_DESCRIPTION\"].str.lower().str.contains(\"burglary|larceny|theft|arson\")] = \"property_crime\"\n",
    "\n",
    "\n",
    "describe_by_offense = pdData4.groupby(['offense_type', 'DISTRICT', 'YEAR']).agg({'INCIDENT_NUMBER': 'count'}).reset_index()\n",
    "\n",
    "fig = sns.scatterplot(x='INCIDENT_NUMBER', y='offense_type', data=describe_by_offense, hue='YEAR', style = 'DISTRICT')\n"
   ]
  },
  {
   "cell_type": "code",
   "execution_count": null,
   "id": "7c2a1e13",
   "metadata": {
    "pycharm": {
     "name": "#%%\n"
    }
   },
   "outputs": [],
   "source": []
  }
 ],
 "metadata": {
  "kernelspec": {
   "display_name": "Python 3 (ipykernel)",
   "language": "python",
   "name": "python3"
  },
  "language_info": {
   "codemirror_mode": {
    "name": "ipython",
    "version": 3
   },
   "file_extension": ".py",
   "mimetype": "text/x-python",
   "name": "python",
   "nbconvert_exporter": "python",
   "pygments_lexer": "ipython3",
   "version": "3.9.12"
  }
 },
 "nbformat": 4,
 "nbformat_minor": 5
}