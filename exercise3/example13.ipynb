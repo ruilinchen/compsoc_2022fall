{
 "cells": [
  {
   "cell_type": "code",
   "execution_count": 2,
   "id": "a6958b1e",
   "metadata": {
    "pycharm": {
     "name": "#%%\n"
    }
   },
   "outputs": [
    {
     "data": {
      "text/plain": [
       "4"
      ]
     },
     "execution_count": 2,
     "metadata": {},
     "output_type": "execute_result"
    }
   ],
   "source": [
    "#task 3.1\n",
    "#this code finds the maximum and minimum of a list of numbers and returns their difference\n",
    "thislist = [1,2,3,4,5]\n",
    "\n",
    "def dif():\n",
    "    upper = max(thislist)\n",
    "    lower = min(thislist)\n",
    "    diff = upper - lower\n",
    "    return diff\n",
    "\n",
    "dif()"
   ]
  },
  {
   "cell_type": "code",
   "execution_count": 11,
   "id": "0e9e19df",
   "metadata": {
    "pycharm": {
     "name": "#%%\n"
    }
   },
   "outputs": [
    {
     "name": "stdout",
     "output_type": "stream",
     "text": [
      "['a', 1, 'b', 2, 'c', 3]\n"
     ]
    }
   ],
   "source": [
    "#task 3.2\n",
    "#this code combines two lists into one list\n",
    "\n",
    "def newlist(a,b):\n",
    "    new_list = []\n",
    "    for i in range(len(a)):\n",
    "        new_list.append(a[i])\n",
    "        new_list.append(b[i])\n",
    "    return new_list\n",
    "\n",
    "print(newlist([\"a\", \"b\", \"c\"],[1,2,3]))\n"
   ]
  },
  {
   "cell_type": "code",
   "execution_count": 7,
   "id": "695de357",
   "metadata": {
    "pycharm": {
     "name": "#%%\n"
    }
   },
   "outputs": [
    {
     "name": "stdout",
     "output_type": "stream",
     "text": [
      "1: 2\n",
      "2: 1\n",
      "3: 2\n",
      "4: 1\n",
      "5: 3\n"
     ]
    }
   ],
   "source": [
    "#task 3.3\n",
    "#this code counts the frequency of numbers in a list and returns the freqeuncy as a dictionary\n",
    "\n",
    "def countFrequency(my_list):\n",
    "    freq = {}\n",
    "    for items in my_list:\n",
    "        freq[items] = my_list.count(items)\n",
    "        \n",
    "    for key, value in freq.items():\n",
    "        print (\"%d: %d\"%(key,value))\n",
    "        \n",
    "my_list = [1,1,2,3,3,4,5,5,5]\n",
    "countFrequency(my_list)"
   ]
  },
  {
   "cell_type": "code",
   "execution_count": 12,
   "id": "eff1d2d2",
   "metadata": {
    "pycharm": {
     "name": "#%%\n"
    }
   },
   "outputs": [
    {
     "name": "stdout",
     "output_type": "stream",
     "text": [
      "{1, 'a'}\n"
     ]
    }
   ],
   "source": [
    "#task 3.4\n",
    "#this code takes the common elements from two lists and return the crossover elements without duplicates\n",
    "\n",
    "def newlist (a,b):\n",
    "    a_set = set(a)\n",
    "    b_set = set(b)\n",
    "    new_list = a_set.intersection(b_set)\n",
    "    return new_list\n",
    "\n",
    "print(newlist([\"a\",\"b\",1,2],[3,4,1,\"a\",\"c\"]))"
   ]
  },
  {
   "cell_type": "code",
   "execution_count": null,
   "id": "74dba6d3",
   "metadata": {
    "pycharm": {
     "name": "#%%\n"
    }
   },
   "outputs": [],
   "source": []
  }
 ],
 "metadata": {
  "kernelspec": {
   "display_name": "Python [conda env:compsoc] *",
   "language": "python",
   "name": "conda-env-compsoc-py"
  },
  "language_info": {
   "codemirror_mode": {
    "name": "ipython",
    "version": 3
   },
   "file_extension": ".py",
   "mimetype": "text/x-python",
   "name": "python",
   "nbconvert_exporter": "python",
   "pygments_lexer": "ipython3",
   "version": "3.8.13"
  }
 },
 "nbformat": 4,
 "nbformat_minor": 5
}