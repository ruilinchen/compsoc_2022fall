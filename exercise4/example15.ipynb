{
 "cells": [
  {
   "cell_type": "code",
   "execution_count": 28,
   "outputs": [],
   "source": [
    "import os\n",
    "os.chdir(\"C:\\\\Users\\\\User\\\\OneDrive\\\\School\\\\2022\\\\compSoc\\\\Assignments\\\\Assignment_4\")"
   ],
   "metadata": {
    "collapsed": false,
    "pycharm": {
     "name": "#%%\n"
    }
   }
  },
  {
   "cell_type": "markdown",
   "source": [
    "### Q1"
   ],
   "metadata": {
    "collapsed": false,
    "pycharm": {
     "name": "#%% md\n"
    }
   }
  },
  {
   "cell_type": "code",
   "execution_count": 29,
   "metadata": {
    "collapsed": true,
    "pycharm": {
     "name": "#%%\n"
    }
   },
   "outputs": [
    {
     "name": "stdout",
     "output_type": "stream",
     "text": [
      "The names \"John Doe\" for males, \"Jane Doe\" or \"Jane Roe\" for females, or \"Jonnie Doe\" and \"Janie Doe\" for children, or just \"Doe\" non-gender-specifically are used as placeholder names for a party whose true identity is unknown or must be withheld in a legal action, case, or discussion. The names are also used to refer to acorpse or hospital patient whose identity is unknown. This practice is widely used in the United States and Canada, but is rarely used in other English-speaking countries including the United Kingdom itself, from where the use of \"John Doe\" in a legal context originates. The names Joe Bloggs or John Smith are used in the UK instead, as well as in Australia and New Zealand.\n",
      "\n",
      "John Doe is sometimes used to refer to a typical male in other contexts as well, in a similar manner to John Q. Public, known in Great Britain as Joe Public, John Smith or Joe Bloggs. For example, the first name listed on a form is often John Doe, along with a fictional address or other fictional information to provide an example of how to fill in the form. The name is also used frequently in popular culture, for example in the Frank Capra film Meet John Doe. John Doe was also the name of a 2002 American television series.\n",
      "\n",
      "Similarly, a child or baby whose identity is unknown may be referred to as Baby Doe. A notorious murder case in Kansas City, Missouri, referred to the baby victim as Precious Doe. Other unidentified female murder victims are Cali Doe and Princess Doe. Additional persons may be called James Doe, Judy Doe, etc. However, to avoid possible confusion, if two anonymous or unknown parties are cited in a specific case or action, the surnames Doe and Roe may be used simultaneously; for example, \"John Doe v. Jane Roe\". If several anonymous parties are referenced, they may simply be labelled John Doe #1, John Doe #2, etc. (the U.S. Operation Delego cited 21 (numbered) \"John Doe\"s) or labelled with other variants of Doe / Roe / Poe / etc. Other early alternatives such as John Stiles and Richard Miles are now rarely used, and Mary Major has been used in some American federal cases.\n",
      "\n",
      "\n",
      "\n",
      "File created by https://www.online-convert.com\n",
      "\n",
      "Text of Example content: Wikipedia (https://en.wikipedia.org/wiki/John_Doe)\n",
      "\n",
      "\n",
      "\n"
     ]
    }
   ],
   "source": [
    "txtfile = \"example.txt\"\n",
    "\n",
    "# define function\n",
    "def alternatelines(txtfile):\n",
    "    # open txtfile\n",
    "    with open(txtfile, \"r\") as f:\n",
    "        # index each lines,\n",
    "        # if the index is equal to 7, start printing all odd lines (index is not divisible by 2)\n",
    "        for i, line in enumerate(f.readlines()):\n",
    "            if i >= 7 and i % 2 == 1:\n",
    "                print(line)\n",
    "\n",
    "alternatelines(txtfile)"
   ]
  },
  {
   "cell_type": "markdown",
   "source": [
    "### Q2"
   ],
   "metadata": {
    "collapsed": false,
    "pycharm": {
     "name": "#%% md\n"
    }
   }
  },
  {
   "cell_type": "code",
   "execution_count": 30,
   "outputs": [
    {
     "name": "stdout",
     "output_type": "stream",
     "text": [
      "136.19\n",
      "ERROR\n"
     ]
    }
   ],
   "source": [
    "# define function with unlimited number of arguments using *\n",
    "# we can limit the number of arguments with a list\n",
    "def sum420(*number):\n",
    "    # set sum to 0\n",
    "    sumn = 0\n",
    "    # check each argument if it is a string (will return TypeError\n",
    "    # if error, print and stop\n",
    "    # if no error in for loop, print the sum\n",
    "    for i in number:\n",
    "        try:\n",
    "            sumn += i\n",
    "        except TypeError:\n",
    "            print(\"ERROR\")\n",
    "            break\n",
    "    else:\n",
    "        print(sumn)\n",
    "\n",
    "sum420(1, 2, 3, 5, 7, 3.14, -23.4, 5, 8, 232, -123, 1, -12, 3.45, 2, 4, 5, 9, -19, 23)\n",
    "sum420(1, 2, 3, 5, 7, \"a\", -23.4, 5, 8, -232, 123, 1, -12, 3.45, 2, -4, 5, 9, 19, -23)"
   ],
   "metadata": {
    "collapsed": false,
    "pycharm": {
     "name": "#%%\n"
    }
   }
  },
  {
   "cell_type": "markdown",
   "source": [
    "### Q3"
   ],
   "metadata": {
    "collapsed": false,
    "pycharm": {
     "name": "#%% md\n"
    }
   }
  },
  {
   "cell_type": "code",
   "execution_count": 31,
   "outputs": [
    {
     "name": "stdout",
     "output_type": "stream",
     "text": [
      "['a1', 'f1', 'd1', 'e1', 't1', 'a2', 'f2', 'd2', 'e2', 't2', 'a3', 'f3', 'd3', 'e3', 't3', 'a4', 'f4', 'd4', 'e4', 't4']\n"
     ]
    }
   ],
   "source": [
    "# the method for both functions are the same\n",
    "# iterate over 1 to N\n",
    "# in each iteration, print the elements in the list with the number\n",
    "def dupename(alist, anumber):\n",
    "    concat = []\n",
    "    r = anumber + 1\n",
    "    for number in range(1, r):\n",
    "        for ele in alist:\n",
    "            concat.append(ele + str(number))\n",
    "    print(concat)\n",
    "\n",
    "alist = [\"a\", \"f\", \"d\", \"e\", \"t\"]\n",
    "dupename(alist, 4)"
   ],
   "metadata": {
    "collapsed": false,
    "pycharm": {
     "name": "#%%\n"
    }
   }
  },
  {
   "cell_type": "markdown",
   "source": [
    "### Q4"
   ],
   "metadata": {
    "collapsed": false,
    "pycharm": {
     "name": "#%% md\n"
    }
   }
  },
  {
   "cell_type": "code",
   "execution_count": 32,
   "outputs": [
    {
     "name": "stdout",
     "output_type": "stream",
     "text": [
      "{'a': 5, 'b': 28, 'c': 67, 'd': 34, 'e': 14, 'f': 52, 'g': 41, 'h': 14, 'i': 77, 'j': 57, 'k': 55, 'l': 20, 'm': 58, 'n': 57, 'o': 91, 'p': 13, 'q': 28, 'r': 15, 's': 2, 't': 28, 'u': 30, 'v': 16, 'w': 97, 'x': 1, 'y': 27, 'z': 45}\n",
      "{'w': 97, 'o': 91, 'i': 77, 'c': 67, 'm': 58, 'j': 57, 'n': 57, 'k': 55, 'f': 52, 'z': 45, 'g': 41, 'd': 34, 'u': 30, 'b': 28, 'q': 28, 't': 28, 'y': 27, 'l': 20, 'v': 16, 'r': 15, 'e': 14, 'h': 14, 'p': 13, 'a': 5, 's': 2, 'x': 1}\n",
      "top scorers are: ['w', 'o', 'i']\n"
     ]
    }
   ],
   "source": [
    "import random as r\n",
    "import string\n",
    "\n",
    "# this is just creating a random list of alphabet with scores so I can test things\n",
    "alpha = list(string.ascii_lowercase)\n",
    "score = {}\n",
    "\n",
    "def rsg(score, n):\n",
    "    for k in alpha:\n",
    "        score[k] = r.randint(1, n)\n",
    "    print(score)\n",
    "\n",
    "rsg(score, 100)\n",
    "\n",
    "# define function to return top three scorers\n",
    "def topthree(score):\n",
    "    # i'm just making a sorted dictionary by value here, but the output does not ask for this\n",
    "    sortlist = {}\n",
    "    # create a list of keys that has been sorted by descending value using sorted(), key, and reverse = True)\n",
    "    # fill the sorted dictionary\n",
    "    sort_key = list(sorted(score, key=score.get, reverse=True))\n",
    "    for k in sort_key:\n",
    "        sortlist[k] = score.get(k)\n",
    "    print(sortlist)\n",
    "    # print first 3 entry of the sorted list\n",
    "    print(\"top scorers are:\", [sort_key[0], sort_key[1], sort_key[2]])\n",
    "\n",
    "topthree(score)"
   ],
   "metadata": {
    "collapsed": false,
    "pycharm": {
     "name": "#%%\n"
    }
   }
  },
  {
   "cell_type": "markdown",
   "source": [
    "### Old questions"
   ],
   "metadata": {
    "collapsed": false,
    "pycharm": {
     "name": "#%% md\n"
    }
   }
  },
  {
   "cell_type": "markdown",
   "source": [
    "[editted]"
   ],
   "metadata": {
    "collapsed": false,
    "pycharm": {
     "name": "#%% md\n"
    }
   }
  },
  {
   "cell_type": "code",
   "execution_count": null,
   "outputs": [],
   "source": [],
   "metadata": {
    "collapsed": false,
    "pycharm": {
     "name": "#%%\n"
    }
   }
  }
 ],
 "metadata": {
  "kernelspec": {
   "display_name": "Python 3",
   "language": "python",
   "name": "python3"
  },
  "language_info": {
   "codemirror_mode": {
    "name": "ipython",
    "version": 2
   },
   "file_extension": ".py",
   "mimetype": "text/x-python",
   "name": "python",
   "nbconvert_exporter": "python",
   "pygments_lexer": "ipython2",
   "version": "2.7.6"
  }
 },
 "nbformat": 4,
 "nbformat_minor": 0
}