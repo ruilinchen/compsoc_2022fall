{
 "cells": [
  {
   "cell_type": "markdown",
   "id": "051f7c21",
   "metadata": {
    "pycharm": {
     "name": "#%% md\n"
    }
   },
   "source": [
    "# Exercise #4"
   ]
  },
  {
   "cell_type": "markdown",
   "id": "deb4b5fb",
   "metadata": {
    "pycharm": {
     "name": "#%% md\n"
    }
   },
   "source": [
    "### Content\n",
    "* Task 4.1\n",
    "* Task 4.2\n",
    "* Task 4.3\n",
    "* Task 4.4"
   ]
  },
  {
   "cell_type": "markdown",
   "id": "3a030384",
   "metadata": {
    "pycharm": {
     "name": "#%% md\n"
    }
   },
   "source": [
    "### Task 4.1"
   ]
  },
  {
   "cell_type": "code",
   "execution_count": 6,
   "id": "3ee752fe",
   "metadata": {
    "pycharm": {
     "name": "#%%\n"
    }
   },
   "outputs": [
    {
     "name": "stdout",
     "output_type": "stream",
     "text": [
      "The names \"John Doe\" for males, \"Jane Doe\" or \"Jane Roe\" for females, or \"Jonnie Doe\" and \"Janie Doe\" for children, or just \"Doe\" non-gender-specifically are used as placeholder names for a party whose true identity is unknown or must be withheld in a legal action, case, or discussion. The names are also used to refer to acorpse or hospital patient whose identity is unknown. This practice is widely used in the United States and Canada, but is rarely used in other English-speaking countries including the United Kingdom itself, from where the use of \"John Doe\" in a legal context originates. The names Joe Bloggs or John Smith are used in the UK instead, as well as in Australia and New Zealand.\n",
      "\n",
      "John Doe is sometimes used to refer to a typical male in other contexts as well, in a similar manner to John Q. Public, known in Great Britain as Joe Public, John Smith or Joe Bloggs. For example, the first name listed on a form is often John Doe, along with a fictional address or other fictional information to provide an example of how to fill in the form. The name is also used frequently in popular culture, for example in the Frank Capra film Meet John Doe. John Doe was also the name of a 2002 American television series.\n",
      "\n",
      "Similarly, a child or baby whose identity is unknown may be referred to as Baby Doe. A notorious murder case in Kansas City, Missouri, referred to the baby victim as Precious Doe. Other unidentified female murder victims are Cali Doe and Princess Doe. Additional persons may be called James Doe, Judy Doe, etc. However, to avoid possible confusion, if two anonymous or unknown parties are cited in a specific case or action, the surnames Doe and Roe may be used simultaneously; for example, \"John Doe v. Jane Roe\". If several anonymous parties are referenced, they may simply be labelled John Doe #1, John Doe #2, etc. (the U.S. Operation Delego cited 21 (numbered) \"John Doe\"s) or labelled with other variants of Doe / Roe / Poe / etc. Other early alternatives such as John Stiles and Richard Miles are now rarely used, and Mary Major has been used in some American federal cases.\n",
      "\n",
      "\n",
      "\n",
      "File created by https://www.online-convert.com\n",
      "\n",
      "Text of Example content: Wikipedia (https://en.wikipedia.org/wiki/John_Doe)\n",
      "\n",
      "\n",
      "\n"
     ]
    }
   ],
   "source": [
    "# Open and read file\n",
    "\n",
    "with open('example.txt', 'r') as file:\n",
    "    next_line = 7\n",
    "    # Starting seventh line of the file\n",
    "    for index,line in enumerate(file):\n",
    "    # Adding a counter to an iterable and returns it in a form of enumerating object\n",
    "    # Looping through the entire file\n",
    "        if index == next_line:\n",
    "            print(line)\n",
    "            next_line += 2\n"
   ]
  },
  {
   "cell_type": "markdown",
   "id": "b5fda544",
   "metadata": {
    "pycharm": {
     "name": "#%% md\n"
    }
   },
   "source": [
    "### Task 4.2"
   ]
  },
  {
   "cell_type": "code",
   "execution_count": 20,
   "id": "4b7ac34d",
   "metadata": {
    "pycharm": {
     "name": "#%%\n"
    }
   },
   "outputs": [
    {
     "data": {
      "text/plain": [
       "'Error!!!'"
      ]
     },
     "execution_count": 20,
     "metadata": {},
     "output_type": "execute_result"
    }
   ],
   "source": [
    "# sumForTwenty function\n",
    "\n",
    "def sumForTwenty(num_lst):\n",
    "    if len(num_lst) == 20:\n",
    "    # Identifying a list\n",
    "        for index in range(len(num_lst)):\n",
    "    # Using for loop to loop through the list to check str type\n",
    "            try:\n",
    "                if type(num_lst[index]) != str:\n",
    "            # If str not in the list, you will return the sum\n",
    "                    return sum(num_lst)\n",
    "            except:\n",
    "                return f\"Error!!!\"\n",
    "        # If there is a string, you will get Error message.\n",
    "        \n",
    "sumForTwenty([1,2,3,4,1,2,3.3,4,1,2,3,4,1,2,3,4,7,2,3,\"a\"])\n",
    "# sumForTwenty([1,2,3,4,1,2,3.3,4,1,2,3,4,1,2,3,4,7,2,3,4])"
   ]
  },
  {
   "cell_type": "markdown",
   "id": "dc991203",
   "metadata": {
    "pycharm": {
     "name": "#%% md\n"
    }
   },
   "source": [
    "### Task 4.3"
   ]
  },
  {
   "cell_type": "code",
   "execution_count": 2,
   "id": "da94a6e4",
   "metadata": {
    "pycharm": {
     "name": "#%%\n"
    }
   },
   "outputs": [
    {
     "data": {
      "text/plain": [
       "['a1', 'b1', 'a2', 'b2', 'a3', 'b3']"
      ]
     },
     "execution_count": 2,
     "metadata": {},
     "output_type": "execute_result"
    }
   ],
   "source": [
    "# duplicateNames function\n",
    "def duplicateNames(lst, N):\n",
    "    combine_lst = []\n",
    "    # Creating a list to combine the input list and the range of N \n",
    "    for index in range(1,N+1):\n",
    "    # Looping through range 1 to 10\n",
    "        for element in lst:\n",
    "        # For the element in the input list...\n",
    "            combine_lst.append(element+str(index))\n",
    "            # You combine the element range with the element in the input list\n",
    "    return combine_lst\n",
    "    # Return the list\n",
    "\n",
    "duplicateNames(['a','b'],3)\n",
    "    \n",
    "    "
   ]
  },
  {
   "cell_type": "markdown",
   "id": "e7255d22",
   "metadata": {
    "pycharm": {
     "name": "#%% md\n"
    }
   },
   "source": [
    "### Task 4.4"
   ]
  },
  {
   "cell_type": "code",
   "execution_count": 1,
   "id": "cada7432",
   "metadata": {
    "pycharm": {
     "name": "#%%\n"
    }
   },
   "outputs": [
    {
     "data": {
      "text/plain": [
       "['kobe', 'larry', 'michael']"
      ]
     },
     "execution_count": 1,
     "metadata": {},
     "output_type": "execute_result"
    }
   ],
   "source": [
    "# top3Players function\n",
    "\n",
    "def top3Players(d):\n",
    "    sorted_dict = {}\n",
    "    # Creating a sorted dictionary to store\n",
    "    sorted_values = sorted(d.values())\n",
    "    # Sort the value of the key\n",
    "    for i in sorted_values:\n",
    "    # Looping through sorted values\n",
    "        for k in d.keys():\n",
    "            if d[k] == i:\n",
    "                sorted_dict[k] = d[k]\n",
    "                break\n",
    "    sort_d_lst = list(sorted_dict)\n",
    "    # Convert to list\n",
    "    return sort_d_lst[-3:]\n",
    "    # Returning element of the list\n",
    "\n",
    "\n",
    "top3Players({'lebron': 70, 'kobe': 80, 'stephen': 75, 'michael': 85, 'larry': 82})"
   ]
  }
 ],
 "metadata": {
  "kernelspec": {
   "display_name": "Python [conda env:compsoc] *",
   "language": "python",
   "name": "conda-env-compsoc-py"
  },
  "language_info": {
   "codemirror_mode": {
    "name": "ipython",
    "version": 3
   },
   "file_extension": ".py",
   "mimetype": "text/x-python",
   "name": "python",
   "nbconvert_exporter": "python",
   "pygments_lexer": "ipython3",
   "version": "3.8.13"
  }
 },
 "nbformat": 4,
 "nbformat_minor": 5
}