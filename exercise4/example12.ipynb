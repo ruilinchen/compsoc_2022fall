{
 "cells": [
  {
   "cell_type": "code",
   "execution_count": 195,
   "metadata": {
    "pycharm": {
     "name": "#%%\n"
    }
   },
   "outputs": [
    {
     "name": "stdout",
     "output_type": "stream",
     "text": [
      "Example content:\n",
      "\n",
      "placeholder names for a party whose true identity is unknown or must be withheld in a legal action, case, or discussion. The names are also used to refer to acorpse or hospital \n",
      "\n",
      "Kingdom itself, from where the use of \"John Doe\" in a legal context originates. The names Joe Bloggs or John Smith are used in the UK instead, as well as in Australia and New \n",
      "\n",
      "\n",
      "\n",
      "Bloggs. For example, the first name listed on a form is often John Doe, along with a fictional address or other fictional information to provide an example of how to fill in \n",
      "\n",
      "series.\n",
      "\n",
      "Similarly, a child or baby whose identity is unknown may be referred to as Baby Doe. A notorious murder case in Kansas City, Missouri, referred to the baby victim as Precious \n",
      "\n",
      "two anonymous or unknown parties are cited in a specific case or action, the surnames Doe and Roe may be used simultaneously; for example, \"John Doe v. Jane Roe\". If several \n",
      "\n",
      "variants of Doe / Roe / Poe / etc. Other early alternatives such as John Stiles and Richard Miles are now rarely used, and Mary Major has been used in some American federal \n",
      "\n",
      "\n",
      "\n",
      "\n",
      "\n",
      "More example files: https://www.online-convert.com/file-type\n",
      "\n",
      "License: Attribution-ShareAlike 4.0 (https://creativecommons.org/licenses/by-sa/4.0/)\n",
      "\n",
      "Feel free to use and share the file according to the license above.\n"
     ]
    }
   ],
   "source": [
    "#task4.1\n",
    "f = open('E:\\[editted]\\code\\example.txt', 'r')\n",
    "\n",
    "for count, line in enumerate(f, start=1):\n",
    "        if count % 2 == 1 and count>=7:\n",
    "            print(line)"
   ]
  },
  {
   "cell_type": "code",
   "execution_count": 72,
   "metadata": {
    "pycharm": {
     "name": "#%%\n"
    }
   },
   "outputs": [
    {
     "name": "stdout",
     "output_type": "stream",
     "text": [
      "104\n",
      "ERROR: invalid input\n"
     ]
    }
   ],
   "source": [
    "#task4.2\n",
    "number=[]\n",
    "def sumfortwenty(numbers):\n",
    "    try:\n",
    "        print(sum(numbers))\n",
    "    except:\n",
    "        print('ERROR: invalid input')\n",
    "\n",
    "sumfortwenty([5,8,7,9,4,5,9,7,9,8,0,9,4,5,2,1,2,3,4,3])\n",
    "sumfortwenty([5,8,'a',9,4,5,9,7,9,8,0,9,4,5,2,1,2,3,4,3])"
   ]
  },
  {
   "cell_type": "code",
   "execution_count": 153,
   "metadata": {
    "pycharm": {
     "name": "#%%\n"
    }
   },
   "outputs": [],
   "source": [
    "#task4.3\n",
    "list1=[]\n",
    "n=int()\n",
    "\n",
    "def duplicate1(list1, n):\n",
    "    new_list1 = []\n",
    "    for i in range(n):\n",
    "        new_list1.extend(list1)\n",
    "    return new_list1\n",
    "list2=duplicate1(['a','b','c'],2)"
   ]
  },
  {
   "cell_type": "code",
   "execution_count": 194,
   "metadata": {
    "pycharm": {
     "name": "#%%\n"
    }
   },
   "outputs": [
    {
     "name": "stdout",
     "output_type": "stream",
     "text": [
      "['a', 'b', 'c', 'a', 'b', 'c']\n",
      "[1, 1, 1, 2, 2, 2]\n"
     ]
    },
    {
     "data": {
      "text/plain": [
       "['a1', 'b1', 'c1', 'a2', 'b2', 'c2']"
      ]
     },
     "execution_count": 194,
     "metadata": {},
     "output_type": "execute_result"
    }
   ],
   "source": [
    "def createlist(list1,n):\n",
    "    lst = []\n",
    "    for i in range(1, n + 1):\n",
    "        lst.append(i)\n",
    "    a=int(len(list1))\n",
    "    lst1=[]\n",
    "    lst1=lst*a\n",
    "    lst1.sort()\n",
    "    return lst1\n",
    "list4 = createlist(['a', 'b', 'c'], 2)\n",
    "\n",
    "print(list2)\n",
    "print(list4)\n",
    "[m + str(n) for m, n in zip(list2, list4)]"
   ]
  },
  {
   "cell_type": "code",
   "execution_count": 196,
   "metadata": {
    "pycharm": {
     "name": "#%%\n"
    }
   },
   "outputs": [],
   "source": [
    "##task4.4"
   ]
  },
  {
   "cell_type": "code",
   "execution_count": 193,
   "metadata": {
    "pycharm": {
     "name": "#%%\n"
    }
   },
   "outputs": [
    {
     "name": "stdout",
     "output_type": "stream",
     "text": [
      "michael\n",
      "stephen\n",
      "lebron\n"
     ]
    }
   ],
   "source": [
    "def top3players(my_dict):\n",
    "    x=list(my_dict.values())\n",
    "    d=dict()\n",
    "    x.sort(reverse=True)\n",
    "    x=x[:3]\n",
    "    for i in x:\n",
    "       for j in my_dict.keys():\n",
    "            if(my_dict[j]==i):\n",
    "               print(str(j))\n",
    "\n",
    "top3players({'lebron': 89, 'kobe': 85, 'stephen': 90, 'michael': 95, 'kd': 85})\n"
   ]
  }
 ],
 "metadata": {
  "kernelspec": {
   "display_name": "Python 3 (ipykernel)",
   "language": "python",
   "name": "python3"
  },
  "language_info": {
   "codemirror_mode": {
    "name": "ipython",
    "version": 3
   },
   "file_extension": ".py",
   "mimetype": "text/x-python",
   "name": "python",
   "nbconvert_exporter": "python",
   "pygments_lexer": "ipython3",
   "version": "3.9.12"
  }
 },
 "nbformat": 4,
 "nbformat_minor": 1
}