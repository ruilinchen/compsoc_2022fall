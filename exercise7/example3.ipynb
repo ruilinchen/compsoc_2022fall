{
 "cells": [
  {
   "cell_type": "markdown",
   "metadata": {
    "pycharm": {
     "name": "#%% md\n"
    }
   },
   "source": [
    "# Task 7.1"
   ]
  },
  {
   "cell_type": "code",
   "execution_count": 3,
   "metadata": {
    "pycharm": {
     "name": "#%%\n"
    }
   },
   "outputs": [
    {
     "name": "stderr",
     "output_type": "stream",
     "text": [
      "C:\\Users\\dell\\Anaconda3\\lib\\site-packages\\IPython\\core\\interactiveshell.py:3058: DtypeWarning: Columns (0) have mixed types. Specify dtype option on import or set low_memory=False.\n",
      "  interactivity=interactivity, compiler=compiler, result=result)\n"
     ]
    }
   ],
   "source": [
    "import pandas as pd\n",
    "\n",
    "\n",
    "df1=pd.read_csv('year 2019.csv')\n",
    "df2=pd.read_csv('year 2020.csv')\n",
    "\n",
    "data = pd.concat([df1, df2]).drop_duplicates()\n",
    "dataclean = data.dropna(axis='index',how='any', subset=['INCIDENT_NUMBER', 'OFFENSE_CODE', 'DISTRICT', 'Long', 'Lat', 'SHOOTING', 'OCCURRED_ON_DATE'])"
   ]
  },
  {
   "cell_type": "code",
   "execution_count": 7,
   "metadata": {
    "pycharm": {
     "name": "#%%\n"
    }
   },
   "outputs": [],
   "source": [
    "dataclean.to_csv('saved_data_exercise7.csv')"
   ]
  },
  {
   "cell_type": "code",
   "execution_count": 4,
   "metadata": {
    "pycharm": {
     "name": "#%%\n"
    }
   },
   "outputs": [
    {
     "name": "stderr",
     "output_type": "stream",
     "text": [
      "C:\\Users\\dell\\Anaconda3\\lib\\site-packages\\ipykernel_launcher.py:1: SettingWithCopyWarning: \n",
      "A value is trying to be set on a copy of a slice from a DataFrame.\n",
      "Try using .loc[row_indexer,col_indexer] = value instead\n",
      "\n",
      "See the caveats in the documentation: http://pandas.pydata.org/pandas-docs/stable/user_guide/indexing.html#returning-a-view-versus-a-copy\n",
      "  \"\"\"Entry point for launching an IPython kernel.\n",
      "C:\\Users\\dell\\Anaconda3\\lib\\site-packages\\pandas\\core\\indexing.py:205: SettingWithCopyWarning: \n",
      "A value is trying to be set on a copy of a slice from a DataFrame\n",
      "\n",
      "See the caveats in the documentation: http://pandas.pydata.org/pandas-docs/stable/user_guide/indexing.html#returning-a-view-versus-a-copy\n",
      "  self._setitem_with_indexer(indexer, value)\n",
      "C:\\Users\\dell\\Anaconda3\\lib\\site-packages\\ipykernel_launcher.py:2: SettingWithCopyWarning: \n",
      "A value is trying to be set on a copy of a slice from a DataFrame\n",
      "\n",
      "See the caveats in the documentation: http://pandas.pydata.org/pandas-docs/stable/user_guide/indexing.html#returning-a-view-versus-a-copy\n",
      "  \n",
      "C:\\Users\\dell\\Anaconda3\\lib\\site-packages\\ipykernel_launcher.py:3: SettingWithCopyWarning: \n",
      "A value is trying to be set on a copy of a slice from a DataFrame\n",
      "\n",
      "See the caveats in the documentation: http://pandas.pydata.org/pandas-docs/stable/user_guide/indexing.html#returning-a-view-versus-a-copy\n",
      "  This is separate from the ipykernel package so we can avoid doing imports until\n"
     ]
    }
   ],
   "source": [
    "dataclean[\"crime_type\"] = \"\"\n",
    "dataclean['crime_type'].loc[(dataclean['OFFENSE_DESCRIPTION'].str.contains('assault|robbery|rape',case=False))]='Violent crimes'\n",
    "dataclean['crime_type'].loc[(dataclean['OFFENSE_DESCRIPTION'].str.contains('burglary|larceny|theft|arson',case=False))]='Property crimes'"
   ]
  },
  {
   "cell_type": "code",
   "execution_count": 5,
   "metadata": {
    "pycharm": {
     "name": "#%%\n"
    }
   },
   "outputs": [],
   "source": [
    "dataclean_2019 = dataclean.loc[dataclean['OCCURRED_ON_DATE'].str.contains('2019')]\n",
    "dataclean_2020 = dataclean.loc[dataclean['OCCURRED_ON_DATE'].str.contains('2020')]\n",
    "dataclean_Violent_2019=dataclean_2019.loc[dataclean_2019['crime_type'].str.contains('Violent')]\n",
    "dataclean_Violent_2020=dataclean_2020.loc[dataclean_2020['crime_type'].str.contains('Violent')]\n",
    "dataclean_Property_2019=dataclean_2019.loc[dataclean_2019['crime_type'].str.contains('Property')]\n",
    "dataclean_Property_2020=dataclean_2020.loc[dataclean_2020['crime_type'].str.contains('Property')]"
   ]
  },
  {
   "cell_type": "code",
   "execution_count": 6,
   "metadata": {
    "pycharm": {
     "name": "#%%\n"
    }
   },
   "outputs": [
    {
     "name": "stdout",
     "output_type": "stream",
     "text": [
      "the total number of Violent crime in 2019 is : 8324\n",
      "the total number of Violent crime in 2020 is : 5152\n",
      "the total number of Property crime in 2019 is: 13158\n",
      "the total number of Property crime in 2020 is: 12227\n"
     ]
    }
   ],
   "source": [
    "print('the total number of Violent crime in 2019 is :',len(dataclean_Violent_2019))\n",
    "print('the total number of Violent crime in 2020 is :',len(dataclean_Violent_2020))\n",
    "print('the total number of Property crime in 2019 is:',len(dataclean_Property_2019))\n",
    "print('the total number of Property crime in 2020 is:',len(dataclean_Property_2020))"
   ]
  },
  {
   "cell_type": "markdown",
   "metadata": {
    "pycharm": {
     "name": "#%% md\n"
    }
   },
   "source": [
    "#  Task 7.2"
   ]
  },
  {
   "cell_type": "code",
   "execution_count": 13,
   "metadata": {
    "pycharm": {
     "name": "#%%\n"
    }
   },
   "outputs": [],
   "source": [
    "import matplotlib.pyplot as plt"
   ]
  },
  {
   "cell_type": "code",
   "execution_count": 12,
   "metadata": {
    "pycharm": {
     "name": "#%%\n"
    }
   },
   "outputs": [],
   "source": [
    "y_2019=dataclean_Violent_2019.groupby('DISTRICT')['crime_type'].count().reset_index()\n",
    "x_2019=dataclean_Property_2019.groupby('DISTRICT')['crime_type'].count().reset_index()\n",
    "y_2020=dataclean_Violent_2020.groupby('DISTRICT')['crime_type'].count().reset_index()\n",
    "x_2020=dataclean_Property_2020.groupby('DISTRICT')['crime_type'].count().reset_index()"
   ]
  },
  {
   "cell_type": "code",
   "execution_count": 14,
   "metadata": {
    "pycharm": {
     "name": "#%%\n"
    }
   },
   "outputs": [
    {
     "data": {
      "text/plain": [
       "Text(0, 0.5, 'annual violent crimes')"
      ]
     },
     "execution_count": 14,
     "metadata": {},
     "output_type": "execute_result"
    },
    {
     "data": {
      "image/png": "[encoded data removed]",
      "text/plain": [
       "<Figure size 432x288 with 1 Axes>"
      ]
     },
     "metadata": {
      "needs_background": "light"
     },
     "output_type": "display_data"
    }
   ],
   "source": [
    "plt.scatter(x_2019[\"crime_type\"],y_2019[\"crime_type\"],c=\"r\",alpha=0.5,label=\"2019\") \n",
    "plt.scatter(x_2020[\"crime_type\"],y_2020[\"crime_type\"],c=\"b\",alpha=0.5,label=\"2020\")\n",
    "plt.legend(loc=\"best\")\n",
    "plt.xlabel('annual property crimes',fontsize=15)\n",
    "plt.ylabel('annual violent crimes',fontsize=15)"
   ]
  },
  {
   "cell_type": "markdown",
   "metadata": {
    "pycharm": {
     "name": "#%% md\n"
    }
   },
   "source": [
    "# Task 7.3"
   ]
  },
  {
   "cell_type": "code",
   "execution_count": 15,
   "metadata": {
    "pycharm": {
     "name": "#%%\n"
    }
   },
   "outputs": [],
   "source": [
    "dataclean_2019_sum = pd.DataFrame()\n",
    "dataclean_2019_sum['district']=x_2019['DISTRICT']\n",
    "dataclean_2019_sum['crime number']=x_2019['crime_type']+y_2019['crime_type']\n",
    "dataclean_2020_sum = pd.DataFrame()\n",
    "dataclean_2020_sum['district']=x_2020['DISTRICT']\n",
    "dataclean_2020_sum['crime number']=x_2020['crime_type']+y_2020['crime_type']"
   ]
  },
  {
   "cell_type": "code",
   "execution_count": 17,
   "metadata": {
    "pycharm": {
     "name": "#%%\n"
    }
   },
   "outputs": [
    {
     "data": {
      "text/plain": [
       "Text(0, 0.5, 'annual sums')"
      ]
     },
     "execution_count": 17,
     "metadata": {},
     "output_type": "execute_result"
    },
    {
     "data": {
      "image/png": "[encoded data removed]",
      "text/plain": [
       "<Figure size 432x288 with 1 Axes>"
      ]
     },
     "metadata": {
      "needs_background": "light"
     },
     "output_type": "display_data"
    }
   ],
   "source": [
    "df = pd.DataFrame({'2019': list(dataclean_2019_sum['crime number']), '2020': list(dataclean_2020_sum['crime number'])}, index=dataclean_2020_sum['district'])\n",
    "ax = df.plot.bar(rot=0)\n",
    "plt.ylabel('annual sums')"
   ]
  },
  {
   "cell_type": "markdown",
   "metadata": {
    "pycharm": {
     "name": "#%% md\n"
    }
   },
   "source": [
    "# Task 7.4"
   ]
  },
  {
   "cell_type": "code",
   "execution_count": 7,
   "metadata": {
    "pycharm": {
     "name": "#%%\n"
    }
   },
   "outputs": [],
   "source": [
    "dataclean_shooting_2019=dataclean_2019.loc[dataclean_2019['SHOOTING']== 1]\n",
    "dataclean_shooting_2020=dataclean_2020.loc[dataclean_2020['SHOOTING']== 1]"
   ]
  },
  {
   "cell_type": "code",
   "execution_count": 8,
   "metadata": {
    "pycharm": {
     "name": "#%%\n"
    }
   },
   "outputs": [],
   "source": [
    "_2019_1quarter=dataclean_shooting_2019[dataclean_shooting_2019['MONTH']<=3].groupby(['DISTRICT'])['SHOOTING'].sum()\n",
    "_2019_2quarter=dataclean_shooting_2019[dataclean_shooting_2019['MONTH'].apply(lambda x:  x in [4,5,6]) ].groupby(['DISTRICT'])['SHOOTING'].sum()\n",
    "_2019_3quarter=dataclean_shooting_2019[dataclean_shooting_2019['MONTH'].apply(lambda x:  x in [7,8,9]) ].groupby(['DISTRICT'])['SHOOTING'].sum()\n",
    "_2019_4quarter=dataclean_shooting_2019[dataclean_shooting_2019['MONTH'].apply(lambda x:  x in [10,11,12]) ].groupby(['DISTRICT'])['SHOOTING'].sum()\n",
    "_2020_1quarter=dataclean_shooting_2020[dataclean_shooting_2020['MONTH']<=3].groupby(['DISTRICT'])['SHOOTING'].sum()\n",
    "_2020_2quarter=dataclean_shooting_2020[dataclean_shooting_2020['MONTH'].apply(lambda x:  x in [4,5,6]) ].groupby(['DISTRICT'])['SHOOTING'].sum()\n",
    "_2020_3quarter=dataclean_shooting_2020[dataclean_shooting_2020['MONTH'].apply(lambda x:  x in [7,8,9]) ].groupby(['DISTRICT'])['SHOOTING'].sum()\n",
    "_2020_4quarter=dataclean_shooting_2020[dataclean_shooting_2020['MONTH'].apply(lambda x:  x in [10,11,12]) ].groupby(['DISTRICT'])['SHOOTING'].sum()"
   ]
  },
  {
   "cell_type": "code",
   "execution_count": 9,
   "metadata": {
    "pycharm": {
     "name": "#%%\n"
    }
   },
   "outputs": [],
   "source": [
    "_2019_1quarter=pd.DataFrame(_2019_1quarter)\n",
    "_2019_1quarter['QUARTER']=1\n",
    "_2019_1quarter['YEAR']=2019\n",
    "_2019_2quarter=pd.DataFrame(_2019_2quarter)\n",
    "_2019_2quarter['QUARTER']=2\n",
    "_2019_2quarter['YEAR']=2019\n",
    "_2019_3quarter=pd.DataFrame(_2019_3quarter)\n",
    "_2019_3quarter['QUARTER']=3\n",
    "_2019_3quarter['YEAR']=2019\n",
    "_2019_4quarter=pd.DataFrame(_2019_4quarter)\n",
    "_2019_4quarter['QUARTER']=4\n",
    "_2019_4quarter['YEAR']=2019"
   ]
  },
  {
   "cell_type": "code",
   "execution_count": 10,
   "metadata": {
    "pycharm": {
     "name": "#%%\n"
    }
   },
   "outputs": [],
   "source": [
    "_2020_1quarter=pd.DataFrame(_2020_1quarter)\n",
    "_2020_1quarter['QUARTER']=1\n",
    "_2020_1quarter['YEAR']=2020\n",
    "_2020_2quarter=pd.DataFrame(_2020_2quarter)\n",
    "_2020_2quarter['QUARTER']=2\n",
    "_2020_2quarter['YEAR']=2020\n",
    "_2020_3quarter=pd.DataFrame(_2020_3quarter)\n",
    "_2020_3quarter['QUARTER']=3\n",
    "_2020_3quarter['YEAR']=2020\n",
    "_2020_4quarter=pd.DataFrame(_2020_4quarter)\n",
    "_2020_4quarter['QUARTER']=4\n",
    "_2020_4quarter['YEAR']=2020"
   ]
  },
  {
   "cell_type": "code",
   "execution_count": 15,
   "metadata": {
    "pycharm": {
     "name": "#%%\n"
    }
   },
   "outputs": [
    {
     "data": {
      "text/html": [
       "<div>\n",
       "<style scoped>\n",
       "    .dataframe tbody tr th:only-of-type {\n",
       "        vertical-align: middle;\n",
       "    }\n",
       "\n",
       "    .dataframe tbody tr th {\n",
       "        vertical-align: top;\n",
       "    }\n",
       "\n",
       "    .dataframe thead th {\n",
       "        text-align: right;\n",
       "    }\n",
       "</style>\n",
       "<table border=\"1\" class=\"dataframe\">\n",
       "  <thead>\n",
       "    <tr style=\"text-align: right;\">\n",
       "      <th></th>\n",
       "      <th>SHOOTING</th>\n",
       "      <th>QUARTER</th>\n",
       "      <th>YEAR</th>\n",
       "    </tr>\n",
       "    <tr>\n",
       "      <th>DISTRICT</th>\n",
       "      <th></th>\n",
       "      <th></th>\n",
       "      <th></th>\n",
       "    </tr>\n",
       "  </thead>\n",
       "  <tbody>\n",
       "    <tr>\n",
       "      <th>A7</th>\n",
       "      <td>4</td>\n",
       "      <td>1</td>\n",
       "      <td>2019</td>\n",
       "    </tr>\n",
       "    <tr>\n",
       "      <th>B2</th>\n",
       "      <td>33</td>\n",
       "      <td>1</td>\n",
       "      <td>2019</td>\n",
       "    </tr>\n",
       "    <tr>\n",
       "      <th>B3</th>\n",
       "      <td>32</td>\n",
       "      <td>1</td>\n",
       "      <td>2019</td>\n",
       "    </tr>\n",
       "    <tr>\n",
       "      <th>C11</th>\n",
       "      <td>28</td>\n",
       "      <td>1</td>\n",
       "      <td>2019</td>\n",
       "    </tr>\n",
       "    <tr>\n",
       "      <th>C6</th>\n",
       "      <td>4</td>\n",
       "      <td>1</td>\n",
       "      <td>2019</td>\n",
       "    </tr>\n",
       "    <tr>\n",
       "      <th>...</th>\n",
       "      <td>...</td>\n",
       "      <td>...</td>\n",
       "      <td>...</td>\n",
       "    </tr>\n",
       "    <tr>\n",
       "      <th>D4</th>\n",
       "      <td>5</td>\n",
       "      <td>4</td>\n",
       "      <td>2020</td>\n",
       "    </tr>\n",
       "    <tr>\n",
       "      <th>E13</th>\n",
       "      <td>7</td>\n",
       "      <td>4</td>\n",
       "      <td>2020</td>\n",
       "    </tr>\n",
       "    <tr>\n",
       "      <th>E18</th>\n",
       "      <td>18</td>\n",
       "      <td>4</td>\n",
       "      <td>2020</td>\n",
       "    </tr>\n",
       "    <tr>\n",
       "      <th>E5</th>\n",
       "      <td>7</td>\n",
       "      <td>4</td>\n",
       "      <td>2020</td>\n",
       "    </tr>\n",
       "    <tr>\n",
       "      <th>External</th>\n",
       "      <td>1</td>\n",
       "      <td>4</td>\n",
       "      <td>2020</td>\n",
       "    </tr>\n",
       "  </tbody>\n",
       "</table>\n",
       "<p>95 rows × 3 columns</p>\n",
       "</div>"
      ],
      "text/plain": [
       "          SHOOTING  QUARTER  YEAR\n",
       "DISTRICT                         \n",
       "A7               4        1  2019\n",
       "B2              33        1  2019\n",
       "B3              32        1  2019\n",
       "C11             28        1  2019\n",
       "C6               4        1  2019\n",
       "...            ...      ...   ...\n",
       "D4               5        4  2020\n",
       "E13              7        4  2020\n",
       "E18             18        4  2020\n",
       "E5               7        4  2020\n",
       "External         1        4  2020\n",
       "\n",
       "[95 rows x 3 columns]"
      ]
     },
     "execution_count": 15,
     "metadata": {},
     "output_type": "execute_result"
    }
   ],
   "source": [
    "df=pd.concat([_2019_1quarter,_2019_2quarter,_2019_3quarter,_2019_4quarter,_2020_1quarter,_2020_2quarter,_2020_3quarter,_2020_4quarter])\n",
    "df"
   ]
  },
  {
   "cell_type": "code",
   "execution_count": 12,
   "metadata": {
    "pycharm": {
     "name": "#%%\n"
    }
   },
   "outputs": [],
   "source": [
    "import seaborn as sns"
   ]
  },
  {
   "cell_type": "code",
   "execution_count": 14,
   "metadata": {
    "pycharm": {
     "name": "#%%\n"
    }
   },
   "outputs": [
    {
     "data": {
      "text/plain": [
       "<matplotlib.axes._subplots.AxesSubplot at 0x1506cdf0>"
      ]
     },
     "execution_count": 14,
     "metadata": {},
     "output_type": "execute_result"
    },
    {
     "data": {
      "image/png": "[encoded data removed]",
      "text/plain": [
       "<Figure size 432x288 with 1 Axes>"
      ]
     },
     "metadata": {
      "needs_background": "light"
     },
     "output_type": "display_data"
    }
   ],
   "source": [
    "sns.violinplot(x=df['QUARTER'],y=df['SHOOTING'], hue=df['YEAR'],split=True, palette='RdBu')"
   ]
  }
 ],
 "metadata": {
  "kernelspec": {
   "display_name": "Python 3",
   "language": "python",
   "name": "python3"
  },
  "language_info": {
   "codemirror_mode": {
    "name": "ipython",
    "version": 3
   },
   "file_extension": ".py",
   "mimetype": "text/x-python",
   "name": "python",
   "nbconvert_exporter": "python",
   "pygments_lexer": "ipython3",
   "version": "3.7.4"
  }
 },
 "nbformat": 4,
 "nbformat_minor": 2
}