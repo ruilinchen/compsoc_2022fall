{
 "cells": [
  {
   "cell_type": "markdown",
   "source": [
    "#### Task 1\n",
    "For each review included in the dataset, use `spacytextblob` and its inherent document-level scores to get the polarity score of the text. Create a violinplot with the x-axis being individual reviews' star rating, and the y-axis being the calculated polarity scores. Interpret the results."
   ],
   "metadata": {
    "collapsed": false,
    "pycharm": {
     "name": "#%% md\n"
    }
   }
  },
  {
   "cell_type": "code",
   "execution_count": 1,
   "metadata": {
    "collapsed": true,
    "pycharm": {
     "name": "#%%\n"
    }
   },
   "outputs": [],
   "source": [
    "import os\n",
    "import json\n",
    "import spacy\n",
    "from tqdm import tqdm\n",
    "import pandas as pd\n",
    "import seaborn as sns\n",
    "import numpy as np\n",
    "from scipy.spatial.distance import cosine\n",
    "nlp = spacy.load('en_core_web_sm')\n",
    "from spacytextblob.spacytextblob import SpacyTextBlob\n",
    "nlp.add_pipe('spacytextblob')\n",
    "\n",
    "os.chdir('/Users/heather/Desktop/compsoc/data')"
   ]
  },
  {
   "cell_type": "code",
   "execution_count": 2,
   "outputs": [
    {
     "name": "stderr",
     "output_type": "stream",
     "text": [
      "100%|██████████| 10000/10000 [04:48<00:00, 34.62it/s]\n"
     ]
    }
   ],
   "source": [
    "review_ids = []\n",
    "ratings = []\n",
    "polarity_scores = []\n",
    "subjective_scores = []\n",
    "subjective_phrases_by_doc = []\n",
    "review_list = []\n",
    "\n",
    "with open('yelp_academic_dataset_review_Nov2022_small.jsonl') as f:\n",
    "    line_index = 0\n",
    "    for line in tqdm(f, total=10000):\n",
    "        line_index += 1\n",
    "        review_dict = json.loads(line)\n",
    "        review_list.append(review_dict)\n",
    "\n",
    "        review_id = review_dict['review_id']\n",
    "        review = review_dict['text']\n",
    "        rating = review_dict['stars']\n",
    "\n",
    "        review_doc = nlp(review)\n",
    "        subjective_phrases_in_doc = []\n",
    "        polarity_score = 0\n",
    "        subjective_score = 0\n",
    "        for assess_tuple in review_doc._.blob.sentiment_assessments.assessments:\n",
    "            subjective_phrases_in_doc.append(' '.join(assess_tuple[0]))\n",
    "            polarity_score += assess_tuple[1]\n",
    "            subjective_score += assess_tuple[2]\n",
    "\n",
    "        review_ids.append(review_id)\n",
    "        ratings.append(rating)\n",
    "        polarity_scores.append(polarity_score)\n",
    "        subjective_scores.append(subjective_score)\n",
    "        subjective_phrases_by_doc.append(subjective_phrases_in_doc)"
   ],
   "metadata": {
    "collapsed": false,
    "pycharm": {
     "name": "#%%\n"
    }
   }
  },
  {
   "cell_type": "code",
   "execution_count": 3,
   "outputs": [
    {
     "name": "stderr",
     "output_type": "stream",
     "text": [
      "100%|██████████| 10000/10000 [00:00<00:00, 452733.47it/s]\n"
     ]
    }
   ],
   "source": [
    "review_texts = []\n",
    "\n",
    "for i in tqdm(range(len(review_list))):\n",
    "    review_texts.append(review_list[i][\"text\"])"
   ],
   "metadata": {
    "collapsed": false,
    "pycharm": {
     "name": "#%%\n"
    }
   }
  },
  {
   "cell_type": "code",
   "execution_count": 4,
   "outputs": [
    {
     "name": "stdout",
     "output_type": "stream",
     "text": [
      "                   review_id  rating  polarity_score  subjective_score  \\\n",
      "0     KU_O5udG6zpxOg-VcAEodg     3.0        1.023333          5.148333   \n",
      "1     BiTunyQ73aT9WBnpR9DZGw     5.0        4.425000          6.283333   \n",
      "2     saUsX_uimxRlCVr67Z4Jig     3.0        1.539286          5.745238   \n",
      "3     AqPFMleE6RsU23_auESxiA     5.0        2.420455          5.704545   \n",
      "4     Sx8TMOWLNuJBWer-0pcmoA     4.0        5.613571          6.872857   \n",
      "...                      ...     ...             ...               ...   \n",
      "9995  ZcBtCA9jGhLfakf1jJ2BAg     5.0        1.800000          1.875000   \n",
      "9996  UIkEO-10J6Y99IhRqUflvg     5.0        0.600000          0.900000   \n",
      "9997  S-NQM3Axcg8JS3MXHUIvyw     5.0        1.097727          6.900758   \n",
      "9998  ME79YrEhm2xe4IQy_0zkGw     5.0        2.812500          4.800000   \n",
      "9999  05oKtleZ-JFGD6qt47VQcg     2.0        1.319048          6.002381   \n",
      "\n",
      "                                     subjective_phrases  \\\n",
      "0     aware multiple ! other bad good very long very...   \n",
      "1     nice clean amazing top fit easy advanced many ...   \n",
      "2     large chicken fresh good mexican long friendly...   \n",
      "3     wow ! different delicious favorite different !...   \n",
      "4     cute great beautiful very good very really man...   \n",
      "...                                                 ...   \n",
      "9995                               excellent same great   \n",
      "9996                                            amazing   \n",
      "9997  outstanding ! great ! other new new bad ! extr...   \n",
      "9998  nice calm dimly red loved pretty ! great defin...   \n",
      "9999  big really happy accomplished super creepy sou...   \n",
      "\n",
      "                                            review_text  \n",
      "0     If you decide to eat here, just be aware it is...  \n",
      "1     I've taken a lot of spin classes over the year...  \n",
      "2     Family diner. Had the buffet. Eclectic assortm...  \n",
      "3     Wow!  Yummy, different,  delicious.   Our favo...  \n",
      "4     Cute interior and owner (?) gave us tour of up...  \n",
      "...                                                 ...  \n",
      "9995  Excellent food and service. The place is funct...  \n",
      "9996  Just about to get tucked into a meatloaf that ...  \n",
      "9997  Outstanding customer service! And my car is dr...  \n",
      "9998  I and my husband went here for Dinner one day ...  \n",
      "9999  I saw Big Data when they came to town at the K...  \n",
      "\n",
      "[10000 rows x 6 columns]\n"
     ]
    }
   ],
   "source": [
    "yelp_df = pd.DataFrame(columns=['review_id', 'rating', 'polarity_score', 'subjective_score', 'subjective_phrases'])\n",
    "yelp_df['review_id'] = review_ids\n",
    "yelp_df['rating'] = ratings\n",
    "yelp_df['polarity_score'] = polarity_scores\n",
    "yelp_df['subjective_score'] = subjective_scores\n",
    "yelp_df['review_text'] = review_texts\n",
    "yelp_df['subjective_phrases'] = [' '.join(item) for item in subjective_phrases_by_doc]\n",
    "print(yelp_df)"
   ],
   "metadata": {
    "collapsed": false,
    "pycharm": {
     "name": "#%%\n"
    }
   }
  },
  {
   "cell_type": "code",
   "execution_count": 5,
   "outputs": [
    {
     "data": {
      "text/plain": "<AxesSubplot:xlabel='rating', ylabel='polarity_score'>"
     },
     "execution_count": 5,
     "metadata": {},
     "output_type": "execute_result"
    },
    {
     "data": {
      "text/plain": "<Figure size 432x288 with 1 Axes>",
      "image/png": "[encoded data removed]"
     },
     "metadata": {
      "needs_background": "light"
     },
     "output_type": "display_data"
    }
   ],
   "source": [
    "sns.violinplot(data=yelp_df, x=\"rating\", y=\"polarity_score\")"
   ],
   "metadata": {
    "collapsed": false,
    "pycharm": {
     "name": "#%%\n"
    }
   }
  },
  {
   "cell_type": "markdown",
   "source": [
    "**Task 1 Conclusion**\n",
    "The violin plot shows that people who give higher ratings tend to have positive and higher polarity scores, meaning that they tend to use positive words in their ratings. For people with lower ratings, they tend to have lower and negative polarity scores, meaning that they often show negativity in their reviews."
   ],
   "metadata": {
    "collapsed": false,
    "pycharm": {
     "name": "#%% md\n"
    }
   }
  },
  {
   "cell_type": "markdown",
   "source": [
    "#### Task 2\n",
    "For each review included in the dataset, extract the subjective phrases in the text using  `spacytextblob` and its `sentiment_assessments.assessments` feature. Then, for each review whose review_id is in the following `target_review_ids` list, find the top 3 reviews that are most similar to it in terms of their subjective phrases.\n",
    "\n",
    "target_review_ids = [\"40thYphUgIfvJq17QCfTwA\", \"E9AB7V4z8xrt2uPF7T55FQ\", \"4PHFo_GRG4FEk1q4X7xQVQ\", \"4KpIldEM-tdnrJLqYzRfZQ\", \"PDHRlnEdkEcwATry4w71PQ\", \"meGaFP7yxQdjyABrYDVeoQ\", \"pgESDcC7eDx4z_epqon4_Q\", \"qeSxL-POvGLZD6aQ5O9kvw\"]\n",
    "\n",
    "Answer the following questions:\n",
    "\n",
    "For each of the target reviews, what are the top 3 reviews that are most similar to it in terms of their subjective phrases?\n",
    "What is the rating of each of the target reviews? What about the rating of their top 3 most similar reviews? Are they correlated? Interpret the results.\n",
    "Requirement:\n",
    "\n",
    "Use either spacy's word vector or the one-hot encoding method to get document-level word embeddings for the review text, which should be based only on the subjective phrases.\n",
    "Use these word embeddings and the cosine similarity metric to find similar texts."
   ],
   "metadata": {
    "collapsed": false,
    "pycharm": {
     "name": "#%% md\n"
    }
   }
  },
  {
   "cell_type": "code",
   "execution_count": 6,
   "outputs": [
    {
     "name": "stderr",
     "output_type": "stream",
     "text": [
      "100%|██████████| 10000/10000 [01:29<00:00, 111.90it/s]"
     ]
    },
    {
     "name": "stdout",
     "output_type": "stream",
     "text": [
      "['aware', 'multiple', 'other', 'bad', 'good', 'very', 'long', 'young', 'usually', 'pleasant', 'many', 'spend', 'nice', 'clean', 'amazing', 'top', 'fit', 'easy', 'advanced', 'evident', 'open', 'smile', 'large', 'chicken', 'fresh', 'mexican', 'friendly', 'attentive', 'casual', 'next', 'wow', 'different', 'delicious', 'favorite', 'outside', 'new', 'glad', 'cute', 'great', 'beautiful', 'really', 'much', 'like', 'more', 'such', 'fun', 'limit', 'frequent', 'busy', 'half', 'full', 'fuck', 'back', 'love', 'perfect', 'interesting', 'enjoy', 'highly', 'actually', 'french', 'first', 'second', 'strange', 'not', 'terribly', 'hard', 'center', 'amazingly', 'perfectly', 'definitely', 'hide', 'pretty', 'white', 'down', 'dead', 'green', 'dirty', 'several', 'quiet', 'kind', 'surprised', 'lively', 'wonderful', 'confirm', 'able', 'simple', 'confirmed', 'leave', 'later', 'small', 'important', 'completely', 'instantly', 'happy', 'mixed', 'slow', 'ridiculous', 'exactly', 'wrong', 'warm', 'soft', 'succeed', 'fail', 'hot', 'little', 'well', 'own', 'excellent', 'super', 'cheap', 'fluffy', 'tremendous', 'big', 'expensive', 'main', 'single', 'safe', 'only', 'sweet', 'thin', 'straight', 'absolute', 'black', 'right', 'actual', 'huge', 'popular', 'enough', 'central', 'excited', 'light', 'overall', 'no', 'red', 'typical', 'true', 'future', 'quick', 'naked', 'totally', 'decent', 'particularly', 'standard', 'consistently', 'low', 'healthy', 'fast', 'worth', 'awesome', 'authentic', 'mediocre', 'last', 'recently', 'pleased', 'quickly', 'appreciate', 'least', 'due', 'bright', 'apparent', 'direct', 'funny', 'phenomenal', 'few', 'relate', 'fix', 'free', 'outstanding', 'local', 'less', 'same', 'fabulous', 'disappointed', 'complimentary', 'false', 'sink', 'nicely', 'comfortable', 'courteous', 'blank', 'lol', 'behind', 'english', 'pretentious', 'obvious', 'available', 'fine', 'mid', 'brush', 'short', 'distant', 'spent', 'experience', 'left', 'welcome', 'genuine', 'classic', 'terrible', 'especially', 'rare', 'horrible', 'expect', 'impressed', 'live', 'impressive', 'happily', 'reasonably', 'sour', 'extra', 'sure', 'extremely', 'loved', 'all', 'around', 'cool', 'stellar', 'exciting', 'incredible', 'cold', 'stale', 'ok', 'game', 'apparently', 'late', 'miss', 'absolutely', 'past', 'want', 'sexy', 'key', 'old', 'never', 'reasonable', 'upper', 'finally', 'genuinely', 'dry', 'real', 'close', 'pleasantly', 'careful', 'wtf', 'lucky', 'captive', 'high', 'initial', 'luckily', 'special', 'thick', 'easily', 'satisfied', 'previous', 'necessarily', 'trouble', 'corporate', 'most', 'locally', 'offer', 'natural', 'whole', 'global', 'honestly', 'cheesy', 'classy', 'freshly', 'fill', 'impeccable', 'likely', 'personal', 'spectacular', 'plain', 'unable', 'awkwardly', 'rudely', 'total', 'sadly', 'weak', 'sharp', 'italian', 'unfortunately', 'beautifully', 'wonderfully', 'memorable', 'crazy', 'raw', 'superior', 'simply', 'seriously', 'stainless', 'various', 'incredibly', 'entire', 'surprising', 'prior', 'positive', 'above', 'regular', 'thank', 'surprisingly', 'mean', 'importantly', 'far', 'significantly', 'icky', 'peaceful', 'calm', 'rich', 'third', 'smart', 'fantastic', 'engage', 'insanely', 'talented', 'tiny', 'intimate', 'major', 'straightforward', 'professional', 'thrilled', 'mad', 'mess', 'nasty', 'attendant', 'fullly', 'impress', 'consistent', 'disappointing', 'properly', 'personally', 'sorry', 'near', 'exceptional', 'immensely', 'ideal', 'okay', 'trendy', 'early', 'lovely', 'brave', 'cow', 'follow', 'closed', 'numerous', 'afraid', 'usual', 'bold', 'normal', 'random', 'rude', 'disappoint', 'clearly', 'greek', 'tasteless', 'traditional', 'typically', 'gorgeous', 'weird', 'difficult', 'stretch', 'blue', 'strongly', 'drunk', 'annoying', 'unique', 'daily', 'enjoying', 'unusual', 'loud', 'flat', 'crisp', 'middle', 'experienced', 'willing', 'strong', 'hate', 'mostly', 'delightful', 'regularly', 'pregnant', 'honest', 'truthful', 'magical', 'complaint', 'vastly', 'cross', 'enthusiastic', 'passionate', 'mild', 'odd', 'amateur', 'entertain', 'fair', 'mildly', 'common', 'considerably', 'fairly', 'useless', 'detailed', 'obviously', 'messy', 'wet', 'asian', 'questionable', 'equal', 'annoyed', 'ready', 'tough', 'awful', 'broad', 'thoughtful', 'rarely', 'generic', 'necessary', 'legal', 'fly', 'average', 'fake', 'uninspired', 'outdate', 'pure', 'engaging', 'slightly', 'unnecessary', 'disturbing', 'poorly', 'disturb', 'unsettling', 'arrest', 'everyday', 'overwhelming', 'expected', 'smoothly', 'ten', 'clear', 'solid', 'general', 'haha', 'robotic', 'primary', 'superb', 'dimly', 'terrific', 'ill', 'impeccably', 'hardly', 'visual', 'nostalgic', 'thrill', 'creative', 'wide', 'yellow', 'badly', 'possible', 'constant', 'suck', 'secondly', 'sloppy', 'individual', 'adequately', 'secret', 'currently', 'waste', 'fixed', 'randomly', 'appealing', 'tired', 'potential', 'responsible', 'contemporary', 'splendid', 'chinese', 'enormous', 'needless', 'laughable', 'originally', 'military', 'modern', 'culinary', 'definite', 'enjoyable', 'precisely', 'bloody', 'japanese', 'awkward', 'cozy', 'mix', 'limited', 'reminiscent', 'double', 'crafty', 'artistic', 'grand', 'certain', 'd', 'particular', 'generally', 'poor', 'slowly', 'fluid', 'empty', 'final', 'charming', 'insane', 'countless', 'sick', 'american', 'sole', 'dark', 'utter', 'harsh', 'african', 'unbelievable', 'private', 'unfortunate', 'moron', 'mindless', 'gross', 'independent', 'appreciated', 'disgusting', 'sound', 'wise', 'try', 'extreme', 'massive', 'original', 'sensitive', 'bland', 'blatantly', 'lame', 'excuse', 'commercial', 'filled', 'decently', 'tight', 'dangerous', 'urban', 'human', 'normally', 'unhappy', 'certainly', 'moderately', 'complain', 'adorable', 'recent', 'addictive', 'international', 'hidden', 'alcoholic', 'giant', 'impossible', 'romantic', 'shock', 'objectively', 'base', 'negative', 'undeserved', 'appetizing', 'guilty', 'heavy', 'dazzle', 'nearly', 'appropriately', 'exceptionally', 'respectable', 'break', 'curious', 'priceless', 'round', 'shy', 'specific', 'disappointment', 'possibly', 'angry', 'blast', 'creepy', 'adult', 'minimal', 'start', 'shady', 'cheerful', 'complex', 'loudly', 'skeptical', 'depressing', 'active', 'seasoned', 'freely', 'elegant', 'creatively', 'laugh', 'basic', 'frustrating', 'mere', 'casually', 'stumble', 'suddenly', 'centrally', 'equally', 'technical', 'alarming', 'proper', 'lastly', 'refreshing', 'captivate', 'sucker', 'dumb', 'positively', 'public', 'extensive', 'subtly', 'happiness', 'former', 'wild', 'incompetent', 'mark', 'educational', 'ordinary', 'season', 'pathetic', 'frustrated', 'previously', 'drag', 'bitter', 'energetic', 'sad', 'outrageous', 'worst', 'attractive', 'mainly', 'notable', 'aforementione', 'frequently', 'loyal', 'sudden', 'support', 'dull', 'vaguely', 'barely', 'dim', 'minor', 'legendary', 'relatively', 'silly', 'utterly', 'forgettable', 'brief', 'complete', 'sheer', 'fitting', 'astounding', 'kill', 'modest', 'cutting', 'cut', 'greatly', 'enjoyed', 'southern', 'painful', 'newly', 'force', 'female', 'male', 'delicate', 'lousy', 'endless', 'finely', 'merely', 'fatty', 'primarily', 'largely', 'twist', 'extraordinary', 'surprise', 'mediocrity', 'appalling', 'cacophonous', 'familiar', 'peppery', 'latter', 'occasionally', 'elaborate', 'faint', 'anxiously', 'delicately', 'rose', 'similar', 'unbelievably', 'shortly', 'fucking', 'politically', 'spanish', 'entertaining', 'unpleasant', 'ridiculously', 'twisted', 'unexpected', 'miserable', 'exact', 'success', 'loving', 'mighty', 'remarkable', 'significant', 'confuse', 'dusty', 'social', 'potentially', 'loosely', 'duh', 'minus', 'opposite', 'uncomfortable', 'famous', 'lightly', 'political', 'harshly', 'toilet', 'moderate', 'comically', 'blindly', 'shocked', 'instant', 'missing', 'exotic', 'successfully', 'ala', 'fanatic', 'satisfying', 'precious', 'partial', 'annoy', 'delightfully', 'constantly', 'professionally', 'following', 'uneven', 'abundant', 'directly', 'muzak', 'gentle', 'comical', 'occasional', 'present', 'physically', 'realistic', 'retarded', 'confused', 'conscious', 'individually', 'arduous', 'blonde', 'ugly', 'joy', 'desperately', 'redeem', 'digital', 'internal', 'pink', 'notch', 'hugely', 'ironic', 'boring', 'inventive', 'exquisite', 'entirely', 'grief', 'unimportant', 'outraged', 'smooth', 'german', 'interested', 'act', 'elementary', 'adequate', 'bass', 'excite', 'blind', 'attentively', 'edgy', 'obsess', 'awesomely', 'metaphorical', 'unnecessarily', 'absence', 'approach', 'deep', 'courteously', 'ultimately', 'intriguing', 'historical', 'horribly', 'unhealthy', 'crap', 'solidly', 'sophisticated', 'civilized', 'rise', 'competent', 'over', 'the', 'effectively', 'accurately', 'plainly', 'serious', 'vibrant', 'colorful', 'parade', 'similarly', 'stark', 'develop', 'limp', 'medical', 'filthy', 'shockingly', 'disgust', 'crush', 'current', 'shaky', 'touch', 'facial', 'elegantly', 'satisfy', 'appropriate', 'fortunately', 'win', 'hit', 'and', 'catch', 'readily', 'promise', 'sinister', 'proud', 'lonely', 'mod', 'celebrate', 'worthy', 'gimmicky', 'essentially', 'innovative', 'flawless', 'sincere', 'lush', 'challenge', 'coma', 'wooden', 'comfortably', 'stunning', 'marvelous', 'fittingly', 'outrageously', 'sloppily', 'vacuum', 'supportive', 'critical', 'simplistic', 'dainty', 'russian', 'differently', 'frightening', 'physical', 'horrific', 'fourth', 'initially', 'gently', 'successful', 'jammed', 'british', 'catholic', 'shit', 'chilly', 'adventurous', 'refreshingly', 'agile', 'refresh', 'deluxe', 'magic', 'humanly', 'striking', 'hated', 'coarse', 'excellently', 'brilliantly', 'irish', 'cushy', 'musical', 'gifted', 'wants', 'wealthy', 'carefully', 'please', 'economical', 'loose', 'firm', 'rough', 'seamless', 'irritating', 'stupid', 'brutally', 'cry', 'bore', 'surely', 'grey', 'steadily', 'suitable', 'confident', 'optimum', 'faintly', 'respectively', 'beloved', 'gladly', 'avid', 'yarn', 'delighted', 'hysterically', 'touching', 'deplorable', 'appal', 'subtle', 'lazy', 'wan', 'secondary', 'daze', 'scathing', 'jail', 'intelligent', 'aww', 'reputable', 'purely', 'awfully', 'clever', 'freestande', 'deliciously', 'higher', 'absurdly', 'sincerely', 'domestic', 'uncommon', 'hilarious', 'mannerly', 'regret', 'wildly', 'unlikely', 'historic', 'vital', 'formerly', 'respective', 'golden', 'apt', 'crooked', 'crook', 'aged', 'forgetful', 'desperate', 'impatient', 'emotionally', 'wary', 'cast', 'iron', 'technically', 'lately', 'confusing', 'thoughtfully', 'unknown', 'selfish', 'complicated', 'scary', 'idiotic', 'secure', 'miserably', 'brilliant', 'western', 'tightly', 'cheery', 'lesser', 'numb', 'slight', 'worthwhile', 'jewish', 'smaller', 'christian', 'fortunate', 'intense', 'bizarre', 'stylish', 'masculine', 'justify', 'evidently', 'alive', 'narrow', 'roughly', 'extraordinarily', 'inexplicably', 'absurd', 'action', 'external', 'respectful', 'idiot', 'capable', 'sober', 'epic', 'fluff', 'mouth', 'water', 'accurate', 'wisely', 'indie', 'strike', 'inconvenient', 'firstly', 'marry', 'partially', 'evil', 'handy', 'essential', 'oddly', 'unexpectedly', 'destroy', 'approximately', 'exhaust', 'unusually', 'insecure', 'heavily', 'insulting', 'stereotyped', 'prominent', 'starting', 'visually', 'appeal', 'distasteful', 'breathtake', 'historically', 'frustrate', 'vague', 'tragic', 'become', 'warmly', 'mature', 'cheaply', 'smiled', 'foreign', 'quirky', 'briefly', 'independently', 'subsequent', 'useful', 'heartfelt', 'accessible', 'adorably', 'broken', 'ingenious', 'appreciative', 'remotely', 'unprocessed', 'uniquely', 'negatively', 'financially', 'brightly', 'potent', 'bare', 'disgusted', 'tame', 'skilled', 'subject', 'failure', 'fascinating', 'inexperienced', 'married', 'iconic', 'winning', 'pity', 'seizure', 'atrocious', 'australian', 'tidy', 'pale', 'cheerfully', 'silent', 'steady', 'scum', 'unaware', 'humorous', 'thinly', 'unpleasantly', 'dramatic', 'hollow', 'teen', 'monkey', 'commonly', 'poetic', 'humble', 'magnificent', 'obsessed', 'concrete', 'kindly', 'strangely', 'compelling', 'surreal', 'crisply', 'distinct', 'quietly', 'careless', 'internationally', 'outdated', 'traditionally', 'disgustingly', 'slip', 'sentimental', 'victim', 'gay', 'mental', 'mesmerizing', 'spiritual', 'stereotypical', 'remarkably', 'stiff', 'suitably', 'alas', 'centric', 'anxious', 'shocking', 'ruin', 'excessively', 'elaborately', 'alternate', 'spirited', 'needlessly', 'worthless', 'worse', 'specially', 'dynamic', 'bored', 'sup', 'imaginative', 'handsome', 'soundly', 'lovingly', 'impossibly', 'abruptly', 'fearful', 'moral', 'rank', 'drown', 'hearte', 'vast', 'insult', 'cultural', 'beefy', 'cleverly', 'unrealistic', 'amateurish', 'uncomfortably', 'trap', 'laughably', 'annoyingly', 'pointless', 'artificial', 'imitation', 'painfully', 'stupidly', 'effective', 'chilling', 'further', 'addicted', 'nameless', 'ultimate', 'spectacularly', 'infatuate', 'chill', 'calmly', 'inevitable', 'deeply', 'sympathetic', 'fragile', 'relative', 'larger', 'raucous', 'exquisitely', 'european', 'vulgar', 'inexperience', 'marked', 'universal', 'offers', 'dishonest', 'hahaha', 'alien', 'martial', 'inspiring', 'gorgeously', 'stylishly', 'emotional', 'interest', 'naturally', 'unpredictable', 'blankly', 'sensational', 'convincing', 'precise', 'financial', 'breathtaking', 'measly', 'decrease', 'crushed', 'religiously', 'rural', 'sec', 'whimsical', 'amusing', 'endlessly', 'impatiently', 'religious', 'basicly', 'infuriate', 'arbitrarily', 'mysteriously', 'weirdly', 'objective', 'absorb', 'slipping', 'actively', 'doubly', 'grim', 'imperceptible', 'cleanly', 'veteran', 'distinctly', 'allegedly', 'firmly', 'notably', 'modestly', 'disabled', 'justified', 'eccentric', 'addict', 'attractively', 'bogge', 'vivid', 'irritate', 'frigid', 'solicitous', 'sham', 'comic', 'muggy', 'charitable', 'charm', 'perplexed', 'unappeale', 'charismatic', 'dreadful', 'complained', 'overboard', 'dangerously', 'tremendously', 'liked', 'endear', 'psychologically', 'startlingly', 'complicate', 'exhausted', 'magically', 'infamous', 'jam', 'suburban', 'logical', 'memorably', 'uninterrupted', 'promising', 'fabulously', 'excessive', 'dislike', 'mentally', 'ordinarily', 'intrigue', 'respectfully', 'retard', 'openly', 'deft', 'vibrantly', 'seamlessly', 'reward', 'meaningful', 'challenging', 'consciously', 'forced', 'curiously', 'illegal', 'inner', 'effing', 'violent', 'graphic', 'blasted', 'misplace', 'horrify', 'delight', 'wonky', 'acquaint', 'lifelong', 'proudly', 'haphazardly', 'aptly', 'imbecile', 'redeeming', 'masterfully', 'noble', 'shoddy', 'falsely', 'publicly', 'atypical', 'phenomenally', 'grossly', 'exuberant', 'icy', 'aghast', 'suffer', 'sickening', 'witty', 'age', 'abrupt', 'softly', 'spontaneously', 'remote', 'spontaneous', 'theoretically', 'banal', 'literary', 'secondhand', 'breathtakingly', 'sarcastic', 'mathematically', 'criminal', 'strut', 'deadly', 'disastrous', 'wacky', 'minimally', 'tense', 'bodied', 'shallow', 'bigger', 'coherent', 'identifiable', 'stun', 'uncooked', 'colossal', 'stink', 'corrupt', 'mysterious', 'goofy', 'repetitive', 'teenage', 'acting', 'destructive', 'internally', 'brutal', 'c', 'talente', 'extensively', 'adept', 'stupidity', 'relevant', 'eerie', 'cynical', 'inspire', 'characteristic', 'unanswered', 'conceivable', 'appetizingly', 'wateringly', 'churn', 'amenable', 'failed', 'choppy', 'irrelevant', 'appetize', 'gargantuan', 'norwegian', 'innocent', 'crucial', 'cheerily', 'commercially', 'astound', 'masterful', 'adamant', 'net', 'crying', 'deserve', 'becoming', 'vulnerable', 'bleak', 'alarmingly', 'unappetize', 'legally', 'overwhelm', 'greater', 'classical', 'widely', 'unnoticed', 'detail', 'older', 'credible', 'loser', 'mesmerize', 'unappetizing', 'stab', 'related', 'outstandingly', 'hand', 'hold', 'prove', 'gritty', 'intensely', 'unforgettable', 'considerable', 'artificially', 'disappointingly', 'watering', 'greatest', 'depress', 'deserving', 'minded', 'lovable', 'redundant', 'cruel', 'cardiac', 'concise', 'shoddily', 'appalled', 'stiffly', 'ideally', 'experimental', 'safely', 'feverishly', 'overwhelmingly', 'prettily', 'autistic', 'sicken', 'unfair', 'superbly', 'exhausting', 'accomplished']\n"
     ]
    },
    {
     "name": "stderr",
     "output_type": "stream",
     "text": [
      "\n"
     ]
    }
   ],
   "source": [
    "#Create tokenized vocabulary list for all reviews\n",
    "vocab_dict = {}\n",
    "for i in tqdm(range(len(yelp_df))):\n",
    "    reviews = yelp_df.loc[i, 'subjective_phrases']\n",
    "    for token in nlp(reviews):\n",
    "        if token.is_alpha:\n",
    "            vocab_dict[token.lemma_.lower()] = vocab_dict.get(token.lemma_.lower(), 0) + 1\n",
    "\n",
    "vocabulary_list = list(vocab_dict.keys())\n",
    "print(vocabulary_list)"
   ],
   "metadata": {
    "collapsed": false,
    "pycharm": {
     "name": "#%%\n"
    }
   }
  },
  {
   "cell_type": "code",
   "execution_count": 7,
   "outputs": [
    {
     "name": "stdout",
     "output_type": "stream",
     "text": [
      "   index               review_id  rating  polarity_score  subjective_score  \\\n",
      "0     32  40thYphUgIfvJq17QCfTwA     5.0        2.166667          3.350000   \n",
      "1     39  E9AB7V4z8xrt2uPF7T55FQ     5.0        1.660000          2.490000   \n",
      "2     66  4KpIldEM-tdnrJLqYzRfZQ     5.0        3.250000          5.550000   \n",
      "3     73  PDHRlnEdkEcwATry4w71PQ     1.0       -0.864286          3.557143   \n",
      "4     84  meGaFP7yxQdjyABrYDVeoQ     1.0       -0.233333          2.216667   \n",
      "5     96  4PHFo_GRG4FEk1q4X7xQVQ     5.0        2.744697          8.354545   \n",
      "6    347  qeSxL-POvGLZD6aQ5O9kvw     1.0        3.271825         32.216270   \n",
      "7    424  pgESDcC7eDx4z_epqon4_Q     1.0        2.443333          4.696667   \n",
      "\n",
      "                                  subjective_phrases  \\\n",
      "0                              great nice clean huge   \n",
      "1                    amazing blank great highly busy   \n",
      "2  only awesome ! freshly filled phenomenal sweet...   \n",
      "3  plain unable back actual back awkwardly next b...   \n",
      "4                             seriously chicken good   \n",
      "5  great ! ! ! ! ! ! ! ! ! completely new other b...   \n",
      "6  rarely honestly worst objectively horrible nic...   \n",
      "7  half completely top surprised sweet very good ...   \n",
      "\n",
      "                                         review_text  \n",
      "0  Great staff always helps and always nice. Alwa...  \n",
      "1  Amazing biscuits and (fill in the blank). Grea...  \n",
      "2  I've only had the cannolis here but they are a...  \n",
      "3  If I could give it a zero, I would. I order a ...  \n",
      "4  Skip this train wreck if you are looking for d...  \n",
      "5  A GREAT EXPERIENCE!!!!!!!!!  I was a completel...  \n",
      "6  --------DINNER REVIEW----------\\n\\nI rarely wr...  \n",
      "7  Came for all-you-can-eat, and ended up waiting...  \n"
     ]
    }
   ],
   "source": [
    "#Get the target review ids indexes\n",
    "target_review_ids = ['40thYphUgIfvJq17QCfTwA', 'E9AB7V4z8xrt2uPF7T55FQ', '4PHFo_GRG4FEk1q4X7xQVQ', '4KpIldEM-tdnrJLqYzRfZQ', 'PDHRlnEdkEcwATry4w71PQ', 'meGaFP7yxQdjyABrYDVeoQ', 'pgESDcC7eDx4z_epqon4_Q', 'qeSxL-POvGLZD6aQ5O9kvw']\n",
    "target_yelp = yelp_df.loc[yelp_df['review_id'].isin(target_review_ids)].reset_index()\n",
    "print(target_yelp)"
   ],
   "metadata": {
    "collapsed": false,
    "pycharm": {
     "name": "#%%\n"
    }
   }
  },
  {
   "cell_type": "code",
   "execution_count": 8,
   "outputs": [
    {
     "name": "stderr",
     "output_type": "stream",
     "text": [
      "100%|██████████| 10000/10000 [01:32<00:00, 107.96it/s]\n"
     ]
    }
   ],
   "source": [
    "#Use the one-hot encoding\n",
    "one_hot_encodings = []\n",
    "\n",
    "for i in tqdm(range(len(yelp_df))):\n",
    "    review_phrases = yelp_df.loc[i, 'subjective_phrases']\n",
    "    token_indices = []\n",
    "\n",
    "    for token in nlp(review_phrases):\n",
    "        if token.is_alpha:\n",
    "            token_index_in_vocab = vocabulary_list.index(token.lemma_.lower())\n",
    "            token_indices.append(token_index_in_vocab)\n",
    "\n",
    "    one_hot_encoding = np.zeros(len(vocabulary_list))\n",
    "    for token_index in token_indices:\n",
    "        one_hot_encoding[token_index] = 1\n",
    "\n",
    "    one_hot_encodings.append(one_hot_encoding)"
   ],
   "metadata": {
    "collapsed": false,
    "pycharm": {
     "name": "#%%\n"
    }
   }
  },
  {
   "cell_type": "code",
   "execution_count": 9,
   "outputs": [],
   "source": [
    "target_indices = list(target_yelp['index'])\n",
    "target_encodings = []\n",
    "rest_of_encodings = []\n",
    "\n",
    "for i in range(len(yelp_df)):\n",
    "    if i in target_indices:\n",
    "        target_encodings.append(one_hot_encodings[i])\n",
    "    else:\n",
    "        rest_of_encodings.append(one_hot_encodings[i])"
   ],
   "metadata": {
    "collapsed": false,
    "pycharm": {
     "name": "#%%\n"
    }
   }
  },
  {
   "cell_type": "code",
   "execution_count": 10,
   "outputs": [
    {
     "name": "stdout",
     "output_type": "stream",
     "text": [
      "      index               review_id  rating  polarity_score  subjective_score  \\\n",
      "0         0  KU_O5udG6zpxOg-VcAEodg     3.0        1.023333          5.148333   \n",
      "1         1  BiTunyQ73aT9WBnpR9DZGw     5.0        4.425000          6.283333   \n",
      "2         2  saUsX_uimxRlCVr67Z4Jig     3.0        1.539286          5.745238   \n",
      "3         3  AqPFMleE6RsU23_auESxiA     5.0        2.420455          5.704545   \n",
      "4         4  Sx8TMOWLNuJBWer-0pcmoA     4.0        5.613571          6.872857   \n",
      "...     ...                     ...     ...             ...               ...   \n",
      "9987   9995  ZcBtCA9jGhLfakf1jJ2BAg     5.0        1.800000          1.875000   \n",
      "9988   9996  UIkEO-10J6Y99IhRqUflvg     5.0        0.600000          0.900000   \n",
      "9989   9997  S-NQM3Axcg8JS3MXHUIvyw     5.0        1.097727          6.900758   \n",
      "9990   9998  ME79YrEhm2xe4IQy_0zkGw     5.0        2.812500          4.800000   \n",
      "9991   9999  05oKtleZ-JFGD6qt47VQcg     2.0        1.319048          6.002381   \n",
      "\n",
      "                                     subjective_phrases  \\\n",
      "0     aware multiple ! other bad good very long very...   \n",
      "1     nice clean amazing top fit easy advanced many ...   \n",
      "2     large chicken fresh good mexican long friendly...   \n",
      "3     wow ! different delicious favorite different !...   \n",
      "4     cute great beautiful very good very really man...   \n",
      "...                                                 ...   \n",
      "9987                               excellent same great   \n",
      "9988                                            amazing   \n",
      "9989  outstanding ! great ! other new new bad ! extr...   \n",
      "9990  nice calm dimly red loved pretty ! great defin...   \n",
      "9991  big really happy accomplished super creepy sou...   \n",
      "\n",
      "                                            review_text  \n",
      "0     If you decide to eat here, just be aware it is...  \n",
      "1     I've taken a lot of spin classes over the year...  \n",
      "2     Family diner. Had the buffet. Eclectic assortm...  \n",
      "3     Wow!  Yummy, different,  delicious.   Our favo...  \n",
      "4     Cute interior and owner (?) gave us tour of up...  \n",
      "...                                                 ...  \n",
      "9987  Excellent food and service. The place is funct...  \n",
      "9988  Just about to get tucked into a meatloaf that ...  \n",
      "9989  Outstanding customer service! And my car is dr...  \n",
      "9990  I and my husband went here for Dinner one day ...  \n",
      "9991  I saw Big Data when they came to town at the K...  \n",
      "\n",
      "[9992 rows x 7 columns]\n"
     ]
    }
   ],
   "source": [
    "#Get all other reviews other than the targeted ones\n",
    "other_yelp = yelp_df.loc[~yelp_df['review_id'].isin(target_review_ids)].reset_index()\n",
    "print(other_yelp)"
   ],
   "metadata": {
    "collapsed": false,
    "pycharm": {
     "name": "#%%\n"
    }
   }
  },
  {
   "cell_type": "code",
   "execution_count": 11,
   "outputs": [
    {
     "name": "stderr",
     "output_type": "stream",
     "text": [
      "/Users/heather/opt/anaconda3/envs/compsoc/lib/python3.8/site-packages/scipy/spatial/distance.py:620: RuntimeWarning: invalid value encountered in double_scalars\n",
      "  dist = 1.0 - uv / np.sqrt(uu * vv)\n"
     ]
    },
    {
     "name": "stdout",
     "output_type": "stream",
     "text": [
      "targeted review subjective phrases:  great nice clean huge\n",
      "targeted review rating:  5.0\n",
      "                   review_id                      subjective_phrases  rating  \\\n",
      "6801  rd-SxP6QX4G9bQMvf8h6Tw         great really nice super clean !     5.0   \n",
      "8543  8u0OyLwKV4TCCglGkzIVVA            great little worth nice huge     4.0   \n",
      "1041  pEwlvpFtLSoYok1i9F0Tew  nice really nice ! great awesome clean     4.0   \n",
      "\n",
      "      similarity_value_with_one_hot  \n",
      "6801                        0.67082  \n",
      "8543                        0.67082  \n",
      "1041                        0.67082   \n",
      "\n"
     ]
    },
    {
     "name": "stderr",
     "output_type": "stream",
     "text": [
      "/Users/heather/opt/anaconda3/envs/compsoc/lib/python3.8/site-packages/scipy/spatial/distance.py:620: RuntimeWarning: invalid value encountered in double_scalars\n",
      "  dist = 1.0 - uv / np.sqrt(uu * vv)\n"
     ]
    },
    {
     "name": "stdout",
     "output_type": "stream",
     "text": [
      "targeted review subjective phrases:  amazing blank great highly busy\n",
      "targeted review rating:  5.0\n",
      "                   review_id subjective_phrases  rating  \\\n",
      "4650  oa3MfdQvCz_BoU0UXVEDlw      great amazing     5.0   \n",
      "4321  CaWB7BQPGXUli37SH9ks6g      great amazing     5.0   \n",
      "8810  Q2SEocOLQXckCTxCCLpr8Q    great amazing !     5.0   \n",
      "\n",
      "      similarity_value_with_one_hot  \n",
      "4650                       0.632456  \n",
      "4321                       0.632456  \n",
      "8810                       0.632456   \n",
      "\n"
     ]
    },
    {
     "name": "stderr",
     "output_type": "stream",
     "text": [
      "/Users/heather/opt/anaconda3/envs/compsoc/lib/python3.8/site-packages/scipy/spatial/distance.py:620: RuntimeWarning: invalid value encountered in double_scalars\n",
      "  dist = 1.0 - uv / np.sqrt(uu * vv)\n"
     ]
    },
    {
     "name": "stdout",
     "output_type": "stream",
     "text": [
      "targeted review subjective phrases:  only awesome ! freshly filled phenomenal sweet perfect definitely\n",
      "targeted review rating:  5.0\n",
      "                   review_id  \\\n",
      "8264  AlPGnDHtaE2Kf8Kk6Dtbig   \n",
      "7523  2QLcXtfzQCBv0j7gbI_T7g   \n",
      "5024  X0A_5FDCK2mnGF5rHjQ3Ng   \n",
      "\n",
      "                                     subjective_phrases  rating  \\\n",
      "8264                                 awesome phenomenal     4.0   \n",
      "7523  best freshly artificial sour real best only la...     4.0   \n",
      "5024     only delicious perfect very overall definitely     5.0   \n",
      "\n",
      "      similarity_value_with_one_hot  \n",
      "8264                       0.500000  \n",
      "7523                       0.456435  \n",
      "5024                       0.433013   \n",
      "\n"
     ]
    },
    {
     "name": "stderr",
     "output_type": "stream",
     "text": [
      "/Users/heather/opt/anaconda3/envs/compsoc/lib/python3.8/site-packages/scipy/spatial/distance.py:620: RuntimeWarning: invalid value encountered in double_scalars\n",
      "  dist = 1.0 - uv / np.sqrt(uu * vv)\n"
     ]
    },
    {
     "name": "stdout",
     "output_type": "stream",
     "text": [
      "targeted review subjective phrases:  plain unable back actual back awkwardly next back rudely back nice !\n",
      "targeted review rating:  1.0\n",
      "                   review_id                            subjective_phrases  \\\n",
      "9154  43Bc6ufpZZd5L7BcvcXDlg  pleasantly surprised nice next back ! good !   \n",
      "292   NzvlG7XNjk5cKaCPtZa-eA               best clean nice grand next back   \n",
      "3577  88BzbGaEJjnDmZp_jfq-GA                             great back next !   \n",
      "\n",
      "      rating  similarity_value_with_one_hot  \n",
      "9154     4.0                       0.433013  \n",
      "292      5.0                       0.433013  \n",
      "3577     5.0                       0.408248   \n",
      "\n"
     ]
    },
    {
     "name": "stderr",
     "output_type": "stream",
     "text": [
      "/Users/heather/opt/anaconda3/envs/compsoc/lib/python3.8/site-packages/scipy/spatial/distance.py:620: RuntimeWarning: invalid value encountered in double_scalars\n",
      "  dist = 1.0 - uv / np.sqrt(uu * vv)\n"
     ]
    },
    {
     "name": "stdout",
     "output_type": "stream",
     "text": [
      "targeted review subjective phrases:  seriously chicken good\n",
      "targeted review rating:  1.0\n",
      "                   review_id              subjective_phrases  rating  \\\n",
      "1037  WJeFbLeLzDyUIqHa2zlrMw  best chicken chicken good good     5.0   \n",
      "9656  8_8KAZeevPUES_p20mo6GQ              best ! chicken top     5.0   \n",
      "3252  MwViosFJI_DGKbKt-7qVFg     best original ! seriously !     5.0   \n",
      "\n",
      "      similarity_value_with_one_hot  \n",
      "1037                       0.816497  \n",
      "9656                       0.666667  \n",
      "3252                       0.666667   \n",
      "\n"
     ]
    },
    {
     "name": "stderr",
     "output_type": "stream",
     "text": [
      "/Users/heather/opt/anaconda3/envs/compsoc/lib/python3.8/site-packages/scipy/spatial/distance.py:620: RuntimeWarning: invalid value encountered in double_scalars\n",
      "  dist = 1.0 - uv / np.sqrt(uu * vv)\n"
     ]
    },
    {
     "name": "stdout",
     "output_type": "stream",
     "text": [
      "targeted review subjective phrases:  great ! ! ! ! ! ! ! ! ! completely new other busy total much better many other free only major easily future very friendly straightforward overall less ! ! ! ! ! ! ! ! ! !\n",
      "targeted review rating:  5.0\n",
      "                   review_id  \\\n",
      "7723  52phbw4zW9_EEaU_q9c3bQ   \n",
      "869   68gtY300yDEp4Frpa3NO7A   \n",
      "2323  xP34Liue5plDCf59FPvchA   \n",
      "\n",
      "                                     subjective_phrases  rating  \\\n",
      "7723     very disappointed only ok many other great new     2.0   \n",
      "869   very friendly great very great overall great g...     5.0   \n",
      "2323                         great great only much many     5.0   \n",
      "\n",
      "      similarity_value_with_one_hot  \n",
      "7723                       0.486664  \n",
      "869                        0.458831  \n",
      "2323                       0.458831   \n",
      "\n"
     ]
    },
    {
     "name": "stderr",
     "output_type": "stream",
     "text": [
      "/Users/heather/opt/anaconda3/envs/compsoc/lib/python3.8/site-packages/scipy/spatial/distance.py:620: RuntimeWarning: invalid value encountered in double_scalars\n",
      "  dist = 1.0 - uv / np.sqrt(uu * vv)\n"
     ]
    },
    {
     "name": "stdout",
     "output_type": "stream",
     "text": [
      "targeted review subjective phrases:  rarely honestly worst objectively horrible nice short bad normal super busy pretty standard french right next next base pretty no much excuse long good ! center other more long down back multiple finally pretty pretty mediocre other amazing really good bland mess left 8) nice trendy huge absolutely really love cool popular great hate such negative especially awful undeserved\n",
      "targeted review rating:  1.0\n",
      "                   review_id  \\\n",
      "9396  nq1fiAgbmKaxb8bktZNphw   \n",
      "3593  LKXD9GUeSrlSAChRVA2E4g   \n",
      "863   RZq-EioVPJpBgwbN2aFmVw   \n",
      "\n",
      "                                     subjective_phrases  rating  \\\n",
      "9396  great huge great cool love cool absolutely no ...     4.0   \n",
      "3593  back more love long excited many good few real...     3.0   \n",
      "863   happy ! good good very friendly fun ! exactly ...     5.0   \n",
      "\n",
      "      similarity_value_with_one_hot  \n",
      "9396                       0.415139  \n",
      "3593                       0.378188  \n",
      "863                        0.373182   \n",
      "\n"
     ]
    },
    {
     "name": "stderr",
     "output_type": "stream",
     "text": [
      "/Users/heather/opt/anaconda3/envs/compsoc/lib/python3.8/site-packages/scipy/spatial/distance.py:620: RuntimeWarning: invalid value encountered in double_scalars\n",
      "  dist = 1.0 - uv / np.sqrt(uu * vv)\n"
     ]
    },
    {
     "name": "stdout",
     "output_type": "stream",
     "text": [
      "targeted review subjective phrases:  half completely top surprised sweet very good bright actually long\n",
      "targeted review rating:  1.0\n",
      "                   review_id  \\\n",
      "7648  HR4xC80wL__0FLftDvB7aA   \n",
      "8087  JqHC7048Br6XyaljQQy10w   \n",
      "637   N6yfnUjRQb5T29E45Dy0AQ   \n",
      "\n",
      "                                     subjective_phrases  rating  \\\n",
      "7648  very ! good ! long not busy half other great b...     5.0   \n",
      "8087                                          very good     5.0   \n",
      "637                                      best very good     4.0   \n",
      "\n",
      "      similarity_value_with_one_hot  \n",
      "7648                       0.476731  \n",
      "8087                       0.447214  \n",
      "637                        0.447214   \n",
      "\n"
     ]
    }
   ],
   "source": [
    "#Calculate the similar values\n",
    "target_1 = target_yelp.loc[0, 'review_text']\n",
    "\n",
    "for m in range(len(target_encodings)):\n",
    "    target_encoding = target_encodings[m]\n",
    "    target_subjective_phrases = target_yelp.loc[m, 'subjective_phrases']\n",
    "    target_ratings = target_yelp.loc[m, 'rating']\n",
    "    similarity_values = []\n",
    "    for i in range(len(rest_of_encodings)):\n",
    "        similarity_value = 1 - cosine(target_encodings[m], rest_of_encodings[i])\n",
    "        similarity_values.append(similarity_value)\n",
    "    #write code on finding top 3\n",
    "\n",
    "    print(\"targeted review subjective phrases: \", target_subjective_phrases)\n",
    "    print(\"targeted review rating: \", target_ratings)\n",
    "\n",
    "    similar_df = pd.DataFrame(columns=['review_id', 'subjective_phrases', 'rating', 'similarity_value_with_one_hot'])\n",
    "    similar_df['review_id'] = other_yelp['review_id']\n",
    "    similar_df['subjective_phrases'] = other_yelp['subjective_phrases']\n",
    "    similar_df['rating'] = other_yelp['rating']\n",
    "    similar_df['similarity_value_with_one_hot'] = similarity_values\n",
    "    cleaned_similar = similar_df.loc[similar_df['subjective_phrases'].str.len() > 0]\n",
    "    cleaned_similar = cleaned_similar.sort_values(by='similarity_value_with_one_hot', ascending=False)\n",
    "    print(cleaned_similar.head(3), \"\\n\")"
   ],
   "metadata": {
    "collapsed": false,
    "pycharm": {
     "name": "#%%\n"
    }
   }
  },
  {
   "cell_type": "markdown",
   "source": [
    "**Task 3 Conclusion**\n",
    "1. 3 top review ids that are most similar with target reviews and their ratings:\n",
    "    - '40thYphUgIfvJq17QCfTwA'/5.0 -- [rd-SxP6QX4G9bQMvf8h6Tw--5.0, 8u0OyLwKV4TCCglGkzIVVA--4.0, pEwlvpFtLSoYok1i9F0Tew--4.0]\n",
    "    - 'E9AB7V4z8xrt2uPF7T55FQ'/5.0 -- [oa3MfdQvCz_BoU0UXVEDlw--5.0, CaWB7BQPGXUli37SH9ks6g--5.0, Q2SEocOLQXckCTxCCLpr8Q--5.0]\n",
    "    - '4PHFo_GRG4FEk1q4X7xQVQ'/5.0 -- [AlPGnDHtaE2Kf8Kk6Dtbig--4.0, 2QLcXtfzQCBv0j7gbI_T7g--4.0, X0A_5FDCK2mnGF5rHjQ3Ng--5.0]\n",
    "    - '4KpIldEM-tdnrJLqYzRfZQ'/1.0 -- [43Bc6ufpZZd5L7BcvcXDlg--4.0, NzvlG7XNjk5cKaCPtZa-eA--5.0, 88BzbGaEJjnDmZp_jfq-GA--5.0]\n",
    "    - 'PDHRlnEdkEcwATry4w71PQ'/1.0 -- [WJeFbLeLzDyUIqHa2zlrMw--5.0, 8_8KAZeevPUES_p20mo6GQ--5.0, MwViosFJI_DGKbKt-7qVFg--5.0]\n",
    "    - 'meGaFP7yxQdjyABrYDVeoQ'/5.0 -- [52phbw4zW9_EEaU_q9c3bQ--2.0, 68gtY300yDEp4Frpa3NO7A--5.0, xP34Liue5plDCf59FPvchA--5.0]\n",
    "    - 'pgESDcC7eDx4z_epqon4_Q'/1.0 -- [nq1fiAgbmKaxb8bktZNphw--4.0, LKXD9GUeSrlSAChRVA2E4g--3.0, RZq-EioVPJpBgwbN2aFmVw--5.0]\n",
    "    - 'qeSxL-POvGLZD6aQ5O9kvw'/1.0 -- [HR4xC80wL__0FLftDvB7aA--5.0, JqHC7048Br6XyaljQQy10w--5.0, N6yfnUjRQb5T29E45Dy0AQ--4.0]\n",
    "2. The ratings are presented above. There seemed to be positive correlation for targeted review with higher ratings, which means that the matched top ratings also tend to have higher ratings; and seemed to have negative correlation for targeted review with lower ratings, meaning that the matched top ratings tend to have higher ratings. As a result, I think it's not comprehensive to compare similarity just based on subjective phrases, maybe taking into account the polarity scores or subjective scores can result in better results."
   ],
   "metadata": {
    "collapsed": false,
    "pycharm": {
     "name": "#%% md\n"
    }
   }
  },
  {
   "cell_type": "code",
   "execution_count": null,
   "outputs": [],
   "source": [],
   "metadata": {
    "collapsed": false,
    "pycharm": {
     "name": "#%%\n"
    }
   }
  }
 ],
 "metadata": {
  "kernelspec": {
   "display_name": "Python 3",
   "language": "python",
   "name": "python3"
  },
  "language_info": {
   "codemirror_mode": {
    "name": "ipython",
    "version": 2
   },
   "file_extension": ".py",
   "mimetype": "text/x-python",
   "name": "python",
   "nbconvert_exporter": "python",
   "pygments_lexer": "ipython2",
   "version": "2.7.6"
  }
 },
 "nbformat": 4,
 "nbformat_minor": 0
}