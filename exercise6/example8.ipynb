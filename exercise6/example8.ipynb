{
 "cells": [
  {
   "cell_type": "code",
   "execution_count": 26,
   "id": "ff67afba",
   "metadata": {
    "pycharm": {
     "name": "#%%\n"
    }
   },
   "outputs": [
    {
     "name": "stderr",
     "output_type": "stream",
     "text": [
      "/var/folders/pt/35960jqs3f76ldfjj9nv9gth0000gn/T/ipykernel_81476/1895132276.py:10: DtypeWarning: Columns (0) have mixed types. Specify dtype option on import or set low_memory=False.\n",
      "  crm_2019 = pd.read_csv('crime_2019.csv')\n",
      "/var/folders/pt/35960jqs3f76ldfjj9nv9gth0000gn/T/ipykernel_81476/1895132276.py:11: DtypeWarning: Columns (0) have mixed types. Specify dtype option on import or set low_memory=False.\n",
      "  crm_2020 = pd.read_csv('crime_2020.csv')\n"
     ]
    },
    {
     "name": "stdout",
     "output_type": "stream",
     "text": [
      "<bound method NDFrame._add_numeric_operations.<locals>.sum of 0        False\n",
      "1        False\n",
      "2        False\n",
      "3        False\n",
      "4        False\n",
      "         ...  \n",
      "70889    False\n",
      "70890    False\n",
      "70891    False\n",
      "70892    False\n",
      "70893    False\n",
      "Length: 158078, dtype: bool>\n",
      "      INCIDENT_NUMBER  OFFENSE_CODE  OFFENSE_CODE_GROUP  \\\n",
      "0           102091671          2647                 NaN   \n",
      "1           102095489          3115                 NaN   \n",
      "2           102096818          2905                 NaN   \n",
      "4           129099920          3301                 NaN   \n",
      "5           129099936          1106                 NaN   \n",
      "...               ...           ...                 ...   \n",
      "70889        20063425          3114                 NaN   \n",
      "70890        20062356          1107                 NaN   \n",
      "70891        20046400          1501                 NaN   \n",
      "70892        20038446          1501                 NaN   \n",
      "70893        20030892           540                 NaN   \n",
      "\n",
      "                                     OFFENSE_DESCRIPTION DISTRICT  \\\n",
      "0                              THREATS TO DO BODILY HARM       B3   \n",
      "1                                     INVESTIGATE PERSON      E18   \n",
      "2                            VAL - VIOLATION OF AUTO LAW       A1   \n",
      "4                                         VERBAL DISPUTE       B2   \n",
      "5                        FRAUD - CREDIT CARD / ATM FRAUD       B2   \n",
      "...                                                  ...      ...   \n",
      "70889                               INVESTIGATE PROPERTY       A7   \n",
      "70890                              FRAUD - IMPERSONATION      E18   \n",
      "70891  WEAPON VIOLATION - CARRY/ POSSESSING/ SALE/ TR...       B2   \n",
      "70892  WEAPON VIOLATION - CARRY/ POSSESSING/ SALE/ TR...       B2   \n",
      "70893                              BURGLARY - COMMERICAL      C11   \n",
      "\n",
      "      REPORTING_AREA  SHOOTING     OCCURRED_ON_DATE  YEAR  MONTH DAY_OF_WEEK  \\\n",
      "0                417         0  2019-11-12 12:00:00  2019     11     Tuesday   \n",
      "1                520         0  2019-11-25 16:30:00  2019     11      Monday   \n",
      "2                            0  2019-11-30 21:00:00  2019     11    Saturday   \n",
      "4                330         0  2019-12-12 07:50:00  2019     12    Thursday   \n",
      "5                288         0  2019-11-29 06:00:00  2019     11      Friday   \n",
      "...              ...       ...                  ...   ...    ...         ...   \n",
      "70889             21         0  2020-09-01 00:00:00  2020      9     Tuesday   \n",
      "70890            520         0  2020-08-28 18:39:00  2020      8      Friday   \n",
      "70891            330         0  2020-07-02 01:38:00  2020      7    Thursday   \n",
      "70892            300         0  2020-06-03 01:15:00  2020      6   Wednesday   \n",
      "70893            380         0  2020-05-03 00:00:00  2020      5      Sunday   \n",
      "\n",
      "       HOUR  UCR_PART                                             STREET  \\\n",
      "0        12       NaN                                            MORA ST   \n",
      "1        16       NaN                                         POYDRAS ST   \n",
      "2        21       NaN  SUDBURY ST & CAMBRIDGE ST\\nBOSTON  MA 02108\\nU...   \n",
      "4         7       NaN                                      COLUMBIA ROAD   \n",
      "5         6       NaN                                      WASHINGTON ST   \n",
      "...     ...       ...                                                ...   \n",
      "70889     0       NaN                                           PARIS ST   \n",
      "70890    18       NaN                                       RIVERSIDE SQ   \n",
      "70891     1       NaN                                        PASADENA RD   \n",
      "70892     1       NaN                                      WASHINGTON ST   \n",
      "70893     0       NaN                                      GALLIVAN BLVD   \n",
      "\n",
      "             Lat       Long                                  Location  \n",
      "0      42.282082 -71.073649   (42.28208197671972, -71.07364874515646)  \n",
      "1      42.256216 -71.124019  (42.256215920402155, -71.12401947329023)  \n",
      "2      42.360866 -71.061316   (42.360866027118476, -71.0613160019785)  \n",
      "4       0.000000   0.000000                                    (0, 0)  \n",
      "5      42.329748 -71.084540  (42.329748204791635, -71.08454011649543)  \n",
      "...          ...        ...                                       ...  \n",
      "70889  42.374427 -71.035279     (42.3744269722053, -71.0352787630199)  \n",
      "70890  42.256216 -71.124019     (42.2562159204022, -71.1240194732902)  \n",
      "70891  42.305761 -71.083772     (42.3057609263196, -71.0837715727385)  \n",
      "70892  42.323808 -71.089150     (42.3238077563779, -71.0891502345332)  \n",
      "70893  42.283700 -71.047761     (42.2837003080534, -71.0477614298657)  \n",
      "\n",
      "[156759 rows x 17 columns]\n"
     ]
    }
   ],
   "source": [
    "import os\n",
    "\n",
    "os.chdir('/Users/[editted]/Documents/CompSoc/data')\n",
    "os.getcwd()\n",
    "\n",
    "import pandas as pd\n",
    "import numpy as np\n",
    "import seaborn as sns \n",
    "\n",
    "crm_2019 = pd.read_csv('crime_2019.csv')\n",
    "crm_2020 = pd.read_csv('crime_2020.csv')\n",
    "\n",
    "#print(crm_2019)\n",
    "\n",
    "#merge \n",
    "\n",
    "merged_crm = pd.concat([crm_2019,crm_2020])\n",
    "#print(merged_crm)\n",
    "\n",
    "print(merged_crm.duplicated().sum)\n",
    "new_crime = merged_crm.drop_duplicates()\n",
    "\n",
    "#crop null \n",
    "clean_crm= new_crime.dropna(how='any', subset=['INCIDENT_NUMBER','OFFENSE_CODE', 'DISTRICT', 'Long', 'Lat', 'SHOOTING', 'OCCURRED_ON_DATE'])\n",
    "\n",
    "print(clean_crm)"
   ]
  },
  {
   "cell_type": "code",
   "execution_count": 45,
   "id": "25e12955",
   "metadata": {
    "pycharm": {
     "name": "#%%\n"
    }
   },
   "outputs": [
    {
     "name": "stdout",
     "output_type": "stream",
     "text": [
      "MONTH            1   2   3   4   5   6   7   8   9   10  11  12\n",
      "INCIDENT_NUMBER                                                \n",
      "19065880          0   1   0   0   0   0   0   0   0   0   0   0\n",
      "20030892          0   0   0   0   1   0   0   0   0   0   0   0\n",
      "20038446          0   0   0   0   0   1   0   0   0   0   0   0\n",
      "20044806          0   0   0   0   0   1   0   0   0   0   0   0\n",
      "20046400          0   0   0   0   0   0   1   0   0   0   0   0\n",
      "...              ..  ..  ..  ..  ..  ..  ..  ..  ..  ..  ..  ..\n",
      "212086725         0   0   0   0   0   0   0   0   0   1   0   0\n",
      "302030654         0   0   0   1   0   0   0   0   0   0   0   0\n",
      "457856954         0   1   0   0   0   0   0   0   0   0   0   0\n",
      "854652314         0   1   0   0   0   0   0   0   0   0   0   0\n",
      "950485010         0   0   0   0   0   0   0   0   0   0   1   0\n",
      "\n",
      "[156759 rows x 12 columns]\n",
      "   Month  Count\n",
      "0    Jan  13251\n",
      "1    Feb  12021\n",
      "2    Mar  12555\n",
      "3    Apr  11298\n",
      "4    May  13174\n",
      "5   June  13494\n",
      "6   July  14249\n",
      "7    Aug  14886\n",
      "8    Sep  14600\n",
      "9    Oct  13731\n",
      "10   Nov  12093\n",
      "11   Dec  11407\n"
     ]
    }
   ],
   "source": [
    "frequency = pd.crosstab(index = clean_crm['INCIDENT_NUMBER'],columns= clean_crm['MONTH'])\n",
    "\n",
    "print(frequency)\n",
    "\n",
    "## Creating frequency table\n",
    "\n",
    "\n",
    "\n",
    "count_1 = 0\n",
    "count_2 = 0\n",
    "count_3 = 0\n",
    "count_4 = 0\n",
    "count_5 = 0\n",
    "count_6 = 0\n",
    "count_7 = 0\n",
    "count_8 = 0\n",
    "count_9 = 0\n",
    "count_10 = 0\n",
    "count_11 = 0\n",
    "count_12 = 0\n",
    "\n",
    "\n",
    "for mon in clean_crm['MONTH']:\n",
    "    if mon == 1:\n",
    "        count_1+=1\n",
    "    if mon == 2:\n",
    "        count_2+=1\n",
    "    if mon == 3:\n",
    "        count_3+=1\n",
    "    if mon == 4:\n",
    "        count_4+=1\n",
    "    if mon == 5:\n",
    "        count_5+=1\n",
    "    if mon == 6:\n",
    "        count_6+=1\n",
    "    if mon == 7:\n",
    "        count_7+=1\n",
    "    if mon == 8:\n",
    "        count_8+=1\n",
    "    if mon == 9:\n",
    "        count_9+=1\n",
    "    if mon == 10:\n",
    "        count_10+=1\n",
    "    if mon == 11:\n",
    "        count_11+=1\n",
    "    if mon == 12:\n",
    "        count_12+=1\n",
    "        \n",
    "count_1\n",
    "count_2\n",
    "count_3\n",
    "count_4\n",
    "count_5\n",
    "count_6\n",
    "count_7\n",
    "count_8\n",
    "count_9\n",
    "count_10\n",
    "count_11\n",
    "count_12\n",
    "\n",
    "data = [['Jan', count_1], ['Feb', count_2], ['Mar', count_3], ['Apr', count_4], ['May', count_5],['June',count_6],['July',count_7],['Aug',count_8],['Sep',count_9],['Oct',count_10],['Nov',count_11],['Dec',count_12]]\n",
    "\n",
    "\n",
    "freq_table = pd.DataFrame(data,columns=['Month', 'Count'])\n",
    "\n",
    "\n",
    "print(freq_table)"
   ]
  },
  {
   "cell_type": "code",
   "execution_count": 44,
   "id": "80ec37dd",
   "metadata": {
    "pycharm": {
     "name": "#%%\n"
    }
   },
   "outputs": [
    {
     "name": "stdout",
     "output_type": "stream",
     "text": [
      "col_0     count\n",
      "DISTRICT       \n",
      "A1        16949\n",
      "A15        3489\n",
      "A7         6541\n",
      "B2        23472\n",
      "B3        17419\n",
      "C11       20014\n",
      "C6        11726\n",
      "D14       10460\n",
      "D4        20559\n",
      "E13        9031\n",
      "E18        9374\n",
      "E5         7402\n",
      "External    323\n"
     ]
    }
   ],
   "source": [
    "\n",
    "         district_frq = pd.crosstab(index=clean_crm['DISTRICT'], columns='count') \n",
    "        \n",
    "\n",
    "print(district_frq)"
   ]
  },
  {
   "cell_type": "code",
   "execution_count": null,
   "id": "5088e831",
   "metadata": {
    "pycharm": {
     "name": "#%%\n"
    }
   },
   "outputs": [],
   "source": []
  }
 ],
 "metadata": {
  "kernelspec": {
   "display_name": "Python 3 (ipykernel)",
   "language": "python",
   "name": "python3"
  },
  "language_info": {
   "codemirror_mode": {
    "name": "ipython",
    "version": 3
   },
   "file_extension": ".py",
   "mimetype": "text/x-python",
   "name": "python",
   "nbconvert_exporter": "python",
   "pygments_lexer": "ipython3",
   "version": "3.9.12"
  }
 },
 "nbformat": 4,
 "nbformat_minor": 5
}