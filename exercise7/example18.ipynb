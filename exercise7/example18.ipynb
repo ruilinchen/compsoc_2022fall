{
 "cells": [
  {
   "cell_type": "markdown",
   "id": "804527ef",
   "metadata": {
    "pycharm": {
     "name": "#%% md\n"
    }
   },
   "source": [
    "# Exercise #7"
   ]
  },
  {
   "cell_type": "code",
   "execution_count": 3,
   "id": "82b397c2",
   "metadata": {
    "pycharm": {
     "name": "#%%\n"
    }
   },
   "outputs": [],
   "source": [
    "#Print multiple outputs from a cell\n",
    "get_ipython().ast_node_interactivity = 'all'"
   ]
  },
  {
   "cell_type": "markdown",
   "id": "04e72837",
   "metadata": {
    "pycharm": {
     "name": "#%% md\n"
    }
   },
   "source": [
    "## Task 7.1"
   ]
  },
  {
   "cell_type": "code",
   "execution_count": 2,
   "id": "89c1964e",
   "metadata": {
    "pycharm": {
     "name": "#%%\n"
    }
   },
   "outputs": [
    {
     "name": "stderr",
     "output_type": "stream",
     "text": [
      "/var/folders/c3/z4j0ypq143n7ncqb9_syqt980000gn/T/ipykernel_86422/3576694044.py:15: DtypeWarning: Columns (0) have mixed types. Specify dtype option on import or set low_memory=False.\n",
      "  report_2019 = pd.read_csv('report_2019.csv')\n",
      "/var/folders/c3/z4j0ypq143n7ncqb9_syqt980000gn/T/ipykernel_86422/3576694044.py:16: DtypeWarning: Columns (0) have mixed types. Specify dtype option on import or set low_memory=False.\n",
      "  report_2020 = pd.read_csv('report_2020.csv')\n"
     ]
    },
    {
     "name": "stdout",
     "output_type": "stream",
     "text": [
      "(156759, 17)\n"
     ]
    }
   ],
   "source": [
    "####Task 7.1 pt1: Merge and Clean the Dataset\n",
    "\n",
    "### Importing required packages\n",
    "\n",
    "import pandas as pd\n",
    "import numpy as np\n",
    "import os\n",
    "import seaborn as sns\n",
    "import matplotlib.pyplot as plt\n",
    "\n",
    "\n",
    "### Getting the Datasets\n",
    "\n",
    "os.chdir('/Users/[editted]/Desktop/SOCDATA/Exercise_7')\n",
    "report_2019 = pd.read_csv('report_2019.csv')\n",
    "report_2020 = pd.read_csv('report_2020.csv')\n",
    "\n",
    "###Merging the datasets\n",
    "\n",
    "merge_report_2019_2020 = pd.concat([report_2019, report_2020])\n",
    "\n",
    "###Data Cleaning\n",
    "\n",
    "##Dropping duplicates\n",
    "merge_report_2019_2020 = merge_report_2019_2020.drop_duplicates()\n",
    "##Dropping Missing Values\n",
    "merge_report_2019_2020=merge_report_2019_2020.dropna(subset=['INCIDENT_NUMBER', 'OFFENSE_CODE', 'DISTRICT', 'Long', 'Lat', 'SHOOTING', 'OCCURRED_ON_DATE'])\n",
    "##Checking Dataset\n",
    "print(merge_report_2019_2020.shape)\n",
    "\n",
    "###Saving the Dataset\n",
    "merge_report_2019_2020.to_csv('merge_report_2019_2020.csv', index=False)\n",
    "\n"
   ]
  },
  {
   "cell_type": "code",
   "execution_count": 7,
   "id": "9fd7c872",
   "metadata": {
    "pycharm": {
     "name": "#%%\n"
    }
   },
   "outputs": [
    {
     "name": "stderr",
     "output_type": "stream",
     "text": [
      "/var/folders/c3/z4j0ypq143n7ncqb9_syqt980000gn/T/ipykernel_85968/3901470120.py:5: SettingWithCopyWarning: \n",
      "A value is trying to be set on a copy of a slice from a DataFrame\n",
      "\n",
      "See the caveats in the documentation: https://pandas.pydata.org/pandas-docs/stable/user_guide/indexing.html#returning-a-view-versus-a-copy\n",
      "  merge_report_2019_2020['offense_type'][merge_report_2019_2020['OFFENSE_DESCRIPTION'].str.lower().str.contains('robbery|assault|rape')] = 'violent crime'\n",
      "/var/folders/c3/z4j0ypq143n7ncqb9_syqt980000gn/T/ipykernel_85968/3901470120.py:6: SettingWithCopyWarning: \n",
      "A value is trying to be set on a copy of a slice from a DataFrame\n",
      "\n",
      "See the caveats in the documentation: https://pandas.pydata.org/pandas-docs/stable/user_guide/indexing.html#returning-a-view-versus-a-copy\n",
      "  merge_report_2019_2020['offense_type'][merge_report_2019_2020['OFFENSE_DESCRIPTION'].str.lower().str.contains('burglary|larceny|theft|arson')] = 'property crime'\n"
     ]
    },
    {
     "data": {
      "text/html": [
       "<div>\n",
       "<style scoped>\n",
       "    .dataframe tbody tr th:only-of-type {\n",
       "        vertical-align: middle;\n",
       "    }\n",
       "\n",
       "    .dataframe tbody tr th {\n",
       "        vertical-align: top;\n",
       "    }\n",
       "\n",
       "    .dataframe thead th {\n",
       "        text-align: right;\n",
       "    }\n",
       "</style>\n",
       "<table border=\"1\" class=\"dataframe\">\n",
       "  <thead>\n",
       "    <tr style=\"text-align: right;\">\n",
       "      <th></th>\n",
       "      <th>offense_type</th>\n",
       "      <th>YEAR</th>\n",
       "      <th>OFFENSE_DESCRIPTION</th>\n",
       "    </tr>\n",
       "  </thead>\n",
       "  <tbody>\n",
       "    <tr>\n",
       "      <th>0</th>\n",
       "      <td>property crime</td>\n",
       "      <td>2019</td>\n",
       "      <td>13158</td>\n",
       "    </tr>\n",
       "    <tr>\n",
       "      <th>1</th>\n",
       "      <td>property crime</td>\n",
       "      <td>2020</td>\n",
       "      <td>12227</td>\n",
       "    </tr>\n",
       "    <tr>\n",
       "      <th>2</th>\n",
       "      <td>violent crime</td>\n",
       "      <td>2019</td>\n",
       "      <td>8324</td>\n",
       "    </tr>\n",
       "    <tr>\n",
       "      <th>3</th>\n",
       "      <td>violent crime</td>\n",
       "      <td>2020</td>\n",
       "      <td>5152</td>\n",
       "    </tr>\n",
       "  </tbody>\n",
       "</table>\n",
       "</div>"
      ],
      "text/plain": [
       "     offense_type  YEAR  OFFENSE_DESCRIPTION\n",
       "0  property crime  2019                13158\n",
       "1  property crime  2020                12227\n",
       "2   violent crime  2019                 8324\n",
       "3   violent crime  2020                 5152"
      ]
     },
     "execution_count": 7,
     "metadata": {},
     "output_type": "execute_result"
    }
   ],
   "source": [
    "####Task 7.1 pt2: Identifying the trend\n",
    "\n",
    "\n",
    "merge_report_2019_2020['offense_type'] = None\n",
    "merge_report_2019_2020['offense_type'][merge_report_2019_2020['OFFENSE_DESCRIPTION'].str.lower().str.contains('robbery|assault|rape')] = 'violent crime'\n",
    "merge_report_2019_2020['offense_type'][merge_report_2019_2020['OFFENSE_DESCRIPTION'].str.lower().str.contains('burglary|larceny|theft|arson')] = 'property crime'\n",
    "\n",
    "\n",
    "offense_data_report = merge_report_2019_2020.groupby(['offense_type','YEAR',]).agg({'OFFENSE_DESCRIPTION': 'count'}).reset_index()\n",
    "offense_data_report\n",
    "\n"
   ]
  },
  {
   "cell_type": "markdown",
   "id": "1d325848",
   "metadata": {
    "pycharm": {
     "name": "#%% md\n"
    }
   },
   "source": [
    "#### Analysis for the result for 7.1\n",
    "From the data, we can see that the crime related to violence decreased from year of 2019, which is 8,324 cases, to year of 2020, which is 5,152 cases. Similar pattern shows in property related crimes: from 13,0158 cases in 2019 to 12,227 cases in 2020. Also, the overall cases of property related is greater than violence related across two years."
   ]
  },
  {
   "cell_type": "markdown",
   "id": "b772498f",
   "metadata": {
    "pycharm": {
     "name": "#%% md\n"
    }
   },
   "source": [
    "## Task 7.2"
   ]
  },
  {
   "cell_type": "code",
   "execution_count": 3,
   "id": "64b4dc2b",
   "metadata": {
    "pycharm": {
     "name": "#%%\n"
    }
   },
   "outputs": [
    {
     "name": "stderr",
     "output_type": "stream",
     "text": [
      "/var/folders/c3/z4j0ypq143n7ncqb9_syqt980000gn/T/ipykernel_86422/3669945039.py:5: SettingWithCopyWarning: \n",
      "A value is trying to be set on a copy of a slice from a DataFrame\n",
      "\n",
      "See the caveats in the documentation: https://pandas.pydata.org/pandas-docs/stable/user_guide/indexing.html#returning-a-view-versus-a-copy\n",
      "  merge_report_2019_2020['offense_type'][merge_report_2019_2020['OFFENSE_DESCRIPTION'].str.lower().str.contains('robbery|assault|rape')] = 'violent crime'\n",
      "/var/folders/c3/z4j0ypq143n7ncqb9_syqt980000gn/T/ipykernel_86422/3669945039.py:6: SettingWithCopyWarning: \n",
      "A value is trying to be set on a copy of a slice from a DataFrame\n",
      "\n",
      "See the caveats in the documentation: https://pandas.pydata.org/pandas-docs/stable/user_guide/indexing.html#returning-a-view-versus-a-copy\n",
      "  merge_report_2019_2020['offense_type'][merge_report_2019_2020['OFFENSE_DESCRIPTION'].str.lower().str.contains('burglary|larceny|theft|arson')] = 'property crime'\n"
     ]
    },
    {
     "data": {
      "text/plain": [
       "<AxesSubplot:xlabel='INCIDENT_NUMBER_x', ylabel='INCIDENT_NUMBER_y'>"
      ]
     },
     "execution_count": 3,
     "metadata": {},
     "output_type": "execute_result"
    },
    {
     "data": {
      "image/png": "[encoded data removed]",
      "text/plain": [
       "<Figure size 432x288 with 1 Axes>"
      ]
     },
     "metadata": {
      "needs_background": "light"
     },
     "output_type": "display_data"
    }
   ],
   "source": [
    "####Creating the Scatter plot\n",
    "\n",
    "###Revising Data frame\n",
    "merge_report_2019_2020['offense_type'] = None\n",
    "merge_report_2019_2020['offense_type'][merge_report_2019_2020['OFFENSE_DESCRIPTION'].str.lower().str.contains('robbery|assault|rape')] = 'violent crime'\n",
    "merge_report_2019_2020['offense_type'][merge_report_2019_2020['OFFENSE_DESCRIPTION'].str.lower().str.contains('burglary|larceny|theft|arson')] = 'property crime'\n",
    "offense_data = merge_report_2019_2020.groupby(['offense_type', 'DISTRICT','YEAR','MONTH','INCIDENT_NUMBER']).agg({'OFFENSE_DESCRIPTION': 'count','SHOOTING': 'sum'}).reset_index()\n",
    "\n",
    "###Combining data frame\n",
    "new_offense_data = offense_data.groupby(['offense_type','DISTRICT','YEAR']).agg({'INCIDENT_NUMBER': 'count'}).reset_index()\n",
    "property_data = new_offense_data.loc[lambda new_offense_data: new_offense_data['offense_type'] == \"property crime\"]\n",
    "violent_data = new_offense_data.loc[lambda new_offense_data: new_offense_data['offense_type'] == \"violent crime\"]\n",
    "new_crime_data = property_data.merge(violent_data, how = 'left', on=['DISTRICT','YEAR'])\n",
    "#new_crime_data\n",
    "\n",
    "\n",
    "###Creating Graph\n",
    "sns.scatterplot(x='INCIDENT_NUMBER_x', y='INCIDENT_NUMBER_y', data = new_crime_data, hue='YEAR')\n",
    "\n",
    "\n"
   ]
  },
  {
   "cell_type": "markdown",
   "id": "d0f510de",
   "metadata": {
    "pycharm": {
     "name": "#%% md\n"
    }
   },
   "source": [
    "### Task 7.3"
   ]
  },
  {
   "cell_type": "code",
   "execution_count": 62,
   "id": "772fee06",
   "metadata": {
    "scrolled": false,
    "pycharm": {
     "name": "#%%\n"
    }
   },
   "outputs": [
    {
     "data": {
      "text/plain": [
       "<AxesSubplot:xlabel='DISTRICT', ylabel='OFFENSE_DESCRIPTION'>"
      ]
     },
     "execution_count": 62,
     "metadata": {},
     "output_type": "execute_result"
    },
    {
     "data": {
      "image/png": "[encoded data removed]",
      "text/plain": [
       "<Figure size 432x288 with 1 Axes>"
      ]
     },
     "metadata": {
      "needs_background": "light"
     },
     "output_type": "display_data"
    }
   ],
   "source": [
    "####Creating the bar chart\n",
    "\n",
    "###Creating a new data set for bar chart\n",
    "offense_data_bar = merge_report_2019_2020.groupby(['offense_type', 'DISTRICT','YEAR']).agg({'OFFENSE_DESCRIPTION': 'count','SHOOTING': 'sum'}).reset_index()\n",
    "# offense_data_bar\n",
    "\n",
    "###Creating Graph\n",
    "sns.barplot(x='DISTRICT', y='OFFENSE_DESCRIPTION', data=offense_data_bar, hue='YEAR')\n"
   ]
  },
  {
   "cell_type": "markdown",
   "id": "465a0e60",
   "metadata": {
    "pycharm": {
     "name": "#%% md\n"
    }
   },
   "source": [
    "### Task 7.4"
   ]
  },
  {
   "cell_type": "code",
   "execution_count": 65,
   "id": "5ad529b1",
   "metadata": {
    "pycharm": {
     "name": "#%%\n"
    }
   },
   "outputs": [
    {
     "data": {
      "text/plain": [
       "<AxesSubplot:xlabel='quarter', ylabel='SHOOTING'>"
      ]
     },
     "execution_count": 65,
     "metadata": {},
     "output_type": "execute_result"
    },
    {
     "data": {
      "image/png": "[encoded data removed]",
      "text/plain": [
       "<Figure size 432x288 with 1 Axes>"
      ]
     },
     "metadata": {
      "needs_background": "light"
     },
     "output_type": "display_data"
    }
   ],
   "source": [
    "###Creating the violin chart\n",
    "\n",
    "##Creating the \"Quarter\" variable\n",
    "shooting_data = merge_report_2019_2020.groupby(['DISTRICT','YEAR','MONTH']).agg({'SHOOTING': 'count'}).reset_index()\n",
    "\n",
    "shooting_data.loc[shooting_data['MONTH'].isin([10, 11, 12]), 'quarter'] = 'fourth_quarter'\n",
    "shooting_data.loc[shooting_data['MONTH'].isin([7, 8, 9]), 'quarter'] = 'third_quarter'\n",
    "shooting_data.loc[shooting_data['MONTH'].isin([4, 5, 6]), 'quarter'] = 'second_quarter'\n",
    "shooting_data.loc[shooting_data['MONTH'].isin([1, 2, 3]), 'quarter'] = 'first_quarter'\n",
    "\n",
    "##Creating Graph\n",
    "sns.violinplot(y='SHOOTING', x='quarter', data=shooting_data)"
   ]
  }
 ],
 "metadata": {
  "kernelspec": {
   "display_name": "Python [conda env:compsoc] *",
   "language": "python",
   "name": "conda-env-compsoc-py"
  },
  "language_info": {
   "codemirror_mode": {
    "name": "ipython",
    "version": 3
   },
   "file_extension": ".py",
   "mimetype": "text/x-python",
   "name": "python",
   "nbconvert_exporter": "python",
   "pygments_lexer": "ipython3",
   "version": "3.8.13"
  }
 },
 "nbformat": 4,
 "nbformat_minor": 5
}