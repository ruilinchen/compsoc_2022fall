{
 "cells": [
  {
   "cell_type": "markdown",
   "id": "6f47a124",
   "metadata": {
    "pycharm": {
     "name": "#%% md\n"
    }
   },
   "source": [
    "### Task 5.1 Download “MA_cbg_human_mobility_2019.zip” from Canvas under “Files/datasets”. Write a program that loops through all the files in this zip file and prints the name of all the “csv” files. Use `zipfile` package. ### \n"
   ]
  },
  {
   "cell_type": "code",
   "execution_count": 21,
   "id": "0ac0de9b",
   "metadata": {
    "pycharm": {
     "name": "#%%\n"
    }
   },
   "outputs": [
    {
     "name": "stdout",
     "output_type": "stream",
     "text": [
      "MA_cbg_human_mobility_2019/MA_cbg2cbg_2019_09.csv\n",
      "__MACOSX/MA_cbg_human_mobility_2019/._MA_cbg2cbg_2019_09.csv\n",
      "MA_cbg_human_mobility_2019/MA_cbg2cbg_2019_08.csv\n",
      "__MACOSX/MA_cbg_human_mobility_2019/._MA_cbg2cbg_2019_08.csv\n",
      "MA_cbg_human_mobility_2019/MA_cbg2cbg_2019_03.csv\n",
      "__MACOSX/MA_cbg_human_mobility_2019/._MA_cbg2cbg_2019_03.csv\n",
      "MA_cbg_human_mobility_2019/MA_cbg2cbg_2019_02.csv\n",
      "__MACOSX/MA_cbg_human_mobility_2019/._MA_cbg2cbg_2019_02.csv\n",
      "MA_cbg_human_mobility_2019/MA_cbg2cbg_2019_01.csv\n",
      "__MACOSX/MA_cbg_human_mobility_2019/._MA_cbg2cbg_2019_01.csv\n",
      "MA_cbg_human_mobility_2019/MA_cbg2cbg_2019_05.csv\n",
      "__MACOSX/MA_cbg_human_mobility_2019/._MA_cbg2cbg_2019_05.csv\n",
      "MA_cbg_human_mobility_2019/MA_cbg2cbg_2019_11.csv\n",
      "__MACOSX/MA_cbg_human_mobility_2019/._MA_cbg2cbg_2019_11.csv\n",
      "MA_cbg_human_mobility_2019/MA_cbg2cbg_2019_10.csv\n",
      "__MACOSX/MA_cbg_human_mobility_2019/._MA_cbg2cbg_2019_10.csv\n",
      "MA_cbg_human_mobility_2019/MA_cbg2cbg_2019_04.csv\n",
      "__MACOSX/MA_cbg_human_mobility_2019/._MA_cbg2cbg_2019_04.csv\n",
      "MA_cbg_human_mobility_2019/MA_cbg2cbg_2019_12.csv\n",
      "__MACOSX/MA_cbg_human_mobility_2019/._MA_cbg2cbg_2019_12.csv\n",
      "MA_cbg_human_mobility_2019/MA_cbg2cbg_2019_06.csv\n",
      "__MACOSX/MA_cbg_human_mobility_2019/._MA_cbg2cbg_2019_06.csv\n",
      "MA_cbg_human_mobility_2019/MA_cbg2cbg_2019_07.csv\n",
      "__MACOSX/MA_cbg_human_mobility_2019/._MA_cbg2cbg_2019_07.csv\n"
     ]
    }
   ],
   "source": [
    "import zipfile \n",
    "\n",
    "with zipfile.ZipFile('MA_cbg_human_mobility_2019.zip', 'r') as f:\n",
    "    for filename in f.namelist():\n",
    "        if filename.endswith('.csv'): #find every file ends with .csv\n",
    "               print(filename)"
   ]
  },
  {
   "cell_type": "markdown",
   "id": "7f150418",
   "metadata": {
    "pycharm": {
     "name": "#%% md\n"
    }
   },
   "source": [
    "### Task 5.2 Unzip the above zipped file in your laptop’s File System and you will get a folder named “MA_cbg_human_mobility_2019”. Write a program that loops through all the files stored in this folder and counts the number of lines contained in each of the “csv” files. Print a sum of the line counts. Use with statement when reading files. ###"
   ]
  },
  {
   "cell_type": "code",
   "execution_count": 45,
   "id": "93e7db60",
   "metadata": {
    "pycharm": {
     "name": "#%%\n"
    }
   },
   "outputs": [
    {
     "name": "stdout",
     "output_type": "stream",
     "text": [
      "12108558\n"
     ]
    }
   ],
   "source": [
    "with os.scandir('MA_cbg_human_mobility_2019') as entries:  #scan every file inside this folder\n",
    "    row_count=0\n",
    "    for entry in entries:\n",
    "        if entry.name.endswith('.csv'):\n",
    "            row_count += sum(1 for line in open(entry)) \n",
    "print(row_count)"
   ]
  },
  {
   "cell_type": "markdown",
   "id": "4675463e",
   "metadata": {
    "pycharm": {
     "name": "#%% md\n"
    }
   },
   "source": [
    "### Task 5.3 Use the same program from Task 5.2 that counts lines of all the csv files in “MA_cbg_human_mobility_2019”. Store the output in a dictionary with keys being filenames and values being the corresponding line counts. Write the output to a json file. ###"
   ]
  },
  {
   "cell_type": "code",
   "execution_count": 59,
   "id": "9fa407e5",
   "metadata": {
    "pycharm": {
     "name": "#%%\n"
    }
   },
   "outputs": [
    {
     "name": "stdout",
     "output_type": "stream",
     "text": [
      "{'MA_cbg2cbg_2019_09.csv': 1136954, 'MA_cbg2cbg_2019_08.csv': 1194285, 'MA_cbg2cbg_2019_03.csv': 914654, 'MA_cbg2cbg_2019_02.csv': 818862, 'MA_cbg2cbg_2019_01.csv': 840594, 'MA_cbg2cbg_2019_05.csv': 1088295, 'MA_cbg2cbg_2019_11.csv': 901469, 'MA_cbg2cbg_2019_10.csv': 1010778, 'MA_cbg2cbg_2019_04.csv': 1011375, 'MA_cbg2cbg_2019_12.csv': 950662, 'MA_cbg2cbg_2019_06.csv': 1120697, 'MA_cbg2cbg_2019_07.csv': 1119933}\n"
     ]
    }
   ],
   "source": [
    "with os.scandir('MA_cbg_human_mobility_2019') as entries:\n",
    "    dict1={} #create an empty dict\n",
    "    for entry in entries:\n",
    "        if entry.name.endswith('.csv'):\n",
    "            row_count = sum(1 for line in open(entry))\n",
    "            dict1[entry.name]=(row_count) #add a pair of key and value for each entry name& lines count pair\n",
    "    print(dict1)\n",
    "                "
   ]
  },
  {
   "cell_type": "code",
   "execution_count": null,
   "id": "5edd9f07",
   "metadata": {
    "pycharm": {
     "name": "#%%\n"
    }
   },
   "outputs": [],
   "source": []
  }
 ],
 "metadata": {
  "kernelspec": {
   "display_name": "Python 3",
   "language": "python",
   "name": "python3"
  },
  "language_info": {
   "codemirror_mode": {
    "name": "ipython",
    "version": 3
   },
   "file_extension": ".py",
   "mimetype": "text/x-python",
   "name": "python",
   "nbconvert_exporter": "python",
   "pygments_lexer": "ipython3",
   "version": "3.8.8"
  }
 },
 "nbformat": 4,
 "nbformat_minor": 5
}