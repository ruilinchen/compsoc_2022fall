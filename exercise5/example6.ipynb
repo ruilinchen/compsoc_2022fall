{
 "cells": [
  {
   "cell_type": "markdown",
   "id": "19fc1990",
   "metadata": {
    "pycharm": {
     "name": "#%% md\n"
    }
   },
   "source": [
    "# exercise 5\n",
    "## 5.1\n",
    "Write a program that loops through all the files in this zip file and prints the name of all the “csv” files. Use `zipfile` package."
   ]
  },
  {
   "cell_type": "code",
   "execution_count": 39,
   "id": "4f328bd0",
   "metadata": {
    "pycharm": {
     "name": "#%%\n"
    }
   },
   "outputs": [
    {
     "name": "stdout",
     "output_type": "stream",
     "text": [
      "MA_cbg_human_mobility_2019/MA_cbg2cbg_2019_09.csv\n",
      "__MACOSX/MA_cbg_human_mobility_2019/._MA_cbg2cbg_2019_09.csv\n",
      "MA_cbg_human_mobility_2019/MA_cbg2cbg_2019_08.csv\n",
      "__MACOSX/MA_cbg_human_mobility_2019/._MA_cbg2cbg_2019_08.csv\n",
      "MA_cbg_human_mobility_2019/MA_cbg2cbg_2019_03.csv\n",
      "__MACOSX/MA_cbg_human_mobility_2019/._MA_cbg2cbg_2019_03.csv\n",
      "MA_cbg_human_mobility_2019/MA_cbg2cbg_2019_02.csv\n",
      "__MACOSX/MA_cbg_human_mobility_2019/._MA_cbg2cbg_2019_02.csv\n",
      "MA_cbg_human_mobility_2019/MA_cbg2cbg_2019_01.csv\n",
      "__MACOSX/MA_cbg_human_mobility_2019/._MA_cbg2cbg_2019_01.csv\n",
      "MA_cbg_human_mobility_2019/MA_cbg2cbg_2019_05.csv\n",
      "__MACOSX/MA_cbg_human_mobility_2019/._MA_cbg2cbg_2019_05.csv\n",
      "MA_cbg_human_mobility_2019/MA_cbg2cbg_2019_11.csv\n",
      "__MACOSX/MA_cbg_human_mobility_2019/._MA_cbg2cbg_2019_11.csv\n",
      "MA_cbg_human_mobility_2019/MA_cbg2cbg_2019_10.csv\n",
      "__MACOSX/MA_cbg_human_mobility_2019/._MA_cbg2cbg_2019_10.csv\n",
      "MA_cbg_human_mobility_2019/MA_cbg2cbg_2019_04.csv\n",
      "__MACOSX/MA_cbg_human_mobility_2019/._MA_cbg2cbg_2019_04.csv\n",
      "MA_cbg_human_mobility_2019/MA_cbg2cbg_2019_12.csv\n",
      "__MACOSX/MA_cbg_human_mobility_2019/._MA_cbg2cbg_2019_12.csv\n",
      "MA_cbg_human_mobility_2019/MA_cbg2cbg_2019_06.csv\n",
      "__MACOSX/MA_cbg_human_mobility_2019/._MA_cbg2cbg_2019_06.csv\n",
      "MA_cbg_human_mobility_2019/MA_cbg2cbg_2019_07.csv\n",
      "__MACOSX/MA_cbg_human_mobility_2019/._MA_cbg2cbg_2019_07.csv\n"
     ]
    }
   ],
   "source": [
    "import zipfile\n",
    "with zipfile.ZipFile(\"MA_cbg_human_mobility_2019.zip\", \"r\") as files:\n",
    "    for fileName in files.namelist():\n",
    "        if(fileName[-4:] == \".csv\"):\n",
    "            print(fileName)"
   ]
  },
  {
   "cell_type": "markdown",
   "id": "07c28d9a",
   "metadata": {
    "pycharm": {
     "name": "#%% md\n"
    }
   },
   "source": [
    "## 5.2\n",
    "Unzip the above zipped file in your laptop’s File System and you will get a folder named “MA_cbg_human_mobility_2019”. Write a program that loops through all the files stored in this folder and counts the number of lines contained in each of the “csv” files. Print a sum of the line counts. Use with statement when reading files."
   ]
  },
  {
   "cell_type": "code",
   "execution_count": 40,
   "id": "6e1d34db",
   "metadata": {
    "pycharm": {
     "name": "#%%\n"
    }
   },
   "outputs": [
    {
     "name": "stdout",
     "output_type": "stream",
     "text": [
      "There are 12108558 lines total in the csv files\n"
     ]
    }
   ],
   "source": [
    "import os\n",
    "lineSum = 0\n",
    "for file in os.listdir(\".\\MA_cbg_human_mobility_2019\"):\n",
    "    if(file[-4:] == \".csv\"):\n",
    "        with open(\".\\\\MA_cbg_human_mobility_2019\\\\\"+str(file)) as csvFile:\n",
    "            lineSum += len(csvFile.readlines())\n",
    "print(\"There are\", lineSum, \"lines total in the csv files\")"
   ]
  },
  {
   "cell_type": "markdown",
   "id": "88f0770e",
   "metadata": {
    "pycharm": {
     "name": "#%% md\n"
    }
   },
   "source": [
    "## 5.3\n",
    "Use the same program from Task 5.2 that counts lines of all the csv files in “MA_cbg_human_mobility_2019”. Store the output in a dictionary with keys being filenames and values being the corresponding line counts. Write the output to a json file."
   ]
  },
  {
   "cell_type": "code",
   "execution_count": 41,
   "id": "39634cf7",
   "metadata": {
    "pycharm": {
     "name": "#%%\n"
    }
   },
   "outputs": [],
   "source": [
    "import os, json\n",
    "fileJson = {}\n",
    "for file in os.listdir(\".\\MA_cbg_human_mobility_2019\"):\n",
    "    if(file[-4:] == \".csv\"):\n",
    "        with open(\".\\\\MA_cbg_human_mobility_2019\\\\\"+str(file)) as csvFile:\n",
    "            fileJson[file] = len(csvFile.readlines())\n",
    "with open(\".\\\\MA_cbg_human_mobility_2019\\\\csvLines.json\", \"w\") as writeFile:\n",
    "    writeFile.write(json.dumps(fileJson))"
   ]
  }
 ],
 "metadata": {
  "kernelspec": {
   "display_name": "Python 3 (ipykernel)",
   "language": "python",
   "name": "python3"
  },
  "language_info": {
   "codemirror_mode": {
    "name": "ipython",
    "version": 3
   },
   "file_extension": ".py",
   "mimetype": "text/x-python",
   "name": "python",
   "nbconvert_exporter": "python",
   "pygments_lexer": "ipython3",
   "version": "3.8.13"
  }
 },
 "nbformat": 4,
 "nbformat_minor": 5
}