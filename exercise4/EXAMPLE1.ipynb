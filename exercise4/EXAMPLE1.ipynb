{
 "cells": [
  {
   "cell_type": "markdown",
   "metadata": {
    "pycharm": {
     "name": "#%% md\n"
    }
   },
   "source": [
    "Task 4.1: Read the file “example.txt” that we have used in class, which can be downloaded from here (Links to an external site.), and print out every other line starting from the seventh line. "
   ]
  },
  {
   "cell_type": "code",
   "execution_count": 4,
   "metadata": {
    "pycharm": {
     "name": "#%%\n"
    }
   },
   "outputs": [
    {
     "name": "stdout",
     "output_type": "stream",
     "text": [
      "['The names \"John Doe\" for males, \"Jane Doe\" or \"Jane Roe\" for females, or \"Jonnie Doe\" and \"Janie Doe\" for children, or just \"Doe\" non-gender-specifically are used as placeholder names for a party whose true identity is unknown or must be withheld in a legal action, case, or discussion. The names are also used to refer to acorpse or hospital patient whose identity is unknown. This practice is widely used in the United States and Canada, but is rarely used in other English-speaking countries including the United Kingdom itself, from where the use of \"John Doe\" in a legal context originates. The names Joe Bloggs or John Smith are used in the UK instead, as well as in Australia and New Zealand.\\n', 'John Doe is sometimes used to refer to a typical male in other contexts as well, in a similar manner to John Q. Public, known in Great Britain as Joe Public, John Smith or Joe Bloggs. For example, the first name listed on a form is often John Doe, along with a fictional address or other fictional information to provide an example of how to fill in the form. The name is also used frequently in popular culture, for example in the Frank Capra film Meet John Doe. John Doe was also the name of a 2002 American television series.\\n', 'Similarly, a child or baby whose identity is unknown may be referred to as Baby Doe. A notorious murder case in Kansas City, Missouri, referred to the baby victim as Precious Doe. Other unidentified female murder victims are Cali Doe and Princess Doe. Additional persons may be called James Doe, Judy Doe, etc. However, to avoid possible confusion, if two anonymous or unknown parties are cited in a specific case or action, the surnames Doe and Roe may be used simultaneously; for example, \"John Doe v. Jane Roe\". If several anonymous parties are referenced, they may simply be labelled John Doe #1, John Doe #2, etc. (the U.S. Operation Delego cited 21 (numbered) \"John Doe\"s) or labelled with other variants of Doe / Roe / Poe / etc. Other early alternatives such as John Stiles and Richard Miles are now rarely used, and Mary Major has been used in some American federal cases.\\n', '\\n', 'File created by https://www.online-convert.com\\n', 'Text of Example content: Wikipedia (https://en.wikipedia.org/wiki/John_Doe)\\n', '\\n']\n"
     ]
    }
   ],
   "source": [
    "txt_fname = 'example.txt'\n",
    "with open(txt_fname, 'r') as f:\n",
    "    lines = f.readlines()\n",
    "preferred_lines = lines[7::2]\n",
    "print(preferred_lines)"
   ]
  },
  {
   "cell_type": "markdown",
   "metadata": {
    "pycharm": {
     "name": "#%% md\n"
    }
   },
   "source": [
    "Task 4.2: Write a sumForTwenty function. The function takes twenty numbers as input (not as user input, but as function arguments), and prints one value as output. The output should be the sum of the twenty numbers passed to the function. The function should also check for variable types. If any of the numbers is passed as a string type as opposed to an integer or float type, the function will print an error message.  "
   ]
  },
  {
   "cell_type": "code",
   "execution_count": 8,
   "metadata": {
    "pycharm": {
     "name": "#%%\n"
    }
   },
   "outputs": [],
   "source": [
    "def sumForTwenty(arg1, arg2, arg3, arg4, arg5, arg6, arg7, arg8, arg9, arg10, arg11, arg12, arg13, arg14, arg15, arg16, arg17, arg18, arg19, arg20):\n",
    "    args = [arg1, arg2, arg3, arg4, arg5, arg6, arg7, arg8, arg9, arg10, arg11, arg12, arg13, arg14, arg15, arg16, arg17, arg18, arg19, arg20]\n",
    "    total = 0\n",
    "    for arg in args:\n",
    "        if (type(arg) is not float) and (type(arg) is not int):\n",
    "            print(\"Error: Number passed as string, rather than integer or float!\")\n",
    "        else:\n",
    "            total += arg\n",
    "\n",
    "    print(total) "
   ]
  },
  {
   "cell_type": "code",
   "execution_count": 9,
   "metadata": {
    "pycharm": {
     "name": "#%%\n"
    }
   },
   "outputs": [
    {
     "name": "stdout",
     "output_type": "stream",
     "text": [
      "780\n"
     ]
    }
   ],
   "source": [
    "# Example for sumForTwenty\n",
    "sumForTwenty(20, 21, 29, 14, 35, 76, 86, 23, 24, 67, 27, 1, 56, 32, 14, 79, 82, 54, 22, 18)"
   ]
  },
  {
   "cell_type": "markdown",
   "metadata": {
    "pycharm": {
     "name": "#%% md\n"
    }
   },
   "source": [
    "Task 4.3: Write a duplicateNames function. The function takes a list of string and an integer N as argument, and return another list of string as output. The output duplicates the input list N times and updates the string values by adding an incremental number starting from 1 to them. Example: list = ['a', 'b'], N=3 -> ['a1', 'b1', 'a2', 'b2', 'a3', 'b3']. "
   ]
  },
  {
   "cell_type": "code",
   "execution_count": 13,
   "metadata": {
    "pycharm": {
     "name": "#%%\n"
    }
   },
   "outputs": [
    {
     "name": "stdout",
     "output_type": "stream",
     "text": [
      "['a1', 'b1', 'a2', 'b2', 'a3', 'b3']\n"
     ]
    }
   ],
   "source": [
    "def duplicateNames(string_array, N):\n",
    "    duplicate_array = [None]*(len(string_array)*N)\n",
    "    counter = 0\n",
    "    for k in range(1, N+1):\n",
    "        for letter in string_array:\n",
    "            duplicate_array[counter] = f\"{letter}{k}\"\n",
    "            counter += 1\n",
    "    return duplicate_array\n",
    "\n",
    "print(duplicateNames(['a', 'b'], 3))\n"
   ]
  },
  {
   "cell_type": "markdown",
   "metadata": {
    "pycharm": {
     "name": "#%% md\n"
    }
   },
   "source": [
    "Task 4.4: Write a top3Players function. The function takes a dictionary as argument. This dictionary keeps track of players and their scores. Based on this, the function returns the top 3 players with the highest scores as output. Example: {'lebron': 70, 'kobe': 80, 'stephen': 75, 'michael': 85, 'larry': 82} -> 'michael', 'larry', 'kobe'. "
   ]
  },
  {
   "cell_type": "code",
   "execution_count": 11,
   "metadata": {
    "pycharm": {
     "name": "#%%\n"
    }
   },
   "outputs": [
    {
     "name": "stdout",
     "output_type": "stream",
     "text": [
      "Initial Dictionary\n",
      "{'Lebron': 70, 'Kobe': 80, 'Stephen': 75, 'Michael': 85, 'Larry': 82} \n",
      "\n",
      "The top 3 players are:\n",
      "Michael : 85\n",
      "Larry : 82\n",
      "Kobe : 80\n"
     ]
    }
   ],
   "source": [
    "top3Players = {'Lebron': 70, 'Kobe': 80, 'Stephen': 75, 'Michael': 85, 'Larry': 82}\n",
    "print(\"Initial Dictionary\")\n",
    "print(top3Players, \"\\n\")\n",
    "\n",
    "print(\"The top 3 players are:\")\n",
    "\n",
    "x=list(top3Players.values())\n",
    "d=dict()\n",
    "x.sort(reverse=True)\n",
    "x=x[:3]\n",
    "for i in x:\n",
    "    for j in top3Players.keys():\n",
    "        if (top3Players[j]==i):\n",
    "            print(str(j)+\" : \"+str(top3Players[j]))"
   ]
  }
 ],
 "metadata": {
  "kernelspec": {
   "display_name": "Python 3.10.5 64-bit",
   "language": "python",
   "name": "python3"
  },
  "language_info": {
   "codemirror_mode": {
    "name": "ipython",
    "version": 3
   },
   "file_extension": ".py",
   "mimetype": "text/x-python",
   "name": "python",
   "nbconvert_exporter": "python",
   "pygments_lexer": "ipython3",
   "version": "3.10.5"
  },
  "orig_nbformat": 4,
  "vscode": {
   "interpreter": {
    "hash": "aee8b7b246df8f9039afb4144a1f6fd8d2ca17a180786b69acc140d282b71a49"
   }
  }
 },
 "nbformat": 4,
 "nbformat_minor": 2
}