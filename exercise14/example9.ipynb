{
 "cells": [
  {
   "cell_type": "markdown",
   "metadata": {
    "pycharm": {
     "name": "#%% md\n"
    }
   },
   "source": [
    "# Exercise 14 "
   ]
  },
  {
   "cell_type": "markdown",
   "metadata": {
    "pycharm": {
     "name": "#%% md\n"
    }
   },
   "source": [
    "Download the `yelp_academic_dataset_review_Nov2022_small.jsonl` file from Canvas under `Files/datasets`. Use this dataset to finish the following tasks. "
   ]
  },
  {
   "cell_type": "code",
   "execution_count": 4,
   "metadata": {
    "pycharm": {
     "name": "#%%\n"
    }
   },
   "outputs": [],
   "source": [
    "import pandas as pd\n",
    "import re # regular expressions\n",
    "import json\n",
    "import spacy\n",
    "from tqdm import tqdm\n",
    "import numpy as np"
   ]
  },
  {
   "cell_type": "code",
   "execution_count": 5,
   "metadata": {
    "pycharm": {
     "name": "#%%\n"
    }
   },
   "outputs": [],
   "source": [
    "import os\n",
    "\n",
    "os.chdir('/Volumes/GoogleDrive/My Drive/2022 Computational Sociology/compsoc')"
   ]
  },
  {
   "cell_type": "code",
   "execution_count": 6,
   "metadata": {
    "pycharm": {
     "name": "#%%\n"
    }
   },
   "outputs": [
    {
     "data": {
      "text/plain": [
       "<spacytextblob.spacytextblob.SpacyTextBlob at 0x11ed79d00>"
      ]
     },
     "execution_count": 6,
     "metadata": {},
     "output_type": "execute_result"
    }
   ],
   "source": [
    "nlp = spacy.load('en_core_web_sm')\n",
    "from spacytextblob.spacytextblob import SpacyTextBlob\n",
    "\n",
    "nlp.add_pipe('spacytextblob')"
   ]
  },
  {
   "cell_type": "code",
   "execution_count": 7,
   "metadata": {
    "pycharm": {
     "name": "#%%\n"
    }
   },
   "outputs": [],
   "source": [
    "data = pd.read_json('yelp_academic_dataset_review_Nov2022_small.jsonl', lines = True)\n",
    "#data"
   ]
  },
  {
   "cell_type": "markdown",
   "metadata": {
    "pycharm": {
     "name": "#%% md\n"
    }
   },
   "source": [
    "\n",
    "Task 1. For each review included in the dataset, use `spacytextblob` and its inherent document-level scores to get the polarity score of the text. Create a violinplot with the x-axis being individual reviews' star rating, and the y-axis being the calculated polarity scores. Interpret the results. \n"
   ]
  },
  {
   "cell_type": "code",
   "execution_count": 8,
   "metadata": {
    "pycharm": {
     "name": "#%%\n"
    }
   },
   "outputs": [
    {
     "name": "stderr",
     "output_type": "stream",
     "text": [
      "100%|██████████| 10000/10000 [05:26<00:00, 30.64it/s]\n"
     ]
    }
   ],
   "source": [
    "ratings = []\n",
    "review_ids=[]\n",
    "polarity_scores = []\n",
    "useful_scores = []\n",
    "funny_scores =[]\n",
    "cool_scores =[]\n",
    "\n",
    "with open('yelp_academic_dataset_review_Nov2022_small.jsonl', 'r') as f:\n",
    "    line_index = 0\n",
    "    for line in tqdm(f, total = 10000):\n",
    "        line_index += 1\n",
    "        review_dict = json.loads(line)\n",
    "\n",
    "        review = review_dict['text']\n",
    "        rating = review_dict['stars']\n",
    "        review_id = review_dict['review_id']\n",
    "        useful = review_dict['useful']\n",
    "        funny = review_dict['funny']\n",
    "        cool = review_dict['cool']\n",
    "\n",
    "        review_doc = nlp(review)\n",
    "        polarity_score = 0\n",
    "        for assess_tuple in review_doc._.blob.sentiment_assessments.assessments:\n",
    "            polarity_score += assess_tuple[1]\n",
    "\n",
    "        ratings.append(rating)\n",
    "        polarity_scores.append(polarity_score)\n",
    "        review_ids.append(review_id)\n",
    "        useful_scores.append(useful)\n",
    "        funny_scores.append(funny)\n",
    "        cool_scores.append(cool)"
   ]
  },
  {
   "cell_type": "code",
   "execution_count": 9,
   "metadata": {
    "pycharm": {
     "name": "#%%\n"
    }
   },
   "outputs": [
    {
     "data": {
      "text/html": [
       "<div>\n",
       "<style scoped>\n",
       "    .dataframe tbody tr th:only-of-type {\n",
       "        vertical-align: middle;\n",
       "    }\n",
       "\n",
       "    .dataframe tbody tr th {\n",
       "        vertical-align: top;\n",
       "    }\n",
       "\n",
       "    .dataframe thead th {\n",
       "        text-align: right;\n",
       "    }\n",
       "</style>\n",
       "<table border=\"1\" class=\"dataframe\">\n",
       "  <thead>\n",
       "    <tr style=\"text-align: right;\">\n",
       "      <th></th>\n",
       "      <th>review_id</th>\n",
       "      <th>ratings</th>\n",
       "      <th>polarity_score</th>\n",
       "      <th>useful_scores</th>\n",
       "      <th>funny_scores</th>\n",
       "      <th>cool_scores</th>\n",
       "    </tr>\n",
       "  </thead>\n",
       "  <tbody>\n",
       "    <tr>\n",
       "      <th>0</th>\n",
       "      <td>KU_O5udG6zpxOg-VcAEodg</td>\n",
       "      <td>3.0</td>\n",
       "      <td>1.023333</td>\n",
       "      <td>0</td>\n",
       "      <td>0</td>\n",
       "      <td>0</td>\n",
       "    </tr>\n",
       "    <tr>\n",
       "      <th>1</th>\n",
       "      <td>BiTunyQ73aT9WBnpR9DZGw</td>\n",
       "      <td>5.0</td>\n",
       "      <td>4.425000</td>\n",
       "      <td>1</td>\n",
       "      <td>0</td>\n",
       "      <td>1</td>\n",
       "    </tr>\n",
       "    <tr>\n",
       "      <th>2</th>\n",
       "      <td>saUsX_uimxRlCVr67Z4Jig</td>\n",
       "      <td>3.0</td>\n",
       "      <td>1.539286</td>\n",
       "      <td>0</td>\n",
       "      <td>0</td>\n",
       "      <td>0</td>\n",
       "    </tr>\n",
       "    <tr>\n",
       "      <th>3</th>\n",
       "      <td>AqPFMleE6RsU23_auESxiA</td>\n",
       "      <td>5.0</td>\n",
       "      <td>2.420455</td>\n",
       "      <td>1</td>\n",
       "      <td>0</td>\n",
       "      <td>1</td>\n",
       "    </tr>\n",
       "    <tr>\n",
       "      <th>4</th>\n",
       "      <td>Sx8TMOWLNuJBWer-0pcmoA</td>\n",
       "      <td>4.0</td>\n",
       "      <td>5.613571</td>\n",
       "      <td>1</td>\n",
       "      <td>0</td>\n",
       "      <td>1</td>\n",
       "    </tr>\n",
       "    <tr>\n",
       "      <th>...</th>\n",
       "      <td>...</td>\n",
       "      <td>...</td>\n",
       "      <td>...</td>\n",
       "      <td>...</td>\n",
       "      <td>...</td>\n",
       "      <td>...</td>\n",
       "    </tr>\n",
       "    <tr>\n",
       "      <th>9995</th>\n",
       "      <td>ZcBtCA9jGhLfakf1jJ2BAg</td>\n",
       "      <td>5.0</td>\n",
       "      <td>1.800000</td>\n",
       "      <td>0</td>\n",
       "      <td>0</td>\n",
       "      <td>0</td>\n",
       "    </tr>\n",
       "    <tr>\n",
       "      <th>9996</th>\n",
       "      <td>UIkEO-10J6Y99IhRqUflvg</td>\n",
       "      <td>5.0</td>\n",
       "      <td>0.600000</td>\n",
       "      <td>0</td>\n",
       "      <td>1</td>\n",
       "      <td>0</td>\n",
       "    </tr>\n",
       "    <tr>\n",
       "      <th>9997</th>\n",
       "      <td>S-NQM3Axcg8JS3MXHUIvyw</td>\n",
       "      <td>5.0</td>\n",
       "      <td>1.097727</td>\n",
       "      <td>0</td>\n",
       "      <td>0</td>\n",
       "      <td>0</td>\n",
       "    </tr>\n",
       "    <tr>\n",
       "      <th>9998</th>\n",
       "      <td>ME79YrEhm2xe4IQy_0zkGw</td>\n",
       "      <td>5.0</td>\n",
       "      <td>2.812500</td>\n",
       "      <td>0</td>\n",
       "      <td>0</td>\n",
       "      <td>0</td>\n",
       "    </tr>\n",
       "    <tr>\n",
       "      <th>9999</th>\n",
       "      <td>05oKtleZ-JFGD6qt47VQcg</td>\n",
       "      <td>2.0</td>\n",
       "      <td>1.319048</td>\n",
       "      <td>0</td>\n",
       "      <td>0</td>\n",
       "      <td>0</td>\n",
       "    </tr>\n",
       "  </tbody>\n",
       "</table>\n",
       "<p>10000 rows × 6 columns</p>\n",
       "</div>"
      ],
      "text/plain": [
       "                   review_id  ratings  polarity_score  useful_scores  \\\n",
       "0     KU_O5udG6zpxOg-VcAEodg      3.0        1.023333              0   \n",
       "1     BiTunyQ73aT9WBnpR9DZGw      5.0        4.425000              1   \n",
       "2     saUsX_uimxRlCVr67Z4Jig      3.0        1.539286              0   \n",
       "3     AqPFMleE6RsU23_auESxiA      5.0        2.420455              1   \n",
       "4     Sx8TMOWLNuJBWer-0pcmoA      4.0        5.613571              1   \n",
       "...                      ...      ...             ...            ...   \n",
       "9995  ZcBtCA9jGhLfakf1jJ2BAg      5.0        1.800000              0   \n",
       "9996  UIkEO-10J6Y99IhRqUflvg      5.0        0.600000              0   \n",
       "9997  S-NQM3Axcg8JS3MXHUIvyw      5.0        1.097727              0   \n",
       "9998  ME79YrEhm2xe4IQy_0zkGw      5.0        2.812500              0   \n",
       "9999  05oKtleZ-JFGD6qt47VQcg      2.0        1.319048              0   \n",
       "\n",
       "      funny_scores  cool_scores  \n",
       "0                0            0  \n",
       "1                0            1  \n",
       "2                0            0  \n",
       "3                0            1  \n",
       "4                0            1  \n",
       "...            ...          ...  \n",
       "9995             0            0  \n",
       "9996             1            0  \n",
       "9997             0            0  \n",
       "9998             0            0  \n",
       "9999             0            0  \n",
       "\n",
       "[10000 rows x 6 columns]"
      ]
     },
     "execution_count": 9,
     "metadata": {},
     "output_type": "execute_result"
    }
   ],
   "source": [
    "yelp_df = pd.DataFrame(columns=['review_id', 'ratings', 'polarity_score', 'useful_scores', 'funny_scores','cool_scores'])\n",
    "yelp_df['ratings'] = ratings\n",
    "yelp_df['review_id'] = review_ids\n",
    "yelp_df['polarity_score'] = polarity_scores\n",
    "yelp_df['useful_scores'] = useful_scores\n",
    "yelp_df['funny_scores'] = funny_scores\n",
    "yelp_df['cool_scores'] = cool_scores\n",
    "\n",
    "yelp_df"
   ]
  },
  {
   "cell_type": "code",
   "execution_count": 10,
   "metadata": {
    "pycharm": {
     "name": "#%%\n"
    }
   },
   "outputs": [
    {
     "data": {
      "text/plain": [
       "<AxesSubplot: xlabel='ratings', ylabel='polarity_score'>"
      ]
     },
     "execution_count": 10,
     "metadata": {},
     "output_type": "execute_result"
    },
    {
     "data": {
      "image/png": "[encoded data removed]",
      "text/plain": [
       "<Figure size 640x480 with 1 Axes>"
      ]
     },
     "metadata": {},
     "output_type": "display_data"
    }
   ],
   "source": [
    "import seaborn as sns\n",
    "\n",
    "sns.violinplot(data=yelp_df, x='ratings', y='polarity_score')"
   ]
  },
  {
   "cell_type": "markdown",
   "metadata": {
    "pycharm": {
     "name": "#%% md\n"
    }
   },
   "source": [
    "The polarity(avarage) increases while ratings (number of stars) increase. Also the standard deviation of polarity seems to increase, too. The 5 star reviews have a range of from -10 to 30 while 1 start reviews have a range from -10 to 10. "
   ]
  },
  {
   "cell_type": "markdown",
   "metadata": {
    "pycharm": {
     "name": "#%% md\n"
    }
   },
   "source": [
    "\n",
    "Task 2. For each review included in the dataset, extract the subjective phrases in the text using  `spacytextblob` and its `sentiment_assessments.assessments` feature. "
   ]
  },
  {
   "cell_type": "code",
   "execution_count": 11,
   "metadata": {
    "pycharm": {
     "name": "#%%\n"
    }
   },
   "outputs": [],
   "source": [
    "import string"
   ]
  },
  {
   "cell_type": "code",
   "execution_count": 12,
   "metadata": {
    "pycharm": {
     "name": "#%%\n"
    }
   },
   "outputs": [
    {
     "name": "stderr",
     "output_type": "stream",
     "text": [
      "100%|██████████| 10000/10000 [05:22<00:00, 31.01it/s]\n"
     ]
    }
   ],
   "source": [
    "review_ids = []\n",
    "ratings = []\n",
    "subjective_scores = []\n",
    "subjective_phrases = []\n",
    "\n",
    "\n",
    "with open('yelp_academic_dataset_review_Nov2022_small.jsonl', 'r') as f:\n",
    "    line_index = 0\n",
    "    for line in tqdm(f, total = 10000):\n",
    "        line_index += 1\n",
    "        review_dict = json.loads(line)\n",
    "\n",
    "        review = review_dict['text']\n",
    "        rating = review_dict['stars']\n",
    "        review_id = review_dict['review_id']\n",
    "\n",
    "        review_doc = nlp(review)\n",
    "        subjective_phrases_in_doc = []\n",
    "        subjective_score = 0\n",
    "        for assess_tuple in review_doc._.blob.sentiment_assessments.assessments:\n",
    "            subjective_phrases_in_doc.append(' '.join(assess_tuple[0]))\n",
    "            subjective_score += assess_tuple[2]\n",
    "\n",
    "        ratings.append(rating)\n",
    "        subjective_scores.append(subjective_score)\n",
    "        review_ids.append(review_id)\n",
    "        subjective_phrases.append(' '.join(subjective_phrases_in_doc).translate(str.maketrans('', '', string.punctuation)))"
   ]
  },
  {
   "cell_type": "code",
   "execution_count": 13,
   "metadata": {
    "pycharm": {
     "name": "#%%\n"
    }
   },
   "outputs": [
    {
     "data": {
      "text/html": [
       "<div>\n",
       "<style scoped>\n",
       "    .dataframe tbody tr th:only-of-type {\n",
       "        vertical-align: middle;\n",
       "    }\n",
       "\n",
       "    .dataframe tbody tr th {\n",
       "        vertical-align: top;\n",
       "    }\n",
       "\n",
       "    .dataframe thead th {\n",
       "        text-align: right;\n",
       "    }\n",
       "</style>\n",
       "<table border=\"1\" class=\"dataframe\">\n",
       "  <thead>\n",
       "    <tr style=\"text-align: right;\">\n",
       "      <th></th>\n",
       "      <th>review_id</th>\n",
       "      <th>ratings</th>\n",
       "      <th>subjective_scores</th>\n",
       "      <th>subjective_phrases</th>\n",
       "    </tr>\n",
       "  </thead>\n",
       "  <tbody>\n",
       "    <tr>\n",
       "      <th>0</th>\n",
       "      <td>KU_O5udG6zpxOg-VcAEodg</td>\n",
       "      <td>3.0</td>\n",
       "      <td>5.148333</td>\n",
       "      <td>aware multiple  other bad good very long very ...</td>\n",
       "    </tr>\n",
       "    <tr>\n",
       "      <th>1</th>\n",
       "      <td>BiTunyQ73aT9WBnpR9DZGw</td>\n",
       "      <td>5.0</td>\n",
       "      <td>6.283333</td>\n",
       "      <td>nice clean amazing top fit easy advanced many ...</td>\n",
       "    </tr>\n",
       "    <tr>\n",
       "      <th>2</th>\n",
       "      <td>saUsX_uimxRlCVr67Z4Jig</td>\n",
       "      <td>3.0</td>\n",
       "      <td>5.745238</td>\n",
       "      <td>large chicken fresh good mexican long friendly...</td>\n",
       "    </tr>\n",
       "    <tr>\n",
       "      <th>3</th>\n",
       "      <td>AqPFMleE6RsU23_auESxiA</td>\n",
       "      <td>5.0</td>\n",
       "      <td>5.704545</td>\n",
       "      <td>wow  different delicious favorite different   ...</td>\n",
       "    </tr>\n",
       "    <tr>\n",
       "      <th>4</th>\n",
       "      <td>Sx8TMOWLNuJBWer-0pcmoA</td>\n",
       "      <td>4.0</td>\n",
       "      <td>6.872857</td>\n",
       "      <td>cute great beautiful very good very really man...</td>\n",
       "    </tr>\n",
       "    <tr>\n",
       "      <th>...</th>\n",
       "      <td>...</td>\n",
       "      <td>...</td>\n",
       "      <td>...</td>\n",
       "      <td>...</td>\n",
       "    </tr>\n",
       "    <tr>\n",
       "      <th>9995</th>\n",
       "      <td>ZcBtCA9jGhLfakf1jJ2BAg</td>\n",
       "      <td>5.0</td>\n",
       "      <td>1.875000</td>\n",
       "      <td>excellent same great</td>\n",
       "    </tr>\n",
       "    <tr>\n",
       "      <th>9996</th>\n",
       "      <td>UIkEO-10J6Y99IhRqUflvg</td>\n",
       "      <td>5.0</td>\n",
       "      <td>0.900000</td>\n",
       "      <td>amazing</td>\n",
       "    </tr>\n",
       "    <tr>\n",
       "      <th>9997</th>\n",
       "      <td>S-NQM3Axcg8JS3MXHUIvyw</td>\n",
       "      <td>5.0</td>\n",
       "      <td>6.900758</td>\n",
       "      <td>outstanding  great  other new new bad  extreme...</td>\n",
       "    </tr>\n",
       "    <tr>\n",
       "      <th>9998</th>\n",
       "      <td>ME79YrEhm2xe4IQy_0zkGw</td>\n",
       "      <td>5.0</td>\n",
       "      <td>4.800000</td>\n",
       "      <td>nice calm dimly red loved pretty  great defini...</td>\n",
       "    </tr>\n",
       "    <tr>\n",
       "      <th>9999</th>\n",
       "      <td>05oKtleZ-JFGD6qt47VQcg</td>\n",
       "      <td>2.0</td>\n",
       "      <td>6.002381</td>\n",
       "      <td>big really happy accomplished super creepy sou...</td>\n",
       "    </tr>\n",
       "  </tbody>\n",
       "</table>\n",
       "<p>10000 rows × 4 columns</p>\n",
       "</div>"
      ],
      "text/plain": [
       "                   review_id  ratings  subjective_scores  \\\n",
       "0     KU_O5udG6zpxOg-VcAEodg      3.0           5.148333   \n",
       "1     BiTunyQ73aT9WBnpR9DZGw      5.0           6.283333   \n",
       "2     saUsX_uimxRlCVr67Z4Jig      3.0           5.745238   \n",
       "3     AqPFMleE6RsU23_auESxiA      5.0           5.704545   \n",
       "4     Sx8TMOWLNuJBWer-0pcmoA      4.0           6.872857   \n",
       "...                      ...      ...                ...   \n",
       "9995  ZcBtCA9jGhLfakf1jJ2BAg      5.0           1.875000   \n",
       "9996  UIkEO-10J6Y99IhRqUflvg      5.0           0.900000   \n",
       "9997  S-NQM3Axcg8JS3MXHUIvyw      5.0           6.900758   \n",
       "9998  ME79YrEhm2xe4IQy_0zkGw      5.0           4.800000   \n",
       "9999  05oKtleZ-JFGD6qt47VQcg      2.0           6.002381   \n",
       "\n",
       "                                     subjective_phrases  \n",
       "0     aware multiple  other bad good very long very ...  \n",
       "1     nice clean amazing top fit easy advanced many ...  \n",
       "2     large chicken fresh good mexican long friendly...  \n",
       "3     wow  different delicious favorite different   ...  \n",
       "4     cute great beautiful very good very really man...  \n",
       "...                                                 ...  \n",
       "9995                               excellent same great  \n",
       "9996                                            amazing  \n",
       "9997  outstanding  great  other new new bad  extreme...  \n",
       "9998  nice calm dimly red loved pretty  great defini...  \n",
       "9999  big really happy accomplished super creepy sou...  \n",
       "\n",
       "[10000 rows x 4 columns]"
      ]
     },
     "execution_count": 13,
     "metadata": {},
     "output_type": "execute_result"
    }
   ],
   "source": [
    "yelp_sub_df = pd.DataFrame(columns=['review_id', 'ratings', 'subjective_scores', 'subjective_phrases'])\n",
    "yelp_sub_df['ratings'] = ratings\n",
    "yelp_sub_df['review_id'] = review_ids\n",
    "yelp_sub_df['subjective_scores'] = subjective_scores\n",
    "yelp_sub_df['subjective_phrases'] = subjective_phrases\n",
    "\n",
    "yelp_sub_df"
   ]
  },
  {
   "cell_type": "markdown",
   "metadata": {
    "pycharm": {
     "name": "#%% md\n"
    }
   },
   "source": [
    "Then, for each review whose review_id is in the following `target_review_ids` list, find the top 3 reviews that are most similar to it in terms of their subjective phrases.\n",
    "\n",
    "Answer the following questions:\n",
    "\n",
    "For each of the target reviews, what are the top 3 reviews that are most similar to it in terms of their subjective phrases?\n",
    "What is the rating of each of the target reviews? What about the rating of their top 3 most similar reviews? Are they correlated? Interpret the results. \n",
    "\n",
    "Requirement:\n",
    "\n",
    "Use either spacy's word vector or the one-hot encoding method to get document-level word embeddings for the review text, which should be based only on the subjective phrases. \n",
    "\n",
    "Use these word embeddings and the cosine similarity metric to find similar texts"
   ]
  },
  {
   "cell_type": "code",
   "execution_count": 14,
   "metadata": {
    "pycharm": {
     "name": "#%%\n"
    }
   },
   "outputs": [],
   "source": [
    "target_review_ids = [\"40thYphUgIfvJq17QCfTwA\", \"E9AB7V4z8xrt2uPF7T55FQ\", \"4PHFo_GRG4FEk1q4X7xQVQ\", \"4KpIldEM-tdnrJLqYzRfZQ\", \n",
    "\"PDHRlnEdkEcwATry4w71PQ\", \"meGaFP7yxQdjyABrYDVeoQ\", \"pgESDcC7eDx4z_epqon4_Q\", \"qeSxL-POvGLZD6aQ5O9kvw\"]"
   ]
  },
  {
   "cell_type": "code",
   "execution_count": 15,
   "metadata": {
    "pycharm": {
     "name": "#%%\n"
    }
   },
   "outputs": [
    {
     "data": {
      "text/html": [
       "<div>\n",
       "<style scoped>\n",
       "    .dataframe tbody tr th:only-of-type {\n",
       "        vertical-align: middle;\n",
       "    }\n",
       "\n",
       "    .dataframe tbody tr th {\n",
       "        vertical-align: top;\n",
       "    }\n",
       "\n",
       "    .dataframe thead th {\n",
       "        text-align: right;\n",
       "    }\n",
       "</style>\n",
       "<table border=\"1\" class=\"dataframe\">\n",
       "  <thead>\n",
       "    <tr style=\"text-align: right;\">\n",
       "      <th></th>\n",
       "      <th>review_id</th>\n",
       "      <th>ratings</th>\n",
       "      <th>subjective_scores</th>\n",
       "      <th>subjective_phrases</th>\n",
       "    </tr>\n",
       "  </thead>\n",
       "  <tbody>\n",
       "    <tr>\n",
       "      <th>32</th>\n",
       "      <td>40thYphUgIfvJq17QCfTwA</td>\n",
       "      <td>5.0</td>\n",
       "      <td>3.350000</td>\n",
       "      <td>great nice clean huge</td>\n",
       "    </tr>\n",
       "    <tr>\n",
       "      <th>39</th>\n",
       "      <td>E9AB7V4z8xrt2uPF7T55FQ</td>\n",
       "      <td>5.0</td>\n",
       "      <td>2.490000</td>\n",
       "      <td>amazing blank great highly busy</td>\n",
       "    </tr>\n",
       "    <tr>\n",
       "      <th>66</th>\n",
       "      <td>4KpIldEM-tdnrJLqYzRfZQ</td>\n",
       "      <td>5.0</td>\n",
       "      <td>5.550000</td>\n",
       "      <td>only awesome  freshly filled phenomenal sweet ...</td>\n",
       "    </tr>\n",
       "    <tr>\n",
       "      <th>73</th>\n",
       "      <td>PDHRlnEdkEcwATry4w71PQ</td>\n",
       "      <td>1.0</td>\n",
       "      <td>3.557143</td>\n",
       "      <td>plain unable back actual back awkwardly next b...</td>\n",
       "    </tr>\n",
       "    <tr>\n",
       "      <th>84</th>\n",
       "      <td>meGaFP7yxQdjyABrYDVeoQ</td>\n",
       "      <td>1.0</td>\n",
       "      <td>2.216667</td>\n",
       "      <td>seriously chicken good</td>\n",
       "    </tr>\n",
       "    <tr>\n",
       "      <th>96</th>\n",
       "      <td>4PHFo_GRG4FEk1q4X7xQVQ</td>\n",
       "      <td>5.0</td>\n",
       "      <td>8.354545</td>\n",
       "      <td>great          completely new other busy total...</td>\n",
       "    </tr>\n",
       "    <tr>\n",
       "      <th>347</th>\n",
       "      <td>qeSxL-POvGLZD6aQ5O9kvw</td>\n",
       "      <td>1.0</td>\n",
       "      <td>32.216270</td>\n",
       "      <td>rarely honestly worst objectively horrible nic...</td>\n",
       "    </tr>\n",
       "    <tr>\n",
       "      <th>424</th>\n",
       "      <td>pgESDcC7eDx4z_epqon4_Q</td>\n",
       "      <td>1.0</td>\n",
       "      <td>4.696667</td>\n",
       "      <td>half completely top surprised sweet very good ...</td>\n",
       "    </tr>\n",
       "  </tbody>\n",
       "</table>\n",
       "</div>"
      ],
      "text/plain": [
       "                  review_id  ratings  subjective_scores  \\\n",
       "32   40thYphUgIfvJq17QCfTwA      5.0           3.350000   \n",
       "39   E9AB7V4z8xrt2uPF7T55FQ      5.0           2.490000   \n",
       "66   4KpIldEM-tdnrJLqYzRfZQ      5.0           5.550000   \n",
       "73   PDHRlnEdkEcwATry4w71PQ      1.0           3.557143   \n",
       "84   meGaFP7yxQdjyABrYDVeoQ      1.0           2.216667   \n",
       "96   4PHFo_GRG4FEk1q4X7xQVQ      5.0           8.354545   \n",
       "347  qeSxL-POvGLZD6aQ5O9kvw      1.0          32.216270   \n",
       "424  pgESDcC7eDx4z_epqon4_Q      1.0           4.696667   \n",
       "\n",
       "                                    subjective_phrases  \n",
       "32                               great nice clean huge  \n",
       "39                     amazing blank great highly busy  \n",
       "66   only awesome  freshly filled phenomenal sweet ...  \n",
       "73   plain unable back actual back awkwardly next b...  \n",
       "84                              seriously chicken good  \n",
       "96   great          completely new other busy total...  \n",
       "347  rarely honestly worst objectively horrible nic...  \n",
       "424  half completely top surprised sweet very good ...  "
      ]
     },
     "execution_count": 15,
     "metadata": {},
     "output_type": "execute_result"
    }
   ],
   "source": [
    "yelp_sub_df[yelp_sub_df.loc[:,\"review_id\"].isin(target_review_ids)]"
   ]
  },
  {
   "cell_type": "code",
   "execution_count": 63,
   "metadata": {
    "pycharm": {
     "name": "#%%\n"
    }
   },
   "outputs": [],
   "source": [
    "yelp_sub_df = yelp_sub_df.dropna(subset= ['subjective_phrases'])"
   ]
  },
  {
   "cell_type": "code",
   "execution_count": 16,
   "metadata": {
    "pycharm": {
     "name": "#%%\n"
    }
   },
   "outputs": [
    {
     "name": "stderr",
     "output_type": "stream",
     "text": [
      "100%|██████████| 10000/10000 [01:05<00:00, 153.14it/s]"
     ]
    },
    {
     "name": "stdout",
     "output_type": "stream",
     "text": [
      "there are 1434 unique words among subjective phrases\n"
     ]
    },
    {
     "name": "stderr",
     "output_type": "stream",
     "text": [
      "\n"
     ]
    }
   ],
   "source": [
    "vocab_with_freq = dict()\n",
    "\n",
    "for i in tqdm(range(len(yelp_sub_df))):\n",
    "    phrase = yelp_sub_df.loc[i, 'subjective_phrases']\n",
    "    for token in nlp(phrase):\n",
    "        if token.is_alpha:\n",
    "            vocab_with_freq[token.lemma_.lower()] = vocab_with_freq.get(token.lemma_.lower(), 0) + 1\n",
    "\n",
    "vocabulary_list = list(vocab_with_freq.keys())\n",
    "print('there are', len(vocabulary_list), 'unique words among subjective phrases')"
   ]
  },
  {
   "cell_type": "code",
   "execution_count": 17,
   "metadata": {
    "pycharm": {
     "name": "#%%\n"
    }
   },
   "outputs": [
    {
     "name": "stderr",
     "output_type": "stream",
     "text": [
      "100%|██████████| 10000/10000 [01:05<00:00, 152.37it/s]\n"
     ]
    }
   ],
   "source": [
    "one_hot_encodings = []\n",
    "\n",
    "for i in tqdm(range(len(yelp_sub_df))):\n",
    "    phrase = yelp_sub_df.loc[i, 'subjective_phrases'] \n",
    "    token_indices = []\n",
    "\n",
    "    for token in nlp(phrase):\n",
    "        if token.is_alpha:\n",
    "            token_index_in_vocab = vocabulary_list.index(token.lemma_.lower())\n",
    "            token_indices.append(token_index_in_vocab)\n",
    "\n",
    "    one_hot_encoding = np.zeros(len(vocabulary_list))\n",
    "    for token_index in token_indices:\n",
    "        one_hot_encoding[token_index] = 1\n",
    "\n",
    "    one_hot_encodings.append(one_hot_encoding)"
   ]
  },
  {
   "cell_type": "code",
   "execution_count": 18,
   "metadata": {
    "pycharm": {
     "name": "#%%\n"
    }
   },
   "outputs": [
    {
     "data": {
      "text/plain": [
       "(10000, 1434)"
      ]
     },
     "execution_count": 18,
     "metadata": {},
     "output_type": "execute_result"
    }
   ],
   "source": [
    "np.array(one_hot_encodings).shape \n"
   ]
  },
  {
   "cell_type": "code",
   "execution_count": 19,
   "metadata": {
    "pycharm": {
     "name": "#%%\n"
    }
   },
   "outputs": [],
   "source": [
    "from scipy.spatial.distance import cosine"
   ]
  },
  {
   "cell_type": "code",
   "execution_count": 72,
   "metadata": {
    "pycharm": {
     "name": "#%%\n"
    }
   },
   "outputs": [
    {
     "name": "stderr",
     "output_type": "stream",
     "text": [
      "  0%|          | 0/9999 [00:00<?, ?it/s]/Users/betulozturan/Library/Python/3.9/lib/python/site-packages/scipy/spatial/distance.py:620: RuntimeWarning: invalid value encountered in double_scalars\n",
      "  dist = 1.0 - uv / np.sqrt(uu * vv)\n",
      "100%|██████████| 9999/9999 [00:00<00:00, 44384.19it/s]"
     ]
    },
    {
     "name": "stdout",
     "output_type": "stream",
     "text": [
      "the primary job title: great nice clean huge\n"
     ]
    },
    {
     "name": "stderr",
     "output_type": "stream",
     "text": [
      "\n"
     ]
    },
    {
     "data": {
      "text/html": [
       "<div>\n",
       "<style scoped>\n",
       "    .dataframe tbody tr th:only-of-type {\n",
       "        vertical-align: middle;\n",
       "    }\n",
       "\n",
       "    .dataframe tbody tr th {\n",
       "        vertical-align: top;\n",
       "    }\n",
       "\n",
       "    .dataframe thead th {\n",
       "        text-align: right;\n",
       "    }\n",
       "</style>\n",
       "<table border=\"1\" class=\"dataframe\">\n",
       "  <thead>\n",
       "    <tr style=\"text-align: right;\">\n",
       "      <th></th>\n",
       "      <th>phrase</th>\n",
       "      <th>similarity_value_with_one_hot</th>\n",
       "    </tr>\n",
       "  </thead>\n",
       "  <tbody>\n",
       "    <tr>\n",
       "      <th>3680</th>\n",
       "      <td></td>\n",
       "      <td>1.0</td>\n",
       "    </tr>\n",
       "    <tr>\n",
       "      <th>3055</th>\n",
       "      <td></td>\n",
       "      <td>1.0</td>\n",
       "    </tr>\n",
       "    <tr>\n",
       "      <th>359</th>\n",
       "      <td></td>\n",
       "      <td>1.0</td>\n",
       "    </tr>\n",
       "    <tr>\n",
       "      <th>32</th>\n",
       "      <td>great nice clean huge</td>\n",
       "      <td>1.0</td>\n",
       "    </tr>\n",
       "    <tr>\n",
       "      <th>1710</th>\n",
       "      <td></td>\n",
       "      <td>1.0</td>\n",
       "    </tr>\n",
       "    <tr>\n",
       "      <th>...</th>\n",
       "      <td>...</td>\n",
       "      <td>...</td>\n",
       "    </tr>\n",
       "    <tr>\n",
       "      <th>2657</th>\n",
       "      <td>live absolutely love  really good very unique ...</td>\n",
       "      <td>0.0</td>\n",
       "    </tr>\n",
       "    <tr>\n",
       "      <th>2658</th>\n",
       "      <td>new possibly most awkward honestly only usuall...</td>\n",
       "      <td>0.0</td>\n",
       "    </tr>\n",
       "    <tr>\n",
       "      <th>6205</th>\n",
       "      <td>open ready not only not ready half half double...</td>\n",
       "      <td>0.0</td>\n",
       "    </tr>\n",
       "    <tr>\n",
       "      <th>6204</th>\n",
       "      <td>frequent  last less not long disappointed love...</td>\n",
       "      <td>0.0</td>\n",
       "    </tr>\n",
       "    <tr>\n",
       "      <th>9999</th>\n",
       "      <td>big really happy accomplished super creepy sou...</td>\n",
       "      <td>0.0</td>\n",
       "    </tr>\n",
       "  </tbody>\n",
       "</table>\n",
       "<p>9999 rows × 2 columns</p>\n",
       "</div>"
      ],
      "text/plain": [
       "                                                 phrase  \\\n",
       "3680                                                      \n",
       "3055                                                      \n",
       "359                                                       \n",
       "32                                great nice clean huge   \n",
       "1710                                                      \n",
       "...                                                 ...   \n",
       "2657  live absolutely love  really good very unique ...   \n",
       "2658  new possibly most awkward honestly only usuall...   \n",
       "6205  open ready not only not ready half half double...   \n",
       "6204  frequent  last less not long disappointed love...   \n",
       "9999  big really happy accomplished super creepy sou...   \n",
       "\n",
       "      similarity_value_with_one_hot  \n",
       "3680                            1.0  \n",
       "3055                            1.0  \n",
       "359                             1.0  \n",
       "32                              1.0  \n",
       "1710                            1.0  \n",
       "...                             ...  \n",
       "2657                            0.0  \n",
       "2658                            0.0  \n",
       "6205                            0.0  \n",
       "6204                            0.0  \n",
       "9999                            0.0  \n",
       "\n",
       "[9999 rows x 2 columns]"
      ]
     },
     "execution_count": 72,
     "metadata": {},
     "output_type": "execute_result"
    }
   ],
   "source": [
    "phrase_a = yelp_sub_df.loc[32, 'subjective_phrases']\n",
    "similarity_values = []\n",
    "for i in tqdm(range(1, len(yelp_sub_df))):\n",
    "    similarity_value = 1 - cosine(one_hot_encodings[32], one_hot_encodings[i])\n",
    "    similarity_values.append(similarity_value)\n",
    "\n",
    "similar_df = pd.DataFrame(columns=['phrase', 'similarity_value_with_one_hot'])\n",
    "similar_df['phrase'] = yelp_sub_df.loc[1:, 'subjective_phrases']\n",
    "similar_df['similarity_value_with_one_hot'] = similarity_values\n",
    "\n",
    "similar_df = similar_df.dropna(subset=[\"phrase\"])\n",
    "print('the primary job title:', phrase_a)\n",
    "similar_df.sort_values(by='similarity_value_with_one_hot', ascending=False)"
   ]
  },
  {
   "cell_type": "code",
   "execution_count": null,
   "metadata": {
    "pycharm": {
     "name": "#%%\n"
    }
   },
   "outputs": [
    {
     "data": {
      "text/html": [
       "<div>\n",
       "<style scoped>\n",
       "    .dataframe tbody tr th:only-of-type {\n",
       "        vertical-align: middle;\n",
       "    }\n",
       "\n",
       "    .dataframe tbody tr th {\n",
       "        vertical-align: top;\n",
       "    }\n",
       "\n",
       "    .dataframe thead th {\n",
       "        text-align: right;\n",
       "    }\n",
       "</style>\n",
       "<table border=\"1\" class=\"dataframe\">\n",
       "  <thead>\n",
       "    <tr style=\"text-align: right;\">\n",
       "      <th></th>\n",
       "      <th>review_id</th>\n",
       "      <th>ratings</th>\n",
       "      <th>subjective_scores</th>\n",
       "      <th>subjective_phrases</th>\n",
       "    </tr>\n",
       "  </thead>\n",
       "  <tbody>\n",
       "    <tr>\n",
       "      <th>32</th>\n",
       "      <td>40thYphUgIfvJq17QCfTwA</td>\n",
       "      <td>5.0</td>\n",
       "      <td>3.350000</td>\n",
       "      <td>great nice clean huge</td>\n",
       "    </tr>\n",
       "    <tr>\n",
       "      <th>39</th>\n",
       "      <td>E9AB7V4z8xrt2uPF7T55FQ</td>\n",
       "      <td>5.0</td>\n",
       "      <td>2.490000</td>\n",
       "      <td>amazing blank great highly busy</td>\n",
       "    </tr>\n",
       "    <tr>\n",
       "      <th>66</th>\n",
       "      <td>4KpIldEM-tdnrJLqYzRfZQ</td>\n",
       "      <td>5.0</td>\n",
       "      <td>5.550000</td>\n",
       "      <td>only awesome  freshly filled phenomenal sweet ...</td>\n",
       "    </tr>\n",
       "    <tr>\n",
       "      <th>73</th>\n",
       "      <td>PDHRlnEdkEcwATry4w71PQ</td>\n",
       "      <td>1.0</td>\n",
       "      <td>3.557143</td>\n",
       "      <td>plain unable back actual back awkwardly next b...</td>\n",
       "    </tr>\n",
       "    <tr>\n",
       "      <th>84</th>\n",
       "      <td>meGaFP7yxQdjyABrYDVeoQ</td>\n",
       "      <td>1.0</td>\n",
       "      <td>2.216667</td>\n",
       "      <td>seriously chicken good</td>\n",
       "    </tr>\n",
       "    <tr>\n",
       "      <th>96</th>\n",
       "      <td>4PHFo_GRG4FEk1q4X7xQVQ</td>\n",
       "      <td>5.0</td>\n",
       "      <td>8.354545</td>\n",
       "      <td>great          completely new other busy total...</td>\n",
       "    </tr>\n",
       "    <tr>\n",
       "      <th>347</th>\n",
       "      <td>qeSxL-POvGLZD6aQ5O9kvw</td>\n",
       "      <td>1.0</td>\n",
       "      <td>32.216270</td>\n",
       "      <td>rarely honestly worst objectively horrible nic...</td>\n",
       "    </tr>\n",
       "    <tr>\n",
       "      <th>424</th>\n",
       "      <td>pgESDcC7eDx4z_epqon4_Q</td>\n",
       "      <td>1.0</td>\n",
       "      <td>4.696667</td>\n",
       "      <td>half completely top surprised sweet very good ...</td>\n",
       "    </tr>\n",
       "  </tbody>\n",
       "</table>\n",
       "</div>"
      ],
      "text/plain": [
       "                  review_id  ratings  subjective_scores  \\\n",
       "32   40thYphUgIfvJq17QCfTwA      5.0           3.350000   \n",
       "39   E9AB7V4z8xrt2uPF7T55FQ      5.0           2.490000   \n",
       "66   4KpIldEM-tdnrJLqYzRfZQ      5.0           5.550000   \n",
       "73   PDHRlnEdkEcwATry4w71PQ      1.0           3.557143   \n",
       "84   meGaFP7yxQdjyABrYDVeoQ      1.0           2.216667   \n",
       "96   4PHFo_GRG4FEk1q4X7xQVQ      5.0           8.354545   \n",
       "347  qeSxL-POvGLZD6aQ5O9kvw      1.0          32.216270   \n",
       "424  pgESDcC7eDx4z_epqon4_Q      1.0           4.696667   \n",
       "\n",
       "                                    subjective_phrases  \n",
       "32                               great nice clean huge  \n",
       "39                     amazing blank great highly busy  \n",
       "66   only awesome  freshly filled phenomenal sweet ...  \n",
       "73   plain unable back actual back awkwardly next b...  \n",
       "84                              seriously chicken good  \n",
       "96   great          completely new other busy total...  \n",
       "347  rarely honestly worst objectively horrible nic...  \n",
       "424  half completely top surprised sweet very good ...  "
      ]
     },
     "execution_count": 38,
     "metadata": {},
     "output_type": "execute_result"
    }
   ],
   "source": [
    "target_phrases = yelp_sub_df[yelp_sub_df.loc[:,\"review_id\"].isin(target_review_ids)]\n",
    "target_phrases"
   ]
  },
  {
   "cell_type": "code",
   "execution_count": 86,
   "metadata": {
    "pycharm": {
     "name": "#%%\n"
    }
   },
   "outputs": [
    {
     "name": "stdout",
     "output_type": "stream",
     "text": [
      "[32, 39, 96, 66, 73, 84, 424, 347]\n"
     ]
    }
   ],
   "source": [
    "# find the location of target ids in the yelp data \n",
    "indexes = []\n",
    "for id in target_review_ids:\n",
    "    index = int(yelp_sub_df[yelp_sub_df['review_id']==id].index.values)\n",
    "    indexes.append(index)\n",
    "print(indexes)"
   ]
  },
  {
   "cell_type": "code",
   "execution_count": 89,
   "metadata": {
    "pycharm": {
     "name": "#%%\n"
    }
   },
   "outputs": [
    {
     "name": "stderr",
     "output_type": "stream",
     "text": [
      "  0%|          | 0/9999 [00:00<?, ?it/s]/Users/betulozturan/Library/Python/3.9/lib/python/site-packages/scipy/spatial/distance.py:620: RuntimeWarning: invalid value encountered in double_scalars\n",
      "  dist = 1.0 - uv / np.sqrt(uu * vv)\n",
      "100%|██████████| 9999/9999 [00:00<00:00, 32603.62it/s]\n"
     ]
    },
    {
     "name": "stdout",
     "output_type": "stream",
     "text": [
      "the primary job title: great nice clean huge\n",
      "                                                 phrase  \\\n",
      "3680                                                      \n",
      "3055                                                      \n",
      "359                                                       \n",
      "32                                great nice clean huge   \n",
      "1710                                                      \n",
      "...                                                 ...   \n",
      "2657  live absolutely love  really good very unique ...   \n",
      "2658  new possibly most awkward honestly only usuall...   \n",
      "6205  open ready not only not ready half half double...   \n",
      "6204  frequent  last less not long disappointed love...   \n",
      "9999  big really happy accomplished super creepy sou...   \n",
      "\n",
      "      similarity_value_with_one_hot  \n",
      "3680                            1.0  \n",
      "3055                            1.0  \n",
      "359                             1.0  \n",
      "32                              1.0  \n",
      "1710                            1.0  \n",
      "...                             ...  \n",
      "2657                            0.0  \n",
      "2658                            0.0  \n",
      "6205                            0.0  \n",
      "6204                            0.0  \n",
      "9999                            0.0  \n",
      "\n",
      "[9999 rows x 2 columns]\n"
     ]
    },
    {
     "name": "stderr",
     "output_type": "stream",
     "text": [
      "  0%|          | 0/9999 [00:00<?, ?it/s]/Users/betulozturan/Library/Python/3.9/lib/python/site-packages/scipy/spatial/distance.py:620: RuntimeWarning: invalid value encountered in double_scalars\n",
      "  dist = 1.0 - uv / np.sqrt(uu * vv)\n",
      "100%|██████████| 9999/9999 [00:00<00:00, 32748.14it/s]\n"
     ]
    },
    {
     "name": "stdout",
     "output_type": "stream",
     "text": [
      "the primary job title: amazing blank great highly busy\n",
      "                                                 phrase  \\\n",
      "3055                                                      \n",
      "1710                                                      \n",
      "359                                                       \n",
      "967                                                       \n",
      "5019                                                      \n",
      "...                                                 ...   \n",
      "4355  nice little main few down nice high above pers...   \n",
      "4354                                    cool slow empty   \n",
      "4352  perfect little good better  good best quickly ...   \n",
      "4351                love  less sensitive double usually   \n",
      "9999  big really happy accomplished super creepy sou...   \n",
      "\n",
      "      similarity_value_with_one_hot  \n",
      "3055                            1.0  \n",
      "1710                            1.0  \n",
      "359                             1.0  \n",
      "967                             1.0  \n",
      "5019                            1.0  \n",
      "...                             ...  \n",
      "4355                            0.0  \n",
      "4354                            0.0  \n",
      "4352                            0.0  \n",
      "4351                            0.0  \n",
      "9999                            0.0  \n",
      "\n",
      "[9999 rows x 2 columns]\n"
     ]
    },
    {
     "name": "stderr",
     "output_type": "stream",
     "text": [
      "  0%|          | 0/9999 [00:00<?, ?it/s]/Users/betulozturan/Library/Python/3.9/lib/python/site-packages/scipy/spatial/distance.py:620: RuntimeWarning: invalid value encountered in double_scalars\n",
      "  dist = 1.0 - uv / np.sqrt(uu * vv)\n",
      "100%|██████████| 9999/9999 [00:00<00:00, 32775.45it/s]\n"
     ]
    },
    {
     "name": "stdout",
     "output_type": "stream",
     "text": [
      "the primary job title: great          completely new other busy total much better many other free only major easily future very friendly straightforward overall less          \n",
      "                                                 phrase  \\\n",
      "4281                                                      \n",
      "1906                                                      \n",
      "6236                                                      \n",
      "3680                                                      \n",
      "359                                                       \n",
      "...                                                 ...   \n",
      "4558                      not actually asian good cheap   \n",
      "4562  high regular limited top large enough half ita...   \n",
      "8348  extremely competent fair trouble general complete   \n",
      "4563  okay general good larger decent particular sma...   \n",
      "9999  big really happy accomplished super creepy sou...   \n",
      "\n",
      "      similarity_value_with_one_hot  \n",
      "4281                            1.0  \n",
      "1906                            1.0  \n",
      "6236                            1.0  \n",
      "3680                            1.0  \n",
      "359                             1.0  \n",
      "...                             ...  \n",
      "4558                            0.0  \n",
      "4562                            0.0  \n",
      "8348                            0.0  \n",
      "4563                            0.0  \n",
      "9999                            0.0  \n",
      "\n",
      "[9999 rows x 2 columns]\n"
     ]
    },
    {
     "name": "stderr",
     "output_type": "stream",
     "text": [
      "  0%|          | 0/9999 [00:00<?, ?it/s]/Users/betulozturan/Library/Python/3.9/lib/python/site-packages/scipy/spatial/distance.py:620: RuntimeWarning: invalid value encountered in double_scalars\n",
      "  dist = 1.0 - uv / np.sqrt(uu * vv)\n",
      "100%|██████████| 9999/9999 [00:00<00:00, 32414.39it/s]\n"
     ]
    },
    {
     "name": "stdout",
     "output_type": "stream",
     "text": [
      "the primary job title: only awesome  freshly filled phenomenal sweet perfect definitely\n",
      "                                                 phrase  \\\n",
      "1710                                                      \n",
      "4281                                                      \n",
      "4741                                                      \n",
      "359                                                       \n",
      "2099                                                      \n",
      "...                                                 ...   \n",
      "4137                                     big cute free    \n",
      "4131                                amazing  great back   \n",
      "4130  best low impeccable honest professional much l...   \n",
      "4129  amazing open great favorite   love open    ser...   \n",
      "9999  big really happy accomplished super creepy sou...   \n",
      "\n",
      "      similarity_value_with_one_hot  \n",
      "1710                            1.0  \n",
      "4281                            1.0  \n",
      "4741                            1.0  \n",
      "359                             1.0  \n",
      "2099                            1.0  \n",
      "...                             ...  \n",
      "4137                            0.0  \n",
      "4131                            0.0  \n",
      "4130                            0.0  \n",
      "4129                            0.0  \n",
      "9999                            0.0  \n",
      "\n",
      "[9999 rows x 2 columns]\n"
     ]
    },
    {
     "name": "stderr",
     "output_type": "stream",
     "text": [
      "  0%|          | 0/9999 [00:00<?, ?it/s]/Users/betulozturan/Library/Python/3.9/lib/python/site-packages/scipy/spatial/distance.py:620: RuntimeWarning: invalid value encountered in double_scalars\n",
      "  dist = 1.0 - uv / np.sqrt(uu * vv)\n",
      "100%|██████████| 9999/9999 [00:00<00:00, 32017.17it/s]\n"
     ]
    },
    {
     "name": "stdout",
     "output_type": "stream",
     "text": [
      "the primary job title: plain unable back actual back awkwardly next back rudely back nice \n",
      "                                                 phrase  \\\n",
      "5830                                                      \n",
      "4741                                                      \n",
      "1906                                                      \n",
      "359                                                       \n",
      "3055                                                      \n",
      "...                                                 ...   \n",
      "5139                good outside several expected other   \n",
      "5138  old considerably only recently impressed reall...   \n",
      "5137  spanish much pretty wealthy actually annoying ...   \n",
      "5135                                 early early  best    \n",
      "9999  big really happy accomplished super creepy sou...   \n",
      "\n",
      "      similarity_value_with_one_hot  \n",
      "5830                            1.0  \n",
      "4741                            1.0  \n",
      "1906                            1.0  \n",
      "359                             1.0  \n",
      "3055                            1.0  \n",
      "...                             ...  \n",
      "5139                            0.0  \n",
      "5138                            0.0  \n",
      "5137                            0.0  \n",
      "5135                            0.0  \n",
      "9999                            0.0  \n",
      "\n",
      "[9999 rows x 2 columns]\n"
     ]
    },
    {
     "name": "stderr",
     "output_type": "stream",
     "text": [
      "  0%|          | 0/9999 [00:00<?, ?it/s]/Users/betulozturan/Library/Python/3.9/lib/python/site-packages/scipy/spatial/distance.py:620: RuntimeWarning: invalid value encountered in double_scalars\n",
      "  dist = 1.0 - uv / np.sqrt(uu * vv)\n",
      "100%|██████████| 9999/9999 [00:00<00:00, 32632.54it/s]\n"
     ]
    },
    {
     "name": "stdout",
     "output_type": "stream",
     "text": [
      "the primary job title: seriously chicken good\n",
      "                                                 phrase  \\\n",
      "3055                                                      \n",
      "2099                                                      \n",
      "5955                                                      \n",
      "5830                                                      \n",
      "3680                                                      \n",
      "...                                                 ...   \n",
      "4260  amazing gorgeous awesome usually outside not d...   \n",
      "4258                         true delicious  old highly   \n",
      "4257  new finally new special very glad new very hap...   \n",
      "4256                         slow worth great fun mixed   \n",
      "9999  big really happy accomplished super creepy sou...   \n",
      "\n",
      "      similarity_value_with_one_hot  \n",
      "3055                            1.0  \n",
      "2099                            1.0  \n",
      "5955                            1.0  \n",
      "5830                            1.0  \n",
      "3680                            1.0  \n",
      "...                             ...  \n",
      "4260                            0.0  \n",
      "4258                            0.0  \n",
      "4257                            0.0  \n",
      "4256                            0.0  \n",
      "9999                            0.0  \n",
      "\n",
      "[9999 rows x 2 columns]\n"
     ]
    },
    {
     "name": "stderr",
     "output_type": "stream",
     "text": [
      "  0%|          | 0/9999 [00:00<?, ?it/s]/Users/betulozturan/Library/Python/3.9/lib/python/site-packages/scipy/spatial/distance.py:620: RuntimeWarning: invalid value encountered in double_scalars\n",
      "  dist = 1.0 - uv / np.sqrt(uu * vv)\n",
      "100%|██████████| 9999/9999 [00:00<00:00, 32667.82it/s]\n"
     ]
    },
    {
     "name": "stdout",
     "output_type": "stream",
     "text": [
      "the primary job title: half completely top surprised sweet very good bright actually long\n",
      "                                                 phrase  \\\n",
      "359                                                       \n",
      "5955                                                      \n",
      "2099                                                      \n",
      "4741                                                      \n",
      "3680                                                      \n",
      "...                                                 ...   \n",
      "6861               only few really cheap decent outside   \n",
      "3037  green amazing    great awesome live many aweso...   \n",
      "3036      great  friendly great solid reasonable great    \n",
      "3030       great great simple full huge great cute more   \n",
      "9999  big really happy accomplished super creepy sou...   \n",
      "\n",
      "      similarity_value_with_one_hot  \n",
      "359                             1.0  \n",
      "5955                            1.0  \n",
      "2099                            1.0  \n",
      "4741                            1.0  \n",
      "3680                            1.0  \n",
      "...                             ...  \n",
      "6861                            0.0  \n",
      "3037                            0.0  \n",
      "3036                            0.0  \n",
      "3030                            0.0  \n",
      "9999                            0.0  \n",
      "\n",
      "[9999 rows x 2 columns]\n"
     ]
    },
    {
     "name": "stderr",
     "output_type": "stream",
     "text": [
      "  0%|          | 0/9999 [00:00<?, ?it/s]/Users/betulozturan/Library/Python/3.9/lib/python/site-packages/scipy/spatial/distance.py:620: RuntimeWarning: invalid value encountered in double_scalars\n",
      "  dist = 1.0 - uv / np.sqrt(uu * vv)\n",
      "100%|██████████| 9999/9999 [00:00<00:00, 32911.72it/s]"
     ]
    },
    {
     "name": "stdout",
     "output_type": "stream",
     "text": [
      "the primary job title: rarely honestly worst objectively horrible nice short bad normal super busy pretty standard french right next next base pretty no much excuse long good  center other more long down back multiple finally pretty pretty mediocre other amazing really good bland mess left 8 nice trendy huge absolutely really love cool popular great hate such negative especially awful undeserved\n",
      "                                                 phrase  \\\n",
      "967                                                       \n",
      "1710                                                      \n",
      "5830                                                      \n",
      "347   rarely honestly worst objectively horrible nic...   \n",
      "3680                                                      \n",
      "...                                                 ...   \n",
      "6129                           best innovative awesome    \n",
      "923   very very reasonably quick specific authentic ...   \n",
      "9458  best  quick reasonably delicious definitely enjoy   \n",
      "3491                               enjoying enjoy worth   \n",
      "1268                  excellent locally constantly hard   \n",
      "\n",
      "      similarity_value_with_one_hot  \n",
      "967                             1.0  \n",
      "1710                            1.0  \n",
      "5830                            1.0  \n",
      "347                             1.0  \n",
      "3680                            1.0  \n",
      "...                             ...  \n",
      "6129                            0.0  \n",
      "923                             0.0  \n",
      "9458                            0.0  \n",
      "3491                            0.0  \n",
      "1268                            0.0  \n",
      "\n",
      "[9999 rows x 2 columns]\n"
     ]
    },
    {
     "name": "stderr",
     "output_type": "stream",
     "text": [
      "\n"
     ]
    }
   ],
   "source": [
    "for a in range(0, len(indexes)):\n",
    "    \n",
    "    similarity_values = []\n",
    "    \n",
    "    for i in tqdm(range(1, len(yelp_sub_df))):\n",
    "        phrase_a= yelp_sub_df.loc[indexes[a], 'subjective_phrases']\n",
    "        similarity_value = 1 - cosine(one_hot_encodings[indexes[a]], one_hot_encodings[i])\n",
    "        similarity_values.append(similarity_value)\n",
    "\n",
    "    similar_df = pd.DataFrame(columns=['phrase', 'similarity_value_with_one_hot'])\n",
    "    similar_df['phrase'] = yelp_sub_df.loc[1:, 'subjective_phrases']\n",
    "    similar_df['similarity_value_with_one_hot'] = similarity_values\n",
    "\n",
    "    similar_df = similar_df.dropna(subset=[\"phrase\"])\n",
    "    print('the primary job title:', phrase_a)\n",
    "    print(similar_df.sort_values(by='similarity_value_with_one_hot', ascending=False))"
   ]
  },
  {
   "cell_type": "code",
   "execution_count": 87,
   "metadata": {
    "pycharm": {
     "name": "#%%\n"
    }
   },
   "outputs": [
    {
     "data": {
      "text/plain": [
       "0"
      ]
     },
     "execution_count": 87,
     "metadata": {},
     "output_type": "execute_result"
    }
   ],
   "source": [
    "sum(yelp_sub_df['subjective_phrases'].isna())\n",
    "# there are no NA values on the data but I have empty lines on the results though dropna does not work for those. "
   ]
  }
 ],
 "metadata": {
  "kernelspec": {
   "display_name": "Python 3.9.6 64-bit",
   "language": "python",
   "name": "python3"
  },
  "language_info": {
   "codemirror_mode": {
    "name": "ipython",
    "version": 3
   },
   "file_extension": ".py",
   "mimetype": "text/x-python",
   "name": "python",
   "nbconvert_exporter": "python",
   "pygments_lexer": "ipython3",
   "version": "3.9.6"
  },
  "orig_nbformat": 4,
  "vscode": {
   "interpreter": {
    "hash": "31f2aee4e71d21fbe5cf8b01ff0e069b9275f58929596ceb00d14d90e3e16cd6"
   }
  }
 },
 "nbformat": 4,
 "nbformat_minor": 2
}