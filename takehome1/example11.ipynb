{
 "cells": [
  {
   "cell_type": "markdown",
   "metadata": {
    "id": "yMfQ64wWEJAK",
    "pycharm": {
     "name": "#%% md\n"
    }
   },
   "source": [
    "### Take - Home Exam \n",
    "Betul Ozturan"
   ]
  },
  {
   "cell_type": "markdown",
   "metadata": {
    "id": "raUWUtT5EJAQ",
    "pycharm": {
     "name": "#%% md\n"
    }
   },
   "source": [
    "## Task 1\n",
    " Integrate information from the “job_url_data” folder into one dictionary. The keys of the dictionary are individual urls scraped from the website, and the values are the earliest date that the corresponding urls were scraped. Save the results into a json file. How many unique job urls have been collected between May 17, 2022 and May 23, 2022? "
   ]
  },
  {
   "cell_type": "code",
   "execution_count": 6,
   "metadata": {
    "id": "GJcDvurVEJAR",
    "pycharm": {
     "name": "#%%\n"
    }
   },
   "outputs": [],
   "source": [
    "import pandas as pd\n",
    "import re # regular expressions\n",
    "import json"
   ]
  },
  {
   "cell_type": "code",
   "source": [
    "from google.colab import drive\n",
    "drive.mount('/content/gdrive')"
   ],
   "metadata": {
    "colab": {
     "base_uri": "https://localhost:8080/"
    },
    "id": "F3BTKoa7ZLqK",
    "outputId": "fa316986-3938-4644-88a6-63fe52d8f321",
    "pycharm": {
     "name": "#%%\n"
    }
   },
   "execution_count": 7,
   "outputs": [
    {
     "output_type": "stream",
     "name": "stdout",
     "text": [
      "Mounted at /content/gdrive\n"
     ]
    }
   ]
  },
  {
   "cell_type": "code",
   "source": [
    "import os \n"
   ],
   "metadata": {
    "id": "fLUIqxssaCra",
    "pycharm": {
     "name": "#%%\n"
    }
   },
   "execution_count": 8,
   "outputs": []
  },
  {
   "cell_type": "code",
   "source": [
    "os.chdir('/content/gdrive/MyDrive/2022 Computational Sociology/compsoc')"
   ],
   "metadata": {
    "id": "Uatz6rl2ZeCt",
    "pycharm": {
     "name": "#%%\n"
    }
   },
   "execution_count": 9,
   "outputs": []
  },
  {
   "cell_type": "code",
   "execution_count": 11,
   "metadata": {
    "id": "XTsUICyBEJAY",
    "pycharm": {
     "name": "#%%\n"
    }
   },
   "outputs": [],
   "source": [
    "# create a list of of file names in the folders\n",
    "file_list = os.listdir('indeed_scraped_data/job_url_data')"
   ]
  },
  {
   "cell_type": "code",
   "execution_count": 12,
   "metadata": {
    "colab": {
     "base_uri": "https://localhost:8080/"
    },
    "id": "zLMYbRBKEJAZ",
    "outputId": "dd0448f6-85c7-423c-88ab-5efd2463c8a7",
    "pycharm": {
     "name": "#%%\n"
    }
   },
   "outputs": [
    {
     "output_type": "execute_result",
     "data": {
      "text/plain": [
       "['job_urls_for_parsehub_5172022_v4.csv',\n",
       " 'job_urls_for_parsehub_5172022_v3.csv',\n",
       " 'job_urls_for_parsehub_5172022_v2.csv',\n",
       " 'job_urls_for_parsehub_5172022_v5.csv',\n",
       " 'job_urls_for_parsehub_5172022_v1.csv',\n",
       " 'job_urls_for_parsehub_5182022_v1.csv',\n",
       " 'job_urls_for_parsehub_5192022_v2.csv',\n",
       " 'job_urls_for_parsehub_5192022_v1.csv',\n",
       " 'job_urls_for_parsehub_5202022_v1.csv',\n",
       " 'job_urls_for_parsehub_5202022_v2.csv',\n",
       " 'job_urls_for_parsehub_5212022_v2.csv',\n",
       " 'job_urls_for_parsehub_5212022_v1.csv',\n",
       " 'job_urls_for_parsehub_5222022_v2.csv',\n",
       " 'job_urls_for_parsehub_5222022_v1.csv',\n",
       " 'job_urls_for_parsehub_5232022_v1.csv',\n",
       " 'job_urls_for_parsehub_5232022_v2.csv']"
      ]
     },
     "metadata": {},
     "execution_count": 12
    }
   ],
   "source": [
    "file_list"
   ]
  },
  {
   "cell_type": "code",
   "execution_count": null,
   "metadata": {
    "colab": {
     "base_uri": "https://localhost:8080/",
     "height": 164
    },
    "id": "5V-YsPjKEJAa",
    "outputId": "d9312b2b-a2ff-4355-cc19-88d8e0bc125e",
    "pycharm": {
     "name": "#%%\n"
    }
   },
   "outputs": [
    {
     "output_type": "error",
     "ename": "ValueError",
     "evalue": "ignored",
     "traceback": [
      "\u001B[0;31m---------------------------------------------------------------------------\u001B[0m",
      "\u001B[0;31mValueError\u001B[0m                                Traceback (most recent call last)",
      "\u001B[0;32m<ipython-input-21-c3e0cb3fd8bc>\u001B[0m in \u001B[0;36m<module>\u001B[0;34m\u001B[0m\n\u001B[0;32m----> 1\u001B[0;31m \u001B[0mfile_list\u001B[0m\u001B[0;34m.\u001B[0m\u001B[0mremove\u001B[0m\u001B[0;34m(\u001B[0m\u001B[0;34m'.DS_Store'\u001B[0m\u001B[0;34m)\u001B[0m \u001B[0;31m# remove DS_Store\u001B[0m\u001B[0;34m\u001B[0m\u001B[0;34m\u001B[0m\u001B[0m\n\u001B[0m",
      "\u001B[0;31mValueError\u001B[0m: list.remove(x): x not in list"
     ]
    }
   ],
   "source": [
    "#file_list.remove('.DS_Store') # remove DS_Store"
   ]
  },
  {
   "cell_type": "code",
   "source": [
    "file_list[1][23:25]"
   ],
   "metadata": {
    "colab": {
     "base_uri": "https://localhost:8080/",
     "height": 37
    },
    "id": "oAQQUYgkdMZC",
    "outputId": "9670b57f-85ac-4509-a4e8-4ec7e11b0558",
    "pycharm": {
     "name": "#%%\n"
    }
   },
   "execution_count": 13,
   "outputs": [
    {
     "output_type": "execute_result",
     "data": {
      "text/plain": [
       "'17'"
      ],
      "application/vnd.google.colaboratory.intrinsic+json": {
       "type": "string"
      }
     },
     "metadata": {},
     "execution_count": 13
    }
   ]
  },
  {
   "cell_type": "code",
   "source": [
    "#file_dates=[]\n",
    "#for i in file_list: \n",
    "#    file = i[22] + '/' + i[23:25] + '/' + i[25:29]\n",
    "#    file_dates.append(file)"
   ],
   "metadata": {
    "id": "40nYGKBEcqLc",
    "pycharm": {
     "name": "#%%\n"
    }
   },
   "execution_count": null,
   "outputs": []
  },
  {
   "cell_type": "code",
   "source": [
    "file_dates=[]\n",
    "for i in file_list: \n",
    "    file = i[22:29]\n",
    "    file_dates.append(file)"
   ],
   "metadata": {
    "id": "louXw4Pa2kXB",
    "pycharm": {
     "name": "#%%\n"
    }
   },
   "execution_count": 14,
   "outputs": []
  },
  {
   "cell_type": "code",
   "source": [
    "file_dates"
   ],
   "metadata": {
    "colab": {
     "base_uri": "https://localhost:8080/"
    },
    "id": "MRd97tQPdxZ9",
    "outputId": "dd6c5fed-c507-40f5-ba27-338243989120",
    "pycharm": {
     "name": "#%%\n"
    }
   },
   "execution_count": 15,
   "outputs": [
    {
     "output_type": "execute_result",
     "data": {
      "text/plain": [
       "['5172022',\n",
       " '5172022',\n",
       " '5172022',\n",
       " '5172022',\n",
       " '5172022',\n",
       " '5182022',\n",
       " '5192022',\n",
       " '5192022',\n",
       " '5202022',\n",
       " '5202022',\n",
       " '5212022',\n",
       " '5212022',\n",
       " '5222022',\n",
       " '5222022',\n",
       " '5232022',\n",
       " '5232022']"
      ]
     },
     "metadata": {},
     "execution_count": 15
    }
   ]
  },
  {
   "cell_type": "code",
   "execution_count": 16,
   "metadata": {
    "id": "55Bkc2nWEJAa",
    "pycharm": {
     "name": "#%%\n"
    }
   },
   "outputs": [],
   "source": [
    "# add the path to file names because it is inside our working directory \n",
    "file_list2=[]\n",
    "for i in file_list: \n",
    "    file = \"indeed_scraped_data/job_url_data/\" + i\n",
    "    file_list2.append(file)"
   ]
  },
  {
   "cell_type": "code",
   "execution_count": 17,
   "metadata": {
    "colab": {
     "base_uri": "https://localhost:8080/"
    },
    "id": "gFRAqSNiEJAb",
    "outputId": "2890fa08-2b05-4352-d7b9-0cc63501b700",
    "pycharm": {
     "name": "#%%\n"
    }
   },
   "outputs": [
    {
     "output_type": "execute_result",
     "data": {
      "text/plain": [
       "['indeed_scraped_data/job_url_data/job_urls_for_parsehub_5172022_v4.csv',\n",
       " 'indeed_scraped_data/job_url_data/job_urls_for_parsehub_5172022_v3.csv',\n",
       " 'indeed_scraped_data/job_url_data/job_urls_for_parsehub_5172022_v2.csv',\n",
       " 'indeed_scraped_data/job_url_data/job_urls_for_parsehub_5172022_v5.csv',\n",
       " 'indeed_scraped_data/job_url_data/job_urls_for_parsehub_5172022_v1.csv',\n",
       " 'indeed_scraped_data/job_url_data/job_urls_for_parsehub_5182022_v1.csv',\n",
       " 'indeed_scraped_data/job_url_data/job_urls_for_parsehub_5192022_v2.csv',\n",
       " 'indeed_scraped_data/job_url_data/job_urls_for_parsehub_5192022_v1.csv',\n",
       " 'indeed_scraped_data/job_url_data/job_urls_for_parsehub_5202022_v1.csv',\n",
       " 'indeed_scraped_data/job_url_data/job_urls_for_parsehub_5202022_v2.csv',\n",
       " 'indeed_scraped_data/job_url_data/job_urls_for_parsehub_5212022_v2.csv',\n",
       " 'indeed_scraped_data/job_url_data/job_urls_for_parsehub_5212022_v1.csv',\n",
       " 'indeed_scraped_data/job_url_data/job_urls_for_parsehub_5222022_v2.csv',\n",
       " 'indeed_scraped_data/job_url_data/job_urls_for_parsehub_5222022_v1.csv',\n",
       " 'indeed_scraped_data/job_url_data/job_urls_for_parsehub_5232022_v1.csv',\n",
       " 'indeed_scraped_data/job_url_data/job_urls_for_parsehub_5232022_v2.csv']"
      ]
     },
     "metadata": {},
     "execution_count": 17
    }
   ],
   "source": [
    "file_list2"
   ]
  },
  {
   "cell_type": "code",
   "source": [
    "from pandas.core.groupby.groupby import DataFrame\n",
    "\n",
    "file_nd = pd.DataFrame(list(zip(file_dates, file_list2)),\n",
    "               columns =['Date','Name'])\n",
    "file_nd"
   ],
   "metadata": {
    "colab": {
     "base_uri": "https://localhost:8080/",
     "height": 545
    },
    "id": "4gY2jnRUg_wj",
    "outputId": "4c623f28-30c8-46fb-b492-e873f60bd815",
    "pycharm": {
     "name": "#%%\n"
    }
   },
   "execution_count": 18,
   "outputs": [
    {
     "output_type": "execute_result",
     "data": {
      "text/plain": [
       "       Date                                               Name\n",
       "0   5172022  indeed_scraped_data/job_url_data/job_urls_for_...\n",
       "1   5172022  indeed_scraped_data/job_url_data/job_urls_for_...\n",
       "2   5172022  indeed_scraped_data/job_url_data/job_urls_for_...\n",
       "3   5172022  indeed_scraped_data/job_url_data/job_urls_for_...\n",
       "4   5172022  indeed_scraped_data/job_url_data/job_urls_for_...\n",
       "5   5182022  indeed_scraped_data/job_url_data/job_urls_for_...\n",
       "6   5192022  indeed_scraped_data/job_url_data/job_urls_for_...\n",
       "7   5192022  indeed_scraped_data/job_url_data/job_urls_for_...\n",
       "8   5202022  indeed_scraped_data/job_url_data/job_urls_for_...\n",
       "9   5202022  indeed_scraped_data/job_url_data/job_urls_for_...\n",
       "10  5212022  indeed_scraped_data/job_url_data/job_urls_for_...\n",
       "11  5212022  indeed_scraped_data/job_url_data/job_urls_for_...\n",
       "12  5222022  indeed_scraped_data/job_url_data/job_urls_for_...\n",
       "13  5222022  indeed_scraped_data/job_url_data/job_urls_for_...\n",
       "14  5232022  indeed_scraped_data/job_url_data/job_urls_for_...\n",
       "15  5232022  indeed_scraped_data/job_url_data/job_urls_for_..."
      ],
      "text/html": [
       "\n",
       "  <div id=\"df-12bb049c-deb5-40b4-b834-c4735e1f5d07\">\n",
       "    <div class=\"colab-df-container\">\n",
       "      <div>\n",
       "<style scoped>\n",
       "    .dataframe tbody tr th:only-of-type {\n",
       "        vertical-align: middle;\n",
       "    }\n",
       "\n",
       "    .dataframe tbody tr th {\n",
       "        vertical-align: top;\n",
       "    }\n",
       "\n",
       "    .dataframe thead th {\n",
       "        text-align: right;\n",
       "    }\n",
       "</style>\n",
       "<table border=\"1\" class=\"dataframe\">\n",
       "  <thead>\n",
       "    <tr style=\"text-align: right;\">\n",
       "      <th></th>\n",
       "      <th>Date</th>\n",
       "      <th>Name</th>\n",
       "    </tr>\n",
       "  </thead>\n",
       "  <tbody>\n",
       "    <tr>\n",
       "      <th>0</th>\n",
       "      <td>5172022</td>\n",
       "      <td>indeed_scraped_data/job_url_data/job_urls_for_...</td>\n",
       "    </tr>\n",
       "    <tr>\n",
       "      <th>1</th>\n",
       "      <td>5172022</td>\n",
       "      <td>indeed_scraped_data/job_url_data/job_urls_for_...</td>\n",
       "    </tr>\n",
       "    <tr>\n",
       "      <th>2</th>\n",
       "      <td>5172022</td>\n",
       "      <td>indeed_scraped_data/job_url_data/job_urls_for_...</td>\n",
       "    </tr>\n",
       "    <tr>\n",
       "      <th>3</th>\n",
       "      <td>5172022</td>\n",
       "      <td>indeed_scraped_data/job_url_data/job_urls_for_...</td>\n",
       "    </tr>\n",
       "    <tr>\n",
       "      <th>4</th>\n",
       "      <td>5172022</td>\n",
       "      <td>indeed_scraped_data/job_url_data/job_urls_for_...</td>\n",
       "    </tr>\n",
       "    <tr>\n",
       "      <th>5</th>\n",
       "      <td>5182022</td>\n",
       "      <td>indeed_scraped_data/job_url_data/job_urls_for_...</td>\n",
       "    </tr>\n",
       "    <tr>\n",
       "      <th>6</th>\n",
       "      <td>5192022</td>\n",
       "      <td>indeed_scraped_data/job_url_data/job_urls_for_...</td>\n",
       "    </tr>\n",
       "    <tr>\n",
       "      <th>7</th>\n",
       "      <td>5192022</td>\n",
       "      <td>indeed_scraped_data/job_url_data/job_urls_for_...</td>\n",
       "    </tr>\n",
       "    <tr>\n",
       "      <th>8</th>\n",
       "      <td>5202022</td>\n",
       "      <td>indeed_scraped_data/job_url_data/job_urls_for_...</td>\n",
       "    </tr>\n",
       "    <tr>\n",
       "      <th>9</th>\n",
       "      <td>5202022</td>\n",
       "      <td>indeed_scraped_data/job_url_data/job_urls_for_...</td>\n",
       "    </tr>\n",
       "    <tr>\n",
       "      <th>10</th>\n",
       "      <td>5212022</td>\n",
       "      <td>indeed_scraped_data/job_url_data/job_urls_for_...</td>\n",
       "    </tr>\n",
       "    <tr>\n",
       "      <th>11</th>\n",
       "      <td>5212022</td>\n",
       "      <td>indeed_scraped_data/job_url_data/job_urls_for_...</td>\n",
       "    </tr>\n",
       "    <tr>\n",
       "      <th>12</th>\n",
       "      <td>5222022</td>\n",
       "      <td>indeed_scraped_data/job_url_data/job_urls_for_...</td>\n",
       "    </tr>\n",
       "    <tr>\n",
       "      <th>13</th>\n",
       "      <td>5222022</td>\n",
       "      <td>indeed_scraped_data/job_url_data/job_urls_for_...</td>\n",
       "    </tr>\n",
       "    <tr>\n",
       "      <th>14</th>\n",
       "      <td>5232022</td>\n",
       "      <td>indeed_scraped_data/job_url_data/job_urls_for_...</td>\n",
       "    </tr>\n",
       "    <tr>\n",
       "      <th>15</th>\n",
       "      <td>5232022</td>\n",
       "      <td>indeed_scraped_data/job_url_data/job_urls_for_...</td>\n",
       "    </tr>\n",
       "  </tbody>\n",
       "</table>\n",
       "</div>\n",
       "      <button class=\"colab-df-convert\" onclick=\"convertToInteractive('df-12bb049c-deb5-40b4-b834-c4735e1f5d07')\"\n",
       "              title=\"Convert this dataframe to an interactive table.\"\n",
       "              style=\"display:none;\">\n",
       "        \n",
       "  <svg xmlns=\"http://www.w3.org/2000/svg\" height=\"24px\"viewBox=\"0 0 24 24\"\n",
       "       width=\"24px\">\n",
       "    <path d=\"M0 0h24v24H0V0z\" fill=\"none\"/>\n",
       "    <path d=\"M18.56 5.44l.94 2.06.94-2.06 2.06-.94-2.06-.94-.94-2.06-.94 2.06-2.06.94zm-11 1L8.5 8.5l.94-2.06 2.06-.94-2.06-.94L8.5 2.5l-.94 2.06-2.06.94zm10 10l.94 2.06.94-2.06 2.06-.94-2.06-.94-.94-2.06-.94 2.06-2.06.94z\"/><path d=\"M17.41 7.96l-1.37-1.37c-.4-.4-.92-.59-1.43-.59-.52 0-1.04.2-1.43.59L10.3 9.45l-7.72 7.72c-.78.78-.78 2.05 0 2.83L4 21.41c.39.39.9.59 1.41.59.51 0 1.02-.2 1.41-.59l7.78-7.78 2.81-2.81c.8-.78.8-2.07 0-2.86zM5.41 20L4 18.59l7.72-7.72 1.47 1.35L5.41 20z\"/>\n",
       "  </svg>\n",
       "      </button>\n",
       "      \n",
       "  <style>\n",
       "    .colab-df-container {\n",
       "      display:flex;\n",
       "      flex-wrap:wrap;\n",
       "      gap: 12px;\n",
       "    }\n",
       "\n",
       "    .colab-df-convert {\n",
       "      background-color: #E8F0FE;\n",
       "      border: none;\n",
       "      border-radius: 50%;\n",
       "      cursor: pointer;\n",
       "      display: none;\n",
       "      fill: #1967D2;\n",
       "      height: 32px;\n",
       "      padding: 0 0 0 0;\n",
       "      width: 32px;\n",
       "    }\n",
       "\n",
       "    .colab-df-convert:hover {\n",
       "      background-color: #E2EBFA;\n",
       "      box-shadow: 0px 1px 2px rgba(60, 64, 67, 0.3), 0px 1px 3px 1px rgba(60, 64, 67, 0.15);\n",
       "      fill: #174EA6;\n",
       "    }\n",
       "\n",
       "    [theme=dark] .colab-df-convert {\n",
       "      background-color: #3B4455;\n",
       "      fill: #D2E3FC;\n",
       "    }\n",
       "\n",
       "    [theme=dark] .colab-df-convert:hover {\n",
       "      background-color: #434B5C;\n",
       "      box-shadow: 0px 1px 3px 1px rgba(0, 0, 0, 0.15);\n",
       "      filter: drop-shadow(0px 1px 2px rgba(0, 0, 0, 0.3));\n",
       "      fill: #FFFFFF;\n",
       "    }\n",
       "  </style>\n",
       "\n",
       "      <script>\n",
       "        const buttonEl =\n",
       "          document.querySelector('#df-12bb049c-deb5-40b4-b834-c4735e1f5d07 button.colab-df-convert');\n",
       "        buttonEl.style.display =\n",
       "          google.colab.kernel.accessAllowed ? 'block' : 'none';\n",
       "\n",
       "        async function convertToInteractive(key) {\n",
       "          const element = document.querySelector('#df-12bb049c-deb5-40b4-b834-c4735e1f5d07');\n",
       "          const dataTable =\n",
       "            await google.colab.kernel.invokeFunction('convertToInteractive',\n",
       "                                                     [key], {});\n",
       "          if (!dataTable) return;\n",
       "\n",
       "          const docLinkHtml = 'Like what you see? Visit the ' +\n",
       "            '<a target=\"_blank\" href=https://colab.research.google.com/notebooks/data_table.ipynb>data table notebook</a>'\n",
       "            + ' to learn more about interactive tables.';\n",
       "          element.innerHTML = '';\n",
       "          dataTable['output_type'] = 'display_data';\n",
       "          await google.colab.output.renderOutput(dataTable, element);\n",
       "          const docLink = document.createElement('div');\n",
       "          docLink.innerHTML = docLinkHtml;\n",
       "          element.appendChild(docLink);\n",
       "        }\n",
       "      </script>\n",
       "    </div>\n",
       "  </div>\n",
       "  "
      ]
     },
     "metadata": {},
     "execution_count": 18
    }
   ]
  },
  {
   "cell_type": "code",
   "source": [
    "len(file_nd)\n"
   ],
   "metadata": {
    "colab": {
     "base_uri": "https://localhost:8080/"
    },
    "id": "4uXg6NFFjnTg",
    "outputId": "34548585-8cbf-4cc2-b673-b3206c62f55d",
    "pycharm": {
     "name": "#%%\n"
    }
   },
   "execution_count": null,
   "outputs": [
    {
     "output_type": "execute_result",
     "data": {
      "text/plain": [
       "16"
      ]
     },
     "metadata": {},
     "execution_count": 60
    }
   ]
  },
  {
   "cell_type": "code",
   "execution_count": 19,
   "metadata": {
    "id": "oqohoh8EEJAc",
    "pycharm": {
     "name": "#%%\n"
    }
   },
   "outputs": [],
   "source": [
    "## read the files\n",
    "\n",
    "keys = []\n",
    "values =[]\n",
    "\n",
    "for i in range(0,len(file_nd)):\n",
    "    keys.append(pd.read_csv(file_nd['Name'][i], index_col=None, header=0))\n",
    "    values.append(file_nd['Date'][i])\n"
   ]
  },
  {
   "cell_type": "code",
   "source": [
    "values"
   ],
   "metadata": {
    "colab": {
     "base_uri": "https://localhost:8080/"
    },
    "id": "6xifbyrry9QK",
    "outputId": "7e56a85a-8116-4eb3-c4d9-e07a34c9d52f",
    "pycharm": {
     "name": "#%%\n"
    }
   },
   "execution_count": 206,
   "outputs": [
    {
     "output_type": "execute_result",
     "data": {
      "text/plain": [
       "['5172022',\n",
       " '5172022',\n",
       " '5172022',\n",
       " '5172022',\n",
       " '5172022',\n",
       " '5182022',\n",
       " '5192022',\n",
       " '5192022',\n",
       " '5202022',\n",
       " '5202022',\n",
       " '5212022',\n",
       " '5212022',\n",
       " '5222022',\n",
       " '5222022',\n",
       " '5232022',\n",
       " '5232022']"
      ]
     },
     "metadata": {},
     "execution_count": 206
    }
   ]
  },
  {
   "cell_type": "code",
   "source": [
    "for i in range(len(keys)): \n",
    "  keys[i]['date'] = values[i]"
   ],
   "metadata": {
    "id": "dAciud1CzZKs",
    "pycharm": {
     "name": "#%%\n"
    }
   },
   "execution_count": 20,
   "outputs": []
  },
  {
   "cell_type": "code",
   "source": [
    "keys_data = pd.concat(keys, axis=0, ignore_index=True)"
   ],
   "metadata": {
    "id": "1uM5CCAFxGfx",
    "pycharm": {
     "name": "#%%\n"
    }
   },
   "execution_count": 21,
   "outputs": []
  },
  {
   "cell_type": "code",
   "source": [
    "keys_data"
   ],
   "metadata": {
    "colab": {
     "base_uri": "https://localhost:8080/",
     "height": 419
    },
    "id": "c1ajamAWy0Eu",
    "outputId": "88df3288-d483-460a-9a3d-84d503efcdf5",
    "pycharm": {
     "name": "#%%\n"
    }
   },
   "execution_count": 22,
   "outputs": [
    {
     "output_type": "execute_result",
     "data": {
      "text/plain": [
       "                                                 job_url     date\n",
       "0      https://www.indeed.com/pagead/clk?mo=r&ad=-6NY...  5172022\n",
       "1      https://www.indeed.com/rc/clk?jk=40e614effe237...  5172022\n",
       "2      https://www.indeed.com/pagead/clk?mo=r&ad=-6NY...  5172022\n",
       "3      https://www.indeed.com/rc/clk?jk=79bcb4432d5d3...  5172022\n",
       "4      https://www.indeed.com/rc/clk?jk=751e4a1f89658...  5172022\n",
       "...                                                  ...      ...\n",
       "60976  https://www.indeed.com/rc/clk?jk=c239f8c996a77...  5232022\n",
       "60977  https://www.indeed.com/rc/clk?jk=a8944c2603abb...  5232022\n",
       "60978  https://www.indeed.com/company/Summit-Healthca...  5232022\n",
       "60979  https://www.indeed.com/company/StyleRemains-Gm...  5232022\n",
       "60980  https://www.indeed.com/pagead/clk?mo=r&ad=-6NY...  5232022\n",
       "\n",
       "[60981 rows x 2 columns]"
      ],
      "text/html": [
       "\n",
       "  <div id=\"df-ba70172d-29c0-4920-9e86-d8edd756eec4\">\n",
       "    <div class=\"colab-df-container\">\n",
       "      <div>\n",
       "<style scoped>\n",
       "    .dataframe tbody tr th:only-of-type {\n",
       "        vertical-align: middle;\n",
       "    }\n",
       "\n",
       "    .dataframe tbody tr th {\n",
       "        vertical-align: top;\n",
       "    }\n",
       "\n",
       "    .dataframe thead th {\n",
       "        text-align: right;\n",
       "    }\n",
       "</style>\n",
       "<table border=\"1\" class=\"dataframe\">\n",
       "  <thead>\n",
       "    <tr style=\"text-align: right;\">\n",
       "      <th></th>\n",
       "      <th>job_url</th>\n",
       "      <th>date</th>\n",
       "    </tr>\n",
       "  </thead>\n",
       "  <tbody>\n",
       "    <tr>\n",
       "      <th>0</th>\n",
       "      <td>https://www.indeed.com/pagead/clk?mo=r&amp;ad=-6NY...</td>\n",
       "      <td>5172022</td>\n",
       "    </tr>\n",
       "    <tr>\n",
       "      <th>1</th>\n",
       "      <td>https://www.indeed.com/rc/clk?jk=40e614effe237...</td>\n",
       "      <td>5172022</td>\n",
       "    </tr>\n",
       "    <tr>\n",
       "      <th>2</th>\n",
       "      <td>https://www.indeed.com/pagead/clk?mo=r&amp;ad=-6NY...</td>\n",
       "      <td>5172022</td>\n",
       "    </tr>\n",
       "    <tr>\n",
       "      <th>3</th>\n",
       "      <td>https://www.indeed.com/rc/clk?jk=79bcb4432d5d3...</td>\n",
       "      <td>5172022</td>\n",
       "    </tr>\n",
       "    <tr>\n",
       "      <th>4</th>\n",
       "      <td>https://www.indeed.com/rc/clk?jk=751e4a1f89658...</td>\n",
       "      <td>5172022</td>\n",
       "    </tr>\n",
       "    <tr>\n",
       "      <th>...</th>\n",
       "      <td>...</td>\n",
       "      <td>...</td>\n",
       "    </tr>\n",
       "    <tr>\n",
       "      <th>60976</th>\n",
       "      <td>https://www.indeed.com/rc/clk?jk=c239f8c996a77...</td>\n",
       "      <td>5232022</td>\n",
       "    </tr>\n",
       "    <tr>\n",
       "      <th>60977</th>\n",
       "      <td>https://www.indeed.com/rc/clk?jk=a8944c2603abb...</td>\n",
       "      <td>5232022</td>\n",
       "    </tr>\n",
       "    <tr>\n",
       "      <th>60978</th>\n",
       "      <td>https://www.indeed.com/company/Summit-Healthca...</td>\n",
       "      <td>5232022</td>\n",
       "    </tr>\n",
       "    <tr>\n",
       "      <th>60979</th>\n",
       "      <td>https://www.indeed.com/company/StyleRemains-Gm...</td>\n",
       "      <td>5232022</td>\n",
       "    </tr>\n",
       "    <tr>\n",
       "      <th>60980</th>\n",
       "      <td>https://www.indeed.com/pagead/clk?mo=r&amp;ad=-6NY...</td>\n",
       "      <td>5232022</td>\n",
       "    </tr>\n",
       "  </tbody>\n",
       "</table>\n",
       "<p>60981 rows × 2 columns</p>\n",
       "</div>\n",
       "      <button class=\"colab-df-convert\" onclick=\"convertToInteractive('df-ba70172d-29c0-4920-9e86-d8edd756eec4')\"\n",
       "              title=\"Convert this dataframe to an interactive table.\"\n",
       "              style=\"display:none;\">\n",
       "        \n",
       "  <svg xmlns=\"http://www.w3.org/2000/svg\" height=\"24px\"viewBox=\"0 0 24 24\"\n",
       "       width=\"24px\">\n",
       "    <path d=\"M0 0h24v24H0V0z\" fill=\"none\"/>\n",
       "    <path d=\"M18.56 5.44l.94 2.06.94-2.06 2.06-.94-2.06-.94-.94-2.06-.94 2.06-2.06.94zm-11 1L8.5 8.5l.94-2.06 2.06-.94-2.06-.94L8.5 2.5l-.94 2.06-2.06.94zm10 10l.94 2.06.94-2.06 2.06-.94-2.06-.94-.94-2.06-.94 2.06-2.06.94z\"/><path d=\"M17.41 7.96l-1.37-1.37c-.4-.4-.92-.59-1.43-.59-.52 0-1.04.2-1.43.59L10.3 9.45l-7.72 7.72c-.78.78-.78 2.05 0 2.83L4 21.41c.39.39.9.59 1.41.59.51 0 1.02-.2 1.41-.59l7.78-7.78 2.81-2.81c.8-.78.8-2.07 0-2.86zM5.41 20L4 18.59l7.72-7.72 1.47 1.35L5.41 20z\"/>\n",
       "  </svg>\n",
       "      </button>\n",
       "      \n",
       "  <style>\n",
       "    .colab-df-container {\n",
       "      display:flex;\n",
       "      flex-wrap:wrap;\n",
       "      gap: 12px;\n",
       "    }\n",
       "\n",
       "    .colab-df-convert {\n",
       "      background-color: #E8F0FE;\n",
       "      border: none;\n",
       "      border-radius: 50%;\n",
       "      cursor: pointer;\n",
       "      display: none;\n",
       "      fill: #1967D2;\n",
       "      height: 32px;\n",
       "      padding: 0 0 0 0;\n",
       "      width: 32px;\n",
       "    }\n",
       "\n",
       "    .colab-df-convert:hover {\n",
       "      background-color: #E2EBFA;\n",
       "      box-shadow: 0px 1px 2px rgba(60, 64, 67, 0.3), 0px 1px 3px 1px rgba(60, 64, 67, 0.15);\n",
       "      fill: #174EA6;\n",
       "    }\n",
       "\n",
       "    [theme=dark] .colab-df-convert {\n",
       "      background-color: #3B4455;\n",
       "      fill: #D2E3FC;\n",
       "    }\n",
       "\n",
       "    [theme=dark] .colab-df-convert:hover {\n",
       "      background-color: #434B5C;\n",
       "      box-shadow: 0px 1px 3px 1px rgba(0, 0, 0, 0.15);\n",
       "      filter: drop-shadow(0px 1px 2px rgba(0, 0, 0, 0.3));\n",
       "      fill: #FFFFFF;\n",
       "    }\n",
       "  </style>\n",
       "\n",
       "      <script>\n",
       "        const buttonEl =\n",
       "          document.querySelector('#df-ba70172d-29c0-4920-9e86-d8edd756eec4 button.colab-df-convert');\n",
       "        buttonEl.style.display =\n",
       "          google.colab.kernel.accessAllowed ? 'block' : 'none';\n",
       "\n",
       "        async function convertToInteractive(key) {\n",
       "          const element = document.querySelector('#df-ba70172d-29c0-4920-9e86-d8edd756eec4');\n",
       "          const dataTable =\n",
       "            await google.colab.kernel.invokeFunction('convertToInteractive',\n",
       "                                                     [key], {});\n",
       "          if (!dataTable) return;\n",
       "\n",
       "          const docLinkHtml = 'Like what you see? Visit the ' +\n",
       "            '<a target=\"_blank\" href=https://colab.research.google.com/notebooks/data_table.ipynb>data table notebook</a>'\n",
       "            + ' to learn more about interactive tables.';\n",
       "          element.innerHTML = '';\n",
       "          dataTable['output_type'] = 'display_data';\n",
       "          await google.colab.output.renderOutput(dataTable, element);\n",
       "          const docLink = document.createElement('div');\n",
       "          docLink.innerHTML = docLinkHtml;\n",
       "          element.appendChild(docLink);\n",
       "        }\n",
       "      </script>\n",
       "    </div>\n",
       "  </div>\n",
       "  "
      ]
     },
     "metadata": {},
     "execution_count": 22
    }
   ]
  },
  {
   "cell_type": "code",
   "source": [
    "#from datetime import datetime\n",
    "\n",
    "\n",
    "#keys_data['date'] = datetime.strptime(keys_data['date'], '%m%d%Y')\n"
   ],
   "metadata": {
    "colab": {
     "base_uri": "https://localhost:8080/",
     "height": 198
    },
    "id": "H8iLDfwd1St5",
    "outputId": "e38b5e3f-de34-466e-bdbf-1fcd6fa48d96",
    "pycharm": {
     "name": "#%%\n"
    }
   },
   "execution_count": 201,
   "outputs": [
    {
     "output_type": "error",
     "ename": "TypeError",
     "evalue": "ignored",
     "traceback": [
      "\u001B[0;31m---------------------------------------------------------------------------\u001B[0m",
      "\u001B[0;31mTypeError\u001B[0m                                 Traceback (most recent call last)",
      "\u001B[0;32m<ipython-input-201-91e40fc08dae>\u001B[0m in \u001B[0;36m<module>\u001B[0;34m\u001B[0m\n\u001B[1;32m      3\u001B[0m \u001B[0mdate_time_str\u001B[0m \u001B[0;34m=\u001B[0m \u001B[0;34m'18/09/19 01:55:19'\u001B[0m\u001B[0;34m\u001B[0m\u001B[0;34m\u001B[0m\u001B[0m\n\u001B[1;32m      4\u001B[0m \u001B[0;34m\u001B[0m\u001B[0m\n\u001B[0;32m----> 5\u001B[0;31m \u001B[0mkeys_data\u001B[0m\u001B[0;34m[\u001B[0m\u001B[0;34m'date'\u001B[0m\u001B[0;34m]\u001B[0m \u001B[0;34m=\u001B[0m \u001B[0mdatetime\u001B[0m\u001B[0;34m.\u001B[0m\u001B[0mstrptime\u001B[0m\u001B[0;34m(\u001B[0m\u001B[0mkeys_data\u001B[0m\u001B[0;34m[\u001B[0m\u001B[0;34m'date'\u001B[0m\u001B[0;34m]\u001B[0m\u001B[0;34m,\u001B[0m \u001B[0;34m'%m/%d/%Y'\u001B[0m\u001B[0;34m)\u001B[0m\u001B[0;34m\u001B[0m\u001B[0;34m\u001B[0m\u001B[0m\n\u001B[0m",
      "\u001B[0;31mTypeError\u001B[0m: strptime() argument 1 must be str, not Series"
     ]
    }
   ]
  },
  {
   "cell_type": "code",
   "source": [
    "keys_data.sort_values('date', axis=0, ascending=False) \n",
    "# sort by descending order so duplicated ones in dictionary will be the first complied ones"
   ],
   "metadata": {
    "colab": {
     "base_uri": "https://localhost:8080/",
     "height": 419
    },
    "id": "hrxqRhmA28Ut",
    "outputId": "95f9384a-9cf7-49bf-fdab-978a41ff924d",
    "pycharm": {
     "name": "#%%\n"
    }
   },
   "execution_count": 23,
   "outputs": [
    {
     "output_type": "execute_result",
     "data": {
      "text/plain": [
       "                                                 job_url     date\n",
       "60980  https://www.indeed.com/pagead/clk?mo=r&ad=-6NY...  5232022\n",
       "53964  https://www.indeed.com/rc/clk?jk=31fc745dc60f9...  5232022\n",
       "53962  https://www.indeed.com/rc/clk?jk=112fee9538a17...  5232022\n",
       "53961  https://www.indeed.com/pagead/clk?mo=r&ad=-6NY...  5232022\n",
       "53960  https://www.indeed.com/rc/clk?jk=438471b4ab50c...  5232022\n",
       "...                                                  ...      ...\n",
       "8783   https://www.indeed.com/pagead/clk?mo=r&ad=-6NY...  5172022\n",
       "8782   https://www.indeed.com/rc/clk?jk=7fe2bbd7f64b6...  5172022\n",
       "8781   https://www.indeed.com/rc/clk?jk=a8c7af307db64...  5172022\n",
       "8780   https://www.indeed.com/pagead/clk?mo=r&ad=-6NY...  5172022\n",
       "0      https://www.indeed.com/pagead/clk?mo=r&ad=-6NY...  5172022\n",
       "\n",
       "[60981 rows x 2 columns]"
      ],
      "text/html": [
       "\n",
       "  <div id=\"df-32dea3d7-a6a5-4c7f-b6bf-fc74f716ef4b\">\n",
       "    <div class=\"colab-df-container\">\n",
       "      <div>\n",
       "<style scoped>\n",
       "    .dataframe tbody tr th:only-of-type {\n",
       "        vertical-align: middle;\n",
       "    }\n",
       "\n",
       "    .dataframe tbody tr th {\n",
       "        vertical-align: top;\n",
       "    }\n",
       "\n",
       "    .dataframe thead th {\n",
       "        text-align: right;\n",
       "    }\n",
       "</style>\n",
       "<table border=\"1\" class=\"dataframe\">\n",
       "  <thead>\n",
       "    <tr style=\"text-align: right;\">\n",
       "      <th></th>\n",
       "      <th>job_url</th>\n",
       "      <th>date</th>\n",
       "    </tr>\n",
       "  </thead>\n",
       "  <tbody>\n",
       "    <tr>\n",
       "      <th>60980</th>\n",
       "      <td>https://www.indeed.com/pagead/clk?mo=r&amp;ad=-6NY...</td>\n",
       "      <td>5232022</td>\n",
       "    </tr>\n",
       "    <tr>\n",
       "      <th>53964</th>\n",
       "      <td>https://www.indeed.com/rc/clk?jk=31fc745dc60f9...</td>\n",
       "      <td>5232022</td>\n",
       "    </tr>\n",
       "    <tr>\n",
       "      <th>53962</th>\n",
       "      <td>https://www.indeed.com/rc/clk?jk=112fee9538a17...</td>\n",
       "      <td>5232022</td>\n",
       "    </tr>\n",
       "    <tr>\n",
       "      <th>53961</th>\n",
       "      <td>https://www.indeed.com/pagead/clk?mo=r&amp;ad=-6NY...</td>\n",
       "      <td>5232022</td>\n",
       "    </tr>\n",
       "    <tr>\n",
       "      <th>53960</th>\n",
       "      <td>https://www.indeed.com/rc/clk?jk=438471b4ab50c...</td>\n",
       "      <td>5232022</td>\n",
       "    </tr>\n",
       "    <tr>\n",
       "      <th>...</th>\n",
       "      <td>...</td>\n",
       "      <td>...</td>\n",
       "    </tr>\n",
       "    <tr>\n",
       "      <th>8783</th>\n",
       "      <td>https://www.indeed.com/pagead/clk?mo=r&amp;ad=-6NY...</td>\n",
       "      <td>5172022</td>\n",
       "    </tr>\n",
       "    <tr>\n",
       "      <th>8782</th>\n",
       "      <td>https://www.indeed.com/rc/clk?jk=7fe2bbd7f64b6...</td>\n",
       "      <td>5172022</td>\n",
       "    </tr>\n",
       "    <tr>\n",
       "      <th>8781</th>\n",
       "      <td>https://www.indeed.com/rc/clk?jk=a8c7af307db64...</td>\n",
       "      <td>5172022</td>\n",
       "    </tr>\n",
       "    <tr>\n",
       "      <th>8780</th>\n",
       "      <td>https://www.indeed.com/pagead/clk?mo=r&amp;ad=-6NY...</td>\n",
       "      <td>5172022</td>\n",
       "    </tr>\n",
       "    <tr>\n",
       "      <th>0</th>\n",
       "      <td>https://www.indeed.com/pagead/clk?mo=r&amp;ad=-6NY...</td>\n",
       "      <td>5172022</td>\n",
       "    </tr>\n",
       "  </tbody>\n",
       "</table>\n",
       "<p>60981 rows × 2 columns</p>\n",
       "</div>\n",
       "      <button class=\"colab-df-convert\" onclick=\"convertToInteractive('df-32dea3d7-a6a5-4c7f-b6bf-fc74f716ef4b')\"\n",
       "              title=\"Convert this dataframe to an interactive table.\"\n",
       "              style=\"display:none;\">\n",
       "        \n",
       "  <svg xmlns=\"http://www.w3.org/2000/svg\" height=\"24px\"viewBox=\"0 0 24 24\"\n",
       "       width=\"24px\">\n",
       "    <path d=\"M0 0h24v24H0V0z\" fill=\"none\"/>\n",
       "    <path d=\"M18.56 5.44l.94 2.06.94-2.06 2.06-.94-2.06-.94-.94-2.06-.94 2.06-2.06.94zm-11 1L8.5 8.5l.94-2.06 2.06-.94-2.06-.94L8.5 2.5l-.94 2.06-2.06.94zm10 10l.94 2.06.94-2.06 2.06-.94-2.06-.94-.94-2.06-.94 2.06-2.06.94z\"/><path d=\"M17.41 7.96l-1.37-1.37c-.4-.4-.92-.59-1.43-.59-.52 0-1.04.2-1.43.59L10.3 9.45l-7.72 7.72c-.78.78-.78 2.05 0 2.83L4 21.41c.39.39.9.59 1.41.59.51 0 1.02-.2 1.41-.59l7.78-7.78 2.81-2.81c.8-.78.8-2.07 0-2.86zM5.41 20L4 18.59l7.72-7.72 1.47 1.35L5.41 20z\"/>\n",
       "  </svg>\n",
       "      </button>\n",
       "      \n",
       "  <style>\n",
       "    .colab-df-container {\n",
       "      display:flex;\n",
       "      flex-wrap:wrap;\n",
       "      gap: 12px;\n",
       "    }\n",
       "\n",
       "    .colab-df-convert {\n",
       "      background-color: #E8F0FE;\n",
       "      border: none;\n",
       "      border-radius: 50%;\n",
       "      cursor: pointer;\n",
       "      display: none;\n",
       "      fill: #1967D2;\n",
       "      height: 32px;\n",
       "      padding: 0 0 0 0;\n",
       "      width: 32px;\n",
       "    }\n",
       "\n",
       "    .colab-df-convert:hover {\n",
       "      background-color: #E2EBFA;\n",
       "      box-shadow: 0px 1px 2px rgba(60, 64, 67, 0.3), 0px 1px 3px 1px rgba(60, 64, 67, 0.15);\n",
       "      fill: #174EA6;\n",
       "    }\n",
       "\n",
       "    [theme=dark] .colab-df-convert {\n",
       "      background-color: #3B4455;\n",
       "      fill: #D2E3FC;\n",
       "    }\n",
       "\n",
       "    [theme=dark] .colab-df-convert:hover {\n",
       "      background-color: #434B5C;\n",
       "      box-shadow: 0px 1px 3px 1px rgba(0, 0, 0, 0.15);\n",
       "      filter: drop-shadow(0px 1px 2px rgba(0, 0, 0, 0.3));\n",
       "      fill: #FFFFFF;\n",
       "    }\n",
       "  </style>\n",
       "\n",
       "      <script>\n",
       "        const buttonEl =\n",
       "          document.querySelector('#df-32dea3d7-a6a5-4c7f-b6bf-fc74f716ef4b button.colab-df-convert');\n",
       "        buttonEl.style.display =\n",
       "          google.colab.kernel.accessAllowed ? 'block' : 'none';\n",
       "\n",
       "        async function convertToInteractive(key) {\n",
       "          const element = document.querySelector('#df-32dea3d7-a6a5-4c7f-b6bf-fc74f716ef4b');\n",
       "          const dataTable =\n",
       "            await google.colab.kernel.invokeFunction('convertToInteractive',\n",
       "                                                     [key], {});\n",
       "          if (!dataTable) return;\n",
       "\n",
       "          const docLinkHtml = 'Like what you see? Visit the ' +\n",
       "            '<a target=\"_blank\" href=https://colab.research.google.com/notebooks/data_table.ipynb>data table notebook</a>'\n",
       "            + ' to learn more about interactive tables.';\n",
       "          element.innerHTML = '';\n",
       "          dataTable['output_type'] = 'display_data';\n",
       "          await google.colab.output.renderOutput(dataTable, element);\n",
       "          const docLink = document.createElement('div');\n",
       "          docLink.innerHTML = docLinkHtml;\n",
       "          element.appendChild(docLink);\n",
       "        }\n",
       "      </script>\n",
       "    </div>\n",
       "  </div>\n",
       "  "
      ]
     },
     "metadata": {},
     "execution_count": 23
    }
   ]
  },
  {
   "cell_type": "code",
   "source": [
    "url_dict = dict(keys_data.values)\n"
   ],
   "metadata": {
    "id": "RGDOWq7sxJxp",
    "pycharm": {
     "name": "#%%\n"
    }
   },
   "execution_count": 24,
   "outputs": []
  },
  {
   "cell_type": "code",
   "source": [
    "print(len(url_dict))\n",
    "print(len(keys_data))"
   ],
   "metadata": {
    "colab": {
     "base_uri": "https://localhost:8080/"
    },
    "id": "eXBEjBcGuRkQ",
    "outputId": "48df5893-5385-4350-f777-937b886d5640",
    "pycharm": {
     "name": "#%%\n"
    }
   },
   "execution_count": 25,
   "outputs": [
    {
     "output_type": "stream",
     "name": "stdout",
     "text": [
      "21260\n",
      "60981\n"
     ]
    }
   ]
  },
  {
   "cell_type": "markdown",
   "source": [
    "There are 21260 unique urls in the files"
   ],
   "metadata": {
    "id": "pLrFcHIbweRR",
    "pycharm": {
     "name": "#%% md\n"
    }
   }
  },
  {
   "cell_type": "code",
   "source": [
    "# save into json file and how many unique urls are there\n",
    "import json\n",
    "\n",
    "with open('data.json', 'w') as fp:\n",
    "    json.dump(url_dict, fp)"
   ],
   "metadata": {
    "id": "Rrb8fWieoykC",
    "pycharm": {
     "name": "#%%\n"
    }
   },
   "execution_count": 26,
   "outputs": []
  },
  {
   "cell_type": "markdown",
   "metadata": {
    "id": "2R2aUT9tEJAe",
    "pycharm": {
     "name": "#%% md\n"
    }
   },
   "source": [
    "## Task 2 \n",
    "Clean and integrate information from the “job_info_data” folder into one data frame. Files from this subfolder might have two different formats. Some of them are csv files, while others are json files. The columns might also be named differently. Find ways to read each of the files into pandas, drop records with missing job titles and/or missing job descriptions, and combine them into one dataframe. Lastly, drop records with duplicate job urls, and then save them into a separate csv file. How many unique jobs are there in the cleaned dataframe? \n"
   ]
  },
  {
   "cell_type": "code",
   "source": [
    "## Add dates from the file names into the job_info_data \n",
    "## try bonus task (if you can, ignore task 2 and dates)"
   ],
   "metadata": {
    "id": "TBDEg4cO5d6D",
    "pycharm": {
     "name": "#%%\n"
    }
   },
   "execution_count": null,
   "outputs": []
  },
  {
   "cell_type": "code",
   "execution_count": 27,
   "metadata": {
    "id": "7kJS4NrHEJAf",
    "pycharm": {
     "name": "#%%\n"
    }
   },
   "outputs": [],
   "source": [
    "# read file names for info folder\n",
    "import os\n",
    "info_data = os.listdir('indeed_scraped_data/job_info_data')"
   ]
  },
  {
   "cell_type": "code",
   "execution_count": 28,
   "metadata": {
    "colab": {
     "base_uri": "https://localhost:8080/"
    },
    "id": "xQ-3A-wAEJAf",
    "outputId": "18c7c68a-b089-48a1-d1d1-f4adfb57e428",
    "pycharm": {
     "name": "#%%\n"
    }
   },
   "outputs": [
    {
     "output_type": "execute_result",
     "data": {
      "text/plain": [
       "['parsehub_5172022_v1.csv',\n",
       " 'parsehub_5172022_v2.csv',\n",
       " 'parsehub_5182022_v1.csv',\n",
       " 'parsehub_5182022_v2.json',\n",
       " 'parsehub_5192022_v1.csv',\n",
       " 'parsehub_5192022_v2.csv',\n",
       " 'parsehub_5202022_v1.csv',\n",
       " 'parsehub_5202022_v2.json',\n",
       " 'parsehub_5212022_v1.csv',\n",
       " 'parsehub_5212022_v2.csv',\n",
       " 'parsehub_5222022_v1.csv',\n",
       " 'parsehub_5222022_v2.csv',\n",
       " 'parsehub_5222022_v4.csv',\n",
       " 'parsehub_5222022_v3.csv',\n",
       " 'parsehub_5222022_v5.csv',\n",
       " 'parsehub_5222022_v6.csv',\n",
       " 'parsehub_5232022_v1.csv',\n",
       " 'parsehub_5232022_v2.csv']"
      ]
     },
     "metadata": {},
     "execution_count": 28
    }
   ],
   "source": [
    "info_data\n",
    "#info_data.remove('.DS_Store')"
   ]
  },
  {
   "cell_type": "code",
   "source": [
    "info_dates=[]\n",
    "for i in info_data: \n",
    "    file = i[9:16]\n",
    "    info_dates.append(file)\n",
    "\n",
    "info_dates"
   ],
   "metadata": {
    "colab": {
     "base_uri": "https://localhost:8080/"
    },
    "id": "p8S3uzIjtW6c",
    "outputId": "b3596e18-2ad7-493e-cfa1-c70fbc9eedfc",
    "pycharm": {
     "name": "#%%\n"
    }
   },
   "execution_count": 32,
   "outputs": [
    {
     "output_type": "execute_result",
     "data": {
      "text/plain": [
       "['5172022',\n",
       " '5172022',\n",
       " '5182022',\n",
       " '5182022',\n",
       " '5192022',\n",
       " '5192022',\n",
       " '5202022',\n",
       " '5202022',\n",
       " '5212022',\n",
       " '5212022',\n",
       " '5222022',\n",
       " '5222022',\n",
       " '5222022',\n",
       " '5222022',\n",
       " '5222022',\n",
       " '5222022',\n",
       " '5232022',\n",
       " '5232022']"
      ]
     },
     "metadata": {},
     "execution_count": 32
    }
   ]
  },
  {
   "cell_type": "code",
   "execution_count": 33,
   "metadata": {
    "id": "SWc2Nro2EJAg",
    "pycharm": {
     "name": "#%%\n"
    }
   },
   "outputs": [],
   "source": [
    "info_data2=[]\n",
    "for i in info_data: \n",
    "    file = \"indeed_scraped_data/job_info_data/\" + i\n",
    "    info_data2.append(file)"
   ]
  },
  {
   "cell_type": "code",
   "execution_count": 34,
   "metadata": {
    "colab": {
     "base_uri": "https://localhost:8080/",
     "height": 37
    },
    "id": "KBCDVSyTEJAi",
    "outputId": "d621037c-6ef6-4c69-ef79-5f15b98e99f4",
    "pycharm": {
     "name": "#%%\n"
    }
   },
   "outputs": [
    {
     "output_type": "execute_result",
     "data": {
      "text/plain": [
       "'indeed_scraped_data/job_info_data/parsehub_5232022_v2.csv'"
      ],
      "application/vnd.google.colaboratory.intrinsic+json": {
       "type": "string"
      }
     },
     "metadata": {},
     "execution_count": 34
    }
   ],
   "source": [
    "info_data2[-1]"
   ]
  },
  {
   "cell_type": "code",
   "source": [
    "info_nd = pd.DataFrame(list(zip(info_dates, info_data2)),\n",
    "               columns =['Date','Name'])\n",
    "info_nd"
   ],
   "metadata": {
    "colab": {
     "base_uri": "https://localhost:8080/",
     "height": 607
    },
    "id": "kY7XXjfpuguW",
    "outputId": "85ed1f08-1cc0-4ca8-81a5-af321620996d",
    "pycharm": {
     "name": "#%%\n"
    }
   },
   "execution_count": 35,
   "outputs": [
    {
     "output_type": "execute_result",
     "data": {
      "text/plain": [
       "       Date                                               Name\n",
       "0   5172022  indeed_scraped_data/job_info_data/parsehub_517...\n",
       "1   5172022  indeed_scraped_data/job_info_data/parsehub_517...\n",
       "2   5182022  indeed_scraped_data/job_info_data/parsehub_518...\n",
       "3   5182022  indeed_scraped_data/job_info_data/parsehub_518...\n",
       "4   5192022  indeed_scraped_data/job_info_data/parsehub_519...\n",
       "5   5192022  indeed_scraped_data/job_info_data/parsehub_519...\n",
       "6   5202022  indeed_scraped_data/job_info_data/parsehub_520...\n",
       "7   5202022  indeed_scraped_data/job_info_data/parsehub_520...\n",
       "8   5212022  indeed_scraped_data/job_info_data/parsehub_521...\n",
       "9   5212022  indeed_scraped_data/job_info_data/parsehub_521...\n",
       "10  5222022  indeed_scraped_data/job_info_data/parsehub_522...\n",
       "11  5222022  indeed_scraped_data/job_info_data/parsehub_522...\n",
       "12  5222022  indeed_scraped_data/job_info_data/parsehub_522...\n",
       "13  5222022  indeed_scraped_data/job_info_data/parsehub_522...\n",
       "14  5222022  indeed_scraped_data/job_info_data/parsehub_522...\n",
       "15  5222022  indeed_scraped_data/job_info_data/parsehub_522...\n",
       "16  5232022  indeed_scraped_data/job_info_data/parsehub_523...\n",
       "17  5232022  indeed_scraped_data/job_info_data/parsehub_523..."
      ],
      "text/html": [
       "\n",
       "  <div id=\"df-c0bfda7a-e2ad-4a40-a23c-a47563920336\">\n",
       "    <div class=\"colab-df-container\">\n",
       "      <div>\n",
       "<style scoped>\n",
       "    .dataframe tbody tr th:only-of-type {\n",
       "        vertical-align: middle;\n",
       "    }\n",
       "\n",
       "    .dataframe tbody tr th {\n",
       "        vertical-align: top;\n",
       "    }\n",
       "\n",
       "    .dataframe thead th {\n",
       "        text-align: right;\n",
       "    }\n",
       "</style>\n",
       "<table border=\"1\" class=\"dataframe\">\n",
       "  <thead>\n",
       "    <tr style=\"text-align: right;\">\n",
       "      <th></th>\n",
       "      <th>Date</th>\n",
       "      <th>Name</th>\n",
       "    </tr>\n",
       "  </thead>\n",
       "  <tbody>\n",
       "    <tr>\n",
       "      <th>0</th>\n",
       "      <td>5172022</td>\n",
       "      <td>indeed_scraped_data/job_info_data/parsehub_517...</td>\n",
       "    </tr>\n",
       "    <tr>\n",
       "      <th>1</th>\n",
       "      <td>5172022</td>\n",
       "      <td>indeed_scraped_data/job_info_data/parsehub_517...</td>\n",
       "    </tr>\n",
       "    <tr>\n",
       "      <th>2</th>\n",
       "      <td>5182022</td>\n",
       "      <td>indeed_scraped_data/job_info_data/parsehub_518...</td>\n",
       "    </tr>\n",
       "    <tr>\n",
       "      <th>3</th>\n",
       "      <td>5182022</td>\n",
       "      <td>indeed_scraped_data/job_info_data/parsehub_518...</td>\n",
       "    </tr>\n",
       "    <tr>\n",
       "      <th>4</th>\n",
       "      <td>5192022</td>\n",
       "      <td>indeed_scraped_data/job_info_data/parsehub_519...</td>\n",
       "    </tr>\n",
       "    <tr>\n",
       "      <th>5</th>\n",
       "      <td>5192022</td>\n",
       "      <td>indeed_scraped_data/job_info_data/parsehub_519...</td>\n",
       "    </tr>\n",
       "    <tr>\n",
       "      <th>6</th>\n",
       "      <td>5202022</td>\n",
       "      <td>indeed_scraped_data/job_info_data/parsehub_520...</td>\n",
       "    </tr>\n",
       "    <tr>\n",
       "      <th>7</th>\n",
       "      <td>5202022</td>\n",
       "      <td>indeed_scraped_data/job_info_data/parsehub_520...</td>\n",
       "    </tr>\n",
       "    <tr>\n",
       "      <th>8</th>\n",
       "      <td>5212022</td>\n",
       "      <td>indeed_scraped_data/job_info_data/parsehub_521...</td>\n",
       "    </tr>\n",
       "    <tr>\n",
       "      <th>9</th>\n",
       "      <td>5212022</td>\n",
       "      <td>indeed_scraped_data/job_info_data/parsehub_521...</td>\n",
       "    </tr>\n",
       "    <tr>\n",
       "      <th>10</th>\n",
       "      <td>5222022</td>\n",
       "      <td>indeed_scraped_data/job_info_data/parsehub_522...</td>\n",
       "    </tr>\n",
       "    <tr>\n",
       "      <th>11</th>\n",
       "      <td>5222022</td>\n",
       "      <td>indeed_scraped_data/job_info_data/parsehub_522...</td>\n",
       "    </tr>\n",
       "    <tr>\n",
       "      <th>12</th>\n",
       "      <td>5222022</td>\n",
       "      <td>indeed_scraped_data/job_info_data/parsehub_522...</td>\n",
       "    </tr>\n",
       "    <tr>\n",
       "      <th>13</th>\n",
       "      <td>5222022</td>\n",
       "      <td>indeed_scraped_data/job_info_data/parsehub_522...</td>\n",
       "    </tr>\n",
       "    <tr>\n",
       "      <th>14</th>\n",
       "      <td>5222022</td>\n",
       "      <td>indeed_scraped_data/job_info_data/parsehub_522...</td>\n",
       "    </tr>\n",
       "    <tr>\n",
       "      <th>15</th>\n",
       "      <td>5222022</td>\n",
       "      <td>indeed_scraped_data/job_info_data/parsehub_522...</td>\n",
       "    </tr>\n",
       "    <tr>\n",
       "      <th>16</th>\n",
       "      <td>5232022</td>\n",
       "      <td>indeed_scraped_data/job_info_data/parsehub_523...</td>\n",
       "    </tr>\n",
       "    <tr>\n",
       "      <th>17</th>\n",
       "      <td>5232022</td>\n",
       "      <td>indeed_scraped_data/job_info_data/parsehub_523...</td>\n",
       "    </tr>\n",
       "  </tbody>\n",
       "</table>\n",
       "</div>\n",
       "      <button class=\"colab-df-convert\" onclick=\"convertToInteractive('df-c0bfda7a-e2ad-4a40-a23c-a47563920336')\"\n",
       "              title=\"Convert this dataframe to an interactive table.\"\n",
       "              style=\"display:none;\">\n",
       "        \n",
       "  <svg xmlns=\"http://www.w3.org/2000/svg\" height=\"24px\"viewBox=\"0 0 24 24\"\n",
       "       width=\"24px\">\n",
       "    <path d=\"M0 0h24v24H0V0z\" fill=\"none\"/>\n",
       "    <path d=\"M18.56 5.44l.94 2.06.94-2.06 2.06-.94-2.06-.94-.94-2.06-.94 2.06-2.06.94zm-11 1L8.5 8.5l.94-2.06 2.06-.94-2.06-.94L8.5 2.5l-.94 2.06-2.06.94zm10 10l.94 2.06.94-2.06 2.06-.94-2.06-.94-.94-2.06-.94 2.06-2.06.94z\"/><path d=\"M17.41 7.96l-1.37-1.37c-.4-.4-.92-.59-1.43-.59-.52 0-1.04.2-1.43.59L10.3 9.45l-7.72 7.72c-.78.78-.78 2.05 0 2.83L4 21.41c.39.39.9.59 1.41.59.51 0 1.02-.2 1.41-.59l7.78-7.78 2.81-2.81c.8-.78.8-2.07 0-2.86zM5.41 20L4 18.59l7.72-7.72 1.47 1.35L5.41 20z\"/>\n",
       "  </svg>\n",
       "      </button>\n",
       "      \n",
       "  <style>\n",
       "    .colab-df-container {\n",
       "      display:flex;\n",
       "      flex-wrap:wrap;\n",
       "      gap: 12px;\n",
       "    }\n",
       "\n",
       "    .colab-df-convert {\n",
       "      background-color: #E8F0FE;\n",
       "      border: none;\n",
       "      border-radius: 50%;\n",
       "      cursor: pointer;\n",
       "      display: none;\n",
       "      fill: #1967D2;\n",
       "      height: 32px;\n",
       "      padding: 0 0 0 0;\n",
       "      width: 32px;\n",
       "    }\n",
       "\n",
       "    .colab-df-convert:hover {\n",
       "      background-color: #E2EBFA;\n",
       "      box-shadow: 0px 1px 2px rgba(60, 64, 67, 0.3), 0px 1px 3px 1px rgba(60, 64, 67, 0.15);\n",
       "      fill: #174EA6;\n",
       "    }\n",
       "\n",
       "    [theme=dark] .colab-df-convert {\n",
       "      background-color: #3B4455;\n",
       "      fill: #D2E3FC;\n",
       "    }\n",
       "\n",
       "    [theme=dark] .colab-df-convert:hover {\n",
       "      background-color: #434B5C;\n",
       "      box-shadow: 0px 1px 3px 1px rgba(0, 0, 0, 0.15);\n",
       "      filter: drop-shadow(0px 1px 2px rgba(0, 0, 0, 0.3));\n",
       "      fill: #FFFFFF;\n",
       "    }\n",
       "  </style>\n",
       "\n",
       "      <script>\n",
       "        const buttonEl =\n",
       "          document.querySelector('#df-c0bfda7a-e2ad-4a40-a23c-a47563920336 button.colab-df-convert');\n",
       "        buttonEl.style.display =\n",
       "          google.colab.kernel.accessAllowed ? 'block' : 'none';\n",
       "\n",
       "        async function convertToInteractive(key) {\n",
       "          const element = document.querySelector('#df-c0bfda7a-e2ad-4a40-a23c-a47563920336');\n",
       "          const dataTable =\n",
       "            await google.colab.kernel.invokeFunction('convertToInteractive',\n",
       "                                                     [key], {});\n",
       "          if (!dataTable) return;\n",
       "\n",
       "          const docLinkHtml = 'Like what you see? Visit the ' +\n",
       "            '<a target=\"_blank\" href=https://colab.research.google.com/notebooks/data_table.ipynb>data table notebook</a>'\n",
       "            + ' to learn more about interactive tables.';\n",
       "          element.innerHTML = '';\n",
       "          dataTable['output_type'] = 'display_data';\n",
       "          await google.colab.output.renderOutput(dataTable, element);\n",
       "          const docLink = document.createElement('div');\n",
       "          docLink.innerHTML = docLinkHtml;\n",
       "          element.appendChild(docLink);\n",
       "        }\n",
       "      </script>\n",
       "    </div>\n",
       "  </div>\n",
       "  "
      ]
     },
     "metadata": {},
     "execution_count": 35
    }
   ]
  },
  {
   "cell_type": "code",
   "execution_count": 52,
   "metadata": {
    "colab": {
     "base_uri": "https://localhost:8080/"
    },
    "id": "DaeJgeo9EJAj",
    "outputId": "e5b09556-0411-47f2-b02e-3b5e34a2b8c4",
    "pycharm": {
     "name": "#%%\n"
    }
   },
   "outputs": [
    {
     "output_type": "stream",
     "name": "stdout",
     "text": [
      "[Date                                              5182022\n",
      "Name    indeed_scraped_data/job_info_data/parsehub_518...\n",
      "Name: 3, dtype: object, Date                                              5202022\n",
      "Name    indeed_scraped_data/job_info_data/parsehub_520...\n",
      "Name: 7, dtype: object]\n"
     ]
    }
   ],
   "source": [
    "# split info files into json and csv\n",
    "\n",
    "json_files =[]\n",
    "for i in range(len(info_nd['Name'])):\n",
    "    x= re.search(\".*json$\", info_nd['Name'][i])\n",
    "    if x != None:\n",
    "        json_files.append(info_nd.loc[i])\n",
    "print(json_files)\n",
    "\n"
   ]
  },
  {
   "cell_type": "code",
   "source": [
    "json_files[1][1]\n"
   ],
   "metadata": {
    "colab": {
     "base_uri": "https://localhost:8080/",
     "height": 37
    },
    "id": "kUU_IEriu4gP",
    "outputId": "004b5339-859a-42e7-868a-4ce30a90ceab",
    "pycharm": {
     "name": "#%%\n"
    }
   },
   "execution_count": 57,
   "outputs": [
    {
     "output_type": "execute_result",
     "data": {
      "text/plain": [
       "'indeed_scraped_data/job_info_data/parsehub_5202022_v2.json'"
      ],
      "application/vnd.google.colaboratory.intrinsic+json": {
       "type": "string"
      }
     },
     "metadata": {},
     "execution_count": 57
    }
   ]
  },
  {
   "cell_type": "code",
   "execution_count": 58,
   "metadata": {
    "colab": {
     "base_uri": "https://localhost:8080/"
    },
    "id": "70_I86RsEJAk",
    "outputId": "d54b5894-9ba7-47e2-95dd-574ddae505f9",
    "pycharm": {
     "name": "#%%\n"
    }
   },
   "outputs": [
    {
     "output_type": "stream",
     "name": "stdout",
     "text": [
      "[Date                                              5172022\n",
      "Name    indeed_scraped_data/job_info_data/parsehub_517...\n",
      "Name: 0, dtype: object, Date                                              5172022\n",
      "Name    indeed_scraped_data/job_info_data/parsehub_517...\n",
      "Name: 1, dtype: object, Date                                              5182022\n",
      "Name    indeed_scraped_data/job_info_data/parsehub_518...\n",
      "Name: 2, dtype: object, Date                                              5192022\n",
      "Name    indeed_scraped_data/job_info_data/parsehub_519...\n",
      "Name: 4, dtype: object, Date                                              5192022\n",
      "Name    indeed_scraped_data/job_info_data/parsehub_519...\n",
      "Name: 5, dtype: object, Date                                              5202022\n",
      "Name    indeed_scraped_data/job_info_data/parsehub_520...\n",
      "Name: 6, dtype: object, Date                                              5212022\n",
      "Name    indeed_scraped_data/job_info_data/parsehub_521...\n",
      "Name: 8, dtype: object, Date                                              5212022\n",
      "Name    indeed_scraped_data/job_info_data/parsehub_521...\n",
      "Name: 9, dtype: object, Date                                              5222022\n",
      "Name    indeed_scraped_data/job_info_data/parsehub_522...\n",
      "Name: 10, dtype: object, Date                                              5222022\n",
      "Name    indeed_scraped_data/job_info_data/parsehub_522...\n",
      "Name: 11, dtype: object, Date                                              5222022\n",
      "Name    indeed_scraped_data/job_info_data/parsehub_522...\n",
      "Name: 12, dtype: object, Date                                              5222022\n",
      "Name    indeed_scraped_data/job_info_data/parsehub_522...\n",
      "Name: 13, dtype: object, Date                                              5222022\n",
      "Name    indeed_scraped_data/job_info_data/parsehub_522...\n",
      "Name: 14, dtype: object, Date                                              5222022\n",
      "Name    indeed_scraped_data/job_info_data/parsehub_522...\n",
      "Name: 15, dtype: object, Date                                              5232022\n",
      "Name    indeed_scraped_data/job_info_data/parsehub_523...\n",
      "Name: 16, dtype: object, Date                                              5232022\n",
      "Name    indeed_scraped_data/job_info_data/parsehub_523...\n",
      "Name: 17, dtype: object]\n"
     ]
    }
   ],
   "source": [
    "csv_files =[]\n",
    "for i in range(len(info_nd['Name'])):\n",
    "    x= re.search(\".*csv$\", info_nd['Name'][i])\n",
    "    if x != None:\n",
    "        csv_files.append(info_nd.loc[i])\n",
    "print(csv_files)"
   ]
  },
  {
   "cell_type": "code",
   "execution_count": 59,
   "metadata": {
    "id": "JWA5QPYTEJAl",
    "pycharm": {
     "name": "#%%\n"
    }
   },
   "outputs": [],
   "source": [
    "# take the file names out of list of lists\n",
    "def flatten(l):\n",
    "    return [item for sublist in l for item in sublist]"
   ]
  },
  {
   "cell_type": "code",
   "execution_count": 60,
   "metadata": {
    "id": "okRJ1PCKEJAm",
    "pycharm": {
     "name": "#%%\n"
    }
   },
   "outputs": [],
   "source": [
    "#csv_files2= flatten(csv_files)\n",
    "#json_files2= flatten(json_files)"
   ]
  },
  {
   "cell_type": "code",
   "source": [
    "csv_files[4][1]\n",
    "# read csv files\n",
    "data_csv=[]\n",
    "\n",
    "for i in range(len(csv_files)):\n",
    "    df = pd.read_csv(csv_files[i][1], index_col=None, header=0)\n",
    "    data_csv.append(df)\n",
    "\n",
    "dicts = []\n"
   ],
   "metadata": {
    "colab": {
     "base_uri": "https://localhost:8080/",
     "height": 37
    },
    "id": "qVMh6WEiwnfW",
    "outputId": "6721bdf4-8b24-4bf8-9a5f-057f598bf899",
    "pycharm": {
     "name": "#%%\n"
    }
   },
   "execution_count": 66,
   "outputs": [
    {
     "output_type": "execute_result",
     "data": {
      "text/plain": [
       "'indeed_scraped_data/job_info_data/parsehub_5192022_v2.csv'"
      ],
      "application/vnd.google.colaboratory.intrinsic+json": {
       "type": "string"
      }
     },
     "metadata": {},
     "execution_count": 66
    }
   ]
  },
  {
   "cell_type": "code",
   "execution_count": 71,
   "metadata": {
    "id": "XDSoLpabEJAn",
    "pycharm": {
     "name": "#%%\n"
    }
   },
   "outputs": [],
   "source": [
    "keys_csv = []\n",
    "values_csv =[]\n",
    "\n",
    "for i in range(0,len(csv_files)):\n",
    "    keys_csv.append(pd.read_csv(csv_files[i][1], index_col=None, header=0))\n",
    "    values_csv.append(csv_files[i][0])\n"
   ]
  },
  {
   "cell_type": "code",
   "source": [
    "for i in range(len(keys_csv)): \n",
    "  keys_csv[i]['date'] = values_csv[i]"
   ],
   "metadata": {
    "id": "h7_NDCR4yAqv",
    "pycharm": {
     "name": "#%%\n"
    }
   },
   "execution_count": 72,
   "outputs": []
  },
  {
   "cell_type": "code",
   "execution_count": 73,
   "metadata": {
    "id": "G5xciHy1EJAn",
    "pycharm": {
     "name": "#%%\n"
    }
   },
   "outputs": [],
   "source": [
    "info_csv = pd.concat(keys_csv, axis=0, ignore_index=True)\n"
   ]
  },
  {
   "cell_type": "code",
   "execution_count": 76,
   "metadata": {
    "colab": {
     "base_uri": "https://localhost:8080/",
     "height": 455
    },
    "id": "0w7qAMy0EJAo",
    "outputId": "3868f0c9-5359-469b-f111-31c68e4d5254",
    "pycharm": {
     "name": "#%%\n"
    }
   },
   "outputs": [
    {
     "output_type": "execute_result",
     "data": {
      "text/plain": [
       "                                           lnks_link  \\\n",
       "0  https://www.indeed.com/pagead/clk?mo=r&ad=-6NY...   \n",
       "1  https://www.indeed.com/rc/clk?jk=bf3aa4d4d8608...   \n",
       "2  https://www.indeed.com/rc/clk?jk=ceee36181304b...   \n",
       "3  https://www.indeed.com/rc/clk?jk=e9735aea38be9...   \n",
       "4  https://www.indeed.com/company/Swiss-American-...   \n",
       "\n",
       "                                   lnks_job_title  \\\n",
       "0       Senior Audit Manager- Compliance (Remote)   \n",
       "1                               Access Specialist   \n",
       "2  Clinic Registered Nurse - Family Practice - FT   \n",
       "3      Sr Wetland Scientist/Permitting Specialist   \n",
       "4                      Quality Assurance Engineer   \n",
       "\n",
       "                   lnks_company  \\\n",
       "0                          USAA   \n",
       "1  Pikes Peak Community College   \n",
       "2      Memorial Regional Health   \n",
       "3                        Jacobs   \n",
       "4           Swiss American CDMO   \n",
       "\n",
       "                                    lnks_company_url  \\\n",
       "0  https://www.indeed.com/cmp/Usaa?campaignid=mob...   \n",
       "1  https://www.indeed.com/cmp/Pikes-Peak-Communit...   \n",
       "2  https://www.indeed.com/cmp/Memorial-Regional-H...   \n",
       "3  https://www.indeed.com/cmp/Jacobs?campaignid=m...   \n",
       "4  https://www.indeed.com/cmp/Swiss-American-Cdmo...   \n",
       "\n",
       "        lnks_company_location  \\\n",
       "0      Happy Valley Ranch, AZ   \n",
       "1  Colorado Springs, CO 80906   \n",
       "2             Craig, CO 81625   \n",
       "3      Wethersfield, CT 06109   \n",
       "4        Carrollton, TX 75006   \n",
       "\n",
       "                                lnks_job_description     date  \n",
       "0  Purpose of Job We are seeking a talented Senio...  5172022  \n",
       "1  Tracking Code: 40069\\nWork Type: Full-time\\nCa...  5172022  \n",
       "2  Position Purpose: The Registered Nurse is resp...  5172022  \n",
       "3  Our People & Places Solutions business – reinf...  5172022  \n",
       "4  QUALITY ASSURANCE ENGINEER II\\nPosition Summar...  5172022  "
      ],
      "text/html": [
       "\n",
       "  <div id=\"df-91c0bb62-1a56-4e2e-82e7-a5c12207283f\">\n",
       "    <div class=\"colab-df-container\">\n",
       "      <div>\n",
       "<style scoped>\n",
       "    .dataframe tbody tr th:only-of-type {\n",
       "        vertical-align: middle;\n",
       "    }\n",
       "\n",
       "    .dataframe tbody tr th {\n",
       "        vertical-align: top;\n",
       "    }\n",
       "\n",
       "    .dataframe thead th {\n",
       "        text-align: right;\n",
       "    }\n",
       "</style>\n",
       "<table border=\"1\" class=\"dataframe\">\n",
       "  <thead>\n",
       "    <tr style=\"text-align: right;\">\n",
       "      <th></th>\n",
       "      <th>lnks_link</th>\n",
       "      <th>lnks_job_title</th>\n",
       "      <th>lnks_company</th>\n",
       "      <th>lnks_company_url</th>\n",
       "      <th>lnks_company_location</th>\n",
       "      <th>lnks_job_description</th>\n",
       "      <th>date</th>\n",
       "    </tr>\n",
       "  </thead>\n",
       "  <tbody>\n",
       "    <tr>\n",
       "      <th>0</th>\n",
       "      <td>https://www.indeed.com/pagead/clk?mo=r&amp;ad=-6NY...</td>\n",
       "      <td>Senior Audit Manager- Compliance (Remote)</td>\n",
       "      <td>USAA</td>\n",
       "      <td>https://www.indeed.com/cmp/Usaa?campaignid=mob...</td>\n",
       "      <td>Happy Valley Ranch, AZ</td>\n",
       "      <td>Purpose of Job We are seeking a talented Senio...</td>\n",
       "      <td>5172022</td>\n",
       "    </tr>\n",
       "    <tr>\n",
       "      <th>1</th>\n",
       "      <td>https://www.indeed.com/rc/clk?jk=bf3aa4d4d8608...</td>\n",
       "      <td>Access Specialist</td>\n",
       "      <td>Pikes Peak Community College</td>\n",
       "      <td>https://www.indeed.com/cmp/Pikes-Peak-Communit...</td>\n",
       "      <td>Colorado Springs, CO 80906</td>\n",
       "      <td>Tracking Code: 40069\\nWork Type: Full-time\\nCa...</td>\n",
       "      <td>5172022</td>\n",
       "    </tr>\n",
       "    <tr>\n",
       "      <th>2</th>\n",
       "      <td>https://www.indeed.com/rc/clk?jk=ceee36181304b...</td>\n",
       "      <td>Clinic Registered Nurse - Family Practice - FT</td>\n",
       "      <td>Memorial Regional Health</td>\n",
       "      <td>https://www.indeed.com/cmp/Memorial-Regional-H...</td>\n",
       "      <td>Craig, CO 81625</td>\n",
       "      <td>Position Purpose: The Registered Nurse is resp...</td>\n",
       "      <td>5172022</td>\n",
       "    </tr>\n",
       "    <tr>\n",
       "      <th>3</th>\n",
       "      <td>https://www.indeed.com/rc/clk?jk=e9735aea38be9...</td>\n",
       "      <td>Sr Wetland Scientist/Permitting Specialist</td>\n",
       "      <td>Jacobs</td>\n",
       "      <td>https://www.indeed.com/cmp/Jacobs?campaignid=m...</td>\n",
       "      <td>Wethersfield, CT 06109</td>\n",
       "      <td>Our People &amp; Places Solutions business – reinf...</td>\n",
       "      <td>5172022</td>\n",
       "    </tr>\n",
       "    <tr>\n",
       "      <th>4</th>\n",
       "      <td>https://www.indeed.com/company/Swiss-American-...</td>\n",
       "      <td>Quality Assurance Engineer</td>\n",
       "      <td>Swiss American CDMO</td>\n",
       "      <td>https://www.indeed.com/cmp/Swiss-American-Cdmo...</td>\n",
       "      <td>Carrollton, TX 75006</td>\n",
       "      <td>QUALITY ASSURANCE ENGINEER II\\nPosition Summar...</td>\n",
       "      <td>5172022</td>\n",
       "    </tr>\n",
       "  </tbody>\n",
       "</table>\n",
       "</div>\n",
       "      <button class=\"colab-df-convert\" onclick=\"convertToInteractive('df-91c0bb62-1a56-4e2e-82e7-a5c12207283f')\"\n",
       "              title=\"Convert this dataframe to an interactive table.\"\n",
       "              style=\"display:none;\">\n",
       "        \n",
       "  <svg xmlns=\"http://www.w3.org/2000/svg\" height=\"24px\"viewBox=\"0 0 24 24\"\n",
       "       width=\"24px\">\n",
       "    <path d=\"M0 0h24v24H0V0z\" fill=\"none\"/>\n",
       "    <path d=\"M18.56 5.44l.94 2.06.94-2.06 2.06-.94-2.06-.94-.94-2.06-.94 2.06-2.06.94zm-11 1L8.5 8.5l.94-2.06 2.06-.94-2.06-.94L8.5 2.5l-.94 2.06-2.06.94zm10 10l.94 2.06.94-2.06 2.06-.94-2.06-.94-.94-2.06-.94 2.06-2.06.94z\"/><path d=\"M17.41 7.96l-1.37-1.37c-.4-.4-.92-.59-1.43-.59-.52 0-1.04.2-1.43.59L10.3 9.45l-7.72 7.72c-.78.78-.78 2.05 0 2.83L4 21.41c.39.39.9.59 1.41.59.51 0 1.02-.2 1.41-.59l7.78-7.78 2.81-2.81c.8-.78.8-2.07 0-2.86zM5.41 20L4 18.59l7.72-7.72 1.47 1.35L5.41 20z\"/>\n",
       "  </svg>\n",
       "      </button>\n",
       "      \n",
       "  <style>\n",
       "    .colab-df-container {\n",
       "      display:flex;\n",
       "      flex-wrap:wrap;\n",
       "      gap: 12px;\n",
       "    }\n",
       "\n",
       "    .colab-df-convert {\n",
       "      background-color: #E8F0FE;\n",
       "      border: none;\n",
       "      border-radius: 50%;\n",
       "      cursor: pointer;\n",
       "      display: none;\n",
       "      fill: #1967D2;\n",
       "      height: 32px;\n",
       "      padding: 0 0 0 0;\n",
       "      width: 32px;\n",
       "    }\n",
       "\n",
       "    .colab-df-convert:hover {\n",
       "      background-color: #E2EBFA;\n",
       "      box-shadow: 0px 1px 2px rgba(60, 64, 67, 0.3), 0px 1px 3px 1px rgba(60, 64, 67, 0.15);\n",
       "      fill: #174EA6;\n",
       "    }\n",
       "\n",
       "    [theme=dark] .colab-df-convert {\n",
       "      background-color: #3B4455;\n",
       "      fill: #D2E3FC;\n",
       "    }\n",
       "\n",
       "    [theme=dark] .colab-df-convert:hover {\n",
       "      background-color: #434B5C;\n",
       "      box-shadow: 0px 1px 3px 1px rgba(0, 0, 0, 0.15);\n",
       "      filter: drop-shadow(0px 1px 2px rgba(0, 0, 0, 0.3));\n",
       "      fill: #FFFFFF;\n",
       "    }\n",
       "  </style>\n",
       "\n",
       "      <script>\n",
       "        const buttonEl =\n",
       "          document.querySelector('#df-91c0bb62-1a56-4e2e-82e7-a5c12207283f button.colab-df-convert');\n",
       "        buttonEl.style.display =\n",
       "          google.colab.kernel.accessAllowed ? 'block' : 'none';\n",
       "\n",
       "        async function convertToInteractive(key) {\n",
       "          const element = document.querySelector('#df-91c0bb62-1a56-4e2e-82e7-a5c12207283f');\n",
       "          const dataTable =\n",
       "            await google.colab.kernel.invokeFunction('convertToInteractive',\n",
       "                                                     [key], {});\n",
       "          if (!dataTable) return;\n",
       "\n",
       "          const docLinkHtml = 'Like what you see? Visit the ' +\n",
       "            '<a target=\"_blank\" href=https://colab.research.google.com/notebooks/data_table.ipynb>data table notebook</a>'\n",
       "            + ' to learn more about interactive tables.';\n",
       "          element.innerHTML = '';\n",
       "          dataTable['output_type'] = 'display_data';\n",
       "          await google.colab.output.renderOutput(dataTable, element);\n",
       "          const docLink = document.createElement('div');\n",
       "          docLink.innerHTML = docLinkHtml;\n",
       "          element.appendChild(docLink);\n",
       "        }\n",
       "      </script>\n",
       "    </div>\n",
       "  </div>\n",
       "  "
      ]
     },
     "metadata": {},
     "execution_count": 76
    }
   ],
   "source": [
    "info_csv.head()"
   ]
  },
  {
   "cell_type": "code",
   "execution_count": 77,
   "metadata": {
    "colab": {
     "base_uri": "https://localhost:8080/",
     "height": 840
    },
    "id": "9wp4fk4uEJAp",
    "outputId": "2ef29fe2-f3e9-4c2a-e2e0-e9542213e856",
    "pycharm": {
     "name": "#%%\n"
    }
   },
   "outputs": [
    {
     "output_type": "execute_result",
     "data": {
      "text/plain": [
       "                                               lnks_link  \\\n",
       "0      https://www.indeed.com/pagead/clk?mo=r&ad=-6NY...   \n",
       "1      https://www.indeed.com/rc/clk?jk=bf3aa4d4d8608...   \n",
       "2      https://www.indeed.com/rc/clk?jk=ceee36181304b...   \n",
       "3      https://www.indeed.com/rc/clk?jk=e9735aea38be9...   \n",
       "4      https://www.indeed.com/company/Swiss-American-...   \n",
       "...                                                  ...   \n",
       "35194  https://www.indeed.com/rc/clk?jk=019e3da349970...   \n",
       "35196  https://www.indeed.com/rc/clk?jk=315e7cf866cab...   \n",
       "35197  https://www.indeed.com/rc/clk?jk=81503395a0221...   \n",
       "35198  https://www.indeed.com/rc/clk?jk=6b8d48e17cdb5...   \n",
       "35199  https://www.indeed.com/rc/clk?jk=b10cc9c757d57...   \n",
       "\n",
       "                                          lnks_job_title  \\\n",
       "0              Senior Audit Manager- Compliance (Remote)   \n",
       "1                                      Access Specialist   \n",
       "2         Clinic Registered Nurse - Family Practice - FT   \n",
       "3             Sr Wetland Scientist/Permitting Specialist   \n",
       "4                             Quality Assurance Engineer   \n",
       "...                                                  ...   \n",
       "35194  Risk & Regulatory Business Process, Controls, ...   \n",
       "35196                              Healthcare Specialist   \n",
       "35197                       BUSINESS MANAGER (FINANCIAL)   \n",
       "35198                      Dialysis Equipment Technician   \n",
       "35199                                  Clinical Engineer   \n",
       "\n",
       "                           lnks_company  \\\n",
       "0                                  USAA   \n",
       "1          Pikes Peak Community College   \n",
       "2              Memorial Regional Health   \n",
       "3                                Jacobs   \n",
       "4                   Swiss American CDMO   \n",
       "...                                 ...   \n",
       "35194          PRICE WATERHOUSE COOPERS   \n",
       "35196                    Stericycle Inc   \n",
       "35197  US Commander, Navy Installations   \n",
       "35198            Fresenius Medical Care   \n",
       "35199                 Kaiser Permanente   \n",
       "\n",
       "                                        lnks_company_url  \\\n",
       "0      https://www.indeed.com/cmp/Usaa?campaignid=mob...   \n",
       "1      https://www.indeed.com/cmp/Pikes-Peak-Communit...   \n",
       "2      https://www.indeed.com/cmp/Memorial-Regional-H...   \n",
       "3      https://www.indeed.com/cmp/Jacobs?campaignid=m...   \n",
       "4      https://www.indeed.com/cmp/Swiss-American-Cdmo...   \n",
       "...                                                  ...   \n",
       "35194  https://www.indeed.com/cmp/Pwc?campaignid=mobv...   \n",
       "35196  https://www.indeed.com/cmp/Stericycle?campaign...   \n",
       "35197  https://www.indeed.com/cmp/US-Commander,-Navy-...   \n",
       "35198  https://www.indeed.com/cmp/Fresenius-Medical-C...   \n",
       "35199  https://www.indeed.com/cmp/Kaiser-Permanente?c...   \n",
       "\n",
       "            lnks_company_location  \\\n",
       "0          Happy Valley Ranch, AZ   \n",
       "1      Colorado Springs, CO 80906   \n",
       "2                 Craig, CO 81625   \n",
       "3          Wethersfield, CT 06109   \n",
       "4            Carrollton, TX 75006   \n",
       "...                           ...   \n",
       "35194         Las Vegas, NV 89169   \n",
       "35196              Charleston, SC   \n",
       "35197                Gulfport, MS   \n",
       "35198            Denver, CO 80238   \n",
       "35199                Berkeley, CA   \n",
       "\n",
       "                                    lnks_job_description     date  \n",
       "0      Purpose of Job We are seeking a talented Senio...  5172022  \n",
       "1      Tracking Code: 40069\\nWork Type: Full-time\\nCa...  5172022  \n",
       "2      Position Purpose: The Registered Nurse is resp...  5172022  \n",
       "3      Our People & Places Solutions business – reinf...  5172022  \n",
       "4      QUALITY ASSURANCE ENGINEER II\\nPosition Summar...  5172022  \n",
       "...                                                  ...      ...  \n",
       "35194  A career within Internal Audit services, will ...  5232022  \n",
       "35196  About Us:\\nWould you like to have a career tha...  5232022  \n",
       "35197  Duties\\nApplies financial oversight for NAF fu...  5232022  \n",
       "35198  PURPOSE AND SCOPE:\\nEntry level position focus...  5232022  \n",
       "35199  Assures that Kaiser Permanente acquires clinic...  5232022  \n",
       "\n",
       "[17704 rows x 7 columns]"
      ],
      "text/html": [
       "\n",
       "  <div id=\"df-d82bd83e-3d9a-4aba-b78f-a71e18e54e45\">\n",
       "    <div class=\"colab-df-container\">\n",
       "      <div>\n",
       "<style scoped>\n",
       "    .dataframe tbody tr th:only-of-type {\n",
       "        vertical-align: middle;\n",
       "    }\n",
       "\n",
       "    .dataframe tbody tr th {\n",
       "        vertical-align: top;\n",
       "    }\n",
       "\n",
       "    .dataframe thead th {\n",
       "        text-align: right;\n",
       "    }\n",
       "</style>\n",
       "<table border=\"1\" class=\"dataframe\">\n",
       "  <thead>\n",
       "    <tr style=\"text-align: right;\">\n",
       "      <th></th>\n",
       "      <th>lnks_link</th>\n",
       "      <th>lnks_job_title</th>\n",
       "      <th>lnks_company</th>\n",
       "      <th>lnks_company_url</th>\n",
       "      <th>lnks_company_location</th>\n",
       "      <th>lnks_job_description</th>\n",
       "      <th>date</th>\n",
       "    </tr>\n",
       "  </thead>\n",
       "  <tbody>\n",
       "    <tr>\n",
       "      <th>0</th>\n",
       "      <td>https://www.indeed.com/pagead/clk?mo=r&amp;ad=-6NY...</td>\n",
       "      <td>Senior Audit Manager- Compliance (Remote)</td>\n",
       "      <td>USAA</td>\n",
       "      <td>https://www.indeed.com/cmp/Usaa?campaignid=mob...</td>\n",
       "      <td>Happy Valley Ranch, AZ</td>\n",
       "      <td>Purpose of Job We are seeking a talented Senio...</td>\n",
       "      <td>5172022</td>\n",
       "    </tr>\n",
       "    <tr>\n",
       "      <th>1</th>\n",
       "      <td>https://www.indeed.com/rc/clk?jk=bf3aa4d4d8608...</td>\n",
       "      <td>Access Specialist</td>\n",
       "      <td>Pikes Peak Community College</td>\n",
       "      <td>https://www.indeed.com/cmp/Pikes-Peak-Communit...</td>\n",
       "      <td>Colorado Springs, CO 80906</td>\n",
       "      <td>Tracking Code: 40069\\nWork Type: Full-time\\nCa...</td>\n",
       "      <td>5172022</td>\n",
       "    </tr>\n",
       "    <tr>\n",
       "      <th>2</th>\n",
       "      <td>https://www.indeed.com/rc/clk?jk=ceee36181304b...</td>\n",
       "      <td>Clinic Registered Nurse - Family Practice - FT</td>\n",
       "      <td>Memorial Regional Health</td>\n",
       "      <td>https://www.indeed.com/cmp/Memorial-Regional-H...</td>\n",
       "      <td>Craig, CO 81625</td>\n",
       "      <td>Position Purpose: The Registered Nurse is resp...</td>\n",
       "      <td>5172022</td>\n",
       "    </tr>\n",
       "    <tr>\n",
       "      <th>3</th>\n",
       "      <td>https://www.indeed.com/rc/clk?jk=e9735aea38be9...</td>\n",
       "      <td>Sr Wetland Scientist/Permitting Specialist</td>\n",
       "      <td>Jacobs</td>\n",
       "      <td>https://www.indeed.com/cmp/Jacobs?campaignid=m...</td>\n",
       "      <td>Wethersfield, CT 06109</td>\n",
       "      <td>Our People &amp; Places Solutions business – reinf...</td>\n",
       "      <td>5172022</td>\n",
       "    </tr>\n",
       "    <tr>\n",
       "      <th>4</th>\n",
       "      <td>https://www.indeed.com/company/Swiss-American-...</td>\n",
       "      <td>Quality Assurance Engineer</td>\n",
       "      <td>Swiss American CDMO</td>\n",
       "      <td>https://www.indeed.com/cmp/Swiss-American-Cdmo...</td>\n",
       "      <td>Carrollton, TX 75006</td>\n",
       "      <td>QUALITY ASSURANCE ENGINEER II\\nPosition Summar...</td>\n",
       "      <td>5172022</td>\n",
       "    </tr>\n",
       "    <tr>\n",
       "      <th>...</th>\n",
       "      <td>...</td>\n",
       "      <td>...</td>\n",
       "      <td>...</td>\n",
       "      <td>...</td>\n",
       "      <td>...</td>\n",
       "      <td>...</td>\n",
       "      <td>...</td>\n",
       "    </tr>\n",
       "    <tr>\n",
       "      <th>35194</th>\n",
       "      <td>https://www.indeed.com/rc/clk?jk=019e3da349970...</td>\n",
       "      <td>Risk &amp; Regulatory Business Process, Controls, ...</td>\n",
       "      <td>PRICE WATERHOUSE COOPERS</td>\n",
       "      <td>https://www.indeed.com/cmp/Pwc?campaignid=mobv...</td>\n",
       "      <td>Las Vegas, NV 89169</td>\n",
       "      <td>A career within Internal Audit services, will ...</td>\n",
       "      <td>5232022</td>\n",
       "    </tr>\n",
       "    <tr>\n",
       "      <th>35196</th>\n",
       "      <td>https://www.indeed.com/rc/clk?jk=315e7cf866cab...</td>\n",
       "      <td>Healthcare Specialist</td>\n",
       "      <td>Stericycle Inc</td>\n",
       "      <td>https://www.indeed.com/cmp/Stericycle?campaign...</td>\n",
       "      <td>Charleston, SC</td>\n",
       "      <td>About Us:\\nWould you like to have a career tha...</td>\n",
       "      <td>5232022</td>\n",
       "    </tr>\n",
       "    <tr>\n",
       "      <th>35197</th>\n",
       "      <td>https://www.indeed.com/rc/clk?jk=81503395a0221...</td>\n",
       "      <td>BUSINESS MANAGER (FINANCIAL)</td>\n",
       "      <td>US Commander, Navy Installations</td>\n",
       "      <td>https://www.indeed.com/cmp/US-Commander,-Navy-...</td>\n",
       "      <td>Gulfport, MS</td>\n",
       "      <td>Duties\\nApplies financial oversight for NAF fu...</td>\n",
       "      <td>5232022</td>\n",
       "    </tr>\n",
       "    <tr>\n",
       "      <th>35198</th>\n",
       "      <td>https://www.indeed.com/rc/clk?jk=6b8d48e17cdb5...</td>\n",
       "      <td>Dialysis Equipment Technician</td>\n",
       "      <td>Fresenius Medical Care</td>\n",
       "      <td>https://www.indeed.com/cmp/Fresenius-Medical-C...</td>\n",
       "      <td>Denver, CO 80238</td>\n",
       "      <td>PURPOSE AND SCOPE:\\nEntry level position focus...</td>\n",
       "      <td>5232022</td>\n",
       "    </tr>\n",
       "    <tr>\n",
       "      <th>35199</th>\n",
       "      <td>https://www.indeed.com/rc/clk?jk=b10cc9c757d57...</td>\n",
       "      <td>Clinical Engineer</td>\n",
       "      <td>Kaiser Permanente</td>\n",
       "      <td>https://www.indeed.com/cmp/Kaiser-Permanente?c...</td>\n",
       "      <td>Berkeley, CA</td>\n",
       "      <td>Assures that Kaiser Permanente acquires clinic...</td>\n",
       "      <td>5232022</td>\n",
       "    </tr>\n",
       "  </tbody>\n",
       "</table>\n",
       "<p>17704 rows × 7 columns</p>\n",
       "</div>\n",
       "      <button class=\"colab-df-convert\" onclick=\"convertToInteractive('df-d82bd83e-3d9a-4aba-b78f-a71e18e54e45')\"\n",
       "              title=\"Convert this dataframe to an interactive table.\"\n",
       "              style=\"display:none;\">\n",
       "        \n",
       "  <svg xmlns=\"http://www.w3.org/2000/svg\" height=\"24px\"viewBox=\"0 0 24 24\"\n",
       "       width=\"24px\">\n",
       "    <path d=\"M0 0h24v24H0V0z\" fill=\"none\"/>\n",
       "    <path d=\"M18.56 5.44l.94 2.06.94-2.06 2.06-.94-2.06-.94-.94-2.06-.94 2.06-2.06.94zm-11 1L8.5 8.5l.94-2.06 2.06-.94-2.06-.94L8.5 2.5l-.94 2.06-2.06.94zm10 10l.94 2.06.94-2.06 2.06-.94-2.06-.94-.94-2.06-.94 2.06-2.06.94z\"/><path d=\"M17.41 7.96l-1.37-1.37c-.4-.4-.92-.59-1.43-.59-.52 0-1.04.2-1.43.59L10.3 9.45l-7.72 7.72c-.78.78-.78 2.05 0 2.83L4 21.41c.39.39.9.59 1.41.59.51 0 1.02-.2 1.41-.59l7.78-7.78 2.81-2.81c.8-.78.8-2.07 0-2.86zM5.41 20L4 18.59l7.72-7.72 1.47 1.35L5.41 20z\"/>\n",
       "  </svg>\n",
       "      </button>\n",
       "      \n",
       "  <style>\n",
       "    .colab-df-container {\n",
       "      display:flex;\n",
       "      flex-wrap:wrap;\n",
       "      gap: 12px;\n",
       "    }\n",
       "\n",
       "    .colab-df-convert {\n",
       "      background-color: #E8F0FE;\n",
       "      border: none;\n",
       "      border-radius: 50%;\n",
       "      cursor: pointer;\n",
       "      display: none;\n",
       "      fill: #1967D2;\n",
       "      height: 32px;\n",
       "      padding: 0 0 0 0;\n",
       "      width: 32px;\n",
       "    }\n",
       "\n",
       "    .colab-df-convert:hover {\n",
       "      background-color: #E2EBFA;\n",
       "      box-shadow: 0px 1px 2px rgba(60, 64, 67, 0.3), 0px 1px 3px 1px rgba(60, 64, 67, 0.15);\n",
       "      fill: #174EA6;\n",
       "    }\n",
       "\n",
       "    [theme=dark] .colab-df-convert {\n",
       "      background-color: #3B4455;\n",
       "      fill: #D2E3FC;\n",
       "    }\n",
       "\n",
       "    [theme=dark] .colab-df-convert:hover {\n",
       "      background-color: #434B5C;\n",
       "      box-shadow: 0px 1px 3px 1px rgba(0, 0, 0, 0.15);\n",
       "      filter: drop-shadow(0px 1px 2px rgba(0, 0, 0, 0.3));\n",
       "      fill: #FFFFFF;\n",
       "    }\n",
       "  </style>\n",
       "\n",
       "      <script>\n",
       "        const buttonEl =\n",
       "          document.querySelector('#df-d82bd83e-3d9a-4aba-b78f-a71e18e54e45 button.colab-df-convert');\n",
       "        buttonEl.style.display =\n",
       "          google.colab.kernel.accessAllowed ? 'block' : 'none';\n",
       "\n",
       "        async function convertToInteractive(key) {\n",
       "          const element = document.querySelector('#df-d82bd83e-3d9a-4aba-b78f-a71e18e54e45');\n",
       "          const dataTable =\n",
       "            await google.colab.kernel.invokeFunction('convertToInteractive',\n",
       "                                                     [key], {});\n",
       "          if (!dataTable) return;\n",
       "\n",
       "          const docLinkHtml = 'Like what you see? Visit the ' +\n",
       "            '<a target=\"_blank\" href=https://colab.research.google.com/notebooks/data_table.ipynb>data table notebook</a>'\n",
       "            + ' to learn more about interactive tables.';\n",
       "          element.innerHTML = '';\n",
       "          dataTable['output_type'] = 'display_data';\n",
       "          await google.colab.output.renderOutput(dataTable, element);\n",
       "          const docLink = document.createElement('div');\n",
       "          docLink.innerHTML = docLinkHtml;\n",
       "          element.appendChild(docLink);\n",
       "        }\n",
       "      </script>\n",
       "    </div>\n",
       "  </div>\n",
       "  "
      ]
     },
     "metadata": {},
     "execution_count": 77
    }
   ],
   "source": [
    "info_csv = info_csv.dropna(subset=['lnks_job_title','lnks_job_description'])"
   ]
  },
  {
   "cell_type": "code",
   "execution_count": 78,
   "metadata": {
    "colab": {
     "base_uri": "https://localhost:8080/"
    },
    "id": "tYAr5M60EJAp",
    "outputId": "68c6c4b7-9c70-4484-9020-0b4a65235da8",
    "pycharm": {
     "name": "#%%\n"
    }
   },
   "outputs": [
    {
     "output_type": "execute_result",
     "data": {
      "text/plain": [
       "[Date                                              5182022\n",
       " Name    indeed_scraped_data/job_info_data/parsehub_518...\n",
       " Name: 3, dtype: object,\n",
       " Date                                              5202022\n",
       " Name    indeed_scraped_data/job_info_data/parsehub_520...\n",
       " Name: 7, dtype: object]"
      ]
     },
     "metadata": {},
     "execution_count": 78
    }
   ],
   "source": [
    "json_files"
   ]
  },
  {
   "cell_type": "code",
   "source": [
    "data_json=[]\n",
    "values_json=[]\n",
    "for i in range(0,len(json_files)):\n",
    "    with open(json_files[i][1],'r') as f:\n",
    "          data = json.loads(f.read())\n",
    "    df_nested_list = pd.json_normalize(data, record_path =['lnks'])\n",
    "    data_json.append(df_nested_list)\n",
    "    values_json.append(json_files[i][0])\n"
   ],
   "metadata": {
    "id": "W_Qb8ZxEypk4",
    "pycharm": {
     "name": "#%%\n"
    }
   },
   "execution_count": 86,
   "outputs": []
  },
  {
   "cell_type": "code",
   "source": [
    "len(data_json)==len(values_json)"
   ],
   "metadata": {
    "colab": {
     "base_uri": "https://localhost:8080/"
    },
    "id": "6kou9fFDyrN2",
    "outputId": "04b8ebd4-5f0f-40e0-e723-b6dc08edc15b",
    "pycharm": {
     "name": "#%%\n"
    }
   },
   "execution_count": 87,
   "outputs": [
    {
     "output_type": "execute_result",
     "data": {
      "text/plain": [
       "True"
      ]
     },
     "metadata": {},
     "execution_count": 87
    }
   ]
  },
  {
   "cell_type": "code",
   "source": [
    "for i in range(len(data_json)): \n",
    "  data_json[i]['date'] = values_json[i]"
   ],
   "metadata": {
    "id": "AIChOze2zS9I",
    "pycharm": {
     "name": "#%%\n"
    }
   },
   "execution_count": 88,
   "outputs": []
  },
  {
   "cell_type": "code",
   "execution_count": 89,
   "metadata": {
    "id": "dIFVskYgEJAt",
    "pycharm": {
     "name": "#%%\n"
    }
   },
   "outputs": [],
   "source": [
    "data_json = pd.concat(data_json, axis=0, ignore_index=True)"
   ]
  },
  {
   "cell_type": "code",
   "execution_count": 90,
   "metadata": {
    "colab": {
     "base_uri": "https://localhost:8080/",
     "height": 531
    },
    "id": "uPj0Pbh-EJAu",
    "outputId": "9d17d2e5-6f16-4f97-e70d-d7a4ecc586e4",
    "pycharm": {
     "name": "#%%\n"
    }
   },
   "outputs": [
    {
     "output_type": "execute_result",
     "data": {
      "text/plain": [
       "                                                   link job_title company  \\\n",
       "0     https://www.indeed.com/pagead/clk?mo=r&ad=-6NY...       NaN     NaN   \n",
       "1     https://www.indeed.com/rc/clk?jk=a95cd2409de80...       NaN     NaN   \n",
       "2     https://www.indeed.com/pagead/clk?mo=r&ad=-6NY...       NaN     NaN   \n",
       "3     https://www.indeed.com/pagead/clk?mo=r&ad=-6NY...       NaN     NaN   \n",
       "4     https://www.indeed.com/rc/clk?jk=df119ccd5529f...       NaN     NaN   \n",
       "...                                                 ...       ...     ...   \n",
       "7687  https://www.indeed.com/rc/clk?jk=9d73d02c1e447...       NaN     NaN   \n",
       "7688  https://www.indeed.com/rc/clk?jk=fbef4e9cb7a93...       NaN     NaN   \n",
       "7689  https://www.indeed.com/pagead/clk?mo=r&ad=-6NY...       NaN     NaN   \n",
       "7690  https://www.indeed.com/rc/clk?jk=f2d758d956dcd...       NaN     NaN   \n",
       "7691                                                          NaN     NaN   \n",
       "\n",
       "     company_url company_location job_description     date  \n",
       "0            NaN              NaN             NaN  5182022  \n",
       "1            NaN              NaN             NaN  5182022  \n",
       "2            NaN              NaN             NaN  5182022  \n",
       "3            NaN              NaN             NaN  5182022  \n",
       "4            NaN              NaN             NaN  5182022  \n",
       "...          ...              ...             ...      ...  \n",
       "7687         NaN              NaN             NaN  5202022  \n",
       "7688         NaN              NaN             NaN  5202022  \n",
       "7689         NaN              NaN             NaN  5202022  \n",
       "7690         NaN              NaN             NaN  5202022  \n",
       "7691         NaN              NaN             NaN  5202022  \n",
       "\n",
       "[7692 rows x 7 columns]"
      ],
      "text/html": [
       "\n",
       "  <div id=\"df-9230c135-30d6-441b-a270-77c07ffd7601\">\n",
       "    <div class=\"colab-df-container\">\n",
       "      <div>\n",
       "<style scoped>\n",
       "    .dataframe tbody tr th:only-of-type {\n",
       "        vertical-align: middle;\n",
       "    }\n",
       "\n",
       "    .dataframe tbody tr th {\n",
       "        vertical-align: top;\n",
       "    }\n",
       "\n",
       "    .dataframe thead th {\n",
       "        text-align: right;\n",
       "    }\n",
       "</style>\n",
       "<table border=\"1\" class=\"dataframe\">\n",
       "  <thead>\n",
       "    <tr style=\"text-align: right;\">\n",
       "      <th></th>\n",
       "      <th>link</th>\n",
       "      <th>job_title</th>\n",
       "      <th>company</th>\n",
       "      <th>company_url</th>\n",
       "      <th>company_location</th>\n",
       "      <th>job_description</th>\n",
       "      <th>date</th>\n",
       "    </tr>\n",
       "  </thead>\n",
       "  <tbody>\n",
       "    <tr>\n",
       "      <th>0</th>\n",
       "      <td>https://www.indeed.com/pagead/clk?mo=r&amp;ad=-6NY...</td>\n",
       "      <td>NaN</td>\n",
       "      <td>NaN</td>\n",
       "      <td>NaN</td>\n",
       "      <td>NaN</td>\n",
       "      <td>NaN</td>\n",
       "      <td>5182022</td>\n",
       "    </tr>\n",
       "    <tr>\n",
       "      <th>1</th>\n",
       "      <td>https://www.indeed.com/rc/clk?jk=a95cd2409de80...</td>\n",
       "      <td>NaN</td>\n",
       "      <td>NaN</td>\n",
       "      <td>NaN</td>\n",
       "      <td>NaN</td>\n",
       "      <td>NaN</td>\n",
       "      <td>5182022</td>\n",
       "    </tr>\n",
       "    <tr>\n",
       "      <th>2</th>\n",
       "      <td>https://www.indeed.com/pagead/clk?mo=r&amp;ad=-6NY...</td>\n",
       "      <td>NaN</td>\n",
       "      <td>NaN</td>\n",
       "      <td>NaN</td>\n",
       "      <td>NaN</td>\n",
       "      <td>NaN</td>\n",
       "      <td>5182022</td>\n",
       "    </tr>\n",
       "    <tr>\n",
       "      <th>3</th>\n",
       "      <td>https://www.indeed.com/pagead/clk?mo=r&amp;ad=-6NY...</td>\n",
       "      <td>NaN</td>\n",
       "      <td>NaN</td>\n",
       "      <td>NaN</td>\n",
       "      <td>NaN</td>\n",
       "      <td>NaN</td>\n",
       "      <td>5182022</td>\n",
       "    </tr>\n",
       "    <tr>\n",
       "      <th>4</th>\n",
       "      <td>https://www.indeed.com/rc/clk?jk=df119ccd5529f...</td>\n",
       "      <td>NaN</td>\n",
       "      <td>NaN</td>\n",
       "      <td>NaN</td>\n",
       "      <td>NaN</td>\n",
       "      <td>NaN</td>\n",
       "      <td>5182022</td>\n",
       "    </tr>\n",
       "    <tr>\n",
       "      <th>...</th>\n",
       "      <td>...</td>\n",
       "      <td>...</td>\n",
       "      <td>...</td>\n",
       "      <td>...</td>\n",
       "      <td>...</td>\n",
       "      <td>...</td>\n",
       "      <td>...</td>\n",
       "    </tr>\n",
       "    <tr>\n",
       "      <th>7687</th>\n",
       "      <td>https://www.indeed.com/rc/clk?jk=9d73d02c1e447...</td>\n",
       "      <td>NaN</td>\n",
       "      <td>NaN</td>\n",
       "      <td>NaN</td>\n",
       "      <td>NaN</td>\n",
       "      <td>NaN</td>\n",
       "      <td>5202022</td>\n",
       "    </tr>\n",
       "    <tr>\n",
       "      <th>7688</th>\n",
       "      <td>https://www.indeed.com/rc/clk?jk=fbef4e9cb7a93...</td>\n",
       "      <td>NaN</td>\n",
       "      <td>NaN</td>\n",
       "      <td>NaN</td>\n",
       "      <td>NaN</td>\n",
       "      <td>NaN</td>\n",
       "      <td>5202022</td>\n",
       "    </tr>\n",
       "    <tr>\n",
       "      <th>7689</th>\n",
       "      <td>https://www.indeed.com/pagead/clk?mo=r&amp;ad=-6NY...</td>\n",
       "      <td>NaN</td>\n",
       "      <td>NaN</td>\n",
       "      <td>NaN</td>\n",
       "      <td>NaN</td>\n",
       "      <td>NaN</td>\n",
       "      <td>5202022</td>\n",
       "    </tr>\n",
       "    <tr>\n",
       "      <th>7690</th>\n",
       "      <td>https://www.indeed.com/rc/clk?jk=f2d758d956dcd...</td>\n",
       "      <td>NaN</td>\n",
       "      <td>NaN</td>\n",
       "      <td>NaN</td>\n",
       "      <td>NaN</td>\n",
       "      <td>NaN</td>\n",
       "      <td>5202022</td>\n",
       "    </tr>\n",
       "    <tr>\n",
       "      <th>7691</th>\n",
       "      <td></td>\n",
       "      <td>NaN</td>\n",
       "      <td>NaN</td>\n",
       "      <td>NaN</td>\n",
       "      <td>NaN</td>\n",
       "      <td>NaN</td>\n",
       "      <td>5202022</td>\n",
       "    </tr>\n",
       "  </tbody>\n",
       "</table>\n",
       "<p>7692 rows × 7 columns</p>\n",
       "</div>\n",
       "      <button class=\"colab-df-convert\" onclick=\"convertToInteractive('df-9230c135-30d6-441b-a270-77c07ffd7601')\"\n",
       "              title=\"Convert this dataframe to an interactive table.\"\n",
       "              style=\"display:none;\">\n",
       "        \n",
       "  <svg xmlns=\"http://www.w3.org/2000/svg\" height=\"24px\"viewBox=\"0 0 24 24\"\n",
       "       width=\"24px\">\n",
       "    <path d=\"M0 0h24v24H0V0z\" fill=\"none\"/>\n",
       "    <path d=\"M18.56 5.44l.94 2.06.94-2.06 2.06-.94-2.06-.94-.94-2.06-.94 2.06-2.06.94zm-11 1L8.5 8.5l.94-2.06 2.06-.94-2.06-.94L8.5 2.5l-.94 2.06-2.06.94zm10 10l.94 2.06.94-2.06 2.06-.94-2.06-.94-.94-2.06-.94 2.06-2.06.94z\"/><path d=\"M17.41 7.96l-1.37-1.37c-.4-.4-.92-.59-1.43-.59-.52 0-1.04.2-1.43.59L10.3 9.45l-7.72 7.72c-.78.78-.78 2.05 0 2.83L4 21.41c.39.39.9.59 1.41.59.51 0 1.02-.2 1.41-.59l7.78-7.78 2.81-2.81c.8-.78.8-2.07 0-2.86zM5.41 20L4 18.59l7.72-7.72 1.47 1.35L5.41 20z\"/>\n",
       "  </svg>\n",
       "      </button>\n",
       "      \n",
       "  <style>\n",
       "    .colab-df-container {\n",
       "      display:flex;\n",
       "      flex-wrap:wrap;\n",
       "      gap: 12px;\n",
       "    }\n",
       "\n",
       "    .colab-df-convert {\n",
       "      background-color: #E8F0FE;\n",
       "      border: none;\n",
       "      border-radius: 50%;\n",
       "      cursor: pointer;\n",
       "      display: none;\n",
       "      fill: #1967D2;\n",
       "      height: 32px;\n",
       "      padding: 0 0 0 0;\n",
       "      width: 32px;\n",
       "    }\n",
       "\n",
       "    .colab-df-convert:hover {\n",
       "      background-color: #E2EBFA;\n",
       "      box-shadow: 0px 1px 2px rgba(60, 64, 67, 0.3), 0px 1px 3px 1px rgba(60, 64, 67, 0.15);\n",
       "      fill: #174EA6;\n",
       "    }\n",
       "\n",
       "    [theme=dark] .colab-df-convert {\n",
       "      background-color: #3B4455;\n",
       "      fill: #D2E3FC;\n",
       "    }\n",
       "\n",
       "    [theme=dark] .colab-df-convert:hover {\n",
       "      background-color: #434B5C;\n",
       "      box-shadow: 0px 1px 3px 1px rgba(0, 0, 0, 0.15);\n",
       "      filter: drop-shadow(0px 1px 2px rgba(0, 0, 0, 0.3));\n",
       "      fill: #FFFFFF;\n",
       "    }\n",
       "  </style>\n",
       "\n",
       "      <script>\n",
       "        const buttonEl =\n",
       "          document.querySelector('#df-9230c135-30d6-441b-a270-77c07ffd7601 button.colab-df-convert');\n",
       "        buttonEl.style.display =\n",
       "          google.colab.kernel.accessAllowed ? 'block' : 'none';\n",
       "\n",
       "        async function convertToInteractive(key) {\n",
       "          const element = document.querySelector('#df-9230c135-30d6-441b-a270-77c07ffd7601');\n",
       "          const dataTable =\n",
       "            await google.colab.kernel.invokeFunction('convertToInteractive',\n",
       "                                                     [key], {});\n",
       "          if (!dataTable) return;\n",
       "\n",
       "          const docLinkHtml = 'Like what you see? Visit the ' +\n",
       "            '<a target=\"_blank\" href=https://colab.research.google.com/notebooks/data_table.ipynb>data table notebook</a>'\n",
       "            + ' to learn more about interactive tables.';\n",
       "          element.innerHTML = '';\n",
       "          dataTable['output_type'] = 'display_data';\n",
       "          await google.colab.output.renderOutput(dataTable, element);\n",
       "          const docLink = document.createElement('div');\n",
       "          docLink.innerHTML = docLinkHtml;\n",
       "          element.appendChild(docLink);\n",
       "        }\n",
       "      </script>\n",
       "    </div>\n",
       "  </div>\n",
       "  "
      ]
     },
     "metadata": {},
     "execution_count": 90
    }
   ],
   "source": [
    "len(data_json)"
   ]
  },
  {
   "cell_type": "code",
   "execution_count": 91,
   "metadata": {
    "id": "rprJQD2BEJAw",
    "pycharm": {
     "name": "#%%\n"
    }
   },
   "outputs": [],
   "source": [
    "data_json = data_json.dropna(subset=['job_title','job_description'])"
   ]
  },
  {
   "cell_type": "code",
   "execution_count": 93,
   "metadata": {
    "id": "WCYlF18JEJAx",
    "outputId": "9a50d7d7-a507-4673-e1e6-f4900187c415",
    "colab": {
     "base_uri": "https://localhost:8080/"
    },
    "pycharm": {
     "name": "#%%\n"
    }
   },
   "outputs": [
    {
     "output_type": "execute_result",
     "data": {
      "text/plain": [
       "3806"
      ]
     },
     "metadata": {},
     "execution_count": 93
    }
   ],
   "source": [
    "len(data_json)"
   ]
  },
  {
   "cell_type": "code",
   "execution_count": 94,
   "metadata": {
    "id": "Hj6UifGeEJA0",
    "pycharm": {
     "name": "#%%\n"
    }
   },
   "outputs": [],
   "source": [
    "data_json = pd.DataFrame(data_json)"
   ]
  },
  {
   "cell_type": "code",
   "execution_count": 97,
   "metadata": {
    "colab": {
     "base_uri": "https://localhost:8080/"
    },
    "id": "iFFori5IEJA2",
    "outputId": "6189d5d2-3ffe-4c62-9759-4c49ce5e1821",
    "pycharm": {
     "name": "#%%\n"
    }
   },
   "outputs": [
    {
     "output_type": "stream",
     "name": "stdout",
     "text": [
      "Index(['link', 'job_title', 'company', 'company_url', 'company_location',\n",
      "       'job_description', 'date'],\n",
      "      dtype='object')\n",
      "Index(['lnks_link', 'lnks_job_title', 'lnks_company', 'lnks_company_url',\n",
      "       'lnks_company_location', 'lnks_job_description', 'date'],\n",
      "      dtype='object')\n"
     ]
    }
   ],
   "source": [
    "print(data_json.keys())\n",
    "print(info_csv.keys())"
   ]
  },
  {
   "cell_type": "code",
   "execution_count": 98,
   "metadata": {
    "colab": {
     "base_uri": "https://localhost:8080/"
    },
    "id": "cdl8CVxEEJA4",
    "outputId": "4002bbf6-4369-4470-fdb8-b24014664792",
    "pycharm": {
     "name": "#%%\n"
    }
   },
   "outputs": [
    {
     "output_type": "stream",
     "name": "stderr",
     "text": [
      "/usr/local/lib/python3.7/dist-packages/pandas/core/frame.py:5047: SettingWithCopyWarning: \n",
      "A value is trying to be set on a copy of a slice from a DataFrame\n",
      "\n",
      "See the caveats in the documentation: https://pandas.pydata.org/pandas-docs/stable/user_guide/indexing.html#returning-a-view-versus-a-copy\n",
      "  errors=errors,\n"
     ]
    }
   ],
   "source": [
    "info_csv.rename(columns={'lnks_link' : 'link', 'lnks_job_title': 'job_title', 'lnks_company': 'company', 'lnks_company_url' : 'company_url',\n",
    "       'lnks_company_location' : 'company_location', 'lnks_job_description' : 'job_description'}, inplace=True)"
   ]
  },
  {
   "cell_type": "code",
   "execution_count": 99,
   "metadata": {
    "colab": {
     "base_uri": "https://localhost:8080/",
     "height": 489
    },
    "id": "B5yl4NbpEJA5",
    "outputId": "9959f6b1-768f-466e-a811-678c5c32a97b",
    "pycharm": {
     "name": "#%%\n"
    }
   },
   "outputs": [
    {
     "output_type": "execute_result",
     "data": {
      "text/plain": [
       "                                                link  \\\n",
       "0  https://www.indeed.com/pagead/clk?mo=r&ad=-6NY...   \n",
       "1  https://www.indeed.com/rc/clk?jk=bf3aa4d4d8608...   \n",
       "2  https://www.indeed.com/rc/clk?jk=ceee36181304b...   \n",
       "3  https://www.indeed.com/rc/clk?jk=e9735aea38be9...   \n",
       "4  https://www.indeed.com/company/Swiss-American-...   \n",
       "\n",
       "                                        job_title  \\\n",
       "0       Senior Audit Manager- Compliance (Remote)   \n",
       "1                               Access Specialist   \n",
       "2  Clinic Registered Nurse - Family Practice - FT   \n",
       "3      Sr Wetland Scientist/Permitting Specialist   \n",
       "4                      Quality Assurance Engineer   \n",
       "\n",
       "                        company  \\\n",
       "0                          USAA   \n",
       "1  Pikes Peak Community College   \n",
       "2      Memorial Regional Health   \n",
       "3                        Jacobs   \n",
       "4           Swiss American CDMO   \n",
       "\n",
       "                                         company_url  \\\n",
       "0  https://www.indeed.com/cmp/Usaa?campaignid=mob...   \n",
       "1  https://www.indeed.com/cmp/Pikes-Peak-Communit...   \n",
       "2  https://www.indeed.com/cmp/Memorial-Regional-H...   \n",
       "3  https://www.indeed.com/cmp/Jacobs?campaignid=m...   \n",
       "4  https://www.indeed.com/cmp/Swiss-American-Cdmo...   \n",
       "\n",
       "             company_location  \\\n",
       "0      Happy Valley Ranch, AZ   \n",
       "1  Colorado Springs, CO 80906   \n",
       "2             Craig, CO 81625   \n",
       "3      Wethersfield, CT 06109   \n",
       "4        Carrollton, TX 75006   \n",
       "\n",
       "                                     job_description     date  \n",
       "0  Purpose of Job We are seeking a talented Senio...  5172022  \n",
       "1  Tracking Code: 40069\\nWork Type: Full-time\\nCa...  5172022  \n",
       "2  Position Purpose: The Registered Nurse is resp...  5172022  \n",
       "3  Our People & Places Solutions business – reinf...  5172022  \n",
       "4  QUALITY ASSURANCE ENGINEER II\\nPosition Summar...  5172022  "
      ],
      "text/html": [
       "\n",
       "  <div id=\"df-8760aeae-65f0-4581-b888-3cc0d5cd0c84\">\n",
       "    <div class=\"colab-df-container\">\n",
       "      <div>\n",
       "<style scoped>\n",
       "    .dataframe tbody tr th:only-of-type {\n",
       "        vertical-align: middle;\n",
       "    }\n",
       "\n",
       "    .dataframe tbody tr th {\n",
       "        vertical-align: top;\n",
       "    }\n",
       "\n",
       "    .dataframe thead th {\n",
       "        text-align: right;\n",
       "    }\n",
       "</style>\n",
       "<table border=\"1\" class=\"dataframe\">\n",
       "  <thead>\n",
       "    <tr style=\"text-align: right;\">\n",
       "      <th></th>\n",
       "      <th>link</th>\n",
       "      <th>job_title</th>\n",
       "      <th>company</th>\n",
       "      <th>company_url</th>\n",
       "      <th>company_location</th>\n",
       "      <th>job_description</th>\n",
       "      <th>date</th>\n",
       "    </tr>\n",
       "  </thead>\n",
       "  <tbody>\n",
       "    <tr>\n",
       "      <th>0</th>\n",
       "      <td>https://www.indeed.com/pagead/clk?mo=r&amp;ad=-6NY...</td>\n",
       "      <td>Senior Audit Manager- Compliance (Remote)</td>\n",
       "      <td>USAA</td>\n",
       "      <td>https://www.indeed.com/cmp/Usaa?campaignid=mob...</td>\n",
       "      <td>Happy Valley Ranch, AZ</td>\n",
       "      <td>Purpose of Job We are seeking a talented Senio...</td>\n",
       "      <td>5172022</td>\n",
       "    </tr>\n",
       "    <tr>\n",
       "      <th>1</th>\n",
       "      <td>https://www.indeed.com/rc/clk?jk=bf3aa4d4d8608...</td>\n",
       "      <td>Access Specialist</td>\n",
       "      <td>Pikes Peak Community College</td>\n",
       "      <td>https://www.indeed.com/cmp/Pikes-Peak-Communit...</td>\n",
       "      <td>Colorado Springs, CO 80906</td>\n",
       "      <td>Tracking Code: 40069\\nWork Type: Full-time\\nCa...</td>\n",
       "      <td>5172022</td>\n",
       "    </tr>\n",
       "    <tr>\n",
       "      <th>2</th>\n",
       "      <td>https://www.indeed.com/rc/clk?jk=ceee36181304b...</td>\n",
       "      <td>Clinic Registered Nurse - Family Practice - FT</td>\n",
       "      <td>Memorial Regional Health</td>\n",
       "      <td>https://www.indeed.com/cmp/Memorial-Regional-H...</td>\n",
       "      <td>Craig, CO 81625</td>\n",
       "      <td>Position Purpose: The Registered Nurse is resp...</td>\n",
       "      <td>5172022</td>\n",
       "    </tr>\n",
       "    <tr>\n",
       "      <th>3</th>\n",
       "      <td>https://www.indeed.com/rc/clk?jk=e9735aea38be9...</td>\n",
       "      <td>Sr Wetland Scientist/Permitting Specialist</td>\n",
       "      <td>Jacobs</td>\n",
       "      <td>https://www.indeed.com/cmp/Jacobs?campaignid=m...</td>\n",
       "      <td>Wethersfield, CT 06109</td>\n",
       "      <td>Our People &amp; Places Solutions business – reinf...</td>\n",
       "      <td>5172022</td>\n",
       "    </tr>\n",
       "    <tr>\n",
       "      <th>4</th>\n",
       "      <td>https://www.indeed.com/company/Swiss-American-...</td>\n",
       "      <td>Quality Assurance Engineer</td>\n",
       "      <td>Swiss American CDMO</td>\n",
       "      <td>https://www.indeed.com/cmp/Swiss-American-Cdmo...</td>\n",
       "      <td>Carrollton, TX 75006</td>\n",
       "      <td>QUALITY ASSURANCE ENGINEER II\\nPosition Summar...</td>\n",
       "      <td>5172022</td>\n",
       "    </tr>\n",
       "  </tbody>\n",
       "</table>\n",
       "</div>\n",
       "      <button class=\"colab-df-convert\" onclick=\"convertToInteractive('df-8760aeae-65f0-4581-b888-3cc0d5cd0c84')\"\n",
       "              title=\"Convert this dataframe to an interactive table.\"\n",
       "              style=\"display:none;\">\n",
       "        \n",
       "  <svg xmlns=\"http://www.w3.org/2000/svg\" height=\"24px\"viewBox=\"0 0 24 24\"\n",
       "       width=\"24px\">\n",
       "    <path d=\"M0 0h24v24H0V0z\" fill=\"none\"/>\n",
       "    <path d=\"M18.56 5.44l.94 2.06.94-2.06 2.06-.94-2.06-.94-.94-2.06-.94 2.06-2.06.94zm-11 1L8.5 8.5l.94-2.06 2.06-.94-2.06-.94L8.5 2.5l-.94 2.06-2.06.94zm10 10l.94 2.06.94-2.06 2.06-.94-2.06-.94-.94-2.06-.94 2.06-2.06.94z\"/><path d=\"M17.41 7.96l-1.37-1.37c-.4-.4-.92-.59-1.43-.59-.52 0-1.04.2-1.43.59L10.3 9.45l-7.72 7.72c-.78.78-.78 2.05 0 2.83L4 21.41c.39.39.9.59 1.41.59.51 0 1.02-.2 1.41-.59l7.78-7.78 2.81-2.81c.8-.78.8-2.07 0-2.86zM5.41 20L4 18.59l7.72-7.72 1.47 1.35L5.41 20z\"/>\n",
       "  </svg>\n",
       "      </button>\n",
       "      \n",
       "  <style>\n",
       "    .colab-df-container {\n",
       "      display:flex;\n",
       "      flex-wrap:wrap;\n",
       "      gap: 12px;\n",
       "    }\n",
       "\n",
       "    .colab-df-convert {\n",
       "      background-color: #E8F0FE;\n",
       "      border: none;\n",
       "      border-radius: 50%;\n",
       "      cursor: pointer;\n",
       "      display: none;\n",
       "      fill: #1967D2;\n",
       "      height: 32px;\n",
       "      padding: 0 0 0 0;\n",
       "      width: 32px;\n",
       "    }\n",
       "\n",
       "    .colab-df-convert:hover {\n",
       "      background-color: #E2EBFA;\n",
       "      box-shadow: 0px 1px 2px rgba(60, 64, 67, 0.3), 0px 1px 3px 1px rgba(60, 64, 67, 0.15);\n",
       "      fill: #174EA6;\n",
       "    }\n",
       "\n",
       "    [theme=dark] .colab-df-convert {\n",
       "      background-color: #3B4455;\n",
       "      fill: #D2E3FC;\n",
       "    }\n",
       "\n",
       "    [theme=dark] .colab-df-convert:hover {\n",
       "      background-color: #434B5C;\n",
       "      box-shadow: 0px 1px 3px 1px rgba(0, 0, 0, 0.15);\n",
       "      filter: drop-shadow(0px 1px 2px rgba(0, 0, 0, 0.3));\n",
       "      fill: #FFFFFF;\n",
       "    }\n",
       "  </style>\n",
       "\n",
       "      <script>\n",
       "        const buttonEl =\n",
       "          document.querySelector('#df-8760aeae-65f0-4581-b888-3cc0d5cd0c84 button.colab-df-convert');\n",
       "        buttonEl.style.display =\n",
       "          google.colab.kernel.accessAllowed ? 'block' : 'none';\n",
       "\n",
       "        async function convertToInteractive(key) {\n",
       "          const element = document.querySelector('#df-8760aeae-65f0-4581-b888-3cc0d5cd0c84');\n",
       "          const dataTable =\n",
       "            await google.colab.kernel.invokeFunction('convertToInteractive',\n",
       "                                                     [key], {});\n",
       "          if (!dataTable) return;\n",
       "\n",
       "          const docLinkHtml = 'Like what you see? Visit the ' +\n",
       "            '<a target=\"_blank\" href=https://colab.research.google.com/notebooks/data_table.ipynb>data table notebook</a>'\n",
       "            + ' to learn more about interactive tables.';\n",
       "          element.innerHTML = '';\n",
       "          dataTable['output_type'] = 'display_data';\n",
       "          await google.colab.output.renderOutput(dataTable, element);\n",
       "          const docLink = document.createElement('div');\n",
       "          docLink.innerHTML = docLinkHtml;\n",
       "          element.appendChild(docLink);\n",
       "        }\n",
       "      </script>\n",
       "    </div>\n",
       "  </div>\n",
       "  "
      ]
     },
     "metadata": {},
     "execution_count": 99
    }
   ],
   "source": [
    "info_csv.head()"
   ]
  },
  {
   "cell_type": "code",
   "execution_count": 100,
   "metadata": {
    "id": "btXXiR5QEJA6",
    "pycharm": {
     "name": "#%%\n"
    }
   },
   "outputs": [],
   "source": [
    "# combine them into one dataframe \n",
    "info_all = pd.concat([data_json, info_csv])"
   ]
  },
  {
   "cell_type": "code",
   "execution_count": 101,
   "metadata": {
    "id": "Q0mGz2rIEJA8",
    "pycharm": {
     "name": "#%%\n"
    }
   },
   "outputs": [],
   "source": [
    "info_all_dup = info_all.drop_duplicates('link')"
   ]
  },
  {
   "cell_type": "code",
   "execution_count": 102,
   "metadata": {
    "colab": {
     "base_uri": "https://localhost:8080/"
    },
    "id": "_iJOeMnNEJA-",
    "outputId": "b2aa6092-1090-4904-8aec-32c455c38c8b",
    "pycharm": {
     "name": "#%%\n"
    }
   },
   "outputs": [
    {
     "output_type": "execute_result",
     "data": {
      "text/plain": [
       "16303"
      ]
     },
     "metadata": {},
     "execution_count": 102
    }
   ],
   "source": [
    "info_all_dup.head()\n",
    "len(info_all_dup)"
   ]
  },
  {
   "cell_type": "markdown",
   "metadata": {
    "id": "K36w6VqfEJA_",
    "pycharm": {
     "name": "#%% md\n"
    }
   },
   "source": [
    "There are 16303 unique job listings recorded in the files after dropping missing job descriptions and titles"
   ]
  },
  {
   "cell_type": "markdown",
   "source": [
    "## Task 3. \n",
    "Merge between “job_url_data” and “job_info_data”. What is the percentage of jobs that can be matched between these two data sources? How are the missing data (unmatched job urls) distributed by date? What about matched job urls? How many complete job listings were we able to collect each day? How would you interpret this result with respect to data quality? Does it mean that our data collection strategy is flawed and thus introduces non-random sampling biases? \n"
   ],
   "metadata": {
    "id": "3WDp0dTNsIsE",
    "pycharm": {
     "name": "#%% md\n"
    }
   }
  },
  {
   "cell_type": "code",
   "source": [
    "keys_data['link']= keys_data['job_url']"
   ],
   "metadata": {
    "id": "BtGZJUHn4u9c",
    "pycharm": {
     "name": "#%%\n"
    }
   },
   "execution_count": 103,
   "outputs": []
  },
  {
   "cell_type": "code",
   "source": [
    "keys_data"
   ],
   "metadata": {
    "colab": {
     "base_uri": "https://localhost:8080/",
     "height": 419
    },
    "id": "tQcNB3zh0y4t",
    "outputId": "746f9ad8-a54d-4273-bb4a-62ff3b810a81",
    "pycharm": {
     "name": "#%%\n"
    }
   },
   "execution_count": 120,
   "outputs": [
    {
     "output_type": "execute_result",
     "data": {
      "text/plain": [
       "                                                 job_url     date  \\\n",
       "0      https://www.indeed.com/pagead/clk?mo=r&ad=-6NY...  5172022   \n",
       "1      https://www.indeed.com/rc/clk?jk=40e614effe237...  5172022   \n",
       "2      https://www.indeed.com/pagead/clk?mo=r&ad=-6NY...  5172022   \n",
       "3      https://www.indeed.com/rc/clk?jk=79bcb4432d5d3...  5172022   \n",
       "4      https://www.indeed.com/rc/clk?jk=751e4a1f89658...  5172022   \n",
       "...                                                  ...      ...   \n",
       "55707  https://www.indeed.com/pagead/clk?mo=r&ad=-6NY...  5232022   \n",
       "55708  https://www.indeed.com/rc/clk?jk=4c78c7807e27e...  5232022   \n",
       "55711  https://www.indeed.com/rc/clk?jk=0e8f96a6be975...  5232022   \n",
       "55712  https://www.indeed.com/rc/clk?jk=bd10340c8c24a...  5232022   \n",
       "55713  https://www.indeed.com/rc/clk?jk=0b6d28437ec8a...  5232022   \n",
       "\n",
       "                                                    link  \n",
       "0      https://www.indeed.com/pagead/clk?mo=r&ad=-6NY...  \n",
       "1      https://www.indeed.com/rc/clk?jk=40e614effe237...  \n",
       "2      https://www.indeed.com/pagead/clk?mo=r&ad=-6NY...  \n",
       "3      https://www.indeed.com/rc/clk?jk=79bcb4432d5d3...  \n",
       "4      https://www.indeed.com/rc/clk?jk=751e4a1f89658...  \n",
       "...                                                  ...  \n",
       "55707  https://www.indeed.com/pagead/clk?mo=r&ad=-6NY...  \n",
       "55708  https://www.indeed.com/rc/clk?jk=4c78c7807e27e...  \n",
       "55711  https://www.indeed.com/rc/clk?jk=0e8f96a6be975...  \n",
       "55712  https://www.indeed.com/rc/clk?jk=bd10340c8c24a...  \n",
       "55713  https://www.indeed.com/rc/clk?jk=0b6d28437ec8a...  \n",
       "\n",
       "[21260 rows x 3 columns]"
      ],
      "text/html": [
       "\n",
       "  <div id=\"df-9388ba68-aeb1-434d-a235-e3c55be626cd\">\n",
       "    <div class=\"colab-df-container\">\n",
       "      <div>\n",
       "<style scoped>\n",
       "    .dataframe tbody tr th:only-of-type {\n",
       "        vertical-align: middle;\n",
       "    }\n",
       "\n",
       "    .dataframe tbody tr th {\n",
       "        vertical-align: top;\n",
       "    }\n",
       "\n",
       "    .dataframe thead th {\n",
       "        text-align: right;\n",
       "    }\n",
       "</style>\n",
       "<table border=\"1\" class=\"dataframe\">\n",
       "  <thead>\n",
       "    <tr style=\"text-align: right;\">\n",
       "      <th></th>\n",
       "      <th>job_url</th>\n",
       "      <th>date</th>\n",
       "      <th>link</th>\n",
       "    </tr>\n",
       "  </thead>\n",
       "  <tbody>\n",
       "    <tr>\n",
       "      <th>0</th>\n",
       "      <td>https://www.indeed.com/pagead/clk?mo=r&amp;ad=-6NY...</td>\n",
       "      <td>5172022</td>\n",
       "      <td>https://www.indeed.com/pagead/clk?mo=r&amp;ad=-6NY...</td>\n",
       "    </tr>\n",
       "    <tr>\n",
       "      <th>1</th>\n",
       "      <td>https://www.indeed.com/rc/clk?jk=40e614effe237...</td>\n",
       "      <td>5172022</td>\n",
       "      <td>https://www.indeed.com/rc/clk?jk=40e614effe237...</td>\n",
       "    </tr>\n",
       "    <tr>\n",
       "      <th>2</th>\n",
       "      <td>https://www.indeed.com/pagead/clk?mo=r&amp;ad=-6NY...</td>\n",
       "      <td>5172022</td>\n",
       "      <td>https://www.indeed.com/pagead/clk?mo=r&amp;ad=-6NY...</td>\n",
       "    </tr>\n",
       "    <tr>\n",
       "      <th>3</th>\n",
       "      <td>https://www.indeed.com/rc/clk?jk=79bcb4432d5d3...</td>\n",
       "      <td>5172022</td>\n",
       "      <td>https://www.indeed.com/rc/clk?jk=79bcb4432d5d3...</td>\n",
       "    </tr>\n",
       "    <tr>\n",
       "      <th>4</th>\n",
       "      <td>https://www.indeed.com/rc/clk?jk=751e4a1f89658...</td>\n",
       "      <td>5172022</td>\n",
       "      <td>https://www.indeed.com/rc/clk?jk=751e4a1f89658...</td>\n",
       "    </tr>\n",
       "    <tr>\n",
       "      <th>...</th>\n",
       "      <td>...</td>\n",
       "      <td>...</td>\n",
       "      <td>...</td>\n",
       "    </tr>\n",
       "    <tr>\n",
       "      <th>55707</th>\n",
       "      <td>https://www.indeed.com/pagead/clk?mo=r&amp;ad=-6NY...</td>\n",
       "      <td>5232022</td>\n",
       "      <td>https://www.indeed.com/pagead/clk?mo=r&amp;ad=-6NY...</td>\n",
       "    </tr>\n",
       "    <tr>\n",
       "      <th>55708</th>\n",
       "      <td>https://www.indeed.com/rc/clk?jk=4c78c7807e27e...</td>\n",
       "      <td>5232022</td>\n",
       "      <td>https://www.indeed.com/rc/clk?jk=4c78c7807e27e...</td>\n",
       "    </tr>\n",
       "    <tr>\n",
       "      <th>55711</th>\n",
       "      <td>https://www.indeed.com/rc/clk?jk=0e8f96a6be975...</td>\n",
       "      <td>5232022</td>\n",
       "      <td>https://www.indeed.com/rc/clk?jk=0e8f96a6be975...</td>\n",
       "    </tr>\n",
       "    <tr>\n",
       "      <th>55712</th>\n",
       "      <td>https://www.indeed.com/rc/clk?jk=bd10340c8c24a...</td>\n",
       "      <td>5232022</td>\n",
       "      <td>https://www.indeed.com/rc/clk?jk=bd10340c8c24a...</td>\n",
       "    </tr>\n",
       "    <tr>\n",
       "      <th>55713</th>\n",
       "      <td>https://www.indeed.com/rc/clk?jk=0b6d28437ec8a...</td>\n",
       "      <td>5232022</td>\n",
       "      <td>https://www.indeed.com/rc/clk?jk=0b6d28437ec8a...</td>\n",
       "    </tr>\n",
       "  </tbody>\n",
       "</table>\n",
       "<p>21260 rows × 3 columns</p>\n",
       "</div>\n",
       "      <button class=\"colab-df-convert\" onclick=\"convertToInteractive('df-9388ba68-aeb1-434d-a235-e3c55be626cd')\"\n",
       "              title=\"Convert this dataframe to an interactive table.\"\n",
       "              style=\"display:none;\">\n",
       "        \n",
       "  <svg xmlns=\"http://www.w3.org/2000/svg\" height=\"24px\"viewBox=\"0 0 24 24\"\n",
       "       width=\"24px\">\n",
       "    <path d=\"M0 0h24v24H0V0z\" fill=\"none\"/>\n",
       "    <path d=\"M18.56 5.44l.94 2.06.94-2.06 2.06-.94-2.06-.94-.94-2.06-.94 2.06-2.06.94zm-11 1L8.5 8.5l.94-2.06 2.06-.94-2.06-.94L8.5 2.5l-.94 2.06-2.06.94zm10 10l.94 2.06.94-2.06 2.06-.94-2.06-.94-.94-2.06-.94 2.06-2.06.94z\"/><path d=\"M17.41 7.96l-1.37-1.37c-.4-.4-.92-.59-1.43-.59-.52 0-1.04.2-1.43.59L10.3 9.45l-7.72 7.72c-.78.78-.78 2.05 0 2.83L4 21.41c.39.39.9.59 1.41.59.51 0 1.02-.2 1.41-.59l7.78-7.78 2.81-2.81c.8-.78.8-2.07 0-2.86zM5.41 20L4 18.59l7.72-7.72 1.47 1.35L5.41 20z\"/>\n",
       "  </svg>\n",
       "      </button>\n",
       "      \n",
       "  <style>\n",
       "    .colab-df-container {\n",
       "      display:flex;\n",
       "      flex-wrap:wrap;\n",
       "      gap: 12px;\n",
       "    }\n",
       "\n",
       "    .colab-df-convert {\n",
       "      background-color: #E8F0FE;\n",
       "      border: none;\n",
       "      border-radius: 50%;\n",
       "      cursor: pointer;\n",
       "      display: none;\n",
       "      fill: #1967D2;\n",
       "      height: 32px;\n",
       "      padding: 0 0 0 0;\n",
       "      width: 32px;\n",
       "    }\n",
       "\n",
       "    .colab-df-convert:hover {\n",
       "      background-color: #E2EBFA;\n",
       "      box-shadow: 0px 1px 2px rgba(60, 64, 67, 0.3), 0px 1px 3px 1px rgba(60, 64, 67, 0.15);\n",
       "      fill: #174EA6;\n",
       "    }\n",
       "\n",
       "    [theme=dark] .colab-df-convert {\n",
       "      background-color: #3B4455;\n",
       "      fill: #D2E3FC;\n",
       "    }\n",
       "\n",
       "    [theme=dark] .colab-df-convert:hover {\n",
       "      background-color: #434B5C;\n",
       "      box-shadow: 0px 1px 3px 1px rgba(0, 0, 0, 0.15);\n",
       "      filter: drop-shadow(0px 1px 2px rgba(0, 0, 0, 0.3));\n",
       "      fill: #FFFFFF;\n",
       "    }\n",
       "  </style>\n",
       "\n",
       "      <script>\n",
       "        const buttonEl =\n",
       "          document.querySelector('#df-9388ba68-aeb1-434d-a235-e3c55be626cd button.colab-df-convert');\n",
       "        buttonEl.style.display =\n",
       "          google.colab.kernel.accessAllowed ? 'block' : 'none';\n",
       "\n",
       "        async function convertToInteractive(key) {\n",
       "          const element = document.querySelector('#df-9388ba68-aeb1-434d-a235-e3c55be626cd');\n",
       "          const dataTable =\n",
       "            await google.colab.kernel.invokeFunction('convertToInteractive',\n",
       "                                                     [key], {});\n",
       "          if (!dataTable) return;\n",
       "\n",
       "          const docLinkHtml = 'Like what you see? Visit the ' +\n",
       "            '<a target=\"_blank\" href=https://colab.research.google.com/notebooks/data_table.ipynb>data table notebook</a>'\n",
       "            + ' to learn more about interactive tables.';\n",
       "          element.innerHTML = '';\n",
       "          dataTable['output_type'] = 'display_data';\n",
       "          await google.colab.output.renderOutput(dataTable, element);\n",
       "          const docLink = document.createElement('div');\n",
       "          docLink.innerHTML = docLinkHtml;\n",
       "          element.appendChild(docLink);\n",
       "        }\n",
       "      </script>\n",
       "    </div>\n",
       "  </div>\n",
       "  "
      ]
     },
     "metadata": {},
     "execution_count": 120
    }
   ]
  },
  {
   "cell_type": "code",
   "source": [
    "keys_data = keys_data.drop_duplicates('link')"
   ],
   "metadata": {
    "id": "Heh4ZENJ1qF-",
    "pycharm": {
     "name": "#%%\n"
    }
   },
   "execution_count": 119,
   "outputs": []
  },
  {
   "cell_type": "code",
   "source": [
    "info_all_dup.head()"
   ],
   "metadata": {
    "colab": {
     "base_uri": "https://localhost:8080/",
     "height": 557
    },
    "id": "ys-T6uXd01m9",
    "outputId": "f6783d53-2c94-43d1-ef58-06466dbef69d",
    "pycharm": {
     "name": "#%%\n"
    }
   },
   "execution_count": 114,
   "outputs": [
    {
     "output_type": "execute_result",
     "data": {
      "text/plain": [
       "                                                link  \\\n",
       "5  https://www.indeed.com/rc/clk?jk=be4f78522cc9e...   \n",
       "6  https://www.indeed.com/pagead/clk?mo=r&ad=-6NY...   \n",
       "7  https://www.indeed.com/pagead/clk?mo=r&ad=-6NY...   \n",
       "8  https://www.indeed.com/pagead/clk?mo=r&ad=-6NY...   \n",
       "9  https://www.indeed.com/rc/clk?jk=cc5536b8ea743...   \n",
       "\n",
       "                                           job_title  \\\n",
       "5                 Associate Director Data Management   \n",
       "6  Safety and Health Specialist - Great Opportuni...   \n",
       "7                             Sr Material Technician   \n",
       "8                             1st Assistant Engineer   \n",
       "9  Director, Global Audits -Medical Devices & Com...   \n",
       "\n",
       "                     company  \\\n",
       "5                     Otsuka   \n",
       "6           ACT-1 Government   \n",
       "7                        NaN   \n",
       "8  American Seafoods Company   \n",
       "9                   Catalent   \n",
       "\n",
       "                                         company_url     company_location  \\\n",
       "5  https://www.indeed.com/cmp/Otsuka?campaignid=m...  Princeton, NJ 08540   \n",
       "6  https://www.indeed.com/cmp/Act--1-Government?c...      Aiken, SC 29803   \n",
       "7                                                NaN     Kearny, NJ 07032   \n",
       "8  https://www.indeed.com/cmp/American-Seafoods?c...        United States   \n",
       "9  https://www.indeed.com/cmp/Catalent-Pharma-Sol...   Somerset, NJ 08873   \n",
       "\n",
       "                                     job_description     date  \n",
       "5  Job Summary\\nOtsuka is a healthcare company dr...  5182022  \n",
       "6  Great opportunity for an experienced Safety & ...  5182022  \n",
       "7  Sr Material Technician opportunity with Kelly ...  5182022  \n",
       "8  Title of Position: 1stAssistant Engineer\\nStat...  5182022  \n",
       "9  As part of the Central Quality & Regulatory Af...  5182022  "
      ],
      "text/html": [
       "\n",
       "  <div id=\"df-89f9af87-dc5f-4079-af1c-be900c2959dd\">\n",
       "    <div class=\"colab-df-container\">\n",
       "      <div>\n",
       "<style scoped>\n",
       "    .dataframe tbody tr th:only-of-type {\n",
       "        vertical-align: middle;\n",
       "    }\n",
       "\n",
       "    .dataframe tbody tr th {\n",
       "        vertical-align: top;\n",
       "    }\n",
       "\n",
       "    .dataframe thead th {\n",
       "        text-align: right;\n",
       "    }\n",
       "</style>\n",
       "<table border=\"1\" class=\"dataframe\">\n",
       "  <thead>\n",
       "    <tr style=\"text-align: right;\">\n",
       "      <th></th>\n",
       "      <th>link</th>\n",
       "      <th>job_title</th>\n",
       "      <th>company</th>\n",
       "      <th>company_url</th>\n",
       "      <th>company_location</th>\n",
       "      <th>job_description</th>\n",
       "      <th>date</th>\n",
       "    </tr>\n",
       "  </thead>\n",
       "  <tbody>\n",
       "    <tr>\n",
       "      <th>5</th>\n",
       "      <td>https://www.indeed.com/rc/clk?jk=be4f78522cc9e...</td>\n",
       "      <td>Associate Director Data Management</td>\n",
       "      <td>Otsuka</td>\n",
       "      <td>https://www.indeed.com/cmp/Otsuka?campaignid=m...</td>\n",
       "      <td>Princeton, NJ 08540</td>\n",
       "      <td>Job Summary\\nOtsuka is a healthcare company dr...</td>\n",
       "      <td>5182022</td>\n",
       "    </tr>\n",
       "    <tr>\n",
       "      <th>6</th>\n",
       "      <td>https://www.indeed.com/pagead/clk?mo=r&amp;ad=-6NY...</td>\n",
       "      <td>Safety and Health Specialist - Great Opportuni...</td>\n",
       "      <td>ACT-1 Government</td>\n",
       "      <td>https://www.indeed.com/cmp/Act--1-Government?c...</td>\n",
       "      <td>Aiken, SC 29803</td>\n",
       "      <td>Great opportunity for an experienced Safety &amp; ...</td>\n",
       "      <td>5182022</td>\n",
       "    </tr>\n",
       "    <tr>\n",
       "      <th>7</th>\n",
       "      <td>https://www.indeed.com/pagead/clk?mo=r&amp;ad=-6NY...</td>\n",
       "      <td>Sr Material Technician</td>\n",
       "      <td>NaN</td>\n",
       "      <td>NaN</td>\n",
       "      <td>Kearny, NJ 07032</td>\n",
       "      <td>Sr Material Technician opportunity with Kelly ...</td>\n",
       "      <td>5182022</td>\n",
       "    </tr>\n",
       "    <tr>\n",
       "      <th>8</th>\n",
       "      <td>https://www.indeed.com/pagead/clk?mo=r&amp;ad=-6NY...</td>\n",
       "      <td>1st Assistant Engineer</td>\n",
       "      <td>American Seafoods Company</td>\n",
       "      <td>https://www.indeed.com/cmp/American-Seafoods?c...</td>\n",
       "      <td>United States</td>\n",
       "      <td>Title of Position: 1stAssistant Engineer\\nStat...</td>\n",
       "      <td>5182022</td>\n",
       "    </tr>\n",
       "    <tr>\n",
       "      <th>9</th>\n",
       "      <td>https://www.indeed.com/rc/clk?jk=cc5536b8ea743...</td>\n",
       "      <td>Director, Global Audits -Medical Devices &amp; Com...</td>\n",
       "      <td>Catalent</td>\n",
       "      <td>https://www.indeed.com/cmp/Catalent-Pharma-Sol...</td>\n",
       "      <td>Somerset, NJ 08873</td>\n",
       "      <td>As part of the Central Quality &amp; Regulatory Af...</td>\n",
       "      <td>5182022</td>\n",
       "    </tr>\n",
       "  </tbody>\n",
       "</table>\n",
       "</div>\n",
       "      <button class=\"colab-df-convert\" onclick=\"convertToInteractive('df-89f9af87-dc5f-4079-af1c-be900c2959dd')\"\n",
       "              title=\"Convert this dataframe to an interactive table.\"\n",
       "              style=\"display:none;\">\n",
       "        \n",
       "  <svg xmlns=\"http://www.w3.org/2000/svg\" height=\"24px\"viewBox=\"0 0 24 24\"\n",
       "       width=\"24px\">\n",
       "    <path d=\"M0 0h24v24H0V0z\" fill=\"none\"/>\n",
       "    <path d=\"M18.56 5.44l.94 2.06.94-2.06 2.06-.94-2.06-.94-.94-2.06-.94 2.06-2.06.94zm-11 1L8.5 8.5l.94-2.06 2.06-.94-2.06-.94L8.5 2.5l-.94 2.06-2.06.94zm10 10l.94 2.06.94-2.06 2.06-.94-2.06-.94-.94-2.06-.94 2.06-2.06.94z\"/><path d=\"M17.41 7.96l-1.37-1.37c-.4-.4-.92-.59-1.43-.59-.52 0-1.04.2-1.43.59L10.3 9.45l-7.72 7.72c-.78.78-.78 2.05 0 2.83L4 21.41c.39.39.9.59 1.41.59.51 0 1.02-.2 1.41-.59l7.78-7.78 2.81-2.81c.8-.78.8-2.07 0-2.86zM5.41 20L4 18.59l7.72-7.72 1.47 1.35L5.41 20z\"/>\n",
       "  </svg>\n",
       "      </button>\n",
       "      \n",
       "  <style>\n",
       "    .colab-df-container {\n",
       "      display:flex;\n",
       "      flex-wrap:wrap;\n",
       "      gap: 12px;\n",
       "    }\n",
       "\n",
       "    .colab-df-convert {\n",
       "      background-color: #E8F0FE;\n",
       "      border: none;\n",
       "      border-radius: 50%;\n",
       "      cursor: pointer;\n",
       "      display: none;\n",
       "      fill: #1967D2;\n",
       "      height: 32px;\n",
       "      padding: 0 0 0 0;\n",
       "      width: 32px;\n",
       "    }\n",
       "\n",
       "    .colab-df-convert:hover {\n",
       "      background-color: #E2EBFA;\n",
       "      box-shadow: 0px 1px 2px rgba(60, 64, 67, 0.3), 0px 1px 3px 1px rgba(60, 64, 67, 0.15);\n",
       "      fill: #174EA6;\n",
       "    }\n",
       "\n",
       "    [theme=dark] .colab-df-convert {\n",
       "      background-color: #3B4455;\n",
       "      fill: #D2E3FC;\n",
       "    }\n",
       "\n",
       "    [theme=dark] .colab-df-convert:hover {\n",
       "      background-color: #434B5C;\n",
       "      box-shadow: 0px 1px 3px 1px rgba(0, 0, 0, 0.15);\n",
       "      filter: drop-shadow(0px 1px 2px rgba(0, 0, 0, 0.3));\n",
       "      fill: #FFFFFF;\n",
       "    }\n",
       "  </style>\n",
       "\n",
       "      <script>\n",
       "        const buttonEl =\n",
       "          document.querySelector('#df-89f9af87-dc5f-4079-af1c-be900c2959dd button.colab-df-convert');\n",
       "        buttonEl.style.display =\n",
       "          google.colab.kernel.accessAllowed ? 'block' : 'none';\n",
       "\n",
       "        async function convertToInteractive(key) {\n",
       "          const element = document.querySelector('#df-89f9af87-dc5f-4079-af1c-be900c2959dd');\n",
       "          const dataTable =\n",
       "            await google.colab.kernel.invokeFunction('convertToInteractive',\n",
       "                                                     [key], {});\n",
       "          if (!dataTable) return;\n",
       "\n",
       "          const docLinkHtml = 'Like what you see? Visit the ' +\n",
       "            '<a target=\"_blank\" href=https://colab.research.google.com/notebooks/data_table.ipynb>data table notebook</a>'\n",
       "            + ' to learn more about interactive tables.';\n",
       "          element.innerHTML = '';\n",
       "          dataTable['output_type'] = 'display_data';\n",
       "          await google.colab.output.renderOutput(dataTable, element);\n",
       "          const docLink = document.createElement('div');\n",
       "          docLink.innerHTML = docLinkHtml;\n",
       "          element.appendChild(docLink);\n",
       "        }\n",
       "      </script>\n",
       "    </div>\n",
       "  </div>\n",
       "  "
      ]
     },
     "metadata": {},
     "execution_count": 114
    }
   ]
  },
  {
   "cell_type": "code",
   "source": [
    "merged = pd.merge(keys_data, info_all_dup, on = 'link')"
   ],
   "metadata": {
    "id": "mUnC9IAE4txl",
    "pycharm": {
     "name": "#%%\n"
    }
   },
   "execution_count": 121,
   "outputs": []
  },
  {
   "cell_type": "code",
   "source": [
    "print(len(merged))\n",
    "print(len(keys_data))\n",
    "print(len(info_all_dup))"
   ],
   "metadata": {
    "colab": {
     "base_uri": "https://localhost:8080/"
    },
    "id": "rnydfQGj5EmR",
    "outputId": "be0baa1d-27f4-4ee4-c417-975e72d9c7c4",
    "pycharm": {
     "name": "#%%\n"
    }
   },
   "execution_count": 122,
   "outputs": [
    {
     "output_type": "stream",
     "name": "stdout",
     "text": [
      "16303\n",
      "21260\n",
      "16303\n"
     ]
    }
   ]
  },
  {
   "cell_type": "code",
   "source": [
    "merged.head()"
   ],
   "metadata": {
    "colab": {
     "base_uri": "https://localhost:8080/",
     "height": 523
    },
    "id": "6Iq0_DzV21MZ",
    "outputId": "312b17b3-e64b-4eb2-da75-be892d30bc5b",
    "pycharm": {
     "name": "#%%\n"
    }
   },
   "execution_count": 127,
   "outputs": [
    {
     "output_type": "execute_result",
     "data": {
      "text/plain": [
       "                                             job_url   date_x  \\\n",
       "0  https://www.indeed.com/pagead/clk?mo=r&ad=-6NY...  5172022   \n",
       "1  https://www.indeed.com/rc/clk?jk=79aca2b2b61ad...  5172022   \n",
       "2  https://www.indeed.com/pagead/clk?mo=r&ad=-6NY...  5172022   \n",
       "3  https://www.indeed.com/pagead/clk?mo=r&ad=-6NY...  5172022   \n",
       "4  https://www.indeed.com/pagead/clk?mo=r&ad=-6NY...  5172022   \n",
       "\n",
       "                                                link  \\\n",
       "0  https://www.indeed.com/pagead/clk?mo=r&ad=-6NY...   \n",
       "1  https://www.indeed.com/rc/clk?jk=79aca2b2b61ad...   \n",
       "2  https://www.indeed.com/pagead/clk?mo=r&ad=-6NY...   \n",
       "3  https://www.indeed.com/pagead/clk?mo=r&ad=-6NY...   \n",
       "4  https://www.indeed.com/pagead/clk?mo=r&ad=-6NY...   \n",
       "\n",
       "                                           job_title  \\\n",
       "0  Safety and Health Specialist - Great Opportuni...   \n",
       "1                              Compliance Specialist   \n",
       "2                                    Manager Trainee   \n",
       "3  Evening Nurse Supervisor Skilled Nursing (RN/L...   \n",
       "4                            Sr Project Data Manager   \n",
       "\n",
       "                                      company  \\\n",
       "0                            ACT-1 Government   \n",
       "1                            WELLS FARGO BANK   \n",
       "2                                         NaN   \n",
       "3  Salemhaven Nursing & Rehabilitation Center   \n",
       "4                                         NaN   \n",
       "\n",
       "                                         company_url        company_location  \\\n",
       "0  https://www.indeed.com/cmp/Act--1-Government?c...         Aiken, SC 29803   \n",
       "1  https://www.indeed.com/cmp/Wells-Fargo?campaig...           St. Louis, MO   \n",
       "2                                                NaN  Cedar Rapids, IA 52402   \n",
       "3  https://www.indeed.com/cmp/Salemhaven-Nursing-...         Salem, NH 03079   \n",
       "4                                                NaN           United States   \n",
       "\n",
       "                                     job_description   date_y  \n",
       "0  Great opportunity for an experienced Safety & ...  5182022  \n",
       "1  At Wells Fargo, we are looking for talented pe...  5172022  \n",
       "2  By clicking the “Apply” button, I understand t...  5182022  \n",
       "3  *$10,000 SIGN ON BONUS AND VERY GENEROUS SHIFT...  5182022  \n",
       "4  Description\\nSenior Project Data Manager\\nCome...  5172022  "
      ],
      "text/html": [
       "\n",
       "  <div id=\"df-993920ae-f528-4525-adeb-8cb497b3be03\">\n",
       "    <div class=\"colab-df-container\">\n",
       "      <div>\n",
       "<style scoped>\n",
       "    .dataframe tbody tr th:only-of-type {\n",
       "        vertical-align: middle;\n",
       "    }\n",
       "\n",
       "    .dataframe tbody tr th {\n",
       "        vertical-align: top;\n",
       "    }\n",
       "\n",
       "    .dataframe thead th {\n",
       "        text-align: right;\n",
       "    }\n",
       "</style>\n",
       "<table border=\"1\" class=\"dataframe\">\n",
       "  <thead>\n",
       "    <tr style=\"text-align: right;\">\n",
       "      <th></th>\n",
       "      <th>job_url</th>\n",
       "      <th>date_x</th>\n",
       "      <th>link</th>\n",
       "      <th>job_title</th>\n",
       "      <th>company</th>\n",
       "      <th>company_url</th>\n",
       "      <th>company_location</th>\n",
       "      <th>job_description</th>\n",
       "      <th>date_y</th>\n",
       "    </tr>\n",
       "  </thead>\n",
       "  <tbody>\n",
       "    <tr>\n",
       "      <th>0</th>\n",
       "      <td>https://www.indeed.com/pagead/clk?mo=r&amp;ad=-6NY...</td>\n",
       "      <td>5172022</td>\n",
       "      <td>https://www.indeed.com/pagead/clk?mo=r&amp;ad=-6NY...</td>\n",
       "      <td>Safety and Health Specialist - Great Opportuni...</td>\n",
       "      <td>ACT-1 Government</td>\n",
       "      <td>https://www.indeed.com/cmp/Act--1-Government?c...</td>\n",
       "      <td>Aiken, SC 29803</td>\n",
       "      <td>Great opportunity for an experienced Safety &amp; ...</td>\n",
       "      <td>5182022</td>\n",
       "    </tr>\n",
       "    <tr>\n",
       "      <th>1</th>\n",
       "      <td>https://www.indeed.com/rc/clk?jk=79aca2b2b61ad...</td>\n",
       "      <td>5172022</td>\n",
       "      <td>https://www.indeed.com/rc/clk?jk=79aca2b2b61ad...</td>\n",
       "      <td>Compliance Specialist</td>\n",
       "      <td>WELLS FARGO BANK</td>\n",
       "      <td>https://www.indeed.com/cmp/Wells-Fargo?campaig...</td>\n",
       "      <td>St. Louis, MO</td>\n",
       "      <td>At Wells Fargo, we are looking for talented pe...</td>\n",
       "      <td>5172022</td>\n",
       "    </tr>\n",
       "    <tr>\n",
       "      <th>2</th>\n",
       "      <td>https://www.indeed.com/pagead/clk?mo=r&amp;ad=-6NY...</td>\n",
       "      <td>5172022</td>\n",
       "      <td>https://www.indeed.com/pagead/clk?mo=r&amp;ad=-6NY...</td>\n",
       "      <td>Manager Trainee</td>\n",
       "      <td>NaN</td>\n",
       "      <td>NaN</td>\n",
       "      <td>Cedar Rapids, IA 52402</td>\n",
       "      <td>By clicking the “Apply” button, I understand t...</td>\n",
       "      <td>5182022</td>\n",
       "    </tr>\n",
       "    <tr>\n",
       "      <th>3</th>\n",
       "      <td>https://www.indeed.com/pagead/clk?mo=r&amp;ad=-6NY...</td>\n",
       "      <td>5172022</td>\n",
       "      <td>https://www.indeed.com/pagead/clk?mo=r&amp;ad=-6NY...</td>\n",
       "      <td>Evening Nurse Supervisor Skilled Nursing (RN/L...</td>\n",
       "      <td>Salemhaven Nursing &amp; Rehabilitation Center</td>\n",
       "      <td>https://www.indeed.com/cmp/Salemhaven-Nursing-...</td>\n",
       "      <td>Salem, NH 03079</td>\n",
       "      <td>*$10,000 SIGN ON BONUS AND VERY GENEROUS SHIFT...</td>\n",
       "      <td>5182022</td>\n",
       "    </tr>\n",
       "    <tr>\n",
       "      <th>4</th>\n",
       "      <td>https://www.indeed.com/pagead/clk?mo=r&amp;ad=-6NY...</td>\n",
       "      <td>5172022</td>\n",
       "      <td>https://www.indeed.com/pagead/clk?mo=r&amp;ad=-6NY...</td>\n",
       "      <td>Sr Project Data Manager</td>\n",
       "      <td>NaN</td>\n",
       "      <td>NaN</td>\n",
       "      <td>United States</td>\n",
       "      <td>Description\\nSenior Project Data Manager\\nCome...</td>\n",
       "      <td>5172022</td>\n",
       "    </tr>\n",
       "  </tbody>\n",
       "</table>\n",
       "</div>\n",
       "      <button class=\"colab-df-convert\" onclick=\"convertToInteractive('df-993920ae-f528-4525-adeb-8cb497b3be03')\"\n",
       "              title=\"Convert this dataframe to an interactive table.\"\n",
       "              style=\"display:none;\">\n",
       "        \n",
       "  <svg xmlns=\"http://www.w3.org/2000/svg\" height=\"24px\"viewBox=\"0 0 24 24\"\n",
       "       width=\"24px\">\n",
       "    <path d=\"M0 0h24v24H0V0z\" fill=\"none\"/>\n",
       "    <path d=\"M18.56 5.44l.94 2.06.94-2.06 2.06-.94-2.06-.94-.94-2.06-.94 2.06-2.06.94zm-11 1L8.5 8.5l.94-2.06 2.06-.94-2.06-.94L8.5 2.5l-.94 2.06-2.06.94zm10 10l.94 2.06.94-2.06 2.06-.94-2.06-.94-.94-2.06-.94 2.06-2.06.94z\"/><path d=\"M17.41 7.96l-1.37-1.37c-.4-.4-.92-.59-1.43-.59-.52 0-1.04.2-1.43.59L10.3 9.45l-7.72 7.72c-.78.78-.78 2.05 0 2.83L4 21.41c.39.39.9.59 1.41.59.51 0 1.02-.2 1.41-.59l7.78-7.78 2.81-2.81c.8-.78.8-2.07 0-2.86zM5.41 20L4 18.59l7.72-7.72 1.47 1.35L5.41 20z\"/>\n",
       "  </svg>\n",
       "      </button>\n",
       "      \n",
       "  <style>\n",
       "    .colab-df-container {\n",
       "      display:flex;\n",
       "      flex-wrap:wrap;\n",
       "      gap: 12px;\n",
       "    }\n",
       "\n",
       "    .colab-df-convert {\n",
       "      background-color: #E8F0FE;\n",
       "      border: none;\n",
       "      border-radius: 50%;\n",
       "      cursor: pointer;\n",
       "      display: none;\n",
       "      fill: #1967D2;\n",
       "      height: 32px;\n",
       "      padding: 0 0 0 0;\n",
       "      width: 32px;\n",
       "    }\n",
       "\n",
       "    .colab-df-convert:hover {\n",
       "      background-color: #E2EBFA;\n",
       "      box-shadow: 0px 1px 2px rgba(60, 64, 67, 0.3), 0px 1px 3px 1px rgba(60, 64, 67, 0.15);\n",
       "      fill: #174EA6;\n",
       "    }\n",
       "\n",
       "    [theme=dark] .colab-df-convert {\n",
       "      background-color: #3B4455;\n",
       "      fill: #D2E3FC;\n",
       "    }\n",
       "\n",
       "    [theme=dark] .colab-df-convert:hover {\n",
       "      background-color: #434B5C;\n",
       "      box-shadow: 0px 1px 3px 1px rgba(0, 0, 0, 0.15);\n",
       "      filter: drop-shadow(0px 1px 2px rgba(0, 0, 0, 0.3));\n",
       "      fill: #FFFFFF;\n",
       "    }\n",
       "  </style>\n",
       "\n",
       "      <script>\n",
       "        const buttonEl =\n",
       "          document.querySelector('#df-993920ae-f528-4525-adeb-8cb497b3be03 button.colab-df-convert');\n",
       "        buttonEl.style.display =\n",
       "          google.colab.kernel.accessAllowed ? 'block' : 'none';\n",
       "\n",
       "        async function convertToInteractive(key) {\n",
       "          const element = document.querySelector('#df-993920ae-f528-4525-adeb-8cb497b3be03');\n",
       "          const dataTable =\n",
       "            await google.colab.kernel.invokeFunction('convertToInteractive',\n",
       "                                                     [key], {});\n",
       "          if (!dataTable) return;\n",
       "\n",
       "          const docLinkHtml = 'Like what you see? Visit the ' +\n",
       "            '<a target=\"_blank\" href=https://colab.research.google.com/notebooks/data_table.ipynb>data table notebook</a>'\n",
       "            + ' to learn more about interactive tables.';\n",
       "          element.innerHTML = '';\n",
       "          dataTable['output_type'] = 'display_data';\n",
       "          await google.colab.output.renderOutput(dataTable, element);\n",
       "          const docLink = document.createElement('div');\n",
       "          docLink.innerHTML = docLinkHtml;\n",
       "          element.appendChild(docLink);\n",
       "        }\n",
       "      </script>\n",
       "    </div>\n",
       "  </div>\n",
       "  "
      ]
     },
     "metadata": {},
     "execution_count": 127
    }
   ]
  },
  {
   "cell_type": "code",
   "source": [
    "from zmq.constants import NULL\n",
    "\n",
    "merged['date'] = NULL\n",
    "for i in range(len(merged)): \n",
    "  if merged['date_x'][i] <= merged['date_y'][i]:\n",
    "    merged['date'][i] = merged['date_x'][i]\n",
    "  else: \n",
    "    merged['date'][i] = merged['date_y'][i]"
   ],
   "metadata": {
    "colab": {
     "base_uri": "https://localhost:8080/"
    },
    "id": "78Vewdxc2-nn",
    "outputId": "b6d3483d-31d2-4999-a53f-af04a042103c",
    "pycharm": {
     "name": "#%%\n"
    }
   },
   "execution_count": 132,
   "outputs": [
    {
     "output_type": "stream",
     "name": "stderr",
     "text": [
      "/usr/local/lib/python3.7/dist-packages/ipykernel_launcher.py:6: SettingWithCopyWarning: \n",
      "A value is trying to be set on a copy of a slice from a DataFrame\n",
      "\n",
      "See the caveats in the documentation: https://pandas.pydata.org/pandas-docs/stable/user_guide/indexing.html#returning-a-view-versus-a-copy\n",
      "  \n"
     ]
    }
   ]
  },
  {
   "cell_type": "code",
   "source": [
    "merged['date']"
   ],
   "metadata": {
    "colab": {
     "base_uri": "https://localhost:8080/"
    },
    "id": "5qHhUTMF3rc4",
    "outputId": "789412bb-da9d-449f-9c7b-958be01751c1",
    "pycharm": {
     "name": "#%%\n"
    }
   },
   "execution_count": 133,
   "outputs": [
    {
     "output_type": "execute_result",
     "data": {
      "text/plain": [
       "0        5172022\n",
       "1        5172022\n",
       "2        5172022\n",
       "3        5172022\n",
       "4        5172022\n",
       "          ...   \n",
       "16298    5222022\n",
       "16299    5222022\n",
       "16300    5222022\n",
       "16301    5222022\n",
       "16302    5222022\n",
       "Name: date, Length: 16303, dtype: int64"
      ]
     },
     "metadata": {},
     "execution_count": 133
    }
   ]
  },
  {
   "cell_type": "markdown",
   "source": [
    "We have found all job postings under job_info_data also under job_url_data. We could not match 4957 job urls with the job infos. "
   ],
   "metadata": {
    "id": "PDBWlT8w1TFV",
    "pycharm": {
     "name": "#%% md\n"
    }
   }
  },
  {
   "cell_type": "code",
   "source": [
    "days_count = merged.groupby('date').agg('job_url').count().reset_index()"
   ],
   "metadata": {
    "id": "eOHuPkca2J9i",
    "pycharm": {
     "name": "#%%\n"
    }
   },
   "execution_count": 136,
   "outputs": []
  },
  {
   "cell_type": "code",
   "source": [
    "days_count"
   ],
   "metadata": {
    "colab": {
     "base_uri": "https://localhost:8080/",
     "height": 235
    },
    "id": "9jfVSJUJ33GY",
    "outputId": "f8830801-10e1-4dfa-c4a2-50025eee3c7d",
    "pycharm": {
     "name": "#%%\n"
    }
   },
   "execution_count": 137,
   "outputs": [
    {
     "output_type": "execute_result",
     "data": {
      "text/plain": [
       "      date  job_url\n",
       "0  5172022     3905\n",
       "1  5182022     1324\n",
       "2  5192022     3790\n",
       "3  5202022     4503\n",
       "4  5212022     2113\n",
       "5  5222022      668"
      ],
      "text/html": [
       "\n",
       "  <div id=\"df-7c8eed84-eab7-49bc-91ce-0ecf7b156931\">\n",
       "    <div class=\"colab-df-container\">\n",
       "      <div>\n",
       "<style scoped>\n",
       "    .dataframe tbody tr th:only-of-type {\n",
       "        vertical-align: middle;\n",
       "    }\n",
       "\n",
       "    .dataframe tbody tr th {\n",
       "        vertical-align: top;\n",
       "    }\n",
       "\n",
       "    .dataframe thead th {\n",
       "        text-align: right;\n",
       "    }\n",
       "</style>\n",
       "<table border=\"1\" class=\"dataframe\">\n",
       "  <thead>\n",
       "    <tr style=\"text-align: right;\">\n",
       "      <th></th>\n",
       "      <th>date</th>\n",
       "      <th>job_url</th>\n",
       "    </tr>\n",
       "  </thead>\n",
       "  <tbody>\n",
       "    <tr>\n",
       "      <th>0</th>\n",
       "      <td>5172022</td>\n",
       "      <td>3905</td>\n",
       "    </tr>\n",
       "    <tr>\n",
       "      <th>1</th>\n",
       "      <td>5182022</td>\n",
       "      <td>1324</td>\n",
       "    </tr>\n",
       "    <tr>\n",
       "      <th>2</th>\n",
       "      <td>5192022</td>\n",
       "      <td>3790</td>\n",
       "    </tr>\n",
       "    <tr>\n",
       "      <th>3</th>\n",
       "      <td>5202022</td>\n",
       "      <td>4503</td>\n",
       "    </tr>\n",
       "    <tr>\n",
       "      <th>4</th>\n",
       "      <td>5212022</td>\n",
       "      <td>2113</td>\n",
       "    </tr>\n",
       "    <tr>\n",
       "      <th>5</th>\n",
       "      <td>5222022</td>\n",
       "      <td>668</td>\n",
       "    </tr>\n",
       "  </tbody>\n",
       "</table>\n",
       "</div>\n",
       "      <button class=\"colab-df-convert\" onclick=\"convertToInteractive('df-7c8eed84-eab7-49bc-91ce-0ecf7b156931')\"\n",
       "              title=\"Convert this dataframe to an interactive table.\"\n",
       "              style=\"display:none;\">\n",
       "        \n",
       "  <svg xmlns=\"http://www.w3.org/2000/svg\" height=\"24px\"viewBox=\"0 0 24 24\"\n",
       "       width=\"24px\">\n",
       "    <path d=\"M0 0h24v24H0V0z\" fill=\"none\"/>\n",
       "    <path d=\"M18.56 5.44l.94 2.06.94-2.06 2.06-.94-2.06-.94-.94-2.06-.94 2.06-2.06.94zm-11 1L8.5 8.5l.94-2.06 2.06-.94-2.06-.94L8.5 2.5l-.94 2.06-2.06.94zm10 10l.94 2.06.94-2.06 2.06-.94-2.06-.94-.94-2.06-.94 2.06-2.06.94z\"/><path d=\"M17.41 7.96l-1.37-1.37c-.4-.4-.92-.59-1.43-.59-.52 0-1.04.2-1.43.59L10.3 9.45l-7.72 7.72c-.78.78-.78 2.05 0 2.83L4 21.41c.39.39.9.59 1.41.59.51 0 1.02-.2 1.41-.59l7.78-7.78 2.81-2.81c.8-.78.8-2.07 0-2.86zM5.41 20L4 18.59l7.72-7.72 1.47 1.35L5.41 20z\"/>\n",
       "  </svg>\n",
       "      </button>\n",
       "      \n",
       "  <style>\n",
       "    .colab-df-container {\n",
       "      display:flex;\n",
       "      flex-wrap:wrap;\n",
       "      gap: 12px;\n",
       "    }\n",
       "\n",
       "    .colab-df-convert {\n",
       "      background-color: #E8F0FE;\n",
       "      border: none;\n",
       "      border-radius: 50%;\n",
       "      cursor: pointer;\n",
       "      display: none;\n",
       "      fill: #1967D2;\n",
       "      height: 32px;\n",
       "      padding: 0 0 0 0;\n",
       "      width: 32px;\n",
       "    }\n",
       "\n",
       "    .colab-df-convert:hover {\n",
       "      background-color: #E2EBFA;\n",
       "      box-shadow: 0px 1px 2px rgba(60, 64, 67, 0.3), 0px 1px 3px 1px rgba(60, 64, 67, 0.15);\n",
       "      fill: #174EA6;\n",
       "    }\n",
       "\n",
       "    [theme=dark] .colab-df-convert {\n",
       "      background-color: #3B4455;\n",
       "      fill: #D2E3FC;\n",
       "    }\n",
       "\n",
       "    [theme=dark] .colab-df-convert:hover {\n",
       "      background-color: #434B5C;\n",
       "      box-shadow: 0px 1px 3px 1px rgba(0, 0, 0, 0.15);\n",
       "      filter: drop-shadow(0px 1px 2px rgba(0, 0, 0, 0.3));\n",
       "      fill: #FFFFFF;\n",
       "    }\n",
       "  </style>\n",
       "\n",
       "      <script>\n",
       "        const buttonEl =\n",
       "          document.querySelector('#df-7c8eed84-eab7-49bc-91ce-0ecf7b156931 button.colab-df-convert');\n",
       "        buttonEl.style.display =\n",
       "          google.colab.kernel.accessAllowed ? 'block' : 'none';\n",
       "\n",
       "        async function convertToInteractive(key) {\n",
       "          const element = document.querySelector('#df-7c8eed84-eab7-49bc-91ce-0ecf7b156931');\n",
       "          const dataTable =\n",
       "            await google.colab.kernel.invokeFunction('convertToInteractive',\n",
       "                                                     [key], {});\n",
       "          if (!dataTable) return;\n",
       "\n",
       "          const docLinkHtml = 'Like what you see? Visit the ' +\n",
       "            '<a target=\"_blank\" href=https://colab.research.google.com/notebooks/data_table.ipynb>data table notebook</a>'\n",
       "            + ' to learn more about interactive tables.';\n",
       "          element.innerHTML = '';\n",
       "          dataTable['output_type'] = 'display_data';\n",
       "          await google.colab.output.renderOutput(dataTable, element);\n",
       "          const docLink = document.createElement('div');\n",
       "          docLink.innerHTML = docLinkHtml;\n",
       "          element.appendChild(docLink);\n",
       "        }\n",
       "      </script>\n",
       "    </div>\n",
       "  </div>\n",
       "  "
      ]
     },
     "metadata": {},
     "execution_count": 137
    }
   ]
  },
  {
   "cell_type": "markdown",
   "source": [
    "\n",
    "## Interpretation\n",
    "*   The distribution of data collection is not uniform. But I do not think that this is due to the method being flawed but I think it is because the new job postings do not have to be uniformly distributed. \n",
    "\n"
   ],
   "metadata": {
    "id": "3xGCZR9r4Mhe",
    "pycharm": {
     "name": "#%% md\n"
    }
   }
  },
  {
   "cell_type": "markdown",
   "source": [
    "# Bonus Task 1. \n",
    "Using the merged dataset from Task 3, extract state information for each individual job based on the “company_location” column. Aggregate them by state, and create a state-level choropleth map to visualize the spatial distribution of compliance jobs. The map should be colored based on the total number of compliance jobs in each state. The boundaries of US states in geojson can be found here. Interpret the results. [You will get three extra points if you are able to finish this bonus task.] \n"
   ],
   "metadata": {
    "id": "14ABvh3wtdVJ",
    "pycharm": {
     "name": "#%% md\n"
    }
   }
  },
  {
   "cell_type": "code",
   "source": [
    "%pip install geopandas\n",
    "%pip install rtree\n",
    "%pip install shapely\n",
    "%pip install folium\n"
   ],
   "metadata": {
    "colab": {
     "base_uri": "https://localhost:8080/"
    },
    "id": "bOK0W0ci4UZ8",
    "outputId": "18a33fa9-fee9-4012-ea42-b741af86a3f3",
    "pycharm": {
     "name": "#%%\n"
    }
   },
   "execution_count": 142,
   "outputs": [
    {
     "output_type": "stream",
     "name": "stdout",
     "text": [
      "Looking in indexes: https://pypi.org/simple, https://us-python.pkg.dev/colab-wheels/public/simple/\n",
      "Requirement already satisfied: geopandas in /usr/local/lib/python3.7/dist-packages (0.10.2)\n",
      "Requirement already satisfied: shapely>=1.6 in /usr/local/lib/python3.7/dist-packages (from geopandas) (1.8.4)\n",
      "Requirement already satisfied: pandas>=0.25.0 in /usr/local/lib/python3.7/dist-packages (from geopandas) (1.3.5)\n",
      "Requirement already satisfied: fiona>=1.8 in /usr/local/lib/python3.7/dist-packages (from geopandas) (1.8.21)\n",
      "Requirement already satisfied: pyproj>=2.2.0 in /usr/local/lib/python3.7/dist-packages (from geopandas) (3.2.1)\n",
      "Requirement already satisfied: attrs>=17 in /usr/local/lib/python3.7/dist-packages (from fiona>=1.8->geopandas) (22.1.0)\n",
      "Requirement already satisfied: setuptools in /usr/local/lib/python3.7/dist-packages (from fiona>=1.8->geopandas) (57.4.0)\n",
      "Requirement already satisfied: click-plugins>=1.0 in /usr/local/lib/python3.7/dist-packages (from fiona>=1.8->geopandas) (1.1.1)\n",
      "Requirement already satisfied: munch in /usr/local/lib/python3.7/dist-packages (from fiona>=1.8->geopandas) (2.5.0)\n",
      "Requirement already satisfied: cligj>=0.5 in /usr/local/lib/python3.7/dist-packages (from fiona>=1.8->geopandas) (0.7.2)\n",
      "Requirement already satisfied: six>=1.7 in /usr/local/lib/python3.7/dist-packages (from fiona>=1.8->geopandas) (1.15.0)\n",
      "Requirement already satisfied: click>=4.0 in /usr/local/lib/python3.7/dist-packages (from fiona>=1.8->geopandas) (7.1.2)\n",
      "Requirement already satisfied: certifi in /usr/local/lib/python3.7/dist-packages (from fiona>=1.8->geopandas) (2022.9.24)\n",
      "Requirement already satisfied: python-dateutil>=2.7.3 in /usr/local/lib/python3.7/dist-packages (from pandas>=0.25.0->geopandas) (2.8.2)\n",
      "Requirement already satisfied: pytz>=2017.3 in /usr/local/lib/python3.7/dist-packages (from pandas>=0.25.0->geopandas) (2022.4)\n",
      "Requirement already satisfied: numpy>=1.17.3 in /usr/local/lib/python3.7/dist-packages (from pandas>=0.25.0->geopandas) (1.21.6)\n",
      "Looking in indexes: https://pypi.org/simple, https://us-python.pkg.dev/colab-wheels/public/simple/\n",
      "Collecting rtree\n",
      "  Downloading Rtree-1.0.0-cp37-cp37m-manylinux_2_17_x86_64.manylinux2014_x86_64.whl (1.0 MB)\n",
      "\u001B[K     |████████████████████████████████| 1.0 MB 7.3 MB/s \n",
      "\u001B[?25hRequirement already satisfied: typing-extensions>=3.7 in /usr/local/lib/python3.7/dist-packages (from rtree) (4.1.1)\n",
      "Installing collected packages: rtree\n",
      "Successfully installed rtree-1.0.0\n",
      "Looking in indexes: https://pypi.org/simple, https://us-python.pkg.dev/colab-wheels/public/simple/\n",
      "Requirement already satisfied: shapely in /usr/local/lib/python3.7/dist-packages (1.8.4)\n",
      "Looking in indexes: https://pypi.org/simple, https://us-python.pkg.dev/colab-wheels/public/simple/\n",
      "Requirement already satisfied: folium in /usr/local/lib/python3.7/dist-packages (0.12.1.post1)\n",
      "Requirement already satisfied: jinja2>=2.9 in /usr/local/lib/python3.7/dist-packages (from folium) (2.11.3)\n",
      "Requirement already satisfied: numpy in /usr/local/lib/python3.7/dist-packages (from folium) (1.21.6)\n",
      "Requirement already satisfied: branca>=0.3.0 in /usr/local/lib/python3.7/dist-packages (from folium) (0.5.0)\n",
      "Requirement already satisfied: requests in /usr/local/lib/python3.7/dist-packages (from folium) (2.23.0)\n",
      "Requirement already satisfied: MarkupSafe>=0.23 in /usr/local/lib/python3.7/dist-packages (from jinja2>=2.9->folium) (2.0.1)\n",
      "Requirement already satisfied: certifi>=2017.4.17 in /usr/local/lib/python3.7/dist-packages (from requests->folium) (2022.9.24)\n",
      "Requirement already satisfied: idna<3,>=2.5 in /usr/local/lib/python3.7/dist-packages (from requests->folium) (2.10)\n",
      "Requirement already satisfied: chardet<4,>=3.0.2 in /usr/local/lib/python3.7/dist-packages (from requests->folium) (3.0.4)\n",
      "Requirement already satisfied: urllib3!=1.25.0,!=1.25.1,<1.26,>=1.21.1 in /usr/local/lib/python3.7/dist-packages (from requests->folium) (1.24.3)\n"
     ]
    }
   ]
  },
  {
   "cell_type": "code",
   "source": [
    "import geopandas as gpd\n",
    "import rtree\n",
    "import shapely\n",
    "import folium"
   ],
   "metadata": {
    "id": "0WpdZBiNHW0y",
    "pycharm": {
     "name": "#%%\n"
    }
   },
   "execution_count": 143,
   "outputs": []
  },
  {
   "cell_type": "code",
   "source": [
    "merged['company_location']"
   ],
   "metadata": {
    "colab": {
     "base_uri": "https://localhost:8080/"
    },
    "id": "dXqFh_tSHaJ7",
    "outputId": "a3c02001-684d-4cb6-8bf3-654af22d50cb",
    "pycharm": {
     "name": "#%%\n"
    }
   },
   "execution_count": 316,
   "outputs": [
    {
     "output_type": "execute_result",
     "data": {
      "text/plain": [
       "0                Aiken, SC 29803\n",
       "1                  St. Louis, MO\n",
       "2         Cedar Rapids, IA 52402\n",
       "3                Salem, NH 03079\n",
       "4                  United States\n",
       "                  ...           \n",
       "16298              Fairbanks, AK\n",
       "16299        San Diego, CA 92101\n",
       "16300                Chicago, IL\n",
       "16301    Williamsville, NY 14221\n",
       "16302            Omaha, NE 68131\n",
       "Name: company_location, Length: 16303, dtype: object"
      ]
     },
     "metadata": {},
     "execution_count": 316
    }
   ]
  },
  {
   "cell_type": "code",
   "source": [
    "state_count = merged.groupby('company_location').agg('job_url').count().reset_index()"
   ],
   "metadata": {
    "id": "SCX9fcXQHjYu",
    "pycharm": {
     "name": "#%%\n"
    }
   },
   "execution_count": 145,
   "outputs": []
  },
  {
   "cell_type": "code",
   "source": [
    "states=[]\n",
    "for i in range(len(merged['company_location'])): \n",
    "  states.append(re.findall(r'\\b[A-Z]{2}\\b', merged['company_location'][i]))"
   ],
   "metadata": {
    "id": "xI_C4WxWH1cG",
    "pycharm": {
     "name": "#%%\n"
    }
   },
   "execution_count": 318,
   "outputs": []
  },
  {
   "cell_type": "code",
   "source": [
    "len(states)\n",
    "states = pd.DataFrame(states)"
   ],
   "metadata": {
    "id": "HGolobOvJlUV",
    "pycharm": {
     "name": "#%%\n"
    }
   },
   "execution_count": 319,
   "outputs": []
  },
  {
   "cell_type": "code",
   "source": [
    "states['count']= 1\n",
    "states"
   ],
   "metadata": {
    "colab": {
     "base_uri": "https://localhost:8080/",
     "height": 419
    },
    "id": "_TCpFekPLaSN",
    "outputId": "7789859b-98a5-4cd5-8508-82fb0fd3e653",
    "pycharm": {
     "name": "#%%\n"
    }
   },
   "execution_count": 320,
   "outputs": [
    {
     "output_type": "execute_result",
     "data": {
      "text/plain": [
       "          0  count\n",
       "0        SC      1\n",
       "1        MO      1\n",
       "2        IA      1\n",
       "3        NH      1\n",
       "4      None      1\n",
       "...     ...    ...\n",
       "16298    AK      1\n",
       "16299    CA      1\n",
       "16300    IL      1\n",
       "16301    NY      1\n",
       "16302    NE      1\n",
       "\n",
       "[16303 rows x 2 columns]"
      ],
      "text/html": [
       "\n",
       "  <div id=\"df-33ddb575-41da-41e7-84d9-077144d0fb8e\">\n",
       "    <div class=\"colab-df-container\">\n",
       "      <div>\n",
       "<style scoped>\n",
       "    .dataframe tbody tr th:only-of-type {\n",
       "        vertical-align: middle;\n",
       "    }\n",
       "\n",
       "    .dataframe tbody tr th {\n",
       "        vertical-align: top;\n",
       "    }\n",
       "\n",
       "    .dataframe thead th {\n",
       "        text-align: right;\n",
       "    }\n",
       "</style>\n",
       "<table border=\"1\" class=\"dataframe\">\n",
       "  <thead>\n",
       "    <tr style=\"text-align: right;\">\n",
       "      <th></th>\n",
       "      <th>0</th>\n",
       "      <th>count</th>\n",
       "    </tr>\n",
       "  </thead>\n",
       "  <tbody>\n",
       "    <tr>\n",
       "      <th>0</th>\n",
       "      <td>SC</td>\n",
       "      <td>1</td>\n",
       "    </tr>\n",
       "    <tr>\n",
       "      <th>1</th>\n",
       "      <td>MO</td>\n",
       "      <td>1</td>\n",
       "    </tr>\n",
       "    <tr>\n",
       "      <th>2</th>\n",
       "      <td>IA</td>\n",
       "      <td>1</td>\n",
       "    </tr>\n",
       "    <tr>\n",
       "      <th>3</th>\n",
       "      <td>NH</td>\n",
       "      <td>1</td>\n",
       "    </tr>\n",
       "    <tr>\n",
       "      <th>4</th>\n",
       "      <td>None</td>\n",
       "      <td>1</td>\n",
       "    </tr>\n",
       "    <tr>\n",
       "      <th>...</th>\n",
       "      <td>...</td>\n",
       "      <td>...</td>\n",
       "    </tr>\n",
       "    <tr>\n",
       "      <th>16298</th>\n",
       "      <td>AK</td>\n",
       "      <td>1</td>\n",
       "    </tr>\n",
       "    <tr>\n",
       "      <th>16299</th>\n",
       "      <td>CA</td>\n",
       "      <td>1</td>\n",
       "    </tr>\n",
       "    <tr>\n",
       "      <th>16300</th>\n",
       "      <td>IL</td>\n",
       "      <td>1</td>\n",
       "    </tr>\n",
       "    <tr>\n",
       "      <th>16301</th>\n",
       "      <td>NY</td>\n",
       "      <td>1</td>\n",
       "    </tr>\n",
       "    <tr>\n",
       "      <th>16302</th>\n",
       "      <td>NE</td>\n",
       "      <td>1</td>\n",
       "    </tr>\n",
       "  </tbody>\n",
       "</table>\n",
       "<p>16303 rows × 2 columns</p>\n",
       "</div>\n",
       "      <button class=\"colab-df-convert\" onclick=\"convertToInteractive('df-33ddb575-41da-41e7-84d9-077144d0fb8e')\"\n",
       "              title=\"Convert this dataframe to an interactive table.\"\n",
       "              style=\"display:none;\">\n",
       "        \n",
       "  <svg xmlns=\"http://www.w3.org/2000/svg\" height=\"24px\"viewBox=\"0 0 24 24\"\n",
       "       width=\"24px\">\n",
       "    <path d=\"M0 0h24v24H0V0z\" fill=\"none\"/>\n",
       "    <path d=\"M18.56 5.44l.94 2.06.94-2.06 2.06-.94-2.06-.94-.94-2.06-.94 2.06-2.06.94zm-11 1L8.5 8.5l.94-2.06 2.06-.94-2.06-.94L8.5 2.5l-.94 2.06-2.06.94zm10 10l.94 2.06.94-2.06 2.06-.94-2.06-.94-.94-2.06-.94 2.06-2.06.94z\"/><path d=\"M17.41 7.96l-1.37-1.37c-.4-.4-.92-.59-1.43-.59-.52 0-1.04.2-1.43.59L10.3 9.45l-7.72 7.72c-.78.78-.78 2.05 0 2.83L4 21.41c.39.39.9.59 1.41.59.51 0 1.02-.2 1.41-.59l7.78-7.78 2.81-2.81c.8-.78.8-2.07 0-2.86zM5.41 20L4 18.59l7.72-7.72 1.47 1.35L5.41 20z\"/>\n",
       "  </svg>\n",
       "      </button>\n",
       "      \n",
       "  <style>\n",
       "    .colab-df-container {\n",
       "      display:flex;\n",
       "      flex-wrap:wrap;\n",
       "      gap: 12px;\n",
       "    }\n",
       "\n",
       "    .colab-df-convert {\n",
       "      background-color: #E8F0FE;\n",
       "      border: none;\n",
       "      border-radius: 50%;\n",
       "      cursor: pointer;\n",
       "      display: none;\n",
       "      fill: #1967D2;\n",
       "      height: 32px;\n",
       "      padding: 0 0 0 0;\n",
       "      width: 32px;\n",
       "    }\n",
       "\n",
       "    .colab-df-convert:hover {\n",
       "      background-color: #E2EBFA;\n",
       "      box-shadow: 0px 1px 2px rgba(60, 64, 67, 0.3), 0px 1px 3px 1px rgba(60, 64, 67, 0.15);\n",
       "      fill: #174EA6;\n",
       "    }\n",
       "\n",
       "    [theme=dark] .colab-df-convert {\n",
       "      background-color: #3B4455;\n",
       "      fill: #D2E3FC;\n",
       "    }\n",
       "\n",
       "    [theme=dark] .colab-df-convert:hover {\n",
       "      background-color: #434B5C;\n",
       "      box-shadow: 0px 1px 3px 1px rgba(0, 0, 0, 0.15);\n",
       "      filter: drop-shadow(0px 1px 2px rgba(0, 0, 0, 0.3));\n",
       "      fill: #FFFFFF;\n",
       "    }\n",
       "  </style>\n",
       "\n",
       "      <script>\n",
       "        const buttonEl =\n",
       "          document.querySelector('#df-33ddb575-41da-41e7-84d9-077144d0fb8e button.colab-df-convert');\n",
       "        buttonEl.style.display =\n",
       "          google.colab.kernel.accessAllowed ? 'block' : 'none';\n",
       "\n",
       "        async function convertToInteractive(key) {\n",
       "          const element = document.querySelector('#df-33ddb575-41da-41e7-84d9-077144d0fb8e');\n",
       "          const dataTable =\n",
       "            await google.colab.kernel.invokeFunction('convertToInteractive',\n",
       "                                                     [key], {});\n",
       "          if (!dataTable) return;\n",
       "\n",
       "          const docLinkHtml = 'Like what you see? Visit the ' +\n",
       "            '<a target=\"_blank\" href=https://colab.research.google.com/notebooks/data_table.ipynb>data table notebook</a>'\n",
       "            + ' to learn more about interactive tables.';\n",
       "          element.innerHTML = '';\n",
       "          dataTable['output_type'] = 'display_data';\n",
       "          await google.colab.output.renderOutput(dataTable, element);\n",
       "          const docLink = document.createElement('div');\n",
       "          docLink.innerHTML = docLinkHtml;\n",
       "          element.appendChild(docLink);\n",
       "        }\n",
       "      </script>\n",
       "    </div>\n",
       "  </div>\n",
       "  "
      ]
     },
     "metadata": {},
     "execution_count": 320
    }
   ]
  },
  {
   "cell_type": "code",
   "source": [
    "state_count = states.groupby(0).count().reset_index()"
   ],
   "metadata": {
    "id": "NscFtdBYLEYQ",
    "pycharm": {
     "name": "#%%\n"
    }
   },
   "execution_count": 321,
   "outputs": []
  },
  {
   "cell_type": "code",
   "source": [
    "state_count"
   ],
   "metadata": {
    "colab": {
     "base_uri": "https://localhost:8080/",
     "height": 1000
    },
    "id": "mq6B8YTxLfck",
    "outputId": "73b8b361-e301-42cb-a54b-fb7908eb340a",
    "pycharm": {
     "name": "#%%\n"
    }
   },
   "execution_count": 322,
   "outputs": [
    {
     "output_type": "execute_result",
     "data": {
      "text/plain": [
       "     0  count\n",
       "0   AK     51\n",
       "1   AL    179\n",
       "2   AR    101\n",
       "3   AZ    365\n",
       "4   CA   1345\n",
       "5   CO    446\n",
       "6   CT    182\n",
       "7   DC    153\n",
       "8   DE     88\n",
       "9   FL    744\n",
       "10  GA    384\n",
       "11  HI     53\n",
       "12  IA    135\n",
       "13  ID     86\n",
       "14  IL    626\n",
       "15  IN    319\n",
       "16  KS    161\n",
       "17  KY    181\n",
       "18  LA    307\n",
       "19  MA    498\n",
       "20  MD    329\n",
       "21  ME     65\n",
       "22  MI    283\n",
       "23  MN    344\n",
       "24  MO    280\n",
       "25  MS     96\n",
       "26  MT     47\n",
       "27  NC    479\n",
       "28  ND     55\n",
       "29  NE    115\n",
       "30  NH     73\n",
       "31  NJ    470\n",
       "32  NM    142\n",
       "33  NV    144\n",
       "34  NY    852\n",
       "35  OH    385\n",
       "36  OK    150\n",
       "37  OR    264\n",
       "38  PA    659\n",
       "39  PR     62\n",
       "40  RI     63\n",
       "41  SC    211\n",
       "42  SD     52\n",
       "43  TN    253\n",
       "44  TX   1173\n",
       "45  UT    191\n",
       "46  VA    361\n",
       "47  VT     24\n",
       "48  WA    328\n",
       "49  WI    279\n",
       "50  WV     70\n",
       "51  WY     28"
      ],
      "text/html": [
       "\n",
       "  <div id=\"df-f95e86e9-725f-4f8f-8cf7-fa97489949a6\">\n",
       "    <div class=\"colab-df-container\">\n",
       "      <div>\n",
       "<style scoped>\n",
       "    .dataframe tbody tr th:only-of-type {\n",
       "        vertical-align: middle;\n",
       "    }\n",
       "\n",
       "    .dataframe tbody tr th {\n",
       "        vertical-align: top;\n",
       "    }\n",
       "\n",
       "    .dataframe thead th {\n",
       "        text-align: right;\n",
       "    }\n",
       "</style>\n",
       "<table border=\"1\" class=\"dataframe\">\n",
       "  <thead>\n",
       "    <tr style=\"text-align: right;\">\n",
       "      <th></th>\n",
       "      <th>0</th>\n",
       "      <th>count</th>\n",
       "    </tr>\n",
       "  </thead>\n",
       "  <tbody>\n",
       "    <tr>\n",
       "      <th>0</th>\n",
       "      <td>AK</td>\n",
       "      <td>51</td>\n",
       "    </tr>\n",
       "    <tr>\n",
       "      <th>1</th>\n",
       "      <td>AL</td>\n",
       "      <td>179</td>\n",
       "    </tr>\n",
       "    <tr>\n",
       "      <th>2</th>\n",
       "      <td>AR</td>\n",
       "      <td>101</td>\n",
       "    </tr>\n",
       "    <tr>\n",
       "      <th>3</th>\n",
       "      <td>AZ</td>\n",
       "      <td>365</td>\n",
       "    </tr>\n",
       "    <tr>\n",
       "      <th>4</th>\n",
       "      <td>CA</td>\n",
       "      <td>1345</td>\n",
       "    </tr>\n",
       "    <tr>\n",
       "      <th>5</th>\n",
       "      <td>CO</td>\n",
       "      <td>446</td>\n",
       "    </tr>\n",
       "    <tr>\n",
       "      <th>6</th>\n",
       "      <td>CT</td>\n",
       "      <td>182</td>\n",
       "    </tr>\n",
       "    <tr>\n",
       "      <th>7</th>\n",
       "      <td>DC</td>\n",
       "      <td>153</td>\n",
       "    </tr>\n",
       "    <tr>\n",
       "      <th>8</th>\n",
       "      <td>DE</td>\n",
       "      <td>88</td>\n",
       "    </tr>\n",
       "    <tr>\n",
       "      <th>9</th>\n",
       "      <td>FL</td>\n",
       "      <td>744</td>\n",
       "    </tr>\n",
       "    <tr>\n",
       "      <th>10</th>\n",
       "      <td>GA</td>\n",
       "      <td>384</td>\n",
       "    </tr>\n",
       "    <tr>\n",
       "      <th>11</th>\n",
       "      <td>HI</td>\n",
       "      <td>53</td>\n",
       "    </tr>\n",
       "    <tr>\n",
       "      <th>12</th>\n",
       "      <td>IA</td>\n",
       "      <td>135</td>\n",
       "    </tr>\n",
       "    <tr>\n",
       "      <th>13</th>\n",
       "      <td>ID</td>\n",
       "      <td>86</td>\n",
       "    </tr>\n",
       "    <tr>\n",
       "      <th>14</th>\n",
       "      <td>IL</td>\n",
       "      <td>626</td>\n",
       "    </tr>\n",
       "    <tr>\n",
       "      <th>15</th>\n",
       "      <td>IN</td>\n",
       "      <td>319</td>\n",
       "    </tr>\n",
       "    <tr>\n",
       "      <th>16</th>\n",
       "      <td>KS</td>\n",
       "      <td>161</td>\n",
       "    </tr>\n",
       "    <tr>\n",
       "      <th>17</th>\n",
       "      <td>KY</td>\n",
       "      <td>181</td>\n",
       "    </tr>\n",
       "    <tr>\n",
       "      <th>18</th>\n",
       "      <td>LA</td>\n",
       "      <td>307</td>\n",
       "    </tr>\n",
       "    <tr>\n",
       "      <th>19</th>\n",
       "      <td>MA</td>\n",
       "      <td>498</td>\n",
       "    </tr>\n",
       "    <tr>\n",
       "      <th>20</th>\n",
       "      <td>MD</td>\n",
       "      <td>329</td>\n",
       "    </tr>\n",
       "    <tr>\n",
       "      <th>21</th>\n",
       "      <td>ME</td>\n",
       "      <td>65</td>\n",
       "    </tr>\n",
       "    <tr>\n",
       "      <th>22</th>\n",
       "      <td>MI</td>\n",
       "      <td>283</td>\n",
       "    </tr>\n",
       "    <tr>\n",
       "      <th>23</th>\n",
       "      <td>MN</td>\n",
       "      <td>344</td>\n",
       "    </tr>\n",
       "    <tr>\n",
       "      <th>24</th>\n",
       "      <td>MO</td>\n",
       "      <td>280</td>\n",
       "    </tr>\n",
       "    <tr>\n",
       "      <th>25</th>\n",
       "      <td>MS</td>\n",
       "      <td>96</td>\n",
       "    </tr>\n",
       "    <tr>\n",
       "      <th>26</th>\n",
       "      <td>MT</td>\n",
       "      <td>47</td>\n",
       "    </tr>\n",
       "    <tr>\n",
       "      <th>27</th>\n",
       "      <td>NC</td>\n",
       "      <td>479</td>\n",
       "    </tr>\n",
       "    <tr>\n",
       "      <th>28</th>\n",
       "      <td>ND</td>\n",
       "      <td>55</td>\n",
       "    </tr>\n",
       "    <tr>\n",
       "      <th>29</th>\n",
       "      <td>NE</td>\n",
       "      <td>115</td>\n",
       "    </tr>\n",
       "    <tr>\n",
       "      <th>30</th>\n",
       "      <td>NH</td>\n",
       "      <td>73</td>\n",
       "    </tr>\n",
       "    <tr>\n",
       "      <th>31</th>\n",
       "      <td>NJ</td>\n",
       "      <td>470</td>\n",
       "    </tr>\n",
       "    <tr>\n",
       "      <th>32</th>\n",
       "      <td>NM</td>\n",
       "      <td>142</td>\n",
       "    </tr>\n",
       "    <tr>\n",
       "      <th>33</th>\n",
       "      <td>NV</td>\n",
       "      <td>144</td>\n",
       "    </tr>\n",
       "    <tr>\n",
       "      <th>34</th>\n",
       "      <td>NY</td>\n",
       "      <td>852</td>\n",
       "    </tr>\n",
       "    <tr>\n",
       "      <th>35</th>\n",
       "      <td>OH</td>\n",
       "      <td>385</td>\n",
       "    </tr>\n",
       "    <tr>\n",
       "      <th>36</th>\n",
       "      <td>OK</td>\n",
       "      <td>150</td>\n",
       "    </tr>\n",
       "    <tr>\n",
       "      <th>37</th>\n",
       "      <td>OR</td>\n",
       "      <td>264</td>\n",
       "    </tr>\n",
       "    <tr>\n",
       "      <th>38</th>\n",
       "      <td>PA</td>\n",
       "      <td>659</td>\n",
       "    </tr>\n",
       "    <tr>\n",
       "      <th>39</th>\n",
       "      <td>PR</td>\n",
       "      <td>62</td>\n",
       "    </tr>\n",
       "    <tr>\n",
       "      <th>40</th>\n",
       "      <td>RI</td>\n",
       "      <td>63</td>\n",
       "    </tr>\n",
       "    <tr>\n",
       "      <th>41</th>\n",
       "      <td>SC</td>\n",
       "      <td>211</td>\n",
       "    </tr>\n",
       "    <tr>\n",
       "      <th>42</th>\n",
       "      <td>SD</td>\n",
       "      <td>52</td>\n",
       "    </tr>\n",
       "    <tr>\n",
       "      <th>43</th>\n",
       "      <td>TN</td>\n",
       "      <td>253</td>\n",
       "    </tr>\n",
       "    <tr>\n",
       "      <th>44</th>\n",
       "      <td>TX</td>\n",
       "      <td>1173</td>\n",
       "    </tr>\n",
       "    <tr>\n",
       "      <th>45</th>\n",
       "      <td>UT</td>\n",
       "      <td>191</td>\n",
       "    </tr>\n",
       "    <tr>\n",
       "      <th>46</th>\n",
       "      <td>VA</td>\n",
       "      <td>361</td>\n",
       "    </tr>\n",
       "    <tr>\n",
       "      <th>47</th>\n",
       "      <td>VT</td>\n",
       "      <td>24</td>\n",
       "    </tr>\n",
       "    <tr>\n",
       "      <th>48</th>\n",
       "      <td>WA</td>\n",
       "      <td>328</td>\n",
       "    </tr>\n",
       "    <tr>\n",
       "      <th>49</th>\n",
       "      <td>WI</td>\n",
       "      <td>279</td>\n",
       "    </tr>\n",
       "    <tr>\n",
       "      <th>50</th>\n",
       "      <td>WV</td>\n",
       "      <td>70</td>\n",
       "    </tr>\n",
       "    <tr>\n",
       "      <th>51</th>\n",
       "      <td>WY</td>\n",
       "      <td>28</td>\n",
       "    </tr>\n",
       "  </tbody>\n",
       "</table>\n",
       "</div>\n",
       "      <button class=\"colab-df-convert\" onclick=\"convertToInteractive('df-f95e86e9-725f-4f8f-8cf7-fa97489949a6')\"\n",
       "              title=\"Convert this dataframe to an interactive table.\"\n",
       "              style=\"display:none;\">\n",
       "        \n",
       "  <svg xmlns=\"http://www.w3.org/2000/svg\" height=\"24px\"viewBox=\"0 0 24 24\"\n",
       "       width=\"24px\">\n",
       "    <path d=\"M0 0h24v24H0V0z\" fill=\"none\"/>\n",
       "    <path d=\"M18.56 5.44l.94 2.06.94-2.06 2.06-.94-2.06-.94-.94-2.06-.94 2.06-2.06.94zm-11 1L8.5 8.5l.94-2.06 2.06-.94-2.06-.94L8.5 2.5l-.94 2.06-2.06.94zm10 10l.94 2.06.94-2.06 2.06-.94-2.06-.94-.94-2.06-.94 2.06-2.06.94z\"/><path d=\"M17.41 7.96l-1.37-1.37c-.4-.4-.92-.59-1.43-.59-.52 0-1.04.2-1.43.59L10.3 9.45l-7.72 7.72c-.78.78-.78 2.05 0 2.83L4 21.41c.39.39.9.59 1.41.59.51 0 1.02-.2 1.41-.59l7.78-7.78 2.81-2.81c.8-.78.8-2.07 0-2.86zM5.41 20L4 18.59l7.72-7.72 1.47 1.35L5.41 20z\"/>\n",
       "  </svg>\n",
       "      </button>\n",
       "      \n",
       "  <style>\n",
       "    .colab-df-container {\n",
       "      display:flex;\n",
       "      flex-wrap:wrap;\n",
       "      gap: 12px;\n",
       "    }\n",
       "\n",
       "    .colab-df-convert {\n",
       "      background-color: #E8F0FE;\n",
       "      border: none;\n",
       "      border-radius: 50%;\n",
       "      cursor: pointer;\n",
       "      display: none;\n",
       "      fill: #1967D2;\n",
       "      height: 32px;\n",
       "      padding: 0 0 0 0;\n",
       "      width: 32px;\n",
       "    }\n",
       "\n",
       "    .colab-df-convert:hover {\n",
       "      background-color: #E2EBFA;\n",
       "      box-shadow: 0px 1px 2px rgba(60, 64, 67, 0.3), 0px 1px 3px 1px rgba(60, 64, 67, 0.15);\n",
       "      fill: #174EA6;\n",
       "    }\n",
       "\n",
       "    [theme=dark] .colab-df-convert {\n",
       "      background-color: #3B4455;\n",
       "      fill: #D2E3FC;\n",
       "    }\n",
       "\n",
       "    [theme=dark] .colab-df-convert:hover {\n",
       "      background-color: #434B5C;\n",
       "      box-shadow: 0px 1px 3px 1px rgba(0, 0, 0, 0.15);\n",
       "      filter: drop-shadow(0px 1px 2px rgba(0, 0, 0, 0.3));\n",
       "      fill: #FFFFFF;\n",
       "    }\n",
       "  </style>\n",
       "\n",
       "      <script>\n",
       "        const buttonEl =\n",
       "          document.querySelector('#df-f95e86e9-725f-4f8f-8cf7-fa97489949a6 button.colab-df-convert');\n",
       "        buttonEl.style.display =\n",
       "          google.colab.kernel.accessAllowed ? 'block' : 'none';\n",
       "\n",
       "        async function convertToInteractive(key) {\n",
       "          const element = document.querySelector('#df-f95e86e9-725f-4f8f-8cf7-fa97489949a6');\n",
       "          const dataTable =\n",
       "            await google.colab.kernel.invokeFunction('convertToInteractive',\n",
       "                                                     [key], {});\n",
       "          if (!dataTable) return;\n",
       "\n",
       "          const docLinkHtml = 'Like what you see? Visit the ' +\n",
       "            '<a target=\"_blank\" href=https://colab.research.google.com/notebooks/data_table.ipynb>data table notebook</a>'\n",
       "            + ' to learn more about interactive tables.';\n",
       "          element.innerHTML = '';\n",
       "          dataTable['output_type'] = 'display_data';\n",
       "          await google.colab.output.renderOutput(dataTable, element);\n",
       "          const docLink = document.createElement('div');\n",
       "          docLink.innerHTML = docLinkHtml;\n",
       "          element.appendChild(docLink);\n",
       "        }\n",
       "      </script>\n",
       "    </div>\n",
       "  </div>\n",
       "  "
      ]
     },
     "metadata": {},
     "execution_count": 322
    }
   ]
  },
  {
   "cell_type": "code",
   "source": [
    "states_gdf = gpd.read_file('states.geojson')"
   ],
   "metadata": {
    "id": "zCKcrY13efLU",
    "pycharm": {
     "name": "#%%\n"
    }
   },
   "execution_count": 323,
   "outputs": []
  },
  {
   "cell_type": "code",
   "source": [
    "state_count['STUSPS'] = state_count[0]"
   ],
   "metadata": {
    "id": "3nCWQMfBgqBg",
    "pycharm": {
     "name": "#%%\n"
    }
   },
   "execution_count": 324,
   "outputs": []
  },
  {
   "cell_type": "code",
   "source": [
    "state_count.head()"
   ],
   "metadata": {
    "colab": {
     "base_uri": "https://localhost:8080/",
     "height": 204
    },
    "id": "wnUhsgzjg7By",
    "outputId": "d67b443a-4b76-4e0e-f977-1191ce31a995",
    "pycharm": {
     "name": "#%%\n"
    }
   },
   "execution_count": 326,
   "outputs": [
    {
     "output_type": "execute_result",
     "data": {
      "text/plain": [
       "    0  count STUSPS\n",
       "0  AK     51     AK\n",
       "1  AL    179     AL\n",
       "2  AR    101     AR\n",
       "3  AZ    365     AZ\n",
       "4  CA   1345     CA"
      ],
      "text/html": [
       "\n",
       "  <div id=\"df-cace1a81-1527-4312-94d6-43198f502163\">\n",
       "    <div class=\"colab-df-container\">\n",
       "      <div>\n",
       "<style scoped>\n",
       "    .dataframe tbody tr th:only-of-type {\n",
       "        vertical-align: middle;\n",
       "    }\n",
       "\n",
       "    .dataframe tbody tr th {\n",
       "        vertical-align: top;\n",
       "    }\n",
       "\n",
       "    .dataframe thead th {\n",
       "        text-align: right;\n",
       "    }\n",
       "</style>\n",
       "<table border=\"1\" class=\"dataframe\">\n",
       "  <thead>\n",
       "    <tr style=\"text-align: right;\">\n",
       "      <th></th>\n",
       "      <th>0</th>\n",
       "      <th>count</th>\n",
       "      <th>STUSPS</th>\n",
       "    </tr>\n",
       "  </thead>\n",
       "  <tbody>\n",
       "    <tr>\n",
       "      <th>0</th>\n",
       "      <td>AK</td>\n",
       "      <td>51</td>\n",
       "      <td>AK</td>\n",
       "    </tr>\n",
       "    <tr>\n",
       "      <th>1</th>\n",
       "      <td>AL</td>\n",
       "      <td>179</td>\n",
       "      <td>AL</td>\n",
       "    </tr>\n",
       "    <tr>\n",
       "      <th>2</th>\n",
       "      <td>AR</td>\n",
       "      <td>101</td>\n",
       "      <td>AR</td>\n",
       "    </tr>\n",
       "    <tr>\n",
       "      <th>3</th>\n",
       "      <td>AZ</td>\n",
       "      <td>365</td>\n",
       "      <td>AZ</td>\n",
       "    </tr>\n",
       "    <tr>\n",
       "      <th>4</th>\n",
       "      <td>CA</td>\n",
       "      <td>1345</td>\n",
       "      <td>CA</td>\n",
       "    </tr>\n",
       "  </tbody>\n",
       "</table>\n",
       "</div>\n",
       "      <button class=\"colab-df-convert\" onclick=\"convertToInteractive('df-cace1a81-1527-4312-94d6-43198f502163')\"\n",
       "              title=\"Convert this dataframe to an interactive table.\"\n",
       "              style=\"display:none;\">\n",
       "        \n",
       "  <svg xmlns=\"http://www.w3.org/2000/svg\" height=\"24px\"viewBox=\"0 0 24 24\"\n",
       "       width=\"24px\">\n",
       "    <path d=\"M0 0h24v24H0V0z\" fill=\"none\"/>\n",
       "    <path d=\"M18.56 5.44l.94 2.06.94-2.06 2.06-.94-2.06-.94-.94-2.06-.94 2.06-2.06.94zm-11 1L8.5 8.5l.94-2.06 2.06-.94-2.06-.94L8.5 2.5l-.94 2.06-2.06.94zm10 10l.94 2.06.94-2.06 2.06-.94-2.06-.94-.94-2.06-.94 2.06-2.06.94z\"/><path d=\"M17.41 7.96l-1.37-1.37c-.4-.4-.92-.59-1.43-.59-.52 0-1.04.2-1.43.59L10.3 9.45l-7.72 7.72c-.78.78-.78 2.05 0 2.83L4 21.41c.39.39.9.59 1.41.59.51 0 1.02-.2 1.41-.59l7.78-7.78 2.81-2.81c.8-.78.8-2.07 0-2.86zM5.41 20L4 18.59l7.72-7.72 1.47 1.35L5.41 20z\"/>\n",
       "  </svg>\n",
       "      </button>\n",
       "      \n",
       "  <style>\n",
       "    .colab-df-container {\n",
       "      display:flex;\n",
       "      flex-wrap:wrap;\n",
       "      gap: 12px;\n",
       "    }\n",
       "\n",
       "    .colab-df-convert {\n",
       "      background-color: #E8F0FE;\n",
       "      border: none;\n",
       "      border-radius: 50%;\n",
       "      cursor: pointer;\n",
       "      display: none;\n",
       "      fill: #1967D2;\n",
       "      height: 32px;\n",
       "      padding: 0 0 0 0;\n",
       "      width: 32px;\n",
       "    }\n",
       "\n",
       "    .colab-df-convert:hover {\n",
       "      background-color: #E2EBFA;\n",
       "      box-shadow: 0px 1px 2px rgba(60, 64, 67, 0.3), 0px 1px 3px 1px rgba(60, 64, 67, 0.15);\n",
       "      fill: #174EA6;\n",
       "    }\n",
       "\n",
       "    [theme=dark] .colab-df-convert {\n",
       "      background-color: #3B4455;\n",
       "      fill: #D2E3FC;\n",
       "    }\n",
       "\n",
       "    [theme=dark] .colab-df-convert:hover {\n",
       "      background-color: #434B5C;\n",
       "      box-shadow: 0px 1px 3px 1px rgba(0, 0, 0, 0.15);\n",
       "      filter: drop-shadow(0px 1px 2px rgba(0, 0, 0, 0.3));\n",
       "      fill: #FFFFFF;\n",
       "    }\n",
       "  </style>\n",
       "\n",
       "      <script>\n",
       "        const buttonEl =\n",
       "          document.querySelector('#df-cace1a81-1527-4312-94d6-43198f502163 button.colab-df-convert');\n",
       "        buttonEl.style.display =\n",
       "          google.colab.kernel.accessAllowed ? 'block' : 'none';\n",
       "\n",
       "        async function convertToInteractive(key) {\n",
       "          const element = document.querySelector('#df-cace1a81-1527-4312-94d6-43198f502163');\n",
       "          const dataTable =\n",
       "            await google.colab.kernel.invokeFunction('convertToInteractive',\n",
       "                                                     [key], {});\n",
       "          if (!dataTable) return;\n",
       "\n",
       "          const docLinkHtml = 'Like what you see? Visit the ' +\n",
       "            '<a target=\"_blank\" href=https://colab.research.google.com/notebooks/data_table.ipynb>data table notebook</a>'\n",
       "            + ' to learn more about interactive tables.';\n",
       "          element.innerHTML = '';\n",
       "          dataTable['output_type'] = 'display_data';\n",
       "          await google.colab.output.renderOutput(dataTable, element);\n",
       "          const docLink = document.createElement('div');\n",
       "          docLink.innerHTML = docLinkHtml;\n",
       "          element.appendChild(docLink);\n",
       "        }\n",
       "      </script>\n",
       "    </div>\n",
       "  </div>\n",
       "  "
      ]
     },
     "metadata": {},
     "execution_count": 326
    }
   ]
  },
  {
   "cell_type": "code",
   "source": [
    "states_gdf= gpd.GeoDataFrame(states_gdf, geometry= states_gdf['geometry'])\n",
    "\n",
    "states_gdf.head()"
   ],
   "metadata": {
    "colab": {
     "base_uri": "https://localhost:8080/",
     "height": 204
    },
    "id": "2EWLzMhufpOd",
    "outputId": "8e842d7f-be81-4c60-c212-adbad6668ad3",
    "pycharm": {
     "name": "#%%\n"
    }
   },
   "execution_count": 327,
   "outputs": [
    {
     "output_type": "execute_result",
     "data": {
      "text/plain": [
       "  STATEFP STUSPS          NAME  \\\n",
       "0      31     NE      Nebraska   \n",
       "1      53     WA    Washington   \n",
       "2      35     NM    New Mexico   \n",
       "3      46     SD  South Dakota   \n",
       "4      21     KY      Kentucky   \n",
       "\n",
       "                                            geometry  \n",
       "0  MULTIPOLYGON (((-104.05303 43.00059, -103.6183...  \n",
       "1  MULTIPOLYGON (((-122.52603 47.35891, -122.5139...  \n",
       "2  MULTIPOLYGON (((-109.04522 36.99908, -108.6460...  \n",
       "3  MULTIPOLYGON (((-104.05770 44.99743, -104.0397...  \n",
       "4  MULTIPOLYGON (((-89.13268 36.98220, -89.16645 ...  "
      ],
      "text/html": [
       "\n",
       "  <div id=\"df-1f1b69a9-0c1c-4d53-80cf-6881c8626c9d\">\n",
       "    <div class=\"colab-df-container\">\n",
       "      <div>\n",
       "<style scoped>\n",
       "    .dataframe tbody tr th:only-of-type {\n",
       "        vertical-align: middle;\n",
       "    }\n",
       "\n",
       "    .dataframe tbody tr th {\n",
       "        vertical-align: top;\n",
       "    }\n",
       "\n",
       "    .dataframe thead th {\n",
       "        text-align: right;\n",
       "    }\n",
       "</style>\n",
       "<table border=\"1\" class=\"dataframe\">\n",
       "  <thead>\n",
       "    <tr style=\"text-align: right;\">\n",
       "      <th></th>\n",
       "      <th>STATEFP</th>\n",
       "      <th>STUSPS</th>\n",
       "      <th>NAME</th>\n",
       "      <th>geometry</th>\n",
       "    </tr>\n",
       "  </thead>\n",
       "  <tbody>\n",
       "    <tr>\n",
       "      <th>0</th>\n",
       "      <td>31</td>\n",
       "      <td>NE</td>\n",
       "      <td>Nebraska</td>\n",
       "      <td>MULTIPOLYGON (((-104.05303 43.00059, -103.6183...</td>\n",
       "    </tr>\n",
       "    <tr>\n",
       "      <th>1</th>\n",
       "      <td>53</td>\n",
       "      <td>WA</td>\n",
       "      <td>Washington</td>\n",
       "      <td>MULTIPOLYGON (((-122.52603 47.35891, -122.5139...</td>\n",
       "    </tr>\n",
       "    <tr>\n",
       "      <th>2</th>\n",
       "      <td>35</td>\n",
       "      <td>NM</td>\n",
       "      <td>New Mexico</td>\n",
       "      <td>MULTIPOLYGON (((-109.04522 36.99908, -108.6460...</td>\n",
       "    </tr>\n",
       "    <tr>\n",
       "      <th>3</th>\n",
       "      <td>46</td>\n",
       "      <td>SD</td>\n",
       "      <td>South Dakota</td>\n",
       "      <td>MULTIPOLYGON (((-104.05770 44.99743, -104.0397...</td>\n",
       "    </tr>\n",
       "    <tr>\n",
       "      <th>4</th>\n",
       "      <td>21</td>\n",
       "      <td>KY</td>\n",
       "      <td>Kentucky</td>\n",
       "      <td>MULTIPOLYGON (((-89.13268 36.98220, -89.16645 ...</td>\n",
       "    </tr>\n",
       "  </tbody>\n",
       "</table>\n",
       "</div>\n",
       "      <button class=\"colab-df-convert\" onclick=\"convertToInteractive('df-1f1b69a9-0c1c-4d53-80cf-6881c8626c9d')\"\n",
       "              title=\"Convert this dataframe to an interactive table.\"\n",
       "              style=\"display:none;\">\n",
       "        \n",
       "  <svg xmlns=\"http://www.w3.org/2000/svg\" height=\"24px\"viewBox=\"0 0 24 24\"\n",
       "       width=\"24px\">\n",
       "    <path d=\"M0 0h24v24H0V0z\" fill=\"none\"/>\n",
       "    <path d=\"M18.56 5.44l.94 2.06.94-2.06 2.06-.94-2.06-.94-.94-2.06-.94 2.06-2.06.94zm-11 1L8.5 8.5l.94-2.06 2.06-.94-2.06-.94L8.5 2.5l-.94 2.06-2.06.94zm10 10l.94 2.06.94-2.06 2.06-.94-2.06-.94-.94-2.06-.94 2.06-2.06.94z\"/><path d=\"M17.41 7.96l-1.37-1.37c-.4-.4-.92-.59-1.43-.59-.52 0-1.04.2-1.43.59L10.3 9.45l-7.72 7.72c-.78.78-.78 2.05 0 2.83L4 21.41c.39.39.9.59 1.41.59.51 0 1.02-.2 1.41-.59l7.78-7.78 2.81-2.81c.8-.78.8-2.07 0-2.86zM5.41 20L4 18.59l7.72-7.72 1.47 1.35L5.41 20z\"/>\n",
       "  </svg>\n",
       "      </button>\n",
       "      \n",
       "  <style>\n",
       "    .colab-df-container {\n",
       "      display:flex;\n",
       "      flex-wrap:wrap;\n",
       "      gap: 12px;\n",
       "    }\n",
       "\n",
       "    .colab-df-convert {\n",
       "      background-color: #E8F0FE;\n",
       "      border: none;\n",
       "      border-radius: 50%;\n",
       "      cursor: pointer;\n",
       "      display: none;\n",
       "      fill: #1967D2;\n",
       "      height: 32px;\n",
       "      padding: 0 0 0 0;\n",
       "      width: 32px;\n",
       "    }\n",
       "\n",
       "    .colab-df-convert:hover {\n",
       "      background-color: #E2EBFA;\n",
       "      box-shadow: 0px 1px 2px rgba(60, 64, 67, 0.3), 0px 1px 3px 1px rgba(60, 64, 67, 0.15);\n",
       "      fill: #174EA6;\n",
       "    }\n",
       "\n",
       "    [theme=dark] .colab-df-convert {\n",
       "      background-color: #3B4455;\n",
       "      fill: #D2E3FC;\n",
       "    }\n",
       "\n",
       "    [theme=dark] .colab-df-convert:hover {\n",
       "      background-color: #434B5C;\n",
       "      box-shadow: 0px 1px 3px 1px rgba(0, 0, 0, 0.15);\n",
       "      filter: drop-shadow(0px 1px 2px rgba(0, 0, 0, 0.3));\n",
       "      fill: #FFFFFF;\n",
       "    }\n",
       "  </style>\n",
       "\n",
       "      <script>\n",
       "        const buttonEl =\n",
       "          document.querySelector('#df-1f1b69a9-0c1c-4d53-80cf-6881c8626c9d button.colab-df-convert');\n",
       "        buttonEl.style.display =\n",
       "          google.colab.kernel.accessAllowed ? 'block' : 'none';\n",
       "\n",
       "        async function convertToInteractive(key) {\n",
       "          const element = document.querySelector('#df-1f1b69a9-0c1c-4d53-80cf-6881c8626c9d');\n",
       "          const dataTable =\n",
       "            await google.colab.kernel.invokeFunction('convertToInteractive',\n",
       "                                                     [key], {});\n",
       "          if (!dataTable) return;\n",
       "\n",
       "          const docLinkHtml = 'Like what you see? Visit the ' +\n",
       "            '<a target=\"_blank\" href=https://colab.research.google.com/notebooks/data_table.ipynb>data table notebook</a>'\n",
       "            + ' to learn more about interactive tables.';\n",
       "          element.innerHTML = '';\n",
       "          dataTable['output_type'] = 'display_data';\n",
       "          await google.colab.output.renderOutput(dataTable, element);\n",
       "          const docLink = document.createElement('div');\n",
       "          docLink.innerHTML = docLinkHtml;\n",
       "          element.appendChild(docLink);\n",
       "        }\n",
       "      </script>\n",
       "    </div>\n",
       "  </div>\n",
       "  "
      ]
     },
     "metadata": {},
     "execution_count": 327
    }
   ]
  },
  {
   "cell_type": "code",
   "source": [
    "merged_gdf = pd.merge(state_count, states_gdf,  on ='STUSPS')"
   ],
   "metadata": {
    "id": "CLoZ_RiAoops",
    "pycharm": {
     "name": "#%%\n"
    }
   },
   "execution_count": 328,
   "outputs": []
  },
  {
   "cell_type": "code",
   "source": [
    "merged_gdf = gpd.GeoDataFrame(merged_gdf, geometry=merged_gdf['geometry'], crs=\"EPSG:3857\")\n",
    "merged_gdf.head()"
   ],
   "metadata": {
    "colab": {
     "base_uri": "https://localhost:8080/",
     "height": 204
    },
    "id": "8TUwT3FtjFFv",
    "outputId": "708d23b9-234f-4b4b-96d3-eaaee0ca7ad3",
    "pycharm": {
     "name": "#%%\n"
    }
   },
   "execution_count": 331,
   "outputs": [
    {
     "output_type": "execute_result",
     "data": {
      "text/plain": [
       "    0  count STUSPS STATEFP        NAME  \\\n",
       "0  AK     51     AK      02      Alaska   \n",
       "1  AL    179     AL      01     Alabama   \n",
       "2  AR    101     AR      05    Arkansas   \n",
       "3  AZ    365     AZ      04     Arizona   \n",
       "4  CA   1345     CA      06  California   \n",
       "\n",
       "                                            geometry  \n",
       "0  MULTIPOLYGON (((-154.157 56.683, -154.138 56.7...  \n",
       "1  MULTIPOLYGON (((-88.327 30.230, -88.225 30.246...  \n",
       "2  MULTIPOLYGON (((-89.733 36.001, -89.715 35.963...  \n",
       "3  MULTIPOLYGON (((-114.720 32.719, -114.689 32.7...  \n",
       "4  MULTIPOLYGON (((-118.604 33.479, -118.545 33.4...  "
      ],
      "text/html": [
       "\n",
       "  <div id=\"df-6946fbe7-38ba-4f15-926a-6f3070017505\">\n",
       "    <div class=\"colab-df-container\">\n",
       "      <div>\n",
       "<style scoped>\n",
       "    .dataframe tbody tr th:only-of-type {\n",
       "        vertical-align: middle;\n",
       "    }\n",
       "\n",
       "    .dataframe tbody tr th {\n",
       "        vertical-align: top;\n",
       "    }\n",
       "\n",
       "    .dataframe thead th {\n",
       "        text-align: right;\n",
       "    }\n",
       "</style>\n",
       "<table border=\"1\" class=\"dataframe\">\n",
       "  <thead>\n",
       "    <tr style=\"text-align: right;\">\n",
       "      <th></th>\n",
       "      <th>0</th>\n",
       "      <th>count</th>\n",
       "      <th>STUSPS</th>\n",
       "      <th>STATEFP</th>\n",
       "      <th>NAME</th>\n",
       "      <th>geometry</th>\n",
       "    </tr>\n",
       "  </thead>\n",
       "  <tbody>\n",
       "    <tr>\n",
       "      <th>0</th>\n",
       "      <td>AK</td>\n",
       "      <td>51</td>\n",
       "      <td>AK</td>\n",
       "      <td>02</td>\n",
       "      <td>Alaska</td>\n",
       "      <td>MULTIPOLYGON (((-154.157 56.683, -154.138 56.7...</td>\n",
       "    </tr>\n",
       "    <tr>\n",
       "      <th>1</th>\n",
       "      <td>AL</td>\n",
       "      <td>179</td>\n",
       "      <td>AL</td>\n",
       "      <td>01</td>\n",
       "      <td>Alabama</td>\n",
       "      <td>MULTIPOLYGON (((-88.327 30.230, -88.225 30.246...</td>\n",
       "    </tr>\n",
       "    <tr>\n",
       "      <th>2</th>\n",
       "      <td>AR</td>\n",
       "      <td>101</td>\n",
       "      <td>AR</td>\n",
       "      <td>05</td>\n",
       "      <td>Arkansas</td>\n",
       "      <td>MULTIPOLYGON (((-89.733 36.001, -89.715 35.963...</td>\n",
       "    </tr>\n",
       "    <tr>\n",
       "      <th>3</th>\n",
       "      <td>AZ</td>\n",
       "      <td>365</td>\n",
       "      <td>AZ</td>\n",
       "      <td>04</td>\n",
       "      <td>Arizona</td>\n",
       "      <td>MULTIPOLYGON (((-114.720 32.719, -114.689 32.7...</td>\n",
       "    </tr>\n",
       "    <tr>\n",
       "      <th>4</th>\n",
       "      <td>CA</td>\n",
       "      <td>1345</td>\n",
       "      <td>CA</td>\n",
       "      <td>06</td>\n",
       "      <td>California</td>\n",
       "      <td>MULTIPOLYGON (((-118.604 33.479, -118.545 33.4...</td>\n",
       "    </tr>\n",
       "  </tbody>\n",
       "</table>\n",
       "</div>\n",
       "      <button class=\"colab-df-convert\" onclick=\"convertToInteractive('df-6946fbe7-38ba-4f15-926a-6f3070017505')\"\n",
       "              title=\"Convert this dataframe to an interactive table.\"\n",
       "              style=\"display:none;\">\n",
       "        \n",
       "  <svg xmlns=\"http://www.w3.org/2000/svg\" height=\"24px\"viewBox=\"0 0 24 24\"\n",
       "       width=\"24px\">\n",
       "    <path d=\"M0 0h24v24H0V0z\" fill=\"none\"/>\n",
       "    <path d=\"M18.56 5.44l.94 2.06.94-2.06 2.06-.94-2.06-.94-.94-2.06-.94 2.06-2.06.94zm-11 1L8.5 8.5l.94-2.06 2.06-.94-2.06-.94L8.5 2.5l-.94 2.06-2.06.94zm10 10l.94 2.06.94-2.06 2.06-.94-2.06-.94-.94-2.06-.94 2.06-2.06.94z\"/><path d=\"M17.41 7.96l-1.37-1.37c-.4-.4-.92-.59-1.43-.59-.52 0-1.04.2-1.43.59L10.3 9.45l-7.72 7.72c-.78.78-.78 2.05 0 2.83L4 21.41c.39.39.9.59 1.41.59.51 0 1.02-.2 1.41-.59l7.78-7.78 2.81-2.81c.8-.78.8-2.07 0-2.86zM5.41 20L4 18.59l7.72-7.72 1.47 1.35L5.41 20z\"/>\n",
       "  </svg>\n",
       "      </button>\n",
       "      \n",
       "  <style>\n",
       "    .colab-df-container {\n",
       "      display:flex;\n",
       "      flex-wrap:wrap;\n",
       "      gap: 12px;\n",
       "    }\n",
       "\n",
       "    .colab-df-convert {\n",
       "      background-color: #E8F0FE;\n",
       "      border: none;\n",
       "      border-radius: 50%;\n",
       "      cursor: pointer;\n",
       "      display: none;\n",
       "      fill: #1967D2;\n",
       "      height: 32px;\n",
       "      padding: 0 0 0 0;\n",
       "      width: 32px;\n",
       "    }\n",
       "\n",
       "    .colab-df-convert:hover {\n",
       "      background-color: #E2EBFA;\n",
       "      box-shadow: 0px 1px 2px rgba(60, 64, 67, 0.3), 0px 1px 3px 1px rgba(60, 64, 67, 0.15);\n",
       "      fill: #174EA6;\n",
       "    }\n",
       "\n",
       "    [theme=dark] .colab-df-convert {\n",
       "      background-color: #3B4455;\n",
       "      fill: #D2E3FC;\n",
       "    }\n",
       "\n",
       "    [theme=dark] .colab-df-convert:hover {\n",
       "      background-color: #434B5C;\n",
       "      box-shadow: 0px 1px 3px 1px rgba(0, 0, 0, 0.15);\n",
       "      filter: drop-shadow(0px 1px 2px rgba(0, 0, 0, 0.3));\n",
       "      fill: #FFFFFF;\n",
       "    }\n",
       "  </style>\n",
       "\n",
       "      <script>\n",
       "        const buttonEl =\n",
       "          document.querySelector('#df-6946fbe7-38ba-4f15-926a-6f3070017505 button.colab-df-convert');\n",
       "        buttonEl.style.display =\n",
       "          google.colab.kernel.accessAllowed ? 'block' : 'none';\n",
       "\n",
       "        async function convertToInteractive(key) {\n",
       "          const element = document.querySelector('#df-6946fbe7-38ba-4f15-926a-6f3070017505');\n",
       "          const dataTable =\n",
       "            await google.colab.kernel.invokeFunction('convertToInteractive',\n",
       "                                                     [key], {});\n",
       "          if (!dataTable) return;\n",
       "\n",
       "          const docLinkHtml = 'Like what you see? Visit the ' +\n",
       "            '<a target=\"_blank\" href=https://colab.research.google.com/notebooks/data_table.ipynb>data table notebook</a>'\n",
       "            + ' to learn more about interactive tables.';\n",
       "          element.innerHTML = '';\n",
       "          dataTable['output_type'] = 'display_data';\n",
       "          await google.colab.output.renderOutput(dataTable, element);\n",
       "          const docLink = document.createElement('div');\n",
       "          docLink.innerHTML = docLinkHtml;\n",
       "          element.appendChild(docLink);\n",
       "        }\n",
       "      </script>\n",
       "    </div>\n",
       "  </div>\n",
       "  "
      ]
     },
     "metadata": {},
     "execution_count": 331
    }
   ]
  },
  {
   "cell_type": "code",
   "source": [
    "merged_gdf.plot(column='count', legend=True)"
   ],
   "metadata": {
    "colab": {
     "base_uri": "https://localhost:8080/",
     "height": 265
    },
    "id": "xfKWiMUgs5rT",
    "outputId": "4da34c3a-029a-4fb9-a350-2565362ff08d",
    "pycharm": {
     "name": "#%%\n"
    }
   },
   "execution_count": 337,
   "outputs": [
    {
     "output_type": "execute_result",
     "data": {
      "text/plain": [
       "<matplotlib.axes._subplots.AxesSubplot at 0x7f6f8df8e550>"
      ]
     },
     "metadata": {},
     "execution_count": 337
    },
    {
     "output_type": "display_data",
     "data": {
      "text/plain": [
       "<Figure size 432x288 with 2 Axes>"
      ],
      "image/png": "[encoded data removed]"
     },
     "metadata": {
      "needs_background": "light"
     }
    }
   ]
  },
  {
   "cell_type": "markdown",
   "source": [
    "Most of the jobs are in California and Texas"
   ],
   "metadata": {
    "id": "vVNTBNdzv1Np",
    "pycharm": {
     "name": "#%% md\n"
    }
   }
  }
 ],
 "metadata": {
  "kernelspec": {
   "display_name": "Python 3.9.12 ('base')",
   "language": "python",
   "name": "python3"
  },
  "language_info": {
   "codemirror_mode": {
    "name": "ipython",
    "version": 3
   },
   "file_extension": ".py",
   "mimetype": "text/x-python",
   "name": "python",
   "nbconvert_exporter": "python",
   "pygments_lexer": "ipython3",
   "version": "3.9.12"
  },
  "orig_nbformat": 4,
  "vscode": {
   "interpreter": {
    "hash": "52f924a914c23d639ece6427ade361fac2a379b1a11d540a1853aed475558ea6"
   }
  },
  "colab": {
   "provenance": [],
   "toc_visible": true
  }
 },
 "nbformat": 4,
 "nbformat_minor": 0
}