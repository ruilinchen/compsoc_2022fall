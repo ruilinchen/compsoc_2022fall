{
 "cells": [
  {
   "cell_type": "markdown",
   "id": "211a2838",
   "metadata": {
    "pycharm": {
     "name": "#%% md\n"
    }
   },
   "source": [
    "# exercise 14\n",
    "## Task 1\n",
    "For each review included in the dataset, use `spacytextblob` and its inherent document-level scores to get the polarity score of the text. Create a violinplot with the x-axis being individual reviews' star rating, and the y-axis being the calculated polarity scores. Interpret the results. "
   ]
  },
  {
   "cell_type": "code",
   "execution_count": 1,
   "id": "925fa581",
   "metadata": {
    "pycharm": {
     "name": "#%%\n"
    }
   },
   "outputs": [],
   "source": [
    "import pandas as pd\n",
    "import spacy\n",
    "from spacytextblob.spacytextblob import SpacyTextBlob"
   ]
  },
  {
   "cell_type": "code",
   "execution_count": 2,
   "id": "3b3cf7f3",
   "metadata": {
    "pycharm": {
     "name": "#%%\n"
    }
   },
   "outputs": [
    {
     "name": "stdout",
     "output_type": "stream",
     "text": [
      "{'review_id': 'KU_O5udG6zpxOg-VcAEodg', 'user_id': 'mh_-eMZ6K5RLWhZyISBhwA', 'business_id': 'XQfwVwDr-v0ZS3_CbbE5Xw', 'stars': 3.0, 'useful': 0, 'funny': 0, 'cool': 0, 'text': \"If you decide to eat here, just be aware it is going to take about 2 hours from beginning to end. We have tried it multiple times, because I want to like it! I have been to it's other locations in NJ and never had a bad experience. \\n\\nThe food is good, but it takes a very long time to come out. The waitstaff is very young, but usually pleasant. We have just had too many experiences where we spent way too long waiting. We usually opt for another diner or restaurant on the weekends, in order to be done quicker.\", 'date': '2018-07-07 22:09:11'}\n"
     ]
    }
   ],
   "source": [
    "#professor code\n",
    "import json\n",
    "\n",
    "with open('yelp_academic_dataset_review_Nov2022_small.jsonl') as f:\n",
    "    for line in f:\n",
    "        review_dict = json.loads(line)\n",
    "        print(review_dict)\n",
    "        break"
   ]
  },
  {
   "cell_type": "code",
   "execution_count": 3,
   "id": "55c4a445",
   "metadata": {
    "pycharm": {
     "name": "#%%\n"
    }
   },
   "outputs": [],
   "source": [
    "data = pd.read_json('yelp_academic_dataset_review_Nov2022_small.jsonl', lines=True)"
   ]
  },
  {
   "cell_type": "code",
   "execution_count": 4,
   "id": "6ec997f0",
   "metadata": {
    "pycharm": {
     "name": "#%%\n"
    }
   },
   "outputs": [
    {
     "data": {
      "text/html": [
       "<div>\n",
       "<style scoped>\n",
       "    .dataframe tbody tr th:only-of-type {\n",
       "        vertical-align: middle;\n",
       "    }\n",
       "\n",
       "    .dataframe tbody tr th {\n",
       "        vertical-align: top;\n",
       "    }\n",
       "\n",
       "    .dataframe thead th {\n",
       "        text-align: right;\n",
       "    }\n",
       "</style>\n",
       "<table border=\"1\" class=\"dataframe\">\n",
       "  <thead>\n",
       "    <tr style=\"text-align: right;\">\n",
       "      <th></th>\n",
       "      <th>review_id</th>\n",
       "      <th>user_id</th>\n",
       "      <th>business_id</th>\n",
       "      <th>stars</th>\n",
       "      <th>useful</th>\n",
       "      <th>funny</th>\n",
       "      <th>cool</th>\n",
       "      <th>text</th>\n",
       "      <th>date</th>\n",
       "    </tr>\n",
       "  </thead>\n",
       "  <tbody>\n",
       "    <tr>\n",
       "      <th>0</th>\n",
       "      <td>KU_O5udG6zpxOg-VcAEodg</td>\n",
       "      <td>mh_-eMZ6K5RLWhZyISBhwA</td>\n",
       "      <td>XQfwVwDr-v0ZS3_CbbE5Xw</td>\n",
       "      <td>3</td>\n",
       "      <td>0</td>\n",
       "      <td>0</td>\n",
       "      <td>0</td>\n",
       "      <td>If you decide to eat here, just be aware it is...</td>\n",
       "      <td>2018-07-07 22:09:11</td>\n",
       "    </tr>\n",
       "    <tr>\n",
       "      <th>1</th>\n",
       "      <td>BiTunyQ73aT9WBnpR9DZGw</td>\n",
       "      <td>OyoGAe7OKpv6SyGZT5g77Q</td>\n",
       "      <td>7ATYjTIgM3jUlt4UM3IypQ</td>\n",
       "      <td>5</td>\n",
       "      <td>1</td>\n",
       "      <td>0</td>\n",
       "      <td>1</td>\n",
       "      <td>I've taken a lot of spin classes over the year...</td>\n",
       "      <td>2012-01-03 15:28:18</td>\n",
       "    </tr>\n",
       "    <tr>\n",
       "      <th>2</th>\n",
       "      <td>saUsX_uimxRlCVr67Z4Jig</td>\n",
       "      <td>8g_iMtfSiwikVnbP2etR0A</td>\n",
       "      <td>YjUWPpI6HXG530lwP-fb2A</td>\n",
       "      <td>3</td>\n",
       "      <td>0</td>\n",
       "      <td>0</td>\n",
       "      <td>0</td>\n",
       "      <td>Family diner. Had the buffet. Eclectic assortm...</td>\n",
       "      <td>2014-02-05 20:30:30</td>\n",
       "    </tr>\n",
       "    <tr>\n",
       "      <th>3</th>\n",
       "      <td>AqPFMleE6RsU23_auESxiA</td>\n",
       "      <td>_7bHUi9Uuf5__HHc_Q8guQ</td>\n",
       "      <td>kxX2SOes4o-D3ZQBkiMRfA</td>\n",
       "      <td>5</td>\n",
       "      <td>1</td>\n",
       "      <td>0</td>\n",
       "      <td>1</td>\n",
       "      <td>Wow!  Yummy, different,  delicious.   Our favo...</td>\n",
       "      <td>2015-01-04 00:01:03</td>\n",
       "    </tr>\n",
       "    <tr>\n",
       "      <th>4</th>\n",
       "      <td>Sx8TMOWLNuJBWer-0pcmoA</td>\n",
       "      <td>bcjbaE6dDog4jkNY91ncLQ</td>\n",
       "      <td>e4Vwtrqf-wpJfwesgvdgxQ</td>\n",
       "      <td>4</td>\n",
       "      <td>1</td>\n",
       "      <td>0</td>\n",
       "      <td>1</td>\n",
       "      <td>Cute interior and owner (?) gave us tour of up...</td>\n",
       "      <td>2017-01-14 20:54:15</td>\n",
       "    </tr>\n",
       "    <tr>\n",
       "      <th>...</th>\n",
       "      <td>...</td>\n",
       "      <td>...</td>\n",
       "      <td>...</td>\n",
       "      <td>...</td>\n",
       "      <td>...</td>\n",
       "      <td>...</td>\n",
       "      <td>...</td>\n",
       "      <td>...</td>\n",
       "      <td>...</td>\n",
       "    </tr>\n",
       "    <tr>\n",
       "      <th>9995</th>\n",
       "      <td>ZcBtCA9jGhLfakf1jJ2BAg</td>\n",
       "      <td>yab1cq5yzrTHzoyz8LYqYQ</td>\n",
       "      <td>1-z7wd860Rii4kbEMCT8DA</td>\n",
       "      <td>5</td>\n",
       "      <td>0</td>\n",
       "      <td>0</td>\n",
       "      <td>0</td>\n",
       "      <td>Excellent food and service. The place is funct...</td>\n",
       "      <td>2018-06-26 17:41:31</td>\n",
       "    </tr>\n",
       "    <tr>\n",
       "      <th>9996</th>\n",
       "      <td>UIkEO-10J6Y99IhRqUflvg</td>\n",
       "      <td>lYAmgL_l7A3MPFYe1DYKrw</td>\n",
       "      <td>EpREWeEpmR8f1qLHzzF0AA</td>\n",
       "      <td>5</td>\n",
       "      <td>0</td>\n",
       "      <td>1</td>\n",
       "      <td>0</td>\n",
       "      <td>Just about to get tucked into a meatloaf that ...</td>\n",
       "      <td>2018-01-09 20:26:13</td>\n",
       "    </tr>\n",
       "    <tr>\n",
       "      <th>9997</th>\n",
       "      <td>S-NQM3Axcg8JS3MXHUIvyw</td>\n",
       "      <td>rE2WwfgJbYfvDwBlgq__dQ</td>\n",
       "      <td>dvidzWEPgTQPeBc8CUV2OQ</td>\n",
       "      <td>5</td>\n",
       "      <td>0</td>\n",
       "      <td>0</td>\n",
       "      <td>0</td>\n",
       "      <td>Outstanding customer service! And my car is dr...</td>\n",
       "      <td>2015-04-01 21:50:28</td>\n",
       "    </tr>\n",
       "    <tr>\n",
       "      <th>9998</th>\n",
       "      <td>ME79YrEhm2xe4IQy_0zkGw</td>\n",
       "      <td>OnIklvzKDpk1BduC84TrTA</td>\n",
       "      <td>2XYPFRm7teCUr3eGsB2-qw</td>\n",
       "      <td>5</td>\n",
       "      <td>0</td>\n",
       "      <td>0</td>\n",
       "      <td>0</td>\n",
       "      <td>I and my husband went here for Dinner one day ...</td>\n",
       "      <td>2015-06-08 19:32:26</td>\n",
       "    </tr>\n",
       "    <tr>\n",
       "      <th>9999</th>\n",
       "      <td>05oKtleZ-JFGD6qt47VQcg</td>\n",
       "      <td>p0MhNWkwOPBfRo8qUb7faw</td>\n",
       "      <td>rnaE88k8yV5pFAGJeiIK4Q</td>\n",
       "      <td>2</td>\n",
       "      <td>0</td>\n",
       "      <td>0</td>\n",
       "      <td>0</td>\n",
       "      <td>I saw Big Data when they came to town at the K...</td>\n",
       "      <td>2015-08-06 23:16:58</td>\n",
       "    </tr>\n",
       "  </tbody>\n",
       "</table>\n",
       "<p>10000 rows × 9 columns</p>\n",
       "</div>"
      ],
      "text/plain": [
       "                   review_id                 user_id             business_id  \\\n",
       "0     KU_O5udG6zpxOg-VcAEodg  mh_-eMZ6K5RLWhZyISBhwA  XQfwVwDr-v0ZS3_CbbE5Xw   \n",
       "1     BiTunyQ73aT9WBnpR9DZGw  OyoGAe7OKpv6SyGZT5g77Q  7ATYjTIgM3jUlt4UM3IypQ   \n",
       "2     saUsX_uimxRlCVr67Z4Jig  8g_iMtfSiwikVnbP2etR0A  YjUWPpI6HXG530lwP-fb2A   \n",
       "3     AqPFMleE6RsU23_auESxiA  _7bHUi9Uuf5__HHc_Q8guQ  kxX2SOes4o-D3ZQBkiMRfA   \n",
       "4     Sx8TMOWLNuJBWer-0pcmoA  bcjbaE6dDog4jkNY91ncLQ  e4Vwtrqf-wpJfwesgvdgxQ   \n",
       "...                      ...                     ...                     ...   \n",
       "9995  ZcBtCA9jGhLfakf1jJ2BAg  yab1cq5yzrTHzoyz8LYqYQ  1-z7wd860Rii4kbEMCT8DA   \n",
       "9996  UIkEO-10J6Y99IhRqUflvg  lYAmgL_l7A3MPFYe1DYKrw  EpREWeEpmR8f1qLHzzF0AA   \n",
       "9997  S-NQM3Axcg8JS3MXHUIvyw  rE2WwfgJbYfvDwBlgq__dQ  dvidzWEPgTQPeBc8CUV2OQ   \n",
       "9998  ME79YrEhm2xe4IQy_0zkGw  OnIklvzKDpk1BduC84TrTA  2XYPFRm7teCUr3eGsB2-qw   \n",
       "9999  05oKtleZ-JFGD6qt47VQcg  p0MhNWkwOPBfRo8qUb7faw  rnaE88k8yV5pFAGJeiIK4Q   \n",
       "\n",
       "      stars  useful  funny  cool  \\\n",
       "0         3       0      0     0   \n",
       "1         5       1      0     1   \n",
       "2         3       0      0     0   \n",
       "3         5       1      0     1   \n",
       "4         4       1      0     1   \n",
       "...     ...     ...    ...   ...   \n",
       "9995      5       0      0     0   \n",
       "9996      5       0      1     0   \n",
       "9997      5       0      0     0   \n",
       "9998      5       0      0     0   \n",
       "9999      2       0      0     0   \n",
       "\n",
       "                                                   text                date  \n",
       "0     If you decide to eat here, just be aware it is... 2018-07-07 22:09:11  \n",
       "1     I've taken a lot of spin classes over the year... 2012-01-03 15:28:18  \n",
       "2     Family diner. Had the buffet. Eclectic assortm... 2014-02-05 20:30:30  \n",
       "3     Wow!  Yummy, different,  delicious.   Our favo... 2015-01-04 00:01:03  \n",
       "4     Cute interior and owner (?) gave us tour of up... 2017-01-14 20:54:15  \n",
       "...                                                 ...                 ...  \n",
       "9995  Excellent food and service. The place is funct... 2018-06-26 17:41:31  \n",
       "9996  Just about to get tucked into a meatloaf that ... 2018-01-09 20:26:13  \n",
       "9997  Outstanding customer service! And my car is dr... 2015-04-01 21:50:28  \n",
       "9998  I and my husband went here for Dinner one day ... 2015-06-08 19:32:26  \n",
       "9999  I saw Big Data when they came to town at the K... 2015-08-06 23:16:58  \n",
       "\n",
       "[10000 rows x 9 columns]"
      ]
     },
     "execution_count": 4,
     "metadata": {},
     "output_type": "execute_result"
    }
   ],
   "source": [
    "data"
   ]
  },
  {
   "cell_type": "code",
   "execution_count": 5,
   "id": "ace72281",
   "metadata": {
    "pycharm": {
     "name": "#%%\n"
    }
   },
   "outputs": [],
   "source": [
    "nlp = spacy.load('en_core_web_md')"
   ]
  },
  {
   "cell_type": "code",
   "execution_count": 6,
   "id": "727df5ed",
   "metadata": {
    "pycharm": {
     "name": "#%%\n"
    }
   },
   "outputs": [
    {
     "data": {
      "text/plain": [
       "<spacytextblob.spacytextblob.SpacyTextBlob at 0x1b575219040>"
      ]
     },
     "execution_count": 6,
     "metadata": {},
     "output_type": "execute_result"
    }
   ],
   "source": [
    "nlp.add_pipe('spacytextblob')"
   ]
  },
  {
   "cell_type": "code",
   "execution_count": 7,
   "id": "39427d85",
   "metadata": {
    "pycharm": {
     "name": "#%%\n"
    }
   },
   "outputs": [
    {
     "data": {
      "text/plain": [
       "review_id                                 KU_O5udG6zpxOg-VcAEodg\n",
       "user_id                                   mh_-eMZ6K5RLWhZyISBhwA\n",
       "business_id                               XQfwVwDr-v0ZS3_CbbE5Xw\n",
       "stars                                                          3\n",
       "useful                                                         0\n",
       "funny                                                          0\n",
       "cool                                                           0\n",
       "text           If you decide to eat here, just be aware it is...\n",
       "date                                         2018-07-07 22:09:11\n",
       "Name: 0, dtype: object"
      ]
     },
     "execution_count": 7,
     "metadata": {},
     "output_type": "execute_result"
    }
   ],
   "source": [
    "data.iloc[0]"
   ]
  },
  {
   "cell_type": "code",
   "execution_count": 8,
   "id": "b9f0b04c",
   "metadata": {
    "pycharm": {
     "name": "#%%\n"
    }
   },
   "outputs": [
    {
     "data": {
      "text/plain": [
       "If you decide to eat here, just be aware it is going to take about 2 hours from beginning to end. We have tried it multiple times, because I want to like it! I have been to it's other locations in NJ and never had a bad experience. \n",
       "\n",
       "The food is good, but it takes a very long time to come out. The waitstaff is very young, but usually pleasant. We have just had too many experiences where we spent way too long waiting. We usually opt for another diner or restaurant on the weekends, in order to be done quicker."
      ]
     },
     "execution_count": 8,
     "metadata": {},
     "output_type": "execute_result"
    }
   ],
   "source": [
    "nlp(data.iloc[0]['text'])"
   ]
  },
  {
   "cell_type": "code",
   "execution_count": 9,
   "id": "60a10ac5",
   "metadata": {
    "pycharm": {
     "name": "#%%\n"
    }
   },
   "outputs": [],
   "source": [
    "data['nlp'] = data.apply(axis=1,\n",
    "   func=lambda x: nlp(x['text']),\n",
    "    result_type='reduce')"
   ]
  },
  {
   "cell_type": "code",
   "execution_count": 10,
   "id": "f8c67b1a",
   "metadata": {
    "scrolled": true,
    "pycharm": {
     "name": "#%%\n"
    }
   },
   "outputs": [
    {
     "data": {
      "text/html": [
       "<div>\n",
       "<style scoped>\n",
       "    .dataframe tbody tr th:only-of-type {\n",
       "        vertical-align: middle;\n",
       "    }\n",
       "\n",
       "    .dataframe tbody tr th {\n",
       "        vertical-align: top;\n",
       "    }\n",
       "\n",
       "    .dataframe thead th {\n",
       "        text-align: right;\n",
       "    }\n",
       "</style>\n",
       "<table border=\"1\" class=\"dataframe\">\n",
       "  <thead>\n",
       "    <tr style=\"text-align: right;\">\n",
       "      <th></th>\n",
       "      <th>review_id</th>\n",
       "      <th>user_id</th>\n",
       "      <th>business_id</th>\n",
       "      <th>stars</th>\n",
       "      <th>useful</th>\n",
       "      <th>funny</th>\n",
       "      <th>cool</th>\n",
       "      <th>text</th>\n",
       "      <th>date</th>\n",
       "      <th>nlp</th>\n",
       "    </tr>\n",
       "  </thead>\n",
       "  <tbody>\n",
       "    <tr>\n",
       "      <th>0</th>\n",
       "      <td>KU_O5udG6zpxOg-VcAEodg</td>\n",
       "      <td>mh_-eMZ6K5RLWhZyISBhwA</td>\n",
       "      <td>XQfwVwDr-v0ZS3_CbbE5Xw</td>\n",
       "      <td>3</td>\n",
       "      <td>0</td>\n",
       "      <td>0</td>\n",
       "      <td>0</td>\n",
       "      <td>If you decide to eat here, just be aware it is...</td>\n",
       "      <td>2018-07-07 22:09:11</td>\n",
       "      <td>(If, you, decide, to, eat, here, ,, just, be, ...</td>\n",
       "    </tr>\n",
       "    <tr>\n",
       "      <th>1</th>\n",
       "      <td>BiTunyQ73aT9WBnpR9DZGw</td>\n",
       "      <td>OyoGAe7OKpv6SyGZT5g77Q</td>\n",
       "      <td>7ATYjTIgM3jUlt4UM3IypQ</td>\n",
       "      <td>5</td>\n",
       "      <td>1</td>\n",
       "      <td>0</td>\n",
       "      <td>1</td>\n",
       "      <td>I've taken a lot of spin classes over the year...</td>\n",
       "      <td>2012-01-03 15:28:18</td>\n",
       "      <td>(I, 've, taken, a, lot, of, spin, classes, ove...</td>\n",
       "    </tr>\n",
       "    <tr>\n",
       "      <th>2</th>\n",
       "      <td>saUsX_uimxRlCVr67Z4Jig</td>\n",
       "      <td>8g_iMtfSiwikVnbP2etR0A</td>\n",
       "      <td>YjUWPpI6HXG530lwP-fb2A</td>\n",
       "      <td>3</td>\n",
       "      <td>0</td>\n",
       "      <td>0</td>\n",
       "      <td>0</td>\n",
       "      <td>Family diner. Had the buffet. Eclectic assortm...</td>\n",
       "      <td>2014-02-05 20:30:30</td>\n",
       "      <td>(Family, diner, ., Had, the, buffet, ., Eclect...</td>\n",
       "    </tr>\n",
       "    <tr>\n",
       "      <th>3</th>\n",
       "      <td>AqPFMleE6RsU23_auESxiA</td>\n",
       "      <td>_7bHUi9Uuf5__HHc_Q8guQ</td>\n",
       "      <td>kxX2SOes4o-D3ZQBkiMRfA</td>\n",
       "      <td>5</td>\n",
       "      <td>1</td>\n",
       "      <td>0</td>\n",
       "      <td>1</td>\n",
       "      <td>Wow!  Yummy, different,  delicious.   Our favo...</td>\n",
       "      <td>2015-01-04 00:01:03</td>\n",
       "      <td>(Wow, !,  , Yummy, ,, different, ,,  , delicio...</td>\n",
       "    </tr>\n",
       "    <tr>\n",
       "      <th>4</th>\n",
       "      <td>Sx8TMOWLNuJBWer-0pcmoA</td>\n",
       "      <td>bcjbaE6dDog4jkNY91ncLQ</td>\n",
       "      <td>e4Vwtrqf-wpJfwesgvdgxQ</td>\n",
       "      <td>4</td>\n",
       "      <td>1</td>\n",
       "      <td>0</td>\n",
       "      <td>1</td>\n",
       "      <td>Cute interior and owner (?) gave us tour of up...</td>\n",
       "      <td>2017-01-14 20:54:15</td>\n",
       "      <td>(Cute, interior, and, owner, (, ?, ), gave, us...</td>\n",
       "    </tr>\n",
       "  </tbody>\n",
       "</table>\n",
       "</div>"
      ],
      "text/plain": [
       "                review_id                 user_id             business_id  \\\n",
       "0  KU_O5udG6zpxOg-VcAEodg  mh_-eMZ6K5RLWhZyISBhwA  XQfwVwDr-v0ZS3_CbbE5Xw   \n",
       "1  BiTunyQ73aT9WBnpR9DZGw  OyoGAe7OKpv6SyGZT5g77Q  7ATYjTIgM3jUlt4UM3IypQ   \n",
       "2  saUsX_uimxRlCVr67Z4Jig  8g_iMtfSiwikVnbP2etR0A  YjUWPpI6HXG530lwP-fb2A   \n",
       "3  AqPFMleE6RsU23_auESxiA  _7bHUi9Uuf5__HHc_Q8guQ  kxX2SOes4o-D3ZQBkiMRfA   \n",
       "4  Sx8TMOWLNuJBWer-0pcmoA  bcjbaE6dDog4jkNY91ncLQ  e4Vwtrqf-wpJfwesgvdgxQ   \n",
       "\n",
       "   stars  useful  funny  cool  \\\n",
       "0      3       0      0     0   \n",
       "1      5       1      0     1   \n",
       "2      3       0      0     0   \n",
       "3      5       1      0     1   \n",
       "4      4       1      0     1   \n",
       "\n",
       "                                                text                date  \\\n",
       "0  If you decide to eat here, just be aware it is... 2018-07-07 22:09:11   \n",
       "1  I've taken a lot of spin classes over the year... 2012-01-03 15:28:18   \n",
       "2  Family diner. Had the buffet. Eclectic assortm... 2014-02-05 20:30:30   \n",
       "3  Wow!  Yummy, different,  delicious.   Our favo... 2015-01-04 00:01:03   \n",
       "4  Cute interior and owner (?) gave us tour of up... 2017-01-14 20:54:15   \n",
       "\n",
       "                                                 nlp  \n",
       "0  (If, you, decide, to, eat, here, ,, just, be, ...  \n",
       "1  (I, 've, taken, a, lot, of, spin, classes, ove...  \n",
       "2  (Family, diner, ., Had, the, buffet, ., Eclect...  \n",
       "3  (Wow, !,  , Yummy, ,, different, ,,  , delicio...  \n",
       "4  (Cute, interior, and, owner, (, ?, ), gave, us...  "
      ]
     },
     "execution_count": 10,
     "metadata": {},
     "output_type": "execute_result"
    }
   ],
   "source": [
    "data.head()"
   ]
  },
  {
   "cell_type": "code",
   "execution_count": 11,
   "id": "8fda73ca",
   "metadata": {
    "pycharm": {
     "name": "#%%\n"
    }
   },
   "outputs": [],
   "source": [
    "def preprocess(row):\n",
    "    cleaned_doc = []\n",
    "    for token in row['nlp']:\n",
    "        if token.is_alpha and not token.is_stop:\n",
    "            cleaned_doc.append(token.lemma_.lower())\n",
    "    return cleaned_doc"
   ]
  },
  {
   "cell_type": "code",
   "execution_count": 12,
   "id": "39768c9e",
   "metadata": {
    "pycharm": {
     "name": "#%%\n"
    }
   },
   "outputs": [],
   "source": [
    "#preprocessing, as described in class\n",
    "#in order to use gensim, professor said that we should preprocess\n",
    "wordList = list(data.head(100).apply(axis=1, func=preprocess))"
   ]
  },
  {
   "cell_type": "code",
   "execution_count": 13,
   "id": "f7d38fc1",
   "metadata": {
    "pycharm": {
     "name": "#%%\n"
    }
   },
   "outputs": [],
   "source": [
    "import gensim\n",
    "gen_dict = gensim.corpora.Dictionary(wordList)"
   ]
  },
  {
   "cell_type": "code",
   "execution_count": 14,
   "id": "f9ca52df",
   "metadata": {
    "pycharm": {
     "name": "#%%\n"
    }
   },
   "outputs": [],
   "source": [
    "doc_term_matrix = []\n",
    "for i in range(len(wordList)):\n",
    "    doc_term_matrix.append(gen_dict.doc2bow(wordList[i]))"
   ]
  },
  {
   "cell_type": "code",
   "execution_count": 15,
   "id": "d375616b",
   "metadata": {
    "pycharm": {
     "name": "#%%\n"
    }
   },
   "outputs": [],
   "source": [
    "#getting back to my stuff\n",
    "data['polarity'] = data.apply(axis=1,\n",
    "   func=lambda x: x['nlp']._.blob.polarity,\n",
    "    result_type='reduce')"
   ]
  },
  {
   "cell_type": "code",
   "execution_count": 16,
   "id": "af4111ea",
   "metadata": {
    "pycharm": {
     "name": "#%%\n"
    }
   },
   "outputs": [
    {
     "data": {
      "text/html": [
       "<div>\n",
       "<style scoped>\n",
       "    .dataframe tbody tr th:only-of-type {\n",
       "        vertical-align: middle;\n",
       "    }\n",
       "\n",
       "    .dataframe tbody tr th {\n",
       "        vertical-align: top;\n",
       "    }\n",
       "\n",
       "    .dataframe thead th {\n",
       "        text-align: right;\n",
       "    }\n",
       "</style>\n",
       "<table border=\"1\" class=\"dataframe\">\n",
       "  <thead>\n",
       "    <tr style=\"text-align: right;\">\n",
       "      <th></th>\n",
       "      <th>review_id</th>\n",
       "      <th>user_id</th>\n",
       "      <th>business_id</th>\n",
       "      <th>stars</th>\n",
       "      <th>useful</th>\n",
       "      <th>funny</th>\n",
       "      <th>cool</th>\n",
       "      <th>text</th>\n",
       "      <th>date</th>\n",
       "      <th>nlp</th>\n",
       "      <th>polarity</th>\n",
       "    </tr>\n",
       "  </thead>\n",
       "  <tbody>\n",
       "    <tr>\n",
       "      <th>0</th>\n",
       "      <td>KU_O5udG6zpxOg-VcAEodg</td>\n",
       "      <td>mh_-eMZ6K5RLWhZyISBhwA</td>\n",
       "      <td>XQfwVwDr-v0ZS3_CbbE5Xw</td>\n",
       "      <td>3</td>\n",
       "      <td>0</td>\n",
       "      <td>0</td>\n",
       "      <td>0</td>\n",
       "      <td>If you decide to eat here, just be aware it is...</td>\n",
       "      <td>2018-07-07 22:09:11</td>\n",
       "      <td>(If, you, decide, to, eat, here, ,, just, be, ...</td>\n",
       "      <td>0.085278</td>\n",
       "    </tr>\n",
       "    <tr>\n",
       "      <th>1</th>\n",
       "      <td>BiTunyQ73aT9WBnpR9DZGw</td>\n",
       "      <td>OyoGAe7OKpv6SyGZT5g77Q</td>\n",
       "      <td>7ATYjTIgM3jUlt4UM3IypQ</td>\n",
       "      <td>5</td>\n",
       "      <td>1</td>\n",
       "      <td>0</td>\n",
       "      <td>1</td>\n",
       "      <td>I've taken a lot of spin classes over the year...</td>\n",
       "      <td>2012-01-03 15:28:18</td>\n",
       "      <td>(I, 've, taken, a, lot, of, spin, classes, ove...</td>\n",
       "      <td>0.402273</td>\n",
       "    </tr>\n",
       "    <tr>\n",
       "      <th>2</th>\n",
       "      <td>saUsX_uimxRlCVr67Z4Jig</td>\n",
       "      <td>8g_iMtfSiwikVnbP2etR0A</td>\n",
       "      <td>YjUWPpI6HXG530lwP-fb2A</td>\n",
       "      <td>3</td>\n",
       "      <td>0</td>\n",
       "      <td>0</td>\n",
       "      <td>0</td>\n",
       "      <td>Family diner. Had the buffet. Eclectic assortm...</td>\n",
       "      <td>2014-02-05 20:30:30</td>\n",
       "      <td>(Family, diner, ., Had, the, buffet, ., Eclect...</td>\n",
       "      <td>0.139935</td>\n",
       "    </tr>\n",
       "    <tr>\n",
       "      <th>3</th>\n",
       "      <td>AqPFMleE6RsU23_auESxiA</td>\n",
       "      <td>_7bHUi9Uuf5__HHc_Q8guQ</td>\n",
       "      <td>kxX2SOes4o-D3ZQBkiMRfA</td>\n",
       "      <td>5</td>\n",
       "      <td>1</td>\n",
       "      <td>0</td>\n",
       "      <td>1</td>\n",
       "      <td>Wow!  Yummy, different,  delicious.   Our favo...</td>\n",
       "      <td>2015-01-04 00:01:03</td>\n",
       "      <td>(Wow, !,  , Yummy, ,, different, ,,  , delicio...</td>\n",
       "      <td>0.302557</td>\n",
       "    </tr>\n",
       "    <tr>\n",
       "      <th>4</th>\n",
       "      <td>Sx8TMOWLNuJBWer-0pcmoA</td>\n",
       "      <td>bcjbaE6dDog4jkNY91ncLQ</td>\n",
       "      <td>e4Vwtrqf-wpJfwesgvdgxQ</td>\n",
       "      <td>4</td>\n",
       "      <td>1</td>\n",
       "      <td>0</td>\n",
       "      <td>1</td>\n",
       "      <td>Cute interior and owner (?) gave us tour of up...</td>\n",
       "      <td>2017-01-14 20:54:15</td>\n",
       "      <td>(Cute, interior, and, owner, (, ?, ), gave, us...</td>\n",
       "      <td>0.400969</td>\n",
       "    </tr>\n",
       "  </tbody>\n",
       "</table>\n",
       "</div>"
      ],
      "text/plain": [
       "                review_id                 user_id             business_id  \\\n",
       "0  KU_O5udG6zpxOg-VcAEodg  mh_-eMZ6K5RLWhZyISBhwA  XQfwVwDr-v0ZS3_CbbE5Xw   \n",
       "1  BiTunyQ73aT9WBnpR9DZGw  OyoGAe7OKpv6SyGZT5g77Q  7ATYjTIgM3jUlt4UM3IypQ   \n",
       "2  saUsX_uimxRlCVr67Z4Jig  8g_iMtfSiwikVnbP2etR0A  YjUWPpI6HXG530lwP-fb2A   \n",
       "3  AqPFMleE6RsU23_auESxiA  _7bHUi9Uuf5__HHc_Q8guQ  kxX2SOes4o-D3ZQBkiMRfA   \n",
       "4  Sx8TMOWLNuJBWer-0pcmoA  bcjbaE6dDog4jkNY91ncLQ  e4Vwtrqf-wpJfwesgvdgxQ   \n",
       "\n",
       "   stars  useful  funny  cool  \\\n",
       "0      3       0      0     0   \n",
       "1      5       1      0     1   \n",
       "2      3       0      0     0   \n",
       "3      5       1      0     1   \n",
       "4      4       1      0     1   \n",
       "\n",
       "                                                text                date  \\\n",
       "0  If you decide to eat here, just be aware it is... 2018-07-07 22:09:11   \n",
       "1  I've taken a lot of spin classes over the year... 2012-01-03 15:28:18   \n",
       "2  Family diner. Had the buffet. Eclectic assortm... 2014-02-05 20:30:30   \n",
       "3  Wow!  Yummy, different,  delicious.   Our favo... 2015-01-04 00:01:03   \n",
       "4  Cute interior and owner (?) gave us tour of up... 2017-01-14 20:54:15   \n",
       "\n",
       "                                                 nlp  polarity  \n",
       "0  (If, you, decide, to, eat, here, ,, just, be, ...  0.085278  \n",
       "1  (I, 've, taken, a, lot, of, spin, classes, ove...  0.402273  \n",
       "2  (Family, diner, ., Had, the, buffet, ., Eclect...  0.139935  \n",
       "3  (Wow, !,  , Yummy, ,, different, ,,  , delicio...  0.302557  \n",
       "4  (Cute, interior, and, owner, (, ?, ), gave, us...  0.400969  "
      ]
     },
     "execution_count": 16,
     "metadata": {},
     "output_type": "execute_result"
    }
   ],
   "source": [
    "data.head()"
   ]
  },
  {
   "cell_type": "code",
   "execution_count": 17,
   "id": "7d9558ab",
   "metadata": {
    "pycharm": {
     "name": "#%%\n"
    }
   },
   "outputs": [
    {
     "data": {
      "text/plain": [
       "<AxesSubplot:xlabel='stars', ylabel='polarity'>"
      ]
     },
     "execution_count": 17,
     "metadata": {},
     "output_type": "execute_result"
    },
    {
     "data": {
      "image/png": "[encoded data removed]",
      "text/plain": [
       "<Figure size 640x480 with 1 Axes>"
      ]
     },
     "metadata": {},
     "output_type": "display_data"
    }
   ],
   "source": [
    "import seaborn\n",
    "seaborn.violinplot(data=data, x='stars', y='polarity')"
   ]
  },
  {
   "cell_type": "markdown",
   "id": "85883d83",
   "metadata": {
    "pycharm": {
     "name": "#%% md\n"
    }
   },
   "source": [
    "## Task 2\n",
    "For each review included in the dataset, extract the subjective phrases in the text using  `spacytextblob` and its `sentiment_assessments.assessments` feature. Then, for each review whose review_id is in the following `target_review_ids` list, find the top 3 reviews that are most similar to it in terms of their subjective phrases. What is the rating of each of the target reviews? What about the rating of their top 3 most similar reviews? Are they correlated? Interpret the results. "
   ]
  },
  {
   "cell_type": "code",
   "execution_count": 18,
   "id": "8dcde9ab",
   "metadata": {
    "pycharm": {
     "name": "#%%\n"
    }
   },
   "outputs": [],
   "source": [
    "target_review_ids = [\"40thYphUgIfvJq17QCfTwA\", \"E9AB7V4z8xrt2uPF7T55FQ\", \"4PHFo_GRG4FEk1q4X7xQVQ\", \"4KpIldEM-tdnrJLqYzRfZQ\", \"PDHRlnEdkEcwATry4w71PQ\", \"meGaFP7yxQdjyABrYDVeoQ\", \"pgESDcC7eDx4z_epqon4_Q\", \"qeSxL-POvGLZD6aQ5O9kvw\"]"
   ]
  },
  {
   "cell_type": "code",
   "execution_count": 19,
   "id": "d40010cd",
   "metadata": {
    "pycharm": {
     "name": "#%%\n"
    }
   },
   "outputs": [],
   "source": [
    "phraseFrame = pd.DataFrame({'review_id':target_review_ids})"
   ]
  },
  {
   "cell_type": "code",
   "execution_count": 20,
   "id": "1998ff42",
   "metadata": {
    "pycharm": {
     "name": "#%%\n"
    }
   },
   "outputs": [],
   "source": [
    "phraseFrame['phrases'] = phraseFrame.apply(axis=1,\n",
    "   func=lambda x: data.loc[data['review_id'] == x.review_id].iloc[0].nlp._.blob.sentiment_assessments.assessments,\n",
    "    result_type='reduce')"
   ]
  },
  {
   "cell_type": "code",
   "execution_count": 21,
   "id": "90d4407b",
   "metadata": {
    "pycharm": {
     "name": "#%%\n"
    }
   },
   "outputs": [
    {
     "data": {
      "text/html": [
       "<div>\n",
       "<style scoped>\n",
       "    .dataframe tbody tr th:only-of-type {\n",
       "        vertical-align: middle;\n",
       "    }\n",
       "\n",
       "    .dataframe tbody tr th {\n",
       "        vertical-align: top;\n",
       "    }\n",
       "\n",
       "    .dataframe thead th {\n",
       "        text-align: right;\n",
       "    }\n",
       "</style>\n",
       "<table border=\"1\" class=\"dataframe\">\n",
       "  <thead>\n",
       "    <tr style=\"text-align: right;\">\n",
       "      <th></th>\n",
       "      <th>review_id</th>\n",
       "      <th>phrases</th>\n",
       "    </tr>\n",
       "  </thead>\n",
       "  <tbody>\n",
       "    <tr>\n",
       "      <th>0</th>\n",
       "      <td>40thYphUgIfvJq17QCfTwA</td>\n",
       "      <td>[([great], 0.8, 0.75, None), ([nice], 0.6, 1.0...</td>\n",
       "    </tr>\n",
       "    <tr>\n",
       "      <th>1</th>\n",
       "      <td>E9AB7V4z8xrt2uPF7T55FQ</td>\n",
       "      <td>[([amazing], 0.6000000000000001, 0.9, None), (...</td>\n",
       "    </tr>\n",
       "    <tr>\n",
       "      <th>2</th>\n",
       "      <td>4PHFo_GRG4FEk1q4X7xQVQ</td>\n",
       "      <td>[([great, !, !, !, !, !, !, !, !, !], 1.0, 0.7...</td>\n",
       "    </tr>\n",
       "    <tr>\n",
       "      <th>3</th>\n",
       "      <td>4KpIldEM-tdnrJLqYzRfZQ</td>\n",
       "      <td>[([only], 0.0, 1.0, None), ([awesome, !], 1.0,...</td>\n",
       "    </tr>\n",
       "    <tr>\n",
       "      <th>4</th>\n",
       "      <td>PDHRlnEdkEcwATry4w71PQ</td>\n",
       "      <td>[([plain], -0.21428571428571427, 0.35714285714...</td>\n",
       "    </tr>\n",
       "    <tr>\n",
       "      <th>5</th>\n",
       "      <td>meGaFP7yxQdjyABrYDVeoQ</td>\n",
       "      <td>[([seriously], -0.3333333333333333, 0.66666666...</td>\n",
       "    </tr>\n",
       "    <tr>\n",
       "      <th>6</th>\n",
       "      <td>pgESDcC7eDx4z_epqon4_Q</td>\n",
       "      <td>[([half], -0.16666666666666666, 0.166666666666...</td>\n",
       "    </tr>\n",
       "    <tr>\n",
       "      <th>7</th>\n",
       "      <td>qeSxL-POvGLZD6aQ5O9kvw</td>\n",
       "      <td>[([rarely], 0.3, 0.9, None), ([honestly], 0.6,...</td>\n",
       "    </tr>\n",
       "  </tbody>\n",
       "</table>\n",
       "</div>"
      ],
      "text/plain": [
       "                review_id                                            phrases\n",
       "0  40thYphUgIfvJq17QCfTwA  [([great], 0.8, 0.75, None), ([nice], 0.6, 1.0...\n",
       "1  E9AB7V4z8xrt2uPF7T55FQ  [([amazing], 0.6000000000000001, 0.9, None), (...\n",
       "2  4PHFo_GRG4FEk1q4X7xQVQ  [([great, !, !, !, !, !, !, !, !, !], 1.0, 0.7...\n",
       "3  4KpIldEM-tdnrJLqYzRfZQ  [([only], 0.0, 1.0, None), ([awesome, !], 1.0,...\n",
       "4  PDHRlnEdkEcwATry4w71PQ  [([plain], -0.21428571428571427, 0.35714285714...\n",
       "5  meGaFP7yxQdjyABrYDVeoQ  [([seriously], -0.3333333333333333, 0.66666666...\n",
       "6  pgESDcC7eDx4z_epqon4_Q  [([half], -0.16666666666666666, 0.166666666666...\n",
       "7  qeSxL-POvGLZD6aQ5O9kvw  [([rarely], 0.3, 0.9, None), ([honestly], 0.6,..."
      ]
     },
     "execution_count": 21,
     "metadata": {},
     "output_type": "execute_result"
    }
   ],
   "source": [
    "phraseFrame"
   ]
  },
  {
   "cell_type": "code",
   "execution_count": 22,
   "id": "57325951",
   "metadata": {
    "pycharm": {
     "name": "#%%\n"
    }
   },
   "outputs": [],
   "source": [
    "phraseFrame = phraseFrame.merge(data[['review_id', 'stars']], on='review_id')"
   ]
  },
  {
   "cell_type": "code",
   "execution_count": 23,
   "id": "bcee3585",
   "metadata": {
    "pycharm": {
     "name": "#%%\n"
    }
   },
   "outputs": [
    {
     "data": {
      "text/html": [
       "<div>\n",
       "<style scoped>\n",
       "    .dataframe tbody tr th:only-of-type {\n",
       "        vertical-align: middle;\n",
       "    }\n",
       "\n",
       "    .dataframe tbody tr th {\n",
       "        vertical-align: top;\n",
       "    }\n",
       "\n",
       "    .dataframe thead th {\n",
       "        text-align: right;\n",
       "    }\n",
       "</style>\n",
       "<table border=\"1\" class=\"dataframe\">\n",
       "  <thead>\n",
       "    <tr style=\"text-align: right;\">\n",
       "      <th></th>\n",
       "      <th>review_id</th>\n",
       "      <th>phrases</th>\n",
       "      <th>stars</th>\n",
       "    </tr>\n",
       "  </thead>\n",
       "  <tbody>\n",
       "    <tr>\n",
       "      <th>0</th>\n",
       "      <td>40thYphUgIfvJq17QCfTwA</td>\n",
       "      <td>[([great], 0.8, 0.75, None), ([nice], 0.6, 1.0...</td>\n",
       "      <td>5</td>\n",
       "    </tr>\n",
       "    <tr>\n",
       "      <th>1</th>\n",
       "      <td>E9AB7V4z8xrt2uPF7T55FQ</td>\n",
       "      <td>[([amazing], 0.6000000000000001, 0.9, None), (...</td>\n",
       "      <td>5</td>\n",
       "    </tr>\n",
       "    <tr>\n",
       "      <th>2</th>\n",
       "      <td>4PHFo_GRG4FEk1q4X7xQVQ</td>\n",
       "      <td>[([great, !, !, !, !, !, !, !, !, !], 1.0, 0.7...</td>\n",
       "      <td>5</td>\n",
       "    </tr>\n",
       "    <tr>\n",
       "      <th>3</th>\n",
       "      <td>4KpIldEM-tdnrJLqYzRfZQ</td>\n",
       "      <td>[([only], 0.0, 1.0, None), ([awesome, !], 1.0,...</td>\n",
       "      <td>5</td>\n",
       "    </tr>\n",
       "    <tr>\n",
       "      <th>4</th>\n",
       "      <td>PDHRlnEdkEcwATry4w71PQ</td>\n",
       "      <td>[([plain], -0.21428571428571427, 0.35714285714...</td>\n",
       "      <td>1</td>\n",
       "    </tr>\n",
       "    <tr>\n",
       "      <th>5</th>\n",
       "      <td>meGaFP7yxQdjyABrYDVeoQ</td>\n",
       "      <td>[([seriously], -0.3333333333333333, 0.66666666...</td>\n",
       "      <td>1</td>\n",
       "    </tr>\n",
       "    <tr>\n",
       "      <th>6</th>\n",
       "      <td>pgESDcC7eDx4z_epqon4_Q</td>\n",
       "      <td>[([half], -0.16666666666666666, 0.166666666666...</td>\n",
       "      <td>1</td>\n",
       "    </tr>\n",
       "    <tr>\n",
       "      <th>7</th>\n",
       "      <td>qeSxL-POvGLZD6aQ5O9kvw</td>\n",
       "      <td>[([rarely], 0.3, 0.9, None), ([honestly], 0.6,...</td>\n",
       "      <td>1</td>\n",
       "    </tr>\n",
       "  </tbody>\n",
       "</table>\n",
       "</div>"
      ],
      "text/plain": [
       "                review_id                                            phrases  \\\n",
       "0  40thYphUgIfvJq17QCfTwA  [([great], 0.8, 0.75, None), ([nice], 0.6, 1.0...   \n",
       "1  E9AB7V4z8xrt2uPF7T55FQ  [([amazing], 0.6000000000000001, 0.9, None), (...   \n",
       "2  4PHFo_GRG4FEk1q4X7xQVQ  [([great, !, !, !, !, !, !, !, !, !], 1.0, 0.7...   \n",
       "3  4KpIldEM-tdnrJLqYzRfZQ  [([only], 0.0, 1.0, None), ([awesome, !], 1.0,...   \n",
       "4  PDHRlnEdkEcwATry4w71PQ  [([plain], -0.21428571428571427, 0.35714285714...   \n",
       "5  meGaFP7yxQdjyABrYDVeoQ  [([seriously], -0.3333333333333333, 0.66666666...   \n",
       "6  pgESDcC7eDx4z_epqon4_Q  [([half], -0.16666666666666666, 0.166666666666...   \n",
       "7  qeSxL-POvGLZD6aQ5O9kvw  [([rarely], 0.3, 0.9, None), ([honestly], 0.6,...   \n",
       "\n",
       "   stars  \n",
       "0      5  \n",
       "1      5  \n",
       "2      5  \n",
       "3      5  \n",
       "4      1  \n",
       "5      1  \n",
       "6      1  \n",
       "7      1  "
      ]
     },
     "execution_count": 23,
     "metadata": {},
     "output_type": "execute_result"
    }
   ],
   "source": [
    "phraseFrame"
   ]
  },
  {
   "cell_type": "code",
   "execution_count": 24,
   "id": "f368b8a9",
   "metadata": {
    "pycharm": {
     "name": "#%%\n"
    }
   },
   "outputs": [],
   "source": [
    "#wrote all this code in such a way that all you would need to do to change\n",
    "#the top 3 to a different number (like top 5), is change the variable topN here\n",
    "topN = 3\n",
    "realTopScores = []\n",
    "for phraseRow in phraseFrame.iloc:\n",
    "    topScores = [(0, '')] * topN\n",
    "    for row in data.iloc:\n",
    "        score = 0\n",
    "        for phrase in row.nlp._.blob.sentiment_assessments.assessments:\n",
    "            if phrase in phraseRow.phrases:\n",
    "                score +=1\n",
    "        for i in range(len(topScores)): #not the most efficient, but quicker to type\n",
    "            if score > topScores[i][0]:\n",
    "                topScores.insert(i, (score, row.review_id))\n",
    "                topScores.pop()\n",
    "                break\n",
    "    realTopScores.append(topScores)"
   ]
  },
  {
   "cell_type": "code",
   "execution_count": 25,
   "id": "fca5a851",
   "metadata": {
    "pycharm": {
     "name": "#%%\n"
    }
   },
   "outputs": [],
   "source": [
    "#not keeping the scores, though we could\n",
    "for reviewNum in range(topN):\n",
    "    scoreList = []\n",
    "    for i in range(len(realTopScores)):\n",
    "        scoreList.append(realTopScores[i][reviewNum][1])\n",
    "    phraseFrame['review #' + str(reviewNum)] = scoreList"
   ]
  },
  {
   "cell_type": "code",
   "execution_count": 26,
   "id": "1bdff88c",
   "metadata": {
    "pycharm": {
     "name": "#%%\n"
    }
   },
   "outputs": [
    {
     "data": {
      "text/html": [
       "<div>\n",
       "<style scoped>\n",
       "    .dataframe tbody tr th:only-of-type {\n",
       "        vertical-align: middle;\n",
       "    }\n",
       "\n",
       "    .dataframe tbody tr th {\n",
       "        vertical-align: top;\n",
       "    }\n",
       "\n",
       "    .dataframe thead th {\n",
       "        text-align: right;\n",
       "    }\n",
       "</style>\n",
       "<table border=\"1\" class=\"dataframe\">\n",
       "  <thead>\n",
       "    <tr style=\"text-align: right;\">\n",
       "      <th></th>\n",
       "      <th>review_id</th>\n",
       "      <th>phrases</th>\n",
       "      <th>stars</th>\n",
       "      <th>review #0</th>\n",
       "      <th>review #1</th>\n",
       "      <th>review #2</th>\n",
       "    </tr>\n",
       "  </thead>\n",
       "  <tbody>\n",
       "    <tr>\n",
       "      <th>0</th>\n",
       "      <td>40thYphUgIfvJq17QCfTwA</td>\n",
       "      <td>[([great], 0.8, 0.75, None), ([nice], 0.6, 1.0...</td>\n",
       "      <td>5</td>\n",
       "      <td>oBYVK1aVJdU15NNUgfYvFw</td>\n",
       "      <td>kgIF5n-s1RhQVzQNrQ5n8Q</td>\n",
       "      <td>jHs1v7FXUVD4170FSQez8Q</td>\n",
       "    </tr>\n",
       "    <tr>\n",
       "      <th>1</th>\n",
       "      <td>E9AB7V4z8xrt2uPF7T55FQ</td>\n",
       "      <td>[([amazing], 0.6000000000000001, 0.9, None), (...</td>\n",
       "      <td>5</td>\n",
       "      <td>fwkS8EOq6mS5Jf_OYf5fZw</td>\n",
       "      <td>1aNrSU9CHuFnBuNFTD2cBQ</td>\n",
       "      <td>0sEpvW1O7AipPO-vW8Aq5A</td>\n",
       "    </tr>\n",
       "    <tr>\n",
       "      <th>2</th>\n",
       "      <td>4PHFo_GRG4FEk1q4X7xQVQ</td>\n",
       "      <td>[([great, !, !, !, !, !, !, !, !, !], 1.0, 0.7...</td>\n",
       "      <td>5</td>\n",
       "      <td>4PHFo_GRG4FEk1q4X7xQVQ</td>\n",
       "      <td>3MEJ8-95g8lj_D8S0HFpuQ</td>\n",
       "      <td>Bhn9WcAe2rO26HT-TLKK_Q</td>\n",
       "    </tr>\n",
       "    <tr>\n",
       "      <th>3</th>\n",
       "      <td>4KpIldEM-tdnrJLqYzRfZQ</td>\n",
       "      <td>[([only], 0.0, 1.0, None), ([awesome, !], 1.0,...</td>\n",
       "      <td>5</td>\n",
       "      <td>4KpIldEM-tdnrJLqYzRfZQ</td>\n",
       "      <td>na-gQZQh3bwJHmIDE8XFtQ</td>\n",
       "      <td>9lXH6vIXS_-1NuHWx_d_bw</td>\n",
       "    </tr>\n",
       "    <tr>\n",
       "      <th>4</th>\n",
       "      <td>PDHRlnEdkEcwATry4w71PQ</td>\n",
       "      <td>[([plain], -0.21428571428571427, 0.35714285714...</td>\n",
       "      <td>1</td>\n",
       "      <td>PDHRlnEdkEcwATry4w71PQ</td>\n",
       "      <td>IgfUV2Ggcl36kS7mv8wsaw</td>\n",
       "      <td>BJ_l-doGBK50wzJO7uWt9g</td>\n",
       "    </tr>\n",
       "    <tr>\n",
       "      <th>5</th>\n",
       "      <td>meGaFP7yxQdjyABrYDVeoQ</td>\n",
       "      <td>[([seriously], -0.3333333333333333, 0.66666666...</td>\n",
       "      <td>1</td>\n",
       "      <td>VpgsJiM3zqrhrwJi8bkz2Q</td>\n",
       "      <td>0aC3eVgDQFE6gH2Fk-MrDg</td>\n",
       "      <td>tMa58XRCtpE7N7ygYgye2A</td>\n",
       "    </tr>\n",
       "    <tr>\n",
       "      <th>6</th>\n",
       "      <td>pgESDcC7eDx4z_epqon4_Q</td>\n",
       "      <td>[([half], -0.16666666666666666, 0.166666666666...</td>\n",
       "      <td>1</td>\n",
       "      <td>RLrs5xYkjxvY03MmpLwv0Q</td>\n",
       "      <td>pgESDcC7eDx4z_epqon4_Q</td>\n",
       "      <td>LEPLQeZh436XbCPzLVqsnA</td>\n",
       "    </tr>\n",
       "    <tr>\n",
       "      <th>7</th>\n",
       "      <td>qeSxL-POvGLZD6aQ5O9kvw</td>\n",
       "      <td>[([rarely], 0.3, 0.9, None), ([honestly], 0.6,...</td>\n",
       "      <td>1</td>\n",
       "      <td>qeSxL-POvGLZD6aQ5O9kvw</td>\n",
       "      <td>kLgcYk9TxIjLe6y6eChetg</td>\n",
       "      <td>oXuRc5x1FLLbLVs7vjxPSw</td>\n",
       "    </tr>\n",
       "  </tbody>\n",
       "</table>\n",
       "</div>"
      ],
      "text/plain": [
       "                review_id                                            phrases  \\\n",
       "0  40thYphUgIfvJq17QCfTwA  [([great], 0.8, 0.75, None), ([nice], 0.6, 1.0...   \n",
       "1  E9AB7V4z8xrt2uPF7T55FQ  [([amazing], 0.6000000000000001, 0.9, None), (...   \n",
       "2  4PHFo_GRG4FEk1q4X7xQVQ  [([great, !, !, !, !, !, !, !, !, !], 1.0, 0.7...   \n",
       "3  4KpIldEM-tdnrJLqYzRfZQ  [([only], 0.0, 1.0, None), ([awesome, !], 1.0,...   \n",
       "4  PDHRlnEdkEcwATry4w71PQ  [([plain], -0.21428571428571427, 0.35714285714...   \n",
       "5  meGaFP7yxQdjyABrYDVeoQ  [([seriously], -0.3333333333333333, 0.66666666...   \n",
       "6  pgESDcC7eDx4z_epqon4_Q  [([half], -0.16666666666666666, 0.166666666666...   \n",
       "7  qeSxL-POvGLZD6aQ5O9kvw  [([rarely], 0.3, 0.9, None), ([honestly], 0.6,...   \n",
       "\n",
       "   stars               review #0               review #1  \\\n",
       "0      5  oBYVK1aVJdU15NNUgfYvFw  kgIF5n-s1RhQVzQNrQ5n8Q   \n",
       "1      5  fwkS8EOq6mS5Jf_OYf5fZw  1aNrSU9CHuFnBuNFTD2cBQ   \n",
       "2      5  4PHFo_GRG4FEk1q4X7xQVQ  3MEJ8-95g8lj_D8S0HFpuQ   \n",
       "3      5  4KpIldEM-tdnrJLqYzRfZQ  na-gQZQh3bwJHmIDE8XFtQ   \n",
       "4      1  PDHRlnEdkEcwATry4w71PQ  IgfUV2Ggcl36kS7mv8wsaw   \n",
       "5      1  VpgsJiM3zqrhrwJi8bkz2Q  0aC3eVgDQFE6gH2Fk-MrDg   \n",
       "6      1  RLrs5xYkjxvY03MmpLwv0Q  pgESDcC7eDx4z_epqon4_Q   \n",
       "7      1  qeSxL-POvGLZD6aQ5O9kvw  kLgcYk9TxIjLe6y6eChetg   \n",
       "\n",
       "                review #2  \n",
       "0  jHs1v7FXUVD4170FSQez8Q  \n",
       "1  0sEpvW1O7AipPO-vW8Aq5A  \n",
       "2  Bhn9WcAe2rO26HT-TLKK_Q  \n",
       "3  9lXH6vIXS_-1NuHWx_d_bw  \n",
       "4  BJ_l-doGBK50wzJO7uWt9g  \n",
       "5  tMa58XRCtpE7N7ygYgye2A  \n",
       "6  LEPLQeZh436XbCPzLVqsnA  \n",
       "7  oXuRc5x1FLLbLVs7vjxPSw  "
      ]
     },
     "execution_count": 26,
     "metadata": {},
     "output_type": "execute_result"
    }
   ],
   "source": [
    "phraseFrame"
   ]
  },
  {
   "cell_type": "code",
   "execution_count": 27,
   "id": "c69a5b60",
   "metadata": {
    "pycharm": {
     "name": "#%%\n"
    }
   },
   "outputs": [],
   "source": [
    "for reviewNum in range(topN):\n",
    "    phraseFrame = phraseFrame.merge(data[['review_id', 'stars']], left_on='review #'+str(reviewNum), right_on='review_id', suffixes=(None, '_y'))\n",
    "    phraseFrame.drop('review_id_y', axis=1, inplace=True)\n",
    "    phraseFrame.rename({'stars_y': 'stars #' +str(reviewNum)}, axis=1, inplace=True)"
   ]
  },
  {
   "cell_type": "code",
   "execution_count": 28,
   "id": "5d03262e",
   "metadata": {
    "pycharm": {
     "name": "#%%\n"
    }
   },
   "outputs": [
    {
     "data": {
      "text/html": [
       "<div>\n",
       "<style scoped>\n",
       "    .dataframe tbody tr th:only-of-type {\n",
       "        vertical-align: middle;\n",
       "    }\n",
       "\n",
       "    .dataframe tbody tr th {\n",
       "        vertical-align: top;\n",
       "    }\n",
       "\n",
       "    .dataframe thead th {\n",
       "        text-align: right;\n",
       "    }\n",
       "</style>\n",
       "<table border=\"1\" class=\"dataframe\">\n",
       "  <thead>\n",
       "    <tr style=\"text-align: right;\">\n",
       "      <th></th>\n",
       "      <th>review_id</th>\n",
       "      <th>phrases</th>\n",
       "      <th>stars</th>\n",
       "      <th>review #0</th>\n",
       "      <th>review #1</th>\n",
       "      <th>review #2</th>\n",
       "      <th>stars #0</th>\n",
       "      <th>stars #1</th>\n",
       "      <th>stars #2</th>\n",
       "    </tr>\n",
       "  </thead>\n",
       "  <tbody>\n",
       "    <tr>\n",
       "      <th>0</th>\n",
       "      <td>40thYphUgIfvJq17QCfTwA</td>\n",
       "      <td>[([great], 0.8, 0.75, None), ([nice], 0.6, 1.0...</td>\n",
       "      <td>5</td>\n",
       "      <td>oBYVK1aVJdU15NNUgfYvFw</td>\n",
       "      <td>kgIF5n-s1RhQVzQNrQ5n8Q</td>\n",
       "      <td>jHs1v7FXUVD4170FSQez8Q</td>\n",
       "      <td>5</td>\n",
       "      <td>1</td>\n",
       "      <td>5</td>\n",
       "    </tr>\n",
       "    <tr>\n",
       "      <th>1</th>\n",
       "      <td>E9AB7V4z8xrt2uPF7T55FQ</td>\n",
       "      <td>[([amazing], 0.6000000000000001, 0.9, None), (...</td>\n",
       "      <td>5</td>\n",
       "      <td>fwkS8EOq6mS5Jf_OYf5fZw</td>\n",
       "      <td>1aNrSU9CHuFnBuNFTD2cBQ</td>\n",
       "      <td>0sEpvW1O7AipPO-vW8Aq5A</td>\n",
       "      <td>5</td>\n",
       "      <td>4</td>\n",
       "      <td>3</td>\n",
       "    </tr>\n",
       "    <tr>\n",
       "      <th>2</th>\n",
       "      <td>4PHFo_GRG4FEk1q4X7xQVQ</td>\n",
       "      <td>[([great, !, !, !, !, !, !, !, !, !], 1.0, 0.7...</td>\n",
       "      <td>5</td>\n",
       "      <td>4PHFo_GRG4FEk1q4X7xQVQ</td>\n",
       "      <td>3MEJ8-95g8lj_D8S0HFpuQ</td>\n",
       "      <td>Bhn9WcAe2rO26HT-TLKK_Q</td>\n",
       "      <td>5</td>\n",
       "      <td>4</td>\n",
       "      <td>1</td>\n",
       "    </tr>\n",
       "    <tr>\n",
       "      <th>3</th>\n",
       "      <td>4KpIldEM-tdnrJLqYzRfZQ</td>\n",
       "      <td>[([only], 0.0, 1.0, None), ([awesome, !], 1.0,...</td>\n",
       "      <td>5</td>\n",
       "      <td>4KpIldEM-tdnrJLqYzRfZQ</td>\n",
       "      <td>na-gQZQh3bwJHmIDE8XFtQ</td>\n",
       "      <td>9lXH6vIXS_-1NuHWx_d_bw</td>\n",
       "      <td>5</td>\n",
       "      <td>4</td>\n",
       "      <td>4</td>\n",
       "    </tr>\n",
       "    <tr>\n",
       "      <th>4</th>\n",
       "      <td>PDHRlnEdkEcwATry4w71PQ</td>\n",
       "      <td>[([plain], -0.21428571428571427, 0.35714285714...</td>\n",
       "      <td>1</td>\n",
       "      <td>PDHRlnEdkEcwATry4w71PQ</td>\n",
       "      <td>IgfUV2Ggcl36kS7mv8wsaw</td>\n",
       "      <td>BJ_l-doGBK50wzJO7uWt9g</td>\n",
       "      <td>1</td>\n",
       "      <td>1</td>\n",
       "      <td>5</td>\n",
       "    </tr>\n",
       "    <tr>\n",
       "      <th>5</th>\n",
       "      <td>meGaFP7yxQdjyABrYDVeoQ</td>\n",
       "      <td>[([seriously], -0.3333333333333333, 0.66666666...</td>\n",
       "      <td>1</td>\n",
       "      <td>VpgsJiM3zqrhrwJi8bkz2Q</td>\n",
       "      <td>0aC3eVgDQFE6gH2Fk-MrDg</td>\n",
       "      <td>tMa58XRCtpE7N7ygYgye2A</td>\n",
       "      <td>1</td>\n",
       "      <td>4</td>\n",
       "      <td>5</td>\n",
       "    </tr>\n",
       "    <tr>\n",
       "      <th>6</th>\n",
       "      <td>pgESDcC7eDx4z_epqon4_Q</td>\n",
       "      <td>[([half], -0.16666666666666666, 0.166666666666...</td>\n",
       "      <td>1</td>\n",
       "      <td>RLrs5xYkjxvY03MmpLwv0Q</td>\n",
       "      <td>pgESDcC7eDx4z_epqon4_Q</td>\n",
       "      <td>LEPLQeZh436XbCPzLVqsnA</td>\n",
       "      <td>3</td>\n",
       "      <td>1</td>\n",
       "      <td>5</td>\n",
       "    </tr>\n",
       "    <tr>\n",
       "      <th>7</th>\n",
       "      <td>qeSxL-POvGLZD6aQ5O9kvw</td>\n",
       "      <td>[([rarely], 0.3, 0.9, None), ([honestly], 0.6,...</td>\n",
       "      <td>1</td>\n",
       "      <td>qeSxL-POvGLZD6aQ5O9kvw</td>\n",
       "      <td>kLgcYk9TxIjLe6y6eChetg</td>\n",
       "      <td>oXuRc5x1FLLbLVs7vjxPSw</td>\n",
       "      <td>1</td>\n",
       "      <td>1</td>\n",
       "      <td>3</td>\n",
       "    </tr>\n",
       "  </tbody>\n",
       "</table>\n",
       "</div>"
      ],
      "text/plain": [
       "                review_id                                            phrases  \\\n",
       "0  40thYphUgIfvJq17QCfTwA  [([great], 0.8, 0.75, None), ([nice], 0.6, 1.0...   \n",
       "1  E9AB7V4z8xrt2uPF7T55FQ  [([amazing], 0.6000000000000001, 0.9, None), (...   \n",
       "2  4PHFo_GRG4FEk1q4X7xQVQ  [([great, !, !, !, !, !, !, !, !, !], 1.0, 0.7...   \n",
       "3  4KpIldEM-tdnrJLqYzRfZQ  [([only], 0.0, 1.0, None), ([awesome, !], 1.0,...   \n",
       "4  PDHRlnEdkEcwATry4w71PQ  [([plain], -0.21428571428571427, 0.35714285714...   \n",
       "5  meGaFP7yxQdjyABrYDVeoQ  [([seriously], -0.3333333333333333, 0.66666666...   \n",
       "6  pgESDcC7eDx4z_epqon4_Q  [([half], -0.16666666666666666, 0.166666666666...   \n",
       "7  qeSxL-POvGLZD6aQ5O9kvw  [([rarely], 0.3, 0.9, None), ([honestly], 0.6,...   \n",
       "\n",
       "   stars               review #0               review #1  \\\n",
       "0      5  oBYVK1aVJdU15NNUgfYvFw  kgIF5n-s1RhQVzQNrQ5n8Q   \n",
       "1      5  fwkS8EOq6mS5Jf_OYf5fZw  1aNrSU9CHuFnBuNFTD2cBQ   \n",
       "2      5  4PHFo_GRG4FEk1q4X7xQVQ  3MEJ8-95g8lj_D8S0HFpuQ   \n",
       "3      5  4KpIldEM-tdnrJLqYzRfZQ  na-gQZQh3bwJHmIDE8XFtQ   \n",
       "4      1  PDHRlnEdkEcwATry4w71PQ  IgfUV2Ggcl36kS7mv8wsaw   \n",
       "5      1  VpgsJiM3zqrhrwJi8bkz2Q  0aC3eVgDQFE6gH2Fk-MrDg   \n",
       "6      1  RLrs5xYkjxvY03MmpLwv0Q  pgESDcC7eDx4z_epqon4_Q   \n",
       "7      1  qeSxL-POvGLZD6aQ5O9kvw  kLgcYk9TxIjLe6y6eChetg   \n",
       "\n",
       "                review #2  stars #0  stars #1  stars #2  \n",
       "0  jHs1v7FXUVD4170FSQez8Q         5         1         5  \n",
       "1  0sEpvW1O7AipPO-vW8Aq5A         5         4         3  \n",
       "2  Bhn9WcAe2rO26HT-TLKK_Q         5         4         1  \n",
       "3  9lXH6vIXS_-1NuHWx_d_bw         5         4         4  \n",
       "4  BJ_l-doGBK50wzJO7uWt9g         1         1         5  \n",
       "5  tMa58XRCtpE7N7ygYgye2A         1         4         5  \n",
       "6  LEPLQeZh436XbCPzLVqsnA         3         1         5  \n",
       "7  oXuRc5x1FLLbLVs7vjxPSw         1         1         3  "
      ]
     },
     "execution_count": 28,
     "metadata": {},
     "output_type": "execute_result"
    }
   ],
   "source": [
    "phraseFrame"
   ]
  },
  {
   "cell_type": "markdown",
   "id": "8599cc95",
   "metadata": {
    "pycharm": {
     "name": "#%% md\n"
    }
   },
   "source": [
    "Reviews with the most similar subjective phrases have similar star ratings."
   ]
  }
 ],
 "metadata": {
  "kernelspec": {
   "display_name": "Python 3 (ipykernel)",
   "language": "python",
   "name": "python3"
  },
  "language_info": {
   "codemirror_mode": {
    "name": "ipython",
    "version": 3
   },
   "file_extension": ".py",
   "mimetype": "text/x-python",
   "name": "python",
   "nbconvert_exporter": "python",
   "pygments_lexer": "ipython3",
   "version": "3.8.13"
  }
 },
 "nbformat": 4,
 "nbformat_minor": 5
}