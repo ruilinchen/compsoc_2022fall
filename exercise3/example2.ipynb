{
 "cells": [
  {
   "cell_type": "markdown",
   "source": [
    "### Question 1"
   ],
   "metadata": {
    "collapsed": false,
    "pycharm": {
     "name": "#%% md\n"
    }
   }
  },
  {
   "cell_type": "code",
   "execution_count": 15,
   "outputs": [
    {
     "name": "stdout",
     "output_type": "stream",
     "text": [
      "leave blank and press Enter when done adding\n",
      "There are 11 elements in this list: [-19.0, -23.0, -45.0, 89.0, 70.0, 23.0, 1.0, 64.0, 2.45, 98.34, -23.34]\n",
      "The min in the list is -45.0 and the max is 98.34\n"
     ]
    }
   ],
   "source": [
    "# create an empty list\n",
    "lst = []\n",
    "\n",
    "# define mix max function\n",
    "def minmaxlst():\n",
    "    # instruction\n",
    "    print(\"leave blank and press Enter when done adding\")\n",
    "    # check input (ele), if blank, break (end list)\n",
    "    # if type(ele) = str, return error and ask for input again\n",
    "    while True:\n",
    "        ele = input(\"Add the next number in this list: \")\n",
    "        if ele == \"\":\n",
    "            break\n",
    "        try:\n",
    "            float(ele)\n",
    "        except ValueError:\n",
    "            print(\"You need to input a number\")\n",
    "            continue\n",
    "        # append list with ele in loop\n",
    "        lst.append(float(ele))\n",
    "    # return outputs\n",
    "    minlist = min(lst)\n",
    "    maxlist = max(lst)\n",
    "    print(f\"There are {len(lst)} elements in this list: {lst}\")\n",
    "    print(f\"The min in the list is {minlist} and the max is {maxlist}\")\n",
    "\n",
    "# test function\n",
    "minmaxlst()"
   ],
   "metadata": {
    "collapsed": false,
    "pycharm": {
     "name": "#%%\n"
    }
   }
  },
  {
   "cell_type": "markdown",
   "source": [
    "### Question 2"
   ],
   "metadata": {
    "collapsed": false,
    "pycharm": {
     "name": "#%% md\n"
    }
   }
  },
  {
   "cell_type": "code",
   "execution_count": 3,
   "outputs": [
    {
     "name": "stdout",
     "output_type": "stream",
     "text": [
      "List A; leave blank and press Enter when done adding\n",
      "There are 4 elements in this list: ['1', '2', '3', '4']\n",
      "List B; leave blank and press Enter when done adding\n",
      "There are 3 elements in this list: ['a', 'b', 'c']\n",
      "The combined list using method 1 is:  ['1', 'a', '2', 'b', '3', 'c']\n",
      "The combined list using method 2 is:  ['1', 'a', '2', 'b', '3', 'c']\n",
      "The combined list using method 3 is:  ['1', 'a', '2', 'b', '3', 'c', '4']\n"
     ]
    }
   ],
   "source": [
    "# create A and B as two empty lists\n",
    "A = []\n",
    "B = []\n",
    "\n",
    "# function to populate list A\n",
    "def addlista():\n",
    "    print(\"List A; leave blank and press Enter when done adding\")\n",
    "    while True:\n",
    "        ele = input(\"Please add next element for list A: \")\n",
    "        if ele == \"\":\n",
    "            break\n",
    "        A.append(ele)\n",
    "    no = len(A)\n",
    "    print(f\"There are {no} elements in this list: {A}\")\n",
    "\n",
    "\n",
    "# function to populate list B\n",
    "def addlistb():\n",
    "    print(\"List B; leave blank and press Enter when done adding\")\n",
    "    while True:\n",
    "        ele = input(\"Please add next element for list B: \")\n",
    "        if ele == \"\":\n",
    "            break\n",
    "        B.append(ele)\n",
    "    no = len(B)\n",
    "    print(f\"There are {no} elements in this list: {B}\")\n",
    "\n",
    "# first way using zip: problem with this is that lists has to be of same length\n",
    "# list(zip(A,B)) retunrs [(A1,B1),(A2,B2),(A3,B3),...]\n",
    "# inside the print is just to parse out the elements\n",
    "def combine1():\n",
    "    print(\"The combined list using method 1 is: \", [item for pair in zip(A, B) for item in pair])\n",
    "\n",
    "# the combined list = (1st element of A, 1st of B, 2nd of A, 2nd of B)\n",
    "# in formula terms: combinelist = [A[0], B[0], A[1], B[1],...]\n",
    "def combine2():\n",
    "    # lists also need to be the same length, so need to iterate over the shorter range else error\n",
    "    x = min(len(A), len(B))\n",
    "    # this is just expressing the list in formula terms\n",
    "    combinelist = [ele[i] for i in range(x) for ele in [A, B]]\n",
    "    print(\"The combined list using method 2 is: \", combinelist)\n",
    "\n",
    "# use of list.pop(0), which removes the first element of lists A and B and put them into the combined list\n",
    "# destroys the lists afterwards though...\n",
    "def combine3():\n",
    "    combinelist = []\n",
    "    while True:\n",
    "        try:\n",
    "            combinelist.append(A.pop(0))\n",
    "            combinelist.append(B.pop(0))\n",
    "        except IndexError:\n",
    "            break\n",
    "    print(\"The combined list using method 3 is: \", combinelist)\n",
    "\n",
    "# run all the comments\n",
    "addlista()\n",
    "addlistb()\n",
    "combine1()\n",
    "combine2()\n",
    "combine3()"
   ],
   "metadata": {
    "collapsed": false,
    "pycharm": {
     "name": "#%%\n"
    }
   }
  },
  {
   "cell_type": "markdown",
   "source": [
    "### Question 3"
   ],
   "metadata": {
    "collapsed": false,
    "pycharm": {
     "name": "#%% md\n"
    }
   }
  },
  {
   "cell_type": "code",
   "execution_count": 7,
   "outputs": [
    {
     "name": "stdout",
     "output_type": "stream",
     "text": [
      "leave blank and press Enter when done adding\n",
      "There are 17 elements in this list: ['a', 'a', '1', '2', '3', '2', '5', '5', '7', 'a', 'vn', 'vn', '9', '10', '8', '9', 'vn']\n",
      "Here is a frequency table of the list with col.Counter:  Counter({'a': 3, 'vn': 3, '2': 2, '5': 2, '9': 2, '1': 1, '3': 1, '7': 1, '10': 1, '8': 1})\n",
      "Here is a frequency table of the list no outside lib:  {'a': 3, '1': 1, '2': 2, '3': 1, '5': 2, '7': 1, 'vn': 3, '9': 2, '10': 1, '8': 1}\n"
     ]
    }
   ],
   "source": [
    "# import collection, shorthand \"col\"\n",
    "import collections as col\n",
    "\n",
    "# create L as an empty list\n",
    "L = []\n",
    "\n",
    "# function to populate L\n",
    "def addlst():\n",
    "    print(\"leave blank and press Enter when done adding\")\n",
    "    while True:\n",
    "        ele = input(\"Please add next element for the list: \")\n",
    "        if ele == \"\":\n",
    "            break\n",
    "        L.append(ele)\n",
    "    no = len(L)\n",
    "    print(f\"There are {no} elements in this list: {L}\")\n",
    "\n",
    "# use the Counter function in collections to generate freq as dictionary\n",
    "# output dict is ordered by frequency\n",
    "def freqlst1():\n",
    "    freq = col.Counter(L)\n",
    "    print(\"Here is a frequency table of the list with col.Counter: \", freq)\n",
    "\n",
    "# another way to do this: freq = {i: L.count(i) for i in L}\n",
    "# this goes through each element of the list and count\n",
    "# output dict is ordered by orginal element list\n",
    "def freqlst2():\n",
    "    freq = {i:L.count(i) for i in L}\n",
    "    print(\"Here is a frequency table of the list no outside lib: \", freq)\n",
    "\n",
    "# run all functions\n",
    "addlst()\n",
    "freqlst1()\n",
    "freqlst2()"
   ],
   "metadata": {
    "collapsed": false,
    "pycharm": {
     "name": "#%%\n"
    }
   }
  },
  {
   "cell_type": "markdown",
   "source": [
    "### Question 4"
   ],
   "metadata": {
    "collapsed": false,
    "pycharm": {
     "name": "#%% md\n"
    }
   }
  },
  {
   "cell_type": "code",
   "execution_count": 10,
   "outputs": [
    {
     "name": "stdout",
     "output_type": "stream",
     "text": [
      "List C; leave blank and press Enter when done adding\n",
      "There are 8 elements in this list: ['1', '2', '3', 'a', 'b', 'c', 'c', 'd']\n",
      "List D; leave blank and press Enter when done adding\n",
      "There are 6 elements in this list: ['2', '3', '4', '8', '}', '~']\n",
      "There are 2 common elements between C and D:  ['2', '3']\n"
     ]
    }
   ],
   "source": [
    "# create empty lists C and D\n",
    "C = []\n",
    "D = []\n",
    "\n",
    "# function to populate list C\n",
    "def addlistc():\n",
    "    print(\"List C; leave blank and press Enter when done adding\")\n",
    "    while True:\n",
    "        ele = input(\"Please add next element for list C: \")\n",
    "        if ele == \"\":\n",
    "            break\n",
    "        C.append(ele)\n",
    "    no = len(C)\n",
    "    print(f\"There are {no} elements in this list: {C}\")\n",
    "\n",
    "# function to populate list D\n",
    "def addlistd():\n",
    "    print(\"List D; leave blank and press Enter when done adding\")\n",
    "    while True:\n",
    "        ele = input(\"Please add next element for list D: \")\n",
    "        if ele == \"\":\n",
    "            break\n",
    "        D.append(ele)\n",
    "    no = len(D)\n",
    "    print(f\"There are {no} elements in this list: {D}\")\n",
    "\n",
    "# use set(list1).intersection(set(list2))\n",
    "def combine():\n",
    "    addlistc()\n",
    "    addlistd()\n",
    "    combinelist = list(set(C).intersection(set(D)))\n",
    "    print(f\"There are {len(combinelist)} common elements between C and D: \", combinelist)\n",
    "\n",
    "# run function\n",
    "combine()"
   ],
   "metadata": {
    "collapsed": false,
    "pycharm": {
     "name": "#%%\n"
    }
   }
  },
  {
   "cell_type": "code",
   "execution_count": null,
   "outputs": [],
   "source": [],
   "metadata": {
    "collapsed": false,
    "pycharm": {
     "name": "#%%\n",
     "is_executing": true
    }
   }
  }
 ],
 "metadata": {
  "kernelspec": {
   "display_name": "Python 3",
   "language": "python",
   "name": "python3"
  },
  "language_info": {
   "codemirror_mode": {
    "name": "ipython",
    "version": 2
   },
   "file_extension": ".py",
   "mimetype": "text/x-python",
   "name": "python",
   "nbconvert_exporter": "python",
   "pygments_lexer": "ipython2",
   "version": "2.7.6"
  }
 },
 "nbformat": 4,
 "nbformat_minor": 0
}