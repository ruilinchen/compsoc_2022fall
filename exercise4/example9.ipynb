{
 "cells": [
  {
   "cell_type": "markdown",
   "id": "fc43eff9",
   "metadata": {
    "pycharm": {
     "name": "#%% md\n"
    }
   },
   "source": [
    "## Task 4.1 Reads in the \"example.txt\" file, then prints each \"odd\" line in the text file, starting with line 7. Most of these lines are blanks"
   ]
  },
  {
   "cell_type": "code",
   "execution_count": 1,
   "id": "e60a7df5",
   "metadata": {
    "pycharm": {
     "name": "#%%\n"
    }
   },
   "outputs": [
    {
     "name": "stdout",
     "output_type": "stream",
     "text": [
      "Example content:\n",
      "\n",
      "\n",
      "\n",
      "\n",
      "\n",
      "\n",
      "\n",
      "\n",
      "\n",
      "More example files: https://www.online-convert.com/file-type\n",
      "\n",
      "License: Attribution-ShareAlike 4.0 (https://creativecommons.org/licenses/by-sa/4.0/)\n",
      "\n",
      "Feel free to use and share the file according to the license above.\n"
     ]
    }
   ],
   "source": [
    "file = open(\"example.txt\")\n",
    "\n",
    "for i, line in enumerate(file, start = 1):\n",
    "    if i % 2 == 1 and i >= 7:\n",
    "        print(line)"
   ]
  },
  {
   "cell_type": "markdown",
   "id": "8bb12c7d",
   "metadata": {
    "pycharm": {
     "name": "#%% md\n"
    }
   },
   "source": [
    "## Task 4.2 sumForTwenty takes a variable var; it then checks if this variable var is a) 20 elements long and b) made only of floats or integers, through the typeCheck function; if all these conditions are met, it sums and prints the elements of the number list"
   ]
  },
  {
   "cell_type": "code",
   "execution_count": 2,
   "id": "0802180a",
   "metadata": {
    "pycharm": {
     "name": "#%%\n"
    }
   },
   "outputs": [
    {
     "name": "stdout",
     "output_type": "stream",
     "text": [
      "102.983\n",
      "List is not twenty elements!\n",
      "Not all elements are numbers!\n"
     ]
    }
   ],
   "source": [
    "def typeCheck(var):\n",
    "    boolVar = []\n",
    "    for element in var:\n",
    "        boolVar.append(isinstance(element, int) or isinstance(element, float))\n",
    "    return boolVar\n",
    "\n",
    "def sumForTwenty(numList):\n",
    "    if len(numList) == 20:\n",
    "        if all(typeCheck(numList)):\n",
    "            print(sum(numList))\n",
    "            return sum(numList)\n",
    "        else:\n",
    "            print(\"Not all elements are numbers!\")\n",
    "    else:\n",
    "        print(\"List is not twenty elements!\")\n",
    "\n",
    "list1 = [1,2,3,4,5,6,7,8,9,0,1,2,3,4,5.673,6,7,8,9,12.31]\n",
    "list2 = [1,4,6,7]\n",
    "list3 = [1,2,3,4,5,6,7,8,9,\"0\",1,2,3,4,5.673,6,7,8,9,12.31]\n",
    "\n",
    "sumForTwenty(list1)\n",
    "sumForTwenty(list2)\n",
    "sumForTwenty(list3)"
   ]
  },
  {
   "cell_type": "markdown",
   "id": "f5fb498c",
   "metadata": {
    "pycharm": {
     "name": "#%% md\n"
    }
   },
   "source": [
    "## Task 4.3 Takes a list strList and a variable N; it checks strList to make sure every element is a string and it checks the N to make sure it is an integer; if so, it prints a list of the string list \"numbered\" up to N times"
   ]
  },
  {
   "cell_type": "code",
   "execution_count": 3,
   "id": "fb1d98a9",
   "metadata": {
    "pycharm": {
     "name": "#%%\n"
    }
   },
   "outputs": [
    {
     "name": "stdout",
     "output_type": "stream",
     "text": [
      "['a0', 'b0', 'cat0', 'a1', 'b1', 'cat1', 'a2', 'b2', 'cat2', 'a3', 'b3', 'cat3', 'a4', 'b4', 'cat4']\n",
      "N is not an integer!\n",
      "Not a list of exclusively strings!\n"
     ]
    }
   ],
   "source": [
    "def duplicateNames(strList, N):\n",
    "    if all([isinstance(x, str) for x in strList]):\n",
    "        if isinstance(N, int):\n",
    "            return [str(x) + str(y) for y in range(N+1) for x in strList]\n",
    "        else:\n",
    "            return \"N is not an integer!\"\n",
    "    else:\n",
    "        return \"Not a list of exclusively strings!\"\n",
    "\n",
    "strList1 = ['a','b','cat']\n",
    "strList2 = ['a','b',20]\n",
    "n1 = 4\n",
    "n2 = 4.5\n",
    "\n",
    "print(duplicateNames(strList1, n1))\n",
    "print(duplicateNames(strList1, n2))\n",
    "print(duplicateNames(strList2, n1))"
   ]
  },
  {
   "cell_type": "markdown",
   "id": "1f0b2602",
   "metadata": {
    "pycharm": {
     "name": "#%% md\n"
    }
   },
   "source": [
    "## Task 4.4: Takes a dictionary of players to player-scores as an argument; creates a list of tuples for each dictionary item; it then sorts the tuples in the list by the value of the player-score; it then prints up to 3 of the best players"
   ]
  },
  {
   "cell_type": "code",
   "execution_count": 4,
   "id": "a80044cb",
   "metadata": {
    "pycharm": {
     "name": "#%%\n"
    }
   },
   "outputs": [
    {
     "name": "stdout",
     "output_type": "stream",
     "text": [
      "michael\n",
      "larry\n",
      "kobe\n",
      "kobe\n",
      "lebron\n"
     ]
    }
   ],
   "source": [
    "def top3Players(playerDict):\n",
    "    listTup = [i for i in playerDict.items()]\n",
    "    listTup = sorted(listTup, key = lambda y: y[1], reverse = True)\n",
    "    for count, player in enumerate(listTup):\n",
    "        if count < 3:\n",
    "            print(player[0])\n",
    "\n",
    "nba = {'lebron': 70, 'kobe': 80, 'stephen': 75, 'michael': 85, 'larry': 82}\n",
    "nba1 = {'lebron': 70, 'kobe': 80}\n",
    "top3Players(nba)\n",
    "\n",
    "top3Players(nba1)"
   ]
  }
 ],
 "metadata": {
  "kernelspec": {
   "display_name": "Python 3 (ipykernel)",
   "language": "python",
   "name": "python3"
  },
  "language_info": {
   "codemirror_mode": {
    "name": "ipython",
    "version": 3
   },
   "file_extension": ".py",
   "mimetype": "text/x-python",
   "name": "python",
   "nbconvert_exporter": "python",
   "pygments_lexer": "ipython3",
   "version": "3.7.9"
  }
 },
 "nbformat": 4,
 "nbformat_minor": 5
}