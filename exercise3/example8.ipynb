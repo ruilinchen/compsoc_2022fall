{
 "cells": [
  {
   "cell_type": "markdown",
   "source": [
    "# Assignment 3\n",
    "### [editted]"
   ],
   "metadata": {
    "collapsed": false,
    "pycharm": {
     "name": "#%% md\n"
    }
   }
  },
  {
   "cell_type": "markdown",
   "source": [
    "#### 3.1\n",
    "#####  Write a function that takes a list of numbers as input, finds the largest and smallest element of the list, and returns the largest element minus the smallest element as output."
   ],
   "metadata": {
    "collapsed": false,
    "pycharm": {
     "name": "#%% md\n"
    }
   }
  },
  {
   "cell_type": "code",
   "execution_count": 18,
   "outputs": [
    {
     "name": "stdout",
     "output_type": "stream",
     "text": [
      "\n",
      "\n",
      "list:  ['4', '8', '15', '16', '23', '42']\n",
      "Smallest number inputted: 4\n",
      "Largest number inputted: 42\n",
      "38\n"
     ]
    }
   ],
   "source": [
    "#input list\n",
    "input_numbers = input('Enter numbers separated by a space')\n",
    "print(\"\\n\")\n",
    "user_list = input_numbers.split()\n",
    "print('list: ', user_list)\n",
    "\n",
    "#change str list to int list\n",
    "for i in range(len(user_list)):\n",
    "    user_list[i] = int(user_list[i])\n",
    "\n",
    "# smallest and largest values\n",
    "print('Smallest number inputted:', min(user_list))\n",
    "a = min(user_list)\n",
    "print('Largest number inputted:', max(user_list))\n",
    "b = max(user_list)\n",
    "\n",
    "#subtraction formula\n",
    "result = b - a\n",
    "print(result)"
   ],
   "metadata": {
    "collapsed": false,
    "pycharm": {
     "name": "#%%\n"
    }
   }
  },
  {
   "cell_type": "markdown",
   "source": [
    "#### 3.2\n",
    "##### Write a function that takes two lists as input, combines them by alternatively taking their elements,\n",
    "##### e.g. [a,b,c], [1,2,3] → [a,1,b,2,c,3], and returns the combined list as output."
   ],
   "metadata": {
    "collapsed": false,
    "pycharm": {
     "name": "#%% md\n"
    }
   }
  },
  {
   "cell_type": "code",
   "execution_count": 19,
   "outputs": [
    {
     "name": "stdout",
     "output_type": "stream",
     "text": [
      "\n",
      "\n",
      "List 1:  ['4', '8', '15', '16', '23', '42']\n",
      "\n",
      "\n",
      "List 2:  ['a', 'b', 'c', 'd', 'e', 'f']\n",
      "Combined list:  [4, 'a', 8, 'b', 15, 'c', 16, 'd', 23, 'e', 42, 'f']\n"
     ]
    }
   ],
   "source": [
    "#input number list\n",
    "input_intlst = input('Enter numbers separated by a space')\n",
    "print(\"\\n\")\n",
    "intlst = input_intlst.split()\n",
    "print('List 1: ', intlst)\n",
    "\n",
    "#change list to integers again\n",
    "for i in range(len(intlst)):\n",
    "    intlst[i] = int(intlst[i])\n",
    "\n",
    "#input letters, keep as string\n",
    "input_strlst = input('Enter letters separated by a space')\n",
    "print(\"\\n\")\n",
    "strlst = input_strlst.split()\n",
    "print('List 2: ', strlst)\n",
    "\n",
    "#combine lists in alternating format\n",
    "list3 = [item for sublist in zip(intlst, strlst) for item in sublist]\n",
    "print('Combined list: ', list3)"
   ],
   "metadata": {
    "collapsed": false,
    "pycharm": {
     "name": "#%%\n"
    }
   }
  },
  {
   "cell_type": "markdown",
   "source": [
    "#### 3.3\n",
    "##### Write a function that takes a list as input, and returns a frequency table of the list in the format of a dictionary.\n",
    "##### Example: ['a', 'b', 'a'] -> {'a': 2, 'b': 1}"
   ],
   "metadata": {
    "collapsed": false,
    "pycharm": {
     "name": "#%% md\n"
    }
   }
  },
  {
   "cell_type": "code",
   "execution_count": 20,
   "outputs": [
    {
     "name": "stdout",
     "output_type": "stream",
     "text": [
      "\n",
      "\n",
      "list:  ['4', '4', '4', '4', '8', '15', '16', '23', '23', '23', '42', '42', '42']\n",
      " 4 :  4\n",
      " 8 :  1\n",
      " 15 :  1\n",
      " 16 :  1\n",
      " 23 :  3\n",
      " 42 :  3\n"
     ]
    }
   ],
   "source": [
    "#input list of numbers\n",
    "input_freqlist = input(\"Enter numbers separated by a space\")\n",
    "print(\"\\n\")\n",
    "freqlist = input_freqlist.split()\n",
    "print('list: ', freqlist)\n",
    "\n",
    "#change to integer again\n",
    "for i in range(len(freqlist)):\n",
    "    freqlist[i] = int(freqlist[i])\n",
    "\n",
    "#define frequency table function\n",
    "def countFrequency(freqlist):\n",
    "    freq = {}\n",
    "    for items in freqlist:\n",
    "        freq[items] = freqlist.count(items)\n",
    "    for key, value in freq.items():\n",
    "        print(\"% d : % d\"%(key, value))\n",
    "\n",
    "#run\n",
    "countFrequency(freqlist)"
   ],
   "metadata": {
    "collapsed": false,
    "pycharm": {
     "name": "#%%\n"
    }
   }
  },
  {
   "cell_type": "markdown",
   "source": [
    "#### 3.4\n",
    "##### Write a function that takes two lists as input, and returns another list that contains only the elements that are common between the two lists (without duplicates). Hint: Use `set` for this task."
   ],
   "metadata": {
    "collapsed": false,
    "pycharm": {
     "name": "#%% md\n"
    }
   }
  },
  {
   "cell_type": "code",
   "execution_count": 21,
   "outputs": [
    {
     "name": "stdout",
     "output_type": "stream",
     "text": [
      "\n",
      "\n",
      "list 1:  ['4', '8', '15', '16', '23', '42']\n",
      "\n",
      "\n",
      "list 2:  ['2', '4', '6', '8', '10', '12', '14', '16', '18', '20']\n",
      "Common elements between list 1 and list 2:  {8, 16, 4}\n"
     ]
    }
   ],
   "source": [
    "#input list 1\n",
    "input_list1 = input('Enter numbers separated by a space')\n",
    "print(\"\\n\")\n",
    "list1 = input_list1.split()\n",
    "print('list 1: ', list1)\n",
    "\n",
    "#convert list 1 to integer\n",
    "for i in range(len(list1)):\n",
    "    list1[i] = int(list1[i])\n",
    "\n",
    "#input list 2\n",
    "input_list2 = input('Enter numbers separated by a space')\n",
    "print(\"\\n\")\n",
    "list2 = input_list2.split()\n",
    "print('list 2: ', list2)\n",
    "\n",
    "#convert list 2 to integer\n",
    "for i in range(len(list2)):\n",
    "    list2[i] = int(list2[i])\n",
    "\n",
    "#using set to combine lists commonalities without duplicates\n",
    "list3 = set(list1) & set(list2)\n",
    "print('Common elements between list 1 and list 2: ', list3)"
   ],
   "metadata": {
    "collapsed": false,
    "pycharm": {
     "name": "#%%\n"
    }
   }
  }
 ],
 "metadata": {
  "kernelspec": {
   "name": "conda-env-compsoc-py",
   "language": "python",
   "display_name": "Python [conda env:compsoc] *"
  },
  "language_info": {
   "codemirror_mode": {
    "name": "ipython",
    "version": 2
   },
   "file_extension": ".py",
   "mimetype": "text/x-python",
   "name": "python",
   "nbconvert_exporter": "python",
   "pygments_lexer": "ipython2",
   "version": "2.7.6"
  }
 },
 "nbformat": 4,
 "nbformat_minor": 0
}