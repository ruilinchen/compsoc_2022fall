{
 "cells": [
  {
   "cell_type": "code",
   "execution_count": 1,
   "metadata": {
    "collapsed": true,
    "pycharm": {
     "name": "#%%\n"
    }
   },
   "outputs": [
    {
     "name": "stdout",
     "output_type": "stream",
     "text": [
      "10.0\n"
     ]
    }
   ],
   "source": [
    "# SumForFour Code\n",
    "\n",
    "def sff():\n",
    "    try:\n",
    "        a = float(input(\"Enter your first number\"))\n",
    "        b = float(input(\"Enter your second number\"))\n",
    "        c = float(input(\"Enter your third number\"))\n",
    "        d = float(input(\"Enter your fourth number\"))\n",
    "        numbers = [a,b,c,d]\n",
    "        added = sum(numbers)\n",
    "        print(added)\n",
    "    except:\n",
    "        print(\"Error! Please enter *numbers*\")\n",
    "\n",
    "sff()"
   ]
  },
  {
   "cell_type": "code",
   "execution_count": 21,
   "outputs": [
    {
     "name": "stdout",
     "output_type": "stream",
     "text": [
      "Warning! Number converted to integer\n",
      "15\n"
     ]
    }
   ],
   "source": [
    "#SumOnetoN\n",
    "\n",
    "def sonf():\n",
    "    num = float(input('Enter a number'))\n",
    "    sum = 0\n",
    "    if num - int(num) > 0:\n",
    "        num = int(float(num))\n",
    "        print('Warning! Number converted to integer')\n",
    "        while num > 0:\n",
    "            sum += num\n",
    "            num -= 1\n",
    "        print(sum)\n",
    "    elif num - int(num) == 0:\n",
    "        num = int(float(num))\n",
    "        while num > 0:\n",
    "            sum += num\n",
    "            num -= 1\n",
    "        print(sum)\n",
    "    else:\n",
    "        print('Error! Enter a number')\n",
    "\n",
    "sonf()"
   ],
   "metadata": {
    "collapsed": false,
    "pycharm": {
     "name": "#%%\n"
    }
   }
  },
  {
   "cell_type": "code",
   "execution_count": 7,
   "outputs": [
    {
     "data": {
      "text/plain": "0.9598167100802415"
     },
     "execution_count": 7,
     "metadata": {},
     "output_type": "execute_result"
    }
   ],
   "source": [
    "# Random code\n",
    "\n",
    "import random\n",
    "random.random()"
   ],
   "metadata": {
    "collapsed": false,
    "pycharm": {
     "name": "#%%\n"
    }
   }
  },
  {
   "cell_type": "markdown",
   "source": [
    "Random Code Questions\n",
    "(1) Random.random() pulls one pseudorandom number from 0 to 1 from the random module\n",
    "(2) The first random calls the random module and the second random is a random function\n",
    "(3) The '.' separates the module name from the function name. This format is called dot notation.\n",
    "(4) 'Import random' imports the random module so functions can be called from it."
   ],
   "metadata": {
    "collapsed": false,
    "pycharm": {
     "name": "#%% md\n"
    }
   }
  }
 ],
 "metadata": {
  "kernelspec": {
   "display_name": "Python 3",
   "language": "python",
   "name": "python3"
  },
  "language_info": {
   "codemirror_mode": {
    "name": "ipython",
    "version": 2
   },
   "file_extension": ".py",
   "mimetype": "text/x-python",
   "name": "python",
   "nbconvert_exporter": "python",
   "pygments_lexer": "ipython2",
   "version": "2.7.6"
  }
 },
 "nbformat": 4,
 "nbformat_minor": 0
}