{
 "cells": [
  {
   "cell_type": "code",
   "execution_count": 19,
   "id": "dac8dfd0",
   "metadata": {
    "pycharm": {
     "name": "#%%\n"
    }
   },
   "outputs": [
    {
     "name": "stdout",
     "output_type": "stream",
     "text": [
      "Please input a list of numbers seperated by spaces1 2 3\n",
      "The difference of this List is :  {2}\n"
     ]
    }
   ],
   "source": [
    "#Task 3.1\n",
    "#Taking a list of numbers as input\n",
    "\n",
    "number_list = input(\"Please input a list of numbers seperated by spaces\")\n",
    "user_list = number_list.split()\n",
    "\n",
    "#Finding the largest and the smallest\n",
    "\n",
    "a=int(max(user_list))\n",
    "\n",
    "b=int(min(user_list))\n",
    "\n",
    "difference = a-b\n",
    "\n",
    "#Returning the value of the largest minors the smallest as output\n",
    "\n",
    "print(\"The difference of this List is : \", {difference})"
   ]
  },
  {
   "cell_type": "code",
   "execution_count": 21,
   "id": "199ff0e9",
   "metadata": {
    "pycharm": {
     "name": "#%%\n"
    }
   },
   "outputs": [
    {
     "name": "stdout",
     "output_type": "stream",
     "text": [
      "Please input a list of numbers seperated by spaces0 1 2\n",
      "Please input another list of numbers seperated by spaces1 2 3\n",
      "['0' '1' '2' '1' '2' '3']\n"
     ]
    }
   ],
   "source": [
    "#Task 3.2\n",
    "#takes two lists as input\n",
    "number_list1 = input(\"Please input a list of numbers seperated by spaces\")\n",
    "user_list1 = number_list1.split()\n",
    "\n",
    "number_list2 = input(\"Please input another list of numbers seperated by spaces\")\n",
    "user_list2 = number_list2.split()\n",
    "\n",
    "#combines these two lists and print\n",
    "import numpy as np\n",
    "con = np.concatenate((user_list1, user_list2))\n",
    "\n",
    "print(con)"
   ]
  },
  {
   "cell_type": "code",
   "execution_count": 26,
   "id": "0fa92c04",
   "metadata": {
    "scrolled": true,
    "pycharm": {
     "name": "#%%\n"
    }
   },
   "outputs": [
    {
     "name": "stdout",
     "output_type": "stream",
     "text": [
      "Please input a list of numbers seperated by spaces1 1 2\n"
     ]
    },
    {
     "data": {
      "text/plain": [
       "1    2\n",
       "2    1\n",
       "dtype: int64"
      ]
     },
     "execution_count": 26,
     "metadata": {},
     "output_type": "execute_result"
    }
   ],
   "source": [
    "#Task 3.3\n",
    "# Takes a list as input\n",
    "numberlist3 = input(\"Please input a list of numbers seperated by spaces\")\n",
    "userlist3 = numberlist3.split()\n",
    "\n",
    "#returns a frequency table of the list\n",
    "import pandas as pd\n",
    "data = pd.Series(userlist3)\n",
    "data.value_counts()"
   ]
  },
  {
   "cell_type": "code",
   "execution_count": 39,
   "id": "daf1490f",
   "metadata": {
    "pycharm": {
     "name": "#%%\n"
    }
   },
   "outputs": [
    {
     "name": "stdout",
     "output_type": "stream",
     "text": [
      "Please input a list of numbers seperated by spaces1 2 2 3 4\n",
      "Please input another list of numbers seperated by spaces2 2 3 4\n",
      "['4', '2', '3']\n"
     ]
    }
   ],
   "source": [
    "#Task 3.4\n",
    "#takes two lists as input\n",
    "number_list4 = input(\"Please input a list of numbers seperated by spaces\")\n",
    "user_list4 = number_list4.split()\n",
    "\n",
    "number_list5 = input(\"Please input another list of numbers seperated by spaces\")\n",
    "user_list5 = number_list5.split()\n",
    "\n",
    "#returns another list that contains only the elements that are common between the two lists\n",
    "\n",
    "c=list(set(user_list4).intersection(user_list5))\n",
    "\n",
    "print(c)"
   ]
  },
  {
   "cell_type": "code",
   "execution_count": null,
   "id": "7d4720c0",
   "metadata": {
    "pycharm": {
     "name": "#%%\n"
    }
   },
   "outputs": [],
   "source": []
  }
 ],
 "metadata": {
  "kernelspec": {
   "display_name": "Python 3 (ipykernel)",
   "language": "python",
   "name": "python3"
  },
  "language_info": {
   "codemirror_mode": {
    "name": "ipython",
    "version": 3
   },
   "file_extension": ".py",
   "mimetype": "text/x-python",
   "name": "python",
   "nbconvert_exporter": "python",
   "pygments_lexer": "ipython3",
   "version": "3.9.12"
  }
 },
 "nbformat": 4,
 "nbformat_minor": 5
}