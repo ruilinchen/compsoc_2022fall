{
 "cells": [
  {
   "cell_type": "markdown",
   "source": [
    "# [editted]_Coding exercise 6"
   ],
   "metadata": {
    "collapsed": false,
    "pycharm": {
     "name": "#%% md\n"
    }
   }
  },
  {
   "cell_type": "markdown",
   "source": [
    "### Task 6.1\n",
    "##### Combine year 2019 and year 2020’s crime records into one pandas dataframe. Drop duplicates as well as any record that has missing values in the following columns: “INCIDENT_NUMBER”, “OFFENSE_CODE”, “DISTRICT”, “Long”, “Lat”, “SHOOTING”, “OCCURRED_ON_DATE”. Save the “cleaned” pandas dataframe to a separate csv file."
   ],
   "metadata": {
    "collapsed": false,
    "pycharm": {
     "name": "#%% md\n"
    }
   }
  },
  {
   "cell_type": "code",
   "execution_count": 4,
   "outputs": [
    {
     "name": "stderr",
     "output_type": "stream",
     "text": [
      "/var/folders/6j/g9631c1s65l0d3hl76jkmfc40000gn/T/ipykernel_7357/2550774197.py:5: DtypeWarning: Columns (0) have mixed types. Specify dtype option on import or set low_memory=False.\n",
      "  crime20192020_df = pd.concat(\n",
      "/var/folders/6j/g9631c1s65l0d3hl76jkmfc40000gn/T/ipykernel_7357/2550774197.py:5: DtypeWarning: Columns (0) have mixed types. Specify dtype option on import or set low_memory=False.\n",
      "  crime20192020_df = pd.concat(\n"
     ]
    },
    {
     "name": "stdout",
     "output_type": "stream",
     "text": [
      "       INCIDENT_NUMBER  OFFENSE_CODE  OFFENSE_CODE_GROUP  \\\n",
      "0            102091671          2647                 NaN   \n",
      "1            102095489          3115                 NaN   \n",
      "2            102096818          2905                 NaN   \n",
      "3            129099920          3301                 NaN   \n",
      "4            129099936          1106                 NaN   \n",
      "...                ...           ...                 ...   \n",
      "156754        20063425          3114                 NaN   \n",
      "156755        20062356          1107                 NaN   \n",
      "156756        20046400          1501                 NaN   \n",
      "156757        20038446          1501                 NaN   \n",
      "156758        20030892           540                 NaN   \n",
      "\n",
      "                                      OFFENSE_DESCRIPTION DISTRICT  \\\n",
      "0                               THREATS TO DO BODILY HARM       B3   \n",
      "1                                      INVESTIGATE PERSON      E18   \n",
      "2                             VAL - VIOLATION OF AUTO LAW       A1   \n",
      "3                                          VERBAL DISPUTE       B2   \n",
      "4                         FRAUD - CREDIT CARD / ATM FRAUD       B2   \n",
      "...                                                   ...      ...   \n",
      "156754                               INVESTIGATE PROPERTY       A7   \n",
      "156755                              FRAUD - IMPERSONATION      E18   \n",
      "156756  WEAPON VIOLATION - CARRY/ POSSESSING/ SALE/ TR...       B2   \n",
      "156757  WEAPON VIOLATION - CARRY/ POSSESSING/ SALE/ TR...       B2   \n",
      "156758                              BURGLARY - COMMERICAL      C11   \n",
      "\n",
      "       REPORTING_AREA  SHOOTING     OCCURRED_ON_DATE  YEAR  MONTH DAY_OF_WEEK  \\\n",
      "0                 417         0  2019-11-12 12:00:00  2019     11     Tuesday   \n",
      "1                 520         0  2019-11-25 16:30:00  2019     11      Monday   \n",
      "2                             0  2019-11-30 21:00:00  2019     11    Saturday   \n",
      "3                 330         0  2019-12-12 07:50:00  2019     12    Thursday   \n",
      "4                 288         0  2019-11-29 06:00:00  2019     11      Friday   \n",
      "...               ...       ...                  ...   ...    ...         ...   \n",
      "156754             21         0  2020-09-01 00:00:00  2020      9     Tuesday   \n",
      "156755            520         0  2020-08-28 18:39:00  2020      8      Friday   \n",
      "156756            330         0  2020-07-02 01:38:00  2020      7    Thursday   \n",
      "156757            300         0  2020-06-03 01:15:00  2020      6   Wednesday   \n",
      "156758            380         0  2020-05-03 00:00:00  2020      5      Sunday   \n",
      "\n",
      "        HOUR  UCR_PART                                             STREET  \\\n",
      "0         12       NaN                                            MORA ST   \n",
      "1         16       NaN                                         POYDRAS ST   \n",
      "2         21       NaN  SUDBURY ST & CAMBRIDGE ST\\nBOSTON  MA 02108\\nU...   \n",
      "3          7       NaN                                      COLUMBIA ROAD   \n",
      "4          6       NaN                                      WASHINGTON ST   \n",
      "...      ...       ...                                                ...   \n",
      "156754     0       NaN                                           PARIS ST   \n",
      "156755    18       NaN                                       RIVERSIDE SQ   \n",
      "156756     1       NaN                                        PASADENA RD   \n",
      "156757     1       NaN                                      WASHINGTON ST   \n",
      "156758     0       NaN                                      GALLIVAN BLVD   \n",
      "\n",
      "              Lat       Long                                  Location  \n",
      "0       42.282082 -71.073649   (42.28208197671972, -71.07364874515646)  \n",
      "1       42.256216 -71.124019  (42.256215920402155, -71.12401947329023)  \n",
      "2       42.360866 -71.061316   (42.360866027118476, -71.0613160019785)  \n",
      "3        0.000000   0.000000                                    (0, 0)  \n",
      "4       42.329748 -71.084540  (42.329748204791635, -71.08454011649543)  \n",
      "...           ...        ...                                       ...  \n",
      "156754  42.374427 -71.035279     (42.3744269722053, -71.0352787630199)  \n",
      "156755  42.256216 -71.124019     (42.2562159204022, -71.1240194732902)  \n",
      "156756  42.305761 -71.083772     (42.3057609263196, -71.0837715727385)  \n",
      "156757  42.323808 -71.089150     (42.3238077563779, -71.0891502345332)  \n",
      "156758  42.283700 -71.047761     (42.2837003080534, -71.0477614298657)  \n",
      "\n",
      "[156759 rows x 17 columns]\n"
     ]
    },
    {
     "name": "stderr",
     "output_type": "stream",
     "text": [
      "/var/folders/6j/g9631c1s65l0d3hl76jkmfc40000gn/T/ipykernel_7357/2550774197.py:11: DtypeWarning: Columns (0) have mixed types. Specify dtype option on import or set low_memory=False.\n",
      "  cleaned_data_df = pd.read_csv('cleaned_data.csv')\n"
     ]
    }
   ],
   "source": [
    "import os\n",
    "import pandas as pd\n",
    "path_homework6= \"/Users/apple/Documents/BC/SOCY7700/compSoc/homework 6\"\n",
    "os.chdir(path_homework6)\n",
    "crime20192020_df = pd.concat(\n",
    "    map(pd.read_csv, ['2019 Boston crime incident reports.csv', '2020 Boston crime incident reports.csv']), ignore_index=True)\n",
    "crime20192020_dropdu_df=crime20192020_df.drop_duplicates(subset=['INCIDENT_NUMBER', 'OFFENSE_CODE', 'DISTRICT', 'Long', 'Lat', 'SHOOTING', 'OCCURRED_ON_DATE'])\n",
    "cleaned_df=crime20192020_dropdu_df.dropna(how='any',subset=['INCIDENT_NUMBER', 'OFFENSE_CODE', 'DISTRICT', 'Long', 'Lat', 'SHOOTING', 'OCCURRED_ON_DATE'])\n",
    "cleaned_df.to_csv('cleaned_data.csv', index=False)\n",
    "\n",
    "cleaned_data_df = pd.read_csv('cleaned_data.csv')\n",
    "print(cleaned_data_df)\n"
   ],
   "metadata": {
    "collapsed": false,
    "pycharm": {
     "name": "#%%\n"
    }
   }
  },
  {
   "cell_type": "markdown",
   "source": [
    "### Task 6.2\n",
    "##### Read the csv file generated from Task 6.1 as a pandas dataframe. Use functions inside pandas to create a frequency table that counts the total number of crime incidents in Boston in each month from 2019 to 2020. Print this table."
   ],
   "metadata": {
    "collapsed": false,
    "pycharm": {
     "name": "#%% md\n"
    }
   }
  },
  {
   "cell_type": "code",
   "execution_count": 5,
   "outputs": [
    {
     "name": "stderr",
     "output_type": "stream",
     "text": [
      "/var/folders/6j/g9631c1s65l0d3hl76jkmfc40000gn/T/ipykernel_7357/451050494.py:4: DtypeWarning: Columns (0) have mixed types. Specify dtype option on import or set low_memory=False.\n",
      "  cleaned_data_df = pd.read_csv('cleaned_data.csv')\n"
     ]
    },
    {
     "data": {
      "text/plain": "YEAR   2019  2020\nMONTH            \n1      6933  6318\n2      6147  5874\n3      7065  5490\n4      6936  4362\n5      7763  5411\n6      7597  5897\n7      8036  6213\n8      8379  6507\n9      8133  6467\n10     6990  6741\n11     6338  5755\n12     5826  5581",
      "text/html": "<div>\n<style scoped>\n    .dataframe tbody tr th:only-of-type {\n        vertical-align: middle;\n    }\n\n    .dataframe tbody tr th {\n        vertical-align: top;\n    }\n\n    .dataframe thead th {\n        text-align: right;\n    }\n</style>\n<table border=\"1\" class=\"dataframe\">\n  <thead>\n    <tr style=\"text-align: right;\">\n      <th>YEAR</th>\n      <th>2019</th>\n      <th>2020</th>\n    </tr>\n    <tr>\n      <th>MONTH</th>\n      <th></th>\n      <th></th>\n    </tr>\n  </thead>\n  <tbody>\n    <tr>\n      <th>1</th>\n      <td>6933</td>\n      <td>6318</td>\n    </tr>\n    <tr>\n      <th>2</th>\n      <td>6147</td>\n      <td>5874</td>\n    </tr>\n    <tr>\n      <th>3</th>\n      <td>7065</td>\n      <td>5490</td>\n    </tr>\n    <tr>\n      <th>4</th>\n      <td>6936</td>\n      <td>4362</td>\n    </tr>\n    <tr>\n      <th>5</th>\n      <td>7763</td>\n      <td>5411</td>\n    </tr>\n    <tr>\n      <th>6</th>\n      <td>7597</td>\n      <td>5897</td>\n    </tr>\n    <tr>\n      <th>7</th>\n      <td>8036</td>\n      <td>6213</td>\n    </tr>\n    <tr>\n      <th>8</th>\n      <td>8379</td>\n      <td>6507</td>\n    </tr>\n    <tr>\n      <th>9</th>\n      <td>8133</td>\n      <td>6467</td>\n    </tr>\n    <tr>\n      <th>10</th>\n      <td>6990</td>\n      <td>6741</td>\n    </tr>\n    <tr>\n      <th>11</th>\n      <td>6338</td>\n      <td>5755</td>\n    </tr>\n    <tr>\n      <th>12</th>\n      <td>5826</td>\n      <td>5581</td>\n    </tr>\n  </tbody>\n</table>\n</div>"
     },
     "execution_count": 5,
     "metadata": {},
     "output_type": "execute_result"
    }
   ],
   "source": [
    "import pandas as pd\n",
    "import numpy as np\n",
    "\n",
    "cleaned_data_df = pd.read_csv('cleaned_data.csv')\n",
    "my_frequencytable=pd.crosstab(index=cleaned_data_df[\"MONTH\"],columns=cleaned_data_df[\"YEAR\"])\n",
    "my_frequencytable"
   ],
   "metadata": {
    "collapsed": false,
    "pycharm": {
     "name": "#%%\n"
    }
   }
  },
  {
   "cell_type": "markdown",
   "source": [
    "### Task 6.3\n",
    "##### Count the total number of crime incidents in each year by district (column “DISTRICT” in the data). Ignore DISTRACT with null value as well as value  “External”. Discuss the spatial distribution of crime. Do you see any significant difference between districts in terms of their crime counts?"
   ],
   "metadata": {
    "collapsed": false,
    "pycharm": {
     "name": "#%% md\n"
    }
   }
  },
  {
   "cell_type": "code",
   "execution_count": 1,
   "outputs": [
    {
     "name": "stdout",
     "output_type": "stream",
     "text": [
      "DISTRICT  YEAR\n",
      "A1        2019     9936\n",
      "          2020     7013\n",
      "A15       2019     1889\n",
      "          2020     1600\n",
      "A7        2019     3400\n",
      "          2020     3141\n",
      "B2        2019    13030\n",
      "          2020    10442\n",
      "B3        2019     9591\n",
      "          2020     7828\n",
      "C11       2019    11022\n",
      "          2020     8992\n",
      "C6        2019     6286\n",
      "          2020     5440\n",
      "D14       2019     5704\n",
      "          2020     4756\n",
      "D4        2019    11276\n",
      "          2020     9283\n",
      "E13       2019     4928\n",
      "          2020     4103\n",
      "E18       2019     5197\n",
      "          2020     4177\n",
      "E5        2019     3807\n",
      "          2020     3595\n",
      "External  2019       77\n",
      "          2020      246\n",
      "Name: INCIDENT_NUMBER, dtype: int64\n"
     ]
    },
    {
     "name": "stderr",
     "output_type": "stream",
     "text": [
      "/var/folders/6j/g9631c1s65l0d3hl76jkmfc40000gn/T/ipykernel_9707/2803115260.py:7: DtypeWarning: Columns (0) have mixed types. Specify dtype option on import or set low_memory=False.\n",
      "  cleaned_data_df = pd.read_csv('cleaned_data.csv')\n"
     ]
    }
   ],
   "source": [
    "import os\n",
    "import numpy\n",
    "import pandas as pd\n",
    "path_homework6= \"/Users/apple/Documents/BC/SOCY7700/compSoc/homework 6\"\n",
    "os.chdir(path_homework6)\n",
    "\n",
    "cleaned_data_df = pd.read_csv('cleaned_data.csv')\n",
    "\n",
    "n_by_year_district = cleaned_data_df.groupby([\"DISTRICT\",\"YEAR\"])[\"INCIDENT_NUMBER\"].count()\n",
    "print(n_by_year_district)"
   ],
   "metadata": {
    "collapsed": false,
    "pycharm": {
     "name": "#%%\n"
    }
   }
  },
  {
   "cell_type": "markdown",
   "source": [
    "##### Discuss the spatial distribution of crime. Do you see any significant difference between districts in terms of their crime counts?\n",
    "* The crime counts in A1,B2,B3,C11,D4 are much greater than in other districts.\n",
    "* In general, in E area, the crime counts are much smaller than in other areas.\n",
    "* The crime counts are much greater in each district in B area."
   ],
   "metadata": {
    "collapsed": false,
    "pycharm": {
     "name": "#%% md\n"
    }
   }
  },
  {
   "cell_type": "code",
   "execution_count": null,
   "outputs": [],
   "source": [],
   "metadata": {
    "collapsed": false,
    "pycharm": {
     "name": "#%%\n"
    }
   }
  }
 ],
 "metadata": {
  "kernelspec": {
   "display_name": "Python 3",
   "language": "python",
   "name": "python3"
  },
  "language_info": {
   "codemirror_mode": {
    "name": "ipython",
    "version": 2
   },
   "file_extension": ".py",
   "mimetype": "text/x-python",
   "name": "python",
   "nbconvert_exporter": "python",
   "pygments_lexer": "ipython2",
   "version": "2.7.6"
  }
 },
 "nbformat": 4,
 "nbformat_minor": 0
}