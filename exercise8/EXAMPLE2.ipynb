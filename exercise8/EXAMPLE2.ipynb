{
 "cells": [
  {
   "cell_type": "markdown",
   "id": "74b63952",
   "metadata": {
    "pycharm": {
     "name": "#%% md\n"
    }
   },
   "source": [
    "#### Task 8.1 Create a bubble map for property crimes in Boston, 2019. Each bubble represents one property crime incident. Your map should look something like this example (Links to an external site.) online. ####"
   ]
  },
  {
   "cell_type": "code",
   "execution_count": 2,
   "id": "a3719101",
   "metadata": {
    "scrolled": true,
    "pycharm": {
     "name": "#%%\n"
    }
   },
   "outputs": [
    {
     "ename": "FileNotFoundError",
     "evalue": "[Errno 2] No such file or directory: '/Users/[editted]/Documents/compsoc/code/boston_crime2019'",
     "output_type": "error",
     "traceback": [
      "\u001B[0;31m---------------------------------------------------------------------------\u001B[0m",
      "\u001B[0;31mFileNotFoundError\u001B[0m                         Traceback (most recent call last)",
      "Input \u001B[0;32mIn [2]\u001B[0m, in \u001B[0;36m<cell line: 14>\u001B[0;34m()\u001B[0m\n\u001B[1;32m     10\u001B[0m \u001B[38;5;28;01mfrom\u001B[39;00m \u001B[38;5;21;01mfolium\u001B[39;00m \u001B[38;5;28;01mimport\u001B[39;00m Choropleth, Circle, Marker\n\u001B[1;32m     11\u001B[0m \u001B[38;5;28;01mfrom\u001B[39;00m \u001B[38;5;21;01mfolium\u001B[39;00m\u001B[38;5;21;01m.\u001B[39;00m\u001B[38;5;21;01mplugins\u001B[39;00m \u001B[38;5;28;01mimport\u001B[39;00m HeatMap, MarkerCluster\n\u001B[0;32m---> 14\u001B[0m \u001B[43mos\u001B[49m\u001B[38;5;241;43m.\u001B[39;49m\u001B[43mchdir\u001B[49m\u001B[43m(\u001B[49m\u001B[38;5;124;43m'\u001B[39;49m\u001B[38;5;124;43m/Users/[editted]/Documents/compsoc/code/boston_crime2019\u001B[39;49m\u001B[38;5;124;43m'\u001B[39;49m\u001B[43m)\u001B[49m\n\u001B[1;32m     16\u001B[0m \u001B[38;5;66;03m# use cleaned 2019 crime data and create variables of interest\u001B[39;00m\n\u001B[1;32m     17\u001B[0m cleaned_crime_df\u001B[38;5;241m=\u001B[39mpd\u001B[38;5;241m.\u001B[39mread_csv(\u001B[38;5;124m'\u001B[39m\u001B[38;5;124mdf_clean.csv\u001B[39m\u001B[38;5;124m'\u001B[39m,low_memory\u001B[38;5;241m=\u001B[39m\u001B[38;5;28;01mFalse\u001B[39;00m)\n",
      "\u001B[0;31mFileNotFoundError\u001B[0m: [Errno 2] No such file or directory: '/Users/[editted]/Documents/compsoc/code/boston_crime2019'"
     ]
    }
   ],
   "source": [
    "# import packages and cd\n",
    "import geopandas as gpd\n",
    "import pandas as pd\n",
    "import os\n",
    "import seaborn as sns\n",
    "import folium\n",
    "import random\n",
    "\n",
    "\n",
    "from folium import Choropleth, Circle, Marker\n",
    "from folium.plugins import HeatMap, MarkerCluster\n",
    "\n",
    "\n",
    "os.chdir('/Users/[editted]/Documents/compsoc/code/boston_crime2019')\n",
    "\n",
    "# use cleaned 2019 crime data and create variables of interest\n",
    "cleaned_crime_df=pd.read_csv('df_clean.csv',low_memory=False)\n",
    "cleaned_crime_df.head() \n",
    "\n",
    "cleaned_crime_df['offense_type'] = None\n",
    "cleaned_crime_df['offense_type'][cleaned_crime_df['OFFENSE_DESCRIPTION'].str.lower().str.contains('robbery|assault|rape')] = 'violent crime'\n",
    "cleaned_crime_df['offense_type'][cleaned_crime_df['OFFENSE_DESCRIPTION'].str.lower().str.contains('burglary|larceny|theft|arson')] = 'property crime'\n",
    "\n",
    "cleaned_crime_df\n",
    "\n",
    "#construct geometry from lat/lon and convert pandas to geopandas\n",
    "gpd.points_from_xy(cleaned_crime_df['Long'], cleaned_crime_df['Lat'])\n",
    "\n",
    "crime_gdf = gpd.GeoDataFrame(cleaned_crime_df, geometry=gpd.points_from_xy(cleaned_crime_df['Long'], cleaned_crime_df['Lat']))\n",
    "\n",
    "crime_gdf.head()\n",
    "\n",
    "#keep only property crime 2019 data \n",
    "propcrime_gdf=crime_gdf.loc[crime_gdf['offense_type']=='property crime']\n",
    "propcrime_gdf=propcrime_gdf.loc[propcrime_gdf['YEAR']==2019]\n",
    "\n",
    "print(propcrime_gdf.shape) #data size from 151895 to 12897\n",
    "propcrime_gdf\n",
    "\n"
   ]
  },
  {
   "cell_type": "code",
   "execution_count": null,
   "id": "48b74c5b",
   "metadata": {
    "pycharm": {
     "name": "#%%\n"
    }
   },
   "outputs": [],
   "source": [
    "#map \n",
    "\n",
    "propcrime_gdf = propcrime_gdf[propcrime_gdf['Long'] < 0].reset_index()\n",
    "\n",
    "clon, clat = propcrime_gdf['Long'].mean(), propcrime_gdf['Lat'].mean()\n",
    "m = folium.Map(location=(clat, clon), zoom_start=12, width=800, height=800)\n",
    "\n",
    "\n",
    "for i in range(len(propcrime_gdf)):\n",
    "    crime_long, crime_lat = propcrime_gdf.loc[i, 'Long'], propcrime_gdf.loc[i, 'Lat']\n",
    "    folium.CircleMarker((crime_lat, crime_long), opacity=0.2, color='red',fill_color='red', weight=0.2, radius=0.1).add_to(m)\n",
    "\n",
    "display(m)\n"
   ]
  },
  {
   "cell_type": "markdown",
   "id": "915e57f9",
   "metadata": {
    "pycharm": {
     "name": "#%% md\n"
    }
   },
   "source": [
    "#### Task 8.2 Create another bubble map for violent crimes in Boston, 2019. Use a different map design (marker color, tile style, etc). ####"
   ]
  },
  {
   "cell_type": "code",
   "execution_count": null,
   "id": "1e457ff0",
   "metadata": {
    "pycharm": {
     "name": "#%%\n"
    }
   },
   "outputs": [],
   "source": [
    "# keep only 2019 violent crime data point\n",
    "viocrime_gdf=crime_gdf.loc[crime_gdf['offense_type']=='violent crime']\n",
    "viocrime_gdf=viocrime_gdf[viocrime_gdf['YEAR']==2019]\n",
    "\n",
    "print(viocrime_gdf.shape) #data size from 151895 to 8002\n",
    "viocrime_gdf\n"
   ]
  },
  {
   "cell_type": "code",
   "execution_count": null,
   "id": "262c8f79",
   "metadata": {
    "pycharm": {
     "name": "#%%\n"
    }
   },
   "outputs": [],
   "source": [
    "# map\n",
    "viocrime_gdf = viocrime_gdf[viocrime_gdf['Long'] < 0].reset_index()\n",
    "\n",
    "clon, clat = viocrime_gdf['Long'].mean(), viocrime_gdf['Lat'].mean()\n",
    "map2 = folium.Map(location=(clat, clon), zoom_start=12, width=800, height=400, tiles=\"Cartodb Positron\")\n",
    "\n",
    "for i in range(len(viocrime_gdf)):\n",
    "    crime_long, crime_lat = viocrime_gdf.loc[i, 'Long'], viocrime_gdf.loc[i, 'Lat']\n",
    "    folium.CircleMarker((crime_lat, crime_long), opacity=0.2, color='blue',fill_color='blue', weight=0.2, radius=0.1).add_to(map2)\n"
   ]
  },
  {
   "cell_type": "code",
   "execution_count": null,
   "id": "ced2f812",
   "metadata": {
    "pycharm": {
     "name": "#%%\n"
    }
   },
   "outputs": [],
   "source": [
    "map2"
   ]
  },
  {
   "cell_type": "markdown",
   "id": "4b8f8e60",
   "metadata": {
    "pycharm": {
     "name": "#%% md\n"
    }
   },
   "source": [
    "#### Task 8.3 Calculate zoning district-level violent vs. property crime counts. Use boston's zoning map from here (Links to an external site.) to map individual crime incidents to zoning district. Create a bubble map for these two sets of counts. There should be two sets of bubbles in your map. One set represents district-level violent crime counts, and the other set district-level property crime counts. These two bubble sets should be colored differently, but the size of the bubble for both sets should indicate the relative size of the crime count. Use each district’s centroid location to place their bubbles on the map. [Hint: in geopandas,  `gdf[“geometry”].centroid` returns the centroid point of the corresponding geometry.] #### \n"
   ]
  },
  {
   "cell_type": "code",
   "execution_count": null,
   "id": "941f9024",
   "metadata": {
    "pycharm": {
     "name": "#%%\n"
    }
   },
   "outputs": [],
   "source": [
    "# read boston district data\n",
    "boston_gdf = gpd.read_file('Boston_Zoning_Subdistricts.geojson')\n",
    "print(boston_gdf.shape)\n",
    "print(boston_gdf.columns)\n",
    "boston_gdf.head()\n",
    "\n",
    "# spatial join: point within polygon\n",
    "crime_with_zone_gdf = gpd.sjoin(crime_gdf, boston_gdf, predicate=\"within\", how='left')\n",
    "\n",
    "crime_with_zone_gdf=crime_with_zone_gdf[crime_with_zone_gdf['YEAR']==2019] #keep only 2019 data\n",
    "\n",
    "# check basic data characteristcs \n",
    "crime_with_zone_gdf.head()\n",
    "print(crime_with_zone_gdf.columns)\n",
    "print(crime_with_zone_gdf.shape)\n",
    "\n",
    "# Calculate zoning district-level violent vs. property crime counts\n",
    "crime_by_district = crime_with_zone_gdf.groupby(['offense_type', 'OBJECTID']).agg({'INCIDENT_NUMBER': 'count'}).reset_index()\n",
    "crime_by_district['OBJECTID'] = crime_by_district['OBJECTID'].astype(int)\n",
    "crime_by_district\n",
    "\n",
    "crime_count_gdf = boston_gdf[['OBJECTID', 'geometry']].merge(crime_by_district, how='inner', on='OBJECTID')\n",
    "\n",
    "\n",
    "crime_count_points = crime_count_gdf.copy()\n",
    "crime_count_points['geometry'] = crime_count_points['geometry'].centroid\n"
   ]
  },
  {
   "cell_type": "code",
   "execution_count": null,
   "id": "1f6df91e",
   "metadata": {
    "pycharm": {
     "name": "#%%\n"
    }
   },
   "outputs": [],
   "source": [
    "import plotly.express as px\n",
    "import matplotlib.pyplot as plt\n",
    "\n",
    "crime_count_points_4326 = crime_count_points.to_crs(\"EPSG:4326\")\n",
    "fig = px.scatter_mapbox(crime_count_points_4326, \n",
    "                        lat=crime_count_points_4326.geometry.y, \n",
    "                        lon=crime_count_points_4326.geometry.x, \n",
    "                        size=\"INCIDENT_NUMBER\", \n",
    "                        color=\"offense_type\", \n",
    "                        hover_name = \"INCIDENT_NUMBER\",\n",
    "                  color_continuous_scale=px.colors.colorbrewer.Reds,  \n",
    "                        size_max=15, \n",
    "                        zoom=10\n",
    "                    )\n",
    "fig.update_layout(mapbox_style=\"carto-positron\")\n",
    "# fig.show()\n",
    "\n",
    "\n",
    "\n",
    "# alternative way\n",
    "# fig, ax = plt.subplots(figsize=(16,16))\n",
    "# crime_count_gdf.plot(ax=ax, color=\"lightgray\", edgecolor=\"grey\", linewidth=0.4)\n",
    "# crime_count_points.plot(ax=ax,color=\"red\", markersize=\"INCIDENT_NUMBER\",alpha=0.7, categorical=False, legend=True)\n",
    "# ax.axis(\"off\")\n",
    "# plt.axis('equal')\n",
    "# plt.show()\n"
   ]
  },
  {
   "cell_type": "code",
   "execution_count": null,
   "id": "cd86f780",
   "metadata": {
    "pycharm": {
     "name": "#%%\n"
    }
   },
   "outputs": [],
   "source": []
  }
 ],
 "metadata": {
  "kernelspec": {
   "display_name": "Python 3",
   "language": "python",
   "name": "python3"
  },
  "language_info": {
   "codemirror_mode": {
    "name": "ipython",
    "version": 3
   },
   "file_extension": ".py",
   "mimetype": "text/x-python",
   "name": "python",
   "nbconvert_exporter": "python",
   "pygments_lexer": "ipython3",
   "version": "3.8.8"
  }
 },
 "nbformat": 4,
 "nbformat_minor": 5
}