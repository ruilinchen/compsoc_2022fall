{
 "cells": [
  {
   "cell_type": "markdown",
   "metadata": {
    "id": "5T6w8qmTRme_",
    "pycharm": {
     "name": "#%% md\n"
    }
   },
   "source": [
    "## Exercise 10\n",
    "[editted]\n",
    "\n",
    "Download the `MA_cbg_human_mobility_2019.zip` file from Canvas under `Files/datasets`. Unzip it and use the `MA_cbg2cbg_2019_01.csv` file to finish the following tasks. Submit a jupyter notebook with your code and the plots. "
   ]
  },
  {
   "cell_type": "code",
   "execution_count": null,
   "metadata": {
    "colab": {
     "base_uri": "https://localhost:8080/"
    },
    "executionInfo": {
     "elapsed": 22806,
     "status": "ok",
     "timestamp": 1665428526727,
     "user": {
      "displayName": "Betul Ozturan",
      "userId": "11515916381327684305"
     },
     "user_tz": 240
    },
    "id": "cwhEtOIIRi_S",
    "outputId": "1344d1da-e812-4e95-96b7-eb6b043f14ea",
    "pycharm": {
     "name": "#%%\n"
    }
   },
   "outputs": [
    {
     "name": "stdout",
     "output_type": "stream",
     "text": [
      "Mounted at /content/gdrive\n"
     ]
    }
   ],
   "source": [
    "from google.colab import drive\n",
    "drive.mount('/content/gdrive')"
   ]
  },
  {
   "cell_type": "code",
   "execution_count": 32,
   "metadata": {
    "id": "AkBN5AvqRT-Q",
    "pycharm": {
     "name": "#%%\n"
    }
   },
   "outputs": [],
   "source": [
    "import pandas as pd\n",
    "import os \n"
   ]
  },
  {
   "cell_type": "code",
   "execution_count": null,
   "metadata": {
    "id": "1REm6B6JY_Yv",
    "pycharm": {
     "name": "#%%\n"
    }
   },
   "outputs": [],
   "source": [
    "import networkx as nx"
   ]
  },
  {
   "cell_type": "code",
   "execution_count": 6,
   "metadata": {
    "id": "Rvaif5BAQ1Cy",
    "pycharm": {
     "name": "#%%\n"
    }
   },
   "outputs": [],
   "source": [
    "humanmob_df = pd.read_csv('~/Downloads/MA_cbg2cbg_2019_01.csv')"
   ]
  },
  {
   "cell_type": "code",
   "execution_count": 19,
   "metadata": {
    "colab": {
     "base_uri": "https://localhost:8080/",
     "height": 204
    },
    "executionInfo": {
     "elapsed": 301,
     "status": "ok",
     "timestamp": 1665436353854,
     "user": {
      "displayName": "Betul Ozturan",
      "userId": "11515916381327684305"
     },
     "user_tz": 240
    },
    "id": "bvPkLxwcX_4X",
    "outputId": "bbccdc58-b088-42a7-a846-526d5ca27a4a",
    "pycharm": {
     "name": "#%%\n"
    }
   },
   "outputs": [
    {
     "data": {
      "text/html": [
       "<div>\n",
       "<style scoped>\n",
       "    .dataframe tbody tr th:only-of-type {\n",
       "        vertical-align: middle;\n",
       "    }\n",
       "\n",
       "    .dataframe tbody tr th {\n",
       "        vertical-align: top;\n",
       "    }\n",
       "\n",
       "    .dataframe thead th {\n",
       "        text-align: right;\n",
       "    }\n",
       "</style>\n",
       "<table border=\"1\" class=\"dataframe\">\n",
       "  <thead>\n",
       "    <tr style=\"text-align: right;\">\n",
       "      <th></th>\n",
       "      <th>poi_cbg</th>\n",
       "      <th>year_month</th>\n",
       "      <th>raw_device_counts</th>\n",
       "      <th>visitor_census_tract</th>\n",
       "      <th>visitor_count</th>\n",
       "    </tr>\n",
       "  </thead>\n",
       "  <tbody>\n",
       "    <tr>\n",
       "      <th>0</th>\n",
       "      <td>250250303003</td>\n",
       "      <td>2019_1</td>\n",
       "      <td>19187</td>\n",
       "      <td>250250303003</td>\n",
       "      <td>413</td>\n",
       "    </tr>\n",
       "    <tr>\n",
       "      <th>1</th>\n",
       "      <td>250250303003</td>\n",
       "      <td>2019_1</td>\n",
       "      <td>19187</td>\n",
       "      <td>250251010016</td>\n",
       "      <td>182</td>\n",
       "    </tr>\n",
       "    <tr>\n",
       "      <th>2</th>\n",
       "      <td>250250303003</td>\n",
       "      <td>2019_1</td>\n",
       "      <td>19187</td>\n",
       "      <td>440070008003</td>\n",
       "      <td>122</td>\n",
       "    </tr>\n",
       "    <tr>\n",
       "      <th>3</th>\n",
       "      <td>250250303003</td>\n",
       "      <td>2019_1</td>\n",
       "      <td>19187</td>\n",
       "      <td>250250923002</td>\n",
       "      <td>121</td>\n",
       "    </tr>\n",
       "    <tr>\n",
       "      <th>4</th>\n",
       "      <td>250250303003</td>\n",
       "      <td>2019_1</td>\n",
       "      <td>19187</td>\n",
       "      <td>250173686001</td>\n",
       "      <td>112</td>\n",
       "    </tr>\n",
       "  </tbody>\n",
       "</table>\n",
       "</div>"
      ],
      "text/plain": [
       "        poi_cbg year_month  raw_device_counts  visitor_census_tract  \\\n",
       "0  250250303003     2019_1              19187          250250303003   \n",
       "1  250250303003     2019_1              19187          250251010016   \n",
       "2  250250303003     2019_1              19187          440070008003   \n",
       "3  250250303003     2019_1              19187          250250923002   \n",
       "4  250250303003     2019_1              19187          250173686001   \n",
       "\n",
       "   visitor_count  \n",
       "0            413  \n",
       "1            182  \n",
       "2            122  \n",
       "3            121  \n",
       "4            112  "
      ]
     },
     "execution_count": 19,
     "metadata": {},
     "output_type": "execute_result"
    }
   ],
   "source": [
    "humanmob_df.head()"
   ]
  },
  {
   "cell_type": "markdown",
   "metadata": {
    "id": "xp2XmBbYQ2ax",
    "pycharm": {
     "name": "#%% md\n"
    }
   },
   "source": [
    "\n",
    "## Task 1. \n",
    "Create a human mobility network for MA using the provided csv file.          \n",
    "\n",
    "network node: individual census block group (neighborhood) in MA\n",
    "\n",
    "\n",
    "network edge: residents from one neighborhood visiting another\n",
    "\n",
    "weight of network tie: percentage of residents from one neighborhood visiting another         \n",
    "\n",
    "How many nodes and edges are there in your network? \n",
    "\n"
   ]
  },
  {
   "cell_type": "code",
   "execution_count": 34,
   "metadata": {
    "pycharm": {
     "name": "#%%\n"
    }
   },
   "outputs": [],
   "source": [
    "grouped = humanmob_df.groupby(['poi_cbg' , 'visitor_census_tract']).size()\n"
   ]
  },
  {
   "cell_type": "code",
   "execution_count": 35,
   "metadata": {
    "pycharm": {
     "name": "#%%\n"
    }
   },
   "outputs": [
    {
     "data": {
      "text/plain": [
       "poi_cbg       visitor_census_tract\n",
       "250010101001  60372761002             1\n",
       "              60730020012             1\n",
       "              60971539021             1\n",
       "              80050068552             1\n",
       "              90010207003             1\n",
       "                                     ..\n",
       "250277614006  490111254032            1\n",
       "              500070001002            1\n",
       "              500070030001            1\n",
       "              511076102012            1\n",
       "              511159513004            1\n",
       "Length: 840593, dtype: int64"
      ]
     },
     "execution_count": 35,
     "metadata": {},
     "output_type": "execute_result"
    }
   ],
   "source": [
    "grouped"
   ]
  },
  {
   "cell_type": "code",
   "execution_count": 11,
   "metadata": {
    "id": "0Za7k0DAZYOw",
    "pycharm": {
     "name": "#%%\n"
    }
   },
   "outputs": [],
   "source": [
    "import networkx as nx\n",
    "G = nx.Graph()"
   ]
  },
  {
   "cell_type": "code",
   "execution_count": 12,
   "metadata": {
    "id": "D6znTWRDZaTO",
    "pycharm": {
     "name": "#%%\n"
    }
   },
   "outputs": [],
   "source": [
    "for i in range(len(humanmob_df)):\n",
    "    origin_cbg = humanmob_df.loc[i, 'poi_cbg']\n",
    "    destination_cbg = humanmob_df.loc[i, 'visitor_census_tract']\n",
    "    total_residents_in_origin = humanmob_df.loc[i, 'raw_device_counts']\n",
    "    num_visitor = humanmob_df.loc[i, 'visitor_count']\n",
    "    percent_visitor = num_visitor / total_residents_in_origin\n",
    "    #print(origin_cbg, destination_cbg, percent_visitor)\n",
    "    # add an edge/tie between two neighborhoods with weight being percentage of residents from one neighborhood visiting another\n",
    "    G.add_edge(origin_cbg, destination_cbg, weight=percent_visitor)\n",
    "    # G.remove_edge(origin_cbg, destination_cbg) # removing edge"
   ]
  },
  {
   "cell_type": "markdown",
   "metadata": {
    "id": "RhWmixRdjE-7",
    "pycharm": {
     "name": "#%% md\n"
    }
   },
   "source": [
    "Task 2. Calculate weighted node degree and unweighted node degree for each census block group in the mobility network and use the results to create a pandas dataframe. The dataframe should have three columns. One column stores the census block group id, and the other two the two calculated node degrees. "
   ]
  },
  {
   "cell_type": "code",
   "execution_count": 37,
   "metadata": {
    "pycharm": {
     "name": "#%%\n"
    }
   },
   "outputs": [],
   "source": [
    "GU = nx.Graph()\n",
    "origin_cbg_ = []\n",
    "for i in range(len(humanmob_df)):\n",
    "    origin_cbg= humanmob_df.loc[i, 'poi_cbg']\n",
    "    origin_cbg_.append(origin_cbg)\n",
    "    destination_cbg = humanmob_df.loc[i, 'visitor_census_tract']\n",
    "    total_residents_in_origin = humanmob_df.loc[i, 'raw_device_counts']\n",
    "    num_visitor = humanmob_df.loc[i, 'visitor_count']\n",
    "    percent_visitor = num_visitor / total_residents_in_origin\n",
    "    #print(origin_cbg, destination_cbg, percent_visitor)\n",
    "    # add an edge/tie between two neighborhoods with weight being percentage of residents from one neighborhood visiting another\n",
    "    GU.add_edge(origin_cbg, destination_cbg)\n",
    "    # G.remove_edge(origin_cbg, destination_cbg) # removing edge"
   ]
  },
  {
   "cell_type": "code",
   "execution_count": 25,
   "metadata": {
    "pycharm": {
     "name": "#%%\n"
    }
   },
   "outputs": [
    {
     "data": {
      "text/plain": [
       "3217"
      ]
     },
     "execution_count": 25,
     "metadata": {},
     "output_type": "execute_result"
    }
   ],
   "source": [
    "degrees_un = [val for (node, val) in GU.degree()]\n",
    "degrees_un[4]\n"
   ]
  },
  {
   "cell_type": "code",
   "execution_count": 26,
   "metadata": {
    "pycharm": {
     "name": "#%%\n"
    }
   },
   "outputs": [
    {
     "data": {
      "text/plain": [
       "3217"
      ]
     },
     "execution_count": 26,
     "metadata": {},
     "output_type": "execute_result"
    }
   ],
   "source": [
    "degrees = [val for (node, val) in G.degree()]\n",
    "degrees[4]"
   ]
  },
  {
   "cell_type": "code",
   "execution_count": 38,
   "metadata": {
    "pycharm": {
     "name": "#%%\n"
    }
   },
   "outputs": [
    {
     "ename": "ValueError",
     "evalue": "Length of values (40292) does not match length of index (840593)",
     "output_type": "error",
     "traceback": [
      "\u001B[0;31m---------------------------------------------------------------------------\u001B[0m",
      "\u001B[0;31mValueError\u001B[0m                                Traceback (most recent call last)",
      "Cell \u001B[0;32mIn [38], line 3\u001B[0m\n\u001B[1;32m      1\u001B[0m data \u001B[38;5;241m=\u001B[39m pd\u001B[38;5;241m.\u001B[39mDataFrame()\n\u001B[1;32m      2\u001B[0m data[\u001B[38;5;124m'\u001B[39m\u001B[38;5;124mid\u001B[39m\u001B[38;5;124m'\u001B[39m] \u001B[38;5;241m=\u001B[39m origin_cbg_ \n\u001B[0;32m----> 3\u001B[0m \u001B[43mdata\u001B[49m\u001B[43m[\u001B[49m\u001B[38;5;124;43m'\u001B[39;49m\u001B[38;5;124;43mdegree_w\u001B[39;49m\u001B[38;5;124;43m'\u001B[39;49m\u001B[43m]\u001B[49m \u001B[38;5;241m=\u001B[39m degrees\n\u001B[1;32m      4\u001B[0m data[\u001B[38;5;124m'\u001B[39m\u001B[38;5;124munweighted\u001B[39m\u001B[38;5;124m'\u001B[39m] \u001B[38;5;241m=\u001B[39m degrees_un\n\u001B[1;32m      5\u001B[0m data\n",
      "File \u001B[0;32m~/Library/Python/3.9/lib/python/site-packages/pandas/core/frame.py:3978\u001B[0m, in \u001B[0;36mDataFrame.__setitem__\u001B[0;34m(self, key, value)\u001B[0m\n\u001B[1;32m   3975\u001B[0m     \u001B[39mself\u001B[39m\u001B[39m.\u001B[39m_setitem_array([key], value)\n\u001B[1;32m   3976\u001B[0m \u001B[39melse\u001B[39;00m:\n\u001B[1;32m   3977\u001B[0m     \u001B[39m# set column\u001B[39;00m\n\u001B[0;32m-> 3978\u001B[0m     \u001B[39mself\u001B[39;49m\u001B[39m.\u001B[39;49m_set_item(key, value)\n",
      "File \u001B[0;32m~/Library/Python/3.9/lib/python/site-packages/pandas/core/frame.py:4172\u001B[0m, in \u001B[0;36mDataFrame._set_item\u001B[0;34m(self, key, value)\u001B[0m\n\u001B[1;32m   4162\u001B[0m \u001B[39mdef\u001B[39;00m \u001B[39m_set_item\u001B[39m(\u001B[39mself\u001B[39m, key, value) \u001B[39m-\u001B[39m\u001B[39m>\u001B[39m \u001B[39mNone\u001B[39;00m:\n\u001B[1;32m   4163\u001B[0m     \u001B[39m\"\"\"\u001B[39;00m\n\u001B[1;32m   4164\u001B[0m \u001B[39m    Add series to DataFrame in specified column.\u001B[39;00m\n\u001B[1;32m   4165\u001B[0m \n\u001B[0;32m   (...)\u001B[0m\n\u001B[1;32m   4170\u001B[0m \u001B[39m    ensure homogeneity.\u001B[39;00m\n\u001B[1;32m   4171\u001B[0m \u001B[39m    \"\"\"\u001B[39;00m\n\u001B[0;32m-> 4172\u001B[0m     value \u001B[39m=\u001B[39m \u001B[39mself\u001B[39;49m\u001B[39m.\u001B[39;49m_sanitize_column(value)\n\u001B[1;32m   4174\u001B[0m     \u001B[39mif\u001B[39;00m (\n\u001B[1;32m   4175\u001B[0m         key \u001B[39min\u001B[39;00m \u001B[39mself\u001B[39m\u001B[39m.\u001B[39mcolumns\n\u001B[1;32m   4176\u001B[0m         \u001B[39mand\u001B[39;00m value\u001B[39m.\u001B[39mndim \u001B[39m==\u001B[39m \u001B[39m1\u001B[39m\n\u001B[1;32m   4177\u001B[0m         \u001B[39mand\u001B[39;00m \u001B[39mnot\u001B[39;00m is_extension_array_dtype(value)\n\u001B[1;32m   4178\u001B[0m     ):\n\u001B[1;32m   4179\u001B[0m         \u001B[39m# broadcast across multiple columns if necessary\u001B[39;00m\n\u001B[1;32m   4180\u001B[0m         \u001B[39mif\u001B[39;00m \u001B[39mnot\u001B[39;00m \u001B[39mself\u001B[39m\u001B[39m.\u001B[39mcolumns\u001B[39m.\u001B[39mis_unique \u001B[39mor\u001B[39;00m \u001B[39misinstance\u001B[39m(\u001B[39mself\u001B[39m\u001B[39m.\u001B[39mcolumns, MultiIndex):\n",
      "File \u001B[0;32m~/Library/Python/3.9/lib/python/site-packages/pandas/core/frame.py:4905\u001B[0m, in \u001B[0;36mDataFrame._sanitize_column\u001B[0;34m(self, value)\u001B[0m\n\u001B[1;32m   4902\u001B[0m     \u001B[39mreturn\u001B[39;00m _reindex_for_setitem(Series(value), \u001B[39mself\u001B[39m\u001B[39m.\u001B[39mindex)\n\u001B[1;32m   4904\u001B[0m \u001B[39mif\u001B[39;00m is_list_like(value):\n\u001B[0;32m-> 4905\u001B[0m     com\u001B[39m.\u001B[39;49mrequire_length_match(value, \u001B[39mself\u001B[39;49m\u001B[39m.\u001B[39;49mindex)\n\u001B[1;32m   4906\u001B[0m \u001B[39mreturn\u001B[39;00m sanitize_array(value, \u001B[39mself\u001B[39m\u001B[39m.\u001B[39mindex, copy\u001B[39m=\u001B[39m\u001B[39mTrue\u001B[39;00m, allow_2d\u001B[39m=\u001B[39m\u001B[39mTrue\u001B[39;00m)\n",
      "File \u001B[0;32m~/Library/Python/3.9/lib/python/site-packages/pandas/core/common.py:561\u001B[0m, in \u001B[0;36mrequire_length_match\u001B[0;34m(data, index)\u001B[0m\n\u001B[1;32m    557\u001B[0m \u001B[39m\"\"\"\u001B[39;00m\n\u001B[1;32m    558\u001B[0m \u001B[39mCheck the length of data matches the length of the index.\u001B[39;00m\n\u001B[1;32m    559\u001B[0m \u001B[39m\"\"\"\u001B[39;00m\n\u001B[1;32m    560\u001B[0m \u001B[39mif\u001B[39;00m \u001B[39mlen\u001B[39m(data) \u001B[39m!=\u001B[39m \u001B[39mlen\u001B[39m(index):\n\u001B[0;32m--> 561\u001B[0m     \u001B[39mraise\u001B[39;00m \u001B[39mValueError\u001B[39;00m(\n\u001B[1;32m    562\u001B[0m         \u001B[39m\"\u001B[39m\u001B[39mLength of values \u001B[39m\u001B[39m\"\u001B[39m\n\u001B[1;32m    563\u001B[0m         \u001B[39mf\u001B[39m\u001B[39m\"\u001B[39m\u001B[39m(\u001B[39m\u001B[39m{\u001B[39;00m\u001B[39mlen\u001B[39m(data)\u001B[39m}\u001B[39;00m\u001B[39m) \u001B[39m\u001B[39m\"\u001B[39m\n\u001B[1;32m    564\u001B[0m         \u001B[39m\"\u001B[39m\u001B[39mdoes not match length of index \u001B[39m\u001B[39m\"\u001B[39m\n\u001B[1;32m    565\u001B[0m         \u001B[39mf\u001B[39m\u001B[39m\"\u001B[39m\u001B[39m(\u001B[39m\u001B[39m{\u001B[39;00m\u001B[39mlen\u001B[39m(index)\u001B[39m}\u001B[39;00m\u001B[39m)\u001B[39m\u001B[39m\"\u001B[39m\n\u001B[1;32m    566\u001B[0m     )\n",
      "\u001B[0;31mValueError\u001B[0m: Length of values (40292) does not match length of index (840593)"
     ]
    }
   ],
   "source": [
    "data = pd.DataFrame()\n",
    "data['id'] = origin_cbg_ \n",
    "data['degree_w'] = degrees\n",
    "data['unweighted'] = degrees_un\n",
    "data"
   ]
  },
  {
   "cell_type": "markdown",
   "metadata": {
    "id": "Soz-ET9LjIid",
    "pycharm": {
     "name": "#%% md\n"
    }
   },
   "source": [
    "Task 3. Create a plot that visualizes the distribution of the weighted node degrees. Is the human mobility network a scale-free network? In other words, does the degree distribution follow a power law? "
   ]
  },
  {
   "cell_type": "code",
   "execution_count": 17,
   "metadata": {
    "pycharm": {
     "name": "#%%\n"
    }
   },
   "outputs": [
    {
     "data": {
      "image/png": "[encoded data removed]",
      "text/plain": [
       "<Figure size 400x300 with 1 Axes>"
      ]
     },
     "metadata": {},
     "output_type": "display_data"
    }
   ],
   "source": [
    "import matplotlib.pyplot as plt\n",
    "import numpy as np\n",
    "kmin = min(degrees)\n",
    "kmax = max(degrees) \n",
    "\n",
    "\n",
    "  # Get 10 logarithmically spaced bins between kmin and kmax\n",
    "bin_edges = np.logspace(np.log10(kmin), np.log10(kmax), num=30)\n",
    "\n",
    "  # histogram the data into these bins\n",
    "density, _ = np.histogram(degrees, bins=bin_edges, density=True)\n",
    "\n",
    "\n",
    "fig, ax = plt.subplots(figsize=(4,3))#,dpi=200\n",
    "  # \"x\" should be midpoint (IN LOG SPACE) of each bin\n",
    "log_be = np.log10(bin_edges)\n",
    "x = 10 ** ((log_be[:-1] + log_be[1:]) / 2)\n",
    "\n",
    "plt.title(\"Log-Log Degree Distribution\")\n",
    "plt.loglog(x, density, marker='o',linestyle='none',label='degree')\n",
    "\n",
    "plt.xlabel(r\"degree $k$\", fontsize=16)\n",
    "plt.ylabel(r\"$P(k)$\", fontsize=16)\n",
    "# remove right and top boundaries because they're ugly\n",
    "#ax.spines['right'].set_visible(False)\n",
    "#ax.spines['top'].set_visible(False)\n",
    "  # Show the plot\n",
    "\n",
    "plt.show()"
   ]
  },
  {
   "cell_type": "markdown",
   "metadata": {
    "pycharm": {
     "name": "#%% md\n"
    }
   },
   "source": [
    "Yes, not a pure power law but we see the pattern."
   ]
  },
  {
   "cell_type": "markdown",
   "metadata": {
    "id": "SflBJ9cZjkA2",
    "pycharm": {
     "name": "#%% md\n"
    }
   },
   "source": [
    "Bonus task: Does this network follow the “six degrees of separation” principle? Find out ways to analyze the network to answer this question. [1 extra point]"
   ]
  },
  {
   "cell_type": "code",
   "execution_count": 39,
   "metadata": {
    "pycharm": {
     "name": "#%%\n"
    }
   },
   "outputs": [
    {
     "ename": "KeyboardInterrupt",
     "evalue": "",
     "output_type": "error",
     "traceback": [
      "\u001B[0;31m---------------------------------------------------------------------------\u001B[0m",
      "\u001B[0;31mKeyboardInterrupt\u001B[0m                         Traceback (most recent call last)",
      "Cell \u001B[0;32mIn [39], line 1\u001B[0m\n\u001B[0;32m----> 1\u001B[0m \u001B[38;5;28mprint\u001B[39m(\u001B[43mnx\u001B[49m\u001B[38;5;241;43m.\u001B[39;49m\u001B[43maverage_shortest_path_length\u001B[49m\u001B[43m(\u001B[49m\u001B[43mG\u001B[49m\u001B[43m)\u001B[49m)\n",
      "File \u001B[0;32m~/Library/Python/3.9/lib/python/site-packages/networkx/algorithms/shortest_paths/generic.py:417\u001B[0m, in \u001B[0;36maverage_shortest_path_length\u001B[0;34m(G, weight, method)\u001B[0m\n\u001B[1;32m    413\u001B[0m         \u001B[39mreturn\u001B[39;00m nx\u001B[39m.\u001B[39msingle_source_bellman_ford_path_length(G, v, weight\u001B[39m=\u001B[39mweight)\n\u001B[1;32m    415\u001B[0m \u001B[39mif\u001B[39;00m method \u001B[39min\u001B[39;00m single_source_methods:\n\u001B[1;32m    416\u001B[0m     \u001B[39m# Sum the distances for each (ordered) pair of source and target node.\u001B[39;00m\n\u001B[0;32m--> 417\u001B[0m     s \u001B[39m=\u001B[39m \u001B[39msum\u001B[39;49m(l \u001B[39mfor\u001B[39;49;00m u \u001B[39min\u001B[39;49;00m G \u001B[39mfor\u001B[39;49;00m l \u001B[39min\u001B[39;49;00m path_length(u)\u001B[39m.\u001B[39;49mvalues())\n\u001B[1;32m    418\u001B[0m \u001B[39melse\u001B[39;00m:\n\u001B[1;32m    419\u001B[0m     \u001B[39mif\u001B[39;00m method \u001B[39m==\u001B[39m \u001B[39m\"\u001B[39m\u001B[39mfloyd-warshall\u001B[39m\u001B[39m\"\u001B[39m:\n",
      "File \u001B[0;32m~/Library/Python/3.9/lib/python/site-packages/networkx/algorithms/shortest_paths/generic.py:417\u001B[0m, in \u001B[0;36m<genexpr>\u001B[0;34m(.0)\u001B[0m\n\u001B[1;32m    413\u001B[0m         \u001B[39mreturn\u001B[39;00m nx\u001B[39m.\u001B[39msingle_source_bellman_ford_path_length(G, v, weight\u001B[39m=\u001B[39mweight)\n\u001B[1;32m    415\u001B[0m \u001B[39mif\u001B[39;00m method \u001B[39min\u001B[39;00m single_source_methods:\n\u001B[1;32m    416\u001B[0m     \u001B[39m# Sum the distances for each (ordered) pair of source and target node.\u001B[39;00m\n\u001B[0;32m--> 417\u001B[0m     s \u001B[39m=\u001B[39m \u001B[39msum\u001B[39m(l \u001B[39mfor\u001B[39;00m u \u001B[39min\u001B[39;00m G \u001B[39mfor\u001B[39;00m l \u001B[39min\u001B[39;00m path_length(u)\u001B[39m.\u001B[39mvalues())\n\u001B[1;32m    418\u001B[0m \u001B[39melse\u001B[39;00m:\n\u001B[1;32m    419\u001B[0m     \u001B[39mif\u001B[39;00m method \u001B[39m==\u001B[39m \u001B[39m\"\u001B[39m\u001B[39mfloyd-warshall\u001B[39m\u001B[39m\"\u001B[39m:\n",
      "File \u001B[0;32m~/Library/Python/3.9/lib/python/site-packages/networkx/algorithms/shortest_paths/generic.py:409\u001B[0m, in \u001B[0;36maverage_shortest_path_length.<locals>.path_length\u001B[0;34m(v)\u001B[0m\n\u001B[1;32m    407\u001B[0m \u001B[39mdef\u001B[39;00m \u001B[39mpath_length\u001B[39m(v):\n\u001B[1;32m    408\u001B[0m     \u001B[39mif\u001B[39;00m method \u001B[39m==\u001B[39m \u001B[39m\"\u001B[39m\u001B[39munweighted\u001B[39m\u001B[39m\"\u001B[39m:\n\u001B[0;32m--> 409\u001B[0m         \u001B[39mreturn\u001B[39;00m nx\u001B[39m.\u001B[39;49msingle_source_shortest_path_length(G, v)\n\u001B[1;32m    410\u001B[0m     \u001B[39melif\u001B[39;00m method \u001B[39m==\u001B[39m \u001B[39m\"\u001B[39m\u001B[39mdijkstra\u001B[39m\u001B[39m\"\u001B[39m:\n\u001B[1;32m    411\u001B[0m         \u001B[39mreturn\u001B[39;00m nx\u001B[39m.\u001B[39msingle_source_dijkstra_path_length(G, v, weight\u001B[39m=\u001B[39mweight)\n",
      "File \u001B[0;32m~/Library/Python/3.9/lib/python/site-packages/networkx/algorithms/shortest_paths/unweighted.py:59\u001B[0m, in \u001B[0;36msingle_source_shortest_path_length\u001B[0;34m(G, source, cutoff)\u001B[0m\n\u001B[1;32m     57\u001B[0m     cutoff \u001B[39m=\u001B[39m \u001B[39mfloat\u001B[39m(\u001B[39m\"\u001B[39m\u001B[39minf\u001B[39m\u001B[39m\"\u001B[39m)\n\u001B[1;32m     58\u001B[0m nextlevel \u001B[39m=\u001B[39m {source: \u001B[39m1\u001B[39m}\n\u001B[0;32m---> 59\u001B[0m \u001B[39mreturn\u001B[39;00m \u001B[39mdict\u001B[39;49m(_single_shortest_path_length(G\u001B[39m.\u001B[39;49madj, nextlevel, cutoff))\n",
      "File \u001B[0;32m~/Library/Python/3.9/lib/python/site-packages/networkx/algorithms/shortest_paths/unweighted.py:91\u001B[0m, in \u001B[0;36m_single_shortest_path_length\u001B[0;34m(adj, firstlevel, cutoff)\u001B[0m\n\u001B[1;32m     89\u001B[0m         \u001B[39mreturn\u001B[39;00m\n\u001B[1;32m     90\u001B[0m     \u001B[39mfor\u001B[39;00m v \u001B[39min\u001B[39;00m found:\n\u001B[0;32m---> 91\u001B[0m         nextlevel\u001B[39m.\u001B[39;49mupdate(adj[v])\n\u001B[1;32m     92\u001B[0m     level \u001B[39m+\u001B[39m\u001B[39m=\u001B[39m \u001B[39m1\u001B[39m\n\u001B[1;32m     93\u001B[0m \u001B[39mdel\u001B[39;00m seen\n",
      "\u001B[0;31mKeyboardInterrupt\u001B[0m: "
     ]
    }
   ],
   "source": [
    "print(nx.average_shortest_path_length(G)) # I believe this will igve the result but it took so long\n",
    "#if it is equal to or less than 6, this newtork follow six degrees of separation"
   ]
  }
 ],
 "metadata": {
  "colab": {
   "authorship_tag": "ABX9TyPhma/DNf7954C5u7wvQp5I",
   "provenance": []
  },
  "kernelspec": {
   "display_name": "Python 3.9.6 64-bit",
   "language": "python",
   "name": "python3"
  },
  "language_info": {
   "codemirror_mode": {
    "name": "ipython",
    "version": 3
   },
   "file_extension": ".py",
   "mimetype": "text/x-python",
   "name": "python",
   "nbconvert_exporter": "python",
   "pygments_lexer": "ipython3",
   "version": "3.9.6"
  },
  "vscode": {
   "interpreter": {
    "hash": "31f2aee4e71d21fbe5cf8b01ff0e069b9275f58929596ceb00d14d90e3e16cd6"
   }
  }
 },
 "nbformat": 4,
 "nbformat_minor": 0
}