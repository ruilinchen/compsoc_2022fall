{
 "cells": [
  {
   "cell_type": "markdown",
   "id": "41895191",
   "metadata": {
    "pycharm": {
     "name": "#%% md\n"
    }
   },
   "source": [
    "## Task 5.1 Opens the relevant zip file, then prints each contained csv file + relative directory (excluding the hidden '__MACOSX' folder), separated by a new line"
   ]
  },
  {
   "cell_type": "code",
   "execution_count": 1,
   "id": "dcca8a5c",
   "metadata": {
    "pycharm": {
     "name": "#%%\n"
    }
   },
   "outputs": [
    {
     "name": "stdout",
     "output_type": "stream",
     "text": [
      "MA_cbg_human_mobility_2019/MA_cbg2cbg_2019_09.csv\n",
      "MA_cbg_human_mobility_2019/MA_cbg2cbg_2019_08.csv\n",
      "MA_cbg_human_mobility_2019/MA_cbg2cbg_2019_03.csv\n",
      "MA_cbg_human_mobility_2019/MA_cbg2cbg_2019_02.csv\n",
      "MA_cbg_human_mobility_2019/MA_cbg2cbg_2019_01.csv\n",
      "MA_cbg_human_mobility_2019/MA_cbg2cbg_2019_05.csv\n",
      "MA_cbg_human_mobility_2019/MA_cbg2cbg_2019_11.csv\n",
      "MA_cbg_human_mobility_2019/MA_cbg2cbg_2019_10.csv\n",
      "MA_cbg_human_mobility_2019/MA_cbg2cbg_2019_04.csv\n",
      "MA_cbg_human_mobility_2019/MA_cbg2cbg_2019_12.csv\n",
      "MA_cbg_human_mobility_2019/MA_cbg2cbg_2019_06.csv\n",
      "MA_cbg_human_mobility_2019/MA_cbg2cbg_2019_07.csv\n"
     ]
    }
   ],
   "source": [
    "import zipfile as zf\n",
    "\n",
    "with zf.ZipFile('MA_cbg_human_mobility_2019.zip','r') as f:\n",
    "    print(*[i for i in f.namelist() if '.csv' in i if 'MACOSX' not in i], sep='\\n')"
   ]
  },
  {
   "cell_type": "markdown",
   "id": "18a675d9",
   "metadata": {
    "pycharm": {
     "name": "#%% md\n"
    }
   },
   "source": [
    "## Task 5.2 Goes through the human mobility folder, starts a row count, then increments the row count by the number of rows contained in each csv "
   ]
  },
  {
   "cell_type": "code",
   "execution_count": 2,
   "id": "d5ccd712",
   "metadata": {
    "pycharm": {
     "name": "#%%\n"
    }
   },
   "outputs": [
    {
     "data": {
      "text/plain": [
       "12108558"
      ]
     },
     "execution_count": 2,
     "metadata": {},
     "output_type": "execute_result"
    }
   ],
   "source": [
    "import os\n",
    "import csv\n",
    "\n",
    "def rowReader():\n",
    "    home = './MA_cbg_human_mobility_2019'\n",
    "    row_count = 0\n",
    "    for i in os.listdir(path=home):\n",
    "        if '.csv' in i:\n",
    "            with open(os.path.join(home,i), 'r') as f:\n",
    "                csvf = csv.reader(f)\n",
    "                row_count += sum(1 for row in csvf)\n",
    "    return row_count\n",
    "\n",
    "rowReader()\n",
    "            "
   ]
  },
  {
   "cell_type": "markdown",
   "id": "fd27dfb8",
   "metadata": {
    "pycharm": {
     "name": "#%% md\n"
    }
   },
   "source": [
    "## Task 5.3 Adjusts the program from 5.2 to maintain a dictionary that logs each csv file and its row count. It returns this dictionary, which is then written to a json file in the home directory and printed for the user"
   ]
  },
  {
   "cell_type": "code",
   "execution_count": 3,
   "id": "99a934f6",
   "metadata": {
    "pycharm": {
     "name": "#%%\n"
    }
   },
   "outputs": [
    {
     "name": "stdout",
     "output_type": "stream",
     "text": [
      "{\n",
      "  \"MA_cbg2cbg_2019_01.csv\": 840594,\n",
      "  \"MA_cbg2cbg_2019_02.csv\": 818862,\n",
      "  \"MA_cbg2cbg_2019_03.csv\": 914654,\n",
      "  \"MA_cbg2cbg_2019_04.csv\": 1011375,\n",
      "  \"MA_cbg2cbg_2019_05.csv\": 1088295,\n",
      "  \"MA_cbg2cbg_2019_06.csv\": 1120697,\n",
      "  \"MA_cbg2cbg_2019_07.csv\": 1119933,\n",
      "  \"MA_cbg2cbg_2019_08.csv\": 1194285,\n",
      "  \"MA_cbg2cbg_2019_09.csv\": 1136954,\n",
      "  \"MA_cbg2cbg_2019_10.csv\": 1010778,\n",
      "  \"MA_cbg2cbg_2019_11.csv\": 901469,\n",
      "  \"MA_cbg2cbg_2019_12.csv\": 950662\n",
      "}\n"
     ]
    }
   ],
   "source": [
    "import json\n",
    "\n",
    "def rowReader2():\n",
    "    home = './MA_cbg_human_mobility_2019'\n",
    "    csvDict = {}\n",
    "    for i in os.listdir(path=home):\n",
    "        if '.csv' in i:\n",
    "            with open(os.path.join(home,i), 'r') as f:\n",
    "                csvf = csv.reader(f)\n",
    "                csvDict.update({i:sum(1 for row in csvf)})\n",
    "    return csvDict\n",
    "\n",
    "cDict = rowReader2()\n",
    "with open('human_mobility_2019.json','w') as f:\n",
    "    csv_json = json.dump(cDict, f)\n",
    "print(json.dumps(cDict, indent=2))"
   ]
  }
 ],
 "metadata": {
  "kernelspec": {
   "display_name": "Python 3 (ipykernel)",
   "language": "python",
   "name": "python3"
  },
  "language_info": {
   "codemirror_mode": {
    "name": "ipython",
    "version": 3
   },
   "file_extension": ".py",
   "mimetype": "text/x-python",
   "name": "python",
   "nbconvert_exporter": "python",
   "pygments_lexer": "ipython3",
   "version": "3.7.9"
  }
 },
 "nbformat": 4,
 "nbformat_minor": 5
}