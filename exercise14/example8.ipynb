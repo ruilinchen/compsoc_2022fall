{
 "cells": [
  {
   "cell_type": "markdown",
   "id": "e765dc16",
   "metadata": {
    "pycharm": {
     "name": "#%% md\n"
    }
   },
   "source": [
    "# Coding Exercise 14\n",
    "The following exercise using the 'yelp_academic_dataset_review_Nov3033_small.jsonl' file to complete the following task."
   ]
  },
  {
   "cell_type": "markdown",
   "id": "534b5b4c",
   "metadata": {
    "pycharm": {
     "name": "#%% md\n"
    }
   },
   "source": [
    "## Task 1\n",
    "For each review use 'spacytextblob'and its inherent document-level scores to get the polarity score of the text. Create a violinplot with the x-axis being individual reviews' star rating and the y-axis being the calculated polarity scores. Interpret the results."
   ]
  },
  {
   "cell_type": "code",
   "execution_count": 40,
   "id": "5f0bdfa2",
   "metadata": {
    "scrolled": true,
    "pycharm": {
     "name": "#%%\n"
    }
   },
   "outputs": [
    {
     "data": {
      "text/plain": [
       "<spacytextblob.spacytextblob.SpacyTextBlob at 0x7feb3180e520>"
      ]
     },
     "execution_count": 40,
     "metadata": {},
     "output_type": "execute_result"
    }
   ],
   "source": [
    "import spacy\n",
    "nlp = spacy.load('en_core_web_sm')\n",
    "from spacytextblob.spacytextblob import SpacyTextBlob\n",
    "nlp.add_pipe('spacytextblob')"
   ]
  },
  {
   "cell_type": "code",
   "execution_count": 41,
   "id": "6dad965a",
   "metadata": {
    "pycharm": {
     "name": "#%%\n"
    }
   },
   "outputs": [],
   "source": [
    "import json\n",
    "\n",
    "with open('yelp_academic_dataset_review_Nov2022_small.jsonl', 'r') as f:\n",
    "    ratings=[]\n",
    "    polarity_scores=[]\n",
    "    subjective_scores=[]\n",
    "    review_ids=[]\n",
    "    subjective_phrases=[]\n",
    "    for line in f:\n",
    "        review_dict = json.loads(line)\n",
    "        review = review_dict['text']\n",
    "        rating = review_dict['stars']\n",
    "        review_id = review_dict['review_id']\n",
    "        review_doc = nlp(review)\n",
    "        subjective_phrases_in_doc = []\n",
    "        polarity_score = 0\n",
    "        subjective_score = 0\n",
    "        for assess_tuple in review_doc._.blob.sentiment_assessments.assessments:\n",
    "            subjective_phrases_in_doc.append(' '.join(assess_tuple[0]))\n",
    "            polarity_score += assess_tuple[1]\n",
    "            subjective_score += assess_tuple[2]\n",
    "        ratings.append(rating)\n",
    "        polarity_scores.append(polarity_score)\n",
    "        subjective_scores.append(subjective_score)\n",
    "        review_ids.append(review_id)\n",
    "        subjective_phrases.append(subjective_phrases_in_doc)"
   ]
  },
  {
   "cell_type": "code",
   "execution_count": 42,
   "id": "99cd317c",
   "metadata": {
    "pycharm": {
     "name": "#%%\n"
    }
   },
   "outputs": [
    {
     "data": {
      "text/html": [
       "<div>\n",
       "<style scoped>\n",
       "    .dataframe tbody tr th:only-of-type {\n",
       "        vertical-align: middle;\n",
       "    }\n",
       "\n",
       "    .dataframe tbody tr th {\n",
       "        vertical-align: top;\n",
       "    }\n",
       "\n",
       "    .dataframe thead th {\n",
       "        text-align: right;\n",
       "    }\n",
       "</style>\n",
       "<table border=\"1\" class=\"dataframe\">\n",
       "  <thead>\n",
       "    <tr style=\"text-align: right;\">\n",
       "      <th></th>\n",
       "      <th>review_id</th>\n",
       "      <th>rating</th>\n",
       "      <th>polarity_score</th>\n",
       "      <th>subjective_score</th>\n",
       "      <th>subjective_phrases</th>\n",
       "    </tr>\n",
       "  </thead>\n",
       "  <tbody>\n",
       "    <tr>\n",
       "      <th>0</th>\n",
       "      <td>KU_O5udG6zpxOg-VcAEodg</td>\n",
       "      <td>3.0</td>\n",
       "      <td>1.023333</td>\n",
       "      <td>5.148333</td>\n",
       "      <td>[aware, multiple !, other, bad, good, very lon...</td>\n",
       "    </tr>\n",
       "    <tr>\n",
       "      <th>1</th>\n",
       "      <td>BiTunyQ73aT9WBnpR9DZGw</td>\n",
       "      <td>5.0</td>\n",
       "      <td>4.425000</td>\n",
       "      <td>6.283333</td>\n",
       "      <td>[nice, clean, amazing, top, fit, easy, advance...</td>\n",
       "    </tr>\n",
       "    <tr>\n",
       "      <th>2</th>\n",
       "      <td>saUsX_uimxRlCVr67Z4Jig</td>\n",
       "      <td>3.0</td>\n",
       "      <td>1.539286</td>\n",
       "      <td>5.745238</td>\n",
       "      <td>[large, chicken, fresh, good, mexican, long, f...</td>\n",
       "    </tr>\n",
       "    <tr>\n",
       "      <th>3</th>\n",
       "      <td>AqPFMleE6RsU23_auESxiA</td>\n",
       "      <td>5.0</td>\n",
       "      <td>2.420455</td>\n",
       "      <td>5.704545</td>\n",
       "      <td>[wow !, different, delicious, favorite, differ...</td>\n",
       "    </tr>\n",
       "    <tr>\n",
       "      <th>4</th>\n",
       "      <td>Sx8TMOWLNuJBWer-0pcmoA</td>\n",
       "      <td>4.0</td>\n",
       "      <td>5.613571</td>\n",
       "      <td>6.872857</td>\n",
       "      <td>[cute, great, beautiful, very good, very, real...</td>\n",
       "    </tr>\n",
       "    <tr>\n",
       "      <th>...</th>\n",
       "      <td>...</td>\n",
       "      <td>...</td>\n",
       "      <td>...</td>\n",
       "      <td>...</td>\n",
       "      <td>...</td>\n",
       "    </tr>\n",
       "    <tr>\n",
       "      <th>9995</th>\n",
       "      <td>ZcBtCA9jGhLfakf1jJ2BAg</td>\n",
       "      <td>5.0</td>\n",
       "      <td>1.800000</td>\n",
       "      <td>1.875000</td>\n",
       "      <td>[excellent, same, great]</td>\n",
       "    </tr>\n",
       "    <tr>\n",
       "      <th>9996</th>\n",
       "      <td>UIkEO-10J6Y99IhRqUflvg</td>\n",
       "      <td>5.0</td>\n",
       "      <td>0.600000</td>\n",
       "      <td>0.900000</td>\n",
       "      <td>[amazing]</td>\n",
       "    </tr>\n",
       "    <tr>\n",
       "      <th>9997</th>\n",
       "      <td>S-NQM3Axcg8JS3MXHUIvyw</td>\n",
       "      <td>5.0</td>\n",
       "      <td>1.097727</td>\n",
       "      <td>6.900758</td>\n",
       "      <td>[outstanding !, great !, other, new, new, bad ...</td>\n",
       "    </tr>\n",
       "    <tr>\n",
       "      <th>9998</th>\n",
       "      <td>ME79YrEhm2xe4IQy_0zkGw</td>\n",
       "      <td>5.0</td>\n",
       "      <td>2.812500</td>\n",
       "      <td>4.800000</td>\n",
       "      <td>[nice, calm, dimly, red, loved, pretty !, grea...</td>\n",
       "    </tr>\n",
       "    <tr>\n",
       "      <th>9999</th>\n",
       "      <td>05oKtleZ-JFGD6qt47VQcg</td>\n",
       "      <td>2.0</td>\n",
       "      <td>1.319048</td>\n",
       "      <td>6.002381</td>\n",
       "      <td>[big, really, happy, accomplished, super, cree...</td>\n",
       "    </tr>\n",
       "  </tbody>\n",
       "</table>\n",
       "<p>10000 rows × 5 columns</p>\n",
       "</div>"
      ],
      "text/plain": [
       "                   review_id  rating  polarity_score  subjective_score  \\\n",
       "0     KU_O5udG6zpxOg-VcAEodg     3.0        1.023333          5.148333   \n",
       "1     BiTunyQ73aT9WBnpR9DZGw     5.0        4.425000          6.283333   \n",
       "2     saUsX_uimxRlCVr67Z4Jig     3.0        1.539286          5.745238   \n",
       "3     AqPFMleE6RsU23_auESxiA     5.0        2.420455          5.704545   \n",
       "4     Sx8TMOWLNuJBWer-0pcmoA     4.0        5.613571          6.872857   \n",
       "...                      ...     ...             ...               ...   \n",
       "9995  ZcBtCA9jGhLfakf1jJ2BAg     5.0        1.800000          1.875000   \n",
       "9996  UIkEO-10J6Y99IhRqUflvg     5.0        0.600000          0.900000   \n",
       "9997  S-NQM3Axcg8JS3MXHUIvyw     5.0        1.097727          6.900758   \n",
       "9998  ME79YrEhm2xe4IQy_0zkGw     5.0        2.812500          4.800000   \n",
       "9999  05oKtleZ-JFGD6qt47VQcg     2.0        1.319048          6.002381   \n",
       "\n",
       "                                     subjective_phrases  \n",
       "0     [aware, multiple !, other, bad, good, very lon...  \n",
       "1     [nice, clean, amazing, top, fit, easy, advance...  \n",
       "2     [large, chicken, fresh, good, mexican, long, f...  \n",
       "3     [wow !, different, delicious, favorite, differ...  \n",
       "4     [cute, great, beautiful, very good, very, real...  \n",
       "...                                                 ...  \n",
       "9995                           [excellent, same, great]  \n",
       "9996                                          [amazing]  \n",
       "9997  [outstanding !, great !, other, new, new, bad ...  \n",
       "9998  [nice, calm, dimly, red, loved, pretty !, grea...  \n",
       "9999  [big, really, happy, accomplished, super, cree...  \n",
       "\n",
       "[10000 rows x 5 columns]"
      ]
     },
     "execution_count": 42,
     "metadata": {},
     "output_type": "execute_result"
    }
   ],
   "source": [
    "import pandas as pd\n",
    "df = pd.DataFrame(columns=['review_id', 'rating', 'polarity_score', 'subjective_score'])\n",
    "df['rating']=ratings\n",
    "df['review_id']=review_ids\n",
    "df['polarity_score']=polarity_scores\n",
    "df['subjective_score']=subjective_scores\n",
    "df['subjective_phrases']=subjective_phrases\n",
    "df"
   ]
  },
  {
   "cell_type": "code",
   "execution_count": 43,
   "id": "47a7bf9f",
   "metadata": {
    "pycharm": {
     "name": "#%%\n"
    }
   },
   "outputs": [
    {
     "data": {
      "text/html": [
       "<div>\n",
       "<style scoped>\n",
       "    .dataframe tbody tr th:only-of-type {\n",
       "        vertical-align: middle;\n",
       "    }\n",
       "\n",
       "    .dataframe tbody tr th {\n",
       "        vertical-align: top;\n",
       "    }\n",
       "\n",
       "    .dataframe thead th {\n",
       "        text-align: right;\n",
       "    }\n",
       "</style>\n",
       "<table border=\"1\" class=\"dataframe\">\n",
       "  <thead>\n",
       "    <tr style=\"text-align: right;\">\n",
       "      <th></th>\n",
       "      <th>polarity_score</th>\n",
       "      <th>subjective_score</th>\n",
       "      <th>ratings</th>\n",
       "    </tr>\n",
       "  </thead>\n",
       "  <tbody>\n",
       "    <tr>\n",
       "      <th>count</th>\n",
       "      <td>10000.000000</td>\n",
       "      <td>10000.000000</td>\n",
       "      <td>10000.000000</td>\n",
       "    </tr>\n",
       "    <tr>\n",
       "      <th>mean</th>\n",
       "      <td>2.628267</td>\n",
       "      <td>6.472902</td>\n",
       "      <td>3.854300</td>\n",
       "    </tr>\n",
       "    <tr>\n",
       "      <th>std</th>\n",
       "      <td>2.597190</td>\n",
       "      <td>5.194391</td>\n",
       "      <td>1.346719</td>\n",
       "    </tr>\n",
       "    <tr>\n",
       "      <th>min</th>\n",
       "      <td>-6.522330</td>\n",
       "      <td>0.000000</td>\n",
       "      <td>1.000000</td>\n",
       "    </tr>\n",
       "    <tr>\n",
       "      <th>25%</th>\n",
       "      <td>1.036301</td>\n",
       "      <td>3.100000</td>\n",
       "      <td>3.000000</td>\n",
       "    </tr>\n",
       "    <tr>\n",
       "      <th>50%</th>\n",
       "      <td>2.300000</td>\n",
       "      <td>5.065000</td>\n",
       "      <td>4.000000</td>\n",
       "    </tr>\n",
       "    <tr>\n",
       "      <th>75%</th>\n",
       "      <td>3.802841</td>\n",
       "      <td>8.176865</td>\n",
       "      <td>5.000000</td>\n",
       "    </tr>\n",
       "    <tr>\n",
       "      <th>max</th>\n",
       "      <td>28.070649</td>\n",
       "      <td>59.124542</td>\n",
       "      <td>5.000000</td>\n",
       "    </tr>\n",
       "  </tbody>\n",
       "</table>\n",
       "</div>"
      ],
      "text/plain": [
       "       polarity_score  subjective_score       ratings\n",
       "count    10000.000000      10000.000000  10000.000000\n",
       "mean         2.628267          6.472902      3.854300\n",
       "std          2.597190          5.194391      1.346719\n",
       "min         -6.522330          0.000000      1.000000\n",
       "25%          1.036301          3.100000      3.000000\n",
       "50%          2.300000          5.065000      4.000000\n",
       "75%          3.802841          8.176865      5.000000\n",
       "max         28.070649         59.124542      5.000000"
      ]
     },
     "execution_count": 43,
     "metadata": {},
     "output_type": "execute_result"
    }
   ],
   "source": [
    "yelp_df.describe()"
   ]
  },
  {
   "cell_type": "code",
   "execution_count": 44,
   "id": "a87c8a50",
   "metadata": {
    "pycharm": {
     "name": "#%%\n"
    }
   },
   "outputs": [
    {
     "data": {
      "text/plain": [
       "<AxesSubplot:xlabel='rating', ylabel='polarity_score'>"
      ]
     },
     "execution_count": 44,
     "metadata": {},
     "output_type": "execute_result"
    },
    {
     "data": {
      "image/png": "[encoded data removed]",
      "text/plain": [
       "<Figure size 432x288 with 1 Axes>"
      ]
     },
     "metadata": {
      "needs_background": "light"
     },
     "output_type": "display_data"
    }
   ],
   "source": [
    "import seaborn as sns\n",
    "sns.violinplot(data=df, x='rating', y='polarity_score')"
   ]
  },
  {
   "cell_type": "markdown",
   "id": "c6d3b997",
   "metadata": {
    "pycharm": {
     "name": "#%% md\n"
    }
   },
   "source": [
    "## Task 2\n",
    "For each review included in the dataset, extract the subjective phrases in the text with 'spacytextblob' and its 'sentiment_assessments.assessments' feature."
   ]
  },
  {
   "cell_type": "code",
   "execution_count": 45,
   "id": "afa70f08",
   "metadata": {
    "pycharm": {
     "name": "#%%\n"
    }
   },
   "outputs": [],
   "source": [
    "target_review_ids = [\"40thYphUgIfvJq17QCfTwA\", \"E9AB7V4z8xrt2uPF7T55FQ\", \"4PHFo_GRG4FEk1q4X7xQVQ\", \"4KpIldEM-tdnrJLqYzRfZQ\", \"PDHRlnEdkEcwATry4w71PQ\", \"meGaFP7yxQdjyABrYDVeoQ\", \"pgESDcC7eDx4z_epqon4_Q\", \"qeSxL-POvGLZD6aQ5O9kvw\"]"
   ]
  },
  {
   "cell_type": "markdown",
   "id": "c3c6e39d",
   "metadata": {
    "pycharm": {
     "name": "#%% md\n"
    }
   },
   "source": [
    "Note extracting the subjective phrases was completed in the task above within the loop."
   ]
  },
  {
   "cell_type": "markdown",
   "id": "2fe4ab7b",
   "metadata": {
    "pycharm": {
     "name": "#%% md\n"
    }
   },
   "source": [
    "For each of the target reviews, what are the top 3 reviews that are most similar to it in terms of their subjective phrases?"
   ]
  },
  {
   "cell_type": "code",
   "execution_count": 53,
   "id": "9af61406",
   "metadata": {
    "pycharm": {
     "name": "#%%\n"
    }
   },
   "outputs": [],
   "source": [
    "import numpy as np\n",
    "phrases=set()\n",
    "for i in df.index:\n",
    "    for j in df.iloc[i]['subjective_phrases']:\n",
    "        phrases.add(j)\n",
    "phrases=list(phrases)\n",
    "#collection of all possible subjective phrases"
   ]
  },
  {
   "cell_type": "code",
   "execution_count": 66,
   "id": "d79cea6d",
   "metadata": {
    "pycharm": {
     "name": "#%%\n"
    }
   },
   "outputs": [
    {
     "name": "stdout",
     "output_type": "stream",
     "text": [
      "32    [great, nice, clean, huge]\n",
      "Name: subjective_phrases, dtype: object\n"
     ]
    },
    {
     "name": "stderr",
     "output_type": "stream",
     "text": [
      "/Users/sarahpenrice/opt/anaconda3/envs/compsoc/lib/python3.8/site-packages/scipy/spatial/distance.py:620: RuntimeWarning: invalid value encountered in double_scalars\n",
      "  dist = 1.0 - uv / np.sqrt(uu * vv)\n"
     ]
    },
    {
     "name": "stdout",
     "output_type": "stream",
     "text": [
      "Target Subjective Phrases: 32    [great, nice, clean, huge]\n",
      "Name: subjective_phrases, dtype: object\n",
      "                   review_id  similarity_value\n",
      "4281  JI_89Ib6UMPS0Sb3-jyshA               1.0\n",
      "4741  sZdPZLfzDXtCqVVHKiACuw               1.0\n",
      "1710  J8KTnbCtArCsPKynC4TwyA               1.0\n",
      "39    [amazing, blank, great, highly, busy]\n",
      "Name: subjective_phrases, dtype: object\n"
     ]
    },
    {
     "name": "stderr",
     "output_type": "stream",
     "text": [
      "/Users/sarahpenrice/opt/anaconda3/envs/compsoc/lib/python3.8/site-packages/scipy/spatial/distance.py:620: RuntimeWarning: invalid value encountered in double_scalars\n",
      "  dist = 1.0 - uv / np.sqrt(uu * vv)\n"
     ]
    },
    {
     "name": "stdout",
     "output_type": "stream",
     "text": [
      "Target Subjective Phrases: 39    [amazing, blank, great, highly, busy]\n",
      "Name: subjective_phrases, dtype: object\n",
      "                   review_id  similarity_value\n",
      "4281  JI_89Ib6UMPS0Sb3-jyshA               1.0\n",
      "4741  sZdPZLfzDXtCqVVHKiACuw               1.0\n",
      "1710  J8KTnbCtArCsPKynC4TwyA               1.0\n",
      "96    [great ! ! ! ! ! ! ! ! !, completely new, othe...\n",
      "Name: subjective_phrases, dtype: object\n"
     ]
    },
    {
     "name": "stderr",
     "output_type": "stream",
     "text": [
      "/Users/sarahpenrice/opt/anaconda3/envs/compsoc/lib/python3.8/site-packages/scipy/spatial/distance.py:620: RuntimeWarning: invalid value encountered in double_scalars\n",
      "  dist = 1.0 - uv / np.sqrt(uu * vv)\n"
     ]
    },
    {
     "name": "stdout",
     "output_type": "stream",
     "text": [
      "Target Subjective Phrases: 96    [great ! ! ! ! ! ! ! ! !, completely new, othe...\n",
      "Name: subjective_phrases, dtype: object\n",
      "                   review_id  similarity_value\n",
      "4281  JI_89Ib6UMPS0Sb3-jyshA               1.0\n",
      "4741  sZdPZLfzDXtCqVVHKiACuw               1.0\n",
      "1710  J8KTnbCtArCsPKynC4TwyA               1.0\n",
      "66    [only, awesome !, freshly filled, phenomenal, ...\n",
      "Name: subjective_phrases, dtype: object\n"
     ]
    },
    {
     "name": "stderr",
     "output_type": "stream",
     "text": [
      "/Users/sarahpenrice/opt/anaconda3/envs/compsoc/lib/python3.8/site-packages/scipy/spatial/distance.py:620: RuntimeWarning: invalid value encountered in double_scalars\n",
      "  dist = 1.0 - uv / np.sqrt(uu * vv)\n"
     ]
    },
    {
     "name": "stdout",
     "output_type": "stream",
     "text": [
      "Target Subjective Phrases: 66    [only, awesome !, freshly filled, phenomenal, ...\n",
      "Name: subjective_phrases, dtype: object\n",
      "                   review_id  similarity_value\n",
      "4281  JI_89Ib6UMPS0Sb3-jyshA               1.0\n",
      "4741  sZdPZLfzDXtCqVVHKiACuw               1.0\n",
      "1710  J8KTnbCtArCsPKynC4TwyA               1.0\n",
      "73    [plain, unable, back, actual, back, awkwardly,...\n",
      "Name: subjective_phrases, dtype: object\n"
     ]
    },
    {
     "name": "stderr",
     "output_type": "stream",
     "text": [
      "/Users/sarahpenrice/opt/anaconda3/envs/compsoc/lib/python3.8/site-packages/scipy/spatial/distance.py:620: RuntimeWarning: invalid value encountered in double_scalars\n",
      "  dist = 1.0 - uv / np.sqrt(uu * vv)\n"
     ]
    },
    {
     "name": "stdout",
     "output_type": "stream",
     "text": [
      "Target Subjective Phrases: 73    [plain, unable, back, actual, back, awkwardly,...\n",
      "Name: subjective_phrases, dtype: object\n",
      "                   review_id  similarity_value\n",
      "4281  JI_89Ib6UMPS0Sb3-jyshA               1.0\n",
      "4741  sZdPZLfzDXtCqVVHKiACuw               1.0\n",
      "1710  J8KTnbCtArCsPKynC4TwyA               1.0\n",
      "84    [seriously, chicken, good]\n",
      "Name: subjective_phrases, dtype: object\n"
     ]
    },
    {
     "name": "stderr",
     "output_type": "stream",
     "text": [
      "/Users/sarahpenrice/opt/anaconda3/envs/compsoc/lib/python3.8/site-packages/scipy/spatial/distance.py:620: RuntimeWarning: invalid value encountered in double_scalars\n",
      "  dist = 1.0 - uv / np.sqrt(uu * vv)\n"
     ]
    },
    {
     "name": "stdout",
     "output_type": "stream",
     "text": [
      "Target Subjective Phrases: 84    [seriously, chicken, good]\n",
      "Name: subjective_phrases, dtype: object\n",
      "                   review_id  similarity_value\n",
      "4281  JI_89Ib6UMPS0Sb3-jyshA               1.0\n",
      "4741  sZdPZLfzDXtCqVVHKiACuw               1.0\n",
      "1710  J8KTnbCtArCsPKynC4TwyA               1.0\n",
      "424    [half, completely, top, surprised, sweet, very...\n",
      "Name: subjective_phrases, dtype: object\n"
     ]
    },
    {
     "name": "stderr",
     "output_type": "stream",
     "text": [
      "/Users/sarahpenrice/opt/anaconda3/envs/compsoc/lib/python3.8/site-packages/scipy/spatial/distance.py:620: RuntimeWarning: invalid value encountered in double_scalars\n",
      "  dist = 1.0 - uv / np.sqrt(uu * vv)\n"
     ]
    },
    {
     "name": "stdout",
     "output_type": "stream",
     "text": [
      "Target Subjective Phrases: 424    [half, completely, top, surprised, sweet, very...\n",
      "Name: subjective_phrases, dtype: object\n",
      "                   review_id  similarity_value\n",
      "4281  JI_89Ib6UMPS0Sb3-jyshA               1.0\n",
      "4741  sZdPZLfzDXtCqVVHKiACuw               1.0\n",
      "1710  J8KTnbCtArCsPKynC4TwyA               1.0\n",
      "347    [rarely, honestly, worst, objectively horrible...\n",
      "Name: subjective_phrases, dtype: object\n"
     ]
    },
    {
     "name": "stderr",
     "output_type": "stream",
     "text": [
      "/Users/sarahpenrice/opt/anaconda3/envs/compsoc/lib/python3.8/site-packages/scipy/spatial/distance.py:620: RuntimeWarning: invalid value encountered in double_scalars\n",
      "  dist = 1.0 - uv / np.sqrt(uu * vv)\n"
     ]
    },
    {
     "name": "stdout",
     "output_type": "stream",
     "text": [
      "Target Subjective Phrases: 347    [rarely, honestly, worst, objectively horrible...\n",
      "Name: subjective_phrases, dtype: object\n",
      "                   review_id  similarity_value\n",
      "4281  JI_89Ib6UMPS0Sb3-jyshA               1.0\n",
      "4741  sZdPZLfzDXtCqVVHKiACuw               1.0\n",
      "1710  J8KTnbCtArCsPKynC4TwyA               1.0\n"
     ]
    }
   ],
   "source": [
    "from scipy.spatial.distance import cosine\n",
    "for each in target_review_ids:\n",
    "    target=df[df['review_id']==each]\n",
    "    primary=target['subjective_phrases']\n",
    "    print(primary)\n",
    "    encodings=[]\n",
    "    for i in df.index:\n",
    "        review=df.iloc[i]['subjective_phrases']\n",
    "        indicies=[]\n",
    "        for j in review:\n",
    "            if j in phrases:\n",
    "                indicies.append(phrases.index(j))\n",
    "        one_hot_encoding=np.zeros(len(phrases))\n",
    "        for index in indicies:\n",
    "            one_hot_encoding[index]=1\n",
    "        encodings.append(one_hot_encoding)\n",
    "    similar=[]\n",
    "    for i in range(1,len(df)):\n",
    "        similar.append(1-cosine(encodings[0],encodings[i]))\n",
    "    similar_df=pd.DataFrame(columns=[\"review_id\",\"similarity_value\"])\n",
    "    similar_df[\"review_id\"]=df.loc[1:,\"review_id\"]\n",
    "    similar_df[\"similarity_value\"]=similar\n",
    "    similar_df=similar_df.sort_values(by=\"similarity_value\",ascending=False)\n",
    "    print(\"Target Subjective Phrases:\",primary)\n",
    "    print(similar_df[:3])"
   ]
  },
  {
   "cell_type": "markdown",
   "id": "070bc484",
   "metadata": {
    "pycharm": {
     "name": "#%% md\n"
    }
   },
   "source": [
    "What is the rating of each of the target reviews? What are the ratings of their top 3 most similar reviews? Are they correlated? Interpret the results."
   ]
  },
  {
   "cell_type": "code",
   "execution_count": null,
   "id": "03ab89ea",
   "metadata": {
    "pycharm": {
     "name": "#%%\n"
    }
   },
   "outputs": [],
   "source": []
  }
 ],
 "metadata": {
  "kernelspec": {
   "display_name": "Python [conda env:compsoc] *",
   "language": "python",
   "name": "conda-env-compsoc-py"
  },
  "language_info": {
   "codemirror_mode": {
    "name": "ipython",
    "version": 3
   },
   "file_extension": ".py",
   "mimetype": "text/x-python",
   "name": "python",
   "nbconvert_exporter": "python",
   "pygments_lexer": "ipython3",
   "version": "3.8.13"
  }
 },
 "nbformat": 4,
 "nbformat_minor": 5
}