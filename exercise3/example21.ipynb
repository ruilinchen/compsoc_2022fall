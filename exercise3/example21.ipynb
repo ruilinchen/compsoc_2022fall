{
 "cells": [
  {
   "cell_type": "markdown",
   "id": "0825246f",
   "metadata": {
    "pycharm": {
     "name": "#%% md\n"
    }
   },
   "source": [
    "3.1 "
   ]
  },
  {
   "cell_type": "code",
   "execution_count": 27,
   "id": "1cc6e11c",
   "metadata": {
    "scrolled": true,
    "pycharm": {
     "name": "#%%\n"
    }
   },
   "outputs": [
    {
     "name": "stdout",
     "output_type": "stream",
     "text": [
      "How many number do you want to input?  3\n",
      "enter number:1\n",
      "enter number:2\n",
      "enter number:3\n",
      "[1, 2, 3]\n",
      "The difference between largest and smallest number is:  2\n"
     ]
    }
   ],
   "source": [
    "numberlist = []\n",
    "num = int(input('How many number do you want to input?  '))\n",
    "\n",
    "for n in range(num):\n",
    "    numbers= int(input('enter number:'))\n",
    "    numberlist.append(numbers)\n",
    "print(numberlist)\n",
    "\n",
    "difference = max(numberlist)-min(numberlist)\n",
    "\n",
    "print(\"The difference between largest and smallest number is: \", difference)"
   ]
  },
  {
   "cell_type": "markdown",
   "id": "eecaefa3",
   "metadata": {
    "pycharm": {
     "name": "#%% md\n"
    }
   },
   "source": [
    "Another way of solving "
   ]
  },
  {
   "cell_type": "code",
   "execution_count": 28,
   "id": "51896aa0",
   "metadata": {
    "pycharm": {
     "name": "#%%\n"
    }
   },
   "outputs": [
    {
     "name": "stdout",
     "output_type": "stream",
     "text": [
      "enter the list of number separated by comma: 1,2,4,5,6,7,8,31\n"
     ]
    },
    {
     "ename": "ValueError",
     "evalue": "invalid literal for int() with base 10: '1,2,4,5,6,7,8,31'",
     "output_type": "error",
     "traceback": [
      "\u001B[0;31m---------------------------------------------------------------------------\u001B[0m",
      "\u001B[0;31mValueError\u001B[0m                                Traceback (most recent call last)",
      "Input \u001B[0;32mIn [28]\u001B[0m, in \u001B[0;36m<cell line: 1>\u001B[0;34m()\u001B[0m\n\u001B[0;32m----> 1\u001B[0m inp \u001B[38;5;241m=\u001B[39m \u001B[38;5;28;43mint\u001B[39;49m\u001B[43m(\u001B[49m\u001B[38;5;28;43minput\u001B[39;49m\u001B[43m(\u001B[49m\u001B[38;5;124;43m'\u001B[39;49m\u001B[38;5;124;43menter the list of number separated by comma: \u001B[39;49m\u001B[38;5;124;43m'\u001B[39;49m\u001B[43m)\u001B[49m\u001B[43m)\u001B[49m\n\u001B[1;32m      2\u001B[0m lis \u001B[38;5;241m=\u001B[39m inp\u001B[38;5;241m.\u001B[39msplit(\u001B[38;5;124m\"\u001B[39m\u001B[38;5;124m,\u001B[39m\u001B[38;5;124m\"\u001B[39m)\n\u001B[1;32m      3\u001B[0m \u001B[38;5;28mprint\u001B[39m(\u001B[38;5;28mlist\u001B[39m)\n",
      "\u001B[0;31mValueError\u001B[0m: invalid literal for int() with base 10: '1,2,4,5,6,7,8,31'"
     ]
    }
   ],
   "source": [
    "inp = input('enter the list of number separated by comma: ')\n",
    "lis = inp.split(\",\")\n",
    "print(list)\n",
    "\n",
    "difference = max(numberlist)-min(numberlist)\n",
    "\n",
    "print(\"The difference between largest and smallest number is: \", difference)"
   ]
  },
  {
   "cell_type": "code",
   "execution_count": 19,
   "id": "736ee366",
   "metadata": {
    "pycharm": {
     "name": "#%%\n"
    }
   },
   "outputs": [
    {
     "name": "stdout",
     "output_type": "stream",
     "text": [
      "enter elements of list 1 separated by comma: 1,2,3,no\n",
      "['1', '2', '3', 'no']\n",
      "enter elements of list 2 separated by comma: (please keep the number of elements constant)2,5,yes,9\n",
      "['2', '5', 'yes', '9']\n",
      "The new list will be:   ['1', '2', '2', '5', '3', 'yes', 'no', '9']\n"
     ]
    }
   ],
   "source": [
    "input1 = input('enter elements of list 1 separated by comma: ')\n",
    "list1 = input1.split(\",\")\n",
    "print(list1)\n",
    "\n",
    "input2 = input('enter elements of list 2 separated by comma: (please keep the number of elements constant)')\n",
    "list2 = input2.split(\",\")\n",
    "print(list2)\n",
    "\n",
    "list3 = []\n",
    "for x,y in zip(list1,list2):\n",
    "    list3.append(x)\n",
    "    list3.append(y)\n",
    "    \n",
    "print(\"The new list will be:  \", list3)"
   ]
  },
  {
   "cell_type": "code",
   "execution_count": 24,
   "id": "fd1136f3",
   "metadata": {
    "pycharm": {
     "name": "#%%\n"
    }
   },
   "outputs": [
    {
     "name": "stdout",
     "output_type": "stream",
     "text": [
      "enter elements of the list separated by comma: 1,2,3,3,3,no,no,no\n",
      "['1', '2', '3', '3', '3', 'no', 'no', 'no']\n",
      "{'1': 1, '2': 1, '3': 3, 'no': 3}\n"
     ]
    }
   ],
   "source": [
    "inp = input('enter elements of the list separated by comma: ')\n",
    "lis = inp.split(\",\")\n",
    "print(lis)\n",
    "\n",
    "freq = {}\n",
    "\n",
    "for item in lis:\n",
    "    if(item in freq):\n",
    "        freq[item] +=1\n",
    "    else:\n",
    "        freq[item] = 1\n",
    "\n",
    "#for key, value in freq.items():\n",
    "    #print(\"%s = %d\"% (key,value))\n",
    "    \n",
    "print(\"The frequency of each element is:  \",freq)"
   ]
  },
  {
   "cell_type": "code",
   "execution_count": 26,
   "id": "d76c7ea3",
   "metadata": {
    "pycharm": {
     "name": "#%%\n"
    }
   },
   "outputs": [
    {
     "name": "stdout",
     "output_type": "stream",
     "text": [
      "enter elements of list 1 separated by comma: 1,2,34,a,a,b\n",
      "['1', '2', '34', 'a', 'a', 'b']\n",
      "enter elements of list 2 separated by comma: 1,4,6,a,c\n",
      "['1', '4', '6', 'a', 'c']\n",
      "The overlapped elements are:   {'1', 'a'}\n"
     ]
    }
   ],
   "source": [
    "input1 = input('enter elements of list 1 separated by comma: ')\n",
    "list1 = input1.split(\",\")\n",
    "print(list1)\n",
    "\n",
    "input2 = input('enter elements of list 2 separated by comma: ')\n",
    "list2 = input2.split(\",\")\n",
    "print(list2)\n",
    "\n",
    "list3 = set(list1) & set(list2)\n",
    "print(\"The overlapped elements are:  \",list3)\n"
   ]
  },
  {
   "cell_type": "code",
   "execution_count": null,
   "id": "a169bb0e",
   "metadata": {
    "pycharm": {
     "name": "#%%\n"
    }
   },
   "outputs": [],
   "source": []
  }
 ],
 "metadata": {
  "kernelspec": {
   "display_name": "Python 3 (ipykernel)",
   "language": "python",
   "name": "python3"
  },
  "language_info": {
   "codemirror_mode": {
    "name": "ipython",
    "version": 3
   },
   "file_extension": ".py",
   "mimetype": "text/x-python",
   "name": "python",
   "nbconvert_exporter": "python",
   "pygments_lexer": "ipython3",
   "version": "3.9.12"
  }
 },
 "nbformat": 4,
 "nbformat_minor": 5
}