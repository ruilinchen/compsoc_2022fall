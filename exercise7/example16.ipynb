{
 "cells": [
  {
   "cell_type": "markdown",
   "id": "887ec290",
   "metadata": {
    "pycharm": {
     "name": "#%% md\n"
    }
   },
   "source": [
    "# exercise 7\n",
    "Task 7.1 Combine year 2019 and year 2020’s crime records into one pandas dataframe. Drop duplicates as well as any record that has missing values in the following columns: “INCIDENT_NUMBER”, “OFFENSE_CODE”, “DISTRICT”, “Long”, “Lat”, “SHOOTING”, “OCCURRED_ON_DATE”. Save the “cleaned” pandas dataframe to a separate csv file. Based on the cleaned dataframe and the offense codes provided here (Links to an external site.), count the total number of violent vs. property crime incidents in Boston in year 2019 and year 2020 respectively. Print the results. Do you see any trend? "
   ]
  },
  {
   "cell_type": "code",
   "execution_count": 328,
   "id": "13a6b4bf",
   "metadata": {
    "pycharm": {
     "name": "#%%\n"
    }
   },
   "outputs": [
    {
     "name": "stdout",
     "output_type": "stream",
     "text": [
      "INCIDENT_NUMBER         object\n",
      "OFFENSE_CODE             int64\n",
      "OFFENSE_CODE_GROUP     float64\n",
      "OFFENSE_DESCRIPTION     object\n",
      "DISTRICT                object\n",
      "REPORTING_AREA          object\n",
      "SHOOTING                 int64\n",
      "OCCURRED_ON_DATE        object\n",
      "YEAR                     int64\n",
      "MONTH                    int64\n",
      "DAY_OF_WEEK             object\n",
      "HOUR                     int64\n",
      "UCR_PART               float64\n",
      "STREET                  object\n",
      "Lat                    float64\n",
      "Long                   float64\n",
      "Location                object\n",
      "dtype: object\n"
     ]
    }
   ],
   "source": [
    "import pandas\n",
    "crime2019 = pandas.read_csv(\"2019_boston_crime.csv\", low_memory=False)\n",
    "crime2019.dtypes #incident number is mostly int64, but had a few bad pieces of data that ruined it\n",
    "crime2020 = pandas.read_csv(\"2020_boston_crime.csv\", low_memory=False)\n",
    "print(crime2020.dtypes)"
   ]
  },
  {
   "cell_type": "code",
   "execution_count": 329,
   "id": "189977ee",
   "metadata": {
    "pycharm": {
     "name": "#%%\n"
    }
   },
   "outputs": [],
   "source": [
    "combinedCrime = pandas.concat([crime2019, crime2020])"
   ]
  },
  {
   "cell_type": "code",
   "execution_count": 330,
   "id": "adf3f794",
   "metadata": {
    "pycharm": {
     "name": "#%%\n"
    }
   },
   "outputs": [
    {
     "data": {
      "text/html": [
       "<div>\n",
       "<style scoped>\n",
       "    .dataframe tbody tr th:only-of-type {\n",
       "        vertical-align: middle;\n",
       "    }\n",
       "\n",
       "    .dataframe tbody tr th {\n",
       "        vertical-align: top;\n",
       "    }\n",
       "\n",
       "    .dataframe thead th {\n",
       "        text-align: right;\n",
       "    }\n",
       "</style>\n",
       "<table border=\"1\" class=\"dataframe\">\n",
       "  <thead>\n",
       "    <tr style=\"text-align: right;\">\n",
       "      <th></th>\n",
       "      <th>OFFENSE_CODE</th>\n",
       "      <th>OFFENSE_CODE_GROUP</th>\n",
       "      <th>SHOOTING</th>\n",
       "      <th>YEAR</th>\n",
       "      <th>MONTH</th>\n",
       "      <th>HOUR</th>\n",
       "      <th>UCR_PART</th>\n",
       "      <th>Lat</th>\n",
       "      <th>Long</th>\n",
       "    </tr>\n",
       "  </thead>\n",
       "  <tbody>\n",
       "    <tr>\n",
       "      <th>count</th>\n",
       "      <td>158078.000000</td>\n",
       "      <td>0.0</td>\n",
       "      <td>158078.000000</td>\n",
       "      <td>158078.000000</td>\n",
       "      <td>158078.000000</td>\n",
       "      <td>158078.000000</td>\n",
       "      <td>0.0</td>\n",
       "      <td>158078.000000</td>\n",
       "      <td>1.580780e+05</td>\n",
       "    </tr>\n",
       "    <tr>\n",
       "      <th>mean</th>\n",
       "      <td>2323.014885</td>\n",
       "      <td>NaN</td>\n",
       "      <td>0.012222</td>\n",
       "      <td>2019.448475</td>\n",
       "      <td>6.555656</td>\n",
       "      <td>12.928497</td>\n",
       "      <td>NaN</td>\n",
       "      <td>40.915621</td>\n",
       "      <td>-6.873675e+01</td>\n",
       "    </tr>\n",
       "    <tr>\n",
       "      <th>std</th>\n",
       "      <td>1225.616966</td>\n",
       "      <td>NaN</td>\n",
       "      <td>0.109875</td>\n",
       "      <td>0.497340</td>\n",
       "      <td>3.385142</td>\n",
       "      <td>6.416447</td>\n",
       "      <td>NaN</td>\n",
       "      <td>7.635482</td>\n",
       "      <td>1.270572e+01</td>\n",
       "    </tr>\n",
       "    <tr>\n",
       "      <th>min</th>\n",
       "      <td>100.000000</td>\n",
       "      <td>NaN</td>\n",
       "      <td>0.000000</td>\n",
       "      <td>2019.000000</td>\n",
       "      <td>1.000000</td>\n",
       "      <td>0.000000</td>\n",
       "      <td>NaN</td>\n",
       "      <td>-90.000000</td>\n",
       "      <td>-9.000000e+01</td>\n",
       "    </tr>\n",
       "    <tr>\n",
       "      <th>25%</th>\n",
       "      <td>802.000000</td>\n",
       "      <td>NaN</td>\n",
       "      <td>0.000000</td>\n",
       "      <td>2019.000000</td>\n",
       "      <td>4.000000</td>\n",
       "      <td>9.000000</td>\n",
       "      <td>NaN</td>\n",
       "      <td>42.293755</td>\n",
       "      <td>-7.109737e+01</td>\n",
       "    </tr>\n",
       "    <tr>\n",
       "      <th>50%</th>\n",
       "      <td>3005.000000</td>\n",
       "      <td>NaN</td>\n",
       "      <td>0.000000</td>\n",
       "      <td>2019.000000</td>\n",
       "      <td>7.000000</td>\n",
       "      <td>14.000000</td>\n",
       "      <td>NaN</td>\n",
       "      <td>42.324702</td>\n",
       "      <td>-7.107635e+01</td>\n",
       "    </tr>\n",
       "    <tr>\n",
       "      <th>75%</th>\n",
       "      <td>3201.000000</td>\n",
       "      <td>NaN</td>\n",
       "      <td>0.000000</td>\n",
       "      <td>2020.000000</td>\n",
       "      <td>9.000000</td>\n",
       "      <td>18.000000</td>\n",
       "      <td>NaN</td>\n",
       "      <td>42.347972</td>\n",
       "      <td>-7.106021e+01</td>\n",
       "    </tr>\n",
       "    <tr>\n",
       "      <th>max</th>\n",
       "      <td>99999.000000</td>\n",
       "      <td>NaN</td>\n",
       "      <td>1.000000</td>\n",
       "      <td>2020.000000</td>\n",
       "      <td>12.000000</td>\n",
       "      <td>23.000000</td>\n",
       "      <td>NaN</td>\n",
       "      <td>42.395042</td>\n",
       "      <td>5.249691e-08</td>\n",
       "    </tr>\n",
       "  </tbody>\n",
       "</table>\n",
       "</div>"
      ],
      "text/plain": [
       "        OFFENSE_CODE  OFFENSE_CODE_GROUP       SHOOTING           YEAR  \\\n",
       "count  158078.000000                 0.0  158078.000000  158078.000000   \n",
       "mean     2323.014885                 NaN       0.012222    2019.448475   \n",
       "std      1225.616966                 NaN       0.109875       0.497340   \n",
       "min       100.000000                 NaN       0.000000    2019.000000   \n",
       "25%       802.000000                 NaN       0.000000    2019.000000   \n",
       "50%      3005.000000                 NaN       0.000000    2019.000000   \n",
       "75%      3201.000000                 NaN       0.000000    2020.000000   \n",
       "max     99999.000000                 NaN       1.000000    2020.000000   \n",
       "\n",
       "               MONTH           HOUR  UCR_PART            Lat          Long  \n",
       "count  158078.000000  158078.000000       0.0  158078.000000  1.580780e+05  \n",
       "mean        6.555656      12.928497       NaN      40.915621 -6.873675e+01  \n",
       "std         3.385142       6.416447       NaN       7.635482  1.270572e+01  \n",
       "min         1.000000       0.000000       NaN     -90.000000 -9.000000e+01  \n",
       "25%         4.000000       9.000000       NaN      42.293755 -7.109737e+01  \n",
       "50%         7.000000      14.000000       NaN      42.324702 -7.107635e+01  \n",
       "75%         9.000000      18.000000       NaN      42.347972 -7.106021e+01  \n",
       "max        12.000000      23.000000       NaN      42.395042  5.249691e-08  "
      ]
     },
     "execution_count": 330,
     "metadata": {},
     "output_type": "execute_result"
    }
   ],
   "source": [
    "combinedCrime.describe()"
   ]
  },
  {
   "cell_type": "code",
   "execution_count": 331,
   "id": "3e49a17a",
   "metadata": {
    "pycharm": {
     "name": "#%%\n"
    }
   },
   "outputs": [],
   "source": [
    "noMissingColumn = [\"INCIDENT_NUMBER\", \"OFFENSE_CODE\", \"DISTRICT\", \"Long\", \"Lat\", \"SHOOTING\", \"OCCURRED_ON_DATE\"]\n",
    "for column in noMissingColumn:\n",
    "    combinedCrime = combinedCrime.query(column + \".notna()\")"
   ]
  },
  {
   "cell_type": "code",
   "execution_count": 332,
   "id": "99dd0c9e",
   "metadata": {
    "pycharm": {
     "name": "#%%\n"
    }
   },
   "outputs": [
    {
     "data": {
      "text/html": [
       "<div>\n",
       "<style scoped>\n",
       "    .dataframe tbody tr th:only-of-type {\n",
       "        vertical-align: middle;\n",
       "    }\n",
       "\n",
       "    .dataframe tbody tr th {\n",
       "        vertical-align: top;\n",
       "    }\n",
       "\n",
       "    .dataframe thead th {\n",
       "        text-align: right;\n",
       "    }\n",
       "</style>\n",
       "<table border=\"1\" class=\"dataframe\">\n",
       "  <thead>\n",
       "    <tr style=\"text-align: right;\">\n",
       "      <th></th>\n",
       "      <th>OFFENSE_CODE</th>\n",
       "      <th>OFFENSE_CODE_GROUP</th>\n",
       "      <th>SHOOTING</th>\n",
       "      <th>YEAR</th>\n",
       "      <th>MONTH</th>\n",
       "      <th>HOUR</th>\n",
       "      <th>UCR_PART</th>\n",
       "      <th>Lat</th>\n",
       "      <th>Long</th>\n",
       "    </tr>\n",
       "  </thead>\n",
       "  <tbody>\n",
       "    <tr>\n",
       "      <th>count</th>\n",
       "      <td>156759.000000</td>\n",
       "      <td>0.0</td>\n",
       "      <td>156759.000000</td>\n",
       "      <td>156759.000000</td>\n",
       "      <td>156759.000000</td>\n",
       "      <td>156759.000000</td>\n",
       "      <td>0.0</td>\n",
       "      <td>156759.000000</td>\n",
       "      <td>1.567590e+05</td>\n",
       "    </tr>\n",
       "    <tr>\n",
       "      <th>mean</th>\n",
       "      <td>2321.610479</td>\n",
       "      <td>NaN</td>\n",
       "      <td>0.012242</td>\n",
       "      <td>2019.450475</td>\n",
       "      <td>6.535076</td>\n",
       "      <td>12.929395</td>\n",
       "      <td>NaN</td>\n",
       "      <td>41.008598</td>\n",
       "      <td>-6.887769e+01</td>\n",
       "    </tr>\n",
       "    <tr>\n",
       "      <th>std</th>\n",
       "      <td>1225.696992</td>\n",
       "      <td>NaN</td>\n",
       "      <td>0.109963</td>\n",
       "      <td>0.497543</td>\n",
       "      <td>3.377254</td>\n",
       "      <td>6.415094</td>\n",
       "      <td>NaN</td>\n",
       "      <td>7.339247</td>\n",
       "      <td>1.232686e+01</td>\n",
       "    </tr>\n",
       "    <tr>\n",
       "      <th>min</th>\n",
       "      <td>100.000000</td>\n",
       "      <td>NaN</td>\n",
       "      <td>0.000000</td>\n",
       "      <td>2019.000000</td>\n",
       "      <td>1.000000</td>\n",
       "      <td>0.000000</td>\n",
       "      <td>NaN</td>\n",
       "      <td>0.000000</td>\n",
       "      <td>-7.117867e+01</td>\n",
       "    </tr>\n",
       "    <tr>\n",
       "      <th>25%</th>\n",
       "      <td>802.000000</td>\n",
       "      <td>NaN</td>\n",
       "      <td>0.000000</td>\n",
       "      <td>2019.000000</td>\n",
       "      <td>4.000000</td>\n",
       "      <td>9.000000</td>\n",
       "      <td>NaN</td>\n",
       "      <td>42.293979</td>\n",
       "      <td>-7.109747e+01</td>\n",
       "    </tr>\n",
       "    <tr>\n",
       "      <th>50%</th>\n",
       "      <td>3005.000000</td>\n",
       "      <td>NaN</td>\n",
       "      <td>0.000000</td>\n",
       "      <td>2019.000000</td>\n",
       "      <td>7.000000</td>\n",
       "      <td>14.000000</td>\n",
       "      <td>NaN</td>\n",
       "      <td>42.324702</td>\n",
       "      <td>-7.107638e+01</td>\n",
       "    </tr>\n",
       "    <tr>\n",
       "      <th>75%</th>\n",
       "      <td>3201.000000</td>\n",
       "      <td>NaN</td>\n",
       "      <td>0.000000</td>\n",
       "      <td>2020.000000</td>\n",
       "      <td>9.000000</td>\n",
       "      <td>18.000000</td>\n",
       "      <td>NaN</td>\n",
       "      <td>42.348010</td>\n",
       "      <td>-7.106045e+01</td>\n",
       "    </tr>\n",
       "    <tr>\n",
       "      <th>max</th>\n",
       "      <td>99999.000000</td>\n",
       "      <td>NaN</td>\n",
       "      <td>1.000000</td>\n",
       "      <td>2020.000000</td>\n",
       "      <td>12.000000</td>\n",
       "      <td>23.000000</td>\n",
       "      <td>NaN</td>\n",
       "      <td>42.395042</td>\n",
       "      <td>5.249691e-08</td>\n",
       "    </tr>\n",
       "  </tbody>\n",
       "</table>\n",
       "</div>"
      ],
      "text/plain": [
       "        OFFENSE_CODE  OFFENSE_CODE_GROUP       SHOOTING           YEAR  \\\n",
       "count  156759.000000                 0.0  156759.000000  156759.000000   \n",
       "mean     2321.610479                 NaN       0.012242    2019.450475   \n",
       "std      1225.696992                 NaN       0.109963       0.497543   \n",
       "min       100.000000                 NaN       0.000000    2019.000000   \n",
       "25%       802.000000                 NaN       0.000000    2019.000000   \n",
       "50%      3005.000000                 NaN       0.000000    2019.000000   \n",
       "75%      3201.000000                 NaN       0.000000    2020.000000   \n",
       "max     99999.000000                 NaN       1.000000    2020.000000   \n",
       "\n",
       "               MONTH           HOUR  UCR_PART            Lat          Long  \n",
       "count  156759.000000  156759.000000       0.0  156759.000000  1.567590e+05  \n",
       "mean        6.535076      12.929395       NaN      41.008598 -6.887769e+01  \n",
       "std         3.377254       6.415094       NaN       7.339247  1.232686e+01  \n",
       "min         1.000000       0.000000       NaN       0.000000 -7.117867e+01  \n",
       "25%         4.000000       9.000000       NaN      42.293979 -7.109747e+01  \n",
       "50%         7.000000      14.000000       NaN      42.324702 -7.107638e+01  \n",
       "75%         9.000000      18.000000       NaN      42.348010 -7.106045e+01  \n",
       "max        12.000000      23.000000       NaN      42.395042  5.249691e-08  "
      ]
     },
     "execution_count": 332,
     "metadata": {},
     "output_type": "execute_result"
    }
   ],
   "source": [
    "combinedCrime.describe()"
   ]
  },
  {
   "cell_type": "code",
   "execution_count": 333,
   "id": "ffd813f2",
   "metadata": {
    "pycharm": {
     "name": "#%%\n"
    }
   },
   "outputs": [],
   "source": [
    "import numpy as np\n",
    "#remove dups when those 3 columns are the same, except t0 of each year since that likely means they just didnt have time info\n",
    "combinedCrime = combinedCrime[np.invert(combinedCrime.duplicated([\"OFFENSE_CODE\", \"OCCURRED_ON_DATE\", \"STREET\"])\n",
    "                              & [x[5:20] != \"01-01 00:00:00\" for x in combinedCrime['OCCURRED_ON_DATE']])\n",
    "                             ].sort_values(\"OCCURRED_ON_DATE\") #DeMorgan's law, !a|b==!(a&!b)"
   ]
  },
  {
   "cell_type": "code",
   "execution_count": 334,
   "id": "40058dfe",
   "metadata": {
    "pycharm": {
     "name": "#%%\n"
    }
   },
   "outputs": [
    {
     "data": {
      "text/html": [
       "<div>\n",
       "<style scoped>\n",
       "    .dataframe tbody tr th:only-of-type {\n",
       "        vertical-align: middle;\n",
       "    }\n",
       "\n",
       "    .dataframe tbody tr th {\n",
       "        vertical-align: top;\n",
       "    }\n",
       "\n",
       "    .dataframe thead th {\n",
       "        text-align: right;\n",
       "    }\n",
       "</style>\n",
       "<table border=\"1\" class=\"dataframe\">\n",
       "  <thead>\n",
       "    <tr style=\"text-align: right;\">\n",
       "      <th></th>\n",
       "      <th>OFFENSE_CODE</th>\n",
       "      <th>OFFENSE_CODE_GROUP</th>\n",
       "      <th>SHOOTING</th>\n",
       "      <th>YEAR</th>\n",
       "      <th>MONTH</th>\n",
       "      <th>HOUR</th>\n",
       "      <th>UCR_PART</th>\n",
       "      <th>Lat</th>\n",
       "      <th>Long</th>\n",
       "    </tr>\n",
       "  </thead>\n",
       "  <tbody>\n",
       "    <tr>\n",
       "      <th>count</th>\n",
       "      <td>156253.000000</td>\n",
       "      <td>0.0</td>\n",
       "      <td>156253.000000</td>\n",
       "      <td>156253.000000</td>\n",
       "      <td>156253.000000</td>\n",
       "      <td>156253.000000</td>\n",
       "      <td>0.0</td>\n",
       "      <td>156253.000000</td>\n",
       "      <td>1.562530e+05</td>\n",
       "    </tr>\n",
       "    <tr>\n",
       "      <th>mean</th>\n",
       "      <td>2321.370239</td>\n",
       "      <td>NaN</td>\n",
       "      <td>0.012256</td>\n",
       "      <td>2019.450046</td>\n",
       "      <td>6.537986</td>\n",
       "      <td>12.933275</td>\n",
       "      <td>NaN</td>\n",
       "      <td>41.006764</td>\n",
       "      <td>-6.887466e+01</td>\n",
       "    </tr>\n",
       "    <tr>\n",
       "      <th>std</th>\n",
       "      <td>1226.162631</td>\n",
       "      <td>NaN</td>\n",
       "      <td>0.110026</td>\n",
       "      <td>0.497500</td>\n",
       "      <td>3.377193</td>\n",
       "      <td>6.413316</td>\n",
       "      <td>NaN</td>\n",
       "      <td>7.344152</td>\n",
       "      <td>1.233511e+01</td>\n",
       "    </tr>\n",
       "    <tr>\n",
       "      <th>min</th>\n",
       "      <td>100.000000</td>\n",
       "      <td>NaN</td>\n",
       "      <td>0.000000</td>\n",
       "      <td>2019.000000</td>\n",
       "      <td>1.000000</td>\n",
       "      <td>0.000000</td>\n",
       "      <td>NaN</td>\n",
       "      <td>0.000000</td>\n",
       "      <td>-7.117867e+01</td>\n",
       "    </tr>\n",
       "    <tr>\n",
       "      <th>25%</th>\n",
       "      <td>802.000000</td>\n",
       "      <td>NaN</td>\n",
       "      <td>0.000000</td>\n",
       "      <td>2019.000000</td>\n",
       "      <td>4.000000</td>\n",
       "      <td>9.000000</td>\n",
       "      <td>NaN</td>\n",
       "      <td>42.293959</td>\n",
       "      <td>-7.109747e+01</td>\n",
       "    </tr>\n",
       "    <tr>\n",
       "      <th>50%</th>\n",
       "      <td>3005.000000</td>\n",
       "      <td>NaN</td>\n",
       "      <td>0.000000</td>\n",
       "      <td>2019.000000</td>\n",
       "      <td>7.000000</td>\n",
       "      <td>14.000000</td>\n",
       "      <td>NaN</td>\n",
       "      <td>42.324702</td>\n",
       "      <td>-7.107638e+01</td>\n",
       "    </tr>\n",
       "    <tr>\n",
       "      <th>75%</th>\n",
       "      <td>3201.000000</td>\n",
       "      <td>NaN</td>\n",
       "      <td>0.000000</td>\n",
       "      <td>2020.000000</td>\n",
       "      <td>9.000000</td>\n",
       "      <td>18.000000</td>\n",
       "      <td>NaN</td>\n",
       "      <td>42.347991</td>\n",
       "      <td>-7.106047e+01</td>\n",
       "    </tr>\n",
       "    <tr>\n",
       "      <th>max</th>\n",
       "      <td>99999.000000</td>\n",
       "      <td>NaN</td>\n",
       "      <td>1.000000</td>\n",
       "      <td>2020.000000</td>\n",
       "      <td>12.000000</td>\n",
       "      <td>23.000000</td>\n",
       "      <td>NaN</td>\n",
       "      <td>42.395042</td>\n",
       "      <td>5.249691e-08</td>\n",
       "    </tr>\n",
       "  </tbody>\n",
       "</table>\n",
       "</div>"
      ],
      "text/plain": [
       "        OFFENSE_CODE  OFFENSE_CODE_GROUP       SHOOTING           YEAR  \\\n",
       "count  156253.000000                 0.0  156253.000000  156253.000000   \n",
       "mean     2321.370239                 NaN       0.012256    2019.450046   \n",
       "std      1226.162631                 NaN       0.110026       0.497500   \n",
       "min       100.000000                 NaN       0.000000    2019.000000   \n",
       "25%       802.000000                 NaN       0.000000    2019.000000   \n",
       "50%      3005.000000                 NaN       0.000000    2019.000000   \n",
       "75%      3201.000000                 NaN       0.000000    2020.000000   \n",
       "max     99999.000000                 NaN       1.000000    2020.000000   \n",
       "\n",
       "               MONTH           HOUR  UCR_PART            Lat          Long  \n",
       "count  156253.000000  156253.000000       0.0  156253.000000  1.562530e+05  \n",
       "mean        6.537986      12.933275       NaN      41.006764 -6.887466e+01  \n",
       "std         3.377193       6.413316       NaN       7.344152  1.233511e+01  \n",
       "min         1.000000       0.000000       NaN       0.000000 -7.117867e+01  \n",
       "25%         4.000000       9.000000       NaN      42.293959 -7.109747e+01  \n",
       "50%         7.000000      14.000000       NaN      42.324702 -7.107638e+01  \n",
       "75%         9.000000      18.000000       NaN      42.347991 -7.106047e+01  \n",
       "max        12.000000      23.000000       NaN      42.395042  5.249691e-08  "
      ]
     },
     "execution_count": 334,
     "metadata": {},
     "output_type": "execute_result"
    }
   ],
   "source": [
    "combinedCrime.describe()"
   ]
  },
  {
   "cell_type": "code",
   "execution_count": 335,
   "id": "98cac085",
   "metadata": {
    "pycharm": {
     "name": "#%%\n"
    }
   },
   "outputs": [],
   "source": [
    "combinedCrime.to_csv(\"combinedCrime.csv\", index=False)"
   ]
  },
  {
   "cell_type": "markdown",
   "id": "41d6610e",
   "metadata": {
    "pycharm": {
     "name": "#%% md\n"
    }
   },
   "source": [
    "This was the original version of 6.3 before you changed it, so I just copied my code from that"
   ]
  },
  {
   "cell_type": "code",
   "execution_count": 336,
   "id": "9b7cb720",
   "metadata": {
    "pycharm": {
     "name": "#%%\n"
    }
   },
   "outputs": [],
   "source": [
    "data = pandas.read_csv(\"combinedCrime.csv\", low_memory=False)"
   ]
  },
  {
   "cell_type": "code",
   "execution_count": 337,
   "id": "917b4e18",
   "metadata": {
    "pycharm": {
     "name": "#%%\n"
    }
   },
   "outputs": [],
   "source": [
    "codes = pandas.read_excel(\"rmsoffensecodes.xlsx\")"
   ]
  },
  {
   "cell_type": "code",
   "execution_count": 338,
   "id": "6389f0b5",
   "metadata": {
    "pycharm": {
     "name": "#%%\n"
    }
   },
   "outputs": [
    {
     "data": {
      "text/plain": [
       "Index(['CODE', 'NAME'], dtype='object')"
      ]
     },
     "execution_count": 338,
     "metadata": {},
     "output_type": "execute_result"
    }
   ],
   "source": [
    "codes.columns"
   ]
  },
  {
   "cell_type": "code",
   "execution_count": 339,
   "id": "d287242f",
   "metadata": {
    "pycharm": {
     "name": "#%%\n"
    }
   },
   "outputs": [],
   "source": [
    "codes = codes.drop_duplicates()"
   ]
  },
  {
   "cell_type": "code",
   "execution_count": 340,
   "id": "956f48fe",
   "metadata": {
    "pycharm": {
     "name": "#%%\n"
    }
   },
   "outputs": [],
   "source": [
    "violentColumns = [\"robbery\", \"assault\", \"rape\"]\n",
    "violentCodes = []\n",
    "propertyColumns = [\"burglary\", \"larceny\", \"theft\", \"auto theft\", \"arson\"]\n",
    "propertyCodes = []"
   ]
  },
  {
   "cell_type": "code",
   "execution_count": 341,
   "id": "2fa2b5d9",
   "metadata": {
    "pycharm": {
     "name": "#%%\n"
    }
   },
   "outputs": [],
   "source": [
    "violentSum = 0\n",
    "propertySum = 0\n",
    "for row in codes.iloc:\n",
    "    for column in violentColumns:\n",
    "        if column in row.NAME.lower():\n",
    "            #violentSum += len(data.query(\"OFFENSE_CODE == \" +  str(row.CODE)))\n",
    "            #print(row.NAME) #they all looked good\n",
    "            violentCodes.append(row.CODE)\n",
    "    for column in propertyColumns:\n",
    "        if column in row.NAME.lower() and (\"force\" not in row.NAME.lower() or \"no force\" in row.NAME.lower()):\n",
    "            #propertySum += len(data.query(\"OFFENSE_CODE == \" +  str(row.CODE)))\n",
    "            #print(row.NAME) #some of them used force\n",
    "            propertyCodes.append(row.CODE)"
   ]
  },
  {
   "cell_type": "code",
   "execution_count": 342,
   "id": "3f2d0a47",
   "metadata": {
    "pycharm": {
     "name": "#%%\n"
    }
   },
   "outputs": [],
   "source": [
    "violentSum2019 = 0\n",
    "violentSum2020 = 0\n",
    "propertySum2019 = 0\n",
    "propertySum2020 = 0\n",
    "for code in violentCodes:\n",
    "    violentSum2019 += len(data.query(\"YEAR == 2019 & OFFENSE_CODE ==\" + str(code)))\n",
    "    violentSum2020 += len(data.query(\"YEAR == 2020 & OFFENSE_CODE ==\" + str(code)))\n",
    "for code in propertyCodes:\n",
    "    propertySum2019 += len(data.query(\"YEAR == 2019 & OFFENSE_CODE ==\" + str(code)))\n",
    "    propertySum2020 += len(data.query(\"YEAR == 2020 & OFFENSE_CODE ==\" + str(code)))"
   ]
  },
  {
   "cell_type": "code",
   "execution_count": 343,
   "id": "32c79c61",
   "metadata": {
    "pycharm": {
     "name": "#%%\n"
    }
   },
   "outputs": [
    {
     "name": "stdout",
     "output_type": "stream",
     "text": [
      "Violent crimes in 2019: 16405\n",
      "Violent crimes in 2020: 10304\n",
      "Property crimes in 2019: 31036\n",
      "Property crimes in 2020: 29215\n"
     ]
    }
   ],
   "source": [
    "print(\"Violent crimes in 2019:\", violentSum2019)\n",
    "print(\"Violent crimes in 2020:\", violentSum2020)\n",
    "print(\"Property crimes in 2019:\", propertySum2019)\n",
    "print(\"Property crimes in 2020:\", propertySum2020)"
   ]
  },
  {
   "cell_type": "code",
   "execution_count": 344,
   "id": "1a50abc3",
   "metadata": {
    "pycharm": {
     "name": "#%%\n"
    }
   },
   "outputs": [],
   "source": [
    "#wanted to see if it had the same trend in the first half (COVID)\n",
    "violentSum2019 = 0\n",
    "violentSum2020 = 0\n",
    "propertySum2019 = 0\n",
    "propertySum2020 = 0\n",
    "for code in violentCodes:\n",
    "    violentSum2019 += len(data.query(\"YEAR == 2019 & MONTH < 7 & OFFENSE_CODE ==\" + str(code)))\n",
    "    violentSum2020 += len(data.query(\"YEAR == 2020 & MONTH < 7 & OFFENSE_CODE ==\" + str(code)))\n",
    "for code in propertyCodes:\n",
    "    propertySum2019 += len(data.query(\"YEAR == 2019 & MONTH < 7 & OFFENSE_CODE ==\" + str(code)))\n",
    "    propertySum2020 += len(data.query(\"YEAR == 2020 & MONTH < 7 & OFFENSE_CODE ==\" + str(code)))"
   ]
  },
  {
   "cell_type": "code",
   "execution_count": 345,
   "id": "c2413ceb",
   "metadata": {
    "pycharm": {
     "name": "#%%\n"
    }
   },
   "outputs": [
    {
     "name": "stdout",
     "output_type": "stream",
     "text": [
      "Violent crimes in first half of 2019: 8428\n",
      "Violent crimes in first half of 2020: 4978\n",
      "Property crimes in first half of 2019: 14162\n",
      "Property crimes in first half of 2020: 13457\n"
     ]
    }
   ],
   "source": [
    "print(\"Violent crimes in first half of 2019:\", violentSum2019)\n",
    "print(\"Violent crimes in first half of 2020:\", violentSum2020)\n",
    "print(\"Property crimes in first half of 2019:\", propertySum2019)\n",
    "print(\"Property crimes in first half of 2020:\", propertySum2020)"
   ]
  },
  {
   "cell_type": "markdown",
   "id": "aafd4b4e",
   "metadata": {
    "pycharm": {
     "name": "#%% md\n"
    }
   },
   "source": [
    "There seems to be a large decrease in violent crimes from 2019 to 2020, and a slight decrease in property crimes from 2019 to 2020"
   ]
  },
  {
   "cell_type": "markdown",
   "id": "881d9daa",
   "metadata": {
    "pycharm": {
     "name": "#%% md\n"
    }
   },
   "source": [
    "## 7.2\n",
    "Create a scatterplot of annual violent crimes vs. annual property crimes by district in Boston from 2019 to 2020. X axis: annual property crimes. Y axis: annual violent crimes. Use different colors to color data from different years. "
   ]
  },
  {
   "cell_type": "code",
   "execution_count": 346,
   "id": "90842137",
   "metadata": {
    "pycharm": {
     "name": "#%%\n"
    }
   },
   "outputs": [
    {
     "data": {
      "text/plain": [
       "array(['A1', 'C11', 'E18', 'D4', 'B2', 'B3', 'E13', 'C6', 'D14', 'A7',\n",
       "       'E5', 'A15', 'External'], dtype=object)"
      ]
     },
     "execution_count": 346,
     "metadata": {},
     "output_type": "execute_result"
    }
   ],
   "source": [
    "data = pandas.read_csv(\"combinedCrime.csv\", low_memory=False)\n",
    "data[\"DISTRICT\"].unique()"
   ]
  },
  {
   "cell_type": "code",
   "execution_count": 347,
   "id": "1c661aa1",
   "metadata": {
    "pycharm": {
     "name": "#%%\n"
    }
   },
   "outputs": [],
   "source": [
    "#already removed null by previous data processing\n",
    "data = data.query('DISTRICT != \"External\"')"
   ]
  },
  {
   "cell_type": "code",
   "execution_count": 348,
   "id": "d6b425d1",
   "metadata": {
    "pycharm": {
     "name": "#%%\n"
    }
   },
   "outputs": [
    {
     "data": {
      "text/plain": [
       "array(['A1', 'C11', 'E18', 'D4', 'B2', 'B3', 'E13', 'C6', 'D14', 'A7',\n",
       "       'E5', 'A15'], dtype=object)"
      ]
     },
     "execution_count": 348,
     "metadata": {},
     "output_type": "execute_result"
    }
   ],
   "source": [
    "data[\"DISTRICT\"].unique()"
   ]
  },
  {
   "cell_type": "code",
   "execution_count": 349,
   "id": "4f287a8d",
   "metadata": {
    "pycharm": {
     "name": "#%%\n"
    }
   },
   "outputs": [],
   "source": [
    "violenceOrPropValues = [\"none\", \"violence\", \"property\", \"both\"]\n",
    "violenceOrProp = []\n",
    "for x in data[\"OFFENSE_CODE\"]:\n",
    "    violenceOrProp.append(violenceOrPropValues[int(x in violentCodes) + 2*int(x in propertyCodes)])\n",
    "data['violenceOrProp'] = violenceOrProp #technically dont have to do this for crosstab"
   ]
  },
  {
   "cell_type": "code",
   "execution_count": 350,
   "id": "ecb00bb9",
   "metadata": {
    "pycharm": {
     "name": "#%%\n"
    }
   },
   "outputs": [],
   "source": [
    "data2019 = data.query(\"YEAR == 2019\")\n",
    "data2020 = data.query(\"YEAR == 2020\")\n",
    "cross2019 = pandas.crosstab(data2019[\"DISTRICT\"], data2019[\"violenceOrProp\"])\n",
    "cross2020 = pandas.crosstab(data2020[\"DISTRICT\"], data2020[\"violenceOrProp\"])"
   ]
  },
  {
   "cell_type": "code",
   "execution_count": 351,
   "id": "860c9008",
   "metadata": {
    "pycharm": {
     "name": "#%%\n"
    }
   },
   "outputs": [
    {
     "data": {
      "text/plain": [
       "Index(['none', 'property', 'violence'], dtype='object', name='violenceOrProp')"
      ]
     },
     "execution_count": 351,
     "metadata": {},
     "output_type": "execute_result"
    }
   ],
   "source": [
    "cross2019.columns"
   ]
  },
  {
   "cell_type": "code",
   "execution_count": 352,
   "id": "f1acdcf0",
   "metadata": {
    "pycharm": {
     "name": "#%%\n"
    }
   },
   "outputs": [
    {
     "data": {
      "text/plain": [
       "[]"
      ]
     },
     "execution_count": 352,
     "metadata": {},
     "output_type": "execute_result"
    },
    {
     "data": {
      "image/png": "[encoded data removed]",
      "text/plain": [
       "<Figure size 432x288 with 1 Axes>"
      ]
     },
     "metadata": {
      "needs_background": "light"
     },
     "output_type": "display_data"
    }
   ],
   "source": [
    "plt = cross2019.plot.scatter('property', 'violence', c='blue')\n",
    "plt.scatter(cross2020['property'], cross2020['violence'], c='red')\n",
    "plt.legend(['2019', '2020'], loc='upper right')\n",
    "plt.plot()"
   ]
  },
  {
   "cell_type": "markdown",
   "id": "f62b4d60",
   "metadata": {
    "pycharm": {
     "name": "#%% md\n"
    }
   },
   "source": [
    "## 7.3\n",
    "Create a bar plot of the sum of annual violent and property crimes by district in Boston from 2019 to 2020. X axis: districts. Y axis: annual sums. Use different bars to represent data from different years. "
   ]
  },
  {
   "cell_type": "code",
   "execution_count": 353,
   "id": "15288be9",
   "metadata": {
    "pycharm": {
     "name": "#%%\n"
    }
   },
   "outputs": [
    {
     "data": {
      "image/png": "[encoded data removed]",
      "text/plain": [
       "<Figure size 432x288 with 1 Axes>"
      ]
     },
     "metadata": {
      "needs_background": "light"
     },
     "output_type": "display_data"
    }
   ],
   "source": [
    "#just used the same crosstab from earlier, since less typing\n",
    "import matplotlib.pyplot as plot\n",
    "ranges = []\n",
    "for i in range(4):\n",
    "    ranges.append([x+.2*i for x in range(len(cross2019.index))])\n",
    "plot.bar(ranges[0], height=cross2019['property'], align='edge', width=-0.2, color='red', tick_label=cross2019.index)\n",
    "plot.bar(ranges[1], height=cross2020['property'], align='edge', width=-0.2, color='blue')\n",
    "plot.bar(ranges[2], height=cross2019['violence'], align='edge', width=-0.2, color='orange')\n",
    "plot.bar(ranges[3], height=cross2020['violence'], align='edge', width=-0.2, color='green')\n",
    "plot.legend(['property 2019', 'property 2020', 'violence 2020', 'violence 2020'])\n",
    "plot.xlabel('District')\n",
    "plot.ylabel('crime count')\n",
    "plot.show()"
   ]
  },
  {
   "cell_type": "code",
   "execution_count": 354,
   "id": "9442db6c",
   "metadata": {
    "pycharm": {
     "name": "#%%\n"
    }
   },
   "outputs": [
    {
     "data": {
      "image/png": "[encoded data removed]",
      "text/plain": [
       "<Figure size 432x288 with 1 Axes>"
      ]
     },
     "metadata": {
      "needs_background": "light"
     },
     "output_type": "display_data"
    }
   ],
   "source": [
    "#was interesting to see how every district decreased in violent crime\n",
    "#there was also a chance you wanted combined prop/violence, so including that as well\n",
    "plot.bar(ranges[0], height=cross2019['property']+cross2019['violence'], align='edge', width=-0.3, color='red', tick_label=cross2019.index)\n",
    "plot.bar(ranges[0], height=cross2020['property']+cross2020['violence'], align='edge', width=0.3, color='blue')\n",
    "plot.legend(['2019', '2020'])\n",
    "plot.xlabel('District')\n",
    "plot.ylabel('property or violent crime count')\n",
    "plot.show()"
   ]
  },
  {
   "cell_type": "markdown",
   "id": "8adae89a",
   "metadata": {
    "pycharm": {
     "name": "#%% md\n"
    }
   },
   "source": [
    "## 7.4\n",
    "Create a violin plot of district-level shooting incidents by quarter in Boston from 2019 to 2020. X axis: quarters. Y axis: district-level shooting incidents (counts)."
   ]
  },
  {
   "cell_type": "code",
   "execution_count": 355,
   "id": "152a1cd2",
   "metadata": {
    "pycharm": {
     "name": "#%%\n"
    }
   },
   "outputs": [],
   "source": [
    "data = pandas.read_csv(\"combinedCrime.csv\", low_memory=False)\n",
    "data = data.query('DISTRICT != \"External\"')"
   ]
  },
  {
   "cell_type": "code",
   "execution_count": 356,
   "id": "4c4c8da2",
   "metadata": {
    "pycharm": {
     "name": "#%%\n"
    }
   },
   "outputs": [
    {
     "data": {
      "text/plain": [
       "Index(['INCIDENT_NUMBER', 'OFFENSE_CODE', 'OFFENSE_CODE_GROUP',\n",
       "       'OFFENSE_DESCRIPTION', 'DISTRICT', 'REPORTING_AREA', 'SHOOTING',\n",
       "       'OCCURRED_ON_DATE', 'YEAR', 'MONTH', 'DAY_OF_WEEK', 'HOUR', 'UCR_PART',\n",
       "       'STREET', 'Lat', 'Long', 'Location'],\n",
       "      dtype='object')"
      ]
     },
     "execution_count": 356,
     "metadata": {},
     "output_type": "execute_result"
    }
   ],
   "source": [
    "data.columns"
   ]
  },
  {
   "cell_type": "code",
   "execution_count": 357,
   "id": "b77e769d",
   "metadata": {
    "pycharm": {
     "name": "#%%\n"
    }
   },
   "outputs": [],
   "source": [
    "data['Quarter'] = data['MONTH']//4"
   ]
  },
  {
   "cell_type": "code",
   "execution_count": 358,
   "id": "4d29017f",
   "metadata": {
    "pycharm": {
     "name": "#%%\n"
    }
   },
   "outputs": [],
   "source": [
    "shootArray = []\n",
    "i = 0\n",
    "districtToNum = {} #maps\n",
    "districtList = list(data['DISTRICT'].unique()) #since I wanted to sort it\n",
    "districtList.sort()\n",
    "for district in districtList:\n",
    "    districtToNum[district] = i\n",
    "    i += 1\n",
    "for i in range(8):\n",
    "    shootArray.append(list((data.query('Quarter == ' + str(i%4) + '& YEAR == ' + str(2019 + i//4) + ' & SHOOTING == 1'))['DISTRICT']))\n",
    "    #shootArray[i] = [(ord(x[0])-64)*100+int(x[1:]) for x in shootArray[i]]\n",
    "    shootArray[i] = [districtToNum[x] for x in shootArray[i]]"
   ]
  },
  {
   "cell_type": "code",
   "execution_count": 359,
   "id": "0fed61bf",
   "metadata": {
    "pycharm": {
     "name": "#%%\n"
    }
   },
   "outputs": [
    {
     "data": {
      "image/png": "[encoded data removed]",
      "text/plain": [
       "<Figure size 432x288 with 1 Axes>"
      ]
     },
     "metadata": {
      "needs_background": "light"
     },
     "output_type": "display_data"
    }
   ],
   "source": [
    "plot.violinplot(shootArray)\n",
    "plot.yticks(ticks=range(len(districtList)), labels=districtList)\n",
    "plot.ylabel('District')\n",
    "plot.xticks(ticks=range(9), labels=[\"\"]+[str(19+i//4)+'Q'+str(i%4+1) for i in range(8)]) #did 19/20 bc too crowded otherwise\n",
    "plot.xlabel('Quarter')\n",
    "plot.show()"
   ]
  }
 ],
 "metadata": {
  "kernelspec": {
   "display_name": "Python 3 (ipykernel)",
   "language": "python",
   "name": "python3"
  },
  "language_info": {
   "codemirror_mode": {
    "name": "ipython",
    "version": 3
   },
   "file_extension": ".py",
   "mimetype": "text/x-python",
   "name": "python",
   "nbconvert_exporter": "python",
   "pygments_lexer": "ipython3",
   "version": "3.8.13"
  }
 },
 "nbformat": 4,
 "nbformat_minor": 5
}