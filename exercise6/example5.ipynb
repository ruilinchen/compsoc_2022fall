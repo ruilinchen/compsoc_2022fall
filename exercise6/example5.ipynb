{
 "cells": [
  {
   "cell_type": "markdown",
   "id": "012c3dad",
   "metadata": {},
   "source": [
    "# Coding Exercise 6\n",
    "## Task 6.1\n",
    "The following code combines the Boston crime records from 2019 and 2020 into a single dataframe. In addition, it drops duplicates and any record that has a missing value in in 'OFFENSE_CODE','DISTRICT','Long','Lat','SHOOTING', or 'OCCURRED_ON_DATE'. Lastly, it writes the \"cleaned data\" into a separate csv file. "
   ]
  },
  {
   "cell_type": "code",
   "execution_count": 2,
   "id": "cc362485",
   "metadata": {},
   "outputs": [],
   "source": [
    "import pandas as pd"
   ]
  },
  {
   "cell_type": "code",
   "execution_count": 16,
   "id": "d041e8b3",
   "metadata": {},
   "outputs": [],
   "source": [
    "crime19=pd.read_csv('crime/2019.csv',delimiter=',',dtype={'INCIDENT_NUMBER': str})\n",
    "crime20=pd.read_csv('crime/2020.csv',delimiter=',',dtype={'INCIDENT_NUMBER': str})\n",
    "df=pd.concat([crime19,crime20]).drop_duplicates().reset_index(drop=True)\n",
    "df=df[df['OFFENSE_CODE'].notna()]\n",
    "df=df[df['DISTRICT'].notna()]\n",
    "df=df[df['Long'].notna()]\n",
    "df=df[df['Lat'].notna()]\n",
    "df=df[df['SHOOTING'].notna()]\n",
    "df=df[df['OCCURRED_ON_DATE'].notna()]\n",
    "df.to_csv('cleaned_crime.csv',index=False)"
   ]
  },
  {
   "cell_type": "markdown",
   "id": "525a75d9",
   "metadata": {},
   "source": [
    "## Task 6.2\n",
    "The following code reads the csv file generated from the task above into a dataframe and creates a frequency table that counts the total number of crime incidents in Boston in each month. The resulting table is printed."
   ]
  },
  {
   "cell_type": "code",
   "execution_count": 19,
   "id": "8927ecb8",
   "metadata": {},
   "outputs": [
    {
     "name": "stdout",
     "output_type": "stream",
     "text": [
      "MONTH\n",
      "1     13251\n",
      "2     12021\n",
      "3     12555\n",
      "4     11298\n",
      "5     13174\n",
      "6     13494\n",
      "7     14249\n",
      "8     14886\n",
      "9     14600\n",
      "10    13731\n",
      "11    12093\n",
      "12    11407\n",
      "Name: MONTH, dtype: int64\n"
     ]
    }
   ],
   "source": [
    "df=pd.read_csv('cleaned_crime.csv',delimiter=',',dtype={'INCIDENT_NUMBER': str})\n",
    "df2=df.groupby(['MONTH'])['MONTH'].count()\n",
    "print(df2)"
   ]
  },
  {
   "cell_type": "markdown",
   "id": "de282128",
   "metadata": {},
   "source": [
    "## Task 6.3\n",
    "The following code counts the total number of crime incidents in each year by district, ignoring any districts with null or 'External' values."
   ]
  },
  {
   "cell_type": "code",
   "execution_count": 21,
   "id": "9c3a01fc",
   "metadata": {},
   "outputs": [
    {
     "name": "stdout",
     "output_type": "stream",
     "text": [
      "DISTRICT\n",
      "A1     16949\n",
      "A15     3489\n",
      "A7      6541\n",
      "B2     23472\n",
      "B3     17419\n",
      "C11    20014\n",
      "C6     11726\n",
      "D14    10460\n",
      "D4     20559\n",
      "E13     9031\n",
      "E18     9374\n",
      "E5      7402\n",
      "Name: DISTRICT, dtype: int64\n"
     ]
    }
   ],
   "source": [
    "df=df[df['DISTRICT'].notna()] #I think this is handled in 6.1 but just in case!\n",
    "df=df[df['DISTRICT']!='External']\n",
    "df3=df.groupby(['DISTRICT'])['DISTRICT'].count()\n",
    "print(df3)"
   ]
  },
  {
   "cell_type": "markdown",
   "id": "a7c13638",
   "metadata": {},
   "source": [
    "Based on the crime distribution by district we see that they range from 3000-2500. District A15 (Charlestown) has an especially low crime while the highest crime rates are in B2 (Roxbury), D4 (South End), and C11 (Dorchester). Using the URL below, we can see a map of these districts and see that the districts with the highest crime incidents are geographically adjacent."
   ]
  },
  {
   "cell_type": "markdown",
   "id": "86b6736e",
   "metadata": {},
   "source": [
    "https://www.researchgate.net/figure/Boston-District-Map-accounting-for-the-main-districts-in-the-city-14_fig1_339214659"
   ]
  }
 ],
 "metadata": {
  "kernelspec": {
   "display_name": "Python [conda env:compsoc] *",
   "language": "python",
   "name": "conda-env-compsoc-py"
  },
  "language_info": {
   "codemirror_mode": {
    "name": "ipython",
    "version": 3
   },
   "file_extension": ".py",
   "mimetype": "text/x-python",
   "name": "python",
   "nbconvert_exporter": "python",
   "pygments_lexer": "ipython3",
   "version": "3.8.13"
  }
 },
 "nbformat": 4,
 "nbformat_minor": 5
}
