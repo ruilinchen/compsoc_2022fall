{
 "cells": [
  {
   "cell_type": "code",
   "execution_count": 20,
   "id": "a62ad139",
   "metadata": {
    "scrolled": false,
    "pycharm": {
     "name": "#%%\n"
    }
   },
   "outputs": [
    {
     "name": "stdout",
     "output_type": "stream",
     "text": [
      "The names \"John Doe\" for males, \"Jane Doe\" or \"Jane Roe\" for females, or \"Jonnie Doe\" and \"Janie Doe\" for children, or just \"Doe\" non-gender-specifically are used as placeholder names for a party whose true identity is unknown or must be withheld in a legal action, case, or discussion. The names are also used to refer to acorpse or hospital patient whose identity is unknown. This practice is widely used in the United States and Canada, but is rarely used in other English-speaking countries including the United Kingdom itself, from where the use of \"John Doe\" in a legal context originates. The names Joe Bloggs or John Smith are used in the UK instead, as well as in Australia and New Zealand.\n",
      "\n",
      "John Doe is sometimes used to refer to a typical male in other contexts as well, in a similar manner to John Q. Public, known in Great Britain as Joe Public, John Smith or Joe Bloggs. For example, the first name listed on a form is often John Doe, along with a fictional address or other fictional information to provide an example of how to fill in the form. The name is also used frequently in popular culture, for example in the Frank Capra film Meet John Doe. John Doe was also the name of a 2002 American television series.\n",
      "\n",
      "Similarly, a child or baby whose identity is unknown may be referred to as Baby Doe. A notorious murder case in Kansas City, Missouri, referred to the baby victim as Precious Doe. Other unidentified female murder victims are Cali Doe and Princess Doe. Additional persons may be called James Doe, Judy Doe, etc. However, to avoid possible confusion, if two anonymous or unknown parties are cited in a specific case or action, the surnames Doe and Roe may be used simultaneously; for example, \"John Doe v. Jane Roe\". If several anonymous parties are referenced, they may simply be labelled John Doe #1, John Doe #2, etc. (the U.S. Operation Delego cited 21 (numbered) \"John Doe\"s) or labelled with other variants of Doe / Roe / Poe / etc. Other early alternatives such as John Stiles and Richard Miles are now rarely used, and Mary Major has been used in some American federal cases.\n",
      "\n",
      "\n",
      "\n",
      "File created by https://www.online-convert.com\n",
      "\n",
      "Text of Example content: Wikipedia (https://en.wikipedia.org/wiki/John_Doe)\n",
      "\n",
      "\n",
      "\n"
     ]
    }
   ],
   "source": [
    "# Task 4.1\n",
    "# This code opens the example.txt file and prints every other line starting from line 7 \n",
    "\n",
    "with open('example.txt', 'r') as f:\n",
    "    next_line = 7\n",
    "    for i,line in enumerate(f):\n",
    "        if i == next_line:\n",
    "            print(line)\n",
    "            next_line += 2   "
   ]
  },
  {
   "cell_type": "code",
   "execution_count": 3,
   "id": "a155a44a",
   "metadata": {
    "pycharm": {
     "name": "#%%\n"
    }
   },
   "outputs": [
    {
     "data": {
      "text/plain": [
       "1075"
      ]
     },
     "execution_count": 3,
     "metadata": {},
     "output_type": "execute_result"
    }
   ],
   "source": [
    "# Task 4.2\n",
    "# This code generates 20 numbers randomly and returns the sum of the 20 numbers.\n",
    "\n",
    "import random\n",
    "\n",
    "def sumForTwenty():\n",
    "    numList = []  # creates an empty list for numbers\n",
    "    \n",
    "    for i in range (0,20):   # uses a loop to generate 20 numbers randomly\n",
    "        n = random.randint(1,100)\n",
    "        numList.append(n)\n",
    "    \n",
    "    for i in numList:\n",
    "        if type(i) == str:\n",
    "            print(\"Error message\")\n",
    "        else:\n",
    "            total = sum(numList)\n",
    "    \n",
    "    return total\n",
    "    \n",
    "sumForTwenty()"
   ]
  },
  {
   "cell_type": "code",
   "execution_count": 27,
   "id": "4a3ab76c",
   "metadata": {
    "pycharm": {
     "name": "#%%\n"
    }
   },
   "outputs": [
    {
     "data": {
      "text/plain": [
       "['a1', 'b1', 'a2', 'b2', 'a3', 'b3']"
      ]
     },
     "execution_count": 27,
     "metadata": {},
     "output_type": "execute_result"
    }
   ],
   "source": [
    "# Task 4.3\n",
    "# This code takes the list of characters and repeats them N times.\n",
    "\n",
    "def duplicateNames(list, N):\n",
    "    N_list = []\n",
    "    for i in range(1,N+1):\n",
    "        for item in list:\n",
    "            N_list.append(item+str(i))\n",
    "    return N_list\n",
    "\n",
    "duplicateNames(['a','b'],3)"
   ]
  },
  {
   "cell_type": "code",
   "execution_count": 43,
   "id": "2287a9ea",
   "metadata": {
    "pycharm": {
     "name": "#%%\n"
    }
   },
   "outputs": [
    {
     "data": {
      "text/plain": [
       "['kobe', 'larry', 'michael']"
      ]
     },
     "execution_count": 43,
     "metadata": {},
     "output_type": "execute_result"
    }
   ],
   "source": [
    "# Task 4.4\n",
    "# This code returns the names of players with the highest scores. \n",
    "\n",
    "def top3Players(players):\n",
    "    values = sorted(players.values())\n",
    "    keys = []\n",
    "    for i in values:\n",
    "        for item in players.keys():\n",
    "            if players[item] == i:\n",
    "                keys.append(item)\n",
    "    return keys [-3:]\n",
    "\n",
    "\n",
    "top3Players({'lebron': 70, 'kobe': 80, 'stephen': 75, 'michael': 85, 'larry': 82})"
   ]
  }
 ],
 "metadata": {
  "kernelspec": {
   "display_name": "Python [conda env:compsoc] *",
   "language": "python",
   "name": "conda-env-compsoc-py"
  },
  "language_info": {
   "codemirror_mode": {
    "name": "ipython",
    "version": 3
   },
   "file_extension": ".py",
   "mimetype": "text/x-python",
   "name": "python",
   "nbconvert_exporter": "python",
   "pygments_lexer": "ipython3",
   "version": "3.8.13"
  }
 },
 "nbformat": 4,
 "nbformat_minor": 5
}