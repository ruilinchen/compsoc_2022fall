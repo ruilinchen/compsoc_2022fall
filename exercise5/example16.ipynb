{
 "cells": [
  {
   "cell_type": "markdown",
   "id": "2f006d6d",
   "metadata": {
    "pycharm": {
     "name": "#%% md\n"
    }
   },
   "source": [
    "# Exercise #5"
   ]
  },
  {
   "cell_type": "markdown",
   "id": "159a541c",
   "metadata": {
    "pycharm": {
     "name": "#%% md\n"
    }
   },
   "source": [
    "### Content\n",
    "* Task 5.1\n",
    "* Task 5.2\n",
    "* Task 5.3"
   ]
  },
  {
   "cell_type": "markdown",
   "id": "e687f19c",
   "metadata": {
    "pycharm": {
     "name": "#%% md\n"
    }
   },
   "source": [
    "### Task 5.1"
   ]
  },
  {
   "cell_type": "code",
   "execution_count": 2,
   "id": "53c00480",
   "metadata": {
    "pycharm": {
     "name": "#%%\n"
    }
   },
   "outputs": [
    {
     "name": "stdout",
     "output_type": "stream",
     "text": [
      "MA_cbg_human_mobility_2019/MA_cbg2cbg_2019_09.csv\n",
      "__MACOSX/MA_cbg_human_mobility_2019/._MA_cbg2cbg_2019_09.csv\n",
      "MA_cbg_human_mobility_2019/MA_cbg2cbg_2019_08.csv\n",
      "__MACOSX/MA_cbg_human_mobility_2019/._MA_cbg2cbg_2019_08.csv\n",
      "MA_cbg_human_mobility_2019/MA_cbg2cbg_2019_03.csv\n",
      "__MACOSX/MA_cbg_human_mobility_2019/._MA_cbg2cbg_2019_03.csv\n",
      "MA_cbg_human_mobility_2019/MA_cbg2cbg_2019_02.csv\n",
      "__MACOSX/MA_cbg_human_mobility_2019/._MA_cbg2cbg_2019_02.csv\n",
      "MA_cbg_human_mobility_2019/MA_cbg2cbg_2019_01.csv\n",
      "__MACOSX/MA_cbg_human_mobility_2019/._MA_cbg2cbg_2019_01.csv\n",
      "MA_cbg_human_mobility_2019/MA_cbg2cbg_2019_05.csv\n",
      "__MACOSX/MA_cbg_human_mobility_2019/._MA_cbg2cbg_2019_05.csv\n",
      "MA_cbg_human_mobility_2019/MA_cbg2cbg_2019_11.csv\n",
      "__MACOSX/MA_cbg_human_mobility_2019/._MA_cbg2cbg_2019_11.csv\n",
      "MA_cbg_human_mobility_2019/MA_cbg2cbg_2019_10.csv\n",
      "__MACOSX/MA_cbg_human_mobility_2019/._MA_cbg2cbg_2019_10.csv\n",
      "MA_cbg_human_mobility_2019/MA_cbg2cbg_2019_04.csv\n",
      "__MACOSX/MA_cbg_human_mobility_2019/._MA_cbg2cbg_2019_04.csv\n",
      "MA_cbg_human_mobility_2019/MA_cbg2cbg_2019_12.csv\n",
      "__MACOSX/MA_cbg_human_mobility_2019/._MA_cbg2cbg_2019_12.csv\n",
      "MA_cbg_human_mobility_2019/MA_cbg2cbg_2019_06.csv\n",
      "__MACOSX/MA_cbg_human_mobility_2019/._MA_cbg2cbg_2019_06.csv\n",
      "MA_cbg_human_mobility_2019/MA_cbg2cbg_2019_07.csv\n",
      "__MACOSX/MA_cbg_human_mobility_2019/._MA_cbg2cbg_2019_07.csv\n"
     ]
    }
   ],
   "source": [
    "# Looping through the Zip file\n",
    "\n",
    "from zipfile import ZipFile\n",
    "\n",
    "with ZipFile(\"MA_cbg_human_mobility_2019.zip\",\"r\") as zipobj:\n",
    "    name_fime = zipobj.namelist()\n",
    "    for element in name_fime:\n",
    "        if \".csv\" in element:\n",
    "            print(element)"
   ]
  },
  {
   "cell_type": "markdown",
   "id": "ee786b4d",
   "metadata": {
    "pycharm": {
     "name": "#%% md\n"
    }
   },
   "source": [
    "### Task 5.2"
   ]
  },
  {
   "cell_type": "code",
   "execution_count": 31,
   "id": "2646792b",
   "metadata": {
    "pycharm": {
     "name": "#%%\n"
    }
   },
   "outputs": [
    {
     "name": "stdout",
     "output_type": "stream",
     "text": [
      "Theere are 78361137 lines in total.\n"
     ]
    }
   ],
   "source": [
    "# Looping through files\n",
    "\n",
    "\n",
    "import os\n",
    "import pandas as pd\n",
    "import glob\n",
    "\n",
    "count = 0\n",
    "sum_count = 0\n",
    "\n",
    "for name in glob.glob('*.csv'):\n",
    "    f_name = pd.read_csv(name)\n",
    "    count+=len(f_name)\n",
    "    sum_count += count\n",
    "        \n",
    "    \n",
    "print(f\"Theere are {sum_count} lines in total.\")"
   ]
  },
  {
   "cell_type": "markdown",
   "id": "71cd8e32",
   "metadata": {
    "pycharm": {
     "name": "#%% md\n"
    }
   },
   "source": [
    "### Task 5.3"
   ]
  },
  {
   "cell_type": "code",
   "execution_count": 22,
   "id": "8e1563e0",
   "metadata": {
    "pycharm": {
     "name": "#%%\n"
    }
   },
   "outputs": [
    {
     "name": "stdout",
     "output_type": "stream",
     "text": [
      "['MA_cbg2cbg_2019_09.csv'] 1136953\n",
      "['MA_cbg2cbg_2019_08.csv'] 1194284\n",
      "['MA_cbg2cbg_2019_03.csv'] 914653\n",
      "['MA_cbg2cbg_2019_02.csv'] 818861\n",
      "['MA_cbg2cbg_2019_01.csv'] 840593\n",
      "['MA_cbg2cbg_2019_05.csv'] 1088294\n",
      "['MA_cbg2cbg_2019_11.csv'] 901468\n",
      "['MA_cbg2cbg_2019_10.csv'] 1010777\n",
      "['MA_cbg2cbg_2019_04.csv'] 1011374\n",
      "['MA_cbg2cbg_2019_12.csv'] 950661\n",
      "['MA_cbg2cbg_2019_06.csv'] 1120696\n",
      "['MA_cbg2cbg_2019_07.csv'] 1119932\n"
     ]
    },
    {
     "data": {
      "text/plain": [
       "{'MA_cbg2cbg_2019_09.csv': 1136953,\n",
       " 'MA_cbg2cbg_2019_08.csv': 1194284,\n",
       " 'MA_cbg2cbg_2019_03.csv': 914653,\n",
       " 'MA_cbg2cbg_2019_02.csv': 818861,\n",
       " 'MA_cbg2cbg_2019_01.csv': 840593,\n",
       " 'MA_cbg2cbg_2019_05.csv': 1088294,\n",
       " 'MA_cbg2cbg_2019_11.csv': 901468,\n",
       " 'MA_cbg2cbg_2019_10.csv': 1010777,\n",
       " 'MA_cbg2cbg_2019_04.csv': 1011374,\n",
       " 'MA_cbg2cbg_2019_12.csv': 950661,\n",
       " 'MA_cbg2cbg_2019_06.csv': 1120696,\n",
       " 'MA_cbg2cbg_2019_07.csv': 1119932}"
      ]
     },
     "execution_count": 22,
     "metadata": {},
     "output_type": "execute_result"
    }
   ],
   "source": [
    "import os\n",
    "import pandas as pd\n",
    "import glob\n",
    "\n",
    "d = {}\n",
    "\n",
    "for name in glob.glob('*.csv'):\n",
    "    f_name = pd.read_csv(name)\n",
    "    if name not in d:\n",
    "        d[name] = name\n",
    "        d[name] = len(f_name)\n",
    "\n",
    "\n",
    "\n",
    "d"
   ]
  },
  {
   "cell_type": "code",
   "execution_count": null,
   "id": "72bcbef7",
   "metadata": {
    "pycharm": {
     "name": "#%%\n"
    }
   },
   "outputs": [],
   "source": []
  }
 ],
 "metadata": {
  "kernelspec": {
   "display_name": "Python 3 (ipykernel)",
   "language": "python",
   "name": "python3"
  },
  "language_info": {
   "codemirror_mode": {
    "name": "ipython",
    "version": 3
   },
   "file_extension": ".py",
   "mimetype": "text/x-python",
   "name": "python",
   "nbconvert_exporter": "python",
   "pygments_lexer": "ipython3",
   "version": "3.8.13"
  }
 },
 "nbformat": 4,
 "nbformat_minor": 5
}