{
 "cells": [
  {
   "cell_type": "markdown",
   "id": "73963960",
   "metadata": {
    "pycharm": {
     "name": "#%% md\n"
    }
   },
   "source": [
    "exercise#3"
   ]
  },
  {
   "cell_type": "code",
   "execution_count": 6,
   "id": "3f8de14f",
   "metadata": {
    "pycharm": {
     "name": "#%%\n"
    }
   },
   "outputs": [
    {
     "name": "stdout",
     "output_type": "stream",
     "text": [
      "Enter number of elements in list: 4\n",
      "Enter elements: 12\n",
      "Enter elements: 13\n",
      "Enter elements: 14\n",
      "Enter elements: 15\n",
      "Largest element is: 15\n",
      "Smallest element is: 12\n",
      "difference is: 3\n"
     ]
    }
   ],
   "source": [
    "list1 = []\n",
    " \n",
    "num = int(input(\"Enter number of elements in list: \"))\n",
    " \n",
    "for i in range(1, num + 1):\n",
    "    ele = int(input(\"Enter elements: \"))\n",
    "    list1.append(ele)\n",
    "     \n",
    "# print maximum, minimum and difference\n",
    "\n",
    "print(\"Largest element is:\", max(list1))\n",
    "print(\"Smallest element is:\", min(list1))\n",
    "print(\"difference is:\", max(list1)-min(list1))"
   ]
  },
  {
   "cell_type": "code",
   "execution_count": 7,
   "id": "2e2a84fc",
   "metadata": {
    "pycharm": {
     "name": "#%%\n"
    }
   },
   "outputs": [],
   "source": [
    "def fun2(l1, l2):\n",
    "    num_len1 = len(l1)\n",
    "    num_len2 = len(l2)\n",
    "    res = []\n",
    "    for i in range(max([num_len1, num_len2])):\n",
    "        try:\n",
    "            res.append(l1[i])\n",
    "        except:\n",
    "            pass\n",
    "        try:\n",
    "            res.append(l2[i])\n",
    "        except:\n",
    "            pass\n",
    "    return res"
   ]
  },
  {
   "cell_type": "code",
   "execution_count": 8,
   "id": "1fa895f2",
   "metadata": {
    "pycharm": {
     "name": "#%%\n"
    }
   },
   "outputs": [
    {
     "name": "stdout",
     "output_type": "stream",
     "text": [
      "['a', 1, 'b', 2, 'c', 3]\n"
     ]
    }
   ],
   "source": [
    "print(fun2(['a', 'b', 'c'], [1,2,3]))"
   ]
  },
  {
   "cell_type": "code",
   "execution_count": 9,
   "id": "cc94a421",
   "metadata": {
    "pycharm": {
     "name": "#%%\n"
    }
   },
   "outputs": [],
   "source": [
    "def fun3(l):\n",
    "    d = {}\n",
    "    for item in l:\n",
    "        if item in d:\n",
    "            d[item] += 1\n",
    "        else:\n",
    "            d[item] = 1\n",
    "\n",
    "    return d"
   ]
  },
  {
   "cell_type": "code",
   "execution_count": 11,
   "id": "8e4330e7",
   "metadata": {
    "pycharm": {
     "name": "#%%\n"
    }
   },
   "outputs": [
    {
     "name": "stdout",
     "output_type": "stream",
     "text": [
      "{1: 3, '1': 2}\n"
     ]
    }
   ],
   "source": [
    "print(fun3([1,1,1,\"1\",\"1\"]))"
   ]
  },
  {
   "cell_type": "code",
   "execution_count": 12,
   "id": "6812826b",
   "metadata": {
    "pycharm": {
     "name": "#%%\n"
    }
   },
   "outputs": [],
   "source": [
    "def fun4(l1, l2):\n",
    "\n",
    "    new_list = list(set(l1)) + list(set(l2))\n",
    "\n",
    "    d = {}\n",
    "    for item in new_list:\n",
    "        if item in d:\n",
    "            d[item] += 1\n",
    "        else:\n",
    "            d[item] = 1\n",
    "    res_list = []\n",
    "    for i in d:\n",
    "        if d[i] >= 2:\n",
    "            res_list.append(i)\n",
    "    return res_list"
   ]
  },
  {
   "cell_type": "code",
   "execution_count": 13,
   "id": "9ba78b3b",
   "metadata": {
    "pycharm": {
     "name": "#%%\n"
    }
   },
   "outputs": [
    {
     "name": "stdout",
     "output_type": "stream",
     "text": [
      "[0, 1, 2, 9]\n"
     ]
    }
   ],
   "source": [
    "print(fun4([0,9,1,5,1,2],[0,4,2,9,1,9]))"
   ]
  },
  {
   "cell_type": "code",
   "execution_count": null,
   "id": "1a0c91ae",
   "metadata": {
    "pycharm": {
     "name": "#%%\n"
    }
   },
   "outputs": [],
   "source": []
  }
 ],
 "metadata": {
  "kernelspec": {
   "display_name": "Python 3 (ipykernel)",
   "language": "python",
   "name": "python3"
  },
  "language_info": {
   "codemirror_mode": {
    "name": "ipython",
    "version": 3
   },
   "file_extension": ".py",
   "mimetype": "text/x-python",
   "name": "python",
   "nbconvert_exporter": "python",
   "pygments_lexer": "ipython3",
   "version": "3.9.12"
  }
 },
 "nbformat": 4,
 "nbformat_minor": 5
}