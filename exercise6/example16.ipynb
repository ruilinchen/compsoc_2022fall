{
 "cells": [
  {
   "cell_type": "markdown",
   "id": "7dad24d6",
   "metadata": {
    "pycharm": {
     "name": "#%% md\n"
    }
   },
   "source": [
    "## Task6.1"
   ]
  },
  {
   "cell_type": "code",
   "execution_count": 2,
   "id": "de28d833",
   "metadata": {
    "pycharm": {
     "name": "#%%\n"
    }
   },
   "outputs": [],
   "source": [
    "import pandas as pd\n",
    "import numpy as np \n",
    "import seaborn as sns"
   ]
  },
  {
   "cell_type": "code",
   "execution_count": 3,
   "id": "e74e2247",
   "metadata": {
    "pycharm": {
     "name": "#%%\n"
    }
   },
   "outputs": [],
   "source": [
    "crime1_df = pd.read_csv('crime_incident_report .csv', low_memory=False)"
   ]
  },
  {
   "cell_type": "code",
   "execution_count": 4,
   "id": "9644077b",
   "metadata": {
    "pycharm": {
     "name": "#%%\n"
    }
   },
   "outputs": [],
   "source": [
    "crime2_df = pd.read_csv('script_113631134_20210423193017_combine.csv', low_memory=False)"
   ]
  },
  {
   "cell_type": "code",
   "execution_count": 6,
   "id": "c8b2e5e1",
   "metadata": {
    "pycharm": {
     "name": "#%%\n"
    }
   },
   "outputs": [],
   "source": [
    "combined_df = pd.concat([crime1_df, crime2_df])  ##using concat to combine the 2019 and 2020 data"
   ]
  },
  {
   "cell_type": "code",
   "execution_count": 20,
   "id": "2ce9f2c0",
   "metadata": {
    "scrolled": true,
    "pycharm": {
     "name": "#%%\n"
    }
   },
   "outputs": [
    {
     "name": "stdout",
     "output_type": "stream",
     "text": [
      "      INCIDENT_NUMBER  OFFENSE_CODE  OFFENSE_CODE_GROUP  \\\n",
      "0           102091671          2647                 NaN   \n",
      "1           102095489          3115                 NaN   \n",
      "2           102096818          2905                 NaN   \n",
      "4           129099920          3301                 NaN   \n",
      "5           129099936          1106                 NaN   \n",
      "...               ...           ...                 ...   \n",
      "70889       020063425          3114                 NaN   \n",
      "70890       020062356          1107                 NaN   \n",
      "70891       020046400          1501                 NaN   \n",
      "70892       020038446          1501                 NaN   \n",
      "70893       020030892           540                 NaN   \n",
      "\n",
      "                                     OFFENSE_DESCRIPTION DISTRICT  \\\n",
      "0                              THREATS TO DO BODILY HARM       B3   \n",
      "1                                     INVESTIGATE PERSON      E18   \n",
      "2                            VAL - VIOLATION OF AUTO LAW       A1   \n",
      "4                                         VERBAL DISPUTE       B2   \n",
      "5                        FRAUD - CREDIT CARD / ATM FRAUD       B2   \n",
      "...                                                  ...      ...   \n",
      "70889                               INVESTIGATE PROPERTY       A7   \n",
      "70890                              FRAUD - IMPERSONATION      E18   \n",
      "70891  WEAPON VIOLATION - CARRY/ POSSESSING/ SALE/ TR...       B2   \n",
      "70892  WEAPON VIOLATION - CARRY/ POSSESSING/ SALE/ TR...       B2   \n",
      "70893                              BURGLARY - COMMERICAL      C11   \n",
      "\n",
      "      REPORTING_AREA  SHOOTING     OCCURRED_ON_DATE  YEAR  MONTH DAY_OF_WEEK  \\\n",
      "0                417         0  2019-11-12 12:00:00  2019     11     Tuesday   \n",
      "1                520         0  2019-11-25 16:30:00  2019     11      Monday   \n",
      "2                            0  2019-11-30 21:00:00  2019     11    Saturday   \n",
      "4                330         0  2019-12-12 07:50:00  2019     12    Thursday   \n",
      "5                288         0  2019-11-29 06:00:00  2019     11      Friday   \n",
      "...              ...       ...                  ...   ...    ...         ...   \n",
      "70889             21         0  2020-09-01 00:00:00  2020      9     Tuesday   \n",
      "70890            520         0  2020-08-28 18:39:00  2020      8      Friday   \n",
      "70891            330         0  2020-07-02 01:38:00  2020      7    Thursday   \n",
      "70892            300         0  2020-06-03 01:15:00  2020      6   Wednesday   \n",
      "70893            380         0  2020-05-03 00:00:00  2020      5      Sunday   \n",
      "\n",
      "       HOUR  UCR_PART                                             STREET  \\\n",
      "0        12       NaN                                            MORA ST   \n",
      "1        16       NaN                                         POYDRAS ST   \n",
      "2        21       NaN  SUDBURY ST & CAMBRIDGE ST\\nBOSTON  MA 02108\\nU...   \n",
      "4         7       NaN                                      COLUMBIA ROAD   \n",
      "5         6       NaN                                      WASHINGTON ST   \n",
      "...     ...       ...                                                ...   \n",
      "70889     0       NaN                                           PARIS ST   \n",
      "70890    18       NaN                                       RIVERSIDE SQ   \n",
      "70891     1       NaN                                        PASADENA RD   \n",
      "70892     1       NaN                                      WASHINGTON ST   \n",
      "70893     0       NaN                                      GALLIVAN BLVD   \n",
      "\n",
      "             Lat       Long                                  Location  \n",
      "0      42.282082 -71.073649   (42.28208197671972, -71.07364874515646)  \n",
      "1      42.256216 -71.124019  (42.256215920402155, -71.12401947329023)  \n",
      "2      42.360866 -71.061316   (42.360866027118476, -71.0613160019785)  \n",
      "4       0.000000   0.000000                                    (0, 0)  \n",
      "5      42.329748 -71.084540  (42.329748204791635, -71.08454011649543)  \n",
      "...          ...        ...                                       ...  \n",
      "70889  42.374427 -71.035279     (42.3744269722053, -71.0352787630199)  \n",
      "70890  42.256216 -71.124019     (42.2562159204022, -71.1240194732902)  \n",
      "70891  42.305761 -71.083772     (42.3057609263196, -71.0837715727385)  \n",
      "70892  42.323808 -71.089150     (42.3238077563779, -71.0891502345332)  \n",
      "70893  42.283700 -71.047761     (42.2837003080534, -71.0477614298657)  \n",
      "\n",
      "[156759 rows x 17 columns]\n"
     ]
    }
   ],
   "source": [
    "print(combined_df.drop_duplicates(keep=\"first\"))  ##droping duplicate"
   ]
  },
  {
   "cell_type": "code",
   "execution_count": 17,
   "id": "a3b7ebea",
   "metadata": {
    "pycharm": {
     "name": "#%%\n"
    }
   },
   "outputs": [
    {
     "name": "stdout",
     "output_type": "stream",
     "text": [
      "      INCIDENT_NUMBER  OFFENSE_CODE  OFFENSE_CODE_GROUP  \\\n",
      "0           102091671          2647                 NaN   \n",
      "1           102095489          3115                 NaN   \n",
      "2           102096818          2905                 NaN   \n",
      "5           129099936          1106                 NaN   \n",
      "6           129100024          3201                 NaN   \n",
      "...               ...           ...                 ...   \n",
      "70889       020063425          3114                 NaN   \n",
      "70890       020062356          1107                 NaN   \n",
      "70891       020046400          1501                 NaN   \n",
      "70892       020038446          1501                 NaN   \n",
      "70893       020030892           540                 NaN   \n",
      "\n",
      "                                     OFFENSE_DESCRIPTION DISTRICT  \\\n",
      "0                              THREATS TO DO BODILY HARM       B3   \n",
      "1                                     INVESTIGATE PERSON      E18   \n",
      "2                            VAL - VIOLATION OF AUTO LAW       A1   \n",
      "5                        FRAUD - CREDIT CARD / ATM FRAUD       B2   \n",
      "6                               PROPERTY - LOST/ MISSING       B2   \n",
      "...                                                  ...      ...   \n",
      "70889                               INVESTIGATE PROPERTY       A7   \n",
      "70890                              FRAUD - IMPERSONATION      E18   \n",
      "70891  WEAPON VIOLATION - CARRY/ POSSESSING/ SALE/ TR...       B2   \n",
      "70892  WEAPON VIOLATION - CARRY/ POSSESSING/ SALE/ TR...       B2   \n",
      "70893                              BURGLARY - COMMERICAL      C11   \n",
      "\n",
      "      REPORTING_AREA  SHOOTING     OCCURRED_ON_DATE  YEAR  MONTH DAY_OF_WEEK  \\\n",
      "0                417         0  2019-11-12 12:00:00  2019     11     Tuesday   \n",
      "1                520         0  2019-11-25 16:30:00  2019     11      Monday   \n",
      "2                            0  2019-11-30 21:00:00  2019     11    Saturday   \n",
      "5                288         0  2019-11-29 06:00:00  2019     11      Friday   \n",
      "6                612         0  2019-12-12 10:40:00  2019     12    Thursday   \n",
      "...              ...       ...                  ...   ...    ...         ...   \n",
      "70889             21         0  2020-09-01 00:00:00  2020      9     Tuesday   \n",
      "70890            520         0  2020-08-28 18:39:00  2020      8      Friday   \n",
      "70891            330         0  2020-07-02 01:38:00  2020      7    Thursday   \n",
      "70892            300         0  2020-06-03 01:15:00  2020      6   Wednesday   \n",
      "70893            380         0  2020-05-03 00:00:00  2020      5      Sunday   \n",
      "\n",
      "       HOUR  UCR_PART                                             STREET  \\\n",
      "0        12       NaN                                            MORA ST   \n",
      "1        16       NaN                                         POYDRAS ST   \n",
      "2        21       NaN  SUDBURY ST & CAMBRIDGE ST\\nBOSTON  MA 02108\\nU...   \n",
      "5         6       NaN                                      WASHINGTON ST   \n",
      "6        10       NaN                                       LONGWOOD AVE   \n",
      "...     ...       ...                                                ...   \n",
      "70889     0       NaN                                           PARIS ST   \n",
      "70890    18       NaN                                       RIVERSIDE SQ   \n",
      "70891     1       NaN                                        PASADENA RD   \n",
      "70892     1       NaN                                      WASHINGTON ST   \n",
      "70893     0       NaN                                      GALLIVAN BLVD   \n",
      "\n",
      "             Lat       Long                                  Location  \n",
      "0      42.282082 -71.073649   (42.28208197671972, -71.07364874515646)  \n",
      "1      42.256216 -71.124019  (42.256215920402155, -71.12401947329023)  \n",
      "2      42.360866 -71.061316   (42.360866027118476, -71.0613160019785)  \n",
      "5      42.329748 -71.084540  (42.329748204791635, -71.08454011649543)  \n",
      "6      42.337442 -71.104281   (42.33744151891779, -71.10428095571272)  \n",
      "...          ...        ...                                       ...  \n",
      "70889  42.374427 -71.035279     (42.3744269722053, -71.0352787630199)  \n",
      "70890  42.256216 -71.124019     (42.2562159204022, -71.1240194732902)  \n",
      "70891  42.305761 -71.083772     (42.3057609263196, -71.0837715727385)  \n",
      "70892  42.323808 -71.089150     (42.3238077563779, -71.0891502345332)  \n",
      "70893  42.283700 -71.047761     (42.2837003080534, -71.0477614298657)  \n",
      "\n",
      "[151895 rows x 17 columns]\n"
     ]
    }
   ],
   "source": [
    "combined_df = combined_df.dropna(subset=[\"INCIDENT_NUMBER\", \"OFFENSE_CODE\", \"DISTRICT\", \"Long\", \"Lat\", \"SHOOTING\", \"OCCURRED_ON_DATE\"])\n",
    "combined_df[combined_df['Long'] == 0]\n",
    "combined_df.loc[combined_df['Long'] == 0,'Long'] = np.nan   ##dropping the record that has missing value in the colunms listed\n",
    "combined_df[combined_df['Lat'] == 0]\n",
    "combined_df.loc[combined_df['Lat'] == 0,'Lat'] = np.nan\n",
    "print(combined_df)"
   ]
  },
  {
   "cell_type": "code",
   "execution_count": 18,
   "id": "a8fa6561",
   "metadata": {
    "pycharm": {
     "name": "#%%\n"
    }
   },
   "outputs": [],
   "source": [
    "combined_df.to_csv('2019_and_2020_crime_data.csv')  ##save the pandas dataframe to .csv file"
   ]
  },
  {
   "cell_type": "markdown",
   "id": "7883b0df",
   "metadata": {
    "pycharm": {
     "name": "#%% md\n"
    }
   },
   "source": [
    "## Task6.2"
   ]
  },
  {
   "cell_type": "code",
   "execution_count": 15,
   "id": "74e5fadc",
   "metadata": {
    "pycharm": {
     "name": "#%%\n"
    }
   },
   "outputs": [
    {
     "name": "stdout",
     "output_type": "stream",
     "text": [
      "---MONTH IN 2019---\n",
      "1     6933\n",
      "2     6147\n",
      "3     7065\n",
      "4     6936\n",
      "5     7763\n",
      "6     7597\n",
      "7     8036\n",
      "8     8379\n",
      "9     8133\n",
      "10    6990\n",
      "11    6338\n",
      "12    5826\n",
      "Name: MONTH, dtype: int64\n",
      "---MONTH IN 2020---\n",
      "1     6318\n",
      "2     5874\n",
      "3     5490\n",
      "4     4362\n",
      "5     5411\n",
      "6     5897\n",
      "7     6213\n",
      "8     6507\n",
      "9     6467\n",
      "10    6741\n",
      "11    5755\n",
      "12    5581\n",
      "Name: MONTH, dtype: int64\n"
     ]
    }
   ],
   "source": [
    "print(\"---MONTH IN 2019---\")\n",
    "print(combined_df[combined_df['YEAR'] == 2019]['MONTH'].value_counts().sort_index())\n",
    "print(\"---MONTH IN 2020---\")\n",
    "print(combined_df[combined_df['YEAR'] == 2020]['MONTH'].value_counts().sort_index())"
   ]
  },
  {
   "cell_type": "markdown",
   "id": "ccd751aa",
   "metadata": {
    "pycharm": {
     "name": "#%% md\n"
    }
   },
   "source": [
    "## Task 6.3"
   ]
  },
  {
   "cell_type": "code",
   "execution_count": 16,
   "id": "a5c4c6a0",
   "metadata": {
    "pycharm": {
     "name": "#%%\n"
    }
   },
   "outputs": [
    {
     "name": "stdout",
     "output_type": "stream",
     "text": [
      "---DISTRICT IN 2019---\n",
      "B2          13030\n",
      "D4          11276\n",
      "C11         11022\n",
      "A1           9936\n",
      "B3           9591\n",
      "C6           6286\n",
      "D14          5704\n",
      "E18          5197\n",
      "E13          4928\n",
      "E5           3807\n",
      "A7           3400\n",
      "A15          1889\n",
      "External       77\n",
      "Name: DISTRICT, dtype: int64\n",
      "---DISTRICT IN 2020---\n",
      "B2          10442\n",
      "D4           9283\n",
      "C11          8992\n",
      "B3           7828\n",
      "A1           7013\n",
      "C6           5440\n",
      "D14          4756\n",
      "E18          4177\n",
      "E13          4103\n",
      "E5           3595\n",
      "A7           3141\n",
      "A15          1600\n",
      "External      246\n",
      "Name: DISTRICT, dtype: int64\n"
     ]
    }
   ],
   "source": [
    "print(\"---DISTRICT IN 2019---\")\n",
    "print(combined_df[combined_df['YEAR'] == 2019]['DISTRICT'].value_counts())\n",
    "print(\"---DISTRICT IN 2020---\")\n",
    "print(combined_df[combined_df['YEAR'] == 2020]['DISTRICT'].value_counts())"
   ]
  },
  {
   "cell_type": "markdown",
   "id": "8861ff4d",
   "metadata": {
    "pycharm": {
     "name": "#%% md\n"
    }
   },
   "source": [
    "Interpretation: The crime incident are mainly located in B2 district in both 2019 and 2020. A15 had the least crime incident in both year. The number of crimes incidents has been decreased to some extent in all districts."
   ]
  }
 ],
 "metadata": {
  "kernelspec": {
   "display_name": "Python 3 (ipykernel)",
   "language": "python",
   "name": "python3"
  },
  "language_info": {
   "codemirror_mode": {
    "name": "ipython",
    "version": 3
   },
   "file_extension": ".py",
   "mimetype": "text/x-python",
   "name": "python",
   "nbconvert_exporter": "python",
   "pygments_lexer": "ipython3",
   "version": "3.9.12"
  }
 },
 "nbformat": 4,
 "nbformat_minor": 5
}