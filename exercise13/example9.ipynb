{
 "cells": [
  {
   "cell_type": "markdown",
   "id": "9e0e7894-b696-4bf1-8757-bc8d39926008",
   "metadata": {
    "pycharm": {
     "name": "#%% md\n"
    }
   },
   "source": [
    "## Task 1. \n",
    "Create one pandas dataframe that combines all the data scraped from May 22, 2022 together. Drop rows with missing job titles and/or job descriptions. Use `spacy` to tokenize all the job titles included in the cleaned dataframe. For each job title, find all the nouns and all the adjectives in the title and get their lowercased lemmatized form. Use the reformatted nouns to construct a vocabulary set for this dataframe. How many unique nouns are there? Construct another vocabulary set using the reformatted adjectives. How many unique adjectives are there? What kind of different information do the nouns versus the adjectives reveal about the specific job? "
   ]
  },
  {
   "cell_type": "code",
   "execution_count": 2,
   "id": "2f1b7f39-503e-444d-9ada-84f885f7fe44",
   "metadata": {
    "pycharm": {
     "name": "#%%\n"
    }
   },
   "outputs": [],
   "source": [
    "import os\n",
    "import pandas as pd\n",
    "import spacy\n",
    "import re\n",
    "import json\n",
    "from tqdm import tqdm\n",
    "nlp = spacy.load('en_core_web_sm')\n",
    "os.chdir('/Users/[editted]/Dropbox/work/compsoc/dataset/indeed_scraped_data/job_info_data')\n",
    "os.listdir()\n",
    "\n",
    "all_df=[]\n",
    "for item in list(os.listdir()):\n",
    "    if \"5222022\" in item:\n",
    "        df = pd.read_csv(item)\n",
    "        all_df.append(df)\n",
    "\n",
    "jobinfo=pd.concat(all_df).dropna(subset=['lnks_job_title', 'lnks_job_description']).reset_index(drop=True)"
   ]
  },
  {
   "cell_type": "code",
   "execution_count": 3,
   "id": "2a864a3a-61b3-48f5-9a79-46aa50fa108e",
   "metadata": {
    "pycharm": {
     "name": "#%%\n"
    }
   },
   "outputs": [
    {
     "name": "stderr",
     "output_type": "stream",
     "text": [
      "100%|██████████████████████████████████████| 4803/4803 [00:10<00:00, 439.45it/s]"
     ]
    },
    {
     "name": "stdout",
     "output_type": "stream",
     "text": [
      "number of unique nouns in the job description: 325\n",
      "number of unique adjectives in the job description: 77\n"
     ]
    },
    {
     "name": "stderr",
     "output_type": "stream",
     "text": [
      "\n"
     ]
    }
   ],
   "source": [
    "vocab_noun_freq = {}\n",
    "vocab_adj_freq = {}\n",
    "for item in tqdm(jobinfo['lnks_job_title']):\n",
    "    for token in nlp(item):\n",
    "        if token.is_alpha:\n",
    "            if token.pos_ =='NOUN':\n",
    "                vocab_noun_freq[token.lemma_.lower()] = vocab_noun_freq.get(token.lemma_.lower(), 0) + 1\n",
    "            elif token.pos_ =='ADJ':\n",
    "                vocab_adj_freq[token.lemma_.lower()] = vocab_adj_freq.get(token.lemma_.lower(), 0) + 1\n",
    "                \n",
    "vocalist_noun=list(vocab_noun_freq.keys()) \n",
    "vocalist_adj=list(vocab_adj_freq.keys())\n",
    "print('number of unique nouns in the job description:', len(vocalist_noun))\n",
    "print('number of unique adjectives in the job description:', len(vocalist_adj))"
   ]
  },
  {
   "cell_type": "code",
   "execution_count": 6,
   "id": "9b269b63-5077-4e9d-9e91-500d88cb0b56",
   "metadata": {
    "pycharm": {
     "name": "#%%\n"
    }
   },
   "outputs": [
    {
     "name": "stdout",
     "output_type": "stream",
     "text": [
      "['licensed', 'surgical', 'dairy', 'senior', 'full', 'certified', 'registered', 'new', 'financial', 'radiologic']\n",
      "['contract', 'business', 'entry', 'purchasing', 'time', 'plant', 'manager', 'consultant', 'pilot', 'meat']\n"
     ]
    }
   ],
   "source": [
    "print(vocalist_adj[0:10])\n",
    "print(vocalist_noun[0:10])\n",
    "\n",
    "# The token of adjectives refer to the job status in the job title. \n",
    "# For example, the words including 'licensed', 'certified', and 'registered' indicate how qualified the job is.\n",
    "# The token of nouns shows the specific duty or position, such as managern consultant, and piolt.\n",
    "# For instance, the job title, \"senior benefits specialist\", has one adjective and two nouns. "
   ]
  },
  {
   "cell_type": "markdown",
   "id": "5a25d2f6-9d92-46be-9a1c-c7504ec188db",
   "metadata": {
    "pycharm": {
     "name": "#%% md\n"
    }
   },
   "source": [
    "## Task 2. \n",
    "Choose the first job title in your dataframe as the primary string. Use one-hot encoding as the word embedding method and find jobs in your cleaned dataframe that have similar nouns in the title as your primary string. "
   ]
  },
  {
   "cell_type": "code",
   "execution_count": 4,
   "id": "a8e9e127-c8c7-4b1d-959b-892dd1cb0b82",
   "metadata": {
    "pycharm": {
     "name": "#%%\n"
    }
   },
   "outputs": [
    {
     "name": "stderr",
     "output_type": "stream",
     "text": [
      "100%|██████████████████████████████████████| 4803/4803 [00:10<00:00, 441.82it/s]\n"
     ]
    }
   ],
   "source": [
    "import numpy as np\n",
    "one_hot_encodings = []\n",
    "\n",
    "for i in tqdm(range(len(jobinfo))):\n",
    "    job_title = jobinfo.loc[i, 'lnks_job_title']\n",
    "    token_indices = []\n",
    "\n",
    "    for token in nlp(job_title):\n",
    "        if token.is_alpha:\n",
    "            if token.lemma_.lower() in vocalist_noun:\n",
    "                token_index_in_vocab = vocalist_noun.index(token.lemma_.lower())\n",
    "                token_indices.append(token_index_in_vocab)\n",
    "\n",
    "    one_hot_encoding = np.zeros(len(vocalist_noun))\n",
    "    for token_index in token_indices:\n",
    "        one_hot_encoding[token_index] = 1\n",
    "\n",
    "    one_hot_encodings.append(one_hot_encoding)"
   ]
  },
  {
   "cell_type": "code",
   "execution_count": 5,
   "id": "d0058ef0-0a6b-4ba0-b282-73f54ed0e2df",
   "metadata": {
    "pycharm": {
     "name": "#%%\n"
    }
   },
   "outputs": [
    {
     "data": {
      "text/plain": [
       "(4803, 325)"
      ]
     },
     "execution_count": 5,
     "metadata": {},
     "output_type": "execute_result"
    }
   ],
   "source": [
    "np.array(one_hot_encodings).shape"
   ]
  },
  {
   "cell_type": "code",
   "execution_count": 6,
   "id": "895cdcd6-1a5d-4583-838f-f8c209d0f1f9",
   "metadata": {
    "pycharm": {
     "name": "#%%\n"
    }
   },
   "outputs": [
    {
     "name": "stderr",
     "output_type": "stream",
     "text": [
      "  0%|                                                  | 0/4802 [00:00<?, ?it/s]/Users/gohtk/opt/anaconda3/envs/compsoc/lib/python3.8/site-packages/scipy/spatial/distance.py:620: RuntimeWarning: invalid value encountered in double_scalars\n",
      "  dist = 1.0 - uv / np.sqrt(uu * vv)\n",
      "100%|████████████████████████████████████| 4802/4802 [00:00<00:00, 62169.87it/s]"
     ]
    },
    {
     "name": "stdout",
     "output_type": "stream",
     "text": [
      "the primary job title: Maintenance Controller (A&P) Technician\n"
     ]
    },
    {
     "name": "stderr",
     "output_type": "stream",
     "text": [
      "\n"
     ]
    },
    {
     "data": {
      "text/html": [
       "<div>\n",
       "<style scoped>\n",
       "    .dataframe tbody tr th:only-of-type {\n",
       "        vertical-align: middle;\n",
       "    }\n",
       "\n",
       "    .dataframe tbody tr th {\n",
       "        vertical-align: top;\n",
       "    }\n",
       "\n",
       "    .dataframe thead th {\n",
       "        text-align: right;\n",
       "    }\n",
       "</style>\n",
       "<table border=\"1\" class=\"dataframe\">\n",
       "  <thead>\n",
       "    <tr style=\"text-align: right;\">\n",
       "      <th></th>\n",
       "      <th>job_title</th>\n",
       "      <th>similarity_value_with_one_hot</th>\n",
       "    </tr>\n",
       "  </thead>\n",
       "  <tbody>\n",
       "    <tr>\n",
       "      <th>4165</th>\n",
       "      <td>Human Resources Generalist</td>\n",
       "      <td>1.0</td>\n",
       "    </tr>\n",
       "    <tr>\n",
       "      <th>4471</th>\n",
       "      <td>Maintenance Controller (A&amp;P) Technician</td>\n",
       "      <td>1.0</td>\n",
       "    </tr>\n",
       "    <tr>\n",
       "      <th>4379</th>\n",
       "      <td>Referral Rep</td>\n",
       "      <td>1.0</td>\n",
       "    </tr>\n",
       "    <tr>\n",
       "      <th>3785</th>\n",
       "      <td>Coder - Hospital - Inpatient - FT - REMOTE</td>\n",
       "      <td>1.0</td>\n",
       "    </tr>\n",
       "    <tr>\n",
       "      <th>4383</th>\n",
       "      <td>Human Resources Generalist</td>\n",
       "      <td>1.0</td>\n",
       "    </tr>\n",
       "    <tr>\n",
       "      <th>3783</th>\n",
       "      <td>Respiratory Therapist</td>\n",
       "      <td>1.0</td>\n",
       "    </tr>\n",
       "    <tr>\n",
       "      <th>1630</th>\n",
       "      <td>Registered Nurse- LTCIS</td>\n",
       "      <td>1.0</td>\n",
       "    </tr>\n",
       "    <tr>\n",
       "      <th>2163</th>\n",
       "      <td>Paramedic - Offshore</td>\n",
       "      <td>1.0</td>\n",
       "    </tr>\n",
       "    <tr>\n",
       "      <th>1119</th>\n",
       "      <td>AUDITOR</td>\n",
       "      <td>1.0</td>\n",
       "    </tr>\n",
       "    <tr>\n",
       "      <th>452</th>\n",
       "      <td>Head, FCC Investigations, Americas</td>\n",
       "      <td>1.0</td>\n",
       "    </tr>\n",
       "    <tr>\n",
       "      <th>1626</th>\n",
       "      <td>Payment Services Processor - Monroe LA</td>\n",
       "      <td>1.0</td>\n",
       "    </tr>\n",
       "    <tr>\n",
       "      <th>4397</th>\n",
       "      <td>Maintenance Controller (A&amp;P) Technician</td>\n",
       "      <td>1.0</td>\n",
       "    </tr>\n",
       "    <tr>\n",
       "      <th>3769</th>\n",
       "      <td>CT Technologist</td>\n",
       "      <td>1.0</td>\n",
       "    </tr>\n",
       "    <tr>\n",
       "      <th>2179</th>\n",
       "      <td>Controller</td>\n",
       "      <td>1.0</td>\n",
       "    </tr>\n",
       "    <tr>\n",
       "      <th>4408</th>\n",
       "      <td>Radiologist - US Air Force Academy</td>\n",
       "      <td>1.0</td>\n",
       "    </tr>\n",
       "    <tr>\n",
       "      <th>2181</th>\n",
       "      <td>Dispatcher</td>\n",
       "      <td>1.0</td>\n",
       "    </tr>\n",
       "    <tr>\n",
       "      <th>1609</th>\n",
       "      <td>Maintenance Controller (A&amp;P) Technician</td>\n",
       "      <td>1.0</td>\n",
       "    </tr>\n",
       "    <tr>\n",
       "      <th>1141</th>\n",
       "      <td>Respiratory Therapist</td>\n",
       "      <td>1.0</td>\n",
       "    </tr>\n",
       "    <tr>\n",
       "      <th>2194</th>\n",
       "      <td>Hospitalist PRN</td>\n",
       "      <td>1.0</td>\n",
       "    </tr>\n",
       "    <tr>\n",
       "      <th>418</th>\n",
       "      <td>Occupational Therapist - SNF - PRN</td>\n",
       "      <td>1.0</td>\n",
       "    </tr>\n",
       "  </tbody>\n",
       "</table>\n",
       "</div>"
      ],
      "text/plain": [
       "                                       job_title  \\\n",
       "4165                  Human Resources Generalist   \n",
       "4471     Maintenance Controller (A&P) Technician   \n",
       "4379                                Referral Rep   \n",
       "3785  Coder - Hospital - Inpatient - FT - REMOTE   \n",
       "4383                  Human Resources Generalist   \n",
       "3783                       Respiratory Therapist   \n",
       "1630                     Registered Nurse- LTCIS   \n",
       "2163                        Paramedic - Offshore   \n",
       "1119                                     AUDITOR   \n",
       "452           Head, FCC Investigations, Americas   \n",
       "1626      Payment Services Processor - Monroe LA   \n",
       "4397     Maintenance Controller (A&P) Technician   \n",
       "3769                             CT Technologist   \n",
       "2179                                  Controller   \n",
       "4408          Radiologist - US Air Force Academy   \n",
       "2181                                  Dispatcher   \n",
       "1609     Maintenance Controller (A&P) Technician   \n",
       "1141                       Respiratory Therapist   \n",
       "2194                             Hospitalist PRN   \n",
       "418           Occupational Therapist - SNF - PRN   \n",
       "\n",
       "      similarity_value_with_one_hot  \n",
       "4165                            1.0  \n",
       "4471                            1.0  \n",
       "4379                            1.0  \n",
       "3785                            1.0  \n",
       "4383                            1.0  \n",
       "3783                            1.0  \n",
       "1630                            1.0  \n",
       "2163                            1.0  \n",
       "1119                            1.0  \n",
       "452                             1.0  \n",
       "1626                            1.0  \n",
       "4397                            1.0  \n",
       "3769                            1.0  \n",
       "2179                            1.0  \n",
       "4408                            1.0  \n",
       "2181                            1.0  \n",
       "1609                            1.0  \n",
       "1141                            1.0  \n",
       "2194                            1.0  \n",
       "418                             1.0  "
      ]
     },
     "execution_count": 6,
     "metadata": {},
     "output_type": "execute_result"
    }
   ],
   "source": [
    "from scipy.spatial.distance import cosine\n",
    "title_a = jobinfo.loc[0, 'lnks_job_title']\n",
    "similarity_values = []\n",
    "for i in tqdm(range(1, len(jobinfo))):\n",
    "    similarity_value = 1 - cosine(one_hot_encodings[0], one_hot_encodings[i])\n",
    "    similarity_values.append(similarity_value)\n",
    "similar_df = pd.DataFrame(columns=['job_title', 'similarity_value_with_one_hot'])\n",
    "similar_df['job_title'] = jobinfo.loc[1:, 'lnks_job_title']\n",
    "similar_df['similarity_value_with_one_hot'] = similarity_values\n",
    "\n",
    "print('the primary job title:', title_a)\n",
    "similar_df.sort_values(by='similarity_value_with_one_hot', ascending=False)[0:20]    "
   ]
  },
  {
   "cell_type": "markdown",
   "id": "fa235deb-92cf-4247-9649-55d89cc7da49",
   "metadata": {
    "pycharm": {
     "name": "#%% md\n"
    }
   },
   "source": [
    "## Task 3. \n",
    "Use spacy's word vector to do Task 2. Compare the results. "
   ]
  },
  {
   "cell_type": "code",
   "execution_count": 70,
   "id": "6dc564e7-4746-4024-bd6e-b9aca6de99d3",
   "metadata": {
    "pycharm": {
     "name": "#%%\n"
    }
   },
   "outputs": [
    {
     "name": "stderr",
     "output_type": "stream",
     "text": [
      "  0%|                                                  | 0/4802 [00:00<?, ?it/s]/var/folders/1b/s20n0f295fn5s0f986q3fppc0000gn/T/ipykernel_54208/4232725147.py:9: UserWarning: [W007] The model you're using has no word vectors loaded, so the result of the Doc.similarity method will be based on the tagger, parser and NER, which may not give useful similarity judgements. This may happen if you're using one of the small models, e.g. `en_core_web_sm`, which don't ship with word vectors and only use context-sensitive tensors. You can always add your own word vectors, or use one of the larger models instead if available.\n",
      "  token_vec.append(title_tok.similarity(token))\n",
      "100%|██████████████████████████████████████| 4802/4802 [00:11<00:00, 424.34it/s]\n"
     ]
    }
   ],
   "source": [
    "title_a = jobinfo.loc[0, 'lnks_job_title']\n",
    "title_tok=nlp(title_a)\n",
    "\n",
    "vec_list=[]\n",
    "for i in tqdm(range(1, len(jobinfo))):\n",
    "    \n",
    "    job_title = jobinfo.loc[i, 'lnks_job_title']\n",
    "    token_vec = []\n",
    "    for token in nlp(job_title):\n",
    "        if token.is_alpha:\n",
    "            if token.lemma_.lower() in vocalist_noun:\n",
    "                token_vec.append(title_tok.similarity(token))\n",
    "    vec_list.append(token_vec)   \n",
    "vec_list2=[]\n",
    "for item in vec_list:\n",
    "    if item!=[]:\n",
    "        item2=(sum(item)/len(item))\n",
    "    vec_list2.append(item2)   \n"
   ]
  },
  {
   "cell_type": "code",
   "execution_count": 71,
   "id": "24fcdef7-3d2c-4b06-85b7-5e9d639b831b",
   "metadata": {
    "pycharm": {
     "name": "#%%\n"
    }
   },
   "outputs": [
    {
     "data": {
      "text/html": [
       "<div>\n",
       "<style scoped>\n",
       "    .dataframe tbody tr th:only-of-type {\n",
       "        vertical-align: middle;\n",
       "    }\n",
       "\n",
       "    .dataframe tbody tr th {\n",
       "        vertical-align: top;\n",
       "    }\n",
       "\n",
       "    .dataframe thead th {\n",
       "        text-align: right;\n",
       "    }\n",
       "</style>\n",
       "<table border=\"1\" class=\"dataframe\">\n",
       "  <thead>\n",
       "    <tr style=\"text-align: right;\">\n",
       "      <th></th>\n",
       "      <th>job_title</th>\n",
       "      <th>similarity_value_with_one_hot</th>\n",
       "      <th>token_similarity</th>\n",
       "    </tr>\n",
       "  </thead>\n",
       "  <tbody>\n",
       "    <tr>\n",
       "      <th>1732</th>\n",
       "      <td>Paramedic - Offshore</td>\n",
       "      <td>1.0</td>\n",
       "      <td>0.573498</td>\n",
       "    </tr>\n",
       "    <tr>\n",
       "      <th>3500</th>\n",
       "      <td>Human Resources Generalist</td>\n",
       "      <td>1.0</td>\n",
       "      <td>0.566191</td>\n",
       "    </tr>\n",
       "    <tr>\n",
       "      <th>4365</th>\n",
       "      <td>Licensed Respiratory Therapist (RT)</td>\n",
       "      <td>1.0</td>\n",
       "      <td>0.553277</td>\n",
       "    </tr>\n",
       "    <tr>\n",
       "      <th>1395</th>\n",
       "      <td>Psychiatrist IV</td>\n",
       "      <td>1.0</td>\n",
       "      <td>0.533875</td>\n",
       "    </tr>\n",
       "    <tr>\n",
       "      <th>1396</th>\n",
       "      <td>Wellness Coach (Maternity &amp; Pediatrics)</td>\n",
       "      <td>1.0</td>\n",
       "      <td>0.533875</td>\n",
       "    </tr>\n",
       "    <tr>\n",
       "      <th>...</th>\n",
       "      <td>...</td>\n",
       "      <td>...</td>\n",
       "      <td>...</td>\n",
       "    </tr>\n",
       "    <tr>\n",
       "      <th>3950</th>\n",
       "      <td>Patient Financial Counseling Specialist - Full...</td>\n",
       "      <td>0.0</td>\n",
       "      <td>0.112782</td>\n",
       "    </tr>\n",
       "    <tr>\n",
       "      <th>4658</th>\n",
       "      <td>Patient Financial Counseling Specialist - Full...</td>\n",
       "      <td>0.0</td>\n",
       "      <td>0.112782</td>\n",
       "    </tr>\n",
       "    <tr>\n",
       "      <th>1095</th>\n",
       "      <td>Line Cook - Full time 1561/KW</td>\n",
       "      <td>0.0</td>\n",
       "      <td>0.102449</td>\n",
       "    </tr>\n",
       "    <tr>\n",
       "      <th>161</th>\n",
       "      <td>Recent pay increase ~ Cook</td>\n",
       "      <td>0.0</td>\n",
       "      <td>0.101998</td>\n",
       "    </tr>\n",
       "    <tr>\n",
       "      <th>421</th>\n",
       "      <td>Dietary Server / Truck Assistant - Full time -...</td>\n",
       "      <td>0.0</td>\n",
       "      <td>0.096467</td>\n",
       "    </tr>\n",
       "  </tbody>\n",
       "</table>\n",
       "<p>4802 rows × 3 columns</p>\n",
       "</div>"
      ],
      "text/plain": [
       "                                              job_title  \\\n",
       "1732                               Paramedic - Offshore   \n",
       "3500                         Human Resources Generalist   \n",
       "4365                Licensed Respiratory Therapist (RT)   \n",
       "1395                                    Psychiatrist IV   \n",
       "1396            Wellness Coach (Maternity & Pediatrics)   \n",
       "...                                                 ...   \n",
       "3950  Patient Financial Counseling Specialist - Full...   \n",
       "4658  Patient Financial Counseling Specialist - Full...   \n",
       "1095                      Line Cook - Full time 1561/KW   \n",
       "161                          Recent pay increase ~ Cook   \n",
       "421   Dietary Server / Truck Assistant - Full time -...   \n",
       "\n",
       "      similarity_value_with_one_hot  token_similarity  \n",
       "1732                            1.0          0.573498  \n",
       "3500                            1.0          0.566191  \n",
       "4365                            1.0          0.553277  \n",
       "1395                            1.0          0.533875  \n",
       "1396                            1.0          0.533875  \n",
       "...                             ...               ...  \n",
       "3950                            0.0          0.112782  \n",
       "4658                            0.0          0.112782  \n",
       "1095                            0.0          0.102449  \n",
       "161                             0.0          0.101998  \n",
       "421                             0.0          0.096467  \n",
       "\n",
       "[4802 rows x 3 columns]"
      ]
     },
     "execution_count": 71,
     "metadata": {},
     "output_type": "execute_result"
    }
   ],
   "source": [
    "similar_df['token_similarity'] = vec_list2\n",
    "similar_df.sort_values(by=['similarity_value_with_one_hot', 'token_similarity'], ascending=False)"
   ]
  },
  {
   "cell_type": "code",
   "execution_count": null,
   "id": "3430b130-4538-49ad-8a16-1443874dd017",
   "metadata": {
    "pycharm": {
     "name": "#%%\n"
    }
   },
   "outputs": [],
   "source": []
  }
 ],
 "metadata": {
  "kernelspec": {
   "display_name": "Python [conda env:compsoc] *",
   "language": "python",
   "name": "conda-env-compsoc-py"
  },
  "language_info": {
   "codemirror_mode": {
    "name": "ipython",
    "version": 3
   },
   "file_extension": ".py",
   "mimetype": "text/x-python",
   "name": "python",
   "nbconvert_exporter": "python",
   "pygments_lexer": "ipython3",
   "version": "3.8.13"
  }
 },
 "nbformat": 4,
 "nbformat_minor": 5
}