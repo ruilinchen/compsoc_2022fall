{
 "cells": [
  {
   "cell_type": "markdown",
   "id": "9cb5869f",
   "metadata": {
    "pycharm": {
     "name": "#%% md\n"
    }
   },
   "source": [
    "##### Task 1. Create a human mobility network for MA using the provided csv file.          \n",
    "\n",
    "* network node: individual census block group (neighborhood) in MA\n",
    "* network edge: residents from one neighborhood visiting another\n",
    "* weight of network tie: percentage of residents from one neighborhood visiting another         \n",
    "##### How many nodes and edges are there in your network? "
   ]
  },
  {
   "cell_type": "code",
   "execution_count": 46,
   "id": "883e8c66",
   "metadata": {
    "pycharm": {
     "name": "#%%\n"
    }
   },
   "outputs": [],
   "source": [
    "import os\n",
    "import networkx as nx\n",
    "path_homework10= \"/Users/[editted]/Documents/BC/SOCY7700/compSoc/homework 10/MA_cbg_human_mobility_2019\"\n",
    "os.chdir(path_homework10)"
   ]
  },
  {
   "cell_type": "code",
   "execution_count": 47,
   "id": "f30b1a14",
   "metadata": {
    "pycharm": {
     "name": "#%%\n"
    }
   },
   "outputs": [],
   "source": [
    "import pandas as pd\n",
    "ma_df = pd.read_csv('MA_cbg2cbg_2019_01.csv')"
   ]
  },
  {
   "cell_type": "code",
   "execution_count": 48,
   "id": "1ca87663",
   "metadata": {
    "scrolled": true,
    "pycharm": {
     "name": "#%%\n"
    }
   },
   "outputs": [
    {
     "name": "stdout",
     "output_type": "stream",
     "text": [
      "(840593, 5)\n"
     ]
    },
    {
     "data": {
      "text/html": [
       "<div>\n",
       "<style scoped>\n",
       "    .dataframe tbody tr th:only-of-type {\n",
       "        vertical-align: middle;\n",
       "    }\n",
       "\n",
       "    .dataframe tbody tr th {\n",
       "        vertical-align: top;\n",
       "    }\n",
       "\n",
       "    .dataframe thead th {\n",
       "        text-align: right;\n",
       "    }\n",
       "</style>\n",
       "<table border=\"1\" class=\"dataframe\">\n",
       "  <thead>\n",
       "    <tr style=\"text-align: right;\">\n",
       "      <th></th>\n",
       "      <th>poi_cbg</th>\n",
       "      <th>year_month</th>\n",
       "      <th>raw_device_counts</th>\n",
       "      <th>visitor_census_tract</th>\n",
       "      <th>visitor_count</th>\n",
       "    </tr>\n",
       "  </thead>\n",
       "  <tbody>\n",
       "    <tr>\n",
       "      <th>0</th>\n",
       "      <td>250250303003</td>\n",
       "      <td>2019_1</td>\n",
       "      <td>19187</td>\n",
       "      <td>250250303003</td>\n",
       "      <td>413</td>\n",
       "    </tr>\n",
       "    <tr>\n",
       "      <th>1</th>\n",
       "      <td>250250303003</td>\n",
       "      <td>2019_1</td>\n",
       "      <td>19187</td>\n",
       "      <td>250251010016</td>\n",
       "      <td>182</td>\n",
       "    </tr>\n",
       "    <tr>\n",
       "      <th>2</th>\n",
       "      <td>250250303003</td>\n",
       "      <td>2019_1</td>\n",
       "      <td>19187</td>\n",
       "      <td>440070008003</td>\n",
       "      <td>122</td>\n",
       "    </tr>\n",
       "    <tr>\n",
       "      <th>3</th>\n",
       "      <td>250250303003</td>\n",
       "      <td>2019_1</td>\n",
       "      <td>19187</td>\n",
       "      <td>250250923002</td>\n",
       "      <td>121</td>\n",
       "    </tr>\n",
       "    <tr>\n",
       "      <th>4</th>\n",
       "      <td>250250303003</td>\n",
       "      <td>2019_1</td>\n",
       "      <td>19187</td>\n",
       "      <td>250173686001</td>\n",
       "      <td>112</td>\n",
       "    </tr>\n",
       "  </tbody>\n",
       "</table>\n",
       "</div>"
      ],
      "text/plain": [
       "        poi_cbg year_month  raw_device_counts  visitor_census_tract  \\\n",
       "0  250250303003     2019_1              19187          250250303003   \n",
       "1  250250303003     2019_1              19187          250251010016   \n",
       "2  250250303003     2019_1              19187          440070008003   \n",
       "3  250250303003     2019_1              19187          250250923002   \n",
       "4  250250303003     2019_1              19187          250173686001   \n",
       "\n",
       "   visitor_count  \n",
       "0            413  \n",
       "1            182  \n",
       "2            122  \n",
       "3            121  \n",
       "4            112  "
      ]
     },
     "execution_count": 48,
     "metadata": {},
     "output_type": "execute_result"
    }
   ],
   "source": [
    "print(ma_df.shape)\n",
    "ma_df.head()"
   ]
  },
  {
   "cell_type": "code",
   "execution_count": 49,
   "id": "993c6b55",
   "metadata": {
    "pycharm": {
     "name": "#%%\n"
    }
   },
   "outputs": [],
   "source": [
    "import networkx as nx\n",
    "G = nx.Graph()\n",
    "\n",
    "for i in range(len(ma_df)):\n",
    "    origin_cbg = ma_df.loc[i, 'poi_cbg']\n",
    "    destination_cbg = ma_df.loc[i, 'visitor_census_tract']\n",
    "    total_residents_in_origin = ma_df.loc[i, 'raw_device_counts']\n",
    "    num_visitor = ma_df.loc[i, 'visitor_count']\n",
    "    percent_visitor = num_visitor / total_residents_in_origin\n",
    "    #print(origin_cbg, destination_cbg, percent_visitor)\n",
    "    # add an edge/tie between two neighborhoods with weight being percentage of residents from one neighborhood visiting another\n",
    "    G.add_edge(origin_cbg, destination_cbg, weight=percent_visitor)\n",
    "    # G.remove_edge(origin_cbg, destination_cbg) # removing edge"
   ]
  },
  {
   "cell_type": "code",
   "execution_count": 31,
   "id": "68bf076d",
   "metadata": {
    "pycharm": {
     "name": "#%%\n"
    }
   },
   "outputs": [
    {
     "name": "stdout",
     "output_type": "stream",
     "text": [
      "Graph with 40292 nodes and 742299 edges\n"
     ]
    },
    {
     "name": "stderr",
     "output_type": "stream",
     "text": [
      "/var/folders/6j/g9631c1s65l0d3hl76jkmfc40000gn/T/ipykernel_46833/2606185536.py:1: DeprecationWarning: info is deprecated and will be removed in version 3.0.\n",
      "\n",
      "  print(nx.info(G))\n"
     ]
    }
   ],
   "source": [
    "print(nx.info(G))"
   ]
  },
  {
   "cell_type": "markdown",
   "id": "30c7819d",
   "metadata": {
    "pycharm": {
     "name": "#%% md\n"
    }
   },
   "source": [
    "##### Task 2. Calculate weighted node degree and unweighted node degree for each census block group in the mobility network and use the results to create a pandas dataframe. The dataframe should have three columns. One column stores the census block group id, and the other two the two calculated node degrees. "
   ]
  },
  {
   "cell_type": "code",
   "execution_count": 18,
   "id": "c441f378",
   "metadata": {
    "pycharm": {
     "name": "#%%\n"
    }
   },
   "outputs": [],
   "source": [
    "import csv"
   ]
  },
  {
   "cell_type": "code",
   "execution_count": 65,
   "id": "cb55b900",
   "metadata": {
    "pycharm": {
     "name": "#%%\n"
    }
   },
   "outputs": [
    {
     "name": "stdout",
     "output_type": "stream",
     "text": [
      "(40292, 3)\n"
     ]
    },
    {
     "data": {
      "text/html": [
       "<div>\n",
       "<style scoped>\n",
       "    .dataframe tbody tr th:only-of-type {\n",
       "        vertical-align: middle;\n",
       "    }\n",
       "\n",
       "    .dataframe tbody tr th {\n",
       "        vertical-align: top;\n",
       "    }\n",
       "\n",
       "    .dataframe thead th {\n",
       "        text-align: right;\n",
       "    }\n",
       "</style>\n",
       "<table border=\"1\" class=\"dataframe\">\n",
       "  <thead>\n",
       "    <tr style=\"text-align: right;\">\n",
       "      <th></th>\n",
       "      <th>ID</th>\n",
       "      <th>Weighted</th>\n",
       "      <th>Unweighted</th>\n",
       "    </tr>\n",
       "  </thead>\n",
       "  <tbody>\n",
       "    <tr>\n",
       "      <th>0</th>\n",
       "      <td>250250303003</td>\n",
       "      <td>1.617298</td>\n",
       "      <td>2936</td>\n",
       "    </tr>\n",
       "    <tr>\n",
       "      <th>1</th>\n",
       "      <td>250251010016</td>\n",
       "      <td>1.829781</td>\n",
       "      <td>609</td>\n",
       "    </tr>\n",
       "    <tr>\n",
       "      <th>2</th>\n",
       "      <td>440070008003</td>\n",
       "      <td>0.201907</td>\n",
       "      <td>77</td>\n",
       "    </tr>\n",
       "    <tr>\n",
       "      <th>3</th>\n",
       "      <td>250250923002</td>\n",
       "      <td>2.675362</td>\n",
       "      <td>600</td>\n",
       "    </tr>\n",
       "    <tr>\n",
       "      <th>4</th>\n",
       "      <td>250173686001</td>\n",
       "      <td>1.763752</td>\n",
       "      <td>3217</td>\n",
       "    </tr>\n",
       "  </tbody>\n",
       "</table>\n",
       "</div>"
      ],
      "text/plain": [
       "             ID  Weighted  Unweighted\n",
       "0  250250303003  1.617298        2936\n",
       "1  250251010016  1.829781         609\n",
       "2  440070008003  0.201907          77\n",
       "3  250250923002  2.675362         600\n",
       "4  250173686001  1.763752        3217"
      ]
     },
     "execution_count": 65,
     "metadata": {},
     "output_type": "execute_result"
    }
   ],
   "source": [
    " weighted_list = []\n",
    "unweighted_list = []\n",
    "\n",
    "for node in G.nodes():\n",
    "    unweighted_list.append(G.degree(node))\n",
    "    weighted_list.append(G.degree(node, weight='weight'))\n",
    "\n",
    "df = pd.DataFrame(columns=['ID','Weighted','Unweighted'])\n",
    "df['ID'] = G.nodes()\n",
    "df['Weighted'] = weighted_list\n",
    "df['Unweighted'] = unweighted_list\n",
    "df.to_csv('mobility_network_data.csv',index=False)\n",
    "\n",
    "df=pd.read_csv('mobility_network_data.csv')\n",
    "print(df.shape)\n",
    "df.head()"
   ]
  },
  {
   "cell_type": "markdown",
   "id": "80e95e1d",
   "metadata": {
    "pycharm": {
     "name": "#%% md\n"
    }
   },
   "source": [
    "##### Task 3. Create a plot that visualizes the distribution of the weighted node degrees. Is the human mobility network a scale-free network? In other words, does the degree distribution follow a power law? "
   ]
  },
  {
   "cell_type": "code",
   "execution_count": null,
   "id": "77487a90",
   "metadata": {
    "pycharm": {
     "name": "#%%\n"
    }
   },
   "outputs": [],
   "source": []
  },
  {
   "cell_type": "code",
   "execution_count": 69,
   "id": "e1eba14a",
   "metadata": {
    "pycharm": {
     "name": "#%%\n"
    }
   },
   "outputs": [
    {
     "data": {
      "text/plain": [
       "array([[<AxesSubplot:title={'center':'Weighted'}>]], dtype=object)"
      ]
     },
     "execution_count": 69,
     "metadata": {},
     "output_type": "execute_result"
    },
    {
     "data": {
      "image/png": "[encoded data removed]",
      "text/plain": [
       "<Figure size 432x288 with 1 Axes>"
      ]
     },
     "metadata": {
      "needs_background": "light"
     },
     "output_type": "display_data"
    }
   ],
   "source": [
    "import matplotlib.pyplot as plt\n",
    "import networkx as nx\n",
    "import numpy as np\n",
    "degree_df=df.drop(['Unweighted'], axis=1)\n",
    "degree_df.hist(column=['Weighted'], bins = [0,1,2,3])"
   ]
  },
  {
   "cell_type": "code",
   "execution_count": 68,
   "id": "62abe906",
   "metadata": {
    "pycharm": {
     "name": "#%%\n"
    }
   },
   "outputs": [
    {
     "data": {
      "text/plain": [
       "(array([[    0.,     0.,     0.],\n",
       "        [35617.,  4527.,   144.]]),\n",
       " array([0, 1, 2, 3]),\n",
       " <a list of 2 BarContainer objects>)"
      ]
     },
     "execution_count": 68,
     "metadata": {},
     "output_type": "execute_result"
    },
    {
     "data": {
      "image/png": "[encoded data removed]",
      "text/plain": [
       "<Figure size 720x504 with 1 Axes>"
      ]
     },
     "metadata": {
      "needs_background": "light"
     },
     "output_type": "display_data"
    }
   ],
   "source": [
    "from matplotlib import pyplot as plt\n",
    "import numpy as np\n",
    "fig, dfh = plt.subplots(figsize =(10, 7))\n",
    "dfh.hist(degree_df, bins = [0,1,2,3])"
   ]
  },
  {
   "cell_type": "code",
   "execution_count": null,
   "id": "280738bc",
   "metadata": {
    "pycharm": {
     "name": "#%%\n"
    }
   },
   "outputs": [],
   "source": []
  }
 ],
 "metadata": {
  "kernelspec": {
   "display_name": "Python 3 (ipykernel)",
   "language": "python",
   "name": "python3"
  },
  "language_info": {
   "codemirror_mode": {
    "name": "ipython",
    "version": 3
   },
   "file_extension": ".py",
   "mimetype": "text/x-python",
   "name": "python",
   "nbconvert_exporter": "python",
   "pygments_lexer": "ipython3",
   "version": "3.9.12"
  }
 },
 "nbformat": 4,
 "nbformat_minor": 5
}