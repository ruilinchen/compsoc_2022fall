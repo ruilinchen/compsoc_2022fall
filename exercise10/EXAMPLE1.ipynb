{
 "cells": [
  {
   "cell_type": "markdown",
   "id": "1a02b2df",
   "metadata": {
    "pycharm": {
     "name": "#%% md\n"
    }
   },
   "source": [
    "# exercise 10\n",
    "## Task 1\n",
    "Create a human mobility network for MA using the provided csv file.          \n",
    "\n",
    "    network node: individual census block group (neighborhood) in MA\n",
    "    network edge: residents from one neighborhood visiting another\n",
    "    weight of network tie: percentage of residents from one neighborhood visiting another         \n",
    "\n",
    "How many nodes and edges are there in your network? "
   ]
  },
  {
   "cell_type": "code",
   "execution_count": 1,
   "id": "76b7a192",
   "metadata": {
    "pycharm": {
     "name": "#%%\n"
    }
   },
   "outputs": [],
   "source": [
    "import os\n",
    "import pandas as pd\n",
    "os.chdir(r\"C:\\Users\\[editted]\\Documents\\Me\\BC\\Advance\\Data\\jupyter\\exercise10\\MA_cbg_human_mobility_2019\")\n",
    "data = pd.read_csv(\"MA_cbg2cbg_2019_01.csv\")"
   ]
  },
  {
   "cell_type": "code",
   "execution_count": 2,
   "id": "050d5a0c",
   "metadata": {
    "pycharm": {
     "name": "#%%\n"
    }
   },
   "outputs": [
    {
     "data": {
      "text/html": [
       "<div>\n",
       "<style scoped>\n",
       "    .dataframe tbody tr th:only-of-type {\n",
       "        vertical-align: middle;\n",
       "    }\n",
       "\n",
       "    .dataframe tbody tr th {\n",
       "        vertical-align: top;\n",
       "    }\n",
       "\n",
       "    .dataframe thead th {\n",
       "        text-align: right;\n",
       "    }\n",
       "</style>\n",
       "<table border=\"1\" class=\"dataframe\">\n",
       "  <thead>\n",
       "    <tr style=\"text-align: right;\">\n",
       "      <th></th>\n",
       "      <th>poi_cbg</th>\n",
       "      <th>year_month</th>\n",
       "      <th>raw_device_counts</th>\n",
       "      <th>visitor_census_tract</th>\n",
       "      <th>visitor_count</th>\n",
       "    </tr>\n",
       "  </thead>\n",
       "  <tbody>\n",
       "    <tr>\n",
       "      <th>0</th>\n",
       "      <td>250250303003</td>\n",
       "      <td>2019_1</td>\n",
       "      <td>19187</td>\n",
       "      <td>250250303003</td>\n",
       "      <td>413</td>\n",
       "    </tr>\n",
       "    <tr>\n",
       "      <th>1</th>\n",
       "      <td>250250303003</td>\n",
       "      <td>2019_1</td>\n",
       "      <td>19187</td>\n",
       "      <td>250251010016</td>\n",
       "      <td>182</td>\n",
       "    </tr>\n",
       "    <tr>\n",
       "      <th>2</th>\n",
       "      <td>250250303003</td>\n",
       "      <td>2019_1</td>\n",
       "      <td>19187</td>\n",
       "      <td>440070008003</td>\n",
       "      <td>122</td>\n",
       "    </tr>\n",
       "    <tr>\n",
       "      <th>3</th>\n",
       "      <td>250250303003</td>\n",
       "      <td>2019_1</td>\n",
       "      <td>19187</td>\n",
       "      <td>250250923002</td>\n",
       "      <td>121</td>\n",
       "    </tr>\n",
       "    <tr>\n",
       "      <th>4</th>\n",
       "      <td>250250303003</td>\n",
       "      <td>2019_1</td>\n",
       "      <td>19187</td>\n",
       "      <td>250173686001</td>\n",
       "      <td>112</td>\n",
       "    </tr>\n",
       "    <tr>\n",
       "      <th>...</th>\n",
       "      <td>...</td>\n",
       "      <td>...</td>\n",
       "      <td>...</td>\n",
       "      <td>...</td>\n",
       "      <td>...</td>\n",
       "    </tr>\n",
       "    <tr>\n",
       "      <th>840588</th>\n",
       "      <td>250214571001</td>\n",
       "      <td>2019_1</td>\n",
       "      <td>5506</td>\n",
       "      <td>250092046005</td>\n",
       "      <td>4</td>\n",
       "    </tr>\n",
       "    <tr>\n",
       "      <th>840589</th>\n",
       "      <td>250214571001</td>\n",
       "      <td>2019_1</td>\n",
       "      <td>5506</td>\n",
       "      <td>250056503002</td>\n",
       "      <td>4</td>\n",
       "    </tr>\n",
       "    <tr>\n",
       "      <th>840590</th>\n",
       "      <td>250214571001</td>\n",
       "      <td>2019_1</td>\n",
       "      <td>5506</td>\n",
       "      <td>250214164006</td>\n",
       "      <td>4</td>\n",
       "    </tr>\n",
       "    <tr>\n",
       "      <th>840591</th>\n",
       "      <td>250214571001</td>\n",
       "      <td>2019_1</td>\n",
       "      <td>5506</td>\n",
       "      <td>250173424003</td>\n",
       "      <td>4</td>\n",
       "    </tr>\n",
       "    <tr>\n",
       "      <th>840592</th>\n",
       "      <td>250214571001</td>\n",
       "      <td>2019_1</td>\n",
       "      <td>5506</td>\n",
       "      <td>360239710003</td>\n",
       "      <td>4</td>\n",
       "    </tr>\n",
       "  </tbody>\n",
       "</table>\n",
       "<p>840593 rows × 5 columns</p>\n",
       "</div>"
      ],
      "text/plain": [
       "             poi_cbg year_month  raw_device_counts  visitor_census_tract  \\\n",
       "0       250250303003     2019_1              19187          250250303003   \n",
       "1       250250303003     2019_1              19187          250251010016   \n",
       "2       250250303003     2019_1              19187          440070008003   \n",
       "3       250250303003     2019_1              19187          250250923002   \n",
       "4       250250303003     2019_1              19187          250173686001   \n",
       "...              ...        ...                ...                   ...   \n",
       "840588  250214571001     2019_1               5506          250092046005   \n",
       "840589  250214571001     2019_1               5506          250056503002   \n",
       "840590  250214571001     2019_1               5506          250214164006   \n",
       "840591  250214571001     2019_1               5506          250173424003   \n",
       "840592  250214571001     2019_1               5506          360239710003   \n",
       "\n",
       "        visitor_count  \n",
       "0                 413  \n",
       "1                 182  \n",
       "2                 122  \n",
       "3                 121  \n",
       "4                 112  \n",
       "...               ...  \n",
       "840588              4  \n",
       "840589              4  \n",
       "840590              4  \n",
       "840591              4  \n",
       "840592              4  \n",
       "\n",
       "[840593 rows x 5 columns]"
      ]
     },
     "execution_count": 2,
     "metadata": {},
     "output_type": "execute_result"
    }
   ],
   "source": [
    "data"
   ]
  },
  {
   "cell_type": "code",
   "execution_count": 3,
   "id": "200f97c9",
   "metadata": {
    "pycharm": {
     "name": "#%%\n"
    }
   },
   "outputs": [
    {
     "data": {
      "text/html": [
       "<div>\n",
       "<style scoped>\n",
       "    .dataframe tbody tr th:only-of-type {\n",
       "        vertical-align: middle;\n",
       "    }\n",
       "\n",
       "    .dataframe tbody tr th {\n",
       "        vertical-align: top;\n",
       "    }\n",
       "\n",
       "    .dataframe thead th {\n",
       "        text-align: right;\n",
       "    }\n",
       "</style>\n",
       "<table border=\"1\" class=\"dataframe\">\n",
       "  <thead>\n",
       "    <tr style=\"text-align: right;\">\n",
       "      <th></th>\n",
       "      <th>poi_cbg</th>\n",
       "      <th>raw_device_counts</th>\n",
       "      <th>visitor_census_tract</th>\n",
       "      <th>visitor_count</th>\n",
       "    </tr>\n",
       "  </thead>\n",
       "  <tbody>\n",
       "    <tr>\n",
       "      <th>count</th>\n",
       "      <td>8.405930e+05</td>\n",
       "      <td>840593.000000</td>\n",
       "      <td>8.405930e+05</td>\n",
       "      <td>840593.000000</td>\n",
       "    </tr>\n",
       "    <tr>\n",
       "      <th>mean</th>\n",
       "      <td>2.501833e+11</td>\n",
       "      <td>4812.186621</td>\n",
       "      <td>2.601563e+11</td>\n",
       "      <td>6.734108</td>\n",
       "    </tr>\n",
       "    <tr>\n",
       "      <th>std</th>\n",
       "      <td>7.219058e+07</td>\n",
       "      <td>11085.392607</td>\n",
       "      <td>6.308833e+10</td>\n",
       "      <td>17.587996</td>\n",
       "    </tr>\n",
       "    <tr>\n",
       "      <th>min</th>\n",
       "      <td>2.500101e+11</td>\n",
       "      <td>9.000000</td>\n",
       "      <td>1.001021e+10</td>\n",
       "      <td>4.000000</td>\n",
       "    </tr>\n",
       "    <tr>\n",
       "      <th>25%</th>\n",
       "      <td>2.501381e+11</td>\n",
       "      <td>955.000000</td>\n",
       "      <td>2.501104e+11</td>\n",
       "      <td>4.000000</td>\n",
       "    </tr>\n",
       "    <tr>\n",
       "      <th>50%</th>\n",
       "      <td>2.501737e+11</td>\n",
       "      <td>1804.000000</td>\n",
       "      <td>2.501738e+11</td>\n",
       "      <td>4.000000</td>\n",
       "    </tr>\n",
       "    <tr>\n",
       "      <th>75%</th>\n",
       "      <td>2.502503e+11</td>\n",
       "      <td>4042.000000</td>\n",
       "      <td>2.502514e+11</td>\n",
       "      <td>5.000000</td>\n",
       "    </tr>\n",
       "    <tr>\n",
       "      <th>max</th>\n",
       "      <td>2.502776e+11</td>\n",
       "      <td>87858.000000</td>\n",
       "      <td>7.803099e+11</td>\n",
       "      <td>4400.000000</td>\n",
       "    </tr>\n",
       "  </tbody>\n",
       "</table>\n",
       "</div>"
      ],
      "text/plain": [
       "            poi_cbg  raw_device_counts  visitor_census_tract  visitor_count\n",
       "count  8.405930e+05      840593.000000          8.405930e+05  840593.000000\n",
       "mean   2.501833e+11        4812.186621          2.601563e+11       6.734108\n",
       "std    7.219058e+07       11085.392607          6.308833e+10      17.587996\n",
       "min    2.500101e+11           9.000000          1.001021e+10       4.000000\n",
       "25%    2.501381e+11         955.000000          2.501104e+11       4.000000\n",
       "50%    2.501737e+11        1804.000000          2.501738e+11       4.000000\n",
       "75%    2.502503e+11        4042.000000          2.502514e+11       5.000000\n",
       "max    2.502776e+11       87858.000000          7.803099e+11    4400.000000"
      ]
     },
     "execution_count": 3,
     "metadata": {},
     "output_type": "execute_result"
    }
   ],
   "source": [
    "data.describe()"
   ]
  },
  {
   "cell_type": "code",
   "execution_count": 4,
   "id": "eed6f2b4",
   "metadata": {
    "pycharm": {
     "name": "#%%\n"
    }
   },
   "outputs": [
    {
     "data": {
      "text/plain": [
       "poi_cbg                 0\n",
       "year_month              0\n",
       "raw_device_counts       0\n",
       "visitor_census_tract    0\n",
       "visitor_count           0\n",
       "dtype: int64"
      ]
     },
     "execution_count": 4,
     "metadata": {},
     "output_type": "execute_result"
    }
   ],
   "source": [
    "data.isna().sum()"
   ]
  },
  {
   "cell_type": "code",
   "execution_count": 5,
   "id": "ab414e4d",
   "metadata": {
    "pycharm": {
     "name": "#%%\n"
    }
   },
   "outputs": [
    {
     "data": {
      "text/plain": [
       "2019_1    840593\n",
       "Name: year_month, dtype: int64"
      ]
     },
     "execution_count": 5,
     "metadata": {},
     "output_type": "execute_result"
    }
   ],
   "source": [
    "data['year_month'].value_counts()"
   ]
  },
  {
   "cell_type": "code",
   "execution_count": 6,
   "id": "d9b0870e",
   "metadata": {
    "pycharm": {
     "name": "#%%\n"
    }
   },
   "outputs": [
    {
     "data": {
      "text/plain": [
       "250173391004    832\n",
       "250158204001    562\n",
       "250173531011    550\n",
       "250214202023    546\n",
       "250059855001    531\n",
       "               ... \n",
       "360790116001      1\n",
       "60014443011       1\n",
       "80319800001       1\n",
       "240430103002      1\n",
       "390599772002      1\n",
       "Name: visitor_census_tract, Length: 40283, dtype: int64"
      ]
     },
     "execution_count": 6,
     "metadata": {},
     "output_type": "execute_result"
    }
   ],
   "source": [
    "data['visitor_census_tract'].value_counts()"
   ]
  },
  {
   "cell_type": "code",
   "execution_count": 7,
   "id": "c069096b",
   "metadata": {
    "pycharm": {
     "name": "#%%\n"
    }
   },
   "outputs": [],
   "source": [
    "import networkx as nx\n",
    "#this is an edge list on a directed graph\n",
    "net = nx.from_pandas_edgelist(data, source='poi_cbg', target='visitor_census_tract',\n",
    "                              edge_attr='visitor_count', create_using=nx.DiGraph())"
   ]
  },
  {
   "cell_type": "code",
   "execution_count": 8,
   "id": "a1c330bc",
   "metadata": {
    "pycharm": {
     "name": "#%%\n"
    }
   },
   "outputs": [
    {
     "name": "stdout",
     "output_type": "stream",
     "text": [
      "There are 40292 nodes and 840593 edges\n"
     ]
    }
   ],
   "source": [
    "print(\"There are\", len(net.nodes), \"nodes and\", len(net.edges), \"edges\")"
   ]
  },
  {
   "cell_type": "markdown",
   "id": "dfec2489",
   "metadata": {
    "pycharm": {
     "name": "#%% md\n"
    }
   },
   "source": [
    "## Task 2\n",
    "Calculate weighted node degree and unweighted node degree for each census block group in the mobility network and use the results to create a pandas dataframe. The dataframe should have three columns. One column stores the census block group id, and the other two the two calculated node degrees. "
   ]
  },
  {
   "cell_type": "code",
   "execution_count": 9,
   "id": "1fc907a0",
   "metadata": {
    "pycharm": {
     "name": "#%%\n"
    }
   },
   "outputs": [],
   "source": [
    "block_degree = pd.DataFrame.from_dict(net.degree(weight='visitor_count'))"
   ]
  },
  {
   "cell_type": "code",
   "execution_count": 10,
   "id": "fa003e74",
   "metadata": {
    "pycharm": {
     "name": "#%%\n"
    }
   },
   "outputs": [
    {
     "data": {
      "text/plain": [
       "count    40292.000000\n",
       "mean        41.725057\n",
       "std        145.924906\n",
       "min          1.000000\n",
       "25%          1.000000\n",
       "50%          2.000000\n",
       "75%          6.000000\n",
       "max      11857.000000\n",
       "Name: 1, dtype: float64"
      ]
     },
     "execution_count": 10,
     "metadata": {},
     "output_type": "execute_result"
    }
   ],
   "source": [
    "pd.DataFrame.from_dict(net.degree())[1].describe()"
   ]
  },
  {
   "cell_type": "code",
   "execution_count": 11,
   "id": "733af031",
   "metadata": {
    "pycharm": {
     "name": "#%%\n"
    }
   },
   "outputs": [],
   "source": [
    "block_degree.rename({1:'Weighted Degree'}, axis=1, inplace=True)"
   ]
  },
  {
   "cell_type": "code",
   "execution_count": 12,
   "id": "8a3ca8cb",
   "metadata": {
    "pycharm": {
     "name": "#%%\n"
    }
   },
   "outputs": [],
   "source": [
    "block_degree = pd.merge(block_degree, pd.DataFrame.from_dict(net.degree()), how='inner', on=0)"
   ]
  },
  {
   "cell_type": "code",
   "execution_count": 13,
   "id": "aede4cff",
   "metadata": {
    "pycharm": {
     "name": "#%%\n"
    }
   },
   "outputs": [],
   "source": [
    "block_degree.rename({1:'Unweighted Degree'}, axis=1, inplace=True)"
   ]
  },
  {
   "cell_type": "code",
   "execution_count": 14,
   "id": "bcbb2623",
   "metadata": {
    "pycharm": {
     "name": "#%%\n"
    }
   },
   "outputs": [
    {
     "data": {
      "text/plain": [
       "<bound method IndexOpsMixin.value_counts of 0        18617\n",
       "1         6117\n",
       "2          582\n",
       "3        11261\n",
       "4        33463\n",
       "         ...  \n",
       "40287        4\n",
       "40288        4\n",
       "40289        4\n",
       "40290        4\n",
       "40291        4\n",
       "Name: Weighted Degree, Length: 40292, dtype: int64>"
      ]
     },
     "execution_count": 14,
     "metadata": {},
     "output_type": "execute_result"
    }
   ],
   "source": [
    "block_degree['Weighted Degree'].value_counts"
   ]
  },
  {
   "cell_type": "markdown",
   "id": "d725c3b4",
   "metadata": {
    "pycharm": {
     "name": "#%% md\n"
    }
   },
   "source": [
    "That is the end of q2, however I was curious about the flow so I calculated another column after"
   ]
  },
  {
   "cell_type": "code",
   "execution_count": 15,
   "id": "5b4d78e0",
   "metadata": {
    "pycharm": {
     "name": "#%%\n"
    }
   },
   "outputs": [],
   "source": [
    "block_degree = pd.merge(block_degree, pd.DataFrame.from_dict(net.in_degree(weight='visitor_count')), how='inner', on=0)"
   ]
  },
  {
   "cell_type": "code",
   "execution_count": 16,
   "id": "244648c2",
   "metadata": {
    "pycharm": {
     "name": "#%%\n"
    }
   },
   "outputs": [],
   "source": [
    "block_degree.rename({1:'Weighted Indegree'}, axis=1, inplace=True)"
   ]
  },
  {
   "cell_type": "code",
   "execution_count": 17,
   "id": "05a21cf5",
   "metadata": {
    "pycharm": {
     "name": "#%%\n"
    }
   },
   "outputs": [],
   "source": [
    "block_degree = pd.merge(block_degree, pd.DataFrame.from_dict(net.out_degree(weight='visitor_count')), how='inner', on=0)"
   ]
  },
  {
   "cell_type": "code",
   "execution_count": 18,
   "id": "5f3ceb4f",
   "metadata": {
    "pycharm": {
     "name": "#%%\n"
    }
   },
   "outputs": [],
   "source": [
    "block_degree.rename({1:'Weighted Outdegree'}, axis=1, inplace=True)"
   ]
  },
  {
   "cell_type": "code",
   "execution_count": 19,
   "id": "b049a064",
   "metadata": {
    "pycharm": {
     "name": "#%%\n"
    }
   },
   "outputs": [
    {
     "data": {
      "text/html": [
       "<div>\n",
       "<style scoped>\n",
       "    .dataframe tbody tr th:only-of-type {\n",
       "        vertical-align: middle;\n",
       "    }\n",
       "\n",
       "    .dataframe tbody tr th {\n",
       "        vertical-align: top;\n",
       "    }\n",
       "\n",
       "    .dataframe thead th {\n",
       "        text-align: right;\n",
       "    }\n",
       "</style>\n",
       "<table border=\"1\" class=\"dataframe\">\n",
       "  <thead>\n",
       "    <tr style=\"text-align: right;\">\n",
       "      <th></th>\n",
       "      <th>0</th>\n",
       "      <th>Weighted Degree</th>\n",
       "      <th>Unweighted Degree</th>\n",
       "      <th>Weighted Indegree</th>\n",
       "      <th>Weighted Outdegree</th>\n",
       "    </tr>\n",
       "  </thead>\n",
       "  <tbody>\n",
       "    <tr>\n",
       "      <th>0</th>\n",
       "      <td>250250303003</td>\n",
       "      <td>18617</td>\n",
       "      <td>3137</td>\n",
       "      <td>1953</td>\n",
       "      <td>16664</td>\n",
       "    </tr>\n",
       "    <tr>\n",
       "      <th>1</th>\n",
       "      <td>250251010016</td>\n",
       "      <td>6117</td>\n",
       "      <td>704</td>\n",
       "      <td>3674</td>\n",
       "      <td>2443</td>\n",
       "    </tr>\n",
       "    <tr>\n",
       "      <th>2</th>\n",
       "      <td>440070008003</td>\n",
       "      <td>582</td>\n",
       "      <td>77</td>\n",
       "      <td>582</td>\n",
       "      <td>0</td>\n",
       "    </tr>\n",
       "    <tr>\n",
       "      <th>3</th>\n",
       "      <td>250250923002</td>\n",
       "      <td>11261</td>\n",
       "      <td>702</td>\n",
       "      <td>10198</td>\n",
       "      <td>1063</td>\n",
       "    </tr>\n",
       "    <tr>\n",
       "      <th>4</th>\n",
       "      <td>250173686001</td>\n",
       "      <td>33463</td>\n",
       "      <td>3447</td>\n",
       "      <td>7551</td>\n",
       "      <td>25912</td>\n",
       "    </tr>\n",
       "  </tbody>\n",
       "</table>\n",
       "</div>"
      ],
      "text/plain": [
       "              0  Weighted Degree  Unweighted Degree  Weighted Indegree  \\\n",
       "0  250250303003            18617               3137               1953   \n",
       "1  250251010016             6117                704               3674   \n",
       "2  440070008003              582                 77                582   \n",
       "3  250250923002            11261                702              10198   \n",
       "4  250173686001            33463               3447               7551   \n",
       "\n",
       "   Weighted Outdegree  \n",
       "0               16664  \n",
       "1                2443  \n",
       "2                   0  \n",
       "3                1063  \n",
       "4               25912  "
      ]
     },
     "execution_count": 19,
     "metadata": {},
     "output_type": "execute_result"
    }
   ],
   "source": [
    "block_degree.head()"
   ]
  },
  {
   "cell_type": "code",
   "execution_count": 20,
   "id": "efcf5b02",
   "metadata": {
    "pycharm": {
     "name": "#%%\n"
    }
   },
   "outputs": [],
   "source": [
    "block_degree['Flow'] = block_degree['Weighted Indegree'] - block_degree['Weighted Outdegree']"
   ]
  },
  {
   "cell_type": "code",
   "execution_count": 21,
   "id": "e4474ed9",
   "metadata": {
    "pycharm": {
     "name": "#%%\n"
    }
   },
   "outputs": [
    {
     "data": {
      "text/html": [
       "<div>\n",
       "<style scoped>\n",
       "    .dataframe tbody tr th:only-of-type {\n",
       "        vertical-align: middle;\n",
       "    }\n",
       "\n",
       "    .dataframe tbody tr th {\n",
       "        vertical-align: top;\n",
       "    }\n",
       "\n",
       "    .dataframe thead th {\n",
       "        text-align: right;\n",
       "    }\n",
       "</style>\n",
       "<table border=\"1\" class=\"dataframe\">\n",
       "  <thead>\n",
       "    <tr style=\"text-align: right;\">\n",
       "      <th></th>\n",
       "      <th>0</th>\n",
       "      <th>Weighted Degree</th>\n",
       "      <th>Unweighted Degree</th>\n",
       "      <th>Weighted Indegree</th>\n",
       "      <th>Weighted Outdegree</th>\n",
       "      <th>Flow</th>\n",
       "    </tr>\n",
       "  </thead>\n",
       "  <tbody>\n",
       "    <tr>\n",
       "      <th>0</th>\n",
       "      <td>250250303003</td>\n",
       "      <td>18617</td>\n",
       "      <td>3137</td>\n",
       "      <td>1953</td>\n",
       "      <td>16664</td>\n",
       "      <td>-14711</td>\n",
       "    </tr>\n",
       "    <tr>\n",
       "      <th>1</th>\n",
       "      <td>250251010016</td>\n",
       "      <td>6117</td>\n",
       "      <td>704</td>\n",
       "      <td>3674</td>\n",
       "      <td>2443</td>\n",
       "      <td>1231</td>\n",
       "    </tr>\n",
       "    <tr>\n",
       "      <th>2</th>\n",
       "      <td>440070008003</td>\n",
       "      <td>582</td>\n",
       "      <td>77</td>\n",
       "      <td>582</td>\n",
       "      <td>0</td>\n",
       "      <td>582</td>\n",
       "    </tr>\n",
       "    <tr>\n",
       "      <th>3</th>\n",
       "      <td>250250923002</td>\n",
       "      <td>11261</td>\n",
       "      <td>702</td>\n",
       "      <td>10198</td>\n",
       "      <td>1063</td>\n",
       "      <td>9135</td>\n",
       "    </tr>\n",
       "    <tr>\n",
       "      <th>4</th>\n",
       "      <td>250173686001</td>\n",
       "      <td>33463</td>\n",
       "      <td>3447</td>\n",
       "      <td>7551</td>\n",
       "      <td>25912</td>\n",
       "      <td>-18361</td>\n",
       "    </tr>\n",
       "  </tbody>\n",
       "</table>\n",
       "</div>"
      ],
      "text/plain": [
       "              0  Weighted Degree  Unweighted Degree  Weighted Indegree  \\\n",
       "0  250250303003            18617               3137               1953   \n",
       "1  250251010016             6117                704               3674   \n",
       "2  440070008003              582                 77                582   \n",
       "3  250250923002            11261                702              10198   \n",
       "4  250173686001            33463               3447               7551   \n",
       "\n",
       "   Weighted Outdegree   Flow  \n",
       "0               16664 -14711  \n",
       "1                2443   1231  \n",
       "2                   0    582  \n",
       "3                1063   9135  \n",
       "4               25912 -18361  "
      ]
     },
     "execution_count": 21,
     "metadata": {},
     "output_type": "execute_result"
    }
   ],
   "source": [
    "block_degree.head()"
   ]
  },
  {
   "cell_type": "code",
   "execution_count": 22,
   "id": "a83eef90",
   "metadata": {
    "pycharm": {
     "name": "#%%\n"
    }
   },
   "outputs": [],
   "source": [
    "block_degree.drop(['Weighted Indegree', 'Weighted Outdegree'], axis=1, inplace=True)"
   ]
  },
  {
   "cell_type": "code",
   "execution_count": 23,
   "id": "78b36008",
   "metadata": {
    "pycharm": {
     "name": "#%%\n"
    }
   },
   "outputs": [
    {
     "data": {
      "text/html": [
       "<div>\n",
       "<style scoped>\n",
       "    .dataframe tbody tr th:only-of-type {\n",
       "        vertical-align: middle;\n",
       "    }\n",
       "\n",
       "    .dataframe tbody tr th {\n",
       "        vertical-align: top;\n",
       "    }\n",
       "\n",
       "    .dataframe thead th {\n",
       "        text-align: right;\n",
       "    }\n",
       "</style>\n",
       "<table border=\"1\" class=\"dataframe\">\n",
       "  <thead>\n",
       "    <tr style=\"text-align: right;\">\n",
       "      <th></th>\n",
       "      <th>0</th>\n",
       "      <th>Weighted Degree</th>\n",
       "      <th>Unweighted Degree</th>\n",
       "      <th>Flow</th>\n",
       "    </tr>\n",
       "  </thead>\n",
       "  <tbody>\n",
       "    <tr>\n",
       "      <th>0</th>\n",
       "      <td>250250303003</td>\n",
       "      <td>18617</td>\n",
       "      <td>3137</td>\n",
       "      <td>-14711</td>\n",
       "    </tr>\n",
       "    <tr>\n",
       "      <th>1</th>\n",
       "      <td>250251010016</td>\n",
       "      <td>6117</td>\n",
       "      <td>704</td>\n",
       "      <td>1231</td>\n",
       "    </tr>\n",
       "    <tr>\n",
       "      <th>2</th>\n",
       "      <td>440070008003</td>\n",
       "      <td>582</td>\n",
       "      <td>77</td>\n",
       "      <td>582</td>\n",
       "    </tr>\n",
       "    <tr>\n",
       "      <th>3</th>\n",
       "      <td>250250923002</td>\n",
       "      <td>11261</td>\n",
       "      <td>702</td>\n",
       "      <td>9135</td>\n",
       "    </tr>\n",
       "    <tr>\n",
       "      <th>4</th>\n",
       "      <td>250173686001</td>\n",
       "      <td>33463</td>\n",
       "      <td>3447</td>\n",
       "      <td>-18361</td>\n",
       "    </tr>\n",
       "  </tbody>\n",
       "</table>\n",
       "</div>"
      ],
      "text/plain": [
       "              0  Weighted Degree  Unweighted Degree   Flow\n",
       "0  250250303003            18617               3137 -14711\n",
       "1  250251010016             6117                704   1231\n",
       "2  440070008003              582                 77    582\n",
       "3  250250923002            11261                702   9135\n",
       "4  250173686001            33463               3447 -18361"
      ]
     },
     "execution_count": 23,
     "metadata": {},
     "output_type": "execute_result"
    }
   ],
   "source": [
    "block_degree.head()"
   ]
  },
  {
   "cell_type": "markdown",
   "id": "58e9f299",
   "metadata": {
    "pycharm": {
     "name": "#%% md\n"
    }
   },
   "source": [
    "## Task 3\n",
    "Create a plot that visualizes the distribution of the weighted node degrees. Is the human mobility network a scale-free network? In other words, does the degree distribution follow a power law?"
   ]
  },
  {
   "cell_type": "code",
   "execution_count": 24,
   "id": "07e05807",
   "metadata": {
    "pycharm": {
     "name": "#%%\n"
    }
   },
   "outputs": [],
   "source": [
    "block_degree.sort_values('Weighted Degree', ascending=False, ignore_index=True, inplace=True)"
   ]
  },
  {
   "cell_type": "code",
   "execution_count": 25,
   "id": "a26d4465",
   "metadata": {
    "pycharm": {
     "name": "#%%\n"
    }
   },
   "outputs": [
    {
     "data": {
      "text/html": [
       "<div>\n",
       "<style scoped>\n",
       "    .dataframe tbody tr th:only-of-type {\n",
       "        vertical-align: middle;\n",
       "    }\n",
       "\n",
       "    .dataframe tbody tr th {\n",
       "        vertical-align: top;\n",
       "    }\n",
       "\n",
       "    .dataframe thead th {\n",
       "        text-align: right;\n",
       "    }\n",
       "</style>\n",
       "<table border=\"1\" class=\"dataframe\">\n",
       "  <thead>\n",
       "    <tr style=\"text-align: right;\">\n",
       "      <th></th>\n",
       "      <th>0</th>\n",
       "      <th>Weighted Degree</th>\n",
       "      <th>Unweighted Degree</th>\n",
       "      <th>Flow</th>\n",
       "    </tr>\n",
       "  </thead>\n",
       "  <tbody>\n",
       "    <tr>\n",
       "      <th>0</th>\n",
       "      <td>250259813002</td>\n",
       "      <td>79019</td>\n",
       "      <td>11857</td>\n",
       "      <td>-69611</td>\n",
       "    </tr>\n",
       "    <tr>\n",
       "      <th>1</th>\n",
       "      <td>250173391004</td>\n",
       "      <td>48447</td>\n",
       "      <td>3973</td>\n",
       "      <td>-5747</td>\n",
       "    </tr>\n",
       "    <tr>\n",
       "      <th>2</th>\n",
       "      <td>250173686001</td>\n",
       "      <td>33463</td>\n",
       "      <td>3447</td>\n",
       "      <td>-18361</td>\n",
       "    </tr>\n",
       "    <tr>\n",
       "      <th>3</th>\n",
       "      <td>250250922003</td>\n",
       "      <td>28865</td>\n",
       "      <td>3241</td>\n",
       "      <td>-26391</td>\n",
       "    </tr>\n",
       "    <tr>\n",
       "      <th>4</th>\n",
       "      <td>250250106001</td>\n",
       "      <td>23429</td>\n",
       "      <td>3808</td>\n",
       "      <td>-17655</td>\n",
       "    </tr>\n",
       "  </tbody>\n",
       "</table>\n",
       "</div>"
      ],
      "text/plain": [
       "              0  Weighted Degree  Unweighted Degree   Flow\n",
       "0  250259813002            79019              11857 -69611\n",
       "1  250173391004            48447               3973  -5747\n",
       "2  250173686001            33463               3447 -18361\n",
       "3  250250922003            28865               3241 -26391\n",
       "4  250250106001            23429               3808 -17655"
      ]
     },
     "execution_count": 25,
     "metadata": {},
     "output_type": "execute_result"
    }
   ],
   "source": [
    "block_degree.head()"
   ]
  },
  {
   "cell_type": "code",
   "execution_count": 26,
   "id": "f239624c",
   "metadata": {
    "pycharm": {
     "name": "#%%\n"
    }
   },
   "outputs": [
    {
     "data": {
      "image/png": "[encoded data removed]",
      "text/plain": [
       "<Figure size 640x480 with 1 Axes>"
      ]
     },
     "metadata": {},
     "output_type": "display_data"
    }
   ],
   "source": [
    "import matplotlib.pyplot as plt\n",
    "plt.plot(block_degree.index, block_degree['Weighted Degree'])\n",
    "powChart = [80000*0.995**x for x in range(len(block_degree))]\n",
    "plt.plot(block_degree.index, powChart, color='orange', alpha=0.3, lw=7)\n",
    "plt.show()"
   ]
  },
  {
   "cell_type": "code",
   "execution_count": 27,
   "id": "f2df8c72",
   "metadata": {
    "pycharm": {
     "name": "#%%\n"
    }
   },
   "outputs": [
    {
     "data": {
      "text/plain": [
       "4        15119\n",
       "8         5701\n",
       "12        2848\n",
       "16        1579\n",
       "20        1019\n",
       "         ...  \n",
       "1232         1\n",
       "1233         1\n",
       "2226         1\n",
       "3478         1\n",
       "79019        1\n",
       "Name: Weighted Degree, Length: 3100, dtype: int64"
      ]
     },
     "execution_count": 27,
     "metadata": {},
     "output_type": "execute_result"
    }
   ],
   "source": [
    "block_degree['Weighted Degree'].value_counts()"
   ]
  },
  {
   "cell_type": "code",
   "execution_count": 28,
   "id": "a8c08ebe",
   "metadata": {
    "pycharm": {
     "name": "#%%\n"
    }
   },
   "outputs": [],
   "source": [
    "#it kinda looks like a powerlaw, would be easier to see if we only looked at the top values"
   ]
  },
  {
   "cell_type": "code",
   "execution_count": 29,
   "id": "b9c8f77b",
   "metadata": {
    "pycharm": {
     "name": "#%%\n"
    }
   },
   "outputs": [
    {
     "data": {
      "image/png": "[encoded data removed]",
      "text/plain": [
       "<Figure size 640x480 with 1 Axes>"
      ]
     },
     "metadata": {},
     "output_type": "display_data"
    }
   ],
   "source": [
    "top_degrees = block_degree.head(5000)\n",
    "plt.plot(top_degrees.index, top_degrees['Weighted Degree'])\n",
    "powChart = [80000*0.988**x for x in range(len(top_degrees))]\n",
    "plt.plot(top_degrees.index, powChart, color='orange', alpha=0.3, lw=7)\n",
    "plt.show()"
   ]
  },
  {
   "cell_type": "markdown",
   "id": "f8fa5913",
   "metadata": {
    "pycharm": {
     "name": "#%% md\n"
    }
   },
   "source": [
    "Overall it slightly follows a power law, but the dropoff for the first few values is much steeper than the later values to such an extent that a power law distribution cannot match it."
   ]
  },
  {
   "cell_type": "markdown",
   "id": "3c17aa3f",
   "metadata": {
    "pycharm": {
     "name": "#%% md\n"
    }
   },
   "source": [
    "## Bonus task\n",
    "Does this network follow the “six degrees of separation” principle? Find out ways to analyze the network to answer this question. [1 extra point] "
   ]
  },
  {
   "cell_type": "code",
   "execution_count": 31,
   "id": "9c052dd4",
   "metadata": {
    "pycharm": {
     "name": "#%%\n"
    }
   },
   "outputs": [],
   "source": [
    "undir = net.to_undirected()"
   ]
  },
  {
   "cell_type": "code",
   "execution_count": 45,
   "id": "47b38472",
   "metadata": {
    "pycharm": {
     "name": "#%%\n"
    }
   },
   "outputs": [],
   "source": [
    "#in this case I did actually have the resources to calculate it out, though it took a while\n",
    "#if it hadn't I would've sampled 500 points and taken the eccentricity of those points to estimate \n",
    "diam = nx.diameter(undir)"
   ]
  },
  {
   "cell_type": "code",
   "execution_count": 47,
   "id": "746767de",
   "metadata": {
    "pycharm": {
     "name": "#%%\n"
    }
   },
   "outputs": [
    {
     "data": {
      "text/plain": [
       "6"
      ]
     },
     "execution_count": 47,
     "metadata": {},
     "output_type": "execute_result"
    }
   ],
   "source": [
    "diam"
   ]
  },
  {
   "cell_type": "code",
   "execution_count": 105,
   "id": "9dd95fa6",
   "metadata": {
    "pycharm": {
     "name": "#%%\n"
    }
   },
   "outputs": [
    {
     "data": {
      "image/png": "[encoded data removed]",
      "text/plain": [
       "<Figure size 640x480 with 1 Axes>"
      ]
     },
     "metadata": {},
     "output_type": "display_data"
    }
   ],
   "source": [
    "#might as well sample some points to see the distribution\n",
    "import random\n",
    "sample = random.sample(undir.nodes(), 500)\n",
    "eccList = pd.DataFrame(columns=[\"Max Distance (eccentricity)\"])\n",
    "for node in sample:\n",
    "    eccList.loc[len(eccList)] = nx.eccentricity(undir, node)\n",
    "plot = plt.bar(eccList[\"Max Distance (eccentricity)\"].unique(), eccList.value_counts())\n",
    "plt.bar_label(plot, eccList.value_counts())\n",
    "plt.ylabel('Frequency', rotation='horizontal', horizontalalignment='right')\n",
    "plt.xlabel('Eccentricity')\n",
    "plt.show()"
   ]
  },
  {
   "cell_type": "code",
   "execution_count": 106,
   "id": "b786992c",
   "metadata": {
    "pycharm": {
     "name": "#%%\n"
    }
   },
   "outputs": [
    {
     "data": {
      "image/png": "[encoded data removed]",
      "text/plain": [
       "<Figure size 640x480 with 1 Axes>"
      ]
     },
     "metadata": {},
     "output_type": "display_data"
    }
   ],
   "source": [
    "#might as well sample some points to see the distribution\n",
    "import random\n",
    "sample = random.sample(undir.nodes(), 500)\n",
    "sample = [(sample[i], sample[i+1]) for i in range(0, len(sample), 2)]\n",
    "distList = pd.DataFrame(columns=[\"Distance\"])\n",
    "for nodePair in sample:\n",
    "    distList.loc[len(distList)] = nx.shortest_path_length(undir, nodePair[0], nodePair[1])\n",
    "plot = plt.bar(distList[\"Distance\"].unique(), distList.value_counts())\n",
    "plt.bar_label(plot, distList.value_counts())\n",
    "plt.ylabel('Frequency', rotation='horizontal', horizontalalignment='right')\n",
    "plt.xlabel('Distance')\n",
    "plt.show()"
   ]
  },
  {
   "cell_type": "markdown",
   "id": "b04f57b2",
   "metadata": {
    "pycharm": {
     "name": "#%% md\n"
    }
   },
   "source": [
    "This network does actually follow the six degrees of separation"
   ]
  }
 ],
 "metadata": {
  "kernelspec": {
   "display_name": "Python 3 (ipykernel)",
   "language": "python",
   "name": "python3"
  },
  "language_info": {
   "codemirror_mode": {
    "name": "ipython",
    "version": 3
   },
   "file_extension": ".py",
   "mimetype": "text/x-python",
   "name": "python",
   "nbconvert_exporter": "python",
   "pygments_lexer": "ipython3",
   "version": "3.8.13"
  }
 },
 "nbformat": 4,
 "nbformat_minor": 5
}