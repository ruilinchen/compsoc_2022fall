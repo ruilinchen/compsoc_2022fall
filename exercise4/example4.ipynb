{
 "cells": [
  {
   "cell_type": "markdown",
   "id": "0445e82c",
   "metadata": {
    "pycharm": {
     "name": "#%% md\n"
    }
   },
   "source": [
    "### Task 4.1 Read the file “example.txt” that we have used in class, which can be downloaded from here, and print out every other line starting from the seventh line. ###"
   ]
  },
  {
   "cell_type": "code",
   "execution_count": 30,
   "id": "35e858c0",
   "metadata": {
    "pycharm": {
     "name": "#%%\n"
    }
   },
   "outputs": [
    {
     "name": "stdout",
     "output_type": "stream",
     "text": [
      "['The names \"John Doe\" for males, \"Jane Doe\" or \"Jane Roe\" for females, or \"Jonnie Doe\" and \"Janie Doe\" for children, or just \"Doe\" non-gender-specifically are used as placeholder names for a party whose true identity is unknown or must be withheld in a legal action, case, or discussion. The names are also used to refer to acorpse or hospital patient whose identity is unknown. This practice is widely used in the United States and Canada, but is rarely used in other English-speaking countries including the United Kingdom itself, from where the use of \"John Doe\" in a legal context originates. The names Joe Bloggs or John Smith are used in the UK instead, as well as in Australia and New Zealand.\\n', 'John Doe is sometimes used to refer to a typical male in other contexts as well, in a similar manner to John Q. Public, known in Great Britain as Joe Public, John Smith or Joe Bloggs. For example, the first name listed on a form is often John Doe, along with a fictional address or other fictional information to provide an example of how to fill in the form. The name is also used frequently in popular culture, for example in the Frank Capra film Meet John Doe. John Doe was also the name of a 2002 American television series.\\n', 'Similarly, a child or baby whose identity is unknown may be referred to as Baby Doe. A notorious murder case in Kansas City, Missouri, referred to the baby victim as Precious Doe. Other unidentified female murder victims are Cali Doe and Princess Doe. Additional persons may be called James Doe, Judy Doe, etc. However, to avoid possible confusion, if two anonymous or unknown parties are cited in a specific case or action, the surnames Doe and Roe may be used simultaneously; for example, \"John Doe v. Jane Roe\". If several anonymous parties are referenced, they may simply be labelled John Doe #1, John Doe #2, etc. (the U.S. Operation Delego cited 21 (numbered) \"John Doe\"s) or labelled with other variants of Doe / Roe / Poe / etc. Other early alternatives such as John Stiles and Richard Miles are now rarely used, and Mary Major has been used in some American federal cases.\\n', '\\n', 'File created by https://www.online-convert.com\\n', 'Text of Example content: Wikipedia (https://en.wikipedia.org/wiki/John_Doe)\\n', '\\n']\n"
     ]
    }
   ],
   "source": [
    "with open(\"example.txt\") as f:\n",
    "    lines = f.readlines()\n",
    "needed_lines = lines[7::2]\n",
    "print(needed_lines)\n",
    "f.close()\n"
   ]
  },
  {
   "cell_type": "markdown",
   "id": "adde13d9",
   "metadata": {
    "pycharm": {
     "name": "#%% md\n"
    }
   },
   "source": [
    "### Task 4.2 Write a sumForTwenty function. The function takes twenty numbers as input (not as user input, but as function arguments), and prints one value as output. The output should be the sum of the twenty numbers passed to the function. The function should also check for variable types. If any of the numbers is passed as a string type as opposed to an integer or float type, the function will print an error message.  ###"
   ]
  },
  {
   "cell_type": "code",
   "execution_count": 92,
   "id": "351b5d59",
   "metadata": {
    "pycharm": {
     "name": "#%%\n"
    }
   },
   "outputs": [],
   "source": [
    "def sumfortwenty(list1):\n",
    "    for i in range(0, len(list1)): \n",
    "        if type(list1[i])!=str:\n",
    "            total = sum(list1)\n",
    "            return(total)\n",
    "        else:\n",
    "            print('error message')\n",
    "            break"
   ]
  },
  {
   "cell_type": "code",
   "execution_count": 90,
   "id": "f4a17996",
   "metadata": {
    "pycharm": {
     "name": "#%%\n"
    }
   },
   "outputs": [
    {
     "data": {
      "text/plain": [
       "210"
      ]
     },
     "execution_count": 90,
     "metadata": {},
     "output_type": "execute_result"
    }
   ],
   "source": [
    "list1=[1,2,3,4,5,6,7,8,9,10,11,12,13,14,15,16,17,18,19,20]\n",
    "sumfortwenty(list1)"
   ]
  },
  {
   "cell_type": "code",
   "execution_count": 75,
   "id": "423dd427",
   "metadata": {
    "pycharm": {
     "name": "#%%\n"
    }
   },
   "outputs": [
    {
     "name": "stdout",
     "output_type": "stream",
     "text": [
      "error message\n"
     ]
    }
   ],
   "source": [
    "list2=[\"a\",2,3,4,5,6,7,8,9,10,11,12,13,14,15,16,17,18,19,20]\n",
    "sumfortwenty(list2)"
   ]
  },
  {
   "cell_type": "markdown",
   "id": "c1edc963",
   "metadata": {
    "pycharm": {
     "name": "#%% md\n"
    }
   },
   "source": [
    "### Task 4.3 Write a duplicateNames function. The function takes a list of string and an integer N as argument, and return another list of string as output. The output duplicates the input list N times and updates the string values by adding an incremental number starting from 1 to them. Example: list = ['a', 'b'], N=3 -> ['a1', 'b1', 'a2', 'b2', 'a3', 'b3'].  ###"
   ]
  },
  {
   "cell_type": "code",
   "execution_count": 122,
   "id": "2d98eb74",
   "metadata": {
    "pycharm": {
     "name": "#%%\n"
    }
   },
   "outputs": [],
   "source": [
    "def new_list(lista,n):\n",
    "    new_list = ['{}{}'.format(a,b) for b in range(1,n+1) for a in lista]\n",
    "    print(new_list)"
   ]
  },
  {
   "cell_type": "code",
   "execution_count": 124,
   "id": "01950c2a",
   "metadata": {
    "pycharm": {
     "name": "#%%\n"
    }
   },
   "outputs": [
    {
     "name": "stdout",
     "output_type": "stream",
     "text": [
      "['a1', 'b1', 'c1', 'a2', 'b2', 'c2', 'a3', 'b3', 'c3', 'a4', 'b4', 'c4', 'a5', 'b5', 'c5']\n"
     ]
    }
   ],
   "source": [
    "lista=['a','b','c']\n",
    "new_list(lista,5)"
   ]
  },
  {
   "cell_type": "markdown",
   "id": "e32710fb",
   "metadata": {
    "pycharm": {
     "name": "#%% md\n"
    }
   },
   "source": [
    "### Task 4.4 Write a top3Players function. The function takes a dictionary as argument. This dictionary keeps track of players and their scores. Based on this, the function returns the top 3 players with the highest scores as output. Example: {'lebron': 70, 'kobe': 80, 'stephen': 75, 'michael': 85, 'larry': 82} -> 'michael', 'larry', 'kobe'. ###"
   ]
  },
  {
   "cell_type": "code",
   "execution_count": 149,
   "id": "3264e25c",
   "metadata": {
    "pycharm": {
     "name": "#%%\n"
    }
   },
   "outputs": [],
   "source": [
    "from collections import Counter\n",
    "\n",
    "def top3players(dict1):\n",
    "    k = Counter(dict1)\n",
    "    high = k.most_common(3)\n",
    "    for i in high:\n",
    "        print(i[0])\n",
    "\n"
   ]
  },
  {
   "cell_type": "code",
   "execution_count": 150,
   "id": "1ae22f56",
   "metadata": {
    "pycharm": {
     "name": "#%%\n"
    }
   },
   "outputs": [
    {
     "name": "stdout",
     "output_type": "stream",
     "text": [
      "michael\n",
      "larry\n",
      "kobe\n"
     ]
    }
   ],
   "source": [
    "dict1={'lebron': 70, 'kobe': 80, 'stephen': 75, 'michael': 85, 'larry': 82}\n",
    "top3players(dict1)"
   ]
  },
  {
   "cell_type": "code",
   "execution_count": 151,
   "id": "1323479a",
   "metadata": {
    "pycharm": {
     "name": "#%%\n"
    }
   },
   "outputs": [
    {
     "name": "stdout",
     "output_type": "stream",
     "text": [
      "lebron\n",
      "kobe\n",
      "michael\n"
     ]
    }
   ],
   "source": [
    "dict1={'lebron': 100, 'kobe': 90, 'stephen': 75, 'michael': 85, 'larry': 82}\n",
    "top3players(dict1)"
   ]
  }
 ],
 "metadata": {
  "kernelspec": {
   "display_name": "Python 3",
   "language": "python",
   "name": "python3"
  },
  "language_info": {
   "codemirror_mode": {
    "name": "ipython",
    "version": 3
   },
   "file_extension": ".py",
   "mimetype": "text/x-python",
   "name": "python",
   "nbconvert_exporter": "python",
   "pygments_lexer": "ipython3",
   "version": "3.8.8"
  }
 },
 "nbformat": 4,
 "nbformat_minor": 5
}