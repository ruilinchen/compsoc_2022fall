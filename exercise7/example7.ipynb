{
 "cells": [
  {
   "cell_type": "code",
   "execution_count": 2,
   "id": "f857a813",
   "metadata": {
    "pycharm": {
     "name": "#%%\n"
    }
   },
   "outputs": [
    {
     "name": "stderr",
     "output_type": "stream",
     "text": [
      "C:\\Users\\27737\\AppData\\Local\\Temp\\ipykernel_20824\\989091762.py:10: DtypeWarning: Columns (0) have mixed types. Specify dtype option on import or set low_memory=False.\n",
      "  combinecrime_df = pd.concat(\n",
      "C:\\Users\\27737\\AppData\\Local\\Temp\\ipykernel_20824\\989091762.py:10: DtypeWarning: Columns (0) have mixed types. Specify dtype option on import or set low_memory=False.\n",
      "  combinecrime_df = pd.concat(\n"
     ]
    },
    {
     "name": "stdout",
     "output_type": "stream",
     "text": [
      "       INCIDENT_NUMBER  OFFENSE_CODE  OFFENSE_CODE_GROUP  \\\n",
      "0            102091671          2647                 NaN   \n",
      "1            102095489          3115                 NaN   \n",
      "2            102096818          2905                 NaN   \n",
      "3            129092894          3201                 NaN   \n",
      "4            129099920          3301                 NaN   \n",
      "...                ...           ...                 ...   \n",
      "158073        20063425          3114                 NaN   \n",
      "158074        20062356          1107                 NaN   \n",
      "158075        20046400          1501                 NaN   \n",
      "158076        20038446          1501                 NaN   \n",
      "158077        20030892           540                 NaN   \n",
      "\n",
      "                                      OFFENSE_DESCRIPTION DISTRICT  \\\n",
      "0                               THREATS TO DO BODILY HARM       B3   \n",
      "1                                      INVESTIGATE PERSON      E18   \n",
      "2                             VAL - VIOLATION OF AUTO LAW       A1   \n",
      "3                                PROPERTY - LOST/ MISSING      NaN   \n",
      "4                                          VERBAL DISPUTE       B2   \n",
      "...                                                   ...      ...   \n",
      "158073                               INVESTIGATE PROPERTY       A7   \n",
      "158074                              FRAUD - IMPERSONATION      E18   \n",
      "158075  WEAPON VIOLATION - CARRY/ POSSESSING/ SALE/ TR...       B2   \n",
      "158076  WEAPON VIOLATION - CARRY/ POSSESSING/ SALE/ TR...       B2   \n",
      "158077                              BURGLARY - COMMERICAL      C11   \n",
      "\n",
      "       REPORTING_AREA  SHOOTING     OCCURRED_ON_DATE  YEAR  MONTH DAY_OF_WEEK  \\\n",
      "0                 417         0  2019-11-12 12:00:00  2019     11     Tuesday   \n",
      "1                 520         0  2019-11-25 16:30:00  2019     11      Monday   \n",
      "2                             0  2019-11-30 21:00:00  2019     11    Saturday   \n",
      "3                 503         0  2019-11-16 13:30:00  2019     11    Saturday   \n",
      "4                 330         0  2019-12-12 07:50:00  2019     12    Thursday   \n",
      "...               ...       ...                  ...   ...    ...         ...   \n",
      "158073             21         0  2020-09-01 00:00:00  2020      9     Tuesday   \n",
      "158074            520         0  2020-08-28 18:39:00  2020      8      Friday   \n",
      "158075            330         0  2020-07-02 01:38:00  2020      7    Thursday   \n",
      "158076            300         0  2020-06-03 01:15:00  2020      6   Wednesday   \n",
      "158077            380         0  2020-05-03 00:00:00  2020      5      Sunday   \n",
      "\n",
      "        HOUR  UCR_PART                                             STREET  \\\n",
      "0         12       NaN                                            MORA ST   \n",
      "1         16       NaN                                         POYDRAS ST   \n",
      "2         21       NaN  SUDBURY ST & CAMBRIDGE ST\\nBOSTON  MA 02108\\nU...   \n",
      "3         13       NaN                                AMERICAN LEGION HWY   \n",
      "4          7       NaN                                      COLUMBIA ROAD   \n",
      "...      ...       ...                                                ...   \n",
      "158073     0       NaN                                           PARIS ST   \n",
      "158074    18       NaN                                       RIVERSIDE SQ   \n",
      "158075     1       NaN                                        PASADENA RD   \n",
      "158076     1       NaN                                      WASHINGTON ST   \n",
      "158077     0       NaN                                      GALLIVAN BLVD   \n",
      "\n",
      "              Lat       Long                                  Location  \n",
      "0       42.282082 -71.073649   (42.28208197671972, -71.07364874515646)  \n",
      "1       42.256216 -71.124019  (42.256215920402155, -71.12401947329023)  \n",
      "2       42.360866 -71.061316   (42.360866027118476, -71.0613160019785)  \n",
      "3       42.284467 -71.111831   (42.28446742674232, -71.11183088758158)  \n",
      "4        0.000000   0.000000                                    (0, 0)  \n",
      "...           ...        ...                                       ...  \n",
      "158073  42.374427 -71.035279     (42.3744269722053, -71.0352787630199)  \n",
      "158074  42.256216 -71.124019     (42.2562159204022, -71.1240194732902)  \n",
      "158075  42.305761 -71.083772     (42.3057609263196, -71.0837715727385)  \n",
      "158076  42.323808 -71.089150     (42.3238077563779, -71.0891502345332)  \n",
      "158077  42.283700 -71.047761     (42.2837003080534, -71.0477614298657)  \n",
      "\n",
      "[158078 rows x 17 columns]\n",
      "before: (158078, 17)\n",
      "after: (156759, 17)\n"
     ]
    },
    {
     "name": "stderr",
     "output_type": "stream",
     "text": [
      "C:\\Users\\27737\\AppData\\Local\\Temp\\ipykernel_20824\\989091762.py:21: SettingWithCopyWarning: \n",
      "A value is trying to be set on a copy of a slice from a DataFrame.\n",
      "Try using .loc[row_indexer,col_indexer] = value instead\n",
      "\n",
      "See the caveats in the documentation: https://pandas.pydata.org/pandas-docs/stable/user_guide/indexing.html#returning-a-view-versus-a-copy\n",
      "  cleaned_combinecrime_df['offense_type'] = None\n",
      "C:\\Users\\27737\\AppData\\Local\\Temp\\ipykernel_20824\\989091762.py:22: SettingWithCopyWarning: \n",
      "A value is trying to be set on a copy of a slice from a DataFrame\n",
      "\n",
      "See the caveats in the documentation: https://pandas.pydata.org/pandas-docs/stable/user_guide/indexing.html#returning-a-view-versus-a-copy\n",
      "  cleaned_combinecrime_df['offense_type'][cleaned_combinecrime_df['OFFENSE_DESCRIPTION'].str.lower().str.contains('robbery|assault|rape')] = 'violent crime'\n",
      "C:\\Users\\27737\\AppData\\Local\\Temp\\ipykernel_20824\\989091762.py:22: SettingWithCopyWarning: \n",
      "A value is trying to be set on a copy of a slice from a DataFrame\n",
      "\n",
      "See the caveats in the documentation: https://pandas.pydata.org/pandas-docs/stable/user_guide/indexing.html#returning-a-view-versus-a-copy\n",
      "  cleaned_combinecrime_df['offense_type'][cleaned_combinecrime_df['OFFENSE_DESCRIPTION'].str.lower().str.contains('robbery|assault|rape')] = 'violent crime'\n",
      "C:\\Users\\27737\\AppData\\Local\\Temp\\ipykernel_20824\\989091762.py:23: SettingWithCopyWarning: \n",
      "A value is trying to be set on a copy of a slice from a DataFrame\n",
      "\n",
      "See the caveats in the documentation: https://pandas.pydata.org/pandas-docs/stable/user_guide/indexing.html#returning-a-view-versus-a-copy\n",
      "  cleaned_combinecrime_df['offense_type'][cleaned_combinecrime_df['OFFENSE_DESCRIPTION'].str.lower().str.contains('burglary|larceny|theft|auto theft|arson')] = 'property crime'\n",
      "C:\\Users\\27737\\AppData\\Local\\Temp\\ipykernel_20824\\989091762.py:23: SettingWithCopyWarning: \n",
      "A value is trying to be set on a copy of a slice from a DataFrame\n",
      "\n",
      "See the caveats in the documentation: https://pandas.pydata.org/pandas-docs/stable/user_guide/indexing.html#returning-a-view-versus-a-copy\n",
      "  cleaned_combinecrime_df['offense_type'][cleaned_combinecrime_df['OFFENSE_DESCRIPTION'].str.lower().str.contains('burglary|larceny|theft|auto theft|arson')] = 'property crime'\n"
     ]
    },
    {
     "data": {
      "text/html": [
       "<div>\n",
       "<style scoped>\n",
       "    .dataframe tbody tr th:only-of-type {\n",
       "        vertical-align: middle;\n",
       "    }\n",
       "\n",
       "    .dataframe tbody tr th {\n",
       "        vertical-align: top;\n",
       "    }\n",
       "\n",
       "    .dataframe thead th {\n",
       "        text-align: right;\n",
       "    }\n",
       "</style>\n",
       "<table border=\"1\" class=\"dataframe\">\n",
       "  <thead>\n",
       "    <tr style=\"text-align: right;\">\n",
       "      <th></th>\n",
       "      <th>offense_type</th>\n",
       "      <th>YEAR</th>\n",
       "      <th>INCIDENT_NUMBER</th>\n",
       "    </tr>\n",
       "  </thead>\n",
       "  <tbody>\n",
       "    <tr>\n",
       "      <th>0</th>\n",
       "      <td>property crime</td>\n",
       "      <td>2019</td>\n",
       "      <td>13158</td>\n",
       "    </tr>\n",
       "    <tr>\n",
       "      <th>1</th>\n",
       "      <td>property crime</td>\n",
       "      <td>2020</td>\n",
       "      <td>12227</td>\n",
       "    </tr>\n",
       "    <tr>\n",
       "      <th>2</th>\n",
       "      <td>violent crime</td>\n",
       "      <td>2019</td>\n",
       "      <td>8324</td>\n",
       "    </tr>\n",
       "    <tr>\n",
       "      <th>3</th>\n",
       "      <td>violent crime</td>\n",
       "      <td>2020</td>\n",
       "      <td>5152</td>\n",
       "    </tr>\n",
       "  </tbody>\n",
       "</table>\n",
       "</div>"
      ],
      "text/plain": [
       "     offense_type  YEAR  INCIDENT_NUMBER\n",
       "0  property crime  2019            13158\n",
       "1  property crime  2020            12227\n",
       "2   violent crime  2019             8324\n",
       "3   violent crime  2020             5152"
      ]
     },
     "execution_count": 2,
     "metadata": {},
     "output_type": "execute_result"
    }
   ],
   "source": [
    "#Task 7.1 \n",
    "#Combine year 2019 and year 2020’s crime records into one pandas dataframe.\n",
    "#import the required module\n",
    "import pandas as pd\n",
    "import glob\n",
    "import os\n",
    "#locate the two records\n",
    "file1 = \"C:/Users/27737/BOS Crime_2019.csv\"\n",
    "file2 = \"C:/Users/27737/BOS Crime_2020.csv\"\n",
    "combinecrime_df = pd.concat(\n",
    "   map(pd.read_csv, [file1, file2]), ignore_index=True)\n",
    "print(combinecrime_df)\n",
    "#Drop duplicates as well as any record that has missing values in the following columns: \n",
    "#“INCIDENT_NUMBER”, “OFFENSE_CODE”, “DISTRICT”, “Long”, “Lat”, “SHOOTING”, “OCCURRED_ON_DATE”. \n",
    "print('before:', combinecrime_df.shape)\n",
    "cleaned_combinecrime_df = combinecrime_df.dropna(subset=['INCIDENT_NUMBER', 'OFFENSE_CODE','DISTRICT','Long','Lat','SHOOTING','OCCURRED_ON_DATE'])\n",
    "print('after:', cleaned_combinecrime_df.shape)\n",
    "#Save the “cleaned” pandas dataframe to a separate csv file\n",
    "cleaned_combinecrime_df.to_csv(r\"C:/Users/27737/ccombined_BOSCrime_dataof19-20.csv\", encoding='utf-8', index=False)\n",
    "#Use the \"OFFENSE_DESCRIPTION\" column to identify violent vs. property crime incidents\n",
    "cleaned_combinecrime_df['offense_type'] = None\n",
    "cleaned_combinecrime_df['offense_type'][cleaned_combinecrime_df['OFFENSE_DESCRIPTION'].str.lower().str.contains('robbery|assault|rape')] = 'violent crime'\n",
    "cleaned_combinecrime_df['offense_type'][cleaned_combinecrime_df['OFFENSE_DESCRIPTION'].str.lower().str.contains('burglary|larceny|theft|auto theft|arson')] = 'property crime'\n",
    "#Count the total number of violent vs. property crime incidents in Boston in year 2019 and year 2020 respectively and print the results.\n",
    "describe_by_offense = cleaned_combinecrime_df.groupby(['offense_type', 'YEAR']).agg({'INCIDENT_NUMBER': 'count'}).reset_index()\n",
    "describe_by_offense"
   ]
  },
  {
   "cell_type": "markdown",
   "id": "c3a4413a",
   "metadata": {
    "pycharm": {
     "name": "#%% md\n"
    }
   },
   "source": [
    "Compared with data in 2019, both the number of property crime and violent crime declines. However, the proportion of declines differs, violent crime's reduction scale is larger than property crime."
   ]
  },
  {
   "cell_type": "code",
   "execution_count": 3,
   "id": "f58bbb29",
   "metadata": {
    "pycharm": {
     "name": "#%%\n"
    }
   },
   "outputs": [
    {
     "name": "stdout",
     "output_type": "stream",
     "text": [
      "   DISTRICT offense_type_x  YEAR_x  violent_crimes  offense_type_y  YEAR_y  \\\n",
      "0        A1  violent crime    2019            1216  property crime    2019   \n",
      "1       A15  violent crime    2019             153  property crime    2019   \n",
      "2        A7  violent crime    2019             333  property crime    2019   \n",
      "3        B2  violent crime    2019            1286  property crime    2019   \n",
      "4        B3  violent crime    2019            1081  property crime    2019   \n",
      "5       C11  violent crime    2019            1026  property crime    2019   \n",
      "6        C6  violent crime    2019             621  property crime    2019   \n",
      "7       D14  violent crime    2019             420  property crime    2019   \n",
      "8        D4  violent crime    2019            1146  property crime    2019   \n",
      "9       E13  violent crime    2019             432  property crime    2019   \n",
      "10      E18  violent crime    2019             352  property crime    2019   \n",
      "11       E5  violent crime    2019             254  property crime    2019   \n",
      "0        A1  violent crime    2020             732  property crime    2020   \n",
      "1       A15  violent crime    2020              87  property crime    2020   \n",
      "2        A7  violent crime    2020             247  property crime    2020   \n",
      "3        B2  violent crime    2020             825  property crime    2020   \n",
      "4        B3  violent crime    2020             595  property crime    2020   \n",
      "5       C11  violent crime    2020             629  property crime    2020   \n",
      "6        C6  violent crime    2020             406  property crime    2020   \n",
      "7       D14  violent crime    2020             244  property crime    2020   \n",
      "8        D4  violent crime    2020             755  property crime    2020   \n",
      "9       E13  violent crime    2020             278  property crime    2020   \n",
      "10      E18  violent crime    2020             191  property crime    2020   \n",
      "11       E5  violent crime    2020             160  property crime    2020   \n",
      "\n",
      "    property_crimes  \n",
      "0              1919  \n",
      "1               271  \n",
      "2               418  \n",
      "3              1418  \n",
      "4              1076  \n",
      "5              1672  \n",
      "6               963  \n",
      "7               885  \n",
      "8              2806  \n",
      "9               691  \n",
      "10              600  \n",
      "11              436  \n",
      "0              1501  \n",
      "1               337  \n",
      "2               512  \n",
      "3              1415  \n",
      "4               887  \n",
      "5              1423  \n",
      "6              1132  \n",
      "7               960  \n",
      "8              2536  \n",
      "9               569  \n",
      "10              476  \n",
      "11              459  \n"
     ]
    },
    {
     "data": {
      "text/plain": [
       "<AxesSubplot:xlabel='property_crimes', ylabel='violent_crimes'>"
      ]
     },
     "execution_count": 3,
     "metadata": {},
     "output_type": "execute_result"
    },
    {
     "data": {
      "image/png": "[encoded data removed]",
      "text/plain": [
       "<Figure size 432x288 with 1 Axes>"
      ]
     },
     "metadata": {
      "needs_background": "light"
     },
     "output_type": "display_data"
    }
   ],
   "source": [
    "#Task 7.2 \n",
    "#import required module\n",
    "import seaborn as sns\n",
    "import plotly.express as px\n",
    "#Create a scatterplot of annual violent crimes vs. annual property crimes by district in Boston from 2019 to 2020.\n",
    "#X axis: annual property crimes. Y axis: annual violent crimes. Use different colors to color data from different years.\n",
    "#Select required data\n",
    "cleaned_combinecrime_df = cleaned_combinecrime_df[cleaned_combinecrime_df.DISTRICT != 'External']\n",
    "describe_by_district = cleaned_combinecrime_df.groupby(['DISTRICT','offense_type','YEAR']).agg({'INCIDENT_NUMBER': 'count'}).reset_index()\n",
    "describe_by_district\n",
    "#create new dataframe\n",
    "annual_violent_crimes = describe_by_district[describe_by_district['offense_type'] == 'violent crime']\n",
    "annual_property_crimes = describe_by_district[describe_by_district['offense_type'] == 'property crime']\n",
    "#distinct by years and reorganize the data\n",
    "violentcrime19_df= annual_violent_crimes[annual_violent_crimes['YEAR']==2019]\n",
    "violentcrime20_df= annual_violent_crimes[annual_violent_crimes['YEAR']==2020]\n",
    "propertycrime19_df= annual_property_crimes[annual_property_crimes['YEAR']==2019]\n",
    "propertycrime20_df= annual_property_crimes[annual_property_crimes['YEAR']==2020]\n",
    "\n",
    "violentcrime19_df= violentcrime19_df.rename(columns={'INCIDENT_NUMBER':'violent_crimes'})\n",
    "violentcrime20_df= violentcrime20_df.rename(columns={'INCIDENT_NUMBER':'violent_crimes'})\n",
    "propertycrime19_df= propertycrime19_df.rename(columns={'INCIDENT_NUMBER':'property_crimes'})\n",
    "propertycrime20_df= propertycrime20_df.rename(columns={'INCIDENT_NUMBER':'property_crimes'})\n",
    "\n",
    "total19_df=violentcrime19_df.merge(propertycrime19_df, how='left', left_on='DISTRICT', right_on='DISTRICT')\n",
    "total20_df=violentcrime20_df.merge(propertycrime20_df, how='left', left_on='DISTRICT', right_on='DISTRICT')\n",
    "\n",
    "total19_20_df=pd.concat([total19_df, total20_df])\n",
    "print(total19_20_df)\n",
    "#print the scatterplot\n",
    "sns.scatterplot(x='property_crimes', y='violent_crimes', data=total19_20_df, hue='YEAR_x')\n"
   ]
  },
  {
   "cell_type": "code",
   "execution_count": 4,
   "id": "dcb16d8b",
   "metadata": {
    "pycharm": {
     "name": "#%%\n"
    }
   },
   "outputs": [
    {
     "data": {
      "text/plain": [
       "<AxesSubplot:xlabel='DISTRICT', ylabel='aunnual_sum'>"
      ]
     },
     "execution_count": 4,
     "metadata": {},
     "output_type": "execute_result"
    },
    {
     "data": {
      "image/png": "[encoded data removed]",
      "text/plain": [
       "<Figure size 432x288 with 1 Axes>"
      ]
     },
     "metadata": {
      "needs_background": "light"
     },
     "output_type": "display_data"
    }
   ],
   "source": [
    "#Task 7.3 \n",
    "#Create a bar plot of the sum of annual violent and property crimes by district in Boston from 2019 to 2020. \n",
    "#X axis: districts. Y axis: annual sums. Use different bars to represent data from different years. \n",
    "#combine the data\n",
    "total19_20_df['aunnual_sum'] = total19_20_df['property_crimes'] + total19_20_df['violent_crimes']\n",
    "#print the barplot\n",
    "sns.barplot(x='DISTRICT', y='aunnual_sum', data=total19_20_df, hue='YEAR_x')\n"
   ]
  },
  {
   "cell_type": "code",
   "execution_count": 135,
   "id": "4498c54d",
   "metadata": {
    "pycharm": {
     "name": "#%%\n"
    }
   },
   "outputs": [
    {
     "name": "stderr",
     "output_type": "stream",
     "text": [
      "C:\\Users\\27737\\AppData\\Local\\Temp\\ipykernel_19044\\4238458841.py:13: SettingWithCopyWarning:\n",
      "\n",
      "\n",
      "A value is trying to be set on a copy of a slice from a DataFrame.\n",
      "Try using .loc[row_indexer,col_indexer] = value instead\n",
      "\n",
      "See the caveats in the documentation: https://pandas.pydata.org/pandas-docs/stable/user_guide/indexing.html#returning-a-view-versus-a-copy\n",
      "\n"
     ]
    },
    {
     "data": {
      "text/plain": [
       "<AxesSubplot:xlabel='QUARTER', ylabel='INCIDENT_NUMBER'>"
      ]
     },
     "execution_count": 135,
     "metadata": {},
     "output_type": "execute_result"
    },
    {
     "data": {
      "image/png": "[encoded data removed]",
      "text/plain": [
       "<Figure size 432x288 with 1 Axes>"
      ]
     },
     "metadata": {
      "needs_background": "light"
     },
     "output_type": "display_data"
    }
   ],
   "source": [
    "#Task 7.4 \n",
    "#Create a violin plot of district-level shooting incidents by quarter in Boston from 2019 to 2020. \n",
    "#X axis: quarters. Y axis: district-level shooting incidents (counts).\n",
    "def categorise(row):  \n",
    "    if row['MONTH'] > 0 and row['MONTH'] <= 3:\n",
    "        return 'Q1'\n",
    "    elif row['MONTH'] > 3 and row['MONTH'] <= 6:\n",
    "        return 'Q2'\n",
    "    elif row['MONTH'] > 6 and row['MONTH'] <= 9:\n",
    "        return 'Q3'\n",
    "    elif row['MONTH'] > 9 and row['MONTH'] <= 12:\n",
    "        return 'Q4'\n",
    "cleaned_combinecrime_df['QUARTER'] = cleaned_combinecrime_df.apply(lambda row: categorise(row), axis=1)\n",
    "shoot_incidents = cleaned_combinecrime_df.loc[cleaned_combinecrime_df['SHOOTING'] == 1]\n",
    "shooting_by_quarters = shoot_incidents.groupby(['DISTRICT','QUARTER','YEAR']).agg({'INCIDENT_NUMBER': 'count'}).reset_index()\n",
    "shooting_by_quarters\n",
    "sns.violinplot(y='INCIDENT_NUMBER', x='QUARTER', data=shooting_by_quarters,hue = 'YEAR')"
   ]
  },
  {
   "cell_type": "code",
   "execution_count": null,
   "id": "a26c68d6",
   "metadata": {
    "pycharm": {
     "name": "#%%\n"
    }
   },
   "outputs": [],
   "source": []
  }
 ],
 "metadata": {
  "kernelspec": {
   "display_name": "Python 3 (ipykernel)",
   "language": "python",
   "name": "python3"
  },
  "language_info": {
   "codemirror_mode": {
    "name": "ipython",
    "version": 3
   },
   "file_extension": ".py",
   "mimetype": "text/x-python",
   "name": "python",
   "nbconvert_exporter": "python",
   "pygments_lexer": "ipython3",
   "version": "3.9.12"
  }
 },
 "nbformat": 4,
 "nbformat_minor": 5
}