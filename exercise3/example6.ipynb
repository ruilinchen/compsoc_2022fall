{
 "cells": [
  {
   "cell_type": "markdown",
   "metadata": {
    "pycharm": {
     "name": "#%% md\n"
    }
   },
   "source": [
    "# Task 3.1"
   ]
  },
  {
   "cell_type": "code",
   "execution_count": 43,
   "metadata": {
    "pycharm": {
     "name": "#%%\n"
    }
   },
   "outputs": [
    {
     "name": "stdout",
     "output_type": "stream",
     "text": [
      "please input elements in the list seperated by a space: 1 2 3 5 6.6 0 a r F\n"
     ]
    }
   ],
   "source": [
    "list_input = input('please input elements in the list seperated by a space: ').split()"
   ]
  },
  {
   "cell_type": "code",
   "execution_count": 44,
   "metadata": {
    "pycharm": {
     "name": "#%%\n"
    }
   },
   "outputs": [],
   "source": [
    "def findrange(nums):\n",
    "    if len(nums) == 0:\n",
    "        print('you input nothing')\n",
    "        return\n",
    "    \n",
    "    numbers_list = []\n",
    "    while nums:\n",
    "        num = nums.pop()\n",
    "        try:\n",
    "            numbers_list.append(float(num))\n",
    "        except:\n",
    "            pass  \n",
    "\n",
    "    if len(numbers_list):\n",
    "        print('the largest element of the list is {}'.format(max(numbers_list)))\n",
    "        print('the smallest element of the list is {}'.format(min(numbers_list)))\n",
    "        print('largest element minus the smallest element is {}'.format(max(numbers_list)-min(numbers_list)))\n",
    "    else:\n",
    "        print('please input numbers')"
   ]
  },
  {
   "cell_type": "code",
   "execution_count": 45,
   "metadata": {
    "pycharm": {
     "name": "#%%\n"
    }
   },
   "outputs": [
    {
     "name": "stdout",
     "output_type": "stream",
     "text": [
      "the largest element of the list is 6.6\n",
      "the smallest element of the list is 0.0\n",
      "largest element minus the smallest element is 6.6\n"
     ]
    }
   ],
   "source": [
    "findrange(list_input)"
   ]
  },
  {
   "cell_type": "markdown",
   "metadata": {
    "pycharm": {
     "name": "#%% md\n"
    }
   },
   "source": [
    "# Task 3.2"
   ]
  },
  {
   "cell_type": "code",
   "execution_count": 46,
   "metadata": {
    "scrolled": true,
    "pycharm": {
     "name": "#%%\n"
    }
   },
   "outputs": [],
   "source": [
    "from itertools import chain"
   ]
  },
  {
   "cell_type": "code",
   "execution_count": 47,
   "metadata": {
    "pycharm": {
     "name": "#%%\n"
    }
   },
   "outputs": [
    {
     "name": "stdout",
     "output_type": "stream",
     "text": [
      "please input elements in the list seperated by a space: 1 2 3\n"
     ]
    }
   ],
   "source": [
    "list_input1 = input('please input elements in the list seperated by a space: ').split()"
   ]
  },
  {
   "cell_type": "code",
   "execution_count": 48,
   "metadata": {
    "pycharm": {
     "name": "#%%\n"
    }
   },
   "outputs": [
    {
     "name": "stdout",
     "output_type": "stream",
     "text": [
      "please input elements in the list seperated by a space: a b c\n"
     ]
    }
   ],
   "source": [
    "list_input2 = input('please input elements in the list seperated by a space: ').split()"
   ]
  },
  {
   "cell_type": "code",
   "execution_count": 49,
   "metadata": {
    "pycharm": {
     "name": "#%%\n"
    }
   },
   "outputs": [],
   "source": [
    "def mergelist(list1,list2):\n",
    "    print('[' + ', '.join(list(chain(*zip(list1,list2)))) + ']')"
   ]
  },
  {
   "cell_type": "code",
   "execution_count": 50,
   "metadata": {
    "scrolled": false,
    "pycharm": {
     "name": "#%%\n"
    }
   },
   "outputs": [
    {
     "name": "stdout",
     "output_type": "stream",
     "text": [
      "[1, a, 2, b, 3, c]\n"
     ]
    }
   ],
   "source": [
    "mergelist(list_input1,list_input2)"
   ]
  },
  {
   "cell_type": "markdown",
   "metadata": {
    "pycharm": {
     "name": "#%% md\n"
    }
   },
   "source": [
    "# Task 3.3"
   ]
  },
  {
   "cell_type": "code",
   "execution_count": 51,
   "metadata": {
    "pycharm": {
     "name": "#%%\n"
    }
   },
   "outputs": [],
   "source": [
    "from collections import Counter\n",
    "from itertools import chain"
   ]
  },
  {
   "cell_type": "code",
   "execution_count": 58,
   "metadata": {
    "scrolled": true,
    "pycharm": {
     "name": "#%%\n"
    }
   },
   "outputs": [
    {
     "name": "stdout",
     "output_type": "stream",
     "text": [
      "please input elements in the list seperated by a space: 1 2 3 4 a s d F F \n"
     ]
    }
   ],
   "source": [
    "list_input = input('please input elements in the list seperated by a space: ').split()"
   ]
  },
  {
   "cell_type": "code",
   "execution_count": 59,
   "metadata": {
    "pycharm": {
     "name": "#%%\n"
    }
   },
   "outputs": [],
   "source": [
    "def freq(nums):\n",
    "    result = dict(Counter(chain.from_iterable(map(set, nums))))\n",
    "    print(\"The frequency of elements in list is : \" , str(result))\n",
    "    return"
   ]
  },
  {
   "cell_type": "code",
   "execution_count": 60,
   "metadata": {
    "pycharm": {
     "name": "#%%\n"
    }
   },
   "outputs": [
    {
     "name": "stdout",
     "output_type": "stream",
     "text": [
      "The frequency of elements in list is :  {'1': 1, '2': 1, '3': 1, '4': 1, 'a': 1, 's': 1, 'd': 1, 'F': 2}\n"
     ]
    }
   ],
   "source": [
    "freq(list_input)"
   ]
  },
  {
   "cell_type": "markdown",
   "metadata": {
    "pycharm": {
     "name": "#%% md\n"
    }
   },
   "source": [
    "# Task 3.4"
   ]
  },
  {
   "cell_type": "code",
   "execution_count": 61,
   "metadata": {
    "pycharm": {
     "name": "#%%\n"
    }
   },
   "outputs": [],
   "source": [
    "def inte(list1,list2):\n",
    "    list3 = [_ for _ in list1 if _ in list2]\n",
    "    print('[' + ', '.join(list3) + ']')"
   ]
  },
  {
   "cell_type": "code",
   "execution_count": 62,
   "metadata": {
    "pycharm": {
     "name": "#%%\n"
    }
   },
   "outputs": [
    {
     "name": "stdout",
     "output_type": "stream",
     "text": [
      "please input elements in the list seperated by a space: 1 2 3 s d f\n"
     ]
    }
   ],
   "source": [
    "list_input1 = input('please input elements in the list seperated by a space: ').split()"
   ]
  },
  {
   "cell_type": "code",
   "execution_count": 63,
   "metadata": {
    "pycharm": {
     "name": "#%%\n"
    }
   },
   "outputs": [
    {
     "name": "stdout",
     "output_type": "stream",
     "text": [
      "please input elements in the list seperated by a space: 1 2 d v g \n"
     ]
    }
   ],
   "source": [
    "list_input2 = input('please input elements in the list seperated by a space: ').split()"
   ]
  },
  {
   "cell_type": "code",
   "execution_count": 64,
   "metadata": {
    "pycharm": {
     "name": "#%%\n"
    }
   },
   "outputs": [
    {
     "name": "stdout",
     "output_type": "stream",
     "text": [
      "[1, 2, d]\n"
     ]
    }
   ],
   "source": [
    "inte(list_input1,list_input2)"
   ]
  }
 ],
 "metadata": {
  "kernelspec": {
   "display_name": "Python 3",
   "language": "python",
   "name": "python3"
  },
  "language_info": {
   "codemirror_mode": {
    "name": "ipython",
    "version": 3
   },
   "file_extension": ".py",
   "mimetype": "text/x-python",
   "name": "python",
   "nbconvert_exporter": "python",
   "pygments_lexer": "ipython3",
   "version": "3.7.4"
  }
 },
 "nbformat": 4,
 "nbformat_minor": 2
}