{
 "cells": [
  {
   "cell_type": "markdown",
   "id": "fc8c1f86-7fd7-4ba2-9018-0474de94ff2a",
   "metadata": {
    "pycharm": {
     "name": "#%% md\n"
    }
   },
   "source": [
    "# Coding Exercise 5"
   ]
  },
  {
   "cell_type": "markdown",
   "id": "20dbb958-e8a1-40df-9c99-44131104e5bf",
   "metadata": {
    "tags": [],
    "pycharm": {
     "name": "#%% md\n"
    }
   },
   "source": [
    "## Task 5.1\n",
    "\n",
    "Task 5.1 Download “MA_cbg_human_mobility_2019.zip” from Canvas under “Files/datasets”. Write a program that loops through all the files in this zip file and prints the name of all the “csv” files. Use `zipfile` package. \n",
    "\n"
   ]
  },
  {
   "cell_type": "code",
   "execution_count": 4,
   "id": "deef1023-0edf-4ebc-a155-8731ac8b0cc3",
   "metadata": {
    "pycharm": {
     "name": "#%%\n"
    }
   },
   "outputs": [
    {
     "data": {
      "text/plain": [
       "'/Users/gohtk/Dropbox/work/compsoc/code'"
      ]
     },
     "execution_count": 4,
     "metadata": {},
     "output_type": "execute_result"
    }
   ],
   "source": [
    "import os\n",
    "os.getcwd()"
   ]
  },
  {
   "cell_type": "code",
   "execution_count": 4,
   "id": "093ee23e-9452-4422-9eed-b85ed4b2777a",
   "metadata": {
    "tags": [],
    "pycharm": {
     "name": "#%%\n"
    }
   },
   "outputs": [
    {
     "name": "stdout",
     "output_type": "stream",
     "text": [
      "MA_cbg2cbg_2019_09.csv\n",
      "MA_cbg2cbg_2019_08.csv\n",
      "MA_cbg2cbg_2019_03.csv\n",
      "MA_cbg2cbg_2019_02.csv\n",
      "MA_cbg2cbg_2019_01.csv\n",
      "MA_cbg2cbg_2019_05.csv\n",
      "MA_cbg2cbg_2019_11.csv\n",
      "MA_cbg2cbg_2019_10.csv\n",
      "MA_cbg2cbg_2019_04.csv\n",
      "MA_cbg2cbg_2019_12.csv\n",
      "MA_cbg2cbg_2019_06.csv\n",
      "MA_cbg2cbg_2019_07.csv\n"
     ]
    }
   ],
   "source": [
    "import zipfile\n",
    "with zipfile.ZipFile('/Users/gohtk/Dropbox/work/compsoc/dataset/MA_cbg_human_mobility_2019.zip', 'r') as f:\n",
    "    for item in f.namelist():\n",
    "        if \".csv\" in item:\n",
    "            if \"._\" not in item:\n",
    "                print(item.split('/')[-1])"
   ]
  },
  {
   "cell_type": "markdown",
   "id": "7f68d4ba-c0bd-4900-bbaa-390b8a0674cf",
   "metadata": {
    "pycharm": {
     "name": "#%% md\n"
    }
   },
   "source": [
    "## Task 5.2\n",
    "Unzip the above zipped file in your laptop’s File System and you will get a folder named “MA_cbg_human_mobility_2019”. Write a program that loops through all the files stored in this folder and counts the number of lines contained in each of the “csv” files. Print a sum of the line counts. Use with statement when reading files. "
   ]
  },
  {
   "cell_type": "code",
   "execution_count": 13,
   "id": "72863647-3bf1-4f4e-aec9-7414f21139bd",
   "metadata": {
    "pycharm": {
     "name": "#%%\n"
    }
   },
   "outputs": [
    {
     "data": {
      "text/plain": [
       "'/Users/gohtk/Dropbox/work/compsoc/dataset/MA_cbg_human_mobility_2019'"
      ]
     },
     "execution_count": 13,
     "metadata": {},
     "output_type": "execute_result"
    }
   ],
   "source": [
    "import os\n",
    "os.getcwd()\n",
    "os.chdir('/Users/gohtk/Dropbox/work/compsoc/dataset/MA_cbg_human_mobility_2019')\n",
    "os.getcwd()"
   ]
  },
  {
   "cell_type": "code",
   "execution_count": 15,
   "id": "4fcd7215-d563-47dd-988f-68d0d05f7ec4",
   "metadata": {
    "pycharm": {
     "name": "#%%\n"
    }
   },
   "outputs": [
    {
     "name": "stdout",
     "output_type": "stream",
     "text": [
      "MA_cbg2cbg_2019_01.csv  MA_cbg2cbg_2019_06.csv  MA_cbg2cbg_2019_11.csv\n",
      "MA_cbg2cbg_2019_02.csv  MA_cbg2cbg_2019_07.csv  MA_cbg2cbg_2019_12.csv\n",
      "MA_cbg2cbg_2019_03.csv  MA_cbg2cbg_2019_08.csv  README.txt\n",
      "MA_cbg2cbg_2019_04.csv  MA_cbg2cbg_2019_09.csv\n",
      "MA_cbg2cbg_2019_05.csv  MA_cbg2cbg_2019_10.csv\n"
     ]
    }
   ],
   "source": [
    "ls"
   ]
  },
  {
   "cell_type": "code",
   "execution_count": 61,
   "id": "03c0737c-b42b-4d0d-b5f9-cddb3288f0db",
   "metadata": {
    "pycharm": {
     "name": "#%%\n"
    }
   },
   "outputs": [
    {
     "name": "stdout",
     "output_type": "stream",
     "text": [
      "Reading MA_cbg2cbg_2019_01.csv now\n",
      "\tn= 840594\n",
      "Reading MA_cbg2cbg_2019_02.csv now\n",
      "\tn= 818862\n",
      "Reading MA_cbg2cbg_2019_03.csv now\n",
      "\tn= 914654\n",
      "Reading MA_cbg2cbg_2019_04.csv now\n",
      "\tn= 1011375\n",
      "Reading MA_cbg2cbg_2019_05.csv now\n",
      "\tn= 1088295\n",
      "Reading MA_cbg2cbg_2019_06.csv now\n",
      "\tn= 1120697\n",
      "Reading MA_cbg2cbg_2019_07.csv now\n",
      "\tn= 1119933\n",
      "Reading MA_cbg2cbg_2019_08.csv now\n",
      "\tn= 1194285\n",
      "Reading MA_cbg2cbg_2019_09.csv now\n",
      "\tn= 1136954\n",
      "Reading MA_cbg2cbg_2019_10.csv now\n",
      "\tn= 1010778\n",
      "Reading MA_cbg2cbg_2019_11.csv now\n",
      "\tn= 901469\n",
      "Reading MA_cbg2cbg_2019_12.csv now\n",
      "\tn= 950662\n",
      "Total sum of lines= 12108558\n"
     ]
    }
   ],
   "source": [
    "file = \"MA_cbg2cbg_2019_{}.csv\"\n",
    "nline=[]\n",
    "for num in range(1, 13):\n",
    "    num0 = f'{num:>02}'\n",
    "    i=0\n",
    "    print(\"Reading\", file.format(num0), \"now\")\n",
    "    with open(file.format(num0), 'r') as f:\n",
    "        for line in f:\n",
    "            i+=1\n",
    "            line_n=i\n",
    "        nline.append(line_n) \n",
    "        print(\"\\tn=\", line_n)\n",
    "print(\"Total sum of lines=\", sum(nline))"
   ]
  },
  {
   "cell_type": "markdown",
   "id": "20e6b56a-6d7e-41ea-9242-f410e8291ee9",
   "metadata": {
    "pycharm": {
     "name": "#%% md\n"
    }
   },
   "source": [
    "## Task 5.3 \n",
    "Use the same program from Task 5.2 that counts lines of all the csv files in “MA_cbg_human_mobility_2019”. Store the output in a dictionary with keys being filenames and values being the corresponding line counts. Write the output to a json file. "
   ]
  },
  {
   "cell_type": "code",
   "execution_count": 76,
   "id": "fb6850fa-4508-4ffd-8628-98d3f0fcdb43",
   "metadata": {
    "pycharm": {
     "name": "#%%\n"
    }
   },
   "outputs": [
    {
     "data": {
      "text/plain": [
       "{'MA_cbg2cbg_2019_01.csv': 840594,\n",
       " 'MA_cbg2cbg_2019_02.csv': 818862,\n",
       " 'MA_cbg2cbg_2019_03.csv': 914654,\n",
       " 'MA_cbg2cbg_2019_04.csv': 1011375,\n",
       " 'MA_cbg2cbg_2019_05.csv': 1088295,\n",
       " 'MA_cbg2cbg_2019_06.csv': 1120697,\n",
       " 'MA_cbg2cbg_2019_07.csv': 1119933,\n",
       " 'MA_cbg2cbg_2019_08.csv': 1194285,\n",
       " 'MA_cbg2cbg_2019_09.csv': 1136954,\n",
       " 'MA_cbg2cbg_2019_10.csv': 1010778,\n",
       " 'MA_cbg2cbg_2019_11.csv': 901469,\n",
       " 'MA_cbg2cbg_2019_12.csv': 950662}"
      ]
     },
     "execution_count": 76,
     "metadata": {},
     "output_type": "execute_result"
    }
   ],
   "source": [
    "import json\n",
    "data={}\n",
    "file = \"MA_cbg2cbg_2019_{}.csv\"\n",
    "for num in range(1, 13):\n",
    "    filename=file.format(f'{num:>02}')    \n",
    "    i=0\n",
    "    with open(filename, 'r') as f:\n",
    "        for line in f:\n",
    "            i+=1\n",
    "            line_n=i\n",
    "        data[filename]=line_n\n",
    "\n",
    "with open('MA_linecounts.json', 'w') as f:\n",
    "    MA_json = json.dump(data, f)"
   ]
  },
  {
   "cell_type": "code",
   "execution_count": 83,
   "id": "c1983cfd-53f0-4173-a42b-604982381e50",
   "metadata": {
    "pycharm": {
     "name": "#%%\n"
    }
   },
   "outputs": [
    {
     "name": "stdout",
     "output_type": "stream",
     "text": [
      "MA_cbg2cbg_2019_01.csv 840594\n",
      "MA_cbg2cbg_2019_02.csv 818862\n",
      "MA_cbg2cbg_2019_03.csv 914654\n",
      "MA_cbg2cbg_2019_04.csv 1011375\n",
      "MA_cbg2cbg_2019_05.csv 1088295\n",
      "MA_cbg2cbg_2019_06.csv 1120697\n",
      "MA_cbg2cbg_2019_07.csv 1119933\n",
      "MA_cbg2cbg_2019_08.csv 1194285\n",
      "MA_cbg2cbg_2019_09.csv 1136954\n",
      "MA_cbg2cbg_2019_10.csv 1010778\n",
      "MA_cbg2cbg_2019_11.csv 901469\n",
      "MA_cbg2cbg_2019_12.csv 950662\n"
     ]
    }
   ],
   "source": [
    "with open('MA_linecounts.json', 'r') as f:\n",
    "    example_json = json.load(f)\n",
    "    for key, value in example_json.items():\n",
    "        print(key, value)"
   ]
  },
  {
   "cell_type": "code",
   "execution_count": null,
   "id": "48c84754-f34b-4eab-868e-560d26d56e5a",
   "metadata": {
    "pycharm": {
     "name": "#%%\n"
    }
   },
   "outputs": [],
   "source": []
  },
  {
   "cell_type": "code",
   "execution_count": null,
   "id": "b34dfd90-c8d9-4328-bdcf-64c81bfa752a",
   "metadata": {
    "pycharm": {
     "name": "#%%\n"
    }
   },
   "outputs": [],
   "source": []
  }
 ],
 "metadata": {
  "kernelspec": {
   "display_name": "Python [conda env:compsoc] *",
   "language": "python",
   "name": "conda-env-compsoc-py"
  },
  "language_info": {
   "codemirror_mode": {
    "name": "ipython",
    "version": 3
   },
   "file_extension": ".py",
   "mimetype": "text/x-python",
   "name": "python",
   "nbconvert_exporter": "python",
   "pygments_lexer": "ipython3",
   "version": "3.8.13"
  }
 },
 "nbformat": 4,
 "nbformat_minor": 5
}