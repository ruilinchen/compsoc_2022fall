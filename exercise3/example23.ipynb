{
 "cells": [
  {
   "cell_type": "code",
   "execution_count": 5,
   "id": "65e70848",
   "metadata": {
    "pycharm": {
     "name": "#%%\n"
    }
   },
   "outputs": [
    {
     "name": "stdout",
     "output_type": "stream",
     "text": [
      "1 2 3 4 5\n"
     ]
    },
    {
     "data": {
      "text/plain": [
       "4"
      ]
     },
     "execution_count": 5,
     "metadata": {},
     "output_type": "execute_result"
    }
   ],
   "source": [
    "def function1():\n",
    "    nums=input()\n",
    "    numberlist = list(map(int, nums.strip().split()))\n",
    "    biggest = max(numberlist)\n",
    "    smallest = min(numberlist)\n",
    "    result = biggest - smallest\n",
    "    return result\n",
    "function1()\n",
    "\n"
   ]
  },
  {
   "cell_type": "code",
   "execution_count": 17,
   "id": "c4997b56",
   "metadata": {
    "pycharm": {
     "name": "#%%\n"
    }
   },
   "outputs": [
    {
     "name": "stdout",
     "output_type": "stream",
     "text": [
      "please enter something: a b c d e\n",
      "please enter something again: 1 2 3 4 5\n"
     ]
    },
    {
     "data": {
      "text/plain": [
       "['a', '1', 'b', '2', 'c', '3', 'd', '4', 'e', '5']"
      ]
     },
     "execution_count": 17,
     "metadata": {},
     "output_type": "execute_result"
    }
   ],
   "source": [
    "def function2():\n",
    "    L1 = input(\"please enter something: \").split()\n",
    "    L2 = input(\"please enter something again: \").split()\n",
    "    final = []\n",
    "    for item1, item2 in zip(L1, L2):\n",
    "        final.append(item1)\n",
    "        final.append(item2)\n",
    "        \n",
    "    return final\n",
    "function2()"
   ]
  },
  {
   "cell_type": "code",
   "execution_count": 20,
   "id": "3463a05b",
   "metadata": {
    "pycharm": {
     "name": "#%%\n"
    }
   },
   "outputs": [
    {
     "name": "stdout",
     "output_type": "stream",
     "text": [
      "please enter a list of items separated by spaces: 1 1 22 3 22 2 4 4 4 4\n"
     ]
    },
    {
     "data": {
      "text/plain": [
       "{'1': 2, '22': 2, '3': 1, '2': 1, '4': 4}"
      ]
     },
     "execution_count": 20,
     "metadata": {},
     "output_type": "execute_result"
    }
   ],
   "source": [
    "def function3():\n",
    "    List1 = list(input(\"please enter a list of items separated by spaces: \").split())\n",
    "    frequency = {}\n",
    "    for x in List1:\n",
    "       frequency[x] = List1.count(x)\n",
    "    \n",
    "    return frequency\n",
    "function3()\n"
   ]
  },
  {
   "cell_type": "code",
   "execution_count": 21,
   "id": "9ac6dc45",
   "metadata": {
    "pycharm": {
     "name": "#%%\n"
    }
   },
   "outputs": [
    {
     "name": "stdout",
     "output_type": "stream",
     "text": [
      "please enter a list: 1 2 3 4 5\n",
      "please enter another list: 0 1 4 4 5\n"
     ]
    },
    {
     "data": {
      "text/plain": [
       "{'0', '1', '4', '5'}"
      ]
     },
     "execution_count": 21,
     "metadata": {},
     "output_type": "execute_result"
    }
   ],
   "source": [
    "def function4():\n",
    "    L1 = input(\"please enter a list: \").split()\n",
    "    L2 = input(\"please enter another list: \").split()\n",
    "    L3 = set(L1) and set(L2)\n",
    "    return L3\n",
    "function4()"
   ]
  },
  {
   "cell_type": "code",
   "execution_count": null,
   "id": "497993e4",
   "metadata": {
    "pycharm": {
     "name": "#%%\n"
    }
   },
   "outputs": [],
   "source": []
  }
 ],
 "metadata": {
  "kernelspec": {
   "display_name": "Python 3 (ipykernel)",
   "language": "python",
   "name": "python3"
  },
  "language_info": {
   "codemirror_mode": {
    "name": "ipython",
    "version": 3
   },
   "file_extension": ".py",
   "mimetype": "text/x-python",
   "name": "python",
   "nbconvert_exporter": "python",
   "pygments_lexer": "ipython3",
   "version": "3.9.12"
  }
 },
 "nbformat": 4,
 "nbformat_minor": 5
}