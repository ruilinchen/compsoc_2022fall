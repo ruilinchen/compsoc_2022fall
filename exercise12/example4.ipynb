{
 "cells": [
  {
   "cell_type": "markdown",
   "id": "1f8ab37c",
   "metadata": {
    "pycharm": {
     "name": "#%% md\n"
    }
   },
   "source": [
    "# Coding Exercise 12"
   ]
  },
  {
   "cell_type": "code",
   "execution_count": 15,
   "id": "82ee7a8c",
   "metadata": {
    "pycharm": {
     "name": "#%%\n"
    }
   },
   "outputs": [],
   "source": [
    "import os\n",
    "import numpy as np\n",
    "import pandas as pd\n",
    "import spacy\n",
    "nlp = spacy.load('en_core_web_sm')"
   ]
  },
  {
   "cell_type": "markdown",
   "id": "6d59b574",
   "metadata": {
    "pycharm": {
     "name": "#%% md\n"
    }
   },
   "source": [
    "## Task 1\n",
    "The following code creates a single pandas dataframe of all the data scraped from May 22, 2022. The rows with missing titles and/or job descriptions are dropped. It also uses 'scacy' to tokenize the job descriptions and reports the number of unique tokens as well as the distribution of token tags."
   ]
  },
  {
   "cell_type": "code",
   "execution_count": 16,
   "id": "8f7831fe",
   "metadata": {
    "pycharm": {
     "name": "#%%\n"
    }
   },
   "outputs": [
    {
     "name": "stdout",
     "output_type": "stream",
     "text": [
      "                                                    URL  \\\n",
      "0     https://www.indeed.com/rc/clk?jk=069416ccc58dc...   \n",
      "1     https://www.indeed.com/pagead/clk?mo=r&ad=-6NY...   \n",
      "2     https://www.indeed.com/rc/clk?jk=263b35a70c9a8...   \n",
      "3     https://www.indeed.com/rc/clk?jk=e15dbd7ec34e6...   \n",
      "4     https://www.indeed.com/rc/clk?jk=d0e4f6dc1721c...   \n",
      "...                                                 ...   \n",
      "4798  https://www.indeed.com/pagead/clk?mo=r&ad=-6NY...   \n",
      "4799  https://www.indeed.com/rc/clk?jk=083fd9632b6d3...   \n",
      "4800  https://www.indeed.com/rc/clk?jk=812033258b28a...   \n",
      "4801  https://www.indeed.com/rc/clk?jk=a9c6193cec392...   \n",
      "4802  https://www.indeed.com/rc/clk?jk=6f4a281dca3ad...   \n",
      "\n",
      "                                              Job Title  \\\n",
      "0               Maintenance Controller (A&P) Technician   \n",
      "1                                       Program Manager   \n",
      "2              Senior Hydrogeologist, Boulder, Colorado   \n",
      "3                         Contract Administration Mgr I   \n",
      "4                                 Sr. Quality Assurance   \n",
      "...                                                 ...   \n",
      "4798                                         Controller   \n",
      "4799         Associate Director of Advancement Services   \n",
      "4800  Treasury Management ACH & Wire Operations Asso...   \n",
      "4801  Store Scanning Specialist (Pricing Integrity, ...   \n",
      "4802                                     Grants Manager   \n",
      "\n",
      "                                   Company  \\\n",
      "0             Total Aviation Staffing, LLC   \n",
      "1     Norton Staffing and Recruiting Group   \n",
      "2                  Formation Environmental   \n",
      "3           Dept of Family & Protectve Svc   \n",
      "4                                    Amgen   \n",
      "...                                    ...   \n",
      "4798                Airswift North America   \n",
      "4799    Saint Mary's College of California   \n",
      "4800                         Republic Bank   \n",
      "4801                    Whole Foods Market   \n",
      "4802             Cohen Veterans Bioscience   \n",
      "\n",
      "                                            Company URL  \\\n",
      "0     https://www.indeed.com/cmp/Total-Aviation-Staf...   \n",
      "1     https://www.indeed.com/cmp/Norton-Staffing-and...   \n",
      "2     https://www.indeed.com/cmp/Formation-Environme...   \n",
      "3     https://www.indeed.com/cmp/Texas-Health-and-Hu...   \n",
      "4     https://www.indeed.com/cmp/Amgen?campaignid=mo...   \n",
      "...                                                 ...   \n",
      "4798  https://www.indeed.com/cmp/Airswift-North-Amer...   \n",
      "4799  https://www.indeed.com/cmp/Saint-Mary's-Colleg...   \n",
      "4800  https://www.indeed.com/cmp/Republic-Bank?campa...   \n",
      "4801  https://www.indeed.com/cmp/Whole-Foods-Market?...   \n",
      "4802  https://www.indeed.com/cmp/Cohen-Veterans-Bios...   \n",
      "\n",
      "            Company Location  \\\n",
      "0       Washington, DC 20500   \n",
      "1                Meriden, CT   \n",
      "2          Boulder, CO 80301   \n",
      "3           Austin, TX 78751   \n",
      "4        Cambridge, MA 02139   \n",
      "...                      ...   \n",
      "4798           Anchorage, AK   \n",
      "4799        Moraga, CA 94556   \n",
      "4800  Philadelphia, PA 19102   \n",
      "4801       Atlanta, GA 30327   \n",
      "4802      New York, NY 10018   \n",
      "\n",
      "                                        Job Description  \n",
      "0     Do you want to be part of a world-class team w...  \n",
      "1     BH: 3.1\\n***Our Client is looking for a Progra...  \n",
      "2     Senior Hydrogeologist\\nFormation Environmental...  \n",
      "3     Contract Administration Mgr I - THIS POISTION ...  \n",
      "4     HOW MIGHT YOU DEFY IMAGINATION?\\nYou’ve earned...  \n",
      "...                                                 ...  \n",
      "4798  The mission is to encourage economic growth an...  \n",
      "4799  Associate Director of Advancement Services\\nSa...  \n",
      "4800  OBJECTIVE: Responsible for processing ACH tran...  \n",
      "4801  Your role as a Store Scan Specialist will incl...  \n",
      "4802  Grants Manager\\nReports to: Executive Director...  \n",
      "\n",
      "[4803 rows x 6 columns]\n"
     ]
    }
   ],
   "source": [
    "#using code from take home #1\n",
    "dfs=[]\n",
    "headers=['URL','Job Title','Company','Company URL','Company Location','Job Description']\n",
    "for filename in os.scandir('indeed_scraped_data/job_info_data'):\n",
    "    if filename.is_file() and '5222022' in filename.path:\n",
    "        if '.csv' in filename.path:\n",
    "            data=pd.read_csv(filename.path,delimiter=',')\n",
    "        elif '.json' in filename.path:\n",
    "            use=[]\n",
    "            with open(filename.path) as file:\n",
    "                data=json.load(file)\n",
    "                for i in data:\n",
    "                    for item in data[i]:\n",
    "                        if(len(item)==6):#only include those with all 6 fields\n",
    "                            use.append(item)\n",
    "                data=pd.DataFrame(use)\n",
    "        data.columns=headers #make headers match\n",
    "        dfs.append(data)\n",
    "df=pd.concat(dfs) #combine into a single dataframe\n",
    "df=df[df[\"Job Title\"].notnull()]\n",
    "df=df[df[\"Job Description\"].notnull()].reset_index(drop=True)\n",
    "print(df)"
   ]
  },
  {
   "cell_type": "code",
   "execution_count": 20,
   "id": "c2e79c10",
   "metadata": {
    "pycharm": {
     "name": "#%%\n"
    }
   },
   "outputs": [
    {
     "name": "stdout",
     "output_type": "stream",
     "text": [
      "Number of unique tokens: 39150\n",
      "The distribution of tags among them:\n",
      "PROPN    15204\n",
      "NOUN     11208\n",
      "VERB      4613\n",
      "ADJ       3267\n",
      "NUM       3206\n",
      "ADV        819\n",
      "X          198\n",
      "ADP        142\n",
      "PRON       112\n",
      "PUNCT       83\n",
      "SPACE       77\n",
      "AUX         65\n",
      "SCONJ       48\n",
      "DET         45\n",
      "INTJ        22\n",
      "CCONJ       18\n",
      "PART        14\n",
      "SYM          9\n",
      "Name: Tag, dtype: int64\n"
     ]
    }
   ],
   "source": [
    "##loop through each job and grab the job description to tokenize them\n",
    "unique=set()\n",
    "tag={}\n",
    "for i in df.index:\n",
    "    info=df.iloc[i]['Job Description']\n",
    "    for token in nlp(info):\n",
    "        unique.add(token.text)\n",
    "        tag[token.text]=token.pos_\n",
    "        \n",
    "print('Number of unique tokens:',len(unique))\n",
    "\n",
    "token_df=pd.DataFrame(columns=['Token','Tag'])\n",
    "token_df['Token']=tag.keys()\n",
    "token_df['Tag']=tag.values()\n",
    "print('The distribution of tags among them:')\n",
    "print(token_df['Tag'].value_counts())"
   ]
  },
  {
   "cell_type": "markdown",
   "id": "81ebc849",
   "metadata": {
    "pycharm": {
     "name": "#%% md\n"
    }
   },
   "source": [
    "## Task 2\n",
    "The following code constructs a token/term frequency dictionary and saves the results in a json file. It also reports the top 10 most common tokens."
   ]
  },
  {
   "cell_type": "code",
   "execution_count": 28,
   "id": "8104e05d",
   "metadata": {
    "pycharm": {
     "name": "#%%\n"
    }
   },
   "outputs": [],
   "source": [
    "freq={}\n",
    "for i in df.index:\n",
    "    info=df.iloc[i]['Job Description']\n",
    "    for token in nlp(info):\n",
    "        if str(token) in freq:\n",
    "            freq[str(token)]+=1\n",
    "        else:\n",
    "            freq[str(token)]=1"
   ]
  },
  {
   "cell_type": "code",
   "execution_count": 32,
   "id": "5fb1badb",
   "metadata": {
    "pycharm": {
     "name": "#%%\n"
    }
   },
   "outputs": [
    {
     "name": "stdout",
     "output_type": "stream",
     "text": [
      "  Token  Frequency\n",
      "0     ,     254381\n",
      "1   and     240686\n",
      "2    \\n     227694\n",
      "3     .     172173\n",
      "4    to     119440\n",
      "5   the     100408\n",
      "6    of      97891\n",
      "7    in      60798\n",
      "8  with      50655\n",
      "9     a      49613\n"
     ]
    }
   ],
   "source": [
    "import json\n",
    "with open('exercise12.json','w') as outfile:\n",
    "    json.dump(freq,outfile)\n",
    "\n",
    "df=pd.DataFrame(columns=['Token','Frequency'])\n",
    "df['Token']=freq.keys()\n",
    "df['Frequency']=freq.values()\n",
    "df=df.sort_values('Frequency',ascending=False).reset_index(drop=True)\n",
    "print(df[:10])"
   ]
  }
 ],
 "metadata": {
  "kernelspec": {
   "display_name": "Python [conda env:compsoc] *",
   "language": "python",
   "name": "conda-env-compsoc-py"
  },
  "language_info": {
   "codemirror_mode": {
    "name": "ipython",
    "version": 3
   },
   "file_extension": ".py",
   "mimetype": "text/x-python",
   "name": "python",
   "nbconvert_exporter": "python",
   "pygments_lexer": "ipython3",
   "version": "3.8.13"
  }
 },
 "nbformat": 4,
 "nbformat_minor": 5
}