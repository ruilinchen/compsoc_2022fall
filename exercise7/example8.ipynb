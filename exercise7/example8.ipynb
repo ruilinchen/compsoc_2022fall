{
 "cells": [
  {
   "cell_type": "markdown",
   "source": [
    "## Question 1 - Data setup"
   ],
   "metadata": {
    "collapsed": false,
    "pycharm": {
     "name": "#%% md\n"
    }
   }
  },
  {
   "cell_type": "code",
   "execution_count": 8,
   "metadata": {
    "collapsed": true,
    "pycharm": {
     "name": "#%%\n"
    }
   },
   "outputs": [
    {
     "name": "stdout",
     "output_type": "stream",
     "text": [
      "Index(['INCIDENT_NUMBER', 'OFFENSE_CODE', 'OFFENSE_CODE_GROUP',\n",
      "       'OFFENSE_DESCRIPTION', 'DISTRICT', 'REPORTING_AREA', 'SHOOTING',\n",
      "       'OCCURRED_ON_DATE', 'YEAR', 'MONTH', 'DAY_OF_WEEK', 'HOUR', 'UCR_PART',\n",
      "       'STREET', 'Lat', 'Long', 'Location'],\n",
      "      dtype='object')\n",
      "       INCIDENT_NUMBER  OFFENSE_CODE  OFFENSE_CODE_GROUP  \\\n",
      "0            102091671          2647                 NaN   \n",
      "1            102095489          3115                 NaN   \n",
      "2            102096818          2905                 NaN   \n",
      "5            129099936          1106                 NaN   \n",
      "6            129100024          3201                 NaN   \n",
      "...                ...           ...                 ...   \n",
      "158073       020063425          3114                 NaN   \n",
      "158074       020062356          1107                 NaN   \n",
      "158075       020046400          1501                 NaN   \n",
      "158076       020038446          1501                 NaN   \n",
      "158077       020030892           540                 NaN   \n",
      "\n",
      "                                      OFFENSE_DESCRIPTION DISTRICT  \\\n",
      "0                               THREATS TO DO BODILY HARM       B3   \n",
      "1                                      INVESTIGATE PERSON      E18   \n",
      "2                             VAL - VIOLATION OF AUTO LAW       A1   \n",
      "5                         FRAUD - CREDIT CARD / ATM FRAUD       B2   \n",
      "6                                PROPERTY - LOST/ MISSING       B2   \n",
      "...                                                   ...      ...   \n",
      "158073                               INVESTIGATE PROPERTY       A7   \n",
      "158074                              FRAUD - IMPERSONATION      E18   \n",
      "158075  WEAPON VIOLATION - CARRY/ POSSESSING/ SALE/ TR...       B2   \n",
      "158076  WEAPON VIOLATION - CARRY/ POSSESSING/ SALE/ TR...       B2   \n",
      "158077                              BURGLARY - COMMERICAL      C11   \n",
      "\n",
      "       REPORTING_AREA  SHOOTING     OCCURRED_ON_DATE  YEAR  MONTH DAY_OF_WEEK  \\\n",
      "0                 417         0  2019-11-12 12:00:00  2019     11     Tuesday   \n",
      "1                 520         0  2019-11-25 16:30:00  2019     11      Monday   \n",
      "2                             0  2019-11-30 21:00:00  2019     11    Saturday   \n",
      "5                 288         0  2019-11-29 06:00:00  2019     11      Friday   \n",
      "6                 612         0  2019-12-12 10:40:00  2019     12    Thursday   \n",
      "...               ...       ...                  ...   ...    ...         ...   \n",
      "158073             21         0  2020-09-01 00:00:00  2020      9     Tuesday   \n",
      "158074            520         0  2020-08-28 18:39:00  2020      8      Friday   \n",
      "158075            330         0  2020-07-02 01:38:00  2020      7    Thursday   \n",
      "158076            300         0  2020-06-03 01:15:00  2020      6   Wednesday   \n",
      "158077            380         0  2020-05-03 00:00:00  2020      5      Sunday   \n",
      "\n",
      "        HOUR  UCR_PART                                             STREET  \\\n",
      "0         12       NaN                                            MORA ST   \n",
      "1         16       NaN                                         POYDRAS ST   \n",
      "2         21       NaN  SUDBURY ST & CAMBRIDGE ST\\nBOSTON  MA 02108\\nU...   \n",
      "5          6       NaN                                      WASHINGTON ST   \n",
      "6         10       NaN                                       LONGWOOD AVE   \n",
      "...      ...       ...                                                ...   \n",
      "158073     0       NaN                                           PARIS ST   \n",
      "158074    18       NaN                                       RIVERSIDE SQ   \n",
      "158075     1       NaN                                        PASADENA RD   \n",
      "158076     1       NaN                                      WASHINGTON ST   \n",
      "158077     0       NaN                                      GALLIVAN BLVD   \n",
      "\n",
      "              Lat       Long                                  Location  \n",
      "0       42.282082 -71.073649   (42.28208197671972, -71.07364874515646)  \n",
      "1       42.256216 -71.124019  (42.256215920402155, -71.12401947329023)  \n",
      "2       42.360866 -71.061316   (42.360866027118476, -71.0613160019785)  \n",
      "5       42.329748 -71.084540  (42.329748204791635, -71.08454011649543)  \n",
      "6       42.337442 -71.104281   (42.33744151891779, -71.10428095571272)  \n",
      "...           ...        ...                                       ...  \n",
      "158073  42.374427 -71.035279     (42.3744269722053, -71.0352787630199)  \n",
      "158074  42.256216 -71.124019     (42.2562159204022, -71.1240194732902)  \n",
      "158075  42.305761 -71.083772     (42.3057609263196, -71.0837715727385)  \n",
      "158076  42.323808 -71.089150     (42.3238077563779, -71.0891502345332)  \n",
      "158077  42.283700 -71.047761     (42.2837003080534, -71.0477614298657)  \n",
      "\n",
      "[151620 rows x 17 columns]\n"
     ]
    },
    {
     "name": "stderr",
     "output_type": "stream",
     "text": [
      "C:\\Users\\User\\AppData\\Local\\Temp\\ipykernel_19124\\534143535.py:33: SettingWithCopyWarning: \n",
      "A value is trying to be set on a copy of a slice from a DataFrame.\n",
      "Try using .loc[row_indexer,col_indexer] = value instead\n",
      "\n",
      "See the caveats in the documentation: https://pandas.pydata.org/pandas-docs/stable/user_guide/indexing.html#returning-a-view-versus-a-copy\n",
      "  df.loc[df[colchk].str.lower().str.contains(phrase), \"OFFENSE_TYPE\"] = t\n",
      "C:\\Users\\User\\AppData\\Local\\Temp\\ipykernel_19124\\534143535.py:34: SettingWithCopyWarning: \n",
      "A value is trying to be set on a copy of a slice from a DataFrame.\n",
      "Try using .loc[row_indexer,col_indexer] = value instead\n",
      "\n",
      "See the caveats in the documentation: https://pandas.pydata.org/pandas-docs/stable/user_guide/indexing.html#returning-a-view-versus-a-copy\n",
      "  df.loc[df[\"OFFENSE_TYPE\"] ==t, t] = 1\n"
     ]
    },
    {
     "name": "stdout",
     "output_type": "stream",
     "text": [
      "       INCIDENT_NUMBER  OFFENSE_CODE  OFFENSE_CODE_GROUP  \\\n",
      "0            102091671          2647                 NaN   \n",
      "1            102095489          3115                 NaN   \n",
      "2            102096818          2905                 NaN   \n",
      "5            129099936          1106                 NaN   \n",
      "6            129100024          3201                 NaN   \n",
      "...                ...           ...                 ...   \n",
      "158073       020063425          3114                 NaN   \n",
      "158074       020062356          1107                 NaN   \n",
      "158075       020046400          1501                 NaN   \n",
      "158076       020038446          1501                 NaN   \n",
      "158077       020030892           540                 NaN   \n",
      "\n",
      "                                      OFFENSE_DESCRIPTION DISTRICT  \\\n",
      "0                               THREATS TO DO BODILY HARM       B3   \n",
      "1                                      INVESTIGATE PERSON      E18   \n",
      "2                             VAL - VIOLATION OF AUTO LAW       A1   \n",
      "5                         FRAUD - CREDIT CARD / ATM FRAUD       B2   \n",
      "6                                PROPERTY - LOST/ MISSING       B2   \n",
      "...                                                   ...      ...   \n",
      "158073                               INVESTIGATE PROPERTY       A7   \n",
      "158074                              FRAUD - IMPERSONATION      E18   \n",
      "158075  WEAPON VIOLATION - CARRY/ POSSESSING/ SALE/ TR...       B2   \n",
      "158076  WEAPON VIOLATION - CARRY/ POSSESSING/ SALE/ TR...       B2   \n",
      "158077                              BURGLARY - COMMERICAL      C11   \n",
      "\n",
      "       REPORTING_AREA  SHOOTING     OCCURRED_ON_DATE  YEAR  MONTH  ... HOUR  \\\n",
      "0                 417         0  2019-11-12 12:00:00  2019     11  ...   12   \n",
      "1                 520         0  2019-11-25 16:30:00  2019     11  ...   16   \n",
      "2                             0  2019-11-30 21:00:00  2019     11  ...   21   \n",
      "5                 288         0  2019-11-29 06:00:00  2019     11  ...    6   \n",
      "6                 612         0  2019-12-12 10:40:00  2019     12  ...   10   \n",
      "...               ...       ...                  ...   ...    ...  ...  ...   \n",
      "158073             21         0  2020-09-01 00:00:00  2020      9  ...    0   \n",
      "158074            520         0  2020-08-28 18:39:00  2020      8  ...   18   \n",
      "158075            330         0  2020-07-02 01:38:00  2020      7  ...    1   \n",
      "158076            300         0  2020-06-03 01:15:00  2020      6  ...    1   \n",
      "158077            380         0  2020-05-03 00:00:00  2020      5  ...    0   \n",
      "\n",
      "        UCR_PART                                             STREET  \\\n",
      "0            NaN                                            MORA ST   \n",
      "1            NaN                                         POYDRAS ST   \n",
      "2            NaN  SUDBURY ST & CAMBRIDGE ST\\nBOSTON  MA 02108\\nU...   \n",
      "5            NaN                                      WASHINGTON ST   \n",
      "6            NaN                                       LONGWOOD AVE   \n",
      "...          ...                                                ...   \n",
      "158073       NaN                                           PARIS ST   \n",
      "158074       NaN                                       RIVERSIDE SQ   \n",
      "158075       NaN                                        PASADENA RD   \n",
      "158076       NaN                                      WASHINGTON ST   \n",
      "158077       NaN                                      GALLIVAN BLVD   \n",
      "\n",
      "              Lat       Long                                  Location  \\\n",
      "0       42.282082 -71.073649   (42.28208197671972, -71.07364874515646)   \n",
      "1       42.256216 -71.124019  (42.256215920402155, -71.12401947329023)   \n",
      "2       42.360866 -71.061316   (42.360866027118476, -71.0613160019785)   \n",
      "5       42.329748 -71.084540  (42.329748204791635, -71.08454011649543)   \n",
      "6       42.337442 -71.104281   (42.33744151891779, -71.10428095571272)   \n",
      "...           ...        ...                                       ...   \n",
      "158073  42.374427 -71.035279     (42.3744269722053, -71.0352787630199)   \n",
      "158074  42.256216 -71.124019     (42.2562159204022, -71.1240194732902)   \n",
      "158075  42.305761 -71.083772     (42.3057609263196, -71.0837715727385)   \n",
      "158076  42.323808 -71.089150     (42.3238077563779, -71.0891502345332)   \n",
      "158077  42.283700 -71.047761     (42.2837003080534, -71.0477614298657)   \n",
      "\n",
      "       OFFENSE_TYPE violent  property  QUARTER  \n",
      "0               NaN     NaN       NaN        4  \n",
      "1               NaN     NaN       NaN        4  \n",
      "2               NaN     NaN       NaN        4  \n",
      "5               NaN     NaN       NaN        4  \n",
      "6               NaN     NaN       NaN        4  \n",
      "...             ...     ...       ...      ...  \n",
      "158073          NaN     NaN       NaN        3  \n",
      "158074          NaN     NaN       NaN        3  \n",
      "158075          NaN     NaN       NaN        3  \n",
      "158076          NaN     NaN       NaN        2  \n",
      "158077     property     NaN       1.0        2  \n",
      "\n",
      "[151620 rows x 21 columns]\n"
     ]
    },
    {
     "name": "stderr",
     "output_type": "stream",
     "text": [
      "C:\\Users\\User\\AppData\\Local\\Temp\\ipykernel_19124\\534143535.py:34: SettingWithCopyWarning: \n",
      "A value is trying to be set on a copy of a slice from a DataFrame.\n",
      "Try using .loc[row_indexer,col_indexer] = value instead\n",
      "\n",
      "See the caveats in the documentation: https://pandas.pydata.org/pandas-docs/stable/user_guide/indexing.html#returning-a-view-versus-a-copy\n",
      "  df.loc[df[\"OFFENSE_TYPE\"] ==t, t] = 1\n",
      "C:\\Users\\User\\AppData\\Local\\Temp\\ipykernel_19124\\534143535.py:44: SettingWithCopyWarning: \n",
      "A value is trying to be set on a copy of a slice from a DataFrame.\n",
      "Try using .loc[row_indexer,col_indexer] = value instead\n",
      "\n",
      "See the caveats in the documentation: https://pandas.pydata.org/pandas-docs/stable/user_guide/indexing.html#returning-a-view-versus-a-copy\n",
      "  cir_wk[\"QUARTER\"] = pd.to_datetime(cir_wk[\"OCCURRED_ON_DATE\"]).dt.quarter\n"
     ]
    }
   ],
   "source": [
    "import pandas as pd\n",
    "import numpy as np\n",
    "import os\n",
    "import seaborn as sns\n",
    "import matplotlib.pyplot as plt\n",
    "\n",
    "w_dir = \"C:\\\\Users\\\\User\\\\OneDrive\\\\School\\\\2022\\\\compSoc\\\\Assignments\\\\Assignment_7\"\n",
    "d_dir = os.path.join(w_dir, \"data\")\n",
    "f_dir = os.path.join(w_dir, \"figs\")\n",
    "\n",
    "os.chdir(d_dir)\n",
    "\n",
    "cir_19 = pd.read_csv(\"cir_19.csv\", low_memory=False)\n",
    "cir_20 = pd.read_csv(\"cir_20.csv\", low_memory=False)\n",
    "\n",
    "cir_join = pd.concat([cir_19, cir_20], ignore_index=True).drop_duplicates()\n",
    "print(cir_join.columns)\n",
    "\n",
    "# set na for values 0 where applicable\n",
    "cir_join.loc[cir_join[\"DISTRICT\"].isin([0, \"External\"]), \"DISTRICT\"] = np.nan\n",
    "cir_join.loc[cir_join[\"Long\"] == 0, \"Long\"] = np.nan\n",
    "cir_join.loc[cir_join[\"Lat\"] == 0, \"Lat\"] = np.nan\n",
    "\n",
    "# clean data\n",
    "cir_clean = cir_join.dropna(subset=[\"INCIDENT_NUMBER\", \"OFFENSE_CODE\", \"DISTRICT\", \"Long\", \"Lat\", \"OCCURRED_ON_DATE\", \"SHOOTING\"])\n",
    "print(cir_clean)\n",
    "\n",
    "\n",
    "# create a offense type collumn and two bool column for each type\n",
    "def offense_type(df, kw, colchk):\n",
    "    for t in list(kw.keys()):\n",
    "        for phrase in kw[t]:\n",
    "            df.loc[df[colchk].str.lower().str.contains(phrase), \"OFFENSE_TYPE\"] = t\n",
    "        df.loc[df[\"OFFENSE_TYPE\"] ==t, t] = 1\n",
    "    return df\n",
    "\n",
    "kw_crime = {\"violent\": [\"robbery\", \"assault\", \"rape\"],\n",
    "            \"property\": [\"burglar\", \"larceny\", \"auto theft\", \"arson\"]}\n",
    "\n",
    "\n",
    "cir_wk = offense_type(cir_clean, kw_crime, \"OFFENSE_DESCRIPTION\")\n",
    "\n",
    "# convert date to quarte and save in another column\n",
    "cir_wk[\"QUARTER\"] = pd.to_datetime(cir_wk[\"OCCURRED_ON_DATE\"]).dt.quarter\n",
    "print(cir_wk)"
   ]
  },
  {
   "cell_type": "markdown",
   "source": [
    "## Questions 2 to 4: Data plots"
   ],
   "metadata": {
    "collapsed": false,
    "pycharm": {
     "name": "#%% md\n"
    }
   }
  },
  {
   "cell_type": "code",
   "execution_count": 9,
   "outputs": [
    {
     "name": "stdout",
     "output_type": "stream",
     "text": [
      "    YEAR DISTRICT  violent  property\n",
      "0   2019       A1   1138.0    1856.0\n",
      "1   2019      A15    149.0     264.0\n",
      "2   2019       A7    324.0     413.0\n",
      "3   2019       B2   1234.0    1394.0\n",
      "4   2019       B3   1057.0    1063.0\n",
      "5   2019      C11    994.0    1654.0\n",
      "6   2019       C6    584.0     919.0\n",
      "7   2019      D14    416.0     878.0\n",
      "8   2019       D4   1091.0    2752.0\n",
      "9   2019      E13    417.0     683.0\n",
      "10  2019      E18    346.0     596.0\n",
      "11  2019       E5    248.0     429.0\n",
      "12  2020       A1    717.0    1452.0\n",
      "13  2020      A15     85.0     324.0\n",
      "14  2020       A7    245.0     509.0\n",
      "15  2020       B2    810.0    1397.0\n",
      "16  2020       B3    576.0     783.0\n",
      "17  2020      C11    613.0    1409.0\n",
      "18  2020       C6    381.0    1081.0\n",
      "19  2020      D14    241.0     954.0\n",
      "20  2020       D4    745.0    2521.0\n",
      "21  2020      E13    274.0     563.0\n",
      "22  2020      E18    190.0     472.0\n",
      "23  2020       E5    153.0     454.0\n"
     ]
    },
    {
     "data": {
      "text/plain": "<Figure size 432x288 with 1 Axes>",
      "image/png": "[encoded data removed]"
     },
     "metadata": {},
     "output_type": "display_data"
    }
   ],
   "source": [
    "#plot7.2\n",
    "tally = cir_wk.groupby([\"YEAR\", \"DISTRICT\"]).agg({\"violent\": \"sum\", \"property\": \"sum\"}).reset_index()\n",
    "print(tally)\n",
    "\n",
    "# the for loop is to label the points\n",
    "sns.scatterplot(x=\"property\", y=\"violent\", data=tally, hue=\"YEAR\")\n",
    "for i in range(len(tally)):\n",
    "    plt.text(x=tally.property[i], y=tally.violent[i], s=tally.DISTRICT[i])\n",
    "\n",
    "plt.savefig(os.path.join(f_dir,\"district_year_scatter.png\"))"
   ],
   "metadata": {
    "collapsed": false,
    "pycharm": {
     "name": "#%%\n"
    }
   }
  },
  {
   "cell_type": "code",
   "execution_count": 10,
   "outputs": [],
   "source": [
    "plt.close()"
   ],
   "metadata": {
    "collapsed": false,
    "pycharm": {
     "name": "#%%\n"
    }
   }
  },
  {
   "cell_type": "code",
   "execution_count": 11,
   "outputs": [
    {
     "name": "stdout",
     "output_type": "stream",
     "text": [
      "    YEAR DISTRICT  violent  property  sumvioprop\n",
      "0   2019       A1   1138.0    1856.0      2994.0\n",
      "1   2019      A15    149.0     264.0       413.0\n",
      "2   2019       A7    324.0     413.0       737.0\n",
      "3   2019       B2   1234.0    1394.0      2628.0\n",
      "4   2019       B3   1057.0    1063.0      2120.0\n",
      "5   2019      C11    994.0    1654.0      2648.0\n",
      "6   2019       C6    584.0     919.0      1503.0\n",
      "7   2019      D14    416.0     878.0      1294.0\n",
      "8   2019       D4   1091.0    2752.0      3843.0\n",
      "9   2019      E13    417.0     683.0      1100.0\n",
      "10  2019      E18    346.0     596.0       942.0\n",
      "11  2019       E5    248.0     429.0       677.0\n",
      "12  2020       A1    717.0    1452.0      2169.0\n",
      "13  2020      A15     85.0     324.0       409.0\n",
      "14  2020       A7    245.0     509.0       754.0\n",
      "15  2020       B2    810.0    1397.0      2207.0\n",
      "16  2020       B3    576.0     783.0      1359.0\n",
      "17  2020      C11    613.0    1409.0      2022.0\n",
      "18  2020       C6    381.0    1081.0      1462.0\n",
      "19  2020      D14    241.0     954.0      1195.0\n",
      "20  2020       D4    745.0    2521.0      3266.0\n",
      "21  2020      E13    274.0     563.0       837.0\n",
      "22  2020      E18    190.0     472.0       662.0\n",
      "23  2020       E5    153.0     454.0       607.0\n"
     ]
    },
    {
     "data": {
      "text/plain": "<Figure size 432x288 with 1 Axes>",
      "image/png": "[encoded data removed]"
     },
     "metadata": {},
     "output_type": "display_data"
    }
   ],
   "source": [
    "# plot7.3\n",
    "tally[\"sumvioprop\"] = tally[\"violent\"] + tally[\"property\"]\n",
    "print(tally)\n",
    "\n",
    "sns.barplot(x=\"DISTRICT\", y=\"sumvioprop\", data=tally, hue=\"YEAR\")\n",
    "plt.savefig(os.path.join(f_dir,\"district_year_bar\"))"
   ],
   "metadata": {
    "collapsed": false,
    "pycharm": {
     "name": "#%%\n"
    }
   }
  },
  {
   "cell_type": "code",
   "execution_count": 12,
   "outputs": [],
   "source": [
    "plt.close()"
   ],
   "metadata": {
    "collapsed": false,
    "pycharm": {
     "name": "#%%\n"
    }
   }
  },
  {
   "cell_type": "code",
   "execution_count": 13,
   "outputs": [
    {
     "name": "stdout",
     "output_type": "stream",
     "text": [
      "   DISTRICT  QUARTER  SHOOTING\n",
      "0        A1        1         2\n",
      "1        A1        2         8\n",
      "2        A1        3         4\n",
      "3        A1        4         7\n",
      "4       A15        1         0\n",
      "5       A15        2         4\n",
      "6       A15        3         6\n",
      "7       A15        4         3\n",
      "8        A7        1         6\n",
      "9        A7        2        10\n",
      "10       A7        3         9\n",
      "11       A7        4         6\n",
      "12       B2        1        85\n",
      "13       B2        2       154\n",
      "14       B2        3       167\n",
      "15       B2        4       119\n",
      "16       B3        1        70\n",
      "17       B3        2       137\n",
      "18       B3        3       190\n",
      "19       B3        4       110\n",
      "20      C11        1        65\n",
      "21      C11        2       104\n",
      "22      C11        3       127\n",
      "23      C11        4        80\n",
      "24       C6        1         4\n",
      "25       C6        2         8\n",
      "26       C6        3        16\n",
      "27       C6        4        13\n",
      "28      D14        1         5\n",
      "29      D14        2        10\n",
      "30      D14        3         7\n",
      "31      D14        4         7\n",
      "32       D4        1        13\n",
      "33       D4        2        24\n",
      "34       D4        3        25\n",
      "35       D4        4        15\n",
      "36      E13        1        23\n",
      "37      E13        2        27\n",
      "38      E13        3        33\n",
      "39      E13        4        15\n",
      "40      E18        1        20\n",
      "41      E18        2        31\n",
      "42      E18        3        29\n",
      "43      E18        4        35\n",
      "44       E5        1         6\n",
      "45       E5        2         8\n",
      "46       E5        3         8\n",
      "47       E5        4        11\n"
     ]
    },
    {
     "data": {
      "text/plain": "<Figure size 432x288 with 1 Axes>",
      "image/png": "[encoded data removed]"
     },
     "metadata": {},
     "output_type": "display_data"
    }
   ],
   "source": [
    "# plot7.4\n",
    "quart_shooting = cir_wk.groupby([\"DISTRICT\", \"QUARTER\"]).agg({\"SHOOTING\": sum}).reset_index()\n",
    "print(quart_shooting)\n",
    "\n",
    "sns.violinplot(x=\"QUARTER\", y=\"SHOOTING\", data=quart_shooting)\n",
    "plt.savefig(os.path.join(f_dir,\"shooting_quarter_violin\"))"
   ],
   "metadata": {
    "collapsed": false,
    "pycharm": {
     "name": "#%%\n"
    }
   }
  },
  {
   "cell_type": "code",
   "execution_count": 14,
   "outputs": [],
   "source": [
    "plt.close()"
   ],
   "metadata": {
    "collapsed": false,
    "pycharm": {
     "name": "#%%\n"
    }
   }
  }
 ],
 "metadata": {
  "kernelspec": {
   "display_name": "Python 3",
   "language": "python",
   "name": "python3"
  },
  "language_info": {
   "codemirror_mode": {
    "name": "ipython",
    "version": 2
   },
   "file_extension": ".py",
   "mimetype": "text/x-python",
   "name": "python",
   "nbconvert_exporter": "python",
   "pygments_lexer": "ipython2",
   "version": "2.7.6"
  }
 },
 "nbformat": 4,
 "nbformat_minor": 0
}