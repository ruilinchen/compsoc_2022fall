{
 "cells": [
  {
   "cell_type": "markdown",
   "metadata": {
    "id": "-Z15j5N829ns",
    "pycharm": {
     "name": "#%% md\n"
    }
   },
   "source": [
    "Exercise 4\n",
    "[editted]"
   ]
  },
  {
   "cell_type": "code",
   "execution_count": 8,
   "metadata": {
    "pycharm": {
     "name": "#%%\n"
    }
   },
   "outputs": [
    {
     "name": "stdout",
     "output_type": "stream",
     "text": [
      "['Example content:\\n', 'The names \"John Doe\" for males, \"Jane Doe\" or \"Jane Roe\" for females, or \"Jonnie Doe\" and \"Janie Doe\" for children, or just \"Doe\" non-gender-specifically are used as placeholder names for a party whose true identity is unknown or must be withheld in a legal action, case, or discussion. The names are also used to refer to acorpse or hospital patient whose identity is unknown. This practice is widely used in the United States and Canada, but is rarely used in other English-speaking countries including the United Kingdom itself, from where the use of \"John Doe\" in a legal context originates. The names Joe Bloggs or John Smith are used in the UK instead, as well as in Australia and New Zealand.\\n', '\\n', 'John Doe is sometimes used to refer to a typical male in other contexts as well, in a similar manner to John Q. Public, known in Great Britain as Joe Public, John Smith or Joe Bloggs. For example, the first name listed on a form is often John Doe, along with a fictional address or other fictional information to provide an example of how to fill in the form. The name is also used frequently in popular culture, for example in the Frank Capra film Meet John Doe. John Doe was also the name of a 2002 American television series.\\n', '\\n', 'Similarly, a child or baby whose identity is unknown may be referred to as Baby Doe. A notorious murder case in Kansas City, Missouri, referred to the baby victim as Precious Doe. Other unidentified female murder victims are Cali Doe and Princess Doe. Additional persons may be called James Doe, Judy Doe, etc. However, to avoid possible confusion, if two anonymous or unknown parties are cited in a specific case or action, the surnames Doe and Roe may be used simultaneously; for example, \"John Doe v. Jane Roe\". If several anonymous parties are referenced, they may simply be labelled John Doe #1, John Doe #2, etc. (the U.S. Operation Delego cited 21 (numbered) \"John Doe\"s) or labelled with other variants of Doe / Roe / Poe / etc. Other early alternatives such as John Stiles and Richard Miles are now rarely used, and Mary Major has been used in some American federal cases.\\n', '\\n', '\\n', '\\n', 'File created by https://www.online-convert.com\\n', 'More example files: https://www.online-convert.com/file-type\\n', 'Text of Example content: Wikipedia (https://en.wikipedia.org/wiki/John_Doe)\\n', 'License: Attribution-ShareAlike 4.0 (https://creativecommons.org/licenses/by-sa/4.0/)\\n', '\\n', 'Feel free to use and share the file according to the license above.']\n"
     ]
    }
   ],
   "source": [
    "with open('example.txt') as f:\n",
    "    lines = f.readlines()\n",
    "print (lines[6:])"
   ]
  },
  {
   "cell_type": "code",
   "execution_count": null,
   "metadata": {
    "pycharm": {
     "name": "#%%\n"
    }
   },
   "outputs": [],
   "source": [
    "def sumfortwenty (numList):\n",
    "    try:\n",
    "        sum(numList)\n",
    "        return sum(numList)\n",
    "    except:\n",
    "        return \"Error\"\n",
    "\n",
    "num = [1,2,3,4,5,6,7,8,9,10,11,12,13,14,15,16,17,18,19,20]\n",
    "sumfortwenty(num)"
   ]
  },
  {
   "cell_type": "code",
   "execution_count": 3,
   "metadata": {
    "pycharm": {
     "name": "#%%\n"
    }
   },
   "outputs": [
    {
     "name": "stdout",
     "output_type": "stream",
     "text": [
      "michael\n",
      "larry\n",
      "kobe\n"
     ]
    }
   ],
   "source": [
    "def top3Players(players): \n",
    "    players= dict(sorted(players.items(), key = lambda item :item[1]))\n",
    "    for x in list(reversed(list(players)))[0:3]:\n",
    "        print (x)\n",
    "\n",
    "players_dict= {'lebron': 70, 'kobe': 80, 'stephen': 75, 'michael': 85, 'larry': 82}\n",
    "    \n",
    "top3Players(players_dict)\n",
    "\n"
   ]
  }
 ],
 "metadata": {
  "colab": {
   "provenance": []
  },
  "kernelspec": {
   "display_name": "Python 3 (ipykernel)",
   "language": "python",
   "name": "python3"
  },
  "language_info": {
   "codemirror_mode": {
    "name": "ipython",
    "version": 3
   },
   "file_extension": ".py",
   "mimetype": "text/x-python",
   "name": "python",
   "nbconvert_exporter": "python",
   "pygments_lexer": "ipython3",
   "version": "3.9.10+"
  }
 },
 "nbformat": 4,
 "nbformat_minor": 1
}