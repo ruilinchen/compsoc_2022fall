{
 "cells": [
  {
   "cell_type": "markdown",
   "id": "d9373c78",
   "metadata": {
    "pycharm": {
     "name": "#%% md\n"
    }
   },
   "source": [
    "# Take Home 1\n",
    "## Sarah Penrice"
   ]
  },
  {
   "cell_type": "code",
   "execution_count": 95,
   "id": "a4876368",
   "metadata": {
    "pycharm": {
     "name": "#%%\n"
    }
   },
   "outputs": [],
   "source": [
    "import os\n",
    "import numpy as np\n",
    "import pandas as pd\n",
    "import geopandas as gpd\n",
    "import json\n",
    "import matplotlib.pyplot as plt"
   ]
  },
  {
   "cell_type": "markdown",
   "id": "8c9ddc5a",
   "metadata": {
    "pycharm": {
     "name": "#%% md\n"
    }
   },
   "source": [
    "### Task 1\n",
    "The following code integrates the information from the csv files in the \"job_url_data\" folder into a single dictionary with the individual URLs as keys and the earliest date at which they were scraped as values. The results are saved into a json file and the number of unique URLs from 5/17/2022-5/23/2022 are reported."
   ]
  },
  {
   "cell_type": "code",
   "execution_count": 96,
   "id": "059e69cd",
   "metadata": {
    "pycharm": {
     "name": "#%%\n"
    }
   },
   "outputs": [
    {
     "name": "stdout",
     "output_type": "stream",
     "text": [
      "21260 URLS collected between 5/17-23/2022\n"
     ]
    }
   ],
   "source": [
    "urls={}\n",
    "#loop through every file in the folder\n",
    "for filename in os.scandir('indeed_scraped_data/job_url_data'):\n",
    "    if (filename.is_file()) and ('.csv' in filename.path):\n",
    "    #parse the file name for date\n",
    "        parsed=filename.path.split('_')\n",
    "        date=parsed[8]     #files have format indeed_scraped_data/job_url_data/job_urls_for_parsehub_DATE_v#.csv\n",
    "        day=date[1:2]\n",
    "        #loop through every line of the csv(apart from the headers)\n",
    "        with open(filename.path) as file:\n",
    "            data=file.readlines()[1:] #don't include the headers\n",
    "            for line in data:\n",
    "                #if the url is not already in the dictionary, add it as key with the date as value\n",
    "                if line not in urls:\n",
    "                    urls[line]=date\n",
    "                else: #replace current entry if it is an earlier date\n",
    "                    if(day<urls[line][1:2]):\n",
    "                        urls[line]=date\n",
    "\n",
    "#strip white space off the URLS\n",
    "stripped={}\n",
    "for i in urls:\n",
    "    stripped[i.strip()]=urls[i]\n",
    "\n",
    "#save the results in a json file\n",
    "with open('takehome1_url.json','w') as outfile:\n",
    "    json.dump(stripped,outfile)\n",
    "    \n",
    "#filter by count values in between may 17-23\n",
    "count=0\n",
    "valid=['5172022','5182022','5192022','5202022','5212022','5222022','5232022']\n",
    "for i in stripped:\n",
    "    if stripped[i] in valid:\n",
    "        count+=1\n",
    "print(count,'URLS collected between 5/17-23/2022')"
   ]
  },
  {
   "cell_type": "markdown",
   "id": "58445b22",
   "metadata": {
    "pycharm": {
     "name": "#%% md\n"
    }
   },
   "source": [
    "### Task 2\n",
    "The following code cleans the files (both csv and jscon) in the  \"job_info_data\" folder, dropping records with missing titles and/or descriptions, dropping duplicates and combining the results into a single dataframe. The results are saved in an updated csv and the number of unique jobs is reported."
   ]
  },
  {
   "cell_type": "code",
   "execution_count": 97,
   "id": "cd132e95",
   "metadata": {
    "pycharm": {
     "name": "#%%\n"
    }
   },
   "outputs": [
    {
     "name": "stdout",
     "output_type": "stream",
     "text": [
      "15574 unique jobs\n"
     ]
    }
   ],
   "source": [
    "dfs=[]\n",
    "headers=['URL','Job Title','Company','Company URL','Company Location','Job Description']\n",
    "for filename in os.scandir('indeed_scraped_data/job_info_data'):\n",
    "    if filename.is_file():\n",
    "        if '.csv' in filename.path:\n",
    "            data=pd.read_csv(filename.path,delimiter=',')\n",
    "        elif '.json' in filename.path:\n",
    "            use=[]\n",
    "            with open(filename.path) as file:\n",
    "                data=json.load(file)\n",
    "                for i in data:\n",
    "                    for item in data[i]:\n",
    "                        if(len(item)==6):#only include those with all 6 fields\n",
    "                            use.append(item)\n",
    "                data=pd.DataFrame(use)\n",
    "        data.columns=headers #make headers match\n",
    "        dfs.append(data)\n",
    "df=pd.concat(dfs) #combine into a single dataframe\n",
    "\n",
    "#clean based on missing values and duplicates\n",
    "df=df[df[\"Job Title\"].notnull()]\n",
    "df=df[df[\"Job Description\"].notnull()]\n",
    "df=df.drop_duplicates('URL').reset_index(drop=True)\n",
    "df.to_csv('takehome1_info.csv',index=False) #write cleaned data to csv\n",
    "\n",
    "print(len(df),\"unique jobs\")"
   ]
  },
  {
   "cell_type": "markdown",
   "id": "7456d536",
   "metadata": {
    "pycharm": {
     "name": "#%% md\n"
    }
   },
   "source": [
    "### Task 3\n",
    "The following code reads in the clean data and merges them based on their URLS. Merging with how='inner' takes the intersection meaning only including URLs that appear in both datasets. Depending on the order of the dataframes and operating on the intersection, we can determine the number of missing urls in each dataset. The results are interpretted below in more depth."
   ]
  },
  {
   "cell_type": "code",
   "execution_count": 98,
   "id": "5b53811b",
   "metadata": {
    "pycharm": {
     "name": "#%%\n"
    }
   },
   "outputs": [],
   "source": [
    "#access job url data as dataframe\n",
    "with open('takehome1_url.json') as file:\n",
    "    data=json.load(file)\n",
    "    url=pd.DataFrame(data.items(),columns=[\"URL\",\"Date\"])"
   ]
  },
  {
   "cell_type": "code",
   "execution_count": 99,
   "id": "902b4cd5",
   "metadata": {
    "pycharm": {
     "name": "#%%\n"
    }
   },
   "outputs": [],
   "source": [
    "#access job info data as dataframe\n",
    "info=pd.read_csv('takehome1_info.csv')"
   ]
  },
  {
   "cell_type": "code",
   "execution_count": 100,
   "id": "83fc7802",
   "metadata": {
    "pycharm": {
     "name": "#%%\n"
    }
   },
   "outputs": [
    {
     "name": "stdout",
     "output_type": "stream",
     "text": [
      "There are 15404 jobs found in both datasets.\n",
      "There are 5856 unmatched jobs in the url dataset.\n",
      "There are 170 unmatched jobs in the info dataset.\n",
      "71.88054129724685 percentage of jobs are found in both datasets.\n"
     ]
    }
   ],
   "source": [
    "#merge using url\n",
    "data=url.merge(info,on='URL',how=\"inner\")\n",
    "data.to_csv('combined.csv',index=False)\n",
    "\n",
    "print('There are',len(data),'jobs found in both datasets.')\n",
    "\n",
    "d1=url.merge(info,on='URL',how='left')\n",
    "print('There are',len(d1)-len(data),'unmatched jobs in the url dataset.')\n",
    "\n",
    "d2=info.merge(url,on='URL',how='left')\n",
    "print('There are',len(d2)-len(data),'unmatched jobs in the info dataset.')\n",
    "\n",
    "total=len(d1)+len(d2)-len(data)\n",
    "print(len(data)/total*100,'percentage of jobs are found in both datasets.')"
   ]
  },
  {
   "cell_type": "code",
   "execution_count": 112,
   "id": "b6442dbe",
   "metadata": {
    "pycharm": {
     "name": "#%%\n"
    }
   },
   "outputs": [
    {
     "name": "stdout",
     "output_type": "stream",
     "text": [
      "          URL\n",
      "Date         \n",
      "5172022  3189\n",
      "5182022   885\n",
      "5192022  4435\n",
      "5202022  2929\n",
      "5212022  3410\n",
      "5232022   556\n"
     ]
    },
    {
     "data": {
      "text/plain": [
       "Text(0, 0.5, 'Number of Job Listings')"
      ]
     },
     "execution_count": 112,
     "metadata": {},
     "output_type": "execute_result"
    },
    {
     "data": {
      "image/png": "[encoded data removed]",
      "text/plain": [
       "<Figure size 432x288 with 1 Axes>"
      ]
     },
     "metadata": {
      "needs_background": "light"
     },
     "output_type": "display_data"
    }
   ],
   "source": [
    "date_dist=data.groupby(['Date']).agg({\"URL\":\"count\"})\n",
    "print(date_dist)\n",
    "plt.bar(date_dist.index,date_dist[\"URL\"])\n",
    "plt.title(\"Date Distribution of Matched Data\")\n",
    "plt.xlabel('Date')\n",
    "plt.ylabel('Number of Job Listings')"
   ]
  },
  {
   "cell_type": "markdown",
   "id": "efc54fcf",
   "metadata": {
    "pycharm": {
     "name": "#%% md\n"
    }
   },
   "source": [
    "The above graph shows the date distribution of the URLs that appear in both data sets. We can generally observe that the most job postings are found in the middle of the given dates, 5/19-21. However, we also see a large number of postings found on 5/17. Since in processing the data, we used the first data that the URL appeared, it makes sense to have alot of data on the first day. It seems that there were few additional jobs added on the following day. "
   ]
  },
  {
   "cell_type": "code",
   "execution_count": 118,
   "id": "d9b21bb1",
   "metadata": {
    "pycharm": {
     "name": "#%%\n"
    }
   },
   "outputs": [
    {
     "name": "stdout",
     "output_type": "stream",
     "text": [
      "          URL\n",
      "Date         \n",
      "5172022  1591\n",
      "5182022    57\n",
      "5192022   223\n",
      "5202022    40\n",
      "5212022   298\n",
      "5232022  3647\n"
     ]
    },
    {
     "data": {
      "text/plain": [
       "Text(0, 0.5, 'Number of Job Listings')"
      ]
     },
     "execution_count": 118,
     "metadata": {},
     "output_type": "execute_result"
    },
    {
     "data": {
      "image/png": "[encoded data removed]",
      "text/plain": [
       "<Figure size 432x288 with 1 Axes>"
      ]
     },
     "metadata": {
      "needs_background": "light"
     },
     "output_type": "display_data"
    }
   ],
   "source": [
    "#missing data in url\n",
    "missing_url=d1[d1['Job Description'].isnull()]\n",
    "url_dist=missing_url.groupby(['Date']).agg({\"URL\":\"count\"})\n",
    "print(url_dist)\n",
    "plt.bar(url_dist.index,url_dist[\"URL\"])\n",
    "plt.title(\"Date Distribution of Unmatched Data\")\n",
    "plt.xlabel('Date')\n",
    "plt.ylabel('Number of Job Listings')"
   ]
  },
  {
   "cell_type": "markdown",
   "id": "9f6b3e4e",
   "metadata": {
    "pycharm": {
     "name": "#%% md\n"
    }
   },
   "source": [
    "The above bar chart shows the date distribution of the unmatched data. The largest values appear on the first and last day with very low values from 5/18-5/21"
   ]
  },
  {
   "cell_type": "markdown",
   "id": "992ff1f8",
   "metadata": {
    "pycharm": {
     "name": "#%% md\n"
    }
   },
   "source": [
    "The plots of the distribution by date show that the collection methods are flawed in that a lot of the data is unmatched on the first and last day of data collection. We aim for consistently low values of unmatched data across all dates in which data was collected. By looking at the distribution of matched data we may try to reason that few new jobs were added on the last day and look for a cause where in reality, there may just be an error in how the data was collected. This type of error is especially impactful in this case since data was only collected over 6 days so it does introduce a bias."
   ]
  }
 ],
 "metadata": {
  "kernelspec": {
   "display_name": "Python [conda env:compsoc] *",
   "language": "python",
   "name": "conda-env-compsoc-py"
  },
  "language_info": {
   "codemirror_mode": {
    "name": "ipython",
    "version": 3
   },
   "file_extension": ".py",
   "mimetype": "text/x-python",
   "name": "python",
   "nbconvert_exporter": "python",
   "pygments_lexer": "ipython3",
   "version": "3.8.13"
  }
 },
 "nbformat": 4,
 "nbformat_minor": 5
}