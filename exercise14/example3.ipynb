{
 "cells": [
  {
   "cell_type": "markdown",
   "id": "b2959222",
   "metadata": {
    "pycharm": {
     "name": "#%% md\n"
    }
   },
   "source": [
    "# Exercise #14"
   ]
  },
  {
   "cell_type": "markdown",
   "id": "a58bc9e2",
   "metadata": {
    "pycharm": {
     "name": "#%% md\n"
    }
   },
   "source": [
    "### Task 1"
   ]
  },
  {
   "cell_type": "markdown",
   "id": "4ee38929",
   "metadata": {
    "pycharm": {
     "name": "#%% md\n"
    }
   },
   "source": [
    "For each review included in the dataset, use `spacytextblob` and its inherent document-level scores to get the polarity score of the text. Create a violinplot with the x-axis being individual reviews' star rating, and the y-axis being the calculated polarity scores. Interpret the results. "
   ]
  },
  {
   "cell_type": "code",
   "execution_count": 1,
   "id": "c4547ab3",
   "metadata": {
    "pycharm": {
     "name": "#%%\n"
    }
   },
   "outputs": [],
   "source": [
    "###Getting Data\n",
    "import os\n",
    "import numpy as np\n",
    "import pandas as pd\n",
    "import spacy\n",
    "import re\n",
    "import glob\n",
    "import json\n",
    "from tqdm import tqdm\n",
    "import spacy\n",
    "nlp = spacy.load('en_core_web_sm')\n",
    "from spacytextblob.spacytextblob import SpacyTextBlob\n",
    "nlp.add_pipe('spacytextblob')\n",
    "os.chdir('/Users/[editted]/Desktop/SOCDATA/Exercise_14/')\n"
   ]
  },
  {
   "cell_type": "code",
   "execution_count": 11,
   "id": "c7ec71e4",
   "metadata": {
    "pycharm": {
     "name": "#%%\n"
    }
   },
   "outputs": [
    {
     "name": "stderr",
     "output_type": "stream",
     "text": [
      "10000it [03:04, 54.24it/s]\n"
     ]
    }
   ],
   "source": [
    "###Analysis\n",
    "review_ids = []\n",
    "ratings = []\n",
    "polarity_scores = []\n",
    "subjective_scores = []\n",
    "\n",
    "with open('yelp_academic_dataset_review_Nov2022_small.jsonl', 'r') as f:\n",
    "    line_index = 0\n",
    "    for line in tqdm(f):\n",
    "        line_index += 1\n",
    "        review_dict = json.loads(line)\n",
    "\n",
    "        review = review_dict['text']\n",
    "        rating = review_dict['stars']\n",
    "        review_id = review_dict['review_id']\n",
    "\n",
    "        review_doc = nlp(review)\n",
    "        subjective_phrases_in_doc = []\n",
    "        polarity_score = 0\n",
    "        subjective_score = 0\n",
    "        for assess_tuple in review_doc._.blob.sentiment_assessments.assessments:\n",
    "            subjective_phrases_in_doc.append(' '.join(assess_tuple[0]))\n",
    "            polarity_score += assess_tuple[1]\n",
    "            subjective_score += assess_tuple[2]\n",
    "\n",
    "        ratings.append(rating)\n",
    "        polarity_scores.append(polarity_score)\n",
    "        subjective_scores.append(subjective_score)\n",
    "        review_ids.append(review_id)"
   ]
  },
  {
   "cell_type": "code",
   "execution_count": 18,
   "id": "16b68c2a",
   "metadata": {
    "pycharm": {
     "name": "#%%\n"
    }
   },
   "outputs": [
    {
     "data": {
      "text/html": [
       "<div>\n",
       "<style scoped>\n",
       "    .dataframe tbody tr th:only-of-type {\n",
       "        vertical-align: middle;\n",
       "    }\n",
       "\n",
       "    .dataframe tbody tr th {\n",
       "        vertical-align: top;\n",
       "    }\n",
       "\n",
       "    .dataframe thead th {\n",
       "        text-align: right;\n",
       "    }\n",
       "</style>\n",
       "<table border=\"1\" class=\"dataframe\">\n",
       "  <thead>\n",
       "    <tr style=\"text-align: right;\">\n",
       "      <th></th>\n",
       "      <th>review_id</th>\n",
       "      <th>rating</th>\n",
       "      <th>polarity_score</th>\n",
       "      <th>subjective_score</th>\n",
       "    </tr>\n",
       "  </thead>\n",
       "  <tbody>\n",
       "    <tr>\n",
       "      <th>0</th>\n",
       "      <td>KU_O5udG6zpxOg-VcAEodg</td>\n",
       "      <td>3.0</td>\n",
       "      <td>1.023333</td>\n",
       "      <td>5.148333</td>\n",
       "    </tr>\n",
       "    <tr>\n",
       "      <th>1</th>\n",
       "      <td>BiTunyQ73aT9WBnpR9DZGw</td>\n",
       "      <td>5.0</td>\n",
       "      <td>4.425000</td>\n",
       "      <td>6.283333</td>\n",
       "    </tr>\n",
       "    <tr>\n",
       "      <th>2</th>\n",
       "      <td>saUsX_uimxRlCVr67Z4Jig</td>\n",
       "      <td>3.0</td>\n",
       "      <td>1.539286</td>\n",
       "      <td>5.745238</td>\n",
       "    </tr>\n",
       "    <tr>\n",
       "      <th>3</th>\n",
       "      <td>AqPFMleE6RsU23_auESxiA</td>\n",
       "      <td>5.0</td>\n",
       "      <td>2.420455</td>\n",
       "      <td>5.704545</td>\n",
       "    </tr>\n",
       "    <tr>\n",
       "      <th>4</th>\n",
       "      <td>Sx8TMOWLNuJBWer-0pcmoA</td>\n",
       "      <td>4.0</td>\n",
       "      <td>5.613571</td>\n",
       "      <td>6.872857</td>\n",
       "    </tr>\n",
       "    <tr>\n",
       "      <th>...</th>\n",
       "      <td>...</td>\n",
       "      <td>...</td>\n",
       "      <td>...</td>\n",
       "      <td>...</td>\n",
       "    </tr>\n",
       "    <tr>\n",
       "      <th>9995</th>\n",
       "      <td>ZcBtCA9jGhLfakf1jJ2BAg</td>\n",
       "      <td>5.0</td>\n",
       "      <td>1.800000</td>\n",
       "      <td>1.875000</td>\n",
       "    </tr>\n",
       "    <tr>\n",
       "      <th>9996</th>\n",
       "      <td>UIkEO-10J6Y99IhRqUflvg</td>\n",
       "      <td>5.0</td>\n",
       "      <td>0.600000</td>\n",
       "      <td>0.900000</td>\n",
       "    </tr>\n",
       "    <tr>\n",
       "      <th>9997</th>\n",
       "      <td>S-NQM3Axcg8JS3MXHUIvyw</td>\n",
       "      <td>5.0</td>\n",
       "      <td>1.097727</td>\n",
       "      <td>6.900758</td>\n",
       "    </tr>\n",
       "    <tr>\n",
       "      <th>9998</th>\n",
       "      <td>ME79YrEhm2xe4IQy_0zkGw</td>\n",
       "      <td>5.0</td>\n",
       "      <td>2.812500</td>\n",
       "      <td>4.800000</td>\n",
       "    </tr>\n",
       "    <tr>\n",
       "      <th>9999</th>\n",
       "      <td>05oKtleZ-JFGD6qt47VQcg</td>\n",
       "      <td>2.0</td>\n",
       "      <td>1.319048</td>\n",
       "      <td>6.002381</td>\n",
       "    </tr>\n",
       "  </tbody>\n",
       "</table>\n",
       "<p>10000 rows × 4 columns</p>\n",
       "</div>"
      ],
      "text/plain": [
       "                   review_id  rating  polarity_score  subjective_score\n",
       "0     KU_O5udG6zpxOg-VcAEodg     3.0        1.023333          5.148333\n",
       "1     BiTunyQ73aT9WBnpR9DZGw     5.0        4.425000          6.283333\n",
       "2     saUsX_uimxRlCVr67Z4Jig     3.0        1.539286          5.745238\n",
       "3     AqPFMleE6RsU23_auESxiA     5.0        2.420455          5.704545\n",
       "4     Sx8TMOWLNuJBWer-0pcmoA     4.0        5.613571          6.872857\n",
       "...                      ...     ...             ...               ...\n",
       "9995  ZcBtCA9jGhLfakf1jJ2BAg     5.0        1.800000          1.875000\n",
       "9996  UIkEO-10J6Y99IhRqUflvg     5.0        0.600000          0.900000\n",
       "9997  S-NQM3Axcg8JS3MXHUIvyw     5.0        1.097727          6.900758\n",
       "9998  ME79YrEhm2xe4IQy_0zkGw     5.0        2.812500          4.800000\n",
       "9999  05oKtleZ-JFGD6qt47VQcg     2.0        1.319048          6.002381\n",
       "\n",
       "[10000 rows x 4 columns]"
      ]
     },
     "execution_count": 18,
     "metadata": {},
     "output_type": "execute_result"
    }
   ],
   "source": [
    "###Getting Dataframe\n",
    "import pandas as pd\n",
    "\n",
    "yelp_df = pd.DataFrame(columns=['review_id', 'rating', 'polarity_score', 'subjective_score'])\n",
    "yelp_df['rating'] = ratings\n",
    "yelp_df['review_id'] = review_ids\n",
    "yelp_df['polarity_score'] = polarity_scores\n",
    "yelp_df['subjective_score'] = subjective_scores\n",
    "yelp_df\n",
    "# max(yelp_df['polarity_score'])"
   ]
  },
  {
   "cell_type": "code",
   "execution_count": 16,
   "id": "f039825c",
   "metadata": {
    "scrolled": true,
    "pycharm": {
     "name": "#%%\n"
    }
   },
   "outputs": [
    {
     "data": {
      "text/plain": [
       "<AxesSubplot:xlabel='rating', ylabel='polarity_score'>"
      ]
     },
     "execution_count": 16,
     "metadata": {},
     "output_type": "execute_result"
    },
    {
     "data": {
      "image/png": "[encoded data removed]",
      "text/plain": [
       "<Figure size 432x288 with 1 Axes>"
      ]
     },
     "metadata": {
      "needs_background": "light"
     },
     "output_type": "display_data"
    }
   ],
   "source": [
    "###Creating Violin Plot\n",
    "import seaborn as sns\n",
    "import matplotlib.style as style\n",
    "sns.violinplot(y='polarity_score', x='rating', data=yelp_df)"
   ]
  },
  {
   "cell_type": "markdown",
   "id": "8ba14dbb",
   "metadata": {
    "pycharm": {
     "name": "#%% md\n"
    }
   },
   "source": [
    "### Task 2"
   ]
  },
  {
   "cell_type": "markdown",
   "id": "316a2d5f",
   "metadata": {
    "pycharm": {
     "name": "#%% md\n"
    }
   },
   "source": [
    "For each review included in the dataset, extract the subjective phrases in the text using  `spacytextblob` and its `\n",
    "sentiment_assessments.assessments` feature. Then, for each review whose review_id is in the following `target_review_ids` list, find the top 3 reviews that are most similar to it in terms of their subjective phrases. "
   ]
  },
  {
   "cell_type": "code",
   "execution_count": 86,
   "id": "02453545",
   "metadata": {
    "pycharm": {
     "name": "#%%\n"
    }
   },
   "outputs": [],
   "source": [
    "from spacytextblob.spacytextblob import SpacyTextBlob"
   ]
  },
  {
   "cell_type": "code",
   "execution_count": 3,
   "id": "2f5afc82",
   "metadata": {
    "pycharm": {
     "name": "#%%\n"
    }
   },
   "outputs": [
    {
     "data": {
      "text/html": [
       "<div>\n",
       "<style scoped>\n",
       "    .dataframe tbody tr th:only-of-type {\n",
       "        vertical-align: middle;\n",
       "    }\n",
       "\n",
       "    .dataframe tbody tr th {\n",
       "        vertical-align: top;\n",
       "    }\n",
       "\n",
       "    .dataframe thead th {\n",
       "        text-align: right;\n",
       "    }\n",
       "</style>\n",
       "<table border=\"1\" class=\"dataframe\">\n",
       "  <thead>\n",
       "    <tr style=\"text-align: right;\">\n",
       "      <th></th>\n",
       "      <th>review_id</th>\n",
       "      <th>text</th>\n",
       "      <th>rating</th>\n",
       "    </tr>\n",
       "  </thead>\n",
       "  <tbody>\n",
       "    <tr>\n",
       "      <th>0</th>\n",
       "      <td>KU_O5udG6zpxOg-VcAEodg</td>\n",
       "      <td>If you decide to eat here, just be aware it is...</td>\n",
       "      <td>3.0</td>\n",
       "    </tr>\n",
       "    <tr>\n",
       "      <th>1</th>\n",
       "      <td>BiTunyQ73aT9WBnpR9DZGw</td>\n",
       "      <td>I've taken a lot of spin classes over the year...</td>\n",
       "      <td>5.0</td>\n",
       "    </tr>\n",
       "    <tr>\n",
       "      <th>2</th>\n",
       "      <td>saUsX_uimxRlCVr67Z4Jig</td>\n",
       "      <td>Family diner. Had the buffet. Eclectic assortm...</td>\n",
       "      <td>3.0</td>\n",
       "    </tr>\n",
       "    <tr>\n",
       "      <th>3</th>\n",
       "      <td>AqPFMleE6RsU23_auESxiA</td>\n",
       "      <td>Wow!  Yummy, different,  delicious.   Our favo...</td>\n",
       "      <td>5.0</td>\n",
       "    </tr>\n",
       "    <tr>\n",
       "      <th>4</th>\n",
       "      <td>Sx8TMOWLNuJBWer-0pcmoA</td>\n",
       "      <td>Cute interior and owner (?) gave us tour of up...</td>\n",
       "      <td>4.0</td>\n",
       "    </tr>\n",
       "    <tr>\n",
       "      <th>...</th>\n",
       "      <td>...</td>\n",
       "      <td>...</td>\n",
       "      <td>...</td>\n",
       "    </tr>\n",
       "    <tr>\n",
       "      <th>9995</th>\n",
       "      <td>ZcBtCA9jGhLfakf1jJ2BAg</td>\n",
       "      <td>Excellent food and service. The place is funct...</td>\n",
       "      <td>5.0</td>\n",
       "    </tr>\n",
       "    <tr>\n",
       "      <th>9996</th>\n",
       "      <td>UIkEO-10J6Y99IhRqUflvg</td>\n",
       "      <td>Just about to get tucked into a meatloaf that ...</td>\n",
       "      <td>5.0</td>\n",
       "    </tr>\n",
       "    <tr>\n",
       "      <th>9997</th>\n",
       "      <td>S-NQM3Axcg8JS3MXHUIvyw</td>\n",
       "      <td>Outstanding customer service! And my car is dr...</td>\n",
       "      <td>5.0</td>\n",
       "    </tr>\n",
       "    <tr>\n",
       "      <th>9998</th>\n",
       "      <td>ME79YrEhm2xe4IQy_0zkGw</td>\n",
       "      <td>I and my husband went here for Dinner one day ...</td>\n",
       "      <td>5.0</td>\n",
       "    </tr>\n",
       "    <tr>\n",
       "      <th>9999</th>\n",
       "      <td>05oKtleZ-JFGD6qt47VQcg</td>\n",
       "      <td>I saw Big Data when they came to town at the K...</td>\n",
       "      <td>2.0</td>\n",
       "    </tr>\n",
       "  </tbody>\n",
       "</table>\n",
       "<p>10000 rows × 3 columns</p>\n",
       "</div>"
      ],
      "text/plain": [
       "                   review_id  \\\n",
       "0     KU_O5udG6zpxOg-VcAEodg   \n",
       "1     BiTunyQ73aT9WBnpR9DZGw   \n",
       "2     saUsX_uimxRlCVr67Z4Jig   \n",
       "3     AqPFMleE6RsU23_auESxiA   \n",
       "4     Sx8TMOWLNuJBWer-0pcmoA   \n",
       "...                      ...   \n",
       "9995  ZcBtCA9jGhLfakf1jJ2BAg   \n",
       "9996  UIkEO-10J6Y99IhRqUflvg   \n",
       "9997  S-NQM3Axcg8JS3MXHUIvyw   \n",
       "9998  ME79YrEhm2xe4IQy_0zkGw   \n",
       "9999  05oKtleZ-JFGD6qt47VQcg   \n",
       "\n",
       "                                                   text  rating  \n",
       "0     If you decide to eat here, just be aware it is...     3.0  \n",
       "1     I've taken a lot of spin classes over the year...     5.0  \n",
       "2     Family diner. Had the buffet. Eclectic assortm...     3.0  \n",
       "3     Wow!  Yummy, different,  delicious.   Our favo...     5.0  \n",
       "4     Cute interior and owner (?) gave us tour of up...     4.0  \n",
       "...                                                 ...     ...  \n",
       "9995  Excellent food and service. The place is funct...     5.0  \n",
       "9996  Just about to get tucked into a meatloaf that ...     5.0  \n",
       "9997  Outstanding customer service! And my car is dr...     5.0  \n",
       "9998  I and my husband went here for Dinner one day ...     5.0  \n",
       "9999  I saw Big Data when they came to town at the K...     2.0  \n",
       "\n",
       "[10000 rows x 3 columns]"
      ]
     },
     "execution_count": 3,
     "metadata": {},
     "output_type": "execute_result"
    }
   ],
   "source": [
    "###Creating Dataframe\n",
    "\n",
    "review_lst = []\n",
    "\n",
    "with open('yelp_academic_dataset_review_Nov2022_small.jsonl', 'r') as f:\n",
    "    for line in f:\n",
    "        review_d = json.loads(line)\n",
    "        review_lst.append(review_d)\n",
    "\n",
    "review_id = []\n",
    "review_text = []\n",
    "rating_rating = []\n",
    "\n",
    "for index in range(len(review_lst)):\n",
    "    review_id.append(review_lst[index][\"review_id\"])\n",
    "    review_text.append(review_lst[index][\"text\"])\n",
    "    rating_rating.append(review_lst[index][\"stars\"])\n",
    "\n",
    "\n",
    "review_df = pd.DataFrame(columns=['review_id', 'text','rating'])\n",
    "review_df['review_id'] = review_id\n",
    "review_df['text'] = review_text\n",
    "review_df['rating'] = rating_rating\n",
    "review_df"
   ]
  },
  {
   "cell_type": "code",
   "execution_count": 96,
   "id": "d0caaa29",
   "metadata": {
    "pycharm": {
     "name": "#%%\n"
    }
   },
   "outputs": [
    {
     "name": "stderr",
     "output_type": "stream",
     "text": [
      "100%|█████████████████████████████████████| 10000/10000 [03:08<00:00, 52.97it/s]\n"
     ]
    }
   ],
   "source": [
    "vocab_with_freq = dict()\n",
    "for i in tqdm(range(len(review_df))):\n",
    "    review_title = review_df.loc[i, 'text'] #Looping through all the rows\n",
    "    for token in nlp(review_title):\n",
    "        if token.is_alpha:\n",
    "            vocab_with_freq[token.lemma_.lower()] = vocab_with_freq.get(token.lemma_.lower(), 0) + 1\n",
    "\n",
    "vocabulary_list = list(vocab_with_freq.keys())\n",
    "# vocabulary_list"
   ]
  },
  {
   "cell_type": "code",
   "execution_count": 97,
   "id": "32ee7789",
   "metadata": {
    "pycharm": {
     "name": "#%%\n"
    }
   },
   "outputs": [
    {
     "name": "stderr",
     "output_type": "stream",
     "text": [
      "100%|█████████████████████████████████████| 10000/10000 [03:30<00:00, 47.60it/s]\n"
     ]
    }
   ],
   "source": [
    "one_hot_encodings = []\n",
    "\n",
    "for i in tqdm(range(len(review_df))):\n",
    "    review_title = review_df.loc[i, 'text'] # take one example first\n",
    "    token_indices = []\n",
    "\n",
    "    for token in nlp(review_title):\n",
    "        if token.is_alpha and token.lemma_.lower() in vocabulary_list:\n",
    "            token_index_in_vocab = vocabulary_list.index(token.lemma_.lower())\n",
    "            token_indices.append(token_index_in_vocab)\n",
    "\n",
    "\n",
    "    one_hot_encoding = np.zeros(len(vocabulary_list))\n",
    "    for token_index in token_indices:\n",
    "        one_hot_encoding[token_index] = 1\n",
    "\n",
    "    one_hot_encodings.append(one_hot_encoding)"
   ]
  },
  {
   "cell_type": "code",
   "execution_count": 105,
   "id": "c5ba5e4b",
   "metadata": {
    "pycharm": {
     "name": "#%%\n"
    }
   },
   "outputs": [],
   "source": [
    "from scipy.spatial.distance import cosine\n",
    "title_a_lst = []\n",
    "for index in range(len(target_review)):\n",
    "    title_a = target_review.loc[index, 'review_id']\n",
    "    title_a_lst.append(title_a)\n",
    "    \n",
    "similarity_values = []\n",
    "\n",
    "for i in range(1, len(review_df)):\n",
    "    similarity_value = 1 - cosine(one_hot_encodings[0], one_hot_encodings[i])\n",
    "    similarity_values.append(similarity_value)\n",
    "# similarity_values"
   ]
  },
  {
   "cell_type": "code",
   "execution_count": 104,
   "id": "3b5a3972",
   "metadata": {
    "pycharm": {
     "name": "#%%\n"
    }
   },
   "outputs": [
    {
     "name": "stdout",
     "output_type": "stream",
     "text": [
      "the primary job title: 40thYphUgIfvJq17QCfTwA\n",
      "                          id  similarity_value_with_one_hot\n",
      "3469  OKKzU3bf1S67pl1u5A16xA                       0.466387\n",
      "8232  SF-zNgY2uR4HkPRn6_DVEA                       0.431547\n",
      "4196  aIkwHOOldvkQFo6-_EU4Yw                       0.426746\n",
      "the primary job title: E9AB7V4z8xrt2uPF7T55FQ\n",
      "                          id  similarity_value_with_one_hot\n",
      "3469  OKKzU3bf1S67pl1u5A16xA                       0.466387\n",
      "8232  SF-zNgY2uR4HkPRn6_DVEA                       0.431547\n",
      "4196  aIkwHOOldvkQFo6-_EU4Yw                       0.426746\n",
      "the primary job title: 4KpIldEM-tdnrJLqYzRfZQ\n",
      "                          id  similarity_value_with_one_hot\n",
      "3469  OKKzU3bf1S67pl1u5A16xA                       0.466387\n",
      "8232  SF-zNgY2uR4HkPRn6_DVEA                       0.431547\n",
      "4196  aIkwHOOldvkQFo6-_EU4Yw                       0.426746\n",
      "the primary job title: PDHRlnEdkEcwATry4w71PQ\n",
      "                          id  similarity_value_with_one_hot\n",
      "3469  OKKzU3bf1S67pl1u5A16xA                       0.466387\n",
      "8232  SF-zNgY2uR4HkPRn6_DVEA                       0.431547\n",
      "4196  aIkwHOOldvkQFo6-_EU4Yw                       0.426746\n",
      "the primary job title: meGaFP7yxQdjyABrYDVeoQ\n",
      "                          id  similarity_value_with_one_hot\n",
      "3469  OKKzU3bf1S67pl1u5A16xA                       0.466387\n",
      "8232  SF-zNgY2uR4HkPRn6_DVEA                       0.431547\n",
      "4196  aIkwHOOldvkQFo6-_EU4Yw                       0.426746\n",
      "the primary job title: 4PHFo_GRG4FEk1q4X7xQVQ\n",
      "                          id  similarity_value_with_one_hot\n",
      "3469  OKKzU3bf1S67pl1u5A16xA                       0.466387\n",
      "8232  SF-zNgY2uR4HkPRn6_DVEA                       0.431547\n",
      "4196  aIkwHOOldvkQFo6-_EU4Yw                       0.426746\n",
      "the primary job title: qeSxL-POvGLZD6aQ5O9kvw\n",
      "                          id  similarity_value_with_one_hot\n",
      "3469  OKKzU3bf1S67pl1u5A16xA                       0.466387\n",
      "8232  SF-zNgY2uR4HkPRn6_DVEA                       0.431547\n",
      "4196  aIkwHOOldvkQFo6-_EU4Yw                       0.426746\n",
      "the primary job title: pgESDcC7eDx4z_epqon4_Q\n",
      "                          id  similarity_value_with_one_hot\n",
      "3469  OKKzU3bf1S67pl1u5A16xA                       0.466387\n",
      "8232  SF-zNgY2uR4HkPRn6_DVEA                       0.431547\n",
      "4196  aIkwHOOldvkQFo6-_EU4Yw                       0.426746\n"
     ]
    }
   ],
   "source": [
    "similar_df = pd.DataFrame(columns=['id', 'similarity_value_with_one_hot'])\n",
    "\n",
    "for index in range(len(title_a_lst)):\n",
    "    print('the primary job title:', title_a_lst[index])\n",
    "    similar_df['id'] = review_df.loc[1:, 'review_id']\n",
    "    similar_df['similarity_value_with_one_hot'] = similarity_values\n",
    "    similar_df_new=similar_df.sort_values(by='similarity_value_with_one_hot', ascending=False)\n",
    "    print(similar_df_new[0:3])\n",
    "\n",
    "# similar_df.sort_values(by='similarity_value_with_one_hot', ascending=False)"
   ]
  }
 ],
 "metadata": {
  "kernelspec": {
   "display_name": "Python [conda env:compsoc] *",
   "language": "python",
   "name": "conda-env-compsoc-py"
  },
  "language_info": {
   "codemirror_mode": {
    "name": "ipython",
    "version": 3
   },
   "file_extension": ".py",
   "mimetype": "text/x-python",
   "name": "python",
   "nbconvert_exporter": "python",
   "pygments_lexer": "ipython3",
   "version": "3.8.13"
  }
 },
 "nbformat": 4,
 "nbformat_minor": 5
}