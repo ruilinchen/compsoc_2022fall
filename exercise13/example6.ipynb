{
 "cells": [
  {
   "cell_type": "markdown",
   "id": "d4abab8f",
   "metadata": {
    "pycharm": {
     "name": "#%% md\n"
    }
   },
   "source": [
    "### Task 1. Create one pandas dataframe that combines all the data scraped from May 22, 2022 together. Drop rows with missing job titles and/or job descriptions. Use `spacy` to tokenize all the job titles included in the cleaned dataframe. For each job title, find all the nouns and all the adjectives in the title and get their lowercased lemmatized form. Use the reformatted nouns to construct a vocabulary set for this dataframe. How many unique nouns are there? Construct another vocabulary set using the reformatted adjectives. How many unique adjectives are there? What kind of different information do the nouns versus the adjectives reveal about the specific job? "
   ]
  },
  {
   "cell_type": "code",
   "execution_count": 1,
   "id": "7f44db89",
   "metadata": {
    "pycharm": {
     "name": "#%%\n"
    }
   },
   "outputs": [],
   "source": [
    "import os\n",
    "import numpy as np\n",
    "import pandas as pd\n",
    "import spacy\n",
    "import re\n",
    "import glob\n",
    "from tqdm import tqdm\n",
    "nlp = spacy.load('en_core_web_sm')\n",
    "os.chdir('/Users/[editted]/Documents/BC/SOCY7700/compSoc/homework 13/indeed_scraped_data')"
   ]
  },
  {
   "cell_type": "code",
   "execution_count": 5,
   "id": "895538b9",
   "metadata": {
    "pycharm": {
     "name": "#%%\n"
    }
   },
   "outputs": [
    {
     "name": "stderr",
     "output_type": "stream",
     "text": [
      "/var/folders/6j/g9631c1s65l0d3hl76jkmfc40000gn/T/ipykernel_16008/3560853125.py:4: FutureWarning: The frame.append method is deprecated and will be removed from pandas in a future version. Use pandas.concat instead.\n",
      "  May22= May22.append(read_file, ignore_index=True)\n",
      "/var/folders/6j/g9631c1s65l0d3hl76jkmfc40000gn/T/ipykernel_16008/3560853125.py:4: FutureWarning: The frame.append method is deprecated and will be removed from pandas in a future version. Use pandas.concat instead.\n",
      "  May22= May22.append(read_file, ignore_index=True)\n",
      "/var/folders/6j/g9631c1s65l0d3hl76jkmfc40000gn/T/ipykernel_16008/3560853125.py:4: FutureWarning: The frame.append method is deprecated and will be removed from pandas in a future version. Use pandas.concat instead.\n",
      "  May22= May22.append(read_file, ignore_index=True)\n",
      "/var/folders/6j/g9631c1s65l0d3hl76jkmfc40000gn/T/ipykernel_16008/3560853125.py:4: FutureWarning: The frame.append method is deprecated and will be removed from pandas in a future version. Use pandas.concat instead.\n",
      "  May22= May22.append(read_file, ignore_index=True)\n",
      "/var/folders/6j/g9631c1s65l0d3hl76jkmfc40000gn/T/ipykernel_16008/3560853125.py:4: FutureWarning: The frame.append method is deprecated and will be removed from pandas in a future version. Use pandas.concat instead.\n",
      "  May22= May22.append(read_file, ignore_index=True)\n",
      "/var/folders/6j/g9631c1s65l0d3hl76jkmfc40000gn/T/ipykernel_16008/3560853125.py:4: FutureWarning: The frame.append method is deprecated and will be removed from pandas in a future version. Use pandas.concat instead.\n",
      "  May22= May22.append(read_file, ignore_index=True)\n"
     ]
    },
    {
     "name": "stdout",
     "output_type": "stream",
     "text": [
      "Index(['lnks_link', 'lnks_job_title', 'lnks_company', 'lnks_company_url',\n",
      "       'lnks_company_location', 'lnks_job_description'],\n",
      "      dtype='object')\n",
      "(4803, 7)\n"
     ]
    }
   ],
   "source": [
    "May22= pd. DataFrame()\n",
    "for file in glob.glob('*.csv'):\n",
    "    read_file = pd.read_csv(file)\n",
    "    May22= May22.append(read_file, ignore_index=True)\n",
    "print(May22.columns)\n",
    "cleaned_may22 = May22.dropna(subset=['lnks_job_title','lnks_job_description'])\n",
    "cleaned_may22.to_csv('cleaned_may22.csv')\n",
    "cleaned_may22 =pd.read_csv('cleaned_may22.csv')\n",
    "print(cleaned_may22.shape)\n",
    "job_df = cleaned_may22.dropna(subset=['lnks_job_title']).reset_index()"
   ]
  },
  {
   "cell_type": "code",
   "execution_count": 6,
   "id": "1348382d",
   "metadata": {
    "pycharm": {
     "name": "#%%\n"
    }
   },
   "outputs": [
    {
     "name": "stderr",
     "output_type": "stream",
     "text": [
      "100%|██████████████████████████████████████| 4803/4803 [00:31<00:00, 151.65it/s]"
     ]
    },
    {
     "name": "stdout",
     "output_type": "stream",
     "text": [
      "['contract', 'business', 'entry', 'business', 'purchasing', 'time', 'plant', 'manager', 'consultant', 'pilot', 'meat', 'lab', 'secretary', 'pharmacist', 'charge', 'meat', 'time', 'accountant', '|', 'living', 'fitter', 'lead', 'lab', 'counsel', 'planning', 'supervisor', 'safety', 'consultant', 'specialist', 'rate', 'training', 'shift', 'hvac', 'time', 'operation', 'technician', 'l2', 'collection', 'operation', 'aviation', 'support', 'technician', 'compliance', 'management', 'time', 'technician', 'day', 'hr', 'day', 'am', 'am', 'documentation', 'coordinator', 'mortgage', 'time', 'lead', 'consultant', 'pharmacist', 'hour', 'hour', 'pay', 'increase', 'blakeney', 'shift', 'manufacturing', 'trial', 'laboratory', 'class', 'supervisor', 'accounting', 'program', 'manager', 'surveillance', 'consultant', 'travel', 'nursing', 'event', 'maintenance', 'tax', 'supervisor', 'manager', 'surgery', 'pharmacist', 'product', 'security', 'consultant', 'robotic', 'operation', 'director', 'hr', 'time', 'time', 'tracking', 'meat', 'hour', 'food', 'safety/', 'nursing', 'inspector', 'time', 'pharmacist', 'ga', 'hour', 'lead', 'transportation', 'case', 'manager', 'compliance', 'time', 'contract', 'mortgage', 'supervisor', 'teacher', 'facility', 'technician', 'pharmacist', 'charge', 'production', 'quality', 'consultant', 'reporting', 'specialist', 'event', 'manager', 'consumer', 'compliance', 'meat', 'supervisor', 'coordinator', 'shift', 'time', 'compliance', 'safety', '-retail', 'compliance', 'operation', 'day', 'service', 'office', 'time', 'benefit', 'specialist', 'transportation', 'rio', 'facility', 'field', 'manager', 'officer', 'supervisor', 'accountant', 'time', 'information', 'consultant', 'food', 'shift', 'accounting', 'consultant', 'afternoon', 'evening', 'shift', 'time', 'marketing', 'housekeeper', 'oversight', 'quality', 'manager', 'engineer', 'application', 'shift', 'manager', 'place', 'contract', 'service', 'pharmacist', 'class', 'time', 'client', 'safety', 'florence', 'avionic', '*', 'property', 'home', 'manufacturing', 'client', 'operation', 'refrigeration', 'technician', 'release', 'time', 'tracking', 'shift', 'facility', 'reporting', 'time', 'crime', 'helper', 'structure', 'shift', 'medium', 'production', 'technician', 'revenue', 'time', 'nursing', 'tracking', 'radiology', 'manager', 'aid', 'account', 'risk', 'specialist', 'intelligence', 'consideration)-redding', 'assistant', 'branch', 'manager-', 'physician', 'hr', 'time', 'specialist', 'pr', 'transportation', 'benefit', 'time', 'manager', 'food', 'site', 'vaccine', 'consultant', 'consultant', 'pharmacy', 'pos', 'time', 'community', 'operation', 'weekend', 'pharmacist', 'cabin', 'heating', 'systems', 'manufacturing', 'safety', 'pharmacist', 'consultant', 'supervisor', 'endocrinology', '|', '|', 'operation', 'business', '|', 'property', 'manager', 'svp', 'shift', 'case', 'manager', 'dietitian', 'risk', '|', 'compliance', 'tuesday-', 'practice', 'time', 'manufacturing', 'e', '-', 'commerce', 'hospice', 'quality', 'nursing', 'hour', 'shift', 'north', 'day', 'employee', 'experience', 'pharmacy', 'technician', 'agent', 'assistant', 'compliance', 'position', 'reporting', 'manager', 'facility', 'manager', 'employment', 'pharmacy', 'technician', 'administrator', 'travel', 'nursing', 'tracking', 'shift', 'tracking', 'shift', 'operation', 'pharmacy', 'part', 'time', 'hr', 'd', 'e', 'shift', 'supervisor', 'consultant', 'administrator', 'consultant', 'rcsa', 'implementation', 'operation', 'tracking', 'radiology', 'teaching', 'program', 'clinician', '*', 'mcr', '*', 'adult', 'disability', 'construction', 'time', 'time', 'time', 'day', 'business', 'consultant', 'operation', 'administrator', '40hrs', 'manufacturing', 'inspection', 'counsel', 'time', 'nursing', 'shift', 'revenue', 'operation', 'community', 'program', 'risk', 'oversight', 'pharmacy', 'business', 'restaurant', 'survey', 'technician', 'consultant', 'shift', 'pharmacist', 'community', 'customer', 'accounting', 'accounting', 'compliance', 'surveillance', 'monitoring', 'tracking', 'manager', 'pharmacist', 'charge', 'event', 'supervisor', 'home', 'hour', 'work', 'home', '1969b', 'geologist', 'business', 'engineering', 'tracking', 'reporting', 'packaging', 'manager', 'account', 'oversight', 'document', 'division', 'tracking', 'nurse', 'pharmacist', 'charge', 'analyst', 'safety', 'oversight', 'recreation', 'time', 'sdc/', 'technology', 'officer', 'service', 'employment', 'event', 'document', 'pharmacy', 'technician', 'area', 'class', 'hospice', 'site', 'compliance', 'search', 'consultant', 'consultant', 'surveillance', 'consultant', 'pharmacy', 'technician', 'director', 'leader', 'fmc', 'operation', 'pharmacy', 'manufacturing', 'caregiver', 'design', 'vessel', 'store', 'marketing', 'pharmacy', 'technician', 'tracking', 'safety', 'employee', 'health', 'time', 'time', 'manufacturing', 'day', 'area', 'manager', 'doc', 'consultant', 'sleep', 'tech', 'time', 'time', 'customer', 'experience', 'access', 'class', '|', 'k', 'tech', 'manager', 'living', 'it', 'implementation', 'manager', 'day', 'compliance', 'accountant', 'shift', 'nursing', 'accounting', 'transportation', 'compliance', 'manufacturing', 'coordinator', 'tracking', 'trading', 'time', 'manager', 'consultant', 'tdhca', 'dispatch', 'support', 'technician', 'shift', 'hour', 'licensing', 'room', 'assoc', 'time', 'metrology', 'caregiver', 'time', 'am', 'pm', 'area', 'technician', 'program', 'manager', 'search', 'consultant', 'supervisor', 'nursing', 'chemist', 'time', 'production', 'manager', 'pharmacist', 'administrator', 'marketing', 'trader', 'performance', 'consultant', 'pharmacist', 'market', 'caregiver', 'time', 'risk', 'ochsner', 'time', 'call', 'management', 'teacher', 'shift', 'agent', 'tech', 'shift', 'consultant', 'reporting', 'b', 'tracking', 'operation', 'visit', 'place', 'work', 'revenue', 'time', 'teller', 'training', 'coordinator', 'time', 'teacher', 'es', 'entry', 'lsw', 'director', 'nursing', 'consultant', 'field', 'technician', 'manager', 'consultant', 'manufacturing', 'engineer', 'product', 'consultant', 'tracking', 'host', 'hostess', 'pharmacy', 'technician', 'part', 'time', 'compliance', 'time', 'business', 'technician', 'revenue', 'cycle', 'cash', 'poster', 'compliance', 'consumer', 'banking', 'representative', 'lpn', 'time', 'compliance', 'pv', 'manufacturing', 'operation', 'credit', 'trader', 'k', 'floor', 'teller', 'teacher', 'travel', 'nursing', 'travel', 'nursing', 'claim', 'service)-part', 'relationship', 'therapy', 'time', 'k', 'information', 'system', 'technician', 'production', 'associate', 'business', 'lpn', 'transportation', 'warehouse', 'rail', 'meat', 'credit', 'officer', 'helicopter', 'flight', 'instructor', 'tracking', 'licensing', 'time', 'hiring', 'teller', 'accounting', 'time', 'day', 'pharmacist', 'pathologist', 'hour', 'programmer', 'nursing', 'home', 'nmhscareer', 'engineering', 'radiology', 'enterprise', 'hr', 'coordinator', 'contract', 'oversight', 'speech', 'language', 'pathologist', 'travel', 'nursing', 'pm', '-11pm', 'inventory', 'practice', 'banking', 'customer', 'experience', 'maintenance', 'marketing', 'part', 'time', 'pr', 'am', 'pm', 'marketing', '|', '|', 'specialist', 'time', 'telecommunications', 'quality', 'chemist', 'lead', 'specialist', 't', 'production', 'experience', 'tech', 'end', 'time', 'monitoring', 'oversight', 'paralegal', 'support', 'aid', 'pharmacist', 'tracking', 'meat', 'time', 'claim', 'specialist', 'technology', 'nursing', 'shift', 'medical', 'ga', 'charge', 'blood', 'community', 'don)director', 'nursing', 'time', 'revenue', 'shift', 'shift', 'teacher', 'testing', 'quality', 'safety', 'shift', 'nursing', 'time', 'time', 'agent', 'tracking', 'lead', 'consultant', 'scientist', 'production', '-pack', 'year', 'bonus', 'manufacturing', 'staffing', 'operation', 'receiving)-part', 'hematology', 'manager', 'gateway', 'time', 'shift', 'a.', 'shift', 'operation', 'nursing', 'expense', 'control', '|', 'living', 'speciman', 'housekeeper', 'practice', 'event', 'e', '-', 'commerce', 'stability', 'benefit', '%', 'remote/25', '%', 'manager', 'revenue', 'food', 'safety', 'coordinator', 'analyst', 'consultant', 'r&d', 'time', 'day', 'business', 'improvement', 'nurse', 'consumer', 'time', 'time', 'manager', 'home', 'coordinator', 'surgery', 'opening', 'shift', 'planning', 'manager', 'hvac', 'operation', 'production', 'maintenance\\\\facilitie', 'manager', 'cma', 'program', 'delivery', 'risk', 'pharmacist', 'charge', 'i', 'time', '|', 'living', 'administrator', 'benefit', 'treasurer', 'maintenance', 'staff', '|', 'field', 'facility', 'lead', 'suffern', 'instructor', 'talent', 'consultant', 'food', 'ii-', 'engineering', 'rpm', 'steak', 'time', 'operation', 'coordinator', 'radiology', 'assistant', 'accounting', 'shift', 'consumer', 'property', 'manager', 'officer', 'consultant', '%', 'office', '|', 'officer', 'opening', 'time', 'nursing', 'home', 'nmhscareer', 'pharmacist', 'consultant', 'alternative', 'team', 'hour', 'home', 'case', 'time', 'k', 'pharmacy', 'technician', 'shift', 'pr', 'living', 'packaging', 'api', 'shift', 'nursing', 'machine', 'operator-1', 'term', 'care-', 'finance', 'unit', 'program', 'coordinator', 'consultant', 'reporting', 'cultivation', 'risk', 'pharmacy', 'technician', 'nursing', 'time', 'director', '1969b', 'restaurant', 'consultant', 'production', '-pack', 'year', 'bonus', 'contract', 'aerospace', 'meat', 'pharmacist', 'technician', 'differential', 'technician', 'compliance', 'siting', 'agent', 'compliance', 'disability', 'business', 'service', 'hour', 'material', 'construction', 'time', 'consultant', 'nursing', 'fund', 'compliance', 'consultant', 'administrator', 'service', 'hematology', 'production', 'manufacturing', 'administrator', 'pct', 'nicu', 'construction', 'work', 'transportation', 'pharmacist', 'training', '|', 'screener|washington', 'airport|scis', 'consultant', 'risk', 'technician', 'accounting', 'credit', 'lead', 'helicopter', 'flight', 'instructor', 'day', 'consultant', 'director', 'tracking', 'programmer', 'nursing', 'staffing', 'food', 'admission', 'client', 'technician', 'agent', 'pharmacy', 'technician', 'k', 'consultant', 'pharmacist', 'charge', 'caregiver', 'enterprise', 'hr', 'coordinator', 'housekeeper', 'nicu', 'shift', 'finance', 'specialist', 'agent', 'pharmacy', 'technician', 'caregiver', 'shift', 'engineering', '10th', 'nursing', 'tracking', 'consultant', 'manager', 'information', 'manufacturing', 'clinician', '*', 'mcr', '*', 'home', '|', 'clerk', 'time', 'hour', 'time', 'pharmacist', 'office', 'collateral', 'tracking', 'hour', 'manager', 'chef', 'division', 'time', 'facility', 'technician', 'training', 'floor', 'time', 'banking', 'oasis', 'credit', 'representative', 'consultant', 'horticulturist', 'benefit', 'pharmacy', 'afternoon', 'evening', 'shift', 'place', 'structure', 'accountant', 'shift', 'production', 'water', 'risk', 'operation', 'accounting', 'laboratory', 'compliance', 'radiology', 'teaching', 'program', 'testing', 'boarding', 'fmc', 'activity', 'b', 'shift', 'client', 'operation', '-19772', 'officer', 'nursing', 'advisory', 'pharmacy', 'technician', 'consultant', 'duty', 'director', '%', 'remote/25', '%', 'manager', 'meat', 'avionic', 'search', 'consultant', 'time', 'day', 'k', 'rate', 'shift', 'end', 'property', 'assistant', 'oversight', 'investigator', 'sale', 'inspection', 'robotic', 'coordinator', 'rnfa', 'consultant', 'supervisor', 'consultant', 'manufacturing', 'hour', 'time', 'day', 'shift', 'technology', 'consultant', 'lsw', 'tracking', 'customer', 'experience', 'analyst', '|', 'compliance', 'field', 'physicist', 'hospice', 'consultant', 'reporting', 'people', 'analyst', 'shift', 'facility', 'manager', 'pharmacist', 'meat', 'time', '|', 'living', 'time', 'credit', 'trader', 'string', '.4', 'teacher', 'leasing', 'coordinator', 'position', 'accounting', 'transportation', 'compliance', 'pharmacist', 'day', 'month', 'leader', '|scis', 'teacher', 'principal', 'time', 'safety', 'coordinator', 'oversight', 'consultant', 'counsel', 'specialist', 'home', 'accounting', 'accounting', 'class', 'hour', 'shift', 'north', 'accounting', 'time', 'compliance', 'class', 'manufacturing', 'operation', 'dietitian', 'fund', 'compliance', 'marketing', 'business', 'home', 'compliance', 'api', 'tdhca', 'evening', 'lead', 'cardiology', 'consultant', 'access', 'safety', 'teacher', 'travel', 'nursing', 'coordinator', 'differential', 'shift', '1969b', 'compliance', 'aml', 'home', 'hiring', 'area', 'opening', 'consultant', 'day', 'engineer', 'rail', 'nursing', 'administrator', 'pharmacist', 'charge', 'tracking', 'practice', 'pre', '-', 'op', 'claim', 'day', 'pharmacist', 'assoc', 'transportation', 'shift', 'tracking', 'transportation', 'engineering', 'teller', 'consideration)-redding', 'travel', 'nursing', 'technician', 'staff', 'modality', 'technologist-', 'day', 'day', 'manager', 'travel', 'nursing', 'tech', 'relationship', 'manufacturing', 'employment', 'mechanic', 'pharmacist', 'area', 'packaging', 'supervisor', 'sdc/', 'pharmacist', 'time', 'lpn', 'rio', 'construction', 'monitoring', 'oversight', 'pr', 'vessel', 'administrator', 'meat', 'banking', 'hour', 'accounting', 'technician', 'ehsmip', 'teller', 'shift', 'technology', 'time', 'manufacturing', 'credit', 'oversight', 'manager', 'tracking', 'consultant', 'denial', 'marketing', '|', 'rate', 'business', 'cma', 'compliance', 'surveillance', 'monitoring', 'tech', 'end', 'time', 'director', 'time', 'operation', 'risk', 'pharmacy', 'technician', 'operation', 'tracking', 'adviser', 'caregiver', 'home', 'implementation', 'command', 'post', 'training', 'manager', 'marketing', 'supervisor', 'aid', 'program', 'manager', 'oversight', 'counsel', 'caregiver', 'office', 'expense', 'program', 'manager', 'restaurant', 'risk', 'order', 'time', 'facility', 'coordinator', 'consultant', 'datum', 'community', '|', 'meat', 'time', 'time', 'oversight', 'tracking', '1969b', 'marketing', 'nursing', 'technician', 'charge', 'disability', 'engineer', 'lab', 'facility', 'teacher', 'ga', 'product', 'production', 'event', 'operation', 'time', '2nd', 'shift', 'level', 'operation', 'reporting', 'engineering', 'tracking', 'manufacturing', 'aid', 'svp', 'account', 'cma', 'meat', 'coordinator', 'oversight', 'tax', 'consultant', 'operation', 'assistant', 'assistant', 'consultant', 'pharmacist', 'shift', 'project', 'security', 'shift', 'compliance', 'service)-part', 'consultant', 'account', 'time', 'pct', 'aviation', 'compliance', 'tracking', 'opening', 'teacher', 'pharmacy', 'pos', 'intelligence', 'lbms', 'weekend', 'home', 'hour', 'shift', 'differential', 'sleep', 'tech', 'time', 'consultant', 'safety', 'tracking', 'unit', 'program', 'coordinator', 'teacher', 'hour', 'pv', 'charge', 'foreman', 'compliance', 'accounting', 'host', 'hostess', 'analyst', 'compliance', 'travel', 'nursing', 'time', 'technician', 'operation', 'k', '|', '|', 'b', 'time', 'am', 'pm', 'area', 'hybrid', 'teacher', 'delivery', '3p-3a', 'nursing', 'time', 'pathologist', 'engineer', 'account', 'care', 'house', 'construction', 'operation', 'tech', 'site', 'banking', 'radiology', 'assistant', 'pharmacist', 'time', 'representative', 'shift', 'k', 'marketing', 'manager', 'management', 'business', 'consultant', 'performance', '|', 'construction', 'consultant', '2nd', 'shift', '3p-11p', 'business', 'information', 'florence', 'chef', 'pharmacist', 'outpatient', 'reporting', 'compl', 'enterprise', 'metric', 'field', 'revenue', 'time', 'day', 'metrology', 'consultant', 'reporting', 'hour', 'specialist', 'design', 'manager', 'specialist', 'radiology', 'manager', 'time', 'facility', 'account', 'speciman', 'consultant', 'engineer', 'hr', 'manufacturing', 'o', 'wknd', 'charge', 'technician', 'case', 'manager', 'real', 'estate', 'compliance', 'property', 'gateway', 'consultant', 'marketing', 'tceq', 'consultant', 'pharmacist', 'time', 'administrator', 'relationship', 'coordinator', 'project', 'manager', 'nursing', 'shift', 'time', 'compliance', 'distribution', 'consultant', '|', 'operation', 'ky', 'alternative', 'team', 'practice', 'licensing', 'reliability', 'e', '-', 'commerce', 'recreation', 'nurse', 'reporting', 'campus', 'meat', 'room', 'living', 'position', 'p', 't', 'manufacturing', 'maintenance', 'lead', 'coordinator', 'manufacturing', 'lpn', 'licensing', 'hybrid', 'operation', 'safety', 'medical', 'community', 'ii-', 'consultant', 'reporting', 'survey', 'technician', 'time', 'am', 'pm', 'manager', 'banking', 'consultant', 'operation', 'k', 'expense', 'infection', 'time', 'p', 'pharmacy', 'technician', 'instructor', 'consultant', 'time', 'revenue', 'safety', 'manager', 'project', 'manager', 'operation', 'time', 'customer', 'experience', 'restaurant', 'production', 'teacher', 'es', 'engineering', 'vaccine', 'ldar', 'monitoring', 'information', 'system', 'safety', 'shift', 'event', 'accounting', 'consultant', 'captain', 'ton', '|', '|', '|', 'specialist', 'analyst2', 'lab', 'tracking', 'technician', 'shift', 'business', 'caregiver', 'credit', 'representative', 'secretary', 'hour', 'hvac', 'shift', 'document', 'director', 'surveillance', 'tracking', 'trading', 'laboratory', 'revenue', 'consultant', 'time', 'ldar', 'monitoring', 'safety', 'time', 'consultant', 'business', 'meat', 'surgery', 'receiving)-part', 'work', 'screener|washington', 'airport|scis', 'work', 'home', 'licensing', 'compliance', 'production', 'technician', 'consultant', 'lpn', 'operation', 'it', 'it', 'operation', 'pharmacist', 'charge', 'service', 'ldar', 'monitoring', 'supervisor', 'time', 'tracking', 'radiology', 'radiology', 'ochsner', 'time', 'call', 'banking', 'supervisor', 'shift', 'branch', 'manager-', 'shift', 'site', 'benefit', 'operation', '1969b', 'accounting', 'pharmacist', 'charge', 'teller', 'case', 'time', 'search', 'consultant', 'management', 'shift', 'class', 'visit', 'place', 'work', 'consultant', 'rrus/393/2022', 'event', 'compliance', 'production', 'associate', 'inventory', 'risk', 'hour', 'day', 'shift', 'disposal', 'attendant', 'experience', 'training', 'rpm', 'steak', 'quality', 'chemist', 'event', 'transportation', 'operation', 'facility', 'manager', 'administrator', 'quality', 'meat', 'lead', 'consultant', 'scientist', 'operation', 'building', 'inspector', '|', 'living', 'geologist', 'compliance', 'dispatch', 'support', 'technician', 'shift', 'machine', 'operator-1', 'shift', 'trader', 'us_sr', 'ad', 'ehs&s', 'material', 'pharmacist', 'pharmacist', 'charge', 'principal', 'maintenance', 'weekend', 'consultant', 'compliance', 'food', 'compliance', 'home', 'event', 'class', 'day', 'hr', 'day', 'am', 'am', 'enterprise', 'time', 'day', 'accounting', 'entry', 'time', 'supervisor', 'distribution', 'clinical', 'blakeney', 'rate', 'purchasing', 'time', 'accounting', 'operation', 'lab', 'technician', 'technology', 'manager', 'assistant', 'tracking', 'entry', 'time', 'product', 'consultant', 'compliance', 'pilot', 'time', 'chemist', 'shift', 'plant', 'manager']\n",
      "['licensed', 'surgical', 'dairy', 'senior', 'full', 'certified', 'senior', 'registered', 'new', 'senior', 'full', 'full', 'financial', 'full', 'senior', 'full', 'radiologic', 'senior', 'recent', '3rd', 'payable', 'environmental', 'registered', 'whole', 'senior', 'paramedic', 'surgical', 'paramedic', 'registered', 'sanitarian', 'full', 'full', 'spanish', 'technician', 'paramedic', 'iosha', 'full', 'psychiatrist', 'full', 'registered', 'associate', 'psychiatrist', 'analytics', 'senior', 'full', 'advisory', 'paramedic', 'registered', 'senior', 'advisory', 'osha', 'respiratory', 'full', 'western', 'associate', 'senior', 'senior', 'registered', 'practical', 'western', 'full', 'full', 'radiologic', 'western', 'respiratory', '3rd', 'good', 'respiratory', 'full', 'senior', 'personal', 'universal', 'western', 'western', 'full', 'full', 'western', 'senior', 'full', 'regulatory', 'surgical', 'full', 'full', 'full', 'associate', 'remote', 'senior', 'excelsior', 'full', 'us-', 'full', 'full', 'commercial', 'real', 'registered', 'registered', 'universal', 'clinical', 'residential', 'full', 'universal', 'full', 'paramedic', 'tiktok', 'senior', 'senior', 'regulatory', 'global', 'total', 'western', 'clinical', 'senior', 'total', 'residential', 'full', 'paramedic', 'associate', 'full', 'full', 'registered', 'registered', 'compl', 'corporate', 'full', 'western', 'administrative', 'senior', 'spanish', 'preferred', 'commercial', 'regional', 'whole', 'total', 'financial', 'full', 'senior', 'environmental', 'respiratory', 'remote', 'legal', 'us-', 'paramedic', 'registered', 'paramedic', 'full', 'full', 'full', 'compl', 'full', 'regulatory', 'full', 'registered', 'full', 'direct', 'environmental', 'senior', 'registered', 'registered', 'senior', '-universal', 'full', 'environmental', 'early', 'psychiatrist', 'whole', 'full', 'paramedic', 'whole', 'full', 'commercial', 'commercial', 'psychiatrist', 'full', 'full', 'financial', 'corporate', 'full', 'analytics', 'financial', 'skilled', 'top', 'full', 'registered', 'legislative', 'senior', 'senior', 'full', 'microbiologist', 'licensed', 'pharmacist', 'full', 'full', 'global', 'full', 'part', 'archaeological', 'early', 'full', 'environmental', 'registered', 'legal', 'full', 'psychiatrist', 'full', 'senior', 'senior', 'real', 'full', 'interventional', 'senior', 'paramedic', 'paramedic', 'telemedicine', 'paramedic', 'registered', 'operational', 'full', 'dietary', 'advanced', 'full', 'full', 'senior', 'full', '1st', 'full', 'paramedic', 'respiratory', 'associate', 'personal', 'full', 'dietitian', 'full', 'environmental', 'first', 'whole', 'paramedic', 'operational', 'full', 'personal', 'corporate', 'licensed', 'practical', 'technician', 'private', 'tiktok', 'registered', 'technician', 'senior', 'regional', 'public', 'full', 'registered', 'registered', 'full', 'full', 'registered', 'registered', 'human', 'radiologic', 'part', 'practical', 'associate', 'environmental', 'registered', 'full', 'regional', 'senior', 'paramedic', 'whole', 'full', 'senior', 'full', 'registered', 'paramedic', 'long', 'analytics', 'licensed', 'paramedic', 'senior', 'clinical', 'full', 'regulatory', 'gfcii', 'compl', 'virtual', 'early', 'first', 'advanced', 'early', '-inpatient', 'registered', 'compl', 'paramedic', 'senior', 'paramedic', 'paramedic', 'paramedic', 'compl', 'full', 'full', 'senior', 'whole', 'residential', 'registered', 'available', 'corporate', 'early', 'paramedic', 'regulatory', 'paramedic', 'western', 'environmental', 'commercial', 'commercial', 'respiratory', 'remote', 'pharmacist', 'full', 'full', 'senior', 'surgical', 'senior', 'whole', 'whole', 'commercial', 'full', 'residential', 'paramedic', 'western', 'full', 'senior', 'full', 'registered', 'full', 'full', 'public', 'paramedic', 'full', 'respiratory', 'full', 'surgical', 'environmental', 'powered', 'surgical', 'regulatory', 'good', 'registered', 'western', 'advisory', 'western', 'full', 'registered', 'registered', 'registered', 'full', 'new', 'senior', 'psychiatrist', 'full', 'respiratory', 'western', 'clinical', 'medical', 'analytics', 'radiologic', 'financial', 'western', 'full', 'full', 'total', 'advisory', 'environmental', 'registered', 'paramedic', 'full', 'corporate', 'paramedic', 'associate', 'full', 'senior', 'registered', 'senior', 'full', '-', 'clinical', 'respiratory', 'senior', 'registered', 'licensed', 'western', 'financial', 'paramedic', 'senior', 'western', 'western', 'registered', 'remote', 'multi', 'practical', 'skilled', 'environmental', '-inpatient', 'paramedic', 'paramedic', 'western', 'full', 'western', 'registered', 'senior', 'environmental', 'full', 'senior', '1st', 'whole', 'full', 'financial', 'other', 'licensed', 'practical', 'advanced', 'full', 'full', 'small', 'remote', 'operational', 'sanitarian', 'financial', 'corporate', 'us-', 'environmental', 'full', 'full', 'full', 'western', 'western', 'financial', 'early', 'paramedic', 'associate', 'senior', 'certified', '5th', 'full', 'corporate', 'regulatory', 'paramedic', 'western', 'full', 'registered', 'mid', '-', 'clinical', 'western', 'full', 'dietary', 'full', 'full', 'technician', 'part', 'global', '-universal', 'senior', 'global', 'financial', 'full', 'regulatory', 'respiratory', 'full', 'paramedic', 'total', 'full', 'residential', 'paramedic', 'full', 'early', 'senior', 'paramedic', 'universal', 'registered', 'full', 'analytics', 'full', 'technician', 'analyst', 'residential', 'associate', 'paramedic', 'full', 'surgical', 'associate', 'full', 'public', 'tiktok', 'paramedic', 'psychiatrist', 'environmental', 'senior', 'remote', 'corporate', 'analytics', 'compl', 'full', 'registered', 'full', 'real', 'whole', 'clinical', 'environmental', 'environmental', 'full', 'registered', 'paramedic', 'full', 'human', 'microbiologist', 'registered', 'paramedic', 'gfcii', 'compl', 'full', 'paramedic', 'associate', 'virtual', 'full', 'licensed', 'available', 'registered', 'legal', 'senior', 'registered', 'associate', 'technician', 'radiologist', 'full', 'whole', 'interventional', 'full', 'whole', 'environmental', 'excelsior', 'operational', 'paramedic', 'full', 'registered', 'psychiatrist', 'top', 'commercial', 'legal', 'paramedic', 'osha', 'paramedic', 'environmental', 'registered', 'compl', 'registered', 'whole', 'paramedic', 'senior', 'senior', 'certified', 'full', 'full', 'senior', 'paramedic', 'registered', 'new', 'registered', 'residential', 'paramedic', 'surgical', 'technician', 'full', 'senior', 'full', 'dairy']\n",
      "1708\n",
      "575\n"
     ]
    },
    {
     "name": "stderr",
     "output_type": "stream",
     "text": [
      "\n"
     ]
    }
   ],
   "source": [
    "all_nouns=[]\n",
    "all_adjs=[]\n",
    "\n",
    "for i in tqdm(range(len(job_df))):\n",
    "    job_title = job_df.loc[i, 'lnks_job_title']\n",
    "    for token in nlp(job_title):\n",
    "        if token.pos_ == \"NOUN\":\n",
    "            all_nouns.append(token.lemma_.lower())\n",
    "        if token.pos_ == \"ADJ\":\n",
    "            all_adjs.append(token.lemma_.lower())\n",
    "print(all_nouns)\n",
    "print(all_adjs)\n",
    "print(len(all_nouns))\n",
    "print(len(all_adjs))"
   ]
  },
  {
   "cell_type": "code",
   "execution_count": 7,
   "id": "577989f4",
   "metadata": {
    "pycharm": {
     "name": "#%%\n"
    }
   },
   "outputs": [
    {
     "name": "stderr",
     "output_type": "stream",
     "text": [
      "100%|██████████████████████████████████████| 4803/4803 [00:29<00:00, 162.05it/s]"
     ]
    },
    {
     "name": "stdout",
     "output_type": "stream",
     "text": [
      "there are 364 unique nouns among indeed job titles on May 22\n"
     ]
    },
    {
     "name": "stderr",
     "output_type": "stream",
     "text": [
      "\n"
     ]
    }
   ],
   "source": [
    "noun_with_freq = dict()\n",
    "\n",
    "for i in tqdm(range(len(job_df))):\n",
    "    job_title = job_df.loc[i, 'lnks_job_title']\n",
    "    for token in nlp(job_title):\n",
    "         if token.pos_ == \"NOUN\":\n",
    "            noun_with_freq[token.lemma_.lower()] = noun_with_freq.get(token.lemma_.lower(), 0) + 1\n",
    "\n",
    "noun_list = list(noun_with_freq.keys())\n",
    "print('there are', len(noun_list), 'unique nouns among indeed job titles on May 22')"
   ]
  },
  {
   "cell_type": "code",
   "execution_count": 8,
   "id": "0e6071e8",
   "metadata": {
    "pycharm": {
     "name": "#%%\n"
    }
   },
   "outputs": [
    {
     "name": "stderr",
     "output_type": "stream",
     "text": [
      "100%|██████████████████████████████████████| 4803/4803 [00:28<00:00, 167.97it/s]"
     ]
    },
    {
     "name": "stdout",
     "output_type": "stream",
     "text": [
      "there are 84 unique adjectives among indeed job titles on May 22\n"
     ]
    },
    {
     "name": "stderr",
     "output_type": "stream",
     "text": [
      "\n"
     ]
    }
   ],
   "source": [
    "adj_with_freq = dict()\n",
    "\n",
    "for i in tqdm(range(len(job_df))):\n",
    "    job_title = job_df.loc[i, 'lnks_job_title']\n",
    "    for token in nlp(job_title):\n",
    "         if token.pos_ == \"ADJ\":\n",
    "            adj_with_freq[token.lemma_.lower()] = adj_with_freq.get(token.lemma_.lower(), 0) + 1\n",
    "\n",
    "adj_list = list(adj_with_freq.keys())\n",
    "print('there are', len(adj_list), 'unique adjectives among indeed job titles on May 22')"
   ]
  },
  {
   "cell_type": "code",
   "execution_count": 9,
   "id": "2b30f2f0",
   "metadata": {
    "pycharm": {
     "name": "#%%\n"
    }
   },
   "outputs": [
    {
     "name": "stdout",
     "output_type": "stream",
     "text": [
      "['contract', 'business', 'entry', 'purchasing', 'time', 'plant', 'manager', 'consultant', 'pilot', 'meat', 'lab', 'secretary', 'pharmacist', 'charge', 'accountant', '|', 'living', 'fitter', 'lead', 'counsel', 'planning', 'supervisor', 'safety', 'specialist', 'rate', 'training', 'shift', 'hvac', 'operation', 'technician', 'l2', 'collection', 'aviation', 'support', 'compliance', 'management', 'day', 'hr', 'am', 'documentation', 'coordinator', 'mortgage', 'hour', 'pay', 'increase', 'blakeney', 'manufacturing', 'trial', 'laboratory', 'class', 'accounting', 'program', 'surveillance', 'travel', 'nursing', 'event', 'maintenance', 'tax', 'surgery', 'product', 'security', 'robotic', 'director', 'tracking', 'food', 'safety/', 'inspector', 'ga', 'transportation', 'case', 'teacher', 'facility', 'production', 'quality', 'reporting', 'consumer', '-retail', 'service', 'office', 'benefit', 'rio', 'field', 'officer', 'information', 'afternoon', 'evening', 'marketing', 'housekeeper', 'oversight', 'engineer', 'application', 'place', 'client', 'florence', 'avionic', '*', 'property', 'home', 'refrigeration', 'release', 'crime', 'helper', 'structure', 'medium', 'revenue', 'radiology', 'aid', 'account', 'risk', 'intelligence', 'consideration)-redding', 'assistant', 'branch', 'manager-', 'physician', 'pr', 'site', 'vaccine', 'pharmacy', 'pos', 'community', 'weekend', 'cabin', 'heating', 'systems', 'endocrinology', 'svp', 'dietitian', 'tuesday-', 'practice', 'e', '-', 'commerce', 'hospice', 'north', 'employee', 'experience', 'agent', 'position', 'employment', 'administrator', 'part', 'd', 'rcsa', 'implementation', 'teaching', 'clinician', 'mcr', 'adult', 'disability', 'construction', '40hrs', 'inspection', 'restaurant', 'survey', 'customer', 'monitoring', 'work', '1969b', 'geologist', 'engineering', 'packaging', 'document', 'division', 'nurse', 'analyst', 'recreation', 'sdc/', 'technology', 'area', 'search', 'leader', 'fmc', 'caregiver', 'design', 'vessel', 'store', 'health', 'doc', 'sleep', 'tech', 'access', 'k', 'it', 'trading', 'tdhca', 'dispatch', 'licensing', 'room', 'assoc', 'metrology', 'pm', 'chemist', 'trader', 'performance', 'market', 'ochsner', 'call', 'b', 'visit', 'teller', 'es', 'lsw', 'host', 'hostess', 'cycle', 'cash', 'poster', 'banking', 'representative', 'lpn', 'pv', 'credit', 'floor', 'claim', 'service)-part', 'relationship', 'therapy', 'system', 'associate', 'warehouse', 'rail', 'helicopter', 'flight', 'instructor', 'hiring', 'pathologist', 'programmer', 'nmhscareer', 'enterprise', 'speech', 'language', '-11pm', 'inventory', 'telecommunications', 't', 'end', 'paralegal', 'medical', 'blood', 'don)director', 'testing', 'scientist', '-pack', 'year', 'bonus', 'staffing', 'receiving)-part', 'hematology', 'gateway', 'a.', 'expense', 'control', 'speciman', 'stability', '%', 'remote/25', 'r&d', 'improvement', 'opening', 'maintenance\\\\facilitie', 'cma', 'delivery', 'i', 'treasurer', 'staff', 'suffern', 'talent', 'ii-', 'rpm', 'steak', 'alternative', 'team', 'api', 'machine', 'operator-1', 'term', 'care-', 'finance', 'unit', 'cultivation', 'aerospace', 'differential', 'siting', 'material', 'fund', 'pct', 'nicu', 'screener|washington', 'airport|scis', 'admission', '10th', 'clerk', 'collateral', 'chef', 'oasis', 'horticulturist', 'water', 'boarding', 'activity', '-19772', 'advisory', 'duty', 'investigator', 'sale', 'rnfa', 'physicist', 'people', 'string', '.4', 'leasing', 'month', '|scis', 'principal', 'cardiology', 'aml', 'pre', 'op', 'modality', 'technologist-', 'mechanic', 'ehsmip', 'denial', 'adviser', 'command', 'post', 'order', 'datum', '2nd', 'level', 'project', 'lbms', 'foreman', 'hybrid', '3p-3a', 'care', 'house', '3p-11p', 'outpatient', 'compl', 'metric', 'o', 'wknd', 'real', 'estate', 'tceq', 'distribution', 'ky', 'reliability', 'campus', 'p', 'infection', 'ldar', 'captain', 'ton', 'analyst2', 'rrus/393/2022', 'disposal', 'attendant', 'building', 'us_sr', 'ad', 'ehs&s', 'clinical']\n",
      "['licensed', 'surgical', 'dairy', 'senior', 'full', 'certified', 'registered', 'new', 'financial', 'radiologic', 'recent', '3rd', 'payable', 'environmental', 'whole', 'paramedic', 'sanitarian', 'spanish', 'technician', 'iosha', 'psychiatrist', 'associate', 'analytics', 'advisory', 'osha', 'respiratory', 'western', 'practical', 'good', 'personal', 'universal', 'regulatory', 'remote', 'excelsior', 'us-', 'commercial', 'real', 'clinical', 'residential', 'tiktok', 'global', 'total', 'compl', 'corporate', 'administrative', 'preferred', 'regional', 'legal', 'direct', '-universal', 'early', 'skilled', 'top', 'legislative', 'microbiologist', 'pharmacist', 'part', 'archaeological', 'interventional', 'telemedicine', 'operational', 'dietary', 'advanced', '1st', 'dietitian', 'first', 'private', 'public', 'human', 'long', 'gfcii', 'virtual', '-inpatient', 'available', 'powered', 'medical', '-', 'multi', 'other', 'small', '5th', 'mid', 'analyst', 'radiologist']\n"
     ]
    }
   ],
   "source": [
    "print(noun_list)\n",
    "print(adj_list)"
   ]
  },
  {
   "cell_type": "markdown",
   "id": "38015010",
   "metadata": {
    "pycharm": {
     "name": "#%% md\n"
    }
   },
   "source": [
    "#### There are 364 unique nouns and 84 unique adjs. The number of nouns is much larger than the number of adjectives, which means there are many different job titles, but the requirements for these jobs are similar. For example, most jobs are full time or require licensed."
   ]
  },
  {
   "cell_type": "markdown",
   "id": "17d543fc",
   "metadata": {
    "pycharm": {
     "name": "#%% md\n"
    }
   },
   "source": [
    "### Task 2. Choose the first job title in your dataframe as the primary string. Use one-hot encoding as the word embedding method and find jobs in your cleaned dataframe that have similar nouns in the title as your primary string."
   ]
  },
  {
   "cell_type": "code",
   "execution_count": 10,
   "id": "fba3ce93",
   "metadata": {
    "pycharm": {
     "name": "#%%\n"
    }
   },
   "outputs": [
    {
     "name": "stderr",
     "output_type": "stream",
     "text": [
      "100%|██████████████████████████████████████| 4803/4803 [00:28<00:00, 167.63it/s]\n"
     ]
    }
   ],
   "source": [
    "vocab_with_freq = dict()\n",
    "\n",
    "for i in tqdm(range(len(job_df))):\n",
    "    job_title = job_df.loc[i, 'lnks_job_title']\n",
    "    for token in nlp(job_title):\n",
    "        if token.is_alpha:\n",
    "            vocab_with_freq[token.lemma_.lower()] = vocab_with_freq.get(token.lemma_.lower(), 0) + 1\n",
    "\n",
    "vocabulary_list = list(vocab_with_freq.keys())"
   ]
  },
  {
   "cell_type": "code",
   "execution_count": 11,
   "id": "f3175fb6",
   "metadata": {
    "pycharm": {
     "name": "#%%\n"
    }
   },
   "outputs": [
    {
     "name": "stderr",
     "output_type": "stream",
     "text": [
      "100%|██████████████████████████████████████| 4803/4803 [00:30<00:00, 159.96it/s]\n"
     ]
    }
   ],
   "source": [
    "one_hot_encodings = []\n",
    "\n",
    "for i in tqdm(range(len(job_df))):\n",
    "    job_title = job_df.loc[i, 'lnks_job_title'] \n",
    "    token_indices = []\n",
    "\n",
    "    for token in nlp(job_title):\n",
    "        if token.is_alpha and token.lemma_.lower() in vocabulary_list:\n",
    "            token_index_in_vocab = vocabulary_list.index(token.lemma_.lower())\n",
    "            token_indices.append(token_index_in_vocab)\n",
    "        \n",
    "#         if token.is_alpha:\n",
    "#             token_index_in_vocab = vocabulary_list.index(token.lemma_.lower())\n",
    "#             token_indices.append(token_index_in_vocab)\n",
    "\n",
    "\n",
    "    one_hot_encoding = np.zeros(len(vocabulary_list))\n",
    "    for token_index in token_indices:\n",
    "        one_hot_encoding[token_index] = 1\n",
    "\n",
    "    one_hot_encodings.append(one_hot_encoding)"
   ]
  },
  {
   "cell_type": "code",
   "execution_count": 12,
   "id": "bbaeed8e",
   "metadata": {
    "pycharm": {
     "name": "#%%\n"
    }
   },
   "outputs": [
    {
     "data": {
      "text/plain": [
       "(4803, 2047)"
      ]
     },
     "execution_count": 12,
     "metadata": {},
     "output_type": "execute_result"
    }
   ],
   "source": [
    "np.array(one_hot_encodings).shape"
   ]
  },
  {
   "cell_type": "code",
   "execution_count": 14,
   "id": "4a546c36",
   "metadata": {
    "pycharm": {
     "name": "#%%\n"
    }
   },
   "outputs": [
    {
     "name": "stderr",
     "output_type": "stream",
     "text": [
      " 32%|███████████▍                        | 1532/4802 [00:00<00:00, 15318.63it/s]/Users/apple/opt/anaconda3/lib/python3.9/site-packages/scipy/spatial/distance.py:699: RuntimeWarning: invalid value encountered in double_scalars\n",
      "  dist = 1.0 - uv / np.sqrt(uu * vv)\n",
      "100%|████████████████████████████████████| 4802/4802 [00:00<00:00, 15077.26it/s]\n"
     ]
    }
   ],
   "source": [
    "from scipy.spatial.distance import cosine\n",
    "title_a = job_df.loc[0, 'lnks_job_title']\n",
    "similarity_values = []\n",
    "for i in tqdm(range(1, len(job_df))):\n",
    "    similarity_value = 1 - cosine(one_hot_encodings[0], one_hot_encodings[i])\n",
    "    similarity_values.append(similarity_value)"
   ]
  },
  {
   "cell_type": "code",
   "execution_count": 15,
   "id": "a051c7d4",
   "metadata": {
    "pycharm": {
     "name": "#%%\n"
    }
   },
   "outputs": [
    {
     "name": "stdout",
     "output_type": "stream",
     "text": [
      "the primary job title: Maintenance Controller (A&P) Technician\n"
     ]
    },
    {
     "data": {
      "text/html": [
       "<div>\n",
       "<style scoped>\n",
       "    .dataframe tbody tr th:only-of-type {\n",
       "        vertical-align: middle;\n",
       "    }\n",
       "\n",
       "    .dataframe tbody tr th {\n",
       "        vertical-align: top;\n",
       "    }\n",
       "\n",
       "    .dataframe thead th {\n",
       "        text-align: right;\n",
       "    }\n",
       "</style>\n",
       "<table border=\"1\" class=\"dataframe\">\n",
       "  <thead>\n",
       "    <tr style=\"text-align: right;\">\n",
       "      <th></th>\n",
       "      <th>job_title</th>\n",
       "      <th>similarity_value_with_one_hot</th>\n",
       "    </tr>\n",
       "  </thead>\n",
       "  <tbody>\n",
       "    <tr>\n",
       "      <th>2995</th>\n",
       "      <td>PCT1</td>\n",
       "      <td>1.0</td>\n",
       "    </tr>\n",
       "    <tr>\n",
       "      <th>4471</th>\n",
       "      <td>Maintenance Controller (A&amp;P) Technician</td>\n",
       "      <td>1.0</td>\n",
       "    </tr>\n",
       "    <tr>\n",
       "      <th>1805</th>\n",
       "      <td>Maintenance Controller (A&amp;P) Technician</td>\n",
       "      <td>1.0</td>\n",
       "    </tr>\n",
       "    <tr>\n",
       "      <th>4786</th>\n",
       "      <td>Maintenance Controller (A&amp;P) Technician</td>\n",
       "      <td>1.0</td>\n",
       "    </tr>\n",
       "    <tr>\n",
       "      <th>2922</th>\n",
       "      <td>Maintenance Controller (A&amp;P) Technician</td>\n",
       "      <td>1.0</td>\n",
       "    </tr>\n",
       "    <tr>\n",
       "      <th>...</th>\n",
       "      <td>...</td>\n",
       "      <td>...</td>\n",
       "    </tr>\n",
       "    <tr>\n",
       "      <th>1634</th>\n",
       "      <td>Project Manager</td>\n",
       "      <td>0.0</td>\n",
       "    </tr>\n",
       "    <tr>\n",
       "      <th>1633</th>\n",
       "      <td>CHBS-Mental Health Professional 2</td>\n",
       "      <td>0.0</td>\n",
       "    </tr>\n",
       "    <tr>\n",
       "      <th>1632</th>\n",
       "      <td>Eligibility Specialist</td>\n",
       "      <td>0.0</td>\n",
       "    </tr>\n",
       "    <tr>\n",
       "      <th>1631</th>\n",
       "      <td>LPN</td>\n",
       "      <td>0.0</td>\n",
       "    </tr>\n",
       "    <tr>\n",
       "      <th>4802</th>\n",
       "      <td>Grants Manager</td>\n",
       "      <td>0.0</td>\n",
       "    </tr>\n",
       "  </tbody>\n",
       "</table>\n",
       "<p>4802 rows × 2 columns</p>\n",
       "</div>"
      ],
      "text/plain": [
       "                                    job_title  similarity_value_with_one_hot\n",
       "2995                                     PCT1                            1.0\n",
       "4471  Maintenance Controller (A&P) Technician                            1.0\n",
       "1805  Maintenance Controller (A&P) Technician                            1.0\n",
       "4786  Maintenance Controller (A&P) Technician                            1.0\n",
       "2922  Maintenance Controller (A&P) Technician                            1.0\n",
       "...                                       ...                            ...\n",
       "1634                          Project Manager                            0.0\n",
       "1633        CHBS-Mental Health Professional 2                            0.0\n",
       "1632                   Eligibility Specialist                            0.0\n",
       "1631                                      LPN                            0.0\n",
       "4802                           Grants Manager                            0.0\n",
       "\n",
       "[4802 rows x 2 columns]"
      ]
     },
     "execution_count": 15,
     "metadata": {},
     "output_type": "execute_result"
    }
   ],
   "source": [
    "similar_df = pd.DataFrame(columns=['job_title', 'similarity_value_with_one_hot'])\n",
    "similar_df['job_title'] = job_df.loc[1:, 'lnks_job_title']\n",
    "similar_df['similarity_value_with_one_hot'] = similarity_values\n",
    "\n",
    "print('the primary job title:', title_a)\n",
    "similar_df.sort_values(by='similarity_value_with_one_hot', ascending=False)"
   ]
  },
  {
   "cell_type": "markdown",
   "id": "f3d253f9",
   "metadata": {
    "pycharm": {
     "name": "#%% md\n"
    }
   },
   "source": [
    "### Task 3. Use spacy's word vector to do Task 2. Compare the results."
   ]
  },
  {
   "cell_type": "code",
   "execution_count": 16,
   "id": "4e7dc579",
   "metadata": {
    "pycharm": {
     "name": "#%%\n"
    }
   },
   "outputs": [
    {
     "name": "stderr",
     "output_type": "stream",
     "text": [
      "100%|██████████████████████████████████████| 4803/4803 [00:27<00:00, 177.25it/s]\n"
     ]
    },
    {
     "data": {
      "text/plain": [
       "array([ 0.78727017,  0.09429036, -0.02919043, -0.30666952, -0.01297144,\n",
       "        0.27987619, -0.66898868,  0.27417199,  0.15756936, -0.27501641,\n",
       "        0.79000243, -0.29017478,  0.03133202, -0.15388452, -0.10432748,\n",
       "       -0.21903943,  0.70736653,  0.36688579,  0.26753023,  0.0673385 ,\n",
       "       -0.43341727, -0.59232369, -0.20853953,  0.17640638,  0.596861  ,\n",
       "        0.1370358 , -0.36934622,  0.4998524 , -0.13412878,  0.71825226,\n",
       "       -0.15560199,  0.16054755, -0.48123365, -0.37997171,  0.65542783,\n",
       "       -0.06855987, -0.02637817,  0.29200202, -0.44460671, -0.06709029,\n",
       "       -0.38061566,  0.11697892, -0.58253867, -0.7207017 ,  0.26194452,\n",
       "       -0.994698  ,  0.3621341 ,  0.71141677,  0.22327731, -0.5851064 ,\n",
       "        0.25521815, -0.03231519, -0.00201882, -1.15522795, -0.06106656,\n",
       "        0.49936268,  0.70040712, -0.22699052, -0.58141122, -0.05059552,\n",
       "       -0.18371167, -0.32731748,  0.53145735, -0.52224695,  0.60769446,\n",
       "       -0.51141852,  0.07046536,  0.01111806,  0.27128419, -0.46817073,\n",
       "        0.23554573, -0.01245078,  0.04824133, -0.07287407, -0.30357064,\n",
       "        0.21188237, -0.30287224,  0.15932709, -0.357176  ,  0.28074523,\n",
       "       -0.31311761, -0.34770003,  0.23813613,  0.38317346,  0.58194516,\n",
       "        0.11818892, -0.05425486, -0.33722925, -0.51124127,  0.43556509,\n",
       "       -0.20769443, -0.59416288,  0.02382873,  0.73986775,  0.44528278,\n",
       "        0.71285242])"
      ]
     },
     "execution_count": 16,
     "metadata": {},
     "output_type": "execute_result"
    }
   ],
   "source": [
    "spacy_encoding = np.array([float(0) for i in range(96)])\n",
    "token_count = 0\n",
    "\n",
    "for i in tqdm(range(len(job_df))):\n",
    "    job_title = job_df.loc[i, 'lnks_job_title']\n",
    "\n",
    "    for token in nlp(job_title): \n",
    "        token_count += 1\n",
    "        spacy_encoding += np.array(token.vector)\n",
    "spacy_encoding /= token_count\n",
    "\n",
    "spacy_encoding"
   ]
  },
  {
   "cell_type": "markdown",
   "id": "52a4e299",
   "metadata": {
    "pycharm": {
     "name": "#%% md\n"
    }
   },
   "source": [
    "#### if we try to see the result directly, for example, we just want to get the similar words, then the method used in Q2 is much better and friendly for users. But the method used in Q3 is much better for researchers to do further research."
   ]
  },
  {
   "cell_type": "code",
   "execution_count": null,
   "id": "c2c12ba0",
   "metadata": {
    "pycharm": {
     "name": "#%%\n"
    }
   },
   "outputs": [],
   "source": []
  }
 ],
 "metadata": {
  "kernelspec": {
   "display_name": "Python 3 (ipykernel)",
   "language": "python",
   "name": "python3"
  },
  "language_info": {
   "codemirror_mode": {
    "name": "ipython",
    "version": 3
   },
   "file_extension": ".py",
   "mimetype": "text/x-python",
   "name": "python",
   "nbconvert_exporter": "python",
   "pygments_lexer": "ipython3",
   "version": "3.9.12"
  }
 },
 "nbformat": 4,
 "nbformat_minor": 5
}