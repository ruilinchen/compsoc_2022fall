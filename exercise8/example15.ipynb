{
 "cells": [
  {
   "cell_type": "markdown",
   "source": [
    "# [editted]_Coding exercise 8"
   ],
   "metadata": {
    "collapsed": false,
    "pycharm": {
     "name": "#%% md\n"
    }
   }
  },
  {
   "cell_type": "markdown",
   "source": [
    "### Task 8.1\n",
    "##### Create a bubble map for property crimes in Boston, 2019. Each bubble represents one property crime incident. Your map should look something like this example (Links to an external site.) online."
   ],
   "metadata": {
    "collapsed": false,
    "pycharm": {
     "name": "#%% md\n"
    }
   }
  },
  {
   "cell_type": "code",
   "execution_count": null,
   "outputs": [],
   "source": [
    "import os\n",
    "import pandas as pd\n",
    "import geopandas as gpd\n",
    "import folium\n",
    "import random\n",
    "import matplotlib.pyplot as plt\n",
    "\n",
    "path_homework8= \"/Users/apple/Documents/BC/SOCY7700/compSoc/homework 8\"\n",
    "os.chdir(path_homework8)\n",
    "\n",
    "crime2019_df = pd.read_csv('2019 Boston crime incident reports.csv')\n",
    "crime2019_dropdu_df=crime2019_df.drop_duplicates(subset=['INCIDENT_NUMBER', 'OFFENSE_CODE', 'DISTRICT', 'Long', 'Lat', 'SHOOTING', 'OCCURRED_ON_DATE'])\n",
    "cleaned_crime2019_df=crime2019_dropdu_df.dropna(how='any',subset=['INCIDENT_NUMBER', 'OFFENSE_CODE', 'DISTRICT', 'Long', 'Lat', 'SHOOTING', 'OCCURRED_ON_DATE'])\n",
    "cleaned_crime2019_df.to_csv('cleaned_crime2019_data.csv', index=False)\n",
    "cleaned_crime2019_df = pd.read_csv('cleaned_crime2019_data.csv')\n",
    "cleaned1_crime2019_df = cleaned_crime2019_df[cleaned_crime2019_df.DISTRICT != 'External']\n",
    "cleaned1_crime2019_df.to_csv('cleaned1_crime2019_data.csv', index=False)\n",
    "\n",
    "cleaned1_crime2019_df['violent crime']=cleaned1_crime2019_df['OFFENSE_DESCRIPTION'].str.lower().str.contains('robbery|assault|rape')\n",
    "cleaned1_crime2019_df['property crime']=cleaned1_crime2019_df['OFFENSE_DESCRIPTION'].str.lower().str.contains('burglary|larceny|theft|arson')\n",
    "\n",
    "property_crime_location = cleaned1_crime2019_df[[\"property crime\",'Long',\"Lat\"]]\n",
    "\n",
    "\n",
    "property_crime_location_gdf = gpd.GeoDataFrame(property_crime_location, geometry=gpd.points_from_xy(property_crime_location['Long'], property_crime_location['Lat']))\n",
    "\n",
    "property1_crime_location_gdf = property_crime_location_gdf[property_crime_location_gdf['Long'] < 0].reset_index()\n",
    "\n",
    "clon, clat = property1_crime_location_gdf['Long'].mean(), property1_crime_location_gdf['Lat'].mean()\n",
    "m = folium.Map(location=(clat, clon), zoom_start=12, width=800, height=800)\n",
    "\n",
    "for i in range(0,len(property1_crime_location_gdf)):\n",
    "    folium.CircleMarker(location=[property1_crime_location_gdf.iloc[i]['Lat'], property1_crime_location_gdf.iloc[i]['Long']],color='crimson',weight=1, radius=1).add_to(m)\n",
    "display(m)"
   ],
   "metadata": {
    "collapsed": false,
    "pycharm": {
     "name": "#%%\n",
     "is_executing": true
    }
   }
  },
  {
   "cell_type": "markdown",
   "source": [
    "### Task 8.2\n",
    "##### Create another bubble map for violent crimes in Boston, 2019. Use a different map design (marker color, tile style, etc).\n"
   ],
   "metadata": {
    "collapsed": false,
    "pycharm": {
     "name": "#%% md\n"
    }
   }
  },
  {
   "cell_type": "code",
   "execution_count": null,
   "outputs": [],
   "source": [
    "import os\n",
    "import pandas as pd\n",
    "import geopandas as gpd\n",
    "import folium\n",
    "import random\n",
    "import matplotlib.pyplot as plt\n",
    "\n",
    "path_homework8= \"/Users/apple/Documents/BC/SOCY7700/compSoc/homework 8\"\n",
    "os.chdir(path_homework8)\n",
    "\n",
    "\n",
    "cleaned1_crime2019_df = pd.read_csv('cleaned1_crime2019_data.csv')\n",
    "\n",
    "cleaned1_crime2019_df['violent crime']=cleaned1_crime2019_df['OFFENSE_DESCRIPTION'].str.lower().str.contains('robbery|assault|rape')\n",
    "\n",
    "violent_crime_location = cleaned1_crime2019_df[[\"violent crime\",'Long',\"Lat\"]]\n",
    "\n",
    "violent_crime_location_gdf = gpd.GeoDataFrame(violent_crime_location, geometry=gpd.points_from_xy(violent_crime_location['Long'], violent_crime_location['Lat']))\n",
    "\n",
    "violent1_crime_location_gdf = violent_crime_location_gdf[violent_crime_location_gdf['Long'] < 0].reset_index()\n",
    "\n",
    "clon, clat = violent1_crime_location_gdf['Long'].mean(), violent1_crime_location_gdf['Lat'].mean()\n",
    "m = folium.Map(location=(clat, clon), zoom_start=12, width=800, height=800, tiles=\"Cartodb Positron\")\n",
    "for i in range(0,len(violent1_crime_location_gdf)):\n",
    "    folium.CircleMarker(location=[violent1_crime_location_gdf.iloc[i]['Lat'], violent1_crime_location_gdf.iloc[i]['Long']],color='green',weight=1, radius=1).add_to(m)\n",
    "display(m)\n"
   ],
   "metadata": {
    "collapsed": false,
    "pycharm": {
     "name": "#%%\n",
     "is_executing": true
    }
   }
  },
  {
   "cell_type": "code",
   "execution_count": null,
   "outputs": [],
   "source": [
    "\n"
   ],
   "metadata": {
    "collapsed": false,
    "pycharm": {
     "name": "#%%\n",
     "is_executing": true
    }
   }
  },
  {
   "cell_type": "markdown",
   "source": [
    "### Task 8.3\n",
    "##### Calculate zoning district-level violent vs. property crime counts. Use boston's zoning map from here (Links to an external site.) to map individual crime incidents to zoning district. Create a bubble map for these two sets of counts. There should be two sets of bubbles in your map. One set represents district-level violent crime counts, and the other set district-level property crime counts. These two bubble sets should be colored differently, but the size of the bubble for both sets should indicate the relative size of the crime count. Use each district’s centroid location to place their bubbles on the map. [Hint: in geopandas,  `gdf[“geometry”].centroid` returns the centroid point of the corresponding geometry.]"
   ],
   "metadata": {
    "collapsed": false,
    "pycharm": {
     "name": "#%% md\n"
    }
   }
  },
  {
   "cell_type": "code",
   "execution_count": null,
   "outputs": [],
   "source": [
    "pip install shapely"
   ],
   "metadata": {
    "collapsed": false,
    "pycharm": {
     "name": "#%%\n",
     "is_executing": true
    }
   }
  },
  {
   "cell_type": "code",
   "execution_count": null,
   "outputs": [],
   "source": [
    "import os\n",
    "import pandas as pd\n",
    "import geopandas as gpd\n",
    "import folium\n",
    "\n",
    "import random\n",
    "import matplotlib.pyplot as plt\n",
    "import rtree\n",
    "import shapely\n",
    "\n",
    "\n",
    "path_homework8= \"/Users/apple/Documents/BC/SOCY7700/compSoc/homework 8\"\n",
    "os.chdir(path_homework8)\n",
    "boston_gdf = gpd.read_file('Boston_Zoning_Subdistricts.geojson')\n",
    "cleaned1_crime2019_df = pd.read_csv('cleaned1_crime2019_data.csv')\n",
    "\n",
    "cleaned1_crime2019_df['offense_type'] = None\n",
    "cleaned1_crime2019_df['offense_type'][cleaned1_crime2019_df['OFFENSE_DESCRIPTION'].str.lower().str.contains('robbery|assault|rape')] = 'violent crime'\n",
    "cleaned1_crime2019_df['offense_type'][cleaned1_crime2019_df['OFFENSE_DESCRIPTION'].str.lower().str.contains('burglary|larceny|theft|arson')] = 'property crime'\n",
    "\n",
    "\n",
    "crime2019_gdf = gpd.GeoDataFrame(cleaned1_crime2019_df, geometry=gpd.points_from_xy(cleaned1_crime2019_df['Long'], cleaned1_crime2019_df['Lat']))\n",
    "crime2019_with_zone_gdf = gpd.sjoin(crime2019_gdf, boston_gdf, predicate=\"within\", how='left')\n",
    "crime2019_with_zone_gdf_1 = crime2019_with_zone_gdf[crime2019_with_zone_gdf['Long'] < 0].reset_index()\n",
    "\n",
    "offense_data_district = crime2019_with_zone_gdf_1.groupby(['DISTRICT_left','offense_type']).agg({'Long': 'count','Lat': 'count'}).reset_index()\n",
    "offense_data_district\n",
    "\n",
    "clon, clat = offense_data_district['Long'].mean(), offense_data_district['Lat'].mean()\n",
    "m = folium.Map(location=(clat, clon), zoom_start=12, width=800, height=800)\n",
    "\n",
    "for i in range(len(offense_data_district)):\n",
    "    crime_index = random.randrange(0, len(offense_data_district))\n",
    "    crime_long, crime_lat = offense_data_district.loc[crime_index, 'Long'], offense_data_district.loc[crime_index, 'Lat']\n",
    "    offense_type= offense_data_district.loc[crime_index, 'offense_type']\n",
    "    if offense_type == 'violent crime':\n",
    "        folium.CircleMarker((crime_lat, crime_long), opacity=0.7, fill_color='red', weight=2, radius=20).add_to(m)\n",
    "    else:\n",
    "        folium.CircleMarker((crime_lat, crime_long), opacity=0.7, fill_color='blue', weight=2, radius=10).add_to(m)\n",
    "display(m)"
   ],
   "metadata": {
    "collapsed": false,
    "pycharm": {
     "name": "#%%\n",
     "is_executing": true
    }
   }
  },
  {
   "cell_type": "code",
   "execution_count": null,
   "outputs": [],
   "source": [
    "\n"
   ],
   "metadata": {
    "collapsed": false,
    "pycharm": {
     "name": "#%%\n",
     "is_executing": true
    }
   }
  },
  {
   "cell_type": "code",
   "execution_count": null,
   "outputs": [],
   "source": [
    "\n",
    "\n"
   ],
   "metadata": {
    "collapsed": false,
    "pycharm": {
     "name": "#%%\n",
     "is_executing": true
    }
   }
  },
  {
   "cell_type": "code",
   "execution_count": null,
   "outputs": [],
   "source": [],
   "metadata": {
    "collapsed": false,
    "pycharm": {
     "name": "#%%\n",
     "is_executing": true
    }
   }
  },
  {
   "cell_type": "code",
   "execution_count": null,
   "outputs": [],
   "source": [],
   "metadata": {
    "collapsed": false,
    "pycharm": {
     "name": "#%%\n",
     "is_executing": true
    }
   }
  }
 ],
 "metadata": {
  "kernelspec": {
   "name": "conda-env-compsoc-py",
   "language": "python",
   "display_name": "Python [conda env:compsoc] *"
  },
  "language_info": {
   "codemirror_mode": {
    "name": "ipython",
    "version": 2
   },
   "file_extension": ".py",
   "mimetype": "text/x-python",
   "name": "python",
   "nbconvert_exporter": "python",
   "pygments_lexer": "ipython2",
   "version": "2.7.6"
  }
 },
 "nbformat": 4,
 "nbformat_minor": 0
}