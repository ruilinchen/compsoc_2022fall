{
 "cells": [
  {
   "cell_type": "markdown",
   "id": "d247d1b0",
   "metadata": {
    "pycharm": {
     "name": "#%% md\n"
    }
   },
   "source": [
    "### Task 1. For each review included in the dataset, use `spacytextblob` and its inherent document-level scores to get the polarity score of the text. Create a violinplot with the x-axis being individual reviews' star rating, and the y-axis being the calculated polarity scores. Interpret the results. "
   ]
  },
  {
   "cell_type": "code",
   "execution_count": 1,
   "id": "4c504805",
   "metadata": {
    "pycharm": {
     "name": "#%%\n"
    }
   },
   "outputs": [],
   "source": [
    "import os\n",
    "import numpy as np\n",
    "import pandas as pd\n",
    "import spacy\n",
    "import re\n",
    "nlp = spacy.load('en_core_web_sm')\n",
    "import json\n",
    "from spacytextblob.spacytextblob import SpacyTextBlob\n",
    "nlp.add_pipe('spacytextblob')\n",
    "os.chdir('/Users/[editted]/Documents/BC/SOCY7700/compSoc/homework 14')"
   ]
  },
  {
   "cell_type": "code",
   "execution_count": 2,
   "id": "65f8abcb",
   "metadata": {
    "pycharm": {
     "name": "#%%\n"
    }
   },
   "outputs": [
    {
     "name": "stderr",
     "output_type": "stream",
     "text": [
      "10000it [03:50, 43.29it/s]\n"
     ]
    }
   ],
   "source": [
    "from tqdm import tqdm\n",
    "\n",
    "review_ids = []\n",
    "review_words = []\n",
    "ratings = []\n",
    "polarity_scores = []\n",
    "subjective_scores = []\n",
    "\n",
    "with open('yelp_academic_dataset_review_Nov2022_small.jsonl', 'r') as f:\n",
    "    line_index = 0\n",
    "    for line in tqdm(f):\n",
    "        line_index += 1\n",
    "        review_dict = json.loads(line)\n",
    "\n",
    "        review = review_dict['text']\n",
    "        rating = review_dict['stars']\n",
    "        review_id = review_dict['review_id']\n",
    "\n",
    "        review_doc = nlp(review)\n",
    "        subjective_phrases_in_doc = []\n",
    "        polarity_score = 0\n",
    "        subjective_score = 0\n",
    "        for assess_tuple in review_doc._.blob.sentiment_assessments.assessments:\n",
    "            subjective_phrases_in_doc.append(' '.join(assess_tuple[0]))\n",
    "            polarity_score += assess_tuple[1]\n",
    "            subjective_score += assess_tuple[2]\n",
    "\n",
    "        ratings.append(rating)\n",
    "        polarity_scores.append(polarity_score)\n",
    "        subjective_scores.append(subjective_score)\n",
    "        review_ids.append(review_id)\n",
    "        review_words.append(review)\n",
    "        "
   ]
  },
  {
   "cell_type": "code",
   "execution_count": 3,
   "id": "ffaf4fc7",
   "metadata": {
    "pycharm": {
     "name": "#%%\n"
    }
   },
   "outputs": [
    {
     "name": "stdout",
     "output_type": "stream",
     "text": [
      "(10000, 4)\n"
     ]
    },
    {
     "data": {
      "text/html": [
       "<div>\n",
       "<style scoped>\n",
       "    .dataframe tbody tr th:only-of-type {\n",
       "        vertical-align: middle;\n",
       "    }\n",
       "\n",
       "    .dataframe tbody tr th {\n",
       "        vertical-align: top;\n",
       "    }\n",
       "\n",
       "    .dataframe thead th {\n",
       "        text-align: right;\n",
       "    }\n",
       "</style>\n",
       "<table border=\"1\" class=\"dataframe\">\n",
       "  <thead>\n",
       "    <tr style=\"text-align: right;\">\n",
       "      <th></th>\n",
       "      <th>review_id</th>\n",
       "      <th>rating</th>\n",
       "      <th>polarity_score</th>\n",
       "      <th>subjective_score</th>\n",
       "    </tr>\n",
       "  </thead>\n",
       "  <tbody>\n",
       "    <tr>\n",
       "      <th>0</th>\n",
       "      <td>KU_O5udG6zpxOg-VcAEodg</td>\n",
       "      <td>3.0</td>\n",
       "      <td>1.023333</td>\n",
       "      <td>5.148333</td>\n",
       "    </tr>\n",
       "    <tr>\n",
       "      <th>1</th>\n",
       "      <td>BiTunyQ73aT9WBnpR9DZGw</td>\n",
       "      <td>5.0</td>\n",
       "      <td>4.425000</td>\n",
       "      <td>6.283333</td>\n",
       "    </tr>\n",
       "    <tr>\n",
       "      <th>2</th>\n",
       "      <td>saUsX_uimxRlCVr67Z4Jig</td>\n",
       "      <td>3.0</td>\n",
       "      <td>1.539286</td>\n",
       "      <td>5.745238</td>\n",
       "    </tr>\n",
       "    <tr>\n",
       "      <th>3</th>\n",
       "      <td>AqPFMleE6RsU23_auESxiA</td>\n",
       "      <td>5.0</td>\n",
       "      <td>2.420455</td>\n",
       "      <td>5.704545</td>\n",
       "    </tr>\n",
       "    <tr>\n",
       "      <th>4</th>\n",
       "      <td>Sx8TMOWLNuJBWer-0pcmoA</td>\n",
       "      <td>4.0</td>\n",
       "      <td>5.613571</td>\n",
       "      <td>6.872857</td>\n",
       "    </tr>\n",
       "  </tbody>\n",
       "</table>\n",
       "</div>"
      ],
      "text/plain": [
       "                review_id  rating  polarity_score  subjective_score\n",
       "0  KU_O5udG6zpxOg-VcAEodg     3.0        1.023333          5.148333\n",
       "1  BiTunyQ73aT9WBnpR9DZGw     5.0        4.425000          6.283333\n",
       "2  saUsX_uimxRlCVr67Z4Jig     3.0        1.539286          5.745238\n",
       "3  AqPFMleE6RsU23_auESxiA     5.0        2.420455          5.704545\n",
       "4  Sx8TMOWLNuJBWer-0pcmoA     4.0        5.613571          6.872857"
      ]
     },
     "execution_count": 3,
     "metadata": {},
     "output_type": "execute_result"
    }
   ],
   "source": [
    "import pandas as pd\n",
    "\n",
    "yelp_df = pd.DataFrame(columns=['review_id', 'rating', 'polarity_score', 'subjective_score'])\n",
    "yelp_df['rating'] = ratings\n",
    "yelp_df['review_id'] = review_ids\n",
    "yelp_df['polarity_score'] = polarity_scores\n",
    "yelp_df['subjective_score'] = subjective_scores\n",
    "print(yelp_df.shape)\n",
    "yelp_df.head()"
   ]
  },
  {
   "cell_type": "code",
   "execution_count": 4,
   "id": "a1b9b89b",
   "metadata": {
    "pycharm": {
     "name": "#%%\n"
    }
   },
   "outputs": [
    {
     "data": {
      "text/html": [
       "<div>\n",
       "<style scoped>\n",
       "    .dataframe tbody tr th:only-of-type {\n",
       "        vertical-align: middle;\n",
       "    }\n",
       "\n",
       "    .dataframe tbody tr th {\n",
       "        vertical-align: top;\n",
       "    }\n",
       "\n",
       "    .dataframe thead th {\n",
       "        text-align: right;\n",
       "    }\n",
       "</style>\n",
       "<table border=\"1\" class=\"dataframe\">\n",
       "  <thead>\n",
       "    <tr style=\"text-align: right;\">\n",
       "      <th></th>\n",
       "      <th>rating</th>\n",
       "      <th>polarity_score</th>\n",
       "      <th>subjective_score</th>\n",
       "    </tr>\n",
       "  </thead>\n",
       "  <tbody>\n",
       "    <tr>\n",
       "      <th>count</th>\n",
       "      <td>10000.000000</td>\n",
       "      <td>10000.000000</td>\n",
       "      <td>10000.000000</td>\n",
       "    </tr>\n",
       "    <tr>\n",
       "      <th>mean</th>\n",
       "      <td>3.854300</td>\n",
       "      <td>2.628267</td>\n",
       "      <td>6.472902</td>\n",
       "    </tr>\n",
       "    <tr>\n",
       "      <th>std</th>\n",
       "      <td>1.346719</td>\n",
       "      <td>2.597190</td>\n",
       "      <td>5.194391</td>\n",
       "    </tr>\n",
       "    <tr>\n",
       "      <th>min</th>\n",
       "      <td>1.000000</td>\n",
       "      <td>-6.522330</td>\n",
       "      <td>0.000000</td>\n",
       "    </tr>\n",
       "    <tr>\n",
       "      <th>25%</th>\n",
       "      <td>3.000000</td>\n",
       "      <td>1.036301</td>\n",
       "      <td>3.100000</td>\n",
       "    </tr>\n",
       "    <tr>\n",
       "      <th>50%</th>\n",
       "      <td>4.000000</td>\n",
       "      <td>2.300000</td>\n",
       "      <td>5.065000</td>\n",
       "    </tr>\n",
       "    <tr>\n",
       "      <th>75%</th>\n",
       "      <td>5.000000</td>\n",
       "      <td>3.802841</td>\n",
       "      <td>8.176865</td>\n",
       "    </tr>\n",
       "    <tr>\n",
       "      <th>max</th>\n",
       "      <td>5.000000</td>\n",
       "      <td>28.070649</td>\n",
       "      <td>59.124542</td>\n",
       "    </tr>\n",
       "  </tbody>\n",
       "</table>\n",
       "</div>"
      ],
      "text/plain": [
       "             rating  polarity_score  subjective_score\n",
       "count  10000.000000    10000.000000      10000.000000\n",
       "mean       3.854300        2.628267          6.472902\n",
       "std        1.346719        2.597190          5.194391\n",
       "min        1.000000       -6.522330          0.000000\n",
       "25%        3.000000        1.036301          3.100000\n",
       "50%        4.000000        2.300000          5.065000\n",
       "75%        5.000000        3.802841          8.176865\n",
       "max        5.000000       28.070649         59.124542"
      ]
     },
     "execution_count": 4,
     "metadata": {},
     "output_type": "execute_result"
    },
    {
     "data": {
      "image/png": "[encoded data removed]",
      "text/plain": [
       "<Figure size 432x288 with 1 Axes>"
      ]
     },
     "metadata": {
      "needs_background": "light"
     },
     "output_type": "display_data"
    }
   ],
   "source": [
    "import seaborn as sns\n",
    "sns.violinplot(y='polarity_score', x='rating', data=yelp_df)\n",
    "yelp_df.describe()"
   ]
  },
  {
   "cell_type": "markdown",
   "id": "a9f1bae8",
   "metadata": {
    "pycharm": {
     "name": "#%% md\n"
    }
   },
   "source": [
    "#### interpret the result: \n",
    "* from the violinplot, we can see that individuals who gave lower scores also used a lot of negative words to descripe it. For examole,  most values of polarity of people who rated 1.0 are around 0, which means they used negative or netral words to describ their experience and food they had. \n",
    "* As rating goes higher, the general values of polarity of people also go higher.\n",
    "* Another interesting thing is the range of values of polarity scores. For individuals who gave lower rating, the range of values of polarity is from around -5 to 10. But for individuals who gave higher rating, the range of values of polarity is from around -5 to 30. Maybe we can specualte that the high values of polarity made these indivaduals good, leading to high ratings."
   ]
  },
  {
   "cell_type": "markdown",
   "id": "6e75fdf3",
   "metadata": {
    "pycharm": {
     "name": "#%% md\n"
    }
   },
   "source": [
    "### Task 2. For each review included in the dataset, extract the subjective phrases in the text using  `spacytextblob` and its `sentiment_assessments.assessments` feature. Then, for each review whose review_id is in the following `target_review_ids` list, find the top 3 reviews that are most similar to it in terms of their subjective phrases. \n",
    "### Answer the following questions:\n",
    "\n",
    "* For each of the target reviews, what are the top 3 reviews that are most similar to it in terms of their subjective phrases?\n",
    "* What is the rating of each of the target reviews? What about the rating of their top 3 most similar reviews? Are they correlated? Interpret the results. \n",
    "\n",
    "### Requirement:\n",
    "\n",
    "* Use either spacy's word vector or the one-hot encoding method to get document-level word embeddings for the review text, which should be based only on the subjective phrases. \n",
    "* Use these word embeddings and the cosine similarity metric to find similar texts. "
   ]
  },
  {
   "cell_type": "code",
   "execution_count": 5,
   "id": "c7c6f700",
   "metadata": {
    "pycharm": {
     "name": "#%%\n"
    }
   },
   "outputs": [],
   "source": [
    "target_review_ids = [\"40thYphUgIfvJq17QCfTwA\", \"E9AB7V4z8xrt2uPF7T55FQ\", \"4PHFo_GRG4FEk1q4X7xQVQ\", \"4KpIldEM-tdnrJLqYzRfZQ\", \"PDHRlnEdkEcwATry4w71PQ\", \"meGaFP7yxQdjyABrYDVeoQ\", \"pgESDcC7eDx4z_epqon4_Q\", \"qeSxL-POvGLZD6aQ5O9kvw\"]"
   ]
  },
  {
   "cell_type": "code",
   "execution_count": null,
   "id": "d7de17bb",
   "metadata": {
    "pycharm": {
     "name": "#%%\n"
    }
   },
   "outputs": [],
   "source": [
    "\n"
   ]
  },
  {
   "cell_type": "code",
   "execution_count": 6,
   "id": "f7519a3b",
   "metadata": {
    "pycharm": {
     "name": "#%%\n"
    }
   },
   "outputs": [
    {
     "data": {
      "text/html": [
       "<div>\n",
       "<style scoped>\n",
       "    .dataframe tbody tr th:only-of-type {\n",
       "        vertical-align: middle;\n",
       "    }\n",
       "\n",
       "    .dataframe tbody tr th {\n",
       "        vertical-align: top;\n",
       "    }\n",
       "\n",
       "    .dataframe thead th {\n",
       "        text-align: right;\n",
       "    }\n",
       "</style>\n",
       "<table border=\"1\" class=\"dataframe\">\n",
       "  <thead>\n",
       "    <tr style=\"text-align: right;\">\n",
       "      <th></th>\n",
       "      <th>review_id</th>\n",
       "      <th>review_words</th>\n",
       "      <th>rating</th>\n",
       "      <th>polarity_score</th>\n",
       "      <th>subjective_score</th>\n",
       "    </tr>\n",
       "  </thead>\n",
       "  <tbody>\n",
       "    <tr>\n",
       "      <th>0</th>\n",
       "      <td>KU_O5udG6zpxOg-VcAEodg</td>\n",
       "      <td>If you decide to eat here, just be aware it is...</td>\n",
       "      <td>3.0</td>\n",
       "      <td>1.023333</td>\n",
       "      <td>5.148333</td>\n",
       "    </tr>\n",
       "    <tr>\n",
       "      <th>1</th>\n",
       "      <td>BiTunyQ73aT9WBnpR9DZGw</td>\n",
       "      <td>I've taken a lot of spin classes over the year...</td>\n",
       "      <td>5.0</td>\n",
       "      <td>4.425000</td>\n",
       "      <td>6.283333</td>\n",
       "    </tr>\n",
       "    <tr>\n",
       "      <th>2</th>\n",
       "      <td>saUsX_uimxRlCVr67Z4Jig</td>\n",
       "      <td>Family diner. Had the buffet. Eclectic assortm...</td>\n",
       "      <td>3.0</td>\n",
       "      <td>1.539286</td>\n",
       "      <td>5.745238</td>\n",
       "    </tr>\n",
       "    <tr>\n",
       "      <th>3</th>\n",
       "      <td>AqPFMleE6RsU23_auESxiA</td>\n",
       "      <td>Wow!  Yummy, different,  delicious.   Our favo...</td>\n",
       "      <td>5.0</td>\n",
       "      <td>2.420455</td>\n",
       "      <td>5.704545</td>\n",
       "    </tr>\n",
       "    <tr>\n",
       "      <th>4</th>\n",
       "      <td>Sx8TMOWLNuJBWer-0pcmoA</td>\n",
       "      <td>Cute interior and owner (?) gave us tour of up...</td>\n",
       "      <td>4.0</td>\n",
       "      <td>5.613571</td>\n",
       "      <td>6.872857</td>\n",
       "    </tr>\n",
       "  </tbody>\n",
       "</table>\n",
       "</div>"
      ],
      "text/plain": [
       "                review_id                                       review_words  \\\n",
       "0  KU_O5udG6zpxOg-VcAEodg  If you decide to eat here, just be aware it is...   \n",
       "1  BiTunyQ73aT9WBnpR9DZGw  I've taken a lot of spin classes over the year...   \n",
       "2  saUsX_uimxRlCVr67Z4Jig  Family diner. Had the buffet. Eclectic assortm...   \n",
       "3  AqPFMleE6RsU23_auESxiA  Wow!  Yummy, different,  delicious.   Our favo...   \n",
       "4  Sx8TMOWLNuJBWer-0pcmoA  Cute interior and owner (?) gave us tour of up...   \n",
       "\n",
       "   rating  polarity_score  subjective_score  \n",
       "0     3.0        1.023333          5.148333  \n",
       "1     5.0        4.425000          6.283333  \n",
       "2     3.0        1.539286          5.745238  \n",
       "3     5.0        2.420455          5.704545  \n",
       "4     4.0        5.613571          6.872857  "
      ]
     },
     "execution_count": 6,
     "metadata": {},
     "output_type": "execute_result"
    }
   ],
   "source": [
    "review_df = pd.DataFrame(columns=['review_id', 'review_words','rating', 'polarity_score', 'subjective_score'])\n",
    "review_df['rating'] = ratings\n",
    "review_df['review_words'] = review_words\n",
    "review_df['review_id'] = review_ids\n",
    "review_df['polarity_score'] = polarity_scores\n",
    "review_df['subjective_score'] = subjective_scores\n",
    "review_df.head()"
   ]
  },
  {
   "cell_type": "code",
   "execution_count": 7,
   "id": "785444fe",
   "metadata": {
    "pycharm": {
     "name": "#%%\n"
    }
   },
   "outputs": [
    {
     "name": "stdout",
     "output_type": "stream",
     "text": [
      "                  review_id  \\\n",
      "32   40thYphUgIfvJq17QCfTwA   \n",
      "39   E9AB7V4z8xrt2uPF7T55FQ   \n",
      "66   4KpIldEM-tdnrJLqYzRfZQ   \n",
      "73   PDHRlnEdkEcwATry4w71PQ   \n",
      "84   meGaFP7yxQdjyABrYDVeoQ   \n",
      "96   4PHFo_GRG4FEk1q4X7xQVQ   \n",
      "347  qeSxL-POvGLZD6aQ5O9kvw   \n",
      "424  pgESDcC7eDx4z_epqon4_Q   \n",
      "\n",
      "                                          review_words  rating  \\\n",
      "32   Great staff always helps and always nice. Alwa...     5.0   \n",
      "39   Amazing biscuits and (fill in the blank). Grea...     5.0   \n",
      "66   I've only had the cannolis here but they are a...     5.0   \n",
      "73   If I could give it a zero, I would. I order a ...     1.0   \n",
      "84   Skip this train wreck if you are looking for d...     1.0   \n",
      "96   A GREAT EXPERIENCE!!!!!!!!!  I was a completel...     5.0   \n",
      "347  --------DINNER REVIEW----------\\n\\nI rarely wr...     1.0   \n",
      "424  Came for all-you-can-eat, and ended up waiting...     1.0   \n",
      "\n",
      "     polarity_score  subjective_score  \n",
      "32         2.166667          3.350000  \n",
      "39         1.660000          2.490000  \n",
      "66         3.250000          5.550000  \n",
      "73        -0.864286          3.557143  \n",
      "84        -0.233333          2.216667  \n",
      "96         2.744697          8.354545  \n",
      "347        3.271825         32.216270  \n",
      "424        2.443333          4.696667  \n"
     ]
    }
   ],
   "source": [
    "target_df=review_df.loc[review_df['review_id'].isin(target_review_ids)]\n",
    "print(target_df)"
   ]
  },
  {
   "cell_type": "code",
   "execution_count": null,
   "id": "06fce68a",
   "metadata": {
    "pycharm": {
     "name": "#%%\n"
    }
   },
   "outputs": [],
   "source": []
  },
  {
   "cell_type": "code",
   "execution_count": null,
   "id": "e734b4f4",
   "metadata": {
    "pycharm": {
     "name": "#%%\n"
    }
   },
   "outputs": [],
   "source": []
  },
  {
   "cell_type": "code",
   "execution_count": 21,
   "id": "2b3aa6ec",
   "metadata": {
    "pycharm": {
     "name": "#%%\n"
    }
   },
   "outputs": [
    {
     "name": "stderr",
     "output_type": "stream",
     "text": [
      "100%|█████████████████████████████████████| 10000/10000 [03:53<00:00, 42.84it/s]\n"
     ]
    }
   ],
   "source": [
    "vocab_with_freq = dict()\n",
    "\n",
    "for i in tqdm(range(len(review_df))):\n",
    "    review_text = review_df.loc[i, 'review_words']\n",
    "    for token in nlp(review_text):\n",
    "        if token.is_alpha:\n",
    "            vocab_with_freq[token.lemma_.lower()] = vocab_with_freq.get(token.lemma_.lower(), 0) + 1\n",
    "\n",
    "vocabulary_list = list(vocab_with_freq.keys())"
   ]
  },
  {
   "cell_type": "code",
   "execution_count": 23,
   "id": "ec7f726f",
   "metadata": {
    "pycharm": {
     "name": "#%%\n"
    }
   },
   "outputs": [
    {
     "name": "stdout",
     "output_type": "stream",
     "text": [
      "[0. 1. 0. ... 0. 0. 0.]\n"
     ]
    }
   ],
   "source": [
    "from scipy.spatial.distance import cosine\n",
    "target_32 = review_df.loc[32, 'review_words']\n",
    "token_indices = []\n",
    "\n",
    "for token in nlp(target_32):\n",
    "    #if token.is_alpha:\n",
    "        #print(token.lemma_.lower())\n",
    "        if token.lemma_.lower() in vocabulary_list:\n",
    "            token_index_in_vocab = vocabulary_list.index(token.lemma_.lower())\n",
    "            token_indices.append(token_index_in_vocab)\n",
    "        #else:\n",
    "            #print('token not recognized')\n",
    "\n",
    "one_hot_encoding = np.zeros(len(cleaned_subjectives))\n",
    "for token_index in token_indices:\n",
    "    one_hot_encoding[token_index] = 1\n",
    "print(one_hot_encoding)"
   ]
  },
  {
   "cell_type": "code",
   "execution_count": null,
   "id": "78fc4427",
   "metadata": {
    "pycharm": {
     "name": "#%%\n"
    }
   },
   "outputs": [],
   "source": []
  },
  {
   "cell_type": "code",
   "execution_count": 24,
   "id": "45e895e7",
   "metadata": {
    "pycharm": {
     "name": "#%%\n"
    }
   },
   "outputs": [
    {
     "name": "stderr",
     "output_type": "stream",
     "text": [
      "100%|█████████████████████████████████████| 10000/10000 [08:16<00:00, 20.15it/s]\n"
     ]
    }
   ],
   "source": [
    "one_hot_encodings = []\n",
    "\n",
    "for i in tqdm(range(len(review_df))):\n",
    "    review_text = review_df.loc[i, 'review_words'] \n",
    "    review_doc=nlp(review_text)\n",
    "    token_indices = []\n",
    "\n",
    "    for token in nlp(review_text):\n",
    "        if token.is_alpha and token.lemma_.lower() in vocabulary_list:\n",
    "            token_index_in_vocab = vocabulary_list.index(token.lemma_.lower())\n",
    "            token_indices.append(token_index_in_vocab)\n",
    "\n",
    "\n",
    "    one_hot_encoding = np.zeros(len(vocabulary_list))\n",
    "    for token_index in token_indices:\n",
    "        one_hot_encoding[token_index] = 1\n",
    "\n",
    "    one_hot_encodings.append(one_hot_encoding)"
   ]
  },
  {
   "cell_type": "code",
   "execution_count": 54,
   "id": "952da1f9",
   "metadata": {
    "pycharm": {
     "name": "#%%\n"
    }
   },
   "outputs": [
    {
     "data": {
      "text/plain": [
       "(10000, 6410)"
      ]
     },
     "execution_count": 54,
     "metadata": {},
     "output_type": "execute_result"
    }
   ],
   "source": [
    "np.array(one_hot_encodings).shape"
   ]
  },
  {
   "cell_type": "code",
   "execution_count": 29,
   "id": "541d7325",
   "metadata": {
    "pycharm": {
     "name": "#%%\n"
    }
   },
   "outputs": [
    {
     "name": "stdout",
     "output_type": "stream",
     "text": [
      "                  review_id  \\\n",
      "32   40thYphUgIfvJq17QCfTwA   \n",
      "39   E9AB7V4z8xrt2uPF7T55FQ   \n",
      "66   4KpIldEM-tdnrJLqYzRfZQ   \n",
      "73   PDHRlnEdkEcwATry4w71PQ   \n",
      "84   meGaFP7yxQdjyABrYDVeoQ   \n",
      "96   4PHFo_GRG4FEk1q4X7xQVQ   \n",
      "347  qeSxL-POvGLZD6aQ5O9kvw   \n",
      "424  pgESDcC7eDx4z_epqon4_Q   \n",
      "\n",
      "                                          review_words  rating  \\\n",
      "32   Great staff always helps and always nice. Alwa...     5.0   \n",
      "39   Amazing biscuits and (fill in the blank). Grea...     5.0   \n",
      "66   I've only had the cannolis here but they are a...     5.0   \n",
      "73   If I could give it a zero, I would. I order a ...     1.0   \n",
      "84   Skip this train wreck if you are looking for d...     1.0   \n",
      "96   A GREAT EXPERIENCE!!!!!!!!!  I was a completel...     5.0   \n",
      "347  --------DINNER REVIEW----------\\n\\nI rarely wr...     1.0   \n",
      "424  Came for all-you-can-eat, and ended up waiting...     1.0   \n",
      "\n",
      "     polarity_score  subjective_score  \n",
      "32         2.166667          3.350000  \n",
      "39         1.660000          2.490000  \n",
      "66         3.250000          5.550000  \n",
      "73        -0.864286          3.557143  \n",
      "84        -0.233333          2.216667  \n",
      "96         2.744697          8.354545  \n",
      "347        3.271825         32.216270  \n",
      "424        2.443333          4.696667  \n"
     ]
    }
   ],
   "source": [
    "print(target_df)"
   ]
  },
  {
   "cell_type": "code",
   "execution_count": 31,
   "id": "c68df416",
   "metadata": {
    "pycharm": {
     "name": "#%%\n"
    }
   },
   "outputs": [
    {
     "name": "stderr",
     "output_type": "stream",
     "text": [
      "100%|█████████████████████████████████████| 9999/9999 [00:01<00:00, 6970.83it/s]\n"
     ]
    },
    {
     "data": {
      "text/html": [
       "<div>\n",
       "<style scoped>\n",
       "    .dataframe tbody tr th:only-of-type {\n",
       "        vertical-align: middle;\n",
       "    }\n",
       "\n",
       "    .dataframe tbody tr th {\n",
       "        vertical-align: top;\n",
       "    }\n",
       "\n",
       "    .dataframe thead th {\n",
       "        text-align: right;\n",
       "    }\n",
       "</style>\n",
       "<table border=\"1\" class=\"dataframe\">\n",
       "  <thead>\n",
       "    <tr style=\"text-align: right;\">\n",
       "      <th></th>\n",
       "      <th>review_words</th>\n",
       "      <th>similarity_value_with_one_hot</th>\n",
       "      <th>rating</th>\n",
       "    </tr>\n",
       "  </thead>\n",
       "  <tbody>\n",
       "    <tr>\n",
       "      <th>31</th>\n",
       "      <td>Great burgers,fries and salad!  Burgers have a...</td>\n",
       "      <td>1.000000</td>\n",
       "      <td>5.0</td>\n",
       "    </tr>\n",
       "    <tr>\n",
       "      <th>7728</th>\n",
       "      <td>Great hotel. Clean. Friendly staff. Great brea...</td>\n",
       "      <td>0.348155</td>\n",
       "      <td>5.0</td>\n",
       "    </tr>\n",
       "    <tr>\n",
       "      <th>180</th>\n",
       "      <td>The food here is great. They're quick and the ...</td>\n",
       "      <td>0.333712</td>\n",
       "      <td>5.0</td>\n",
       "    </tr>\n",
       "    <tr>\n",
       "      <th>3197</th>\n",
       "      <td>This place is amazing ! Will make you feel spe...</td>\n",
       "      <td>0.319801</td>\n",
       "      <td>5.0</td>\n",
       "    </tr>\n",
       "  </tbody>\n",
       "</table>\n",
       "</div>"
      ],
      "text/plain": [
       "                                           review_words  \\\n",
       "31    Great burgers,fries and salad!  Burgers have a...   \n",
       "7728  Great hotel. Clean. Friendly staff. Great brea...   \n",
       "180   The food here is great. They're quick and the ...   \n",
       "3197  This place is amazing ! Will make you feel spe...   \n",
       "\n",
       "      similarity_value_with_one_hot  rating  \n",
       "31                         1.000000     5.0  \n",
       "7728                       0.348155     5.0  \n",
       "180                        0.333712     5.0  \n",
       "3197                       0.319801     5.0  "
      ]
     },
     "execution_count": 31,
     "metadata": {},
     "output_type": "execute_result"
    }
   ],
   "source": [
    "from scipy.spatial.distance import cosine\n",
    "target_32 = review_df.loc[32, 'review_words']\n",
    "similarity_values = []\n",
    "for i in tqdm(range(1,len(review_df))):\n",
    "    similarity_value = 1 - cosine(one_hot_encodings[32], one_hot_encodings[i])\n",
    "    similarity_values.append(similarity_value)\n",
    "    \n",
    "no32_df= review_df.drop([32])                 \n",
    "similar_df = pd.DataFrame(columns=['review_words', 'similarity_value_with_one_hot','rating'])\n",
    "similar_df['review_words'] = no32_df.loc[:,'review_words']\n",
    "similar_df['similarity_value_with_one_hot'] = similarity_values\n",
    "similar_df['rating']=no32_df.loc[:,'rating']\n",
    "\n",
    "\n",
    "\n",
    "similar_df.nlargest(4, ['similarity_value_with_one_hot'])"
   ]
  },
  {
   "cell_type": "code",
   "execution_count": 32,
   "id": "7281e78b",
   "metadata": {
    "pycharm": {
     "name": "#%%\n"
    }
   },
   "outputs": [
    {
     "name": "stderr",
     "output_type": "stream",
     "text": [
      "100%|█████████████████████████████████████| 9999/9999 [00:01<00:00, 6839.74it/s]\n"
     ]
    },
    {
     "data": {
      "text/html": [
       "<div>\n",
       "<style scoped>\n",
       "    .dataframe tbody tr th:only-of-type {\n",
       "        vertical-align: middle;\n",
       "    }\n",
       "\n",
       "    .dataframe tbody tr th {\n",
       "        vertical-align: top;\n",
       "    }\n",
       "\n",
       "    .dataframe thead th {\n",
       "        text-align: right;\n",
       "    }\n",
       "</style>\n",
       "<table border=\"1\" class=\"dataframe\">\n",
       "  <thead>\n",
       "    <tr style=\"text-align: right;\">\n",
       "      <th></th>\n",
       "      <th>review_words</th>\n",
       "      <th>similarity_value_with_one_hot</th>\n",
       "      <th>rating</th>\n",
       "    </tr>\n",
       "  </thead>\n",
       "  <tbody>\n",
       "    <tr>\n",
       "      <th>38</th>\n",
       "      <td>My boyfriend and I tried this deli for the fir...</td>\n",
       "      <td>1.000000</td>\n",
       "      <td>5.0</td>\n",
       "    </tr>\n",
       "    <tr>\n",
       "      <th>2353</th>\n",
       "      <td>Amazing food. Was quick service too. Had the p...</td>\n",
       "      <td>0.350000</td>\n",
       "      <td>5.0</td>\n",
       "    </tr>\n",
       "    <tr>\n",
       "      <th>4096</th>\n",
       "      <td>I ate here twice in three days, it was that go...</td>\n",
       "      <td>0.348155</td>\n",
       "      <td>5.0</td>\n",
       "    </tr>\n",
       "    <tr>\n",
       "      <th>1762</th>\n",
       "      <td>Great food!\\nAmazing customer service!\\nA hidd...</td>\n",
       "      <td>0.346688</td>\n",
       "      <td>5.0</td>\n",
       "    </tr>\n",
       "  </tbody>\n",
       "</table>\n",
       "</div>"
      ],
      "text/plain": [
       "                                           review_words  \\\n",
       "38    My boyfriend and I tried this deli for the fir...   \n",
       "2353  Amazing food. Was quick service too. Had the p...   \n",
       "4096  I ate here twice in three days, it was that go...   \n",
       "1762  Great food!\\nAmazing customer service!\\nA hidd...   \n",
       "\n",
       "      similarity_value_with_one_hot  rating  \n",
       "38                         1.000000     5.0  \n",
       "2353                       0.350000     5.0  \n",
       "4096                       0.348155     5.0  \n",
       "1762                       0.346688     5.0  "
      ]
     },
     "execution_count": 32,
     "metadata": {},
     "output_type": "execute_result"
    }
   ],
   "source": [
    "from scipy.spatial.distance import cosine\n",
    "target_39 = review_df.loc[39, 'review_words']\n",
    "similarity_values = []\n",
    "for i in tqdm(range(1, len(review_df))):\n",
    "    similarity_value = 1 - cosine(one_hot_encodings[39], one_hot_encodings[i])\n",
    "    similarity_values.append(similarity_value)\n",
    "    \n",
    "no39_df= review_df.drop([39])                 \n",
    "similar_df = pd.DataFrame(columns=['review_words', 'similarity_value_with_one_hot','rating'])\n",
    "similar_df['review_words'] = no39_df.loc[:,'review_words']\n",
    "similar_df['similarity_value_with_one_hot'] = similarity_values\n",
    "similar_df['rating']=no39_df.loc[:,'rating']\n",
    "\n",
    "similar_df.nlargest(4, ['similarity_value_with_one_hot'])"
   ]
  },
  {
   "cell_type": "code",
   "execution_count": 33,
   "id": "9f4fe301",
   "metadata": {
    "pycharm": {
     "name": "#%%\n"
    }
   },
   "outputs": [
    {
     "name": "stderr",
     "output_type": "stream",
     "text": [
      "100%|█████████████████████████████████████| 9999/9999 [00:01<00:00, 6439.54it/s]\n"
     ]
    },
    {
     "data": {
      "text/html": [
       "<div>\n",
       "<style scoped>\n",
       "    .dataframe tbody tr th:only-of-type {\n",
       "        vertical-align: middle;\n",
       "    }\n",
       "\n",
       "    .dataframe tbody tr th {\n",
       "        vertical-align: top;\n",
       "    }\n",
       "\n",
       "    .dataframe thead th {\n",
       "        text-align: right;\n",
       "    }\n",
       "</style>\n",
       "<table border=\"1\" class=\"dataframe\">\n",
       "  <thead>\n",
       "    <tr style=\"text-align: right;\">\n",
       "      <th></th>\n",
       "      <th>review_words</th>\n",
       "      <th>similarity_value_with_one_hot</th>\n",
       "      <th>rating</th>\n",
       "    </tr>\n",
       "  </thead>\n",
       "  <tbody>\n",
       "    <tr>\n",
       "      <th>65</th>\n",
       "      <td>I stopped here because it was by the hotel I w...</td>\n",
       "      <td>1.000000</td>\n",
       "      <td>5.0</td>\n",
       "    </tr>\n",
       "    <tr>\n",
       "      <th>2608</th>\n",
       "      <td>The BBQ shrimp is amazing.  Be prepared to get...</td>\n",
       "      <td>0.394771</td>\n",
       "      <td>5.0</td>\n",
       "    </tr>\n",
       "    <tr>\n",
       "      <th>4986</th>\n",
       "      <td>Awesome little \"mom &amp; pop\" cafe!!! Warm atmosp...</td>\n",
       "      <td>0.391972</td>\n",
       "      <td>5.0</td>\n",
       "    </tr>\n",
       "    <tr>\n",
       "      <th>6005</th>\n",
       "      <td>I've ordered twice from here and each time the...</td>\n",
       "      <td>0.388103</td>\n",
       "      <td>1.0</td>\n",
       "    </tr>\n",
       "  </tbody>\n",
       "</table>\n",
       "</div>"
      ],
      "text/plain": [
       "                                           review_words  \\\n",
       "65    I stopped here because it was by the hotel I w...   \n",
       "2608  The BBQ shrimp is amazing.  Be prepared to get...   \n",
       "4986  Awesome little \"mom & pop\" cafe!!! Warm atmosp...   \n",
       "6005  I've ordered twice from here and each time the...   \n",
       "\n",
       "      similarity_value_with_one_hot  rating  \n",
       "65                         1.000000     5.0  \n",
       "2608                       0.394771     5.0  \n",
       "4986                       0.391972     5.0  \n",
       "6005                       0.388103     1.0  "
      ]
     },
     "execution_count": 33,
     "metadata": {},
     "output_type": "execute_result"
    }
   ],
   "source": [
    "target_66 = review_df.loc[66, 'review_words']\n",
    "similarity_values = []\n",
    "for i in tqdm(range(1, len(review_df))):\n",
    "    similarity_value = 1 - cosine(one_hot_encodings[66], one_hot_encodings[i])\n",
    "    similarity_values.append(similarity_value)\n",
    "    \n",
    "no66_df= review_df.drop([66])                 \n",
    "similar_df = pd.DataFrame(columns=['review_words', 'similarity_value_with_one_hot','rating'])\n",
    "similar_df['review_words'] = no66_df.loc[:,'review_words']\n",
    "similar_df['similarity_value_with_one_hot'] = similarity_values\n",
    "similar_df['rating']=no66_df.loc[:,'rating']\n",
    "\n",
    "similar_df.nlargest(4, ['similarity_value_with_one_hot'])"
   ]
  },
  {
   "cell_type": "code",
   "execution_count": 34,
   "id": "ffb1f47a",
   "metadata": {
    "pycharm": {
     "name": "#%%\n"
    }
   },
   "outputs": [
    {
     "name": "stderr",
     "output_type": "stream",
     "text": [
      "100%|█████████████████████████████████████| 9999/9999 [00:01<00:00, 6246.32it/s]\n"
     ]
    },
    {
     "data": {
      "text/html": [
       "<div>\n",
       "<style scoped>\n",
       "    .dataframe tbody tr th:only-of-type {\n",
       "        vertical-align: middle;\n",
       "    }\n",
       "\n",
       "    .dataframe tbody tr th {\n",
       "        vertical-align: top;\n",
       "    }\n",
       "\n",
       "    .dataframe thead th {\n",
       "        text-align: right;\n",
       "    }\n",
       "</style>\n",
       "<table border=\"1\" class=\"dataframe\">\n",
       "  <thead>\n",
       "    <tr style=\"text-align: right;\">\n",
       "      <th></th>\n",
       "      <th>review_words</th>\n",
       "      <th>similarity_value_with_one_hot</th>\n",
       "      <th>rating</th>\n",
       "    </tr>\n",
       "  </thead>\n",
       "  <tbody>\n",
       "    <tr>\n",
       "      <th>95</th>\n",
       "      <td>Had to wait until my third trip to NOLA to act...</td>\n",
       "      <td>1.000000</td>\n",
       "      <td>5.0</td>\n",
       "    </tr>\n",
       "    <tr>\n",
       "      <th>1552</th>\n",
       "      <td>Wish I would have came on Yelp and read the pr...</td>\n",
       "      <td>0.382832</td>\n",
       "      <td>1.0</td>\n",
       "    </tr>\n",
       "    <tr>\n",
       "      <th>3339</th>\n",
       "      <td>This was our first experience eating lunch at ...</td>\n",
       "      <td>0.359037</td>\n",
       "      <td>5.0</td>\n",
       "    </tr>\n",
       "    <tr>\n",
       "      <th>7720</th>\n",
       "      <td>This place was perfect for kids of all ages. T...</td>\n",
       "      <td>0.358020</td>\n",
       "      <td>4.0</td>\n",
       "    </tr>\n",
       "  </tbody>\n",
       "</table>\n",
       "</div>"
      ],
      "text/plain": [
       "                                           review_words  \\\n",
       "95    Had to wait until my third trip to NOLA to act...   \n",
       "1552  Wish I would have came on Yelp and read the pr...   \n",
       "3339  This was our first experience eating lunch at ...   \n",
       "7720  This place was perfect for kids of all ages. T...   \n",
       "\n",
       "      similarity_value_with_one_hot  rating  \n",
       "95                         1.000000     5.0  \n",
       "1552                       0.382832     1.0  \n",
       "3339                       0.359037     5.0  \n",
       "7720                       0.358020     4.0  "
      ]
     },
     "execution_count": 34,
     "metadata": {},
     "output_type": "execute_result"
    }
   ],
   "source": [
    "target_96 = review_df.loc[96, 'review_words']\n",
    "similarity_values = []\n",
    "for i in tqdm(range(1, len(review_df))):\n",
    "    similarity_value = 1 - cosine(one_hot_encodings[96], one_hot_encodings[i])\n",
    "    similarity_values.append(similarity_value)\n",
    "    \n",
    "no96_df= review_df.drop([96])                 \n",
    "similar_df = pd.DataFrame(columns=['review_words', 'similarity_value_with_one_hot','rating'])\n",
    "similar_df['review_words'] = no96_df.loc[:,'review_words']\n",
    "similar_df['similarity_value_with_one_hot'] = similarity_values\n",
    "similar_df['rating']=no96_df.loc[:,'rating']\n",
    "\n",
    "similar_df.nlargest(4, ['similarity_value_with_one_hot'])"
   ]
  },
  {
   "cell_type": "code",
   "execution_count": 35,
   "id": "803c2ce1",
   "metadata": {
    "pycharm": {
     "name": "#%%\n"
    }
   },
   "outputs": [
    {
     "name": "stderr",
     "output_type": "stream",
     "text": [
      "100%|█████████████████████████████████████| 9999/9999 [00:01<00:00, 6858.83it/s]\n"
     ]
    },
    {
     "data": {
      "text/html": [
       "<div>\n",
       "<style scoped>\n",
       "    .dataframe tbody tr th:only-of-type {\n",
       "        vertical-align: middle;\n",
       "    }\n",
       "\n",
       "    .dataframe tbody tr th {\n",
       "        vertical-align: top;\n",
       "    }\n",
       "\n",
       "    .dataframe thead th {\n",
       "        text-align: right;\n",
       "    }\n",
       "</style>\n",
       "<table border=\"1\" class=\"dataframe\">\n",
       "  <thead>\n",
       "    <tr style=\"text-align: right;\">\n",
       "      <th></th>\n",
       "      <th>review_words</th>\n",
       "      <th>similarity_value_with_one_hot</th>\n",
       "      <th>rating</th>\n",
       "    </tr>\n",
       "  </thead>\n",
       "  <tbody>\n",
       "    <tr>\n",
       "      <th>72</th>\n",
       "      <td>After living in the STL area for way over 10 y...</td>\n",
       "      <td>1.000000</td>\n",
       "      <td>5.0</td>\n",
       "    </tr>\n",
       "    <tr>\n",
       "      <th>9659</th>\n",
       "      <td>This place has the worst customer service. My ...</td>\n",
       "      <td>0.424365</td>\n",
       "      <td>1.0</td>\n",
       "    </tr>\n",
       "    <tr>\n",
       "      <th>9865</th>\n",
       "      <td>Terrible service. Went at 1pm on a Saturday an...</td>\n",
       "      <td>0.410132</td>\n",
       "      <td>1.0</td>\n",
       "    </tr>\n",
       "    <tr>\n",
       "      <th>805</th>\n",
       "      <td>I dropped my car off first thing in the mornin...</td>\n",
       "      <td>0.407881</td>\n",
       "      <td>1.0</td>\n",
       "    </tr>\n",
       "  </tbody>\n",
       "</table>\n",
       "</div>"
      ],
      "text/plain": [
       "                                           review_words  \\\n",
       "72    After living in the STL area for way over 10 y...   \n",
       "9659  This place has the worst customer service. My ...   \n",
       "9865  Terrible service. Went at 1pm on a Saturday an...   \n",
       "805   I dropped my car off first thing in the mornin...   \n",
       "\n",
       "      similarity_value_with_one_hot  rating  \n",
       "72                         1.000000     5.0  \n",
       "9659                       0.424365     1.0  \n",
       "9865                       0.410132     1.0  \n",
       "805                        0.407881     1.0  "
      ]
     },
     "execution_count": 35,
     "metadata": {},
     "output_type": "execute_result"
    }
   ],
   "source": [
    "target_73 = review_df.loc[73, 'review_words']\n",
    "similarity_values = []\n",
    "for i in tqdm(range(1, len(review_df))):\n",
    "    similarity_value = 1 - cosine(one_hot_encodings[73], one_hot_encodings[i])\n",
    "    similarity_values.append(similarity_value)\n",
    "    \n",
    "no73_df= review_df.drop([73])                 \n",
    "similar_df = pd.DataFrame(columns=['review_words', 'similarity_value_with_one_hot','rating'])\n",
    "similar_df['review_words'] = no73_df.loc[:,'review_words']\n",
    "similar_df['similarity_value_with_one_hot'] = similarity_values\n",
    "similar_df['rating']=no73_df.loc[:,'rating']\n",
    "\n",
    "similar_df.nlargest(4, ['similarity_value_with_one_hot'])"
   ]
  },
  {
   "cell_type": "code",
   "execution_count": 36,
   "id": "a8f0131c",
   "metadata": {
    "pycharm": {
     "name": "#%%\n"
    }
   },
   "outputs": [
    {
     "name": "stderr",
     "output_type": "stream",
     "text": [
      "100%|█████████████████████████████████████| 9999/9999 [00:01<00:00, 6760.21it/s]\n"
     ]
    },
    {
     "data": {
      "text/html": [
       "<div>\n",
       "<style scoped>\n",
       "    .dataframe tbody tr th:only-of-type {\n",
       "        vertical-align: middle;\n",
       "    }\n",
       "\n",
       "    .dataframe tbody tr th {\n",
       "        vertical-align: top;\n",
       "    }\n",
       "\n",
       "    .dataframe thead th {\n",
       "        text-align: right;\n",
       "    }\n",
       "</style>\n",
       "<table border=\"1\" class=\"dataframe\">\n",
       "  <thead>\n",
       "    <tr style=\"text-align: right;\">\n",
       "      <th></th>\n",
       "      <th>review_words</th>\n",
       "      <th>similarity_value_with_one_hot</th>\n",
       "      <th>rating</th>\n",
       "    </tr>\n",
       "  </thead>\n",
       "  <tbody>\n",
       "    <tr>\n",
       "      <th>83</th>\n",
       "      <td>I visited this restaurant 4 times during my 5 ...</td>\n",
       "      <td>1.000000</td>\n",
       "      <td>3.0</td>\n",
       "    </tr>\n",
       "    <tr>\n",
       "      <th>6461</th>\n",
       "      <td>We've been looking for a good Italian restaura...</td>\n",
       "      <td>0.395387</td>\n",
       "      <td>5.0</td>\n",
       "    </tr>\n",
       "    <tr>\n",
       "      <th>1905</th>\n",
       "      <td>Of all the restaurants we tried in New Orleans...</td>\n",
       "      <td>0.384260</td>\n",
       "      <td>5.0</td>\n",
       "    </tr>\n",
       "    <tr>\n",
       "      <th>2738</th>\n",
       "      <td>Our group very much enjoyed our meal. Our whol...</td>\n",
       "      <td>0.377051</td>\n",
       "      <td>4.0</td>\n",
       "    </tr>\n",
       "  </tbody>\n",
       "</table>\n",
       "</div>"
      ],
      "text/plain": [
       "                                           review_words  \\\n",
       "83    I visited this restaurant 4 times during my 5 ...   \n",
       "6461  We've been looking for a good Italian restaura...   \n",
       "1905  Of all the restaurants we tried in New Orleans...   \n",
       "2738  Our group very much enjoyed our meal. Our whol...   \n",
       "\n",
       "      similarity_value_with_one_hot  rating  \n",
       "83                         1.000000     3.0  \n",
       "6461                       0.395387     5.0  \n",
       "1905                       0.384260     5.0  \n",
       "2738                       0.377051     4.0  "
      ]
     },
     "execution_count": 36,
     "metadata": {},
     "output_type": "execute_result"
    }
   ],
   "source": [
    "target_84 = review_df.loc[84, 'review_words']\n",
    "similarity_values = []\n",
    "for i in tqdm(range(1, len(review_df))):\n",
    "    similarity_value = 1 - cosine(one_hot_encodings[84], one_hot_encodings[i])\n",
    "    similarity_values.append(similarity_value)\n",
    "    \n",
    "no84_df= review_df.drop([84])                 \n",
    "similar_df = pd.DataFrame(columns=['review_words', 'similarity_value_with_one_hot','rating'])\n",
    "similar_df['review_words'] = no84_df.loc[:,'review_words']\n",
    "similar_df['similarity_value_with_one_hot'] = similarity_values\n",
    "similar_df['rating']=no84_df.loc[:,'rating']\n",
    "\n",
    "similar_df.nlargest(4, ['similarity_value_with_one_hot'])\n"
   ]
  },
  {
   "cell_type": "code",
   "execution_count": 37,
   "id": "5d3d56c3",
   "metadata": {
    "pycharm": {
     "name": "#%%\n"
    }
   },
   "outputs": [
    {
     "name": "stderr",
     "output_type": "stream",
     "text": [
      "100%|█████████████████████████████████████| 9999/9999 [00:01<00:00, 5789.43it/s]\n"
     ]
    },
    {
     "data": {
      "text/html": [
       "<div>\n",
       "<style scoped>\n",
       "    .dataframe tbody tr th:only-of-type {\n",
       "        vertical-align: middle;\n",
       "    }\n",
       "\n",
       "    .dataframe tbody tr th {\n",
       "        vertical-align: top;\n",
       "    }\n",
       "\n",
       "    .dataframe thead th {\n",
       "        text-align: right;\n",
       "    }\n",
       "</style>\n",
       "<table border=\"1\" class=\"dataframe\">\n",
       "  <thead>\n",
       "    <tr style=\"text-align: right;\">\n",
       "      <th></th>\n",
       "      <th>review_words</th>\n",
       "      <th>similarity_value_with_one_hot</th>\n",
       "      <th>rating</th>\n",
       "    </tr>\n",
       "  </thead>\n",
       "  <tbody>\n",
       "    <tr>\n",
       "      <th>346</th>\n",
       "      <td>This place is a hidden gem.  It is located in ...</td>\n",
       "      <td>1.000000</td>\n",
       "      <td>5.0</td>\n",
       "    </tr>\n",
       "    <tr>\n",
       "      <th>665</th>\n",
       "      <td>Really disappointed. I've been to the Marathon...</td>\n",
       "      <td>0.438611</td>\n",
       "      <td>1.0</td>\n",
       "    </tr>\n",
       "    <tr>\n",
       "      <th>4136</th>\n",
       "      <td>This was my second visit here, and it was much...</td>\n",
       "      <td>0.437012</td>\n",
       "      <td>1.0</td>\n",
       "    </tr>\n",
       "    <tr>\n",
       "      <th>3276</th>\n",
       "      <td>If I could give zero stars I would. I never ev...</td>\n",
       "      <td>0.427633</td>\n",
       "      <td>1.0</td>\n",
       "    </tr>\n",
       "  </tbody>\n",
       "</table>\n",
       "</div>"
      ],
      "text/plain": [
       "                                           review_words  \\\n",
       "346   This place is a hidden gem.  It is located in ...   \n",
       "665   Really disappointed. I've been to the Marathon...   \n",
       "4136  This was my second visit here, and it was much...   \n",
       "3276  If I could give zero stars I would. I never ev...   \n",
       "\n",
       "      similarity_value_with_one_hot  rating  \n",
       "346                        1.000000     5.0  \n",
       "665                        0.438611     1.0  \n",
       "4136                       0.437012     1.0  \n",
       "3276                       0.427633     1.0  "
      ]
     },
     "execution_count": 37,
     "metadata": {},
     "output_type": "execute_result"
    }
   ],
   "source": [
    "target_347 = review_df.loc[347, 'review_words']\n",
    "similarity_values = []\n",
    "for i in tqdm(range(1, len(review_df))):\n",
    "    similarity_value = 1 - cosine(one_hot_encodings[347], one_hot_encodings[i])\n",
    "    similarity_values.append(similarity_value)\n",
    "    \n",
    "no347_df= review_df.drop([347])                 \n",
    "similar_df = pd.DataFrame(columns=['review_words', 'similarity_value_with_one_hot','rating'])\n",
    "similar_df['review_words'] = no347_df.loc[:,'review_words']\n",
    "similar_df['similarity_value_with_one_hot'] = similarity_values\n",
    "similar_df['rating']=no347_df.loc[:,'rating']\n",
    "\n",
    "similar_df.nlargest(4, ['similarity_value_with_one_hot'])"
   ]
  },
  {
   "cell_type": "code",
   "execution_count": 38,
   "id": "4ffe11b1",
   "metadata": {
    "pycharm": {
     "name": "#%%\n"
    }
   },
   "outputs": [
    {
     "name": "stderr",
     "output_type": "stream",
     "text": [
      "100%|█████████████████████████████████████| 9999/9999 [00:01<00:00, 6753.44it/s]\n"
     ]
    },
    {
     "data": {
      "text/html": [
       "<div>\n",
       "<style scoped>\n",
       "    .dataframe tbody tr th:only-of-type {\n",
       "        vertical-align: middle;\n",
       "    }\n",
       "\n",
       "    .dataframe tbody tr th {\n",
       "        vertical-align: top;\n",
       "    }\n",
       "\n",
       "    .dataframe thead th {\n",
       "        text-align: right;\n",
       "    }\n",
       "</style>\n",
       "<table border=\"1\" class=\"dataframe\">\n",
       "  <thead>\n",
       "    <tr style=\"text-align: right;\">\n",
       "      <th></th>\n",
       "      <th>review_words</th>\n",
       "      <th>similarity_value_with_one_hot</th>\n",
       "      <th>rating</th>\n",
       "    </tr>\n",
       "  </thead>\n",
       "  <tbody>\n",
       "    <tr>\n",
       "      <th>423</th>\n",
       "      <td>I actually eat here at least once a month . Th...</td>\n",
       "      <td>1.000000</td>\n",
       "      <td>3.0</td>\n",
       "    </tr>\n",
       "    <tr>\n",
       "      <th>138</th>\n",
       "      <td>Yes! I love this place! Maple Street Patisseri...</td>\n",
       "      <td>0.403101</td>\n",
       "      <td>5.0</td>\n",
       "    </tr>\n",
       "    <tr>\n",
       "      <th>3742</th>\n",
       "      <td>Went here a couple weeks ago with a group of 6...</td>\n",
       "      <td>0.399035</td>\n",
       "      <td>2.0</td>\n",
       "    </tr>\n",
       "    <tr>\n",
       "      <th>1329</th>\n",
       "      <td>Eh, crust was dry and we got the Delmar which ...</td>\n",
       "      <td>0.396091</td>\n",
       "      <td>2.0</td>\n",
       "    </tr>\n",
       "  </tbody>\n",
       "</table>\n",
       "</div>"
      ],
      "text/plain": [
       "                                           review_words  \\\n",
       "423   I actually eat here at least once a month . Th...   \n",
       "138   Yes! I love this place! Maple Street Patisseri...   \n",
       "3742  Went here a couple weeks ago with a group of 6...   \n",
       "1329  Eh, crust was dry and we got the Delmar which ...   \n",
       "\n",
       "      similarity_value_with_one_hot  rating  \n",
       "423                        1.000000     3.0  \n",
       "138                        0.403101     5.0  \n",
       "3742                       0.399035     2.0  \n",
       "1329                       0.396091     2.0  "
      ]
     },
     "execution_count": 38,
     "metadata": {},
     "output_type": "execute_result"
    }
   ],
   "source": [
    "target_424 = review_df.loc[424, 'review_words']\n",
    "similarity_values = []\n",
    "for i in tqdm(range(1, len(review_df))):\n",
    "    similarity_value = 1 - cosine(one_hot_encodings[424], one_hot_encodings[i])\n",
    "    similarity_values.append(similarity_value)\n",
    "    \n",
    "no424_df= review_df.drop([424])                 \n",
    "similar_df = pd.DataFrame(columns=['review_words', 'similarity_value_with_one_hot','rating'])\n",
    "similar_df['review_words'] = no424_df.loc[:,'review_words']\n",
    "similar_df['similarity_value_with_one_hot'] = similarity_values\n",
    "similar_df['rating']=no424_df.loc[:,'rating']\n",
    "\n",
    "similar_df.nlargest(4, ['similarity_value_with_one_hot'])"
   ]
  },
  {
   "cell_type": "markdown",
   "id": "07223a03",
   "metadata": {
    "pycharm": {
     "name": "#%% md\n"
    }
   },
   "source": [
    "#### What is the rating of each of the target reviews? What about the rating of their top 3 most similar reviews? Are they correlated? Interpret the results.\n",
    "* frome the result, we can see, reviews with similar words don't mean they have similar rating. for example, the last target review, the top 3 similar reviews have different ratings, ranging from 2.0 to 5.0. Rating and similar reviews are not correclated. But there is a trend that if they use similar reviews, ususally the ratings are similar. It makes sense, since every person has subjective standards.Maybe they think the food is good, but comparing with food in other shops, the food in here will be rated not so high since food in other shops is much better."
   ]
  }
 ],
 "metadata": {
  "kernelspec": {
   "display_name": "Python 3 (ipykernel)",
   "language": "python",
   "name": "python3"
  },
  "language_info": {
   "codemirror_mode": {
    "name": "ipython",
    "version": 3
   },
   "file_extension": ".py",
   "mimetype": "text/x-python",
   "name": "python",
   "nbconvert_exporter": "python",
   "pygments_lexer": "ipython3",
   "version": "3.9.12"
  }
 },
 "nbformat": 4,
 "nbformat_minor": 5
}