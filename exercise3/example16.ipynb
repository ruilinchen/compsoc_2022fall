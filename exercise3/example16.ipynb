{
 "nbformat": 4,
 "nbformat_minor": 0,
 "metadata": {
  "colab": {
   "provenance": []
  },
  "kernelspec": {
   "name": "python3",
   "display_name": "Python 3"
  },
  "language_info": {
   "name": "python"
  }
 },
 "cells": [
  {
   "cell_type": "markdown",
   "source": [
    "Exercise 3\n",
    "[editted]"
   ],
   "metadata": {
    "id": "-Z15j5N829ns",
    "pycharm": {
     "name": "#%% md\n"
    }
   }
  },
  {
   "cell_type": "markdown",
   "source": [
    "Test 3.1"
   ],
   "metadata": {
    "id": "X8BXa-sj3CqD",
    "pycharm": {
     "name": "#%% md\n"
    }
   }
  },
  {
   "cell_type": "code",
   "source": [
    "def lsm(x):\n",
    "  x=sorted(x)\n",
    "  print(x[-1]-x[0])\n",
    "\n",
    "lsm([6,8,10,1,5])"
   ],
   "metadata": {
    "colab": {
     "base_uri": "https://localhost:8080/"
    },
    "id": "Ng_ucw_43Bxj",
    "outputId": "f8447c26-d4e4-4f72-f933-636d02156e1f",
    "pycharm": {
     "name": "#%%\n"
    }
   },
   "execution_count": 2,
   "outputs": [
    {
     "output_type": "stream",
     "name": "stdout",
     "text": [
      "9\n"
     ]
    }
   ]
  },
  {
   "cell_type": "markdown",
   "source": [
    "Task 3.2"
   ],
   "metadata": {
    "id": "5ywivsLP3TvM",
    "pycharm": {
     "name": "#%% md\n"
    }
   }
  },
  {
   "cell_type": "code",
   "source": [
    "def merge(x,y ):\n",
    "    return [sub[item] for item in range(len(x))\n",
    "                      for sub in [x, y]]\n",
    "      \n",
    "lst1 = [1, 2, 3]\n",
    "lst2 = ['a', 'b', 'c']\n",
    "print(merge(lst1, lst2))"
   ],
   "metadata": {
    "colab": {
     "base_uri": "https://localhost:8080/"
    },
    "id": "OdVzhFTJ3SjX",
    "outputId": "8cddfe14-48f8-44d5-d818-080ccbe142c8",
    "pycharm": {
     "name": "#%%\n"
    }
   },
   "execution_count": 3,
   "outputs": [
    {
     "output_type": "stream",
     "name": "stdout",
     "text": [
      "[1, 'a', 2, 'b', 3, 'c']\n"
     ]
    }
   ]
  },
  {
   "cell_type": "markdown",
   "source": [
    "Task 3.3"
   ],
   "metadata": {
    "id": "7wkd2kX93psy",
    "pycharm": {
     "name": "#%% md\n"
    }
   }
  },
  {
   "cell_type": "code",
   "source": [
    "freqDict = {}\n",
    "\n",
    "def FreqTable(numbers):\n",
    "  for num in numbers :\n",
    "    if num in freqDict:\n",
    "      freqDict[num] += 1\n",
    "    else:\n",
    "      freqDict[num] = 1\n",
    "  print(freqDict)\n",
    "\n",
    "x = [3,3,3,5,5,6,6,6,6,7,8]\n",
    "FreqTable(x)"
   ],
   "metadata": {
    "colab": {
     "base_uri": "https://localhost:8080/"
    },
    "id": "2gbWRZ374LWF",
    "outputId": "429e0fb6-b6d6-4794-8bf9-f712dc086570",
    "pycharm": {
     "name": "#%%\n"
    }
   },
   "execution_count": 11,
   "outputs": [
    {
     "output_type": "stream",
     "name": "stdout",
     "text": [
      "{3: 3, 5: 2, 6: 4, 7: 1, 8: 1}\n"
     ]
    }
   ]
  },
  {
   "cell_type": "markdown",
   "source": [
    "Task 3.4"
   ],
   "metadata": {
    "id": "yUBBNUdZ4KbT",
    "pycharm": {
     "name": "#%% md\n"
    }
   }
  },
  {
   "cell_type": "code",
   "source": [
    "newlist = []\n",
    "def duplicate(x,y):\n",
    "  for item in x:\n",
    "      if item in y:\n",
    "        newlist.append(item)\n",
    "  print(newlist)  \n",
    "\n",
    "list1= [1,2,3]\n",
    "list2= [3,4,5]\n",
    "duplicate(list1,list2)\n"
   ],
   "metadata": {
    "colab": {
     "base_uri": "https://localhost:8080/"
    },
    "id": "AcXfV9vf3q5R",
    "outputId": "4c248dc3-1e96-4645-f7d8-8794cb1862ac",
    "pycharm": {
     "name": "#%%\n"
    }
   },
   "execution_count": 9,
   "outputs": [
    {
     "output_type": "stream",
     "name": "stdout",
     "text": [
      "[3]\n"
     ]
    }
   ]
  }
 ]
}